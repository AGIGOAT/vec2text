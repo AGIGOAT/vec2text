{
 "cells": [
  {
   "cell_type": "code",
   "execution_count": 1,
   "id": "a3ea22b6-3edd-4708-97e2-1f88d7ff8d5d",
   "metadata": {},
   "outputs": [],
   "source": [
    "import sys\n",
    "sys.path.append('/home/jxm3/research/retrieval/inversion')"
   ]
  },
  {
   "cell_type": "code",
   "execution_count": 2,
   "id": "8f2a3080-50e6-48b3-a1f7-060f5679570e",
   "metadata": {},
   "outputs": [
    {
     "name": "stderr",
     "output_type": "stream",
     "text": [
      "/home/jxm3/.conda/envs/torch/lib/python3.9/site-packages/datasets/arrow_dataset.py:1533: FutureWarning: 'fs' was is deprecated in favor of 'storage_options' in version 2.8.0 and will be removed in 3.0.0.\n",
      "You can remove this warning by passing 'storage_options=fs.storage_options' instead.\n",
      "  warnings.warn(\n"
     ]
    },
    {
     "data": {
      "text/plain": [
       "Dataset({\n",
       "    features: ['text'],\n",
       "    num_rows: 849508\n",
       "})"
      ]
     },
     "execution_count": 2,
     "metadata": {},
     "output_type": "execute_result"
    }
   ],
   "source": [
    "from data_helpers import load_dpr_corpus, NQ_DEV\n",
    "\n",
    "vd = load_dpr_corpus(NQ_DEV)\n",
    "vd"
   ]
  },
  {
   "cell_type": "code",
   "execution_count": 3,
   "id": "78d27efc-2236-4caf-b3bb-3e50ac3ba576",
   "metadata": {},
   "outputs": [
    {
     "name": "stderr",
     "output_type": "stream",
     "text": [
      "Some weights of the model checkpoint at bert-base-uncased were not used when initializing BertModel: ['cls.predictions.transform.LayerNorm.bias', 'cls.seq_relationship.weight', 'cls.predictions.transform.dense.weight', 'cls.seq_relationship.bias', 'cls.predictions.transform.dense.bias', 'cls.predictions.bias', 'cls.predictions.transform.LayerNorm.weight']\n",
      "- This IS expected if you are initializing BertModel from the checkpoint of a model trained on another task or with another architecture (e.g. initializing a BertForSequenceClassification model from a BertForPreTraining model).\n",
      "- This IS NOT expected if you are initializing BertModel from the checkpoint of a model that you expect to be exactly identical (initializing a BertForSequenceClassification model from a BertForSequenceClassification model).\n"
     ]
    }
   ],
   "source": [
    "import transformers\n",
    "\n",
    "mn = \"bert-base-uncased\"\n",
    "\n",
    "m = transformers.AutoModel.from_pretrained(mn)\n",
    "t = transformers.AutoTokenizer.from_pretrained(mn)"
   ]
  },
  {
   "cell_type": "code",
   "execution_count": 4,
   "id": "432ce67c-a983-4e24-bdb3-bf76b08f9871",
   "metadata": {},
   "outputs": [],
   "source": [
    "import torch\n",
    "device = torch.device('cuda' if torch.cuda.is_available() else 'cpu')"
   ]
  },
  {
   "cell_type": "code",
   "execution_count": 5,
   "id": "92cdda71-1345-4d4a-a199-839dc1671859",
   "metadata": {},
   "outputs": [
    {
     "name": "stdout",
     "output_type": "stream",
     "text": [
      "moved model to cuda\n"
     ]
    }
   ],
   "source": [
    "m.to(device)\n",
    "print('moved model to', device)"
   ]
  },
  {
   "cell_type": "code",
   "execution_count": 6,
   "id": "23bfa9ee-c606-4725-9873-af03f67ad734",
   "metadata": {},
   "outputs": [
    {
     "data": {
      "application/vnd.jupyter.widget-view+json": {
       "model_id": "738514f2ff18482b9ab4d46f5707fca2",
       "version_major": 2,
       "version_minor": 0
      },
      "text/plain": [
       "  0%|          | 0/200 [00:00<?, ?it/s]"
      ]
     },
     "metadata": {},
     "output_type": "display_data"
    },
    {
     "name": "stdout",
     "output_type": "stream",
     "text": [
      "len(all_hidden_states): 13\n",
      "all_hidden_states[0].shape: (208, 64, 768)\n"
     ]
    }
   ],
   "source": [
    "from tqdm.notebook import tqdm\n",
    "import collections\n",
    "\n",
    "batch_size = 16\n",
    "\n",
    "msl = 64 # max sequence length\n",
    "\n",
    "i = 0\n",
    "n = 200\n",
    "\n",
    "pbar = tqdm(total=n, leave=False)\n",
    "all_hidden_states = collections.defaultdict(list)\n",
    "while i < n:\n",
    "    # \n",
    "    # tokenize text\n",
    "    text = vd[i:i+batch_size]['text']\n",
    "    tt = t(text, truncation=True, padding=True, max_length=msl, return_tensors='pt').to(device)\n",
    "    # \n",
    "    # feed to model\n",
    "    with torch.no_grad():\n",
    "        o = m(**tt, output_hidden_states=True)\n",
    "    #\n",
    "    # aggregate hidden states\n",
    "    # o.hidden_states is a tuple of length (n_layers).\n",
    "    # each entry has shape (b, s, d).\n",
    "    hs = o.hidden_states\n",
    "    for j in range(len(hs)):\n",
    "        all_hidden_states[j].append(hs[j].cpu())\n",
    "\n",
    "    i += batch_size\n",
    "    pbar.update(batch_size)\n",
    "\n",
    "all_hidden_states = { k: torch.cat(v, dim=0).numpy() for k,v in all_hidden_states.items() }\n",
    "\n",
    "print('len(all_hidden_states):', len(all_hidden_states))\n",
    "print('all_hidden_states[0].shape:', all_hidden_states[0].shape)"
   ]
  },
  {
   "cell_type": "code",
   "execution_count": 7,
   "id": "88623c7d-54ef-44c5-bb6e-980b1774a39d",
   "metadata": {},
   "outputs": [
    {
     "data": {
      "application/vnd.jupyter.widget-view+json": {
       "model_id": "5e0c854a4c894f4692abd4ed5f30cc74",
       "version_major": 2,
       "version_minor": 0
      },
      "text/plain": [
       "  0%|          | 0/208 [00:00<?, ?it/s]"
      ]
     },
     "metadata": {},
     "output_type": "display_data"
    },
    {
     "data": {
      "application/vnd.jupyter.widget-view+json": {
       "model_id": "d515485257c14e7eb0e03d409197f6e4",
       "version_major": 2,
       "version_minor": 0
      },
      "text/plain": [
       "  0%|          | 0/208 [00:00<?, ?it/s]"
      ]
     },
     "metadata": {},
     "output_type": "display_data"
    },
    {
     "data": {
      "application/vnd.jupyter.widget-view+json": {
       "model_id": "6d09c85587f94cdb8cf10635bda49047",
       "version_major": 2,
       "version_minor": 0
      },
      "text/plain": [
       "  0%|          | 0/208 [00:00<?, ?it/s]"
      ]
     },
     "metadata": {},
     "output_type": "display_data"
    },
    {
     "data": {
      "application/vnd.jupyter.widget-view+json": {
       "model_id": "a7f2d8c004304f1683c002464437647e",
       "version_major": 2,
       "version_minor": 0
      },
      "text/plain": [
       "  0%|          | 0/208 [00:00<?, ?it/s]"
      ]
     },
     "metadata": {},
     "output_type": "display_data"
    },
    {
     "data": {
      "application/vnd.jupyter.widget-view+json": {
       "model_id": "04e4ecfbd62545508a6ea35d459ba951",
       "version_major": 2,
       "version_minor": 0
      },
      "text/plain": [
       "  0%|          | 0/208 [00:00<?, ?it/s]"
      ]
     },
     "metadata": {},
     "output_type": "display_data"
    },
    {
     "data": {
      "application/vnd.jupyter.widget-view+json": {
       "model_id": "ff1719a716b34647bce581befa158fed",
       "version_major": 2,
       "version_minor": 0
      },
      "text/plain": [
       "  0%|          | 0/208 [00:00<?, ?it/s]"
      ]
     },
     "metadata": {},
     "output_type": "display_data"
    },
    {
     "data": {
      "application/vnd.jupyter.widget-view+json": {
       "model_id": "f8aaa7336b2447fe823b14475286a8bf",
       "version_major": 2,
       "version_minor": 0
      },
      "text/plain": [
       "  0%|          | 0/208 [00:00<?, ?it/s]"
      ]
     },
     "metadata": {},
     "output_type": "display_data"
    },
    {
     "data": {
      "application/vnd.jupyter.widget-view+json": {
       "model_id": "1c5262db94b444b291f71ab64f7fc726",
       "version_major": 2,
       "version_minor": 0
      },
      "text/plain": [
       "  0%|          | 0/208 [00:00<?, ?it/s]"
      ]
     },
     "metadata": {},
     "output_type": "display_data"
    },
    {
     "data": {
      "application/vnd.jupyter.widget-view+json": {
       "model_id": "539c35f141db4d859b3f23005b5b1d14",
       "version_major": 2,
       "version_minor": 0
      },
      "text/plain": [
       "  0%|          | 0/208 [00:00<?, ?it/s]"
      ]
     },
     "metadata": {},
     "output_type": "display_data"
    },
    {
     "data": {
      "application/vnd.jupyter.widget-view+json": {
       "model_id": "a51c539eb6214e6faf5944769cffad43",
       "version_major": 2,
       "version_minor": 0
      },
      "text/plain": [
       "  0%|          | 0/208 [00:00<?, ?it/s]"
      ]
     },
     "metadata": {},
     "output_type": "display_data"
    },
    {
     "data": {
      "application/vnd.jupyter.widget-view+json": {
       "model_id": "b42aa054044b4d60afed199808eb644a",
       "version_major": 2,
       "version_minor": 0
      },
      "text/plain": [
       "  0%|          | 0/208 [00:00<?, ?it/s]"
      ]
     },
     "metadata": {},
     "output_type": "display_data"
    },
    {
     "data": {
      "application/vnd.jupyter.widget-view+json": {
       "model_id": "130141c389244efca3fbe2f16f7b261a",
       "version_major": 2,
       "version_minor": 0
      },
      "text/plain": [
       "  0%|          | 0/208 [00:00<?, ?it/s]"
      ]
     },
     "metadata": {},
     "output_type": "display_data"
    },
    {
     "data": {
      "application/vnd.jupyter.widget-view+json": {
       "model_id": "cf6a5d921f39491d92693940366216c2",
       "version_major": 2,
       "version_minor": 0
      },
      "text/plain": [
       "  0%|          | 0/208 [00:00<?, ?it/s]"
      ]
     },
     "metadata": {},
     "output_type": "display_data"
    }
   ],
   "source": [
    "# convert [b, s, d] to [b, s, d, 32] of binary values\n",
    "\n",
    "import struct\n",
    "import numpy as np\n",
    "from tqdm.notebook import trange\n",
    "\n",
    "def binary_str(num: float) -> str:\n",
    "    return ''.join('{:0>8b}'.format(c) for c in struct.pack('!f', num))\n",
    "\n",
    "def binary(num: float) -> np.ndarray:\n",
    "    # adapted from https://stackoverflow.com/a/16444778\n",
    "    s = binary_str(num)\n",
    "    return np.array([int(c) for c in s])\n",
    "\n",
    "def emb_to_binary(emb: np.ndarray) -> np.ndarray:\n",
    "    out_arr = np.zeros((emb.shape[0], emb.shape[1], emb.shape[2], 32))\n",
    "    out_arr.shape\n",
    "    for i in trange(emb.shape[0]):\n",
    "        for j in range(emb.shape[1]):\n",
    "            for k in range(emb.shape[2]):\n",
    "                out_arr[i, j, k] = binary(emb[i, j, k].item())\n",
    "    return out_arr\n",
    "\n",
    "binary_hidden_states = { k: emb_to_binary(v) for k,v in all_hidden_states.items() }"
   ]
  },
  {
   "cell_type": "code",
   "execution_count": 8,
   "id": "b68b18e1-a98d-430f-9bd3-68dad29b12b5",
   "metadata": {},
   "outputs": [],
   "source": [
    "from math import log2\n",
    "\n",
    "def get_bits(p: float) -> float:\n",
    "    # entropy\n",
    "    eps = 1e-16\n",
    "    return -1 * ( p * log2(p + eps) + (1 - p) * log2(1-p + eps) )\n",
    "\n",
    "# average over dataset to produce probability heatmap\n",
    "hidden_states_heatmaps = { k: v.mean(axis=0) for k,v in binary_hidden_states.items() }\n",
    "\n",
    "# compute bits from probabilities\n",
    "hidden_states_bits = {k: np.vectorize(get_bits)(v) for k,v in hidden_states_heatmaps.items() }"
   ]
  },
  {
   "cell_type": "code",
   "execution_count": 14,
   "id": "5feed667-b84b-4909-9ee5-c5a724a5ccb0",
   "metadata": {},
   "outputs": [
    {
     "data": {
      "image/png": "[encoded data removed]",
      "text/plain": [
       "<Figure size 1152x648 with 2 Axes>"
      ]
     },
     "metadata": {
      "needs_background": "light"
     },
     "output_type": "display_data"
    },
    {
     "data": {
      "text/plain": [
       "array([[ 0.94706224,  0.13709948,  0.13709948, ...,  1.        ,\n",
       "         0.99672959,  0.99332042],\n",
       "       [ 0.86672561,  0.10886131,  0.10886131, ...,  0.99939968,\n",
       "         0.99973321,  0.99973321],\n",
       "       [ 0.9391152 , -0.        , -0.        , ...,  0.99973321,\n",
       "         0.99572745,  0.99572745],\n",
       "       ...,\n",
       "       [ 0.99459113, -0.        , -0.        , ...,  0.99993331,\n",
       "         0.99572745,  0.99939968],\n",
       "       [ 0.96747561,  0.04394068,  0.04394068, ...,  0.97315604,\n",
       "         0.99939968,  0.99759773],\n",
       "       [ 0.9391152 ,  0.07823247,  0.07823247, ...,  0.99939968,\n",
       "         0.99993331,  0.99993331]])"
      ]
     },
     "execution_count": 14,
     "metadata": {},
     "output_type": "execute_result"
    }
   ],
   "source": [
    "from matplotlib import pyplot as plt\n",
    "import seaborn as sns\n",
    "\n",
    "def plot_heatmap(avg_data: np.ndarray, title: str):\n",
    "    plt.figure(figsize=(16,9))    \n",
    "    ax = sns.heatmap(avg_data.T, cmap='inferno')\n",
    "    ax.set_title(title)\n",
    "    ax.set_ylabel('bit')\n",
    "    ax.set_xlabel('embedding dim')\n",
    "    plt.show()\n",
    "    return avg_data\n",
    "\n",
    "\n",
    "layer_idx = 6\n",
    "seq_idx = 4\n",
    "\n",
    "plot_heatmap(avg_data=hidden_states_bits[layer_idx][seq_idx], title=f'Bits - BERT layer {layer_idx}, idx {seq_idx}')"
   ]
  },
  {
   "cell_type": "code",
   "execution_count": 10,
   "id": "dbf4d71f-70c8-412c-add7-d7407cc95a80",
   "metadata": {},
   "outputs": [
    {
     "name": "stdout",
     "output_type": "stream",
     "text": [
      "0\n",
      "1\n",
      "2\n",
      "3\n",
      "4\n",
      "5\n",
      "6\n",
      "7\n",
      "8\n",
      "9\n",
      "10\n",
      "11\n",
      "12\n"
     ]
    }
   ],
   "source": [
    "data = []\n",
    "\n",
    "for layer_idx, layer_data in hidden_states_bits.items():\n",
    "    print(layer_idx) # (looping by hand actually takes a few seconds..)\n",
    "    for seq in range(layer_data.shape[0]):\n",
    "        for emb_dim in range(layer_data.shape[1]):\n",
    "            for bit in range(layer_data.shape[2]):\n",
    "                bit_value = layer_data[seq, emb_dim, bit]\n",
    "                data.append([layer_idx, seq, emb_dim, bit, bit_value])"
   ]
  },
  {
   "cell_type": "code",
   "execution_count": 11,
   "id": "0455a8f8-e221-488b-9998-b160a4485d90",
   "metadata": {},
   "outputs": [
    {
     "data": {
      "text/html": [
       "<div>\n",
       "<style scoped>\n",
       "    .dataframe tbody tr th:only-of-type {\n",
       "        vertical-align: middle;\n",
       "    }\n",
       "\n",
       "    .dataframe tbody tr th {\n",
       "        vertical-align: top;\n",
       "    }\n",
       "\n",
       "    .dataframe thead th {\n",
       "        text-align: right;\n",
       "    }\n",
       "</style>\n",
       "<table border=\"1\" class=\"dataframe\">\n",
       "  <thead>\n",
       "    <tr style=\"text-align: right;\">\n",
       "      <th></th>\n",
       "      <th>layer</th>\n",
       "      <th>sequence</th>\n",
       "      <th>embedding_dim</th>\n",
       "      <th>bit_idx</th>\n",
       "      <th>bit_value</th>\n",
       "    </tr>\n",
       "  </thead>\n",
       "  <tbody>\n",
       "    <tr>\n",
       "      <th>0</th>\n",
       "      <td>0</td>\n",
       "      <td>0</td>\n",
       "      <td>0</td>\n",
       "      <td>0</td>\n",
       "      <td>-0.0</td>\n",
       "    </tr>\n",
       "    <tr>\n",
       "      <th>1</th>\n",
       "      <td>0</td>\n",
       "      <td>0</td>\n",
       "      <td>0</td>\n",
       "      <td>1</td>\n",
       "      <td>-0.0</td>\n",
       "    </tr>\n",
       "    <tr>\n",
       "      <th>2</th>\n",
       "      <td>0</td>\n",
       "      <td>0</td>\n",
       "      <td>0</td>\n",
       "      <td>2</td>\n",
       "      <td>-0.0</td>\n",
       "    </tr>\n",
       "    <tr>\n",
       "      <th>3</th>\n",
       "      <td>0</td>\n",
       "      <td>0</td>\n",
       "      <td>0</td>\n",
       "      <td>3</td>\n",
       "      <td>-0.0</td>\n",
       "    </tr>\n",
       "    <tr>\n",
       "      <th>4</th>\n",
       "      <td>0</td>\n",
       "      <td>0</td>\n",
       "      <td>0</td>\n",
       "      <td>4</td>\n",
       "      <td>-0.0</td>\n",
       "    </tr>\n",
       "  </tbody>\n",
       "</table>\n",
       "</div>"
      ],
      "text/plain": [
       "   layer  sequence  embedding_dim  bit_idx  bit_value\n",
       "0      0         0              0        0       -0.0\n",
       "1      0         0              0        1       -0.0\n",
       "2      0         0              0        2       -0.0\n",
       "3      0         0              0        3       -0.0\n",
       "4      0         0              0        4       -0.0"
      ]
     },
     "execution_count": 11,
     "metadata": {},
     "output_type": "execute_result"
    }
   ],
   "source": [
    "import pandas as pd\n",
    "\n",
    "df = pd.DataFrame(data, columns=['layer', 'sequence', 'embedding_dim', 'bit_idx', 'bit_value'])\n",
    "df.head()"
   ]
  },
  {
   "cell_type": "code",
   "execution_count": 12,
   "id": "c78049c2-3815-43ab-be92-333dc85d2d7d",
   "metadata": {},
   "outputs": [
    {
     "data": {
      "text/plain": [
       "<AxesSubplot:xlabel='layer'>"
      ]
     },
     "execution_count": 12,
     "metadata": {},
     "output_type": "execute_result"
    },
    {
     "data": {
      "image/png": "[encoded data removed]",
      "text/plain": [
       "<Figure size 432x288 with 1 Axes>"
      ]
     },
     "metadata": {
      "needs_background": "light"
     },
     "output_type": "display_data"
    }
   ],
   "source": [
    "df.groupby('layer').sum()['bit_value'].plot()"
   ]
  },
  {
   "cell_type": "code",
   "execution_count": 15,
   "id": "13abe5cc-2bd9-442a-8d56-1a00da2da183",
   "metadata": {},
   "outputs": [
    {
     "data": {
      "text/plain": [
       "[Text(0.5, 0, 'layer'),\n",
       " Text(0, 0.5, 'bits'),\n",
       " Text(0.5, 1.0, 'Bits per layer in BERT')]"
      ]
     },
     "execution_count": 15,
     "metadata": {},
     "output_type": "execute_result"
    },
    {
     "data": {
      "image/png": "[encoded data removed]",
      "text/plain": [
       "<Figure size 432x288 with 1 Axes>"
      ]
     },
     "metadata": {
      "needs_background": "light"
     },
     "output_type": "display_data"
    }
   ],
   "source": [
    "bert_layer = df.groupby('layer').sum()['bit_value'].to_frame()\n",
    "max_bit_value = (768 * 32 * 64) # dim * bits * seq length\n",
    "bert_layer['theoretical_max_bits'] = max_bit_value\n",
    "ax = sns.lineplot(data=bert_layer)\n",
    "ax.set(ylim=(0, max_bit_value + 100000))\n",
    "ax.set(xlabel='layer', ylabel='bits', title='Bits per layer in BERT')"
   ]
  },
  {
   "cell_type": "code",
   "execution_count": null,
   "id": "22a868f8-a311-47d0-8b72-c8e903fb3b27",
   "metadata": {},
   "outputs": [],
   "source": []
  }
 ],
 "metadata": {
  "kernelspec": {
   "display_name": "Python 3 (ipykernel)",
   "language": "python",
   "name": "python3"
  },
  "language_info": {
   "codemirror_mode": {
    "name": "ipython",
    "version": 3
   },
   "file_extension": ".py",
   "mimetype": "text/x-python",
   "name": "python",
   "nbconvert_exporter": "python",
   "pygments_lexer": "ipython3",
   "version": "3.9.7"
  }
 },
 "nbformat": 4,
 "nbformat_minor": 5
}
