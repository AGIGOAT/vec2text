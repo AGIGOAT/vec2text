{
 "cells": [
  {
   "cell_type": "code",
   "execution_count": 1,
   "id": "a3ea22b6-3edd-4708-97e2-1f88d7ff8d5d",
   "metadata": {},
   "outputs": [],
   "source": [
    "import sys\n",
    "sys.path.append('/home/jxm3/research/retrieval/inversion')"
   ]
  },
  {
   "cell_type": "code",
   "execution_count": 2,
   "id": "8f2a3080-50e6-48b3-a1f7-060f5679570e",
   "metadata": {},
   "outputs": [
    {
     "name": "stderr",
     "output_type": "stream",
     "text": [
      "/home/jxm3/.conda/envs/torch/lib/python3.9/site-packages/datasets/arrow_dataset.py:1533: FutureWarning: 'fs' was is deprecated in favor of 'storage_options' in version 2.8.0 and will be removed in 3.0.0.\n",
      "You can remove this warning by passing 'storage_options=fs.storage_options' instead.\n",
      "  warnings.warn(\n"
     ]
    },
    {
     "data": {
      "text/plain": [
       "Dataset({\n",
       "    features: ['text'],\n",
       "    num_rows: 849508\n",
       "})"
      ]
     },
     "execution_count": 2,
     "metadata": {},
     "output_type": "execute_result"
    }
   ],
   "source": [
    "from data_helpers import load_dpr_corpus, NQ_DEV\n",
    "\n",
    "vd = load_dpr_corpus(NQ_DEV)\n",
    "vd"
   ]
  },
  {
   "cell_type": "code",
   "execution_count": 17,
   "id": "78d27efc-2236-4caf-b3bb-3e50ac3ba576",
   "metadata": {},
   "outputs": [],
   "source": [
    "import transformers\n",
    "\n",
    "mn = \"distilbert-base-uncased\"\n",
    "config = transformers.AutoConfig.from_pretrained(mn)\n",
    "# pass the config to model constructor instead of from_pretrained\n",
    "# this creates the model as per the params in config \n",
    "# but with weights randomly initialized\n",
    "m = transformers.AutoModel.from_config(config)\n",
    "t = transformers.AutoTokenizer.from_pretrained(mn)"
   ]
  },
  {
   "cell_type": "code",
   "execution_count": 4,
   "id": "432ce67c-a983-4e24-bdb3-bf76b08f9871",
   "metadata": {},
   "outputs": [],
   "source": [
    "import torch\n",
    "device = torch.device('cuda' if torch.cuda.is_available() else 'cpu')"
   ]
  },
  {
   "cell_type": "code",
   "execution_count": 5,
   "id": "92cdda71-1345-4d4a-a199-839dc1671859",
   "metadata": {},
   "outputs": [
    {
     "name": "stdout",
     "output_type": "stream",
     "text": [
      "moved model to cuda\n"
     ]
    }
   ],
   "source": [
    "m.to(device)\n",
    "print('moved model to', device)"
   ]
  },
  {
   "cell_type": "code",
   "execution_count": 6,
   "id": "23bfa9ee-c606-4725-9873-af03f67ad734",
   "metadata": {},
   "outputs": [
    {
     "data": {
      "application/vnd.jupyter.widget-view+json": {
       "model_id": "95bc4e6c87974edcafd2db783fde1f6b",
       "version_major": 2,
       "version_minor": 0
      },
      "text/plain": [
       "  0%|          | 0/40 [00:00<?, ?it/s]"
      ]
     },
     "metadata": {},
     "output_type": "display_data"
    },
    {
     "name": "stdout",
     "output_type": "stream",
     "text": [
      "len(all_hidden_states): 7\n",
      "all_hidden_states[0].shape: (48, 32, 768)\n"
     ]
    }
   ],
   "source": [
    "from tqdm.notebook import tqdm\n",
    "import collections\n",
    "\n",
    "batch_size = 16\n",
    "\n",
    "msl = 32 # max sequence length\n",
    "\n",
    "i = 0\n",
    "n = 40\n",
    "\n",
    "pbar = tqdm(total=n, leave=False)\n",
    "all_hidden_states = collections.defaultdict(list)\n",
    "while i < n:\n",
    "    # \n",
    "    # tokenize text\n",
    "    text = vd[i:i+batch_size]['text']\n",
    "    tt = t(text, truncation=True, padding=True, max_length=msl, return_tensors='pt').to(device)\n",
    "    # \n",
    "    # feed to model\n",
    "    with torch.no_grad():\n",
    "        o = m(**tt, output_hidden_states=True)\n",
    "    #\n",
    "    # aggregate hidden states\n",
    "    # o.hidden_states is a tuple of length (n_layers).\n",
    "    # each entry has shape (b, s, d).\n",
    "    hs = o.hidden_states\n",
    "    for j in range(len(hs)):\n",
    "        all_hidden_states[j].append(hs[j].cpu())\n",
    "\n",
    "    i += batch_size\n",
    "    pbar.update(batch_size)\n",
    "\n",
    "all_hidden_states = { k: torch.cat(v, dim=0).numpy() for k,v in all_hidden_states.items() }\n",
    "\n",
    "print('len(all_hidden_states):', len(all_hidden_states))\n",
    "print('all_hidden_states[0].shape:', all_hidden_states[0].shape)"
   ]
  },
  {
   "cell_type": "code",
   "execution_count": 7,
   "id": "88623c7d-54ef-44c5-bb6e-980b1774a39d",
   "metadata": {},
   "outputs": [
    {
     "data": {
      "application/vnd.jupyter.widget-view+json": {
       "model_id": "3a051b98ae074e3b87c8dbcb9a70023b",
       "version_major": 2,
       "version_minor": 0
      },
      "text/plain": [
       "  0%|          | 0/48 [00:00<?, ?it/s]"
      ]
     },
     "metadata": {},
     "output_type": "display_data"
    },
    {
     "data": {
      "application/vnd.jupyter.widget-view+json": {
       "model_id": "a98f265291b14043b3abf31cf645e293",
       "version_major": 2,
       "version_minor": 0
      },
      "text/plain": [
       "  0%|          | 0/48 [00:00<?, ?it/s]"
      ]
     },
     "metadata": {},
     "output_type": "display_data"
    },
    {
     "data": {
      "application/vnd.jupyter.widget-view+json": {
       "model_id": "ab1c00e8e3cb4ed3920255166ec8d9ca",
       "version_major": 2,
       "version_minor": 0
      },
      "text/plain": [
       "  0%|          | 0/48 [00:00<?, ?it/s]"
      ]
     },
     "metadata": {},
     "output_type": "display_data"
    },
    {
     "data": {
      "application/vnd.jupyter.widget-view+json": {
       "model_id": "9b513ba252044e56be37324a52ed89ee",
       "version_major": 2,
       "version_minor": 0
      },
      "text/plain": [
       "  0%|          | 0/48 [00:00<?, ?it/s]"
      ]
     },
     "metadata": {},
     "output_type": "display_data"
    },
    {
     "data": {
      "application/vnd.jupyter.widget-view+json": {
       "model_id": "b7fdc3bd05c3494cb1ba9ea436d797f4",
       "version_major": 2,
       "version_minor": 0
      },
      "text/plain": [
       "  0%|          | 0/48 [00:00<?, ?it/s]"
      ]
     },
     "metadata": {},
     "output_type": "display_data"
    },
    {
     "data": {
      "application/vnd.jupyter.widget-view+json": {
       "model_id": "387b02935b664f4da9697a6a05ef26ff",
       "version_major": 2,
       "version_minor": 0
      },
      "text/plain": [
       "  0%|          | 0/48 [00:00<?, ?it/s]"
      ]
     },
     "metadata": {},
     "output_type": "display_data"
    },
    {
     "data": {
      "application/vnd.jupyter.widget-view+json": {
       "model_id": "6a61795abe1e416db0f3874b045f99bb",
       "version_major": 2,
       "version_minor": 0
      },
      "text/plain": [
       "  0%|          | 0/48 [00:00<?, ?it/s]"
      ]
     },
     "metadata": {},
     "output_type": "display_data"
    }
   ],
   "source": [
    "# convert [b, s, d] to [b, s, d, 32] of binary values\n",
    "\n",
    "import struct\n",
    "import numpy as np\n",
    "from tqdm.notebook import trange\n",
    "\n",
    "def binary_str(num: float) -> str:\n",
    "    return ''.join('{:0>8b}'.format(c) for c in struct.pack('!f', num))\n",
    "\n",
    "def binary(num: float) -> np.ndarray:\n",
    "    # adapted from https://stackoverflow.com/a/16444778\n",
    "    s = binary_str(num)\n",
    "    return np.array([int(c) for c in s])\n",
    "\n",
    "def emb_to_binary(emb: np.ndarray) -> np.ndarray:\n",
    "    out_arr = np.zeros((emb.shape[0], emb.shape[1], emb.shape[2], 32))\n",
    "    out_arr.shape\n",
    "    for i in trange(emb.shape[0]):\n",
    "        for j in range(emb.shape[1]):\n",
    "            for k in range(emb.shape[2]):\n",
    "                out_arr[i, j, k] = binary(emb[i, j, k].item())\n",
    "    return out_arr\n",
    "\n",
    "binary_hidden_states = { k: emb_to_binary(v) for k,v in all_hidden_states.items() }"
   ]
  },
  {
   "cell_type": "code",
   "execution_count": 8,
   "id": "b68b18e1-a98d-430f-9bd3-68dad29b12b5",
   "metadata": {},
   "outputs": [],
   "source": [
    "from math import log2\n",
    "\n",
    "def get_bits(p: float) -> float:\n",
    "    # entropy\n",
    "    eps = 1e-16\n",
    "    return -1 * ( p * log2(p + eps) + (1 - p) * log2(1-p + eps) )\n",
    "\n",
    "# average over dataset to produce probability heatmap\n",
    "hidden_states_heatmaps = { k: v.mean(axis=0) for k,v in binary_hidden_states.items() }\n",
    "\n",
    "# compute bits from probabilities\n",
    "hidden_states_bits = {k: np.vectorize(get_bits)(v) for k,v in hidden_states_heatmaps.items() }"
   ]
  },
  {
   "cell_type": "code",
   "execution_count": 18,
   "id": "5feed667-b84b-4909-9ee5-c5a724a5ccb0",
   "metadata": {},
   "outputs": [
    {
     "data": {
      "image/png": "[encoded data removed]",
      "text/plain": [
       "<Figure size 1152x648 with 2 Axes>"
      ]
     },
     "metadata": {
      "needs_background": "light"
     },
     "output_type": "display_data"
    },
    {
     "data": {
      "text/plain": [
       "array([[ 0.89603823, -0.        , -0.        , ...,  0.99498483,\n",
       "         0.97986876,  0.9987473 ],\n",
       "       [ 0.54356444,  0.73828487,  0.73828487, ...,  0.9987473 ,\n",
       "         0.99498483,  0.99498483],\n",
       "       [ 0.69621226,  0.14609425,  0.14609425, ...,  0.98869941,\n",
       "         0.99498483,  0.98869941],\n",
       "       ...,\n",
       "       [ 1.        , -0.        , -0.        , ...,  0.93773429,\n",
       "         0.954434  ,  0.96846101],\n",
       "       [ 0.9987473 , -0.        , -0.        , ...,  0.96846101,\n",
       "         0.99498483,  0.954434  ],\n",
       "       [ 0.81127812,  0.14609425,  0.14609425, ...,  1.        ,\n",
       "         0.97986876,  0.98869941]])"
      ]
     },
     "execution_count": 18,
     "metadata": {},
     "output_type": "execute_result"
    }
   ],
   "source": [
    "from matplotlib import pyplot as plt\n",
    "import seaborn as sns\n",
    "\n",
    "def plot_heatmap(avg_data: np.ndarray, title: str):\n",
    "    plt.figure(figsize=(16,9))    \n",
    "    ax = sns.heatmap(avg_data.T, cmap='inferno')\n",
    "    ax.set_title(title)\n",
    "    ax.set_ylabel('bit')\n",
    "    ax.set_xlabel('embedding dim')\n",
    "    plt.show()\n",
    "    return avg_data\n",
    "\n",
    "\n",
    "layer_idx = 6\n",
    "seq_idx = 4\n",
    "\n",
    "plot_heatmap(avg_data=hidden_states_bits[layer_idx][seq_idx], title=f'Bits - distilbert random - layer {layer_idx}, idx {seq_idx}')"
   ]
  },
  {
   "cell_type": "code",
   "execution_count": 10,
   "id": "dbf4d71f-70c8-412c-add7-d7407cc95a80",
   "metadata": {},
   "outputs": [
    {
     "name": "stdout",
     "output_type": "stream",
     "text": [
      "0\n",
      "1\n",
      "2\n",
      "3\n",
      "4\n",
      "5\n",
      "6\n"
     ]
    }
   ],
   "source": [
    "data = []\n",
    "\n",
    "for layer_idx, layer_data in hidden_states_bits.items():\n",
    "    print(layer_idx) # (looping by hand actually takes a few seconds..)\n",
    "    for seq in range(layer_data.shape[0]):\n",
    "        for emb_dim in range(layer_data.shape[1]):\n",
    "            for bit in range(layer_data.shape[2]):\n",
    "                bit_value = layer_data[seq, emb_dim, bit]\n",
    "                data.append([layer_idx, seq, emb_dim, bit, bit_value])"
   ]
  },
  {
   "cell_type": "code",
   "execution_count": 11,
   "id": "0455a8f8-e221-488b-9998-b160a4485d90",
   "metadata": {},
   "outputs": [
    {
     "data": {
      "text/html": [
       "<div>\n",
       "<style scoped>\n",
       "    .dataframe tbody tr th:only-of-type {\n",
       "        vertical-align: middle;\n",
       "    }\n",
       "\n",
       "    .dataframe tbody tr th {\n",
       "        vertical-align: top;\n",
       "    }\n",
       "\n",
       "    .dataframe thead th {\n",
       "        text-align: right;\n",
       "    }\n",
       "</style>\n",
       "<table border=\"1\" class=\"dataframe\">\n",
       "  <thead>\n",
       "    <tr style=\"text-align: right;\">\n",
       "      <th></th>\n",
       "      <th>layer</th>\n",
       "      <th>sequence</th>\n",
       "      <th>embedding_dim</th>\n",
       "      <th>bit_idx</th>\n",
       "      <th>bit_value</th>\n",
       "    </tr>\n",
       "  </thead>\n",
       "  <tbody>\n",
       "    <tr>\n",
       "      <th>0</th>\n",
       "      <td>0</td>\n",
       "      <td>0</td>\n",
       "      <td>0</td>\n",
       "      <td>0</td>\n",
       "      <td>-0.000000</td>\n",
       "    </tr>\n",
       "    <tr>\n",
       "      <th>1</th>\n",
       "      <td>0</td>\n",
       "      <td>0</td>\n",
       "      <td>0</td>\n",
       "      <td>1</td>\n",
       "      <td>-0.000000</td>\n",
       "    </tr>\n",
       "    <tr>\n",
       "      <th>2</th>\n",
       "      <td>0</td>\n",
       "      <td>0</td>\n",
       "      <td>0</td>\n",
       "      <td>2</td>\n",
       "      <td>0.696212</td>\n",
       "    </tr>\n",
       "    <tr>\n",
       "      <th>3</th>\n",
       "      <td>0</td>\n",
       "      <td>0</td>\n",
       "      <td>0</td>\n",
       "      <td>3</td>\n",
       "      <td>0.696212</td>\n",
       "    </tr>\n",
       "    <tr>\n",
       "      <th>4</th>\n",
       "      <td>0</td>\n",
       "      <td>0</td>\n",
       "      <td>0</td>\n",
       "      <td>4</td>\n",
       "      <td>0.696212</td>\n",
       "    </tr>\n",
       "  </tbody>\n",
       "</table>\n",
       "</div>"
      ],
      "text/plain": [
       "   layer  sequence  embedding_dim  bit_idx  bit_value\n",
       "0      0         0              0        0  -0.000000\n",
       "1      0         0              0        1  -0.000000\n",
       "2      0         0              0        2   0.696212\n",
       "3      0         0              0        3   0.696212\n",
       "4      0         0              0        4   0.696212"
      ]
     },
     "execution_count": 11,
     "metadata": {},
     "output_type": "execute_result"
    }
   ],
   "source": [
    "import pandas as pd\n",
    "\n",
    "df = pd.DataFrame(data, columns=['layer', 'sequence', 'embedding_dim', 'bit_idx', 'bit_value'])\n",
    "df.head()"
   ]
  },
  {
   "cell_type": "code",
   "execution_count": 12,
   "id": "c78049c2-3815-43ab-be92-333dc85d2d7d",
   "metadata": {},
   "outputs": [
    {
     "data": {
      "text/plain": [
       "<AxesSubplot:xlabel='layer'>"
      ]
     },
     "execution_count": 12,
     "metadata": {},
     "output_type": "execute_result"
    },
    {
     "data": {
      "image/png": "[encoded data removed]",
      "text/plain": [
       "<Figure size 432x288 with 1 Axes>"
      ]
     },
     "metadata": {
      "needs_background": "light"
     },
     "output_type": "display_data"
    }
   ],
   "source": [
    "df.groupby('layer').sum()['bit_value'].plot()"
   ]
  },
  {
   "cell_type": "code",
   "execution_count": 15,
   "id": "13abe5cc-2bd9-442a-8d56-1a00da2da183",
   "metadata": {},
   "outputs": [
    {
     "data": {
      "text/plain": [
       "[Text(0.5, 0, 'layer'),\n",
       " Text(0, 0.5, 'bits'),\n",
       " Text(0.5, 1.0, 'Bits per layer in DistilBERT (random weights)')]"
      ]
     },
     "execution_count": 15,
     "metadata": {},
     "output_type": "execute_result"
    },
    {
     "data": {
      "image/png": "[encoded data removed]",
      "text/plain": [
       "<Figure size 432x288 with 1 Axes>"
      ]
     },
     "metadata": {
      "needs_background": "light"
     },
     "output_type": "display_data"
    }
   ],
   "source": [
    "bert_layer = df.groupby('layer').sum()['bit_value'].to_frame()\n",
    "max_bit_value = (768 * 32 * 32) # dim * bits * seq length\n",
    "bert_layer['theoretical_max_bits'] = max_bit_value\n",
    "ax = sns.lineplot(data=bert_layer)\n",
    "ax.set(ylim=(0, max_bit_value + 100000))\n",
    "ax.set(xlabel='layer', ylabel='bits', title='Bits per layer in DistilBERT (random weights)')"
   ]
  },
  {
   "cell_type": "code",
   "execution_count": 19,
   "id": "22a868f8-a311-47d0-8b72-c8e903fb3b27",
   "metadata": {},
   "outputs": [
    {
     "data": {
      "text/plain": [
       "5505024"
      ]
     },
     "execution_count": 19,
     "metadata": {},
     "output_type": "execute_result"
    }
   ],
   "source": [
    "len(df)"
   ]
  },
  {
   "cell_type": "code",
   "execution_count": null,
   "id": "27c5ea7e-fb25-456b-833a-36a6d20b94cd",
   "metadata": {},
   "outputs": [],
   "source": []
  }
 ],
 "metadata": {
  "kernelspec": {
   "display_name": "Python 3 (ipykernel)",
   "language": "python",
   "name": "python3"
  },
  "language_info": {
   "codemirror_mode": {
    "name": "ipython",
    "version": 3
   },
   "file_extension": ".py",
   "mimetype": "text/x-python",
   "name": "python",
   "nbconvert_exporter": "python",
   "pygments_lexer": "ipython3",
   "version": "3.9.7"
  }
 },
 "nbformat": 4,
 "nbformat_minor": 5
}
