{
 "cells": [
  {
   "cell_type": "code",
   "execution_count": 1,
   "id": "08d0781e-9e2e-469d-a3da-2115ad1d8d41",
   "metadata": {},
   "outputs": [],
   "source": [
    "import sys\n",
    "sys.path.append('..')"
   ]
  },
  {
   "cell_type": "code",
   "execution_count": 2,
   "id": "7b5061a5-dc2c-42a4-8c9a-9b0b66f0bf3a",
   "metadata": {},
   "outputs": [],
   "source": [
    "%load_ext autoreload\n",
    "%autoreload 2"
   ]
  },
  {
   "cell_type": "code",
   "execution_count": 3,
   "id": "f3a7758f-22db-49f3-8caa-04d5eced8d5c",
   "metadata": {},
   "outputs": [],
   "source": [
    "# del os.environ[\"WANDB_DISABLED\"]"
   ]
  },
  {
   "cell_type": "code",
   "execution_count": 46,
   "id": "ac8d3517-7bad-4999-bc78-59e86f7c79eb",
   "metadata": {},
   "outputs": [
    {
     "name": "stderr",
     "output_type": "stream",
     "text": [
      "PyTorch: setting up devices\n",
      "Could not locate the tokenizer configuration file, will try to use the model config instead.\n"
     ]
    },
    {
     "name": "stdout",
     "output_type": "stream",
     "text": [
      "Set train_args.dataloader_num_workers = 4\n"
     ]
    },
    {
     "name": "stderr",
     "output_type": "stream",
     "text": [
      "loading configuration file config.json from cache at /home/jxm3/.cache/huggingface/hub/models--t5-base/snapshots/0db7e623bcaee2daf9b859a646637ea39bf016cd/config.json\n",
      "Model config T5Config {\n",
      "  \"_name_or_path\": \"t5-base\",\n",
      "  \"architectures\": [\n",
      "    \"T5ForConditionalGeneration\"\n",
      "  ],\n",
      "  \"d_ff\": 3072,\n",
      "  \"d_kv\": 64,\n",
      "  \"d_model\": 768,\n",
      "  \"decoder_start_token_id\": 0,\n",
      "  \"dense_act_fn\": \"relu\",\n",
      "  \"dropout_rate\": 0.1,\n",
      "  \"eos_token_id\": 1,\n",
      "  \"feed_forward_proj\": \"relu\",\n",
      "  \"initializer_factor\": 1.0,\n",
      "  \"is_encoder_decoder\": true,\n",
      "  \"is_gated_act\": false,\n",
      "  \"layer_norm_epsilon\": 1e-06,\n",
      "  \"max_length\": 64,\n",
      "  \"model_type\": \"t5\",\n",
      "  \"n_positions\": 512,\n",
      "  \"num_decoder_layers\": 12,\n",
      "  \"num_heads\": 12,\n",
      "  \"num_layers\": 12,\n",
      "  \"output_past\": true,\n",
      "  \"pad_token_id\": 0,\n",
      "  \"relative_attention_max_distance\": 128,\n",
      "  \"relative_attention_num_buckets\": 32,\n",
      "  \"task_specific_params\": {\n",
      "    \"summarization\": {\n",
      "      \"early_stopping\": true,\n",
      "      \"length_penalty\": 2.0,\n",
      "      \"max_length\": 200,\n",
      "      \"min_length\": 30,\n",
      "      \"no_repeat_ngram_size\": 3,\n",
      "      \"num_beams\": 4,\n",
      "      \"prefix\": \"summarize: \"\n",
      "    },\n",
      "    \"translation_en_to_de\": {\n",
      "      \"early_stopping\": true,\n",
      "      \"max_length\": 300,\n",
      "      \"num_beams\": 4,\n",
      "      \"prefix\": \"translate English to German: \"\n",
      "    },\n",
      "    \"translation_en_to_fr\": {\n",
      "      \"early_stopping\": true,\n",
      "      \"max_length\": 300,\n",
      "      \"num_beams\": 4,\n",
      "      \"prefix\": \"translate English to French: \"\n",
      "    },\n",
      "    \"translation_en_to_ro\": {\n",
      "      \"early_stopping\": true,\n",
      "      \"max_length\": 300,\n",
      "      \"num_beams\": 4,\n",
      "      \"prefix\": \"translate English to Romanian: \"\n",
      "    }\n",
      "  },\n",
      "  \"transformers_version\": \"4.23.1\",\n",
      "  \"use_cache\": true,\n",
      "  \"vocab_size\": 32128\n",
      "}\n",
      "\n",
      "loading file spiece.model from cache at /home/jxm3/.cache/huggingface/hub/models--t5-base/snapshots/0db7e623bcaee2daf9b859a646637ea39bf016cd/spiece.model\n",
      "loading file tokenizer.json from cache at /home/jxm3/.cache/huggingface/hub/models--t5-base/snapshots/0db7e623bcaee2daf9b859a646637ea39bf016cd/tokenizer.json\n",
      "loading file added_tokens.json from cache at None\n",
      "loading file special_tokens_map.json from cache at None\n",
      "loading file tokenizer_config.json from cache at None\n",
      "loading configuration file config.json from cache at /home/jxm3/.cache/huggingface/hub/models--t5-base/snapshots/0db7e623bcaee2daf9b859a646637ea39bf016cd/config.json\n",
      "Model config T5Config {\n",
      "  \"_name_or_path\": \"t5-base\",\n",
      "  \"architectures\": [\n",
      "    \"T5ForConditionalGeneration\"\n",
      "  ],\n",
      "  \"d_ff\": 3072,\n",
      "  \"d_kv\": 64,\n",
      "  \"d_model\": 768,\n",
      "  \"decoder_start_token_id\": 0,\n",
      "  \"dense_act_fn\": \"relu\",\n",
      "  \"dropout_rate\": 0.1,\n",
      "  \"eos_token_id\": 1,\n",
      "  \"feed_forward_proj\": \"relu\",\n",
      "  \"initializer_factor\": 1.0,\n",
      "  \"is_encoder_decoder\": true,\n",
      "  \"is_gated_act\": false,\n",
      "  \"layer_norm_epsilon\": 1e-06,\n",
      "  \"model_type\": \"t5\",\n",
      "  \"n_positions\": 512,\n",
      "  \"num_decoder_layers\": 12,\n",
      "  \"num_heads\": 12,\n",
      "  \"num_layers\": 12,\n",
      "  \"output_past\": true,\n",
      "  \"pad_token_id\": 0,\n",
      "  \"relative_attention_max_distance\": 128,\n",
      "  \"relative_attention_num_buckets\": 32,\n",
      "  \"task_specific_params\": {\n",
      "    \"summarization\": {\n",
      "      \"early_stopping\": true,\n",
      "      \"length_penalty\": 2.0,\n",
      "      \"max_length\": 200,\n",
      "      \"min_length\": 30,\n",
      "      \"no_repeat_ngram_size\": 3,\n",
      "      \"num_beams\": 4,\n",
      "      \"prefix\": \"summarize: \"\n",
      "    },\n",
      "    \"translation_en_to_de\": {\n",
      "      \"early_stopping\": true,\n",
      "      \"max_length\": 300,\n",
      "      \"num_beams\": 4,\n",
      "      \"prefix\": \"translate English to German: \"\n",
      "    },\n",
      "    \"translation_en_to_fr\": {\n",
      "      \"early_stopping\": true,\n",
      "      \"max_length\": 300,\n",
      "      \"num_beams\": 4,\n",
      "      \"prefix\": \"translate English to French: \"\n",
      "    },\n",
      "    \"translation_en_to_ro\": {\n",
      "      \"early_stopping\": true,\n",
      "      \"max_length\": 300,\n",
      "      \"num_beams\": 4,\n",
      "      \"prefix\": \"translate English to Romanian: \"\n",
      "    }\n",
      "  },\n",
      "  \"transformers_version\": \"4.23.1\",\n",
      "  \"use_cache\": true,\n",
      "  \"vocab_size\": 32128\n",
      "}\n",
      "\n",
      "/home/jxm3/.conda/envs/torch/lib/python3.9/site-packages/transformers/models/t5/tokenization_t5_fast.py:156: FutureWarning: This tokenizer was incorrectly instantiated with a model max length of 512 which will be corrected in Transformers v5.\n",
      "For now, this behavior is kept to avoid breaking backwards compatibility when padding/encoding with `truncation is True`.\n",
      "- Be aware that you SHOULD NOT rely on t5-base automatically truncating your input to 512 when padding/encoding.\n",
      "- If you want to encode/pad to sequences longer than 512 you can either instantiate this tokenizer with `model_max_length` or pass `max_length` when encoding/padding.\n",
      "- To avoid this warning, please instantiate this tokenizer with `model_max_length` set to your preferred value.\n",
      "  warnings.warn(\n",
      "loading configuration file config.json from cache at /home/jxm3/.cache/huggingface/hub/models--facebook--dpr-ctx_encoder-single-nq-base/snapshots/bb21a3c2b1656d60c6a8e920283bc40dabddadb8/config.json\n",
      "Model config DPRConfig {\n",
      "  \"architectures\": [\n",
      "    \"DPRContextEncoder\"\n",
      "  ],\n",
      "  \"attention_probs_dropout_prob\": 0.1,\n",
      "  \"gradient_checkpointing\": false,\n",
      "  \"hidden_act\": \"gelu\",\n",
      "  \"hidden_dropout_prob\": 0.1,\n",
      "  \"hidden_size\": 768,\n",
      "  \"initializer_range\": 0.02,\n",
      "  \"intermediate_size\": 3072,\n",
      "  \"layer_norm_eps\": 1e-12,\n",
      "  \"max_position_embeddings\": 512,\n",
      "  \"model_type\": \"dpr\",\n",
      "  \"num_attention_heads\": 12,\n",
      "  \"num_hidden_layers\": 12,\n",
      "  \"pad_token_id\": 0,\n",
      "  \"position_embedding_type\": \"absolute\",\n",
      "  \"projection_dim\": 0,\n",
      "  \"transformers_version\": \"4.23.1\",\n",
      "  \"type_vocab_size\": 2,\n",
      "  \"vocab_size\": 30522\n",
      "}\n",
      "\n",
      "loading weights file pytorch_model.bin from cache at /home/jxm3/.cache/huggingface/hub/models--facebook--dpr-ctx_encoder-single-nq-base/snapshots/bb21a3c2b1656d60c6a8e920283bc40dabddadb8/pytorch_model.bin\n",
      "Some weights of the model checkpoint at facebook/dpr-ctx_encoder-single-nq-base were not used when initializing DPRContextEncoder: ['ctx_encoder.bert_model.pooler.dense.weight', 'ctx_encoder.bert_model.pooler.dense.bias']\n",
      "- This IS expected if you are initializing DPRContextEncoder from the checkpoint of a model trained on another task or with another architecture (e.g. initializing a BertForSequenceClassification model from a BertForPreTraining model).\n",
      "- This IS NOT expected if you are initializing DPRContextEncoder from the checkpoint of a model that you expect to be exactly identical (initializing a BertForSequenceClassification model from a BertForSequenceClassification model).\n",
      "All the weights of DPRContextEncoder were initialized from the model checkpoint at facebook/dpr-ctx_encoder-single-nq-base.\n",
      "If your task is similar to the task the model of the checkpoint was trained on, you can already use DPRContextEncoder for predictions without further training.\n",
      "loading configuration file config.json from cache at /home/jxm3/.cache/huggingface/hub/models--facebook--dpr-ctx_encoder-single-nq-base/snapshots/bb21a3c2b1656d60c6a8e920283bc40dabddadb8/config.json\n",
      "Model config DPRConfig {\n",
      "  \"_name_or_path\": \"facebook/dpr-ctx_encoder-single-nq-base\",\n",
      "  \"architectures\": [\n",
      "    \"DPRContextEncoder\"\n",
      "  ],\n",
      "  \"attention_probs_dropout_prob\": 0.1,\n",
      "  \"gradient_checkpointing\": false,\n",
      "  \"hidden_act\": \"gelu\",\n",
      "  \"hidden_dropout_prob\": 0.1,\n",
      "  \"hidden_size\": 768,\n",
      "  \"initializer_range\": 0.02,\n",
      "  \"intermediate_size\": 3072,\n",
      "  \"layer_norm_eps\": 1e-12,\n",
      "  \"max_position_embeddings\": 512,\n",
      "  \"model_type\": \"dpr\",\n",
      "  \"num_attention_heads\": 12,\n",
      "  \"num_hidden_layers\": 12,\n",
      "  \"pad_token_id\": 0,\n",
      "  \"position_embedding_type\": \"absolute\",\n",
      "  \"projection_dim\": 0,\n",
      "  \"transformers_version\": \"4.23.1\",\n",
      "  \"type_vocab_size\": 2,\n",
      "  \"vocab_size\": 30522\n",
      "}\n",
      "\n",
      "loading file vocab.txt from cache at /home/jxm3/.cache/huggingface/hub/models--facebook--dpr-ctx_encoder-single-nq-base/snapshots/bb21a3c2b1656d60c6a8e920283bc40dabddadb8/vocab.txt\n",
      "loading file tokenizer.json from cache at /home/jxm3/.cache/huggingface/hub/models--facebook--dpr-ctx_encoder-single-nq-base/snapshots/bb21a3c2b1656d60c6a8e920283bc40dabddadb8/tokenizer.json\n",
      "loading file added_tokens.json from cache at None\n",
      "loading file special_tokens_map.json from cache at None\n",
      "loading file tokenizer_config.json from cache at /home/jxm3/.cache/huggingface/hub/models--facebook--dpr-ctx_encoder-single-nq-base/snapshots/bb21a3c2b1656d60c6a8e920283bc40dabddadb8/tokenizer_config.json\n",
      "loading configuration file config.json from cache at /home/jxm3/.cache/huggingface/hub/models--facebook--dpr-ctx_encoder-single-nq-base/snapshots/bb21a3c2b1656d60c6a8e920283bc40dabddadb8/config.json\n",
      "Model config DPRConfig {\n",
      "  \"_name_or_path\": \"facebook/dpr-ctx_encoder-single-nq-base\",\n",
      "  \"architectures\": [\n",
      "    \"DPRContextEncoder\"\n",
      "  ],\n",
      "  \"attention_probs_dropout_prob\": 0.1,\n",
      "  \"gradient_checkpointing\": false,\n",
      "  \"hidden_act\": \"gelu\",\n",
      "  \"hidden_dropout_prob\": 0.1,\n",
      "  \"hidden_size\": 768,\n",
      "  \"initializer_range\": 0.02,\n",
      "  \"intermediate_size\": 3072,\n",
      "  \"layer_norm_eps\": 1e-12,\n",
      "  \"max_position_embeddings\": 512,\n",
      "  \"model_type\": \"dpr\",\n",
      "  \"num_attention_heads\": 12,\n",
      "  \"num_hidden_layers\": 12,\n",
      "  \"pad_token_id\": 0,\n",
      "  \"position_embedding_type\": \"absolute\",\n",
      "  \"projection_dim\": 0,\n",
      "  \"transformers_version\": \"4.23.1\",\n",
      "  \"type_vocab_size\": 2,\n",
      "  \"vocab_size\": 30522\n",
      "}\n",
      "\n",
      "loading configuration file config.json from cache at /home/jxm3/.cache/huggingface/hub/models--t5-base/snapshots/0db7e623bcaee2daf9b859a646637ea39bf016cd/config.json\n",
      "Model config T5Config {\n",
      "  \"_name_or_path\": \"t5-base\",\n",
      "  \"architectures\": [\n",
      "    \"T5ForConditionalGeneration\"\n",
      "  ],\n",
      "  \"d_ff\": 3072,\n",
      "  \"d_kv\": 64,\n",
      "  \"d_model\": 768,\n",
      "  \"decoder_start_token_id\": 0,\n",
      "  \"dense_act_fn\": \"relu\",\n",
      "  \"dropout_rate\": 0.1,\n",
      "  \"eos_token_id\": 1,\n",
      "  \"feed_forward_proj\": \"relu\",\n",
      "  \"initializer_factor\": 1.0,\n",
      "  \"is_encoder_decoder\": true,\n",
      "  \"is_gated_act\": false,\n",
      "  \"layer_norm_epsilon\": 1e-06,\n",
      "  \"model_type\": \"t5\",\n",
      "  \"n_positions\": 512,\n",
      "  \"num_decoder_layers\": 12,\n",
      "  \"num_heads\": 12,\n",
      "  \"num_layers\": 12,\n",
      "  \"output_past\": true,\n",
      "  \"pad_token_id\": 0,\n",
      "  \"relative_attention_max_distance\": 128,\n",
      "  \"relative_attention_num_buckets\": 32,\n",
      "  \"task_specific_params\": {\n",
      "    \"summarization\": {\n",
      "      \"early_stopping\": true,\n",
      "      \"length_penalty\": 2.0,\n",
      "      \"max_length\": 200,\n",
      "      \"min_length\": 30,\n",
      "      \"no_repeat_ngram_size\": 3,\n",
      "      \"num_beams\": 4,\n",
      "      \"prefix\": \"summarize: \"\n",
      "    },\n",
      "    \"translation_en_to_de\": {\n",
      "      \"early_stopping\": true,\n",
      "      \"max_length\": 300,\n",
      "      \"num_beams\": 4,\n",
      "      \"prefix\": \"translate English to German: \"\n",
      "    },\n",
      "    \"translation_en_to_fr\": {\n",
      "      \"early_stopping\": true,\n",
      "      \"max_length\": 300,\n",
      "      \"num_beams\": 4,\n",
      "      \"prefix\": \"translate English to French: \"\n",
      "    },\n",
      "    \"translation_en_to_ro\": {\n",
      "      \"early_stopping\": true,\n",
      "      \"max_length\": 300,\n",
      "      \"num_beams\": 4,\n",
      "      \"prefix\": \"translate English to Romanian: \"\n",
      "    }\n",
      "  },\n",
      "  \"transformers_version\": \"4.23.1\",\n",
      "  \"use_cache\": true,\n",
      "  \"vocab_size\": 32128\n",
      "}\n",
      "\n",
      "loading weights file pytorch_model.bin from cache at /home/jxm3/.cache/huggingface/hub/models--t5-base/snapshots/0db7e623bcaee2daf9b859a646637ea39bf016cd/pytorch_model.bin\n",
      "All model checkpoint weights were used when initializing T5ForConditionalGeneration.\n",
      "\n",
      "All the weights of T5ForConditionalGeneration were initialized from the model checkpoint at t5-base.\n",
      "If your task is similar to the task the model of the checkpoint was trained on, you can already use T5ForConditionalGeneration for predictions without further training.\n"
     ]
    },
    {
     "name": "stdout",
     "output_type": "stream",
     "text": [
      " "
     ]
    },
    {
     "name": "stderr",
     "output_type": "stream",
     "text": [
      "/home/jxm3/.conda/envs/torch/lib/python3.9/site-packages/datasets/arrow_dataset.py:1533: FutureWarning: 'fs' was is deprecated in favor of 'storage_options' in version 2.8.0 and will be removed in 3.0.0.\n",
      "You can remove this warning by passing 'storage_options=fs.storage_options' instead.\n",
      "  warnings.warn(\n",
      "WARNING:datasets.arrow_dataset:Loading cached processed dataset at /home/jxm3/.cache/huggingface/datasets/emb_inv_dpr/nq-train/cache-d5782f94b1971701.arrow\n"
     ]
    },
    {
     "name": "stdout",
     "output_type": "stream",
     "text": [
      " "
     ]
    },
    {
     "name": "stderr",
     "output_type": "stream",
     "text": [
      "WARNING:datasets.arrow_dataset:Loading cached processed dataset at /home/jxm3/.cache/huggingface/datasets/emb_inv_dpr/nq-train/cache-38dd10732a2ba694.arrow\n"
     ]
    },
    {
     "name": "stdout",
     "output_type": "stream",
     "text": [
      " "
     ]
    },
    {
     "name": "stderr",
     "output_type": "stream",
     "text": [
      "WARNING:datasets.arrow_dataset:Loading cached processed dataset at /home/jxm3/.cache/huggingface/datasets/emb_inv_dpr/nq-train/cache-e8bf168fdcea8ffc.arrow\n"
     ]
    },
    {
     "name": "stdout",
     "output_type": "stream",
     "text": [
      " "
     ]
    },
    {
     "name": "stderr",
     "output_type": "stream",
     "text": [
      "WARNING:datasets.arrow_dataset:Loading cached processed dataset at /home/jxm3/.cache/huggingface/datasets/emb_inv_dpr/nq-train/cache-c1c47ed561019667.arrow\n"
     ]
    },
    {
     "name": "stdout",
     "output_type": "stream",
     "text": [
      " "
     ]
    },
    {
     "name": "stderr",
     "output_type": "stream",
     "text": [
      "WARNING:datasets.arrow_dataset:Loading cached processed dataset at /home/jxm3/.cache/huggingface/datasets/emb_inv_dpr/nq-dev/cache-4ad1f8f93f05f0b7.arrow\n"
     ]
    },
    {
     "name": "stdout",
     "output_type": "stream",
     "text": [
      " "
     ]
    },
    {
     "name": "stderr",
     "output_type": "stream",
     "text": [
      "WARNING:datasets.arrow_dataset:Loading cached processed dataset at /home/jxm3/.cache/huggingface/datasets/emb_inv_dpr/nq-dev/cache-2649f292bded60dc.arrow\n"
     ]
    },
    {
     "name": "stdout",
     "output_type": "stream",
     "text": [
      " "
     ]
    },
    {
     "name": "stderr",
     "output_type": "stream",
     "text": [
      "WARNING:datasets.arrow_dataset:Loading cached processed dataset at /home/jxm3/.cache/huggingface/datasets/emb_inv_dpr/nq-dev/cache-28c8b37e56ed0eb4.arrow\n"
     ]
    },
    {
     "name": "stdout",
     "output_type": "stream",
     "text": [
      " "
     ]
    },
    {
     "name": "stderr",
     "output_type": "stream",
     "text": [
      "WARNING:datasets.arrow_dataset:Loading cached processed dataset at /home/jxm3/.cache/huggingface/datasets/emb_inv_dpr/nq-dev/cache-d6492d3b84c3e0b1.arrow\n",
      "Using cuda_amp half precision backend\n",
      "Loading model from /home/jxm3/research/retrieval/inversion/saves/c9a30cba01655d513e46040f949f6da7.\n",
      "***** Running Evaluation *****\n",
      "  Num examples = 400\n",
      "  Batch size = 8\n"
     ]
    },
    {
     "data": {
      "text/html": [
       "\n",
       "    <div>\n",
       "      \n",
       "      <progress value='496' max='50' style='width:300px; height:20px; vertical-align: middle;'></progress>\n",
       "      [50/50 41:42]\n",
       "    </div>\n",
       "    "
      ],
      "text/plain": [
       "<IPython.core.display.HTML object>"
      ]
     },
     "metadata": {},
     "output_type": "display_data"
    },
    {
     "name": "stderr",
     "output_type": "stream",
     "text": [
      "Automatic Weights & Biases logging enabled, to disable set os.environ[\"WANDB_DISABLED\"] = \"true\"                                               \n"
     ]
    },
    {
     "name": "stdout",
     "output_type": "stream",
     "text": [
      "metrics: {'eval_loss': 2.6037161350250244, 'eval_bleu_score': 7.5013414898752355, 'eval_accuracy': 0.481796875, 'eval_perplexity': 13.513864183564078, 'eval_runtime': 52.9559, 'eval_samples_per_second': 7.553, 'eval_steps_per_second': 0.944, 'eval_samples': 400}\n"
     ]
    }
   ],
   "source": [
    "import os\n",
    "import shlex\n",
    "\n",
    "import datasets\n",
    "import torch\n",
    "from transformers import AutoTokenizer, HfArgumentParser, set_seed\n",
    "from transformers.trainer_utils import get_last_checkpoint\n",
    "\n",
    "from collator import CustomCollator\n",
    "from data_helpers import load_dpr_corpus, NQ_DEV, NQ_TRAIN\n",
    "from models import load_encoder_decoder, load_embedder_and_tokenizer, InversionModel\n",
    "from run_args import ModelArguments, DataTrainingArguments, TrainingArguments\n",
    "from tokenize_data import tokenize_function\n",
    "from trainers import InversionTrainer\n",
    "\n",
    "del os.environ[\"WANDB_DISABLED\"]\n",
    "#############################################################################\n",
    "\n",
    "DEFAULT_ARGS_STR = '--per_device_train_batch_size 128 --per_device_eval_batch_size 256 --max_seq_length 64 --model_name_or_path t5-base --embedder_model_name dpr --num_repeat_tokens 16 --embedder_no_grad True --exp_group_name mar9-freeze --learning_rate 0.0002 --freeze_strategy none --num_train_epochs 12 --max_eval_samples 400 --eval_steps 8000 --warmup_steps 6000 --bf16=1 --use_wandb=1'\n",
    "DEFAULT_ARGS = shlex.split(DEFAULT_ARGS_STR)\n",
    "DEFAULT_ARGS += ['--use_wandb', '0']\n",
    "DEFAULT_ARGS += ['--bf16', '1']\n",
    "\n",
    "parser = HfArgumentParser((ModelArguments, DataTrainingArguments, TrainingArguments))\n",
    "model_args, data_args, training_args = parser.parse_args_into_dataclasses(args=DEFAULT_ARGS)\n",
    "\n",
    "checkpoint = '/home/jxm3/research/retrieval/inversion/saves/c9a30cba01655d513e46040f949f6da7'\n",
    "training_args = torch.load(os.path.join(checkpoint, 'training_args.bin'))\n",
    "training_args.use_wandb = False\n",
    "\n",
    "set_seed(training_args.seed)\n",
    "\n",
    "#############################################################################\n",
    "tokenizer = AutoTokenizer.from_pretrained(\n",
    "    model_args.model_name_or_path,\n",
    "    padding=True,\n",
    "    truncation='max_length',\n",
    "    max_length=model_args.max_seq_length,\n",
    ")\n",
    "embedder, embedder_tokenizer = load_embedder_and_tokenizer(\n",
    "    name=model_args.embedder_model_name\n",
    ")\n",
    "model = InversionModel(\n",
    "    embedder=embedder,\n",
    "    embedder_tokenizer=embedder_tokenizer,\n",
    "    tokenizer=tokenizer,\n",
    "    encoder_decoder=load_encoder_decoder(\n",
    "        model_name=model_args.model_name_or_path\n",
    "    ),\n",
    "    num_repeat_tokens=model_args.num_repeat_tokens,\n",
    "    embedder_no_grad=model_args.embedder_no_grad,\n",
    "    freeze_strategy=model_args.freeze_strategy,\n",
    ")\n",
    "\n",
    "#############################################################################\n",
    "\n",
    "text_column_name = \"text\"\n",
    "\n",
    "raw_datasets = datasets.DatasetDict({\n",
    "    \"train\": load_dpr_corpus(NQ_TRAIN),\n",
    "    \"validation\": load_dpr_corpus(NQ_DEV),\n",
    "})\n",
    "column_names = list(raw_datasets[\"train\"].features)\n",
    "tokenized_datasets = raw_datasets.map(\n",
    "    tokenize_function(tokenizer, embedder_tokenizer, text_column_name, model_args.max_seq_length),\n",
    "    batched=True,\n",
    "    num_proc=training_args.dataloader_num_workers,\n",
    "    remove_columns=column_names,\n",
    "    load_from_cache_file=not data_args.overwrite_cache,\n",
    "    desc=\"Running tokenizer on dataset\",\n",
    ")\n",
    "train_dataset = tokenized_datasets[\"train\"]\n",
    "eval_dataset = tokenized_datasets[\"validation\"]\n",
    "\n",
    "if data_args.max_eval_samples is not None:\n",
    "    max_eval_samples = min(len(eval_dataset), data_args.max_eval_samples)\n",
    "    eval_dataset = eval_dataset.select(range(max_eval_samples))\n",
    "\n",
    "\n",
    "#############################################################################\n",
    "\n",
    "# Initialize our Trainer\n",
    "trainer = InversionTrainer(\n",
    "    model=model,\n",
    "    args=training_args,\n",
    "    train_dataset=train_dataset,\n",
    "    eval_dataset=eval_dataset,\n",
    "    tokenizer=tokenizer,\n",
    "    data_collator=CustomCollator(tokenizer=tokenizer),\n",
    ")\n",
    "\n",
    "# *** Evaluation ***\n",
    "# checkpoint = get_last_checkpoint('/home/jxm3/research/retrieval/inversion/saves/32aae4b3d898f7a7bc70564258c08f16') # a checkpoint\n",
    "trainer._load_from_checkpoint(checkpoint)\n",
    "\n",
    "os.environ[\"WANDB_DISABLED\"] = \"true\"\n",
    "max_eval_samples = data_args.max_eval_samples if data_args.max_eval_samples is not None else len(eval_dataset)\n",
    "\n",
    "metrics = trainer.evaluate()\n",
    "metrics[\"eval_samples\"] = min(max_eval_samples, len(eval_dataset))\n",
    "\n",
    "print(\"metrics:\", metrics)"
   ]
  },
  {
   "cell_type": "code",
   "execution_count": 47,
   "id": "702a36fb-6657-4d9c-9b6f-1ed2caba5b73",
   "metadata": {},
   "outputs": [
    {
     "name": "stderr",
     "output_type": "stream",
     "text": [
      "                                                                                                                                               <00:00, 44617.45it/s]\u001b[0m"
     ]
    },
    {
     "name": "stdout",
     "output_type": "stream",
     "text": [
      "all_token_embeddings.shape: torch.Size([30522, 768])\n"
     ]
    },
    {
     "name": "stderr",
     "output_type": "stream",
     "text": [
      "\r"
     ]
    }
   ],
   "source": [
    "from utils import embed_all_tokens\n",
    "\n",
    "device = torch.device('cuda')\n",
    "trainer.model.embedded_tokens = embed_all_tokens(trainer.model, embedder_tokenizer).to(device)"
   ]
  },
  {
   "cell_type": "code",
   "execution_count": 81,
   "id": "d336303c-e316-418e-90f3-feeb26b0f865",
   "metadata": {},
   "outputs": [],
   "source": [
    "trainer.args.per_device_eval_batch_size = 128"
   ]
  },
  {
   "cell_type": "code",
   "execution_count": 112,
   "id": "8d822d80-6186-4da4-ac6c-5e9b09a8f618",
   "metadata": {},
   "outputs": [
    {
     "data": {
      "application/vnd.jupyter.widget-view+json": {
       "model_id": "480754ea52e94bd68bbfa116b00091d6",
       "version_major": 2,
       "version_minor": 0
      },
      "text/plain": [
       "  0%|          | 0/4 [00:00<?, ?it/s]"
      ]
     },
     "metadata": {},
     "output_type": "display_data"
    },
    {
     "name": "stderr",
     "output_type": "stream",
     "text": [
      "***** Running Evaluation *****\n",
      "  Num examples = 400\n",
      "  Batch size = 128\n",
      "\n",
      "generating from val:   0%|                                                                                               | 0/3 [00:00<?, ?it/s]\u001b[A\n",
      "generating from val:  33%|█████████████████████████████                                                          | 1/3 [00:01<00:03,  1.53s/it]\u001b[A\n",
      "generating from val:  67%|██████████████████████████████████████████████████████████                             | 2/3 [00:02<00:01,  1.25s/it]\u001b[A\n",
      "generating from val: 100%|███████████████████████████████████████████████████████████████████████████████████████| 3/3 [00:03<00:00,  1.17s/it]\u001b[A\n",
      "                                                                                                                                               \u001b[A"
     ]
    },
    {
     "name": "stdout",
     "output_type": "stream",
     "text": [
      "Shaun Jackson Shaun Jackson (born October 16, 1968) is an American retired professional basketball player for the Atlanta Hawks of the National Basketball Association (NBA). A 6'4\" forward, Jackson played college basketball for the University of Miami. He was named to the All-American team in his senior season and\n",
      "Alonzo Mourning Alonzo Harding Mourning Jr. (born February 8, 1970) is an American retired professional basketball player, who played most of his 15-year National Basketball Association (NBA) career for the Miami Heat. Nicknamed \"Zo\", Mourn\n",
      "\n",
      "\n",
      "\n",
      "After the second experiment, the animals were more receptive to the stimulus, and the reward was more intense. The behavior of the animals was then receptive to the stimulus, and the reward was more intense. The results of this experiment show that the animals who were receptive to the\n",
      "Then, when they stopped the stimuli, the dogs became stealthy and cautious. The experiment continued, and after many stimuli, the dogs went from unhappy to joyful and happy after the shocks stopped altogether. In the opponent-process model, this is the result of a shift over time from\n",
      "\n",
      "\n",
      "\n",
      "Svetlana Glacier Svetlana Glacier () is a glacier in the south-eastern part of the Alexander Archipelago, Antarctica. It rises to a height of, and is dominated by the ice-covered slopes\n",
      "Nosei Glacier Nosei Glacier (, ‘Lednik Nosei’ 'led-nik 'no-se-i) is the steep 1.3 km long and 1 km wide glacier draining the southeast slopes of Imeon\n"
     ]
    },
    {
     "name": "stderr",
     "output_type": "stream",
     "text": [
      "\n",
      "generating from train:   0%|                                                                                         | 0/41656 [00:00<?, ?it/s]\u001b[A\n",
      "                                                                                                                                               \u001b[A***** Running Evaluation *****\n",
      "  Num examples = 400\n",
      "  Batch size = 128\n",
      "\n",
      "generating from val:   0%|                                                                                               | 0/3 [00:00<?, ?it/s]\u001b[A\n",
      "generating from val:  33%|█████████████████████████████                                                          | 1/3 [00:01<00:03,  1.54s/it]\u001b[A\n",
      "generating from val:  67%|██████████████████████████████████████████████████████████                             | 2/3 [00:02<00:01,  1.26s/it]\u001b[A\n",
      "generating from val: 100%|███████████████████████████████████████████████████████████████████████████████████████| 3/3 [00:03<00:00,  1.17s/it]\u001b[A\n",
      "                                                                                                                                               \u001b[A"
     ]
    },
    {
     "name": "stdout",
     "output_type": "stream",
     "text": [
      "Shaun Jackson Shaun Jackson (born October 23, 1969) is an American retired professional basketball player for the Atlanta Hawks of the National Basketball Association (NBA). A 6'5\" forward, Jackson played college basketball for the University of Miami. He was named to the All-American team in his senior season and\n",
      "Alonzo Mourning Alonzo Harding Mourning Jr. (born February 8, 1970) is an American retired professional basketball player, who played most of his 15-year National Basketball Association (NBA) career for the Miami Heat. Nicknamed \"Zo\", Mourn\n",
      "\n",
      "\n",
      "\n",
      "After the second experiment, the animals were more receptive to the stimulus, and the reward was more intense. The behavior of the animals was then reacted to by the animal's mate, who was more receptive to the stimulus. The results of this experiment show that the behavior\n",
      "Then, when they stopped the stimuli, the dogs became stealthy and cautious. The experiment continued, and after many stimuli, the dogs went from unhappy to joyful and happy after the shocks stopped altogether. In the opponent-process model, this is the result of a shift over time from\n",
      "\n",
      "\n",
      "\n",
      "Svetlana Glacier Svetlana Glacier () is a glacier in the south-eastern part of the Alexander Archipelago, located on the north side of the ice-covered slopes of the southwestern slopes of the ice-\n",
      "Nosei Glacier Nosei Glacier (, ‘Lednik Nosei’ 'led-nik 'no-se-i) is the steep 1.3 km long and 1 km wide glacier draining the southeast slopes of Imeon\n"
     ]
    },
    {
     "name": "stderr",
     "output_type": "stream",
     "text": [
      "\n",
      "generating from train:   0%|                                                                                         | 0/41656 [00:00<?, ?it/s]\u001b[A\n",
      "                                                                                                                                               \u001b[A***** Running Evaluation *****\n",
      "  Num examples = 400\n",
      "  Batch size = 128\n",
      "\n",
      "generating from val:   0%|                                                                                               | 0/3 [00:00<?, ?it/s]\u001b[A\n",
      "generating from val:  33%|█████████████████████████████                                                          | 1/3 [00:01<00:03,  1.58s/it]\u001b[A\n",
      "generating from val:  67%|██████████████████████████████████████████████████████████                             | 2/3 [00:02<00:01,  1.28s/it]\u001b[A\n",
      "generating from val: 100%|███████████████████████████████████████████████████████████████████████████████████████| 3/3 [00:03<00:00,  1.18s/it]\u001b[A\n",
      "                                                                                                                                               \u001b[A"
     ]
    },
    {
     "name": "stdout",
     "output_type": "stream",
     "text": [
      "Shaun Jackson Shaun Jackson (born April 23, 1971) is an American retired professional basketball player for the Atlanta Hawks of the National Basketball Association (NBA). A 6'5\" forward, Jackson played college basketball for the University of Miami. He was named to the NBA All-Star Game in 2005 and 2006\n",
      "Alonzo Mourning Alonzo Harding Mourning Jr. (born February 8, 1970) is an American retired professional basketball player, who played most of his 15-year National Basketball Association (NBA) career for the Miami Heat. Nicknamed \"Zo\", Mourn\n",
      "\n",
      "\n",
      "\n",
      "After the animal was rewarded, the emotions returned to the same state. This is called the \"response phase\". In the \"response phase\", the emotions returned to the same state, but the behaviors were different. In the \"response phase\", the behaviors\n",
      "Then, when they stopped the stimuli, the dogs became stealthy and cautious. The experiment continued, and after many stimuli, the dogs went from unhappy to joyful and happy after the shocks stopped altogether. In the opponent-process model, this is the result of a shift over time from\n",
      "\n",
      "\n",
      "\n",
      "Savna Ice Glacier Savna Ice Glacier () is a glacier located in the north-west corner of the eastern part of the Alexander Island archipelago, in the north-west corner of the island. The glacier rises to a height of \n",
      "Nosei Glacier Nosei Glacier (, ‘Lednik Nosei’ 'led-nik 'no-se-i) is the steep 1.3 km long and 1 km wide glacier draining the southeast slopes of Imeon\n"
     ]
    },
    {
     "name": "stderr",
     "output_type": "stream",
     "text": [
      "\n",
      "generating from train:   0%|                                                                                         | 0/41656 [00:00<?, ?it/s]\u001b[A\n",
      "                                                                                                                                               \u001b[A***** Running Evaluation *****\n",
      "  Num examples = 400\n",
      "  Batch size = 128\n",
      "\n",
      "generating from val:   0%|                                                                                               | 0/3 [00:00<?, ?it/s]\u001b[A\n",
      "generating from val:  33%|█████████████████████████████                                                          | 1/3 [00:01<00:03,  1.56s/it]\u001b[A\n",
      "generating from val:  67%|██████████████████████████████████████████████████████████                             | 2/3 [00:02<00:01,  1.27s/it]\u001b[A\n",
      "generating from val: 100%|███████████████████████████████████████████████████████████████████████████████████████| 3/3 [00:03<00:00,  1.18s/it]\u001b[A\n",
      "                                                                                                                                               \u001b[A"
     ]
    },
    {
     "name": "stdout",
     "output_type": "stream",
     "text": [
      "Nasha Jackson Nasha Jackson (born April 23, 1971) is an American retired professional basketball player for the Miami Heat of the National Basketball Association (NBA). A 6-foot-7 forward, Jackson played college basketball for the University of Florida. He was named NBA All-Star Game MVP in 2005 and 2006, and\n",
      "Alonzo Mourning Alonzo Harding Mourning Jr. (born February 8, 1970) is an American retired professional basketball player, who played most of his 15-year National Basketball Association (NBA) career for the Miami Heat. Nicknamed \"Zo\", Mourn\n",
      "\n",
      "\n",
      "\n",
      "After the trial, the animal returned to the same behavior as before. This behavior was described as \"extremely fuzzy\". Animals that were punished for their actions continued to behave in a fuzzy manner, and the behaviors of the antagonists were progressively fuzzy. Animals that were punished for their actions continued\n",
      "Then, when they stopped the stimuli, the dogs became stealthy and cautious. The experiment continued, and after many stimuli, the dogs went from unhappy to joyful and happy after the shocks stopped altogether. In the opponent-process model, this is the result of a shift over time from\n",
      "\n",
      "\n",
      "\n",
      "Savig Island Savig Island () is a glacier located in the north-west corner of the Edmund Fitzgerald Expedition on the eastern edge of Dahlberg Range, Antarctica. The glacier rises to a height of, rising to a height of. The glacier drains the\n",
      "Nosei Glacier Nosei Glacier (, ‘Lednik Nosei’ 'led-nik 'no-se-i) is the steep 1.3 km long and 1 km wide glacier draining the southeast slopes of Imeon\n"
     ]
    },
    {
     "name": "stderr",
     "output_type": "stream",
     "text": [
      "\n",
      "generating from train:   0%|                                                                                         | 0/41656 [00:00<?, ?it/s]\u001b[A\n",
      "                                                                                                                                               \u001b[A***** Running Evaluation *****\n",
      "  Num examples = 400\n",
      "  Batch size = 128\n",
      "\n",
      "generating from val:   0%|                                                                                               | 0/3 [00:00<?, ?it/s]\u001b[A\n",
      "generating from val:  33%|█████████████████████████████                                                          | 1/3 [00:01<00:03,  1.54s/it]\u001b[A\n",
      "generating from val:  67%|██████████████████████████████████████████████████████████                             | 2/3 [00:02<00:01,  1.26s/it]\u001b[A\n",
      "generating from val: 100%|███████████████████████████████████████████████████████████████████████████████████████| 3/3 [00:03<00:00,  1.17s/it]\u001b[A\n",
      "                                                                                                                                               \u001b[A"
     ]
    },
    {
     "name": "stdout",
     "output_type": "stream",
     "text": [
      "Ibrahim Ibrahim Ibrahim Ibrahim Ibrahim Ibrahim Hernandez Gonzalez Toledo Trinidad Trinidad Trinidad Trinidad Trinidad Trinidad Trinidad Trinidad Trinidad Trinidad Trinidad Trinidad Trinidad Trinidad Trinidad Trinidad Trinidad Trinidad Trinidad Trinidad Trinidad Trinidad Trinidad Trinidad Trinidad Trinidad Trinidad Trinidad Trinidad Trinidad Trinidad Trinidad Trinidad Trinidad Trinidad Trinidad Trinidad Trinidad Trinidad Trinidad Trinidad Trinidad Trinidad Trinidad Trinidad Trinidad Trinidad Trinidad Trinidad Trinidad Trinidad Trinidad Trinidad Trinidad\n",
      "Alonzo Mourning Alonzo Harding Mourning Jr. (born February 8, 1970) is an American retired professional basketball player, who played most of his 15-year National Basketball Association (NBA) career for the Miami Heat. Nicknamed \"Zo\", Mourn\n",
      "\n",
      "\n",
      "\n",
      "Comparison ensue ensue chronological chronological chronological chronological chronological chronological chronological chronological chronological chronological chronological chronological chronological chronological chronological chronological chronological chronological chronological chronological chronological chronological chronological chronological chronological chronological chronological chronological chronological chronological chronological chronological chronological chronological chronological chronological chronological chronological chronological chronological chronological chronological chronological chronological chronological chronological chronological chronological chronological chronological chronological chronological chronological chronological chronological chronological chronological chronological chronological chronological\n",
      "Then, when they stopped the stimuli, the dogs became stealthy and cautious. The experiment continued, and after many stimuli, the dogs went from unhappy to joyful and happy after the shocks stopped altogether. In the opponent-process model, this is the result of a shift over time from\n",
      "\n",
      "\n",
      "\n",
      "Paoliolo Expedition Paoliolo Expedition Expedition Expedition Expedition Expedition Expedition Expedition Expedition Expedition Expedition Expedition Expedition Expedition Expedition Expedition Expedition Expedition Expedition Expedition Expedition Expedition Expedition Expedition Expedition Expedition Expedition Expedition Expedition Expedition Expedition Expedition Expedition Expedition Expedition Expedition Expedition Expedition Expedition Expedition Expedition Expedition Expedition Expedition Expedition Expedition Expedition Expedition Expedition Expedition Expedition Expedition Expedition Expedition Expedition Expedition Expedition Expedition Expedition\n",
      "Nosei Glacier Nosei Glacier (, ‘Lednik Nosei’ 'led-nik 'no-se-i) is the steep 1.3 km long and 1 km wide glacier draining the southeast slopes of Imeon\n"
     ]
    },
    {
     "name": "stderr",
     "output_type": "stream",
     "text": [
      "\n",
      "generating from train:   0%|                                                                                         | 0/41656 [00:00<?, ?it/s]\u001b[A\n",
      "                                                                                                                                               \u001b[A***** Running Evaluation *****\n",
      "  Num examples = 400\n",
      "  Batch size = 128\n",
      "\n",
      "generating from val:   0%|                                                                                               | 0/3 [00:00<?, ?it/s]\u001b[A\n",
      "generating from val:  33%|█████████████████████████████                                                          | 1/3 [00:01<00:03,  1.67s/it]\u001b[A\n",
      "generating from val:  67%|██████████████████████████████████████████████████████████                             | 2/3 [00:02<00:01,  1.32s/it]\u001b[A\n",
      "generating from val: 100%|███████████████████████████████████████████████████████████████████████████████████████| 3/3 [00:03<00:00,  1.21s/it]\u001b[A\n",
      "                                                                                                                                               \u001b[A"
     ]
    },
    {
     "name": "stdout",
     "output_type": "stream",
     "text": [
      "Ibrahim Ibrahim Ibrahim Ibrahim Ibrahim Ibrahim Hernandez Gonzalez Toledo Trinidad Trinidad Trinidad Trinidad Trinidad Trinidad Trinidad Trinidad Trinidad Trinidad Trinidad Trinidad Trinidad Trinidad Trinidad Trinidad Trinidad Trinidad Trinidad Trinidad Trinidad Trinidad Trinidad Trinidad Trinidad Trinidad Trinidad Trinidad Trinidad Trinidad Trinidad Trinidad Trinidad Trinidad Trinidad Trinidad Trinidad Trinidad Trinidad Trinidad Trinidad Trinidad Trinidad Trinidad Trinidad Trinidad Trinidad Trinidad Trinidad Trinidad Trinidad Trinidad Trinidad Trinidad\n",
      "Alonzo Mourning Alonzo Harding Mourning Jr. (born February 8, 1970) is an American retired professional basketball player, who played most of his 15-year National Basketball Association (NBA) career for the Miami Heat. Nicknamed \"Zo\", Mourn\n",
      "\n",
      "\n",
      "\n",
      "Comparison ensue ensue chronological chronological chronological chronological chronological chronological chronological chronological chronological chronological chronological chronological chronological chronological chronological chronological chronological chronological chronological chronological chronological chronological chronological chronological chronological chronological chronological chronological chronological chronological chronological chronological chronological chronological chronological chronological chronological chronological chronological chronological chronological chronological chronological chronological chronological chronological chronological chronological chronological chronological chronological chronological chronological chronological chronological chronological chronological chronological chronological chronological\n",
      "Then, when they stopped the stimuli, the dogs became stealthy and cautious. The experiment continued, and after many stimuli, the dogs went from unhappy to joyful and happy after the shocks stopped altogether. In the opponent-process model, this is the result of a shift over time from\n",
      "\n",
      "\n",
      "\n",
      "Paoliolo Expedition Paoliolo Expedition Expedition Expedition Expedition Expedition Expedition Expedition Expedition Expedition Expedition Expedition Expedition Expedition Expedition Expedition Expedition Expedition Expedition Expedition Expedition Expedition Expedition Expedition Expedition Expedition Expedition Expedition Expedition Expedition Expedition Expedition Expedition Expedition Expedition Expedition Expedition Expedition Expedition Expedition Expedition Expedition Expedition Expedition Expedition Expedition Expedition Expedition Expedition Expedition Expedition Expedition Expedition Expedition Expedition Expedition Expedition Expedition Expedition\n",
      "Nosei Glacier Nosei Glacier (, ‘Lednik Nosei’ 'led-nik 'no-se-i) is the steep 1.3 km long and 1 km wide glacier draining the southeast slopes of Imeon\n"
     ]
    },
    {
     "name": "stderr",
     "output_type": "stream",
     "text": [
      "\n",
      "generating from train:   0%|                                                                                         | 0/41656 [00:00<?, ?it/s]\u001b[A\n",
      "                                                                                                                                               \u001b[A***** Running Evaluation *****\n",
      "  Num examples = 400\n",
      "  Batch size = 128\n",
      "\n",
      "generating from val:   0%|                                                                                               | 0/3 [00:00<?, ?it/s]\u001b[A\n",
      "generating from val:  33%|█████████████████████████████                                                          | 1/3 [00:01<00:03,  1.57s/it]\u001b[A\n",
      "generating from val:  67%|██████████████████████████████████████████████████████████                             | 2/3 [00:02<00:01,  1.28s/it]\u001b[A\n",
      "generating from val: 100%|███████████████████████████████████████████████████████████████████████████████████████| 3/3 [00:03<00:00,  1.18s/it]\u001b[A\n",
      "                                                                                                                                               \u001b[A"
     ]
    },
    {
     "name": "stdout",
     "output_type": "stream",
     "text": [
      "Shaun Jackson Shaun Jackson (born August 6, 1968) is an American retired professional basketball player for the Atlanta Hawks of the National Basketball Association (NBA). A 6'4\" forward, Jackson played college basketball for the University of Miami. He was named to the All-American team in his senior season and\n",
      "Alonzo Mourning Alonzo Harding Mourning Jr. (born February 8, 1970) is an American retired professional basketball player, who played most of his 15-year National Basketball Association (NBA) career for the Miami Heat. Nicknamed \"Zo\", Mourn\n",
      "\n",
      "\n",
      "\n",
      "After the second experiment, the animals were more receptive to the stimulus, and the reward was more intense. The behavior of the animals was then receptive to the stimulus, and the reward was more intense. The results of this experiment show that the animals who were receptive to the\n",
      "Then, when they stopped the stimuli, the dogs became stealthy and cautious. The experiment continued, and after many stimuli, the dogs went from unhappy to joyful and happy after the shocks stopped altogether. In the opponent-process model, this is the result of a shift over time from\n",
      "\n",
      "\n",
      "\n",
      "Svetlana Glacier Svetlana Glacier () is a glacier in the south-eastern part of the Irkutsk Peninsula in the Arctic Ocean. The glacier rises to a height of, and is dominated by the ice\n",
      "Nosei Glacier Nosei Glacier (, ‘Lednik Nosei’ 'led-nik 'no-se-i) is the steep 1.3 km long and 1 km wide glacier draining the southeast slopes of Imeon\n"
     ]
    },
    {
     "name": "stderr",
     "output_type": "stream",
     "text": [
      "\n",
      "generating from train:   0%|                                                                                         | 0/41656 [00:00<?, ?it/s]\u001b[A\n",
      "                                                                                                                                               \u001b[A***** Running Evaluation *****\n",
      "  Num examples = 400\n",
      "  Batch size = 128\n",
      "\n",
      "generating from val:   0%|                                                                                               | 0/3 [00:00<?, ?it/s]\u001b[A\n",
      "generating from val:  33%|█████████████████████████████                                                          | 1/3 [00:01<00:03,  1.58s/it]\u001b[A\n",
      "generating from val:  67%|██████████████████████████████████████████████████████████                             | 2/3 [00:02<00:01,  1.28s/it]\u001b[A\n",
      "generating from val: 100%|███████████████████████████████████████████████████████████████████████████████████████| 3/3 [00:03<00:00,  1.18s/it]\u001b[A\n",
      "                                                                                                                                               \u001b[A"
     ]
    },
    {
     "name": "stdout",
     "output_type": "stream",
     "text": [
      "Shaun Jackson Shaun Jackson (born August 6, 1968) is an American retired professional basketball player for the Atlanta Hawks of the National Basketball Association (NBA). A 6'4\" forward, Jackson played college basketball for the University of Miami. He was named to the All-American team in his senior season and\n",
      "Alonzo Mourning Alonzo Harding Mourning Jr. (born February 8, 1970) is an American retired professional basketball player, who played most of his 15-year National Basketball Association (NBA) career for the Miami Heat. Nicknamed \"Zo\", Mourn\n",
      "\n",
      "\n",
      "\n",
      "After the second experiment, the animals were more receptive to the stimulus, and the reward was more intense. The behavior of the animals was then receptive to the stimulus, and the reward was more intense. The results of this experiment show that the animals who were receptive to the\n",
      "Then, when they stopped the stimuli, the dogs became stealthy and cautious. The experiment continued, and after many stimuli, the dogs went from unhappy to joyful and happy after the shocks stopped altogether. In the opponent-process model, this is the result of a shift over time from\n",
      "\n",
      "\n",
      "\n",
      "Svetlana Glacier Svetlana Glacier () is a glacier in the south-eastern part of the Irkutsk Peninsula in the Arctic Ocean. The glacier rises to a height of, and is dominated by the ice\n",
      "Nosei Glacier Nosei Glacier (, ‘Lednik Nosei’ 'led-nik 'no-se-i) is the steep 1.3 km long and 1 km wide glacier draining the southeast slopes of Imeon\n"
     ]
    },
    {
     "name": "stderr",
     "output_type": "stream",
     "text": [
      "\n",
      "generating from train:   0%|                                                                                         | 0/41656 [00:00<?, ?it/s]\u001b[A\n",
      "                                                                                                                                               \u001b[A***** Running Evaluation *****\n",
      "  Num examples = 400\n",
      "  Batch size = 128\n",
      "\n",
      "generating from val:   0%|                                                                                               | 0/3 [00:00<?, ?it/s]\u001b[A\n",
      "generating from val:  33%|█████████████████████████████                                                          | 1/3 [00:01<00:03,  1.58s/it]\u001b[A\n",
      "generating from val:  67%|██████████████████████████████████████████████████████████                             | 2/3 [00:02<00:01,  1.28s/it]\u001b[A\n",
      "generating from val: 100%|███████████████████████████████████████████████████████████████████████████████████████| 3/3 [00:03<00:00,  1.19s/it]\u001b[A\n",
      "                                                                                                                                               \u001b[A"
     ]
    },
    {
     "name": "stdout",
     "output_type": "stream",
     "text": [
      "Shaun Jackson Shaun Jackson (born August 6, 1968) is an American retired professional basketball player for the Atlanta Hawks of the National Basketball Association (NBA). A 6'4\" forward, Jackson played college basketball for the University of Miami. He was named to the All-American team in his senior season and\n",
      "Alonzo Mourning Alonzo Harding Mourning Jr. (born February 8, 1970) is an American retired professional basketball player, who played most of his 15-year National Basketball Association (NBA) career for the Miami Heat. Nicknamed \"Zo\", Mourn\n",
      "\n",
      "\n",
      "\n",
      "After the second experiment, the animals were more receptive to the stimulus, and the reward was more intense. The behavior of the animals was then receptive to the stimulus, and the reward was more intense. The results of this experiment show that the animals who were receptive to the\n",
      "Then, when they stopped the stimuli, the dogs became stealthy and cautious. The experiment continued, and after many stimuli, the dogs went from unhappy to joyful and happy after the shocks stopped altogether. In the opponent-process model, this is the result of a shift over time from\n",
      "\n",
      "\n",
      "\n",
      "Svetlana Glacier Svetlana Glacier () is a glacier in the south-eastern part of the Alexander Archipelago, Antarctica. It rises to a height of, and is dominated by the ice-covered slopes\n",
      "Nosei Glacier Nosei Glacier (, ‘Lednik Nosei’ 'led-nik 'no-se-i) is the steep 1.3 km long and 1 km wide glacier draining the southeast slopes of Imeon\n"
     ]
    },
    {
     "name": "stderr",
     "output_type": "stream",
     "text": [
      "\n",
      "generating from train:   0%|                                                                                         | 0/41656 [00:00<?, ?it/s]\u001b[A\n",
      "                                                                                                                                               \u001b[A***** Running Evaluation *****\n",
      "  Num examples = 400\n",
      "  Batch size = 128\n",
      "\n",
      "generating from val:   0%|                                                                                               | 0/3 [00:00<?, ?it/s]\u001b[A\n",
      "generating from val:  33%|█████████████████████████████                                                          | 1/3 [00:01<00:03,  1.59s/it]\u001b[A\n",
      "generating from val:  67%|██████████████████████████████████████████████████████████                             | 2/3 [00:02<00:01,  1.28s/it]\u001b[A\n",
      "generating from val: 100%|███████████████████████████████████████████████████████████████████████████████████████| 3/3 [00:03<00:00,  1.19s/it]\u001b[A\n",
      "                                                                                                                                               \u001b[A"
     ]
    },
    {
     "name": "stdout",
     "output_type": "stream",
     "text": [
      "Shaun Jackson Shaun Jackson (born October 23, 1969) is an American retired professional basketball player for the Atlanta Hawks of the National Basketball Association (NBA). A 6'4\" forward, Jackson played college basketball for the University of Miami. He was named to the All-American team in his senior season and\n",
      "Alonzo Mourning Alonzo Harding Mourning Jr. (born February 8, 1970) is an American retired professional basketball player, who played most of his 15-year National Basketball Association (NBA) career for the Miami Heat. Nicknamed \"Zo\", Mourn\n",
      "\n",
      "\n",
      "\n",
      "After the second experiment, the animals were more receptive to the stimulus, and the reward was more intense. The behavior of the animals was then reacted to by the animal's mate, who was more receptive to the stimulus. The results of this experiment show that the behavior\n",
      "Then, when they stopped the stimuli, the dogs became stealthy and cautious. The experiment continued, and after many stimuli, the dogs went from unhappy to joyful and happy after the shocks stopped altogether. In the opponent-process model, this is the result of a shift over time from\n",
      "\n",
      "\n",
      "\n",
      "Svetlana Glacier Svetlana Glacier () is a glacier in the south-eastern part of the Alexander Archipelago, located on the north side of the ice-covered slopes of the southwestern slopes of the ice-\n",
      "Nosei Glacier Nosei Glacier (, ‘Lednik Nosei’ 'led-nik 'no-se-i) is the steep 1.3 km long and 1 km wide glacier draining the southeast slopes of Imeon\n"
     ]
    },
    {
     "name": "stderr",
     "output_type": "stream",
     "text": [
      "\n",
      "generating from train:   0%|                                                                                         | 0/41656 [00:00<?, ?it/s]\u001b[A\n",
      "                                                                                                                                               \u001b[A***** Running Evaluation *****\n",
      "  Num examples = 400\n",
      "  Batch size = 128\n",
      "\n",
      "generating from val:   0%|                                                                                               | 0/3 [00:00<?, ?it/s]\u001b[A\n",
      "generating from val:  33%|█████████████████████████████                                                          | 1/3 [00:01<00:03,  1.56s/it]\u001b[A\n",
      "generating from val:  67%|██████████████████████████████████████████████████████████                             | 2/3 [00:02<00:01,  1.27s/it]\u001b[A\n",
      "generating from val: 100%|███████████████████████████████████████████████████████████████████████████████████████| 3/3 [00:03<00:00,  1.18s/it]\u001b[A\n",
      "                                                                                                                                               \u001b[A"
     ]
    },
    {
     "name": "stdout",
     "output_type": "stream",
     "text": [
      "Nasha Jackson Nasha Jackson (born April 23, 1971) is an American retired professional basketball player for the Miami Heat of the National Basketball Association (NBA). A 6-foot-7 forward, Jackson played college basketball for the University of Miami. He was named to the NBA All-Star Game in 2005 and 2006,\n",
      "Alonzo Mourning Alonzo Harding Mourning Jr. (born February 8, 1970) is an American retired professional basketball player, who played most of his 15-year National Basketball Association (NBA) career for the Miami Heat. Nicknamed \"Zo\", Mourn\n",
      "\n",
      "\n",
      "\n",
      "After the trial, the animal returned to the same behavior as before. This behavior was described as \"extremely happy\". Animals that were punished for their actions were more happy, and those who were punished for their actions were more happy. This correlates with the heightened emotions of the animal, which are\n",
      "Then, when they stopped the stimuli, the dogs became stealthy and cautious. The experiment continued, and after many stimuli, the dogs went from unhappy to joyful and happy after the shocks stopped altogether. In the opponent-process model, this is the result of a shift over time from\n",
      "\n",
      "\n",
      "\n",
      "Savig Island Savig Island () is a glacier located in the north-west corner of the Edmund Fitzgerald Range, Antarctica. The glacier rises to a height of, rising to a height of. The glacier drains the northwest corner of Fitzgerald Glacier and the\n",
      "Nosei Glacier Nosei Glacier (, ‘Lednik Nosei’ 'led-nik 'no-se-i) is the steep 1.3 km long and 1 km wide glacier draining the southeast slopes of Imeon\n"
     ]
    },
    {
     "name": "stderr",
     "output_type": "stream",
     "text": [
      "\n",
      "generating from train:   0%|                                                                                         | 0/41656 [00:00<?, ?it/s]\u001b[A\n",
      "                                                                                                                                               \u001b[A***** Running Evaluation *****\n",
      "  Num examples = 400\n",
      "  Batch size = 128\n",
      "\n",
      "generating from val:   0%|                                                                                               | 0/3 [00:00<?, ?it/s]\u001b[A\n",
      "generating from val:  33%|█████████████████████████████                                                          | 1/3 [00:01<00:03,  1.58s/it]\u001b[A\n",
      "generating from val:  67%|██████████████████████████████████████████████████████████                             | 2/3 [00:02<00:01,  1.28s/it]\u001b[A\n",
      "generating from val: 100%|███████████████████████████████████████████████████████████████████████████████████████| 3/3 [00:03<00:00,  1.19s/it]\u001b[A\n",
      "                                                                                                                                               \u001b[A"
     ]
    },
    {
     "name": "stdout",
     "output_type": "stream",
     "text": [
      "Ibrahim Ibrahim Ibrahim Ibrahim Ibrahim Ibrahim Hernandez Gonzalez Toledo Trinidad Trinidad Trinidad Trinidad Trinidad Trinidad Trinidad Trinidad Trinidad Trinidad Trinidad Trinidad Trinidad Trinidad Trinidad Trinidad Trinidad Trinidad Trinidad Trinidad Trinidad Trinidad Trinidad Trinidad Trinidad Trinidad Trinidad Trinidad Trinidad Trinidad Trinidad Trinidad Trinidad Trinidad Trinidad Trinidad Trinidad Trinidad Trinidad Trinidad Trinidad Trinidad Trinidad Trinidad Trinidad Trinidad Trinidad Trinidad Trinidad Trinidad Trinidad Trinidad Trinidad Trinidad\n",
      "Alonzo Mourning Alonzo Harding Mourning Jr. (born February 8, 1970) is an American retired professional basketball player, who played most of his 15-year National Basketball Association (NBA) career for the Miami Heat. Nicknamed \"Zo\", Mourn\n",
      "\n",
      "\n",
      "\n",
      "Comparison ensue ensue chronological chronological chronological chronological chronological chronological chronological chronological chronological chronological chronological chronological chronological chronological chronological chronological chronological chronological chronological chronological chronological chronological chronological chronological chronological chronological chronological chronological chronological chronological chronological chronological chronological chronological chronological chronological chronological chronological chronological chronological chronological chronological chronological chronological chronological chronological chronological chronological chronological chronological chronological chronological chronological chronological chronological chronological chronological chronological chronological chronological\n",
      "Then, when they stopped the stimuli, the dogs became stealthy and cautious. The experiment continued, and after many stimuli, the dogs went from unhappy to joyful and happy after the shocks stopped altogether. In the opponent-process model, this is the result of a shift over time from\n",
      "\n",
      "\n",
      "\n",
      "Paoliolo Expedition Paoliolo Expedition Expedition Expedition Expedition Expedition Expedition Expedition Expedition Expedition Expedition Expedition Expedition Expedition Expedition Expedition Expedition Expedition Expedition Expedition Expedition Expedition Expedition Expedition Expedition Expedition Expedition Expedition Expedition Expedition Expedition Expedition Expedition Expedition Expedition Expedition Expedition Expedition Expedition Expedition Expedition Expedition Expedition Expedition Expedition Expedition Expedition Expedition Expedition Expedition Expedition Expedition Expedition Expedition Expedition Expedition Expedition Expedition Expedition\n",
      "Nosei Glacier Nosei Glacier (, ‘Lednik Nosei’ 'led-nik 'no-se-i) is the steep 1.3 km long and 1 km wide glacier draining the southeast slopes of Imeon\n"
     ]
    },
    {
     "name": "stderr",
     "output_type": "stream",
     "text": [
      "\n",
      "generating from train:   0%|                                                                                         | 0/41656 [00:00<?, ?it/s]\u001b[A\n",
      "                                                                                                                                               \u001b[A***** Running Evaluation *****\n",
      "  Num examples = 400\n",
      "  Batch size = 128\n",
      "\n",
      "generating from val:   0%|                                                                                               | 0/3 [00:00<?, ?it/s]\u001b[A\n",
      "generating from val:  33%|█████████████████████████████                                                          | 1/3 [00:01<00:03,  1.68s/it]\u001b[A\n",
      "generating from val:  67%|██████████████████████████████████████████████████████████                             | 2/3 [00:02<00:01,  1.39s/it]\u001b[A\n",
      "generating from val: 100%|███████████████████████████████████████████████████████████████████████████████████████| 3/3 [00:04<00:00,  1.33s/it]\u001b[A\n",
      "                                                                                                                                               \u001b[A"
     ]
    },
    {
     "name": "stdout",
     "output_type": "stream",
     "text": [
      "Shaun Jackson Shaun Jackson (born August 6, 1968) is an American retired professional basketball player for the Atlanta Hawks of the National Basketball Association (NBA). A 6'4\" forward, Jackson played college basketball for the University of Miami. He was named to the All-American team in his senior season and\n",
      "Alonzo Mourning Alonzo Harding Mourning Jr. (born February 8, 1970) is an American retired professional basketball player, who played most of his 15-year National Basketball Association (NBA) career for the Miami Heat. Nicknamed \"Zo\", Mourn\n",
      "\n",
      "\n",
      "\n",
      "After the second experiment, the animals were more receptive to the stimulus, and the behavior was more receptive to the stimulus. The results showed that the behavior of the receptive animal was receptive to the stimulus, and the behavior of the receptive animal was\n",
      "Then, when they stopped the stimuli, the dogs became stealthy and cautious. The experiment continued, and after many stimuli, the dogs went from unhappy to joyful and happy after the shocks stopped altogether. In the opponent-process model, this is the result of a shift over time from\n",
      "\n",
      "\n",
      "\n",
      "Svetlana Glacier Svetlana Glacier () is a glacier in the south-eastern part of the Irkutsk Peninsula in the Arctic Ocean. The glacier rises to a height of, and is dominated by the ice\n",
      "Nosei Glacier Nosei Glacier (, ‘Lednik Nosei’ 'led-nik 'no-se-i) is the steep 1.3 km long and 1 km wide glacier draining the southeast slopes of Imeon\n"
     ]
    },
    {
     "name": "stderr",
     "output_type": "stream",
     "text": [
      "\n",
      "generating from train:   0%|                                                                                         | 0/41656 [00:00<?, ?it/s]\u001b[A\n",
      "                                                                                                                                               \u001b[A***** Running Evaluation *****\n",
      "  Num examples = 400\n",
      "  Batch size = 128\n",
      "\n",
      "generating from val:   0%|                                                                                               | 0/3 [00:00<?, ?it/s]\u001b[A\n",
      "generating from val:  33%|█████████████████████████████                                                          | 1/3 [00:01<00:03,  1.54s/it]\u001b[A\n",
      "generating from val:  67%|██████████████████████████████████████████████████████████                             | 2/3 [00:02<00:01,  1.25s/it]\u001b[A\n",
      "generating from val: 100%|███████████████████████████████████████████████████████████████████████████████████████| 3/3 [00:03<00:00,  1.16s/it]\u001b[A\n",
      "                                                                                                                                               \u001b[A"
     ]
    },
    {
     "name": "stdout",
     "output_type": "stream",
     "text": [
      "Shaun Jackson Shaun Jackson (born August 6, 1968) is an American retired professional basketball player for the Atlanta Hawks of the National Basketball Association (NBA). A 6'4\" forward, Jackson played college basketball for the University of Miami. He was named to the All-American team in his senior season and\n",
      "Alonzo Mourning Alonzo Harding Mourning Jr. (born February 8, 1970) is an American retired professional basketball player, who played most of his 15-year National Basketball Association (NBA) career for the Miami Heat. Nicknamed \"Zo\", Mourn\n",
      "\n",
      "\n",
      "\n",
      "After the second experiment, the animals were more receptive to the stimulus, and the behavior was more receptive to the stimulus. The results showed that the behavior of the receptive animal was receptive to the stimulus, and the behavior of the receptive animal was\n",
      "Then, when they stopped the stimuli, the dogs became stealthy and cautious. The experiment continued, and after many stimuli, the dogs went from unhappy to joyful and happy after the shocks stopped altogether. In the opponent-process model, this is the result of a shift over time from\n",
      "\n",
      "\n",
      "\n",
      "Svetlana Glacier Svetlana Glacier () is a glacier in the south-eastern part of the Irkutsk Peninsula in the Arctic Ocean. The glacier rises to a height of, and is dominated by the ice\n",
      "Nosei Glacier Nosei Glacier (, ‘Lednik Nosei’ 'led-nik 'no-se-i) is the steep 1.3 km long and 1 km wide glacier draining the southeast slopes of Imeon\n"
     ]
    },
    {
     "name": "stderr",
     "output_type": "stream",
     "text": [
      "\n",
      "generating from train:   0%|                                                                                         | 0/41656 [00:00<?, ?it/s]\u001b[A\n",
      "                                                                                                                                               \u001b[A***** Running Evaluation *****\n",
      "  Num examples = 400\n",
      "  Batch size = 128\n",
      "\n",
      "generating from val:   0%|                                                                                               | 0/3 [00:00<?, ?it/s]\u001b[A\n",
      "generating from val:  33%|█████████████████████████████                                                          | 1/3 [00:01<00:03,  1.58s/it]\u001b[A\n",
      "generating from val:  67%|██████████████████████████████████████████████████████████                             | 2/3 [00:02<00:01,  1.29s/it]\u001b[A\n",
      "generating from val: 100%|███████████████████████████████████████████████████████████████████████████████████████| 3/3 [00:03<00:00,  1.19s/it]\u001b[A\n",
      "                                                                                                                                               \u001b[A"
     ]
    },
    {
     "name": "stdout",
     "output_type": "stream",
     "text": [
      "Shaun Jackson Shaun Jackson (born August 6, 1968) is an American retired professional basketball player for the Atlanta Hawks of the National Basketball Association (NBA). A 6'4\" forward, Jackson played college basketball for the University of Miami. He was named to the All-American team in his senior season and\n",
      "Alonzo Mourning Alonzo Harding Mourning Jr. (born February 8, 1970) is an American retired professional basketball player, who played most of his 15-year National Basketball Association (NBA) career for the Miami Heat. Nicknamed \"Zo\", Mourn\n",
      "\n",
      "\n",
      "\n",
      "After the second experiment, the animals were more receptive to the stimulus, and the reward was more intense. The behavior of the animals was then receptive to the stimulus, and the reward was more intense. The results of this experiment show that the animals who were receptive to the\n",
      "Then, when they stopped the stimuli, the dogs became stealthy and cautious. The experiment continued, and after many stimuli, the dogs went from unhappy to joyful and happy after the shocks stopped altogether. In the opponent-process model, this is the result of a shift over time from\n",
      "\n",
      "\n",
      "\n",
      "Svetlana Glacier Svetlana Glacier () is a glacier in the south-eastern part of the Irkutsk Peninsula in the Arctic Ocean. The glacier rises to a height of, and is dominated by the ice\n",
      "Nosei Glacier Nosei Glacier (, ‘Lednik Nosei’ 'led-nik 'no-se-i) is the steep 1.3 km long and 1 km wide glacier draining the southeast slopes of Imeon\n"
     ]
    },
    {
     "name": "stderr",
     "output_type": "stream",
     "text": [
      "\n",
      "generating from train:   0%|                                                                                         | 0/41656 [00:00<?, ?it/s]\u001b[A\n",
      "                                                                                                                                               \u001b[A***** Running Evaluation *****\n",
      "  Num examples = 400\n",
      "  Batch size = 128\n",
      "\n",
      "generating from val:   0%|                                                                                               | 0/3 [00:00<?, ?it/s]\u001b[A\n",
      "generating from val:  33%|█████████████████████████████                                                          | 1/3 [00:01<00:03,  1.53s/it]\u001b[A\n",
      "generating from val:  67%|██████████████████████████████████████████████████████████                             | 2/3 [00:02<00:01,  1.26s/it]\u001b[A\n",
      "generating from val: 100%|███████████████████████████████████████████████████████████████████████████████████████| 3/3 [00:03<00:00,  1.18s/it]\u001b[A\n",
      "                                                                                                                                               \u001b[A"
     ]
    },
    {
     "name": "stdout",
     "output_type": "stream",
     "text": [
      "Shaun Jackson Shaun Jackson (born August 6, 1968) is an American retired professional basketball player for the Atlanta Hawks of the National Basketball Association (NBA). A 6'4\" forward, Jackson played college basketball for the University of Miami. He was named to the All-American team in his senior season and\n",
      "Alonzo Mourning Alonzo Harding Mourning Jr. (born February 8, 1970) is an American retired professional basketball player, who played most of his 15-year National Basketball Association (NBA) career for the Miami Heat. Nicknamed \"Zo\", Mourn\n",
      "\n",
      "\n",
      "\n",
      "After the second experiment, the animals were more receptive to the stimulus, and the reward was more intense. The behavior of the animals was then receptive to the stimulus, and the reward was more intense. The results of this experiment show that the animals who were receptive to the\n",
      "Then, when they stopped the stimuli, the dogs became stealthy and cautious. The experiment continued, and after many stimuli, the dogs went from unhappy to joyful and happy after the shocks stopped altogether. In the opponent-process model, this is the result of a shift over time from\n",
      "\n",
      "\n",
      "\n",
      "Svetlana Glacier Svetlana Glacier () is a glacier in the south-eastern part of the Irkutsk Peninsula in the Arctic Ocean. The glacier rises to a height of, and is dominated by the ice\n",
      "Nosei Glacier Nosei Glacier (, ‘Lednik Nosei’ 'led-nik 'no-se-i) is the steep 1.3 km long and 1 km wide glacier draining the southeast slopes of Imeon\n"
     ]
    },
    {
     "name": "stderr",
     "output_type": "stream",
     "text": [
      "\n",
      "generating from train:   0%|                                                                                         | 0/41656 [00:00<?, ?it/s]\u001b[A\n",
      "                                                                                                                                               \u001b[A***** Running Evaluation *****\n",
      "  Num examples = 400\n",
      "  Batch size = 128\n",
      "\n",
      "generating from val:   0%|                                                                                               | 0/3 [00:00<?, ?it/s]\u001b[A\n",
      "generating from val:  33%|█████████████████████████████                                                          | 1/3 [00:01<00:03,  1.57s/it]\u001b[A\n",
      "generating from val:  67%|██████████████████████████████████████████████████████████                             | 2/3 [00:02<00:01,  1.27s/it]\u001b[A\n",
      "generating from val: 100%|███████████████████████████████████████████████████████████████████████████████████████| 3/3 [00:03<00:00,  1.19s/it]\u001b[A\n",
      "                                                                                                                                               \u001b[A"
     ]
    },
    {
     "name": "stdout",
     "output_type": "stream",
     "text": [
      "Shaun Jackson Shaun Jackson (born October 23, 1969) is an American retired professional basketball player for the Atlanta Hawks of the National Basketball Association (NBA). A 6'4\" forward, Jackson played college basketball for the University of Miami. He was named to the All-American team in his senior season and\n",
      "Alonzo Mourning Alonzo Harding Mourning Jr. (born February 8, 1970) is an American retired professional basketball player, who played most of his 15-year National Basketball Association (NBA) career for the Miami Heat. Nicknamed \"Zo\", Mourn\n",
      "\n",
      "\n",
      "\n",
      "After the second experiment, the animals were more receptive to the stimulus, and the reward was more intense. The behavior of the animals was then reacted to by the animal's mate, who was more receptive to the stimulus. The results of this experiment show that the behavior\n",
      "Then, when they stopped the stimuli, the dogs became stealthy and cautious. The experiment continued, and after many stimuli, the dogs went from unhappy to joyful and happy after the shocks stopped altogether. In the opponent-process model, this is the result of a shift over time from\n",
      "\n",
      "\n",
      "\n",
      "Svetlana Glacier Svetlana Glacier () is a glacier in the south-eastern part of the Alexander Archipelago, located on the north side of the ice-covered slopes of the southwestern slopes of the ice-\n",
      "Nosei Glacier Nosei Glacier (, ‘Lednik Nosei’ 'led-nik 'no-se-i) is the steep 1.3 km long and 1 km wide glacier draining the southeast slopes of Imeon\n"
     ]
    },
    {
     "name": "stderr",
     "output_type": "stream",
     "text": [
      "\n",
      "generating from train:   0%|                                                                                         | 0/41656 [00:00<?, ?it/s]\u001b[A\n",
      "                                                                                                                                               \u001b[A***** Running Evaluation *****\n",
      "  Num examples = 400\n",
      "  Batch size = 128\n",
      "\n",
      "generating from val:   0%|                                                                                               | 0/3 [00:00<?, ?it/s]\u001b[A\n",
      "generating from val:  33%|█████████████████████████████                                                          | 1/3 [00:01<00:03,  1.78s/it]\u001b[A\n",
      "generating from val:  67%|██████████████████████████████████████████████████████████                             | 2/3 [00:02<00:01,  1.42s/it]\u001b[A\n",
      "generating from val: 100%|███████████████████████████████████████████████████████████████████████████████████████| 3/3 [00:04<00:00,  1.27s/it]\u001b[A\n",
      "                                                                                                                                               \u001b[A"
     ]
    },
    {
     "name": "stdout",
     "output_type": "stream",
     "text": [
      "Nasha Jackson Nasha Jackson (born April 23, 1971) is an American retired professional basketball player for the Miami Heat of the National Basketball Association (NBA). A 6-foot-7 forward, Jackson played college basketball for the University of Miami. He was named to the NBA All-Star Game in 2005 and 2006,\n",
      "Alonzo Mourning Alonzo Harding Mourning Jr. (born February 8, 1970) is an American retired professional basketball player, who played most of his 15-year National Basketball Association (NBA) career for the Miami Heat. Nicknamed \"Zo\", Mourn\n",
      "\n",
      "\n",
      "\n",
      "After the trial, the animal returned to the same behavior as before. This behavior was described as \"extremely happy\". Animals that were punished for their actions were more happy, and those who were punished for their actions were more happy. This correlates with the heightened emotions of the animal, which are\n",
      "Then, when they stopped the stimuli, the dogs became stealthy and cautious. The experiment continued, and after many stimuli, the dogs went from unhappy to joyful and happy after the shocks stopped altogether. In the opponent-process model, this is the result of a shift over time from\n",
      "\n",
      "\n",
      "\n",
      "Savig Island Savig Island () is a glacier located in the north-west corner of the Edmund Fitzgerald Range, Antarctica. The glacier rises to a height of, rising to a height of. The glacier drains the northwest corner of Fitzgerald Glacier and the\n",
      "Nosei Glacier Nosei Glacier (, ‘Lednik Nosei’ 'led-nik 'no-se-i) is the steep 1.3 km long and 1 km wide glacier draining the southeast slopes of Imeon\n"
     ]
    },
    {
     "name": "stderr",
     "output_type": "stream",
     "text": [
      "\n",
      "generating from train:   0%|                                                                                         | 0/41656 [00:00<?, ?it/s]\u001b[A\n",
      "                                                                                                                                               \u001b[A***** Running Evaluation *****\n",
      "  Num examples = 400\n",
      "  Batch size = 128\n",
      "\n",
      "generating from val:   0%|                                                                                               | 0/3 [00:00<?, ?it/s]\u001b[A\n",
      "generating from val:  33%|█████████████████████████████                                                          | 1/3 [00:01<00:03,  1.70s/it]\u001b[A\n",
      "generating from val:  67%|██████████████████████████████████████████████████████████                             | 2/3 [00:02<00:01,  1.36s/it]\u001b[A\n",
      "generating from val: 100%|███████████████████████████████████████████████████████████████████████████████████████| 3/3 [00:03<00:00,  1.23s/it]\u001b[A\n",
      "                                                                                                                                               \u001b[A"
     ]
    },
    {
     "name": "stdout",
     "output_type": "stream",
     "text": [
      "Shaun Jackson Shaun Jackson (born August 6, 1968) is an American retired professional basketball player for the Atlanta Hawks of the National Basketball Association (NBA). A 6'4\" forward, Jackson played college basketball for the University of Miami. He was named to the All-American team in his senior season and\n",
      "Alonzo Mourning Alonzo Harding Mourning Jr. (born February 8, 1970) is an American retired professional basketball player, who played most of his 15-year National Basketball Association (NBA) career for the Miami Heat. Nicknamed \"Zo\", Mourn\n",
      "\n",
      "\n",
      "\n",
      "After the second experiment, the animals were more receptive to the stimulus, and the behavior was more receptive to the stimulus. The results showed that the behavior of the receptive animal was receptive to the stimulus, and the behavior of the receptive animal was\n",
      "Then, when they stopped the stimuli, the dogs became stealthy and cautious. The experiment continued, and after many stimuli, the dogs went from unhappy to joyful and happy after the shocks stopped altogether. In the opponent-process model, this is the result of a shift over time from\n",
      "\n",
      "\n",
      "\n",
      "Svetlana Glacier Svetlana Glacier () is a glacier in the south-eastern part of the Irkutsk Peninsula in the Arctic Ocean. The glacier rises to a height of, and is dominated by the ice\n",
      "Nosei Glacier Nosei Glacier (, ‘Lednik Nosei’ 'led-nik 'no-se-i) is the steep 1.3 km long and 1 km wide glacier draining the southeast slopes of Imeon\n"
     ]
    },
    {
     "name": "stderr",
     "output_type": "stream",
     "text": [
      "\n",
      "generating from train:   0%|                                                                                         | 0/41656 [00:00<?, ?it/s]\u001b[A\n",
      "                                                                                                                                               \u001b[A***** Running Evaluation *****\n",
      "  Num examples = 400\n",
      "  Batch size = 128\n",
      "\n",
      "generating from val:   0%|                                                                                               | 0/3 [00:00<?, ?it/s]\u001b[A\n",
      "generating from val:  33%|█████████████████████████████                                                          | 1/3 [00:01<00:03,  1.58s/it]\u001b[A\n",
      "generating from val:  67%|██████████████████████████████████████████████████████████                             | 2/3 [00:02<00:01,  1.28s/it]\u001b[A\n",
      "generating from val: 100%|███████████████████████████████████████████████████████████████████████████████████████| 3/3 [00:03<00:00,  1.18s/it]\u001b[A\n",
      "                                                                                                                                               \u001b[A"
     ]
    },
    {
     "name": "stdout",
     "output_type": "stream",
     "text": [
      "Shaun Jackson Shaun Jackson (born August 6, 1968) is an American retired professional basketball player for the Atlanta Hawks of the National Basketball Association (NBA). A 6'4\" forward, Jackson played college basketball for the University of Miami. He was named to the All-American team in his senior season and\n",
      "Alonzo Mourning Alonzo Harding Mourning Jr. (born February 8, 1970) is an American retired professional basketball player, who played most of his 15-year National Basketball Association (NBA) career for the Miami Heat. Nicknamed \"Zo\", Mourn\n",
      "\n",
      "\n",
      "\n",
      "After the second experiment, the animals were more receptive to the stimulus, and the behavior was more receptive to the stimulus. The results showed that the behavior of the receptive animal was receptive to the stimulus, and the behavior of the receptive animal was\n",
      "Then, when they stopped the stimuli, the dogs became stealthy and cautious. The experiment continued, and after many stimuli, the dogs went from unhappy to joyful and happy after the shocks stopped altogether. In the opponent-process model, this is the result of a shift over time from\n",
      "\n",
      "\n",
      "\n",
      "Svetlana Glacier Svetlana Glacier () is a glacier in the south-eastern part of the Irkutsk Peninsula in the Arctic Ocean. The glacier rises to a height of, and is dominated by the ice\n",
      "Nosei Glacier Nosei Glacier (, ‘Lednik Nosei’ 'led-nik 'no-se-i) is the steep 1.3 km long and 1 km wide glacier draining the southeast slopes of Imeon\n"
     ]
    },
    {
     "name": "stderr",
     "output_type": "stream",
     "text": [
      "\n",
      "generating from train:   0%|                                                                                         | 0/41656 [00:00<?, ?it/s]\u001b[A\n",
      "                                                                                                                                               \u001b[A***** Running Evaluation *****\n",
      "  Num examples = 400\n",
      "  Batch size = 128\n",
      "\n",
      "generating from val:   0%|                                                                                               | 0/3 [00:00<?, ?it/s]\u001b[A\n",
      "generating from val:  33%|█████████████████████████████                                                          | 1/3 [00:01<00:03,  1.63s/it]\u001b[A\n",
      "generating from val:  67%|██████████████████████████████████████████████████████████                             | 2/3 [00:02<00:01,  1.35s/it]\u001b[A\n",
      "generating from val: 100%|███████████████████████████████████████████████████████████████████████████████████████| 3/3 [00:03<00:00,  1.26s/it]\u001b[A\n",
      "                                                                                                                                               \u001b[A"
     ]
    },
    {
     "name": "stdout",
     "output_type": "stream",
     "text": [
      "Shaun Jackson Shaun Jackson (born August 6, 1968) is an American retired professional basketball player for the Atlanta Hawks of the National Basketball Association (NBA). A 6'4\" forward, Jackson played college basketball for the University of Miami. He was named to the All-American team in his senior season and\n",
      "Alonzo Mourning Alonzo Harding Mourning Jr. (born February 8, 1970) is an American retired professional basketball player, who played most of his 15-year National Basketball Association (NBA) career for the Miami Heat. Nicknamed \"Zo\", Mourn\n",
      "\n",
      "\n",
      "\n",
      "After the second experiment, the animals were more receptive to the stimulus, and the behavior was more receptive to the stimulus. The results showed that the behavior of the receptive animal was receptive to the stimulus, and the behavior of the receptive animal was\n",
      "Then, when they stopped the stimuli, the dogs became stealthy and cautious. The experiment continued, and after many stimuli, the dogs went from unhappy to joyful and happy after the shocks stopped altogether. In the opponent-process model, this is the result of a shift over time from\n",
      "\n",
      "\n",
      "\n",
      "Svetlana Glacier Svetlana Glacier () is a glacier in the south-eastern part of the Irkutsk Peninsula in the Arctic Ocean. The glacier rises to a height of, and is dominated by the ice\n",
      "Nosei Glacier Nosei Glacier (, ‘Lednik Nosei’ 'led-nik 'no-se-i) is the steep 1.3 km long and 1 km wide glacier draining the southeast slopes of Imeon\n"
     ]
    },
    {
     "name": "stderr",
     "output_type": "stream",
     "text": [
      "\n",
      "generating from train:   0%|                                                                                         | 0/41656 [00:00<?, ?it/s]\u001b[A\n",
      "                                                                                                                                               \u001b[A***** Running Evaluation *****\n",
      "  Num examples = 400\n",
      "  Batch size = 128\n",
      "\n",
      "generating from val:   0%|                                                                                               | 0/3 [00:00<?, ?it/s]\u001b[A\n",
      "generating from val:  33%|█████████████████████████████                                                          | 1/3 [00:01<00:03,  1.57s/it]\u001b[A\n",
      "generating from val:  67%|██████████████████████████████████████████████████████████                             | 2/3 [00:02<00:01,  1.28s/it]\u001b[A\n",
      "generating from val: 100%|███████████████████████████████████████████████████████████████████████████████████████| 3/3 [00:03<00:00,  1.20s/it]\u001b[A\n",
      "                                                                                                                                               \u001b[A"
     ]
    },
    {
     "name": "stdout",
     "output_type": "stream",
     "text": [
      "Shaun Jackson Shaun Jackson (born August 6, 1968) is an American retired professional basketball player for the Atlanta Hawks of the National Basketball Association (NBA). A 6'4\" forward, Jackson played college basketball for the University of Miami. He was named to the All-American team in his senior season and\n",
      "Alonzo Mourning Alonzo Harding Mourning Jr. (born February 8, 1970) is an American retired professional basketball player, who played most of his 15-year National Basketball Association (NBA) career for the Miami Heat. Nicknamed \"Zo\", Mourn\n",
      "\n",
      "\n",
      "\n",
      "After the second experiment, the animals were more receptive to the stimulus, and the behavior was more receptive to the stimulus. The results showed that the behavior of the receptive animal was receptive to the stimulus, and the behavior of the receptive animal was\n",
      "Then, when they stopped the stimuli, the dogs became stealthy and cautious. The experiment continued, and after many stimuli, the dogs went from unhappy to joyful and happy after the shocks stopped altogether. In the opponent-process model, this is the result of a shift over time from\n",
      "\n",
      "\n",
      "\n",
      "Svetlana Glacier Svetlana Glacier () is a glacier in the south-eastern part of the Irkutsk Peninsula in the Arctic Ocean. The glacier rises to a height of, and is dominated by the ice\n",
      "Nosei Glacier Nosei Glacier (, ‘Lednik Nosei’ 'led-nik 'no-se-i) is the steep 1.3 km long and 1 km wide glacier draining the southeast slopes of Imeon\n"
     ]
    },
    {
     "name": "stderr",
     "output_type": "stream",
     "text": [
      "\n",
      "generating from train:   0%|                                                                                         | 0/41656 [00:00<?, ?it/s]\u001b[A\n",
      "                                                                                                                                               \u001b[A***** Running Evaluation *****\n",
      "  Num examples = 400\n",
      "  Batch size = 128\n",
      "\n",
      "generating from val:   0%|                                                                                               | 0/3 [00:00<?, ?it/s]\u001b[A\n",
      "generating from val:  33%|█████████████████████████████                                                          | 1/3 [00:01<00:03,  1.66s/it]\u001b[A\n",
      "generating from val:  67%|██████████████████████████████████████████████████████████                             | 2/3 [00:02<00:01,  1.32s/it]\u001b[A\n",
      "generating from val: 100%|███████████████████████████████████████████████████████████████████████████████████████| 3/3 [00:03<00:00,  1.21s/it]\u001b[A\n",
      "                                                                                                                                               \u001b[A"
     ]
    },
    {
     "name": "stdout",
     "output_type": "stream",
     "text": [
      "Shaun Jackson Shaun Jackson (born August 6, 1968) is an American retired professional basketball player for the Atlanta Hawks of the National Basketball Association (NBA). A 6'4\" forward, Jackson played college basketball for the University of Miami. He was named to the All-American team in his senior season and\n",
      "Alonzo Mourning Alonzo Harding Mourning Jr. (born February 8, 1970) is an American retired professional basketball player, who played most of his 15-year National Basketball Association (NBA) career for the Miami Heat. Nicknamed \"Zo\", Mourn\n",
      "\n",
      "\n",
      "\n",
      "After the second experiment, the animals were more receptive to the stimulus, and the reward was more intense. The behavior of the animals was then receptive to the stimulus, and the reward was more intense. The results of this experiment show that the animals who were receptive to the\n",
      "Then, when they stopped the stimuli, the dogs became stealthy and cautious. The experiment continued, and after many stimuli, the dogs went from unhappy to joyful and happy after the shocks stopped altogether. In the opponent-process model, this is the result of a shift over time from\n",
      "\n",
      "\n",
      "\n",
      "Svetlana Glacier Svetlana Glacier () is a glacier in the south-eastern part of the Irkutsk Peninsula in the Arctic Ocean. The glacier rises to a height of, and is dominated by the ice\n",
      "Nosei Glacier Nosei Glacier (, ‘Lednik Nosei’ 'led-nik 'no-se-i) is the steep 1.3 km long and 1 km wide glacier draining the southeast slopes of Imeon\n"
     ]
    },
    {
     "name": "stderr",
     "output_type": "stream",
     "text": [
      "\n",
      "generating from train:   0%|                                                                                         | 0/41656 [00:00<?, ?it/s]\u001b[A\n",
      "                                                                                                                                               \u001b[A***** Running Evaluation *****\n",
      "  Num examples = 400\n",
      "  Batch size = 128\n",
      "\n",
      "generating from val:   0%|                                                                                               | 0/3 [00:00<?, ?it/s]\u001b[A\n",
      "generating from val:  33%|█████████████████████████████                                                          | 1/3 [00:01<00:03,  1.68s/it]\u001b[A\n",
      "generating from val:  67%|██████████████████████████████████████████████████████████                             | 2/3 [00:02<00:01,  1.36s/it]\u001b[A\n",
      "generating from val: 100%|███████████████████████████████████████████████████████████████████████████████████████| 3/3 [00:03<00:00,  1.24s/it]\u001b[A\n",
      "                                                                                                                                               \u001b[A"
     ]
    },
    {
     "name": "stdout",
     "output_type": "stream",
     "text": [
      "Shaun Jackson Shaun Jackson (born October 23, 1969) is an American retired professional basketball player for the Atlanta Hawks of the National Basketball Association (NBA). A 6'4\" forward, Jackson played college basketball for the University of Miami. He was named to the All-American team in his senior season and\n",
      "Alonzo Mourning Alonzo Harding Mourning Jr. (born February 8, 1970) is an American retired professional basketball player, who played most of his 15-year National Basketball Association (NBA) career for the Miami Heat. Nicknamed \"Zo\", Mourn\n",
      "\n",
      "\n",
      "\n",
      "After the second experiment, the animals were more receptive to the stimulus, and the reward was more intense. The behavior of the animals was then reacted to by the animal's mate, who was more receptive to the stimulus. The results of this experiment show that the behavior\n",
      "Then, when they stopped the stimuli, the dogs became stealthy and cautious. The experiment continued, and after many stimuli, the dogs went from unhappy to joyful and happy after the shocks stopped altogether. In the opponent-process model, this is the result of a shift over time from\n",
      "\n",
      "\n",
      "\n",
      "Svetlana Glacier Svetlana Glacier () is a glacier in the south-eastern part of the Alexander Archipelago, located on the north side of the ice-covered slopes of the southwestern slopes of the ice-\n",
      "Nosei Glacier Nosei Glacier (, ‘Lednik Nosei’ 'led-nik 'no-se-i) is the steep 1.3 km long and 1 km wide glacier draining the southeast slopes of Imeon\n"
     ]
    },
    {
     "name": "stderr",
     "output_type": "stream",
     "text": [
      "\n",
      "generating from train:   0%|                                                                                         | 0/41656 [00:00<?, ?it/s]\u001b[A\n",
      "                                                                                                                                               \u001b[A"
     ]
    }
   ],
   "source": [
    "from tqdm.notebook import tqdm\n",
    "\n",
    "data = []\n",
    "for alpha in tqdm([0.9, 0.99, .999, 0.9999]): # , 0.999, 0.9999]):\n",
    "    for temperature in [20, 10, 2, 1, 1e-1, 1e-2]:\n",
    "        trainer.model.token_decode_alpha = alpha\n",
    "        trainer.model.token_decode_temperature = temperature\n",
    "        # print('** temperature **', temperature)\n",
    "        metrics = trainer.evaluate()\n",
    "        metrics[\"eval_samples\"] = min(max_eval_samples, len(eval_dataset))\n",
    "        metrics[\"alpha\"] = alpha\n",
    "        metrics[\"temperature\"] = temperature\n",
    "        data.append(metrics)\n"
   ]
  },
  {
   "cell_type": "code",
   "execution_count": 118,
   "id": "bdfa89e3-c35a-4ae6-982e-13871d50745b",
   "metadata": {},
   "outputs": [
    {
     "data": {
      "text/html": [
       "<div>\n",
       "<style scoped>\n",
       "    .dataframe tbody tr th:only-of-type {\n",
       "        vertical-align: middle;\n",
       "    }\n",
       "\n",
       "    .dataframe tbody tr th {\n",
       "        vertical-align: top;\n",
       "    }\n",
       "\n",
       "    .dataframe thead th {\n",
       "        text-align: right;\n",
       "    }\n",
       "</style>\n",
       "<table border=\"1\" class=\"dataframe\">\n",
       "  <thead>\n",
       "    <tr style=\"text-align: right;\">\n",
       "      <th></th>\n",
       "      <th>eval_loss</th>\n",
       "      <th>eval_bleu_score</th>\n",
       "      <th>eval_accuracy</th>\n",
       "      <th>eval_perplexity</th>\n",
       "      <th>eval_runtime</th>\n",
       "      <th>eval_samples_per_second</th>\n",
       "      <th>eval_steps_per_second</th>\n",
       "      <th>eval_samples</th>\n",
       "      <th>alpha</th>\n",
       "      <th>temperature</th>\n",
       "    </tr>\n",
       "  </thead>\n",
       "  <tbody>\n",
       "    <tr>\n",
       "      <th>0</th>\n",
       "      <td>2.600928</td>\n",
       "      <td>7.392061</td>\n",
       "      <td>0.481812</td>\n",
       "      <td>13.476233</td>\n",
       "      <td>9.3616</td>\n",
       "      <td>42.728</td>\n",
       "      <td>0.427</td>\n",
       "      <td>400</td>\n",
       "      <td>0.9</td>\n",
       "      <td>20.0</td>\n",
       "    </tr>\n",
       "    <tr>\n",
       "      <th>1</th>\n",
       "      <td>2.600928</td>\n",
       "      <td>7.300281</td>\n",
       "      <td>0.481812</td>\n",
       "      <td>13.476233</td>\n",
       "      <td>7.9090</td>\n",
       "      <td>50.576</td>\n",
       "      <td>0.506</td>\n",
       "      <td>400</td>\n",
       "      <td>0.9</td>\n",
       "      <td>10.0</td>\n",
       "    </tr>\n",
       "    <tr>\n",
       "      <th>2</th>\n",
       "      <td>2.600928</td>\n",
       "      <td>6.641757</td>\n",
       "      <td>0.481812</td>\n",
       "      <td>13.476233</td>\n",
       "      <td>7.9879</td>\n",
       "      <td>50.076</td>\n",
       "      <td>0.501</td>\n",
       "      <td>400</td>\n",
       "      <td>0.9</td>\n",
       "      <td>2.0</td>\n",
       "    </tr>\n",
       "    <tr>\n",
       "      <th>3</th>\n",
       "      <td>2.600928</td>\n",
       "      <td>5.136437</td>\n",
       "      <td>0.481812</td>\n",
       "      <td>13.476233</td>\n",
       "      <td>8.0066</td>\n",
       "      <td>49.959</td>\n",
       "      <td>0.500</td>\n",
       "      <td>400</td>\n",
       "      <td>0.9</td>\n",
       "      <td>1.0</td>\n",
       "    </tr>\n",
       "    <tr>\n",
       "      <th>4</th>\n",
       "      <td>2.600928</td>\n",
       "      <td>0.003094</td>\n",
       "      <td>0.481812</td>\n",
       "      <td>13.476233</td>\n",
       "      <td>7.9352</td>\n",
       "      <td>50.408</td>\n",
       "      <td>0.504</td>\n",
       "      <td>400</td>\n",
       "      <td>0.9</td>\n",
       "      <td>0.1</td>\n",
       "    </tr>\n",
       "  </tbody>\n",
       "</table>\n",
       "</div>"
      ],
      "text/plain": [
       "   eval_loss  eval_bleu_score  eval_accuracy  eval_perplexity  eval_runtime  \\\n",
       "0   2.600928         7.392061       0.481812        13.476233        9.3616   \n",
       "1   2.600928         7.300281       0.481812        13.476233        7.9090   \n",
       "2   2.600928         6.641757       0.481812        13.476233        7.9879   \n",
       "3   2.600928         5.136437       0.481812        13.476233        8.0066   \n",
       "4   2.600928         0.003094       0.481812        13.476233        7.9352   \n",
       "\n",
       "   eval_samples_per_second  eval_steps_per_second  eval_samples  alpha  \\\n",
       "0                   42.728                  0.427           400    0.9   \n",
       "1                   50.576                  0.506           400    0.9   \n",
       "2                   50.076                  0.501           400    0.9   \n",
       "3                   49.959                  0.500           400    0.9   \n",
       "4                   50.408                  0.504           400    0.9   \n",
       "\n",
       "   temperature  \n",
       "0         20.0  \n",
       "1         10.0  \n",
       "2          2.0  \n",
       "3          1.0  \n",
       "4          0.1  "
      ]
     },
     "execution_count": 118,
     "metadata": {},
     "output_type": "execute_result"
    }
   ],
   "source": [
    "import pandas as pd\n",
    "import seaborn as sns\n",
    "\n",
    "full_df = pd.DataFrame(data)\n",
    "full_df.head()"
   ]
  },
  {
   "cell_type": "code",
   "execution_count": 119,
   "id": "c1162d05-a254-4998-9787-e8bda08c9fa1",
   "metadata": {},
   "outputs": [],
   "source": [
    "# baseline eval_bleu_score 7.307456928008692"
   ]
  },
  {
   "cell_type": "code",
   "execution_count": 120,
   "id": "c0fcad8d-70f4-4c5b-84c0-adcc3045d9de",
   "metadata": {},
   "outputs": [
    {
     "data": {
      "text/html": [
       "<div>\n",
       "<style scoped>\n",
       "    .dataframe tbody tr th:only-of-type {\n",
       "        vertical-align: middle;\n",
       "    }\n",
       "\n",
       "    .dataframe tbody tr th {\n",
       "        vertical-align: top;\n",
       "    }\n",
       "\n",
       "    .dataframe thead th {\n",
       "        text-align: right;\n",
       "    }\n",
       "</style>\n",
       "<table border=\"1\" class=\"dataframe\">\n",
       "  <thead>\n",
       "    <tr style=\"text-align: right;\">\n",
       "      <th>temperature</th>\n",
       "      <th>0.01</th>\n",
       "      <th>0.10</th>\n",
       "      <th>1.00</th>\n",
       "      <th>2.00</th>\n",
       "      <th>10.00</th>\n",
       "      <th>20.00</th>\n",
       "    </tr>\n",
       "    <tr>\n",
       "      <th>alpha</th>\n",
       "      <th></th>\n",
       "      <th></th>\n",
       "      <th></th>\n",
       "      <th></th>\n",
       "      <th></th>\n",
       "      <th></th>\n",
       "    </tr>\n",
       "  </thead>\n",
       "  <tbody>\n",
       "    <tr>\n",
       "      <th>0.9000</th>\n",
       "      <td>0.003094</td>\n",
       "      <td>0.003094</td>\n",
       "      <td>5.136437</td>\n",
       "      <td>6.641757</td>\n",
       "      <td>7.300281</td>\n",
       "      <td>7.392061</td>\n",
       "    </tr>\n",
       "    <tr>\n",
       "      <th>0.9900</th>\n",
       "      <td>0.003095</td>\n",
       "      <td>5.633824</td>\n",
       "      <td>7.320665</td>\n",
       "      <td>7.402854</td>\n",
       "      <td>7.313378</td>\n",
       "      <td>7.284537</td>\n",
       "    </tr>\n",
       "    <tr>\n",
       "      <th>0.9990</th>\n",
       "      <td>5.636184</td>\n",
       "      <td>7.349406</td>\n",
       "      <td>7.313378</td>\n",
       "      <td>7.284928</td>\n",
       "      <td>7.286642</td>\n",
       "      <td>7.306227</td>\n",
       "    </tr>\n",
       "    <tr>\n",
       "      <th>0.9999</th>\n",
       "      <td>7.349406</td>\n",
       "      <td>7.313378</td>\n",
       "      <td>7.286642</td>\n",
       "      <td>7.306227</td>\n",
       "      <td>7.307457</td>\n",
       "      <td>7.307457</td>\n",
       "    </tr>\n",
       "  </tbody>\n",
       "</table>\n",
       "</div>"
      ],
      "text/plain": [
       "temperature     0.01      0.10      1.00      2.00      10.00     20.00\n",
       "alpha                                                                  \n",
       "0.9000       0.003094  0.003094  5.136437  6.641757  7.300281  7.392061\n",
       "0.9900       0.003095  5.633824  7.320665  7.402854  7.313378  7.284537\n",
       "0.9990       5.636184  7.349406  7.313378  7.284928  7.286642  7.306227\n",
       "0.9999       7.349406  7.313378  7.286642  7.306227  7.307457  7.307457"
      ]
     },
     "execution_count": 120,
     "metadata": {},
     "output_type": "execute_result"
    }
   ],
   "source": [
    "full_df.pivot('alpha', 'temperature', 'eval_bleu_score')"
   ]
  },
  {
   "cell_type": "code",
   "execution_count": 124,
   "id": "891dd17c-5bb7-4534-a740-aac980b3f231",
   "metadata": {},
   "outputs": [
    {
     "data": {
      "text/plain": [
       "<AxesSubplot:xlabel='temperature', ylabel='alpha'>"
      ]
     },
     "execution_count": 124,
     "metadata": {},
     "output_type": "execute_result"
    },
    {
     "data": {
      "image/png": "[encoded data removed]",
      "text/plain": [
       "<Figure size 432x288 with 2 Axes>"
      ]
     },
     "metadata": {
      "needs_background": "light"
     },
     "output_type": "display_data"
    }
   ],
   "source": [
    "df = full_df.pivot('alpha', 'temperature', 'eval_bleu_score')\n",
    "sns.heatmap(data=df, cmap='viridis')"
   ]
  },
  {
   "cell_type": "code",
   "execution_count": null,
   "id": "4904cf88-6f59-4ce3-9aa3-5aa5bdb29498",
   "metadata": {},
   "outputs": [],
   "source": []
  }
 ],
 "metadata": {
  "kernelspec": {
   "display_name": "Python 3 (ipykernel)",
   "language": "python",
   "name": "python3"
  },
  "language_info": {
   "codemirror_mode": {
    "name": "ipython",
    "version": 3
   },
   "file_extension": ".py",
   "mimetype": "text/x-python",
   "name": "python",
   "nbconvert_exporter": "python",
   "pygments_lexer": "ipython3",
   "version": "3.9.7"
  }
 },
 "nbformat": 4,
 "nbformat_minor": 5
}
