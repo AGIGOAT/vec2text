{
 "cells": [
  {
   "cell_type": "code",
   "execution_count": 1,
   "id": "3d5876d4-fad1-43a4-92e7-4c2c29d0f849",
   "metadata": {},
   "outputs": [],
   "source": [
    "import sys\n",
    "sys.path.append('..')\n",
    "\n",
    "%load_ext autoreload\n",
    "%autoreload 2"
   ]
  },
  {
   "cell_type": "code",
   "execution_count": 2,
   "id": "e8883648-c73a-4f04-ba1c-0d2356412494",
   "metadata": {},
   "outputs": [
    {
     "name": "stderr",
     "output_type": "stream",
     "text": [
      "There were missing keys in the checkpoint model loaded: ['embedder._orig_mod.embed_tokens.weight', 'embedder._orig_mod.block.0.layer.0.SelfAttention.q.weight', 'embedder._orig_mod.block.0.layer.0.SelfAttention.k.weight', 'embedder._orig_mod.block.0.layer.0.SelfAttention.v.weight', 'embedder._orig_mod.block.0.layer.0.SelfAttention.o.weight', 'embedder._orig_mod.block.0.layer.0.SelfAttention.relative_attention_bias.weight', 'embedder._orig_mod.block.0.layer.0.layer_norm.weight', 'embedder._orig_mod.block.0.layer.1.DenseReluDense.wi.weight', 'embedder._orig_mod.block.0.layer.1.DenseReluDense.wo.weight', 'embedder._orig_mod.block.0.layer.1.layer_norm.weight', 'embedder._orig_mod.block.1.layer.0.SelfAttention.q.weight', 'embedder._orig_mod.block.1.layer.0.SelfAttention.k.weight', 'embedder._orig_mod.block.1.layer.0.SelfAttention.v.weight', 'embedder._orig_mod.block.1.layer.0.SelfAttention.o.weight', 'embedder._orig_mod.block.1.layer.0.layer_norm.weight', 'embedder._orig_mod.block.1.layer.1.DenseReluDense.wi.weight', 'embedder._orig_mod.block.1.layer.1.DenseReluDense.wo.weight', 'embedder._orig_mod.block.1.layer.1.layer_norm.weight', 'embedder._orig_mod.block.2.layer.0.SelfAttention.q.weight', 'embedder._orig_mod.block.2.layer.0.SelfAttention.k.weight', 'embedder._orig_mod.block.2.layer.0.SelfAttention.v.weight', 'embedder._orig_mod.block.2.layer.0.SelfAttention.o.weight', 'embedder._orig_mod.block.2.layer.0.layer_norm.weight', 'embedder._orig_mod.block.2.layer.1.DenseReluDense.wi.weight', 'embedder._orig_mod.block.2.layer.1.DenseReluDense.wo.weight', 'embedder._orig_mod.block.2.layer.1.layer_norm.weight', 'embedder._orig_mod.block.3.layer.0.SelfAttention.q.weight', 'embedder._orig_mod.block.3.layer.0.SelfAttention.k.weight', 'embedder._orig_mod.block.3.layer.0.SelfAttention.v.weight', 'embedder._orig_mod.block.3.layer.0.SelfAttention.o.weight', 'embedder._orig_mod.block.3.layer.0.layer_norm.weight', 'embedder._orig_mod.block.3.layer.1.DenseReluDense.wi.weight', 'embedder._orig_mod.block.3.layer.1.DenseReluDense.wo.weight', 'embedder._orig_mod.block.3.layer.1.layer_norm.weight', 'embedder._orig_mod.block.4.layer.0.SelfAttention.q.weight', 'embedder._orig_mod.block.4.layer.0.SelfAttention.k.weight', 'embedder._orig_mod.block.4.layer.0.SelfAttention.v.weight', 'embedder._orig_mod.block.4.layer.0.SelfAttention.o.weight', 'embedder._orig_mod.block.4.layer.0.layer_norm.weight', 'embedder._orig_mod.block.4.layer.1.DenseReluDense.wi.weight', 'embedder._orig_mod.block.4.layer.1.DenseReluDense.wo.weight', 'embedder._orig_mod.block.4.layer.1.layer_norm.weight', 'embedder._orig_mod.block.5.layer.0.SelfAttention.q.weight', 'embedder._orig_mod.block.5.layer.0.SelfAttention.k.weight', 'embedder._orig_mod.block.5.layer.0.SelfAttention.v.weight', 'embedder._orig_mod.block.5.layer.0.SelfAttention.o.weight', 'embedder._orig_mod.block.5.layer.0.layer_norm.weight', 'embedder._orig_mod.block.5.layer.1.DenseReluDense.wi.weight', 'embedder._orig_mod.block.5.layer.1.DenseReluDense.wo.weight', 'embedder._orig_mod.block.5.layer.1.layer_norm.weight', 'embedder._orig_mod.block.6.layer.0.SelfAttention.q.weight', 'embedder._orig_mod.block.6.layer.0.SelfAttention.k.weight', 'embedder._orig_mod.block.6.layer.0.SelfAttention.v.weight', 'embedder._orig_mod.block.6.layer.0.SelfAttention.o.weight', 'embedder._orig_mod.block.6.layer.0.layer_norm.weight', 'embedder._orig_mod.block.6.layer.1.DenseReluDense.wi.weight', 'embedder._orig_mod.block.6.layer.1.DenseReluDense.wo.weight', 'embedder._orig_mod.block.6.layer.1.layer_norm.weight', 'embedder._orig_mod.block.7.layer.0.SelfAttention.q.weight', 'embedder._orig_mod.block.7.layer.0.SelfAttention.k.weight', 'embedder._orig_mod.block.7.layer.0.SelfAttention.v.weight', 'embedder._orig_mod.block.7.layer.0.SelfAttention.o.weight', 'embedder._orig_mod.block.7.layer.0.layer_norm.weight', 'embedder._orig_mod.block.7.layer.1.DenseReluDense.wi.weight', 'embedder._orig_mod.block.7.layer.1.DenseReluDense.wo.weight', 'embedder._orig_mod.block.7.layer.1.layer_norm.weight', 'embedder._orig_mod.block.8.layer.0.SelfAttention.q.weight', 'embedder._orig_mod.block.8.layer.0.SelfAttention.k.weight', 'embedder._orig_mod.block.8.layer.0.SelfAttention.v.weight', 'embedder._orig_mod.block.8.layer.0.SelfAttention.o.weight', 'embedder._orig_mod.block.8.layer.0.layer_norm.weight', 'embedder._orig_mod.block.8.layer.1.DenseReluDense.wi.weight', 'embedder._orig_mod.block.8.layer.1.DenseReluDense.wo.weight', 'embedder._orig_mod.block.8.layer.1.layer_norm.weight', 'embedder._orig_mod.block.9.layer.0.SelfAttention.q.weight', 'embedder._orig_mod.block.9.layer.0.SelfAttention.k.weight', 'embedder._orig_mod.block.9.layer.0.SelfAttention.v.weight', 'embedder._orig_mod.block.9.layer.0.SelfAttention.o.weight', 'embedder._orig_mod.block.9.layer.0.layer_norm.weight', 'embedder._orig_mod.block.9.layer.1.DenseReluDense.wi.weight', 'embedder._orig_mod.block.9.layer.1.DenseReluDense.wo.weight', 'embedder._orig_mod.block.9.layer.1.layer_norm.weight', 'embedder._orig_mod.block.10.layer.0.SelfAttention.q.weight', 'embedder._orig_mod.block.10.layer.0.SelfAttention.k.weight', 'embedder._orig_mod.block.10.layer.0.SelfAttention.v.weight', 'embedder._orig_mod.block.10.layer.0.SelfAttention.o.weight', 'embedder._orig_mod.block.10.layer.0.layer_norm.weight', 'embedder._orig_mod.block.10.layer.1.DenseReluDense.wi.weight', 'embedder._orig_mod.block.10.layer.1.DenseReluDense.wo.weight', 'embedder._orig_mod.block.10.layer.1.layer_norm.weight', 'embedder._orig_mod.block.11.layer.0.SelfAttention.q.weight', 'embedder._orig_mod.block.11.layer.0.SelfAttention.k.weight', 'embedder._orig_mod.block.11.layer.0.SelfAttention.v.weight', 'embedder._orig_mod.block.11.layer.0.SelfAttention.o.weight', 'embedder._orig_mod.block.11.layer.0.layer_norm.weight', 'embedder._orig_mod.block.11.layer.1.DenseReluDense.wi.weight', 'embedder._orig_mod.block.11.layer.1.DenseReluDense.wo.weight', 'embedder._orig_mod.block.11.layer.1.layer_norm.weight', 'embedder._orig_mod.final_layer_norm.weight'].\n",
      "There were unexpected keys in the checkpoint model loaded: ['embedder.embed_tokens.weight', 'embedder.block.0.layer.0.SelfAttention.q.weight', 'embedder.block.0.layer.0.SelfAttention.k.weight', 'embedder.block.0.layer.0.SelfAttention.v.weight', 'embedder.block.0.layer.0.SelfAttention.o.weight', 'embedder.block.0.layer.0.SelfAttention.relative_attention_bias.weight', 'embedder.block.0.layer.0.layer_norm.weight', 'embedder.block.0.layer.1.DenseReluDense.wi.weight', 'embedder.block.0.layer.1.DenseReluDense.wo.weight', 'embedder.block.0.layer.1.layer_norm.weight', 'embedder.block.1.layer.0.SelfAttention.q.weight', 'embedder.block.1.layer.0.SelfAttention.k.weight', 'embedder.block.1.layer.0.SelfAttention.v.weight', 'embedder.block.1.layer.0.SelfAttention.o.weight', 'embedder.block.1.layer.0.layer_norm.weight', 'embedder.block.1.layer.1.DenseReluDense.wi.weight', 'embedder.block.1.layer.1.DenseReluDense.wo.weight', 'embedder.block.1.layer.1.layer_norm.weight', 'embedder.block.2.layer.0.SelfAttention.q.weight', 'embedder.block.2.layer.0.SelfAttention.k.weight', 'embedder.block.2.layer.0.SelfAttention.v.weight', 'embedder.block.2.layer.0.SelfAttention.o.weight', 'embedder.block.2.layer.0.layer_norm.weight', 'embedder.block.2.layer.1.DenseReluDense.wi.weight', 'embedder.block.2.layer.1.DenseReluDense.wo.weight', 'embedder.block.2.layer.1.layer_norm.weight', 'embedder.block.3.layer.0.SelfAttention.q.weight', 'embedder.block.3.layer.0.SelfAttention.k.weight', 'embedder.block.3.layer.0.SelfAttention.v.weight', 'embedder.block.3.layer.0.SelfAttention.o.weight', 'embedder.block.3.layer.0.layer_norm.weight', 'embedder.block.3.layer.1.DenseReluDense.wi.weight', 'embedder.block.3.layer.1.DenseReluDense.wo.weight', 'embedder.block.3.layer.1.layer_norm.weight', 'embedder.block.4.layer.0.SelfAttention.q.weight', 'embedder.block.4.layer.0.SelfAttention.k.weight', 'embedder.block.4.layer.0.SelfAttention.v.weight', 'embedder.block.4.layer.0.SelfAttention.o.weight', 'embedder.block.4.layer.0.layer_norm.weight', 'embedder.block.4.layer.1.DenseReluDense.wi.weight', 'embedder.block.4.layer.1.DenseReluDense.wo.weight', 'embedder.block.4.layer.1.layer_norm.weight', 'embedder.block.5.layer.0.SelfAttention.q.weight', 'embedder.block.5.layer.0.SelfAttention.k.weight', 'embedder.block.5.layer.0.SelfAttention.v.weight', 'embedder.block.5.layer.0.SelfAttention.o.weight', 'embedder.block.5.layer.0.layer_norm.weight', 'embedder.block.5.layer.1.DenseReluDense.wi.weight', 'embedder.block.5.layer.1.DenseReluDense.wo.weight', 'embedder.block.5.layer.1.layer_norm.weight', 'embedder.block.6.layer.0.SelfAttention.q.weight', 'embedder.block.6.layer.0.SelfAttention.k.weight', 'embedder.block.6.layer.0.SelfAttention.v.weight', 'embedder.block.6.layer.0.SelfAttention.o.weight', 'embedder.block.6.layer.0.layer_norm.weight', 'embedder.block.6.layer.1.DenseReluDense.wi.weight', 'embedder.block.6.layer.1.DenseReluDense.wo.weight', 'embedder.block.6.layer.1.layer_norm.weight', 'embedder.block.7.layer.0.SelfAttention.q.weight', 'embedder.block.7.layer.0.SelfAttention.k.weight', 'embedder.block.7.layer.0.SelfAttention.v.weight', 'embedder.block.7.layer.0.SelfAttention.o.weight', 'embedder.block.7.layer.0.layer_norm.weight', 'embedder.block.7.layer.1.DenseReluDense.wi.weight', 'embedder.block.7.layer.1.DenseReluDense.wo.weight', 'embedder.block.7.layer.1.layer_norm.weight', 'embedder.block.8.layer.0.SelfAttention.q.weight', 'embedder.block.8.layer.0.SelfAttention.k.weight', 'embedder.block.8.layer.0.SelfAttention.v.weight', 'embedder.block.8.layer.0.SelfAttention.o.weight', 'embedder.block.8.layer.0.layer_norm.weight', 'embedder.block.8.layer.1.DenseReluDense.wi.weight', 'embedder.block.8.layer.1.DenseReluDense.wo.weight', 'embedder.block.8.layer.1.layer_norm.weight', 'embedder.block.9.layer.0.SelfAttention.q.weight', 'embedder.block.9.layer.0.SelfAttention.k.weight', 'embedder.block.9.layer.0.SelfAttention.v.weight', 'embedder.block.9.layer.0.SelfAttention.o.weight', 'embedder.block.9.layer.0.layer_norm.weight', 'embedder.block.9.layer.1.DenseReluDense.wi.weight', 'embedder.block.9.layer.1.DenseReluDense.wo.weight', 'embedder.block.9.layer.1.layer_norm.weight', 'embedder.block.10.layer.0.SelfAttention.q.weight', 'embedder.block.10.layer.0.SelfAttention.k.weight', 'embedder.block.10.layer.0.SelfAttention.v.weight', 'embedder.block.10.layer.0.SelfAttention.o.weight', 'embedder.block.10.layer.0.layer_norm.weight', 'embedder.block.10.layer.1.DenseReluDense.wi.weight', 'embedder.block.10.layer.1.DenseReluDense.wo.weight', 'embedder.block.10.layer.1.layer_norm.weight', 'embedder.block.11.layer.0.SelfAttention.q.weight', 'embedder.block.11.layer.0.SelfAttention.k.weight', 'embedder.block.11.layer.0.SelfAttention.v.weight', 'embedder.block.11.layer.0.SelfAttention.o.weight', 'embedder.block.11.layer.0.layer_norm.weight', 'embedder.block.11.layer.1.DenseReluDense.wi.weight', 'embedder.block.11.layer.1.DenseReluDense.wo.weight', 'embedder.block.11.layer.1.layer_norm.weight', 'embedder.final_layer_norm.weight'].\n"
     ]
    },
    {
     "data": {
      "text/html": [
       "\n",
       "    <div>\n",
       "      \n",
       "      <progress value='124' max='62' style='width:300px; height:20px; vertical-align: middle;'></progress>\n",
       "      [62/62 02:20]\n",
       "    </div>\n",
       "    "
      ],
      "text/plain": [
       "<IPython.core.display.HTML object>"
      ]
     },
     "metadata": {},
     "output_type": "display_data"
    },
    {
     "name": "stderr",
     "output_type": "stream",
     "text": [
      "generating from val:   0%|                                                                                 | 0/62 [00:00<?, ?it/s]/home/jxm3/.conda/envs/torch/lib/python3.9/site-packages/torch/_inductor/compile_fx.py:90: UserWarning: TensorFloat32 tensor cores for float32 matrix multiplication available but not enabled. Consider setting `torch.set_float32_matmul_precision('high')` for better performance.\n",
      "  warnings.warn(\n",
      "                                                                                                                                  \r"
     ]
    },
    {
     "name": "stdout",
     "output_type": "stream",
     "text": [
      "Alonzo Mourning Alonzo Harding Mourning Jr. (born December 19, 1969) is an American retired professional basketball player who played in the National Basketball Association (NBA). He was a center and left guard for the Miami Heat, Los Angeles Lakers, and Atlanta Hawks. After playing college basketball at the University of Arizona, Mourning became known as \"Motionary\" after a ten-year career in which he averaged a career-high.276. Mourning was named to the All-NBA Second Team twice\n",
      "Alonzo Mourning Alonzo Harding Mourning Jr. (born February 8, 1970) is an American retired professional basketball player, who played most of his 15-year National Basketball Association (NBA) career for the Miami Heat. Nicknamed \"Zo\", Mourning played at center. Following his college basketball career at Georgetown University, his tenacity on defense twice earned him NBA Defensive Player of the Year Award and perennially placed him on the NBA All-Defensive Team. Mourning made a comeback after undergoing a kidney transplant\n",
      "\n",
      "\n",
      "\n",
      "the opponent's behavior, the opponent's behavior was a result of the opponent's behavior. The dog and smoker were able to use the process to create a new state of equilibrium, which was a result of the aforementioned process. The dog and smoker were able to use the process to create a new state of equilibrium. The Hedonism process is an example of a symbiotic relationship between axons and axons. The symbiotic relationship between axons and axons is called the\n",
      "Then, when they stopped the stimuli, the dogs became stealthy and cautious. The experiment continued, and after many stimuli, the dogs went from unhappy to joyful and happy after the shocks stopped altogether. In the opponent-process model, this is the result of a shift over time from fear to pleasure in the fear-pleasure emotion pair. Another example of opponent processes is the use of nicotine. In the terms of Hedonism, one process (the initial process) is a hedonic \"reaction\" that is prompted by the use of nicotine. The user gains\n",
      "\n",
      "\n",
      "\n",
      "Nosei Glacier Nosei Glacier (, ‘Nosei Glacier’ 'ns' 'ns' 'ns' 'ns' 'ns' 'ns' 'ns' 'ns' 'ns') is a glacier located in the south-central part of Smith Island in the South Shetland Islands, Antarctica. It rises to 2,030 m above sea level and flows northwestward through the southern slopes of\n",
      "Nosei Glacier Nosei Glacier (, ‘Lednik Nosei’ 'led-nik 'no-se-i) is the steep 1.3 km long and 1 km wide glacier draining the southeast slopes of Imeon Range on Smith Island in the South Shetland Islands, Antarctica. It is situated east of upper Dalgopol Glacier, southeast of Kongur Glacier and southwest of Ritya Glacier, flows eastwards from a part of the main crest between Mezek Peak and Mount Christ\n"
     ]
    },
    {
     "name": "stderr",
     "output_type": "stream",
     "text": [
      "                                                                                                                                  \r"
     ]
    },
    {
     "data": {
      "text/html": [
       "Tracking run with wandb version 0.13.11"
      ],
      "text/plain": [
       "<IPython.core.display.HTML object>"
      ]
     },
     "metadata": {},
     "output_type": "display_data"
    },
    {
     "data": {
      "text/html": [
       "W&B syncing is set to <code>`offline`<code> in this directory.  <br/>Run <code>`wandb online`<code> or set <code>WANDB_MODE=online<code> to enable cloud syncing."
      ],
      "text/plain": [
       "<IPython.core.display.HTML object>"
      ]
     },
     "metadata": {},
     "output_type": "display_data"
    },
    {
     "name": "stdout",
     "output_type": "stream",
     "text": [
      "metrics: {'eval_loss': 2.31308650970459, 'eval_bleu_score': 11.856027778443329, 'eval_accuracy': 0.5111202116935484, 'eval_perplexity': 10.105567501104156, 'eval_runtime': 125.0505, 'eval_samples_per_second': 3.998, 'eval_steps_per_second': 0.504, 'eval_samples': 500}\n"
     ]
    },
    {
     "name": "stderr",
     "output_type": "stream",
     "text": [
      "Process ForkProcess-8:\n",
      "Process ForkProcess-6:\n",
      "Process ForkProcess-7:\n",
      "Process ForkProcess-5:\n",
      "Traceback (most recent call last):\n",
      "Traceback (most recent call last):\n",
      "Traceback (most recent call last):\n",
      "Traceback (most recent call last):\n",
      "  File \"/home/jxm3/.conda/envs/torch/lib/python3.9/multiprocessing/process.py\", line 315, in _bootstrap\n",
      "    self.run()\n",
      "  File \"/home/jxm3/.conda/envs/torch/lib/python3.9/multiprocessing/process.py\", line 315, in _bootstrap\n",
      "    self.run()\n",
      "  File \"/home/jxm3/.conda/envs/torch/lib/python3.9/multiprocessing/process.py\", line 315, in _bootstrap\n",
      "    self.run()\n",
      "  File \"/home/jxm3/.conda/envs/torch/lib/python3.9/multiprocessing/process.py\", line 108, in run\n",
      "    self._target(*self._args, **self._kwargs)\n",
      "  File \"/home/jxm3/.conda/envs/torch/lib/python3.9/multiprocessing/process.py\", line 108, in run\n",
      "    self._target(*self._args, **self._kwargs)\n",
      "  File \"/home/jxm3/.conda/envs/torch/lib/python3.9/concurrent/futures/process.py\", line 237, in _process_worker\n",
      "    call_item = call_queue.get(block=True)\n",
      "  File \"/home/jxm3/.conda/envs/torch/lib/python3.9/multiprocessing/queues.py\", line 102, in get\n",
      "    with self._rlock:\n",
      "  File \"/home/jxm3/.conda/envs/torch/lib/python3.9/multiprocessing/synchronize.py\", line 95, in __enter__\n",
      "    return self._semlock.__enter__()\n",
      "KeyboardInterrupt\n",
      "  File \"/home/jxm3/.conda/envs/torch/lib/python3.9/multiprocessing/process.py\", line 315, in _bootstrap\n",
      "    self.run()\n",
      "  File \"/home/jxm3/.conda/envs/torch/lib/python3.9/concurrent/futures/process.py\", line 237, in _process_worker\n",
      "    call_item = call_queue.get(block=True)\n",
      "  File \"/home/jxm3/.conda/envs/torch/lib/python3.9/multiprocessing/process.py\", line 108, in run\n",
      "    self._target(*self._args, **self._kwargs)\n",
      "  File \"/home/jxm3/.conda/envs/torch/lib/python3.9/concurrent/futures/process.py\", line 237, in _process_worker\n",
      "    call_item = call_queue.get(block=True)\n",
      "  File \"/home/jxm3/.conda/envs/torch/lib/python3.9/multiprocessing/queues.py\", line 102, in get\n",
      "    with self._rlock:\n",
      "  File \"/home/jxm3/.conda/envs/torch/lib/python3.9/multiprocessing/synchronize.py\", line 95, in __enter__\n",
      "    return self._semlock.__enter__()\n",
      "KeyboardInterrupt\n",
      "  File \"/home/jxm3/.conda/envs/torch/lib/python3.9/multiprocessing/queues.py\", line 102, in get\n",
      "    with self._rlock:\n",
      "  File \"/home/jxm3/.conda/envs/torch/lib/python3.9/multiprocessing/synchronize.py\", line 95, in __enter__\n",
      "    return self._semlock.__enter__()\n",
      "  File \"/home/jxm3/.conda/envs/torch/lib/python3.9/multiprocessing/process.py\", line 108, in run\n",
      "    self._target(*self._args, **self._kwargs)\n",
      "  File \"/home/jxm3/.conda/envs/torch/lib/python3.9/concurrent/futures/process.py\", line 237, in _process_worker\n",
      "    call_item = call_queue.get(block=True)\n",
      "KeyboardInterrupt\n"
     ]
    }
   ],
   "source": [
    "\"\"\"\n",
    "Code to load model from here:\n",
    "https://wandb.ai/jack-morris/emb-inv-1/runs/dc72e8b9c01bd27b0ed1c2def90bcee5/overview?workspace=user-jxmorris12\n",
    "\n",
    "TODO: abstract this into analyze_utils function like load_trainer_from_checkpoint.\n",
    "\"\"\"\n",
    "import os\n",
    "import shlex\n",
    "\n",
    "import datasets\n",
    "import torch\n",
    "from transformers import AutoTokenizer, HfArgumentParser, set_seed\n",
    "from transformers.trainer_utils import get_last_checkpoint\n",
    "\n",
    "from collator import CustomCollator\n",
    "from data_helpers import load_dpr_corpus, NQ_DEV, NQ_TRAIN\n",
    "from models import load_encoder_decoder, load_embedder_and_tokenizer, InversionModel\n",
    "from run_args import ModelArguments, DataTrainingArguments, TrainingArguments\n",
    "from tokenize_data import tokenize_function\n",
    "from trainers import InversionTrainer\n",
    "\n",
    "#############################################################################\n",
    "\n",
    "WANDB_ARGS_STR = '--per_device_train_batch_size 128 --per_device_eval_batch_size 128 --max_seq_length 128 --model_name_or_path t5-base --embedder_model_name gtr_base --num_repeat_tokens 16 --embedder_no_grad True --exp_group_name mar17-baselines --learning_rate 0.0003 --freeze_strategy none --embedder_fake_with_zeros False --use_frozen_embeddings_as_input False --num_train_epochs 24 --max_eval_samples 500 --eval_steps 25000 --warmup_steps 100000 --bf16=1 --use_wandb=1'\n",
    "args = shlex.split(WANDB_ARGS_STR)\n",
    "\n",
    "parser = HfArgumentParser((ModelArguments, DataTrainingArguments, TrainingArguments))\n",
    "model_args, data_args, training_args = parser.parse_args_into_dataclasses(args=args)\n",
    "\n",
    "checkpoint = '/home/jxm3/research/retrieval/inversion/saves/c9a30cba01655d513e46040f949f6da7'\n",
    "training_args = torch.load(os.path.join(checkpoint, 'training_args.bin'))\n",
    "training_args.use_wandb = False\n",
    "\n",
    "set_seed(training_args.seed)\n",
    "\n",
    "#############################################################################\n",
    "tokenizer = AutoTokenizer.from_pretrained(\n",
    "    model_args.model_name_or_path,\n",
    "    padding=True,\n",
    "    truncation='max_length',\n",
    "    max_length=model_args.max_seq_length,\n",
    ")\n",
    "embedder, embedder_tokenizer = load_embedder_and_tokenizer(\n",
    "    name=model_args.embedder_model_name\n",
    ")\n",
    "model = InversionModel(\n",
    "    embedder=embedder,\n",
    "    embedder_tokenizer=embedder_tokenizer,\n",
    "    tokenizer=tokenizer,\n",
    "    encoder_decoder=load_encoder_decoder(\n",
    "        model_name=model_args.model_name_or_path\n",
    "    ),\n",
    "    num_repeat_tokens=model_args.num_repeat_tokens,\n",
    "    embedder_no_grad=model_args.embedder_no_grad,\n",
    "    freeze_strategy=model_args.freeze_strategy,\n",
    ")\n",
    "model._keys_to_ignore_on_save = []\n",
    "\n",
    "#############################################################################\n",
    "\n",
    "text_column_name = \"text\"\n",
    "\n",
    "raw_datasets = datasets.DatasetDict({\n",
    "    \"train\": load_dpr_corpus(NQ_TRAIN),\n",
    "    \"validation\": load_dpr_corpus(NQ_DEV),\n",
    "})\n",
    "column_names = list(raw_datasets[\"train\"].features)\n",
    "tokenized_datasets = raw_datasets.map(\n",
    "    tokenize_function(tokenizer, embedder_tokenizer, text_column_name, model_args.max_seq_length),\n",
    "    batched=True,\n",
    "    num_proc=training_args.dataloader_num_workers,\n",
    "    remove_columns=column_names,\n",
    "    load_from_cache_file=not data_args.overwrite_cache,\n",
    "    desc=\"Running tokenizer on dataset\",\n",
    ")\n",
    "train_dataset = tokenized_datasets[\"train\"]\n",
    "eval_dataset = tokenized_datasets[\"validation\"]\n",
    "\n",
    "if data_args.max_eval_samples is not None:\n",
    "    max_eval_samples = min(len(eval_dataset), data_args.max_eval_samples)\n",
    "    eval_dataset = eval_dataset.select(range(max_eval_samples))\n",
    "\n",
    "\n",
    "#############################################################################\n",
    "\n",
    "# Initialize our Trainer\n",
    "trainer = InversionTrainer(\n",
    "    model=model,\n",
    "    args=training_args,\n",
    "    train_dataset=train_dataset,\n",
    "    eval_dataset=eval_dataset,\n",
    "    tokenizer=tokenizer,\n",
    "    data_collator=CustomCollator(tokenizer=tokenizer),\n",
    ")\n",
    "\n",
    "# *** Evaluation ***\n",
    "checkpoint = get_last_checkpoint('/home/jxm3/research/retrieval/inversion/saves/8631b1c05efebde3077d16c5b99f6d5e/dc72e8b9c01bd27b0ed1c2def90bcee5') # a checkpoint\n",
    "trainer._load_from_checkpoint(checkpoint)\n",
    "\n",
    "os.environ[\"WANDB_DISABLED\"] = \"true\"\n",
    "max_eval_samples = data_args.max_eval_samples if data_args.max_eval_samples is not None else len(eval_dataset)\n",
    "\n",
    "metrics = trainer.evaluate()\n",
    "metrics[\"eval_samples\"] = min(max_eval_samples, len(eval_dataset))\n",
    "\n",
    "print(\"metrics:\", metrics)"
   ]
  },
  {
   "cell_type": "code",
   "execution_count": 3,
   "id": "30a520a6-37d2-4049-9616-b4929b838dfc",
   "metadata": {},
   "outputs": [
    {
     "name": "stderr",
     "output_type": "stream",
     "text": [
      "                                                                                                                                  \r"
     ]
    },
    {
     "name": "stdout",
     "output_type": "stream",
     "text": [
      "Alonzo Mourning Alonzo Harding Mourning Jr. (born December 19, 1969) is an American retired professional basketball player who played in the National Basketball Association (NBA). He was a center and left guard for the Miami Heat, Los Angeles Lakers, and Atlanta Hawks. After playing college basketball at the University of Arizona, Mourning became known as \"Motionary\" after a ten-year career in which he averaged a career-high.276. Mourning was named to the All-NBA Second Team twice\n",
      "Alonzo Mourning Alonzo Harding Mourning Jr. (born February 8, 1970) is an American retired professional basketball player, who played most of his 15-year National Basketball Association (NBA) career for the Miami Heat. Nicknamed \"Zo\", Mourning played at center. Following his college basketball career at Georgetown University, his tenacity on defense twice earned him NBA Defensive Player of the Year Award and perennially placed him on the NBA All-Defensive Team. Mourning made a comeback after undergoing a kidney transplant\n",
      "\n",
      "\n",
      "\n",
      "the opponent's behavior, the opponent's behavior was a result of the opponent's behavior. The dog and smoker were able to use the process to create a new state of equilibrium, which was a result of the aforementioned process. The dog and smoker were able to use the process to create a new state of equilibrium. The Hedonism process is an example of a symbiotic relationship between axons and axons. The symbiotic relationship between axons and axons is called the\n",
      "Then, when they stopped the stimuli, the dogs became stealthy and cautious. The experiment continued, and after many stimuli, the dogs went from unhappy to joyful and happy after the shocks stopped altogether. In the opponent-process model, this is the result of a shift over time from fear to pleasure in the fear-pleasure emotion pair. Another example of opponent processes is the use of nicotine. In the terms of Hedonism, one process (the initial process) is a hedonic \"reaction\" that is prompted by the use of nicotine. The user gains\n",
      "\n",
      "\n",
      "\n",
      "Nosei Glacier Nosei Glacier (, ‘Nosei Glacier’ 'ns' 'ns' 'ns' 'ns' 'ns' 'ns' 'ns' 'ns' 'ns') is a glacier located in the south-central part of Smith Island in the South Shetland Islands, Antarctica. It rises to 2,030 m above sea level and flows northwestward through the southern slopes of\n",
      "Nosei Glacier Nosei Glacier (, ‘Lednik Nosei’ 'led-nik 'no-se-i) is the steep 1.3 km long and 1 km wide glacier draining the southeast slopes of Imeon Range on Smith Island in the South Shetland Islands, Antarctica. It is situated east of upper Dalgopol Glacier, southeast of Kongur Glacier and southwest of Ritya Glacier, flows eastwards from a part of the main crest between Mezek Peak and Mount Christ\n"
     ]
    },
    {
     "name": "stderr",
     "output_type": "stream",
     "text": [
      "                                                                                                                                  \r"
     ]
    },
    {
     "name": "stdout",
     "output_type": "stream",
     "text": [
      "metrics: {'eval_loss': 2.31308650970459, 'eval_bleu_score': 11.856027778443329, 'eval_accuracy': 0.5111202116935484, 'eval_perplexity': 10.105567501104156, 'eval_runtime': 104.5122, 'eval_samples_per_second': 4.784, 'eval_steps_per_second': 0.603}\n"
     ]
    }
   ],
   "source": [
    "trainer.gen_kwargs = {\n",
    "    'max_length': 128,\n",
    "    \"early_stopping\": True,\n",
    "    # \"no_repeat_ngram_size\": 3,\n",
    "    # From CtRL paper: We find that using a greedy sampling \n",
    "    # and θ ≈ 1.2 yields a good balance between truthful generation\n",
    "    # and lack of repetition (arxiv.org/abs/1909.05858)\n",
    "    \"repetition_penalty\": 1.2,\n",
    "    \"num_beams\": 1,\n",
    "    'do_sample': False,\n",
    "}\n",
    "metrics = trainer.evaluate()\n",
    "print(\"metrics:\", metrics)"
   ]
  },
  {
   "cell_type": "code",
   "execution_count": 61,
   "id": "ffe2f0de-9af3-4fea-a576-c9fa14bbaee9",
   "metadata": {},
   "outputs": [
    {
     "data": {
      "application/vnd.jupyter.widget-view+json": {
       "model_id": "4a09e9fb3c7d437b91adf21769ae499f",
       "version_major": 2,
       "version_minor": 0
      },
      "text/plain": [
       "  0%|          | 0/1000 [00:00<?, ?it/s]"
      ]
     },
     "metadata": {},
     "output_type": "display_data"
    }
   ],
   "source": [
    "from tqdm.notebook import trange\n",
    "\n",
    "trainer.args.per_device_eval_batch_size = 128\n",
    "\n",
    "d = trainer.get_eval_dataloader()\n",
    "batch = next(iter(d))\n",
    "batch['input_ids'].shape\n",
    "\n",
    "torch._dynamo.config.verbose = True\n",
    "trainer.model.eval()\n",
    "\n",
    "gen_kwargs = trainer.gen_kwargs\n",
    "gen_kwargs[\"temperature\"] = 0.1\n",
    "gen_kwargs[\"do_sample\"] = True\n",
    "\n",
    "torch.set_grad_enabled(False)\n",
    "num_generations = 1000\n",
    "\n",
    "input_embs = trainer.model.call_embedding_model(\n",
    "    input_ids=batch['embedder_input_ids'].cuda(),\n",
    "    attention_mask=batch['embedder_attention_mask'].cuda(),\n",
    ")\n",
    "\n",
    "all_data = []\n",
    "for i in trange(num_generations):\n",
    "    for temp in [0.01, 0.05, 0.1, 0.5, 1.0, 2.0, 10.0]:\n",
    "        gen_kwargs[\"temperature\"] = temp\n",
    "        outputs = trainer.model.generate(\n",
    "            inputs={k: v.cuda() for k,v in batch.items()},\n",
    "            generation_kwargs=gen_kwargs\n",
    "        )[:, 1:]\n",
    "        # print(f\"[t={temp}] outputs[0]:\", trainer.model.embedder_tokenizer.decode(outputs[0]))\n",
    "        output_embs = trainer.model.call_embedding_model(\n",
    "            input_ids=outputs,\n",
    "            attention_mask=torch.ones_like(outputs),\n",
    "        )\n",
    "        sims = torch.nn.CosineSimilarity(dim=1)(input_embs, output_embs)\n",
    "        all_data.extend(\n",
    "            [[j, output.cpu().tolist(), sim.cpu().item(), temp] for j, (output, sim) in enumerate(zip(outputs, sims))]\n",
    "        )"
   ]
  },
  {
   "cell_type": "code",
   "execution_count": null,
   "id": "04de073f-f16a-490a-a3c1-7768fd5ff9be",
   "metadata": {},
   "outputs": [],
   "source": [
    "import pandas as pd\n",
    "\n",
    "df = pd.DataFrame(all_data, columns=[\"element_idx\", \"output\", \"sim\", \"temp\"])\n",
    "print(len(df))\n",
    "df.head()"
   ]
  },
  {
   "cell_type": "code",
   "execution_count": 80,
   "id": "4fb9c030-2f21-4a08-8aa4-ea7923804408",
   "metadata": {},
   "outputs": [],
   "source": [
    "df.to_pickle(\"sampled_outputs.p\")"
   ]
  },
  {
   "cell_type": "code",
   "execution_count": 64,
   "id": "563a62eb-4158-4ac8-a467-8922560a226e",
   "metadata": {},
   "outputs": [
    {
     "data": {
      "text/plain": [
       "896000"
      ]
     },
     "execution_count": 64,
     "metadata": {},
     "output_type": "execute_result"
    }
   ],
   "source": [
    "len(df)"
   ]
  },
  {
   "cell_type": "code",
   "execution_count": 79,
   "id": "41a034ea-a1af-4970-a753-fd73c94af873",
   "metadata": {},
   "outputs": [
    {
     "name": "stderr",
     "output_type": "stream",
     "text": [
      "WARNING:matplotlib.axes._axes:*c* argument looks like a single numeric RGB or RGBA sequence, which should be avoided as value-mapping will have precedence in case its length matches with *x* & *y*.  Please use the *color* keyword-argument or provide a 2D array with a single row if you intend to specify the same RGB or RGBA value for all points.\n"
     ]
    },
    {
     "data": {
      "text/plain": [
       "<AxesSubplot:xlabel='temp', ylabel='sim'>"
      ]
     },
     "execution_count": 79,
     "metadata": {},
     "output_type": "execute_result"
    },
    {
     "data": {
      "image/png": "[encoded data removed]",
      "text/plain": [
       "<Figure size 640x480 with 1 Axes>"
      ]
     },
     "metadata": {},
     "output_type": "display_data"
    }
   ],
   "source": [
    "df[[\"element_idx\", \"sim\", \"temp\"]].groupby([\"element_idx\", \"temp\"]).median().reset_index().plot(kind=\"scatter\", x=\"temp\", y=\"sim\", logx=True, alpha=0.5)"
   ]
  },
  {
   "cell_type": "code",
   "execution_count": 89,
   "id": "80fa6974-5957-4438-b17a-6951c9bda218",
   "metadata": {},
   "outputs": [
    {
     "data": {
      "text/plain": [
       "<AxesSubplot:xlabel='temp'>"
      ]
     },
     "execution_count": 89,
     "metadata": {},
     "output_type": "execute_result"
    },
    {
     "data": {
      "image/png": "[encoded data removed]",
      "text/plain": [
       "<Figure size 640x480 with 1 Axes>"
      ]
     },
     "metadata": {},
     "output_type": "display_data"
    }
   ],
   "source": [
    "sns.set(style=\"white\")\n",
    "df[[\"element_idx\", \"sim\", \"temp\"]].groupby([\"element_idx\", \"temp\"]).mean().reset_index().groupby(\"temp\").mean().reset_index().plot(kind=\"line\", x=\"temp\", y=\"sim\", logx=True, lw=4)"
   ]
  },
  {
   "cell_type": "code",
   "execution_count": 83,
   "id": "2c8feaa4-cf62-4da5-a13e-c3a8c5c89e3e",
   "metadata": {},
   "outputs": [
    {
     "name": "stderr",
     "output_type": "stream",
     "text": [
      "WARNING:matplotlib.axes._axes:*c* argument looks like a single numeric RGB or RGBA sequence, which should be avoided as value-mapping will have precedence in case its length matches with *x* & *y*.  Please use the *color* keyword-argument or provide a 2D array with a single row if you intend to specify the same RGB or RGBA value for all points.\n"
     ]
    },
    {
     "data": {
      "text/plain": [
       "<AxesSubplot:xlabel='temp', ylabel='sim'>"
      ]
     },
     "execution_count": 83,
     "metadata": {},
     "output_type": "execute_result"
    },
    {
     "data": {
      "image/png": "[encoded data removed]",
      "text/plain": [
       "<Figure size 640x480 with 1 Axes>"
      ]
     },
     "metadata": {},
     "output_type": "display_data"
    }
   ],
   "source": [
    "df[[\"element_idx\", \"sim\", \"temp\"]].groupby([\"element_idx\", \"temp\"]).std().reset_index().groupby(\"temp\").mean().reset_index().plot(kind=\"scatter\", x=\"temp\", y=\"sim\", logx=True)"
   ]
  },
  {
   "cell_type": "code",
   "execution_count": 75,
   "id": "3746dcdd-879a-4899-9089-14185430d734",
   "metadata": {},
   "outputs": [
    {
     "data": {
      "text/plain": [
       "element_idx\n",
       "62     0.029072\n",
       "42     0.030406\n",
       "44     0.032298\n",
       "37     0.032741\n",
       "30     0.032835\n",
       "         ...   \n",
       "113    0.148279\n",
       "73     0.149537\n",
       "84     0.150431\n",
       "12     0.160622\n",
       "105    0.177844\n",
       "Name: sim, Length: 128, dtype: float64"
      ]
     },
     "execution_count": 75,
     "metadata": {},
     "output_type": "execute_result"
    }
   ],
   "source": [
    "df.groupby(\"element_idx\").std()[\"sim\"].sort_values()"
   ]
  },
  {
   "cell_type": "code",
   "execution_count": 69,
   "id": "0fd6fdef-6706-4aa7-b485-1e7f7488946b",
   "metadata": {},
   "outputs": [
    {
     "data": {
      "text/plain": [
       "'Marco Dawson Marco Dawson (born February'"
      ]
     },
     "execution_count": 69,
     "metadata": {},
     "output_type": "execute_result"
    }
   ],
   "source": [
    "trainer.model.embedder_tokenizer.decode([16902, 31676, 16902, 31676, 41, 7473, 2083])"
   ]
  },
  {
   "cell_type": "code",
   "execution_count": 76,
   "id": "9222bd00-f760-47af-9ffc-1f71497ac80e",
   "metadata": {},
   "outputs": [
    {
     "data": {
      "text/plain": [
       "'the Coalition Party of Ontario under the leadership of former NDP leader James Ames who ran as a new party called The Reformed Alliance with former NDP leader James Gault as its leader and former CPP leader LaRoie Appelle as its deputy leader. In the 2015 federal election, the Ontario New Democratic Party announced a new political party called Crossroads Reform Party which won all seats in the provincial assembly in the 2015 federal election. The party has had no formal affiliation with any political parties in Ontario since the 2013 election, and its most recent leader, Aonie Brown, announced his</s>'"
      ]
     },
     "execution_count": 76,
     "metadata": {},
     "output_type": "execute_result"
    }
   ],
   "source": [
    "trainer.model.embedder_tokenizer.decode(df[df[\"element_idx\"] == 12].sort_values(by=\"sim\", ascending=False).iloc[0][\"output\"])"
   ]
  },
  {
   "cell_type": "code",
   "execution_count": 77,
   "id": "7e1d4912-ec62-4333-8333-50cc72376391",
   "metadata": {},
   "outputs": [
    {
     "data": {
      "text/plain": [
       "'Crossroads Forum, the Family Coalition Party of Ontario leadership via its newly elected party leader James Gault, deputy leader and director of communications Eric Ames, president Lynne Scime led a move to combine the original traditional moral values of the FCP with the democratic reform principles of the RPO into a new rebranded party called the New Reform Party of Ontario. However, the new party was deregistered by Elections Ontario as of January 2016, after only running once in the Simcoe North byelection in 2015 where Gault and New Reform, was defeated by Ontario PC leader Patrick Brown who won</s>'"
      ]
     },
     "execution_count": 77,
     "metadata": {},
     "output_type": "execute_result"
    }
   ],
   "source": [
    "trainer.model.embedder_tokenizer.decode(batch[\"embedder_input_ids\"][12])"
   ]
  },
  {
   "cell_type": "code",
   "execution_count": null,
   "id": "b1c5c89f-d181-427e-ac0c-e56e8571aa85",
   "metadata": {},
   "outputs": [],
   "source": []
  }
 ],
 "metadata": {
  "kernelspec": {
   "display_name": "Python 3 (ipykernel)",
   "language": "python",
   "name": "python3"
  },
  "language_info": {
   "codemirror_mode": {
    "name": "ipython",
    "version": 3
   },
   "file_extension": ".py",
   "mimetype": "text/x-python",
   "name": "python",
   "nbconvert_exporter": "python",
   "pygments_lexer": "ipython3",
   "version": "3.9.7"
  }
 },
 "nbformat": 4,
 "nbformat_minor": 5
}
