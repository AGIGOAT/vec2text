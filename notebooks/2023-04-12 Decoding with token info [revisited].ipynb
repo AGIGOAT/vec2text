{
 "cells": [
  {
   "cell_type": "code",
   "execution_count": 1,
   "id": "08d0781e-9e2e-469d-a3da-2115ad1d8d41",
   "metadata": {},
   "outputs": [],
   "source": [
    "import os\n",
    "os.environ[\"WANDB_DISABLED\"] = \"true\"\n",
    "\n",
    "import sys\n",
    "sys.path.append('..')\n",
    "\n",
    "%load_ext autoreload\n",
    "%autoreload 2"
   ]
  },
  {
   "cell_type": "code",
   "execution_count": 2,
   "id": "ac8d3517-7bad-4999-bc78-59e86f7c79eb",
   "metadata": {},
   "outputs": [
    {
     "name": "stdout",
     "output_type": "stream",
     "text": [
      "[0] Loading model from checkpoint: /home/jxm3/research/retrieval/inversion/saves/db66b9c01b644541fedbdcc59c53a285/ebb31d91810c4b62d2b55b5382e8c7ea/checkpoint-999744\n",
      "Set train_args.dataloader_num_workers = 4\n",
      "[1] creating model & stuff\n"
     ]
    },
    {
     "name": "stderr",
     "output_type": "stream",
     "text": [
      "/home/jxm3/.conda/envs/torch/lib/python3.10/site-packages/transformers/models/t5/tokenization_t5_fast.py:155: FutureWarning: This tokenizer was incorrectly instantiated with a model max length of 512 which will be corrected in Transformers v5.\n",
      "For now, this behavior is kept to avoid breaking backwards compatibility when padding/encoding with `truncation is True`.\n",
      "- Be aware that you SHOULD NOT rely on t5-base automatically truncating your input to 512 when padding/encoding.\n",
      "- If you want to encode/pad to sequences longer than 512 you can either instantiate this tokenizer with `model_max_length` or pass `max_length` when encoding/padding.\n",
      "- To avoid this warning, please instantiate this tokenizer with `model_max_length` set to your preferred value.\n",
      "  warnings.warn(\n",
      "WARNING:datasets.arrow_dataset:Loading cached processed dataset at /home/jxm3/.cache/huggingface/datasets/emb_inv_dpr/nq-train/cache-6af83e39f92acf9e.arrow\n",
      "WARNING:datasets.arrow_dataset:Loading cached processed dataset at /home/jxm3/.cache/huggingface/datasets/emb_inv_dpr/nq-dev/cache-8796b523fc1740bd.arrow\n"
     ]
    },
    {
     "name": "stdout",
     "output_type": "stream",
     "text": [
      "[2] tokenizing dataset\n",
      "[3] initializing trainer\n",
      "[4] getting ckpnt\n",
      "[5] loading ckpt /home/jxm3/research/retrieval/inversion/saves/db66b9c01b644541fedbdcc59c53a285/ebb31d91810c4b62d2b55b5382e8c7ea/checkpoint-999744\n"
     ]
    }
   ],
   "source": [
    "import analyze_utils\n",
    "\n",
    "# https://wandb.ai/jack-morris/emb-inv-1/runs/ebb31d91810c4b62d2b55b5382e8c7ea/logs?workspace=user-jxmorris12\n",
    "checkpoint_folder = '/home/jxm3/research/retrieval/inversion/saves/db66b9c01b644541fedbdcc59c53a285/ebb31d91810c4b62d2b55b5382e8c7ea'\n",
    "args_str = '--per_device_train_batch_size 128 --per_device_eval_batch_size 128 --max_seq_length 32 --model_name_or_path t5-base --embedder_model_name gtr_base --num_repeat_tokens 16 --embedder_no_grad True --exp_group_name mar17-baselines --learning_rate 0.0003 --freeze_strategy none --embedder_fake_with_zeros False --use_frozen_embeddings_as_input False --num_train_epochs 24 --max_eval_samples 500 --eval_steps 25000 --warmup_steps 100000 --bf16=1 --use_wandb=1'\n",
    "trainer = analyze_utils.load_inversion_model_and_trainer(checkpoint_folder, args_str)"
   ]
  },
  {
   "cell_type": "code",
   "execution_count": 3,
   "id": "5b2c469b-21ed-4f5a-89d7-6fab2445db72",
   "metadata": {},
   "outputs": [
    {
     "data": {
      "text/html": [
       "\n",
       "    <div>\n",
       "      \n",
       "      <progress value='270' max='3' style='width:300px; height:20px; vertical-align: middle;'></progress>\n",
       "      [3/3 45:50]\n",
       "    </div>\n",
       "    "
      ],
      "text/plain": [
       "<IPython.core.display.HTML object>"
      ]
     },
     "metadata": {},
     "output_type": "display_data"
    },
    {
     "name": "stderr",
     "output_type": "stream",
     "text": [
      "generating from val:   0%|                                                                                                       | 0/3 [00:00<?, ?it/s]/home/jxm3/.conda/envs/torch/lib/python3.10/site-packages/torch/_inductor/compile_fx.py:90: UserWarning: TensorFloat32 tensor cores for float32 matrix multiplication available but not enabled. Consider setting `torch.set_float32_matmul_precision('high')` for better performance.\n",
      "  warnings.warn(\n",
      "                                                                                                                                                       \r"
     ]
    },
    {
     "name": "stdout",
     "output_type": "stream",
     "text": [
      "to the character of the skull, which are relatively smooth and untutored in the case of infant sutures. Nevertheless, the sutures\n",
      "to the character of the sutures of the skull which, like those of the infant skull, are relatively smooth and untortuous. In fact\n",
      "\n",
      "\n",
      "\n",
      "individual from the Southern Hemisphere to win the Winter Olympic relay gold medal, and was also part of the Australian Short Track team which won a\n",
      "individual from the Southern Hemisphere, to win a Winter Olympic gold medal and was also part of the short track relay team that won Australia'\n",
      "\n",
      "\n",
      "\n",
      "the same rights as men, and 75% agreed that they should be protected from discrimination. Among the other 15% are heterosexuals, no work\n",
      "the same rights as straight people, while 15% disagreed. Additionally, 69% agreed that they should be protected from workplace discrimination. 13% of H\n"
     ]
    },
    {
     "name": "stderr",
     "output_type": "stream",
     "text": [
      "                                                                                                                                                       "
     ]
    },
    {
     "name": "stdout",
     "output_type": "stream",
     "text": [
      "metrics: {'eval_loss': 1.0522304773330688, 'eval_bleu_score': 31.552541624779003, 'eval_accuracy': 0.7384440104166666, 'eval_perplexity': 2.8640321578446315, 'eval_runtime': 22.1689, 'eval_samples_per_second': 22.554, 'eval_steps_per_second': 0.18}\n"
     ]
    },
    {
     "name": "stderr",
     "output_type": "stream",
     "text": [
      "Process ForkProcess-5:\n",
      "Process ForkProcess-6:\n",
      "Process ForkProcess-7:\n",
      "Traceback (most recent call last):\n",
      "Traceback (most recent call last):\n",
      "  File \"/home/jxm3/.conda/envs/torch/lib/python3.10/multiprocessing/process.py\", line 314, in _bootstrap\n",
      "    self.run()\n",
      "Process ForkProcess-8:\n",
      "Traceback (most recent call last):\n",
      "  File \"/home/jxm3/.conda/envs/torch/lib/python3.10/multiprocessing/process.py\", line 108, in run\n",
      "    self._target(*self._args, **self._kwargs)\n",
      "  File \"/home/jxm3/.conda/envs/torch/lib/python3.10/multiprocessing/process.py\", line 314, in _bootstrap\n",
      "    self.run()\n",
      "  File \"/home/jxm3/.conda/envs/torch/lib/python3.10/multiprocessing/process.py\", line 314, in _bootstrap\n",
      "    self.run()\n",
      "  File \"/home/jxm3/.conda/envs/torch/lib/python3.10/multiprocessing/process.py\", line 108, in run\n",
      "    self._target(*self._args, **self._kwargs)\n",
      "  File \"/home/jxm3/.conda/envs/torch/lib/python3.10/multiprocessing/process.py\", line 108, in run\n",
      "    self._target(*self._args, **self._kwargs)\n",
      "  File \"/home/jxm3/.conda/envs/torch/lib/python3.10/concurrent/futures/process.py\", line 240, in _process_worker\n",
      "    call_item = call_queue.get(block=True)\n",
      "  File \"/home/jxm3/.conda/envs/torch/lib/python3.10/concurrent/futures/process.py\", line 240, in _process_worker\n",
      "    call_item = call_queue.get(block=True)\n",
      "Traceback (most recent call last):\n",
      "  File \"/home/jxm3/.conda/envs/torch/lib/python3.10/multiprocessing/queues.py\", line 103, in get\n",
      "    res = self._recv_bytes()\n",
      "  File \"/home/jxm3/.conda/envs/torch/lib/python3.10/concurrent/futures/process.py\", line 240, in _process_worker\n",
      "    call_item = call_queue.get(block=True)\n",
      "  File \"/home/jxm3/.conda/envs/torch/lib/python3.10/multiprocessing/process.py\", line 314, in _bootstrap\n",
      "    self.run()\n",
      "  File \"/home/jxm3/.conda/envs/torch/lib/python3.10/multiprocessing/queues.py\", line 102, in get\n",
      "    with self._rlock:\n",
      "  File \"/home/jxm3/.conda/envs/torch/lib/python3.10/multiprocessing/queues.py\", line 102, in get\n",
      "    with self._rlock:\n",
      "  File \"/home/jxm3/.conda/envs/torch/lib/python3.10/multiprocessing/connection.py\", line 216, in recv_bytes\n",
      "    buf = self._recv_bytes(maxlength)\n",
      "  File \"/home/jxm3/.conda/envs/torch/lib/python3.10/multiprocessing/process.py\", line 108, in run\n",
      "    self._target(*self._args, **self._kwargs)\n",
      "  File \"/home/jxm3/.conda/envs/torch/lib/python3.10/concurrent/futures/process.py\", line 240, in _process_worker\n",
      "    call_item = call_queue.get(block=True)\n",
      "  File \"/home/jxm3/.conda/envs/torch/lib/python3.10/multiprocessing/synchronize.py\", line 95, in __enter__\n",
      "    return self._semlock.__enter__()\n",
      "  File \"/home/jxm3/.conda/envs/torch/lib/python3.10/multiprocessing/queues.py\", line 102, in get\n",
      "    with self._rlock:\n",
      "  File \"/home/jxm3/.conda/envs/torch/lib/python3.10/multiprocessing/synchronize.py\", line 95, in __enter__\n",
      "    return self._semlock.__enter__()\n",
      "  File \"/home/jxm3/.conda/envs/torch/lib/python3.10/multiprocessing/synchronize.py\", line 95, in __enter__\n",
      "    return self._semlock.__enter__()\n",
      "KeyboardInterrupt\n",
      "  File \"/home/jxm3/.conda/envs/torch/lib/python3.10/multiprocessing/connection.py\", line 414, in _recv_bytes\n",
      "    buf = self._recv(4)\n",
      "KeyboardInterrupt\n",
      "KeyboardInterrupt\n",
      "  File \"/home/jxm3/.conda/envs/torch/lib/python3.10/multiprocessing/connection.py\", line 379, in _recv\n",
      "    chunk = read(handle, remaining)\n",
      "KeyboardInterrupt\n"
     ]
    }
   ],
   "source": [
    "metrics = trainer.evaluate()\n",
    "\n",
    "print(\"metrics:\", metrics)"
   ]
  },
  {
   "cell_type": "markdown",
   "id": "1adf3641-ab22-4c89-b1d5-81559da5a5fb",
   "metadata": {},
   "source": [
    "## test accuracy per position"
   ]
  },
  {
   "cell_type": "code",
   "execution_count": 5,
   "id": "9cc31004-51b6-433c-8e40-51d375ba3868",
   "metadata": {},
   "outputs": [
    {
     "name": "stderr",
     "output_type": "stream",
     "text": [
      "                                                                                                                                                       \r"
     ]
    },
    {
     "data": {
      "text/plain": [
       "Text(0.5, 1.0, 'accuracy per position')"
      ]
     },
     "execution_count": 5,
     "metadata": {},
     "output_type": "execute_result"
    },
    {
     "data": {
      "image/png": "[encoded data removed]",
      "text/plain": [
       "<Figure size 640x480 with 1 Axes>"
      ]
     },
     "metadata": {},
     "output_type": "display_data"
    }
   ],
   "source": [
    "import seaborn as sns\n",
    "import torch\n",
    "\n",
    "preds, labels = trainer._get_eval_preds(n=1000)\n",
    "\n",
    "preds = torch.tensor(preds)[:, 1:]\n",
    "labels = torch.tensor(labels)[:, :-1]\n",
    "\n",
    "acc_per_position = (preds == labels).float().mean(dim=0)\n",
    "ax = sns.lineplot(acc_per_position, lw=3)\n",
    "\n",
    "ax.set_ylabel('accuracy')\n",
    "ax.set_xlabel('position')\n",
    "ax.set_title('accuracy per position')"
   ]
  },
  {
   "cell_type": "code",
   "execution_count": 6,
   "id": "430c59f8-ba34-4a23-9ff5-dc2e212e7ecb",
   "metadata": {},
   "outputs": [
    {
     "name": "stderr",
     "output_type": "stream",
     "text": [
      "                                                                                                                                                       \r"
     ]
    },
    {
     "data": {
      "text/plain": [
       "Text(0.5, 1.0, 'hallucinated tokens per position')"
      ]
     },
     "execution_count": 6,
     "metadata": {},
     "output_type": "execute_result"
    },
    {
     "data": {
      "image/png": "[encoded data removed]",
      "text/plain": [
       "<Figure size 640x480 with 1 Axes>"
      ]
     },
     "metadata": {},
     "output_type": "display_data"
    }
   ],
   "source": [
    "import seaborn as sns\n",
    "\n",
    "preds, labels = trainer._get_eval_preds(n=1000)\n",
    "\n",
    "preds = torch.tensor(preds)[:, 1:]\n",
    "labels = torch.tensor(labels)[:, :-1]\n",
    "\n",
    "halluc_per_position = 1 - (preds[:, :, None] == labels[:, None, :]).any(dim=-1).float().mean(dim=0)\n",
    "ax = sns.lineplot(halluc_per_position, lw=3, color=sns.color_palette()[3])\n",
    "\n",
    "ax.set_ylabel('hallucinatation rate')\n",
    "ax.set_xlabel('position')\n",
    "ax.set_title('hallucinated tokens per position')"
   ]
  },
  {
   "cell_type": "markdown",
   "id": "c3c10949-4faf-40cf-abec-8d0af0367acf",
   "metadata": {},
   "source": [
    "## test trainer BLEU with token bonus"
   ]
  },
  {
   "cell_type": "code",
   "execution_count": 14,
   "id": "702a36fb-6657-4d9c-9b6f-1ed2caba5b73",
   "metadata": {},
   "outputs": [
    {
     "name": "stderr",
     "output_type": "stream",
     "text": [
      "                                                                                                                                                       <00:00, 42823.03it/s]\u001b[0m"
     ]
    },
    {
     "name": "stdout",
     "output_type": "stream",
     "text": [
      "all_token_embeddings.shape: torch.Size([32100, 768])\n"
     ]
    },
    {
     "name": "stderr",
     "output_type": "stream",
     "text": [
      "\r"
     ]
    }
   ],
   "source": [
    "import torch\n",
    "from utils import embed_all_tokens\n",
    "\n",
    "device = torch.device('cuda')\n",
    "trainer.model.embedded_tokens = embed_all_tokens(trainer.model, trainer.model.embedder_tokenizer).to(device)"
   ]
  },
  {
   "cell_type": "code",
   "execution_count": 72,
   "id": "f3ed661b-2f65-4e2f-8180-37443861518a",
   "metadata": {},
   "outputs": [
    {
     "name": "stderr",
     "output_type": "stream",
     "text": [
      "                                                                                                                                                       \r"
     ]
    },
    {
     "name": "stdout",
     "output_type": "stream",
     "text": [
      "skullcharacterization soft smoothlytures Infant skull Smooth robustcharacter Uruguay skull soft smoothlyacious stitches skull soft Smooth Charakter skull seamless innocent smoothlycharacter skull soft robusttures skull Smooth\n",
      "to the character of the sutures of the skull which, like those of the infant skull, are relatively smooth and untortuous. In fact\n",
      "\n",
      "\n",
      "\n",
      "Aus swimmer Winter SRL Salzburg Olympics Sydney swimmer achievements Austria swimmer 1901 Olympics Sydney\n",
      "individual from the Southern Hemisphere, to win a Winter Olympic gold medal and was also part of the short track relay team that won Australia'\n",
      "\n",
      "\n",
      "\n",
      "45% workplace straight protected LGBT 15% rights disagree 90% Straight workplace droits 25% LGBT protected 90% equality straight 15% workplace rights45% disagree straight45% LGBT workplace protected 90%\n",
      "the same rights as straight people, while 15% disagreed. Additionally, 69% agreed that they should be protected from workplace discrimination. 13% of H\n"
     ]
    },
    {
     "name": "stderr",
     "output_type": "stream",
     "text": [
      "                                                                                                                                                       \r"
     ]
    }
   ],
   "source": [
    "# test\n",
    "trainer.model.token_decode_alpha = 0.0\n",
    "metrics = trainer.evaluate()\n",
    "metrics[\"alpha\"] = 0.0\n",
    "data.append(metrics)"
   ]
  },
  {
   "cell_type": "code",
   "execution_count": 73,
   "id": "d336303c-e316-418e-90f3-feeb26b0f865",
   "metadata": {},
   "outputs": [],
   "source": [
    "trainer.args.per_device_eval_batch_size = 128"
   ]
  },
  {
   "cell_type": "code",
   "execution_count": 79,
   "id": "8d822d80-6186-4da4-ac6c-5e9b09a8f618",
   "metadata": {},
   "outputs": [
    {
     "data": {
      "application/vnd.jupyter.widget-view+json": {
       "model_id": "30313bb530224de79f6742088d2231d7",
       "version_major": 2,
       "version_minor": 0
      },
      "text/plain": [
       "  0%|          | 0/9 [00:00<?, ?it/s]"
      ]
     },
     "metadata": {},
     "output_type": "display_data"
    },
    {
     "name": "stderr",
     "output_type": "stream",
     "text": [
      "\n",
      "generating from val:   0%|                                                                                                       | 0/3 [00:00<?, ?it/s]\u001b[A\n",
      "generating from val:  33%|███████████████████████████████▋                                                               | 1/3 [00:00<00:01,  1.35it/s]\u001b[A\n",
      "generating from val:  67%|███████████████████████████████████████████████████████████████▎                               | 2/3 [00:01<00:00,  1.59it/s]\u001b[A\n",
      "generating from val: 100%|███████████████████████████████████████████████████████████████████████████████████████████████| 3/3 [00:01<00:00,  1.70it/s]\u001b[A\n",
      "                                                                                                                                                       \u001b[A"
     ]
    },
    {
     "name": "stdout",
     "output_type": "stream",
     "text": [
      "to the character of skulls, which are smooth and robust in character quite unlike infant skulls. Nevertheless, the sutures of the skull, such\n",
      "to the character of the sutures of the skull which, like those of the infant skull, are relatively smooth and untortuous. In fact\n",
      "\n",
      "\n",
      "\n",
      "individual relay Winter Olympic runner from Australia, and to win the Southern Hemisphere Medal, and was part of the Australian swimmers team which won\n",
      "individual from the Southern Hemisphere, to win a Winter Olympic gold medal and was also part of the short track relay team that won Australia'\n",
      "\n",
      "\n",
      "\n",
      "the same percentage rights as straight LGBT people, and 15% disagreed. 30% protected workplaces. 25% agreed that heterosexuals should be protected from discrimination\n",
      "the same rights as straight people, while 15% disagreed. Additionally, 69% agreed that they should be protected from workplace discrimination. 13% of H\n"
     ]
    },
    {
     "name": "stderr",
     "output_type": "stream",
     "text": [
      "\n",
      "generating from train:   0%|                                                                                                 | 0/41656 [00:00<?, ?it/s]\u001b[A\n",
      "                                                                                                                                                       \u001b[A\n",
      "generating from val:   0%|                                                                                                       | 0/3 [00:00<?, ?it/s]\u001b[A\n",
      "generating from val:  33%|███████████████████████████████▋                                                               | 1/3 [00:00<00:01,  1.35it/s]\u001b[A\n",
      "generating from val:  67%|███████████████████████████████████████████████████████████████▎                               | 2/3 [00:01<00:00,  1.59it/s]\u001b[A\n",
      "generating from val: 100%|███████████████████████████████████████████████████████████████████████████████████████████████| 3/3 [00:01<00:00,  1.69it/s]\u001b[A\n",
      "                                                                                                                                                       \u001b[A"
     ]
    },
    {
     "name": "stdout",
     "output_type": "stream",
     "text": [
      "to the character of skulls, which are relatively smooth and untoothous in the infant sutures. Nevertheless, the skull of the simplest\n",
      "to the character of the sutures of the skull which, like those of the infant skull, are relatively smooth and untortuous. In fact\n",
      "\n",
      "\n",
      "\n",
      "individual relay runner from Australia to win the Southern Hemisphere Winter Olympic Medal, and was part of the Australian Winter Team, which won the short\n",
      "individual from the Southern Hemisphere, to win a Winter Olympic gold medal and was also part of the short track relay team that won Australia'\n",
      "\n",
      "\n",
      "\n",
      "the same percentage of rights as straight people, and 15% disagreed. Lastly, 33% protected workers from discrimination. 80% said they should be\n",
      "the same rights as straight people, while 15% disagreed. Additionally, 69% agreed that they should be protected from workplace discrimination. 13% of H\n"
     ]
    },
    {
     "name": "stderr",
     "output_type": "stream",
     "text": [
      "\n",
      "generating from train:   0%|                                                                                                 | 0/41656 [00:00<?, ?it/s]\u001b[A\n",
      "                                                                                                                                                       \u001b[A\n",
      "generating from val:   0%|                                                                                                       | 0/3 [00:00<?, ?it/s]\u001b[A\n",
      "generating from val:  33%|███████████████████████████████▋                                                               | 1/3 [00:00<00:01,  1.35it/s]\u001b[A\n",
      "generating from val:  67%|███████████████████████████████████████████████████████████████▎                               | 2/3 [00:01<00:00,  1.59it/s]\u001b[A\n",
      "generating from val: 100%|███████████████████████████████████████████████████████████████████████████████████████████████| 3/3 [00:01<00:00,  1.70it/s]\u001b[A\n",
      "                                                                                                                                                       \u001b[A"
     ]
    },
    {
     "name": "stdout",
     "output_type": "stream",
     "text": [
      "to the character of the skull, which are smooth and untoothful in comparison to the sutures of infant skulls. Nevertheless, some cases\n",
      "to the character of the sutures of the skull which, like those of the infant skull, are relatively smooth and untortuous. In fact\n",
      "\n",
      "\n",
      "\n",
      "individual relay runner from Australia to win the Winter Olympic Gold Medal, and was part of the Southern Hemisphere team, which won a short\n",
      "individual from the Southern Hemisphere, to win a Winter Olympic gold medal and was also part of the short track relay team that won Australia'\n",
      "\n",
      "\n",
      "\n",
      "the same percentage of rights as straight people, and 15% disagreed. Lastly, 33% agreed that heterosexuals should be protected from workplace discrimination\n",
      "the same rights as straight people, while 15% disagreed. Additionally, 69% agreed that they should be protected from workplace discrimination. 13% of H\n"
     ]
    },
    {
     "name": "stderr",
     "output_type": "stream",
     "text": [
      "\n",
      "generating from train:   0%|                                                                                                 | 0/41656 [00:00<?, ?it/s]\u001b[A\n",
      "                                                                                                                                                       \u001b[A\n",
      "generating from val:   0%|                                                                                                       | 0/3 [00:00<?, ?it/s]\u001b[A\n",
      "generating from val:  33%|███████████████████████████████▋                                                               | 1/3 [00:00<00:01,  1.35it/s]\u001b[A\n",
      "generating from val:  67%|███████████████████████████████████████████████████████████████▎                               | 2/3 [00:01<00:00,  1.60it/s]\u001b[A\n",
      "generating from val: 100%|███████████████████████████████████████████████████████████████████████████████████████████████| 3/3 [00:01<00:00,  1.70it/s]\u001b[A\n",
      "                                                                                                                                                       \u001b[A"
     ]
    },
    {
     "name": "stdout",
     "output_type": "stream",
     "text": [
      "to the character of the skull, which are relatively smooth and untoothed in the case of infant sutures. Nevertheless, the sutures\n",
      "to the character of the sutures of the skull which, like those of the infant skull, are relatively smooth and untortuous. In fact\n",
      "\n",
      "\n",
      "\n",
      "individual from the Southern Hemisphere to win the Winter Olympic relay gold medal, and was also part of the Australian Short Track team which won a\n",
      "individual from the Southern Hemisphere, to win a Winter Olympic gold medal and was also part of the short track relay team that won Australia'\n",
      "\n",
      "\n",
      "\n",
      "the same rights as straight people, and 7% disagreed. In addition, 15% agreed that they should be protected from workplace discrimination. 35% of\n",
      "the same rights as straight people, while 15% disagreed. Additionally, 69% agreed that they should be protected from workplace discrimination. 13% of H\n"
     ]
    },
    {
     "name": "stderr",
     "output_type": "stream",
     "text": [
      "\n",
      "generating from train:   0%|                                                                                                 | 0/41656 [00:00<?, ?it/s]\u001b[A\n",
      "                                                                                                                                                       \u001b[A\n",
      "generating from val:   0%|                                                                                                       | 0/3 [00:00<?, ?it/s]\u001b[A\n",
      "generating from val:  33%|███████████████████████████████▋                                                               | 1/3 [00:00<00:01,  1.34it/s]\u001b[A\n",
      "generating from val:  67%|███████████████████████████████████████████████████████████████▎                               | 2/3 [00:01<00:00,  1.59it/s]\u001b[A\n",
      "generating from val: 100%|███████████████████████████████████████████████████████████████████████████████████████████████| 3/3 [00:01<00:00,  1.69it/s]\u001b[A\n",
      "                                                                                                                                                       \u001b[A"
     ]
    },
    {
     "name": "stdout",
     "output_type": "stream",
     "text": [
      "to the character of the skull, which are relatively smooth and untutored in the case of infant sutures. Nevertheless, the skulls\n",
      "to the character of the sutures of the skull which, like those of the infant skull, are relatively smooth and untortuous. In fact\n",
      "\n",
      "\n",
      "\n",
      "individual from the Southern Hemisphere to win the Winter Olympic relay gold medal, and was also part of the Australian Short Track team which won a\n",
      "individual from the Southern Hemisphere, to win a Winter Olympic gold medal and was also part of the short track relay team that won Australia'\n",
      "\n",
      "\n",
      "\n",
      "the same rights as men, and 75% agreed that they should be protected from discrimination. Among the other 15% are heterosexuals, no work\n",
      "the same rights as straight people, while 15% disagreed. Additionally, 69% agreed that they should be protected from workplace discrimination. 13% of H\n"
     ]
    },
    {
     "name": "stderr",
     "output_type": "stream",
     "text": [
      "\n",
      "generating from train:   0%|                                                                                                 | 0/41656 [00:00<?, ?it/s]\u001b[A\n",
      "                                                                                                                                                       \u001b[A\n",
      "generating from val:   0%|                                                                                                       | 0/3 [00:00<?, ?it/s]\u001b[A\n",
      "generating from val:  33%|███████████████████████████████▋                                                               | 1/3 [00:00<00:01,  1.35it/s]\u001b[A\n",
      "generating from val:  67%|███████████████████████████████████████████████████████████████▎                               | 2/3 [00:01<00:00,  1.60it/s]\u001b[A\n",
      "generating from val: 100%|███████████████████████████████████████████████████████████████████████████████████████████████| 3/3 [00:01<00:00,  1.70it/s]\u001b[A\n",
      "                                                                                                                                                       \u001b[A"
     ]
    },
    {
     "name": "stdout",
     "output_type": "stream",
     "text": [
      "to the character of the skull, which are relatively smooth and untutored in the case of infant sutures. Nevertheless, the skulls\n",
      "to the character of the sutures of the skull which, like those of the infant skull, are relatively smooth and untortuous. In fact\n",
      "\n",
      "\n",
      "\n",
      "individual from the Southern Hemisphere to win the Winter Olympic relay gold medal, and was also part of the Australian Short Track team which won a\n",
      "individual from the Southern Hemisphere, to win a Winter Olympic gold medal and was also part of the short track relay team that won Australia'\n",
      "\n",
      "\n",
      "\n",
      "the same rights as men, and 75% agreed that they should be protected from discrimination. Among the other 15% are heterosexuals, no work\n",
      "the same rights as straight people, while 15% disagreed. Additionally, 69% agreed that they should be protected from workplace discrimination. 13% of H\n"
     ]
    },
    {
     "name": "stderr",
     "output_type": "stream",
     "text": [
      "\n",
      "generating from train:   0%|                                                                                                 | 0/41656 [00:00<?, ?it/s]\u001b[A\n",
      "                                                                                                                                                       \u001b[A\n",
      "generating from val:   0%|                                                                                                       | 0/3 [00:00<?, ?it/s]\u001b[A\n",
      "generating from val:  33%|███████████████████████████████▋                                                               | 1/3 [00:00<00:01,  1.33it/s]\u001b[A\n",
      "generating from val:  67%|███████████████████████████████████████████████████████████████▎                               | 2/3 [00:01<00:00,  1.58it/s]\u001b[A\n",
      "generating from val: 100%|███████████████████████████████████████████████████████████████████████████████████████████████| 3/3 [00:01<00:00,  1.69it/s]\u001b[A\n",
      "                                                                                                                                                       \u001b[A"
     ]
    },
    {
     "name": "stdout",
     "output_type": "stream",
     "text": [
      "to the character of the skull, which are relatively smooth and untutored in the case of infant sutures. Nevertheless, the sutures\n",
      "to the character of the sutures of the skull which, like those of the infant skull, are relatively smooth and untortuous. In fact\n",
      "\n",
      "\n",
      "\n",
      "individual from the Southern Hemisphere to win the Winter Olympic relay gold medal, and was also part of the Australian Short Track team which won a\n",
      "individual from the Southern Hemisphere, to win a Winter Olympic gold medal and was also part of the short track relay team that won Australia'\n",
      "\n",
      "\n",
      "\n",
      "the same rights as men, and 75% agreed that they should be protected from discrimination. Among the other 15% are heterosexuals, no work\n",
      "the same rights as straight people, while 15% disagreed. Additionally, 69% agreed that they should be protected from workplace discrimination. 13% of H\n"
     ]
    },
    {
     "name": "stderr",
     "output_type": "stream",
     "text": [
      "\n",
      "generating from train:   0%|                                                                                                 | 0/41656 [00:00<?, ?it/s]\u001b[A\n",
      "                                                                                                                                                       \u001b[A\n",
      "generating from val:   0%|                                                                                                       | 0/3 [00:00<?, ?it/s]\u001b[A\n",
      "generating from val:  33%|███████████████████████████████▋                                                               | 1/3 [00:00<00:01,  1.36it/s]\u001b[A\n",
      "generating from val:  67%|███████████████████████████████████████████████████████████████▎                               | 2/3 [00:01<00:00,  1.59it/s]\u001b[A\n",
      "generating from val: 100%|███████████████████████████████████████████████████████████████████████████████████████████████| 3/3 [00:01<00:00,  1.69it/s]\u001b[A\n",
      "                                                                                                                                                       \u001b[A"
     ]
    },
    {
     "name": "stdout",
     "output_type": "stream",
     "text": [
      "to the character of the skull, which are relatively smooth and untutored in the case of infant sutures. Nevertheless, the sutures\n",
      "to the character of the sutures of the skull which, like those of the infant skull, are relatively smooth and untortuous. In fact\n",
      "\n",
      "\n",
      "\n",
      "individual from the Southern Hemisphere to win the Winter Olympic relay gold medal, and was also part of the Australian Short Track team which won a\n",
      "individual from the Southern Hemisphere, to win a Winter Olympic gold medal and was also part of the short track relay team that won Australia'\n",
      "\n",
      "\n",
      "\n",
      "the same rights as men, and 75% agreed that they should be protected from discrimination. Among the other 15% are heterosexuals, no work\n",
      "the same rights as straight people, while 15% disagreed. Additionally, 69% agreed that they should be protected from workplace discrimination. 13% of H\n"
     ]
    },
    {
     "name": "stderr",
     "output_type": "stream",
     "text": [
      "\n",
      "generating from train:   0%|                                                                                                 | 0/41656 [00:00<?, ?it/s]\u001b[A\n",
      "                                                                                                                                                       \u001b[A\n",
      "generating from val:   0%|                                                                                                       | 0/3 [00:00<?, ?it/s]\u001b[A\n",
      "generating from val:  33%|███████████████████████████████▋                                                               | 1/3 [00:00<00:01,  1.36it/s]\u001b[A\n",
      "generating from val:  67%|███████████████████████████████████████████████████████████████▎                               | 2/3 [00:01<00:00,  1.59it/s]\u001b[A\n",
      "generating from val: 100%|███████████████████████████████████████████████████████████████████████████████████████████████| 3/3 [00:01<00:00,  1.69it/s]\u001b[A\n",
      "                                                                                                                                                       \u001b[A"
     ]
    },
    {
     "name": "stdout",
     "output_type": "stream",
     "text": [
      "to the character of the skull, which are relatively smooth and untutored in the case of infant sutures. Nevertheless, the sutures\n",
      "to the character of the sutures of the skull which, like those of the infant skull, are relatively smooth and untortuous. In fact\n",
      "\n",
      "\n",
      "\n",
      "individual from the Southern Hemisphere to win the Winter Olympic relay gold medal, and was also part of the Australian Short Track team which won a\n",
      "individual from the Southern Hemisphere, to win a Winter Olympic gold medal and was also part of the short track relay team that won Australia'\n",
      "\n",
      "\n",
      "\n",
      "the same rights as men, and 75% agreed that they should be protected from discrimination. Among the other 15% are heterosexuals, no work\n",
      "the same rights as straight people, while 15% disagreed. Additionally, 69% agreed that they should be protected from workplace discrimination. 13% of H\n"
     ]
    },
    {
     "name": "stderr",
     "output_type": "stream",
     "text": [
      "\n",
      "generating from train:   0%|                                                                                                 | 0/41656 [00:00<?, ?it/s]\u001b[A\n",
      "                                                                                                                                                       \u001b[A"
     ]
    }
   ],
   "source": [
    "from tqdm.notebook import tqdm\n",
    "\n",
    "os.environ[\"TOKENIZERS_PARALLELISM\"] = \"true\"\n",
    "data = []\n",
    "for alpha in tqdm([0.7, .85, .92, .96, .98, .99, .999, .9999, 1.0]):# 0.8, 0.85, 0.9, 0.95, 0.99, .999, 0.9999, 1.0]): # , 0.999, 0.9999]):\n",
    "    trainer.model.token_decode_alpha = alpha\n",
    "    metrics = trainer.evaluate()\n",
    "    metrics[\"alpha\"] = alpha\n",
    "    data.append(metrics)\n"
   ]
  },
  {
   "cell_type": "code",
   "execution_count": 80,
   "id": "bdfa89e3-c35a-4ae6-982e-13871d50745b",
   "metadata": {},
   "outputs": [
    {
     "data": {
      "text/html": [
       "<div>\n",
       "<style scoped>\n",
       "    .dataframe tbody tr th:only-of-type {\n",
       "        vertical-align: middle;\n",
       "    }\n",
       "\n",
       "    .dataframe tbody tr th {\n",
       "        vertical-align: top;\n",
       "    }\n",
       "\n",
       "    .dataframe thead th {\n",
       "        text-align: right;\n",
       "    }\n",
       "</style>\n",
       "<table border=\"1\" class=\"dataframe\">\n",
       "  <thead>\n",
       "    <tr style=\"text-align: right;\">\n",
       "      <th></th>\n",
       "      <th>eval_loss</th>\n",
       "      <th>eval_bleu_score</th>\n",
       "      <th>eval_accuracy</th>\n",
       "      <th>eval_perplexity</th>\n",
       "      <th>eval_runtime</th>\n",
       "      <th>eval_samples_per_second</th>\n",
       "      <th>eval_steps_per_second</th>\n",
       "      <th>alpha</th>\n",
       "    </tr>\n",
       "  </thead>\n",
       "  <tbody>\n",
       "    <tr>\n",
       "      <th>0</th>\n",
       "      <td>1.05223</td>\n",
       "      <td>18.886692</td>\n",
       "      <td>0.738444</td>\n",
       "      <td>2.864032</td>\n",
       "      <td>3.9881</td>\n",
       "      <td>125.374</td>\n",
       "      <td>1.003</td>\n",
       "      <td>0.70</td>\n",
       "    </tr>\n",
       "    <tr>\n",
       "      <th>1</th>\n",
       "      <td>1.05223</td>\n",
       "      <td>27.279201</td>\n",
       "      <td>0.738444</td>\n",
       "      <td>2.864032</td>\n",
       "      <td>3.9698</td>\n",
       "      <td>125.950</td>\n",
       "      <td>1.008</td>\n",
       "      <td>0.85</td>\n",
       "    </tr>\n",
       "    <tr>\n",
       "      <th>2</th>\n",
       "      <td>1.05223</td>\n",
       "      <td>29.707221</td>\n",
       "      <td>0.738444</td>\n",
       "      <td>2.864032</td>\n",
       "      <td>3.9013</td>\n",
       "      <td>128.161</td>\n",
       "      <td>1.025</td>\n",
       "      <td>0.92</td>\n",
       "    </tr>\n",
       "    <tr>\n",
       "      <th>3</th>\n",
       "      <td>1.05223</td>\n",
       "      <td>31.152170</td>\n",
       "      <td>0.738444</td>\n",
       "      <td>2.864032</td>\n",
       "      <td>3.9241</td>\n",
       "      <td>127.419</td>\n",
       "      <td>1.019</td>\n",
       "      <td>0.96</td>\n",
       "    </tr>\n",
       "    <tr>\n",
       "      <th>4</th>\n",
       "      <td>1.05223</td>\n",
       "      <td>31.431950</td>\n",
       "      <td>0.738444</td>\n",
       "      <td>2.864032</td>\n",
       "      <td>3.9063</td>\n",
       "      <td>127.997</td>\n",
       "      <td>1.024</td>\n",
       "      <td>0.98</td>\n",
       "    </tr>\n",
       "  </tbody>\n",
       "</table>\n",
       "</div>"
      ],
      "text/plain": [
       "   eval_loss  eval_bleu_score  eval_accuracy  eval_perplexity  eval_runtime   \n",
       "0    1.05223        18.886692       0.738444         2.864032        3.9881  \\\n",
       "1    1.05223        27.279201       0.738444         2.864032        3.9698   \n",
       "2    1.05223        29.707221       0.738444         2.864032        3.9013   \n",
       "3    1.05223        31.152170       0.738444         2.864032        3.9241   \n",
       "4    1.05223        31.431950       0.738444         2.864032        3.9063   \n",
       "\n",
       "   eval_samples_per_second  eval_steps_per_second  alpha  \n",
       "0                  125.374                  1.003   0.70  \n",
       "1                  125.950                  1.008   0.85  \n",
       "2                  128.161                  1.025   0.92  \n",
       "3                  127.419                  1.019   0.96  \n",
       "4                  127.997                  1.024   0.98  "
      ]
     },
     "execution_count": 80,
     "metadata": {},
     "output_type": "execute_result"
    }
   ],
   "source": [
    "import pandas as pd\n",
    "import seaborn as sns\n",
    "\n",
    "full_df = pd.DataFrame(data)\n",
    "full_df.head()"
   ]
  },
  {
   "cell_type": "code",
   "execution_count": 81,
   "id": "c1162d05-a254-4998-9787-e8bda08c9fa1",
   "metadata": {},
   "outputs": [],
   "source": [
    "# baseline eval_bleu_score 7.307456928008692"
   ]
  },
  {
   "cell_type": "code",
   "execution_count": 82,
   "id": "6577b14b-a2a3-44a5-b094-2cd15b32a5ae",
   "metadata": {},
   "outputs": [
    {
     "data": {
      "text/plain": [
       "0    0.7000\n",
       "1    0.8500\n",
       "2    0.9200\n",
       "3    0.9600\n",
       "4    0.9800\n",
       "5    0.9900\n",
       "7    0.9999\n",
       "8    1.0000\n",
       "6    0.9990\n",
       "Name: alpha, dtype: float64"
      ]
     },
     "execution_count": 82,
     "metadata": {},
     "output_type": "execute_result"
    }
   ],
   "source": [
    "full_df.sort_values(by='eval_bleu_score')[\"alpha\"]"
   ]
  },
  {
   "cell_type": "code",
   "execution_count": 87,
   "id": "75576d89-8b12-4bac-84a0-375bca03b721",
   "metadata": {},
   "outputs": [],
   "source": [
    "import math\n",
    "full_df[\"alpha_diff\"] = (1.0 - full_df[\"alpha\"] + 1e-10).apply(math.log)"
   ]
  },
  {
   "cell_type": "code",
   "execution_count": 89,
   "id": "891dd17c-5bb7-4534-a740-aac980b3f231",
   "metadata": {},
   "outputs": [
    {
     "data": {
      "text/plain": [
       "<Axes: xlabel='alpha_diff', ylabel='eval_bleu_score'>"
      ]
     },
     "execution_count": 89,
     "metadata": {},
     "output_type": "execute_result"
    },
    {
     "data": {
      "image/png": "[encoded data removed]",
      "text/plain": [
       "<Figure size 640x480 with 1 Axes>"
      ]
     },
     "metadata": {},
     "output_type": "display_data"
    }
   ],
   "source": [
    "sns.lineplot(data=full_df, x=\"alpha_diff\", y=\"eval_bleu_score\")"
   ]
  },
  {
   "cell_type": "code",
   "execution_count": null,
   "id": "4904cf88-6f59-4ce3-9aa3-5aa5bdb29498",
   "metadata": {},
   "outputs": [],
   "source": []
  }
 ],
 "metadata": {
  "kernelspec": {
   "display_name": "Python 3 (ipykernel)",
   "language": "python",
   "name": "python3"
  },
  "language_info": {
   "codemirror_mode": {
    "name": "ipython",
    "version": 3
   },
   "file_extension": ".py",
   "mimetype": "text/x-python",
   "name": "python",
   "nbconvert_exporter": "python",
   "pygments_lexer": "ipython3",
   "version": "3.10.10"
  }
 },
 "nbformat": 4,
 "nbformat_minor": 5
}
