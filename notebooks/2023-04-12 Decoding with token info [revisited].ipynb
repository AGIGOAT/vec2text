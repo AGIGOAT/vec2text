{
 "cells": [
  {
   "cell_type": "code",
   "execution_count": 1,
   "id": "08d0781e-9e2e-469d-a3da-2115ad1d8d41",
   "metadata": {},
   "outputs": [],
   "source": [
    "import sys\n",
    "sys.path.append('..')"
   ]
  },
  {
   "cell_type": "code",
   "execution_count": 2,
   "id": "7b5061a5-dc2c-42a4-8c9a-9b0b66f0bf3a",
   "metadata": {},
   "outputs": [],
   "source": [
    "%load_ext autoreload\n",
    "%autoreload 2"
   ]
  },
  {
   "cell_type": "code",
   "execution_count": 3,
   "id": "f3a7758f-22db-49f3-8caa-04d5eced8d5c",
   "metadata": {},
   "outputs": [],
   "source": [
    "# del os.environ[\"WANDB_DISABLED\"]"
   ]
  },
  {
   "cell_type": "code",
   "execution_count": null,
   "id": "ac8d3517-7bad-4999-bc78-59e86f7c79eb",
   "metadata": {},
   "outputs": [],
   "source": [
    "import analyze_utils\n",
    "\n",
    "checkpoint_folder = '/home/jxm3/research/retrieval/inversion/saves/8631b1c05efebde3077d16c5b99f6d5e/dc72e8b9c01bd27b0ed1c2def90bcee5'\n",
    "\n",
    "trainer = analyze_utils.load_inversion_model_and_trainer(checkpoint_folder)"
   ]
  },
  {
   "cell_type": "code",
   "execution_count": null,
   "id": "5b2c469b-21ed-4f5a-89d7-6fab2445db72",
   "metadata": {},
   "outputs": [],
   "source": [
    "\n",
    "os.environ[\"WANDB_DISABLED\"] = \"true\"\n",
    "max_eval_samples = data_args.max_eval_samples if data_args.max_eval_samples is not None else len(eval_dataset)\n",
    "\n",
    "print(\"[6] calling evaluate()\")\n",
    "metrics = trainer.evaluate()\n",
    "metrics[\"eval_samples\"] = min(max_eval_samples, len(eval_dataset))\n",
    "\n",
    "print(\"metrics:\", metrics)"
   ]
  },
  {
   "cell_type": "code",
   "execution_count": null,
   "id": "702a36fb-6657-4d9c-9b6f-1ed2caba5b73",
   "metadata": {},
   "outputs": [],
   "source": [
    "from utils import embed_all_tokens\n",
    "\n",
    "device = torch.device('cuda')\n",
    "trainer.model.embedded_tokens = embed_all_tokens(trainer.model, embedder_tokenizer).to(device)"
   ]
  },
  {
   "cell_type": "code",
   "execution_count": null,
   "id": "d336303c-e316-418e-90f3-feeb26b0f865",
   "metadata": {},
   "outputs": [],
   "source": [
    "trainer.args.per_device_eval_batch_size = 128"
   ]
  },
  {
   "cell_type": "code",
   "execution_count": null,
   "id": "8d822d80-6186-4da4-ac6c-5e9b09a8f618",
   "metadata": {},
   "outputs": [],
   "source": [
    "from tqdm.notebook import tqdm\n",
    "\n",
    "data = []\n",
    "for alpha in tqdm([0.9, 0.99, .999, 0.9999]): # , 0.999, 0.9999]):\n",
    "    for temperature in [20, 10, 2, 1, 1e-1, 1e-2]:\n",
    "        trainer.model.token_decode_alpha = alpha\n",
    "        trainer.model.token_decode_temperature = temperature\n",
    "        # print('** temperature **', temperature)\n",
    "        metrics = trainer.evaluate()\n",
    "        metrics[\"eval_samples\"] = min(max_eval_samples, len(eval_dataset))\n",
    "        metrics[\"alpha\"] = alpha\n",
    "        metrics[\"temperature\"] = temperature\n",
    "        data.append(metrics)\n"
   ]
  },
  {
   "cell_type": "code",
   "execution_count": null,
   "id": "bdfa89e3-c35a-4ae6-982e-13871d50745b",
   "metadata": {},
   "outputs": [],
   "source": [
    "import pandas as pd\n",
    "import seaborn as sns\n",
    "\n",
    "full_df = pd.DataFrame(data)\n",
    "full_df.head()"
   ]
  },
  {
   "cell_type": "code",
   "execution_count": null,
   "id": "c1162d05-a254-4998-9787-e8bda08c9fa1",
   "metadata": {},
   "outputs": [],
   "source": [
    "# baseline eval_bleu_score 7.307456928008692"
   ]
  },
  {
   "cell_type": "code",
   "execution_count": null,
   "id": "c0fcad8d-70f4-4c5b-84c0-adcc3045d9de",
   "metadata": {},
   "outputs": [],
   "source": [
    "full_df.pivot('alpha', 'temperature', 'eval_bleu_score')"
   ]
  },
  {
   "cell_type": "code",
   "execution_count": null,
   "id": "891dd17c-5bb7-4534-a740-aac980b3f231",
   "metadata": {},
   "outputs": [],
   "source": [
    "df = full_df.pivot('alpha', 'temperature', 'eval_bleu_score')\n",
    "sns.heatmap(data=df, cmap='viridis')"
   ]
  },
  {
   "cell_type": "code",
   "execution_count": null,
   "id": "4904cf88-6f59-4ce3-9aa3-5aa5bdb29498",
   "metadata": {},
   "outputs": [],
   "source": []
  }
 ],
 "metadata": {
  "kernelspec": {
   "display_name": "Python 3 (ipykernel)",
   "language": "python",
   "name": "python3"
  },
  "language_info": {
   "codemirror_mode": {
    "name": "ipython",
    "version": 3
   },
   "file_extension": ".py",
   "mimetype": "text/x-python",
   "name": "python",
   "nbconvert_exporter": "python",
   "pygments_lexer": "ipython3",
   "version": "3.10.10"
  }
 },
 "nbformat": 4,
 "nbformat_minor": 5
}
