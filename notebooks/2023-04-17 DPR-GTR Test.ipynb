{
 "cells": [
  {
   "cell_type": "code",
   "execution_count": 1,
   "id": "4206ccac-9fc8-4a1b-b22f-b0bb6c1b4f34",
   "metadata": {},
   "outputs": [],
   "source": [
    "import os\n",
    "os.environ[\"WANDB_DISABLED\"] = \"true\"\n",
    "\n",
    "import sys\n",
    "sys.path.append('..')\n",
    "\n",
    "%load_ext autoreload\n",
    "%autoreload 2"
   ]
  },
  {
   "cell_type": "code",
   "execution_count": 2,
   "id": "f443afa7-bdbd-4c85-abf8-effe715d513e",
   "metadata": {},
   "outputs": [
    {
     "name": "stdout",
     "output_type": "stream",
     "text": [
      "[0] Loading model from checkpoint: /home/jxm3/research/retrieval/inversion/saves/db66b9c01b644541fedbdcc59c53a285/ebb31d91810c4b62d2b55b5382e8c7ea/checkpoint-999744\n",
      "Set train_args.dataloader_num_workers = 4\n",
      "[1] creating model & stuff\n"
     ]
    },
    {
     "name": "stderr",
     "output_type": "stream",
     "text": [
      "/home/jxm3/.conda/envs/torch/lib/python3.10/site-packages/transformers/models/t5/tokenization_t5_fast.py:155: FutureWarning: This tokenizer was incorrectly instantiated with a model max length of 512 which will be corrected in Transformers v5.\n",
      "For now, this behavior is kept to avoid breaking backwards compatibility when padding/encoding with `truncation is True`.\n",
      "- Be aware that you SHOULD NOT rely on t5-base automatically truncating your input to 512 when padding/encoding.\n",
      "- If you want to encode/pad to sequences longer than 512 you can either instantiate this tokenizer with `model_max_length` or pass `max_length` when encoding/padding.\n",
      "- To avoid this warning, please instantiate this tokenizer with `model_max_length` set to your preferred value.\n",
      "  warnings.warn(\n",
      "WARNING:datasets.arrow_dataset:Loading cached processed dataset at /home/jxm3/.cache/huggingface/datasets/emb_inv_dpr/nq-train/cache-6af83e39f92acf9e.arrow\n",
      "WARNING:datasets.arrow_dataset:Loading cached processed dataset at /home/jxm3/.cache/huggingface/datasets/emb_inv_dpr/nq-dev/cache-8796b523fc1740bd.arrow\n"
     ]
    },
    {
     "name": "stdout",
     "output_type": "stream",
     "text": [
      "[2] tokenizing dataset & preprocessing embeddings\n",
      "[3] initializing trainer\n",
      "[4] getting ckpnt\n",
      "[5] loading ckpt /home/jxm3/research/retrieval/inversion/saves/db66b9c01b644541fedbdcc59c53a285/ebb31d91810c4b62d2b55b5382e8c7ea/checkpoint-999744\n"
     ]
    },
    {
     "data": {
      "text/html": [
       "\n",
       "    <div>\n",
       "      \n",
       "      <progress value='3' max='3' style='width:300px; height:20px; vertical-align: middle;'></progress>\n",
       "      [3/3 00:00]\n",
       "    </div>\n",
       "    "
      ],
      "text/plain": [
       "<IPython.core.display.HTML object>"
      ]
     },
     "metadata": {},
     "output_type": "display_data"
    },
    {
     "name": "stderr",
     "output_type": "stream",
     "text": [
      "generating from val:   0%|                                                                                           | 0/3 [00:00<?, ?it/s]"
     ]
    },
    {
     "name": "stdout",
     "output_type": "stream",
     "text": [
      "generate() -- embedder_decode_score False\n"
     ]
    },
    {
     "name": "stderr",
     "output_type": "stream",
     "text": [
      "generating from val:  33%|███████████████████████████▋                                                       | 1/3 [00:00<00:01,  1.49it/s]"
     ]
    },
    {
     "name": "stdout",
     "output_type": "stream",
     "text": [
      "generate() -- embedder_decode_score False\n"
     ]
    },
    {
     "name": "stderr",
     "output_type": "stream",
     "text": [
      "generating from val:  67%|███████████████████████████████████████████████████████▎                           | 2/3 [00:01<00:00,  1.80it/s]"
     ]
    },
    {
     "name": "stdout",
     "output_type": "stream",
     "text": [
      "generate() -- embedder_decode_score False\n"
     ]
    },
    {
     "name": "stderr",
     "output_type": "stream",
     "text": [
      "                                                                                                                                           \r"
     ]
    },
    {
     "name": "stdout",
     "output_type": "stream",
     "text": [
      "to the character of the skull, which are relatively smooth and untutored in the case of infant sutures. Nevertheless, the sutures\n",
      "to the character of the sutures of the skull which, like those of the infant skull, are relatively smooth and untortuous. In fact\n",
      "\n",
      "\n",
      "\n",
      "individual from the Southern Hemisphere to win the Winter Olympic relay gold medal, and was also part of the Australian Short Track team which won a\n",
      "individual from the Southern Hemisphere, to win a Winter Olympic gold medal and was also part of the short track relay team that won Australia'\n",
      "\n",
      "\n",
      "\n",
      "the same rights as men, and 75% agreed that they should be protected from discrimination. Among the other 15% are heterosexuals, no work\n",
      "the same rights as straight people, while 15% disagreed. Additionally, 69% agreed that they should be protected from workplace discrimination. 13% of H\n"
     ]
    },
    {
     "name": "stderr",
     "output_type": "stream",
     "text": [
      "generating from train:   0%|                                                                                     | 0/41656 [00:00<?, ?it/s]"
     ]
    },
    {
     "name": "stdout",
     "output_type": "stream",
     "text": [
      "generate() -- embedder_decode_score False\n"
     ]
    },
    {
     "name": "stderr",
     "output_type": "stream",
     "text": [
      "                                                                                                                                           \r"
     ]
    },
    {
     "data": {
      "text/plain": [
       "{'eval_loss': 1.0522613525390625,\n",
       " 'eval_bleu_score': 31.552541624779003,\n",
       " 'eval_accuracy': 0.7386067708333334,\n",
       " 'eval_perplexity': 2.8641205867926014,\n",
       " 'eval_runtime': 5.4294,\n",
       " 'eval_samples_per_second': 92.091,\n",
       " 'eval_steps_per_second': 0.737}"
      ]
     },
     "execution_count": 2,
     "metadata": {},
     "output_type": "execute_result"
    }
   ],
   "source": [
    "import analyze_utils\n",
    "\n",
    "# https://wandb.ai/jack-morris/emb-inv-1/runs/ebb31d91810c4b62d2b55b5382e8c7ea/logs?workspace=user-jxmorris12\n",
    "checkpoint_folder = '/home/jxm3/research/retrieval/inversion/saves/db66b9c01b644541fedbdcc59c53a285/ebb31d91810c4b62d2b55b5382e8c7ea'\n",
    "args_str = '--per_device_train_batch_size 128 --per_device_eval_batch_size 128 --max_seq_length 32 --model_name_or_path t5-base --embedder_model_name gtr_base --num_repeat_tokens 16 --embedder_no_grad True --exp_group_name mar17-baselines --learning_rate 0.0003 --freeze_strategy none --embedder_fake_with_zeros False --use_frozen_embeddings_as_input False --num_train_epochs 24 --max_eval_samples 500 --eval_steps 25000 --warmup_steps 100000 --bf16=1 --use_wandb=1'\n",
    "trainer = analyze_utils.load_inversion_model_and_trainer(checkpoint_folder, args_str)\n",
    "\n",
    "trainer.evaluate()"
   ]
  },
  {
   "cell_type": "markdown",
   "id": "e6958c73-de45-4f0b-b254-f1a1a8d41fe7",
   "metadata": {},
   "source": [
    "## checking with sampling"
   ]
  },
  {
   "cell_type": "code",
   "execution_count": 3,
   "id": "c8dd3a28-fd3c-40c2-885b-ffe820382faa",
   "metadata": {},
   "outputs": [],
   "source": [
    "batch = next(iter(trainer.get_eval_dataloader()))\n",
    "true_text = trainer.model.embedder_tokenizer.batch_decode(batch['embedder_input_ids'], skip_special_tokens=True)"
   ]
  },
  {
   "cell_type": "code",
   "execution_count": 8,
   "id": "b923a29a-3e91-43c2-be33-d3ec275afbf4",
   "metadata": {},
   "outputs": [],
   "source": [
    "from sentence_transformers import SentenceTransformer\n",
    "dpr_model = SentenceTransformer('nq-distilbert-base-v1')"
   ]
  },
  {
   "cell_type": "code",
   "execution_count": 27,
   "id": "775b7715-a917-444b-abb7-a264cdda0118",
   "metadata": {},
   "outputs": [],
   "source": [
    "import torch\n",
    "with torch.no_grad():\n",
    "    # embed\n",
    "    dpr_passage_embedding = torch.tensor(dpr_model.encode(true_text), device=trainer.args.device)\n",
    "    # project\n",
    "\n",
    "    embeddings = trainer.model.embedding_transform(dpr_passage_embedding)\n",
    "    batch_size = len(embeddings)\n",
    "    # linear outputs a big embedding, reshape into a sequence of regular size embeddings.\n",
    "    embeddings = embeddings.reshape((batch_size, trainer.model.num_repeat_tokens, -1))\n",
    "attention_mask = torch.ones((batch_size, trainer.model.num_repeat_tokens), device=trainer.args.device)"
   ]
  },
  {
   "cell_type": "code",
   "execution_count": 28,
   "id": "1eb58a92-36df-4377-8b07-c4dbab42aac0",
   "metadata": {},
   "outputs": [
    {
     "data": {
      "text/plain": [
       "(torch.Size([128, 768]), torch.Size([128, 16]))"
      ]
     },
     "execution_count": 28,
     "metadata": {},
     "output_type": "execute_result"
    }
   ],
   "source": [
    "dpr_passage_embedding.shape, attention_mask.shape"
   ]
  },
  {
   "cell_type": "code",
   "execution_count": 29,
   "id": "9b4d7e7b-f090-4605-85ec-2a69ddc49a0f",
   "metadata": {},
   "outputs": [
    {
     "data": {
      "text/plain": [
       "['<pad> the the people people people people people the the   the the people people people people people people',\n",
       " '<pad> of sabotaging after-hours of sex work on left-handed',\n",
       " '<pad> nnnnnnnn s    nnnn',\n",
       " '<pad> a little bit of a hurry, when <unk>/ref> Motorola proprietary audio',\n",
       " '<pad> — / — — — — /  —  ',\n",
       " '<pad>————————————————— little little',\n",
       " '<pad> “The robot’s” side of the movie, where the doctor’s lab is ',\n",
       " '<pad> a drug-related institution in the United States: \"Automobile, where someone named Bruno',\n",
       " '<pad>  your        specific specific specific    your  favorite favorite',\n",
       " '<pad> last last last last on crossing crossing crossing crossing crossing crossing crossing crossing crossing crossing  recently recently recently',\n",
       " \"<pad> French slang word-based savage chicken coop heater's signature rock\",\n",
       " '<pad> the the the  who who who who who who who who who who who who who who who',\n",
       " '<pad> ghetto-abanda naive BCE ghe',\n",
       " '<pad> after after after after after after first first first first first first first first first first first soon soon',\n",
       " '<pad>,, after,———————–––––––',\n",
       " '<pad>///////////////////',\n",
       " '<pad> after after after after curry curry curry curry curry curry curry curry ( ( ( ( ( after after',\n",
       " \"<pad> the 'n' o' the old-fashioned road and wave sayings about how\",\n",
       " '<pad>,,,----------------',\n",
       " \"<pad> s's '' s '' '' s\",\n",
       " '<pad> ’’’’’’’’’’’’’’’’’’',\n",
       " '<pad>    —           — –',\n",
       " '<pad> <unk>,  —            ',\n",
       " '<pad> ——————————————————',\n",
       " '<pad> PERRY PERRY, LOT., LOT., WAY of the',\n",
       " '<pad>———————————————————',\n",
       " '<pad> last last last last last last last last last last last last recently recently recently recently recently recently recently',\n",
       " '<pad>–––––––––––––––––––',\n",
       " '<pad> and//////////// where where where where where where',\n",
       " '<pad> after after after after after while while while while while while while while while while while while while while',\n",
       " '<pad> after President Obama announced a new federal budget. Ancient Egyptian slated to require someone to summon',\n",
       " '<pad>  you you nnnnnnnnnnnnnnn',\n",
       " '<pad> g. g. g. g., one-way carpentry',\n",
       " '<pad>———————————————————',\n",
       " '<pad> when she—Ali var. biggy—left fellow migrants cross country on G',\n",
       " \"<pad> a sand dune team's limbs when a cro\",\n",
       " '<pad> of a game. Among the other customers, the Freddie Freddie... Flip',\n",
       " '<pad> of a nasi-raja and nasi-raj',\n",
       " '<pad>  next next next next next next next next next next--------',\n",
       " '<pad> – – – – – – – – – ',\n",
       " '<pad>,  on the -            shoulder',\n",
       " '<pad> next next next next next next next door door door door door door wann wann wann wann wann wann',\n",
       " '<pad> when when when when when when when when when when when when’’’’’’’',\n",
       " \"<pad> about a lot of the 'Boys of the North's/G\",\n",
       " '<pad>  company company company company company company company company after after after       ',\n",
       " '<pad> or or or or or or or or or or or or or or or or or or or',\n",
       " '<pad> During a telecommunications phone call, gyroscopic floor tor',\n",
       " '<pad> a..... airplane and the corresponding road of',\n",
       " '<pad> Democrats Democrats Democrats Democrats Democrats Democrats Democrats Democrats Democrats Democrats Democrats Democrats Tuesday Tuesday Tuesday Tuesday Tuesday Tuesday Tuesday',\n",
       " '<pad>                   ',\n",
       " '<pad> behavioral behavioral behavioral behavioral behavioral behavioral behavioral behavioral behavioral behavioral behavioral behavioral behavioral behavioral behavioral behavioral behavioral behavioral behavioral',\n",
       " '<pad> Jamie Lee Lewis and Charlton Foxx (Super Bowl V) The Happy Hour Halftime Party',\n",
       " '<pad> --  --   --       ',\n",
       " '<pad>———————————————————',\n",
       " '<pad> nascent drug induced syringe syndrome B-side drug safety',\n",
       " '<pad> ’’’’’             ',\n",
       " '<pad> the entire entire right longlonglonglong of, that one—– right right right right right',\n",
       " '<pad> near near near near near near near near near near near near near near near near near near near',\n",
       " '<pad> —–   –   –   —    ',\n",
       " '<pad> Long-distance soft-cover recovery equipment to clean its palm and palm tree trunk while',\n",
       " '<pad> sand and teardrops in some auto and trucking—left side air traffic light',\n",
       " '<pad> a king’s keel. This king’s kee',\n",
       " '<pad> mood mood mood mood mood mood mood mood mood between between between between between between between between between between',\n",
       " '<pad> whenever whenever whenever whenever whenever whenever whenever whenever whenever whenever whenever whenever whenever <unk><unk><unk><unk><unk>',\n",
       " '<pad> a.k.a. \"\"Someone\\'s most recent to find him at',\n",
       " '<pad>                   ',\n",
       " '<pad> among those who may be willing to share that particular reservation. A few hours before midnight, one',\n",
       " '<pad> after after after after after the \" \" \"UneoriUneoriUneoriUneoriUneoriUneoriUneoriUneoriUneoriUneori',\n",
       " '<pad> //////////////////',\n",
       " '<pad> and who who who who who who who who who who who who who who who who who who',\n",
       " '<pad> short short short short short short short short short short short short short short short short short short short',\n",
       " '<pad> BLUE YORK BLUE YORK—It is I',\n",
       " '<pad> rib cage, sore throat, and right elbow—first-hand oil on a',\n",
       " '<pad> (Gillinos) cannot sleep without the essential white wine. Calamine free grape juice',\n",
       " '<pad> a lot of a job to perform a pigeon and a ',\n",
       " '<pad> blood blood blood blood blood s during  hours to  few or, blood blood blood',\n",
       " '<pad>———————————————————',\n",
       " '<pad> ——————————————————',\n",
       " '<pad> a \"tiny\" car\\'s bumper that has an anti-contrary',\n",
       " '<pad>  that after after after which      that that that that that that that that',\n",
       " '<pad> B.A.T.K.O. on a Holy Grail airplane, second',\n",
       " '<pad> to to to to to to to to to to to to to [ [ [ [ [ [',\n",
       " '<pad>     <unk>          <unk>  ',\n",
       " '<pad> when the number of travelers has to wait until the last airplane to take flight to the southern air',\n",
       " '<pad>///////////////////',\n",
       " '<pad> emerging postconjunct labor union concerns. Importantly, loosely bound catalytic',\n",
       " '<pad>,, of,,, number number number number of of other other other among',\n",
       " '<pad> the the the the the the beneath beneath the the the the the, the the the —',\n",
       " '<pad> (‘Betweener’s’) who is missing the 2017 pumpkin garland',\n",
       " '<pad>—————————————— other other other other other',\n",
       " '<pad>—when most residents—when most residents—when remaining units— while while remaining units take turns',\n",
       " '<pad> ——————————————————',\n",
       " '<pad> The....... Binge-',\n",
       " '<pad>                   ',\n",
       " '<pad> or or or or or or or or or or or or or or or or or or or',\n",
       " '<pad>          pair pair pair pair pair pair pair pair pair pair',\n",
       " '<pad> immediately immediately immediately immediately immediately immediately immediately immediately immediately immediately immediately immediately immediately immediately immediately immediately immediately immediately immediately',\n",
       " '<pad> next next next————————————————',\n",
       " '<pad>  until until until until until until until until until     a   ',\n",
       " \"<pad> '''''''s  ''''    \",\n",
       " '<pad> paprika paprika paprika poo. Low-cost ',\n",
       " '<pad> Sim Sim Simphanphanphanphanphanphanphanphanphanphanphanphanphanphanphanphan',\n",
       " '<pad> when the “Radi Nagar” and SAP–Bypass Bridge infrastructure housing',\n",
       " '<pad> ’’’’s’’’’’’’’’’’longlong',\n",
       " '<pad> aforementioned Super Bowl LII and G.I. Joe: The Lion King Book Fair',\n",
       " '<pad> little little little little little little little little little little little little little little little little little little little',\n",
       " '<pad>                   ',\n",
       " '<pad> amidst a phobic wave and began to migrate between Gulf Coast and Black Mountain',\n",
       " '<pad> a visitor’s newest home video dashboard. After the formerly named a motorcycle',\n",
       " '<pad> b. g. and m. loamysi longitude for some',\n",
       " '<pad> of \"Vanilla\\'s Wheybon.\" Wild West wheat production: After V',\n",
       " '<pad>———————————————appropriappropriappropriappropri',\n",
       " '<pad> : : : : : : rub rub rub rub rub rub rub',\n",
       " '<pad>                   ',\n",
       " '<pad> the the the the the the the the the other other another another another another another another the the',\n",
       " '<pad> When a foreigner reaches a hotel, one of the five types of Indian passport',\n",
       " '<pad> ( ( ( cast cast cast cast cast cast cast cast cast cast cast cast cast cast cast cast',\n",
       " '<pad> —————   -    –    ',\n",
       " '<pad>    - tech tech tech tech tech tech tech tech tech tech tech tech tech tech',\n",
       " '<pad> - / - - -  -  -   ',\n",
       " '<pad>———————————————————',\n",
       " '<pad> she she she she she she she she she she she she she she she she she she she',\n",
       " '<pad>, or or or or or or-----------',\n",
       " \"<pad> little cigarette and tram brake brakes when they need to get their little phone operator's\",\n",
       " \"<pad> ( ( ( ( (/////////// people people'\",\n",
       " '<pad> a lot of nagging, nagging, nagging, and getting to',\n",
       " '<pad> ’’’’’’’’’’’’’’’’’’',\n",
       " '<pad> When they sand to sand during their jet flight, they have been building ']"
      ]
     },
     "execution_count": 29,
     "metadata": {},
     "output_type": "execute_result"
    }
   ],
   "source": [
    "import numpy as np\n",
    "import torch\n",
    "import tqdm\n",
    "\n",
    "torch.set_grad_enabled(False)\n",
    "gen_kwargs = trainer.gen_kwargs\n",
    "\n",
    "def gen(inputs_embeds: torch.Tensor, attention_mask: torch.Tensor):\n",
    "    return trainer.model.encoder_decoder.generate(\n",
    "        inputs_embeds=inputs_embeds,\n",
    "        attention_mask=attention_mask,\n",
    "        **gen_kwargs,\n",
    "    )\n",
    "\n",
    "t = gen(embeddings, attention_mask)\n",
    "trainer.model.embedder_tokenizer.batch_decode(t)"
   ]
  },
  {
   "cell_type": "code",
   "execution_count": 26,
   "id": "449e6ad1-e77c-496c-963f-18d56d46e76a",
   "metadata": {},
   "outputs": [
    {
     "data": {
      "text/plain": [
       "['to the character of the sutures of the skull which, like those of the infant skull, are relatively smooth and untortuous. In fact',\n",
       " \"individual from the Southern Hemisphere, to win a Winter Olympic gold medal and was also part of the short track relay team that won Australia'\",\n",
       " 'the same rights as straight people, while 15% disagreed. Additionally, 69% agreed that they should be protected from workplace discrimination. 13% of H',\n",
       " 'Bruthen, Victoria Bruthen is a small town located alongside the Tambo River between Bairnsdale and Ensay on',\n",
       " 'Castle Vale Castle Vale is a housing estate located between Erdington, Minworth and Castle Bromwich. Currently Castle Vale votes',\n",
       " '1839. After her death, Fisk married her sister, Simona, on August 1, 1849. Deaf Smith moved freely between Anglo',\n",
       " \"in 1978 he was a member of the Soviet Composer's Society in Moscow. He obtained commissions from the Russian Broadcasting Corporation\",\n",
       " 'Zachary Throne Zachary Throne (born April 3, 1967 in Hollywood, California) is an American actor and musician who has appeared in ',\n",
       " \"a design by the Quaker carpenter Owen Biddle, Jr. Biddle is best known as the author of a builder'\",\n",
       " 'from Oxford in 1925. After an extra year at Oxford doing work in the Bodleian Library, in 1892 she became principal of Aberdare',\n",
       " 'was made by Vira Wala (Kathi Ruler) of Jetpur with Colonel Walker at Baroda on 26 October 1803.',\n",
       " 'is applied to elementary variables, that is, to quantities and prices of different products and inputs. Variance accounting gives the user most possibilities for analysis.',\n",
       " 'that Hunter was stabbed while the band was playing \"Sympathy for the Devil\". The events appear in the film \"Gimme Shelter',\n",
       " 'town of Narva on 2 February. The 8th Army expanded the bridgehead in Krivasoo Swamp south of the town five days later,',\n",
       " 'Stewart, Rachel Bilson, Scarlett Johansson, Cory Kennedy, Mischa Barton, Christina Ricci, Leighton',\n",
       " 'safe haven near Uhud. Abu Muhammad and his family remained in Arabia until they were tracked down and killed during Caliph al-',\n",
       " 'Ted Cruz and U.S. Representatives Kevin Brady, John Culberson, Al Green, Gene Green, Sheila Jackson Lee, Michael',\n",
       " \"Hagerstown's minor league teams played at Willow Lane Park, where Bester Elementary School is now located. When the city made the decision to build\",\n",
       " 'Average\" Reference: 2007 Philadelphia Wings season The Philadelphia Wings are a lacrosse team based in Philadelphia, Pennsylvania playing in the National La',\n",
       " 'September 2016, InterDigital signed a license agreement with Huawei, and the companies agreed to \"a framework for discussions regarding joint research and development efforts.\" In December',\n",
       " 'team member that did not perform the previous Roadblock rappel from the top of Reunion Tower, and spot a row of yellow and red flags on',\n",
       " 'Washington Nationals minor league players Minor league players and teams affiliated with the Washington Nationals professional baseball organization include: Yasel Eneudy Ant',\n",
       " 'A Fairly Odd Movie: Grow Up, Timmy Turner! A Fairly Odd Movie: Grow Up, Timmy Turner! (or simply',\n",
       " 'describes himself as a rebellious American Indian character, \"Half Cherokee and Choctaw\". He describes, among other things,',\n",
       " 'legal authorities believe poker is different from sports betting because poker involves a transfer of money between individuals, while sports betting is between an individual and online casino.',\n",
       " 'faded into obscurity. Despite the less-than-spectacular response to the Gaines project, Brooks gained his first (',\n",
       " 'the acting dean and professor of Sociology at Dillard. On, Dr. Taylor died. When asked how he managed to serve so many',\n",
       " 'installed where it fell and would move no further. And so Ravana departed with Parvati and the \"linga\". Parvati prayed to',\n",
       " \"taxiways and other features. Celone/San Nicola d'Arpi Airfield Celone/San Nicola\",\n",
       " 'book is \"Listening to Prozac\" (1993). This work was grounded in the observation that, treated with antidepressants, some',\n",
       " 'Nabo Gass Nabo Gass (25 August, 1954 in Ebingen, Germany) is a German painter and glass artist.',\n",
       " 'Marquette Township, Marquette County, Michigan Marquette Charter Township is a charter township of Marquette County in the U.S. state of',\n",
       " 'Chernenko, says that Transnistria loses $2–2.5 million daily from the Ukrainian regulations. (Transnistrian GDP is about $4',\n",
       " 'spectators. The home field has been renovated in 2013, 2016. The team is in the Albanian Second Division. Klubi Sportiv Albpetrol',\n",
       " 'Sita and most of all because Ravana wanted the throne for himself, he fled Lanka. His mother, Kaikesi',\n",
       " 'combination of these two effects. Nonmagnetic materials and electrical insulators such as plastics can be induction-welded by implanting them with',\n",
       " 'of his newfound love and mistakes Finch, who has dwarfism, for an elf. Buddy pesters Finch into losing his temper and',\n",
       " 'decision to have the series focus on Patrick and Robin\\'s romance, Ed Martin of the \"Jack Myers Report\" stated, \"...it’',\n",
       " \"FIBA Europe Men's Player of the Year Award The FIBA Europe Men's Player of the Year Award was an annual official FI\",\n",
       " 'part of the 2008–09 Heineken Cup winning team. European Cup player records European Cup Individual Awards \"All players listed below are Irish unless otherwise',\n",
       " \"of the city's economic wealth and power, lasting until the fall of the republic to Napoleon's conquest of the area in 1797. It\",\n",
       " 'Sharon Needles. In January 2014, Royale released his debut single \"Weight\", which was endorsed by Logo TV. A remix EP was released in',\n",
       " \"number 2 on the South Korean Gaon Weekly Albums Chart and number 45 on Japan's Oricon Weekly Albums Chart as a Korean import\",\n",
       " 'contests occurred only when independent candidates or minor parties chose to stand, and the Common Wealth Party was formed with the specific aim of contesting war-time',\n",
       " 'who wants nothing more than to be an ordinary girl again\". Luke Y. Thompson of \"LA Weekly\" compared her performance favorably to that of',\n",
       " '2016 American Ultimate Disc League season The 2016 American Ultimate Disc League season is the fifth season for the league. The twenty-six teams were split',\n",
       " 'class of \"Fungi imperfecti\", by adding a ninth section in order to accommodate \"T. roseum\" and its unique conidial',\n",
       " 'his party had reached the Falls of the Ohio, and Bullitt laid out a town site there that later became Louisville, Kentucky. Bullitt',\n",
       " 'Nils Dacke Nils Dacke was a Swedish yeoman who was the leader of a mid-16th century peas',\n",
       " 'Bates wannabe, the lair where \\'A\\' did all her dirty work. The \"Psycho\" references were heavy-handed',\n",
       " \"Handicap in September 1973, where Secretariat finished first and Annihilate 'Em finished fifth. Annihilate\",\n",
       " 'of warrant officers includes the specific ranks of warrant officer (\"adjudant\" in French), master warrant officer (\"adjudant-maî',\n",
       " 'offers to take him on a short, final trip to San Remo. They take a boat out, but when Ripley suggests they move',\n",
       " 'the necessity for a continuing adaptation of the United Nations human rights machinery to the current and future needs in the promotion and protection of human rights, as ',\n",
       " 'by the second season. In the third season, a series of cast additions and departures began that would see the entire original cast leave over time',\n",
       " 'other sources. In his 1925 research bulletin called \"How to Grow the Peanut and 105 Ways of Preparing it for Human Consumption',\n",
       " 'She was in the cast for six years. Burgess was a member of the Burn the Floor cast when the show moved to Broadway. Burg',\n",
       " 'expectations. He developed keen political awareness and became a member of the African National Congress, ANC when it was unbanned in 1990. M',\n",
       " 'animated series, which will also be released on the streaming service. Star Wars expanded to other media \"Star Wars\" expanded to other media includes all \"Star',\n",
       " 'of the largely unsuccessful \"90 Bristol Court\" to last the entirety of the 1964-65 season. She then appeared as Tammy Tarleton in the',\n",
       " 'The band was most popular in the 1990s in Japan, and their 1999 album \"2 Zero 0-0\" was initially only released in that country. They',\n",
       " 'that to successfully affect the youth it has to approach it through ways other than theater too. Hence, YYO extended itself to incorporate Event Creation',\n",
       " 'at Advision. Cordell was concerned that the sound of \"A Whiter Shade of Pale\" might prove problematic on the radio, due to the',\n",
       " 'Scott freelanced for several years, and in 1920 filmed noted underwater scenes in Annette Kellerman\\'s \"What Women Love\" (1920) and',\n",
       " 'on a locally well connected B road and near Wymott and Garth prisons. Cocker Bar railway station Cocker Bar railway station was located',\n",
       " 'production form in the 1948 XK120, the 3442 cc DOHC straight-six provided, the same as in the ',\n",
       " 'Phillip Price John Phillip Price (born 21 October 1966) is a Welsh professional golfer who plays on the European Senior Tour. He won three European Tour',\n",
       " 'in the legally designated Eastern Time Zone as determined by the United States Department of Transportation. In the summer the sun sets over Lake Superior at 10 p.',\n",
       " 'Cavan Senior Football Championship The Cavan Senior Football Championship is an annual Gaelic Athletic Association club competition between the top Cavan Gaelic football clubs',\n",
       " 'feel that perfect emotion.\" \"This Kiss\" was recorded at Party Rock Studio with Redfoo in 2012 after Redfoo recorded ideas at Sonic',\n",
       " 'Front and Centre Front and Centre was a Canadian music variety television series which aired on CBC Television in 1963. \"Front and Centre\"',\n",
       " 'of any race or creed, and that the future of atomic power could help mankind, or destroy it, depending on how people use it.',\n",
       " 'fjords. Spitsbergen was named by its discoverer, the Dutch navigator Willem Barentsz, in 15',\n",
       " 'disease. In retinal gene therapy, the most widely used vectors for ocular gene delivery are based on adeno-associated virus',\n",
       " 'parish priest. In 1837 – a few months after – he refused to become a canon penitentiary of the',\n",
       " 'of the album that can be found on AllMusic, Stephen Thomas Erlewine observes: Although billed as a collaborative effort, \"W',\n",
       " 'because the original settlement was at the junction of the Snake and Columbia rivers. The original name of the town was Steptoeville, named after Colonel Edward',\n",
       " 'National Society for the Preservation of Covered Bridges. The bridge underwent slight alterations being completed mid-winter 2009-2010 which consisted',\n",
       " 'Port Kembla FC Port Kembla Football Club are an Australian semi-professional association football club based in Port Kembla, New South Wales',\n",
       " 'crimes as estimated by the National Crime Victimization Survey. David Hemenway at the Harvard School of Public Health Injury Control Research Center, said that Kle',\n",
       " 'a mix of English and Belgian beers (due to the growing success of English beers at the time), so the name of the beer',\n",
       " 'Yaya Kerim Yaya Kerim (born 10 August 1991) is a Chadian football striker and the member of Chad national',\n",
       " 'Otto Abernetty Otto Abernetty (March 8, 1893 in Steinbeck-Ancker - July 2, 1940 in Chateaud',\n",
       " \"Djokovic in straight sets. Federer's next tournament was the Indian Wells Masters in California. He received a bye in the\",\n",
       " 'with a single balcony rises above it, adjoining the southwest corner of the prayer hall. Entered through a marble portal on its northwest wall',\n",
       " 'TGFBI Transforming growth factor, beta-induced, 68kDa, also known as TGFBI (initially called BIG',\n",
       " 'reasonable to call this a period of \"no quest\" that characterization is not accurate and in this period significant other progress was made, e',\n",
       " 'oil companies could build oil and gas pipelines from their Caspian Basin holdings in Kazakhstan, across Afghanistan and Pakistan, to the Arabian Sea',\n",
       " 'city, and Interstate 5, U.S. Highway 50 and California State Route 99 are all located from three to from the city. The Business 80 freeway',\n",
       " 'The Tower and the Hive The Tower and the Hive is a 1999 science fiction novel by American writer Anne McCaffrey, the conclusion to',\n",
       " 'and had three mothers: one provided the egg, another the DNA, and a third carried the cloned embryo to term. She was',\n",
       " 'were made available. The reaction from the audience was reportedly subdued, with some applauding at the finish but most of the Germans',\n",
       " 'airbases would interdict takeoffs and landings by conventional aircraft, the Army found Doaks proposal attractive, and on April 10, 1956,',\n",
       " 'the Dominion production was first extended until October 27, 2018, and subsequently extended again so that it is currently booking until January 5, 2019. The London Colis',\n",
       " \"Cabinet of the United States The Cabinet of the United States is part of the executive branch of the federal government of the United States. The Cabinet's role\",\n",
       " 'Ride of Steel\" prior to 2009, but it features a significantly different layout. On March 3, 2016, Six Flags announced that the ride would be one',\n",
       " 'West Indies, \\'Lady Finger\\' is also used to describe the Ney Poovan banana cultivar (\"Musa acumin',\n",
       " \"out of us. It's such a crazy thing when you have the right magic and chemistry going on – the songs tend to write themselves\",\n",
       " 'Dean Witter Group, which would give them two ARM Holdings shares for every five Acorn Group shares that they owned. The shareholders accepted and',\n",
       " \"in a hairdo similar to Schultzy's. Someone on the creative team or in editorial came to feel that the resembl\",\n",
       " \"Wildcats played their first game in the Spectrum in Philadelphia. Because of the greater seating capacity, the 'Cats generally played a few home\",\n",
       " 'have an IP address in the IP address block, to which the interface is connected. This may not be possible if the end host is multi-home',\n",
       " \"though, the evil spirit's harmful activities only intensified, manifesting (in part) as atmospheric disturbances including hailstorms, but also \",\n",
       " 'by youth all over the world. For the celebration of International Youth Day 2010 in Nepal, an event was organized by 19 youth organizations of Nepal, named Youth',\n",
       " 'also part of the show. The series began on Monday, April 25, 2016, on HBO Now, HBO Go, HBO On Demand and HBO. The stated purpose',\n",
       " \"The Mad Dash The Mad Dash is a television game show created by Sidney M. Cohen which first appeared in 1978 on Canada's\",\n",
       " '7.7/10 by IGN and 6.8/10 by GameSpot. Major League Baseball Featuring Ken Griffey Jr. Major League Baseball Featuring',\n",
       " 'most reactionary forces in Germans, but at the same time had assured the populations\\' food supply.\" In short, the western efforts are \"empty',\n",
       " 'League. In the following season, the club won a second league championship and also entered the FA Cup for the first time, defeating Carlisle',\n",
       " '\"low company\" she kept during drinking binges. She was later dismissed, supposedly for beating Byron when he was 11. A few years later',\n",
       " 'to caucus with them, Senate Democrats needed to win a net gain of two Senate seats to win a majority. Including the two',\n",
       " 'was still largely forested in the Early Neolithic, covered by a woodland of oak, ash, hazel/alder and',\n",
       " 'Dreaming (Blondie song) \"Dreaming\" is a song by the American new wave band Blondie. Released',\n",
       " 'admired as comic actors. Ebert was sorely disappointed by the film, giving it one star out of four, a small step from his original',\n",
       " 'Cnidaria Cnidaria () is a phylum under Kingdom Animalia containing over 11,000 species of animals',\n",
       " \"Those firmly rooted in knowledge Those firmly rooted in knowledge is a recurring theme in the Qur'an and Sunnah\",\n",
       " 'The Puppies (New wave band) The Puppies was an American new wave band from San Diego County, California. Dane Conover was',\n",
       " 'time left before noon. He spots several parachutes and uses one to jump off the plane. Mr. Grin turns the plane around hoping to ',\n",
       " '\"practically impossible\" to get the character to return in any later seasons. Initial responses to the character were mostly positive. Maureen Ryan of the',\n",
       " \"'Happiness Tents' in refugee camps Mickey Beyer Clausen Mickey Beyer-Clausen (April 3, 1975 in\",\n",
       " 'which entailed an interview at an American Embassy, confiscation of the passport during the lengthy application process, and then, if permission were granted,',\n",
       " 'Swayambhunath Swayambhunath (Devanagari:  ; ; sometimes',\n",
       " \"price for Ivan Alexander of Bulgaria's support in the Byzantine civil war of 1341–47. In 1364 the Ottoman Turk\",\n",
       " \"On 13 August, however, he was sacked, and became Luis Enrique's assistant at Celta de Vigo the following\",\n",
       " 'of a Roman villa rustica that has been so completely excavated. Hitherto, only a few carved stones with ornamental and',\n",
       " 'with board-and-batten siding on a low fieldstone foundation. The church measures 70 feet by 30 feet. It has a square central',\n",
       " 'Christ Church (Cambridge, Massachusetts) \"For other churches with this name, please see Christ Church (disambiguation).\" Christ Church,',\n",
       " 'Katarina\" which many critics admired. While \"Im weißen Rößl\" in its multiple international productions always freely accommodate']"
      ]
     },
     "execution_count": 26,
     "metadata": {},
     "output_type": "execute_result"
    }
   ],
   "source": [
    "true_text"
   ]
  },
  {
   "cell_type": "code",
   "execution_count": null,
   "id": "826f8148-dcaf-4bb7-bb5f-33bbe3d141a7",
   "metadata": {},
   "outputs": [],
   "source": []
  }
 ],
 "metadata": {
  "kernelspec": {
   "display_name": "Python 3 (ipykernel)",
   "language": "python",
   "name": "python3"
  },
  "language_info": {
   "codemirror_mode": {
    "name": "ipython",
    "version": 3
   },
   "file_extension": ".py",
   "mimetype": "text/x-python",
   "name": "python",
   "nbconvert_exporter": "python",
   "pygments_lexer": "ipython3",
   "version": "3.10.10"
  }
 },
 "nbformat": 4,
 "nbformat_minor": 5
}
