{
 "cells": [
  {
   "cell_type": "code",
   "execution_count": 1,
   "id": "e0352894-f93a-433a-bbca-b7c3c2a3619f",
   "metadata": {},
   "outputs": [],
   "source": [
    "import os\n",
    "os.environ[\"WANDB_DISABLED\"] = \"true\"\n",
    "\n",
    "import sys\n",
    "sys.path.append('..')\n",
    "\n",
    "%load_ext autoreload\n",
    "%autoreload 2"
   ]
  },
  {
   "cell_type": "code",
   "execution_count": 5,
   "id": "6c4ed315-bab5-44f0-95ac-d79c0a6ad79e",
   "metadata": {},
   "outputs": [
    {
     "name": "stdout",
     "output_type": "stream",
     "text": [
      "Loading trainer for analysis – setting --do_eval=1\n",
      "loading alias dpr_nq__msl32_beta from /home/jxm3/research/retrieval/inversion/saves/db66b9c01b644541fedbdcc59c53a285/ebb31d91810c4b62d2b55b5382e8c7ea...\n",
      "Set train_args.dataloader_num_workers = 4\n"
     ]
    },
    {
     "name": "stderr",
     "output_type": "stream",
     "text": [
      "/home/jxm3/.conda/envs/torch/lib/python3.10/site-packages/transformers/models/t5/tokenization_t5_fast.py:155: FutureWarning: This tokenizer was incorrectly instantiated with a model max length of 512 which will be corrected in Transformers v5.\n",
      "For now, this behavior is kept to avoid breaking backwards compatibility when padding/encoding with `truncation is True`.\n",
      "- Be aware that you SHOULD NOT rely on t5-base automatically truncating your input to 512 when padding/encoding.\n",
      "- If you want to encode/pad to sequences longer than 512 you can either instantiate this tokenizer with `model_max_length` or pass `max_length` when encoding/padding.\n",
      "- To avoid this warning, please instantiate this tokenizer with `model_max_length` set to your preferred value.\n",
      "  warnings.warn(\n"
     ]
    },
    {
     "name": "stdout",
     "output_type": "stream",
     "text": [
      "================ Begin trainer sanity check ================\n",
      "\tInput to encode -> Twas brillig, and the slithy toves, Did gyre and gimble in the wabe, All mimsy were the borogoves, And the mome raths outgrabe.\n",
      "\tDecoded output -> <pad> The m<unk>lbies wase wyst bograge; And the sliths and toms wy</s>\n",
      "================ End trainer sanity check ================\n"
     ]
    }
   ],
   "source": [
    "import analyze_utils\n",
    "\n",
    "# this model was trained on too-easy data: single hard negatives generated from a broken t5.\n",
    "# checkpoint_folder = \"/home/jxm3/research/retrieval/inversion/saves/ef674b4d1bdb4d5d5d678e8ef1aafe98/\"\n",
    "# this is the next model we trained using 4x as many better negatives, but only for an hour.\n",
    "checkpoint_folder = \"/home/jxm3/research/retrieval/inversion/saves/707b21d92c5d4c3678d3872e68ea1383/\"\n",
    "\n",
    "trainer = analyze_utils.load_trainer(checkpoint_folder)"
   ]
  },
  {
   "cell_type": "code",
   "execution_count": 6,
   "id": "64eb9a2c-0702-4759-a207-7a3a3850a329",
   "metadata": {},
   "outputs": [],
   "source": [
    "trainer.args.per_device_eval_batch_size = 64\n",
    "eval_batch = next(iter(trainer.get_eval_dataloader()))\n",
    "# eval_batch = {k: v[0:1, ...] for k,v in eval_batch.items()} # just one guy\n",
    "eval_batch = {k: v.to(trainer.args.device) for k,v in eval_batch.items()}"
   ]
  },
  {
   "cell_type": "code",
   "execution_count": 34,
   "id": "fa07ca2a-5c94-4ed2-bb31-95052158d203",
   "metadata": {},
   "outputs": [
    {
     "name": "stdout",
     "output_type": "stream",
     "text": [
      "> \u001b[0;32m/home/jxm3/research/retrieval/inversion/trainers.py\u001b[0m(513)\u001b[0;36mgenerate_with_reranking\u001b[0;34m()\u001b[0m\n",
      "\u001b[0;32m    511 \u001b[0;31m            \u001b[0mscores\u001b[0m \u001b[0;34m=\u001b[0m \u001b[0mtorch\u001b[0m\u001b[0;34m.\u001b[0m\u001b[0meinsum\u001b[0m\u001b[0;34m(\u001b[0m\u001b[0;34m\"bwd,bd->bw\"\u001b[0m\u001b[0;34m,\u001b[0m \u001b[0mhypothesis_embeddings\u001b[0m\u001b[0;34m,\u001b[0m \u001b[0membedding_embeds\u001b[0m\u001b[0;34m)\u001b[0m\u001b[0;34m\u001b[0m\u001b[0;34m\u001b[0m\u001b[0m\n",
      "\u001b[0m\u001b[0;32m    512 \u001b[0;31m            \u001b[0;32mimport\u001b[0m \u001b[0mpdb\u001b[0m\u001b[0;34m;\u001b[0m \u001b[0mpdb\u001b[0m\u001b[0;34m.\u001b[0m\u001b[0mset_trace\u001b[0m\u001b[0;34m(\u001b[0m\u001b[0;34m)\u001b[0m\u001b[0;34m\u001b[0m\u001b[0;34m\u001b[0m\u001b[0m\n",
      "\u001b[0m\u001b[0;32m--> 513 \u001b[0;31m            \u001b[0;32massert\u001b[0m \u001b[0mscores\u001b[0m\u001b[0;34m.\u001b[0m\u001b[0mshape\u001b[0m \u001b[0;34m==\u001b[0m \u001b[0;34m(\u001b[0m\u001b[0mbatch_size\u001b[0m\u001b[0;34m,\u001b[0m \u001b[0mB\u001b[0m\u001b[0;34m)\u001b[0m\u001b[0;34m\u001b[0m\u001b[0;34m\u001b[0m\u001b[0m\n",
      "\u001b[0m\u001b[0;32m    514 \u001b[0;31m            \u001b[0;31m# truncate beams\u001b[0m\u001b[0;34m\u001b[0m\u001b[0;34m\u001b[0m\u001b[0m\n",
      "\u001b[0m\u001b[0;32m    515 \u001b[0;31m            \u001b[0mhypotheses\u001b[0m \u001b[0;34m=\u001b[0m \u001b[0mhypotheses\u001b[0m\u001b[0;34m.\u001b[0m\u001b[0mreshape\u001b[0m\u001b[0;34m(\u001b[0m\u001b[0;34m(\u001b[0m\u001b[0mbatch_size\u001b[0m\u001b[0;34m,\u001b[0m \u001b[0mB\u001b[0m\u001b[0;34m,\u001b[0m \u001b[0mhypothesis_length\u001b[0m\u001b[0;34m)\u001b[0m\u001b[0;34m)\u001b[0m\u001b[0;34m\u001b[0m\u001b[0;34m\u001b[0m\u001b[0m\n",
      "\u001b[0m\n"
     ]
    },
    {
     "name": "stdin",
     "output_type": "stream",
     "text": [
      "ipdb>  p scores\n"
     ]
    },
    {
     "name": "stdout",
     "output_type": "stream",
     "text": [
      "tensor([[0.3820, 0.3021, 0.3177, 0.3128],\n",
      "        [0.2872, 0.3569, 0.4901, 0.2289],\n",
      "        [0.3377, 0.4095, 0.3195, 0.4247],\n",
      "        [0.4271, 0.3566, 0.3771, 0.3400],\n",
      "        [0.4910, 0.3855, 0.4682, 0.2483],\n",
      "        [0.3806, 0.3881, 0.3967, 0.3893],\n",
      "        [0.3701, 0.3984, 0.3808, 0.4155],\n",
      "        [0.2644, 0.2351, 0.2430, 0.2439],\n",
      "        [0.2939, 0.1258, 0.2239, 0.2122],\n",
      "        [0.2432, 0.3396, 0.3810, 0.3566],\n",
      "        [0.2777, 0.2980, 0.2861, 0.2291],\n",
      "        [0.3212, 0.4001, 0.4353, 0.3126],\n",
      "        [0.2993, 0.2942, 0.2695, 0.2304],\n",
      "        [0.4257, 0.4265, 0.4272, 0.3877],\n",
      "        [0.3748, 0.4363, 0.4427, 0.4183],\n",
      "        [0.4966, 0.5322, 0.5392, 0.4933],\n",
      "        [0.4602, 0.5039, 0.3837, 0.4900],\n",
      "        [0.3673, 0.4007, 0.3963, 0.4266],\n",
      "        [0.1864, 0.3783, 0.1979, 0.1712],\n",
      "        [0.4297, 0.4547, 0.4379, 0.4504],\n",
      "        [0.1476, 0.1816, 0.0501, 0.2265],\n",
      "        [0.4145, 0.3557, 0.4332, 0.4014],\n",
      "        [0.4014, 0.3441, 0.3906, 0.3794],\n",
      "        [0.3262, 0.3764, 0.3966, 0.3166],\n",
      "        [0.4459, 0.4108, 0.4547, 0.4363],\n",
      "        [0.2086, 0.2615, 0.1786, 0.2449],\n",
      "        [0.3147, 0.3278, 0.3100, 0.2547],\n",
      "        [0.4051, 0.3435, 0.3908, 0.3522],\n",
      "        [0.2780, 0.3186, 0.2463, 0.2898],\n",
      "        [0.2589, 0.2118, 0.2797, 0.2137],\n",
      "        [0.4456, 0.3559, 0.4094, 0.3457],\n",
      "        [0.4490, 0.5320, 0.4839, 0.4504],\n",
      "        [0.2644, 0.2838, 0.3766, 0.3472],\n",
      "        [0.2501, 0.2708, 0.3033, 0.2359],\n",
      "        [0.3875, 0.3847, 0.3209, 0.3663],\n",
      "        [0.2762, 0.3330, 0.2058, 0.1880],\n",
      "        [0.2876, 0.3092, 0.2879, 0.2739],\n",
      "        [0.2712, 0.2651, 0.2842, 0.2713],\n",
      "        [0.4186, 0.4152, 0.4160, 0.4735],\n",
      "        [0.1028, 0.3416, 0.0830, 0.3398],\n",
      "        [0.3220, 0.2709, 0.3763, 0.2713],\n",
      "        [0.3973, 0.3020, 0.2847, 0.4224],\n",
      "        [0.3729, 0.4155, 0.3517, 0.3492],\n",
      "        [0.4460, 0.4732, 0.4211, 0.4640],\n",
      "        [0.2136, 0.1796, 0.2056, 0.1763],\n",
      "        [0.4435, 0.4242, 0.4142, 0.3746],\n",
      "        [0.3576, 0.2750, 0.2449, 0.3201],\n",
      "        [0.1543, 0.1815, 0.1701, 0.1752],\n",
      "        [0.4430, 0.3912, 0.4511, 0.4014],\n",
      "        [0.3873, 0.3647, 0.4127, 0.3663],\n",
      "        [0.3113, 0.2955, 0.2978, 0.2988],\n",
      "        [0.4094, 0.3883, 0.4179, 0.3313],\n",
      "        [0.2979, 0.3546, 0.4031, 0.3535],\n",
      "        [0.4445, 0.3487, 0.3814, 0.2832],\n",
      "        [0.3667, 0.3648, 0.3603, 0.3844],\n",
      "        [0.3540, 0.4376, 0.3370, 0.3558],\n",
      "        [0.3407, 0.2165, 0.3525, 0.3373],\n",
      "        [0.4155, 0.4683, 0.3529, 0.4265],\n",
      "        [0.4251, 0.4618, 0.4552, 0.3712],\n",
      "        [0.2134, 0.1615, 0.1246, 0.2298],\n",
      "        [0.2923, 0.2769, 0.2701, 0.2889],\n",
      "        [0.4915, 0.5170, 0.5019, 0.4350],\n",
      "        [0.2124, 0.2385, 0.1509, 0.1694],\n",
      "        [0.2449, 0.2429, 0.2544, 0.2604]], device='cuda:0')\n"
     ]
    },
    {
     "name": "stdin",
     "output_type": "stream",
     "text": [
      "ipdb>  exit\n"
     ]
    }
   ],
   "source": [
    "import torch\n",
    "with torch.no_grad():\n",
    "    reranked_gens = trainer.generate_with_reranking(eval_batch, L=5, B=4)"
   ]
  },
  {
   "cell_type": "code",
   "execution_count": 8,
   "id": "3fdfa7c6-a681-483a-bd00-9629f81f3c98",
   "metadata": {},
   "outputs": [],
   "source": [
    "gens = trainer.inversion_trainer.model.generate(eval_batch, generation_kwargs={\n",
    "    \"num_beams\": 4,\n",
    "    \"num_return_sequences\": 1,\n",
    "    \"do_sample\": False,\n",
    "    \"no_repeat_ngram_size\": 3,\n",
    "})[:, 1:]"
   ]
  },
  {
   "cell_type": "code",
   "execution_count": 9,
   "id": "d2f25c70-1b78-415a-9ab6-76221a36cfa6",
   "metadata": {},
   "outputs": [
    {
     "data": {
      "text/plain": [
       "(torch.Size([64, 32]), torch.Size([64, 32]))"
      ]
     },
     "execution_count": 9,
     "metadata": {},
     "output_type": "execute_result"
    }
   ],
   "source": [
    "reranked_gens.shape, gens.shape"
   ]
  },
  {
   "cell_type": "code",
   "execution_count": 10,
   "id": "2cbc59bb-efc3-41d6-82f0-892f2ecc5c92",
   "metadata": {},
   "outputs": [
    {
     "data": {
      "text/plain": [
       "['to that of the skulls of infant sutures, which are relatively smooth and untidy in character. Nevertheless, the suture </s>']"
      ]
     },
     "execution_count": 10,
     "metadata": {},
     "output_type": "execute_result"
    }
   ],
   "source": [
    "trainer.embedder_tokenizer.batch_decode(gens[0:1])"
   ]
  },
  {
   "cell_type": "code",
   "execution_count": 11,
   "id": "7274c9f2-a00b-43be-9e8a-29665c496743",
   "metadata": {},
   "outputs": [
    {
     "data": {
      "text/plain": [
       "['to the character of the skull, which are relatively smooth and untutuous in the manner of infant sutures. Indeed, the skull of one</s>']"
      ]
     },
     "execution_count": 11,
     "metadata": {},
     "output_type": "execute_result"
    }
   ],
   "source": [
    "trainer.embedder_tokenizer.batch_decode(reranked_gens[0:1])"
   ]
  },
  {
   "cell_type": "code",
   "execution_count": 12,
   "id": "4ff47f3b-599a-4327-972b-8f2978a8f61a",
   "metadata": {},
   "outputs": [],
   "source": [
    "gens_text = trainer.embedder_tokenizer.batch_decode(gens, add_special_tokens=False)\n",
    "reranked_text = trainer.embedder_tokenizer.batch_decode(reranked_gens, add_special_tokens=False)\n",
    "true_text = trainer.embedder_tokenizer.batch_decode(eval_batch['embedder_input_ids'])"
   ]
  },
  {
   "cell_type": "code",
   "execution_count": 13,
   "id": "ed09ff69-ac78-4e57-a41c-a9a2cc9eee00",
   "metadata": {},
   "outputs": [],
   "source": [
    "bleu = trainer.inversion_trainer.metric_bleu"
   ]
  },
  {
   "cell_type": "code",
   "execution_count": 42,
   "id": "663ee38e-d83b-486d-98e1-0addcf9a3233",
   "metadata": {},
   "outputs": [
    {
     "data": {
      "text/plain": [
       "{'score': 35.64198521987842,\n",
       " 'counts': [1296, 765, 481, 305],\n",
       " 'totals': [1814, 1750, 1686, 1622],\n",
       " 'precisions': [71.44432194046307,\n",
       "  43.714285714285715,\n",
       "  28.52906287069988,\n",
       "  18.803945745992603],\n",
       " 'bp': 0.990672221585101,\n",
       " 'sys_len': 1814,\n",
       " 'ref_len': 1831}"
      ]
     },
     "execution_count": 42,
     "metadata": {},
     "output_type": "execute_result"
    }
   ],
   "source": [
    "bleu.compute(\n",
    "    predictions=gens_text, references=true_text\n",
    ")"
   ]
  },
  {
   "cell_type": "code",
   "execution_count": 15,
   "id": "3cd2e95f-ee9a-42d5-ab4e-b11702ca4b41",
   "metadata": {},
   "outputs": [
    {
     "data": {
      "text/plain": [
       "{'score': 29.745891218688616,\n",
       " 'counts': [1250, 675, 398, 212],\n",
       " 'totals': [1834, 1770, 1706, 1642],\n",
       " 'precisions': [68.15703380588877,\n",
       "  38.13559322033898,\n",
       "  23.329425556858148,\n",
       "  12.911084043848964],\n",
       " 'bp': 1.0,\n",
       " 'sys_len': 1834,\n",
       " 'ref_len': 1831}"
      ]
     },
     "execution_count": 15,
     "metadata": {},
     "output_type": "execute_result"
    }
   ],
   "source": [
    "bleu.compute(\n",
    "    predictions=reranked_text, references=true_text\n",
    ")"
   ]
  },
  {
   "cell_type": "markdown",
   "id": "851fd573-ba6e-4870-b9b0-31a601ad0a13",
   "metadata": {},
   "source": [
    "## hparam search\n"
   ]
  },
  {
   "cell_type": "code",
   "execution_count": null,
   "id": "0c4198f8-8d0d-433a-8adf-8b16aba51e9c",
   "metadata": {},
   "outputs": [
    {
     "name": "stdout",
     "output_type": "stream",
     "text": [
      "L=1\n",
      "L=4\n",
      "L=8\n",
      "L=16\n"
     ]
    }
   ],
   "source": [
    "import torch\n",
    "\n",
    "data = []\n",
    "for L in [1, 4, 8, 16]:\n",
    "    print(f\"L={L}\")\n",
    "    for B in [1, 4, 8, 16]:\n",
    "        with torch.no_grad():\n",
    "            reranked_gens = trainer.generate_with_reranking(eval_batch, L=L, B=B)\n",
    "        reranked_text = trainer.embedder_tokenizer.batch_decode(reranked_gens, add_special_tokens=False)\n",
    "        bleu_score = bleu.compute(predictions=reranked_text, references=true_text)\n",
    "        data.append((L, B, bleu_score[\"score\"]))"
   ]
  },
  {
   "cell_type": "code",
   "execution_count": 40,
   "id": "87946387-66c4-468e-be66-adf0a130edc1",
   "metadata": {},
   "outputs": [
    {
     "data": {
      "text/plain": [
       "<Axes: xlabel='B', ylabel='L'>"
      ]
     },
     "execution_count": 40,
     "metadata": {},
     "output_type": "execute_result"
    },
    {
     "data": {
      "image/png": "[encoded data removed]",
      "text/plain": [
       "<Figure size 640x480 with 2 Axes>"
      ]
     },
     "metadata": {},
     "output_type": "display_data"
    }
   ],
   "source": [
    "import pandas as pd\n",
    "\n",
    "df = pd.DataFrame(data, columns=[\"L\", \"B\", \"bleu_score\"])\n",
    "\n",
    "import seaborn as sns\n",
    "sns.heatmap(df.pivot(index='L', columns='B', values='bleu_score'))"
   ]
  },
  {
   "cell_type": "code",
   "execution_count": 41,
   "id": "3b5e87ca-e60f-49bb-aad1-e4520a735b54",
   "metadata": {},
   "outputs": [
    {
     "data": {
      "text/plain": [
       "L             16.000000\n",
       "B             16.000000\n",
       "bleu_score    34.302609\n",
       "dtype: float64"
      ]
     },
     "execution_count": 41,
     "metadata": {},
     "output_type": "execute_result"
    }
   ],
   "source": [
    "df.max()"
   ]
  },
  {
   "cell_type": "markdown",
   "id": "0906b514-943a-48a0-9faa-52dcadd7806d",
   "metadata": {},
   "source": [
    "## looking at generations"
   ]
  },
  {
   "cell_type": "code",
   "execution_count": 16,
   "id": "82b8d9d8-dbe5-475c-9d87-70f3bba9e14f",
   "metadata": {},
   "outputs": [
    {
     "data": {
      "text/plain": [
       "tensor(0.6719, device='cuda:0')"
      ]
     },
     "execution_count": 16,
     "metadata": {},
     "output_type": "execute_result"
    }
   ],
   "source": [
    "true_ids = eval_batch['embedder_input_ids']\n",
    "(true_ids[:, 0] == gens[:, 0]).float().mean()"
   ]
  },
  {
   "cell_type": "code",
   "execution_count": 17,
   "id": "86448196-e203-4a19-8d2a-d395f15b5a98",
   "metadata": {},
   "outputs": [
    {
     "data": {
      "text/plain": [
       "tensor(1., device='cuda:0')"
      ]
     },
     "execution_count": 17,
     "metadata": {},
     "output_type": "execute_result"
    }
   ],
   "source": [
    "(true_ids[:, 0] == reranked_gens[:, 0]).float().mean()"
   ]
  },
  {
   "cell_type": "code",
   "execution_count": 18,
   "id": "e6e1108b-ad11-40b9-b3d4-6431347333d4",
   "metadata": {},
   "outputs": [],
   "source": [
    "import pandas as pd\n",
    "\n",
    "df = pd.DataFrame(zip(true_text, gens_text, reranked_text), columns=['true', 'generated', 'generated w/ reranking'])"
   ]
  },
  {
   "cell_type": "code",
   "execution_count": 19,
   "id": "a4f0128e-8a88-4eb3-b8bb-404dd42b9563",
   "metadata": {},
   "outputs": [
    {
     "data": {
      "text/html": [
       "<div>\n",
       "<style scoped>\n",
       "    .dataframe tbody tr th:only-of-type {\n",
       "        vertical-align: middle;\n",
       "    }\n",
       "\n",
       "    .dataframe tbody tr th {\n",
       "        vertical-align: top;\n",
       "    }\n",
       "\n",
       "    .dataframe thead th {\n",
       "        text-align: right;\n",
       "    }\n",
       "</style>\n",
       "<table border=\"1\" class=\"dataframe\">\n",
       "  <thead>\n",
       "    <tr style=\"text-align: right;\">\n",
       "      <th></th>\n",
       "      <th>true</th>\n",
       "      <th>generated</th>\n",
       "      <th>generated w/ reranking</th>\n",
       "    </tr>\n",
       "  </thead>\n",
       "  <tbody>\n",
       "    <tr>\n",
       "      <th>0</th>\n",
       "      <td>to the character of the sutures of the skull w...</td>\n",
       "      <td>to that of the skulls of infant sutures, which...</td>\n",
       "      <td>to the character of the skull, which are relat...</td>\n",
       "    </tr>\n",
       "    <tr>\n",
       "      <th>1</th>\n",
       "      <td>individual from the Southern Hemisphere, to wi...</td>\n",
       "      <td>individual from the Southern Hemisphere to win...</td>\n",
       "      <td>individual from Australia to win the Winter Ol...</td>\n",
       "    </tr>\n",
       "    <tr>\n",
       "      <th>2</th>\n",
       "      <td>the same rights as straight people, while 15% ...</td>\n",
       "      <td>the same rights as heterosexuals, and 75% agre...</td>\n",
       "      <td>the same rights as straight people, and 37% ag...</td>\n",
       "    </tr>\n",
       "    <tr>\n",
       "      <th>3</th>\n",
       "      <td>Bruthen, Victoria Bruthen is a small town loca...</td>\n",
       "      <td>Bruthen, Victoria Brutten is a small town loca...</td>\n",
       "      <td>Bruthen, Victoria Brutheen is a small town sit...</td>\n",
       "    </tr>\n",
       "    <tr>\n",
       "      <th>4</th>\n",
       "      <td>Castle Vale Castle Vale is a housing estate lo...</td>\n",
       "      <td>Castle Vale castle Vale is a castle located be...</td>\n",
       "      <td>Castle Vale castle Vale is a place located bet...</td>\n",
       "    </tr>\n",
       "    <tr>\n",
       "      <th>...</th>\n",
       "      <td>...</td>\n",
       "      <td>...</td>\n",
       "      <td>...</td>\n",
       "    </tr>\n",
       "    <tr>\n",
       "      <th>59</th>\n",
       "      <td>of the largely unsuccessful \"90 Bristol Court\"...</td>\n",
       "      <td>largely unsuccessful \"Bampton Court\" for the r...</td>\n",
       "      <td>of the largely unsuccessful '84 Court'. The fi...</td>\n",
       "    </tr>\n",
       "    <tr>\n",
       "      <th>60</th>\n",
       "      <td>The band was most popular in the 1990s in Japa...</td>\n",
       "      <td>The band's most popular album was released in ...</td>\n",
       "      <td>The band was most popular in Japan, where thei...</td>\n",
       "    </tr>\n",
       "    <tr>\n",
       "      <th>61</th>\n",
       "      <td>that to successfully affect the youth it has t...</td>\n",
       "      <td>that it can incorporate events beyond its crea...</td>\n",
       "      <td>that it incorporates events beyond its creatio...</td>\n",
       "    </tr>\n",
       "    <tr>\n",
       "      <th>62</th>\n",
       "      <td>at Advision. Cordell was concerned that the so...</td>\n",
       "      <td>radio. Talbotton was concerned that the sound ...</td>\n",
       "      <td>at the radio station. White of the Shade of Pa...</td>\n",
       "    </tr>\n",
       "    <tr>\n",
       "      <th>63</th>\n",
       "      <td>Scott freelanced for several years, and in 192...</td>\n",
       "      <td>Scott noted that during the 1920s and 1930s An...</td>\n",
       "      <td>Scott noted that during 1920s and 1930s Anne K...</td>\n",
       "    </tr>\n",
       "  </tbody>\n",
       "</table>\n",
       "<p>64 rows × 3 columns</p>\n",
       "</div>"
      ],
      "text/plain": [
       "                                                 true   \n",
       "0   to the character of the sutures of the skull w...  \\\n",
       "1   individual from the Southern Hemisphere, to wi...   \n",
       "2   the same rights as straight people, while 15% ...   \n",
       "3   Bruthen, Victoria Bruthen is a small town loca...   \n",
       "4   Castle Vale Castle Vale is a housing estate lo...   \n",
       "..                                                ...   \n",
       "59  of the largely unsuccessful \"90 Bristol Court\"...   \n",
       "60  The band was most popular in the 1990s in Japa...   \n",
       "61  that to successfully affect the youth it has t...   \n",
       "62  at Advision. Cordell was concerned that the so...   \n",
       "63  Scott freelanced for several years, and in 192...   \n",
       "\n",
       "                                            generated   \n",
       "0   to that of the skulls of infant sutures, which...  \\\n",
       "1   individual from the Southern Hemisphere to win...   \n",
       "2   the same rights as heterosexuals, and 75% agre...   \n",
       "3   Bruthen, Victoria Brutten is a small town loca...   \n",
       "4   Castle Vale castle Vale is a castle located be...   \n",
       "..                                                ...   \n",
       "59  largely unsuccessful \"Bampton Court\" for the r...   \n",
       "60  The band's most popular album was released in ...   \n",
       "61  that it can incorporate events beyond its crea...   \n",
       "62  radio. Talbotton was concerned that the sound ...   \n",
       "63  Scott noted that during the 1920s and 1930s An...   \n",
       "\n",
       "                               generated w/ reranking  \n",
       "0   to the character of the skull, which are relat...  \n",
       "1   individual from Australia to win the Winter Ol...  \n",
       "2   the same rights as straight people, and 37% ag...  \n",
       "3   Bruthen, Victoria Brutheen is a small town sit...  \n",
       "4   Castle Vale castle Vale is a place located bet...  \n",
       "..                                                ...  \n",
       "59  of the largely unsuccessful '84 Court'. The fi...  \n",
       "60  The band was most popular in Japan, where thei...  \n",
       "61  that it incorporates events beyond its creatio...  \n",
       "62  at the radio station. White of the Shade of Pa...  \n",
       "63  Scott noted that during 1920s and 1930s Anne K...  \n",
       "\n",
       "[64 rows x 3 columns]"
      ]
     },
     "execution_count": 19,
     "metadata": {},
     "output_type": "execute_result"
    }
   ],
   "source": [
    "df"
   ]
  },
  {
   "cell_type": "code",
   "execution_count": null,
   "id": "fe7433a8-7fda-45d3-8980-636700f2f342",
   "metadata": {},
   "outputs": [],
   "source": []
  },
  {
   "cell_type": "code",
   "execution_count": null,
   "id": "b33fea83-8650-41b4-827d-6a27496b8a85",
   "metadata": {},
   "outputs": [],
   "source": []
  }
 ],
 "metadata": {
  "kernelspec": {
   "display_name": "Python 3 (ipykernel)",
   "language": "python",
   "name": "python3"
  },
  "language_info": {
   "codemirror_mode": {
    "name": "ipython",
    "version": 3
   },
   "file_extension": ".py",
   "mimetype": "text/x-python",
   "name": "python",
   "nbconvert_exporter": "python",
   "pygments_lexer": "ipython3",
   "version": "3.10.10"
  }
 },
 "nbformat": 4,
 "nbformat_minor": 5
}
