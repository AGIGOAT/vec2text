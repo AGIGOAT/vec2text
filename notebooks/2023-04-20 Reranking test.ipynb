{
 "cells": [
  {
   "cell_type": "code",
   "execution_count": 1,
   "id": "e0352894-f93a-433a-bbca-b7c3c2a3619f",
   "metadata": {},
   "outputs": [],
   "source": [
    "import os\n",
    "os.environ[\"WANDB_DISABLED\"] = \"true\"\n",
    "\n",
    "import sys\n",
    "sys.path.append('..')\n",
    "\n",
    "%load_ext autoreload\n",
    "%autoreload 2"
   ]
  },
  {
   "cell_type": "code",
   "execution_count": 2,
   "id": "6c4ed315-bab5-44f0-95ac-d79c0a6ad79e",
   "metadata": {},
   "outputs": [
    {
     "name": "stdout",
     "output_type": "stream",
     "text": [
      "Loading trainer for analysis – setting --do_eval=1\n",
      "loading alias dpr_nq__msl32_beta from /home/jxm3/research/retrieval/inversion/saves/db66b9c01b644541fedbdcc59c53a285/ebb31d91810c4b62d2b55b5382e8c7ea...\n",
      "Set train_args.dataloader_num_workers = 4\n"
     ]
    },
    {
     "name": "stderr",
     "output_type": "stream",
     "text": [
      "/home/jxm3/.conda/envs/torch/lib/python3.10/site-packages/transformers/models/t5/tokenization_t5_fast.py:155: FutureWarning: This tokenizer was incorrectly instantiated with a model max length of 512 which will be corrected in Transformers v5.\n",
      "For now, this behavior is kept to avoid breaking backwards compatibility when padding/encoding with `truncation is True`.\n",
      "- Be aware that you SHOULD NOT rely on t5-base automatically truncating your input to 512 when padding/encoding.\n",
      "- If you want to encode/pad to sequences longer than 512 you can either instantiate this tokenizer with `model_max_length` or pass `max_length` when encoding/padding.\n",
      "- To avoid this warning, please instantiate this tokenizer with `model_max_length` set to your preferred value.\n",
      "  warnings.warn(\n"
     ]
    },
    {
     "name": "stdout",
     "output_type": "stream",
     "text": [
      "================ Begin trainer sanity check ================\n",
      "\tInput to encode -> Twas brillig, and the slithy toves, Did gyre and gimble in the wabe, All mimsy were the borogoves, And the mome raths outgrabe.\n",
      "\tDecoded output -> <pad> The m<unk>lbies wase wyst bograge; And the sliths and toms wy</s>\n",
      "================ End trainer sanity check ================\n"
     ]
    }
   ],
   "source": [
    "import analyze_utils\n",
    "\n",
    "checkpoint_folder = \"/home/jxm3/research/retrieval/inversion/saves/ef674b4d1bdb4d5d5d678e8ef1aafe98/\"\n",
    "trainer = analyze_utils.load_trainer(checkpoint_folder)"
   ]
  },
  {
   "cell_type": "code",
   "execution_count": 30,
   "id": "64eb9a2c-0702-4759-a207-7a3a3850a329",
   "metadata": {},
   "outputs": [],
   "source": [
    "trainer.args.per_device_eval_batch_size = 64\n",
    "eval_batch = next(iter(trainer.get_eval_dataloader()))\n",
    "# eval_batch = {k: v[0:1, ...] for k,v in eval_batch.items()} # just one guy\n",
    "eval_batch = {k: v.to(trainer.args.device) for k,v in eval_batch.items()}"
   ]
  },
  {
   "cell_type": "code",
   "execution_count": 31,
   "id": "003fc030-3f28-4fac-ad3a-a6f992855ed3",
   "metadata": {},
   "outputs": [
    {
     "data": {
      "text/plain": [
       "['to the character of the sutures of the skull which, like those of the infant skull, are relatively smooth and untortuous. In fact</s>',\n",
       " \"individual from the Southern Hemisphere, to win a Winter Olympic gold medal and was also part of the short track relay team that won Australia'</s>\",\n",
       " 'the same rights as straight people, while 15% disagreed. Additionally, 69% agreed that they should be protected from workplace discrimination. 13% of H</s>',\n",
       " 'Bruthen, Victoria Bruthen is a small town located alongside the Tambo River between Bairnsdale and Ensay on</s>',\n",
       " 'Castle Vale Castle Vale is a housing estate located between Erdington, Minworth and Castle Bromwich. Currently Castle Vale votes</s>',\n",
       " '1839. After her death, Fisk married her sister, Simona, on August 1, 1849. Deaf Smith moved freely between Anglo</s>',\n",
       " \"in 1978 he was a member of the Soviet Composer's Society in Moscow. He obtained commissions from the Russian Broadcasting Corporation</s>\",\n",
       " 'Zachary Throne Zachary Throne (born April 3, 1967 in Hollywood, California) is an American actor and musician who has appeared in </s>',\n",
       " \"a design by the Quaker carpenter Owen Biddle, Jr. Biddle is best known as the author of a builder'</s>\",\n",
       " 'from Oxford in 1925. After an extra year at Oxford doing work in the Bodleian Library, in 1892 she became principal of Aberdare</s>',\n",
       " 'was made by Vira Wala (Kathi Ruler) of Jetpur with Colonel Walker at Baroda on 26 October 1803.</s>',\n",
       " 'is applied to elementary variables, that is, to quantities and prices of different products and inputs. Variance accounting gives the user most possibilities for analysis.</s>',\n",
       " 'that Hunter was stabbed while the band was playing \"Sympathy for the Devil\". The events appear in the film \"Gimme Shelter</s>',\n",
       " 'town of Narva on 2 February. The 8th Army expanded the bridgehead in Krivasoo Swamp south of the town five days later,</s>',\n",
       " 'Stewart, Rachel Bilson, Scarlett Johansson, Cory Kennedy, Mischa Barton, Christina Ricci, Leighton</s>',\n",
       " 'safe haven near Uhud. Abu Muhammad and his family remained in Arabia until they were tracked down and killed during Caliph al-</s>',\n",
       " 'Ted Cruz and U.S. Representatives Kevin Brady, John Culberson, Al Green, Gene Green, Sheila Jackson Lee, Michael</s>',\n",
       " \"Hagerstown's minor league teams played at Willow Lane Park, where Bester Elementary School is now located. When the city made the decision to build</s>\",\n",
       " 'Average\" Reference: 2007 Philadelphia Wings season The Philadelphia Wings are a lacrosse team based in Philadelphia, Pennsylvania playing in the National La</s>',\n",
       " 'September 2016, InterDigital signed a license agreement with Huawei, and the companies agreed to \"a framework for discussions regarding joint research and development efforts.\" In December</s>',\n",
       " 'team member that did not perform the previous Roadblock rappel from the top of Reunion Tower, and spot a row of yellow and red flags on</s>',\n",
       " 'Washington Nationals minor league players Minor league players and teams affiliated with the Washington Nationals professional baseball organization include: Yasel Eneudy Ant</s>',\n",
       " 'A Fairly Odd Movie: Grow Up, Timmy Turner! A Fairly Odd Movie: Grow Up, Timmy Turner! (or simply</s>',\n",
       " 'describes himself as a rebellious American Indian character, \"Half Cherokee and Choctaw\". He describes, among other things,</s>',\n",
       " 'legal authorities believe poker is different from sports betting because poker involves a transfer of money between individuals, while sports betting is between an individual and online casino.</s>',\n",
       " 'faded into obscurity. Despite the less-than-spectacular response to the Gaines project, Brooks gained his first (</s>',\n",
       " 'the acting dean and professor of Sociology at Dillard. On, Dr. Taylor died. When asked how he managed to serve so many</s>',\n",
       " 'installed where it fell and would move no further. And so Ravana departed with Parvati and the \"linga\". Parvati prayed to</s>',\n",
       " \"taxiways and other features. Celone/San Nicola d'Arpi Airfield Celone/San Nicola</s>\",\n",
       " 'book is \"Listening to Prozac\" (1993). This work was grounded in the observation that, treated with antidepressants, some</s>',\n",
       " 'Nabo Gass Nabo Gass (25 August, 1954 in Ebingen, Germany) is a German painter and glass artist.</s>',\n",
       " 'Marquette Township, Marquette County, Michigan Marquette Charter Township is a charter township of Marquette County in the U.S. state of</s>',\n",
       " 'Chernenko, says that Transnistria loses $2–2.5 million daily from the Ukrainian regulations. (Transnistrian GDP is about $4</s>',\n",
       " 'spectators. The home field has been renovated in 2013, 2016. The team is in the Albanian Second Division. Klubi Sportiv Albpetrol</s>',\n",
       " 'Sita and most of all because Ravana wanted the throne for himself, he fled Lanka. His mother, Kaikesi</s>',\n",
       " 'combination of these two effects. Nonmagnetic materials and electrical insulators such as plastics can be induction-welded by implanting them with</s>',\n",
       " 'of his newfound love and mistakes Finch, who has dwarfism, for an elf. Buddy pesters Finch into losing his temper and</s>',\n",
       " 'decision to have the series focus on Patrick and Robin\\'s romance, Ed Martin of the \"Jack Myers Report\" stated, \"...it’</s>',\n",
       " \"FIBA Europe Men's Player of the Year Award The FIBA Europe Men's Player of the Year Award was an annual official FI</s>\",\n",
       " 'part of the 2008–09 Heineken Cup winning team. European Cup player records European Cup Individual Awards \"All players listed below are Irish unless otherwise</s>',\n",
       " \"of the city's economic wealth and power, lasting until the fall of the republic to Napoleon's conquest of the area in 1797. It</s>\",\n",
       " 'Sharon Needles. In January 2014, Royale released his debut single \"Weight\", which was endorsed by Logo TV. A remix EP was released in</s>',\n",
       " \"number 2 on the South Korean Gaon Weekly Albums Chart and number 45 on Japan's Oricon Weekly Albums Chart as a Korean import</s>\",\n",
       " 'contests occurred only when independent candidates or minor parties chose to stand, and the Common Wealth Party was formed with the specific aim of contesting war-time</s>',\n",
       " 'who wants nothing more than to be an ordinary girl again\". Luke Y. Thompson of \"LA Weekly\" compared her performance favorably to that of</s>',\n",
       " '2016 American Ultimate Disc League season The 2016 American Ultimate Disc League season is the fifth season for the league. The twenty-six teams were split</s>',\n",
       " 'class of \"Fungi imperfecti\", by adding a ninth section in order to accommodate \"T. roseum\" and its unique conidial</s>',\n",
       " 'his party had reached the Falls of the Ohio, and Bullitt laid out a town site there that later became Louisville, Kentucky. Bullitt</s>',\n",
       " 'Nils Dacke Nils Dacke was a Swedish yeoman who was the leader of a mid-16th century peas</s>',\n",
       " 'Bates wannabe, the lair where \\'A\\' did all her dirty work. The \"Psycho\" references were heavy-handed</s>',\n",
       " \"Handicap in September 1973, where Secretariat finished first and Annihilate 'Em finished fifth. Annihilate</s>\",\n",
       " 'of warrant officers includes the specific ranks of warrant officer (\"adjudant\" in French), master warrant officer (\"adjudant-maî</s>',\n",
       " 'offers to take him on a short, final trip to San Remo. They take a boat out, but when Ripley suggests they move</s>',\n",
       " 'the necessity for a continuing adaptation of the United Nations human rights machinery to the current and future needs in the promotion and protection of human rights, as </s>',\n",
       " 'by the second season. In the third season, a series of cast additions and departures began that would see the entire original cast leave over time</s>',\n",
       " 'other sources. In his 1925 research bulletin called \"How to Grow the Peanut and 105 Ways of Preparing it for Human Consumption</s>',\n",
       " 'She was in the cast for six years. Burgess was a member of the Burn the Floor cast when the show moved to Broadway. Burg</s>',\n",
       " 'expectations. He developed keen political awareness and became a member of the African National Congress, ANC when it was unbanned in 1990. M</s>',\n",
       " 'animated series, which will also be released on the streaming service. Star Wars expanded to other media \"Star Wars\" expanded to other media includes all \"Star</s>',\n",
       " 'of the largely unsuccessful \"90 Bristol Court\" to last the entirety of the 1964-65 season. She then appeared as Tammy Tarleton in the</s>',\n",
       " 'The band was most popular in the 1990s in Japan, and their 1999 album \"2 Zero 0-0\" was initially only released in that country. They</s>',\n",
       " 'that to successfully affect the youth it has to approach it through ways other than theater too. Hence, YYO extended itself to incorporate Event Creation</s>',\n",
       " 'at Advision. Cordell was concerned that the sound of \"A Whiter Shade of Pale\" might prove problematic on the radio, due to the</s>',\n",
       " 'Scott freelanced for several years, and in 1920 filmed noted underwater scenes in Annette Kellerman\\'s \"What Women Love\" (1920) and</s>']"
      ]
     },
     "execution_count": 31,
     "metadata": {},
     "output_type": "execute_result"
    }
   ],
   "source": [
    "trainer.embedder_tokenizer.batch_decode(eval_batch['embedder_input_ids'])"
   ]
  },
  {
   "cell_type": "code",
   "execution_count": 83,
   "id": "fa07ca2a-5c94-4ed2-bb31-95052158d203",
   "metadata": {},
   "outputs": [
    {
     "name": "stdout",
     "output_type": "stream",
     "text": [
      "[2, 2, 1, 2, 1, 1, 3, 0, 0, 3, 1, 1, 1, 1, 3, 2, 1, 2, 1, 0, 1, 3, 3, 2, 0, 1, 2, 2, 1, 0, 0, 1, 2, 3, 3, 1, 0, 1, 1, 1, 2, 0, 3, 2, 2, 0, 3, 1, 1, 0, 1, 1, 2, 2, 0, 1, 0, 3, 1, 0, 2, 0, 3, 0]\n",
      "[2, 3, 2, 2, 2, 1, 3, 1, 3, 0, 2, 2, 2, 2, 1, 2, 2, 3, 3, 1, 2, 2, 1, 1, 3, 0, 3, 1, 0, 1, 1, 2, 2, 1, 1, 3, 3, 2, 3, 3, 0, 0, 2, 1, 3, 3, 0, 3, 0, 0, 2, 0, 3, 3, 3, 0, 2, 1, 3, 0, 2, 3, 0, 1]\n",
      "[2, 0, 0, 2, 3, 3, 2, 2, 1, 2, 3, 2, 0, 3, 0, 3, 1, 0, 0, 1, 1, 1, 0, 3, 0, 1, 2, 1, 3, 2, 2, 3, 2, 1, 3, 2, 1, 0, 0, 1, 0, 3, 0, 2, 0, 3, 3, 2, 3, 1, 0, 2, 0, 1, 3, 2, 3, 0, 3, 1, 3, 3, 1, 3]\n",
      "[2, 2, 3, 2, 3, 0, 0, 2, 1, 2, 0, 0, 1, 2, 1, 3, 1, 1, 2, 2, 3, 1, 1, 3, 1, 2, 3, 3, 1, 2, 3, 1, 1, 3, 3, 1, 0, 0, 0, 0, 2, 1, 0, 0, 3, 2, 2, 1, 2, 3, 3, 3, 0, 2, 0, 3, 2, 0, 3, 1, 2, 1, 1, 1]\n",
      "[3, 0, 0, 1, 0, 2, 0, 2, 3, 3, 2, 3, 1, 1, 3, 0, 1, 2, 3, 2, 2, 1, 1, 1, 3, 3, 2, 3, 0, 3, 0, 3, 2, 1, 2, 3, 0, 1, 0, 1, 0, 3, 0, 0, 2, 0, 0, 2, 3, 3, 0, 3, 2, 2, 1, 2, 0, 2, 3, 2, 1, 1, 1, 2]\n",
      "[0, 3, 3, 3, 2, 0, 2, 3, 3, 0, 0, 3, 0, 1, 2, 0, 1, 3, 3, 3, 1, 1, 2, 0, 0, 1, 3, 1, 0, 0, 3, 1, 2, 3, 2, 3, 2, 0, 0, 1, 3, 3, 0, 2, 3, 1, 3, 1, 2, 1, 2, 0, 1, 1, 0, 3, 1, 2, 3, 0, 3, 1, 1, 2]\n"
     ]
    }
   ],
   "source": [
    "import torch\n",
    "with torch.no_grad():\n",
    "    reranked_gens = trainer.generate_with_reranking(eval_batch, L=5, B=4)"
   ]
  },
  {
   "cell_type": "code",
   "execution_count": 84,
   "id": "3fdfa7c6-a681-483a-bd00-9629f81f3c98",
   "metadata": {},
   "outputs": [],
   "source": [
    "gens = trainer.inversion_trainer.model.generate(eval_batch, generation_kwargs={\n",
    "    \"num_beams\": 4,\n",
    "    \"num_return_sequences\": 1,\n",
    "    \"do_sample\": False,\n",
    "    \"no_repeat_ngram_size\": 3,\n",
    "})[:, 1:]"
   ]
  },
  {
   "cell_type": "code",
   "execution_count": 85,
   "id": "d2f25c70-1b78-415a-9ab6-76221a36cfa6",
   "metadata": {},
   "outputs": [
    {
     "data": {
      "text/plain": [
       "(torch.Size([64, 32]), torch.Size([64, 32]))"
      ]
     },
     "execution_count": 85,
     "metadata": {},
     "output_type": "execute_result"
    }
   ],
   "source": [
    "reranked_gens.shape, gens.shape"
   ]
  },
  {
   "cell_type": "code",
   "execution_count": 86,
   "id": "2cbc59bb-efc3-41d6-82f0-892f2ecc5c92",
   "metadata": {},
   "outputs": [
    {
     "data": {
      "text/plain": [
       "['to that of the skulls of infant sutures, which are relatively smooth and untidy in character. Nevertheless, the suture </s>']"
      ]
     },
     "execution_count": 86,
     "metadata": {},
     "output_type": "execute_result"
    }
   ],
   "source": [
    "trainer.embedder_tokenizer.batch_decode(gens[0:1])"
   ]
  },
  {
   "cell_type": "code",
   "execution_count": 87,
   "id": "7274c9f2-a00b-43be-9e8a-29665c496743",
   "metadata": {},
   "outputs": [
    {
     "data": {
      "text/plain": [
       "['to that of the skull, which are relatively smooth in character and untutuous in the case of sutures of infant skulls. Nevertheless</s>']"
      ]
     },
     "execution_count": 87,
     "metadata": {},
     "output_type": "execute_result"
    }
   ],
   "source": [
    "trainer.embedder_tokenizer.batch_decode(reranked_gens[0:1])"
   ]
  },
  {
   "cell_type": "code",
   "execution_count": 88,
   "id": "4ff47f3b-599a-4327-972b-8f2978a8f61a",
   "metadata": {},
   "outputs": [],
   "source": [
    "gens_text = trainer.embedder_tokenizer.batch_decode(gens, add_special_tokens=False)\n",
    "reranked_text = trainer.embedder_tokenizer.batch_decode(reranked_gens, add_special_tokens=False)\n",
    "true_text = trainer.embedder_tokenizer.batch_decode(eval_batch['embedder_input_ids'])"
   ]
  },
  {
   "cell_type": "code",
   "execution_count": 89,
   "id": "ed09ff69-ac78-4e57-a41c-a9a2cc9eee00",
   "metadata": {},
   "outputs": [],
   "source": [
    "bleu = trainer.inversion_trainer.metric_bleu"
   ]
  },
  {
   "cell_type": "code",
   "execution_count": 90,
   "id": "663ee38e-d83b-486d-98e1-0addcf9a3233",
   "metadata": {},
   "outputs": [
    {
     "data": {
      "text/plain": [
       "{'score': 35.64198521987842,\n",
       " 'counts': [1296, 765, 481, 305],\n",
       " 'totals': [1814, 1750, 1686, 1622],\n",
       " 'precisions': [71.44432194046307,\n",
       "  43.714285714285715,\n",
       "  28.52906287069988,\n",
       "  18.803945745992603],\n",
       " 'bp': 0.990672221585101,\n",
       " 'sys_len': 1814,\n",
       " 'ref_len': 1831}"
      ]
     },
     "execution_count": 90,
     "metadata": {},
     "output_type": "execute_result"
    }
   ],
   "source": [
    "bleu.compute(\n",
    "    predictions=gens_text, references=true_text\n",
    ")"
   ]
  },
  {
   "cell_type": "code",
   "execution_count": 91,
   "id": "3cd2e95f-ee9a-42d5-ab4e-b11702ca4b41",
   "metadata": {},
   "outputs": [
    {
     "data": {
      "text/plain": [
       "{'score': 28.030885101832112,\n",
       " 'counts': [1245, 657, 371, 188],\n",
       " 'totals': [1841, 1777, 1713, 1649],\n",
       " 'precisions': [67.62629005975013,\n",
       "  36.972425436128304,\n",
       "  21.657910099241096,\n",
       "  11.400848999393572],\n",
       " 'bp': 1.0,\n",
       " 'sys_len': 1841,\n",
       " 'ref_len': 1831}"
      ]
     },
     "execution_count": 91,
     "metadata": {},
     "output_type": "execute_result"
    }
   ],
   "source": [
    "bleu.compute(\n",
    "    predictions=reranked_text, references=true_text\n",
    ")"
   ]
  },
  {
   "cell_type": "markdown",
   "id": "0906b514-943a-48a0-9faa-52dcadd7806d",
   "metadata": {},
   "source": [
    "## looking at generations"
   ]
  },
  {
   "cell_type": "code",
   "execution_count": 13,
   "id": "82b8d9d8-dbe5-475c-9d87-70f3bba9e14f",
   "metadata": {},
   "outputs": [
    {
     "data": {
      "text/plain": [
       "tensor(1., device='cuda:0')"
      ]
     },
     "execution_count": 13,
     "metadata": {},
     "output_type": "execute_result"
    }
   ],
   "source": [
    "true_ids = eval_batch['embedder_input_ids']\n",
    "(true_ids[:, 0] == gens[:, 0]).float().mean()"
   ]
  },
  {
   "cell_type": "code",
   "execution_count": 14,
   "id": "86448196-e203-4a19-8d2a-d395f15b5a98",
   "metadata": {},
   "outputs": [
    {
     "data": {
      "text/plain": [
       "tensor(1., device='cuda:0')"
      ]
     },
     "execution_count": 14,
     "metadata": {},
     "output_type": "execute_result"
    }
   ],
   "source": [
    "(true_ids[:, 0] == reranked_gens[:, 0]).float().mean()"
   ]
  },
  {
   "cell_type": "code",
   "execution_count": 15,
   "id": "e6e1108b-ad11-40b9-b3d4-6431347333d4",
   "metadata": {},
   "outputs": [],
   "source": [
    "import pandas as pd\n",
    "\n",
    "df = pd.DataFrame(zip(true_text, gens_text, reranked_text), columns=['true', 'generated', 'generated w/ reranking'])"
   ]
  },
  {
   "cell_type": "code",
   "execution_count": 16,
   "id": "a4f0128e-8a88-4eb3-b8bb-404dd42b9563",
   "metadata": {},
   "outputs": [
    {
     "data": {
      "text/html": [
       "<div>\n",
       "<style scoped>\n",
       "    .dataframe tbody tr th:only-of-type {\n",
       "        vertical-align: middle;\n",
       "    }\n",
       "\n",
       "    .dataframe tbody tr th {\n",
       "        vertical-align: top;\n",
       "    }\n",
       "\n",
       "    .dataframe thead th {\n",
       "        text-align: right;\n",
       "    }\n",
       "</style>\n",
       "<table border=\"1\" class=\"dataframe\">\n",
       "  <thead>\n",
       "    <tr style=\"text-align: right;\">\n",
       "      <th></th>\n",
       "      <th>true</th>\n",
       "      <th>generated</th>\n",
       "      <th>generated w/ reranking</th>\n",
       "    </tr>\n",
       "  </thead>\n",
       "  <tbody>\n",
       "    <tr>\n",
       "      <th>0</th>\n",
       "      <td>to the character of the sutures of the skull w...</td>\n",
       "      <td>to the character of the skull, which are relat...</td>\n",
       "      <td>to that of the skulls of infant sutures, which...</td>\n",
       "    </tr>\n",
       "  </tbody>\n",
       "</table>\n",
       "</div>"
      ],
      "text/plain": [
       "                                                true   \n",
       "0  to the character of the sutures of the skull w...  \\\n",
       "\n",
       "                                           generated   \n",
       "0  to the character of the skull, which are relat...  \\\n",
       "\n",
       "                              generated w/ reranking  \n",
       "0  to that of the skulls of infant sutures, which...  "
      ]
     },
     "execution_count": 16,
     "metadata": {},
     "output_type": "execute_result"
    }
   ],
   "source": [
    "df"
   ]
  },
  {
   "cell_type": "code",
   "execution_count": null,
   "id": "b33fea83-8650-41b4-827d-6a27496b8a85",
   "metadata": {},
   "outputs": [],
   "source": []
  }
 ],
 "metadata": {
  "kernelspec": {
   "display_name": "Python 3 (ipykernel)",
   "language": "python",
   "name": "python3"
  },
  "language_info": {
   "codemirror_mode": {
    "name": "ipython",
    "version": 3
   },
   "file_extension": ".py",
   "mimetype": "text/x-python",
   "name": "python",
   "nbconvert_exporter": "python",
   "pygments_lexer": "ipython3",
   "version": "3.10.10"
  }
 },
 "nbformat": 4,
 "nbformat_minor": 5
}
