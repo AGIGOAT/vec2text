{
 "cells": [
  {
   "cell_type": "code",
   "execution_count": 1,
   "id": "8e63ec95-eee0-43b9-8d2f-e0567e71c614",
   "metadata": {},
   "outputs": [],
   "source": [
    "import os\n",
    "os.environ[\"WANDB_DISABLED\"] = \"true\"\n",
    "\n",
    "import sys\n",
    "sys.path.append('..')\n",
    "\n",
    "%load_ext autoreload\n",
    "%autoreload 2"
   ]
  },
  {
   "cell_type": "code",
   "execution_count": 2,
   "id": "fdfbcea5-2cd1-4c4c-9cc9-b2056c2664ba",
   "metadata": {},
   "outputs": [
    {
     "data": {
      "text/html": [
       "<div>\n",
       "<style scoped>\n",
       "    .dataframe tbody tr th:only-of-type {\n",
       "        vertical-align: middle;\n",
       "    }\n",
       "\n",
       "    .dataframe tbody tr th {\n",
       "        vertical-align: top;\n",
       "    }\n",
       "\n",
       "    .dataframe thead th {\n",
       "        text-align: right;\n",
       "    }\n",
       "</style>\n",
       "<table border=\"1\" class=\"dataframe\">\n",
       "  <thead>\n",
       "    <tr style=\"text-align: right;\">\n",
       "      <th></th>\n",
       "      <th>Unnamed: 0</th>\n",
       "      <th>embeddings</th>\n",
       "    </tr>\n",
       "  </thead>\n",
       "  <tbody>\n",
       "    <tr>\n",
       "      <th>0</th>\n",
       "      <td>0</td>\n",
       "      <td>[-0.10179783403873444, -0.1938975602388382, 0....</td>\n",
       "    </tr>\n",
       "  </tbody>\n",
       "</table>\n",
       "</div>"
      ],
      "text/plain": [
       "   Unnamed: 0                                         embeddings\n",
       "0           0  [-0.10179783403873444, -0.1938975602388382, 0...."
      ]
     },
     "execution_count": 2,
     "metadata": {},
     "output_type": "execute_result"
    }
   ],
   "source": [
    "import pandas as pd\n",
    "\n",
    "emb_df = pd.read_csv(\"/home/jxm3/research/retrieval/2023_04_17_luar_embedding_list.csv\")\n",
    "emb_df.head(1)"
   ]
  },
  {
   "cell_type": "code",
   "execution_count": 3,
   "id": "462d7670-21eb-4506-ad71-a549b68f3110",
   "metadata": {},
   "outputs": [],
   "source": [
    "import numpy as np\n",
    "\n",
    "embeddings = emb_df[\"embeddings\"].tolist()\n",
    "embeddings = list(map(eval, embeddings))\n",
    "embeddings = np.array(embeddings)"
   ]
  },
  {
   "cell_type": "code",
   "execution_count": 5,
   "id": "6d702bdb-d571-4300-a7fc-dd7aa8d81777",
   "metadata": {},
   "outputs": [
    {
     "name": "stdout",
     "output_type": "stream",
     "text": [
      "Set train_args.dataloader_num_workers = 4\n",
      "Loading trainer for analysis – setting --do_eval=1\n"
     ]
    },
    {
     "data": {
      "application/vnd.jupyter.widget-view+json": {
       "model_id": "1fb2223f7242455296746410018a98c0",
       "version_major": 2,
       "version_minor": 0
      },
      "text/plain": [
       "  0%|          | 0/2 [00:00<?, ?it/s]"
      ]
     },
     "metadata": {},
     "output_type": "display_data"
    },
    {
     "data": {
      "application/vnd.jupyter.widget-view+json": {
       "model_id": "",
       "version_major": 2,
       "version_minor": 0
      },
      "text/plain": [
       "Running tokenizer on dataset:   0%|          | 0/169936 [00:00<?, ? examples/s]"
      ]
     },
     "metadata": {},
     "output_type": "display_data"
    },
    {
     "data": {
      "text/html": [
       "\n",
       "    <div>\n",
       "      \n",
       "      <progress value='28' max='7' style='width:300px; height:20px; vertical-align: middle;'></progress>\n",
       "      [7/7 06:58]\n",
       "    </div>\n",
       "    "
      ],
      "text/plain": [
       "<IPython.core.display.HTML object>"
      ]
     },
     "metadata": {},
     "output_type": "display_data"
    },
    {
     "name": "stderr",
     "output_type": "stream",
     "text": [
      "                                                                                                                                               \r"
     ]
    },
    {
     "name": "stdout",
     "output_type": "stream",
     "text": [
      "Lol, this guy is so shady. He thinks its a shady business model. And if he was to start a company, he might have been a shady businessman. https://www.reddit.com/r/InnovativeInnovation/comments/53qqqq/the_shady_business_model_is_a_shady_business/d7vqqqq?context=3 And apparently, PERSON> is a CEO of the Redd\n",
      "Lol, this guy is such a PR chameleon. In the Chan Zuckerberg Initiative announcement, he made it sound like he was giving away all his money to charity PERSON> or PERSON>. http://www.businessinsider.in/Mark-Zuckerberg-says-hes-giving-99-of-his-Facebook-shares-45-billion-to-charity/articleshow/50005321.cms Apparently, its just a VC fund. And there are still people out\n",
      "\n",
      "\n",
      "\n",
      "&gt; PERSON> is a billionaire who has a lot of money and he's a billionaire. He's a billionaire. And he has the same ego as PERSON>... wonder why he has to go to the bank and get the money from the charity to fund his own charitable foundation. And the fact that his charity is being squandered by the people is a sign of his greed. The charity is just a sham and has no business being a billionaire. And the charity is being\n",
      "&gt; PERSON> will not give all his shares at once and he will deduct the fair value of his gift to the Chan Zuckerberg Initiative from his taxable income in each year he makes a donation. Funny how the tax structure is set up to reward the rich. And he made a big hoopla on how he was giving away his shares to charity... except the charity is owned by him and his wife and invests only in for profit initiatives mainly.\n",
      "\n",
      "\n",
      "\n",
      "The CEO of the company who owns the company and is a billionaire. He is a billionaire with a billion dollar fortune. He is a billionaire with a billion dollar fortune and is a billionaire with a billion dollar fortune. He is also a billionaire with a billion dollar fortune. The CEO of the company who owns the company and owns the company is a billionaire with a billion dollar fortune. The CEO of the company who owns the company and owns the company - a billionaire with a billion dollar fortune. The CEO of\n",
      "He and his wife own all the shares of Chan Zuckerberg LLC. It is a for-profit LLC. He can easily pay dividends on shares which are taxed as capital gains and far lower than the income tax he would have to pay if he sold the shares he owned. Summary - He donates his shares to a for-profit LLC avoiding tax. For profit LLC now can reinvest, increase his wealth and then pay out dividends which are taxed as capital gains which are less than income tax rates (around 8%). He increases his wealth and pays less\n"
     ]
    },
    {
     "name": "stderr",
     "output_type": "stream",
     "text": [
      "                                                                                                                                               "
     ]
    },
    {
     "name": "stdout",
     "output_type": "stream",
     "text": [
      "evaluation_loop\n"
     ]
    },
    {
     "name": "stderr",
     "output_type": "stream",
     "text": [
      "\r"
     ]
    },
    {
     "data": {
      "text/plain": [
       "{'eval_loss': 2.386862277984619,\n",
       " 'eval_accuracy': 0.19266183035714285,\n",
       " 'bleu_score': 3.535937983762183,\n",
       " 'emb_cos_sim': 0.9132119417190552,\n",
       " 'eval_perplexity': 10.879304099994547,\n",
       " 'eval_runtime': 15.903,\n",
       " 'eval_samples_per_second': 62.881,\n",
       " 'eval_steps_per_second': 0.503}"
      ]
     },
     "execution_count": 5,
     "metadata": {},
     "output_type": "execute_result"
    }
   ],
   "source": [
    "# luar model with msl 128:\n",
    "# https://wandb.ai/jack-morris/emb-inv-1/runs/a812ef9463f48360967d375c924c461e/overview?workspace=user-jxmorris12\n",
    "\n",
    "\n",
    "import analyze_utils\n",
    "\n",
    "checkpoint_folder = '/home/jxm3/research/retrieval/inversion/saves/947b54370a00d767cb28b2e71a2645b0/a812ef9463f48360967d375c924c461e'\n",
    "args_str = '--per_device_train_batch_size 128 --per_device_eval_batch_size 128 --max_seq_length 128 --model_name_or_path t5-base --embedder_model_name paraphrase-distilroberta --num_repeat_tokens 16 --embedder_no_grad True --exp_group_name mar15-luar --learning_rate 0.0002 --freeze_strategy none --embedder_fake_with_zeros False --num_train_epochs 24 --max_eval_samples 1000 --eval_steps 4000 --warmup_steps 100000 --bf16=1 --use_wandb=1 --dataset_name luar_reddit --use_frozen_embeddings_as_input True --exp_name luar128'\n",
    "trainer = analyze_utils.load_trainer(checkpoint_folder, args_str, sanity_decode=False)\n",
    "\n",
    "trainer.evaluate()"
   ]
  },
  {
   "cell_type": "code",
   "execution_count": 8,
   "id": "d56be7cd-da3d-4171-99c3-4fc3997ed84c",
   "metadata": {},
   "outputs": [
    {
     "name": "stderr",
     "output_type": "stream",
     "text": [
      "                                                                                                                                               \r"
     ]
    },
    {
     "name": "stdout",
     "output_type": "stream",
     "text": [
      "Lol, this guy is so shady. He thinks its a smear campaign to get the masses to donate to PERSON>. And if its true, he might have been a billionaire to start a company like Google. https://www.google.com/amp/www.theguardian.com/2016/sep/21/david-sanders-s-emails-to-goose-tom-scott-sapphire-for-profit-selection-for\n",
      "Lol, this guy is such a PR chameleon. In the Chan Zuckerberg Initiative announcement, he made it sound like he was giving away all his money to charity PERSON> or PERSON>. http://www.businessinsider.in/Mark-Zuckerberg-says-hes-giving-99-of-his-Facebook-shares-45-billion-to-charity/articleshow/50005321.cms Apparently, its just a VC fund. And there are still people out\n",
      "\n",
      "\n",
      "\n",
      "&gt; PERSON> is a billionaire who has a lot of money and he's a millionaire. He's not a philanthropist. And he has the same ego as PHONE_NUMBER>... wonder why the billionaire is putting his money into the charity and giving it to the charity in exchange for the profits.\n",
      "&gt; PERSON> will not give all his shares at once and he will deduct the fair value of his gift to the Chan Zuckerberg Initiative from his taxable income in each year he makes a donation. Funny how the tax structure is set up to reward the rich. And he made a big hoopla on how he was giving away his shares to charity... except the charity is owned by him and his wife and invests only in for profit initiatives mainly.\n",
      "\n",
      "\n",
      "\n",
      "The CEO of the company who owns the company and is a billionaire. He is donating to the charity of his choice. He also donated to the foundation of the billionaire he is suing. He donated to a charity of the CEO of a company he owns. He then donated to charity of he chooses. The CEO is PERSON>, a wealthy billionaire who has donated to charities and is now donating his billions to charity. The 1% tax deduction for the CEO is amazing. The billionaire is also donating 1% to charity -\n",
      "He and his wife own all the shares of Chan Zuckerberg LLC. It is a for-profit LLC. He can easily pay dividends on shares which are taxed as capital gains and far lower than the income tax he would have to pay if he sold the shares he owned. Summary - He donates his shares to a for-profit LLC avoiding tax. For profit LLC now can reinvest, increase his wealth and then pay out dividends which are taxed as capital gains which are less than income tax rates (around 8%). He increases his wealth and pays less\n"
     ]
    },
    {
     "name": "stderr",
     "output_type": "stream",
     "text": [
      "                                                                                                                                               "
     ]
    },
    {
     "name": "stdout",
     "output_type": "stream",
     "text": [
      "evaluation_loop\n"
     ]
    },
    {
     "name": "stderr",
     "output_type": "stream",
     "text": [
      "\r"
     ]
    },
    {
     "data": {
      "text/plain": [
       "{'eval_loss': 2.386862277984619,\n",
       " 'eval_accuracy': 0.19266183035714285,\n",
       " 'bleu_score': 8.54901770077024,\n",
       " 'emb_cos_sim': 0.981417715549469,\n",
       " 'eval_perplexity': 10.879304099994547,\n",
       " 'eval_runtime': 31.6926,\n",
       " 'eval_samples_per_second': 31.553,\n",
       " 'eval_steps_per_second': 0.252}"
      ]
     },
     "execution_count": 8,
     "metadata": {},
     "output_type": "execute_result"
    }
   ],
   "source": [
    "trainer.gen_kwargs = {\n",
    "    \"early_stopping\": False,\n",
    "    \"num_beams\": 1,\n",
    "    \"do_sample\": False,\n",
    "    \"no_repeat_ngram_size\": 3,\n",
    "}\n",
    "trainer.evaluate()"
   ]
  },
  {
   "cell_type": "code",
   "execution_count": 9,
   "id": "c1b3398a-9ced-4a0c-b2e2-bee3c4206d06",
   "metadata": {},
   "outputs": [],
   "source": [
    "import torch\n",
    "\n",
    "emb_dataloader = torch.utils.data.DataLoader(\n",
    "    embeddings,\n",
    "    batch_size=trainer.args.eval_batch_size,\n",
    "    num_workers=trainer.args.dataloader_num_workers,\n",
    "    pin_memory=trainer.args.dataloader_pin_memory,\n",
    ")"
   ]
  },
  {
   "cell_type": "code",
   "execution_count": 27,
   "id": "099c3ec7-6dc7-4804-9879-b3a0136504e4",
   "metadata": {},
   "outputs": [
    {
     "name": "stderr",
     "output_type": "stream",
     "text": [
      "100%|████████████████████████████████████████████████████████████████████████████████████████████████████████████| 3/3 [00:06<00:00,  2.28s/it]\n"
     ]
    }
   ],
   "source": [
    "import copy\n",
    "import tqdm\n",
    "\n",
    "output_text = []\n",
    "\n",
    "gen_kwargs = copy.copy(trainer.gen_kwargs)\n",
    "for emb_batch in tqdm.tqdm(emb_dataloader):\n",
    "    inputs = { \"frozen_embeddings\": emb_batch.float(), \"embedder_input_ids\": torch.ones(len(emb_batch)), \"embedder_attention_mask\": torch.ones(len(emb_batch)) }\n",
    "    inputs_cuda = {k: v.to(trainer.args.device) for k, v in inputs.items()}\n",
    "    gen_kwargs[\"max_length\"] = 128\n",
    "    generated_ids = trainer.generate(\n",
    "        inputs=inputs_cuda, generation_kwargs=gen_kwargs\n",
    "    )\n",
    "    output_text.extend(\n",
    "        trainer.embedder_tokenizer.batch_decode(generated_ids, skip_special_tokens=True)\n",
    "    )   "
   ]
  },
  {
   "cell_type": "code",
   "execution_count": 28,
   "id": "186a52ff-1fc5-4196-b4c0-1709795d510e",
   "metadata": {},
   "outputs": [],
   "source": [
    "text_and_embeddings = pd.DataFrame(\n",
    "    zip(output_text, embeddings), columns=['text', 'embedding']\n",
    ")\n",
    "text_and_embeddings.to_parquet('2023_04_24_luar_reconstruction.parquet.gzip', compression='gzip')"
   ]
  },
  {
   "cell_type": "code",
   "execution_count": 29,
   "id": "9f884bec-b7c7-4c46-8b8c-7a7b183db560",
   "metadata": {},
   "outputs": [
    {
     "data": {
      "text/html": [
       "<div>\n",
       "<style scoped>\n",
       "    .dataframe tbody tr th:only-of-type {\n",
       "        vertical-align: middle;\n",
       "    }\n",
       "\n",
       "    .dataframe tbody tr th {\n",
       "        vertical-align: top;\n",
       "    }\n",
       "\n",
       "    .dataframe thead th {\n",
       "        text-align: right;\n",
       "    }\n",
       "</style>\n",
       "<table border=\"1\" class=\"dataframe\">\n",
       "  <thead>\n",
       "    <tr style=\"text-align: right;\">\n",
       "      <th></th>\n",
       "      <th>text</th>\n",
       "      <th>embedding</th>\n",
       "    </tr>\n",
       "  </thead>\n",
       "  <tbody>\n",
       "    <tr>\n",
       "      <th>0</th>\n",
       "      <td>during little of R financial the shop as Amer...</td>\n",
       "      <td>[-0.10179783403873444, -0.1938975602388382, 0....</td>\n",
       "    </tr>\n",
       "    <tr>\n",
       "      <th>1</th>\n",
       "      <td>9 300 if of R doing the�ist people fire than 2...</td>\n",
       "      <td>[-0.0023306719958782196, -0.061500996351242065...</td>\n",
       "    </tr>\n",
       "    <tr>\n",
       "      <th>2</th>\n",
       "      <td>during little of R financial the�8) aboutiin-...</td>\n",
       "      <td>[-0.004864558577537537, 0.00021162442862987518...</td>\n",
       "    </tr>\n",
       "    <tr>\n",
       "      <th>3</th>\n",
       "      <td>9 with if of brightest the� construction his e...</td>\n",
       "      <td>[0.0027187280356884003, 0.10426811873912811, 0...</td>\n",
       "    </tr>\n",
       "    <tr>\n",
       "      <th>4</th>\n",
       "      <td>during photo if asen),\"'sait it conservative ...</td>\n",
       "      <td>[-0.16285355389118195, -0.0479360967874527, 0....</td>\n",
       "    </tr>\n",
       "  </tbody>\n",
       "</table>\n",
       "</div>"
      ],
      "text/plain": [
       "                                                text   \n",
       "0   during little of R financial the shop as Amer...  \\\n",
       "1  9 300 if of R doing the�ist people fire than 2...   \n",
       "2   during little of R financial the�8) aboutiin-...   \n",
       "3  9 with if of brightest the� construction his e...   \n",
       "4   during photo if asen),\"'sait it conservative ...   \n",
       "\n",
       "                                           embedding  \n",
       "0  [-0.10179783403873444, -0.1938975602388382, 0....  \n",
       "1  [-0.0023306719958782196, -0.061500996351242065...  \n",
       "2  [-0.004864558577537537, 0.00021162442862987518...  \n",
       "3  [0.0027187280356884003, 0.10426811873912811, 0...  \n",
       "4  [-0.16285355389118195, -0.0479360967874527, 0....  "
      ]
     },
     "execution_count": 29,
     "metadata": {},
     "output_type": "execute_result"
    }
   ],
   "source": [
    "text_and_embeddings.head()"
   ]
  },
  {
   "cell_type": "code",
   "execution_count": null,
   "id": "c3d0ac7d-585d-4d7b-be4c-1c49864c76c4",
   "metadata": {},
   "outputs": [],
   "source": []
  }
 ],
 "metadata": {
  "kernelspec": {
   "display_name": "Python 3 (ipykernel)",
   "language": "python",
   "name": "python3"
  },
  "language_info": {
   "codemirror_mode": {
    "name": "ipython",
    "version": 3
   },
   "file_extension": ".py",
   "mimetype": "text/x-python",
   "name": "python",
   "nbconvert_exporter": "python",
   "pygments_lexer": "ipython3",
   "version": "3.10.10"
  }
 },
 "nbformat": 4,
 "nbformat_minor": 5
}
