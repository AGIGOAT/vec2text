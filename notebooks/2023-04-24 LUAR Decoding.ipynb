{
 "cells": [
  {
   "cell_type": "code",
   "execution_count": 1,
   "id": "8e63ec95-eee0-43b9-8d2f-e0567e71c614",
   "metadata": {},
   "outputs": [],
   "source": [
    "import os\n",
    "os.environ[\"WANDB_DISABLED\"] = \"true\"\n",
    "\n",
    "import sys\n",
    "sys.path.append('..')\n",
    "\n",
    "%load_ext autoreload\n",
    "%autoreload 2"
   ]
  },
  {
   "cell_type": "code",
   "execution_count": 2,
   "id": "fdfbcea5-2cd1-4c4c-9cc9-b2056c2664ba",
   "metadata": {},
   "outputs": [
    {
     "data": {
      "text/html": [
       "<div>\n",
       "<style scoped>\n",
       "    .dataframe tbody tr th:only-of-type {\n",
       "        vertical-align: middle;\n",
       "    }\n",
       "\n",
       "    .dataframe tbody tr th {\n",
       "        vertical-align: top;\n",
       "    }\n",
       "\n",
       "    .dataframe thead th {\n",
       "        text-align: right;\n",
       "    }\n",
       "</style>\n",
       "<table border=\"1\" class=\"dataframe\">\n",
       "  <thead>\n",
       "    <tr style=\"text-align: right;\">\n",
       "      <th></th>\n",
       "      <th>Unnamed: 0</th>\n",
       "      <th>embeddings</th>\n",
       "    </tr>\n",
       "  </thead>\n",
       "  <tbody>\n",
       "    <tr>\n",
       "      <th>0</th>\n",
       "      <td>0</td>\n",
       "      <td>[-0.10179783403873444, -0.1938975602388382, 0....</td>\n",
       "    </tr>\n",
       "  </tbody>\n",
       "</table>\n",
       "</div>"
      ],
      "text/plain": [
       "   Unnamed: 0                                         embeddings\n",
       "0           0  [-0.10179783403873444, -0.1938975602388382, 0...."
      ]
     },
     "execution_count": 2,
     "metadata": {},
     "output_type": "execute_result"
    }
   ],
   "source": [
    "import pandas as pd\n",
    "\n",
    "emb_df = pd.read_csv(\"/home/jxm3/research/retrieval/2023_04_17_luar_embedding_list.csv\")\n",
    "emb_df.head(1)"
   ]
  },
  {
   "cell_type": "code",
   "execution_count": 3,
   "id": "462d7670-21eb-4506-ad71-a549b68f3110",
   "metadata": {},
   "outputs": [],
   "source": [
    "import numpy as np\n",
    "\n",
    "embeddings = emb_df[\"embeddings\"].tolist()\n",
    "embeddings = list(map(eval, embeddings))\n",
    "embeddings = np.array(embeddings)"
   ]
  },
  {
   "cell_type": "code",
   "execution_count": 5,
   "id": "6d702bdb-d571-4300-a7fc-dd7aa8d81777",
   "metadata": {},
   "outputs": [
    {
     "name": "stdout",
     "output_type": "stream",
     "text": [
      "Set train_args.dataloader_num_workers = 4\n",
      "Loading trainer for analysis – setting --do_eval=1\n"
     ]
    },
    {
     "data": {
      "application/vnd.jupyter.widget-view+json": {
       "model_id": "1fb2223f7242455296746410018a98c0",
       "version_major": 2,
       "version_minor": 0
      },
      "text/plain": [
       "  0%|          | 0/2 [00:00<?, ?it/s]"
      ]
     },
     "metadata": {},
     "output_type": "display_data"
    },
    {
     "data": {
      "application/vnd.jupyter.widget-view+json": {
       "model_id": "",
       "version_major": 2,
       "version_minor": 0
      },
      "text/plain": [
       "Running tokenizer on dataset:   0%|          | 0/169936 [00:00<?, ? examples/s]"
      ]
     },
     "metadata": {},
     "output_type": "display_data"
    },
    {
     "data": {
      "text/html": [
       "\n",
       "    <div>\n",
       "      \n",
       "      <progress value='21' max='7' style='width:300px; height:20px; vertical-align: middle;'></progress>\n",
       "      [7/7 04:37]\n",
       "    </div>\n",
       "    "
      ],
      "text/plain": [
       "<IPython.core.display.HTML object>"
      ]
     },
     "metadata": {},
     "output_type": "display_data"
    },
    {
     "name": "stderr",
     "output_type": "stream",
     "text": [
      "                                                                                                                                               \r"
     ]
    },
    {
     "name": "stdout",
     "output_type": "stream",
     "text": [
      "Lol, this guy is so shady. He thinks its a shady business model. And if he was to start a company, he might have been a shady businessman. https://www.reddit.com/r/InnovativeInnovation/comments/53qqqq/the_shady_business_model_is_a_shady_business/d7vqqqq?context=3 And apparently, PERSON> is a CEO of the Redd\n",
      "Lol, this guy is such a PR chameleon. In the Chan Zuckerberg Initiative announcement, he made it sound like he was giving away all his money to charity PERSON> or PERSON>. http://www.businessinsider.in/Mark-Zuckerberg-says-hes-giving-99-of-his-Facebook-shares-45-billion-to-charity/articleshow/50005321.cms Apparently, its just a VC fund. And there are still people out\n",
      "\n",
      "\n",
      "\n",
      "&gt; PERSON> is a billionaire who has a lot of money and he's a billionaire. He's a billionaire. And he has the same ego as PERSON>... wonder why he has to go to the bank and get the money from the charity to fund his own charitable foundation. And the fact that his charity is being squandered by the people is a sign of his greed. The charity is just a sham and has no business being a billionaire. And the charity is being\n",
      "&gt; PERSON> will not give all his shares at once and he will deduct the fair value of his gift to the Chan Zuckerberg Initiative from his taxable income in each year he makes a donation. Funny how the tax structure is set up to reward the rich. And he made a big hoopla on how he was giving away his shares to charity... except the charity is owned by him and his wife and invests only in for profit initiatives mainly.\n",
      "\n",
      "\n",
      "\n",
      "The CEO of the company who owns the company and is a billionaire. He is a billionaire with a billion dollar fortune. He is a billionaire with a billion dollar fortune and is a billionaire with a billion dollar fortune. He is also a billionaire with a billion dollar fortune. The CEO of the company who owns the company and owns the company is a billionaire with a billion dollar fortune. The CEO of the company who owns the company and owns the company - a billionaire with a billion dollar fortune. The CEO of\n",
      "He and his wife own all the shares of Chan Zuckerberg LLC. It is a for-profit LLC. He can easily pay dividends on shares which are taxed as capital gains and far lower than the income tax he would have to pay if he sold the shares he owned. Summary - He donates his shares to a for-profit LLC avoiding tax. For profit LLC now can reinvest, increase his wealth and then pay out dividends which are taxed as capital gains which are less than income tax rates (around 8%). He increases his wealth and pays less\n"
     ]
    },
    {
     "name": "stderr",
     "output_type": "stream",
     "text": [
      "                                                                                                                                               "
     ]
    },
    {
     "name": "stdout",
     "output_type": "stream",
     "text": [
      "evaluation_loop\n"
     ]
    },
    {
     "name": "stderr",
     "output_type": "stream",
     "text": [
      "\r"
     ]
    },
    {
     "data": {
      "text/plain": [
       "{'eval_loss': 2.386862277984619,\n",
       " 'eval_accuracy': 0.19266183035714285,\n",
       " 'bleu_score': 3.535937983762183,\n",
       " 'emb_cos_sim': 0.9132119417190552,\n",
       " 'eval_perplexity': 10.879304099994547,\n",
       " 'eval_runtime': 15.903,\n",
       " 'eval_samples_per_second': 62.881,\n",
       " 'eval_steps_per_second': 0.503}"
      ]
     },
     "execution_count": 5,
     "metadata": {},
     "output_type": "execute_result"
    }
   ],
   "source": [
    "# luar model with msl 128:\n",
    "# https://wandb.ai/jack-morris/emb-inv-1/runs/a812ef9463f48360967d375c924c461e/overview?workspace=user-jxmorris12\n",
    "\n",
    "\n",
    "import analyze_utils\n",
    "\n",
    "checkpoint_folder = '/home/jxm3/research/retrieval/inversion/saves/947b54370a00d767cb28b2e71a2645b0/a812ef9463f48360967d375c924c461e'\n",
    "args_str = '--per_device_train_batch_size 128 --per_device_eval_batch_size 128 --max_seq_length 128 --model_name_or_path t5-base --embedder_model_name paraphrase-distilroberta --num_repeat_tokens 16 --embedder_no_grad True --exp_group_name mar15-luar --learning_rate 0.0002 --freeze_strategy none --embedder_fake_with_zeros False --num_train_epochs 24 --max_eval_samples 1000 --eval_steps 4000 --warmup_steps 100000 --bf16=1 --use_wandb=1 --dataset_name luar_reddit --use_frozen_embeddings_as_input True --exp_name luar128'\n",
    "trainer = analyze_utils.load_trainer(checkpoint_folder, args_str, sanity_decode=False)\n",
    "\n",
    "trainer.evaluate()"
   ]
  },
  {
   "cell_type": "code",
   "execution_count": null,
   "id": "d56be7cd-da3d-4171-99c3-4fc3997ed84c",
   "metadata": {},
   "outputs": [],
   "source": [
    "trainer.gen_kwargs = {\n",
    "    \"early_stopping\": False,\n",
    "    \"num_beams\": 1,\n",
    "    \"do_sample\": False,\n",
    "    \"no_repeat_ngram_size\": 3,\n",
    "}\n",
    "trainer.evaluate()"
   ]
  },
  {
   "cell_type": "code",
   "execution_count": null,
   "id": "c1b3398a-9ced-4a0c-b2e2-bee3c4206d06",
   "metadata": {},
   "outputs": [],
   "source": []
  }
 ],
 "metadata": {
  "kernelspec": {
   "display_name": "Python 3 (ipykernel)",
   "language": "python",
   "name": "python3"
  },
  "language_info": {
   "codemirror_mode": {
    "name": "ipython",
    "version": 3
   },
   "file_extension": ".py",
   "mimetype": "text/x-python",
   "name": "python",
   "nbconvert_exporter": "python",
   "pygments_lexer": "ipython3",
   "version": "3.10.10"
  }
 },
 "nbformat": 4,
 "nbformat_minor": 5
}
