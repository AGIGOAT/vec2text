{
 "cells": [
  {
   "cell_type": "code",
   "execution_count": 1,
   "id": "e0352894-f93a-433a-bbca-b7c3c2a3619f",
   "metadata": {},
   "outputs": [],
   "source": [
    "import os\n",
    "os.environ[\"WANDB_DISABLED\"] = \"true\"\n",
    "\n",
    "import sys\n",
    "sys.path.append('..')\n",
    "\n",
    "%load_ext autoreload\n",
    "%autoreload 2"
   ]
  },
  {
   "cell_type": "code",
   "execution_count": 2,
   "id": "6c4ed315-bab5-44f0-95ac-d79c0a6ad79e",
   "metadata": {},
   "outputs": [
    {
     "name": "stdout",
     "output_type": "stream",
     "text": [
      "Loading trainer for analysis – setting --do_eval=1\n",
      "loading alias dpr_nq__msl32_beta from /home/jxm3/research/retrieval/inversion/saves/db66b9c01b644541fedbdcc59c53a285/ebb31d91810c4b62d2b55b5382e8c7ea...\n",
      "Set train_args.dataloader_num_workers = 4\n"
     ]
    },
    {
     "name": "stderr",
     "output_type": "stream",
     "text": [
      "/home/jxm3/.conda/envs/torch/lib/python3.10/site-packages/transformers/models/t5/tokenization_t5_fast.py:155: FutureWarning: This tokenizer was incorrectly instantiated with a model max length of 512 which will be corrected in Transformers v5.\n",
      "For now, this behavior is kept to avoid breaking backwards compatibility when padding/encoding with `truncation is True`.\n",
      "- Be aware that you SHOULD NOT rely on t5-base automatically truncating your input to 512 when padding/encoding.\n",
      "- If you want to encode/pad to sequences longer than 512 you can either instantiate this tokenizer with `model_max_length` or pass `max_length` when encoding/padding.\n",
      "- To avoid this warning, please instantiate this tokenizer with `model_max_length` set to your preferred value.\n",
      "  warnings.warn(\n"
     ]
    },
    {
     "name": "stdout",
     "output_type": "stream",
     "text": [
      "================ Begin trainer sanity check ================\n",
      "\tInput to encode -> Twas brillig, and the slithy toves, Did gyre and gimble in the wabe, All mimsy were the borogoves, And the mome raths outgrabe.\n",
      "\tDecoded output -> The mlbies wase wyst bograge; And the sliths and toms wre\n",
      "================ End trainer sanity check ================\n"
     ]
    }
   ],
   "source": [
    "import analyze_utils\n",
    "\n",
    "# inversion model: wandb.ai/jack-morris/emb-inv-1/runs/ebb31d91810c4b62d2b55b5382e8c7ea/logs?workspace=user-jxmorris12\n",
    "# cross-encoder: wandb.ai/jack-morris/emb-rerank-1/runs/7bd186119e1f4f789eaa0731fd7357a1/overview?workspace=user-jxmorris12\n",
    "checkpoint_folder = \"/home/jxm3/research/retrieval/inversion/saves/98b1418d38c3f9333b17ab20bff06ff9/\"\n",
    "\n",
    "trainer = analyze_utils.load_trainer(checkpoint_folder)"
   ]
  },
  {
   "cell_type": "code",
   "execution_count": 3,
   "id": "1492b0d7-ef5e-45d2-9e06-f6252b7e3b24",
   "metadata": {},
   "outputs": [
    {
     "data": {
      "text/html": [
       "\n",
       "    <div>\n",
       "      \n",
       "      <progress value='675' max='62' style='width:300px; height:20px; vertical-align: middle;'></progress>\n",
       "      [62/62 54:45]\n",
       "    </div>\n",
       "    "
      ],
      "text/plain": [
       "<IPython.core.display.HTML object>"
      ]
     },
     "metadata": {},
     "output_type": "display_data"
    },
    {
     "name": "stderr",
     "output_type": "stream",
     "text": [
      "                                                                                                                                               \r"
     ]
    },
    {
     "name": "stdout",
     "output_type": "stream",
     "text": [
      "to those of the skull of infant sutures, which are smooth and untoothy in character, despite the fact that the structure of bones.\n",
      "to the character of the sutures of the skull which, like those of the infant skull, are relatively smooth and untortuous. In fact\n",
      "\n",
      "\n",
      "\n",
      "individual hemisphere athlete from the Southern Hemisphere to win a Winter Olympic gold medal and was also part of the Sydney relay, winning\n",
      "individual from the Southern Hemisphere, to win a Winter Olympic gold medal and was also part of the short track relay team that won Australia'\n",
      "\n",
      "\n",
      "\n",
      "the same rights as straight people, and 73% disagreed. In addition, 15% said they should be protected from sexual harassment or discrimination. A third\n",
      "the same rights as straight people, while 15% disagreed. Additionally, 69% agreed that they should be protected from workplace discrimination. 13% of H\n"
     ]
    },
    {
     "name": "stderr",
     "output_type": "stream",
     "text": [
      "                                                                                                                                               "
     ]
    },
    {
     "name": "stdout",
     "output_type": "stream",
     "text": [
      "evaluation_loop\n"
     ]
    },
    {
     "name": "stderr",
     "output_type": "stream",
     "text": [
      "\r"
     ]
    },
    {
     "data": {
      "text/plain": [
       "{'eval_loss': 1.4221593141555786,\n",
       " 'bleu_score': 22.362038637278186,\n",
       " 'emb_cos_sim': 0.8656284213066101,\n",
       " 'eval_perplexity': 4.146063434873974,\n",
       " 'eval_runtime': 65.8165,\n",
       " 'eval_samples_per_second': 7.597,\n",
       " 'eval_steps_per_second': 0.957}"
      ]
     },
     "execution_count": 3,
     "metadata": {},
     "output_type": "execute_result"
    }
   ],
   "source": [
    "trainer.evaluate()"
   ]
  },
  {
   "cell_type": "code",
   "execution_count": 28,
   "id": "29f2b2a1-7b7a-41f6-8d03-3738e43cd3af",
   "metadata": {},
   "outputs": [
    {
     "name": "stderr",
     "output_type": "stream",
     "text": [
      "                                                                                                                                               \r"
     ]
    },
    {
     "name": "stdout",
     "output_type": "stream",
     "text": [
      "to the character of the skull, which are relatively smooth and untutuous in the case of infant sutures. Unlike the sutures,\n",
      "to the character of the sutures of the skull which, like those of the infant skull, are relatively smooth and untortuous. In fact\n",
      "\n",
      "\n",
      "\n",
      "individual from the Southern Hemisphere to win the Winter Olympic relay gold medal, and was also part of the Australian Short Track team, which won gold\n",
      "individual from the Southern Hemisphere, to win a Winter Olympic gold medal and was also part of the short track relay team that won Australia'\n",
      "\n",
      "\n",
      "\n",
      "the same rights as men, and 75% agreed that they should be protected from discrimination. Among the other 15%, gay workers are no longer exp\n",
      "the same rights as straight people, while 15% disagreed. Additionally, 69% agreed that they should be protected from workplace discrimination. 13% of H\n"
     ]
    },
    {
     "name": "stderr",
     "output_type": "stream",
     "text": [
      "                                                                                                                                               \r"
     ]
    },
    {
     "data": {
      "text/plain": [
       "{'eval_loss': 1.0522613525390625,\n",
       " 'eval_accuracy': 0.7386067708333334,\n",
       " 'bleu_score': 28.897897788124407,\n",
       " 'emb_cos_sim': 0.8989784121513367,\n",
       " 'eval_perplexity': 2.8641205867926014,\n",
       " 'eval_runtime': 4.9364,\n",
       " 'eval_samples_per_second': 101.288,\n",
       " 'eval_steps_per_second': 0.81}"
      ]
     },
     "execution_count": 28,
     "metadata": {},
     "output_type": "execute_result"
    }
   ],
   "source": [
    "trainer.inversion_trainer.evaluate()"
   ]
  },
  {
   "cell_type": "code",
   "execution_count": 31,
   "id": "6b901989-627f-433d-b6c4-46f7408243e8",
   "metadata": {},
   "outputs": [
    {
     "name": "stderr",
     "output_type": "stream",
     "text": [
      "                                                                                                                                               \r"
     ]
    },
    {
     "name": "stdout",
     "output_type": "stream",
     "text": [
      "to the character of the skull, which are relatively smooth and untutuous in the case of infant sutures. Unlike the sutures,\n",
      "to the character of the sutures of the skull which, like those of the infant skull, are relatively smooth and untortuous. In fact\n",
      "\n",
      "\n",
      "\n",
      "individual from the Southern Hemisphere to win the Winter Olympic relay gold medal, and was also part of the Australian Short Track team, which won gold\n",
      "individual from the Southern Hemisphere, to win a Winter Olympic gold medal and was also part of the short track relay team that won Australia'\n",
      "\n",
      "\n",
      "\n",
      "the same rights as men, and 75% agreed that they should be protected from discrimination. Among the other 15%, gay workers are no longer exp\n",
      "the same rights as straight people, while 15% disagreed. Additionally, 69% agreed that they should be protected from workplace discrimination. 13% of H\n"
     ]
    },
    {
     "name": "stderr",
     "output_type": "stream",
     "text": [
      "                                                                                                                                               \r"
     ]
    },
    {
     "data": {
      "text/plain": [
       "{'eval_loss': 0.6763432621955872,\n",
       " 'bleu_score': 28.897897788124407,\n",
       " 'emb_cos_sim': 0.8748230338096619,\n",
       " 'eval_runtime': 21.2494,\n",
       " 'eval_samples_per_second': 23.53,\n",
       " 'eval_steps_per_second': 0.188}"
      ]
     },
     "execution_count": 31,
     "metadata": {},
     "output_type": "execute_result"
    }
   ],
   "source": [
    "trainer.rerank_length = 1\n",
    "trainer.beam_width = 1\n",
    "trainer.evaluate()"
   ]
  },
  {
   "cell_type": "code",
   "execution_count": 30,
   "id": "5bfaf09c-8753-49df-b499-8f0e66159324",
   "metadata": {},
   "outputs": [
    {
     "name": "stderr",
     "output_type": "stream",
     "text": [
      "                                                                                                                                               \r"
     ]
    },
    {
     "name": "stdout",
     "output_type": "stream",
     "text": [
      "to the character of the skull, which are relatively smooth and untutuous in the case of infant sutures. Unlike the sutures,\n",
      "to the character of the sutures of the skull which, like those of the infant skull, are relatively smooth and untortuous. In fact\n",
      "\n",
      "\n",
      "\n",
      "individual from the Southern Hemisphere to win the Winter Olympic relay gold medal, and was also part of the Australian Short Track team, which won gold\n",
      "individual from the Southern Hemisphere, to win a Winter Olympic gold medal and was also part of the short track relay team that won Australia'\n",
      "\n",
      "\n",
      "\n",
      "the same rights as men, and 75% agreed that they should be protected from discrimination. Among the other 15%, gay workers are no longer exp\n",
      "the same rights as straight people, while 15% disagreed. Additionally, 69% agreed that they should be protected from workplace discrimination. 13% of H\n"
     ]
    },
    {
     "name": "stderr",
     "output_type": "stream",
     "text": [
      "                                                                                                                                               \r"
     ]
    },
    {
     "data": {
      "text/plain": [
       "{'eval_loss': 0.677527904510498,\n",
       " 'bleu_score': 28.897897788124407,\n",
       " 'emb_cos_sim': 0.8748230338096619,\n",
       " 'eval_runtime': 5.5535,\n",
       " 'eval_samples_per_second': 90.033,\n",
       " 'eval_steps_per_second': 0.72}"
      ]
     },
     "execution_count": 30,
     "metadata": {},
     "output_type": "execute_result"
    }
   ],
   "source": [
    "trainer.args.per_device_eval_batch_size = 128\n",
    "trainer.rerank_length = 32\n",
    "trainer.beam_width = 1\n",
    "trainer.evaluate()"
   ]
  },
  {
   "cell_type": "markdown",
   "id": "e68a4713-7727-4609-a18b-5572836ba3e4",
   "metadata": {},
   "source": [
    "## gathering rows for table"
   ]
  },
  {
   "cell_type": "code",
   "execution_count": 88,
   "id": "92c5e6a8-a9d7-40e7-8822-fc8a18afa9b6",
   "metadata": {},
   "outputs": [
    {
     "name": "stderr",
     "output_type": "stream",
     "text": [
      "                                                                                                                                               \r"
     ]
    },
    {
     "name": "stdout",
     "output_type": "stream",
     "text": [
      "to the character of the skull, which are relatively smooth and untutuous in the case of infant sutures. Unlike the sutures,\n",
      "to the character of the sutures of the skull which, like those of the infant skull, are relatively smooth and untortuous. In fact\n",
      "\n",
      "\n",
      "\n",
      "individual from the Southern Hemisphere to win the Winter Olympic relay gold medal, and was also part of the Australian Short Track team, which won gold\n",
      "individual from the Southern Hemisphere, to win a Winter Olympic gold medal and was also part of the short track relay team that won Australia'\n",
      "\n",
      "\n",
      "\n",
      "the same rights as men, and 75% agreed that they should be protected from discrimination. Among the other 15%, gay workers are no longer exp\n",
      "the same rights as straight people, while 15% disagreed. Additionally, 69% agreed that they should be protected from workplace discrimination. 13% of H\n"
     ]
    },
    {
     "name": "stderr",
     "output_type": "stream",
     "text": [
      "                                                                                                                                               \r"
     ]
    },
    {
     "data": {
      "text/plain": [
       "{'eval_loss': 1.0513743162155151,\n",
       " 'eval_accuracy': 0.737336189516129,\n",
       " 'bleu_score': 28.724235183255,\n",
       " 'emb_cos_sim': 0.9019443988800049,\n",
       " 'eval_perplexity': 2.8615811342569275,\n",
       " 'eval_runtime': 35.1994,\n",
       " 'eval_samples_per_second': 14.205,\n",
       " 'eval_steps_per_second': 1.79}"
      ]
     },
     "execution_count": 88,
     "metadata": {},
     "output_type": "execute_result"
    }
   ],
   "source": [
    "trainer.inversion_trainer.args.per_device_eval_batch_size = 8\n",
    "trainer.inversion_trainer.gen_kwargs = {\n",
    "    \"early_stopping\": False,\n",
    "    \"num_beams\": 1,\n",
    "    \"do_sample\": False,\n",
    "    \"no_repeat_ngram_size\": 3,\n",
    "}\n",
    "trainer.inversion_trainer.evaluate()"
   ]
  },
  {
   "cell_type": "code",
   "execution_count": 89,
   "id": "a8f351d3-b749-4af9-8fd8-842aa0768195",
   "metadata": {},
   "outputs": [
    {
     "name": "stderr",
     "output_type": "stream",
     "text": [
      "                                                                                                                                               \r"
     ]
    },
    {
     "name": "stdout",
     "output_type": "stream",
     "text": [
      "to that of the skulls of infant sutures, which are relatively smooth and untidy. Nevertheless, the character of the suture\n",
      "to the character of the sutures of the skull which, like those of the infant skull, are relatively smooth and untortuous. In fact\n",
      "\n",
      "\n",
      "\n",
      "individual from the Southern Hemisphere to win a Winter Olympic medal, and was part of the Australian relay team which won the short track gold medal\n",
      "individual from the Southern Hemisphere, to win a Winter Olympic gold medal and was also part of the short track relay team that won Australia'\n",
      "\n",
      "\n",
      "\n",
      "the same rights as heterosexuals, and 75% agreed that they should be protected from discrimination. A third percent disagreed, with 15% working-\n",
      "the same rights as straight people, while 15% disagreed. Additionally, 69% agreed that they should be protected from workplace discrimination. 13% of H\n"
     ]
    },
    {
     "name": "stderr",
     "output_type": "stream",
     "text": [
      "                                                                                                                                               \r"
     ]
    },
    {
     "data": {
      "text/plain": [
       "{'eval_loss': 1.0513743162155151,\n",
       " 'eval_accuracy': 0.737336189516129,\n",
       " 'bleu_score': 31.340885641209265,\n",
       " 'emb_cos_sim': 0.9115618467330933,\n",
       " 'eval_perplexity': 2.8615811342569275,\n",
       " 'eval_runtime': 77.613,\n",
       " 'eval_samples_per_second': 6.442,\n",
       " 'eval_steps_per_second': 0.812}"
      ]
     },
     "execution_count": 89,
     "metadata": {},
     "output_type": "execute_result"
    }
   ],
   "source": [
    "trainer.inversion_trainer.args.per_device_eval_batch_size = 8\n",
    "trainer.inversion_trainer.gen_kwargs = {\n",
    "    \"early_stopping\": False,\n",
    "    \"num_beams\": 16,\n",
    "    \"do_sample\": False,\n",
    "    \"no_repeat_ngram_size\": 3,\n",
    "}\n",
    "trainer.inversion_trainer.evaluate()"
   ]
  },
  {
   "cell_type": "code",
   "execution_count": 90,
   "id": "12b96ce1-4e0d-4b33-9a60-63e183b36984",
   "metadata": {},
   "outputs": [
    {
     "name": "stderr",
     "output_type": "stream",
     "text": [
      "                                                                                                                                               \r"
     ]
    },
    {
     "name": "stdout",
     "output_type": "stream",
     "text": [
      "to the character of skulls, which are relatively smooth and untutored in comparison with those on infant sutures. Nevertheless: that one\n",
      "to the character of the sutures of the skull which, like those of the infant skull, are relatively smooth and untortuous. In fact\n",
      "\n",
      "\n",
      "\n",
      "individual from the Southern Hemisphere to win a Winter Olympic relay medal, and was part of Australia's short track team which won gold in\n",
      "individual from the Southern Hemisphere, to win a Winter Olympic gold medal and was also part of the short track relay team that won Australia'\n",
      "\n",
      "\n",
      "\n",
      "the same rights as men, and 75% agreed that they should be protected from discrimination. Among other workplace issues: 37% disagreed with straight\n",
      "the same rights as straight people, while 15% disagreed. Additionally, 69% agreed that they should be protected from workplace discrimination. 13% of H\n"
     ]
    },
    {
     "name": "stderr",
     "output_type": "stream",
     "text": [
      "                                                                                                                                               \r"
     ]
    },
    {
     "data": {
      "text/plain": [
       "{'eval_loss': 1.0522613525390625,\n",
       " 'eval_accuracy': 0.7386067708333334,\n",
       " 'bleu_score': 18.619687314764533,\n",
       " 'emb_cos_sim': 0.8798191547393799,\n",
       " 'eval_perplexity': 2.8641205867926014,\n",
       " 'eval_runtime': 4.1751,\n",
       " 'eval_samples_per_second': 119.758,\n",
       " 'eval_steps_per_second': 0.958}"
      ]
     },
     "execution_count": 90,
     "metadata": {},
     "output_type": "execute_result"
    }
   ],
   "source": [
    "trainer.inversion_trainer.args.per_device_eval_batch_size = 128\n",
    "trainer.inversion_trainer.gen_kwargs = {\n",
    "    \"early_stopping\": False,\n",
    "    \"num_beams\": 1,\n",
    "    \"do_sample\": False,\n",
    "    \"no_repeat_ngram_size\": 1,\n",
    "}\n",
    "trainer.inversion_trainer.evaluate()"
   ]
  },
  {
   "cell_type": "code",
   "execution_count": 74,
   "id": "c64f6cd3-423a-4319-a5ec-4f2a0716a194",
   "metadata": {},
   "outputs": [
    {
     "name": "stderr",
     "output_type": "stream",
     "text": [
      "                                                                                                                                               \r"
     ]
    },
    {
     "name": "stdout",
     "output_type": "stream",
     "text": [
      "to that of the skull, which are relatively smooth and untidy in character for infant sutures. Unlike many \"sections\", such\n",
      "to the character of the sutures of the skull which, like those of the infant skull, are relatively smooth and untortuous. In fact\n",
      "\n",
      "\n",
      "\n",
      "individual sprinter from the Southern Hemisphere to win a Winter Olympic gold medal, and was also part of Australia's relay team which won\n",
      "individual from the Southern Hemisphere, to win a Winter Olympic gold medal and was also part of the short track relay team that won Australia'\n",
      "\n",
      "\n",
      "\n",
      "the same rights as men, and 75% disagreed on whether or not they should be protected from discrimination. Eighteen percent agreed with HRW\n",
      "the same rights as straight people, while 15% disagreed. Additionally, 69% agreed that they should be protected from workplace discrimination. 13% of H\n"
     ]
    },
    {
     "name": "stderr",
     "output_type": "stream",
     "text": [
      "                                                                                                                                               \r"
     ]
    },
    {
     "data": {
      "text/plain": [
       "{'eval_loss': 1.0513743162155151,\n",
       " 'eval_accuracy': 0.737336189516129,\n",
       " 'bleu_score': 19.808293473980935,\n",
       " 'emb_cos_sim': 0.8734239339828491,\n",
       " 'eval_perplexity': 2.8615811342569275,\n",
       " 'eval_runtime': 74.6034,\n",
       " 'eval_samples_per_second': 6.702,\n",
       " 'eval_steps_per_second': 0.844}"
      ]
     },
     "execution_count": 74,
     "metadata": {},
     "output_type": "execute_result"
    }
   ],
   "source": [
    "trainer.inversion_trainer.args.per_device_eval_batch_size = 8\n",
    "trainer.inversion_trainer.gen_kwargs = {\n",
    "    \"early_stopping\": False,\n",
    "    \"num_beams\": 16,\n",
    "    \"do_sample\": False,\n",
    "    \"no_repeat_ngram_size\": 1,\n",
    "}\n",
    "trainer.inversion_trainer.evaluate()"
   ]
  },
  {
   "cell_type": "code",
   "execution_count": 4,
   "id": "fdee78bc-0a5b-4c90-bcbf-33a16b992f55",
   "metadata": {},
   "outputs": [
    {
     "data": {
      "text/html": [
       "\n",
       "    <div>\n",
       "      \n",
       "      <progress value='3' max='3' style='width:300px; height:20px; vertical-align: middle;'></progress>\n",
       "      [3/3 00:00]\n",
       "    </div>\n",
       "    "
      ],
      "text/plain": [
       "<IPython.core.display.HTML object>"
      ]
     },
     "metadata": {},
     "output_type": "display_data"
    },
    {
     "name": "stderr",
     "output_type": "stream",
     "text": [
      "                                                                                                                                               \r"
     ]
    },
    {
     "name": "stdout",
     "output_type": "stream",
     "text": [
      "to those of the skull, which are relatively smooth and untuckable in comparison with the character of sutures of infant sutures. Thus, \n",
      "to the character of the sutures of the skull which, like those of the infant skull, are relatively smooth and untortuous. In fact\n",
      "\n",
      "\n",
      "\n",
      "from Australia to win the Winter Olympic gold medal, and was part of the Short Track Individual Sledlift Team, which won the hemispher\n",
      "individual from the Southern Hemisphere, to win a Winter Olympic gold medal and was also part of the short track relay team that won Australia'\n",
      "\n",
      "\n",
      "\n",
      "the same rights as men and 71% agreed that they should be protected from discrimination. Three-quarters of respondents said heterosexuals, 19%\n",
      "the same rights as straight people, while 15% disagreed. Additionally, 69% agreed that they should be protected from workplace discrimination. 13% of H\n"
     ]
    },
    {
     "name": "stderr",
     "output_type": "stream",
     "text": [
      "                                                                                                                                               \r"
     ]
    },
    {
     "data": {
      "text/plain": [
       "{'eval_loss': 1.0522613525390625,\n",
       " 'eval_accuracy': 0.7386067708333334,\n",
       " 'bleu_score': 23.756930921356318,\n",
       " 'emb_cos_sim': 0.8801324367523193,\n",
       " 'eval_perplexity': 2.8641205867926014,\n",
       " 'eval_runtime': 5.6316,\n",
       " 'eval_samples_per_second': 88.784,\n",
       " 'eval_steps_per_second': 0.71}"
      ]
     },
     "execution_count": 4,
     "metadata": {},
     "output_type": "execute_result"
    }
   ],
   "source": [
    "trainer.inversion_trainer.args.per_device_eval_batch_size = 128\n",
    "trainer.inversion_trainer.gen_kwargs = {\n",
    "    \"early_stopping\": False,\n",
    "    \"num_beams\": 1,\n",
    "    \"do_sample\": True,\n",
    "    \"top_p\": 0.9,\n",
    "    \"temperature\": 1.0,\n",
    "    \"no_repeat_ngram_size\": 3,\n",
    "}\n",
    "trainer.inversion_trainer.evaluate()"
   ]
  },
  {
   "cell_type": "code",
   "execution_count": 7,
   "id": "abe1401e-3b51-468a-ad45-736e59cfa910",
   "metadata": {},
   "outputs": [
    {
     "data": {
      "text/plain": [
       "4"
      ]
     },
     "execution_count": 7,
     "metadata": {},
     "output_type": "execute_result"
    }
   ],
   "source": [
    "trainer.rerank_length"
   ]
  },
  {
   "cell_type": "code",
   "execution_count": 6,
   "id": "1faae668-5496-4f8e-99fe-a1febaf714dc",
   "metadata": {},
   "outputs": [
    {
     "name": "stderr",
     "output_type": "stream",
     "text": [
      "                                                                                                                                               \r"
     ]
    },
    {
     "name": "stdout",
     "output_type": "stream",
     "text": [
      "to the character of the skull, which are relatively smooth and untutuous in the case of infant sutures. Unlike the sutures,\n",
      "to the character of the sutures of the skull which, like those of the infant skull, are relatively smooth and untortuous. In fact\n",
      "\n",
      "\n",
      "\n",
      "individual from the Southern Hemisphere to win the Winter Olympic relay gold medal, and was also part of the Australian Short Track team, which won gold\n",
      "individual from the Southern Hemisphere, to win a Winter Olympic gold medal and was also part of the short track relay team that won Australia'\n",
      "\n",
      "\n",
      "\n",
      "the same rights as heterosexuals, and 75% agreed that they should be protected from discrimination. Three percent disagreed, with 15% working people O\n",
      "the same rights as straight people, while 15% disagreed. Additionally, 69% agreed that they should be protected from workplace discrimination. 13% of H\n"
     ]
    },
    {
     "name": "stderr",
     "output_type": "stream",
     "text": [
      "                                                                                                                                               \r"
     ]
    },
    {
     "data": {
      "text/plain": [
       "{'eval_loss': 1.459519863128662,\n",
       " 'bleu_score': 29.839762646262844,\n",
       " 'emb_cos_sim': 0.9122937917709351,\n",
       " 'eval_runtime': 479.8444,\n",
       " 'eval_samples_per_second': 1.042,\n",
       " 'eval_steps_per_second': 1.042}"
      ]
     },
     "execution_count": 6,
     "metadata": {},
     "output_type": "execute_result"
    }
   ],
   "source": [
    "trainer.args.per_device_eval_batch_size = 1\n",
    "trainer.rerank_length = 4\n",
    "trainer.reranking_method = \"embedder\"\n",
    "trainer.gen_kwargs = {\n",
    "    \"early_stopping\": False,\n",
    "    \"num_beams\": 512,\n",
    "    \"do_sample\": True,\n",
    "    \"top_p\": 0.9,\n",
    "    \"temperature\": 1.0,\n",
    "    \"no_repeat_ngram_size\": 3,\n",
    "}\n",
    "trainer.evaluate()"
   ]
  },
  {
   "cell_type": "code",
   "execution_count": 8,
   "id": "e6f72956-3e7e-4918-9a3c-aab7469f7633",
   "metadata": {},
   "outputs": [
    {
     "name": "stderr",
     "output_type": "stream",
     "text": [
      "                                                                                                                                               \r"
     ]
    },
    {
     "name": "stdout",
     "output_type": "stream",
     "text": [
      "to the character of the skulls of infant sutures, which are relatively smooth and untoothed. Nevertheless, in the case of skull\n",
      "to the character of the sutures of the skull which, like those of the infant skull, are relatively smooth and untortuous. In fact\n",
      "\n",
      "\n",
      "\n",
      "individual from the Southern Hemisphere to win a Winter Olympic gold medal, and was part of the Australian relay team, which won the short track\n",
      "individual from the Southern Hemisphere, to win a Winter Olympic gold medal and was also part of the short track relay team that won Australia'\n",
      "\n",
      "\n",
      "\n",
      "the same rights as heterosexuals, and 35% agreed that they should be protected from discrimination. Similarly, 15 percent disagreed with workplace O\n",
      "the same rights as straight people, while 15% disagreed. Additionally, 69% agreed that they should be protected from workplace discrimination. 13% of H\n"
     ]
    },
    {
     "name": "stderr",
     "output_type": "stream",
     "text": [
      "                                                                                                                                               \r"
     ]
    },
    {
     "data": {
      "text/plain": [
       "{'eval_loss': 1.4190876483917236,\n",
       " 'bleu_score': 32.35136408859456,\n",
       " 'emb_cos_sim': 0.9267756938934326,\n",
       " 'eval_runtime': 430.8529,\n",
       " 'eval_samples_per_second': 1.16,\n",
       " 'eval_steps_per_second': 1.16}"
      ]
     },
     "execution_count": 8,
     "metadata": {},
     "output_type": "execute_result"
    }
   ],
   "source": [
    "trainer.args.per_device_eval_batch_size = 1\n",
    "trainer.rerank_length = 32\n",
    "trainer.reranking_method = \"embedder\"\n",
    "trainer.gen_kwargs = {\n",
    "    \"early_stopping\": False,\n",
    "    \"num_beams\": 512,\n",
    "    \"do_sample\": True,\n",
    "    \"top_p\": 0.9,\n",
    "    \"temperature\": 1.0,\n",
    "    \"no_repeat_ngram_size\": 3,\n",
    "}\n",
    "trainer.evaluate()"
   ]
  },
  {
   "cell_type": "markdown",
   "id": "e862d367-242f-4d78-b84b-c911ff977dd1",
   "metadata": {},
   "source": [
    "# rerank w/ embedding model"
   ]
  },
  {
   "cell_type": "code",
   "execution_count": 91,
   "id": "2d63c00e-3a45-4b15-8e1c-a765904e32e1",
   "metadata": {},
   "outputs": [
    {
     "name": "stderr",
     "output_type": "stream",
     "text": [
      "                                                                                                                                               \r"
     ]
    },
    {
     "name": "stdout",
     "output_type": "stream",
     "text": [
      "to that of the sutures of the skull, which are relatively smooth and untidy in character to the infant skull. Nevertheless, \n",
      "to the character of the sutures of the skull which, like those of the infant skull, are relatively smooth and untortuous. In fact\n",
      "\n",
      "\n",
      "\n",
      "individual from the Southern Hemisphere to win a Winter Olympic gold medal, and was part of the Australian relay team which also won the short track\n",
      "individual from the Southern Hemisphere, to win a Winter Olympic gold medal and was also part of the short track relay team that won Australia'\n",
      "\n",
      "\n",
      "\n",
      "the same rights as heterosexuals, and 75% agreed that they should be protected from discrimination. Only 3% disagreed. 15% of workplace and\n",
      "the same rights as straight people, while 15% disagreed. Additionally, 69% agreed that they should be protected from workplace discrimination. 13% of H\n"
     ]
    },
    {
     "name": "stderr",
     "output_type": "stream",
     "text": [
      "                                                                                                                                               \r"
     ]
    },
    {
     "data": {
      "text/plain": [
       "{'eval_loss': 2.598018169403076,\n",
       " 'bleu_score': 34.131735301974935,\n",
       " 'emb_cos_sim': 0.9305198192596436,\n",
       " 'eval_runtime': 134.7714,\n",
       " 'eval_samples_per_second': 3.71,\n",
       " 'eval_steps_per_second': 0.927}"
      ]
     },
     "execution_count": 91,
     "metadata": {},
     "output_type": "execute_result"
    }
   ],
   "source": [
    "trainer.args.per_device_eval_batch_size = 4\n",
    "trainer.reranking_method = \"embedder\"\n",
    "trainer.rerank_length = 32\n",
    "trainer.beam_width = 16\n",
    "trainer.evaluate()"
   ]
  },
  {
   "cell_type": "code",
   "execution_count": 92,
   "id": "4a81aa00-b8b4-4d69-90f6-2487ff92cb18",
   "metadata": {},
   "outputs": [
    {
     "name": "stderr",
     "output_type": "stream",
     "text": [
      "                                                                                                                                               \r"
     ]
    },
    {
     "name": "stdout",
     "output_type": "stream",
     "text": [
      "to the character of the skulls of infant sutures, which are relatively smooth and untoothed, though not as sutures. Thus,\n",
      "to the character of the sutures of the skull which, like those of the infant skull, are relatively smooth and untortuous. In fact\n",
      "\n",
      "\n",
      "\n",
      "individual hemisphere athlete from Australia to win the Winter Olympic relay, and was also part of the Southern Hemisphere team, which won short\n",
      "individual from the Southern Hemisphere, to win a Winter Olympic gold medal and was also part of the short track relay team that won Australia'\n",
      "\n",
      "\n",
      "\n",
      "the same rights as heterosexuals, and 15% agreed that they should be protected from discrimination. Eighteen percent disagreed with 35% of workplace\n",
      "the same rights as straight people, while 15% disagreed. Additionally, 69% agreed that they should be protected from workplace discrimination. 13% of H\n"
     ]
    },
    {
     "name": "stderr",
     "output_type": "stream",
     "text": [
      "                                                                                                                                               \r"
     ]
    },
    {
     "data": {
      "text/plain": [
       "{'eval_loss': 2.6180620193481445,\n",
       " 'bleu_score': 32.43583788601096,\n",
       " 'emb_cos_sim': 0.9374054670333862,\n",
       " 'eval_runtime': 134.1522,\n",
       " 'eval_samples_per_second': 3.727,\n",
       " 'eval_steps_per_second': 0.932}"
      ]
     },
     "execution_count": 92,
     "metadata": {},
     "output_type": "execute_result"
    }
   ],
   "source": [
    "trainer.args.per_device_eval_batch_size = 4\n",
    "trainer.reranking_method = \"embedder\"\n",
    "trainer.rerank_length = 16\n",
    "trainer.beam_width = 16\n",
    "trainer.evaluate()"
   ]
  },
  {
   "cell_type": "code",
   "execution_count": 94,
   "id": "9bd6eb9f-940f-49b2-bb35-67f87908166a",
   "metadata": {},
   "outputs": [
    {
     "name": "stderr",
     "output_type": "stream",
     "text": [
      "                                                                                                                                               \r"
     ]
    },
    {
     "name": "stdout",
     "output_type": "stream",
     "text": [
      "to the character of the sutures of the infant skull, which are relatively smooth and untoothful, though not in the manner of skulls.\n",
      "to the character of the sutures of the skull which, like those of the infant skull, are relatively smooth and untortuous. In fact\n",
      "\n",
      "\n",
      "\n",
      "individual from Australia to win the Winter Olympic relay, and was part of the Southern Hemisphere team which won a short track gold medal, also\n",
      "individual from the Southern Hemisphere, to win a Winter Olympic gold medal and was also part of the short track relay team that won Australia'\n",
      "\n",
      "\n",
      "\n",
      "the same rights as men and 35% agreed that they should be protected from discrimination. In addition, only 15% disagreed with workplace rights. A straight\n",
      "the same rights as straight people, while 15% disagreed. Additionally, 69% agreed that they should be protected from workplace discrimination. 13% of H\n"
     ]
    },
    {
     "name": "stderr",
     "output_type": "stream",
     "text": [
      "                                                                                                                                               \r"
     ]
    },
    {
     "data": {
      "text/plain": [
       "{'eval_loss': 2.6562108993530273,\n",
       " 'bleu_score': 27.158455432172854,\n",
       " 'emb_cos_sim': 0.9325571656227112,\n",
       " 'eval_runtime': 156.2488,\n",
       " 'eval_samples_per_second': 3.2,\n",
       " 'eval_steps_per_second': 0.8}"
      ]
     },
     "execution_count": 94,
     "metadata": {},
     "output_type": "execute_result"
    }
   ],
   "source": [
    "trainer.args.per_device_eval_batch_size = 4\n",
    "trainer.reranking_method = \"embedder\"\n",
    "trainer.rerank_length = 8\n",
    "trainer.beam_width = 16\n",
    "trainer.evaluate()"
   ]
  },
  {
   "cell_type": "code",
   "execution_count": 93,
   "id": "186bc294-0eca-4666-8935-2df52f3b21d3",
   "metadata": {},
   "outputs": [
    {
     "name": "stderr",
     "output_type": "stream",
     "text": [
      "                                                                                                                                               \r"
     ]
    },
    {
     "name": "stdout",
     "output_type": "stream",
     "text": [
      "such the skull structures to smooth, rather untuthing character of infant, so to that is, with those and simplities)..\n",
      "to the character of the sutures of the skull which, like those of the infant skull, are relatively smooth and untortuous. In fact\n",
      "\n",
      "\n",
      "\n",
      "medal winner for Winter Australia to  win gold and that part belonging South Australia., also notably runner organiser''', and achieved relay\n",
      "individual from the Southern Hemisphere, to win a Winter Olympic gold medal and was also part of the short track relay team that won Australia'\n",
      "\n",
      "\n",
      "\n",
      "percent rights  same discriminations and 15% disagreed with workplace protected people., 77 out Of that 80% say straight and are\n",
      "the same rights as straight people, while 15% disagreed. Additionally, 69% agreed that they should be protected from workplace discrimination. 13% of H\n"
     ]
    },
    {
     "name": "stderr",
     "output_type": "stream",
     "text": [
      "                                                                                                                                               \r"
     ]
    },
    {
     "data": {
      "text/plain": [
       "{'eval_loss': 2.6122565269470215,\n",
       " 'bleu_score': 2.5182751686288056,\n",
       " 'emb_cos_sim': 0.8846825361251831,\n",
       " 'eval_runtime': 345.2587,\n",
       " 'eval_samples_per_second': 1.448,\n",
       " 'eval_steps_per_second': 0.362}"
      ]
     },
     "execution_count": 93,
     "metadata": {},
     "output_type": "execute_result"
    }
   ],
   "source": [
    "trainer.args.per_device_eval_batch_size = 4\n",
    "trainer.reranking_method = \"embedder\"\n",
    "trainer.rerank_length = 1\n",
    "trainer.beam_width = 16\n",
    "trainer.evaluate()"
   ]
  },
  {
   "cell_type": "markdown",
   "id": "3edbcd29-befc-44fd-bd36-b79028ff8d1f",
   "metadata": {},
   "source": [
    "## rerank w/ learned model"
   ]
  },
  {
   "cell_type": "code",
   "execution_count": null,
   "id": "f8a47429-998d-4d39-adbd-77f78865ca4b",
   "metadata": {},
   "outputs": [],
   "source": [
    "trainer.args.per_device_eval_batch_size = 4\n",
    "trainer.reranking_method = \"model\"\n",
    "trainer.rerank_length = 32\n",
    "trainer.beam_width = 16\n",
    "trainer.evaluate()"
   ]
  },
  {
   "cell_type": "code",
   "execution_count": null,
   "id": "759758b6-75df-4aa3-bc1a-b607d54b2941",
   "metadata": {},
   "outputs": [],
   "source": [
    "trainer.args.per_device_eval_batch_size = 4\n",
    "trainer.reranking_method = \"model\"\n",
    "trainer.rerank_length = 16\n",
    "trainer.beam_width = 16\n",
    "trainer.evaluate()"
   ]
  },
  {
   "cell_type": "code",
   "execution_count": null,
   "id": "3a76fa42-5a40-402d-bec3-a9d716c7538b",
   "metadata": {},
   "outputs": [],
   "source": [
    "trainer.args.per_device_eval_batch_size = 4\n",
    "trainer.reranking_method = \"model\"\n",
    "trainer.rerank_length = 1\n",
    "trainer.beam_width = 16\n",
    "trainer.evaluate()"
   ]
  },
  {
   "cell_type": "markdown",
   "id": "7b041d10-29be-4682-9550-95da4959664e",
   "metadata": {},
   "source": [
    "## generate & rerank"
   ]
  },
  {
   "cell_type": "code",
   "execution_count": 98,
   "id": "ae84b733-4787-4494-980f-81fc3f23a845",
   "metadata": {},
   "outputs": [
    {
     "name": "stderr",
     "output_type": "stream",
     "text": [
      "                                                                                                                                               \r"
     ]
    },
    {
     "name": "stdout",
     "output_type": "stream",
     "text": [
      "to the character of skulls, most ofwhich are smooth and unuttuous in the manner of the sutures of the infant suture...\n",
      "to the character of the sutures of the skull which, like those of the infant skull, are relatively smooth and untortuous. In fact\n",
      "\n",
      "\n",
      "\n",
      "of the Southern Hemisphere from Australia, to win s Winter Olympic Gold Medal and was also part of the Short Track relay Team or individual winner\n",
      "individual from the Southern Hemisphere, to win a Winter Olympic gold medal and was also part of the short track relay team that won Australia'\n",
      "\n",
      "\n",
      "\n",
      "one 15% of the workforce,, and the same rights as straight people in the workplace. 79% disagreed and added that they should be protected from discrimin\n",
      "the same rights as straight people, while 15% disagreed. Additionally, 69% agreed that they should be protected from workplace discrimination. 13% of H\n"
     ]
    },
    {
     "name": "stderr",
     "output_type": "stream",
     "text": [
      "                                                                                                                                               \r"
     ]
    },
    {
     "data": {
      "text/plain": [
       "{'eval_loss': 2.68282413482666,\n",
       " 'bleu_score': 27.46980879267332,\n",
       " 'emb_cos_sim': 0.9551239609718323,\n",
       " 'eval_runtime': 1669.9391,\n",
       " 'eval_samples_per_second': 0.299,\n",
       " 'eval_steps_per_second': 0.075}"
      ]
     },
     "execution_count": 98,
     "metadata": {},
     "output_type": "execute_result"
    }
   ],
   "source": [
    "trainer.args.per_device_eval_batch_size = 4\n",
    "trainer.reranking_method = \"generate_before_embedder\"\n",
    "trainer.rerank_length = 1\n",
    "trainer.beam_width = 16\n",
    "trainer.evaluate()"
   ]
  },
  {
   "cell_type": "code",
   "execution_count": 97,
   "id": "4cdd61dd-327c-4ebc-9e80-5d5e7f477f3e",
   "metadata": {},
   "outputs": [
    {
     "name": "stderr",
     "output_type": "stream",
     "text": [
      "                                                                                                                                               \r"
     ]
    },
    {
     "name": "stdout",
     "output_type": "stream",
     "text": [
      "to the character of skulls, which are generally smooth and untutuous in the manner of the sutures of the infant suture. However\n",
      "to the character of the sutures of the skull which, like those of the infant skull, are relatively smooth and untortuous. In fact\n",
      "\n",
      "\n",
      "\n",
      "from the Southern Hemisphere, to win a Winter Olympic relay gold medal and was one of the short track relay team members who won Australia'\n",
      "individual from the Southern Hemisphere, to win a Winter Olympic gold medal and was also part of the short track relay team that won Australia'\n",
      "\n",
      "\n",
      "\n",
      "a percentage of the same rights as straight people, while 33% disagreed. Furthermore, 75% agreed that they should not be protected from workplace discrimin\n",
      "the same rights as straight people, while 15% disagreed. Additionally, 69% agreed that they should be protected from workplace discrimination. 13% of H\n"
     ]
    },
    {
     "name": "stderr",
     "output_type": "stream",
     "text": [
      "                                                                                                                                               \r"
     ]
    },
    {
     "data": {
      "text/plain": [
       "{'eval_loss': 2.6776480674743652,\n",
       " 'bleu_score': 31.494899162518266,\n",
       " 'emb_cos_sim': 0.9527922868728638,\n",
       " 'eval_runtime': 495.8333,\n",
       " 'eval_samples_per_second': 1.008,\n",
       " 'eval_steps_per_second': 0.252}"
      ]
     },
     "execution_count": 97,
     "metadata": {},
     "output_type": "execute_result"
    }
   ],
   "source": [
    "trainer.args.per_device_eval_batch_size = 4\n",
    "trainer.reranking_method = \"generate_before_embedder\"\n",
    "trainer.rerank_length = 4\n",
    "trainer.beam_width = 16\n",
    "trainer.evaluate()"
   ]
  },
  {
   "cell_type": "code",
   "execution_count": 99,
   "id": "85ced7dc-d868-4926-abfa-c9d22c215bb7",
   "metadata": {},
   "outputs": [
    {
     "name": "stderr",
     "output_type": "stream",
     "text": [
      "                                                                                                                                               \r"
     ]
    },
    {
     "name": "stdout",
     "output_type": "stream",
     "text": [
      "to that of the skull, which are relatively smooth and untutorous in the character of sutures of the infant sutures. Nevertheless,\n",
      "to the character of the sutures of the skull which, like those of the infant skull, are relatively smooth and untortuous. In fact\n",
      "\n",
      "\n",
      "\n",
      "from the Southern Hemisphere to win the Winter Olympic gold medal, and was part of a short track relay team which won the individual Australia'\n",
      "individual from the Southern Hemisphere, to win a Winter Olympic gold medal and was also part of the short track relay team that won Australia'\n",
      "\n",
      "\n",
      "\n",
      "the same rights as straight people, and 73% disagreed on whether they should be protected from discrimination. A third, 15%, agreed with workplace and\n",
      "the same rights as straight people, while 15% disagreed. Additionally, 69% agreed that they should be protected from workplace discrimination. 13% of H\n"
     ]
    },
    {
     "name": "stderr",
     "output_type": "stream",
     "text": [
      "                                                                                                                                               \r"
     ]
    },
    {
     "data": {
      "text/plain": [
       "{'eval_loss': 2.6655898094177246,\n",
       " 'bleu_score': 33.83637429095468,\n",
       " 'emb_cos_sim': 0.9512282609939575,\n",
       " 'eval_runtime': 288.9547,\n",
       " 'eval_samples_per_second': 1.73,\n",
       " 'eval_steps_per_second': 0.433}"
      ]
     },
     "execution_count": 99,
     "metadata": {},
     "output_type": "execute_result"
    }
   ],
   "source": [
    "trainer.args.per_device_eval_batch_size = 4\n",
    "trainer.reranking_method = \"generate_before_embedder\"\n",
    "trainer.rerank_length = 8\n",
    "trainer.beam_width = 16\n",
    "trainer.evaluate()"
   ]
  },
  {
   "cell_type": "code",
   "execution_count": 96,
   "id": "5f4d1603-112b-4f19-8494-84e3dae4fdc3",
   "metadata": {},
   "outputs": [
    {
     "name": "stderr",
     "output_type": "stream",
     "text": [
      "                                                                                                                                               \r"
     ]
    },
    {
     "name": "stdout",
     "output_type": "stream",
     "text": [
      "to the character of the sutures of the skull, which are smooth and untidy in comparison to those of infant skulls. Indeed,\n",
      "to the character of the sutures of the skull which, like those of the infant skull, are relatively smooth and untortuous. In fact\n",
      "\n",
      "\n",
      "\n",
      "individual from the Southern Hemisphere to win the Winter Olympic relay, and was also part of the Australian short track relay team, which won gold medal\n",
      "individual from the Southern Hemisphere, to win a Winter Olympic gold medal and was also part of the short track relay team that won Australia'\n",
      "\n",
      "\n",
      "\n",
      "the same rights as heterosexuals, and 7% agreed that they should be protected from discrimination. Fifteen percent disagreed, 15% said workplace\n",
      "the same rights as straight people, while 15% disagreed. Additionally, 69% agreed that they should be protected from workplace discrimination. 13% of H\n"
     ]
    },
    {
     "name": "stderr",
     "output_type": "stream",
     "text": [
      "                                                                                                                                               \r"
     ]
    },
    {
     "data": {
      "text/plain": [
       "{'eval_loss': 2.6470892429351807,\n",
       " 'bleu_score': 34.892324765615086,\n",
       " 'emb_cos_sim': 0.9404875040054321,\n",
       " 'eval_runtime': 192.2092,\n",
       " 'eval_samples_per_second': 2.601,\n",
       " 'eval_steps_per_second': 0.65}"
      ]
     },
     "execution_count": 96,
     "metadata": {},
     "output_type": "execute_result"
    }
   ],
   "source": [
    "trainer.args.per_device_eval_batch_size = 4\n",
    "trainer.reranking_method = \"generate_before_embedder\"\n",
    "trainer.rerank_length = 16\n",
    "trainer.beam_width = 16\n",
    "trainer.evaluate()"
   ]
  },
  {
   "cell_type": "code",
   "execution_count": null,
   "id": "d5c65770-257e-4360-99f6-2064a0a7eb82",
   "metadata": {},
   "outputs": [],
   "source": []
  }
 ],
 "metadata": {
  "kernelspec": {
   "display_name": "Python 3 (ipykernel)",
   "language": "python",
   "name": "python3"
  },
  "language_info": {
   "codemirror_mode": {
    "name": "ipython",
    "version": 3
   },
   "file_extension": ".py",
   "mimetype": "text/x-python",
   "name": "python",
   "nbconvert_exporter": "python",
   "pygments_lexer": "ipython3",
   "version": "3.10.10"
  }
 },
 "nbformat": 4,
 "nbformat_minor": 5
}
