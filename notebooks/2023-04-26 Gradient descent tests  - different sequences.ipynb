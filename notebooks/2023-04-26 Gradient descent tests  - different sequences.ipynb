{
 "cells": [
  {
   "cell_type": "code",
   "execution_count": 1,
   "id": "43ba1a0a-9b6b-4964-9951-09d0ab79e4be",
   "metadata": {},
   "outputs": [],
   "source": [
    "import os\n",
    "os.environ[\"WANDB_DISABLED\"] = \"true\"\n",
    "\n",
    "import sys\n",
    "sys.path.append('..')\n",
    "\n",
    "%load_ext autoreload\n",
    "%autoreload 2"
   ]
  },
  {
   "cell_type": "code",
   "execution_count": 2,
   "id": "d5bdc734-9eca-48b1-83e7-8a8a7892a970",
   "metadata": {},
   "outputs": [
    {
     "name": "stdout",
     "output_type": "stream",
     "text": [
      "Loading trainer for analysis – setting --do_eval=1\n",
      "loading alias dpr_nq__msl32_beta from /home/jxm3/research/retrieval/inversion/saves/db66b9c01b644541fedbdcc59c53a285/ebb31d91810c4b62d2b55b5382e8c7ea...\n",
      "Set train_args.dataloader_num_workers = 4\n"
     ]
    },
    {
     "name": "stderr",
     "output_type": "stream",
     "text": [
      "/home/jxm3/.conda/envs/torch/lib/python3.10/site-packages/transformers/models/t5/tokenization_t5_fast.py:155: FutureWarning: This tokenizer was incorrectly instantiated with a model max length of 512 which will be corrected in Transformers v5.\n",
      "For now, this behavior is kept to avoid breaking backwards compatibility when padding/encoding with `truncation is True`.\n",
      "- Be aware that you SHOULD NOT rely on t5-base automatically truncating your input to 512 when padding/encoding.\n",
      "- If you want to encode/pad to sequences longer than 512 you can either instantiate this tokenizer with `model_max_length` or pass `max_length` when encoding/padding.\n",
      "- To avoid this warning, please instantiate this tokenizer with `model_max_length` set to your preferred value.\n",
      "  warnings.warn(\n"
     ]
    },
    {
     "name": "stdout",
     "output_type": "stream",
     "text": [
      "================ Begin trainer sanity check ================\n",
      "\tInput to encode -> Twas brillig, and the slithy toves, Did gyre and gimble in the wabe, All mimsy were the borogoves, And the mome raths outgrabe.\n",
      "\tDecoded output -> The mlbies wase wyst bograge; And the sliths and toms wre\n",
      "================ End trainer sanity check ================\n"
     ]
    }
   ],
   "source": [
    "import analyze_utils\n",
    "\n",
    "# inversion model: wandb.ai/jack-morris/emb-inv-1/runs/ebb31d91810c4b62d2b55b5382e8c7ea/logs?workspace=user-jxmorris12\n",
    "# cross-encoder: wandb.ai/jack-morris/emb-rerank-1/runs/7bd186119e1f4f789eaa0731fd7357a1/overview?workspace=user-jxmorris12\n",
    "checkpoint_folder = \"/home/jxm3/research/retrieval/inversion/saves/98b1418d38c3f9333b17ab20bff06ff9/\"\n",
    "\n",
    "trainer = analyze_utils.load_trainer(checkpoint_folder)"
   ]
  },
  {
   "cell_type": "code",
   "execution_count": 11,
   "id": "80a1eb56-0c07-4872-b95a-2643ffe652f8",
   "metadata": {},
   "outputs": [
    {
     "data": {
      "text/plain": [
       "torch.Size([1, 768])"
      ]
     },
     "execution_count": 11,
     "metadata": {},
     "output_type": "execute_result"
    }
   ],
   "source": [
    "frozen_embeddings.shape"
   ]
  },
  {
   "cell_type": "code",
   "execution_count": 27,
   "id": "23f13866-a80d-437f-a43f-80b9a57fe5e9",
   "metadata": {},
   "outputs": [
    {
     "name": "stdout",
     "output_type": "stream",
     "text": [
      "goal text: This is a random sentence!</s>\n",
      "step 0 loss tensor([-0.0259], device='cuda:0', grad_fn=<AddBackward0>) (lm_loss=-0.03 cos_loss=0.00)\n",
      "\tgen_text = <pad> This is a random sentence! This is a random sentence! This is a random sentence! This is a random sentence! This is random\n",
      "step 20 loss tensor([-0.0406], device='cuda:0', grad_fn=<AddBackward0>) (lm_loss=-0.04 cos_loss=0.00)\n",
      "\tgen_text = <pad> This Random Random Word is a Random & Random Task This Random Word is a Random Task and this is a random sentence from a baby\n",
      "step 40 loss tensor([-0.0539], device='cuda:0', grad_fn=<AddBackward0>) (lm_loss=-0.06 cos_loss=0.00)\n",
      "\tgen_text = <pad> This Random Random House and This Random Child is a Random Task This Random House and This Random Child is a random sentence that is a sentence.\n",
      "step 60 loss tensor([-0.0735], device='cuda:0', grad_fn=<AddBackward0>) (lm_loss=-0.08 cos_loss=0.00)\n",
      "\tgen_text = <pad> This Random Random House Is a Random Child This Random House Is a Random Child This Random sentence is a random sentence and a puzzle\n",
      "step 80 loss tensor([-0.0940], device='cuda:0', grad_fn=<AddBackward0>) (lm_loss=-0.10 cos_loss=0.01)\n",
      "\tgen_text = <pad> This Random Random House This Random House This Random House This Random House This Random House is a sentence written by a random random language and puzzles.\n",
      "step 100 loss tensor([-0.1112], device='cuda:0', grad_fn=<AddBackward0>) (lm_loss=-0.12 cos_loss=0.01)\n",
      "\tgen_text = <pad> This Random Random House This Random House This Random House This Random House Parody Puzzle is a random sentence written by a random sentence and a marker\n",
      "step 120 loss tensor([-0.1295], device='cuda:0', grad_fn=<AddBackward0>) (lm_loss=-0.14 cos_loss=0.01)\n",
      "\tgen_text = <pad> This Random House Random Pending Random House Random This Random House Random House Random House is a random sentence that is composed from a lot of words.\n",
      "step 140 loss tensor([-0.1490], device='cuda:0', grad_fn=<AddBackward0>) (lm_loss=-0.17 cos_loss=0.02)\n",
      "\tgen_text = <pad> This Random Random House Front Yard Puzzle Game This Random House Front Yard Puzzle Game is a random sentence that is composed from a random word and stains\n",
      "step 160 loss tensor([-0.1644], device='cuda:0', grad_fn=<AddBackward0>) (lm_loss=-0.19 cos_loss=0.02)\n",
      "\tgen_text = <pad> This Random Random House Front Yard Puzzle is a Random House Random House Puzzle that this sentence is composed of a random word and a random sentence.\n",
      "step 180 loss tensor([-0.1833], device='cuda:0', grad_fn=<AddBackward0>) (lm_loss=-0.21 cos_loss=0.03)\n",
      "\tgen_text = <pad> Random Random House This Random House This Random House Last Dollar Puzzle is a sentence that is composed of a lot of random words and a random stamp\n",
      "step 200 loss tensor([-0.2200], device='cuda:0', grad_fn=<AddBackward0>) (lm_loss=-0.25 cos_loss=0.03)\n",
      "\tgen_text = <pad> Random Random House Last Dollars This Random House Last Dollars is a random sentence that is composed of a blank sentence and a puzzle puzzle.\n",
      "step 220 loss tensor([-0.2490], device='cuda:0', grad_fn=<AddBackward0>) (lm_loss=-0.29 cos_loss=0.04)\n",
      "\tgen_text = <pad> Random Random Farmyard Paint Shoes Random Random Farmyard Paint Shoes Random Farm is a blown sentence that is composed of a string of words. \n",
      "step 240 loss tensor([-0.2656], device='cuda:0', grad_fn=<AddBackward0>) (lm_loss=-0.31 cos_loss=0.05)\n",
      "\tgen_text = <pad> Random Random Farmyard Paint Shoes Random Random Farmyard Paint Shoes Random Farmyard is a blown out of print movie. His first sentence is canceled\n",
      "step 260 loss tensor([-0.2886], device='cuda:0', grad_fn=<AddBackward0>) (lm_loss=-0.34 cos_loss=0.05)\n",
      "\tgen_text = <pad> Random Random Farmyard Paint Shoes Random Random Farmyard Paint Shoes Random Farmyard Paint Shoes is a canceled musical scene. His first sentence is filmed\n",
      "step 280 loss tensor([-0.3161], device='cuda:0', grad_fn=<AddBackward0>) (lm_loss=-0.37 cos_loss=0.06)\n",
      "\tgen_text = <pad> Random Random Farmyard Paint Shoes Random Random Farmyard Paint Shoes Random Farmyard Paint Shoes is a canceled musical scene, and he writes music.\n",
      "step 300 loss tensor([-0.3385], device='cuda:0', grad_fn=<AddBackward0>) (lm_loss=-0.40 cos_loss=0.06)\n",
      "\tgen_text = <pad> Random Random Random Farmyard Music Store Players' Random Random Farmyard Music Store Players' first sentence is a watercolor painting and a musical scene. \n",
      "step 320 loss tensor([-0.3608], device='cuda:0', grad_fn=<AddBackward0>) (lm_loss=-0.43 cos_loss=0.07)\n",
      "\tgen_text = <pad> Random Random Random Farmyard Music Store Artists Random Random Random Farmyard Music Store Artists is a canceled movie, and he writes sentences.\n",
      "step 340 loss tensor([-0.3897], device='cuda:0', grad_fn=<AddBackward0>) (lm_loss=-0.47 cos_loss=0.08)\n",
      "\tgen_text = <pad> Random Random Random Random Random Random Random Random Random Farmstown jewelry and clothing auction is a Canadian movie. Random Random Random Farmstown, New Jersey\n",
      "step 360 loss tensor([-0.4164], device='cuda:0', grad_fn=<AddBackward0>) (lm_loss=-0.50 cos_loss=0.08)\n",
      "\tgen_text = <pad> Random Random Random Random Random Random Random Random Random Foodstown, Florida, courtship is a musician, songwriter, and actor. Random purchased jewelry\n",
      "step 380 loss tensor([-0.4411], device='cuda:0', grad_fn=<AddBackward0>) (lm_loss=-0.53 cos_loss=0.09)\n",
      "\tgen_text = <pad> Random Random Random Random Random Random Random Random Random Random Foodstown, Louisiana, is a court martial, a restaurant, and a vehicle.\n",
      "step 400 loss tensor([-0.4653], device='cuda:0', grad_fn=<AddBackward0>) (lm_loss=-0.56 cos_loss=0.09)\n",
      "\tgen_text = <pad> Random Random Random Random Random Random Random Random Random Random Foods Store, Louisiana, is a court martial, a courtroom, and musician. \n",
      "step 420 loss tensor([-0.4909], device='cuda:0', grad_fn=<AddBackward0>) (lm_loss=-0.59 cos_loss=0.10)\n",
      "\tgen_text = <pad> Random Random Random Random Random Random Random Random Random Random Food Court, Louisiana, is a musician, actor, and band member. He exits the store\n",
      "step 440 loss tensor([-0.5081], device='cuda:0', grad_fn=<AddBackward0>) (lm_loss=-0.62 cos_loss=0.11)\n",
      "\tgen_text = <pad> Random Random Random Random Random Random Random Random Random Random Food Court dinner, concert, and jewelry is a transaction conducted by a random person in Louisiana.\n",
      "step 460 loss tensor([-0.5279], device='cuda:0', grad_fn=<AddBackward0>) (lm_loss=-0.64 cos_loss=0.11)\n",
      "\tgen_text = <pad> Random Random Random Random Random Random Random Random Random Random Dining House act is a Louisiana state liquor dealer, musician, and actor, and he orders.\n",
      "step 480 loss tensor([-0.5545], device='cuda:0', grad_fn=<AddBackward0>) (lm_loss=-0.68 cos_loss=0.12)\n",
      "\tgen_text = <pad> Random Random Random Random Random Random Random Random Random Dining House act is a musician, band, and liquor dealer in the U.S. state of California\n",
      "step 500 loss tensor([-0.5774], device='cuda:0', grad_fn=<AddBackward0>) (lm_loss=-0.71 cos_loss=0.13)\n",
      "\tgen_text = <pad> Random Random Random Random Random Random Random Random Random Dining House act is a liquor store, restaurant, and concert in the U.S. state of California\n",
      "step 520 loss tensor([-0.5847], device='cuda:0', grad_fn=<AddBackward0>) (lm_loss=-0.72 cos_loss=0.13)\n",
      "\tgen_text = <pad> Random Random Random Random Random Random Random Random Random Food Company shop and concert is conducted in the state of New York, in the U.S. state.\n",
      "step 540 loss tensor([-0.5883], device='cuda:0', grad_fn=<AddBackward0>) (lm_loss=-0.73 cos_loss=0.14)\n",
      "\tgen_text = <pad> Random Random Random Random Random Random Random Random Random Food Company auction house and liquor store is a state of New York, in the U.S. territory\n",
      "step 560 loss tensor([-0.6090], device='cuda:0', grad_fn=<AddBackward0>) (lm_loss=-0.76 cos_loss=0.15)\n",
      "\tgen_text = <pad> Random Random Random Random Random Random Random Random Random Food Company auction house and jewelry shop is a state of the Random Random House, New York, United States\n",
      "step 580 loss tensor([-0.6196], device='cuda:0', grad_fn=<AddBackward0>) (lm_loss=-0.77 cos_loss=0.15)\n",
      "\tgen_text = <pad> Random Random Random Random Random Random Random Random Food Service shop and jewelry store is a Random Random House, New York state, pawned auction\n",
      "step 600 loss tensor([-0.6078], device='cuda:0', grad_fn=<AddBackward0>) (lm_loss=-0.77 cos_loss=0.16)\n",
      "\tgen_text = <pad> Random Random Random Random Random Random Random Random House music and dance band hat, jewelry, and makeup is a production of Random House liquor in New York\n",
      "step 620 loss tensor([-0.6202], device='cuda:0', grad_fn=<AddBackward0>) (lm_loss=-0.79 cos_loss=0.17)\n",
      "\tgen_text = <pad> Random Random Random Random Random Random Random Random Random House music and acting productions is a Random House liquor store in Random House, New York, United States\n",
      "step 640 loss tensor([-0.6505], device='cuda:0', grad_fn=<AddBackward0>) (lm_loss=-0.82 cos_loss=0.17)\n",
      "\tgen_text = <pad> Random Random Random Random Random Random Random Random Random Music Theater productions and auctions is a Random Random House, New York state, United States of America\n",
      "step 660 loss tensor([-0.6371], device='cuda:0', grad_fn=<AddBackward0>) (lm_loss=-0.82 cos_loss=0.18)\n",
      "\tgen_text = <pad> Random Random Random Random Random Random Random Random Random Music Theater productions and auctions is Random Random House, New York, United States, and bonded.\n",
      "step 680 loss tensor([-0.6151], device='cuda:0', grad_fn=<AddBackward0>) (lm_loss=-0.80 cos_loss=0.18)\n",
      "\tgen_text = <pad> Random Random Random Random Random Random Random Random Random Random Music Theater supplies and artwork are minted and poured into Random Random House, New York state.\n",
      "step 700 loss tensor([-0.6597], device='cuda:0', grad_fn=<AddBackward0>) (lm_loss=-0.85 cos_loss=0.19)\n",
      "\tgen_text = <pad> Random Random Random Random Random Random Random Random Random Random Random House Theater and Music Factory is a hamlet in Random House, New York, United States\n",
      "step 720 loss tensor([-0.6854], device='cuda:0', grad_fn=<AddBackward0>) (lm_loss=-0.88 cos_loss=0.19)\n",
      "\tgen_text = <pad> Random Random Random Random Random Random Random Random Random Random Random House supplies and jewelry are minted and poured into Random House, Queens, Canada.\n",
      "step 740 loss tensor([-0.6372], device='cuda:0', grad_fn=<AddBackward0>) (lm_loss=-0.83 cos_loss=0.20)\n",
      "\tgen_text = <pad> Random Random Random Random Random Random Random Random Random Random Random House supplies and jewelry are minted and crafted in Random House, Queens, Canada.\n",
      "step 760 loss tensor([-0.6150], device='cuda:0', grad_fn=<AddBackward0>) (lm_loss=-0.82 cos_loss=0.20)\n",
      "\tgen_text = <pad> Random Random Random Random Random Random Random Random Random Random Random House supplies and jewelry are minted for Random House Theater District, Queens, New York.\n",
      "step 780 loss tensor([-0.6527], device='cuda:0', grad_fn=<AddBackward0>) (lm_loss=-0.86 cos_loss=0.21)\n",
      "\tgen_text = <pad> Random Random Random Random Random Random Random Random Random Random Random Random House supplies and jewelry are minted for Random House Theaters in Random House, New York\n",
      "step 800 loss tensor([-0.7035], device='cuda:0', grad_fn=<AddBackward0>) (lm_loss=-0.91 cos_loss=0.21)\n",
      "\tgen_text = <pad> Random Random Random Random Random Random Random Random Random Random Random Random Random House supplies and jewelry are minted for Random House Theaters in Random House, Connecticut\n",
      "step 820 loss tensor([-0.7043], device='cuda:0', grad_fn=<AddBackward0>) (lm_loss=-0.92 cos_loss=0.21)\n",
      "\tgen_text = <pad> Random Random Random Random Random Random Random Random Random Random Random Random Random Random House supplies are cigarette bottles and dandy drums in New York state\n",
      "step 840 loss tensor([-0.6576], device='cuda:0', grad_fn=<AddBackward0>) (lm_loss=-0.88 cos_loss=0.22)\n",
      "\tgen_text = <pad> Random Random Random Random Random Random Random Random Random Random Random Random Random Random House is a theater production and a liquor store in Random House, New York\n",
      "step 860 loss tensor([-0.6357], device='cuda:0', grad_fn=<AddBackward0>) (lm_loss=-0.86 cos_loss=0.22)\n",
      "\tgen_text = <pad> Random Random Random Random Random Random Random Random Random Random Random Random Random Random House is a theater production and a liquor store in Random House, New York\n",
      "step 880 loss tensor([-0.6548], device='cuda:0', grad_fn=<AddBackward0>) (lm_loss=-0.88 cos_loss=0.23)\n",
      "\tgen_text = <pad> Random Random Random Random Random Random Random Random Random Random Random Random Random Random House is a theater production and a liquor store in Random House, New York\n",
      "step 900 loss tensor([-0.6925], device='cuda:0', grad_fn=<AddBackward0>) (lm_loss=-0.92 cos_loss=0.23)\n",
      "\tgen_text = <pad> Random Random Random Random Random Random Random Random Random Random Random Random Random Random Random House is a theater production in New York state, and the shipments.\n",
      "step 920 loss tensor([-0.7072], device='cuda:0', grad_fn=<AddBackward0>) (lm_loss=-0.94 cos_loss=0.23)\n",
      "\tgen_text = <pad> Random Random Random Random Random Random Random Random Random Random Random Random Random Random Random House supplies are cigarettes and a set of hoodlums in New York\n",
      "step 940 loss tensor([-0.6950], device='cuda:0', grad_fn=<AddBackward0>) (lm_loss=-0.93 cos_loss=0.23)\n",
      "\tgen_text = <pad> Random Random Random Random Random Random Random Random Random Random Random Random Random Random Random Random House coins are gold coins in New York State and a theater production.\n",
      "step 960 loss tensor([-0.6649], device='cuda:0', grad_fn=<AddBackward0>) (lm_loss=-0.90 cos_loss=0.24)\n",
      "\tgen_text = <pad> Random Random Random Random Random Random Random Random Random Random Random Random Random Random Random Random House coins are gold jewelry and rims in New York State theaters\n",
      "step 980 loss tensor([-0.6325], device='cuda:0', grad_fn=<AddBackward0>) (lm_loss=-0.87 cos_loss=0.24)\n",
      "\tgen_text = <pad> Random Random Random Random Random Random Random Random Random Random Random Random Random Random Random Random House coins are gold paintballs and framed in New York State theater\n"
     ]
    }
   ],
   "source": [
    "import torch\n",
    "\n",
    "model = trainer.inversion_trainer.model\n",
    "model.use_frozen_embeddings_as_input = True\n",
    "\n",
    "fake_embedder_input_ids = torch.ones([1], dtype=torch.long, device=trainer.args.device)\n",
    "fake_embedder_attention_mask = torch.ones([1], dtype=torch.long, device=trainer.args.device)\n",
    "\n",
    "tt = model.embedder_tokenizer('This is a random sentence!', return_tensors='pt')\n",
    "tt = tt.to(trainer.args.device)\n",
    "print('goal text:', model.embedder_tokenizer.decode(tt['input_ids'][0]))\n",
    "\n",
    "with torch.no_grad():\n",
    "    original_embeddings = model.call_embedding_model(\n",
    "        **tt\n",
    "    )\n",
    "    \n",
    "\n",
    "#\n",
    "# frozen_embeddings = torch.randn((1, 768), device=trainer.args.device, requires_grad=True)\n",
    "frozen_embeddings = original_embeddings.clone()\n",
    "frozen_embeddings.requires_grad = True\n",
    "opt = torch.optim.Adam(params=[frozen_embeddings], lr=1e-4)\n",
    "#\n",
    "\n",
    "num_steps = 1000\n",
    "log_interval = 20\n",
    "for step in range(num_steps):\n",
    "    output = model.forward(\n",
    "        embedder_input_ids=fake_embedder_input_ids,\n",
    "        embedder_attention_mask=fake_embedder_attention_mask,\n",
    "        frozen_embeddings=frozen_embeddings,\n",
    "        labels=tt['input_ids']\n",
    "    )\n",
    "    gen_tokens = model.generate(\n",
    "        inputs={\n",
    "            'embedder_input_ids': fake_embedder_input_ids,\n",
    "            'embedder_attention_mask': fake_embedder_attention_mask,\n",
    "            'frozen_embeddings': frozen_embeddings,\n",
    "        },\n",
    "        generation_kwargs={\n",
    "            \"max_length\": 32,\n",
    "            \"early_stopping\": True,\n",
    "            \"num_beams\": 1,\n",
    "            \"do_sample\": False,\n",
    "        },\n",
    "    )\n",
    "    \n",
    "    lm_loss = -1.0 * output.loss / 100.0\n",
    "    cos_loss = 1.0 - torch.nn.CosineSimilarity(dim=1)(frozen_embeddings, original_embeddings)\n",
    "    \n",
    "    loss = (lm_loss + cos_loss)\n",
    "    gen_text = model.embedder_tokenizer.decode(gen_tokens[0])\n",
    "    if step % log_interval == 0:\n",
    "        print(f'step {step} loss {loss} (lm_loss={lm_loss.item():.2f} cos_loss={cos_loss.item():.2f})')\n",
    "        print(f'\\tgen_text = {gen_text}')\n",
    "    \n",
    "    loss.backward()\n",
    "    opt.step()"
   ]
  },
  {
   "cell_type": "code",
   "execution_count": 21,
   "id": "9ea88c8a-3f9b-4c2c-a968-322251399034",
   "metadata": {},
   "outputs": [
    {
     "data": {
      "text/plain": [
       "tensor([-0.0275], device='cuda:0', grad_fn=<SumBackward1>)"
      ]
     },
     "execution_count": 21,
     "metadata": {},
     "output_type": "execute_result"
    }
   ],
   "source": [
    "torch.nn.CosineSimilarity(dim=1)(frozen_embeddings, original_embeddings)"
   ]
  },
  {
   "cell_type": "code",
   "execution_count": null,
   "id": "5ee6ec60-c05b-4991-ba07-49ec3188d047",
   "metadata": {},
   "outputs": [],
   "source": []
  }
 ],
 "metadata": {
  "kernelspec": {
   "display_name": "Python 3 (ipykernel)",
   "language": "python",
   "name": "python3"
  },
  "language_info": {
   "codemirror_mode": {
    "name": "ipython",
    "version": 3
   },
   "file_extension": ".py",
   "mimetype": "text/x-python",
   "name": "python",
   "nbconvert_exporter": "python",
   "pygments_lexer": "ipython3",
   "version": "3.10.10"
  }
 },
 "nbformat": 4,
 "nbformat_minor": 5
}
