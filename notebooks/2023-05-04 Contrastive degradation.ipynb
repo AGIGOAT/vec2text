{
 "cells": [
  {
   "cell_type": "code",
   "execution_count": 2,
   "id": "b486b3a8-a802-4fc4-bae4-e229feaeeafd",
   "metadata": {},
   "outputs": [],
   "source": [
    "import os\n",
    "os.environ[\"WANDB_DISABLED\"] = \"true\"\n",
    "\n",
    "import sys\n",
    "sys.path.append('..')\n",
    "\n",
    "%load_ext autoreload\n",
    "%autoreload 2"
   ]
  },
  {
   "cell_type": "code",
   "execution_count": 3,
   "id": "e2c2abe8-7105-4e0a-a43f-33418d801814",
   "metadata": {},
   "outputs": [
    {
     "name": "stdout",
     "output_type": "stream",
     "text": [
      "Loading trainer for analysis – setting --do_eval=1\n",
      "loading alias dpr_nq__msl32_beta from /home/jxm3/research/retrieval/inversion/saves/db66b9c01b644541fedbdcc59c53a285/ebb31d91810c4b62d2b55b5382e8c7ea...\n",
      "Set train_args.dataloader_num_workers = 4\n"
     ]
    },
    {
     "name": "stderr",
     "output_type": "stream",
     "text": [
      "/home/jxm3/.conda/envs/torch/lib/python3.10/site-packages/transformers/models/t5/tokenization_t5_fast.py:155: FutureWarning: This tokenizer was incorrectly instantiated with a model max length of 512 which will be corrected in Transformers v5.\n",
      "For now, this behavior is kept to avoid breaking backwards compatibility when padding/encoding with `truncation is True`.\n",
      "- Be aware that you SHOULD NOT rely on t5-base automatically truncating your input to 512 when padding/encoding.\n",
      "- If you want to encode/pad to sequences longer than 512 you can either instantiate this tokenizer with `model_max_length` or pass `max_length` when encoding/padding.\n",
      "- To avoid this warning, please instantiate this tokenizer with `model_max_length` set to your preferred value.\n",
      "  warnings.warn(\n"
     ]
    },
    {
     "data": {
      "application/vnd.jupyter.widget-view+json": {
       "model_id": "6feb261ae45d4045a8c1d1e61e77b509",
       "version_major": 2,
       "version_minor": 0
      },
      "text/plain": [
       "  0%|          | 0/2 [00:00<?, ?it/s]"
      ]
     },
     "metadata": {},
     "output_type": "display_data"
    },
    {
     "data": {
      "application/vnd.jupyter.widget-view+json": {
       "model_id": "55388e84b5e247978969f2ec855878c1",
       "version_major": 2,
       "version_minor": 0
      },
      "text/plain": [
       "  0%|          | 0/3 [00:00<?, ?it/s]"
      ]
     },
     "metadata": {},
     "output_type": "display_data"
    },
    {
     "data": {
      "application/vnd.jupyter.widget-view+json": {
       "model_id": "227f296b87ee424d88090dec8eca8c16",
       "version_major": 2,
       "version_minor": 0
      },
      "text/plain": [
       "  0%|          | 0/3 [00:00<?, ?it/s]"
      ]
     },
     "metadata": {},
     "output_type": "display_data"
    },
    {
     "data": {
      "application/vnd.jupyter.widget-view+json": {
       "model_id": "c29ef0c97398447fb684cb032ad251a8",
       "version_major": 2,
       "version_minor": 0
      },
      "text/plain": [
       "  0%|          | 0/3 [00:00<?, ?it/s]"
      ]
     },
     "metadata": {},
     "output_type": "display_data"
    },
    {
     "name": "stderr",
     "output_type": "stream",
     "text": [
      "[nltk_data] Downloading package wordnet to /home/jxm3/nltk_data...\n",
      "[nltk_data]   Package wordnet is already up-to-date!\n",
      "[nltk_data] Downloading package punkt to /home/jxm3/nltk_data...\n",
      "[nltk_data]   Package punkt is already up-to-date!\n",
      "[nltk_data] Downloading package omw-1.4 to /home/jxm3/nltk_data...\n",
      "[nltk_data]   Package omw-1.4 is already up-to-date!\n"
     ]
    },
    {
     "name": "stdout",
     "output_type": "stream",
     "text": [
      "================ Begin trainer sanity check ================\n",
      "\tInput to encode -> Twas brillig, and the slithy toves, Did gyre and gimble in the wabe, All mimsy were the borogoves, And the mome raths outgrabe.\n",
      "\tDecoded output -> The mlbies wase wyst bograge; And the sliths and toms wre\n",
      "================ End trainer sanity check ================\n"
     ]
    },
    {
     "name": "stderr",
     "output_type": "stream",
     "text": [
      "[nltk_data] Downloading package wordnet to /home/jxm3/nltk_data...\n",
      "[nltk_data]   Package wordnet is already up-to-date!\n",
      "[nltk_data] Downloading package punkt to /home/jxm3/nltk_data...\n",
      "[nltk_data]   Package punkt is already up-to-date!\n",
      "[nltk_data] Downloading package omw-1.4 to /home/jxm3/nltk_data...\n",
      "[nltk_data]   Package omw-1.4 is already up-to-date!\n"
     ]
    }
   ],
   "source": [
    "import analyze_utils\n",
    "\n",
    "checkpoint_folder = \"/home/jxm3/research/retrieval/inversion/saves/98b1418d38c3f9333b17ab20bff06ff9/\"\n",
    "trainer = analyze_utils.load_trainer(checkpoint_folder)"
   ]
  },
  {
   "cell_type": "code",
   "execution_count": 29,
   "id": "6e90788c-f7cd-45df-adcd-2d2943a7a979",
   "metadata": {},
   "outputs": [],
   "source": [
    "import torch\n",
    "\n",
    "model = trainer.inversion_trainer.model\n",
    "model.use_frozen_embeddings_as_input = True\n",
    "\n",
    "def embed_text(t: str) -> torch.Tensor:\n",
    "    tok = trainer.embedder_tokenizer(t, return_tensors='pt', max_length=32)\n",
    "    tok = tok.to(trainer.args.device)\n",
    "    with torch.no_grad():\n",
    "        output = model.call_embedding_model(**tok)\n",
    "    return output\n",
    "\n",
    "def text_from_embedding(e: torch.Tensor) -> str:\n",
    "    fake_embedder_input_ids = torch.ones([1], dtype=torch.long, device=trainer.args.device)\n",
    "    fake_embedder_attention_mask = torch.ones([1], dtype=torch.long, device=trainer.args.device)\n",
    "    gen_tokens = model.generate(\n",
    "        inputs={\n",
    "            'embedder_input_ids': fake_embedder_input_ids,\n",
    "            'embedder_attention_mask': fake_embedder_attention_mask,\n",
    "            'frozen_embeddings': e,\n",
    "        },\n",
    "        generation_kwargs={\n",
    "            \"max_length\": 32,\n",
    "            \"early_stopping\": True,\n",
    "            \"num_beams\": 1,\n",
    "            \"do_sample\": False,\n",
    "        },\n",
    "    )\n",
    "    return trainer.embedder_tokenizer.decode(gen_tokens[0], skip_special_tokens=True)"
   ]
  },
  {
   "cell_type": "code",
   "execution_count": 30,
   "id": "b151bb5a-7e7a-4f87-bc87-196cbf3a62a5",
   "metadata": {},
   "outputs": [
    {
     "data": {
      "text/plain": [
       "{'input_ids': [12020, 5643, 24063, 19, 3, 9, 24460, 1848, 11, 8, 21326, 13, 8, 926, 814, 29093, 13, 8, 2042, 10265, 7884, 990, 57, 3080, 18831, 5, 1], 'attention_mask': [1, 1, 1, 1, 1, 1, 1, 1, 1, 1, 1, 1, 1, 1, 1, 1, 1, 1, 1, 1, 1, 1, 1, 1, 1, 1, 1]}"
      ]
     },
     "execution_count": 30,
     "metadata": {},
     "output_type": "execute_result"
    }
   ],
   "source": [
    "model.embedder_tokenizer(\"Luke Skywalker is a fictional character and the protagonist of the original film trilogy of the Star Wars franchise created by George Lucas.\")"
   ]
  },
  {
   "cell_type": "code",
   "execution_count": 31,
   "id": "a1831368-4aca-4672-a77b-a13bfd9502f9",
   "metadata": {},
   "outputs": [
    {
     "data": {
      "text/plain": [
       "27"
      ]
     },
     "execution_count": 31,
     "metadata": {},
     "output_type": "execute_result"
    }
   ],
   "source": [
    "len([12020, 5643, 24063, 19, 3, 9, 24460, 1848, 11, 8, 21326, 13, 8, 926, 814, 29093, 13, 8, 2042, 10265, 7884, 990, 57, 3080, 18831, 5, 1])"
   ]
  },
  {
   "cell_type": "code",
   "execution_count": 34,
   "id": "83f08ca8-0dce-4221-9a2e-67b3c6752718",
   "metadata": {},
   "outputs": [],
   "source": [
    "s = \"Luke Skywalker is a fictional character and the protagonist of the original film trilogy of the Star Wars franchise created by George Lucas. Portrayed by Mark Hamill, Luke first appeared in Star Wars (1977)\""
   ]
  },
  {
   "cell_type": "code",
   "execution_count": 35,
   "id": "2faddf02-eea7-4a73-a673-93c8f2e804a9",
   "metadata": {},
   "outputs": [
    {
     "data": {
      "text/plain": [
       "'Luke Skywalker Luke Skywalker is a fictional character in the \"Star Wars\" franchise of films created by George Lucas and the protagonist of the trilogy.'"
      ]
     },
     "execution_count": 35,
     "metadata": {},
     "output_type": "execute_result"
    }
   ],
   "source": [
    "text_from_embedding(embed_text(s))"
   ]
  },
  {
   "cell_type": "code",
   "execution_count": 37,
   "id": "c3d2f84e-750a-47b8-9611-2cfe30a94a63",
   "metadata": {},
   "outputs": [
    {
     "name": "stdout",
     "output_type": "stream",
     "text": [
      "initial: Luke Skywalker is a fictional character and the protagonist of the original film trilogy of the Star Wars franchise created by George Lucas. Portrayed by Mark Hamill, Luke first appeared in Star Wars (1977)\n",
      "step 0: Luke Skywalker Luke Skywalker is a fictional character in the \"Star Wars\" franchise of films created by George Lucas and the protagonist of the trilogy.\n",
      "step 1: Luke Skywalker Luke Skywalker is a fictional character in the \"Star Wars\" franchise of films created by George Lucas and the protagonist of the trilogy.\n",
      "step 2: Luke Skywalker Luke Skywalker is a fictional character in the \"Star Wars\" franchise of films created by George Lucas and the protagonist of the trilogy.\n",
      "step 3: Luke Skywalker Luke Skywalker is a fictional character in the \"Star Wars\" franchise of films created by George Lucas and the protagonist of the trilogy.\n",
      "step 4: Luke Skywalker Luke Skywalker is a fictional character in the \"Star Wars\" franchise of films created by George Lucas and the protagonist of the trilogy.\n",
      "step 5: Luke Skywalker Luke Skywalker is a fictional character in the \"Star Wars\" franchise of films created by George Lucas and the protagonist of the trilogy.\n",
      "step 6: Luke Skywalker Luke Skywalker is a fictional character in the \"Star Wars\" franchise of films created by George Lucas and the protagonist of the trilogy.\n",
      "step 7: Luke Skywalker Luke Skywalker is a fictional character in the \"Star Wars\" franchise of films created by George Lucas and the protagonist of the trilogy.\n",
      "step 8: Luke Skywalker Luke Skywalker is a fictional character in the \"Star Wars\" franchise of films created by George Lucas and the protagonist of the trilogy.\n",
      "step 9: Luke Skywalker Luke Skywalker is a fictional character in the \"Star Wars\" franchise of films created by George Lucas and the protagonist of the trilogy.\n"
     ]
    }
   ],
   "source": [
    "h = s\n",
    "print(\"initial:\", h)\n",
    "for step in range(10):\n",
    "    h = text_from_embedding(embed_text(h))\n",
    "    print(f\"step {step}: {h}\")"
   ]
  },
  {
   "cell_type": "code",
   "execution_count": null,
   "id": "f1b01187-dc8f-4fa8-92d4-9db9fc793869",
   "metadata": {},
   "outputs": [],
   "source": []
  }
 ],
 "metadata": {
  "kernelspec": {
   "display_name": "Python 3 (ipykernel)",
   "language": "python",
   "name": "python3"
  },
  "language_info": {
   "codemirror_mode": {
    "name": "ipython",
    "version": 3
   },
   "file_extension": ".py",
   "mimetype": "text/x-python",
   "name": "python",
   "nbconvert_exporter": "python",
   "pygments_lexer": "ipython3",
   "version": "3.10.10"
  }
 },
 "nbformat": 4,
 "nbformat_minor": 5
}
