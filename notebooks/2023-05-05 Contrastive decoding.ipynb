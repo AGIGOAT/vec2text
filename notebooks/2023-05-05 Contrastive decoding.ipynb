{
 "cells": [
  {
   "cell_type": "code",
   "execution_count": 16,
   "id": "4323a605-ecdf-4aec-a0ad-78935a06f67c",
   "metadata": {},
   "outputs": [
    {
     "name": "stdout",
     "output_type": "stream",
     "text": [
      "The autoreload extension is already loaded. To reload it, use:\n",
      "  %reload_ext autoreload\n"
     ]
    }
   ],
   "source": [
    "import os\n",
    "os.environ[\"WANDB_DISABLED\"] = \"true\"\n",
    "\n",
    "import sys\n",
    "sys.path.append('..')\n",
    "\n",
    "%load_ext autoreload\n",
    "%autoreload 2"
   ]
  },
  {
   "cell_type": "code",
   "execution_count": 3,
   "id": "aba12473-08a0-42b7-a475-62ae5c2556ca",
   "metadata": {},
   "outputs": [
    {
     "name": "stdout",
     "output_type": "stream",
     "text": [
      "Loading trainer for analysis – setting --do_eval=1\n",
      "loading alias dpr_nq__msl32_beta from /home/jxm3/research/retrieval/inversion/saves/db66b9c01b644541fedbdcc59c53a285/ebb31d91810c4b62d2b55b5382e8c7ea...\n",
      "Set train_args.dataloader_num_workers = 4\n"
     ]
    },
    {
     "name": "stderr",
     "output_type": "stream",
     "text": [
      "/home/jxm3/.conda/envs/torch/lib/python3.10/site-packages/transformers/models/t5/tokenization_t5_fast.py:155: FutureWarning: This tokenizer was incorrectly instantiated with a model max length of 512 which will be corrected in Transformers v5.\n",
      "For now, this behavior is kept to avoid breaking backwards compatibility when padding/encoding with `truncation is True`.\n",
      "- Be aware that you SHOULD NOT rely on t5-base automatically truncating your input to 512 when padding/encoding.\n",
      "- If you want to encode/pad to sequences longer than 512 you can either instantiate this tokenizer with `model_max_length` or pass `max_length` when encoding/padding.\n",
      "- To avoid this warning, please instantiate this tokenizer with `model_max_length` set to your preferred value.\n",
      "  warnings.warn(\n"
     ]
    },
    {
     "data": {
      "application/vnd.jupyter.widget-view+json": {
       "model_id": "0188af0653e2451e8b69aa36b77ff6d6",
       "version_major": 2,
       "version_minor": 0
      },
      "text/plain": [
       "  0%|          | 0/2 [00:00<?, ?it/s]"
      ]
     },
     "metadata": {},
     "output_type": "display_data"
    },
    {
     "data": {
      "application/vnd.jupyter.widget-view+json": {
       "model_id": "e683f2e6aff04d169589c638789694cd",
       "version_major": 2,
       "version_minor": 0
      },
      "text/plain": [
       "  0%|          | 0/3 [00:00<?, ?it/s]"
      ]
     },
     "metadata": {},
     "output_type": "display_data"
    },
    {
     "data": {
      "application/vnd.jupyter.widget-view+json": {
       "model_id": "2421486282bb43e6a792afd4f17c74b5",
       "version_major": 2,
       "version_minor": 0
      },
      "text/plain": [
       "  0%|          | 0/3 [00:00<?, ?it/s]"
      ]
     },
     "metadata": {},
     "output_type": "display_data"
    },
    {
     "data": {
      "application/vnd.jupyter.widget-view+json": {
       "model_id": "4b8817604ba04ecc9b1eb6a8c7bde88c",
       "version_major": 2,
       "version_minor": 0
      },
      "text/plain": [
       "  0%|          | 0/3 [00:00<?, ?it/s]"
      ]
     },
     "metadata": {},
     "output_type": "display_data"
    },
    {
     "name": "stderr",
     "output_type": "stream",
     "text": [
      "[nltk_data] Downloading package wordnet to /home/jxm3/nltk_data...\n",
      "[nltk_data]   Package wordnet is already up-to-date!\n",
      "[nltk_data] Downloading package punkt to /home/jxm3/nltk_data...\n",
      "[nltk_data]   Package punkt is already up-to-date!\n",
      "[nltk_data] Downloading package omw-1.4 to /home/jxm3/nltk_data...\n",
      "[nltk_data]   Package omw-1.4 is already up-to-date!\n"
     ]
    },
    {
     "name": "stdout",
     "output_type": "stream",
     "text": [
      "================ Begin trainer sanity check ================\n",
      "\tInput to encode -> Twas brillig, and the slithy toves, Did gyre and gimble in the wabe, All mimsy were the borogoves, And the mome raths outgrabe.\n",
      "generation_kwargs: {'early_stopping': False, 'num_beams': 1, 'do_sample': False, 'no_repeat_ngram_size': 3, 'max_length': 58}\n",
      "\tDecoded output -> The mlbies wase wyst bograge; And the sliths and toms wre\n",
      "================ End trainer sanity check ================\n"
     ]
    },
    {
     "name": "stderr",
     "output_type": "stream",
     "text": [
      "[nltk_data] Downloading package wordnet to /home/jxm3/nltk_data...\n",
      "[nltk_data]   Package wordnet is already up-to-date!\n",
      "[nltk_data] Downloading package punkt to /home/jxm3/nltk_data...\n",
      "[nltk_data]   Package punkt is already up-to-date!\n",
      "[nltk_data] Downloading package omw-1.4 to /home/jxm3/nltk_data...\n",
      "[nltk_data]   Package omw-1.4 is already up-to-date!\n"
     ]
    }
   ],
   "source": [
    "import analyze_utils\n",
    "\n",
    "checkpoint_folder = \"/home/jxm3/research/retrieval/inversion/saves/98b1418d38c3f9333b17ab20bff06ff9/\"\n",
    "trainer = analyze_utils.load_trainer(checkpoint_folder)"
   ]
  },
  {
   "cell_type": "code",
   "execution_count": 4,
   "id": "e0ed0b3e-9a2e-477a-9899-dd70fef507e1",
   "metadata": {},
   "outputs": [
    {
     "data": {
      "text/plain": [
       "dict_keys(['ag_news', 'xsum_doc', 'xsum_summ', 'wikibio', 'nq'])"
      ]
     },
     "execution_count": 4,
     "metadata": {},
     "output_type": "execute_result"
    }
   ],
   "source": [
    "trainer.eval_dataset.keys()"
   ]
  },
  {
   "cell_type": "code",
   "execution_count": 64,
   "id": "2eae0a5b-9b6b-43e3-9dcc-36c6a1878487",
   "metadata": {},
   "outputs": [
    {
     "name": "stdout",
     "output_type": "stream",
     "text": [
      "generation_kwargs: {'max_length': 32, 'early_stopping': True, 'num_beams': 1, 'do_sample': False}\n",
      "ContrastiveLogitsProcessor alpha=0.0 gamma=0.1\n",
      "generation_kwargs: {'max_length': 32, 'do_sample': False, 'logits_processor': [<models.logits_processors.ContrastiveLogitsProcessor object at 0x7fb99950e020>], 'renormalize_logits': False}\n"
     ]
    },
    {
     "data": {
      "text/plain": [
       "tensor([[    0,    12,    24,    13,     8, 21995,    13,  9806,     7,     6,\n",
       "            84,    33,  4352,  3050,    11,    73,    17,    76,   235,  8283,\n",
       "            16,  1848,     5,     3, 13099,     6,     8,  2629, 10471,    13,\n",
       "             8, 21995]], device='cuda:0')"
      ]
     },
     "execution_count": 64,
     "metadata": {},
     "output_type": "execute_result"
    }
   ],
   "source": [
    "trainer.args.per_device_eval_batch_size = 8\n",
    "eval_batch = next(iter(trainer.get_eval_dataloader(\n",
    "    eval_dataset=trainer.eval_dataset[\"nq\"]\n",
    ")))\n",
    "eval_batch = {k: v[0:1, ...] for k,v in eval_batch.items()} # just one guy\n",
    "eval_batch = {k: v.to(trainer.args.device) for k,v in eval_batch.items()}\n",
    "\n",
    "trainer.inversion_trainer.contrastive_generation_alpha = 0.0\n",
    "trainer.inversion_trainer.contrastive_generation_gamma = 0.1\n",
    "\n",
    "gen_kwargs = { \"max_length\": 32,   \"do_sample\": False, }\n",
    "trainer.inversion_trainer.generate_contrastive(inputs=eval_batch, generation_kwargs=gen_kwargs)"
   ]
  },
  {
   "cell_type": "code",
   "execution_count": 32,
   "id": "b3b6a74f-150d-48a4-a570-4602bf951aae",
   "metadata": {},
   "outputs": [
    {
     "name": "stdout",
     "output_type": "stream",
     "text": [
      "generation_kwargs: {'max_length': 32, 'do_sample': False}\n"
     ]
    },
    {
     "data": {
      "text/plain": [
       "tensor([[    0,    12,     8,  1848,    13,     8, 21995,     6,    84,    33,\n",
       "          4352,  3050,    11,    73,    17,    76,    17, 13281,    16,     8,\n",
       "           495,    13,  9806,  2629, 10471,     5,     3,  8739,     8,  2629,\n",
       "         10471,     6]], device='cuda:0')"
      ]
     },
     "execution_count": 32,
     "metadata": {},
     "output_type": "execute_result"
    }
   ],
   "source": [
    "trainer.inversion_trainer.generate(inputs=eval_batch, generation_kwargs={\n",
    "    \"max_length\": 32,\n",
    "    \"do_sample\": False,\n",
    "})"
   ]
  },
  {
   "cell_type": "code",
   "execution_count": 65,
   "id": "60698e27-c2be-41c1-b99a-24f39d654801",
   "metadata": {},
   "outputs": [
    {
     "name": "stdout",
     "output_type": "stream",
     "text": [
      "generation_kwargs: {'max_length': 32, 'early_stopping': True, 'num_beams': 1, 'do_sample': False}\n",
      "ContrastiveLogitsProcessor alpha=0.0 gamma=1.0\n",
      "generation_kwargs: {'max_length': 32, 'do_sample': False, 'logits_processor': [<models.logits_processors.ContrastiveLogitsProcessor object at 0x7fb99950d9c0>], 'renormalize_logits': False}\n",
      "generation_kwargs: {'max_length': 32, 'do_sample': False, 'logits_processor': [<models.logits_processors.ContrastiveLogitsProcessor object at 0x7fb99950d9c0>], 'renormalize_logits': False}\n"
     ]
    }
   ],
   "source": [
    "trainer.args.per_device_eval_batch_size = 8\n",
    "eval_batch = next(iter(trainer.get_eval_dataloader(\n",
    "    eval_dataset=trainer.eval_dataset[\"nq\"]\n",
    ")))\n",
    "\n",
    "# eval_batch = {k: v[0:1, ...] for k,v in eval_batch.items()} # just one guy\n",
    "eval_batch = {k: v.to(trainer.args.device) for k,v in eval_batch.items()}\n",
    "\n",
    "gen_kwargs = {\"max_length\": 32,   \"do_sample\": False, }\n",
    "trainer.inversion_trainer.contrastive_generation_alpha = 0.0\n",
    "trainer.inversion_trainer.contrastive_generation_gamma = 1.0\n",
    "b1 = trainer.inversion_trainer.generate_contrastive(inputs=eval_batch, generation_kwargs=gen_kwargs)\n",
    "b2 = trainer.inversion_trainer.model.generate(inputs=eval_batch, generation_kwargs=gen_kwargs)"
   ]
  },
  {
   "cell_type": "code",
   "execution_count": 66,
   "id": "a34f0d8d-0be9-43a9-876b-dbb9f39bdb83",
   "metadata": {},
   "outputs": [
    {
     "data": {
      "text/plain": [
       "tensor(True, device='cuda:0')"
      ]
     },
     "execution_count": 67,
     "metadata": {},
     "output_type": "execute_result"
    }
   ],
   "source": [
    "(b1 == b2).all()"
   ]
  },
  {
   "cell_type": "code",
   "execution_count": 52,
   "id": "62c40f6a-f50a-4626-8e9f-605e127ba6c6",
   "metadata": {},
   "outputs": [
    {
     "name": "stdout",
     "output_type": "stream",
     "text": [
      "generation_kwargs: {'max_length': 32, 'early_stopping': True, 'num_beams': 1, 'do_sample': False}\n",
      "generation_kwargs: {'max_length': 32, 'do_sample': False, 'logits_processor': [<models.logits_processors.ContrastiveLogitsProcessor object at 0x7fb876c50550>], 'renormalize_logits': True}\n"
     ]
    },
    {
     "data": {
      "text/plain": [
       "tensor([[    0,    12,     8,  1848,    13,     8, 21995,     6,    84,    33,\n",
       "          4352,  3050,    11,    73,    17,    76,    17, 13281,    16,     8,\n",
       "           495,    13,  9806,  2629, 10471,     5,     3,  8739,     8,  2629,\n",
       "         10471,     6],\n",
       "        [    0,   928,    45,     8,  5193,   216,    51,    23,  9475,    12,\n",
       "          1369,     8,  4272, 11548, 16010,  2045,  9365,     6,    11,    47,\n",
       "            92,   294,    13,     8,  3746,  7110,  8799,   372,     6,    84,\n",
       "           751,  2045],\n",
       "        [    0,     8,   337,  2166,    38,  1076,     6,    11,   489,  2712,\n",
       "          4686,    24,    79,   225,    36,  5046,    45,  9192,   257,     5,\n",
       "             3,  7264,     8,   119, 13914,     6, 16998,  2765,    33,   150,\n",
       "          1200,  8116],\n",
       "        [    0,     3,  9465,   189,    35,     6,  7488,     3,  9465,   189,\n",
       "            35,    19,     3,     9,   422,  1511,  1069,   344,     8,  2473,\n",
       "          2067,  6310,    11,     3,  9465,  5437,    30,     8,    71,   189,\n",
       "         24471,    86],\n",
       "        [    0, 10099,  3833,    15, 10099,  3833,    15,    19,     3,     9,\n",
       "         13243,  1069,   344,   695,    29,   159,  7048,    11, 19729, 16948,\n",
       "             6,    11,    33,  1083,     8,   234,    13, 28666,  2063,     5,\n",
       "          1289,     7],\n",
       "        [    0,   507,  4122,     5,   621,   160,  1687,     6,   377, 13690,\n",
       "          4464,   160,  4806,     6,  6308,     9,     6,    30,  1660,  1914,\n",
       "           507,  4122,     5,   374,     9,    89,  3931,  2301,    12,     8,\n",
       "          1117,   797],\n",
       "        [    0,    86, 14834,     6,     3,    88,    47,     3,     9,  1144,\n",
       "            13,     8,  4263,  2570,  2748,   277,    31,  3467,     5,   216,\n",
       "            47,     3, 17183,    57,     8, 12873,  3527,    16, 15363,     6,\n",
       "         13017,  5254],\n",
       "        [    0, 22045,  1208,     3, 11889,   782, 22045,  1208,     3, 11889,\n",
       "           782,    41,  7473,  1600,  6180,  7434,    16,  8426,     6,  1826,\n",
       "            61,    19,    46,   797,  7556,   113,    65,  4283,    16,  4390,\n",
       "             6,   814]], device='cuda:0')"
      ]
     },
     "execution_count": 52,
     "metadata": {},
     "output_type": "execute_result"
    }
   ],
   "source": [
    "trainer.inversion_trainer.generate_contrastive(inputs=eval_batch, generation_kwargs={\"max_length\": 32,   \"do_sample\": False, })"
   ]
  },
  {
   "cell_type": "markdown",
   "id": "2d1f3308-b473-4f56-9494-b59a7767ffb5",
   "metadata": {},
   "source": [
    "## eval"
   ]
  },
  {
   "cell_type": "code",
   "execution_count": 59,
   "id": "1921b921-d72b-4b5b-affe-ddc487ffd1b5",
   "metadata": {},
   "outputs": [
    {
     "data": {
      "text/html": [
       "\n",
       "    <div>\n",
       "      \n",
       "      <progress value='138' max='3' style='width:300px; height:20px; vertical-align: middle;'></progress>\n",
       "      [3/3 58:29]\n",
       "    </div>\n",
       "    "
      ],
      "text/plain": [
       "<IPython.core.display.HTML object>"
      ]
     },
     "metadata": {},
     "output_type": "display_data"
    },
    {
     "name": "stderr",
     "output_type": "stream",
     "text": [
      "                                                                                                                                                                                  \r"
     ]
    },
    {
     "name": "stdout",
     "output_type": "stream",
     "text": [
      "to the character of the skull, which are relatively smooth and untutuous in the case of infant sutures. Unlike the sutures,\n",
      "to the character of the sutures of the skull which, like those of the infant skull, are relatively smooth and untortuous. In fact\n",
      "\n",
      "\n",
      "\n",
      "individual from the Southern Hemisphere to win the Winter Olympic relay gold medal, and was also part of the Australian Short Track team, which won gold\n",
      "individual from the Southern Hemisphere, to win a Winter Olympic gold medal and was also part of the short track relay team that won Australia'\n",
      "\n",
      "\n",
      "\n",
      "the same rights as men, and 75% agreed that they should be protected from discrimination. Among the other 15%, gay workers are no longer exp\n",
      "the same rights as straight people, while 15% disagreed. Additionally, 69% agreed that they should be protected from workplace discrimination. 13% of H\n"
     ]
    },
    {
     "data": {
      "text/plain": [
       "{'eval_loss': 1.0522613525390625,\n",
       " 'eval_accuracy': 0.7386067708333334,\n",
       " 'eval_bleu_score': 28.897897788124407,\n",
       " 'eval_meteor_score': 0.5641452367467923,\n",
       " 'eval_rouge_score': 0.6308596689442678,\n",
       " 'eval_bert_score': 28.897897788124407,\n",
       " 'eval_emb_cos_sim': 0.9019443988800049,\n",
       " 'eval_perplexity': 2.8641205867926014,\n",
       " 'eval_runtime': 19.8886,\n",
       " 'eval_samples_per_second': 25.14,\n",
       " 'eval_steps_per_second': 0.201}"
      ]
     },
     "execution_count": 59,
     "metadata": {},
     "output_type": "execute_result"
    }
   ],
   "source": [
    "trainer.inversion_trainer.evaluate(\n",
    "    eval_dataset=trainer.eval_dataset[\"nq\"]\n",
    ")"
   ]
  },
  {
   "cell_type": "code",
   "execution_count": 60,
   "id": "fa673483-4c28-4bc4-a7ba-139f50b448e4",
   "metadata": {},
   "outputs": [
    {
     "data": {
      "text/plain": [
       "{'early_stopping': False,\n",
       " 'num_beams': 1,\n",
       " 'do_sample': False,\n",
       " 'no_repeat_ngram_size': 3}"
      ]
     },
     "execution_count": 60,
     "metadata": {},
     "output_type": "execute_result"
    }
   ],
   "source": [
    "trainer.inversion_trainer.gen_kwargs"
   ]
  },
  {
   "cell_type": "code",
   "execution_count": 133,
   "id": "1a3ce4b9-df2c-4a97-bbac-e09636d40872",
   "metadata": {},
   "outputs": [
    {
     "name": "stderr",
     "output_type": "stream",
     "text": [
      "generating from val:   0%|                                                                                                                                  | 0/3 [00:00<?, ?it/s]"
     ]
    },
    {
     "name": "stdout",
     "output_type": "stream",
     "text": [
      "generation_kwargs: {'early_stopping': False, 'num_beams': 1, 'do_sample': False, 'no_repeat_ngram_size': 100000000, 'min_length': 32, 'max_length': 32}\n"
     ]
    },
    {
     "name": "stderr",
     "output_type": "stream",
     "text": [
      "generating from val:  33%|████████████████████████████████████████▋                                                                                 | 1/3 [00:00<00:01,  1.13it/s]"
     ]
    },
    {
     "name": "stdout",
     "output_type": "stream",
     "text": [
      "generation_kwargs: {'early_stopping': False, 'num_beams': 1, 'do_sample': False, 'no_repeat_ngram_size': 100000000, 'min_length': 32, 'max_length': 32}\n"
     ]
    },
    {
     "name": "stderr",
     "output_type": "stream",
     "text": [
      "generating from val:  67%|█████████████████████████████████████████████████████████████████████████████████▎                                        | 2/3 [00:01<00:00,  1.39it/s]"
     ]
    },
    {
     "name": "stdout",
     "output_type": "stream",
     "text": [
      "generation_kwargs: {'early_stopping': False, 'num_beams': 1, 'do_sample': False, 'no_repeat_ngram_size': 100000000, 'min_length': 32, 'max_length': 32}\n"
     ]
    },
    {
     "name": "stderr",
     "output_type": "stream",
     "text": [
      "                                                                                                                                                                                  \r"
     ]
    },
    {
     "name": "stdout",
     "output_type": "stream",
     "text": [
      "to the character of the skull, which are relatively smooth and untutuous in the case of infant sutures. Unlike the sutures,\n",
      "to the character of the sutures of the skull which, like those of the infant skull, are relatively smooth and untortuous. In fact\n",
      "\n",
      "\n",
      "\n",
      "individual from the Southern Hemisphere to win the Winter Olympic relay gold medal, and was also part of the Australian Short Track team, which won gold\n",
      "individual from the Southern Hemisphere, to win a Winter Olympic gold medal and was also part of the short track relay team that won Australia'\n",
      "\n",
      "\n",
      "\n",
      "the same rights as men, and 75% agreed that they should be protected from discrimination. Among the other 15%, gay workers are no longer exp\n",
      "the same rights as straight people, while 15% disagreed. Additionally, 69% agreed that they should be protected from workplace discrimination. 13% of H\n"
     ]
    },
    {
     "data": {
      "text/plain": [
       "{'eval_loss': 1.0522613525390625,\n",
       " 'eval_accuracy': 0.7386067708333334,\n",
       " 'eval_bleu_score': 31.876985502984844,\n",
       " 'eval_meteor_score': 0.5792206976897826,\n",
       " 'eval_rouge_score': 0.6414878805144706,\n",
       " 'eval_bert_score': 0.9177108282844225,\n",
       " 'eval_emb_cos_sim': 0.9062262773513794,\n",
       " 'eval_perplexity': 2.8641205867926014,\n",
       " 'eval_runtime': 4.999,\n",
       " 'eval_samples_per_second': 100.021,\n",
       " 'eval_steps_per_second': 0.8}"
      ]
     },
     "execution_count": 133,
     "metadata": {},
     "output_type": "execute_result"
    }
   ],
   "source": [
    "trainer.inversion_trainer.generation_strategy = \"none\"\n",
    "trainer.inversion_trainer.gen_kwargs[\"no_repeat_ngram_size\"] = 100000000\n",
    "trainer.inversion_trainer.evaluate(\n",
    "    eval_dataset=trainer.eval_dataset[\"nq\"]\n",
    ")"
   ]
  },
  {
   "cell_type": "code",
   "execution_count": 151,
   "id": "bd05d7b3-5538-49eb-aca5-1127bd5508c0",
   "metadata": {},
   "outputs": [
    {
     "name": "stderr",
     "output_type": "stream",
     "text": [
      "generating from val:   0%|                                                                                                                                  | 0/3 [00:00<?, ?it/s]"
     ]
    },
    {
     "name": "stdout",
     "output_type": "stream",
     "text": [
      "contrastive alpha = 0.0\n",
      "generation_kwargs: {'max_length': 32, 'early_stopping': True, 'num_beams': 1, 'do_sample': False}\n"
     ]
    },
    {
     "name": "stderr",
     "output_type": "stream",
     "text": [
      "generating from val:  33%|████████████████████████████████████████▋                                                                                 | 1/3 [00:04<00:09,  4.82s/it]"
     ]
    },
    {
     "name": "stdout",
     "output_type": "stream",
     "text": [
      "contrastive alpha = 0.0\n",
      "generation_kwargs: {'max_length': 32, 'early_stopping': True, 'num_beams': 1, 'do_sample': False}\n"
     ]
    },
    {
     "name": "stderr",
     "output_type": "stream",
     "text": [
      "generating from val:  67%|█████████████████████████████████████████████████████████████████████████████████▎                                        | 2/3 [00:09<00:04,  4.66s/it]"
     ]
    },
    {
     "name": "stdout",
     "output_type": "stream",
     "text": [
      "contrastive alpha = 0.0\n",
      "generation_kwargs: {'max_length': 32, 'early_stopping': True, 'num_beams': 1, 'do_sample': False}\n"
     ]
    },
    {
     "name": "stderr",
     "output_type": "stream",
     "text": [
      "                                                                                                                                                                                  \r"
     ]
    },
    {
     "name": "stdout",
     "output_type": "stream",
     "text": [
      "to the character of the skull, which are relatively smooth and untutuous in the case of infant sutures. Unlike the sutures,\n",
      "to the character of the sutures of the skull which, like those of the infant skull, are relatively smooth and untortuous. In fact\n",
      "\n",
      "\n",
      "\n",
      "individual from the Southern Hemisphere to win the Winter Olympic relay gold medal, and was also part of the Australian Short Track team, which won gold\n",
      "individual from the Southern Hemisphere, to win a Winter Olympic gold medal and was also part of the short track relay team that won Australia'\n",
      "\n",
      "\n",
      "\n",
      "the same rights as men, and 75% agreed that they should be protected from discrimination. Among the other 15%, non-Hispanic workplace\n",
      "the same rights as straight people, while 15% disagreed. Additionally, 69% agreed that they should be protected from workplace discrimination. 13% of H\n"
     ]
    },
    {
     "data": {
      "text/plain": [
       "{'eval_loss': 1.0522613525390625,\n",
       " 'eval_accuracy': 0.7386067708333334,\n",
       " 'eval_bleu_score': 32.81495024580276,\n",
       " 'eval_meteor_score': 0.5880659124678774,\n",
       " 'eval_rouge_score': 0.650595111087725,\n",
       " 'eval_bert_score': 0.9192223938492438,\n",
       " 'eval_emb_cos_sim': 0.9107081890106201,\n",
       " 'eval_perplexity': 2.8641205867926014,\n",
       " 'eval_runtime': 16.9251,\n",
       " 'eval_samples_per_second': 29.542,\n",
       " 'eval_steps_per_second': 0.236}"
      ]
     },
     "execution_count": 151,
     "metadata": {},
     "output_type": "execute_result"
    }
   ],
   "source": [
    "trainer.inversion_trainer.generation_strategy = \"contrastive\"\n",
    "trainer.inversion_trainer.evaluate(\n",
    "    eval_dataset=trainer.eval_dataset[\"nq\"]\n",
    ")"
   ]
  },
  {
   "cell_type": "code",
   "execution_count": 69,
   "id": "cea4a071-f43a-4123-9471-5880bb67e792",
   "metadata": {},
   "outputs": [
    {
     "name": "stderr",
     "output_type": "stream",
     "text": [
      "generating from val:   0%|                                                                                                                                  | 0/3 [00:00<?, ?it/s]"
     ]
    },
    {
     "name": "stdout",
     "output_type": "stream",
     "text": [
      "generation_kwargs: {'max_length': 32, 'early_stopping': True, 'num_beams': 1, 'do_sample': False}\n",
      "ContrastiveLogitsProcessor alpha=0.0 gamma=0.1\n",
      "generation_kwargs: {'early_stopping': False, 'num_beams': 1, 'do_sample': False, 'no_repeat_ngram_size': 100000000, 'min_length': 32, 'max_length': 32, 'logits_processor': [<models.logits_processors.ContrastiveLogitsProcessor object at 0x7fb876b796c0>], 'renormalize_logits': False}\n"
     ]
    },
    {
     "name": "stderr",
     "output_type": "stream",
     "text": [
      "generating from val:  33%|████████████████████████████████████████▋                                                                                 | 1/3 [00:03<00:06,  3.38s/it]"
     ]
    },
    {
     "name": "stdout",
     "output_type": "stream",
     "text": [
      "generation_kwargs: {'max_length': 32, 'early_stopping': True, 'num_beams': 1, 'do_sample': False}\n",
      "ContrastiveLogitsProcessor alpha=0.0 gamma=0.1\n",
      "generation_kwargs: {'early_stopping': False, 'num_beams': 1, 'do_sample': False, 'no_repeat_ngram_size': 100000000, 'min_length': 32, 'max_length': 32, 'logits_processor': [<models.logits_processors.ContrastiveLogitsProcessor object at 0x7fb876eab0d0>], 'renormalize_logits': False}\n"
     ]
    },
    {
     "name": "stderr",
     "output_type": "stream",
     "text": [
      "generating from val:  67%|█████████████████████████████████████████████████████████████████████████████████▎                                        | 2/3 [00:06<00:03,  3.22s/it]"
     ]
    },
    {
     "name": "stdout",
     "output_type": "stream",
     "text": [
      "generation_kwargs: {'max_length': 32, 'early_stopping': True, 'num_beams': 1, 'do_sample': False}\n",
      "ContrastiveLogitsProcessor alpha=0.0 gamma=0.1\n",
      "generation_kwargs: {'early_stopping': False, 'num_beams': 1, 'do_sample': False, 'no_repeat_ngram_size': 100000000, 'min_length': 32, 'max_length': 32, 'logits_processor': [<models.logits_processors.ContrastiveLogitsProcessor object at 0x7fb876bc5510>], 'renormalize_logits': False}\n"
     ]
    },
    {
     "name": "stderr",
     "output_type": "stream",
     "text": [
      "                                                                                                                                                                                  \r"
     ]
    },
    {
     "name": "stdout",
     "output_type": "stream",
     "text": [
      "to that of the skull of infants, which are relatively smooth and untutorous in character. Nevertheless, the sutures of the skull\n",
      "to the character of the sutures of the skull which, like those of the infant skull, are relatively smooth and untortuous. In fact\n",
      "\n",
      "\n",
      "\n",
      "individual hemisphere athlete from Australia to win the Winter Olympic relay, and was part of the Southern Hemisphere team, which won the short\n",
      "individual from the Southern Hemisphere, to win a Winter Olympic gold medal and was also part of the short track relay team that won Australia'\n",
      "\n",
      "\n",
      "\n",
      "the same rights as straight people, and 7% disagreed. Moreover, 35% agreed that they should be protected from workplace discrimination. 75%\n",
      "the same rights as straight people, while 15% disagreed. Additionally, 69% agreed that they should be protected from workplace discrimination. 13% of H\n"
     ]
    },
    {
     "data": {
      "text/plain": [
       "{'eval_loss': 1.0522613525390625,\n",
       " 'eval_accuracy': 0.7386067708333334,\n",
       " 'eval_bleu_score': 33.98037368971617,\n",
       " 'eval_meteor_score': 0.601873441349148,\n",
       " 'eval_rouge_score': 0.6646144531814782,\n",
       " 'eval_bert_score': 0.9221128008017937,\n",
       " 'eval_emb_cos_sim': 0.9135487079620361,\n",
       " 'eval_perplexity': 2.8641205867926014,\n",
       " 'eval_runtime': 12.4936,\n",
       " 'eval_samples_per_second': 40.021,\n",
       " 'eval_steps_per_second': 0.32}"
      ]
     },
     "execution_count": 69,
     "metadata": {},
     "output_type": "execute_result"
    }
   ],
   "source": [
    "trainer.inversion_trainer.generation_strategy = \"contrastive\"\n",
    "trainer.inversion_trainer.gen_kwargs[\"no_repeat_ngram_size\"] = 100000000\n",
    "trainer.inversion_trainer.contrastive_generation_alpha = 0.0\n",
    "trainer.inversion_trainer.contrastive_generation_gamma = 0.1\n",
    "trainer.inversion_trainer.evaluate(\n",
    "    eval_dataset=trainer.eval_dataset[\"nq\"]\n",
    ")"
   ]
  },
  {
   "cell_type": "code",
   "execution_count": null,
   "id": "27c8d305-7cef-4476-9d3d-1b322a01b0d4",
   "metadata": {},
   "outputs": [],
   "source": []
  }
 ],
 "metadata": {
  "kernelspec": {
   "display_name": "Python 3 (ipykernel)",
   "language": "python",
   "name": "python3"
  },
  "language_info": {
   "codemirror_mode": {
    "name": "ipython",
    "version": 3
   },
   "file_extension": ".py",
   "mimetype": "text/x-python",
   "name": "python",
   "nbconvert_exporter": "python",
   "pygments_lexer": "ipython3",
   "version": "3.10.10"
  }
 },
 "nbformat": 4,
 "nbformat_minor": 5
}
