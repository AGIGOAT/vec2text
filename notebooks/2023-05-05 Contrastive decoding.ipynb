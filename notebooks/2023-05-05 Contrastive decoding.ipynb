{
 "cells": [
  {
   "cell_type": "code",
   "execution_count": 3,
   "id": "4323a605-ecdf-4aec-a0ad-78935a06f67c",
   "metadata": {},
   "outputs": [],
   "source": [
    "import os\n",
    "os.environ[\"WANDB_DISABLED\"] = \"true\"\n",
    "\n",
    "import sys\n",
    "sys.path.append('..')\n",
    "\n",
    "%load_ext autoreload\n",
    "%autoreload 2"
   ]
  },
  {
   "cell_type": "code",
   "execution_count": 4,
   "id": "aba12473-08a0-42b7-a475-62ae5c2556ca",
   "metadata": {},
   "outputs": [
    {
     "name": "stdout",
     "output_type": "stream",
     "text": [
      "Loading trainer for analysis – setting --do_eval=1\n",
      "loading alias dpr_nq__msl32_beta from /home/jxm3/research/retrieval/inversion/saves/db66b9c01b644541fedbdcc59c53a285/ebb31d91810c4b62d2b55b5382e8c7ea...\n",
      "Set train_args.dataloader_num_workers = 4\n"
     ]
    },
    {
     "name": "stderr",
     "output_type": "stream",
     "text": [
      "/home/jxm3/.conda/envs/torch/lib/python3.10/site-packages/transformers/models/t5/tokenization_t5_fast.py:155: FutureWarning: This tokenizer was incorrectly instantiated with a model max length of 512 which will be corrected in Transformers v5.\n",
      "For now, this behavior is kept to avoid breaking backwards compatibility when padding/encoding with `truncation is True`.\n",
      "- Be aware that you SHOULD NOT rely on t5-base automatically truncating your input to 512 when padding/encoding.\n",
      "- If you want to encode/pad to sequences longer than 512 you can either instantiate this tokenizer with `model_max_length` or pass `max_length` when encoding/padding.\n",
      "- To avoid this warning, please instantiate this tokenizer with `model_max_length` set to your preferred value.\n",
      "  warnings.warn(\n"
     ]
    },
    {
     "data": {
      "application/vnd.jupyter.widget-view+json": {
       "model_id": "dac1a77980774c9b81027541a115febf",
       "version_major": 2,
       "version_minor": 0
      },
      "text/plain": [
       "  0%|          | 0/2 [00:00<?, ?it/s]"
      ]
     },
     "metadata": {},
     "output_type": "display_data"
    },
    {
     "data": {
      "application/vnd.jupyter.widget-view+json": {
       "model_id": "218b879c61aa48bc92fd01437660375c",
       "version_major": 2,
       "version_minor": 0
      },
      "text/plain": [
       "  0%|          | 0/3 [00:00<?, ?it/s]"
      ]
     },
     "metadata": {},
     "output_type": "display_data"
    },
    {
     "data": {
      "application/vnd.jupyter.widget-view+json": {
       "model_id": "0b9cb63b46ef4d48b4b55d727ae08368",
       "version_major": 2,
       "version_minor": 0
      },
      "text/plain": [
       "  0%|          | 0/3 [00:00<?, ?it/s]"
      ]
     },
     "metadata": {},
     "output_type": "display_data"
    },
    {
     "data": {
      "application/vnd.jupyter.widget-view+json": {
       "model_id": "d88f0805c9244fc4a19a9659696ff0e1",
       "version_major": 2,
       "version_minor": 0
      },
      "text/plain": [
       "  0%|          | 0/3 [00:00<?, ?it/s]"
      ]
     },
     "metadata": {},
     "output_type": "display_data"
    },
    {
     "name": "stderr",
     "output_type": "stream",
     "text": [
      "[nltk_data] Downloading package wordnet to /home/jxm3/nltk_data...\n",
      "[nltk_data]   Package wordnet is already up-to-date!\n",
      "[nltk_data] Downloading package punkt to /home/jxm3/nltk_data...\n",
      "[nltk_data]   Package punkt is already up-to-date!\n",
      "[nltk_data] Downloading package omw-1.4 to /home/jxm3/nltk_data...\n",
      "[nltk_data]   Package omw-1.4 is already up-to-date!\n"
     ]
    },
    {
     "name": "stdout",
     "output_type": "stream",
     "text": [
      "================ Begin trainer sanity check ================\n",
      "\tInput to encode -> Twas brillig, and the slithy toves, Did gyre and gimble in the wabe, All mimsy were the borogoves, And the mome raths outgrabe.\n",
      "\tDecoded output -> The mlbies wase wyst bograge; And the sliths and toms wre\n",
      "================ End trainer sanity check ================\n"
     ]
    },
    {
     "name": "stderr",
     "output_type": "stream",
     "text": [
      "[nltk_data] Downloading package wordnet to /home/jxm3/nltk_data...\n",
      "[nltk_data]   Package wordnet is already up-to-date!\n",
      "[nltk_data] Downloading package punkt to /home/jxm3/nltk_data...\n",
      "[nltk_data]   Package punkt is already up-to-date!\n",
      "[nltk_data] Downloading package omw-1.4 to /home/jxm3/nltk_data...\n",
      "[nltk_data]   Package omw-1.4 is already up-to-date!\n"
     ]
    }
   ],
   "source": [
    "import analyze_utils\n",
    "\n",
    "checkpoint_folder = \"/home/jxm3/research/retrieval/inversion/saves/98b1418d38c3f9333b17ab20bff06ff9/\"\n",
    "trainer = analyze_utils.load_trainer(checkpoint_folder)"
   ]
  },
  {
   "cell_type": "code",
   "execution_count": 3,
   "id": "e0ed0b3e-9a2e-477a-9899-dd70fef507e1",
   "metadata": {},
   "outputs": [
    {
     "data": {
      "text/plain": [
       "dict_keys(['ag_news', 'xsum_doc', 'xsum_summ', 'wikibio', 'nq'])"
      ]
     },
     "execution_count": 3,
     "metadata": {},
     "output_type": "execute_result"
    }
   ],
   "source": [
    "trainer.eval_dataset.keys()"
   ]
  },
  {
   "cell_type": "code",
   "execution_count": 5,
   "id": "b3b6a74f-150d-48a4-a570-4602bf951aae",
   "metadata": {},
   "outputs": [
    {
     "name": "stdout",
     "output_type": "stream",
     "text": [
      "generation_kwargs: {'max_length': 32, 'do_sample': False}\n"
     ]
    },
    {
     "data": {
      "text/plain": [
       "tensor([[    0,    12,     8,  1848,    13,     8, 21995,     6,    84,    33,\n",
       "          4352,  3050,    11,    73,    17,    76,    17, 13281,    16,     8,\n",
       "           495,    13,  9806,  2629, 10471,     5,     3,  8739,     8,  2629,\n",
       "         10471,     6]], device='cuda:0')"
      ]
     },
     "execution_count": 5,
     "metadata": {},
     "output_type": "execute_result"
    }
   ],
   "source": [
    "trainer.inversion_trainer.generate(inputs=eval_batch, generation_kwargs={\n",
    "    \"max_length\": 32,\n",
    "    \"do_sample\": False,\n",
    "})"
   ]
  },
  {
   "cell_type": "code",
   "execution_count": 6,
   "id": "60698e27-c2be-41c1-b99a-24f39d654801",
   "metadata": {},
   "outputs": [
    {
     "name": "stdout",
     "output_type": "stream",
     "text": [
      "generation_kwargs: {'max_length': 32, 'early_stopping': True, 'num_beams': 1, 'do_sample': False}\n",
      "ContrastiveLogitsProcessor alpha=0.0 gamma=1.0\n",
      "generation_kwargs: {'max_length': 32, 'do_sample': False, 'logits_processor': [<models.logits_processors.ContrastiveLogitsProcessor object at 0x7fcba66fc2b0>], 'renormalize_logits': False}\n",
      "generation_kwargs: {'max_length': 32, 'do_sample': False, 'logits_processor': [<models.logits_processors.ContrastiveLogitsProcessor object at 0x7fcba66fc2b0>], 'renormalize_logits': False}\n"
     ]
    }
   ],
   "source": [
    "trainer.args.per_device_eval_batch_size = 8\n",
    "eval_batch = next(iter(trainer.get_eval_dataloader(\n",
    "    eval_dataset=trainer.eval_dataset[\"nq\"]\n",
    ")))\n",
    "\n",
    "# eval_batch = {k: v[0:1, ...] for k,v in eval_batch.items()} # just one guy\n",
    "eval_batch = {k: v.to(trainer.args.device) for k,v in eval_batch.items()}\n",
    "\n",
    "gen_kwargs = {\"max_length\": 32,   \"do_sample\": False, }\n",
    "trainer.inversion_trainer.contrastive_generation_alpha = 0.0\n",
    "trainer.inversion_trainer.contrastive_generation_gamma = 1.0\n",
    "b1 = trainer.inversion_trainer.generate_contrastive(inputs=eval_batch, generation_kwargs=gen_kwargs)\n",
    "b2 = trainer.inversion_trainer.model.generate(inputs=eval_batch, generation_kwargs=gen_kwargs)"
   ]
  },
  {
   "cell_type": "code",
   "execution_count": 7,
   "id": "a34f0d8d-0be9-43a9-876b-dbb9f39bdb83",
   "metadata": {},
   "outputs": [
    {
     "data": {
      "text/plain": [
       "tensor(True, device='cuda:0')"
      ]
     },
     "execution_count": 7,
     "metadata": {},
     "output_type": "execute_result"
    }
   ],
   "source": [
    "(b1 == b2).all()"
   ]
  },
  {
   "cell_type": "markdown",
   "id": "2d1f3308-b473-4f56-9494-b59a7767ffb5",
   "metadata": {},
   "source": [
    "## eval"
   ]
  },
  {
   "cell_type": "code",
   "execution_count": 9,
   "id": "1921b921-d72b-4b5b-affe-ddc487ffd1b5",
   "metadata": {},
   "outputs": [
    {
     "data": {
      "text/html": [
       "\n",
       "    <div>\n",
       "      \n",
       "      <progress value='30' max='3' style='width:300px; height:20px; vertical-align: middle;'></progress>\n",
       "      [3/3 08:09]\n",
       "    </div>\n",
       "    "
      ],
      "text/plain": [
       "<IPython.core.display.HTML object>"
      ]
     },
     "metadata": {},
     "output_type": "display_data"
    },
    {
     "name": "stderr",
     "output_type": "stream",
     "text": [
      "generating from val:   0%|                                                                                                                                  | 0/3 [00:00<?, ?it/s]"
     ]
    },
    {
     "name": "stdout",
     "output_type": "stream",
     "text": [
      "generation_kwargs: {'early_stopping': False, 'num_beams': 1, 'do_sample': False, 'no_repeat_ngram_size': 3, 'min_length': 32, 'max_length': 32}\n"
     ]
    },
    {
     "name": "stderr",
     "output_type": "stream",
     "text": [
      "generating from val:  33%|████████████████████████████████████████▋                                                                                 | 1/3 [00:00<00:01,  1.01it/s]"
     ]
    },
    {
     "name": "stdout",
     "output_type": "stream",
     "text": [
      "generation_kwargs: {'early_stopping': False, 'num_beams': 1, 'do_sample': False, 'no_repeat_ngram_size': 3, 'min_length': 32, 'max_length': 32}\n"
     ]
    },
    {
     "name": "stderr",
     "output_type": "stream",
     "text": [
      "generating from val:  67%|█████████████████████████████████████████████████████████████████████████████████▎                                        | 2/3 [00:01<00:00,  1.16it/s]"
     ]
    },
    {
     "name": "stdout",
     "output_type": "stream",
     "text": [
      "generation_kwargs: {'early_stopping': False, 'num_beams': 1, 'do_sample': False, 'no_repeat_ngram_size': 3, 'min_length': 32, 'max_length': 32}\n"
     ]
    },
    {
     "name": "stderr",
     "output_type": "stream",
     "text": [
      "                                                                                                                                                                                  \r"
     ]
    },
    {
     "name": "stdout",
     "output_type": "stream",
     "text": [
      "to the character of the skull, which are relatively smooth and untutuous in the case of infant sutures. Unlike the sutures,\n",
      "to the character of the sutures of the skull which, like those of the infant skull, are relatively smooth and untortuous. In fact\n",
      "\n",
      "\n",
      "\n",
      "individual from the Southern Hemisphere to win the Winter Olympic relay gold medal, and was also part of the Australian Short Track team, which won gold\n",
      "individual from the Southern Hemisphere, to win a Winter Olympic gold medal and was also part of the short track relay team that won Australia'\n",
      "\n",
      "\n",
      "\n",
      "the same rights as men, and 75% agreed that they should be protected from discrimination. Among the other 15%, gay workers are no longer exp\n",
      "the same rights as straight people, while 15% disagreed. Additionally, 69% agreed that they should be protected from workplace discrimination. 13% of H\n"
     ]
    },
    {
     "data": {
      "text/plain": [
       "{'eval_loss': 1.0522613525390625,\n",
       " 'eval_accuracy': 0.7386067708333334,\n",
       " 'eval_bleu_score': 28.897897788124407,\n",
       " 'eval_meteor_score': 0.5641452367467923,\n",
       " 'eval_rouge_score': 0.6308596689442678,\n",
       " 'eval_bert_score': 0.9140833147491018,\n",
       " 'eval_emb_cos_sim': 0.9019443988800049,\n",
       " 'eval_perplexity': 2.8641205867926014,\n",
       " 'eval_runtime': 11.8331,\n",
       " 'eval_samples_per_second': 42.254,\n",
       " 'eval_steps_per_second': 0.338}"
      ]
     },
     "execution_count": 9,
     "metadata": {},
     "output_type": "execute_result"
    }
   ],
   "source": [
    "trainer.inversion_trainer.evaluate(\n",
    "    eval_dataset=trainer.eval_dataset[\"nq\"]\n",
    ")"
   ]
  },
  {
   "cell_type": "code",
   "execution_count": 10,
   "id": "fa673483-4c28-4bc4-a7ba-139f50b448e4",
   "metadata": {},
   "outputs": [
    {
     "data": {
      "text/plain": [
       "{'early_stopping': False,\n",
       " 'num_beams': 1,\n",
       " 'do_sample': False,\n",
       " 'no_repeat_ngram_size': 3}"
      ]
     },
     "execution_count": 10,
     "metadata": {},
     "output_type": "execute_result"
    }
   ],
   "source": [
    "trainer.inversion_trainer.gen_kwargs"
   ]
  },
  {
   "cell_type": "code",
   "execution_count": 9,
   "id": "1a3ce4b9-df2c-4a97-bbac-e09636d40872",
   "metadata": {},
   "outputs": [
    {
     "name": "stderr",
     "output_type": "stream",
     "text": [
      "                                                                                                                                       \r"
     ]
    },
    {
     "name": "stdout",
     "output_type": "stream",
     "text": [
      "to the character of the skull, which are relatively smooth and untutuous in the case of infant sutures. Unlike the sutures,\n",
      "to the character of the sutures of the skull which, like those of the infant skull, are relatively smooth and untortuous. In fact\n",
      "\n",
      "\n",
      "\n",
      "individual from the Southern Hemisphere to win the Winter Olympic relay gold medal, and was also part of the Australian Short Track team, which won gold\n",
      "individual from the Southern Hemisphere, to win a Winter Olympic gold medal and was also part of the short track relay team that won Australia'\n",
      "\n",
      "\n",
      "\n",
      "the same rights as men, and 75% agreed that they should be protected from discrimination. Among the other 15%, gay workers are no longer exp\n",
      "the same rights as straight people, while 15% disagreed. Additionally, 69% agreed that they should be protected from workplace discrimination. 13% of H\n"
     ]
    },
    {
     "data": {
      "text/plain": [
       "{'eval_loss': 1.0522613525390625,\n",
       " 'eval_accuracy': 0.7386067708333334,\n",
       " 'eval_bleu_score': 31.876985502984844,\n",
       " 'eval_meteor_score': 0.5792206976897826,\n",
       " 'eval_rouge_score': 0.6414878805144706,\n",
       " 'eval_bert_score': 0.9177108293709656,\n",
       " 'eval_emb_cos_sim': 0.9062262773513794,\n",
       " 'eval_perplexity': 2.8641205867926014,\n",
       " 'eval_runtime': 5.1472,\n",
       " 'eval_samples_per_second': 97.14,\n",
       " 'eval_steps_per_second': 0.777}"
      ]
     },
     "execution_count": 9,
     "metadata": {},
     "output_type": "execute_result"
    }
   ],
   "source": [
    "trainer.inversion_trainer.generation_strategy = \"none\"\n",
    "trainer.inversion_trainer.gen_kwargs[\"no_repeat_ngram_size\"] = 0\n",
    "trainer.inversion_trainer.evaluate(\n",
    "    eval_dataset=trainer.eval_dataset[\"nq\"]\n",
    ")"
   ]
  },
  {
   "cell_type": "code",
   "execution_count": null,
   "id": "235abf5e-6bef-48c5-870c-bda2fe6eb233",
   "metadata": {},
   "outputs": [],
   "source": [
    "trainer.inversion_trainer.generation_strategy = \"none\"\n",
    "trainer.inversion_trainer.gen_kwargs[\"no_repeat_ngram_size\"] = 0\n",
    "trainer.inversion_trainer.evaluate(\n",
    "    eval_dataset=trainer.eval_dataset[\"nq\"]\n",
    ")"
   ]
  },
  {
   "cell_type": "code",
   "execution_count": 9,
   "id": "cea4a071-f43a-4123-9471-5880bb67e792",
   "metadata": {},
   "outputs": [
    {
     "name": "stderr",
     "output_type": "stream",
     "text": [
      "                                                                                                                                 \r"
     ]
    },
    {
     "name": "stdout",
     "output_type": "stream",
     "text": [
      "to that of the skulls of infant sutures, which are relatively smooth and untidy, despite the character of the skull. Thus\n",
      "to the character of the sutures of the skull which, like those of the infant skull, are relatively smooth and untortuous. In fact\n",
      "\n",
      "\n",
      "\n",
      "individual hemisphere athlete from Australia to win a Winter Olympic medal, and was part of the Southern Hemisphere relay team, which won\n",
      "individual from the Southern Hemisphere, to win a Winter Olympic gold medal and was also part of the short track relay team that won Australia'\n",
      "\n",
      "\n",
      "\n",
      "the same rights as heterosexuals, and 75% agreed that they should be protected from discrimination and harassment. A third percent disagreed, with 15%\n",
      "the same rights as straight people, while 15% disagreed. Additionally, 69% agreed that they should be protected from workplace discrimination. 13% of H\n"
     ]
    },
    {
     "data": {
      "text/plain": [
       "{'eval_loss': 1.0522613525390625,\n",
       " 'eval_accuracy': 0.7386067708333334,\n",
       " 'eval_bleu_score': 35.89950332695231,\n",
       " 'eval_meteor_score': 0.6208194436428601,\n",
       " 'eval_rouge_score': 0.6799594849664801,\n",
       " 'eval_bert_score': 0.926268168259412,\n",
       " 'eval_emb_cos_sim': 0.9201374053955078,\n",
       " 'eval_perplexity': 2.8641205867926014,\n",
       " 'eval_runtime': 57.796,\n",
       " 'eval_samples_per_second': 8.651,\n",
       " 'eval_steps_per_second': 0.069}"
      ]
     },
     "execution_count": 9,
     "metadata": {},
     "output_type": "execute_result"
    }
   ],
   "source": [
    "trainer.inversion_trainer.gen_kwargs = {\n",
    "    \"early_stopping\": False,\n",
    "    \"num_beams\": 8,\n",
    "    \"do_sample\": False,\n",
    "    \"no_repeat_ngram_size\": 0,\n",
    "}\n",
    "trainer.args.per_device_eval_batch_size = 8\n",
    "trainer.inversion_trainer.generation_strategy = \"contrastive\"\n",
    "trainer.inversion_trainer.contrastive_generation_alpha = 0.0\n",
    "trainer.inversion_trainer.contrastive_generation_gamma = 0.1\n",
    "trainer.inversion_trainer.contrastive_generation_hypothesis_num_samples = 1\n",
    "trainer.inversion_trainer.evaluate(\n",
    "    eval_dataset=trainer.eval_dataset[\"nq\"]\n",
    ")"
   ]
  },
  {
   "cell_type": "code",
   "execution_count": 13,
   "id": "5d35af63-7e6c-40ab-a2ba-780af83c3147",
   "metadata": {},
   "outputs": [
    {
     "name": "stderr",
     "output_type": "stream",
     "text": [
      "                                                                                                                                 \r"
     ]
    },
    {
     "name": "stdout",
     "output_type": "stream",
     "text": [
      "to that of the skulls of infant sutures, which are relatively smooth and untidy, despite the character of the skull. Thus\n",
      "to the character of the sutures of the skull which, like those of the infant skull, are relatively smooth and untortuous. In fact\n",
      "\n",
      "\n",
      "\n",
      "individual hemisphere athlete from Australia to win a Winter Olympic medal, and was part of the Southern Hemisphere relay team, which won\n",
      "individual from the Southern Hemisphere, to win a Winter Olympic gold medal and was also part of the short track relay team that won Australia'\n",
      "\n",
      "\n",
      "\n",
      "the same rights as straight people, and 37% disagreed on whether or not they should be protected from harassment or discrimination. In addition, 15% worked\n",
      "the same rights as straight people, while 15% disagreed. Additionally, 69% agreed that they should be protected from workplace discrimination. 13% of H\n"
     ]
    },
    {
     "data": {
      "text/plain": [
       "{'eval_loss': 1.051361083984375,\n",
       " 'eval_accuracy': 0.7367691532258065,\n",
       " 'eval_bleu_score': 37.17726129377233,\n",
       " 'eval_meteor_score': 0.6329410981951079,\n",
       " 'eval_rouge_score': 0.6894040736036922,\n",
       " 'eval_bert_score': 0.928007015537831,\n",
       " 'eval_emb_cos_sim': 0.9250889420509338,\n",
       " 'eval_perplexity': 2.861543269404452,\n",
       " 'eval_runtime': 1793.8923,\n",
       " 'eval_samples_per_second': 0.279,\n",
       " 'eval_steps_per_second': 0.018}"
      ]
     },
     "execution_count": 13,
     "metadata": {},
     "output_type": "execute_result"
    }
   ],
   "source": [
    "trainer.inversion_trainer.gen_kwargs = {\n",
    "    \"early_stopping\": False,\n",
    "    \"num_beams\": 16,\n",
    "    \"do_sample\": False,\n",
    "    \"no_repeat_ngram_size\": 0,\n",
    "}\n",
    "trainer.inversion_trainer.args.per_device_eval_batch_size = 16\n",
    "trainer.inversion_trainer.generation_strategy = \"contrastive\"\n",
    "trainer.inversion_trainer.contrastive_generation_alpha = 0.0\n",
    "trainer.inversion_trainer.contrastive_generation_gamma = 0.1\n",
    "trainer.inversion_trainer.contrastive_generation_hypothesis_num_samples = 16\n",
    "trainer.inversion_trainer.evaluate(\n",
    "    eval_dataset=trainer.eval_dataset[\"nq\"]\n",
    ")\n",
    "\n",
    "# *-*-* with num beams 8 *-*-*\n",
    "# 1: 35.89\n",
    "# 2: 36.00\n",
    "# 4: 36.05\n",
    "# 16: 36.15"
   ]
  },
  {
   "cell_type": "code",
   "execution_count": 5,
   "id": "ad7d908e-b639-4649-9d17-7a66c7c2abdc",
   "metadata": {},
   "outputs": [
    {
     "name": "stderr",
     "output_type": "stream",
     "text": [
      "                                                                                                                                                                                    \r"
     ]
    },
    {
     "name": "stdout",
     "output_type": "stream",
     "text": [
      "to that of the skulls of infant sutures, which are relatively smooth and untidy, despite the character of the skull. Thus\n",
      "to the character of the sutures of the skull which, like those of the infant skull, are relatively smooth and untortuous. In fact\n",
      "\n",
      "\n",
      "\n",
      "individual hemisphere athlete from Australia to win a Winter Olympic medal, and was part of the Southern Hemisphere relay team, which won\n",
      "individual from the Southern Hemisphere, to win a Winter Olympic gold medal and was also part of the short track relay team that won Australia'\n",
      "\n",
      "\n",
      "\n",
      "the same rights as heterosexuals, and 75% disagreed on whether or not they should be protected from discrimination. A third 15% said workplace \n",
      "the same rights as straight people, while 15% disagreed. Additionally, 69% agreed that they should be protected from workplace discrimination. 13% of H\n"
     ]
    },
    {
     "data": {
      "text/plain": [
       "{'eval_loss': 1.0522613525390625,\n",
       " 'eval_accuracy': 0.7386067708333334,\n",
       " 'eval_bleu_score': 35.851109816909826,\n",
       " 'eval_meteor_score': 0.6182559446289986,\n",
       " 'eval_rouge_score': 0.6787915787931255,\n",
       " 'eval_bert_score': 0.9271585076736907,\n",
       " 'eval_emb_cos_sim': 0.9183868169784546,\n",
       " 'eval_perplexity': 2.8641205867926014,\n",
       " 'eval_runtime': 111.8187,\n",
       " 'eval_samples_per_second': 4.472,\n",
       " 'eval_steps_per_second': 0.036}"
      ]
     },
     "execution_count": 5,
     "metadata": {},
     "output_type": "execute_result"
    }
   ],
   "source": [
    "trainer.inversion_trainer.gen_kwargs = {\n",
    "    \"early_stopping\": False,\n",
    "    \"num_beams\": 16,\n",
    "    \"do_sample\": False,\n",
    "    \"no_repeat_ngram_size\": 0,\n",
    "}\n",
    "trainer.args.per_device_eval_batch_size = 16\n",
    "trainer.inversion_trainer.generation_strategy = \"contrastive\"\n",
    "trainer.inversion_trainer.contrastive_generation_alpha = 0.0\n",
    "trainer.inversion_trainer.contrastive_generation_gamma = 0.1\n",
    "trainer.inversion_trainer.contrastive_generation_hypothesis_temperature = 0\n",
    "trainer.inversion_trainer.evaluate(\n",
    "    eval_dataset=trainer.eval_dataset[\"nq\"]\n",
    ")"
   ]
  },
  {
   "cell_type": "code",
   "execution_count": 10,
   "id": "6fd0f176-9d68-433c-8bce-c696abc940bf",
   "metadata": {},
   "outputs": [
    {
     "name": "stderr",
     "output_type": "stream",
     "text": [
      "                                                                                                                                       \r"
     ]
    },
    {
     "name": "stdout",
     "output_type": "stream",
     "text": [
      "to that of the skulls of infant sutures, which are relatively smooth and untidy, despite the character of the skull. Thus\n",
      "to the character of the sutures of the skull which, like those of the infant skull, are relatively smooth and untortuous. In fact\n",
      "\n",
      "\n",
      "\n",
      "individual from the Southern Hemisphere to win a Winter Olympic medal, and was part of the Australian relay team which won the short track gold medal\n",
      "individual from the Southern Hemisphere, to win a Winter Olympic gold medal and was also part of the short track relay team that won Australia'\n",
      "\n",
      "\n",
      "\n",
      "the same rights as heterosexuals, and 75% agreed that they should be protected from discrimination. A third percent disagreed, with 15% working-\n",
      "the same rights as straight people, while 15% disagreed. Additionally, 69% agreed that they should be protected from workplace discrimination. 13% of H\n"
     ]
    },
    {
     "data": {
      "text/plain": [
       "{'eval_loss': 1.0522613525390625,\n",
       " 'eval_accuracy': 0.7386067708333334,\n",
       " 'eval_bleu_score': 34.38770566406594,\n",
       " 'eval_meteor_score': 0.6086048916920719,\n",
       " 'eval_rouge_score': 0.6688751877536816,\n",
       " 'eval_bert_score': 0.9240348972380161,\n",
       " 'eval_emb_cos_sim': 0.9167592525482178,\n",
       " 'eval_perplexity': 2.8641205867926014,\n",
       " 'eval_runtime': 24.2636,\n",
       " 'eval_samples_per_second': 20.607,\n",
       " 'eval_steps_per_second': 0.165}"
      ]
     },
     "execution_count": 10,
     "metadata": {},
     "output_type": "execute_result"
    }
   ],
   "source": [
    "trainer.inversion_trainer.gen_kwargs = {\n",
    "    \"early_stopping\": False,\n",
    "    \"num_beams\": 16,\n",
    "    \"do_sample\": False,\n",
    "    \"no_repeat_ngram_size\": 0,\n",
    "}\n",
    "trainer.inversion_trainer.generation_strategy = \"none\"\n",
    "trainer.inversion_trainer.evaluate(\n",
    "    eval_dataset=trainer.eval_dataset[\"nq\"]\n",
    ")"
   ]
  },
  {
   "cell_type": "code",
   "execution_count": 13,
   "id": "9e36140d-b964-42d1-8c15-c67d72efcc7d",
   "metadata": {},
   "outputs": [
    {
     "name": "stderr",
     "output_type": "stream",
     "text": [
      "                                                                                                                                                                                    \r"
     ]
    },
    {
     "name": "stdout",
     "output_type": "stream",
     "text": [
      "to the character of the skull, which are relatively smooth and untutuous in the case of infant sutures. Unlike the sutures,\n",
      "to the character of the sutures of the skull which, like those of the infant skull, are relatively smooth and untortuous. In fact\n",
      "\n",
      "\n",
      "\n",
      "individual from the Southern Hemisphere to win the Winter Olympic relay gold medal, and was also part of the Australian Short Track team, which won gold\n",
      "individual from the Southern Hemisphere, to win a Winter Olympic gold medal and was also part of the short track relay team that won Australia'\n",
      "\n",
      "\n",
      "\n",
      "the same rights as men, and 75% agreed that they should be protected from discrimination. Among the other 15%, gay workers are no longer exp\n",
      "the same rights as straight people, while 15% disagreed. Additionally, 69% agreed that they should be protected from workplace discrimination. 13% of H\n"
     ]
    },
    {
     "data": {
      "text/plain": [
       "{'eval_loss': 1.0522613525390625,\n",
       " 'eval_accuracy': 0.7386067708333334,\n",
       " 'eval_bleu_score': 31.874603435462316,\n",
       " 'eval_meteor_score': 0.5797198638767634,\n",
       " 'eval_rouge_score': 0.642425000059837,\n",
       " 'eval_bert_score': 0.9176754048094153,\n",
       " 'eval_emb_cos_sim': 0.9073807001113892,\n",
       " 'eval_perplexity': 2.8641205867926014,\n",
       " 'eval_runtime': 9.5017,\n",
       " 'eval_samples_per_second': 52.622,\n",
       " 'eval_steps_per_second': 0.421}"
      ]
     },
     "execution_count": 13,
     "metadata": {},
     "output_type": "execute_result"
    }
   ],
   "source": [
    "trainer.inversion_trainer.gen_kwargs = {\n",
    "    \"early_stopping\": False,\n",
    "    \"num_beams\": 1,\n",
    "    \"do_sample\": True,\n",
    "    \"temperature\": 1.0,\n",
    "    \"top_p\": 0.1,\n",
    "    \"no_repeat_ngram_size\": 0,\n",
    "}\n",
    "trainer.inversion_trainer.generation_strategy = \"none\"\n",
    "trainer.inversion_trainer.evaluate(\n",
    "    eval_dataset=trainer.eval_dataset[\"nq\"]\n",
    ")"
   ]
  },
  {
   "cell_type": "code",
   "execution_count": null,
   "id": "61c8be5b-69cc-431b-b2e1-a3e2b7311bda",
   "metadata": {},
   "outputs": [],
   "source": [
    "trainer.inversion_trainer.gen_kwargs = {\n",
    "    \"early_stopping\": False,\n",
    "    \"num_beams\": 32,\n",
    "    \"do_sample\": False,\n",
    "    \"no_repeat_ngram_size\": 0,\n",
    "}\n",
    "trainer.args.per_device_eval_batch_size = 1\n",
    "trainer.inversion_trainer.generation_strategy = \"contrastive\"\n",
    "trainer.inversion_trainer.evaluate(\n",
    "    eval_dataset=trainer.eval_dataset[\"nq\"]\n",
    ")"
   ]
  },
  {
   "cell_type": "code",
   "execution_count": 4,
   "id": "04cde23c-b3f9-47bf-91b3-84c112e5000a",
   "metadata": {},
   "outputs": [
    {
     "data": {
      "text/html": [
       "\n",
       "    <div>\n",
       "      \n",
       "      <progress value='9' max='3' style='width:300px; height:20px; vertical-align: middle;'></progress>\n",
       "      [3/3 01:46]\n",
       "    </div>\n",
       "    "
      ],
      "text/plain": [
       "<IPython.core.display.HTML object>"
      ]
     },
     "metadata": {},
     "output_type": "display_data"
    },
    {
     "name": "stderr",
     "output_type": "stream",
     "text": [
      "                                                                                                                                                                                    \r"
     ]
    },
    {
     "name": "stdout",
     "output_type": "stream",
     "text": [
      "to that of the skulls of infant sutures, which are relatively smooth and untidy, despite the character of the skull. Thus\n",
      "to the character of the sutures of the skull which, like those of the infant skull, are relatively smooth and untortuous. In fact\n",
      "\n",
      "\n",
      "\n",
      "individual from the Southern Hemisphere to win a Winter Olympic medal, and was part of the Australian relay team which won the short track gold medal\n",
      "individual from the Southern Hemisphere, to win a Winter Olympic gold medal and was also part of the short track relay team that won Australia'\n",
      "\n",
      "\n",
      "\n",
      "the same rights as heterosexuals, and 75% agreed that they should be protected from discrimination. A third percent disagreed, with 15% working-\n",
      "the same rights as straight people, while 15% disagreed. Additionally, 69% agreed that they should be protected from workplace discrimination. 13% of H\n"
     ]
    },
    {
     "data": {
      "text/plain": [
       "{'eval_loss': 1.0522613525390625,\n",
       " 'eval_accuracy': 0.7386067708333334,\n",
       " 'eval_bleu_score': 34.23656384105194,\n",
       " 'eval_meteor_score': 0.6045403454876508,\n",
       " 'eval_rouge_score': 0.6684703456137346,\n",
       " 'eval_bert_score': 0.9242021244329711,\n",
       " 'eval_emb_cos_sim': 0.9140585660934448,\n",
       " 'eval_perplexity': 2.8641205867926014,\n",
       " 'eval_runtime': 42.4497,\n",
       " 'eval_samples_per_second': 11.779,\n",
       " 'eval_steps_per_second': 0.094}"
      ]
     },
     "execution_count": 4,
     "metadata": {},
     "output_type": "execute_result"
    }
   ],
   "source": [
    "trainer.inversion_trainer.gen_kwargs = {\n",
    "    \"early_stopping\": False,\n",
    "    \"num_beams\": 32,\n",
    "    \"do_sample\": False,\n",
    "    \"no_repeat_ngram_size\": 0,\n",
    "}\n",
    "trainer.args.per_device_eval_batch_size = 8\n",
    "trainer.inversion_trainer.generation_strategy = \"none\"\n",
    "trainer.inversion_trainer.evaluate(\n",
    "    eval_dataset=trainer.eval_dataset[\"nq\"]\n",
    ")"
   ]
  },
  {
   "cell_type": "markdown",
   "id": "2d90757e-0377-4991-8a83-22712476cc16",
   "metadata": {},
   "source": [
    "### reminder to self\n",
    "\n",
    "potential improvements\n",
    "- sample more negative examples (nucleus sampling?)\n",
    "- hyperparam tuning (better alpha)\n",
    "- other tricks from contrastive decoding paper"
   ]
  },
  {
   "cell_type": "markdown",
   "id": "29dcf4c8-48b6-4561-ae24-82396c703196",
   "metadata": {},
   "source": [
    "## hyperparam search"
   ]
  },
  {
   "cell_type": "code",
   "execution_count": 32,
   "id": "606cc5ed-4370-4d61-8e53-b62fb7df9f8f",
   "metadata": {},
   "outputs": [
    {
     "name": "stdout",
     "output_type": "stream",
     "text": [
      "check\n"
     ]
    }
   ],
   "source": [
    "print(\"check\")"
   ]
  },
  {
   "cell_type": "code",
   "execution_count": 37,
   "id": "0700c4d3-b893-4943-b78c-095ee4b12fff",
   "metadata": {},
   "outputs": [
    {
     "name": "stderr",
     "output_type": "stream",
     "text": [
      "                                                                                                                                       \r"
     ]
    },
    {
     "name": "stdout",
     "output_type": "stream",
     "text": [
      "to that of the skull of infants, which are relatively smooth and untutorous in character. Nevertheless, the sutures of the skull\n",
      "to the character of the sutures of the skull which, like those of the infant skull, are relatively smooth and untortuous. In fact\n",
      "\n",
      "\n",
      "\n",
      "individual hemisphere athlete from Australia to win the Winter Olympic relay, and was part of the Southern Hemisphere team, which won the short\n",
      "individual from the Southern Hemisphere, to win a Winter Olympic gold medal and was also part of the short track relay team that won Australia'\n",
      "\n",
      "\n",
      "\n",
      "the same rights as straight people, and 7% disagreed. Moreover, 35% agreed that they should be protected from workplace discrimination. 75%\n",
      "the same rights as straight people, while 15% disagreed. Additionally, 69% agreed that they should be protected from workplace discrimination. 13% of H\n"
     ]
    },
    {
     "data": {
      "text/plain": [
       "{'eval_loss': 1.0522613525390625,\n",
       " 'eval_accuracy': 0.7386067708333334,\n",
       " 'eval_bleu_score': 33.98037368971617,\n",
       " 'eval_meteor_score': 0.601873441349148,\n",
       " 'eval_rouge_score': 0.6646144531814782,\n",
       " 'eval_bert_score': 0.9221128020435572,\n",
       " 'eval_emb_cos_sim': 0.9135487079620361,\n",
       " 'eval_perplexity': 2.8641205867926014,\n",
       " 'eval_runtime': 12.6541,\n",
       " 'eval_samples_per_second': 39.513,\n",
       " 'eval_steps_per_second': 0.316}"
      ]
     },
     "execution_count": 37,
     "metadata": {},
     "output_type": "execute_result"
    }
   ],
   "source": [
    "trainer.inversion_trainer.gen_kwargs = {\n",
    "    \"early_stopping\": False,\n",
    "    \"num_beams\": 1,\n",
    "    \"do_sample\": False,\n",
    "    \"no_repeat_ngram_size\": 0,\n",
    "}\n",
    "trainer.args.per_device_eval_batch_size = 32\n",
    "trainer.inversion_trainer.generation_strategy = \"contrastive\"\n",
    "trainer.inversion_trainer.contrastive_generation_alpha = 0.0\n",
    "trainer.inversion_trainer.contrastive_generation_gamma = 0.1\n",
    "trainer.inversion_trainer.contrastive_generation_hypothesis_temperature = 0\n",
    "trainer.inversion_trainer.contrastive_generation_hypothesis_num_samples = 1\n",
    "trainer.inversion_trainer.evaluate(\n",
    "    eval_dataset=trainer.eval_dataset[\"nq\"]\n",
    ")"
   ]
  },
  {
   "cell_type": "code",
   "execution_count": null,
   "id": "85acf3ef-ced8-43fe-87a0-c77442637e91",
   "metadata": {},
   "outputs": [
    {
     "name": "stderr",
     "output_type": "stream",
     "text": [
      "                                                                                                                                       \r"
     ]
    },
    {
     "name": "stdout",
     "output_type": "stream",
     "text": [
      "to that of the skull of infants, which are relatively smooth and untutorous in character. Nevertheless, the sutures of the skull\n",
      "to the character of the sutures of the skull which, like those of the infant skull, are relatively smooth and untortuous. In fact\n",
      "\n",
      "\n",
      "\n",
      "individual hemisphere athlete from Australia to win the Winter Olympic relay, and was part of the Southern Hemisphere team, which won the short\n",
      "individual from the Southern Hemisphere, to win a Winter Olympic gold medal and was also part of the short track relay team that won Australia'\n",
      "\n",
      "\n",
      "\n",
      "the same rights as straight people, and 7% disagreed. Moreover, 35% agreed that they should be protected from workplace discrimination. 75%\n",
      "the same rights as straight people, while 15% disagreed. Additionally, 69% agreed that they should be protected from workplace discrimination. 13% of H\n"
     ]
    },
    {
     "name": "stderr",
     "output_type": "stream",
     "text": [
      "                                                                                                                                       \r"
     ]
    },
    {
     "name": "stdout",
     "output_type": "stream",
     "text": [
      "to that of the skull of infants, which are relatively smooth and untutorous in character. Nevertheless, the sutures of the skull\n",
      "to the character of the sutures of the skull which, like those of the infant skull, are relatively smooth and untortuous. In fact\n",
      "\n",
      "\n",
      "\n",
      "individual hemisphere athlete from Australia to win the Winter Olympic relay, and was part of the Southern Hemisphere team, which won the short\n",
      "individual from the Southern Hemisphere, to win a Winter Olympic gold medal and was also part of the short track relay team that won Australia'\n",
      "\n",
      "\n",
      "\n",
      "the same rights as straight people, and 7% disagreed. Moreover, 35% agreed that they should be protected from workplace discrimination. 75%\n",
      "the same rights as straight people, while 15% disagreed. Additionally, 69% agreed that they should be protected from workplace discrimination. 13% of H\n"
     ]
    },
    {
     "name": "stderr",
     "output_type": "stream",
     "text": [
      "                                                                                                                                       \r"
     ]
    },
    {
     "name": "stdout",
     "output_type": "stream",
     "text": [
      "to that of the skull of infants, which are relatively smooth and untutorous in character. Nevertheless, the sutures of the skull\n",
      "to the character of the sutures of the skull which, like those of the infant skull, are relatively smooth and untortuous. In fact\n",
      "\n",
      "\n",
      "\n",
      "individual hemisphere athlete from Australia to win the Winter Olympic relay, and was part of the Southern Hemisphere team, which won the short\n",
      "individual from the Southern Hemisphere, to win a Winter Olympic gold medal and was also part of the short track relay team that won Australia'\n",
      "\n",
      "\n",
      "\n",
      "the same rights as straight people, and 7% disagreed. Moreover, 35% agreed that they should be protected from workplace discrimination. 75%\n",
      "the same rights as straight people, while 15% disagreed. Additionally, 69% agreed that they should be protected from workplace discrimination. 13% of H\n"
     ]
    },
    {
     "name": "stderr",
     "output_type": "stream",
     "text": [
      "                                                                                                                                       \r"
     ]
    },
    {
     "name": "stdout",
     "output_type": "stream",
     "text": [
      "to that of the skull of infants, which are relatively smooth and untutorous in character. Nevertheless, the sutures of the skull\n",
      "to the character of the sutures of the skull which, like those of the infant skull, are relatively smooth and untortuous. In fact\n",
      "\n",
      "\n",
      "\n",
      "individual hemisphere athlete from Australia to win the Winter Olympic relay, and was part of the Southern Hemisphere team, which won the short\n",
      "individual from the Southern Hemisphere, to win a Winter Olympic gold medal and was also part of the short track relay team that won Australia'\n",
      "\n",
      "\n",
      "\n",
      "the same rights as straight people, and 7% disagreed. Moreover, 35% agreed that they should be protected from workplace discrimination. 75%\n",
      "the same rights as straight people, while 15% disagreed. Additionally, 69% agreed that they should be protected from workplace discrimination. 13% of H\n"
     ]
    },
    {
     "name": "stderr",
     "output_type": "stream",
     "text": [
      "                                                                                                                                       \r"
     ]
    },
    {
     "name": "stdout",
     "output_type": "stream",
     "text": [
      "to that of the skull of infants, which are relatively smooth and untutorous in character. Nevertheless, the sutures of the skull\n",
      "to the character of the sutures of the skull which, like those of the infant skull, are relatively smooth and untortuous. In fact\n",
      "\n",
      "\n",
      "\n",
      "individual hemisphere athlete from Australia to win the Winter Olympic relay, and was part of the Southern Hemisphere team, which won the short\n",
      "individual from the Southern Hemisphere, to win a Winter Olympic gold medal and was also part of the short track relay team that won Australia'\n",
      "\n",
      "\n",
      "\n",
      "the same rights as straight people, and 7% disagreed. Moreover, 35% agreed that they should be protected from workplace discrimination. 75%\n",
      "the same rights as straight people, while 15% disagreed. Additionally, 69% agreed that they should be protected from workplace discrimination. 13% of H\n"
     ]
    },
    {
     "name": "stderr",
     "output_type": "stream",
     "text": [
      "                                                                                                                                       \r"
     ]
    },
    {
     "name": "stdout",
     "output_type": "stream",
     "text": [
      "to that of the skull of infants, which are relatively smooth and untutorous in character. Nevertheless, the sutures of the skull\n",
      "to the character of the sutures of the skull which, like those of the infant skull, are relatively smooth and untortuous. In fact\n",
      "\n",
      "\n",
      "\n",
      "individual hemisphere athlete from Australia to win the Winter Olympic relay, and was part of the Southern Hemisphere team, which won the short\n",
      "individual from the Southern Hemisphere, to win a Winter Olympic gold medal and was also part of the short track relay team that won Australia'\n",
      "\n",
      "\n",
      "\n",
      "the same rights as straight people, and 7% disagreed. Moreover, 35% agreed that they should be protected from workplace discrimination. 75%\n",
      "the same rights as straight people, while 15% disagreed. Additionally, 69% agreed that they should be protected from workplace discrimination. 13% of H\n"
     ]
    },
    {
     "name": "stderr",
     "output_type": "stream",
     "text": [
      "                                                                                                                                       \r"
     ]
    },
    {
     "name": "stdout",
     "output_type": "stream",
     "text": [
      "to that of the skull of infants, which are relatively smooth and untutorous in character. Nevertheless, the sutures of the skull\n",
      "to the character of the sutures of the skull which, like those of the infant skull, are relatively smooth and untortuous. In fact\n",
      "\n",
      "\n",
      "\n",
      "individual hemisphere athlete from Australia to win the Winter Olympic relay, and was part of the Southern Hemisphere team, which won the short\n",
      "individual from the Southern Hemisphere, to win a Winter Olympic gold medal and was also part of the short track relay team that won Australia'\n",
      "\n",
      "\n",
      "\n",
      "the same rights as straight people, and 7% disagreed. Moreover, 35% agreed that they should be protected from workplace discrimination. 75%\n",
      "the same rights as straight people, while 15% disagreed. Additionally, 69% agreed that they should be protected from workplace discrimination. 13% of H\n"
     ]
    },
    {
     "name": "stderr",
     "output_type": "stream",
     "text": [
      "                                                                                                                                       \r"
     ]
    },
    {
     "name": "stdout",
     "output_type": "stream",
     "text": [
      "to that of the skull of infants, which are relatively smooth and untutorous in character. Nevertheless, the sutures of the skull\n",
      "to the character of the sutures of the skull which, like those of the infant skull, are relatively smooth and untortuous. In fact\n",
      "\n",
      "\n",
      "\n",
      "individual hemisphere athlete from Australia to win the Winter Olympic relay, and was part of the Southern Hemisphere team, which won the short\n",
      "individual from the Southern Hemisphere, to win a Winter Olympic gold medal and was also part of the short track relay team that won Australia'\n",
      "\n",
      "\n",
      "\n",
      "the same rights as straight people, and 7% disagreed. Moreover, 35% agreed that they should be protected from workplace discrimination. 75%\n",
      "the same rights as straight people, while 15% disagreed. Additionally, 69% agreed that they should be protected from workplace discrimination. 13% of H\n"
     ]
    },
    {
     "name": "stderr",
     "output_type": "stream",
     "text": [
      "                                                                                                                                       \r"
     ]
    },
    {
     "name": "stdout",
     "output_type": "stream",
     "text": [
      "to that of the skull of infants, which are relatively smooth and untutorous in character. Nevertheless, the sutures of the skull\n",
      "to the character of the sutures of the skull which, like those of the infant skull, are relatively smooth and untortuous. In fact\n",
      "\n",
      "\n",
      "\n",
      "individual hemisphere athlete from Australia to win the Winter Olympic relay, and was part of the Southern Hemisphere team, which won the short\n",
      "individual from the Southern Hemisphere, to win a Winter Olympic gold medal and was also part of the short track relay team that won Australia'\n",
      "\n",
      "\n",
      "\n",
      "the same rights as straight people, and 7% disagreed. Moreover, 35% agreed that they should be protected from workplace discrimination. 75%\n",
      "the same rights as straight people, while 15% disagreed. Additionally, 69% agreed that they should be protected from workplace discrimination. 13% of H\n"
     ]
    },
    {
     "name": "stderr",
     "output_type": "stream",
     "text": [
      "                                                                                                                                       \r"
     ]
    },
    {
     "name": "stdout",
     "output_type": "stream",
     "text": [
      "to that of the skull of infants, which are relatively smooth and untutorous in character. Nevertheless, the sutures of the skull\n",
      "to the character of the sutures of the skull which, like those of the infant skull, are relatively smooth and untortuous. In fact\n",
      "\n",
      "\n",
      "\n",
      "individual hemisphere athlete from Australia to win the Winter Olympic relay, and was part of the Southern Hemisphere team, which won the short\n",
      "individual from the Southern Hemisphere, to win a Winter Olympic gold medal and was also part of the short track relay team that won Australia'\n",
      "\n",
      "\n",
      "\n",
      "the same rights as straight people, and 7% disagreed. Moreover, 35% agreed that they should be protected from workplace discrimination. 75%\n",
      "the same rights as straight people, while 15% disagreed. Additionally, 69% agreed that they should be protected from workplace discrimination. 13% of H\n"
     ]
    },
    {
     "name": "stderr",
     "output_type": "stream",
     "text": [
      "                                                                                                                                       \r"
     ]
    },
    {
     "name": "stdout",
     "output_type": "stream",
     "text": [
      "to that of the skull of infants, which are relatively smooth and untutorous in character. Nevertheless, the sutures of the skull\n",
      "to the character of the sutures of the skull which, like those of the infant skull, are relatively smooth and untortuous. In fact\n",
      "\n",
      "\n",
      "\n",
      "individual hemisphere athlete from Australia to win the Winter Olympic relay, and was part of the Southern Hemisphere team, which won the short\n",
      "individual from the Southern Hemisphere, to win a Winter Olympic gold medal and was also part of the short track relay team that won Australia'\n",
      "\n",
      "\n",
      "\n",
      "the same rights as straight people, and 7% disagreed. Moreover, 35% agreed that they should be protected from workplace discrimination. 75%\n",
      "the same rights as straight people, while 15% disagreed. Additionally, 69% agreed that they should be protected from workplace discrimination. 13% of H\n"
     ]
    },
    {
     "name": "stderr",
     "output_type": "stream",
     "text": [
      "                                                                                                                                       \r"
     ]
    },
    {
     "name": "stdout",
     "output_type": "stream",
     "text": [
      "to that of the skull of infants, which are relatively smooth and untutorous in character. Nevertheless, the sutures of the skull\n",
      "to the character of the sutures of the skull which, like those of the infant skull, are relatively smooth and untortuous. In fact\n",
      "\n",
      "\n",
      "\n",
      "individual hemisphere athlete from Australia to win the Winter Olympic relay, and was part of the Southern Hemisphere team, which won the short\n",
      "individual from the Southern Hemisphere, to win a Winter Olympic gold medal and was also part of the short track relay team that won Australia'\n",
      "\n",
      "\n",
      "\n",
      "the same rights as straight people, and 7% disagreed. Moreover, 35% agreed that they should be protected from workplace discrimination. 75%\n",
      "the same rights as straight people, while 15% disagreed. Additionally, 69% agreed that they should be protected from workplace discrimination. 13% of H\n"
     ]
    },
    {
     "name": "stderr",
     "output_type": "stream",
     "text": [
      "                                                                                                                                       \r"
     ]
    },
    {
     "name": "stdout",
     "output_type": "stream",
     "text": [
      "to that of the skull of infants, which are relatively smooth and untutorous in character. Nevertheless, the sutures of the skull\n",
      "to the character of the sutures of the skull which, like those of the infant skull, are relatively smooth and untortuous. In fact\n",
      "\n",
      "\n",
      "\n",
      "individual hemisphere athlete from Australia to win the Winter Olympic relay, and was part of the Southern Hemisphere team, which won the short\n",
      "individual from the Southern Hemisphere, to win a Winter Olympic gold medal and was also part of the short track relay team that won Australia'\n",
      "\n",
      "\n",
      "\n",
      "the same rights as straight people, and 7% disagreed. Moreover, 35% agreed that they should be protected from workplace discrimination. 75%\n",
      "the same rights as straight people, while 15% disagreed. Additionally, 69% agreed that they should be protected from workplace discrimination. 13% of H\n"
     ]
    },
    {
     "name": "stderr",
     "output_type": "stream",
     "text": [
      "                                                                                                                                       \r"
     ]
    },
    {
     "name": "stdout",
     "output_type": "stream",
     "text": [
      "to that of the skull of infants, which are relatively smooth and untutorous in character. Nevertheless, the sutures of the skull\n",
      "to the character of the sutures of the skull which, like those of the infant skull, are relatively smooth and untortuous. In fact\n",
      "\n",
      "\n",
      "\n",
      "individual hemisphere athlete from Australia to win the Winter Olympic relay, and was part of the Southern Hemisphere team, which won the short\n",
      "individual from the Southern Hemisphere, to win a Winter Olympic gold medal and was also part of the short track relay team that won Australia'\n",
      "\n",
      "\n",
      "\n",
      "the same rights as straight people, and 7% disagreed. Moreover, 35% agreed that they should be protected from workplace discrimination. 75%\n",
      "the same rights as straight people, while 15% disagreed. Additionally, 69% agreed that they should be protected from workplace discrimination. 13% of H\n"
     ]
    },
    {
     "name": "stderr",
     "output_type": "stream",
     "text": [
      "                                                                                                                                       \r"
     ]
    },
    {
     "name": "stdout",
     "output_type": "stream",
     "text": [
      "to that of the skull of infants, which are relatively smooth and untutorous in character. Nevertheless, the sutures of the skull\n",
      "to the character of the sutures of the skull which, like those of the infant skull, are relatively smooth and untortuous. In fact\n",
      "\n",
      "\n",
      "\n",
      "individual hemisphere athlete from Australia to win the Winter Olympic relay, and was part of the Southern Hemisphere team, which won the short\n",
      "individual from the Southern Hemisphere, to win a Winter Olympic gold medal and was also part of the short track relay team that won Australia'\n",
      "\n",
      "\n",
      "\n",
      "the same rights as straight people, and 7% disagreed. Moreover, 35% agreed that they should be protected from workplace discrimination. 75%\n",
      "the same rights as straight people, while 15% disagreed. Additionally, 69% agreed that they should be protected from workplace discrimination. 13% of H\n"
     ]
    },
    {
     "name": "stderr",
     "output_type": "stream",
     "text": [
      "                                                                                                                                       \r"
     ]
    },
    {
     "name": "stdout",
     "output_type": "stream",
     "text": [
      "to the character of the skull, which are relatively smooth and untutuous in the case of infant sutures. Unlike the sutures,\n",
      "to the character of the sutures of the skull which, like those of the infant skull, are relatively smooth and untortuous. In fact\n",
      "\n",
      "\n",
      "\n",
      "individual from the Southern Hemisphere to win the Winter Olympic relay gold medal, and was also part of the Australian Short Track team, which won gold\n",
      "individual from the Southern Hemisphere, to win a Winter Olympic gold medal and was also part of the short track relay team that won Australia'\n",
      "\n",
      "\n",
      "\n",
      "the same rights as straight people, and 7% disagreed. Moreover, 35% agreed that they should be protected from workplace discrimination. 75%\n",
      "the same rights as straight people, while 15% disagreed. Additionally, 69% agreed that they should be protected from workplace discrimination. 13% of H\n"
     ]
    },
    {
     "name": "stderr",
     "output_type": "stream",
     "text": [
      "                                                                                                                                       \r"
     ]
    },
    {
     "name": "stdout",
     "output_type": "stream",
     "text": [
      "to that of the skull of infants, which are relatively smooth and untuturous in character. Nevertheless, the sutures of the skull\n",
      "to the character of the sutures of the skull which, like those of the infant skull, are relatively smooth and untortuous. In fact\n",
      "\n",
      "\n",
      "\n",
      "individual from the Southern Hemisphere to win the Winter Olympic relay gold medal, and was also part of the Australian Short Track team, which won gold\n",
      "individual from the Southern Hemisphere, to win a Winter Olympic gold medal and was also part of the short track relay team that won Australia'\n",
      "\n",
      "\n",
      "\n",
      "the same rights as straight people, and 7% agreed with discrimination. Lastly, 35% disagreed on whether or not protected workers should be \n",
      "the same rights as straight people, while 15% disagreed. Additionally, 69% agreed that they should be protected from workplace discrimination. 13% of H\n"
     ]
    },
    {
     "name": "stderr",
     "output_type": "stream",
     "text": [
      "                                                                                                                                       \r"
     ]
    },
    {
     "name": "stdout",
     "output_type": "stream",
     "text": [
      "to that of the skull of infants, which are relatively smooth and untuturous in character. Nevertheless, the sutures of the skull\n",
      "to the character of the sutures of the skull which, like those of the infant skull, are relatively smooth and untortuous. In fact\n",
      "\n",
      "\n",
      "\n",
      "individual hemisphere athlete from Australia to win the Winter Olympic relay, and was part of the Southern Hemisphere team, which won the short\n",
      "individual from the Southern Hemisphere, to win a Winter Olympic gold medal and was also part of the short track relay team that won Australia'\n",
      "\n",
      "\n",
      "\n",
      "the same rights as straight people, and 7% disagreed. Moreover, 35% agreed that they should be protected from workplace discrimination. 75%\n",
      "the same rights as straight people, while 15% disagreed. Additionally, 69% agreed that they should be protected from workplace discrimination. 13% of H\n"
     ]
    },
    {
     "name": "stderr",
     "output_type": "stream",
     "text": [
      "                                                                                                                                       \r"
     ]
    },
    {
     "name": "stdout",
     "output_type": "stream",
     "text": [
      "to that of the skulls of infant sutures, which are relatively smooth and untoothful, despite the character of the skull. Moreover\n",
      "to the character of the sutures of the skull which, like those of the infant skull, are relatively smooth and untortuous. In fact\n",
      "\n",
      "\n",
      "\n",
      "individual from the Southern Hemisphere to win the Winter Olympic relay gold medal, and was also part of the Australian Short Track team, which won gold\n",
      "individual from the Southern Hemisphere, to win a Winter Olympic gold medal and was also part of the short track relay team that won Australia'\n",
      "\n",
      "\n",
      "\n",
      "the same rights as straight people, and 7% agreed that they should be protected from discrimination. Among the 35%, 15% disagreed with workplace\n",
      "the same rights as straight people, while 15% disagreed. Additionally, 69% agreed that they should be protected from workplace discrimination. 13% of H\n"
     ]
    },
    {
     "name": "stderr",
     "output_type": "stream",
     "text": [
      "generating from val:  33%|██████████████████████████▎                                                    | 1/3 [00:03<00:06,  3.49s/it]"
     ]
    }
   ],
   "source": [
    "data = []\n",
    "#\n",
    "for temp in [1e-19, 0.001, 0.01, 0.1, 1.0]:\n",
    "    for num_samples in [16, 8, 4, 2, 1]:\n",
    "        trainer.args.per_device_eval_batch_size = round(32 / num_samples)\n",
    "        #\n",
    "        trainer.inversion_trainer.contrastive_generation_hypothesis_temperature = temp\n",
    "        trainer.inversion_trainer.contrastive_generation_hypothesis_num_samples = num_samples\n",
    "        #\n",
    "        trainer.inversion_trainer.gen_kwargs = {\n",
    "            \"early_stopping\": False,\n",
    "            \"num_beams\": 1,\n",
    "            \"do_sample\": False,\n",
    "            \"no_repeat_ngram_size\": 0,\n",
    "        }\n",
    "        trainer.inversion_trainer.generation_strategy = \"contrastive\"\n",
    "        trainer.inversion_trainer.contrastive_generation_alpha = 0.0\n",
    "        trainer.inversion_trainer.contrastive_generation_gamma = 0.1\n",
    "        metrics = trainer.inversion_trainer.evaluate(\n",
    "            eval_dataset=trainer.eval_dataset[\"nq\"]\n",
    "        )\n",
    "        metrics['temp'] = temp\n",
    "        metrics['num_samples'] = num_samples\n",
    "        data.append(metrics)"
   ]
  },
  {
   "cell_type": "code",
   "execution_count": 28,
   "id": "efce95e5-4689-437f-b244-feae04fde1ae",
   "metadata": {},
   "outputs": [
    {
     "data": {
      "text/html": [
       "<div>\n",
       "<style scoped>\n",
       "    .dataframe tbody tr th:only-of-type {\n",
       "        vertical-align: middle;\n",
       "    }\n",
       "\n",
       "    .dataframe tbody tr th {\n",
       "        vertical-align: top;\n",
       "    }\n",
       "\n",
       "    .dataframe thead th {\n",
       "        text-align: right;\n",
       "    }\n",
       "</style>\n",
       "<table border=\"1\" class=\"dataframe\">\n",
       "  <thead>\n",
       "    <tr style=\"text-align: right;\">\n",
       "      <th></th>\n",
       "      <th>eval_loss</th>\n",
       "      <th>eval_accuracy</th>\n",
       "      <th>eval_bleu_score</th>\n",
       "      <th>eval_meteor_score</th>\n",
       "      <th>eval_rouge_score</th>\n",
       "      <th>eval_bert_score</th>\n",
       "      <th>eval_emb_cos_sim</th>\n",
       "      <th>eval_perplexity</th>\n",
       "      <th>eval_runtime</th>\n",
       "      <th>eval_samples_per_second</th>\n",
       "      <th>eval_steps_per_second</th>\n",
       "      <th>temp</th>\n",
       "      <th>num_samples</th>\n",
       "    </tr>\n",
       "  </thead>\n",
       "  <tbody>\n",
       "    <tr>\n",
       "      <th>0</th>\n",
       "      <td>1.052261</td>\n",
       "      <td>0.738607</td>\n",
       "      <td>33.980374</td>\n",
       "      <td>0.601873</td>\n",
       "      <td>0.664614</td>\n",
       "      <td>0.922113</td>\n",
       "      <td>0.913549</td>\n",
       "      <td>2.864121</td>\n",
       "      <td>97.4374</td>\n",
       "      <td>5.131</td>\n",
       "      <td>0.041</td>\n",
       "      <td>1.000000e-19</td>\n",
       "      <td>16</td>\n",
       "    </tr>\n",
       "    <tr>\n",
       "      <th>1</th>\n",
       "      <td>1.052261</td>\n",
       "      <td>0.738607</td>\n",
       "      <td>33.980374</td>\n",
       "      <td>0.601873</td>\n",
       "      <td>0.664614</td>\n",
       "      <td>0.922113</td>\n",
       "      <td>0.913549</td>\n",
       "      <td>2.864121</td>\n",
       "      <td>53.6291</td>\n",
       "      <td>9.323</td>\n",
       "      <td>0.075</td>\n",
       "      <td>1.000000e-19</td>\n",
       "      <td>8</td>\n",
       "    </tr>\n",
       "    <tr>\n",
       "      <th>2</th>\n",
       "      <td>1.052261</td>\n",
       "      <td>0.738607</td>\n",
       "      <td>33.980374</td>\n",
       "      <td>0.601873</td>\n",
       "      <td>0.664614</td>\n",
       "      <td>0.922113</td>\n",
       "      <td>0.913549</td>\n",
       "      <td>2.864121</td>\n",
       "      <td>29.6616</td>\n",
       "      <td>16.857</td>\n",
       "      <td>0.135</td>\n",
       "      <td>1.000000e-19</td>\n",
       "      <td>4</td>\n",
       "    </tr>\n",
       "    <tr>\n",
       "      <th>3</th>\n",
       "      <td>1.052261</td>\n",
       "      <td>0.738607</td>\n",
       "      <td>33.980374</td>\n",
       "      <td>0.601873</td>\n",
       "      <td>0.664614</td>\n",
       "      <td>0.922113</td>\n",
       "      <td>0.913549</td>\n",
       "      <td>2.864121</td>\n",
       "      <td>18.2489</td>\n",
       "      <td>27.399</td>\n",
       "      <td>0.219</td>\n",
       "      <td>1.000000e-19</td>\n",
       "      <td>2</td>\n",
       "    </tr>\n",
       "    <tr>\n",
       "      <th>4</th>\n",
       "      <td>1.052261</td>\n",
       "      <td>0.738607</td>\n",
       "      <td>33.980374</td>\n",
       "      <td>0.601873</td>\n",
       "      <td>0.664614</td>\n",
       "      <td>0.922113</td>\n",
       "      <td>0.913549</td>\n",
       "      <td>2.864121</td>\n",
       "      <td>12.3650</td>\n",
       "      <td>40.437</td>\n",
       "      <td>0.323</td>\n",
       "      <td>1.000000e-19</td>\n",
       "      <td>1</td>\n",
       "    </tr>\n",
       "  </tbody>\n",
       "</table>\n",
       "</div>"
      ],
      "text/plain": [
       "   eval_loss  eval_accuracy  eval_bleu_score  eval_meteor_score   \n",
       "0   1.052261       0.738607        33.980374           0.601873  \\\n",
       "1   1.052261       0.738607        33.980374           0.601873   \n",
       "2   1.052261       0.738607        33.980374           0.601873   \n",
       "3   1.052261       0.738607        33.980374           0.601873   \n",
       "4   1.052261       0.738607        33.980374           0.601873   \n",
       "\n",
       "   eval_rouge_score  eval_bert_score  eval_emb_cos_sim  eval_perplexity   \n",
       "0          0.664614         0.922113          0.913549         2.864121  \\\n",
       "1          0.664614         0.922113          0.913549         2.864121   \n",
       "2          0.664614         0.922113          0.913549         2.864121   \n",
       "3          0.664614         0.922113          0.913549         2.864121   \n",
       "4          0.664614         0.922113          0.913549         2.864121   \n",
       "\n",
       "   eval_runtime  eval_samples_per_second  eval_steps_per_second          temp   \n",
       "0       97.4374                    5.131                  0.041  1.000000e-19  \\\n",
       "1       53.6291                    9.323                  0.075  1.000000e-19   \n",
       "2       29.6616                   16.857                  0.135  1.000000e-19   \n",
       "3       18.2489                   27.399                  0.219  1.000000e-19   \n",
       "4       12.3650                   40.437                  0.323  1.000000e-19   \n",
       "\n",
       "   num_samples  \n",
       "0           16  \n",
       "1            8  \n",
       "2            4  \n",
       "3            2  \n",
       "4            1  "
      ]
     },
     "execution_count": 28,
     "metadata": {},
     "output_type": "execute_result"
    }
   ],
   "source": [
    "import pandas as pd\n",
    "\n",
    "df = pd.DataFrame(data)\n",
    "df.head()"
   ]
  },
  {
   "cell_type": "code",
   "execution_count": 29,
   "id": "516b9e93-06fe-4388-b387-3c6bfccf293a",
   "metadata": {},
   "outputs": [
    {
     "data": {
      "text/html": [
       "<div>\n",
       "<style scoped>\n",
       "    .dataframe tbody tr th:only-of-type {\n",
       "        vertical-align: middle;\n",
       "    }\n",
       "\n",
       "    .dataframe tbody tr th {\n",
       "        vertical-align: top;\n",
       "    }\n",
       "\n",
       "    .dataframe thead th {\n",
       "        text-align: right;\n",
       "    }\n",
       "</style>\n",
       "<table border=\"1\" class=\"dataframe\">\n",
       "  <thead>\n",
       "    <tr style=\"text-align: right;\">\n",
       "      <th>num_samples</th>\n",
       "      <th>1</th>\n",
       "      <th>2</th>\n",
       "      <th>4</th>\n",
       "      <th>8</th>\n",
       "      <th>16</th>\n",
       "    </tr>\n",
       "    <tr>\n",
       "      <th>temp</th>\n",
       "      <th></th>\n",
       "      <th></th>\n",
       "      <th></th>\n",
       "      <th></th>\n",
       "      <th></th>\n",
       "    </tr>\n",
       "  </thead>\n",
       "  <tbody>\n",
       "    <tr>\n",
       "      <th>1.000000e-19</th>\n",
       "      <td>33.980374</td>\n",
       "      <td>33.980374</td>\n",
       "      <td>33.980374</td>\n",
       "      <td>33.980374</td>\n",
       "      <td>33.980374</td>\n",
       "    </tr>\n",
       "    <tr>\n",
       "      <th>1.000000e-03</th>\n",
       "      <td>34.014956</td>\n",
       "      <td>33.992007</td>\n",
       "      <td>33.940989</td>\n",
       "      <td>33.846008</td>\n",
       "      <td>33.893838</td>\n",
       "    </tr>\n",
       "    <tr>\n",
       "      <th>1.000000e-02</th>\n",
       "      <td>33.844591</td>\n",
       "      <td>33.696034</td>\n",
       "      <td>33.625246</td>\n",
       "      <td>33.653909</td>\n",
       "      <td>33.760405</td>\n",
       "    </tr>\n",
       "    <tr>\n",
       "      <th>1.000000e-01</th>\n",
       "      <td>33.642460</td>\n",
       "      <td>34.198803</td>\n",
       "      <td>33.676462</td>\n",
       "      <td>34.022342</td>\n",
       "      <td>33.991115</td>\n",
       "    </tr>\n",
       "    <tr>\n",
       "      <th>1.000000e+00</th>\n",
       "      <td>33.013219</td>\n",
       "      <td>32.775569</td>\n",
       "      <td>32.921130</td>\n",
       "      <td>33.227183</td>\n",
       "      <td>33.269312</td>\n",
       "    </tr>\n",
       "  </tbody>\n",
       "</table>\n",
       "</div>"
      ],
      "text/plain": [
       "num_samples          1          2          4          8          16\n",
       "temp                                                               \n",
       "1.000000e-19  33.980374  33.980374  33.980374  33.980374  33.980374\n",
       "1.000000e-03  34.014956  33.992007  33.940989  33.846008  33.893838\n",
       "1.000000e-02  33.844591  33.696034  33.625246  33.653909  33.760405\n",
       "1.000000e-01  33.642460  34.198803  33.676462  34.022342  33.991115\n",
       "1.000000e+00  33.013219  32.775569  32.921130  33.227183  33.269312"
      ]
     },
     "execution_count": 29,
     "metadata": {},
     "output_type": "execute_result"
    }
   ],
   "source": [
    "df.pivot(index='temp', columns='num_samples', values='eval_bleu_score')"
   ]
  },
  {
   "cell_type": "code",
   "execution_count": 26,
   "id": "ec73d7be-d7bf-4f12-939c-368f33d1682c",
   "metadata": {},
   "outputs": [
    {
     "data": {
      "text/plain": [
       "<Axes: xlabel='num_samples', ylabel='temp'>"
      ]
     },
     "execution_count": 26,
     "metadata": {},
     "output_type": "execute_result"
    },
    {
     "data": {
      "image/png": "[encoded data removed]",
      "text/plain": [
       "<Figure size 640x480 with 2 Axes>"
      ]
     },
     "metadata": {},
     "output_type": "display_data"
    }
   ],
   "source": [
    "import seaborn as sns\n",
    "\n",
    "sns.heatmap(df.pivot(index='temp', columns='num_samples', values='eval_bleu_score'))"
   ]
  },
  {
   "cell_type": "code",
   "execution_count": 30,
   "id": "5e263733-3079-4ae2-86a5-02797b5644f9",
   "metadata": {},
   "outputs": [
    {
     "data": {
      "text/plain": [
       "<Axes: xlabel='num_samples'>"
      ]
     },
     "execution_count": 30,
     "metadata": {},
     "output_type": "execute_result"
    },
    {
     "data": {
      "image/png": "[encoded data removed]",
      "text/plain": [
       "<Figure size 640x480 with 1 Axes>"
      ]
     },
     "metadata": {},
     "output_type": "display_data"
    }
   ],
   "source": [
    "df.groupby('num_samples').mean().reset_index().plot(kind='line', x='num_samples', y='eval_bleu_score')"
   ]
  },
  {
   "cell_type": "code",
   "execution_count": 27,
   "id": "eb4b76df-5837-4020-837d-65ca0c408f07",
   "metadata": {},
   "outputs": [
    {
     "data": {
      "text/plain": [
       "<Axes: xlabel='temp'>"
      ]
     },
     "execution_count": 27,
     "metadata": {},
     "output_type": "execute_result"
    },
    {
     "data": {
      "image/png": "[encoded data removed]",
      "text/plain": [
       "<Figure size 640x480 with 1 Axes>"
      ]
     },
     "metadata": {},
     "output_type": "display_data"
    }
   ],
   "source": [
    "df.groupby('temp').mean().reset_index().plot(kind='line', x='temp', y='eval_bleu_score')"
   ]
  },
  {
   "cell_type": "markdown",
   "id": "6cf13bcb-4d3b-410b-aa09-ea09185a7793",
   "metadata": {},
   "source": [
    "## reranking"
   ]
  },
  {
   "cell_type": "code",
   "execution_count": 22,
   "id": "f79fde17-4357-400e-96e2-c4d5bd83e4e1",
   "metadata": {},
   "outputs": [
    {
     "name": "stderr",
     "output_type": "stream",
     "text": [
      "                                                                                                                                       \r"
     ]
    },
    {
     "name": "stdout",
     "output_type": "stream",
     "text": [
      "so so that the skull structures of the sutures of the infant are smooth and untidy, albeit with character. Those of infant\n",
      "to the character of the sutures of the skull which, like those of the infant skull, are relatively smooth and untortuous. In fact\n",
      "\n",
      "\n",
      "\n",
      "team of from the Southern Hemisphere in order to win the Winter medal for Australia. Also was hoped would won a national short relay individual\n",
      "individual from the Southern Hemisphere, to win a Winter Olympic gold medal and was also part of the short track relay team that won Australia'\n",
      "\n",
      "\n",
      "\n",
      "eight, 45% of the same rights as men, and 3 percentage disagree. They also agreed: Straight workers should and should NOT if under discriminations\n",
      "the same rights as straight people, while 15% disagreed. Additionally, 69% agreed that they should be protected from workplace discrimination. 13% of H\n"
     ]
    },
    {
     "data": {
      "text/plain": [
       "{'eval_loss': 2.732191801071167,\n",
       " 'eval_bleu_score': 12.351650367537667,\n",
       " 'eval_meteor_score': 0.4318333528819784,\n",
       " 'eval_rouge_score': 0.5204598284820936,\n",
       " 'eval_bert_score': 0.8863357178866863,\n",
       " 'eval_emb_cos_sim': 0.8777738809585571,\n",
       " 'eval_runtime': 522.551,\n",
       " 'eval_samples_per_second': 0.957,\n",
       " 'eval_steps_per_second': 0.031}"
      ]
     },
     "execution_count": 22,
     "metadata": {},
     "output_type": "execute_result"
    }
   ],
   "source": [
    "trainer.gen_kwargs = {\n",
    "    \"early_stopping\": False,\n",
    "    \"num_beams\": 1,\n",
    "    \"do_sample\": False,\n",
    "    \"no_repeat_ngram_size\": 0,\n",
    "}\n",
    "trainer.inversion_trainer.generation_strategy = \"none\"\n",
    "trainer.args.per_device_eval_batch_size = 32\n",
    "trainer.reranking_method = \"generate_before_embedder\"\n",
    "trainer.rerank_length = 1\n",
    "trainer.beam_width = 16\n",
    "trainer.evaluate(eval_dataset=trainer.eval_dataset[\"nq\"])"
   ]
  },
  {
   "cell_type": "code",
   "execution_count": null,
   "id": "d249477a-a059-4f0c-ab74-011e4e31204b",
   "metadata": {},
   "outputs": [
    {
     "data": {
      "text/html": [
       "\n",
       "    <div>\n",
       "      \n",
       "      <progress value='30' max='15' style='width:300px; height:20px; vertical-align: middle;'></progress>\n",
       "      [15/15 02:57]\n",
       "    </div>\n",
       "    "
      ],
      "text/plain": [
       "<IPython.core.display.HTML object>"
      ]
     },
     "metadata": {},
     "output_type": "display_data"
    },
    {
     "name": "stderr",
     "output_type": "stream",
     "text": [
      "                                                                                                                                       \r"
     ]
    },
    {
     "name": "stdout",
     "output_type": "stream",
     "text": [
      "to that of the skulls of infant sutures, which are relatively smooth and untidy, despite the character of the skull. Thus\n",
      "to the character of the sutures of the skull which, like those of the infant skull, are relatively smooth and untortuous. In fact\n",
      "\n",
      "\n",
      "\n",
      "individual from the Southern Hemisphere to win the Winter Olympic relay gold medal, and was also part of the Australian Short Track team which won a\n",
      "individual from the Southern Hemisphere, to win a Winter Olympic gold medal and was also part of the short track relay team that won Australia'\n",
      "\n",
      "\n",
      "\n",
      "the same rights as men, and 75% agreed that they should be protected from discrimination. Moreover, 35% disagreed with HRW, 15%\n",
      "the same rights as straight people, while 15% disagreed. Additionally, 69% agreed that they should be protected from workplace discrimination. 13% of H\n"
     ]
    },
    {
     "data": {
      "text/plain": [
       "{'eval_loss': 2.8056910037994385,\n",
       " 'eval_bleu_score': 33.7382881077494,\n",
       " 'eval_meteor_score': 0.59941239862588,\n",
       " 'eval_rouge_score': 0.663989812633714,\n",
       " 'eval_bert_score': 0.9226569040368001,\n",
       " 'eval_emb_cos_sim': 0.9162399768829346,\n",
       " 'eval_runtime': 43.2279,\n",
       " 'eval_samples_per_second': 11.567,\n",
       " 'eval_steps_per_second': 0.37}"
      ]
     },
     "execution_count": 38,
     "metadata": {},
     "output_type": "execute_result"
    }
   ],
   "source": [
    "trainer.gen_kwargs = {\n",
    "    \"early_stopping\": False,\n",
    "    \"num_beams\": 1,\n",
    "    \"do_sample\": False,\n",
    "    \"no_repeat_ngram_size\": 0,\n",
    "}\n",
    "trainer.inversion_trainer.generation_strategy = \"none\"\n",
    "trainer.args.per_device_eval_batch_size = 32\n",
    "trainer.reranking_method = \"none\"\n",
    "trainer.rerank_length = 16\n",
    "trainer.beam_width = 16\n",
    "trainer.evaluate(eval_dataset=trainer.eval_dataset[\"nq\"])"
   ]
  },
  {
   "cell_type": "code",
   "execution_count": 25,
   "id": "57fa3205-6e42-4d58-a3ff-c739fe641db0",
   "metadata": {},
   "outputs": [
    {
     "name": "stderr",
     "output_type": "stream",
     "text": [
      "                                                                                                                                                                                  \r"
     ]
    },
    {
     "name": "stdout",
     "output_type": "stream",
     "text": [
      "to that of the skulls of infant sutures, which are smooth and untoothful in the manner of the character of the skull. Nonetheless\n",
      "to the character of the sutures of the skull which, like those of the infant skull, are relatively smooth and untortuous. In fact\n",
      "\n",
      "\n",
      "\n",
      "individual from the Southern Hemisphere to win the Winter Olympic relay medal, and was also part of the Australian short track team which won a gold\n",
      "individual from the Southern Hemisphere, to win a Winter Olympic gold medal and was also part of the short track relay team that won Australia'\n",
      "\n",
      "\n",
      "\n",
      "the same rights as men, and 75% agreed that they should be protected from discrimination. Moreover, 35% disagreed on workplace rights, 15%\n",
      "the same rights as straight people, while 15% disagreed. Additionally, 69% agreed that they should be protected from workplace discrimination. 13% of H\n"
     ]
    },
    {
     "data": {
      "text/plain": [
       "{'eval_loss': 2.6700291633605957,\n",
       " 'eval_bleu_score': 32.657828664239176,\n",
       " 'eval_meteor_score': 0.6118215852303472,\n",
       " 'eval_rouge_score': 0.6762043708327548,\n",
       " 'eval_bert_score': 0.9234412812417553,\n",
       " 'eval_emb_cos_sim': 0.9278669357299805,\n",
       " 'eval_runtime': 95.4084,\n",
       " 'eval_samples_per_second': 5.241,\n",
       " 'eval_steps_per_second': 0.335}"
      ]
     },
     "execution_count": 25,
     "metadata": {},
     "output_type": "execute_result"
    }
   ],
   "source": [
    "trainer.gen_kwargs = {\n",
    "    \"early_stopping\": False,\n",
    "    \"num_beams\": 1,\n",
    "    \"do_sample\": False,\n",
    "    \"no_repeat_ngram_size\": 0,\n",
    "}\n",
    "trainer.inversion_trainer.generation_strategy = \"none\"\n",
    "trainer.args.per_device_eval_batch_size = 32\n",
    "trainer.reranking_method = \"generate_before_embedder\"\n",
    "trainer.rerank_length = 16\n",
    "trainer.beam_width = 16\n",
    "trainer.evaluate(eval_dataset=trainer.eval_dataset[\"nq\"])"
   ]
  },
  {
   "cell_type": "code",
   "execution_count": 17,
   "id": "f43e177a-d1de-48f5-8736-895b95e8cb54",
   "metadata": {},
   "outputs": [
    {
     "name": "stderr",
     "output_type": "stream",
     "text": [
      "                                                                                                                                       \r"
     ]
    },
    {
     "name": "stdout",
     "output_type": "stream",
     "text": [
      "so so that the skull structures of the sutures of the infant are smooth and untidy, albeit with character. Those of infant\n",
      "to the character of the sutures of the skull which, like those of the infant skull, are relatively smooth and untortuous. In fact\n",
      "\n",
      "\n",
      "\n",
      "team of from the Southern Hemisphere in order to win the Winter medal for Australia. Also was hoped would won a national short relay individual\n",
      "individual from the Southern Hemisphere, to win a Winter Olympic gold medal and was also part of the short track relay team that won Australia'\n",
      "\n",
      "\n",
      "\n",
      "eight, 45% of the same rights as men, and 3 percentage disagree. They also agreed: Straight workers should and should NOT if under discriminations\n",
      "the same rights as straight people, while 15% disagreed. Additionally, 69% agreed that they should be protected from workplace discrimination. 13% of H\n"
     ]
    },
    {
     "data": {
      "text/plain": [
       "{'eval_loss': 2.662400960922241,\n",
       " 'eval_bleu_score': 12.48089442841495,\n",
       " 'eval_meteor_score': 0.4323732976929585,\n",
       " 'eval_rouge_score': 0.5190900725140097,\n",
       " 'eval_bert_score': 0.8863928690552711,\n",
       " 'eval_emb_cos_sim': 0.8777738809585571,\n",
       " 'eval_runtime': 472.0953,\n",
       " 'eval_samples_per_second': 1.059,\n",
       " 'eval_steps_per_second': 0.017}"
      ]
     },
     "execution_count": 17,
     "metadata": {},
     "output_type": "execute_result"
    }
   ],
   "source": [
    "trainer.gen_kwargs = {\n",
    "    \"early_stopping\": False,\n",
    "    \"num_beams\": 1,\n",
    "    \"do_sample\": False,\n",
    "    \"no_repeat_ngram_size\": 0,\n",
    "}\n",
    "trainer.inversion_trainer.generation_strategy = \"none\"\n",
    "trainer.args.per_device_eval_batch_size = 64\n",
    "trainer.reranking_method = \"generate_before_embedder\"\n",
    "trainer.rerank_length = 1\n",
    "trainer.beam_width = 16\n",
    "trainer.evaluate(eval_dataset=trainer.eval_dataset[\"nq\"])"
   ]
  },
  {
   "cell_type": "code",
   "execution_count": 4,
   "id": "78a91051-1279-4d25-8d21-8266a5ff9095",
   "metadata": {},
   "outputs": [
    {
     "data": {
      "text/html": [
       "\n",
       "    <div>\n",
       "      \n",
       "      <progress value='32' max='7' style='width:300px; height:20px; vertical-align: middle;'></progress>\n",
       "      [7/7 14:07]\n",
       "    </div>\n",
       "    "
      ],
      "text/plain": [
       "<IPython.core.display.HTML object>"
      ]
     },
     "metadata": {},
     "output_type": "display_data"
    },
    {
     "name": "stderr",
     "output_type": "stream",
     "text": [
      "                                                                                                                                                                                    \r"
     ]
    },
    {
     "name": "stdout",
     "output_type": "stream",
     "text": [
      "to that of the skulls of infant sutures, which are smooth and untoothful in the manner of the character of the skull. Nonetheless\n",
      "to the character of the sutures of the skull which, like those of the infant skull, are relatively smooth and untortuous. In fact\n",
      "\n",
      "\n",
      "\n",
      "individual from the Southern Hemisphere to win the Winter Olympic relay medal, and was also part of the Australian short track team which won a gold\n",
      "individual from the Southern Hemisphere, to win a Winter Olympic gold medal and was also part of the short track relay team that won Australia'\n",
      "\n",
      "\n",
      "\n",
      "the same rights as men, and 75% agreed that they should be protected from discrimination. Moreover, 35% disagreed on workplace rights, 15%\n",
      "the same rights as straight people, while 15% disagreed. Additionally, 69% agreed that they should be protected from workplace discrimination. 13% of H\n"
     ]
    },
    {
     "data": {
      "text/plain": [
       "{'eval_loss': 2.8113934993743896,\n",
       " 'eval_bleu_score': 32.42965158820515,\n",
       " 'eval_meteor_score': 0.6068830702258511,\n",
       " 'eval_rouge_score': 0.6751781926461982,\n",
       " 'eval_bert_score': 0.9231860227882862,\n",
       " 'eval_emb_cos_sim': 0.9274370670318604,\n",
       " 'eval_runtime': 64.2297,\n",
       " 'eval_samples_per_second': 7.785,\n",
       " 'eval_steps_per_second': 0.125}"
      ]
     },
     "execution_count": 4,
     "metadata": {},
     "output_type": "execute_result"
    }
   ],
   "source": [
    "trainer.gen_kwargs = {\n",
    "    \"early_stopping\": False,\n",
    "    \"num_beams\": 1,\n",
    "    \"do_sample\": False,\n",
    "    \"no_repeat_ngram_size\": 0,\n",
    "}\n",
    "trainer.inversion_trainer.generation_strategy = \"none\"\n",
    "trainer.args.per_device_eval_batch_size = 64\n",
    "trainer.reranking_method = \"generate_before_embedder\"\n",
    "trainer.rerank_length = 16\n",
    "trainer.beam_width = 16\n",
    "trainer.evaluate(eval_dataset=trainer.eval_dataset[\"nq\"])"
   ]
  },
  {
   "cell_type": "code",
   "execution_count": 20,
   "id": "843380c0-6736-45a7-9fa0-fa2601ff50f1",
   "metadata": {},
   "outputs": [
    {
     "name": "stderr",
     "output_type": "stream",
     "text": [
      "                                                                                                                                       \r"
     ]
    },
    {
     "name": "stdout",
     "output_type": "stream",
     "text": [
      "to that of the skulls of infant sutures, which are relatively smooth and untidy, despite the character of the skull. Thus\n",
      "to the character of the sutures of the skull which, like those of the infant skull, are relatively smooth and untortuous. In fact\n",
      "\n",
      "\n",
      "\n",
      "individual hemisphere athlete from Australia to win a Winter Olympic medal, and was part of the Southern Hemisphere relay team, which won\n",
      "individual from the Southern Hemisphere, to win a Winter Olympic gold medal and was also part of the short track relay team that won Australia'\n",
      "\n",
      "\n",
      "\n",
      "the same rights as heterosexuals, and 75% disagreed on whether or not they should be protected from discrimination. A third 15% said workplace \n",
      "the same rights as straight people, while 15% disagreed. Additionally, 69% agreed that they should be protected from workplace discrimination. 13% of H\n"
     ]
    },
    {
     "data": {
      "text/plain": [
       "{'eval_loss': 2.7704854011535645,\n",
       " 'eval_bleu_score': 36.17090568651821,\n",
       " 'eval_meteor_score': 0.6226454139737699,\n",
       " 'eval_rouge_score': 0.6824202477710509,\n",
       " 'eval_bert_score': 0.9268465285588589,\n",
       " 'eval_emb_cos_sim': 0.9183868169784546,\n",
       " 'eval_runtime': 5830.4897,\n",
       " 'eval_samples_per_second': 0.086,\n",
       " 'eval_steps_per_second': 0.001}"
      ]
     },
     "execution_count": 20,
     "metadata": {},
     "output_type": "execute_result"
    }
   ],
   "source": [
    "trainer.gen_kwargs = {\n",
    "    \"early_stopping\": False,\n",
    "    \"num_beams\": 1,\n",
    "    \"do_sample\": False,\n",
    "    \"no_repeat_ngram_size\": 0,\n",
    "}\n",
    "trainer.inversion_trainer.generation_strategy = \"contrastive\"\n",
    "trainer.args.per_device_eval_batch_size = 64\n",
    "trainer.reranking_method = \"generate_before_embedder\"\n",
    "trainer.rerank_length = 1\n",
    "trainer.beam_width = 16\n",
    "trainer.evaluate(eval_dataset=trainer.eval_dataset[\"nq\"])"
   ]
  },
  {
   "cell_type": "code",
   "execution_count": 16,
   "id": "33522520-6d65-468f-9936-1c14d3b3039b",
   "metadata": {},
   "outputs": [
    {
     "name": "stderr",
     "output_type": "stream",
     "text": [
      "                                                                                                                                       \r"
     ]
    },
    {
     "name": "stdout",
     "output_type": "stream",
     "text": [
      "to that of the skulls of infant sutures, which are relatively smooth and untidy, despite the character of the skull. Thus\n",
      "to the character of the sutures of the skull which, like those of the infant skull, are relatively smooth and untortuous. In fact\n",
      "\n",
      "\n",
      "\n",
      "individual hemisphere athlete from Australia to win a Winter Olympic medal, and was part of the Southern Hemisphere relay team, which won\n",
      "individual from the Southern Hemisphere, to win a Winter Olympic gold medal and was also part of the short track relay team that won Australia'\n",
      "\n",
      "\n",
      "\n",
      "the same rights as heterosexuals, and 75% disagreed on whether or not they should be protected from discrimination. A third 15% said workplace \n",
      "the same rights as straight people, while 15% disagreed. Additionally, 69% agreed that they should be protected from workplace discrimination. 13% of H\n"
     ]
    },
    {
     "data": {
      "text/plain": [
       "{'eval_loss': 2.56622314453125,\n",
       " 'eval_bleu_score': 36.17090568651821,\n",
       " 'eval_meteor_score': 0.6226454139737699,\n",
       " 'eval_rouge_score': 0.6824202477710509,\n",
       " 'eval_bert_score': 0.9268465285588589,\n",
       " 'eval_emb_cos_sim': 0.9183868169784546,\n",
       " 'eval_runtime': 536.4012,\n",
       " 'eval_samples_per_second': 0.932,\n",
       " 'eval_steps_per_second': 0.015}"
      ]
     },
     "execution_count": 16,
     "metadata": {},
     "output_type": "execute_result"
    }
   ],
   "source": [
    "trainer.gen_kwargs = {\n",
    "    \"early_stopping\": False,\n",
    "    \"num_beams\": 1,\n",
    "    \"do_sample\": False,\n",
    "    \"no_repeat_ngram_size\": 0,\n",
    "}\n",
    "trainer.inversion_trainer.generation_strategy = \"contrastive\"\n",
    "trainer.args.per_device_eval_batch_size = 64\n",
    "trainer.reranking_method = \"generate_before_embedder\"\n",
    "trainer.rerank_length = 16\n",
    "trainer.beam_width = 16\n",
    "trainer.evaluate(eval_dataset=trainer.eval_dataset[\"nq\"])"
   ]
  },
  {
   "cell_type": "code",
   "execution_count": 7,
   "id": "c4be61d1-56e3-49fd-8f93-38e9416e3cac",
   "metadata": {},
   "outputs": [
    {
     "name": "stderr",
     "output_type": "stream",
     "text": [
      "                                                                                                                                                                                    \r"
     ]
    },
    {
     "name": "stdout",
     "output_type": "stream",
     "text": [
      "to that of the skulls of infant sutures, which are relatively smooth and untidy with the character of the skull. Nevertheless,\n",
      "to the character of the sutures of the skull which, like those of the infant skull, are relatively smooth and untortuous. In fact\n",
      "\n",
      "\n",
      "\n",
      "individual from the Southern Hemisphere to win a Winter Olympic gold medal, and was part of the Australian relay team which also won the short track\n",
      "individual from the Southern Hemisphere, to win a Winter Olympic gold medal and was also part of the short track relay team that won Australia'\n",
      "\n",
      "\n",
      "\n",
      "the same rights as heterosexuals, and 75% agreed that they should be protected from discrimination. Moreover, 35% disagreed with 15% workplace\n",
      "the same rights as straight people, while 15% disagreed. Additionally, 69% agreed that they should be protected from workplace discrimination. 13% of H\n"
     ]
    },
    {
     "data": {
      "text/plain": [
       "{'eval_loss': 2.6314074993133545,\n",
       " 'eval_bleu_score': 37.30432317305078,\n",
       " 'eval_meteor_score': 0.6347558470546024,\n",
       " 'eval_rouge_score': 0.6982239117045295,\n",
       " 'eval_bert_score': 0.928223092242011,\n",
       " 'eval_emb_cos_sim': 0.9327211380004883,\n",
       " 'eval_runtime': 44.1333,\n",
       " 'eval_samples_per_second': 11.329,\n",
       " 'eval_steps_per_second': 0.181}"
      ]
     },
     "execution_count": 7,
     "metadata": {},
     "output_type": "execute_result"
    }
   ],
   "source": [
    "trainer.gen_kwargs = {\n",
    "    \"early_stopping\": False,\n",
    "    \"num_beams\": 1,\n",
    "    \"do_sample\": False,\n",
    "    \"no_repeat_ngram_size\": 0,\n",
    "}\n",
    "trainer.inversion_trainer.generation_strategy = \"none\"\n",
    "trainer.args.per_device_eval_batch_size = 64\n",
    "trainer.reranking_method = \"generate_before_embedder\"\n",
    "trainer.rerank_length = 32\n",
    "trainer.beam_width = 16\n",
    "trainer.evaluate(eval_dataset=trainer.eval_dataset[\"nq\"])"
   ]
  },
  {
   "cell_type": "code",
   "execution_count": 9,
   "id": "513da7f1-dfd0-4ba3-ba20-9a0a305f0e81",
   "metadata": {},
   "outputs": [
    {
     "name": "stderr",
     "output_type": "stream",
     "text": [
      "                                                                                                                                                                                    \r"
     ]
    },
    {
     "name": "stdout",
     "output_type": "stream",
     "text": [
      "to that of the skulls of infant sutures, which are relatively smooth and untidy with the character of the skull. Nevertheless,\n",
      "to the character of the sutures of the skull which, like those of the infant skull, are relatively smooth and untortuous. In fact\n",
      "\n",
      "\n",
      "\n",
      "individual from the Southern Hemisphere to win a Winter Olympic gold medal, and was part of the Australian relay team which also won the short track\n",
      "individual from the Southern Hemisphere, to win a Winter Olympic gold medal and was also part of the short track relay team that won Australia'\n",
      "\n",
      "\n",
      "\n",
      "the same rights as heterosexuals, and 75% agreed that they should be protected from discrimination. Moreover, 35% disagreed with 15% workplace\n",
      "the same rights as straight people, while 15% disagreed. Additionally, 69% agreed that they should be protected from workplace discrimination. 13% of H\n"
     ]
    },
    {
     "data": {
      "text/plain": [
       "{'eval_loss': 2.409701108932495,\n",
       " 'eval_bleu_score': 37.31408476179798,\n",
       " 'eval_meteor_score': 0.63558615884971,\n",
       " 'eval_rouge_score': 0.6976911973310073,\n",
       " 'eval_bert_score': 0.9282049720486005,\n",
       " 'eval_emb_cos_sim': 0.9327211380004883,\n",
       " 'eval_runtime': 49.9268,\n",
       " 'eval_samples_per_second': 10.015,\n",
       " 'eval_steps_per_second': 0.32}"
      ]
     },
     "execution_count": 9,
     "metadata": {},
     "output_type": "execute_result"
    }
   ],
   "source": [
    "trainer.gen_kwargs = {\n",
    "    \"early_stopping\": False,\n",
    "    \"num_beams\": 1,\n",
    "    \"do_sample\": False,\n",
    "    \"no_repeat_ngram_size\": 0,\n",
    "}\n",
    "trainer.inversion_trainer.generation_strategy = \"none\"\n",
    "trainer.args.per_device_eval_batch_size = 32\n",
    "trainer.reranking_method = \"generate_before_embedder\"\n",
    "trainer.rerank_length = 32\n",
    "trainer.beam_width = 16\n",
    "trainer.evaluate(eval_dataset=trainer.eval_dataset[\"nq\"])"
   ]
  },
  {
   "cell_type": "code",
   "execution_count": 7,
   "id": "12ea6587-f436-4382-84d9-255e2519fba5",
   "metadata": {},
   "outputs": [
    {
     "name": "stderr",
     "output_type": "stream",
     "text": [
      "                                                                                                                                                                                    \r"
     ]
    },
    {
     "name": "stdout",
     "output_type": "stream",
     "text": [
      "to that of the skulls of infant sutures, which are relatively smooth and untidy, despite the character of the skull. Thus\n",
      "to the character of the sutures of the skull which, like those of the infant skull, are relatively smooth and untortuous. In fact\n",
      "\n",
      "\n",
      "\n",
      "individual hemisphere athlete from Australia to win a Winter Olympic medal, and was part of the Southern Hemisphere relay team, which won\n",
      "individual from the Southern Hemisphere, to win a Winter Olympic gold medal and was also part of the short track relay team that won Australia'\n",
      "\n",
      "\n",
      "\n",
      "the same rights as heterosexuals, and 75% disagreed on whether or not they should be protected from discrimination. A third 15% said workplace \n",
      "the same rights as straight people, while 15% disagreed. Additionally, 69% agreed that they should be protected from workplace discrimination. 13% of H\n"
     ]
    },
    {
     "data": {
      "text/plain": [
       "{'eval_loss': 2.4958713054656982,\n",
       " 'eval_bleu_score': 36.01008068549947,\n",
       " 'eval_meteor_score': 0.6223181267106277,\n",
       " 'eval_rouge_score': 0.6817921003145528,\n",
       " 'eval_bert_score': 0.9267037478586038,\n",
       " 'eval_emb_cos_sim': 0.9183868169784546,\n",
       " 'eval_runtime': 403.6876,\n",
       " 'eval_samples_per_second': 1.239,\n",
       " 'eval_steps_per_second': 0.04}"
      ]
     },
     "execution_count": 7,
     "metadata": {},
     "output_type": "execute_result"
    }
   ],
   "source": [
    "trainer.gen_kwargs = {\n",
    "    \"early_stopping\": False,\n",
    "    \"num_beams\": 1,\n",
    "    \"do_sample\": False,\n",
    "    \"no_repeat_ngram_size\": 0,\n",
    "}\n",
    "trainer.inversion_trainer.generation_strategy = \"contrastive\"\n",
    "trainer.args.per_device_eval_batch_size = 32\n",
    "trainer.reranking_method = \"generate_before_embedder\"\n",
    "trainer.rerank_length = 32\n",
    "trainer.beam_width = 16\n",
    "trainer.evaluate(eval_dataset=trainer.eval_dataset[\"nq\"])"
   ]
  },
  {
   "cell_type": "markdown",
   "id": "798263ae-bbdc-4bbf-904f-dad1f0b2dc13",
   "metadata": {},
   "source": [
    "## debugging"
   ]
  },
  {
   "cell_type": "code",
   "execution_count": 11,
   "id": "cd9cb6ed-2eeb-45b6-9af9-ca23e221d3cd",
   "metadata": {},
   "outputs": [
    {
     "name": "stderr",
     "output_type": "stream",
     "text": [
      "                                                                                                                                                                                    \r"
     ]
    },
    {
     "name": "stdout",
     "output_type": "stream",
     "text": [
      "to the character of the skull, which are relatively smooth and untutuous in the case of infant sutures. Unlike the sutures,\n",
      "to the character of the sutures of the skull which, like those of the infant skull, are relatively smooth and untortuous. In fact\n",
      "\n",
      "\n",
      "\n",
      "individual from the Southern Hemisphere to win the Winter Olympic relay gold medal, and was also part of the Australian Short Track team, which won gold\n",
      "individual from the Southern Hemisphere, to win a Winter Olympic gold medal and was also part of the short track relay team that won Australia'\n",
      "\n",
      "\n",
      "\n",
      "the same rights as men, and 75% agreed that they should be protected from discrimination. Among the other 15%, gay workers are no longer exp\n",
      "the same rights as straight people, while 15% disagreed. Additionally, 69% agreed that they should be protected from workplace discrimination. 13% of H\n"
     ]
    },
    {
     "data": {
      "text/plain": [
       "{'eval_loss': 0.6476624608039856,\n",
       " 'eval_bleu_score': 31.508519531622497,\n",
       " 'eval_meteor_score': 0.5777878236499789,\n",
       " 'eval_rouge_score': 0.6416245218083846,\n",
       " 'eval_bert_score': 0.917289828757445,\n",
       " 'eval_emb_cos_sim': 0.9062262773513794,\n",
       " 'eval_runtime': 12.48,\n",
       " 'eval_samples_per_second': 40.064,\n",
       " 'eval_steps_per_second': 1.282}"
      ]
     },
     "execution_count": 11,
     "metadata": {},
     "output_type": "execute_result"
    }
   ],
   "source": [
    "trainer.gen_kwargs = {\n",
    "    \"early_stopping\": False,\n",
    "    \"num_beams\": 1,\n",
    "    \"do_sample\": False,\n",
    "    \"no_repeat_ngram_size\": 0,\n",
    "}\n",
    "trainer.inversion_trainer.generation_strategy = \"none\"\n",
    "trainer.args.per_device_eval_batch_size = 32\n",
    "trainer.reranking_method = \"none\"\n",
    "trainer.rerank_length = 32\n",
    "trainer.beam_width = 1\n",
    "trainer.evaluate(eval_dataset=trainer.eval_dataset[\"nq\"])"
   ]
  },
  {
   "cell_type": "code",
   "execution_count": null,
   "id": "6f9448ca-0843-48a7-b558-ca87e0fd2962",
   "metadata": {},
   "outputs": [],
   "source": []
  }
 ],
 "metadata": {
  "kernelspec": {
   "display_name": "Python 3 (ipykernel)",
   "language": "python",
   "name": "python3"
  },
  "language_info": {
   "codemirror_mode": {
    "name": "ipython",
    "version": 3
   },
   "file_extension": ".py",
   "mimetype": "text/x-python",
   "name": "python",
   "nbconvert_exporter": "python",
   "pygments_lexer": "ipython3",
   "version": "3.10.10"
  }
 },
 "nbformat": 4,
 "nbformat_minor": 5
}
