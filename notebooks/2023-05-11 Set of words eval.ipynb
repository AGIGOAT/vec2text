{
 "cells": [
  {
   "cell_type": "code",
   "execution_count": 2,
   "id": "3c99ef4b-d1b4-46a2-92c0-386485d357d7",
   "metadata": {},
   "outputs": [],
   "source": [
    "import os\n",
    "os.environ[\"WANDB_DISABLED\"] = \"true\"\n",
    "\n",
    "import sys\n",
    "# sys.path = ['/home/jxm3/research/retrieval/inversion'] + sys.path\n",
    "sys.path = [\n",
    "    p for p in sys.path\n",
    "    if p not in ['/home/jxm3/research/prompting/imodelsX', '/home/jxm3/research/prompting/tree-prompt']\n",
    "]\n",
    "sys.path.append('/home/jxm3/research/retrieval/inversion')\n",
    "\n",
    "%load_ext autoreload\n",
    "%autoreload 2"
   ]
  },
  {
   "cell_type": "code",
   "execution_count": 3,
   "id": "add75d21-5277-4dd8-af15-48593ba5b3f3",
   "metadata": {},
   "outputs": [
    {
     "name": "stdout",
     "output_type": "stream",
     "text": [
      "['/home/jxm3/research/retrieval/inversion/notebooks', '/home/jxm3/.conda/envs/torch/lib/python310.zip', '/home/jxm3/.conda/envs/torch/lib/python3.10', '/home/jxm3/.conda/envs/torch/lib/python3.10/lib-dynload', '', '/home/jxm3/.conda/envs/torch/lib/python3.10/site-packages', '/home/jxm3/random/slurmpy', '/home/jxm3/.conda/envs/torch/lib/python3.10/site-packages/mpmath-1.2.1-py3.10.egg', '/home/jxm3/research/retrieval/inversion']\n"
     ]
    }
   ],
   "source": [
    "print(sys.path)"
   ]
  },
  {
   "cell_type": "code",
   "execution_count": 21,
   "id": "352ad2e8-a404-4bae-b7d1-681de2afc6f1",
   "metadata": {},
   "outputs": [
    {
     "name": "stdout",
     "output_type": "stream",
     "text": [
      "Loading trainer for analysis – setting --do_eval=1\n"
     ]
    },
    {
     "data": {
      "application/vnd.jupyter.widget-view+json": {
       "model_id": "ed02529126fd4b1bb8ee147f8a591917",
       "version_major": 2,
       "version_minor": 0
      },
      "text/plain": [
       "  0%|          | 0/2 [00:00<?, ?it/s]"
      ]
     },
     "metadata": {},
     "output_type": "display_data"
    },
    {
     "data": {
      "application/vnd.jupyter.widget-view+json": {
       "model_id": "4f55633691ff46d99d099eb3ca27f8ca",
       "version_major": 2,
       "version_minor": 0
      },
      "text/plain": [
       "  0%|          | 0/3 [00:00<?, ?it/s]"
      ]
     },
     "metadata": {},
     "output_type": "display_data"
    },
    {
     "data": {
      "application/vnd.jupyter.widget-view+json": {
       "model_id": "cc803f142696481881e5c2c877cac29a",
       "version_major": 2,
       "version_minor": 0
      },
      "text/plain": [
       "  0%|          | 0/3 [00:00<?, ?it/s]"
      ]
     },
     "metadata": {},
     "output_type": "display_data"
    },
    {
     "data": {
      "application/vnd.jupyter.widget-view+json": {
       "model_id": "46eaa84bb0584b4fb3c6674994bd0451",
       "version_major": 2,
       "version_minor": 0
      },
      "text/plain": [
       "  0%|          | 0/3 [00:00<?, ?it/s]"
      ]
     },
     "metadata": {},
     "output_type": "display_data"
    },
    {
     "name": "stderr",
     "output_type": "stream",
     "text": [
      "[nltk_data] Downloading package wordnet to /home/jxm3/nltk_data...\n",
      "[nltk_data]   Package wordnet is already up-to-date!\n",
      "[nltk_data] Downloading package punkt to /home/jxm3/nltk_data...\n",
      "[nltk_data]   Package punkt is already up-to-date!\n",
      "[nltk_data] Downloading package omw-1.4 to /home/jxm3/nltk_data...\n",
      "[nltk_data]   Package omw-1.4 is already up-to-date!\n"
     ]
    },
    {
     "name": "stdout",
     "output_type": "stream",
     "text": [
      "================ Begin trainer sanity check ================\n",
      "\tInput to encode -> Twas brillig, and the slithy toves, Did gyre and gimble in the wabe, All mimsy were the borogoves, And the mome raths outgrabe.\n",
      "\tDecoded output -> sy, b theblee andmg. wast mobri boreberl of Theberdbiere came wereworite ma so gr; toly sia bemosliesiesgla plzieerskingdigbble' ininleby Go\n",
      "================ End trainer sanity check ================\n"
     ]
    }
   ],
   "source": [
    "import analyze_utils\n",
    "\n",
    "# https://wandb.ai/jack-morris/emb-inv-bow-1/runs/a765aaaf0a0e689659a5a6a00f6a2e84/overview?workspace=user-jxmorris12\n",
    "checkpoint_folder = \"/home/jxm3/research/retrieval/inversion/saves/4fbfb4a93eb0d64d3ca837b17d0a47d3/\"\n",
    "bow_trainer = analyze_utils.load_trainer(checkpoint_folder)"
   ]
  },
  {
   "cell_type": "code",
   "execution_count": 19,
   "id": "b2ee3314-2057-409b-99ca-14010f427597",
   "metadata": {},
   "outputs": [
    {
     "name": "stdout",
     "output_type": "stream",
     "text": [
      "Loading trainer for analysis – setting --do_eval=1\n"
     ]
    },
    {
     "data": {
      "application/vnd.jupyter.widget-view+json": {
       "model_id": "6fb59efeebe449cda6744ee23443783e",
       "version_major": 2,
       "version_minor": 0
      },
      "text/plain": [
       "  0%|          | 0/2 [00:00<?, ?it/s]"
      ]
     },
     "metadata": {},
     "output_type": "display_data"
    },
    {
     "data": {
      "application/vnd.jupyter.widget-view+json": {
       "model_id": "a8cfa2443dae4eab963e8470354e33f0",
       "version_major": 2,
       "version_minor": 0
      },
      "text/plain": [
       "  0%|          | 0/3 [00:00<?, ?it/s]"
      ]
     },
     "metadata": {},
     "output_type": "display_data"
    },
    {
     "data": {
      "application/vnd.jupyter.widget-view+json": {
       "model_id": "634f1b0c5067498d8c63b210b81a5b5d",
       "version_major": 2,
       "version_minor": 0
      },
      "text/plain": [
       "  0%|          | 0/3 [00:00<?, ?it/s]"
      ]
     },
     "metadata": {},
     "output_type": "display_data"
    },
    {
     "data": {
      "application/vnd.jupyter.widget-view+json": {
       "model_id": "aaa05005f13749e692c14dc7ee990d39",
       "version_major": 2,
       "version_minor": 0
      },
      "text/plain": [
       "  0%|          | 0/3 [00:00<?, ?it/s]"
      ]
     },
     "metadata": {},
     "output_type": "display_data"
    },
    {
     "name": "stderr",
     "output_type": "stream",
     "text": [
      "[nltk_data] Downloading package wordnet to /home/jxm3/nltk_data...\n",
      "[nltk_data]   Package wordnet is already up-to-date!\n",
      "[nltk_data] Downloading package punkt to /home/jxm3/nltk_data...\n",
      "[nltk_data]   Package punkt is already up-to-date!\n",
      "[nltk_data] Downloading package omw-1.4 to /home/jxm3/nltk_data...\n",
      "[nltk_data]   Package omw-1.4 is already up-to-date!\n"
     ]
    },
    {
     "name": "stdout",
     "output_type": "stream",
     "text": [
      "================ Begin trainer sanity check ================\n",
      "\tInput to encode -> Twas brillig, and the slithy toves, Did gyre and gimble in the wabe, All mimsy were the borogoves, And the mome raths outgrabe.\n",
      "\tDecoded output ->                                                          \n",
      "================ End trainer sanity check ================\n"
     ]
    }
   ],
   "source": [
    "# https://wandb.ai/jack-morris/emb-inv-na-1/runs/d6615cef86e29ffe16ec21ca3f400fa7/overview?workspace=user-jxmorris12\n",
    "checkpoint_folder = \"/home/jxm3/research/retrieval/inversion/saves/f4dca1340ce8c4d0ca7ee8fd5df91a63\"\n",
    "na_trainer = analyze_utils.load_trainer(checkpoint_folder)"
   ]
  },
  {
   "cell_type": "code",
   "execution_count": 30,
   "id": "6590d20e-39bb-437c-a6ae-3375e5fb6b83",
   "metadata": {},
   "outputs": [
    {
     "name": "stdout",
     "output_type": "stream",
     "text": [
      "Loading trainer for analysis – setting --do_eval=1\n",
      "loading alias dpr_nq__msl32_beta from /home/jxm3/research/retrieval/inversion/saves/db66b9c01b644541fedbdcc59c53a285/ebb31d91810c4b62d2b55b5382e8c7ea...\n",
      "Set train_args.dataloader_num_workers = 4\n"
     ]
    },
    {
     "name": "stderr",
     "output_type": "stream",
     "text": [
      "/home/jxm3/.conda/envs/torch/lib/python3.10/site-packages/transformers/models/t5/tokenization_t5_fast.py:155: FutureWarning: This tokenizer was incorrectly instantiated with a model max length of 512 which will be corrected in Transformers v5.\n",
      "For now, this behavior is kept to avoid breaking backwards compatibility when padding/encoding with `truncation is True`.\n",
      "- Be aware that you SHOULD NOT rely on t5-base automatically truncating your input to 512 when padding/encoding.\n",
      "- If you want to encode/pad to sequences longer than 512 you can either instantiate this tokenizer with `model_max_length` or pass `max_length` when encoding/padding.\n",
      "- To avoid this warning, please instantiate this tokenizer with `model_max_length` set to your preferred value.\n",
      "  warnings.warn(\n"
     ]
    },
    {
     "data": {
      "application/vnd.jupyter.widget-view+json": {
       "model_id": "15d809cc645a43e1a4ab14065a2e7ec8",
       "version_major": 2,
       "version_minor": 0
      },
      "text/plain": [
       "  0%|          | 0/2 [00:00<?, ?it/s]"
      ]
     },
     "metadata": {},
     "output_type": "display_data"
    },
    {
     "data": {
      "application/vnd.jupyter.widget-view+json": {
       "model_id": "55eb788ade364c1590c4dd0c4c94d4ac",
       "version_major": 2,
       "version_minor": 0
      },
      "text/plain": [
       "  0%|          | 0/3 [00:00<?, ?it/s]"
      ]
     },
     "metadata": {},
     "output_type": "display_data"
    },
    {
     "data": {
      "application/vnd.jupyter.widget-view+json": {
       "model_id": "be780756938940b7b05a94eb9c14d5d8",
       "version_major": 2,
       "version_minor": 0
      },
      "text/plain": [
       "  0%|          | 0/3 [00:00<?, ?it/s]"
      ]
     },
     "metadata": {},
     "output_type": "display_data"
    },
    {
     "data": {
      "application/vnd.jupyter.widget-view+json": {
       "model_id": "3fb6af82f4fd4b8db8b78adf5493948c",
       "version_major": 2,
       "version_minor": 0
      },
      "text/plain": [
       "  0%|          | 0/3 [00:00<?, ?it/s]"
      ]
     },
     "metadata": {},
     "output_type": "display_data"
    },
    {
     "name": "stderr",
     "output_type": "stream",
     "text": [
      "[nltk_data] Downloading package wordnet to /home/jxm3/nltk_data...\n",
      "[nltk_data]   Package wordnet is already up-to-date!\n",
      "[nltk_data] Downloading package punkt to /home/jxm3/nltk_data...\n",
      "[nltk_data]   Package punkt is already up-to-date!\n",
      "[nltk_data] Downloading package omw-1.4 to /home/jxm3/nltk_data...\n",
      "[nltk_data]   Package omw-1.4 is already up-to-date!\n"
     ]
    },
    {
     "name": "stdout",
     "output_type": "stream",
     "text": [
      "================ Begin trainer sanity check ================\n",
      "\tInput to encode -> Twas brillig, and the slithy toves, Did gyre and gimble in the wabe, All mimsy were the borogoves, And the mome raths outgrabe.\n",
      "\tDecoded output -> The mlbies wase wyst bograge; And the sliths and toms wre\n",
      "================ End trainer sanity check ================\n"
     ]
    },
    {
     "name": "stderr",
     "output_type": "stream",
     "text": [
      "[nltk_data] Downloading package wordnet to /home/jxm3/nltk_data...\n",
      "[nltk_data]   Package wordnet is already up-to-date!\n",
      "[nltk_data] Downloading package punkt to /home/jxm3/nltk_data...\n",
      "[nltk_data]   Package punkt is already up-to-date!\n",
      "[nltk_data] Downloading package omw-1.4 to /home/jxm3/nltk_data...\n",
      "[nltk_data]   Package omw-1.4 is already up-to-date!\n"
     ]
    }
   ],
   "source": [
    "checkpoint_folder = \"/home/jxm3/research/retrieval/inversion/saves/98b1418d38c3f9333b17ab20bff06ff9/\"\n",
    "ar_trainer = analyze_utils.load_trainer(checkpoint_folder).inversion_trainer"
   ]
  },
  {
   "cell_type": "code",
   "execution_count": 25,
   "id": "aff261da-60f0-4992-a460-580505b663ef",
   "metadata": {},
   "outputs": [
    {
     "data": {
      "text/html": [
       "\n",
       "    <div>\n",
       "      \n",
       "      <progress value='2' max='1' style='width:300px; height:20px; vertical-align: middle;'></progress>\n",
       "      [1/1 02:45]\n",
       "    </div>\n",
       "    "
      ],
      "text/plain": [
       "<IPython.core.display.HTML object>"
      ]
     },
     "metadata": {},
     "output_type": "display_data"
    },
    {
     "name": "stderr",
     "output_type": "stream",
     "text": [
      "                                                                                                                                              \r"
     ]
    },
    {
     "name": "stdout",
     "output_type": "stream",
     "text": [
      "of the skullt the the the the the the the the the the the the the the the the the the the the the the the the the. \n",
      "to the character of the sutures of the skull which, like those of the infant skull, are relatively smooth and untortuous. In fact\n",
      "\n",
      "\n",
      "\n",
      "individual win the the the the the the the the the the the the the the the the the the the the the the the the the the the the medal\n",
      "individual from the Southern Hemisphere, to win a Winter Olympic gold medal and was also part of the short track relay team that won Australia'\n",
      "\n",
      "\n",
      "\n",
      "a  of,,,,          discrimin discrimin discrimin discrimin   .... the\n",
      "the same rights as straight people, while 15% disagreed. Additionally, 69% agreed that they should be protected from workplace discrimination. 13% of H\n"
     ]
    },
    {
     "name": "stderr",
     "output_type": "stream",
     "text": [
      "Warning: Empty candidate sentence detected; setting raw BERTscores to 0.\n",
      "Warning: Empty candidate sentence detected; setting raw BERTscores to 0.\n"
     ]
    },
    {
     "data": {
      "text/plain": [
       "{'eval_loss': 5.58335018157959,\n",
       " 'eval_accuracy': 0.113375,\n",
       " 'eval_bleu_score': 3.240704426064768,\n",
       " 'eval_meteor_score': 0.11695989867476031,\n",
       " 'eval_rouge_score': 0.18113359855017483,\n",
       " 'eval_bert_score': 0.7565003763437271,\n",
       " 'eval_emb_cos_sim': 0.3631995618343353,\n",
       " 'eval_perplexity': 265.9611330040708,\n",
       " 'eval_runtime': 6.6039,\n",
       " 'eval_samples_per_second': 75.712,\n",
       " 'eval_steps_per_second': 0.151}"
      ]
     },
     "execution_count": 25,
     "metadata": {},
     "output_type": "execute_result"
    }
   ],
   "source": [
    "na_trainer.evaluate(\n",
    "    eval_dataset=na_trainer.eval_dataset[\"nq\"]\n",
    ")"
   ]
  },
  {
   "cell_type": "code",
   "execution_count": 24,
   "id": "023f3ccf-bea0-41a9-b2dc-212c893813b6",
   "metadata": {},
   "outputs": [
    {
     "name": "stderr",
     "output_type": "stream",
     "text": [
      "                                                                                                                                              \r"
     ]
    },
    {
     "name": "stdout",
     "output_type": "stream",
     "text": [
      "skull of smooth the.s, and infantural bones mannert that toa softletonular in aretraumatic The unlike with detailsul character remains\n",
      "to the character of the sutures of the skull which, like those of the infant skull, are relatively smooth and untortuous. In fact\n",
      "\n",
      "\n",
      "\n",
      "Winter the  to won winter South and win was team, medal Australiaa who Australian He. for of gold World individual in S Northern Team Olympics from-\n",
      "individual from the Southern Hemisphere, to win a Winter Olympic gold medal and was also part of the short track relay team that won Australia'\n",
      "\n",
      "\n",
      "\n",
      "rights. equality and discrimin workers,  workplace gay protected LGBTs the of to work that right equal same employees straight agreeda they agree should peopled were\n",
      "the same rights as straight people, while 15% disagreed. Additionally, 69% agreed that they should be protected from workplace discrimination. 13% of H\n"
     ]
    },
    {
     "data": {
      "text/plain": [
       "{'eval_loss': 0.0023660382721573114,\n",
       " 'eval_bleu_score': 0.30800504075285257,\n",
       " 'eval_meteor_score': 0.222961078407515,\n",
       " 'eval_rouge_score': 0.3596046073030128,\n",
       " 'eval_bert_score': 0.8157957612276078,\n",
       " 'eval_emb_cos_sim': 0.704466700553894,\n",
       " 'eval_runtime': 4.6071,\n",
       " 'eval_samples_per_second': 108.529,\n",
       " 'eval_steps_per_second': 0.217}"
      ]
     },
     "execution_count": 24,
     "metadata": {},
     "output_type": "execute_result"
    }
   ],
   "source": [
    "bow_trainer.evaluate(\n",
    "    eval_dataset=na_trainer.eval_dataset[\"nq\"]\n",
    ")"
   ]
  },
  {
   "cell_type": "code",
   "execution_count": null,
   "id": "21a22d8e-2777-4aee-960e-6b32790de195",
   "metadata": {},
   "outputs": [
    {
     "name": "stderr",
     "output_type": "stream",
     "text": [
      "                                                                                                                                              \r"
     ]
    },
    {
     "name": "stdout",
     "output_type": "stream",
     "text": [
      "to the character of the skull, which are relatively smooth and untutuous in the case of infant sutures. Unlike the sutures,\n",
      "to the character of the sutures of the skull which, like those of the infant skull, are relatively smooth and untortuous. In fact\n",
      "\n",
      "\n",
      "\n",
      "individual from the Southern Hemisphere to win the Winter Olympic relay gold medal, and was also part of the Australian Short Track team, which won gold\n",
      "individual from the Southern Hemisphere, to win a Winter Olympic gold medal and was also part of the short track relay team that won Australia'\n",
      "\n",
      "\n",
      "\n",
      "the same rights as men, and 75% agreed that they should be protected from discrimination. Among the other 15%, gay workers are no longer exp\n",
      "the same rights as straight people, while 15% disagreed. Additionally, 69% agreed that they should be protected from workplace discrimination. 13% of H\n"
     ]
    },
    {
     "data": {
      "text/plain": [
       "{'eval_loss': 1.0522613525390625,\n",
       " 'eval_accuracy': 0.7386067708333334,\n",
       " 'eval_bleu_score': 31.876985502984844,\n",
       " 'eval_meteor_score': 0.5792206976897826,\n",
       " 'eval_rouge_score': 0.6414878805144706,\n",
       " 'eval_bert_score': 0.9177108290605247,\n",
       " 'eval_emb_cos_sim': 0.9062262773513794,\n",
       " 'eval_perplexity': 2.8641205867926014,\n",
       " 'eval_runtime': 6.1752,\n",
       " 'eval_samples_per_second': 80.969,\n",
       " 'eval_steps_per_second': 0.648}"
      ]
     },
     "execution_count": 33,
     "metadata": {},
     "output_type": "execute_result"
    }
   ],
   "source": [
    "ar_trainer.gen_kwargs = {\n",
    "    'early_stopping': False,\n",
    "    'num_beams': 1,\n",
    "    'do_sample': False,\n",
    "    'no_repeat_ngram_size': 0\n",
    "}\n",
    "ar_trainer.evaluate(\n",
    "    eval_dataset=na_trainer.eval_dataset[\"nq\"]\n",
    ")"
   ]
  },
  {
   "cell_type": "code",
   "execution_count": 42,
   "id": "0d3325d5-7222-4f76-83eb-1216778995b0",
   "metadata": {},
   "outputs": [
    {
     "name": "stderr",
     "output_type": "stream",
     "text": [
      "                                                                                                                                              \r"
     ]
    },
    {
     "name": "stdout",
     "output_type": "stream",
     "text": [
      "1865. After her death, Fisk married her sister, Simona, on August 1, 1865. Deaf Smith moved to the North American\n",
      "1839. After her death, Fisk married her sister, Simona, on August 1, 1849. Deaf Smith moved freely between Anglo\n",
      "\n",
      "\n",
      "\n",
      "In 1978, he was a member of the Russian Composers' Society. He was commissioned by the Soviet Broadcasting Corporation in\n",
      "in 1978 he was a member of the Soviet Composer's Society in Moscow. He obtained commissions from the Russian Broadcasting Corporation\n",
      "\n",
      "\n",
      "\n",
      "Zachary Throne Zachary Throne (born September 3, 1970 in Hollywood, California) is an American actor, who has appeared in television and\n",
      "Zachary Throne Zachary Throne (born April 3, 1967 in Hollywood, California) is an American actor and musician who has appeared in \n"
     ]
    },
    {
     "data": {
      "text/plain": [
       "{'eval_loss': 0.6534275412559509,\n",
       " 'eval_accuracy': 0.84375,\n",
       " 'eval_bleu_score': 55.93858920365336,\n",
       " 'eval_meteor_score': 0.7818736704848875,\n",
       " 'eval_rouge_score': 0.778998778998779,\n",
       " 'eval_bert_score': 0.964794913927714,\n",
       " 'eval_emb_cos_sim': 0.9597460031509399,\n",
       " 'eval_perplexity': 1.9221176890235423,\n",
       " 'eval_runtime': 3.3427,\n",
       " 'eval_samples_per_second': 0.897,\n",
       " 'eval_steps_per_second': 0.897}"
      ]
     },
     "execution_count": 42,
     "metadata": {},
     "output_type": "execute_result"
    }
   ],
   "source": [
    "ar_trainer.gen_kwargs = {\n",
    "'early_stopping': False,\n",
    " 'num_beams': 64,\n",
    " 'do_sample': False,\n",
    " 'no_repeat_ngram_size': 0\n",
    "}\n",
    "ar_trainer.args.per_device_eval_batch_size = 1\n",
    "ar_trainer.evaluate(\n",
    "    eval_dataset=na_trainer.eval_dataset[\"nq\"].select([5, 6, 7])\n",
    ")"
   ]
  },
  {
   "cell_type": "code",
   "execution_count": 56,
   "id": "8b5cd713-9c2c-4386-8d8f-883345dbb1c4",
   "metadata": {},
   "outputs": [
    {
     "data": {
      "text/plain": [
       "4096"
      ]
     },
     "execution_count": 56,
     "metadata": {},
     "output_type": "execute_result"
    }
   ],
   "source": [
    "256*16"
   ]
  },
  {
   "cell_type": "code",
   "execution_count": 60,
   "id": "d76cbae1-f9df-4aba-8c5f-fef2173ee703",
   "metadata": {},
   "outputs": [
    {
     "data": {
      "text/plain": [
       "32"
      ]
     },
     "execution_count": 60,
     "metadata": {},
     "output_type": "execute_result"
    }
   ],
   "source": [
    "len(ar_trainer.embedder_tokenizer.encode(\"was made by \\\"Kavira Wala\\\" (Vita ruler) of Khyber Pakhtunkhwa in October 18\"))"
   ]
  },
  {
   "cell_type": "code",
   "execution_count": 61,
   "id": "6657cb2a-67b9-44a4-96b6-2bc578cf3d7a",
   "metadata": {},
   "outputs": [
    {
     "data": {
      "text/plain": [
       "32"
      ]
     },
     "execution_count": 61,
     "metadata": {},
     "output_type": "execute_result"
    }
   ],
   "source": [
    "len(ar_trainer.embedder_tokenizer.encode(\"was made by Vira Wala (Kathi Ruler) of Jetpur with Colonel Walker at Baroda on 26 October 1803.\"))"
   ]
  },
  {
   "cell_type": "code",
   "execution_count": 78,
   "id": "cd949e35-e09b-49e0-8b76-a7c4a6d34d04",
   "metadata": {},
   "outputs": [
    {
     "name": "stderr",
     "output_type": "stream",
     "text": [
      "                                                                                                                                              \r"
     ]
    },
    {
     "name": "stdout",
     "output_type": "stream",
     "text": [
      "was made by \"Vira Wala\" (Kathi Ruler) of Chowdhury with Mohammad Puri in October 18\n",
      "was made by Vira Wala (Kathi Ruler) of Jetpur with Colonel Walker at Baroda on 26 October 1803.\n",
      "\n",
      "\n",
      "\n",
      "was made by \"Vira Wala\" (Kathi Ruler) of Chowdhury with Mohammad Puri in October 18\n",
      "was made by Vira Wala (Kathi Ruler) of Jetpur with Colonel Walker at Baroda on 26 October 1803.\n",
      "\n",
      "\n",
      "\n",
      "was made by \"Vira Wala\" (Kathi Ruler) of Chowdhury with Mohammad Puri in October 18\n",
      "was made by Vira Wala (Kathi Ruler) of Jetpur with Colonel Walker at Baroda on 26 October 1803.\n"
     ]
    },
    {
     "data": {
      "text/plain": [
       "{'eval_loss': 1.3415170907974243,\n",
       " 'eval_accuracy': 0.71875,\n",
       " 'eval_bleu_score': 26.24087769829642,\n",
       " 'eval_meteor_score': 0.5560563568376068,\n",
       " 'eval_rouge_score': 0.606060606060606,\n",
       " 'eval_bert_score': 0.9240144491195679,\n",
       " 'eval_emb_cos_sim': 0.921875,\n",
       " 'eval_perplexity': 3.8248417382340687,\n",
       " 'eval_runtime': 4.7639,\n",
       " 'eval_samples_per_second': 0.63,\n",
       " 'eval_steps_per_second': 0.63}"
      ]
     },
     "execution_count": 78,
     "metadata": {},
     "output_type": "execute_result"
    }
   ],
   "source": [
    "ar_trainer.gen_kwargs = {\n",
    "'early_stopping': False,\n",
    " 'num_beams': 256,\n",
    " 'do_sample': False,\n",
    " 'no_repeat_ngram_size': 0\n",
    "}\n",
    "ar_trainer.args.bf16_full_eval = True \n",
    "ar_trainer.args.per_device_eval_batch_size = 1\n",
    "ar_trainer.evaluate(\n",
    "    eval_dataset=na_trainer.eval_dataset[\"nq\"].select([10, 10, 10])\n",
    ")"
   ]
  },
  {
   "cell_type": "code",
   "execution_count": 57,
   "id": "0fa5b256-469e-4ccf-8911-96504917cb5b",
   "metadata": {},
   "outputs": [
    {
     "name": "stderr",
     "output_type": "stream",
     "text": [
      "                                                                                                                                              \r"
     ]
    },
    {
     "name": "stdout",
     "output_type": "stream",
     "text": [
      "was made by \"Kavira Wala\" (Vita ruler) of Khyber Pakhtunkhwa in October 18\n",
      "was made by Vira Wala (Kathi Ruler) of Jetpur with Colonel Walker at Baroda on 26 October 1803.\n",
      "\n",
      "\n",
      "\n",
      "was made by \"Kavira Wala\" (Vita ruler) of Khyber Pakhtunkhwa in October 18\n",
      "was made by Vira Wala (Kathi Ruler) of Jetpur with Colonel Walker at Baroda on 26 October 1803.\n",
      "\n",
      "\n",
      "\n",
      "was made by \"Kavira Wala\" (Vita ruler) of Khyber Pakhtunkhwa in October 18\n",
      "was made by Vira Wala (Kathi Ruler) of Jetpur with Colonel Walker at Baroda on 26 October 1803.\n"
     ]
    },
    {
     "data": {
      "text/plain": [
       "{'eval_loss': 1.3415170907974243,\n",
       " 'eval_accuracy': 0.71875,\n",
       " 'eval_bleu_score': 7.229878704731535,\n",
       " 'eval_meteor_score': 0.3994366534819609,\n",
       " 'eval_rouge_score': 0.45161290322580644,\n",
       " 'eval_bert_score': 0.8844876885414124,\n",
       " 'eval_emb_cos_sim': 0.859375,\n",
       " 'eval_perplexity': 3.8248417382340687,\n",
       " 'eval_runtime': 29.4356,\n",
       " 'eval_samples_per_second': 0.102,\n",
       " 'eval_steps_per_second': 0.102}"
      ]
     },
     "execution_count": 57,
     "metadata": {},
     "output_type": "execute_result"
    }
   ],
   "source": [
    "ar_trainer.gen_kwargs = {\n",
    "'early_stopping': False,\n",
    " 'num_beams': 256*16,\n",
    " 'do_sample': False,\n",
    " 'no_repeat_ngram_size': 0\n",
    "}\n",
    "ar_trainer.args.bf16_full_eval = True \n",
    "ar_trainer.args.per_device_eval_batch_size = 1\n",
    "ar_trainer.evaluate(\n",
    "    eval_dataset=na_trainer.eval_dataset[\"nq\"].select([10, 10, 10])\n",
    ")"
   ]
  },
  {
   "cell_type": "code",
   "execution_count": 82,
   "id": "de31af1d-adac-42c4-b0ec-ea9f15019cf4",
   "metadata": {},
   "outputs": [
    {
     "data": {
      "text/plain": [
       "26.24087769829642"
      ]
     },
     "execution_count": 82,
     "metadata": {},
     "output_type": "execute_result"
    }
   ],
   "source": [
    "def bleu(s1: str, s2: str) -> float:\n",
    "    metrics = ar_trainer.metric_bleu.compute(\n",
    "        predictions=[s1],\n",
    "        references=[s2],\n",
    "    )\n",
    "    return metrics[\"score\"]\n",
    "    \n",
    "bleu(\n",
    "    \"was made by \\\"Vira Wala\\\" (Kathi Ruler) of Chowdhury with Mohammad Puri in October 18\",\n",
    "    \"was made by Vira Wala (Kathi Ruler) of Jetpur with Colonel Walker at Baroda on 26 October 1803.\",\n",
    ")"
   ]
  },
  {
   "cell_type": "code",
   "execution_count": 80,
   "id": "deed731b-7351-487c-94f5-dac5cdc9787f",
   "metadata": {},
   "outputs": [
    {
     "data": {
      "text/plain": [
       "9.143962141667426"
      ]
     },
     "execution_count": 80,
     "metadata": {},
     "output_type": "execute_result"
    }
   ],
   "source": [
    "bleu(\n",
    "    \"was made by \\\"Kavira Wala\\\" (Vita Ruler of Chhattisgarh) in October 1877. With\",\n",
    "    \"was made by Vira Wala (Kathi Ruler) of Jetpur with Colonel Walker at Baroda on 26 October 1803.\",\n",
    ")"
   ]
  },
  {
   "cell_type": "code",
   "execution_count": 83,
   "id": "e82cf3c6-8f8c-4b15-8c3b-a99be2d3a916",
   "metadata": {},
   "outputs": [
    {
     "name": "stderr",
     "output_type": "stream",
     "text": [
      "                                                                                                                                              \r"
     ]
    },
    {
     "name": "stdout",
     "output_type": "stream",
     "text": [
      "by wasa madewal., in the of ruler andi  Walthi 18 K Indiau ( Byth Kar 19) Mart- Vi Maha\n",
      "was made by Vira Wala (Kathi Ruler) of Jetpur with Colonel Walker at Baroda on 26 October 1803.\n",
      "\n",
      "\n",
      "\n",
      "by wasa madewal., in the of ruler andi  Walthi 18 K Indiau ( Byth Kar 19) Mart- Vi Maha\n",
      "was made by Vira Wala (Kathi Ruler) of Jetpur with Colonel Walker at Baroda on 26 October 1803.\n",
      "\n",
      "\n",
      "\n",
      "by wasa madewal., in the of ruler andi  Walthi 18 K Indiau ( Byth Kar 19) Mart- Vi Maha\n",
      "was made by Vira Wala (Kathi Ruler) of Jetpur with Colonel Walker at Baroda on 26 October 1803.\n"
     ]
    },
    {
     "data": {
      "text/plain": [
       "{'eval_loss': 0.0029687799979001284,\n",
       " 'eval_bleu_score': 1.1330528656074907,\n",
       " 'eval_meteor_score': 0.11904761904761903,\n",
       " 'eval_rouge_score': 0.16666666666666666,\n",
       " 'eval_bert_score': 0.8073135018348694,\n",
       " 'eval_emb_cos_sim': 0.7094048857688904,\n",
       " 'eval_runtime': 0.3331,\n",
       " 'eval_samples_per_second': 9.005,\n",
       " 'eval_steps_per_second': 3.002}"
      ]
     },
     "execution_count": 83,
     "metadata": {},
     "output_type": "execute_result"
    }
   ],
   "source": [
    "bow_trainer.evaluate(\n",
    "    eval_dataset=na_trainer.eval_dataset[\"nq\"].select([10, 10, 10])\n",
    ")"
   ]
  },
  {
   "cell_type": "code",
   "execution_count": 84,
   "id": "f18d217f-ca08-4863-b010-9920c5742b23",
   "metadata": {},
   "outputs": [
    {
     "name": "stderr",
     "output_type": "stream",
     "text": [
      "                                                                                                                                              \r"
     ]
    },
    {
     "name": "stdout",
     "output_type": "stream",
     "text": [
      "was made by Kaaa ( ( (aaaaaaa the the the the theaaaaaaaa \n",
      "was made by Vira Wala (Kathi Ruler) of Jetpur with Colonel Walker at Baroda on 26 October 1803.\n",
      "\n",
      "\n",
      "\n",
      "was made by Kaaa ( ( (aaaaaaa the the the the theaaaaaaaa \n",
      "was made by Vira Wala (Kathi Ruler) of Jetpur with Colonel Walker at Baroda on 26 October 1803.\n",
      "\n",
      "\n",
      "\n",
      "was made by Kaaa ( ( (aaaaaaa the the the the theaaaaaaaa \n",
      "was made by Vira Wala (Kathi Ruler) of Jetpur with Colonel Walker at Baroda on 26 October 1803.\n"
     ]
    },
    {
     "data": {
      "text/plain": [
       "{'eval_loss': 5.9487833976745605,\n",
       " 'eval_accuracy': 0.09375,\n",
       " 'eval_bleu_score': 5.073962119072253,\n",
       " 'eval_meteor_score': 0.18564356435643567,\n",
       " 'eval_rouge_score': 0.21428571428571427,\n",
       " 'eval_bert_score': 0.7834572792053223,\n",
       " 'eval_emb_cos_sim': 0.42839914560317993,\n",
       " 'eval_perplexity': 383.28674774200783,\n",
       " 'eval_runtime': 0.3304,\n",
       " 'eval_samples_per_second': 9.079,\n",
       " 'eval_steps_per_second': 3.026}"
      ]
     },
     "execution_count": 84,
     "metadata": {},
     "output_type": "execute_result"
    }
   ],
   "source": [
    "na_trainer.evaluate(\n",
    "    eval_dataset=na_trainer.eval_dataset[\"nq\"].select([10, 10, 10])\n",
    ")"
   ]
  },
  {
   "cell_type": "code",
   "execution_count": 88,
   "id": "16b2752c-7336-4a18-8da0-6cf4c129dba9",
   "metadata": {},
   "outputs": [
    {
     "name": "stderr",
     "output_type": "stream",
     "text": [
      "                                                                                                                                              \r"
     ]
    },
    {
     "name": "stdout",
     "output_type": "stream",
     "text": [
      "refuge Refuge camp in 1951 Campa  asylums tent,migran Mihausenteneenyendorft camps Claus the July 1916 ( Tenbe \"n\n",
      "'Happiness Tents' in refugee camps Mickey Beyer Clausen Mickey Beyer-Clausen (April 3, 1975 in\n",
      "\n",
      "\n",
      "\n",
      "refuge Refuge camp in 1951 Campa  asylums tent,migran Mihausenteneenyendorft camps Claus the July 1916 ( Tenbe \"n\n",
      "'Happiness Tents' in refugee camps Mickey Beyer Clausen Mickey Beyer-Clausen (April 3, 1975 in\n",
      "\n",
      "\n",
      "\n",
      " stylist the similara hair ins. that, to editorial like sameyemblzy wast or and of look from writer Schul somewhere' head as\n",
      "in a hairdo similar to Schultzy's. Someone on the creative team or in editorial came to feel that the resembl\n"
     ]
    },
    {
     "data": {
      "text/plain": [
       "{'eval_loss': 0.002811715705320239,\n",
       " 'eval_bleu_score': 1.1709730815760355,\n",
       " 'eval_meteor_score': 0.19068201149126005,\n",
       " 'eval_rouge_score': 0.1626984126984127,\n",
       " 'eval_bert_score': 0.8075083494186401,\n",
       " 'eval_emb_cos_sim': 0.6774147748947144,\n",
       " 'eval_runtime': 0.3393,\n",
       " 'eval_samples_per_second': 8.841,\n",
       " 'eval_steps_per_second': 2.947}"
      ]
     },
     "execution_count": 88,
     "metadata": {},
     "output_type": "execute_result"
    }
   ],
   "source": [
    "bow_trainer.evaluate(\n",
    "    eval_dataset=na_trainer.eval_dataset[\"nq\"].select([119, 119, 99])\n",
    ")"
   ]
  },
  {
   "cell_type": "code",
   "execution_count": 89,
   "id": "7c76849d-a8c3-452d-a373-e41e691c7267",
   "metadata": {},
   "outputs": [
    {
     "name": "stderr",
     "output_type": "stream",
     "text": [
      "                                                                                                                                              \r"
     ]
    },
    {
     "name": "stdout",
     "output_type": "stream",
     "text": [
      "Tent tents in a refugee camp Mickey Beyer Claus Huysen \"Mickey Beyer\" (21 April 1928 –\n",
      "'Happiness Tents' in refugee camps Mickey Beyer Clausen Mickey Beyer-Clausen (April 3, 1975 in\n",
      "\n",
      "\n",
      "\n",
      "Tent tents in a refugee camp Mickey Beyer Claus Huysen \"Mickey Beyer\" (21 April 1928 –\n",
      "'Happiness Tents' in refugee camps Mickey Beyer Clausen Mickey Beyer-Clausen (April 3, 1975 in\n",
      "\n",
      "\n",
      "\n",
      "Tent tents in a refugee camp Mickey Beyer Claus Huysen \"Mickey Beyer\" (21 April 1928 –\n",
      "'Happiness Tents' in refugee camps Mickey Beyer Clausen Mickey Beyer-Clausen (April 3, 1975 in\n"
     ]
    },
    {
     "data": {
      "text/plain": [
       "{'eval_loss': 1.525747299194336,\n",
       " 'eval_accuracy': 0.5625,\n",
       " 'eval_bleu_score': 3.1973680680760874,\n",
       " 'eval_meteor_score': 0.40015790984783234,\n",
       " 'eval_rouge_score': 0.5333333333333333,\n",
       " 'eval_bert_score': 0.8905506134033203,\n",
       " 'eval_emb_cos_sim': 0.88671875,\n",
       " 'eval_perplexity': 4.598578799806513,\n",
       " 'eval_runtime': 5.2485,\n",
       " 'eval_samples_per_second': 0.572,\n",
       " 'eval_steps_per_second': 0.572}"
      ]
     },
     "execution_count": 89,
     "metadata": {},
     "output_type": "execute_result"
    }
   ],
   "source": [
    "ar_trainer.evaluate(\n",
    "    eval_dataset=na_trainer.eval_dataset[\"nq\"].select([119, 119, 119])\n",
    ")"
   ]
  },
  {
   "cell_type": "code",
   "execution_count": 90,
   "id": "49f9133b-d727-41cd-bd3a-0d301a0865e5",
   "metadata": {},
   "outputs": [
    {
     "name": "stderr",
     "output_type": "stream",
     "text": [
      "                                                                                                                                              \r"
     ]
    },
    {
     "name": "stdout",
     "output_type": "stream",
     "text": [
      "Happyeerererereee, the,,,,,,,,,,,,,,,,,, \n",
      "'Happiness Tents' in refugee camps Mickey Beyer Clausen Mickey Beyer-Clausen (April 3, 1975 in\n",
      "\n",
      "\n",
      "\n",
      "Happyeerererereee, the,,,,,,,,,,,,,,,,,, \n",
      "'Happiness Tents' in refugee camps Mickey Beyer Clausen Mickey Beyer-Clausen (April 3, 1975 in\n",
      "\n",
      "\n",
      "\n",
      "Happyeerererereee, the,,,,,,,,,,,,,,,,,, \n",
      "'Happiness Tents' in refugee camps Mickey Beyer Clausen Mickey Beyer-Clausen (April 3, 1975 in\n"
     ]
    },
    {
     "data": {
      "text/plain": [
       "{'eval_loss': 5.71923828125,\n",
       " 'eval_accuracy': 0.0625,\n",
       " 'eval_bleu_score': 0.7967007322934379,\n",
       " 'eval_meteor_score': 0.028735632183908042,\n",
       " 'eval_rouge_score': 0.0,\n",
       " 'eval_bert_score': 0.7606546878814697,\n",
       " 'eval_emb_cos_sim': 0.1649952232837677,\n",
       " 'eval_perplexity': 304.6727595929441,\n",
       " 'eval_runtime': 0.317,\n",
       " 'eval_samples_per_second': 9.463,\n",
       " 'eval_steps_per_second': 3.154}"
      ]
     },
     "execution_count": 90,
     "metadata": {},
     "output_type": "execute_result"
    }
   ],
   "source": [
    "na_trainer.evaluate(\n",
    "    eval_dataset=na_trainer.eval_dataset[\"nq\"].select([119, 119, 119])\n",
    ")"
   ]
  },
  {
   "cell_type": "code",
   "execution_count": null,
   "id": "16f2f410-07da-44d6-b159-498c16a4c41b",
   "metadata": {},
   "outputs": [],
   "source": []
  }
 ],
 "metadata": {
  "kernelspec": {
   "display_name": "Python 3 (ipykernel)",
   "language": "python",
   "name": "python3"
  },
  "language_info": {
   "codemirror_mode": {
    "name": "ipython",
    "version": 3
   },
   "file_extension": ".py",
   "mimetype": "text/x-python",
   "name": "python",
   "nbconvert_exporter": "python",
   "pygments_lexer": "ipython3",
   "version": "3.10.10"
  }
 },
 "nbformat": 4,
 "nbformat_minor": 5
}
