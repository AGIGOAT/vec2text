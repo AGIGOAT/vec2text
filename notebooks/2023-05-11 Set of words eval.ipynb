{
 "cells": [
  {
   "cell_type": "code",
   "execution_count": 1,
   "id": "3c99ef4b-d1b4-46a2-92c0-386485d357d7",
   "metadata": {},
   "outputs": [],
   "source": [
    "import os\n",
    "os.environ[\"WANDB_DISABLED\"] = \"true\"\n",
    "\n",
    "import sys\n",
    "# sys.path = ['/home/jxm3/research/retrieval/inversion'] + sys.path\n",
    "sys.path = [\n",
    "    p for p in sys.path\n",
    "    if p not in ['/home/jxm3/research/prompting/imodelsX', '/home/jxm3/research/prompting/tree-prompt']\n",
    "]\n",
    "sys.path.append('/home/jxm3/research/retrieval/inversion')\n",
    "\n",
    "%load_ext autoreload\n",
    "%autoreload 2"
   ]
  },
  {
   "cell_type": "code",
   "execution_count": 2,
   "id": "add75d21-5277-4dd8-af15-48593ba5b3f3",
   "metadata": {},
   "outputs": [
    {
     "name": "stdout",
     "output_type": "stream",
     "text": [
      "['/home/jxm3/research/retrieval/inversion/notebooks', '/home/jxm3/.conda/envs/torch/lib/python310.zip', '/home/jxm3/.conda/envs/torch/lib/python3.10', '/home/jxm3/.conda/envs/torch/lib/python3.10/lib-dynload', '', '/home/jxm3/.conda/envs/torch/lib/python3.10/site-packages', '/home/jxm3/random/slurmpy', '/home/jxm3/.conda/envs/torch/lib/python3.10/site-packages/mpmath-1.2.1-py3.10.egg', '/home/jxm3/research/retrieval/inversion']\n"
     ]
    }
   ],
   "source": [
    "print(sys.path)"
   ]
  },
  {
   "cell_type": "code",
   "execution_count": 2,
   "id": "352ad2e8-a404-4bae-b7d1-681de2afc6f1",
   "metadata": {},
   "outputs": [
    {
     "name": "stdout",
     "output_type": "stream",
     "text": [
      "Loading trainer for analysis – setting --do_eval=1\n"
     ]
    },
    {
     "name": "stderr",
     "output_type": "stream",
     "text": [
      "/home/jxm3/.conda/envs/torch/lib/python3.10/site-packages/transformers/models/t5/tokenization_t5_fast.py:155: FutureWarning: This tokenizer was incorrectly instantiated with a model max length of 512 which will be corrected in Transformers v5.\n",
      "For now, this behavior is kept to avoid breaking backwards compatibility when padding/encoding with `truncation is True`.\n",
      "- Be aware that you SHOULD NOT rely on t5-base automatically truncating your input to 512 when padding/encoding.\n",
      "- If you want to encode/pad to sequences longer than 512 you can either instantiate this tokenizer with `model_max_length` or pass `max_length` when encoding/padding.\n",
      "- To avoid this warning, please instantiate this tokenizer with `model_max_length` set to your preferred value.\n",
      "  warnings.warn(\n"
     ]
    },
    {
     "data": {
      "application/vnd.jupyter.widget-view+json": {
       "model_id": "1caec56840c44bdd9204da9ca7a6c344",
       "version_major": 2,
       "version_minor": 0
      },
      "text/plain": [
       "  0%|          | 0/2 [00:00<?, ?it/s]"
      ]
     },
     "metadata": {},
     "output_type": "display_data"
    },
    {
     "data": {
      "application/vnd.jupyter.widget-view+json": {
       "model_id": "7b914a48eaae453e837e00bb5dfb275c",
       "version_major": 2,
       "version_minor": 0
      },
      "text/plain": [
       "  0%|          | 0/3 [00:00<?, ?it/s]"
      ]
     },
     "metadata": {},
     "output_type": "display_data"
    },
    {
     "data": {
      "application/vnd.jupyter.widget-view+json": {
       "model_id": "ccdbce2d44614c45bfcbe9b0eb036fc5",
       "version_major": 2,
       "version_minor": 0
      },
      "text/plain": [
       "  0%|          | 0/3 [00:00<?, ?it/s]"
      ]
     },
     "metadata": {},
     "output_type": "display_data"
    },
    {
     "data": {
      "application/vnd.jupyter.widget-view+json": {
       "model_id": "9473d1807dfd46fbb77a6e1e75401839",
       "version_major": 2,
       "version_minor": 0
      },
      "text/plain": [
       "  0%|          | 0/3 [00:00<?, ?it/s]"
      ]
     },
     "metadata": {},
     "output_type": "display_data"
    },
    {
     "data": {
      "application/vnd.jupyter.widget-view+json": {
       "model_id": "6fd7a352282143e89d1ae18083c2b707",
       "version_major": 2,
       "version_minor": 0
      },
      "text/plain": [
       "  0%|          | 0/3 [00:00<?, ?it/s]"
      ]
     },
     "metadata": {},
     "output_type": "display_data"
    },
    {
     "name": "stderr",
     "output_type": "stream",
     "text": [
      "[nltk_data] Downloading package wordnet to /home/jxm3/nltk_data...\n",
      "[nltk_data]   Package wordnet is already up-to-date!\n",
      "[nltk_data] Downloading package punkt to /home/jxm3/nltk_data...\n",
      "[nltk_data]   Package punkt is already up-to-date!\n",
      "[nltk_data] Downloading package omw-1.4 to /home/jxm3/nltk_data...\n",
      "[nltk_data]   Package omw-1.4 is already up-to-date!\n"
     ]
    },
    {
     "name": "stdout",
     "output_type": "stream",
     "text": [
      "================ Begin trainer sanity check ================\n",
      "\tInput to encode -> Twas brillig, and the slithy toves, Did gyre and gimble in the wabe, All mimsy were the borogoves, And the mome raths outgrabe.\n",
      "\tDecoded output -> ble brigy, andbbers thelelingtlw sibevebble plre was.glerdedig to so\n",
      "================ End trainer sanity check ================\n"
     ]
    }
   ],
   "source": [
    "import analyze_utils\n",
    "\n",
    "# https://wandb.ai/jack-morris/emb-inv-bow-1/runs/a765aaaf0a0e689659a5a6a00f6a2e84/overview?workspace=user-jxmorris12\n",
    "checkpoint_folder = \"/home/jxm3/research/retrieval/inversion/saves/4fbfb4a93eb0d64d3ca837b17d0a47d3/\"\n",
    "bow_trainer = analyze_utils.load_trainer(checkpoint_folder)"
   ]
  },
  {
   "cell_type": "code",
   "execution_count": 3,
   "id": "cfd6b8ab-76e6-4f81-af51-daa94ef5d6d3",
   "metadata": {},
   "outputs": [
    {
     "data": {
      "text/html": [
       "\n",
       "    <div>\n",
       "      \n",
       "      <progress value='6' max='1' style='width:300px; height:20px; vertical-align: middle;'></progress>\n",
       "      [1/1 00:25]\n",
       "    </div>\n",
       "    "
      ],
      "text/plain": [
       "<IPython.core.display.HTML object>"
      ]
     },
     "metadata": {},
     "output_type": "display_data"
    },
    {
     "name": "stderr",
     "output_type": "stream",
     "text": [
      "                                                                                                                                               \r"
     ]
    },
    {
     "name": "stdout",
     "output_type": "stream",
     "text": [
      "[pred] unions Union workers strike the Turner  to' that are about, T and New N \" pension talks in employees with they. protest who beingterson\n",
      "[true] Fears for T N pension after talks Unions representing workers at Turner Newall say they are 'disappointed' after talks with stri\n",
      "\n",
      "\n",
      "\n",
      "[pred] Space Race to: space the sSpace on launch race. of \" Tor dedicateda- Launch,space and for http Rocket https website first ison\n",
      "[true] The Race is On: Second Private Team Sets Launch Date for Human Spaceflight (SPACE.com) SPACE.com - TORON\n",
      "\n",
      "\n",
      "\n",
      "[pred] APa founded Company companys ( by the. University of), Pp Research inPA ThePGE and A Corporation study Institute founder wase\n",
      "[true] Ky. Company Wins Grant to Study Peptides (AP) AP - A company founded by a chemistry researcher at the University of\n",
      "setting preds_emb\n",
      "{'eval_ag_news_loss': 0.002952642971649766, 'eval_ag_news_token_set_precision': 0.4628035808078073, 'eval_ag_news_token_set_recall': 0.3870967741935463, 'eval_ag_news_token_set_f1': 0.4205155353429039, 'eval_ag_news_bleu_score': 0.30855155134467244, 'eval_ag_news_meteor_score': 0.17811015783726786, 'eval_ag_news_rouge_score': 0.29648897180342326, 'eval_ag_news_bert_score': 0.8078671243190766, 'eval_ag_news_emb_cos_sim': 0.6863870620727539, 'eval_ag_news_runtime': 10.3146, 'eval_ag_news_samples_per_second': 48.475, 'eval_ag_news_steps_per_second': 0.097}\n"
     ]
    },
    {
     "name": "stderr",
     "output_type": "stream",
     "text": [
      "                                                                                                                                               \r"
     ]
    },
    {
     "name": "stdout",
     "output_type": "stream",
     "text": [
      "[pred] a phasephase crystal phases behavior substratekinetic of the in andscrystalline withing formatione transition is, behaviour propag to quartz pattern. sediment-stal\n",
      "[true] we study the phase behavior of a nematic liquid crystal confined between a flat substrate with strong anchoring and a patterned substrate\n",
      "\n",
      "\n",
      "\n",
      "[pred] cluster scale. the s ofscale observedobserv scaling sample arex to galaxy anding measure uniform is compute in large measurement for measured The samplesre measuring\n",
      "[true] determining the scaling relations between galaxy cluster observables requires large samples of uniformly observed clusters. we measure the mean x -\n",
      "\n",
      "\n",
      "\n",
      "[pred]  modul optical selectives of multi parametria mode. the co control threshold spatial and oscil in-modeorcorrelated de modes typet,icecular\n",
      "[true] we show how to control spatial quantum correlations in a multimode degenerate optical parametric oscillator type i below threshold by \n",
      "setting preds_emb\n",
      "{'eval_arxiv_loss': 0.0024043754674494267, 'eval_arxiv_token_set_precision': 0.5449170975176817, 'eval_arxiv_token_set_recall': 0.44122580645161, 'eval_arxiv_token_set_f1': 0.4866435840462511, 'eval_arxiv_bleu_score': 0.3011824144908952, 'eval_arxiv_meteor_score': 0.1836298857376589, 'eval_arxiv_rouge_score': 0.2954493493071326, 'eval_arxiv_bert_score': 0.8176045930385589, 'eval_arxiv_emb_cos_sim': 0.6905701160430908, 'eval_arxiv_runtime': 3.7669, 'eval_arxiv_samples_per_second': 132.735, 'eval_arxiv_steps_per_second': 0.265}\n"
     ]
    },
    {
     "name": "stderr",
     "output_type": "stream",
     "text": [
      "Warning: Empty reference sentence detected; setting raw BERTScores to 0.                                                                       \n"
     ]
    },
    {
     "name": "stdout",
     "output_type": "stream",
     "text": [
      "[pred]  thea fraud, charity to former accused \" ofconvictedding Reading and Foundationes Nigeria-alleged for from reading against solicitorclaiming reader that\n",
      "[true] The ex-Reading defender denied fraudulent trading charges relating to the Sodje Sports Foundation - a charity to raise money for Nigerian\n",
      "\n",
      "\n",
      "\n",
      "[pred] retired  injured. injury thes England to for retiring retirement in, retire suffered Jersey Sussex after his suffering Somerset and due Championshipges pension on by atshire\n",
      "[true] Voges was forced to retire hurt on 86 after suffering the injury while batting during the County Championship draw with Somerset on 4 June. Middlesex\n",
      "\n",
      "\n",
      "\n",
      "[pred] photographs photography imagess pictures in. photographer photos Norfolk the photograph  portrait photographed, Neil of picture is and countryside first image magazine by photo taken photographers' was\n",
      "[true] Seven photographs taken in the Norfolk countryside by photographer Josh Olins will appear in the June edition. In her first sitting for a magazine, the du\n",
      "setting preds_emb\n",
      "{'eval_xsum_doc_loss': 0.0027533622924238443, 'eval_xsum_doc_token_set_precision': 0.49886146870570486, 'eval_xsum_doc_token_set_recall': 0.4506451612903207, 'eval_xsum_doc_token_set_f1': 0.47308020684857366, 'eval_xsum_doc_bleu_score': 0.27273729867284, 'eval_xsum_doc_meteor_score': 0.19982400165588649, 'eval_xsum_doc_rouge_score': 0.33259107172923574, 'eval_xsum_doc_bert_score': 0.8107274520397186, 'eval_xsum_doc_emb_cos_sim': 0.7034097909927368, 'eval_xsum_doc_runtime': 3.7883, 'eval_xsum_doc_samples_per_second': 131.986, 'eval_xsum_doc_steps_per_second': 0.264}\n"
     ]
    },
    {
     "name": "stderr",
     "output_type": "stream",
     "text": [
      "                                                                                                                                               \r"
     ]
    },
    {
     "name": "stdout",
     "output_type": "stream",
     "text": [
      "[pred] fraud football accused charity Sam,. brother andsd Charityconvicted who former  twoa fraudulent three scame is brothers charities in has solicitor to Soer\n",
      "[true] Former Premier League footballer Sam Sodje has appeared in court alongside three brothers accused of charity fraud.\n",
      "\n",
      "\n",
      "\n",
      "[pred] bats left leg muscle  injury his Adam Bata the. suffered out injured,man in toe from due- Vic A ofd for Englandout\n",
      "[true] Middlesex batsman Adam Voges will be out until August after suffering a torn calf muscle in his right leg.\n",
      "\n",
      "\n",
      "\n",
      "[pred] the of Cambridge Dus. magazine cover Queen, featured feature Royal on Thea' will Magazine in fored British and du \"ingbury profile\n",
      "[true] The Duchess of Cambridge will feature on the cover of British Vogue to mark the magazine's centenary.\n",
      "setting preds_emb\n",
      "{'eval_xsum_summ_loss': 0.002338603837415576, 'eval_xsum_summ_token_set_precision': 0.5545419533787193, 'eval_xsum_summ_token_set_recall': 0.43883870967741734, 'eval_xsum_summ_token_set_f1': 0.4865039018376441, 'eval_xsum_summ_bleu_score': 0.22591853689253558, 'eval_xsum_summ_meteor_score': 0.2214997321620871, 'eval_xsum_summ_rouge_score': 0.3523933660647135, 'eval_xsum_summ_bert_score': 0.8211426932811737, 'eval_xsum_summ_emb_cos_sim': 0.6199279427528381, 'eval_xsum_summ_runtime': 4.0372, 'eval_xsum_summ_samples_per_second': 123.848, 'eval_xsum_summ_steps_per_second': 0.248}\n"
     ]
    },
    {
     "name": "stderr",
     "output_type": "stream",
     "text": [
      "                                                                                                                                               \r"
     ]
    },
    {
     "name": "stdout",
     "output_type": "stream",
     "text": [
      "[pred] li known ( asI Michael ila II thelik, ofiche \"KIII alsoano) I Church-dsf III\n",
      "[true] pope michael iii of alexandria -lrb- also known as khail i\n",
      "\n",
      "\n",
      "\n",
      "[pred]  is tennis. playerajun () Chinesehui He table male Jun female the who Huheie former and has- professional Fu men of high\n",
      "[true] hui jun is a male former table tennis player from china.\n",
      "\n",
      "\n",
      "\n",
      "[pred]  (born is)ba Turkish Ourrk 7rikturtürlnst July born. Turkeyy Rz;o November\n",
      "[true] okan ztürk -lrb- born 30 november 1977 -rrb- is a tur\n",
      "setting preds_emb\n",
      "{'eval_wikibio_loss': 0.0023790744598954916, 'eval_wikibio_token_set_precision': 0.5313269567232366, 'eval_wikibio_token_set_recall': 0.3597419354838692, 'eval_wikibio_token_set_f1': 0.4274603944404807, 'eval_wikibio_bleu_score': 0.0815640354794625, 'eval_wikibio_meteor_score': 0.10922318446591002, 'eval_wikibio_rouge_score': 0.1768731644551103, 'eval_wikibio_bert_score': 0.7914543695449829, 'eval_wikibio_emb_cos_sim': 0.6554672718048096, 'eval_wikibio_runtime': 3.3347, 'eval_wikibio_samples_per_second': 149.94, 'eval_wikibio_steps_per_second': 0.3}\n"
     ]
    },
    {
     "name": "stderr",
     "output_type": "stream",
     "text": [
      "                                                                                                                                               \r"
     ]
    },
    {
     "name": "stdout",
     "output_type": "stream",
     "text": [
      "[pred] skull of smooth the.s, and infantural bones mannert that toa softletonular in aretraumatic The unlike with detailsul character remains\n",
      "[true] to the character of the sutures of the skull which, like those of the infant skull, are relatively smooth and untortuous. In fact\n",
      "\n",
      "\n",
      "\n",
      "[pred] Winter the  to won winter South and win was team, medal Australiaa who Australian He. for of gold World individual in S Northern Team Olympics from-\n",
      "[true] individual from the Southern Hemisphere, to win a Winter Olympic gold medal and was also part of the short track relay team that won Australia'\n",
      "\n",
      "\n",
      "\n",
      "[pred] rights. equality and discrimin workers,  workplace gay protected LGBTs the of to work that right equal same employees straight agreeda they agree should peopled were\n",
      "[true] the same rights as straight people, while 15% disagreed. Additionally, 69% agreed that they should be protected from workplace discrimination. 13% of H\n",
      "setting preds_emb\n",
      "{'eval_nq_loss': 0.0023660382721573114, 'eval_nq_token_set_precision': 0.5620715201776602, 'eval_nq_token_set_recall': 0.46941935483870867, 'eval_nq_token_set_f1': 0.5100573151662517, 'eval_nq_bleu_score': 0.30800504075285257, 'eval_nq_meteor_score': 0.222961078407515, 'eval_nq_rouge_score': 0.3596046073030128, 'eval_nq_bert_score': 0.8157957603931427, 'eval_nq_emb_cos_sim': 0.704466700553894, 'eval_nq_runtime': 4.0491, 'eval_nq_samples_per_second': 123.484, 'eval_nq_steps_per_second': 0.247}\n"
     ]
    }
   ],
   "source": [
    "bow_trainer.gen_kwargs = {\n",
    "    \"early_stopping\": False,\n",
    "    \"num_beams\": 1,\n",
    "    \"do_sample\": False,\n",
    "    \"no_repeat_ngram_size\": 0,\n",
    "}\n",
    "\n",
    "for eval_dataset_name, eval_dataset in bow_trainer.eval_dataset.items():\n",
    "    metrics = bow_trainer.evaluate(\n",
    "        eval_dataset=eval_dataset,\n",
    "        metric_key_prefix=f\"eval_{eval_dataset_name}\",\n",
    "    )\n",
    "    print(metrics)"
   ]
  },
  {
   "cell_type": "code",
   "execution_count": 4,
   "id": "b2ee3314-2057-409b-99ca-14010f427597",
   "metadata": {},
   "outputs": [
    {
     "name": "stdout",
     "output_type": "stream",
     "text": [
      "Loading trainer for analysis – setting --do_eval=1\n"
     ]
    },
    {
     "name": "stderr",
     "output_type": "stream",
     "text": [
      "/home/jxm3/.conda/envs/torch/lib/python3.10/site-packages/transformers/models/t5/tokenization_t5_fast.py:155: FutureWarning: This tokenizer was incorrectly instantiated with a model max length of 512 which will be corrected in Transformers v5.\n",
      "For now, this behavior is kept to avoid breaking backwards compatibility when padding/encoding with `truncation is True`.\n",
      "- Be aware that you SHOULD NOT rely on t5-base automatically truncating your input to 512 when padding/encoding.\n",
      "- If you want to encode/pad to sequences longer than 512 you can either instantiate this tokenizer with `model_max_length` or pass `max_length` when encoding/padding.\n",
      "- To avoid this warning, please instantiate this tokenizer with `model_max_length` set to your preferred value.\n",
      "  warnings.warn(\n"
     ]
    },
    {
     "data": {
      "application/vnd.jupyter.widget-view+json": {
       "model_id": "fcd92aa2e36c439e96a6ff3763d71c84",
       "version_major": 2,
       "version_minor": 0
      },
      "text/plain": [
       "  0%|          | 0/2 [00:00<?, ?it/s]"
      ]
     },
     "metadata": {},
     "output_type": "display_data"
    },
    {
     "data": {
      "application/vnd.jupyter.widget-view+json": {
       "model_id": "203931a3f0bb4754b565428c592330cd",
       "version_major": 2,
       "version_minor": 0
      },
      "text/plain": [
       "  0%|          | 0/3 [00:00<?, ?it/s]"
      ]
     },
     "metadata": {},
     "output_type": "display_data"
    },
    {
     "data": {
      "application/vnd.jupyter.widget-view+json": {
       "model_id": "201d967ad16c475e9d777d71d1082927",
       "version_major": 2,
       "version_minor": 0
      },
      "text/plain": [
       "  0%|          | 0/3 [00:00<?, ?it/s]"
      ]
     },
     "metadata": {},
     "output_type": "display_data"
    },
    {
     "data": {
      "application/vnd.jupyter.widget-view+json": {
       "model_id": "8473be67965b48c2a0513cd30c90c953",
       "version_major": 2,
       "version_minor": 0
      },
      "text/plain": [
       "  0%|          | 0/3 [00:00<?, ?it/s]"
      ]
     },
     "metadata": {},
     "output_type": "display_data"
    },
    {
     "name": "stderr",
     "output_type": "stream",
     "text": [
      "[nltk_data] Downloading package wordnet to /home/jxm3/nltk_data...\n",
      "[nltk_data]   Package wordnet is already up-to-date!\n",
      "[nltk_data] Downloading package punkt to /home/jxm3/nltk_data...\n",
      "[nltk_data]   Package punkt is already up-to-date!\n",
      "[nltk_data] Downloading package omw-1.4 to /home/jxm3/nltk_data...\n",
      "[nltk_data]   Package omw-1.4 is already up-to-date!\n"
     ]
    },
    {
     "name": "stdout",
     "output_type": "stream",
     "text": [
      "================ Begin trainer sanity check ================\n",
      "\tInput to encode -> Twas brillig, and the slithy toves, Did gyre and gimble in the wabe, All mimsy were the borogoves, And the mome raths outgrabe.\n",
      "\tDecoded output ->                                                          \n",
      "================ End trainer sanity check ================\n"
     ]
    }
   ],
   "source": [
    "# https://wandb.ai/jack-morris/emb-inv-na-1/runs/d6615cef86e29ffe16ec21ca3f400fa7/overview?workspace=user-jxmorris12\n",
    "checkpoint_folder = \"/home/jxm3/research/retrieval/inversion/saves/f4dca1340ce8c4d0ca7ee8fd5df91a63\"\n",
    "na_trainer = analyze_utils.load_trainer(checkpoint_folder)"
   ]
  },
  {
   "cell_type": "code",
   "execution_count": 5,
   "id": "6590d20e-39bb-437c-a6ae-3375e5fb6b83",
   "metadata": {},
   "outputs": [
    {
     "name": "stdout",
     "output_type": "stream",
     "text": [
      "Loading trainer for analysis – setting --do_eval=1\n",
      "loading alias dpr_nq__msl32_beta from /home/jxm3/research/retrieval/inversion/saves/db66b9c01b644541fedbdcc59c53a285/ebb31d91810c4b62d2b55b5382e8c7ea...\n",
      "Set train_args.dataloader_num_workers = 4\n"
     ]
    },
    {
     "data": {
      "application/vnd.jupyter.widget-view+json": {
       "model_id": "3951468d2a534d5aa1489db46e79662b",
       "version_major": 2,
       "version_minor": 0
      },
      "text/plain": [
       "  0%|          | 0/2 [00:00<?, ?it/s]"
      ]
     },
     "metadata": {},
     "output_type": "display_data"
    },
    {
     "data": {
      "application/vnd.jupyter.widget-view+json": {
       "model_id": "f8f4fd4791124af69fc90761bf49f657",
       "version_major": 2,
       "version_minor": 0
      },
      "text/plain": [
       "  0%|          | 0/3 [00:00<?, ?it/s]"
      ]
     },
     "metadata": {},
     "output_type": "display_data"
    },
    {
     "data": {
      "application/vnd.jupyter.widget-view+json": {
       "model_id": "80d94f88414a4fcc8bfb3aa8c5f1f3bb",
       "version_major": 2,
       "version_minor": 0
      },
      "text/plain": [
       "  0%|          | 0/3 [00:00<?, ?it/s]"
      ]
     },
     "metadata": {},
     "output_type": "display_data"
    },
    {
     "data": {
      "application/vnd.jupyter.widget-view+json": {
       "model_id": "e9269182bab647ee95f1e1207fba365f",
       "version_major": 2,
       "version_minor": 0
      },
      "text/plain": [
       "  0%|          | 0/3 [00:00<?, ?it/s]"
      ]
     },
     "metadata": {},
     "output_type": "display_data"
    },
    {
     "name": "stderr",
     "output_type": "stream",
     "text": [
      "[nltk_data] Downloading package wordnet to /home/jxm3/nltk_data...\n",
      "[nltk_data]   Package wordnet is already up-to-date!\n",
      "[nltk_data] Downloading package punkt to /home/jxm3/nltk_data...\n",
      "[nltk_data]   Package punkt is already up-to-date!\n",
      "[nltk_data] Downloading package omw-1.4 to /home/jxm3/nltk_data...\n",
      "[nltk_data]   Package omw-1.4 is already up-to-date!\n"
     ]
    },
    {
     "name": "stdout",
     "output_type": "stream",
     "text": [
      "================ Begin trainer sanity check ================\n",
      "\tInput to encode -> Twas brillig, and the slithy toves, Did gyre and gimble in the wabe, All mimsy were the borogoves, And the mome raths outgrabe.\n",
      "\tDecoded output -> The mlbies wase wyst bograge; And the sliths and toms wre\n",
      "================ End trainer sanity check ================\n"
     ]
    },
    {
     "name": "stderr",
     "output_type": "stream",
     "text": [
      "[nltk_data] Downloading package wordnet to /home/jxm3/nltk_data...\n",
      "[nltk_data]   Package wordnet is already up-to-date!\n",
      "[nltk_data] Downloading package punkt to /home/jxm3/nltk_data...\n",
      "[nltk_data]   Package punkt is already up-to-date!\n",
      "[nltk_data] Downloading package omw-1.4 to /home/jxm3/nltk_data...\n",
      "[nltk_data]   Package omw-1.4 is already up-to-date!\n"
     ]
    }
   ],
   "source": [
    "checkpoint_folder = \"/home/jxm3/research/retrieval/inversion/saves/98b1418d38c3f9333b17ab20bff06ff9/\"\n",
    "ar_trainer = analyze_utils.load_trainer(checkpoint_folder).inversion_trainer"
   ]
  },
  {
   "cell_type": "markdown",
   "id": "0dcb762a-5e86-472a-a629-3ff9687640d9",
   "metadata": {},
   "source": [
    "## evaluating f1, recall, precision."
   ]
  },
  {
   "cell_type": "code",
   "execution_count": 13,
   "id": "1e09f6f8-780f-4326-bb4a-42f6708fba81",
   "metadata": {},
   "outputs": [
    {
     "name": "stderr",
     "output_type": "stream",
     "text": [
      "                                                                                                                                               \r"
     ]
    },
    {
     "name": "stdout",
     "output_type": "stream",
     "text": [
      "skull of smooth the.s, and infantural bones mannert that toa softletonular in aretraumatic The unlike with detailsul character remains\n",
      "to the character of the sutures of the skull which, like those of the infant skull, are relatively smooth and untortuous. In fact\n",
      "\n",
      "\n",
      "\n",
      "Winter the  to won winter South and win was team, medal Australiaa who Australian He. for of gold World individual in S Northern Team Olympics from-\n",
      "individual from the Southern Hemisphere, to win a Winter Olympic gold medal and was also part of the short track relay team that won Australia'\n",
      "\n",
      "\n",
      "\n",
      "rights. equality and discrimin workers,  workplace gay protected LGBTs the of to work that right equal same employees straight agreeda they agree should peopled were\n",
      "the same rights as straight people, while 15% disagreed. Additionally, 69% agreed that they should be protected from workplace discrimination. 13% of H\n"
     ]
    },
    {
     "data": {
      "text/plain": [
       "{'eval_loss': 0.0023660382721573114,\n",
       " 'eval_token_set_precision': 0.5620715201776602,\n",
       " 'eval_token_set_recall': 0.46941935483870867,\n",
       " 'eval_token_set_f1': 0.5100573151662517,\n",
       " 'eval_bleu_score': 0.30800504075285257,\n",
       " 'eval_meteor_score': 0.222961078407515,\n",
       " 'eval_rouge_score': 0.3596046073030128,\n",
       " 'eval_bert_score': 0.8157957607507705,\n",
       " 'eval_emb_cos_sim': 0.704466700553894,\n",
       " 'eval_runtime': 3.5551,\n",
       " 'eval_samples_per_second': 140.643,\n",
       " 'eval_steps_per_second': 0.281}"
      ]
     },
     "execution_count": 13,
     "metadata": {},
     "output_type": "execute_result"
    }
   ],
   "source": [
    "bow_trainer.evaluate(\n",
    "    eval_dataset=na_trainer.eval_dataset[\"nq\"]\n",
    ")"
   ]
  },
  {
   "cell_type": "code",
   "execution_count": 19,
   "id": "aff261da-60f0-4992-a460-580505b663ef",
   "metadata": {},
   "outputs": [
    {
     "name": "stderr",
     "output_type": "stream",
     "text": [
      "                                                                                                                                               \r"
     ]
    },
    {
     "name": "stdout",
     "output_type": "stream",
     "text": [
      "the  of,ts and un skull that. smooth Thetures to bones are infant ina which isylyture with manner relatively very character softity\n",
      "to the character of the sutures of the skull which, like those of the infant skull, are relatively smooth and untortuous. In fact\n",
      "\n",
      "\n",
      "\n",
      "the  medal individuala, team win won Winter in to and relaymi Southern short event track gold of Australia Australian winter wass He for winning group that\n",
      "individual from the Southern Hemisphere, to win a Winter Olympic gold medal and was also part of the short track relay team that won Australia'\n",
      "\n",
      "\n",
      "\n",
      ", the they and. discrimin of thatd to protected employeess people their should agreed samee also equal workers percenta The rights were work They for 5\n",
      "the same rights as straight people, while 15% disagreed. Additionally, 69% agreed that they should be protected from workplace discrimination. 13% of H\n"
     ]
    },
    {
     "data": {
      "text/plain": [
       "{'eval_loss': 5.58335018157959,\n",
       " 'eval_accuracy': 0.113375,\n",
       " 'eval_token_set_precision': 0.5906870666797824,\n",
       " 'eval_token_set_recall': 0.478,\n",
       " 'eval_token_set_f1': 0.5268238167690217,\n",
       " 'eval_bleu_score': 0.31953303907129743,\n",
       " 'eval_meteor_score': 0.21739621561543687,\n",
       " 'eval_rouge_score': 0.3524007360870688,\n",
       " 'eval_bert_score': 0.815943107008934,\n",
       " 'eval_emb_cos_sim': 0.670272707939148,\n",
       " 'eval_perplexity': 265.9611330040708,\n",
       " 'eval_runtime': 3.9924,\n",
       " 'eval_samples_per_second': 125.239,\n",
       " 'eval_steps_per_second': 0.25}"
      ]
     },
     "execution_count": 19,
     "metadata": {},
     "output_type": "execute_result"
    }
   ],
   "source": [
    "na_trainer.evaluate(\n",
    "    eval_dataset=na_trainer.eval_dataset[\"nq\"]\n",
    ")"
   ]
  },
  {
   "cell_type": "code",
   "execution_count": 17,
   "id": "21a22d8e-2777-4aee-960e-6b32790de195",
   "metadata": {},
   "outputs": [
    {
     "data": {
      "text/html": [
       "\n",
       "    <div>\n",
       "      \n",
       "      <progress value='98' max='3' style='width:300px; height:20px; vertical-align: middle;'></progress>\n",
       "      [3/3 58:29]\n",
       "    </div>\n",
       "    "
      ],
      "text/plain": [
       "<IPython.core.display.HTML object>"
      ]
     },
     "metadata": {},
     "output_type": "display_data"
    },
    {
     "name": "stderr",
     "output_type": "stream",
     "text": [
      "                                                                                                                                               \r"
     ]
    },
    {
     "name": "stdout",
     "output_type": "stream",
     "text": [
      "to the character of the skull, which are relatively smooth and untutuous in the case of infant sutures. Unlike the sutures,\n",
      "to the character of the sutures of the skull which, like those of the infant skull, are relatively smooth and untortuous. In fact\n",
      "\n",
      "\n",
      "\n",
      "individual from the Southern Hemisphere to win the Winter Olympic relay gold medal, and was also part of the Australian Short Track team, which won gold\n",
      "individual from the Southern Hemisphere, to win a Winter Olympic gold medal and was also part of the short track relay team that won Australia'\n",
      "\n",
      "\n",
      "\n",
      "the same rights as men, and 75% agreed that they should be protected from discrimination. Among the other 15%, gay workers are no longer exp\n",
      "the same rights as straight people, while 15% disagreed. Additionally, 69% agreed that they should be protected from workplace discrimination. 13% of H\n"
     ]
    },
    {
     "data": {
      "text/plain": [
       "{'eval_loss': 1.0522613525390625,\n",
       " 'eval_accuracy': 0.7386067708333334,\n",
       " 'eval_token_set_precision': 0.6595365232793972,\n",
       " 'eval_token_set_recall': 0.6887789003733743,\n",
       " 'eval_token_set_f1': 0.6728795963252079,\n",
       " 'eval_bleu_score': 31.876985502984844,\n",
       " 'eval_meteor_score': 0.5792206976897826,\n",
       " 'eval_rouge_score': 0.6414878805144706,\n",
       " 'eval_bert_score': 0.9177108293709656,\n",
       " 'eval_emb_cos_sim': 0.9062262773513794,\n",
       " 'eval_perplexity': 2.8641205867926014,\n",
       " 'eval_runtime': 9.8469,\n",
       " 'eval_samples_per_second': 50.778,\n",
       " 'eval_steps_per_second': 0.406}"
      ]
     },
     "execution_count": 17,
     "metadata": {},
     "output_type": "execute_result"
    }
   ],
   "source": [
    "ar_trainer.gen_kwargs = {\n",
    "    'early_stopping': False,\n",
    "    'num_beams': 1,\n",
    "    'do_sample': False,\n",
    "    'no_repeat_ngram_size': 0\n",
    "}\n",
    "ar_trainer.evaluate(\n",
    "    eval_dataset=na_trainer.eval_dataset[\"nq\"]\n",
    ")"
   ]
  },
  {
   "cell_type": "code",
   "execution_count": 42,
   "id": "0d3325d5-7222-4f76-83eb-1216778995b0",
   "metadata": {},
   "outputs": [
    {
     "name": "stderr",
     "output_type": "stream",
     "text": [
      "                                                                                                                                              \r"
     ]
    },
    {
     "name": "stdout",
     "output_type": "stream",
     "text": [
      "1865. After her death, Fisk married her sister, Simona, on August 1, 1865. Deaf Smith moved to the North American\n",
      "1839. After her death, Fisk married her sister, Simona, on August 1, 1849. Deaf Smith moved freely between Anglo\n",
      "\n",
      "\n",
      "\n",
      "In 1978, he was a member of the Russian Composers' Society. He was commissioned by the Soviet Broadcasting Corporation in\n",
      "in 1978 he was a member of the Soviet Composer's Society in Moscow. He obtained commissions from the Russian Broadcasting Corporation\n",
      "\n",
      "\n",
      "\n",
      "Zachary Throne Zachary Throne (born September 3, 1970 in Hollywood, California) is an American actor, who has appeared in television and\n",
      "Zachary Throne Zachary Throne (born April 3, 1967 in Hollywood, California) is an American actor and musician who has appeared in \n"
     ]
    },
    {
     "data": {
      "text/plain": [
       "{'eval_loss': 0.6534275412559509,\n",
       " 'eval_accuracy': 0.84375,\n",
       " 'eval_bleu_score': 55.93858920365336,\n",
       " 'eval_meteor_score': 0.7818736704848875,\n",
       " 'eval_rouge_score': 0.778998778998779,\n",
       " 'eval_bert_score': 0.964794913927714,\n",
       " 'eval_emb_cos_sim': 0.9597460031509399,\n",
       " 'eval_perplexity': 1.9221176890235423,\n",
       " 'eval_runtime': 3.3427,\n",
       " 'eval_samples_per_second': 0.897,\n",
       " 'eval_steps_per_second': 0.897}"
      ]
     },
     "execution_count": 42,
     "metadata": {},
     "output_type": "execute_result"
    }
   ],
   "source": [
    "ar_trainer.gen_kwargs = {\n",
    "'early_stopping': False,\n",
    " 'num_beams': 64,\n",
    " 'do_sample': False,\n",
    " 'no_repeat_ngram_size': 0\n",
    "}\n",
    "ar_trainer.args.per_device_eval_batch_size = 1\n",
    "ar_trainer.evaluate(\n",
    "    eval_dataset=na_trainer.eval_dataset[\"nq\"].select([5, 6, 7])\n",
    ")"
   ]
  },
  {
   "cell_type": "code",
   "execution_count": 56,
   "id": "8b5cd713-9c2c-4386-8d8f-883345dbb1c4",
   "metadata": {},
   "outputs": [
    {
     "data": {
      "text/plain": [
       "4096"
      ]
     },
     "execution_count": 56,
     "metadata": {},
     "output_type": "execute_result"
    }
   ],
   "source": [
    "256*16"
   ]
  },
  {
   "cell_type": "markdown",
   "id": "eeae9f2c-3ec8-49f6-a38f-2fe4f0a9df4c",
   "metadata": {},
   "source": [
    "## looking at examples"
   ]
  },
  {
   "cell_type": "code",
   "execution_count": 60,
   "id": "d76cbae1-f9df-4aba-8c5f-fef2173ee703",
   "metadata": {},
   "outputs": [
    {
     "data": {
      "text/plain": [
       "32"
      ]
     },
     "execution_count": 60,
     "metadata": {},
     "output_type": "execute_result"
    }
   ],
   "source": [
    "len(ar_trainer.embedder_tokenizer.encode(\"was made by \\\"Kavira Wala\\\" (Vita ruler) of Khyber Pakhtunkhwa in October 18\"))"
   ]
  },
  {
   "cell_type": "code",
   "execution_count": 61,
   "id": "6657cb2a-67b9-44a4-96b6-2bc578cf3d7a",
   "metadata": {},
   "outputs": [
    {
     "data": {
      "text/plain": [
       "32"
      ]
     },
     "execution_count": 61,
     "metadata": {},
     "output_type": "execute_result"
    }
   ],
   "source": [
    "len(ar_trainer.embedder_tokenizer.encode(\"was made by Vira Wala (Kathi Ruler) of Jetpur with Colonel Walker at Baroda on 26 October 1803.\"))"
   ]
  },
  {
   "cell_type": "code",
   "execution_count": 78,
   "id": "cd949e35-e09b-49e0-8b76-a7c4a6d34d04",
   "metadata": {},
   "outputs": [
    {
     "name": "stderr",
     "output_type": "stream",
     "text": [
      "                                                                                                                                              \r"
     ]
    },
    {
     "name": "stdout",
     "output_type": "stream",
     "text": [
      "was made by \"Vira Wala\" (Kathi Ruler) of Chowdhury with Mohammad Puri in October 18\n",
      "was made by Vira Wala (Kathi Ruler) of Jetpur with Colonel Walker at Baroda on 26 October 1803.\n",
      "\n",
      "\n",
      "\n",
      "was made by \"Vira Wala\" (Kathi Ruler) of Chowdhury with Mohammad Puri in October 18\n",
      "was made by Vira Wala (Kathi Ruler) of Jetpur with Colonel Walker at Baroda on 26 October 1803.\n",
      "\n",
      "\n",
      "\n",
      "was made by \"Vira Wala\" (Kathi Ruler) of Chowdhury with Mohammad Puri in October 18\n",
      "was made by Vira Wala (Kathi Ruler) of Jetpur with Colonel Walker at Baroda on 26 October 1803.\n"
     ]
    },
    {
     "data": {
      "text/plain": [
       "{'eval_loss': 1.3415170907974243,\n",
       " 'eval_accuracy': 0.71875,\n",
       " 'eval_bleu_score': 26.24087769829642,\n",
       " 'eval_meteor_score': 0.5560563568376068,\n",
       " 'eval_rouge_score': 0.606060606060606,\n",
       " 'eval_bert_score': 0.9240144491195679,\n",
       " 'eval_emb_cos_sim': 0.921875,\n",
       " 'eval_perplexity': 3.8248417382340687,\n",
       " 'eval_runtime': 4.7639,\n",
       " 'eval_samples_per_second': 0.63,\n",
       " 'eval_steps_per_second': 0.63}"
      ]
     },
     "execution_count": 78,
     "metadata": {},
     "output_type": "execute_result"
    }
   ],
   "source": [
    "ar_trainer.gen_kwargs = {\n",
    "'early_stopping': False,\n",
    " 'num_beams': 256,\n",
    " 'do_sample': False,\n",
    " 'no_repeat_ngram_size': 0\n",
    "}\n",
    "ar_trainer.args.bf16_full_eval = True \n",
    "ar_trainer.args.per_device_eval_batch_size = 1\n",
    "ar_trainer.evaluate(\n",
    "    eval_dataset=na_trainer.eval_dataset[\"nq\"].select([10, 10, 10])\n",
    ")"
   ]
  },
  {
   "cell_type": "code",
   "execution_count": 36,
   "id": "0fa5b256-469e-4ccf-8911-96504917cb5b",
   "metadata": {},
   "outputs": [
    {
     "name": "stderr",
     "output_type": "stream",
     "text": [
      "                                                                                                                                               \r"
     ]
    },
    {
     "name": "stdout",
     "output_type": "stream",
     "text": [
      "was made by \"Kavira Wala\" (Vita Ruler of Chhattisgarh) in October 1877. With\n",
      "was made by Vira Wala (Kathi Ruler) of Jetpur with Colonel Walker at Baroda on 26 October 1803.\n",
      "\n",
      "\n",
      "\n",
      "was made by \"Kavira Wala\" (Vita Ruler of Chhattisgarh) in October 1877. With\n",
      "was made by Vira Wala (Kathi Ruler) of Jetpur with Colonel Walker at Baroda on 26 October 1803.\n",
      "\n",
      "\n",
      "\n",
      "was made by \"Kavira Wala\" (Vita Ruler of Chhattisgarh) in October 1877. With\n",
      "was made by Vira Wala (Kathi Ruler) of Jetpur with Colonel Walker at Baroda on 26 October 1803.\n"
     ]
    },
    {
     "data": {
      "text/plain": [
       "{'eval_loss': 1.3415170907974243,\n",
       " 'eval_accuracy': 0.71875,\n",
       " 'eval_token_set_precision': 0.46428571428571425,\n",
       " 'eval_token_set_recall': 0.46428571428571425,\n",
       " 'eval_token_set_f1': 0.46428571428571425,\n",
       " 'eval_bleu_score': 6.9479087434860745,\n",
       " 'eval_meteor_score': 0.3858745558350301,\n",
       " 'eval_rouge_score': 0.5161290322580646,\n",
       " 'eval_bert_score': 0.9104572534561157,\n",
       " 'eval_emb_cos_sim': 0.91015625,\n",
       " 'eval_perplexity': 3.8248417382340687,\n",
       " 'eval_runtime': 3.487,\n",
       " 'eval_samples_per_second': 0.86,\n",
       " 'eval_steps_per_second': 0.86}"
      ]
     },
     "execution_count": 36,
     "metadata": {},
     "output_type": "execute_result"
    }
   ],
   "source": [
    "ar_trainer.gen_kwargs = {\n",
    "'early_stopping': False,\n",
    " 'num_beams': 16,\n",
    " 'do_sample': False,\n",
    " 'no_repeat_ngram_size': 0\n",
    "}\n",
    "ar_trainer.args.bf16_full_eval = True \n",
    "ar_trainer.args.per_device_eval_batch_size = 1\n",
    "ar_trainer.evaluate(\n",
    "    eval_dataset=na_trainer.eval_dataset[\"nq\"].select([10, 10, 10])\n",
    ")"
   ]
  },
  {
   "cell_type": "code",
   "execution_count": 82,
   "id": "de31af1d-adac-42c4-b0ec-ea9f15019cf4",
   "metadata": {},
   "outputs": [
    {
     "data": {
      "text/plain": [
       "26.24087769829642"
      ]
     },
     "execution_count": 82,
     "metadata": {},
     "output_type": "execute_result"
    }
   ],
   "source": [
    "def bleu(s1: str, s2: str) -> float:\n",
    "    metrics = ar_trainer.metric_bleu.compute(\n",
    "        predictions=[s1],\n",
    "        references=[s2],\n",
    "    )\n",
    "    return metrics[\"score\"]\n",
    "    \n",
    "bleu(\n",
    "    \"was made by \\\"Vira Wala\\\" (Kathi Ruler) of Chowdhury with Mohammad Puri in October 18\",\n",
    "    \"was made by Vira Wala (Kathi Ruler) of Jetpur with Colonel Walker at Baroda on 26 October 1803.\",\n",
    ")"
   ]
  },
  {
   "cell_type": "code",
   "execution_count": 80,
   "id": "deed731b-7351-487c-94f5-dac5cdc9787f",
   "metadata": {},
   "outputs": [
    {
     "data": {
      "text/plain": [
       "9.143962141667426"
      ]
     },
     "execution_count": 80,
     "metadata": {},
     "output_type": "execute_result"
    }
   ],
   "source": [
    "bleu(\n",
    "    \"was made by \\\"Kavira Wala\\\" (Vita Ruler of Chhattisgarh) in October 1877. With\",\n",
    "    \"was made by Vira Wala (Kathi Ruler) of Jetpur with Colonel Walker at Baroda on 26 October 1803.\",\n",
    ")"
   ]
  },
  {
   "cell_type": "code",
   "execution_count": 83,
   "id": "e82cf3c6-8f8c-4b15-8c3b-a99be2d3a916",
   "metadata": {},
   "outputs": [
    {
     "name": "stderr",
     "output_type": "stream",
     "text": [
      "                                                                                                                                              \r"
     ]
    },
    {
     "name": "stdout",
     "output_type": "stream",
     "text": [
      "by wasa madewal., in the of ruler andi  Walthi 18 K Indiau ( Byth Kar 19) Mart- Vi Maha\n",
      "was made by Vira Wala (Kathi Ruler) of Jetpur with Colonel Walker at Baroda on 26 October 1803.\n",
      "\n",
      "\n",
      "\n",
      "by wasa madewal., in the of ruler andi  Walthi 18 K Indiau ( Byth Kar 19) Mart- Vi Maha\n",
      "was made by Vira Wala (Kathi Ruler) of Jetpur with Colonel Walker at Baroda on 26 October 1803.\n",
      "\n",
      "\n",
      "\n",
      "by wasa madewal., in the of ruler andi  Walthi 18 K Indiau ( Byth Kar 19) Mart- Vi Maha\n",
      "was made by Vira Wala (Kathi Ruler) of Jetpur with Colonel Walker at Baroda on 26 October 1803.\n"
     ]
    },
    {
     "data": {
      "text/plain": [
       "{'eval_loss': 0.0029687799979001284,\n",
       " 'eval_bleu_score': 1.1330528656074907,\n",
       " 'eval_meteor_score': 0.11904761904761903,\n",
       " 'eval_rouge_score': 0.16666666666666666,\n",
       " 'eval_bert_score': 0.8073135018348694,\n",
       " 'eval_emb_cos_sim': 0.7094048857688904,\n",
       " 'eval_runtime': 0.3331,\n",
       " 'eval_samples_per_second': 9.005,\n",
       " 'eval_steps_per_second': 3.002}"
      ]
     },
     "execution_count": 83,
     "metadata": {},
     "output_type": "execute_result"
    }
   ],
   "source": [
    "bow_trainer.evaluate(\n",
    "    eval_dataset=na_trainer.eval_dataset[\"nq\"].select([10, 10, 10])\n",
    ")"
   ]
  },
  {
   "cell_type": "code",
   "execution_count": 84,
   "id": "f18d217f-ca08-4863-b010-9920c5742b23",
   "metadata": {},
   "outputs": [
    {
     "name": "stderr",
     "output_type": "stream",
     "text": [
      "                                                                                                                                              \r"
     ]
    },
    {
     "name": "stdout",
     "output_type": "stream",
     "text": [
      "was made by Kaaa ( ( (aaaaaaa the the the the theaaaaaaaa \n",
      "was made by Vira Wala (Kathi Ruler) of Jetpur with Colonel Walker at Baroda on 26 October 1803.\n",
      "\n",
      "\n",
      "\n",
      "was made by Kaaa ( ( (aaaaaaa the the the the theaaaaaaaa \n",
      "was made by Vira Wala (Kathi Ruler) of Jetpur with Colonel Walker at Baroda on 26 October 1803.\n",
      "\n",
      "\n",
      "\n",
      "was made by Kaaa ( ( (aaaaaaa the the the the theaaaaaaaa \n",
      "was made by Vira Wala (Kathi Ruler) of Jetpur with Colonel Walker at Baroda on 26 October 1803.\n"
     ]
    },
    {
     "data": {
      "text/plain": [
       "{'eval_loss': 5.9487833976745605,\n",
       " 'eval_accuracy': 0.09375,\n",
       " 'eval_bleu_score': 5.073962119072253,\n",
       " 'eval_meteor_score': 0.18564356435643567,\n",
       " 'eval_rouge_score': 0.21428571428571427,\n",
       " 'eval_bert_score': 0.7834572792053223,\n",
       " 'eval_emb_cos_sim': 0.42839914560317993,\n",
       " 'eval_perplexity': 383.28674774200783,\n",
       " 'eval_runtime': 0.3304,\n",
       " 'eval_samples_per_second': 9.079,\n",
       " 'eval_steps_per_second': 3.026}"
      ]
     },
     "execution_count": 84,
     "metadata": {},
     "output_type": "execute_result"
    }
   ],
   "source": [
    "na_trainer.evaluate(\n",
    "    eval_dataset=na_trainer.eval_dataset[\"nq\"].select([10, 10, 10])\n",
    ")"
   ]
  },
  {
   "cell_type": "code",
   "execution_count": 29,
   "id": "16b2752c-7336-4a18-8da0-6cf4c129dba9",
   "metadata": {},
   "outputs": [
    {
     "name": "stderr",
     "output_type": "stream",
     "text": [
      "                                                                                                                                               \r"
     ]
    },
    {
     "name": "stdout",
     "output_type": "stream",
     "text": [
      "to the character of the skull, which are relatively smooth and untutuous in the case of infant sutures. Unlike the sutures,\n",
      "to the character of the sutures of the skull which, like those of the infant skull, are relatively smooth and untortuous. In fact\n",
      "\n",
      "\n",
      "\n",
      "individual from the Southern Hemisphere to win the Winter Olympic relay gold medal, and was also part of the Australian Short Track team, which won gold\n",
      "individual from the Southern Hemisphere, to win a Winter Olympic gold medal and was also part of the short track relay team that won Australia'\n",
      "\n",
      "\n",
      "\n",
      "the same rights as men, and 75% agreed that they should be protected from discrimination. Among the other 15%, gay workers are no longer exp\n",
      "the same rights as straight people, while 15% disagreed. Additionally, 69% agreed that they should be protected from workplace discrimination. 13% of H\n"
     ]
    },
    {
     "data": {
      "text/plain": [
       "{'eval_loss': 1.0522613525390625,\n",
       " 'eval_accuracy': 0.7386067708333334,\n",
       " 'eval_token_set_precision': 0.6595365232793972,\n",
       " 'eval_token_set_recall': 0.6887789003733743,\n",
       " 'eval_token_set_f1': 0.6728795963252079,\n",
       " 'eval_bleu_score': 31.876985502984844,\n",
       " 'eval_meteor_score': 0.5792206976897826,\n",
       " 'eval_rouge_score': 0.6414878805144706,\n",
       " 'eval_bert_score': 0.9177108293709656,\n",
       " 'eval_emb_cos_sim': 0.9062262773513794,\n",
       " 'eval_perplexity': 2.8641205867926014,\n",
       " 'eval_runtime': 5.2733,\n",
       " 'eval_samples_per_second': 94.817,\n",
       " 'eval_steps_per_second': 0.759}"
      ]
     },
     "execution_count": 29,
     "metadata": {},
     "output_type": "execute_result"
    }
   ],
   "source": [
    "ar_trainer.evaluate(\n",
    "    eval_dataset=ar_trainer.eval_dataset[\"nq\"]\n",
    ")"
   ]
  },
  {
   "cell_type": "code",
   "execution_count": 109,
   "id": "9ef6bf95-f0a3-4b69-a136-633917cdf7f0",
   "metadata": {},
   "outputs": [
    {
     "name": "stderr",
     "output_type": "stream",
     "text": [
      "                                                                                                                                               \r"
     ]
    },
    {
     "name": "stdout",
     "output_type": "stream",
     "text": [
      "[pred] Six Flags to \"a ride of steel\". On March 1, 2016, Six Flags announced that it would be offering a slightly different layout than the previous\n",
      "[true] Ride of Steel\" prior to 2009, but it features a significantly different layout. On March 3, 2016, Six Flags announced that the ride would be one\n",
      "\n",
      "\n",
      "\n",
      "[pred] Six Flags to \"a ride of steel\". On March 1, 2016, Six Flags announced that it would be offering a slightly different layout than the previous\n",
      "[true] Ride of Steel\" prior to 2009, but it features a significantly different layout. On March 3, 2016, Six Flags announced that the ride would be one\n",
      "\n",
      "\n",
      "\n",
      "[pred] Six Flags to \"a ride of steel\". On March 1, 2016, Six Flags announced that it would be offering a slightly different layout than the previous\n",
      "[true] Ride of Steel\" prior to 2009, but it features a significantly different layout. On March 3, 2016, Six Flags announced that the ride would be one\n"
     ]
    },
    {
     "data": {
      "text/plain": [
       "{'eval_loss': 1.5266567468643188,\n",
       " 'eval_accuracy': 0.71875,\n",
       " 'eval_token_set_precision': 0.6129032258064516,\n",
       " 'eval_token_set_recall': 0.7037037037037037,\n",
       " 'eval_token_set_f1': 0.6551724137931035,\n",
       " 'eval_bleu_score': 28.582347148150316,\n",
       " 'eval_meteor_score': 0.7013537410817733,\n",
       " 'eval_rouge_score': 0.6923076923076922,\n",
       " 'eval_bert_score': 0.9080532193183899,\n",
       " 'eval_emb_cos_sim': 0.9296875,\n",
       " 'eval_perplexity': 4.602762868888783,\n",
       " 'eval_runtime': 3.2596,\n",
       " 'eval_samples_per_second': 0.92,\n",
       " 'eval_steps_per_second': 0.92}"
      ]
     },
     "execution_count": 109,
     "metadata": {},
     "output_type": "execute_result"
    }
   ],
   "source": [
    "ar_trainer.evaluate(\n",
    "    eval_dataset=ar_trainer.eval_dataset[\"nq\"].select([95, 95, 95])\n",
    ")"
   ]
  },
  {
   "cell_type": "code",
   "execution_count": 82,
   "id": "7c76849d-a8c3-452d-a373-e41e691c7267",
   "metadata": {},
   "outputs": [
    {
     "data": {
      "text/plain": [
       "tensor([ 4738,     3,  4594,    96, 27171, 26239,  2133,   493,   105,  8306],\n",
       "       device='cuda:0')"
      ]
     },
     "execution_count": 82,
     "metadata": {},
     "output_type": "execute_result"
    }
   ],
   "source": [
    "import torch\n",
    "\n",
    "ds_tiny = ar_trainer.eval_dataset[\"nq\"].select([119])\n",
    "ds_dataloader = torch.utils.data.DataLoader(\n",
    "    ds_tiny,\n",
    "    batch_size=1,\n",
    "    collate_fn=ar_trainer.data_collator,\n",
    ")\n",
    "ds_batch = next(iter(ds_dataloader))\n",
    "ds_batch = { k: v.to(ar_trainer.args.device) for k,v in ds_batch.items() }\n",
    "decoder_input_ids = torch.tensor(\n",
    "    [[0]], dtype=torch.long, device=ar_trainer.args.device\n",
    ")\n",
    "ar_trainer.model.forward(\n",
    "    embedder_input_ids=ds_batch['embedder_input_ids'],\n",
    "    embedder_attention_mask=ds_batch['embedder_attention_mask'],\n",
    "    decoder_input_ids=decoder_input_ids,\n",
    ").logits.argsort(-1, descending=True).flatten()[:10]"
   ]
  },
  {
   "cell_type": "code",
   "execution_count": 87,
   "id": "cd9bc713-3d6f-4df4-95df-5585daffca8e",
   "metadata": {},
   "outputs": [
    {
     "data": {
      "text/plain": [
       "tensor([[    3,    31,   566,  3096,  6096,  4738,    17,     7,    31,    16,\n",
       "         14330,    15, 15926, 26886,   493,  7975, 22021,    35, 26886,   493,\n",
       "          7975,    18,   254,    40,  2064,    35,    41, 23323,  6180, 16312,\n",
       "            16,     1]], device='cuda:0')"
      ]
     },
     "execution_count": 87,
     "metadata": {},
     "output_type": "execute_result"
    }
   ],
   "source": [
    "ds_batch[\"labels\"]"
   ]
  },
  {
   "cell_type": "code",
   "execution_count": 91,
   "id": "0d9bae11-4a2d-4551-b8c0-2c68b441796f",
   "metadata": {},
   "outputs": [
    {
     "data": {
      "text/plain": [
       "\"'\""
      ]
     },
     "execution_count": 91,
     "metadata": {},
     "output_type": "execute_result"
    }
   ],
   "source": [
    "ar_trainer.embedder_tokenizer.decode([31])"
   ]
  },
  {
   "cell_type": "code",
   "execution_count": 95,
   "id": "5819ca6e-37b0-4c68-82e6-655ec9308fe4",
   "metadata": {},
   "outputs": [
    {
     "data": {
      "text/plain": [
       "'▁'"
      ]
     },
     "execution_count": 95,
     "metadata": {},
     "output_type": "execute_result"
    }
   ],
   "source": [
    "rvocab = {v: k for k,v in ar_trainer.embedder_tokenizer.vocab.items() }\n",
    "rvocab[3]"
   ]
  },
  {
   "cell_type": "code",
   "execution_count": 66,
   "id": "950bffe1-e461-4f72-8893-b2205dddaebd",
   "metadata": {},
   "outputs": [
    {
     "data": {
      "text/plain": [
       "tensor([[    3,    31,   566,  3096,  6096,  4738,    17,     7,    31,    16,\n",
       "         14330,    15, 15926, 26886,   493,  7975, 22021,    35, 26886,   493,\n",
       "          7975,    18,   254,    40,  2064,    35,    41, 23323,  6180, 16312,\n",
       "            16,     1]], device='cuda:0')"
      ]
     },
     "execution_count": 66,
     "metadata": {},
     "output_type": "execute_result"
    }
   ],
   "source": [
    "ds_batch['labels']"
   ]
  },
  {
   "cell_type": "code",
   "execution_count": 90,
   "id": "49f9133b-d727-41cd-bd3a-0d301a0865e5",
   "metadata": {},
   "outputs": [
    {
     "name": "stderr",
     "output_type": "stream",
     "text": [
      "                                                                                                                                              \r"
     ]
    },
    {
     "name": "stdout",
     "output_type": "stream",
     "text": [
      "Happyeerererereee, the,,,,,,,,,,,,,,,,,, \n",
      "'Happiness Tents' in refugee camps Mickey Beyer Clausen Mickey Beyer-Clausen (April 3, 1975 in\n",
      "\n",
      "\n",
      "\n",
      "Happyeerererereee, the,,,,,,,,,,,,,,,,,, \n",
      "'Happiness Tents' in refugee camps Mickey Beyer Clausen Mickey Beyer-Clausen (April 3, 1975 in\n",
      "\n",
      "\n",
      "\n",
      "Happyeerererereee, the,,,,,,,,,,,,,,,,,, \n",
      "'Happiness Tents' in refugee camps Mickey Beyer Clausen Mickey Beyer-Clausen (April 3, 1975 in\n"
     ]
    },
    {
     "data": {
      "text/plain": [
       "{'eval_loss': 5.71923828125,\n",
       " 'eval_accuracy': 0.0625,\n",
       " 'eval_bleu_score': 0.7967007322934379,\n",
       " 'eval_meteor_score': 0.028735632183908042,\n",
       " 'eval_rouge_score': 0.0,\n",
       " 'eval_bert_score': 0.7606546878814697,\n",
       " 'eval_emb_cos_sim': 0.1649952232837677,\n",
       " 'eval_perplexity': 304.6727595929441,\n",
       " 'eval_runtime': 0.317,\n",
       " 'eval_samples_per_second': 9.463,\n",
       " 'eval_steps_per_second': 3.154}"
      ]
     },
     "execution_count": 90,
     "metadata": {},
     "output_type": "execute_result"
    }
   ],
   "source": [
    "na_trainer.evaluate(\n",
    "    eval_dataset=na_trainer.eval_dataset[\"nq\"].select([119, 119, 119])\n",
    ")"
   ]
  },
  {
   "cell_type": "code",
   "execution_count": null,
   "id": "16f2f410-07da-44d6-b159-498c16a4c41b",
   "metadata": {},
   "outputs": [],
   "source": []
  }
 ],
 "metadata": {
  "kernelspec": {
   "display_name": "Python 3 (ipykernel)",
   "language": "python",
   "name": "python3"
  },
  "language_info": {
   "codemirror_mode": {
    "name": "ipython",
    "version": 3
   },
   "file_extension": ".py",
   "mimetype": "text/x-python",
   "name": "python",
   "nbconvert_exporter": "python",
   "pygments_lexer": "ipython3",
   "version": "3.10.10"
  }
 },
 "nbformat": 4,
 "nbformat_minor": 5
}
