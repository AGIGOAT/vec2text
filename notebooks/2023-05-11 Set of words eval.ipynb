{
 "cells": [
  {
   "cell_type": "code",
   "execution_count": 1,
   "id": "3c99ef4b-d1b4-46a2-92c0-386485d357d7",
   "metadata": {},
   "outputs": [],
   "source": [
    "import os\n",
    "os.environ[\"WANDB_DISABLED\"] = \"true\"\n",
    "\n",
    "import sys\n",
    "# sys.path = ['/home/jxm3/research/retrieval/inversion'] + sys.path\n",
    "sys.path = [\n",
    "    p for p in sys.path\n",
    "    if p not in ['/home/jxm3/research/prompting/imodelsX', '/home/jxm3/research/prompting/tree-prompt']\n",
    "]\n",
    "sys.path.append('/home/jxm3/research/retrieval/inversion')\n",
    "\n",
    "%load_ext autoreload\n",
    "%autoreload 2"
   ]
  },
  {
   "cell_type": "code",
   "execution_count": 2,
   "id": "add75d21-5277-4dd8-af15-48593ba5b3f3",
   "metadata": {},
   "outputs": [
    {
     "name": "stdout",
     "output_type": "stream",
     "text": [
      "['/home/jxm3/research/retrieval/inversion/notebooks', '/home/jxm3/.conda/envs/torch/lib/python310.zip', '/home/jxm3/.conda/envs/torch/lib/python3.10', '/home/jxm3/.conda/envs/torch/lib/python3.10/lib-dynload', '', '/home/jxm3/.conda/envs/torch/lib/python3.10/site-packages', '/home/jxm3/random/slurmpy', '/home/jxm3/.conda/envs/torch/lib/python3.10/site-packages/mpmath-1.2.1-py3.10.egg', '/home/jxm3/research/retrieval/inversion']\n"
     ]
    }
   ],
   "source": [
    "print(sys.path)"
   ]
  },
  {
   "cell_type": "code",
   "execution_count": 6,
   "id": "352ad2e8-a404-4bae-b7d1-681de2afc6f1",
   "metadata": {},
   "outputs": [
    {
     "name": "stdout",
     "output_type": "stream",
     "text": [
      "Loading trainer for analysis – setting --do_eval=1\n"
     ]
    },
    {
     "name": "stderr",
     "output_type": "stream",
     "text": [
      "/home/jxm3/.conda/envs/torch/lib/python3.10/site-packages/transformers/models/t5/tokenization_t5_fast.py:155: FutureWarning: This tokenizer was incorrectly instantiated with a model max length of 512 which will be corrected in Transformers v5.\n",
      "For now, this behavior is kept to avoid breaking backwards compatibility when padding/encoding with `truncation is True`.\n",
      "- Be aware that you SHOULD NOT rely on t5-base automatically truncating your input to 512 when padding/encoding.\n",
      "- If you want to encode/pad to sequences longer than 512 you can either instantiate this tokenizer with `model_max_length` or pass `max_length` when encoding/padding.\n",
      "- To avoid this warning, please instantiate this tokenizer with `model_max_length` set to your preferred value.\n",
      "  warnings.warn(\n"
     ]
    },
    {
     "data": {
      "application/vnd.jupyter.widget-view+json": {
       "model_id": "a290fa8707e84adb84fe2ae6f9610e2d",
       "version_major": 2,
       "version_minor": 0
      },
      "text/plain": [
       "  0%|          | 0/2 [00:00<?, ?it/s]"
      ]
     },
     "metadata": {},
     "output_type": "display_data"
    },
    {
     "data": {
      "application/vnd.jupyter.widget-view+json": {
       "model_id": "9318e82a971c4d7fbb058c2b7cfe049d",
       "version_major": 2,
       "version_minor": 0
      },
      "text/plain": [
       "  0%|          | 0/3 [00:00<?, ?it/s]"
      ]
     },
     "metadata": {},
     "output_type": "display_data"
    },
    {
     "data": {
      "application/vnd.jupyter.widget-view+json": {
       "model_id": "2346222b4127476b9c534e66ba2f8e56",
       "version_major": 2,
       "version_minor": 0
      },
      "text/plain": [
       "  0%|          | 0/3 [00:00<?, ?it/s]"
      ]
     },
     "metadata": {},
     "output_type": "display_data"
    },
    {
     "data": {
      "application/vnd.jupyter.widget-view+json": {
       "model_id": "125ceeea5ced4398ae4835ded28300e4",
       "version_major": 2,
       "version_minor": 0
      },
      "text/plain": [
       "  0%|          | 0/3 [00:00<?, ?it/s]"
      ]
     },
     "metadata": {},
     "output_type": "display_data"
    },
    {
     "data": {
      "application/vnd.jupyter.widget-view+json": {
       "model_id": "",
       "version_major": 2,
       "version_minor": 0
      },
      "text/plain": [
       "Running tokenizer on dataset:   0%|          | 0/11332 [00:00<?, ? examples/s]"
      ]
     },
     "metadata": {},
     "output_type": "display_data"
    },
    {
     "name": "stderr",
     "output_type": "stream",
     "text": [
      "[nltk_data] Downloading package wordnet to /home/jxm3/nltk_data...\n",
      "[nltk_data]   Package wordnet is already up-to-date!\n",
      "[nltk_data] Downloading package punkt to /home/jxm3/nltk_data...\n",
      "[nltk_data]   Package punkt is already up-to-date!\n",
      "[nltk_data] Downloading package omw-1.4 to /home/jxm3/nltk_data...\n",
      "[nltk_data]   Package omw-1.4 is already up-to-date!\n"
     ]
    },
    {
     "name": "stdout",
     "output_type": "stream",
     "text": [
      "================ Begin trainer sanity check ================\n",
      "\tInput to encode -> Twas brillig, and the slithy toves, Did gyre and gimble in the wabe, All mimsy were the borogoves, And the mome raths outgrabe.\n",
      "> \u001b[0;32m/home/jxm3/research/retrieval/inversion/models/inversion_bow.py\u001b[0m(59)\u001b[0;36mgenerate\u001b[0;34m()\u001b[0m\n",
      "\u001b[0;32m     57 \u001b[0;31m        \u001b[0mmax_length\u001b[0m \u001b[0;34m=\u001b[0m \u001b[0minputs\u001b[0m\u001b[0;34m.\u001b[0m\u001b[0mget\u001b[0m\u001b[0;34m(\u001b[0m\u001b[0;34m\"input_ids\"\u001b[0m\u001b[0;34m,\u001b[0m \u001b[0minputs\u001b[0m\u001b[0;34m[\u001b[0m\u001b[0;34m\"embedder_input_ids\"\u001b[0m\u001b[0;34m]\u001b[0m\u001b[0;34m)\u001b[0m\u001b[0;34m.\u001b[0m\u001b[0mshape\u001b[0m\u001b[0;34m[\u001b[0m\u001b[0;36m1\u001b[0m\u001b[0;34m]\u001b[0m\u001b[0;34m\u001b[0m\u001b[0;34m\u001b[0m\u001b[0m\n",
      "\u001b[0m\u001b[0;32m     58 \u001b[0;31m        \u001b[0;32mimport\u001b[0m \u001b[0mpdb\u001b[0m\u001b[0;34m;\u001b[0m \u001b[0mpdb\u001b[0m\u001b[0;34m.\u001b[0m\u001b[0mset_trace\u001b[0m\u001b[0;34m(\u001b[0m\u001b[0;34m)\u001b[0m\u001b[0;34m\u001b[0m\u001b[0;34m\u001b[0m\u001b[0m\n",
      "\u001b[0m\u001b[0;32m---> 59 \u001b[0;31m        \u001b[0;32mreturn\u001b[0m \u001b[0mlogits\u001b[0m\u001b[0;34m.\u001b[0m\u001b[0mtopk\u001b[0m\u001b[0;34m(\u001b[0m\u001b[0mmax_length\u001b[0m\u001b[0;34m,\u001b[0m \u001b[0mdim\u001b[0m\u001b[0;34m=\u001b[0m\u001b[0;36m1\u001b[0m\u001b[0;34m)\u001b[0m\u001b[0;34m.\u001b[0m\u001b[0mindices\u001b[0m\u001b[0;34m\u001b[0m\u001b[0;34m\u001b[0m\u001b[0m\n",
      "\u001b[0m\u001b[0;32m     60 \u001b[0;31m\u001b[0;34m\u001b[0m\u001b[0m\n",
      "\u001b[0m\u001b[0;32m     61 \u001b[0;31m    def call_embedding_model(\n",
      "\u001b[0m\n"
     ]
    },
    {
     "name": "stdin",
     "output_type": "stream",
     "text": [
      "ipdb>  logits.topk(max_length, dim=1).indices\n"
     ]
    },
    {
     "name": "stdout",
     "output_type": "stream",
     "text": [
      "tensor([[    0,     6,    62,     5,     2,   114,     7,  2295,    14,    10,\n",
      "            50,   121,     4,    46,    16,  2287,  2159, 18032,   345,    51,\n",
      "            39,    12,    36,  1151,    25,  4231,    59,   763,   129,   209,\n",
      "            31,  5729,   953,    77,  3541,   116,    11,   119,   107,     8,\n",
      "            35,  3971,  4663,   724,  7001,  4751,  5599,   276,  1764,  5571,\n",
      "          7309,    30,    15,    22,    28,   108,   968,  1262]],\n",
      "       device='cuda:0')\n"
     ]
    },
    {
     "name": "stdin",
     "output_type": "stream",
     "text": [
      "ipdb>  inputs.get(\"input_ids\")\n",
      "ipdb>  inputs.get(\"input_ids\", inputs[\"embedder_input_ids\"])\n"
     ]
    },
    {
     "name": "stdout",
     "output_type": "stream",
     "text": [
      "tensor([[  332,  9491,     3,  2160,    40,  2825,     6,    11,     8,     3,\n",
      "             7, 18800,    63,    12,   162,     7,     6,  3963,     3,   122,\n",
      "            63,    60,    11,     3,   122,   603,  2296,    16,     8,  8036,\n",
      "           346,     6,   432,  1337,    51,     7,    63,   130,     8,     3,\n",
      "         14901,  9527,    15,     7,     6,   275,     8,  3912,    15,     3,\n",
      "          1795,   107,     7,    91,  3484,   346,     5,     1]],\n",
      "       device='cuda:0')\n"
     ]
    },
    {
     "name": "stdin",
     "output_type": "stream",
     "text": [
      "ipdb>  p logits\n"
     ]
    },
    {
     "name": "stdout",
     "output_type": "stream",
     "text": [
      "tensor([[ 10.2401,  -4.1152,   1.9175,  ..., -43.8247, -43.5744, -43.4407]],\n",
      "       device='cuda:0')\n"
     ]
    },
    {
     "name": "stdin",
     "output_type": "stream",
     "text": [
      "ipdb>  p logits.argmax()\n"
     ]
    },
    {
     "name": "stdout",
     "output_type": "stream",
     "text": [
      "tensor(0, device='cuda:0')\n"
     ]
    },
    {
     "name": "stdin",
     "output_type": "stream",
     "text": [
      "ipdb>  p logits[:,1:].argmax()\n"
     ]
    },
    {
     "name": "stdout",
     "output_type": "stream",
     "text": [
      "tensor(5, device='cuda:0')\n"
     ]
    },
    {
     "name": "stdin",
     "output_type": "stream",
     "text": [
      "ipdb>  p (-logits).argsort()\n"
     ]
    },
    {
     "name": "stdout",
     "output_type": "stream",
     "text": [
      "tensor([[    0,     6,    62,  ..., 29987, 30964, 17328]], device='cuda:0')\n"
     ]
    },
    {
     "name": "stdin",
     "output_type": "stream",
     "text": [
      "ipdb>  p logits.topk(10).values\n"
     ]
    },
    {
     "name": "stdout",
     "output_type": "stream",
     "text": [
      "tensor([[10.2401,  2.7274,  2.3547,  2.1285,  1.9175,  1.5308,  1.3781,  1.2467,\n",
      "          1.2268,  1.1331]], device='cuda:0')\n"
     ]
    },
    {
     "name": "stdin",
     "output_type": "stream",
     "text": [
      "ipdb>  p logits.sigmoid().topk(10).values\n"
     ]
    },
    {
     "name": "stdout",
     "output_type": "stream",
     "text": [
      "tensor([[1.0000, 0.9386, 0.9133, 0.8936, 0.8719, 0.8221, 0.7987, 0.7767, 0.7733,\n",
      "         0.7564]], device='cuda:0')\n"
     ]
    },
    {
     "name": "stdin",
     "output_type": "stream",
     "text": [
      "ipdb>  p (logits.sigmoid() < 0).any()\n"
     ]
    },
    {
     "name": "stdout",
     "output_type": "stream",
     "text": [
      "tensor(False, device='cuda:0')\n"
     ]
    },
    {
     "name": "stdin",
     "output_type": "stream",
     "text": [
      "ipdb>  p (logits.sigmoid() > 0.5).nonzero()\n"
     ]
    },
    {
     "name": "stdout",
     "output_type": "stream",
     "text": [
      "tensor([[   0,    0],\n",
      "        [   0,    2],\n",
      "        [   0,    4],\n",
      "        [   0,    5],\n",
      "        [   0,    6],\n",
      "        [   0,    7],\n",
      "        [   0,   10],\n",
      "        [   0,   14],\n",
      "        [   0,   16],\n",
      "        [   0,   46],\n",
      "        [   0,   50],\n",
      "        [   0,   62],\n",
      "        [   0,  114],\n",
      "        [   0,  121],\n",
      "        [   0, 2295]], device='cuda:0')\n"
     ]
    },
    {
     "name": "stdin",
     "output_type": "stream",
     "text": [
      "ipdb>  p (logits.flatten().sigmoid() > 0.5).nonzero()\n"
     ]
    },
    {
     "name": "stdout",
     "output_type": "stream",
     "text": [
      "tensor([[   0],\n",
      "        [   2],\n",
      "        [   4],\n",
      "        [   5],\n",
      "        [   6],\n",
      "        [   7],\n",
      "        [  10],\n",
      "        [  14],\n",
      "        [  16],\n",
      "        [  46],\n",
      "        [  50],\n",
      "        [  62],\n",
      "        [ 114],\n",
      "        [ 121],\n",
      "        [2295]], device='cuda:0')\n"
     ]
    },
    {
     "name": "stdin",
     "output_type": "stream",
     "text": [
      "ipdb>  p self.tokenizer.decode(p (logits.flatten().sigmoid() > 0.5).nonzero().flatten())\n"
     ]
    },
    {
     "name": "stdout",
     "output_type": "stream",
     "text": [
      "*** NameError: name 'p' is not defined\n"
     ]
    },
    {
     "name": "stdin",
     "output_type": "stream",
     "text": [
      "ipdb>   self.tokenizer.decode((logits.flatten().sigmoid() > 0.5).nonzero().flatten())\n"
     ]
    },
    {
     "name": "stdout",
     "output_type": "stream",
     "text": [
      "'<pad><unk>X.,s: fill in an la we like\"uch'\n"
     ]
    },
    {
     "name": "stdin",
     "output_type": "stream",
     "text": [
      "ipdb>  logits\n"
     ]
    },
    {
     "name": "stdout",
     "output_type": "stream",
     "text": [
      "tensor([[ 10.2401,  -4.1152,   1.9175,  ..., -43.8247, -43.5744, -43.4407]],\n",
      "       device='cuda:0')\n"
     ]
    },
    {
     "name": "stdin",
     "output_type": "stream",
     "text": [
      "ipdb>  labels = inputs[\"embedder_input_ids\"]\n",
      "ipdb>  labels\n"
     ]
    },
    {
     "name": "stdout",
     "output_type": "stream",
     "text": [
      "tensor([[  332,  9491,     3,  2160,    40,  2825,     6,    11,     8,     3,\n",
      "             7, 18800,    63,    12,   162,     7,     6,  3963,     3,   122,\n",
      "            63,    60,    11,     3,   122,   603,  2296,    16,     8,  8036,\n",
      "           346,     6,   432,  1337,    51,     7,    63,   130,     8,     3,\n",
      "         14901,  9527,    15,     7,     6,   275,     8,  3912,    15,     3,\n",
      "          1795,   107,     7,    91,  3484,   346,     5,     1]],\n",
      "       device='cuda:0')\n"
     ]
    },
    {
     "name": "stdin",
     "output_type": "stream",
     "text": [
      "ipdb>  self.bow_loss(logits, labels)\n"
     ]
    },
    {
     "name": "stdout",
     "output_type": "stream",
     "text": [
      "*** ValueError: Target size (torch.Size([1, 32128])) must be the same as input size (torch.Size([1, 32127]))\n"
     ]
    },
    {
     "name": "stdin",
     "output_type": "stream",
     "text": [
      "ipdb>  logits.shape\n"
     ]
    },
    {
     "name": "stdout",
     "output_type": "stream",
     "text": [
      "torch.Size([1, 32127])\n"
     ]
    },
    {
     "name": "stdin",
     "output_type": "stream",
     "text": [
      "ipdb>  exit\n"
     ]
    }
   ],
   "source": [
    "import analyze_utils\n",
    "\n",
    "# https://wandb.ai/jack-morris/emb-inv-bow-1/runs/a765aaaf0a0e689659a5a6a00f6a2e84/overview?workspace=user-jxmorris12\n",
    "checkpoint_folder = \"/home/jxm3/research/retrieval/inversion/saves/4fbfb4a93eb0d64d3ca837b17d0a47d3/\"\n",
    "trainer = analyze_utils.load_trainer(checkpoint_folder)"
   ]
  },
  {
   "cell_type": "code",
   "execution_count": 32,
   "id": "b2ee3314-2057-409b-99ca-14010f427597",
   "metadata": {},
   "outputs": [
    {
     "name": "stdout",
     "output_type": "stream",
     "text": [
      "================ Begin trainer sanity check ================\n",
      "\tInput to encode -> Twas brillig, and the slithy toves, Did gyre and gimble in the wabe, All mimsy were the borogoves, And the mome raths outgrabe.\n",
      "\tDecoded output -> sy, b theblee andmg. wast mobri boreberl of Theberdbiere came wereworite ma so gr; toly sia bemosliesiesgla plzieerskingdigbble' ininleby Go\n",
      "================ End trainer sanity check ================\n"
     ]
    }
   ],
   "source": [
    "trainer.sanity_decode()"
   ]
  },
  {
   "cell_type": "code",
   "execution_count": 17,
   "id": "a8802e8d-8a99-4be6-af02-f31e7eacbbd8",
   "metadata": {},
   "outputs": [
    {
     "name": "stdout",
     "output_type": "stream",
     "text": [
      "================ Begin trainer sanity check ================\n",
      "\tInput to encode -> Twas brillig, and the slithy toves, Did gyre and gimble in the wabe, All mimsy were the borogoves, And the mome raths outgrabe.\n",
      "\tDecoded output -> sy, b theblee andmg. wast mobri boreberl of Theberdbiere came wereworite ma so gr; toly sia bemosliesiesgla plzieerskingdigbble' ininleby Go\n",
      "================ End trainer sanity check ================\n"
     ]
    }
   ],
   "source": [
    "trainer.sanity_decode()"
   ]
  },
  {
   "cell_type": "code",
   "execution_count": 20,
   "id": "aff261da-60f0-4992-a460-580505b663ef",
   "metadata": {},
   "outputs": [
    {
     "data": {
      "text/html": [
       "\n",
       "    <div>\n",
       "      \n",
       "      <progress value='13' max='1' style='width:300px; height:20px; vertical-align: middle;'></progress>\n",
       "      [1/1 12:20]\n",
       "    </div>\n",
       "    "
      ],
      "text/plain": [
       "<IPython.core.display.HTML object>"
      ]
     },
     "metadata": {},
     "output_type": "display_data"
    },
    {
     "name": "stderr",
     "output_type": "stream",
     "text": [
      "                                                                                                                                                      \r"
     ]
    },
    {
     "name": "stdout",
     "output_type": "stream",
     "text": [
      "skull of smooth the.s, and infantural bones mannert that toa softletonular in aretraumatic The unlike with detailsul character remains\n",
      "to the character of the sutures of the skull which, like those of the infant skull, are relatively smooth and untortuous. In fact\n",
      "\n",
      "\n",
      "\n",
      "Winter the  to won winter South and win was team, medal Australiaa who Australian He. for of gold World individual in S Northern Team Olympics from-\n",
      "individual from the Southern Hemisphere, to win a Winter Olympic gold medal and was also part of the short track relay team that won Australia'\n",
      "\n",
      "\n",
      "\n",
      "rights. equality and discrimin workers,  workplace gay protected LGBTs the of to work that right equal same employees straight agreeda they agree should peopled were\n",
      "the same rights as straight people, while 15% disagreed. Additionally, 69% agreed that they should be protected from workplace discrimination. 13% of H\n"
     ]
    },
    {
     "data": {
      "text/plain": [
       "{'eval_loss': 0.0023660382721573114,\n",
       " 'eval_bleu_score': 0.30800504075285257,\n",
       " 'eval_meteor_score': 0.222961078407515,\n",
       " 'eval_rouge_score': 0.3596046073030128,\n",
       " 'eval_bert_score': 0.8157957574129104,\n",
       " 'eval_emb_cos_sim': 0.704466700553894,\n",
       " 'eval_runtime': 10.2924,\n",
       " 'eval_samples_per_second': 48.58,\n",
       " 'eval_steps_per_second': 0.097}"
      ]
     },
     "execution_count": 20,
     "metadata": {},
     "output_type": "execute_result"
    }
   ],
   "source": [
    "trainer.evaluate(\n",
    "    eval_dataset=trainer.eval_dataset[\"nq\"]\n",
    ")"
   ]
  },
  {
   "cell_type": "code",
   "execution_count": 33,
   "id": "023f3ccf-bea0-41a9-b2dc-212c893813b6",
   "metadata": {},
   "outputs": [
    {
     "name": "stderr",
     "output_type": "stream",
     "text": [
      "                                                                                                                                                      \r"
     ]
    },
    {
     "name": "stdout",
     "output_type": "stream",
     "text": [
      "li known ( asI Michael ila II thelik, ofiche \"KIII alsoano) I Church-dsf III\n",
      "pope michael iii of alexandria -lrb- also known as khail i\n",
      "\n",
      "\n",
      "\n",
      " is tennis. playerajun () Chinesehui He table male Jun female the who Huheie former and has- professional Fu men of high\n",
      "hui jun is a male former table tennis player from china.\n",
      "\n",
      "\n",
      "\n",
      " (born is)ba Turkish Ourrk 7rikturtürlnst July born. Turkeyy Rz;o November\n",
      "okan ztürk -lrb- born 30 november 1977 -rrb- is a tur\n"
     ]
    },
    {
     "data": {
      "text/plain": [
       "{'eval_loss': 0.0023790744598954916,\n",
       " 'eval_bleu_score': 0.0815640354794625,\n",
       " 'eval_meteor_score': 0.10922318446591002,\n",
       " 'eval_rouge_score': 0.1768731644551103,\n",
       " 'eval_bert_score': 0.7914543685913086,\n",
       " 'eval_emb_cos_sim': 0.6554672718048096,\n",
       " 'eval_runtime': 3.3372,\n",
       " 'eval_samples_per_second': 149.828,\n",
       " 'eval_steps_per_second': 0.3}"
      ]
     },
     "execution_count": 33,
     "metadata": {},
     "output_type": "execute_result"
    }
   ],
   "source": [
    "trainer.evaluate(\n",
    "    eval_dataset=trainer.eval_dataset[\"wikibio\"]\n",
    ")"
   ]
  },
  {
   "cell_type": "code",
   "execution_count": null,
   "id": "837607d3-11cd-4545-8be4-272a5ba431b9",
   "metadata": {},
   "outputs": [],
   "source": []
  }
 ],
 "metadata": {
  "kernelspec": {
   "display_name": "Python 3 (ipykernel)",
   "language": "python",
   "name": "python3"
  },
  "language_info": {
   "codemirror_mode": {
    "name": "ipython",
    "version": 3
   },
   "file_extension": ".py",
   "mimetype": "text/x-python",
   "name": "python",
   "nbconvert_exporter": "python",
   "pygments_lexer": "ipython3",
   "version": "3.10.10"
  }
 },
 "nbformat": 4,
 "nbformat_minor": 5
}
