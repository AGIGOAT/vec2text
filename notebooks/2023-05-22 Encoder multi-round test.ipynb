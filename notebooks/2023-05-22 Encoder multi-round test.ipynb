{
 "cells": [
  {
   "cell_type": "code",
   "execution_count": 1,
   "id": "5628f14b-f207-42ff-a7a8-119c813bf583",
   "metadata": {},
   "outputs": [],
   "source": [
    "%load_ext autoreload\n",
    "%autoreload 2"
   ]
  },
  {
   "cell_type": "code",
   "execution_count": 2,
   "id": "c83eb4ec-24eb-486c-bfab-282f610624dc",
   "metadata": {},
   "outputs": [],
   "source": [
    "import os\n",
    "os.environ[\"WANDB_DISABLED\"] = \"true\"\n",
    "\n",
    "import sys\n",
    "# sys.path = ['/home/jxm3/research/retrieval/inversion'] + sys.path\n",
    "sys.path = [\n",
    "    p for p in sys.path\n",
    "    if p not in ['/home/jxm3/research/prompting/imodelsX', '/home/jxm3/research/prompting/tree-prompt']\n",
    "]\n",
    "sys.path.append('/home/jxm3/research/retrieval/inversion')"
   ]
  },
  {
   "cell_type": "markdown",
   "id": "278249f9-b243-4549-acf5-4839b2ff15ed",
   "metadata": {},
   "source": [
    "## debugging\n",
    "\n",
    "we trained our first self-correcting model that's decoder-based. generation from it doesn't seem to be working properly, so going to debug in this notebook."
   ]
  },
  {
   "cell_type": "code",
   "execution_count": 11,
   "id": "60660ace-aab9-42b5-be7d-b19f77123ce6",
   "metadata": {},
   "outputs": [
    {
     "name": "stdout",
     "output_type": "stream",
     "text": [
      "Loading trainer for analysis – setting --do_eval=1\n",
      "loading alias dpr_nq__msl32_beta from /home/jxm3/research/retrieval/inversion/saves/db66b9c01b644541fedbdcc59c53a285/ebb31d91810c4b62d2b55b5382e8c7ea...\n",
      "Set train_args.dataloader_num_workers = 4\n"
     ]
    },
    {
     "name": "stderr",
     "output_type": "stream",
     "text": [
      "/home/jxm3/.conda/envs/torch/lib/python3.10/site-packages/transformers/models/t5/tokenization_t5_fast.py:155: FutureWarning: This tokenizer was incorrectly instantiated with a model max length of 512 which will be corrected in Transformers v5.\n",
      "For now, this behavior is kept to avoid breaking backwards compatibility when padding/encoding with `truncation is True`.\n",
      "- Be aware that you SHOULD NOT rely on t5-base automatically truncating your input to 512 when padding/encoding.\n",
      "- If you want to encode/pad to sequences longer than 512 you can either instantiate this tokenizer with `model_max_length` or pass `max_length` when encoding/padding.\n",
      "- To avoid this warning, please instantiate this tokenizer with `model_max_length` set to your preferred value.\n",
      "  warnings.warn(\n"
     ]
    },
    {
     "data": {
      "application/vnd.jupyter.widget-view+json": {
       "model_id": "e0fb2358125e4821930a09e06ea5b82e",
       "version_major": 2,
       "version_minor": 0
      },
      "text/plain": [
       "  0%|          | 0/2 [00:00<?, ?it/s]"
      ]
     },
     "metadata": {},
     "output_type": "display_data"
    },
    {
     "data": {
      "application/vnd.jupyter.widget-view+json": {
       "model_id": "ca589efff0fb40e799615ef2a95a69bc",
       "version_major": 2,
       "version_minor": 0
      },
      "text/plain": [
       "  0%|          | 0/3 [00:00<?, ?it/s]"
      ]
     },
     "metadata": {},
     "output_type": "display_data"
    },
    {
     "data": {
      "application/vnd.jupyter.widget-view+json": {
       "model_id": "c8b87e690de44a3a90b54d896e82ee8f",
       "version_major": 2,
       "version_minor": 0
      },
      "text/plain": [
       "  0%|          | 0/3 [00:00<?, ?it/s]"
      ]
     },
     "metadata": {},
     "output_type": "display_data"
    },
    {
     "data": {
      "application/vnd.jupyter.widget-view+json": {
       "model_id": "52b951b924a44bf58eaf6fdca7757f63",
       "version_major": 2,
       "version_minor": 0
      },
      "text/plain": [
       "  0%|          | 0/3 [00:00<?, ?it/s]"
      ]
     },
     "metadata": {},
     "output_type": "display_data"
    },
    {
     "data": {
      "application/vnd.jupyter.widget-view+json": {
       "model_id": "d405c2e636c44093ad243e10813e50db",
       "version_major": 2,
       "version_minor": 0
      },
      "text/plain": [
       "  0%|          | 0/3 [00:00<?, ?it/s]"
      ]
     },
     "metadata": {},
     "output_type": "display_data"
    },
    {
     "name": "stderr",
     "output_type": "stream",
     "text": [
      "[nltk_data] Downloading package wordnet to /home/jxm3/nltk_data...\n",
      "[nltk_data]   Package wordnet is already up-to-date!\n",
      "[nltk_data] Downloading package punkt to /home/jxm3/nltk_data...\n",
      "[nltk_data]   Package punkt is already up-to-date!\n",
      "[nltk_data] Downloading package omw-1.4 to /home/jxm3/nltk_data...\n",
      "[nltk_data]   Package omw-1.4 is already up-to-date!\n"
     ]
    },
    {
     "name": "stdout",
     "output_type": "stream",
     "text": [
      "================ Begin trainer sanity check ================\n",
      "\tInput to encode -> Twas brillig, and the slithy toves, Did gyre and gimble in the wabe, All mimsy were the borogoves, And the mome raths outgrabe.\n",
      "\tDecoded output shape ->  torch.Size([1, 33])\n",
      "\tDecoded output -> The mlbies wase wyst bograge; And the sliths and toms wre\n",
      "================ End trainer sanity check ================\n",
      "Froze 342572160 params from model type <class 'models.inversion.InversionModel'>\n"
     ]
    },
    {
     "name": "stderr",
     "output_type": "stream",
     "text": [
      "[nltk_data] Downloading package wordnet to /home/jxm3/nltk_data...\n",
      "[nltk_data]   Package wordnet is already up-to-date!\n",
      "[nltk_data] Downloading package punkt to /home/jxm3/nltk_data...\n",
      "[nltk_data]   Package punkt is already up-to-date!\n",
      "[nltk_data] Downloading package omw-1.4 to /home/jxm3/nltk_data...\n",
      "[nltk_data]   Package omw-1.4 is already up-to-date!\n"
     ]
    },
    {
     "name": "stdout",
     "output_type": "stream",
     "text": [
      "================ Begin trainer sanity check ================\n",
      "\tInput to encode -> Twas brillig, and the slithy toves, Did gyre and gimble in the wabe, All mimsy were the borogoves, And the mome raths outgrabe.\n",
      "\tDecoded output shape ->  torch.Size([1, 33])\n",
      "\tDecoded output -> 'twas the slithe, And the mibbes were wolgy, and wolgiriyare\n",
      "================ End trainer sanity check ================\n"
     ]
    }
   ],
   "source": [
    "# model info:\n",
    "#    https://wandb.ai/jack-morris/emb-correct-1/runs/e9430bc73cfd6fb433eb0e5401d4a7ff\n",
    "#             path: saves/47d9c149a8e827d0609abbeefdfd89ac\n",
    "\n",
    "import analyze_utils\n",
    "\n",
    "checkpoint_folder = '/home/jxm3/research/retrieval/inversion/saves/47d9c149a8e827d0609abbeefdfd89ac'\n",
    "trainer = analyze_utils.load_trainer(checkpoint_folder)"
   ]
  },
  {
   "cell_type": "code",
   "execution_count": null,
   "id": "3e78d7c3-7d8b-4775-9818-7cf156e6f3a9",
   "metadata": {},
   "outputs": [],
   "source": [
    "trainer.inversion_trainer.model.use_frozen_embeddings_as_input = False\n",
    "trainer.inversion_trainer.gen_kwargs = {\n",
    "    \"early_stopping\": False,\n",
    "    \"num_beams\": 1,\n",
    "    \"do_sample\": False,\n",
    "    \"no_repeat_ngram_size\": 0,\n",
    "}\n",
    "\n",
    "for eval_dataset_name, eval_dataset in trainer.eval_dataset.items():\n",
    "    metrics = trainer.inversion_trainer.evaluate(\n",
    "        eval_dataset=eval_dataset,\n",
    "        metric_key_prefix=f\"eval_{eval_dataset_name}\",\n",
    "    )\n",
    "    print(metrics)"
   ]
  },
  {
   "cell_type": "code",
   "execution_count": 10,
   "id": "0dfec681-6259-4d70-9181-3af8150fc87c",
   "metadata": {},
   "outputs": [
    {
     "data": {
      "text/html": [
       "\n",
       "    <div>\n",
       "      \n",
       "      <progress value='24' max='2' style='width:300px; height:20px; vertical-align: middle;'></progress>\n",
       "      [2/2 04:13]\n",
       "    </div>\n",
       "    "
      ],
      "text/plain": [
       "<IPython.core.display.HTML object>"
      ]
     },
     "metadata": {},
     "output_type": "display_data"
    },
    {
     "name": "stderr",
     "output_type": "stream",
     "text": [
      "                                                                                                                                               \r"
     ]
    },
    {
     "name": "stdout",
     "output_type": "stream",
     "text": [
      "[pred] Union at Newtri after talks with N S Turner, current fears are expressed when Union representatives at the meeting are disappointed, like pensions, workers disgru\n",
      "[true] Fears for T N pension after talks Unions representing workers at Turner Newall say they are 'disappointed' after talks with stri\n",
      "\n",
      "\n",
      "\n",
      "[pred] of the Human Space Race: FRONT GOES TOS – Second Man Starts a Private Space Launch Team Official Website: Todate\n",
      "[true] The Race is On: Second Private Team Sets Launch Date for Human Spaceflight (SPACE.com) SPACE.com - TORON\n",
      "\n",
      "\n",
      "\n",
      "[pred] AP Research and Development Company wins a grant to study peptides - AP (company) - founded by students at University of\n",
      "[true] Ky. Company Wins Grant to Study Peptides (AP) AP - A company founded by a chemistry researcher at the University of\n",
      "setting preds_emb\n",
      "{'eval_ag_news_loss': 2.07120943069458, 'eval_ag_news_token_set_precision': 0.5809505561595186, 'eval_ag_news_token_set_recall': 0.6001999148398365, 'eval_ag_news_token_set_f1': 0.5891242490841598, 'eval_ag_news_bleu_score': 15.36290278028717, 'eval_ag_news_meteor_score': 0.47432945031457496, 'eval_ag_news_rouge_score': 0.597432040060736, 'eval_ag_news_bert_score': 0.8857527754306793, 'eval_ag_news_exact_match': 0.0, 'eval_ag_news_emb_cos_sim': 0.8781830072402954, 'eval_ag_news_runtime': 13.1066, 'eval_ag_news_samples_per_second': 38.149, 'eval_ag_news_steps_per_second': 0.153}\n"
     ]
    },
    {
     "name": "stderr",
     "output_type": "stream",
     "text": [
      "                                                                                                                                               \r"
     ]
    },
    {
     "name": "stdout",
     "output_type": "stream",
     "text": [
      "[pred] we study phase behavior between a liquid crystal with a strong nematic pattern anchored in a binging crystal between the substrate and surrounding\n",
      "[true] we study the phase behavior of a nematic liquid crystal confined between a flat substrate with strong anchoring and a patterned substrate\n",
      "\n",
      "\n",
      "\n",
      "[pred] determining the scale relations of observed uniform clusterings requires measuring large X observable samples. We sample the galaxy's x axi\n",
      "[true] determining the scaling relations between galaxy cluster observables requires large samples of uniformly observed clusters. we measure the mean x -\n",
      "\n",
      "\n",
      "\n",
      "[pred] demonstrating how to control a link type optical quantum correlation in degenerate spatial parametric modes of a multimode modulator, i\n",
      "[true] we show how to control spatial quantum correlations in a multimode degenerate optical parametric oscillator type i below threshold by \n",
      "setting preds_emb\n",
      "{'eval_arxiv_loss': 1.7339985370635986, 'eval_arxiv_token_set_precision': 0.7053365736617419, 'eval_arxiv_token_set_recall': 0.708936525302681, 'eval_arxiv_token_set_f1': 0.7059670199551982, 'eval_arxiv_bleu_score': 20.237280595355063, 'eval_arxiv_meteor_score': 0.5326007701382793, 'eval_arxiv_rouge_score': 0.6627343160067591, 'eval_arxiv_bert_score': 0.9016326315402985, 'eval_arxiv_exact_match': 0.0, 'eval_arxiv_emb_cos_sim': 0.9030882120132446, 'eval_arxiv_runtime': 7.2411, 'eval_arxiv_samples_per_second': 69.05, 'eval_arxiv_steps_per_second': 0.276}\n"
     ]
    },
    {
     "name": "stderr",
     "output_type": "stream",
     "text": [
      "Warning: Empty reference sentence detected; setting raw BERTScores to 0.                                                                       \n"
     ]
    },
    {
     "name": "stdout",
     "output_type": "stream",
     "text": [
      "[pred] a former Sodje Trader denied the fraud charges against the Reading Sports Foundation, the National Fund for the Defence of Nigeria, for allegedly raising\n",
      "[true] The ex-Reading defender denied fraudulent trading charges relating to the Sodje Sports Foundation - a charity to raise money for Nigerian\n",
      "\n",
      "\n",
      "\n",
      "[pred] Voges was forced to retire after suffering an injury on the batting surface on 6 June for 62 in the County Championship. Somerset then hurt Middles\n",
      "[true] Voges was forced to retire hurt on 86 after suffering the injury while batting during the County Championship draw with Somerset on 4 June. Middlesex\n",
      "\n",
      "\n",
      "\n",
      "[pred] Seven photographs taken in the Norfolk countryside by photographer Josh Olins will appear in his first June edition in the magazine. While seated, the s\n",
      "[true] Seven photographs taken in the Norfolk countryside by photographer Josh Olins will appear in the June edition. In her first sitting for a magazine, the du\n",
      "setting preds_emb\n",
      "{'eval_xsum_doc_loss': 1.122348666191101, 'eval_xsum_doc_token_set_precision': 0.6949698159916238, 'eval_xsum_doc_token_set_recall': 0.71408255459645, 'eval_xsum_doc_token_set_f1': 0.703735636066378, 'eval_xsum_doc_bleu_score': 29.44499178547483, 'eval_xsum_doc_meteor_score': 0.6052599081399694, 'eval_xsum_doc_rouge_score': 0.6677264800155438, 'eval_xsum_doc_bert_score': 0.918013660311699, 'eval_xsum_doc_exact_match': 0.002, 'eval_xsum_doc_emb_cos_sim': 0.9355340003967285, 'eval_xsum_doc_runtime': 7.5008, 'eval_xsum_doc_samples_per_second': 66.66, 'eval_xsum_doc_steps_per_second': 0.267}\n"
     ]
    },
    {
     "name": "stderr",
     "output_type": "stream",
     "text": [
      "                                                                                                                                               \r"
     ]
    },
    {
     "name": "stdout",
     "output_type": "stream",
     "text": [
      "[pred] Former Premier League footballer Sam Sodje has appeared before court, joined by three brothers and three brothers accused of fraud for their National Charity Farm charity.\n",
      "[true] Former Premier League footballer Sam Sodje has appeared in court alongside three brothers accused of charity fraud.\n",
      "\n",
      "\n",
      "\n",
      "[pred] Middlesex batsman Adam Voges will be out until December after torn calf muscle in his first-class leg in August.\n",
      "[true] Middlesex batsman Adam Voges will be out until August after suffering a torn calf muscle in his right leg.\n",
      "\n",
      "\n",
      "\n",
      "[pred] The Duchess of Cambridge will feature on the cover of British Vogue's cover to mark the magazine's centenary in the magazine.\n",
      "[true] The Duchess of Cambridge will feature on the cover of British Vogue to mark the magazine's centenary.\n",
      "setting preds_emb\n",
      "{'eval_xsum_summ_loss': 1.2609869241714478, 'eval_xsum_summ_token_set_precision': 0.7845961496564842, 'eval_xsum_summ_token_set_recall': 0.7251062632396557, 'eval_xsum_summ_token_set_f1': 0.7500835089939342, 'eval_xsum_summ_bleu_score': 33.39809004435628, 'eval_xsum_summ_meteor_score': 0.6951319671858391, 'eval_xsum_summ_rouge_score': 0.7152762383507745, 'eval_xsum_summ_bert_score': 0.9350950057506562, 'eval_xsum_summ_exact_match': 0.0, 'eval_xsum_summ_emb_cos_sim': 0.7937044501304626, 'eval_xsum_summ_runtime': 7.2945, 'eval_xsum_summ_samples_per_second': 68.545, 'eval_xsum_summ_steps_per_second': 0.274}\n"
     ]
    },
    {
     "name": "stderr",
     "output_type": "stream",
     "text": [
      "                                                                                                                                               \r"
     ]
    },
    {
     "name": "stdout",
     "output_type": "stream",
     "text": [
      "[pred] pope kilol ii. christian of Michail, also known as Khalil ab\n",
      "[true] pope michael iii of alexandria -lrb- also known as khail i\n",
      "\n",
      "\n",
      "\n",
      "[pred] hui jun hun is a male former professional table tennis player from China. He is a former men's tennis player. \n",
      "[true] hui jun is a male former table tennis player from china.\n",
      "\n",
      "\n",
      "\n",
      "[pred] oztürk rb rb - born 30 November 1977 (Turk) is a lakh-\n",
      "[true] okan ztürk -lrb- born 30 november 1977 -rrb- is a tur\n",
      "setting preds_emb\n",
      "{'eval_wikibio_loss': 2.2393977642059326, 'eval_wikibio_token_set_precision': 0.6312108164387288, 'eval_wikibio_token_set_recall': 0.6367846484693094, 'eval_wikibio_token_set_f1': 0.6313904667400375, 'eval_wikibio_bleu_score': 8.066843706711486, 'eval_wikibio_meteor_score': 0.397198126557718, 'eval_wikibio_rouge_score': 0.49090856778366987, 'eval_wikibio_bert_score': 0.8693862154483795, 'eval_wikibio_exact_match': 0.0, 'eval_wikibio_emb_cos_sim': 0.8771003484725952, 'eval_wikibio_runtime': 7.0103, 'eval_wikibio_samples_per_second': 71.324, 'eval_wikibio_steps_per_second': 0.285}\n"
     ]
    },
    {
     "name": "stderr",
     "output_type": "stream",
     "text": [
      "                                                                                                                                               \r"
     ]
    },
    {
     "name": "stdout",
     "output_type": "stream",
     "text": [
      "[pred] to the character of the sutures of the skull, which are relatively smooth and untortuous of infant skulls. In fact, like the\n",
      "[true] to the character of the sutures of the skull which, like those of the infant skull, are relatively smooth and untortuous. In fact\n",
      "\n",
      "\n",
      "\n",
      "[pred] individual from the Southern Hemisphere to win a Winter Olympic gold medal, and was also part of the short track relay team which won Australia'\n",
      "[true] individual from the Southern Hemisphere, to win a Winter Olympic gold medal and was also part of the short track relay team that won Australia'\n",
      "\n",
      "\n",
      "\n",
      "[pred] the same rights as other people, while 15% agreed that they should be protected from discrimination. Less than 3% disagreed with gay HRC and\n",
      "[true] the same rights as straight people, while 15% disagreed. Additionally, 69% agreed that they should be protected from workplace discrimination. 13% of H\n",
      "setting preds_emb\n",
      "{'eval_nq_loss': 0.6452353000640869, 'eval_nq_token_set_precision': 0.7981461408626773, 'eval_nq_token_set_recall': 0.812328643510516, 'eval_nq_token_set_f1': 0.8045741774364366, 'eval_nq_bleu_score': 49.99115437950722, 'eval_nq_meteor_score': 0.7399825867034704, 'eval_nq_rouge_score': 0.7787234404087495, 'eval_nq_bert_score': 0.9439336426258087, 'eval_nq_exact_match': 0.088, 'eval_nq_emb_cos_sim': 0.955917239189148, 'eval_nq_runtime': 7.3979, 'eval_nq_samples_per_second': 67.587, 'eval_nq_steps_per_second': 0.27}\n"
     ]
    }
   ],
   "source": [
    "trainer.inversion_trainer.model.use_frozen_embeddings_as_input = True\n",
    "trainer.gen_kwargs = {\n",
    "    \"early_stopping\": False,\n",
    "    \"num_beams\": 1,\n",
    "    \"do_sample\": False,\n",
    "    \"no_repeat_ngram_size\": 0,\n",
    "}\n",
    "trainer.num_gen_recursive_steps = 1\n",
    "for eval_dataset_name, eval_dataset in trainer.eval_dataset.items():\n",
    "    metrics = trainer.evaluate(\n",
    "        eval_dataset=eval_dataset,\n",
    "        metric_key_prefix=f\"eval_{eval_dataset_name}\",\n",
    "    )\n",
    "    print(metrics)"
   ]
  },
  {
   "cell_type": "code",
   "execution_count": 11,
   "id": "66db0d25-1f70-494a-8ff2-921fbcb00348",
   "metadata": {},
   "outputs": [
    {
     "name": "stderr",
     "output_type": "stream",
     "text": [
      "                                                                                                                                               \r"
     ]
    },
    {
     "name": "stdout",
     "output_type": "stream",
     "text": [
      "[pred] discontent at T N Turner after talking about union pensions, workers at Newall are said to be in fear and are expected to be delivered by Str\n",
      "[true] Fears for T N pension after talks Unions representing workers at Turner Newall say they are 'disappointed' after talks with stri\n",
      "\n",
      "\n",
      "\n",
      "[pred] of the Human Race: Second Private Team Sets Launch Date for Spaceflight on the SpaceSpACE (PAGE.COM) – TO\n",
      "[true] The Race is On: Second Private Team Sets Launch Date for Human Spaceflight (SPACE.com) SPACE.com - TORON\n",
      "\n",
      "\n",
      "\n",
      "[pred] AP Research  Company A. Wins Grant to study peptides (AP) - a company founded by University of Kyn\n",
      "[true] Ky. Company Wins Grant to Study Peptides (AP) AP - A company founded by a chemistry researcher at the University of\n",
      "setting preds_emb\n",
      "{'eval_ag_news_loss': 2.07120943069458, 'eval_ag_news_token_set_precision': 0.7280849366194959, 'eval_ag_news_token_set_recall': 0.7460735260799638, 'eval_ag_news_token_set_f1': 0.7359172591474451, 'eval_ag_news_bleu_score': 33.77461040074571, 'eval_ag_news_meteor_score': 0.6522576116085429, 'eval_ag_news_rouge_score': 0.7466666588269872, 'eval_ag_news_bert_score': 0.9134301860332489, 'eval_ag_news_exact_match': 0.028, 'eval_ag_news_emb_cos_sim': 0.9258929491043091, 'eval_ag_news_runtime': 40.4351, 'eval_ag_news_samples_per_second': 12.366, 'eval_ag_news_steps_per_second': 0.049}\n"
     ]
    },
    {
     "name": "stderr",
     "output_type": "stream",
     "text": [
      "                                                                                                                                               \r"
     ]
    },
    {
     "name": "stdout",
     "output_type": "stream",
     "text": [
      "[pred] we study the phase behavior of a nematic liquid crystal confined between a patterned substrate and a flat substrate with strong anchoring\n",
      "[true] we study the phase behavior of a nematic liquid crystal confined between a flat substrate with strong anchoring and a patterned substrate\n",
      "\n",
      "\n",
      "\n",
      "[pred] determining the scaling relations between galaxy clusters requires large samples of uniformly observed clusters. We measure the mean observable x -\n",
      "[true] determining the scaling relations between galaxy cluster observables requires large samples of uniformly observed clusters. we measure the mean x -\n",
      "\n",
      "\n",
      "\n",
      "[pred] we show how to control spatial correlations in a degenerate quantum parametric multimode optical oscillator type I below threshold by a\n",
      "[true] we show how to control spatial quantum correlations in a multimode degenerate optical parametric oscillator type i below threshold by \n",
      "setting preds_emb\n",
      "{'eval_arxiv_loss': 1.7339985370635986, 'eval_arxiv_token_set_precision': 0.8695430622224749, 'eval_arxiv_token_set_recall': 0.872790641933295, 'eval_arxiv_token_set_f1': 0.870533833330116, 'eval_arxiv_bleu_score': 49.940357673311574, 'eval_arxiv_meteor_score': 0.7694279746061589, 'eval_arxiv_rouge_score': 0.8519584916326866, 'eval_arxiv_bert_score': 0.9415654737949372, 'eval_arxiv_exact_match': 0.084, 'eval_arxiv_emb_cos_sim': 0.9597870707511902, 'eval_arxiv_runtime': 40.9896, 'eval_arxiv_samples_per_second': 12.198, 'eval_arxiv_steps_per_second': 0.049}\n"
     ]
    },
    {
     "name": "stderr",
     "output_type": "stream",
     "text": [
      "Warning: Empty reference sentence detected; setting raw BERTScores to 0.                                                                       \n"
     ]
    },
    {
     "name": "stdout",
     "output_type": "stream",
     "text": [
      "[pred] The ex-Reading defender denied fraudulent trading charges relating to the Sodje Sports Foundation - a charity to raise money for Nigerian\n",
      "[true] The ex-Reading defender denied fraudulent trading charges relating to the Sodje Sports Foundation - a charity to raise money for Nigerian\n",
      "\n",
      "\n",
      "\n",
      "[pred] Voges was forced to retire hurt after batting for 86 while suffering a knee injury in the County Championship draw with Middlesex on 4 June\n",
      "[true] Voges was forced to retire hurt on 86 after suffering the injury while batting during the County Championship draw with Somerset on 4 June. Middlesex\n",
      "\n",
      "\n",
      "\n",
      "[pred] Seven photographs taken in the Norfolk countryside by photographer Josh Olins will appear in the June edition. In her first sitting for the magazine, a du\n",
      "[true] Seven photographs taken in the Norfolk countryside by photographer Josh Olins will appear in the June edition. In her first sitting for a magazine, the du\n",
      "setting preds_emb\n",
      "{'eval_xsum_doc_loss': 1.122348666191101, 'eval_xsum_doc_token_set_precision': 0.915876104904537, 'eval_xsum_doc_token_set_recall': 0.9234543775820657, 'eval_xsum_doc_token_set_f1': 0.919428147540546, 'eval_xsum_doc_bleu_score': 74.43354468459428, 'eval_xsum_doc_meteor_score': 0.8907857094148871, 'eval_xsum_doc_rouge_score': 0.9048930714777164, 'eval_xsum_doc_bert_score': 0.9712498023509979, 'eval_xsum_doc_exact_match': 0.402, 'eval_xsum_doc_emb_cos_sim': 0.9868072271347046, 'eval_xsum_doc_runtime': 40.238, 'eval_xsum_doc_samples_per_second': 12.426, 'eval_xsum_doc_steps_per_second': 0.05}\n"
     ]
    },
    {
     "name": "stderr",
     "output_type": "stream",
     "text": [
      "                                                                                                                                               \r"
     ]
    },
    {
     "name": "stdout",
     "output_type": "stream",
     "text": [
      "[pred] Former Premier League footballer Sam Sodje has appeared in court, alongside former footballer Sodje and three brothers accused of charity-related fraud.\n",
      "[true] Former Premier League footballer Sam Sodje has appeared in court alongside three brothers accused of charity fraud.\n",
      "\n",
      "\n",
      "\n",
      "[pred] Middlesex batsman Adam Voges will be out until August after suffering a torn calf muscle in his right leg. \n",
      "[true] Middlesex batsman Adam Voges will be out until August after suffering a torn calf muscle in his right leg.\n",
      "\n",
      "\n",
      "\n",
      "[pred] The Duchess of Cambridge will feature on the cover of British Vogue, to mark the magazine's centenary in the Looks magazine.\n",
      "[true] The Duchess of Cambridge will feature on the cover of British Vogue to mark the magazine's centenary.\n",
      "setting preds_emb\n",
      "{'eval_xsum_summ_loss': 1.2609869241714478, 'eval_xsum_summ_token_set_precision': 0.9503248495111938, 'eval_xsum_summ_token_set_recall': 0.8811663654362333, 'eval_xsum_summ_token_set_f1': 0.911218361097927, 'eval_xsum_summ_bleu_score': 67.51255175268983, 'eval_xsum_summ_meteor_score': 0.9016610818893491, 'eval_xsum_summ_rouge_score': 0.8838478810193051, 'eval_xsum_summ_bert_score': 0.9724060157537461, 'eval_xsum_summ_exact_match': 0.22, 'eval_xsum_summ_emb_cos_sim': 0.8192260265350342, 'eval_xsum_summ_runtime': 40.362, 'eval_xsum_summ_samples_per_second': 12.388, 'eval_xsum_summ_steps_per_second': 0.05}\n"
     ]
    },
    {
     "name": "stderr",
     "output_type": "stream",
     "text": [
      "                                                                                                                                               \r"
     ]
    },
    {
     "name": "stdout",
     "output_type": "stream",
     "text": [
      "[pred] pope Michael i. lii. rob of Alexandrevn also known as khail \n",
      "[true] pope michael iii of alexandria -lrb- also known as khail i\n",
      "\n",
      "\n",
      "\n",
      "[pred] hui jun, is a male former table tennis player from China. Hài jun is a male tennis player and scientist.\n",
      "[true] hui jun is a male former table tennis player from china.\n",
      "\n",
      "\n",
      "\n",
      "[pred] ob rkan ztürk - born 30 Nov 1977 is a lrb/rrg tur\n",
      "[true] okan ztürk -lrb- born 30 november 1977 -rrb- is a tur\n",
      "setting preds_emb\n",
      "{'eval_wikibio_loss': 2.2393977642059326, 'eval_wikibio_token_set_precision': 0.7683957345562397, 'eval_wikibio_token_set_recall': 0.7800123023521438, 'eval_wikibio_token_set_f1': 0.7722569144886082, 'eval_wikibio_bleu_score': 18.15745301092217, 'eval_wikibio_meteor_score': 0.5186208500358166, 'eval_wikibio_rouge_score': 0.6491993134426526, 'eval_wikibio_bert_score': 0.8990875385999679, 'eval_wikibio_exact_match': 0.014, 'eval_wikibio_emb_cos_sim': 0.9381061792373657, 'eval_wikibio_runtime': 40.762, 'eval_wikibio_samples_per_second': 12.266, 'eval_wikibio_steps_per_second': 0.049}\n"
     ]
    },
    {
     "name": "stderr",
     "output_type": "stream",
     "text": [
      "                                                                                                                                               \r"
     ]
    },
    {
     "name": "stdout",
     "output_type": "stream",
     "text": [
      "[pred] to the character of the sutures of the skull, which, like those of the infant skull, are relatively smooth and untortuous. In\n",
      "[true] to the character of the sutures of the skull which, like those of the infant skull, are relatively smooth and untortuous. In fact\n",
      "\n",
      "\n",
      "\n",
      "[pred] individual from the Southern Hemisphere, to win a Winter Olympic gold medal and was also part of the short track relay team that won Australia'\n",
      "[true] individual from the Southern Hemisphere, to win a Winter Olympic gold medal and was also part of the short track relay team that won Australia'\n",
      "\n",
      "\n",
      "\n",
      "[pred] the same rights as straight people, while 15% disagreed. Additionally, 69% agreed that they should be protected from workplace discrimination. 13% of H\n",
      "[true] the same rights as straight people, while 15% disagreed. Additionally, 69% agreed that they should be protected from workplace discrimination. 13% of H\n",
      "setting preds_emb\n",
      "{'eval_nq_loss': 0.6452353000640869, 'eval_nq_token_set_precision': 0.9499601645174658, 'eval_nq_token_set_recall': 0.9554702626778289, 'eval_nq_token_set_f1': 0.9524855847981973, 'eval_nq_bleu_score': 82.34013593814186, 'eval_nq_meteor_score': 0.9302616066017445, 'eval_nq_rouge_score': 0.9435330974685434, 'eval_nq_bert_score': 0.9814579948186875, 'eval_nq_exact_match': 0.506, 'eval_nq_emb_cos_sim': 0.9896413087844849, 'eval_nq_runtime': 40.6342, 'eval_nq_samples_per_second': 12.305, 'eval_nq_steps_per_second': 0.049}\n"
     ]
    }
   ],
   "source": [
    "trainer.gen_kwargs = {\n",
    "    \"early_stopping\": False,\n",
    "    \"num_beams\": 1,\n",
    "    \"do_sample\": False,\n",
    "    \"no_repeat_ngram_size\": 0,\n",
    "}\n",
    "trainer.num_gen_recursive_steps = 20\n",
    "for eval_dataset_name, eval_dataset in trainer.eval_dataset.items():\n",
    "    metrics = trainer.evaluate(\n",
    "        eval_dataset=eval_dataset,\n",
    "        metric_key_prefix=f\"eval_{eval_dataset_name}\",\n",
    "    )\n",
    "    print(metrics)"
   ]
  },
  {
   "cell_type": "code",
   "execution_count": 22,
   "id": "b08ce229-00ed-48ab-9784-50c020b11949",
   "metadata": {},
   "outputs": [
    {
     "name": "stderr",
     "output_type": "stream",
     "text": [
      "                                                                                                                                               \r"
     ]
    },
    {
     "name": "stdout",
     "output_type": "stream",
     "text": [
      "[pred] Fears for T N pension after talks with workers representing unions at Turner Newall say they are \"disappointed\" after talks with stri\n",
      "[true] Fears for T N pension after talks Unions representing workers at Turner Newall say they are 'disappointed' after talks with stri\n",
      "\n",
      "\n",
      "\n",
      "[pred] the Second Private Team's Race to the Human Spaceflight Sets Launch Date for Space - TORON (SpACE.com) On\n",
      "[true] The Race is On: Second Private Team Sets Launch Date for Human Spaceflight (SPACE.com) SPACE.com - TORON\n",
      "\n",
      "\n",
      "\n",
      "[pred] AP. Company Wins Grant to Study Peptides (AP) - a chemistry company founded by a researcher at University of Ky\n",
      "[true] Ky. Company Wins Grant to Study Peptides (AP) AP - A company founded by a chemistry researcher at the University of\n",
      "{'eval_ag_news_loss': 2.06369948387146, 'eval_ag_news_token_set_precision': 0.7820726666303403, 'eval_ag_news_token_set_recall': 0.7949135824575206, 'eval_ag_news_token_set_f1': 0.7875596634906052, 'eval_ag_news_bleu_score': 40.20667266923737, 'eval_ag_news_meteor_score': 0.7146750040033856, 'eval_ag_news_rouge_score': 0.8033486605882043, 'eval_ag_news_bert_score': 0.9259277629852295, 'eval_ag_news_exact_match': 0.042, 'eval_ag_news_emb_cos_sim': 0.951667845249176, 'eval_ag_news_runtime': 91.509, 'eval_ag_news_samples_per_second': 5.464, 'eval_ag_news_steps_per_second': 0.022}\n"
     ]
    },
    {
     "name": "stderr",
     "output_type": "stream",
     "text": [
      "                                                                                                                                               \r"
     ]
    },
    {
     "name": "stdout",
     "output_type": "stream",
     "text": [
      "[pred] we study the phase behavior of a nematic liquid crystal confined between a flat substrate with a strong anchoring and patterned substrate\n",
      "[true] we study the phase behavior of a nematic liquid crystal confined between a flat substrate with strong anchoring and a patterned substrate\n",
      "\n",
      "\n",
      "\n",
      "[pred] determining the scaling relations between galaxy clusters requires large samples of uniformly observed cluster observables. we measure the mean x -\n",
      "[true] determining the scaling relations between galaxy cluster observables requires large samples of uniformly observed clusters. we measure the mean x -\n",
      "\n",
      "\n",
      "\n",
      "[pred] we show how to control spatial quantum correlations in a degenerate parametric multimode optical oscillator type at threshold under i \n",
      "[true] we show how to control spatial quantum correlations in a multimode degenerate optical parametric oscillator type i below threshold by \n",
      "{'eval_arxiv_loss': 1.7328752279281616, 'eval_arxiv_token_set_precision': 0.8967086001880203, 'eval_arxiv_token_set_recall': 0.9017307102743655, 'eval_arxiv_token_set_f1': 0.8985765531128727, 'eval_arxiv_bleu_score': 56.027244043303604, 'eval_arxiv_meteor_score': 0.8103199362941637, 'eval_arxiv_rouge_score': 0.8856008469501153, 'eval_arxiv_bert_score': 0.9500293693542481, 'eval_arxiv_exact_match': 0.114, 'eval_arxiv_emb_cos_sim': 0.9781835675239563, 'eval_arxiv_runtime': 91.6603, 'eval_arxiv_samples_per_second': 5.455, 'eval_arxiv_steps_per_second': 0.022}\n"
     ]
    },
    {
     "name": "stderr",
     "output_type": "stream",
     "text": [
      "Warning: Empty reference sentence detected; setting raw BERTScores to 0.                                                                       \n"
     ]
    },
    {
     "name": "stdout",
     "output_type": "stream",
     "text": [
      "[pred] The ex-Reading defender denied fraudulent trading charges relating to the Sodje Sports Foundation - a charity to raise money for Nigerian\n",
      "[true] The ex-Reading defender denied fraudulent trading charges relating to the Sodje Sports Foundation - a charity to raise money for Nigerian\n",
      "\n",
      "\n",
      "\n",
      "[pred] Voges was forced to retire hurt after suffering the injury while batting with 86 on 4 June during the County Championship draw with Somerset. Middlesex\n",
      "[true] Voges was forced to retire hurt on 86 after suffering the injury while batting during the County Championship draw with Somerset on 4 June. Middlesex\n",
      "\n",
      "\n",
      "\n",
      "[pred] Seven photographs taken in the Norfolk countryside by photographer Josh Olins will appear in the June edition of the magazine. In her first sitting, a du\n",
      "[true] Seven photographs taken in the Norfolk countryside by photographer Josh Olins will appear in the June edition. In her first sitting for a magazine, the du\n",
      "{'eval_xsum_doc_loss': 1.1067982912063599, 'eval_xsum_doc_token_set_precision': 0.9342560789659123, 'eval_xsum_doc_token_set_recall': 0.9418523629838642, 'eval_xsum_doc_token_set_f1': 0.9378432655357115, 'eval_xsum_doc_bleu_score': 77.61668847916138, 'eval_xsum_doc_meteor_score': 0.9120161613317047, 'eval_xsum_doc_rouge_score': 0.9267116467338162, 'eval_xsum_doc_bert_score': 0.9769001554250717, 'eval_xsum_doc_exact_match': 0.37, 'eval_xsum_doc_emb_cos_sim': 0.9915656447410583, 'eval_xsum_doc_runtime': 91.7983, 'eval_xsum_doc_samples_per_second': 5.447, 'eval_xsum_doc_steps_per_second': 0.022}\n"
     ]
    },
    {
     "name": "stderr",
     "output_type": "stream",
     "text": [
      "                                                                                                                                               \r"
     ]
    },
    {
     "name": "stdout",
     "output_type": "stream",
     "text": [
      "[pred] Former Premier League footballer Sam Sodje has appeared in court alongside two brothers, three brothers and their former suitor accused of charity fraud for charity.\n",
      "[true] Former Premier League footballer Sam Sodje has appeared in court alongside three brothers accused of charity fraud.\n",
      "\n",
      "\n",
      "\n",
      "[pred] Middlesex batsman Adam Voges will be out until August after suffering a torn calf muscle in his right leg. \n",
      "[true] Middlesex batsman Adam Voges will be out until August after suffering a torn calf muscle in his right leg.\n",
      "\n",
      "\n",
      "\n",
      "[pred] The Duchess of Cambridge will feature on the cover of British Vogue to mark the magazine's centenary in the Vogue's.\n",
      "[true] The Duchess of Cambridge will feature on the cover of British Vogue to mark the magazine's centenary.\n",
      "{'eval_xsum_summ_loss': 1.2574881315231323, 'eval_xsum_summ_token_set_precision': 0.9587468667167222, 'eval_xsum_summ_token_set_recall': 0.8931875029497197, 'eval_xsum_summ_token_set_f1': 0.9217006913622271, 'eval_xsum_summ_bleu_score': 69.92597769268103, 'eval_xsum_summ_meteor_score': 0.9187051081457521, 'eval_xsum_summ_rouge_score': 0.8958845743584081, 'eval_xsum_summ_bert_score': 0.9757718061208724, 'eval_xsum_summ_exact_match': 0.206, 'eval_xsum_summ_emb_cos_sim': 0.8253699541091919, 'eval_xsum_summ_runtime': 92.8281, 'eval_xsum_summ_samples_per_second': 5.386, 'eval_xsum_summ_steps_per_second': 0.022}\n"
     ]
    },
    {
     "name": "stderr",
     "output_type": "stream",
     "text": [
      "                                                                                                                                               \r"
     ]
    },
    {
     "name": "stdout",
     "output_type": "stream",
     "text": [
      "[pred] pope Michael i. ii. (Kirchland) Alexii also known as khail I\n",
      "[true] pope michael iii of alexandria -lrb- also known as khail i\n",
      "\n",
      "\n",
      "\n",
      "[pred] hui jun is a male former table tennis player from China. He is a hu nai jun table tennis player\n",
      "[true] hui jun is a male former table tennis player from china.\n",
      "\n",
      "\n",
      "\n",
      "[pred] oztürk rb - born 25 Nov. 1977 rkan rb - is a tur\n",
      "[true] okan ztürk -lrb- born 30 november 1977 -rrb- is a tur\n",
      "{'eval_wikibio_loss': 2.2606606483459473, 'eval_wikibio_token_set_precision': 0.7877114585172929, 'eval_wikibio_token_set_recall': 0.8032332274254845, 'eval_wikibio_token_set_f1': 0.7937094697962048, 'eval_wikibio_bleu_score': 19.49033174653611, 'eval_wikibio_meteor_score': 0.5536752128701748, 'eval_wikibio_rouge_score': 0.7061516563819664, 'eval_wikibio_bert_score': 0.9086642792224884, 'eval_wikibio_exact_match': 0.018, 'eval_wikibio_emb_cos_sim': 0.965674102306366, 'eval_wikibio_runtime': 92.1757, 'eval_wikibio_samples_per_second': 5.424, 'eval_wikibio_steps_per_second': 0.022}\n"
     ]
    },
    {
     "name": "stderr",
     "output_type": "stream",
     "text": [
      "                                                                                                                                               \r"
     ]
    },
    {
     "name": "stdout",
     "output_type": "stream",
     "text": [
      "[pred] to the character of the sutures of the skull, which, like those of the infant skull, are relatively smooth and untornuous. However\n",
      "[true] to the character of the sutures of the skull which, like those of the infant skull, are relatively smooth and untortuous. In fact\n",
      "\n",
      "\n",
      "\n",
      "[pred] individual from the Southern Hemisphere, to win a Winter Olympic gold medal and was also part of the short track relay team that won Australia'\n",
      "[true] individual from the Southern Hemisphere, to win a Winter Olympic gold medal and was also part of the short track relay team that won Australia'\n",
      "\n",
      "\n",
      "\n",
      "[pred] the same rights as straight people, while 15% disagreed. Additionally, 13% agreed that they should be protected from workplace discrimination. 69% of H\n",
      "[true] the same rights as straight people, while 15% disagreed. Additionally, 69% agreed that they should be protected from workplace discrimination. 13% of H\n",
      "{'eval_nq_loss': 0.640424907207489, 'eval_nq_token_set_precision': 0.9641802101282106, 'eval_nq_token_set_recall': 0.9683554490552574, 'eval_nq_token_set_f1': 0.9661202122506004, 'eval_nq_bleu_score': 85.40996682352623, 'eval_nq_meteor_score': 0.9482122913306387, 'eval_nq_rouge_score': 0.9576224540289682, 'eval_nq_bert_score': 0.9855635280609131, 'eval_nq_exact_match': 0.528, 'eval_nq_emb_cos_sim': 0.9940871000289917, 'eval_nq_runtime': 91.7842, 'eval_nq_samples_per_second': 5.448, 'eval_nq_steps_per_second': 0.022}\n"
     ]
    }
   ],
   "source": [
    "trainer.gen_kwargs = {\n",
    "    \"early_stopping\": False,\n",
    "    \"num_beams\": 1,\n",
    "    \"do_sample\": False,\n",
    "    \"no_repeat_ngram_size\": 0,\n",
    "}\n",
    "trainer.return_best_hypothesis = True\n",
    "trainer.num_gen_recursive_steps = 50\n",
    "for eval_dataset_name, eval_dataset in trainer.eval_dataset.items():\n",
    "    metrics = trainer.evaluate(\n",
    "        eval_dataset=eval_dataset,\n",
    "        metric_key_prefix=f\"eval_{eval_dataset_name}\",\n",
    "    )\n",
    "    print(metrics)"
   ]
  },
  {
   "cell_type": "code",
   "execution_count": 233,
   "id": "bf2a2cff-4715-4f79-a66e-75cb44ce2a54",
   "metadata": {},
   "outputs": [
    {
     "data": {
      "text/html": [
       "\n",
       "    <div>\n",
       "      \n",
       "      <progress value='12' max='2' style='width:300px; height:20px; vertical-align: middle;'></progress>\n",
       "      [2/2 03:19]\n",
       "    </div>\n",
       "    "
      ],
      "text/plain": [
       "<IPython.core.display.HTML object>"
      ]
     },
     "metadata": {},
     "output_type": "display_data"
    },
    {
     "name": "stderr",
     "output_type": "stream",
     "text": [
      "                                                                                                                                               \r"
     ]
    },
    {
     "name": "stdout",
     "output_type": "stream",
     "text": [
      "[pred] to the character of the skull of the sutures of infant skulls, which are relatively smooth and untutuous. In fact, like the\n",
      "[true] to the character of the sutures of the skull which, like those of the infant skull, are relatively smooth and untortuous. In fact\n",
      "\n",
      "\n",
      "\n",
      "[pred] individual from the Southern Hemisphere to win a Winter Olympics gold medal, and was also part of the short track relay team that won Australia'\n",
      "[true] individual from the Southern Hemisphere, to win a Winter Olympic gold medal and was also part of the short track relay team that won Australia'\n",
      "\n",
      "\n",
      "\n",
      "[pred] the same rights as other people, while 15% disagreed: they should be protected from discrimination and fewer than 75% gay. 83% agreed that\n",
      "[true] the same rights as straight people, while 15% disagreed. Additionally, 69% agreed that they should be protected from workplace discrimination. 13% of H\n",
      "setting preds_emb\n"
     ]
    },
    {
     "data": {
      "text/plain": [
       "{'eval_loss': 0.6460092067718506,\n",
       " 'eval_token_set_precision': 0.7931942219812427,\n",
       " 'eval_token_set_recall': 0.7963511188466532,\n",
       " 'eval_token_set_f1': 0.7939592089780559,\n",
       " 'eval_bleu_score': 46.37848733491063,\n",
       " 'eval_meteor_score': 0.7242218316455382,\n",
       " 'eval_rouge_score': 0.766504421176154,\n",
       " 'eval_bert_score': 0.9392919890880584,\n",
       " 'eval_emb_cos_sim': 0.9450901746749878,\n",
       " 'eval_runtime': 12.8657,\n",
       " 'eval_samples_per_second': 38.863,\n",
       " 'eval_steps_per_second': 0.155}"
      ]
     },
     "execution_count": 233,
     "metadata": {},
     "output_type": "execute_result"
    }
   ],
   "source": [
    "trainer.evaluate(\n",
    "    eval_dataset=trainer.eval_dataset[\"nq\"]\n",
    ")"
   ]
  },
  {
   "cell_type": "code",
   "execution_count": null,
   "id": "631d5433-719f-4e7b-97f7-6ac4ec06245f",
   "metadata": {},
   "outputs": [],
   "source": [
    "trainer.num_gen_recursive_steps = 1\n",
    "trainer.sanity_decode()"
   ]
  },
  {
   "cell_type": "code",
   "execution_count": 14,
   "id": "735a92ef-497d-4da0-96df-0a3b0cd33954",
   "metadata": {},
   "outputs": [
    {
     "name": "stdout",
     "output_type": "stream",
     "text": [
      "================ Begin trainer sanity check ================\n",
      "\tInput to encode -> Twas brillig, and the slithy toves, Did gyre and gimble in the wabe, All mimsy were the borogoves, And the mome raths outgrabe.\n",
      "\tDecoded output -> Was the slithy tollies, And gibe did brimble and gibe, And wave\n",
      "================ End trainer sanity check ================\n"
     ]
    }
   ],
   "source": [
    "trainer.num_gen_recursive_steps = 20\n",
    "trainer.sanity_decode()"
   ]
  },
  {
   "cell_type": "code",
   "execution_count": 5,
   "id": "a3762abb-dc08-4c75-9bc4-f77a8de10cae",
   "metadata": {},
   "outputs": [
    {
     "data": {
      "text/html": [
       "\n",
       "    <div>\n",
       "      \n",
       "      <progress value='3' max='3' style='width:300px; height:20px; vertical-align: middle;'></progress>\n",
       "      [3/3 00:00]\n",
       "    </div>\n",
       "    "
      ],
      "text/plain": [
       "<IPython.core.display.HTML object>"
      ]
     },
     "metadata": {},
     "output_type": "display_data"
    },
    {
     "name": "stderr",
     "output_type": "stream",
     "text": [
      "                                                                                                                                               \r"
     ]
    },
    {
     "name": "stdout",
     "output_type": "stream",
     "text": [
      "[pred] to the character of the skull, which are relatively smooth and untutuous in the case of infant sutures. Unlike the sutures,\n",
      "[true] to the character of the sutures of the skull which, like those of the infant skull, are relatively smooth and untortuous. In fact\n",
      "\n",
      "\n",
      "\n",
      "[pred] individual from the Southern Hemisphere to win the Winter Olympic relay gold medal, and was also part of the Australian Short Track team, which won gold\n",
      "[true] individual from the Southern Hemisphere, to win a Winter Olympic gold medal and was also part of the short track relay team that won Australia'\n",
      "\n",
      "\n",
      "\n",
      "[pred] the same rights as men, and 75% agreed that they should be protected from discrimination. Among the other 15%, gay workers are no longer exp\n",
      "[true] the same rights as straight people, while 15% disagreed. Additionally, 69% agreed that they should be protected from workplace discrimination. 13% of H\n"
     ]
    },
    {
     "data": {
      "text/plain": [
       "{'eval_loss': 1.0522613525390625,\n",
       " 'eval_accuracy': 0.7386067708333334,\n",
       " 'eval_token_set_precision': 0.6595365232793972,\n",
       " 'eval_token_set_recall': 0.6887789003733743,\n",
       " 'eval_token_set_f1': 0.6728795963252079,\n",
       " 'eval_bleu_score': 31.876985502984844,\n",
       " 'eval_meteor_score': 0.5792206976897826,\n",
       " 'eval_rouge_score': 0.6414878805144706,\n",
       " 'eval_bert_score': 0.9177108289053043,\n",
       " 'eval_emb_cos_sim': 0.9062262773513794,\n",
       " 'eval_perplexity': 2.8641205867926014,\n",
       " 'eval_runtime': 11.7635,\n",
       " 'eval_samples_per_second': 42.505,\n",
       " 'eval_steps_per_second': 0.34}"
      ]
     },
     "execution_count": 5,
     "metadata": {},
     "output_type": "execute_result"
    }
   ],
   "source": [
    "trainer.inversion_trainer.gen_kwargs = {\n",
    "    \"early_stopping\": False,\n",
    "    \"num_beams\": 1,\n",
    "    \"do_sample\": False,\n",
    "    \"no_repeat_ngram_size\": 0,\n",
    "}\n",
    "trainer.inversion_trainer.model.use_frozen_embeddings_as_input = False\n",
    "trainer.inversion_trainer.evaluate(\n",
    "    eval_dataset=trainer.eval_dataset[\"nq\"]\n",
    ")"
   ]
  },
  {
   "cell_type": "markdown",
   "id": "e54f6ab0-d628-42cd-90e3-7f7da95a6eeb",
   "metadata": {},
   "source": [
    "## multi-round"
   ]
  },
  {
   "cell_type": "code",
   "execution_count": 13,
   "id": "502ea86a-6daf-473b-bcef-a4fe360a05ca",
   "metadata": {},
   "outputs": [
    {
     "data": {
      "text/plain": [
       "dict_keys(['ag_news', 'arxiv', 'xsum_doc', 'xsum_summ', 'wikibio', 'nq'])"
      ]
     },
     "execution_count": 13,
     "metadata": {},
     "output_type": "execute_result"
    }
   ],
   "source": [
    "trainer.eval_dataset.keys()"
   ]
  },
  {
   "cell_type": "code",
   "execution_count": 33,
   "id": "1076d5a5-094c-4d4c-ad1c-e74b9f563e66",
   "metadata": {},
   "outputs": [
    {
     "name": "stderr",
     "output_type": "stream",
     "text": [
      "                                                                                                                                               \r"
     ]
    },
    {
     "name": "stdout",
     "output_type": "stream",
     "text": [
      "[pred] to the character of the skull, which are relatively smooth and untutuous in the case of infant sutures. Unlike the sutures,\n",
      "[true] to the character of the sutures of the skull which, like those of the infant skull, are relatively smooth and untortuous. In fact\n",
      "\n",
      "\n",
      "\n",
      "[pred] individual from the Southern Hemisphere to win the Winter Olympic relay gold medal, and was also part of the Australian Short Track team, which won gold\n",
      "[true] individual from the Southern Hemisphere, to win a Winter Olympic gold medal and was also part of the short track relay team that won Australia'\n",
      "\n",
      "\n",
      "\n",
      "[pred] the same rights as men, and 75% agreed that they should be protected from discrimination. Among the other 15%, gay workers are no longer exp\n",
      "[true] the same rights as straight people, while 15% disagreed. Additionally, 69% agreed that they should be protected from workplace discrimination. 13% of H\n",
      "setting preds_emb\n"
     ]
    },
    {
     "name": "stderr",
     "output_type": "stream",
     "text": [
      "                                                                                                                                               \r"
     ]
    },
    {
     "name": "stdout",
     "output_type": "stream",
     "text": [
      "[pred] we observe a phase transition between a solid crystal and a liquid substrate anchored in a nematic pattern with very weak propagating\n",
      "[true] we study the phase behavior of a nematic liquid crystal confined between a flat substrate with strong anchoring and a patterned substrate\n",
      "\n",
      "\n",
      "\n",
      "[pred] measure the observed clustering relations of large and uniform galaxy X. We need to measure the sample size of replication loops on the X \n",
      "[true] determining the scaling relations between galaxy cluster observables requires large samples of uniformly observed clusters. we measure the mean x -\n",
      "\n",
      "\n",
      "\n",
      "[pred] a link to control spatial parametric thresholds in a type of multivariate optical degenerate mode using a correlation mixer s\n",
      "[true] we show how to control spatial quantum correlations in a multimode degenerate optical parametric oscillator type i below threshold by \n",
      "setting preds_emb\n"
     ]
    },
    {
     "name": "stderr",
     "output_type": "stream",
     "text": [
      "Warning: Empty reference sentence detected; setting raw BERTScores to 0.                                                                       \n"
     ]
    },
    {
     "name": "stdout",
     "output_type": "stream",
     "text": [
      "[pred] a Sodje Reader, accused of denying fraud charges against the Sports Foundation of Nigeria, the National Charity for the Defence of the East African\n",
      "[true] The ex-Reading defender denied fraudulent trading charges relating to the Sodje Sports Foundation - a charity to raise money for Nigerian\n",
      "\n",
      "\n",
      "\n",
      "[pred] Voges was forced to retire after suffering a neck injury in the County Championship on 6 March. After being bowled out for 65, Middles\n",
      "[true] Voges was forced to retire hurt on 86 after suffering the injury while batting during the County Championship draw with Somerset on 4 June. Middlesex\n",
      "\n",
      "\n",
      "\n",
      "[pred] The Norfolk countryside photographs taken by photographer Josh Olins are featured in seven of his first June pictures. In the \"July\" magazine, the\n",
      "[true] Seven photographs taken in the Norfolk countryside by photographer Josh Olins will appear in the June edition. In her first sitting for a magazine, the du\n",
      "setting preds_emb\n"
     ]
    },
    {
     "name": "stderr",
     "output_type": "stream",
     "text": [
      "  0%|                                                                                                                   | 0/49 [00:00<?, ?it/s]"
     ]
    },
    {
     "name": "stdout",
     "output_type": "stream",
     "text": [
      "*** round 1\n"
     ]
    },
    {
     "name": "stderr",
     "output_type": "stream",
     "text": [
      "\n",
      "generating from val:   0%|                                                                                               | 0/4 [00:00<?, ?it/s]\u001b[A\n",
      "generating from val:  25%|█████████████████████▊                                                                 | 1/4 [00:01<00:03,  1.16s/it]\u001b[A\n",
      "generating from val:  50%|███████████████████████████████████████████▌                                           | 2/4 [00:02<00:02,  1.14s/it]\u001b[A\n",
      "generating from val:  75%|█████████████████████████████████████████████████████████████████▎                     | 3/4 [00:03<00:01,  1.09s/it]\u001b[A\n",
      "generating from val: 100%|███████████████████████████████████████████████████████████████████████████████████████| 4/4 [00:04<00:00,  1.05s/it]\u001b[A\n",
      "                                                                                                                                               \u001b[A"
     ]
    },
    {
     "name": "stdout",
     "output_type": "stream",
     "text": [
      "[pred] to the character of the sutures of the skull, which are relatively smooth and untortuous of infant skulls. In fact, like the\n",
      "[true] to the character of the sutures of the skull which, like those of the infant skull, are relatively smooth and untortuous. In fact\n",
      "\n",
      "\n",
      "\n",
      "[pred] individual from the Southern Hemisphere to win a Winter Olympic gold medal, and was also part of the short track relay team which won Australia'\n",
      "[true] individual from the Southern Hemisphere, to win a Winter Olympic gold medal and was also part of the short track relay team that won Australia'\n",
      "\n",
      "\n",
      "\n",
      "[pred] the same rights as other people, while 15% agreed that they should be protected from discrimination. Less than 3% disagreed with gay HRC and\n",
      "[true] the same rights as straight people, while 15% disagreed. Additionally, 69% agreed that they should be protected from workplace discrimination. 13% of H\n",
      "setting preds_emb\n"
     ]
    },
    {
     "name": "stderr",
     "output_type": "stream",
     "text": [
      "\n",
      "generating from val:   0%|                                                                                               | 0/4 [00:00<?, ?it/s]\u001b[A\n",
      "generating from val:  25%|█████████████████████▊                                                                 | 1/4 [00:01<00:03,  1.07s/it]\u001b[A\n",
      "generating from val:  50%|███████████████████████████████████████████▌                                           | 2/4 [00:02<00:02,  1.05s/it]\u001b[A\n",
      "generating from val:  75%|█████████████████████████████████████████████████████████████████▎                     | 3/4 [00:03<00:01,  1.03s/it]\u001b[A\n",
      "generating from val: 100%|███████████████████████████████████████████████████████████████████████████████████████| 4/4 [00:04<00:00,  1.02s/it]\u001b[A\n",
      "                                                                                                                                               \u001b[A"
     ]
    },
    {
     "name": "stdout",
     "output_type": "stream",
     "text": [
      "[pred] we study phase behavior between a liquid crystal with a strong nematic pattern anchored in a binging crystal between the substrate and surrounding\n",
      "[true] we study the phase behavior of a nematic liquid crystal confined between a flat substrate with strong anchoring and a patterned substrate\n",
      "\n",
      "\n",
      "\n",
      "[pred] determining the scale relations of observed uniform clusterings requires measuring large X observable samples. We sample the galaxy's x axi\n",
      "[true] determining the scaling relations between galaxy cluster observables requires large samples of uniformly observed clusters. we measure the mean x -\n",
      "\n",
      "\n",
      "\n",
      "[pred] demonstrating how to control a link type optical quantum correlation in degenerate spatial parametric modes of a multimode modulator, i\n",
      "[true] we show how to control spatial quantum correlations in a multimode degenerate optical parametric oscillator type i below threshold by \n",
      "setting preds_emb\n"
     ]
    },
    {
     "name": "stderr",
     "output_type": "stream",
     "text": [
      "\n",
      "generating from val:   0%|                                                                                               | 0/4 [00:00<?, ?it/s]\u001b[A\n",
      "generating from val:  25%|█████████████████████▊                                                                 | 1/4 [00:00<00:02,  1.00it/s]\u001b[A\n",
      "generating from val:  50%|███████████████████████████████████████████▌                                           | 2/4 [00:01<00:01,  1.01it/s]\u001b[A\n",
      "generating from val:  75%|█████████████████████████████████████████████████████████████████▎                     | 3/4 [00:02<00:00,  1.01it/s]\u001b[A\n",
      "generating from val: 100%|███████████████████████████████████████████████████████████████████████████████████████| 4/4 [00:03<00:00,  1.04it/s]\u001b[A\n",
      "                                                                                                                                               \u001b[AWarning: Empty reference sentence detected; setting raw BERTScores to 0.\n",
      "  2%|██▏                                                                                                        | 1/49 [00:28<23:02, 28.81s/it]"
     ]
    },
    {
     "name": "stdout",
     "output_type": "stream",
     "text": [
      "[pred] a former Sodje Trader denied the fraud charges against the Reading Sports Foundation, the National Fund for the Defence of Nigeria, for allegedly raising\n",
      "[true] The ex-Reading defender denied fraudulent trading charges relating to the Sodje Sports Foundation - a charity to raise money for Nigerian\n",
      "\n",
      "\n",
      "\n",
      "[pred] Voges was forced to retire after suffering an injury on the batting surface on 6 June for 62 in the County Championship. Somerset then hurt Middles\n",
      "[true] Voges was forced to retire hurt on 86 after suffering the injury while batting during the County Championship draw with Somerset on 4 June. Middlesex\n",
      "\n",
      "\n",
      "\n",
      "[pred] Seven photographs taken in the Norfolk countryside by photographer Josh Olins will appear in his first June edition in the magazine. While seated, the s\n",
      "[true] Seven photographs taken in the Norfolk countryside by photographer Josh Olins will appear in the June edition. In her first sitting for a magazine, the du\n",
      "setting preds_emb\n",
      "*** round 2\n"
     ]
    },
    {
     "name": "stderr",
     "output_type": "stream",
     "text": [
      "\n",
      "generating from val:   0%|                                                                                               | 0/4 [00:00<?, ?it/s]\u001b[A\n",
      "generating from val:  25%|█████████████████████▊                                                                 | 1/4 [00:01<00:04,  1.54s/it]\u001b[A\n",
      "generating from val:  50%|███████████████████████████████████████████▌                                           | 2/4 [00:03<00:03,  1.54s/it]\u001b[A\n",
      "generating from val:  75%|█████████████████████████████████████████████████████████████████▎                     | 3/4 [00:04<00:01,  1.65s/it]\u001b[A\n",
      "generating from val: 100%|███████████████████████████████████████████████████████████████████████████████████████| 4/4 [00:06<00:00,  1.63s/it]\u001b[A\n",
      "                                                                                                                                               \u001b[A"
     ]
    },
    {
     "name": "stdout",
     "output_type": "stream",
     "text": [
      "[pred] to the character of the sutures of the skull, which, like those of the infant skull, are relatively smooth and untortuous. However\n",
      "[true] to the character of the sutures of the skull which, like those of the infant skull, are relatively smooth and untortuous. In fact\n",
      "\n",
      "\n",
      "\n",
      "[pred] individual from the Southern Hemisphere, to win a Winter Olympic gold medal and was also part of the short track relay team that won Australia'\n",
      "[true] individual from the Southern Hemisphere, to win a Winter Olympic gold medal and was also part of the short track relay team that won Australia'\n",
      "\n",
      "\n",
      "\n",
      "[pred] the same rights as straight people, and 6% disagreed: 15% agree that they should be protected from workplace discrimination. Additionally, 8% of H\n",
      "[true] the same rights as straight people, while 15% disagreed. Additionally, 69% agreed that they should be protected from workplace discrimination. 13% of H\n",
      "setting preds_emb\n"
     ]
    },
    {
     "name": "stderr",
     "output_type": "stream",
     "text": [
      "\n",
      "generating from val:   0%|                                                                                               | 0/4 [00:00<?, ?it/s]\u001b[A\n",
      "generating from val:  25%|█████████████████████▊                                                                 | 1/4 [00:01<00:04,  1.51s/it]\u001b[A\n",
      "generating from val:  50%|███████████████████████████████████████████▌                                           | 2/4 [00:03<00:03,  1.53s/it]\u001b[A\n",
      "generating from val:  75%|█████████████████████████████████████████████████████████████████▎                     | 3/4 [00:04<00:01,  1.54s/it]\u001b[A\n",
      "generating from val: 100%|███████████████████████████████████████████████████████████████████████████████████████| 4/4 [00:06<00:00,  1.52s/it]\u001b[A\n",
      "                                                                                                                                               \u001b[A"
     ]
    },
    {
     "name": "stdout",
     "output_type": "stream",
     "text": [
      "[pred] we study the phase behavior of a nematic liquid crystal with a strong confined patterning between a substrate and a stationary substrate\n",
      "[true] we study the phase behavior of a nematic liquid crystal confined between a flat substrate with strong anchoring and a patterned substrate\n",
      "\n",
      "\n",
      "\n",
      "[pred] determining the observed relations between large x clusters requires measuring uniformly scaled sample mean axis. We sample the galaxy's \n",
      "[true] determining the scaling relations between galaxy cluster observables requires large samples of uniformly observed clusters. we measure the mean x -\n",
      "\n",
      "\n",
      "\n",
      "[pred] to control a type of optical multimode quantum correlation in parametric spatial degenerate matrices at a threshold spatial linker,\n",
      "[true] we show how to control spatial quantum correlations in a multimode degenerate optical parametric oscillator type i below threshold by \n",
      "setting preds_emb\n"
     ]
    },
    {
     "name": "stderr",
     "output_type": "stream",
     "text": [
      "\n",
      "generating from val:   0%|                                                                                               | 0/4 [00:00<?, ?it/s]\u001b[A\n",
      "generating from val:  25%|█████████████████████▊                                                                 | 1/4 [00:01<00:04,  1.66s/it]\u001b[A\n",
      "generating from val:  50%|███████████████████████████████████████████▌                                           | 2/4 [00:03<00:03,  1.58s/it]\u001b[A\n",
      "generating from val:  75%|█████████████████████████████████████████████████████████████████▎                     | 3/4 [00:04<00:01,  1.66s/it]\u001b[A\n",
      "generating from val: 100%|███████████████████████████████████████████████████████████████████████████████████████| 4/4 [00:06<00:00,  1.63s/it]\u001b[A\n",
      "                                                                                                                                               \u001b[AWarning: Empty reference sentence detected; setting raw BERTScores to 0.\n",
      "  4%|████▎                                                                                                      | 2/49 [01:03<25:06, 32.05s/it]"
     ]
    },
    {
     "name": "stdout",
     "output_type": "stream",
     "text": [
      "[pred] The ex-Sportstrader denied the charges of fraudulently promoting Reading charity, the Sodje Free Foundation for the Defence of Nigeria and that\n",
      "[true] The ex-Reading defender denied fraudulent trading charges relating to the Sodje Sports Foundation - a charity to raise money for Nigerian\n",
      "\n",
      "\n",
      "\n",
      "[pred] Voges was forced to retire after suffering an injury on 6 June while batting at 86 for Somerset in the County Championship. Middlesex then hurt\n",
      "[true] Voges was forced to retire hurt on 86 after suffering the injury while batting during the County Championship draw with Somerset on 4 June. Middlesex\n",
      "\n",
      "\n",
      "\n",
      "[pred] Seven photographs taken in the Norfolk countryside by photographer Josh Olins will appear in his first June edition in the magazine. She sits for a du\n",
      "[true] Seven photographs taken in the Norfolk countryside by photographer Josh Olins will appear in the June edition. In her first sitting for a magazine, the du\n",
      "setting preds_emb\n",
      "*** round 3\n"
     ]
    },
    {
     "name": "stderr",
     "output_type": "stream",
     "text": [
      "\n",
      "generating from val:   0%|                                                                                               | 0/4 [00:00<?, ?it/s]\u001b[A\n",
      "generating from val:  25%|█████████████████████▊                                                                 | 1/4 [00:02<00:06,  2.19s/it]\u001b[A\n",
      "generating from val:  50%|███████████████████████████████████████████▌                                           | 2/4 [00:04<00:04,  2.16s/it]\u001b[A\n",
      "generating from val:  75%|█████████████████████████████████████████████████████████████████▎                     | 3/4 [00:06<00:02,  2.14s/it]\u001b[A\n",
      "generating from val: 100%|███████████████████████████████████████████████████████████████████████████████████████| 4/4 [00:08<00:00,  2.15s/it]\u001b[A\n",
      "                                                                                                                                               \u001b[A"
     ]
    },
    {
     "name": "stdout",
     "output_type": "stream",
     "text": [
      "[pred] to the character of the sutures of the skull, which, like those of the infant skull, are relatively smooth and untortuous. In\n",
      "[true] to the character of the sutures of the skull which, like those of the infant skull, are relatively smooth and untortuous. In fact\n",
      "\n",
      "\n",
      "\n",
      "[pred] individual from the Southern Hemisphere, to win a Winter Olympic gold medal and was also part of the short track relay team that won Australia'\n",
      "[true] individual from the Southern Hemisphere, to win a Winter Olympic gold medal and was also part of the short track relay team that won Australia'\n",
      "\n",
      "\n",
      "\n",
      "[pred] the same rights as straight people, while 15% agreed that they should be protected from workplace discrimination. In addition, 39% disagreed. 33% H\n",
      "[true] the same rights as straight people, while 15% disagreed. Additionally, 69% agreed that they should be protected from workplace discrimination. 13% of H\n",
      "setting preds_emb\n"
     ]
    },
    {
     "name": "stderr",
     "output_type": "stream",
     "text": [
      "\n",
      "generating from val:   0%|                                                                                               | 0/4 [00:00<?, ?it/s]\u001b[A\n",
      "generating from val:  25%|█████████████████████▊                                                                 | 1/4 [00:02<00:06,  2.08s/it]\u001b[A\n",
      "generating from val:  50%|███████████████████████████████████████████▌                                           | 2/4 [00:04<00:04,  2.07s/it]\u001b[A\n",
      "generating from val:  75%|█████████████████████████████████████████████████████████████████▎                     | 3/4 [00:06<00:02,  2.08s/it]\u001b[A\n",
      "generating from val: 100%|███████████████████████████████████████████████████████████████████████████████████████| 4/4 [00:08<00:00,  2.04s/it]\u001b[A\n",
      "                                                                                                                                               \u001b[A"
     ]
    },
    {
     "name": "stdout",
     "output_type": "stream",
     "text": [
      "[pred] we study the phase behavior of a nematic liquid crystal with strong anchoring patterning between a confined substrate and a patterned\n",
      "[true] we study the phase behavior of a nematic liquid crystal confined between a flat substrate with strong anchoring and a patterned substrate\n",
      "\n",
      "\n",
      "\n",
      "[pred] determining the observed relations between large x clusters requires measuring uniformly scaleable samples. We measure the galaxy's axis (m \n",
      "[true] determining the scaling relations between galaxy cluster observables requires large samples of uniformly observed clusters. we measure the mean x -\n",
      "\n",
      "\n",
      "\n",
      "[pred] to control a type of parametric quantum correlation in multimode spatial degenerate optical oscillators at a threshold below the linkage,\n",
      "[true] we show how to control spatial quantum correlations in a multimode degenerate optical parametric oscillator type i below threshold by \n",
      "setting preds_emb\n"
     ]
    },
    {
     "name": "stderr",
     "output_type": "stream",
     "text": [
      "\n",
      "generating from val:   0%|                                                                                               | 0/4 [00:00<?, ?it/s]\u001b[A\n",
      "generating from val:  25%|█████████████████████▊                                                                 | 1/4 [00:02<00:06,  2.26s/it]\u001b[A\n",
      "generating from val:  50%|███████████████████████████████████████████▌                                           | 2/4 [00:04<00:04,  2.16s/it]\u001b[A\n",
      "generating from val:  75%|█████████████████████████████████████████████████████████████████▎                     | 3/4 [00:06<00:02,  2.12s/it]\u001b[A\n",
      "generating from val: 100%|███████████████████████████████████████████████████████████████████████████████████████| 4/4 [00:08<00:00,  2.11s/it]\u001b[A\n",
      "                                                                                                                                               \u001b[AWarning: Empty reference sentence detected; setting raw BERTScores to 0.\n",
      "  6%|██████▌                                                                                                    | 3/49 [01:44<27:49, 36.29s/it]"
     ]
    },
    {
     "name": "stdout",
     "output_type": "stream",
     "text": [
      "[pred] The ex-trader denied allegations by the Sodje Reading Foundation of a charity charged with promoting fraudulent sport to Nigerian readers (Sports\n",
      "[true] The ex-Reading defender denied fraudulent trading charges relating to the Sodje Sports Foundation - a charity to raise money for Nigerian\n",
      "\n",
      "\n",
      "\n",
      "[pred] Voges was forced to retire hurt after batting at 86 on 4 June in the County Championship with Middlesex taking the injury. After Somerset suffered\n",
      "[true] Voges was forced to retire hurt on 86 after suffering the injury while batting during the County Championship draw with Somerset on 4 June. Middlesex\n",
      "\n",
      "\n",
      "\n",
      "[pred] Seven photographs taken in the Norfolk countryside by photographer Josh Olins will appear in a June edition of the magazine. Her first sitting, in which du\n",
      "[true] Seven photographs taken in the Norfolk countryside by photographer Josh Olins will appear in the June edition. In her first sitting for a magazine, the du\n",
      "setting preds_emb\n",
      "*** round 4\n"
     ]
    },
    {
     "name": "stderr",
     "output_type": "stream",
     "text": [
      "\n",
      "generating from val:   0%|                                                                                               | 0/4 [00:00<?, ?it/s]\u001b[A\n",
      "generating from val:  25%|█████████████████████▊                                                                 | 1/4 [00:02<00:08,  2.79s/it]\u001b[A\n",
      "generating from val:  50%|███████████████████████████████████████████▌                                           | 2/4 [00:05<00:05,  2.69s/it]\u001b[A\n",
      "generating from val:  75%|█████████████████████████████████████████████████████████████████▎                     | 3/4 [00:08<00:02,  2.65s/it]\u001b[A\n",
      "generating from val: 100%|███████████████████████████████████████████████████████████████████████████████████████| 4/4 [00:10<00:00,  2.62s/it]\u001b[A\n",
      "                                                                                                                                               \u001b[A"
     ]
    },
    {
     "name": "stdout",
     "output_type": "stream",
     "text": [
      "[pred] to the character of the sutures of the skull, which, like those of the infant skull, are relatively smooth and untortuous. In\n",
      "[true] to the character of the sutures of the skull which, like those of the infant skull, are relatively smooth and untortuous. In fact\n",
      "\n",
      "\n",
      "\n",
      "[pred] individual from the Southern Hemisphere, to win a Winter Olympic gold medal and was also part of the short track relay team that won Australia'\n",
      "[true] individual from the Southern Hemisphere, to win a Winter Olympic gold medal and was also part of the short track relay team that won Australia'\n",
      "\n",
      "\n",
      "\n",
      "[pred] same rights as straight people, while 15% agreed that they should be protected from workplace discrimination. Additionally, 13% disagreed. 65% of Hl\n",
      "[true] the same rights as straight people, while 15% disagreed. Additionally, 69% agreed that they should be protected from workplace discrimination. 13% of H\n",
      "setting preds_emb\n"
     ]
    },
    {
     "name": "stderr",
     "output_type": "stream",
     "text": [
      "\n",
      "generating from val:   0%|                                                                                               | 0/4 [00:00<?, ?it/s]\u001b[A\n",
      "generating from val:  25%|█████████████████████▊                                                                 | 1/4 [00:02<00:07,  2.56s/it]\u001b[A\n",
      "generating from val:  50%|███████████████████████████████████████████▌                                           | 2/4 [00:05<00:05,  2.55s/it]\u001b[A\n",
      "generating from val:  75%|█████████████████████████████████████████████████████████████████▎                     | 3/4 [00:07<00:02,  2.67s/it]\u001b[A\n",
      "generating from val: 100%|███████████████████████████████████████████████████████████████████████████████████████| 4/4 [00:10<00:00,  2.63s/it]\u001b[A\n",
      "                                                                                                                                               \u001b[A"
     ]
    },
    {
     "name": "stdout",
     "output_type": "stream",
     "text": [
      "[pred] we study the phase behavior of a nematic liquid crystal with strong anchoring between a patterned substrate and a confined substrate flat\n",
      "[true] we study the phase behavior of a nematic liquid crystal confined between a flat substrate with strong anchoring and a patterned substrate\n",
      "\n",
      "\n",
      "\n",
      "[pred] determining the observed sample relations between clusters requires uniformly scaleable galaxy x rays. We measure the mean of the clusters -\n",
      "[true] determining the scaling relations between galaxy cluster observables requires large samples of uniformly observed clusters. we measure the mean x -\n",
      "\n",
      "\n",
      "\n",
      "[pred] to control quantum correlation in a type of degenerate parametric multimode optical oscillators below a spatial threshold with the help of \n",
      "[true] we show how to control spatial quantum correlations in a multimode degenerate optical parametric oscillator type i below threshold by \n",
      "setting preds_emb\n"
     ]
    },
    {
     "name": "stderr",
     "output_type": "stream",
     "text": [
      "\n",
      "generating from val:   0%|                                                                                               | 0/4 [00:00<?, ?it/s]\u001b[A\n",
      "generating from val:  25%|█████████████████████▊                                                                 | 1/4 [00:02<00:07,  2.54s/it]\u001b[A\n",
      "generating from val:  50%|███████████████████████████████████████████▌                                           | 2/4 [00:05<00:05,  2.54s/it]\u001b[A\n",
      "generating from val:  75%|█████████████████████████████████████████████████████████████████▎                     | 3/4 [00:07<00:02,  2.54s/it]\u001b[A\n",
      "generating from val: 100%|███████████████████████████████████████████████████████████████████████████████████████| 4/4 [00:10<00:00,  2.52s/it]\u001b[A\n",
      "                                                                                                                                               \u001b[AWarning: Empty reference sentence detected; setting raw BERTScores to 0.\n",
      "  8%|████████▋                                                                                                  | 4/49 [02:30<30:11, 40.26s/it]"
     ]
    },
    {
     "name": "stdout",
     "output_type": "stream",
     "text": [
      "[pred] The ex-trader denied charges by the Sodje Reader Foundation, a charity charged with promoting fraudulent sports and financial defence in Nigeria's\n",
      "[true] The ex-Reading defender denied fraudulent trading charges relating to the Sodje Sports Foundation - a charity to raise money for Nigerian\n",
      "\n",
      "\n",
      "\n",
      "[pred] Voges was forced to retire hurt after suffering a terrible injury against Somerset on 4 June while batting at 86 in the County Championship. Middles\n",
      "[true] Voges was forced to retire hurt on 86 after suffering the injury while batting during the County Championship draw with Somerset on 4 June. Middlesex\n",
      "\n",
      "\n",
      "\n",
      "[pred] Seven photographs taken in the Norfolk countryside by photographer Josh Olins will appear in her first sitting in the magazine. In a June edition, the du\n",
      "[true] Seven photographs taken in the Norfolk countryside by photographer Josh Olins will appear in the June edition. In her first sitting for a magazine, the du\n",
      "setting preds_emb\n",
      "*** round 5\n"
     ]
    },
    {
     "name": "stderr",
     "output_type": "stream",
     "text": [
      "\n",
      "generating from val:   0%|                                                                                               | 0/4 [00:00<?, ?it/s]\u001b[A\n",
      "generating from val:  25%|█████████████████████▊                                                                 | 1/4 [00:03<00:09,  3.18s/it]\u001b[A\n",
      "generating from val:  50%|███████████████████████████████████████████▌                                           | 2/4 [00:06<00:06,  3.13s/it]\u001b[A\n",
      "generating from val:  75%|█████████████████████████████████████████████████████████████████▎                     | 3/4 [00:09<00:03,  3.11s/it]\u001b[A\n",
      "generating from val: 100%|███████████████████████████████████████████████████████████████████████████████████████| 4/4 [00:12<00:00,  3.18s/it]\u001b[A\n",
      "                                                                                                                                               \u001b[A"
     ]
    },
    {
     "name": "stdout",
     "output_type": "stream",
     "text": [
      "[pred] to the character of the sutures of the skull, which, like those of the infant skull, are relatively smooth and untortuous. In\n",
      "[true] to the character of the sutures of the skull which, like those of the infant skull, are relatively smooth and untortuous. In fact\n",
      "\n",
      "\n",
      "\n",
      "[pred] individual from the Southern Hemisphere, to win a Winter Olympic gold medal and was also part of the short track relay team that won Australia'\n",
      "[true] individual from the Southern Hemisphere, to win a Winter Olympic gold medal and was also part of the short track relay team that won Australia'\n",
      "\n",
      "\n",
      "\n",
      "[pred] the same rights as straight people, while 15% agreed that they should be protected from workplace discrimination. Additionally, 13% disagreed. 9% of H\n",
      "[true] the same rights as straight people, while 15% disagreed. Additionally, 69% agreed that they should be protected from workplace discrimination. 13% of H\n",
      "setting preds_emb\n"
     ]
    },
    {
     "name": "stderr",
     "output_type": "stream",
     "text": [
      "\n",
      "generating from val:   0%|                                                                                               | 0/4 [00:00<?, ?it/s]\u001b[A\n",
      "generating from val:  25%|█████████████████████▊                                                                 | 1/4 [00:03<00:09,  3.16s/it]\u001b[A\n",
      "generating from val:  50%|███████████████████████████████████████████▌                                           | 2/4 [00:06<00:06,  3.16s/it]\u001b[A\n",
      "generating from val:  75%|█████████████████████████████████████████████████████████████████▎                     | 3/4 [00:09<00:03,  3.17s/it]\u001b[A\n",
      "generating from val: 100%|███████████████████████████████████████████████████████████████████████████████████████| 4/4 [00:12<00:00,  3.13s/it]\u001b[A\n",
      "                                                                                                                                               \u001b[A"
     ]
    },
    {
     "name": "stdout",
     "output_type": "stream",
     "text": [
      "[pred] we study the phase behavior of a nematic liquid crystal confined between a flat substrate and a patterned substrate with strong anchoring\n",
      "[true] we study the phase behavior of a nematic liquid crystal confined between a flat substrate with strong anchoring and a patterned substrate\n",
      "\n",
      "\n",
      "\n",
      "[pred] determining the scaling relations between observed clusters requires uniformly large sample galaxy x - the mean of the clusters being measured. We sample \n",
      "[true] determining the scaling relations between galaxy cluster observables requires large samples of uniformly observed clusters. we measure the mean x -\n",
      "\n",
      "\n",
      "\n",
      "[pred] here to control quantum correlation in a type of degenerate parametric multimode optical oscillators below a spatial threshold accompanied by \n",
      "[true] we show how to control spatial quantum correlations in a multimode degenerate optical parametric oscillator type i below threshold by \n",
      "setting preds_emb\n"
     ]
    },
    {
     "name": "stderr",
     "output_type": "stream",
     "text": [
      "\n",
      "generating from val:   0%|                                                                                               | 0/4 [00:00<?, ?it/s]\u001b[A\n",
      "generating from val:  25%|█████████████████████▊                                                                 | 1/4 [00:03<00:10,  3.43s/it]\u001b[A\n",
      "generating from val:  50%|███████████████████████████████████████████▌                                           | 2/4 [00:06<00:06,  3.37s/it]\u001b[A\n",
      "generating from val:  75%|█████████████████████████████████████████████████████████████████▎                     | 3/4 [00:09<00:03,  3.28s/it]\u001b[A\n",
      "generating from val: 100%|███████████████████████████████████████████████████████████████████████████████████████| 4/4 [00:12<00:00,  3.18s/it]\u001b[A\n",
      "                                                                                                                                               \u001b[AWarning: Empty reference sentence detected; setting raw BERTScores to 0.\n",
      " 10%|██████████▉                                                                                                | 5/49 [03:24<33:00, 45.00s/it]"
     ]
    },
    {
     "name": "stdout",
     "output_type": "stream",
     "text": [
      "[pred] The ex-Reading defender denied charges against the Sodje Reading Foundation, a charity charged with fraudulent trading and financial assistance to Nigeria's\n",
      "[true] The ex-Reading defender denied fraudulent trading charges relating to the Sodje Sports Foundation - a charity to raise money for Nigerian\n",
      "\n",
      "\n",
      "\n",
      "[pred] Voges was forced to retire hurt after suffering the injury during batting at 86 for Somerset in the County Championship on 6 June. Middlesex with\n",
      "[true] Voges was forced to retire hurt on 86 after suffering the injury while batting during the County Championship draw with Somerset on 4 June. Middlesex\n",
      "\n",
      "\n",
      "\n",
      "[pred] Seven photographs taken in the Norfolk countryside by photographer Josh Olins will appear in her first sitting in the June edition of the magazine. The duc and\n",
      "[true] Seven photographs taken in the Norfolk countryside by photographer Josh Olins will appear in the June edition. In her first sitting for a magazine, the du\n",
      "setting preds_emb\n",
      "*** round 6\n"
     ]
    },
    {
     "name": "stderr",
     "output_type": "stream",
     "text": [
      "\n",
      "generating from val:   0%|                                                                                               | 0/4 [00:00<?, ?it/s]\u001b[A\n",
      "generating from val:  25%|█████████████████████▊                                                                 | 1/4 [00:03<00:11,  3.73s/it]\u001b[A\n",
      "generating from val:  50%|███████████████████████████████████████████▌                                           | 2/4 [00:07<00:07,  3.65s/it]\u001b[A\n",
      "generating from val:  75%|█████████████████████████████████████████████████████████████████▎                     | 3/4 [00:10<00:03,  3.61s/it]\u001b[A\n",
      "generating from val: 100%|███████████████████████████████████████████████████████████████████████████████████████| 4/4 [00:14<00:00,  3.56s/it]\u001b[A\n",
      "                                                                                                                                               \u001b[A"
     ]
    },
    {
     "name": "stdout",
     "output_type": "stream",
     "text": [
      "[pred] to the character of the sutures of the skull, which, like those of the infant skull, are relatively smooth and untortuous. In\n",
      "[true] to the character of the sutures of the skull which, like those of the infant skull, are relatively smooth and untortuous. In fact\n",
      "\n",
      "\n",
      "\n",
      "[pred] individual from the Southern Hemisphere, to win a Winter Olympic gold medal and was also part of the short track relay team that won Australia'\n",
      "[true] individual from the Southern Hemisphere, to win a Winter Olympic gold medal and was also part of the short track relay team that won Australia'\n",
      "\n",
      "\n",
      "\n",
      "[pred] same rights as straight people, while 15% agreed. Additionally, 39% agreed that they should be protected from workplace discrimination. 6% of H's\n",
      "[true] the same rights as straight people, while 15% disagreed. Additionally, 69% agreed that they should be protected from workplace discrimination. 13% of H\n",
      "setting preds_emb\n"
     ]
    },
    {
     "name": "stderr",
     "output_type": "stream",
     "text": [
      "\n",
      "generating from val:   0%|                                                                                               | 0/4 [00:00<?, ?it/s]\u001b[A\n",
      "generating from val:  25%|█████████████████████▊                                                                 | 1/4 [00:03<00:11,  3.74s/it]\u001b[A\n",
      "generating from val:  50%|███████████████████████████████████████████▌                                           | 2/4 [00:07<00:07,  3.73s/it]\u001b[A\n",
      "generating from val:  75%|█████████████████████████████████████████████████████████████████▎                     | 3/4 [00:11<00:03,  3.67s/it]\u001b[A\n",
      "generating from val: 100%|███████████████████████████████████████████████████████████████████████████████████████| 4/4 [00:14<00:00,  3.60s/it]\u001b[A\n",
      "                                                                                                                                               \u001b[A"
     ]
    },
    {
     "name": "stdout",
     "output_type": "stream",
     "text": [
      "[pred] we study the phase behavior of a nematic liquid crystal confined between a patterned substrate and a flat substrate with strong anchoring\n",
      "[true] we study the phase behavior of a nematic liquid crystal confined between a flat substrate with strong anchoring and a patterned substrate\n",
      "\n",
      "\n",
      "\n",
      "[pred] determining the scaling relations between observed clusters requires measuring uniformly large sampled galaxy clusters. We measure the observables x -\n",
      "[true] determining the scaling relations between galaxy cluster observables requires large samples of uniformly observed clusters. we measure the mean x -\n",
      "\n",
      "\n",
      "\n",
      "[pred] here to control quantum correlation in a type of degenerate parametric multimode optical oscillators under spatial thresholds i.e.\n",
      "[true] we show how to control spatial quantum correlations in a multimode degenerate optical parametric oscillator type i below threshold by \n",
      "setting preds_emb\n"
     ]
    },
    {
     "name": "stderr",
     "output_type": "stream",
     "text": [
      "\n",
      "generating from val:   0%|                                                                                               | 0/4 [00:00<?, ?it/s]\u001b[A\n",
      "generating from val:  25%|█████████████████████▊                                                                 | 1/4 [00:03<00:10,  3.60s/it]\u001b[A\n",
      "generating from val:  50%|███████████████████████████████████████████▌                                           | 2/4 [00:07<00:07,  3.61s/it]\u001b[A\n",
      "generating from val:  75%|█████████████████████████████████████████████████████████████████▎                     | 3/4 [00:10<00:03,  3.60s/it]\u001b[A\n",
      "generating from val: 100%|███████████████████████████████████████████████████████████████████████████████████████| 4/4 [00:14<00:00,  3.55s/it]\u001b[A\n",
      "                                                                                                                                               \u001b[AWarning: Empty reference sentence detected; setting raw BERTScores to 0.\n",
      " 12%|█████████████                                                                                              | 6/49 [04:22<35:25, 49.43s/it]"
     ]
    },
    {
     "name": "stdout",
     "output_type": "stream",
     "text": [
      "[pred] An ex-sports defender denied charges of fraudulent trading to the Sodje Reading Foundation, a charity which was set up to raise Nigerian\n",
      "[true] The ex-Reading defender denied fraudulent trading charges relating to the Sodje Sports Foundation - a charity to raise money for Nigerian\n",
      "\n",
      "\n",
      "\n",
      "[pred] Voges was forced to retire hurt after suffering an injury during batting at 86 with Somerset taking 5/32 in the County Championship. Middlesex\n",
      "[true] Voges was forced to retire hurt on 86 after suffering the injury while batting during the County Championship draw with Somerset on 4 June. Middlesex\n",
      "\n",
      "\n",
      "\n",
      "[pred] Seven photographs taken in the Norfolk countryside by photographer Josh Olins will appear in her first sitting. In a June edition of the magazine, the du\n",
      "[true] Seven photographs taken in the Norfolk countryside by photographer Josh Olins will appear in the June edition. In her first sitting for a magazine, the du\n",
      "setting preds_emb\n",
      "*** round 7\n"
     ]
    },
    {
     "name": "stderr",
     "output_type": "stream",
     "text": [
      "\n",
      "generating from val:   0%|                                                                                               | 0/4 [00:00<?, ?it/s]\u001b[A\n",
      "generating from val:  25%|█████████████████████▊                                                                 | 1/4 [00:04<00:13,  4.37s/it]\u001b[A\n",
      "generating from val:  50%|███████████████████████████████████████████▌                                           | 2/4 [00:08<00:08,  4.21s/it]\u001b[A\n",
      "generating from val:  75%|█████████████████████████████████████████████████████████████████▎                     | 3/4 [00:12<00:04,  4.15s/it]\u001b[A\n",
      "generating from val: 100%|███████████████████████████████████████████████████████████████████████████████████████| 4/4 [00:16<00:00,  4.21s/it]\u001b[A\n",
      "                                                                                                                                               \u001b[A"
     ]
    },
    {
     "name": "stdout",
     "output_type": "stream",
     "text": [
      "[pred] to the character of the sutures of the skull, which, like those of the infant skull, are relatively smooth and untortuous. In\n",
      "[true] to the character of the sutures of the skull which, like those of the infant skull, are relatively smooth and untortuous. In fact\n",
      "\n",
      "\n",
      "\n",
      "[pred] individual from the Southern Hemisphere, to win a Winter Olympic gold medal and was also part of the short track relay team that won Australia'\n",
      "[true] individual from the Southern Hemisphere, to win a Winter Olympic gold medal and was also part of the short track relay team that won Australia'\n",
      "\n",
      "\n",
      "\n",
      "[pred] the same rights as straight people, while 15% disagreed. Additionally, 39% agreed that they should be protected from workplace discrimination. 13% of H\n",
      "[true] the same rights as straight people, while 15% disagreed. Additionally, 69% agreed that they should be protected from workplace discrimination. 13% of H\n",
      "setting preds_emb\n"
     ]
    },
    {
     "name": "stderr",
     "output_type": "stream",
     "text": [
      "\n",
      "generating from val:   0%|                                                                                               | 0/4 [00:00<?, ?it/s]\u001b[A\n",
      "generating from val:  25%|█████████████████████▊                                                                 | 1/4 [00:04<00:13,  4.51s/it]\u001b[A\n",
      "generating from val:  50%|███████████████████████████████████████████▌                                           | 2/4 [00:08<00:08,  4.40s/it]\u001b[A\n",
      "generating from val:  75%|█████████████████████████████████████████████████████████████████▎                     | 3/4 [00:13<00:04,  4.37s/it]\u001b[A\n",
      "generating from val: 100%|███████████████████████████████████████████████████████████████████████████████████████| 4/4 [00:17<00:00,  4.24s/it]\u001b[A\n",
      "                                                                                                                                               \u001b[A"
     ]
    },
    {
     "name": "stdout",
     "output_type": "stream",
     "text": [
      "[pred] we study the phase behavior of a nematic liquid crystal confined between a flat substrate and a patterned substrate with strong anchoring\n",
      "[true] we study the phase behavior of a nematic liquid crystal confined between a flat substrate with strong anchoring and a patterned substrate\n",
      "\n",
      "\n",
      "\n",
      "[pred] determining the scaling relations between galaxy clusters requires measuring uniformly sampled observables. We measure the mean of large clusters x \n",
      "[true] determining the scaling relations between galaxy cluster observables requires large samples of uniformly observed clusters. we measure the mean x -\n",
      "\n",
      "\n",
      "\n",
      "[pred] how to control quantum correlation under a type of degenerate parametric multimode optical oscillators spatially below a threshold, we show\n",
      "[true] we show how to control spatial quantum correlations in a multimode degenerate optical parametric oscillator type i below threshold by \n",
      "setting preds_emb\n"
     ]
    },
    {
     "name": "stderr",
     "output_type": "stream",
     "text": [
      "\n",
      "generating from val:   0%|                                                                                               | 0/4 [00:00<?, ?it/s]\u001b[A\n",
      "generating from val:  25%|█████████████████████▊                                                                 | 1/4 [00:04<00:12,  4.27s/it]\u001b[A\n",
      "generating from val:  50%|███████████████████████████████████████████▌                                           | 2/4 [00:08<00:08,  4.27s/it]\u001b[A\n",
      "generating from val:  75%|█████████████████████████████████████████████████████████████████▎                     | 3/4 [00:12<00:04,  4.22s/it]\u001b[A\n",
      "generating from val: 100%|███████████████████████████████████████████████████████████████████████████████████████| 4/4 [00:16<00:00,  4.22s/it]\u001b[A\n",
      "                                                                                                                                               \u001b[AWarning: Empty reference sentence detected; setting raw BERTScores to 0.\n",
      " 14%|███████████████▎                                                                                           | 7/49 [05:29<38:34, 55.11s/it]"
     ]
    },
    {
     "name": "stdout",
     "output_type": "stream",
     "text": [
      "[pred] The ex-Reader denied charges of fraudulent trading to the Sodje Books Foundation - a charity which is to encourage Nigerian sports and financial\n",
      "[true] The ex-Reading defender denied fraudulent trading charges relating to the Sodje Sports Foundation - a charity to raise money for Nigerian\n",
      "\n",
      "\n",
      "\n",
      "[pred] Voges was forced to retire hurt after suffering an injury in the County Championship against Somerset on 2 June. After batting at 86, Middlesex\n",
      "[true] Voges was forced to retire hurt on 86 after suffering the injury while batting during the County Championship draw with Somerset on 4 June. Middlesex\n",
      "\n",
      "\n",
      "\n",
      "[pred] Seven photographs taken in the Norfolk countryside by photographer Josh Olins will be appearing in her first sitting for the June edition of the magazine. The he\n",
      "[true] Seven photographs taken in the Norfolk countryside by photographer Josh Olins will appear in the June edition. In her first sitting for a magazine, the du\n",
      "setting preds_emb\n",
      "*** round 8\n"
     ]
    },
    {
     "name": "stderr",
     "output_type": "stream",
     "text": [
      "\n",
      "generating from val:   0%|                                                                                               | 0/4 [00:00<?, ?it/s]\u001b[A\n",
      "generating from val:  25%|█████████████████████▊                                                                 | 1/4 [00:04<00:14,  4.91s/it]\u001b[A\n",
      "generating from val:  50%|███████████████████████████████████████████▌                                           | 2/4 [00:09<00:09,  4.82s/it]\u001b[A\n",
      "generating from val:  75%|█████████████████████████████████████████████████████████████████▎                     | 3/4 [00:14<00:04,  4.86s/it]\u001b[A\n",
      "generating from val: 100%|███████████████████████████████████████████████████████████████████████████████████████| 4/4 [00:19<00:00,  4.82s/it]\u001b[A\n",
      "                                                                                                                                               \u001b[A"
     ]
    },
    {
     "name": "stdout",
     "output_type": "stream",
     "text": [
      "[pred] to the character of the sutures of the skull, which, like those of the infant skull, are relatively smooth and untortuous. In\n",
      "[true] to the character of the sutures of the skull which, like those of the infant skull, are relatively smooth and untortuous. In fact\n",
      "\n",
      "\n",
      "\n",
      "[pred] individual from the Southern Hemisphere, to win a Winter Olympic gold medal and was also part of the short track relay team that won Australia'\n",
      "[true] individual from the Southern Hemisphere, to win a Winter Olympic gold medal and was also part of the short track relay team that won Australia'\n",
      "\n",
      "\n",
      "\n",
      "[pred] the same rights as straight people, while 15% disagreed. Additionally, 69% agreed that they should be protected from workplace discrimination. 13% of H\n",
      "[true] the same rights as straight people, while 15% disagreed. Additionally, 69% agreed that they should be protected from workplace discrimination. 13% of H\n",
      "setting preds_emb\n"
     ]
    },
    {
     "name": "stderr",
     "output_type": "stream",
     "text": [
      "\n",
      "generating from val:   0%|                                                                                               | 0/4 [00:00<?, ?it/s]\u001b[A\n",
      "generating from val:  25%|█████████████████████▊                                                                 | 1/4 [00:04<00:14,  4.88s/it]\u001b[A\n",
      "generating from val:  50%|███████████████████████████████████████████▌                                           | 2/4 [00:09<00:09,  4.87s/it]\u001b[A\n",
      "generating from val:  75%|█████████████████████████████████████████████████████████████████▎                     | 3/4 [00:14<00:04,  4.88s/it]\u001b[A\n",
      "generating from val: 100%|███████████████████████████████████████████████████████████████████████████████████████| 4/4 [00:19<00:00,  4.76s/it]\u001b[A\n",
      "                                                                                                                                               \u001b[A"
     ]
    },
    {
     "name": "stdout",
     "output_type": "stream",
     "text": [
      "[pred] we study the phase behavior of a nematic liquid crystal confined between a patterned substrate and a flat substrate with strong anchoring\n",
      "[true] we study the phase behavior of a nematic liquid crystal confined between a flat substrate with strong anchoring and a patterned substrate\n",
      "\n",
      "\n",
      "\n",
      "[pred] determining the scaling relations between uniformly observed galaxy clusters requires sample. We measure the mean of large clusters x x x \n",
      "[true] determining the scaling relations between galaxy cluster observables requires large samples of uniformly observed clusters. we measure the mean x -\n",
      "\n",
      "\n",
      "\n",
      "[pred] we show how to control quantum correlation under a type of degenerate parametric multimode optical oscillator spatially above thresholds i\n",
      "[true] we show how to control spatial quantum correlations in a multimode degenerate optical parametric oscillator type i below threshold by \n",
      "setting preds_emb\n"
     ]
    },
    {
     "name": "stderr",
     "output_type": "stream",
     "text": [
      "\n",
      "generating from val:   0%|                                                                                               | 0/4 [00:00<?, ?it/s]\u001b[A\n",
      "generating from val:  25%|█████████████████████▊                                                                 | 1/4 [00:04<00:14,  4.84s/it]\u001b[A\n",
      "generating from val:  50%|███████████████████████████████████████████▌                                           | 2/4 [00:09<00:09,  4.83s/it]\u001b[A\n",
      "generating from val:  75%|█████████████████████████████████████████████████████████████████▎                     | 3/4 [00:14<00:04,  4.82s/it]\u001b[A\n",
      "generating from val: 100%|███████████████████████████████████████████████████████████████████████████████████████| 4/4 [00:19<00:00,  4.79s/it]\u001b[A\n",
      "                                                                                                                                               \u001b[AWarning: Empty reference sentence detected; setting raw BERTScores to 0.\n",
      " 16%|█████████████████▍                                                                                         | 8/49 [06:41<41:25, 60.63s/it]"
     ]
    },
    {
     "name": "stdout",
     "output_type": "stream",
     "text": [
      "[pred] The ex-Reader defender denied charges of fraudulent trading with the Sodje Sports Foundation – a charity aimed at encouraging Nigerian money\n",
      "[true] The ex-Reading defender denied fraudulent trading charges relating to the Sodje Sports Foundation - a charity to raise money for Nigerian\n",
      "\n",
      "\n",
      "\n",
      "[pred] Voges was forced to retire hurt after suffering a batting injury while with Somerset on 4 June for 86 in the County Championship. Middlesex\n",
      "[true] Voges was forced to retire hurt on 86 after suffering the injury while batting during the County Championship draw with Somerset on 4 June. Middlesex\n",
      "\n",
      "\n",
      "\n",
      "[pred] Seven photographs taken in the Norfolk countryside by photographer Josh Olins will appear in the June edition of the magazine. In her first sitting, a du\n",
      "[true] Seven photographs taken in the Norfolk countryside by photographer Josh Olins will appear in the June edition. In her first sitting for a magazine, the du\n",
      "setting preds_emb\n",
      "*** round 9\n"
     ]
    },
    {
     "name": "stderr",
     "output_type": "stream",
     "text": [
      "\n",
      "generating from val:   0%|                                                                                               | 0/4 [00:00<?, ?it/s]\u001b[A\n",
      "generating from val:  25%|█████████████████████▊                                                                 | 1/4 [00:05<00:15,  5.31s/it]\u001b[A\n",
      "generating from val:  50%|███████████████████████████████████████████▌                                           | 2/4 [00:10<00:10,  5.35s/it]\u001b[A\n",
      "generating from val:  75%|█████████████████████████████████████████████████████████████████▎                     | 3/4 [00:16<00:05,  5.41s/it]\u001b[A\n",
      "generating from val: 100%|███████████████████████████████████████████████████████████████████████████████████████| 4/4 [00:21<00:00,  5.39s/it]\u001b[A\n",
      "                                                                                                                                               \u001b[A"
     ]
    },
    {
     "name": "stdout",
     "output_type": "stream",
     "text": [
      "[pred] to the character of the sutures of the skull, which, like those of the infant skull, are relatively smooth and untortuous. In\n",
      "[true] to the character of the sutures of the skull which, like those of the infant skull, are relatively smooth and untortuous. In fact\n",
      "\n",
      "\n",
      "\n",
      "[pred] individual from the Southern Hemisphere, to win a Winter Olympic gold medal and was also part of the short track relay team that won Australia'\n",
      "[true] individual from the Southern Hemisphere, to win a Winter Olympic gold medal and was also part of the short track relay team that won Australia'\n",
      "\n",
      "\n",
      "\n",
      "[pred] the same rights as straight people, while 15% disagreed. Additionally, 69% agreed that they should be protected from workplace discrimination. 13% of H\n",
      "[true] the same rights as straight people, while 15% disagreed. Additionally, 69% agreed that they should be protected from workplace discrimination. 13% of H\n",
      "setting preds_emb\n"
     ]
    },
    {
     "name": "stderr",
     "output_type": "stream",
     "text": [
      "\n",
      "generating from val:   0%|                                                                                               | 0/4 [00:00<?, ?it/s]\u001b[A\n",
      "generating from val:  25%|█████████████████████▊                                                                 | 1/4 [00:05<00:16,  5.55s/it]\u001b[A\n",
      "generating from val:  50%|███████████████████████████████████████████▌                                           | 2/4 [00:11<00:11,  5.50s/it]\u001b[A\n",
      "generating from val:  75%|█████████████████████████████████████████████████████████████████▎                     | 3/4 [00:16<00:05,  5.37s/it]\u001b[A\n",
      "generating from val: 100%|███████████████████████████████████████████████████████████████████████████████████████| 4/4 [00:21<00:00,  5.38s/it]\u001b[A\n",
      "                                                                                                                                               \u001b[A"
     ]
    },
    {
     "name": "stdout",
     "output_type": "stream",
     "text": [
      "[pred] we study the phase behavior of a nematic liquid crystal confined between a flat substrate and a patterned substrate with strong anchoring\n",
      "[true] we study the phase behavior of a nematic liquid crystal confined between a flat substrate with strong anchoring and a patterned substrate\n",
      "\n",
      "\n",
      "\n",
      "[pred] determining the scaling relations between galaxy clusters requires uniformly observed observables. We measure the mean sample of large clusters x -\n",
      "[true] determining the scaling relations between galaxy cluster observables requires large samples of uniformly observed clusters. we measure the mean x -\n",
      "\n",
      "\n",
      "\n",
      "[pred] we show how to control quantum correlations under spatially degenerate parametric multimode optical oscillators of a type threshold i.\n",
      "[true] we show how to control spatial quantum correlations in a multimode degenerate optical parametric oscillator type i below threshold by \n",
      "setting preds_emb\n"
     ]
    },
    {
     "name": "stderr",
     "output_type": "stream",
     "text": [
      "\n",
      "generating from val:   0%|                                                                                               | 0/4 [00:00<?, ?it/s]\u001b[A\n",
      "generating from val:  25%|█████████████████████▊                                                                 | 1/4 [00:05<00:15,  5.33s/it]\u001b[A\n",
      "generating from val:  50%|███████████████████████████████████████████▌                                           | 2/4 [00:10<00:10,  5.37s/it]\u001b[A\n",
      "generating from val:  75%|█████████████████████████████████████████████████████████████████▎                     | 3/4 [00:16<00:05,  5.41s/it]\u001b[A\n",
      "generating from val: 100%|███████████████████████████████████████████████████████████████████████████████████████| 4/4 [00:21<00:00,  5.30s/it]\u001b[A\n",
      "                                                                                                                                               \u001b[AWarning: Empty reference sentence detected; setting raw BERTScores to 0.\n",
      " 18%|███████████████████▋                                                                                       | 9/49 [08:01<44:27, 66.68s/it]"
     ]
    },
    {
     "name": "stdout",
     "output_type": "stream",
     "text": [
      "[pred] The ex-Reading defender denied charges of fraudulent trading with the Sodje Sports Foundation - a charity - to raise money for Nigeria\n",
      "[true] The ex-Reading defender denied fraudulent trading charges relating to the Sodje Sports Foundation - a charity to raise money for Nigerian\n",
      "\n",
      "\n",
      "\n",
      "[pred] Voges was forced to retire hurt after suffering a batting injury on 5 June and then draw with Somerset for 86 in the County Championship. Middle\n",
      "[true] Voges was forced to retire hurt on 86 after suffering the injury while batting during the County Championship draw with Somerset on 4 June. Middlesex\n",
      "\n",
      "\n",
      "\n",
      "[pred] Seven photographs taken in the Norfolk countryside by photographer Josh Olins will appear in the June edition of the magazine. In her first sitting, there was du\n",
      "[true] Seven photographs taken in the Norfolk countryside by photographer Josh Olins will appear in the June edition. In her first sitting for a magazine, the du\n",
      "setting preds_emb\n",
      "*** round 10\n"
     ]
    },
    {
     "name": "stderr",
     "output_type": "stream",
     "text": [
      "\n",
      "generating from val:   0%|                                                                                               | 0/4 [00:00<?, ?it/s]\u001b[A\n",
      "generating from val:  25%|█████████████████████▊                                                                 | 1/4 [00:05<00:17,  5.80s/it]\u001b[A\n",
      "generating from val:  50%|███████████████████████████████████████████▌                                           | 2/4 [00:11<00:11,  5.82s/it]\u001b[A\n",
      "generating from val:  75%|█████████████████████████████████████████████████████████████████▎                     | 3/4 [00:17<00:05,  5.79s/it]\u001b[A\n",
      "generating from val: 100%|███████████████████████████████████████████████████████████████████████████████████████| 4/4 [00:22<00:00,  5.69s/it]\u001b[A\n",
      "                                                                                                                                               \u001b[A"
     ]
    },
    {
     "name": "stdout",
     "output_type": "stream",
     "text": [
      "[pred] to the character of the sutures of the skull, which, like those of the infant skull, are relatively smooth and untortuous. In\n",
      "[true] to the character of the sutures of the skull which, like those of the infant skull, are relatively smooth and untortuous. In fact\n",
      "\n",
      "\n",
      "\n",
      "[pred] individual from the Southern Hemisphere, to win a Winter Olympic gold medal and was also part of the short track relay team that won Australia'\n",
      "[true] individual from the Southern Hemisphere, to win a Winter Olympic gold medal and was also part of the short track relay team that won Australia'\n",
      "\n",
      "\n",
      "\n",
      "[pred] the same rights as straight people, while 15% disagreed. Additionally, 69% agreed that they should be protected from workplace discrimination. 13% of H\n",
      "[true] the same rights as straight people, while 15% disagreed. Additionally, 69% agreed that they should be protected from workplace discrimination. 13% of H\n",
      "setting preds_emb\n"
     ]
    },
    {
     "name": "stderr",
     "output_type": "stream",
     "text": [
      "\n",
      "generating from val:   0%|                                                                                               | 0/4 [00:00<?, ?it/s]\u001b[A\n",
      "generating from val:  25%|█████████████████████▊                                                                 | 1/4 [00:05<00:17,  5.90s/it]\u001b[A\n",
      "generating from val:  50%|███████████████████████████████████████████▌                                           | 2/4 [00:11<00:11,  5.82s/it]\u001b[A\n",
      "generating from val:  75%|█████████████████████████████████████████████████████████████████▎                     | 3/4 [00:17<00:05,  5.79s/it]\u001b[A\n",
      "generating from val: 100%|███████████████████████████████████████████████████████████████████████████████████████| 4/4 [00:23<00:00,  5.73s/it]\u001b[A\n",
      "                                                                                                                                               \u001b[A"
     ]
    },
    {
     "name": "stdout",
     "output_type": "stream",
     "text": [
      "[pred] we study the phase behavior of a nematic liquid crystal confined between a patterned substrate and a flat substrate with strong anchoring\n",
      "[true] we study the phase behavior of a nematic liquid crystal confined between a flat substrate with strong anchoring and a patterned substrate\n",
      "\n",
      "\n",
      "\n",
      "[pred] determining the scaling relations between galaxy clusters requires large samples of uniformly observed observables. we measure the mean x clusters \"\n",
      "[true] determining the scaling relations between galaxy cluster observables requires large samples of uniformly observed clusters. we measure the mean x -\n",
      "\n",
      "\n",
      "\n",
      "[pred] we show how to control quantum correlation in degenerate spatial multimode optical oscillators under a type parametric threshold at a i\n",
      "[true] we show how to control spatial quantum correlations in a multimode degenerate optical parametric oscillator type i below threshold by \n",
      "setting preds_emb\n"
     ]
    },
    {
     "name": "stderr",
     "output_type": "stream",
     "text": [
      "\n",
      "generating from val:   0%|                                                                                               | 0/4 [00:00<?, ?it/s]\u001b[A\n",
      "generating from val:  25%|█████████████████████▊                                                                 | 1/4 [00:06<00:18,  6.22s/it]\u001b[A\n",
      "generating from val:  50%|███████████████████████████████████████████▌                                           | 2/4 [00:12<00:12,  6.17s/it]\u001b[A\n",
      "generating from val:  75%|█████████████████████████████████████████████████████████████████▎                     | 3/4 [00:18<00:06,  6.16s/it]\u001b[A\n",
      "generating from val: 100%|███████████████████████████████████████████████████████████████████████████████████████| 4/4 [00:24<00:00,  5.96s/it]\u001b[A\n",
      "                                                                                                                                               \u001b[AWarning: Empty reference sentence detected; setting raw BERTScores to 0.\n",
      " 20%|█████████████████████▋                                                                                    | 10/49 [09:26<47:03, 72.40s/it]"
     ]
    },
    {
     "name": "stdout",
     "output_type": "stream",
     "text": [
      "[pred] The ex-Reading defender denied charges related to fraudulent trading with the Sodje Sports Foundation - a charity which is to raise money for\n",
      "[true] The ex-Reading defender denied fraudulent trading charges relating to the Sodje Sports Foundation - a charity to raise money for Nigerian\n",
      "\n",
      "\n",
      "\n",
      "[pred] Voges was forced to retire hurt after suffering an injury on 5 June and then batting at 86 for Somerset in the County Championship. Middlesex\n",
      "[true] Voges was forced to retire hurt on 86 after suffering the injury while batting during the County Championship draw with Somerset on 4 June. Middlesex\n",
      "\n",
      "\n",
      "\n",
      "[pred] Seven photographs taken in the Norfolk countryside by photographer Josh Olins will appear in a June edition of the magazine. In her first sitting, the du\n",
      "[true] Seven photographs taken in the Norfolk countryside by photographer Josh Olins will appear in the June edition. In her first sitting for a magazine, the du\n",
      "setting preds_emb\n",
      "*** round 11\n"
     ]
    },
    {
     "name": "stderr",
     "output_type": "stream",
     "text": [
      "\n",
      "generating from val:   0%|                                                                                               | 0/4 [00:00<?, ?it/s]\u001b[A\n",
      "generating from val:  25%|█████████████████████▊                                                                 | 1/4 [00:06<00:19,  6.52s/it]\u001b[A\n",
      "generating from val:  50%|███████████████████████████████████████████▌                                           | 2/4 [00:13<00:13,  6.83s/it]\u001b[A\n",
      "generating from val:  75%|█████████████████████████████████████████████████████████████████▎                     | 3/4 [00:20<00:06,  6.73s/it]\u001b[A\n",
      "generating from val: 100%|███████████████████████████████████████████████████████████████████████████████████████| 4/4 [00:26<00:00,  6.58s/it]\u001b[A\n",
      "                                                                                                                                               \u001b[A"
     ]
    },
    {
     "name": "stdout",
     "output_type": "stream",
     "text": [
      "[pred] to the character of the sutures of the skull, which, like those of the infant skull, are relatively smooth and untortuous. In\n",
      "[true] to the character of the sutures of the skull which, like those of the infant skull, are relatively smooth and untortuous. In fact\n",
      "\n",
      "\n",
      "\n",
      "[pred] individual from the Southern Hemisphere, to win a Winter Olympic gold medal and was also part of the short track relay team that won Australia'\n",
      "[true] individual from the Southern Hemisphere, to win a Winter Olympic gold medal and was also part of the short track relay team that won Australia'\n",
      "\n",
      "\n",
      "\n",
      "[pred] the same rights as straight people, while 15% disagreed. Additionally, 69% agreed that they should be protected from workplace discrimination. 13% of H\n",
      "[true] the same rights as straight people, while 15% disagreed. Additionally, 69% agreed that they should be protected from workplace discrimination. 13% of H\n",
      "setting preds_emb\n"
     ]
    },
    {
     "name": "stderr",
     "output_type": "stream",
     "text": [
      "\n",
      "generating from val:   0%|                                                                                               | 0/4 [00:00<?, ?it/s]\u001b[A\n",
      "generating from val:  25%|█████████████████████▊                                                                 | 1/4 [00:06<00:19,  6.58s/it]\u001b[A\n",
      "generating from val:  50%|███████████████████████████████████████████▌                                           | 2/4 [00:13<00:13,  6.52s/it]\u001b[A\n",
      "generating from val:  75%|█████████████████████████████████████████████████████████████████▎                     | 3/4 [00:19<00:06,  6.43s/it]\u001b[A\n",
      "generating from val: 100%|███████████████████████████████████████████████████████████████████████████████████████| 4/4 [00:25<00:00,  6.40s/it]\u001b[A\n",
      "                                                                                                                                               \u001b[A"
     ]
    },
    {
     "name": "stdout",
     "output_type": "stream",
     "text": [
      "[pred] we study the phase behavior of a nematic liquid crystal confined between a flat substrate and a patterned substrate with strong anchoring\n",
      "[true] we study the phase behavior of a nematic liquid crystal confined between a flat substrate with strong anchoring and a patterned substrate\n",
      "\n",
      "\n",
      "\n",
      "[pred] determining the scaling relations between galaxy clusters requires large samples of uniformly observed observables - clusters we measure the mean x-\n",
      "[true] determining the scaling relations between galaxy cluster observables requires large samples of uniformly observed clusters. we measure the mean x -\n",
      "\n",
      "\n",
      "\n",
      "[pred] we show how to control spatial correlations in a quantum parametric multimode degenerate optical oscillator type above a threshold i\n",
      "[true] we show how to control spatial quantum correlations in a multimode degenerate optical parametric oscillator type i below threshold by \n",
      "setting preds_emb\n"
     ]
    },
    {
     "name": "stderr",
     "output_type": "stream",
     "text": [
      "\n",
      "generating from val:   0%|                                                                                               | 0/4 [00:00<?, ?it/s]\u001b[A\n",
      "generating from val:  25%|█████████████████████▊                                                                 | 1/4 [00:06<00:18,  6.24s/it]\u001b[A\n",
      "generating from val:  50%|███████████████████████████████████████████▌                                           | 2/4 [00:12<00:12,  6.49s/it]\u001b[A\n",
      "generating from val:  75%|█████████████████████████████████████████████████████████████████▎                     | 3/4 [00:19<00:06,  6.51s/it]\u001b[A\n",
      "generating from val: 100%|███████████████████████████████████████████████████████████████████████████████████████| 4/4 [00:25<00:00,  6.42s/it]\u001b[A\n",
      "                                                                                                                                               \u001b[AWarning: Empty reference sentence detected; setting raw BERTScores to 0.\n",
      " 22%|███████████████████████▊                                                                                  | 11/49 [10:59<49:50, 78.70s/it]"
     ]
    },
    {
     "name": "stdout",
     "output_type": "stream",
     "text": [
      "[pred] The ex-Reading defender denied charges of fraudulent trading to the Sodje Sports Foundation - a charity that raises money for Nigerian\n",
      "[true] The ex-Reading defender denied fraudulent trading charges relating to the Sodje Sports Foundation - a charity to raise money for Nigerian\n",
      "\n",
      "\n",
      "\n",
      "[pred] Voges was forced to retire hurt on 4 June after batting at 86 against Somerset in the County Championship. After suffering injury while, Middles\n",
      "[true] Voges was forced to retire hurt on 86 after suffering the injury while batting during the County Championship draw with Somerset on 4 June. Middlesex\n",
      "\n",
      "\n",
      "\n",
      "[pred] Seven photographs taken in the Norfolk countryside by photographer Josh Olins will appear in the June edition. In her first sitting in the magazine, a du\n",
      "[true] Seven photographs taken in the Norfolk countryside by photographer Josh Olins will appear in the June edition. In her first sitting for a magazine, the du\n",
      "setting preds_emb\n",
      "*** round 12\n"
     ]
    },
    {
     "name": "stderr",
     "output_type": "stream",
     "text": [
      "\n",
      "generating from val:   0%|                                                                                               | 0/4 [00:00<?, ?it/s]\u001b[A\n",
      "generating from val:  25%|█████████████████████▊                                                                 | 1/4 [00:06<00:20,  6.97s/it]\u001b[A\n",
      "generating from val:  50%|███████████████████████████████████████████▌                                           | 2/4 [00:13<00:13,  6.96s/it]\u001b[A\n",
      "generating from val:  75%|█████████████████████████████████████████████████████████████████▎                     | 3/4 [00:20<00:06,  6.91s/it]\u001b[A\n",
      "generating from val: 100%|███████████████████████████████████████████████████████████████████████████████████████| 4/4 [00:27<00:00,  6.80s/it]\u001b[A\n",
      "                                                                                                                                               \u001b[A"
     ]
    },
    {
     "name": "stdout",
     "output_type": "stream",
     "text": [
      "[pred] to the character of the sutures of the skull, which, like those of the infant skull, are relatively smooth and untortuous. In\n",
      "[true] to the character of the sutures of the skull which, like those of the infant skull, are relatively smooth and untortuous. In fact\n",
      "\n",
      "\n",
      "\n",
      "[pred] individual from the Southern Hemisphere, to win a Winter Olympic gold medal and was also part of the short track relay team that won Australia'\n",
      "[true] individual from the Southern Hemisphere, to win a Winter Olympic gold medal and was also part of the short track relay team that won Australia'\n",
      "\n",
      "\n",
      "\n",
      "[pred] the same rights as straight people, while 15% disagreed. Additionally, 69% agreed that they should be protected from workplace discrimination. 13% of H\n",
      "[true] the same rights as straight people, while 15% disagreed. Additionally, 69% agreed that they should be protected from workplace discrimination. 13% of H\n",
      "setting preds_emb\n"
     ]
    },
    {
     "name": "stderr",
     "output_type": "stream",
     "text": [
      "\n",
      "generating from val:   0%|                                                                                               | 0/4 [00:00<?, ?it/s]\u001b[A\n",
      "generating from val:  25%|█████████████████████▊                                                                 | 1/4 [00:07<00:21,  7.04s/it]\u001b[A\n",
      "generating from val:  50%|███████████████████████████████████████████▌                                           | 2/4 [00:14<00:14,  7.01s/it]\u001b[A\n",
      "generating from val:  75%|█████████████████████████████████████████████████████████████████▎                     | 3/4 [00:20<00:06,  6.98s/it]\u001b[A\n",
      "generating from val: 100%|███████████████████████████████████████████████████████████████████████████████████████| 4/4 [00:27<00:00,  6.94s/it]\u001b[A\n",
      "                                                                                                                                               \u001b[A"
     ]
    },
    {
     "name": "stdout",
     "output_type": "stream",
     "text": [
      "[pred] we study the phase behavior of a nematic liquid crystal confined between a patterned substrate and a flat substrate with strong anchoring\n",
      "[true] we study the phase behavior of a nematic liquid crystal confined between a flat substrate with strong anchoring and a patterned substrate\n",
      "\n",
      "\n",
      "\n",
      "[pred] determining the scaling relations between galaxy clusters requires large samples of uniformly observed clusters. we measure the mean observable x -\n",
      "[true] determining the scaling relations between galaxy cluster observables requires large samples of uniformly observed clusters. we measure the mean x -\n",
      "\n",
      "\n",
      "\n",
      "[pred] we show how to control spatial correlations in a degenerate quantum parametric multimode optical oscillator in type below threshold i \n",
      "[true] we show how to control spatial quantum correlations in a multimode degenerate optical parametric oscillator type i below threshold by \n",
      "setting preds_emb\n"
     ]
    },
    {
     "name": "stderr",
     "output_type": "stream",
     "text": [
      "\n",
      "generating from val:   0%|                                                                                               | 0/4 [00:00<?, ?it/s]\u001b[A\n",
      "generating from val:  25%|█████████████████████▊                                                                 | 1/4 [00:07<00:21,  7.01s/it]\u001b[A\n",
      "generating from val:  50%|███████████████████████████████████████████▌                                           | 2/4 [00:14<00:14,  7.01s/it]\u001b[A\n",
      "generating from val:  75%|█████████████████████████████████████████████████████████████████▎                     | 3/4 [00:21<00:07,  7.05s/it]\u001b[A\n",
      "generating from val: 100%|███████████████████████████████████████████████████████████████████████████████████████| 4/4 [00:28<00:00,  6.99s/it]\u001b[A\n",
      "                                                                                                                                               \u001b[AWarning: Empty reference sentence detected; setting raw BERTScores to 0.\n",
      " 24%|█████████████████████████▉                                                                                | 12/49 [12:38<52:14, 84.71s/it]"
     ]
    },
    {
     "name": "stdout",
     "output_type": "stream",
     "text": [
      "[pred] The ex-Reading defender denied fraudulent charges related to the Sodje Sports Foundation - a charity which is to raise money for Nigerian\n",
      "[true] The ex-Reading defender denied fraudulent trading charges relating to the Sodje Sports Foundation - a charity to raise money for Nigerian\n",
      "\n",
      "\n",
      "\n",
      "[pred] Voges was forced to retire hurt on 15 June after batting at 66 for Somerset in the County Championship. Suffering injury, Middlesex\n",
      "[true] Voges was forced to retire hurt on 86 after suffering the injury while batting during the County Championship draw with Somerset on 4 June. Middlesex\n",
      "\n",
      "\n",
      "\n",
      "[pred] Seven photographs taken in the Norfolk countryside by photographer Josh Olins will appear in the June edition. In her first sitting for the magazine, a du\n",
      "[true] Seven photographs taken in the Norfolk countryside by photographer Josh Olins will appear in the June edition. In her first sitting for a magazine, the du\n",
      "setting preds_emb\n",
      "*** round 13\n"
     ]
    },
    {
     "name": "stderr",
     "output_type": "stream",
     "text": [
      "\n",
      "generating from val:   0%|                                                                                               | 0/4 [00:00<?, ?it/s]\u001b[A\n",
      "generating from val:  25%|█████████████████████▊                                                                 | 1/4 [00:07<00:22,  7.49s/it]\u001b[A\n",
      "generating from val:  50%|███████████████████████████████████████████▌                                           | 2/4 [00:14<00:14,  7.42s/it]\u001b[A\n",
      "generating from val:  75%|█████████████████████████████████████████████████████████████████▎                     | 3/4 [00:22<00:07,  7.40s/it]\u001b[A\n",
      "generating from val: 100%|███████████████████████████████████████████████████████████████████████████████████████| 4/4 [00:29<00:00,  7.35s/it]\u001b[A\n",
      "                                                                                                                                               \u001b[A"
     ]
    },
    {
     "name": "stdout",
     "output_type": "stream",
     "text": [
      "[pred] to the character of the sutures of the skull, which, like those of the infant skull, are relatively smooth and untortuous. In\n",
      "[true] to the character of the sutures of the skull which, like those of the infant skull, are relatively smooth and untortuous. In fact\n",
      "\n",
      "\n",
      "\n",
      "[pred] individual from the Southern Hemisphere, to win a Winter Olympic gold medal and was also part of the short track relay team that won Australia'\n",
      "[true] individual from the Southern Hemisphere, to win a Winter Olympic gold medal and was also part of the short track relay team that won Australia'\n",
      "\n",
      "\n",
      "\n",
      "[pred] the same rights as straight people, while 15% disagreed. Additionally, 69% agreed that they should be protected from workplace discrimination. 13% of H\n",
      "[true] the same rights as straight people, while 15% disagreed. Additionally, 69% agreed that they should be protected from workplace discrimination. 13% of H\n",
      "setting preds_emb\n"
     ]
    },
    {
     "name": "stderr",
     "output_type": "stream",
     "text": [
      "\n",
      "generating from val:   0%|                                                                                               | 0/4 [00:00<?, ?it/s]\u001b[A\n",
      "generating from val:  25%|█████████████████████▊                                                                 | 1/4 [00:07<00:23,  7.82s/it]\u001b[A\n",
      "generating from val:  50%|███████████████████████████████████████████▌                                           | 2/4 [00:15<00:15,  7.54s/it]\u001b[A\n",
      "generating from val:  75%|█████████████████████████████████████████████████████████████████▎                     | 3/4 [00:22<00:07,  7.48s/it]\u001b[A\n",
      "generating from val: 100%|███████████████████████████████████████████████████████████████████████████████████████| 4/4 [00:29<00:00,  7.34s/it]\u001b[A\n",
      "                                                                                                                                               \u001b[A"
     ]
    },
    {
     "name": "stdout",
     "output_type": "stream",
     "text": [
      "[pred] we study the phase behavior of a nematic liquid crystal confined between a flat substrate and a patterned substrate with strong anchoring\n",
      "[true] we study the phase behavior of a nematic liquid crystal confined between a flat substrate with strong anchoring and a patterned substrate\n",
      "\n",
      "\n",
      "\n",
      "[pred] determining the scaling relations between galaxy clusters requires large samples of uniformly observed clusters. We measure the mean observables x-\n",
      "[true] determining the scaling relations between galaxy cluster observables requires large samples of uniformly observed clusters. we measure the mean x -\n",
      "\n",
      "\n",
      "\n",
      "[pred] we show how to control spatial correlations in a quantum degenerate parametric multimode optical oscillator type below threshold i -\n",
      "[true] we show how to control spatial quantum correlations in a multimode degenerate optical parametric oscillator type i below threshold by \n",
      "setting preds_emb\n"
     ]
    },
    {
     "name": "stderr",
     "output_type": "stream",
     "text": [
      "\n",
      "generating from val:   0%|                                                                                               | 0/4 [00:00<?, ?it/s]\u001b[A\n",
      "generating from val:  25%|█████████████████████▊                                                                 | 1/4 [00:07<00:22,  7.56s/it]\u001b[A\n",
      "generating from val:  50%|███████████████████████████████████████████▌                                           | 2/4 [00:15<00:15,  7.60s/it]\u001b[A\n",
      "generating from val:  75%|█████████████████████████████████████████████████████████████████▎                     | 3/4 [00:22<00:07,  7.66s/it]\u001b[A\n",
      "generating from val: 100%|███████████████████████████████████████████████████████████████████████████████████████| 4/4 [00:30<00:00,  7.56s/it]\u001b[A\n",
      "                                                                                                                                               \u001b[AWarning: Empty reference sentence detected; setting raw BERTScores to 0.\n",
      " 27%|████████████████████████████                                                                              | 13/49 [14:23<54:31, 90.87s/it]"
     ]
    },
    {
     "name": "stdout",
     "output_type": "stream",
     "text": [
      "[pred] The ex-Reading defender denied fraudulent charges of trading with the Sodje Sports Foundation - a charity aimed at raising money for Nigeria\n",
      "[true] The ex-Reading defender denied fraudulent trading charges relating to the Sodje Sports Foundation - a charity to raise money for Nigerian\n",
      "\n",
      "\n",
      "\n",
      "[pred] Voges was forced to retire hurt on 4 June after batting at 86 for Somerset while suffering injury in the County Championship. The Middlesex super\n",
      "[true] Voges was forced to retire hurt on 86 after suffering the injury while batting during the County Championship draw with Somerset on 4 June. Middlesex\n",
      "\n",
      "\n",
      "\n",
      "[pred] Seven photographs taken in the Norfolk countryside by photographer Josh Olins will appear in the June edition. In her first sitting for the magazine, a du\n",
      "[true] Seven photographs taken in the Norfolk countryside by photographer Josh Olins will appear in the June edition. In her first sitting for a magazine, the du\n",
      "setting preds_emb\n",
      "*** round 14\n"
     ]
    },
    {
     "name": "stderr",
     "output_type": "stream",
     "text": [
      "\n",
      "generating from val:   0%|                                                                                               | 0/4 [00:00<?, ?it/s]\u001b[A\n",
      "generating from val:  25%|█████████████████████▊                                                                 | 1/4 [00:08<00:24,  8.25s/it]\u001b[A\n",
      "generating from val:  50%|███████████████████████████████████████████▌                                           | 2/4 [00:16<00:16,  8.30s/it]\u001b[A\n",
      "generating from val:  75%|█████████████████████████████████████████████████████████████████▎                     | 3/4 [00:24<00:08,  8.17s/it]\u001b[A\n",
      "generating from val: 100%|███████████████████████████████████████████████████████████████████████████████████████| 4/4 [00:32<00:00,  7.96s/it]\u001b[A\n",
      "                                                                                                                                               \u001b[A"
     ]
    },
    {
     "name": "stdout",
     "output_type": "stream",
     "text": [
      "[pred] to the character of the sutures of the skull, which, like those of the infant skull, are relatively smooth and untortuous. In\n",
      "[true] to the character of the sutures of the skull which, like those of the infant skull, are relatively smooth and untortuous. In fact\n",
      "\n",
      "\n",
      "\n",
      "[pred] individual from the Southern Hemisphere, to win a Winter Olympic gold medal and was also part of the short track relay team that won Australia'\n",
      "[true] individual from the Southern Hemisphere, to win a Winter Olympic gold medal and was also part of the short track relay team that won Australia'\n",
      "\n",
      "\n",
      "\n",
      "[pred] the same rights as straight people, while 15% disagreed. Additionally, 69% agreed that they should be protected from workplace discrimination. 13% of H\n",
      "[true] the same rights as straight people, while 15% disagreed. Additionally, 69% agreed that they should be protected from workplace discrimination. 13% of H\n",
      "setting preds_emb\n"
     ]
    },
    {
     "name": "stderr",
     "output_type": "stream",
     "text": [
      "\n",
      "generating from val:   0%|                                                                                               | 0/4 [00:00<?, ?it/s]\u001b[A\n",
      "generating from val:  25%|█████████████████████▊                                                                 | 1/4 [00:08<00:24,  8.30s/it]\u001b[A\n",
      "generating from val:  50%|███████████████████████████████████████████▌                                           | 2/4 [00:16<00:16,  8.24s/it]\u001b[A\n",
      "generating from val:  75%|█████████████████████████████████████████████████████████████████▎                     | 3/4 [00:24<00:08,  8.12s/it]\u001b[A\n",
      "generating from val: 100%|███████████████████████████████████████████████████████████████████████████████████████| 4/4 [00:32<00:00,  8.01s/it]\u001b[A\n",
      "                                                                                                                                               \u001b[A"
     ]
    },
    {
     "name": "stdout",
     "output_type": "stream",
     "text": [
      "[pred] we study the phase behavior of a nematic liquid crystal confined between a patterned substrate and a flat substrate with strong anchoring\n",
      "[true] we study the phase behavior of a nematic liquid crystal confined between a flat substrate with strong anchoring and a patterned substrate\n",
      "\n",
      "\n",
      "\n",
      "[pred] determining the scaling relations between galaxy clusters requires large samples of uniformly observed clusters. We measure the mean observable x -\n",
      "[true] determining the scaling relations between galaxy cluster observables requires large samples of uniformly observed clusters. we measure the mean x -\n",
      "\n",
      "\n",
      "\n",
      "[pred] we show how to control spatial correlations in a quantum degenerate parametric multimode optical oscillator type below a threshold i\n",
      "[true] we show how to control spatial quantum correlations in a multimode degenerate optical parametric oscillator type i below threshold by \n",
      "setting preds_emb\n"
     ]
    },
    {
     "name": "stderr",
     "output_type": "stream",
     "text": [
      "\n",
      "generating from val:   0%|                                                                                               | 0/4 [00:00<?, ?it/s]\u001b[A\n",
      "generating from val:  25%|█████████████████████▊                                                                 | 1/4 [00:08<00:25,  8.37s/it]\u001b[A\n",
      "generating from val:  50%|███████████████████████████████████████████▌                                           | 2/4 [00:16<00:16,  8.15s/it]\u001b[A\n",
      "generating from val:  75%|█████████████████████████████████████████████████████████████████▎                     | 3/4 [00:24<00:08,  8.07s/it]\u001b[A\n",
      "generating from val: 100%|███████████████████████████████████████████████████████████████████████████████████████| 4/4 [00:31<00:00,  7.86s/it]\u001b[A\n",
      "                                                                                                                                               \u001b[AWarning: Empty reference sentence detected; setting raw BERTScores to 0.\n",
      " 29%|██████████████████████████████▎                                                                           | 14/49 [16:14<56:36, 97.06s/it]"
     ]
    },
    {
     "name": "stdout",
     "output_type": "stream",
     "text": [
      "[pred] The ex-Reading defender denied fraudulent charges of trading to the Sodje Sports Foundation - a charity which was to raise money for Nigeria\n",
      "[true] The ex-Reading defender denied fraudulent trading charges relating to the Sodje Sports Foundation - a charity to raise money for Nigerian\n",
      "\n",
      "\n",
      "\n",
      "[pred] Voges was forced to retire hurt on 4 June after batting at 86 during the County Championship draw with Middlesex. After suffering injury, Somerset\n",
      "[true] Voges was forced to retire hurt on 86 after suffering the injury while batting during the County Championship draw with Somerset on 4 June. Middlesex\n",
      "\n",
      "\n",
      "\n",
      "[pred] Seven photographs taken in the Norfolk countryside by photographer Josh Olins will appear in the June edition. In her first sitting for the magazine, a du\n",
      "[true] Seven photographs taken in the Norfolk countryside by photographer Josh Olins will appear in the June edition. In her first sitting for a magazine, the du\n",
      "setting preds_emb\n",
      "*** round 15\n"
     ]
    },
    {
     "name": "stderr",
     "output_type": "stream",
     "text": [
      "\n",
      "generating from val:   0%|                                                                                               | 0/4 [00:00<?, ?it/s]\u001b[A\n",
      "generating from val:  25%|█████████████████████▊                                                                 | 1/4 [00:08<00:26,  8.96s/it]\u001b[A\n",
      "generating from val:  50%|███████████████████████████████████████████▌                                           | 2/4 [00:17<00:17,  8.85s/it]\u001b[A\n",
      "generating from val:  75%|█████████████████████████████████████████████████████████████████▎                     | 3/4 [00:26<00:08,  8.74s/it]\u001b[A\n",
      "generating from val: 100%|███████████████████████████████████████████████████████████████████████████████████████| 4/4 [00:34<00:00,  8.59s/it]\u001b[A\n",
      "                                                                                                                                               \u001b[A"
     ]
    },
    {
     "name": "stdout",
     "output_type": "stream",
     "text": [
      "[pred] to the character of the sutures of the skull, which, like those of the infant skull, are relatively smooth and untortuous. In\n",
      "[true] to the character of the sutures of the skull which, like those of the infant skull, are relatively smooth and untortuous. In fact\n",
      "\n",
      "\n",
      "\n",
      "[pred] individual from the Southern Hemisphere, to win a Winter Olympic gold medal and was also part of the short track relay team that won Australia'\n",
      "[true] individual from the Southern Hemisphere, to win a Winter Olympic gold medal and was also part of the short track relay team that won Australia'\n",
      "\n",
      "\n",
      "\n",
      "[pred] the same rights as straight people, while 15% disagreed. Additionally, 69% agreed that they should be protected from workplace discrimination. 13% of H\n",
      "[true] the same rights as straight people, while 15% disagreed. Additionally, 69% agreed that they should be protected from workplace discrimination. 13% of H\n",
      "setting preds_emb\n"
     ]
    },
    {
     "name": "stderr",
     "output_type": "stream",
     "text": [
      "\n",
      "generating from val:   0%|                                                                                               | 0/4 [00:00<?, ?it/s]\u001b[A\n",
      "generating from val:  25%|█████████████████████▊                                                                 | 1/4 [00:08<00:26,  8.87s/it]\u001b[A\n",
      "generating from val:  50%|███████████████████████████████████████████▌                                           | 2/4 [00:17<00:17,  8.83s/it]\u001b[A\n",
      "generating from val:  75%|█████████████████████████████████████████████████████████████████▎                     | 3/4 [00:26<00:08,  8.83s/it]\u001b[A\n",
      "generating from val: 100%|███████████████████████████████████████████████████████████████████████████████████████| 4/4 [00:34<00:00,  8.59s/it]\u001b[A\n",
      "                                                                                                                                               \u001b[A"
     ]
    },
    {
     "name": "stdout",
     "output_type": "stream",
     "text": [
      "[pred] we study the phase behavior of a nematic liquid crystal confined between a flat substrate and a patterned substrate with strong anchoring\n",
      "[true] we study the phase behavior of a nematic liquid crystal confined between a flat substrate with strong anchoring and a patterned substrate\n",
      "\n",
      "\n",
      "\n",
      "[pred] determining the scaling relations between galaxy clusters requires large samples of uniformly observed clusters. we measure the mean observables x-\n",
      "[true] determining the scaling relations between galaxy cluster observables requires large samples of uniformly observed clusters. we measure the mean x -\n",
      "\n",
      "\n",
      "\n",
      "[pred] we show how to control spatial correlations in a degenerate quantum parametric multimode optical oscillator type below threshold by a \n",
      "[true] we show how to control spatial quantum correlations in a multimode degenerate optical parametric oscillator type i below threshold by \n",
      "setting preds_emb\n"
     ]
    },
    {
     "name": "stderr",
     "output_type": "stream",
     "text": [
      "\n",
      "generating from val:   0%|                                                                                               | 0/4 [00:00<?, ?it/s]\u001b[A\n",
      "generating from val:  25%|█████████████████████▊                                                                 | 1/4 [00:08<00:25,  8.48s/it]\u001b[A\n",
      "generating from val:  50%|███████████████████████████████████████████▌                                           | 2/4 [00:17<00:17,  8.62s/it]\u001b[A\n",
      "generating from val:  75%|█████████████████████████████████████████████████████████████████▎                     | 3/4 [00:25<00:08,  8.64s/it]\u001b[A\n",
      "generating from val: 100%|███████████████████████████████████████████████████████████████████████████████████████| 4/4 [00:34<00:00,  8.49s/it]\u001b[A\n",
      "                                                                                                                                               \u001b[AWarning: Empty reference sentence detected; setting raw BERTScores to 0.\n",
      " 31%|████████████████████████████████▏                                                                        | 15/49 [18:13<58:43, 103.64s/it]"
     ]
    },
    {
     "name": "stdout",
     "output_type": "stream",
     "text": [
      "[pred] The ex-Reading defender denied fraudulent charges of trading for the Sodje Sports Foundation - a charity which is to raise money for Nigeria\n",
      "[true] The ex-Reading defender denied fraudulent trading charges relating to the Sodje Sports Foundation - a charity to raise money for Nigerian\n",
      "\n",
      "\n",
      "\n",
      "[pred] Voges was forced to retire hurt after batting at 89 for Middlesex during the County Championship draw on 4 June and suffering an injury. Somerset\n",
      "[true] Voges was forced to retire hurt on 86 after suffering the injury while batting during the County Championship draw with Somerset on 4 June. Middlesex\n",
      "\n",
      "\n",
      "\n",
      "[pred] Seven photographs taken in the Norfolk countryside by photographer Josh Olins will appear in the June edition. In her first sitting for the magazine, a du\n",
      "[true] Seven photographs taken in the Norfolk countryside by photographer Josh Olins will appear in the June edition. In her first sitting for a magazine, the du\n",
      "setting preds_emb\n",
      "*** round 16\n"
     ]
    },
    {
     "name": "stderr",
     "output_type": "stream",
     "text": [
      "\n",
      "generating from val:   0%|                                                                                               | 0/4 [00:00<?, ?it/s]\u001b[A\n",
      "generating from val:  25%|█████████████████████▊                                                                 | 1/4 [00:09<00:28,  9.52s/it]\u001b[A\n",
      "generating from val:  50%|███████████████████████████████████████████▌                                           | 2/4 [00:18<00:18,  9.47s/it]\u001b[A\n",
      "generating from val:  75%|█████████████████████████████████████████████████████████████████▎                     | 3/4 [00:28<00:09,  9.34s/it]\u001b[A\n",
      "generating from val: 100%|███████████████████████████████████████████████████████████████████████████████████████| 4/4 [00:36<00:00,  9.14s/it]\u001b[A\n",
      "                                                                                                                                               \u001b[A"
     ]
    },
    {
     "name": "stdout",
     "output_type": "stream",
     "text": [
      "[pred] to the character of the sutures of the skull, which, like those of the infant skull, are relatively smooth and untortuous. In\n",
      "[true] to the character of the sutures of the skull which, like those of the infant skull, are relatively smooth and untortuous. In fact\n",
      "\n",
      "\n",
      "\n",
      "[pred] individual from the Southern Hemisphere, to win a Winter Olympic gold medal and was also part of the short track relay team that won Australia'\n",
      "[true] individual from the Southern Hemisphere, to win a Winter Olympic gold medal and was also part of the short track relay team that won Australia'\n",
      "\n",
      "\n",
      "\n",
      "[pred] the same rights as straight people, while 15% disagreed. Additionally, 69% agreed that they should be protected from workplace discrimination. 13% of H\n",
      "[true] the same rights as straight people, while 15% disagreed. Additionally, 69% agreed that they should be protected from workplace discrimination. 13% of H\n",
      "setting preds_emb\n"
     ]
    },
    {
     "name": "stderr",
     "output_type": "stream",
     "text": [
      "\n",
      "generating from val:   0%|                                                                                               | 0/4 [00:00<?, ?it/s]\u001b[A\n",
      "generating from val:  25%|█████████████████████▊                                                                 | 1/4 [00:09<00:27,  9.23s/it]\u001b[A\n",
      "generating from val:  50%|███████████████████████████████████████████▌                                           | 2/4 [00:18<00:18,  9.30s/it]\u001b[A\n",
      "generating from val:  75%|█████████████████████████████████████████████████████████████████▎                     | 3/4 [00:27<00:09,  9.35s/it]\u001b[A\n",
      "generating from val: 100%|███████████████████████████████████████████████████████████████████████████████████████| 4/4 [00:36<00:00,  9.21s/it]\u001b[A\n",
      "                                                                                                                                               \u001b[A"
     ]
    },
    {
     "name": "stdout",
     "output_type": "stream",
     "text": [
      "[pred] we study the phase behavior of a nematic liquid crystal confined between a patterned substrate and a flat substrate with strong anchoring\n",
      "[true] we study the phase behavior of a nematic liquid crystal confined between a flat substrate with strong anchoring and a patterned substrate\n",
      "\n",
      "\n",
      "\n",
      "[pred] determining the scaling relations between galaxy clusters requires large samples of uniformly observed clusters. We measure the mean observable x -\n",
      "[true] determining the scaling relations between galaxy cluster observables requires large samples of uniformly observed clusters. we measure the mean x -\n",
      "\n",
      "\n",
      "\n",
      "[pred] we show how to control spatial correlations in a degenerate quantum parametric multimode optical oscillator type I below threshold by a\n",
      "[true] we show how to control spatial quantum correlations in a multimode degenerate optical parametric oscillator type i below threshold by \n",
      "setting preds_emb\n"
     ]
    },
    {
     "name": "stderr",
     "output_type": "stream",
     "text": [
      "\n",
      "generating from val:   0%|                                                                                               | 0/4 [00:00<?, ?it/s]\u001b[A\n",
      "generating from val:  25%|█████████████████████▊                                                                 | 1/4 [00:09<00:27,  9.24s/it]\u001b[A\n",
      "generating from val:  50%|███████████████████████████████████████████▌                                           | 2/4 [00:18<00:18,  9.13s/it]\u001b[A\n",
      "generating from val:  75%|█████████████████████████████████████████████████████████████████▎                     | 3/4 [00:27<00:09,  9.13s/it]\u001b[A\n",
      "generating from val: 100%|███████████████████████████████████████████████████████████████████████████████████████| 4/4 [00:36<00:00,  9.00s/it]\u001b[A\n",
      "                                                                                                                                               \u001b[AWarning: Empty reference sentence detected; setting raw BERTScores to 0.\n",
      " 33%|█████████████████████████████████▋                                                                     | 16/49 [20:19<1:00:44, 110.45s/it]"
     ]
    },
    {
     "name": "stdout",
     "output_type": "stream",
     "text": [
      "[pred] The ex-Reading defender denied fraudulent charges of trading for the Sodje Sports Foundation - a charity which raised money for Nigerian financial\n",
      "[true] The ex-Reading defender denied fraudulent trading charges relating to the Sodje Sports Foundation - a charity to raise money for Nigerian\n",
      "\n",
      "\n",
      "\n",
      "[pred] Voges was forced to retire hurt after suffering a 167 injury while batting with Middlesex on 4 June in the County Championship draw. Somerset\n",
      "[true] Voges was forced to retire hurt on 86 after suffering the injury while batting during the County Championship draw with Somerset on 4 June. Middlesex\n",
      "\n",
      "\n",
      "\n",
      "[pred] Seven photographs taken in the Norfolk countryside by photographer Josh Olins will appear in the June edition. In her first sitting for the magazine, a du\n",
      "[true] Seven photographs taken in the Norfolk countryside by photographer Josh Olins will appear in the June edition. In her first sitting for a magazine, the du\n",
      "setting preds_emb\n",
      "*** round 17\n"
     ]
    },
    {
     "name": "stderr",
     "output_type": "stream",
     "text": [
      "\n",
      "generating from val:   0%|                                                                                               | 0/4 [00:00<?, ?it/s]\u001b[A\n",
      "generating from val:  25%|█████████████████████▊                                                                 | 1/4 [00:09<00:29,  9.75s/it]\u001b[A\n",
      "generating from val:  50%|███████████████████████████████████████████▌                                           | 2/4 [00:19<00:19,  9.93s/it]\u001b[A\n",
      "generating from val:  75%|█████████████████████████████████████████████████████████████████▎                     | 3/4 [00:29<00:09,  9.89s/it]\u001b[A\n",
      "generating from val: 100%|███████████████████████████████████████████████████████████████████████████████████████| 4/4 [00:39<00:00,  9.82s/it]\u001b[A\n",
      "                                                                                                                                               \u001b[A"
     ]
    },
    {
     "name": "stdout",
     "output_type": "stream",
     "text": [
      "[pred] to the character of the sutures of the skull, which, like those of the infant skull, are relatively smooth and untortuous. In\n",
      "[true] to the character of the sutures of the skull which, like those of the infant skull, are relatively smooth and untortuous. In fact\n",
      "\n",
      "\n",
      "\n",
      "[pred] individual from the Southern Hemisphere, to win a Winter Olympic gold medal and was also part of the short track relay team that won Australia'\n",
      "[true] individual from the Southern Hemisphere, to win a Winter Olympic gold medal and was also part of the short track relay team that won Australia'\n",
      "\n",
      "\n",
      "\n",
      "[pred] the same rights as straight people, while 15% disagreed. Additionally, 69% agreed that they should be protected from workplace discrimination. 13% of H\n",
      "[true] the same rights as straight people, while 15% disagreed. Additionally, 69% agreed that they should be protected from workplace discrimination. 13% of H\n",
      "setting preds_emb\n"
     ]
    },
    {
     "name": "stderr",
     "output_type": "stream",
     "text": [
      "\n",
      "generating from val:   0%|                                                                                               | 0/4 [00:00<?, ?it/s]\u001b[A\n",
      "generating from val:  25%|█████████████████████▊                                                                 | 1/4 [00:09<00:29,  9.89s/it]\u001b[A\n",
      "generating from val:  50%|███████████████████████████████████████████▌                                           | 2/4 [00:19<00:19,  9.78s/it]\u001b[A\n",
      "generating from val:  75%|█████████████████████████████████████████████████████████████████▎                     | 3/4 [00:29<00:09,  9.84s/it]\u001b[A\n",
      "generating from val: 100%|███████████████████████████████████████████████████████████████████████████████████████| 4/4 [00:39<00:00,  9.73s/it]\u001b[A\n",
      "                                                                                                                                               \u001b[A"
     ]
    },
    {
     "name": "stdout",
     "output_type": "stream",
     "text": [
      "[pred] we study the phase behavior of a nematic liquid crystal confined between a flat substrate and a patterned substrate with strong anchoring\n",
      "[true] we study the phase behavior of a nematic liquid crystal confined between a flat substrate with strong anchoring and a patterned substrate\n",
      "\n",
      "\n",
      "\n",
      "[pred] determining the scaling relations between galaxy clusters requires large samples of uniformly observed clusters. we measure the mean observables x-\n",
      "[true] determining the scaling relations between galaxy cluster observables requires large samples of uniformly observed clusters. we measure the mean x -\n",
      "\n",
      "\n",
      "\n",
      "[pred] we show how to control spatial correlations in a degenerate quantum parametric multimode optical oscillator type I below threshold by a\n",
      "[true] we show how to control spatial quantum correlations in a multimode degenerate optical parametric oscillator type i below threshold by \n",
      "setting preds_emb\n"
     ]
    },
    {
     "name": "stderr",
     "output_type": "stream",
     "text": [
      "\n",
      "generating from val:   0%|                                                                                               | 0/4 [00:00<?, ?it/s]\u001b[A\n",
      "generating from val:  25%|█████████████████████▊                                                                 | 1/4 [00:09<00:29,  9.87s/it]\u001b[A\n",
      "generating from val:  50%|███████████████████████████████████████████▌                                           | 2/4 [00:19<00:19,  9.97s/it]\u001b[A\n",
      "generating from val:  75%|█████████████████████████████████████████████████████████████████▎                     | 3/4 [00:30<00:10, 10.06s/it]\u001b[A\n",
      "generating from val: 100%|███████████████████████████████████████████████████████████████████████████████████████| 4/4 [00:39<00:00,  9.88s/it]\u001b[A\n",
      "                                                                                                                                               \u001b[AWarning: Empty reference sentence detected; setting raw BERTScores to 0.\n",
      " 35%|███████████████████████████████████▋                                                                   | 17/49 [22:33<1:02:35, 117.36s/it]"
     ]
    },
    {
     "name": "stdout",
     "output_type": "stream",
     "text": [
      "[pred] The ex-Reading defender denied fraudulent charges for trading for the Sodje Sports Foundation - a charity which raised money for Nigerian financial\n",
      "[true] The ex-Reading defender denied fraudulent trading charges relating to the Sodje Sports Foundation - a charity to raise money for Nigerian\n",
      "\n",
      "\n",
      "\n",
      "[pred] Voges was forced to retire hurt after suffering an injury while batting with Somerset on 6 June in the County Championship draw. After suffering 89, Middle\n",
      "[true] Voges was forced to retire hurt on 86 after suffering the injury while batting during the County Championship draw with Somerset on 4 June. Middlesex\n",
      "\n",
      "\n",
      "\n",
      "[pred] Seven photographs taken in the Norfolk countryside by photographer Josh Olins will appear in the June edition. In her first sitting for the magazine, a du\n",
      "[true] Seven photographs taken in the Norfolk countryside by photographer Josh Olins will appear in the June edition. In her first sitting for a magazine, the du\n",
      "setting preds_emb\n",
      "*** round 18\n"
     ]
    },
    {
     "name": "stderr",
     "output_type": "stream",
     "text": [
      "\n",
      "generating from val:   0%|                                                                                               | 0/4 [00:00<?, ?it/s]\u001b[A\n",
      "generating from val:  25%|█████████████████████▊                                                                 | 1/4 [00:10<00:31, 10.58s/it]\u001b[A\n",
      "generating from val:  50%|███████████████████████████████████████████▌                                           | 2/4 [00:21<00:21, 10.71s/it]\u001b[A\n",
      "generating from val:  75%|█████████████████████████████████████████████████████████████████▎                     | 3/4 [00:32<00:10, 10.69s/it]\u001b[A\n",
      "generating from val: 100%|███████████████████████████████████████████████████████████████████████████████████████| 4/4 [00:41<00:00, 10.33s/it]\u001b[A\n",
      "                                                                                                                                               \u001b[A"
     ]
    },
    {
     "name": "stdout",
     "output_type": "stream",
     "text": [
      "[pred] to the character of the sutures of the skull, which, like those of the infant skull, are relatively smooth and untortuous. In\n",
      "[true] to the character of the sutures of the skull which, like those of the infant skull, are relatively smooth and untortuous. In fact\n",
      "\n",
      "\n",
      "\n",
      "[pred] individual from the Southern Hemisphere, to win a Winter Olympic gold medal and was also part of the short track relay team that won Australia'\n",
      "[true] individual from the Southern Hemisphere, to win a Winter Olympic gold medal and was also part of the short track relay team that won Australia'\n",
      "\n",
      "\n",
      "\n",
      "[pred] the same rights as straight people, while 15% disagreed. Additionally, 69% agreed that they should be protected from workplace discrimination. 13% of H\n",
      "[true] the same rights as straight people, while 15% disagreed. Additionally, 69% agreed that they should be protected from workplace discrimination. 13% of H\n",
      "setting preds_emb\n"
     ]
    },
    {
     "name": "stderr",
     "output_type": "stream",
     "text": [
      "\n",
      "generating from val:   0%|                                                                                               | 0/4 [00:00<?, ?it/s]\u001b[A\n",
      "generating from val:  25%|█████████████████████▊                                                                 | 1/4 [00:10<00:30, 10.26s/it]\u001b[A\n",
      "generating from val:  50%|███████████████████████████████████████████▌                                           | 2/4 [00:20<00:20, 10.17s/it]\u001b[A\n",
      "generating from val:  75%|█████████████████████████████████████████████████████████████████▎                     | 3/4 [00:30<00:10, 10.24s/it]\u001b[A\n",
      "generating from val: 100%|███████████████████████████████████████████████████████████████████████████████████████| 4/4 [00:40<00:00, 10.14s/it]\u001b[A\n",
      "                                                                                                                                               \u001b[A"
     ]
    },
    {
     "name": "stdout",
     "output_type": "stream",
     "text": [
      "[pred] we study the phase behavior of a nematic liquid crystal confined between a patterned substrate and a flat substrate with strong anchoring\n",
      "[true] we study the phase behavior of a nematic liquid crystal confined between a flat substrate with strong anchoring and a patterned substrate\n",
      "\n",
      "\n",
      "\n",
      "[pred] determining the scaling relations between galaxy clusters requires large samples of uniformly observed clusters. We measure the mean observable x -\n",
      "[true] determining the scaling relations between galaxy cluster observables requires large samples of uniformly observed clusters. we measure the mean x -\n",
      "\n",
      "\n",
      "\n",
      "[pred] we show how to control spatial correlations in a degenerate quantum parametric multimode optical oscillator type I below threshold by a\n",
      "[true] we show how to control spatial quantum correlations in a multimode degenerate optical parametric oscillator type i below threshold by \n",
      "setting preds_emb\n"
     ]
    },
    {
     "name": "stderr",
     "output_type": "stream",
     "text": [
      "\n",
      "generating from val:   0%|                                                                                               | 0/4 [00:00<?, ?it/s]\u001b[A\n",
      "generating from val:  25%|█████████████████████▊                                                                 | 1/4 [00:10<00:31, 10.40s/it]\u001b[A\n",
      "generating from val:  50%|███████████████████████████████████████████▌                                           | 2/4 [00:20<00:20, 10.29s/it]\u001b[A\n",
      "generating from val:  75%|█████████████████████████████████████████████████████████████████▎                     | 3/4 [00:30<00:10, 10.30s/it]\u001b[A\n",
      "generating from val: 100%|███████████████████████████████████████████████████████████████████████████████████████| 4/4 [00:40<00:00, 10.19s/it]\u001b[A\n",
      "                                                                                                                                               \u001b[AWarning: Empty reference sentence detected; setting raw BERTScores to 0.\n",
      " 37%|█████████████████████████████████████▊                                                                 | 18/49 [24:51<1:03:53, 123.66s/it]"
     ]
    },
    {
     "name": "stdout",
     "output_type": "stream",
     "text": [
      "[pred] The ex-Reading defender denied fraudulent trading charges for the Sodje Sports Foundation - a charity which was to raise money for Nigerian\n",
      "[true] The ex-Reading defender denied fraudulent trading charges relating to the Sodje Sports Foundation - a charity to raise money for Nigerian\n",
      "\n",
      "\n",
      "\n",
      "[pred] Voges was forced to retire hurt after suffering an injury on 6 June while batting for 86 in the County Championship draw. Middlesex, Somerset\n",
      "[true] Voges was forced to retire hurt on 86 after suffering the injury while batting during the County Championship draw with Somerset on 4 June. Middlesex\n",
      "\n",
      "\n",
      "\n",
      "[pred] Seven photographs taken in the Norfolk countryside by photographer Josh Olins will appear in the June edition. In her first sitting for the magazine, a du\n",
      "[true] Seven photographs taken in the Norfolk countryside by photographer Josh Olins will appear in the June edition. In her first sitting for a magazine, the du\n",
      "setting preds_emb\n",
      "*** round 19\n"
     ]
    },
    {
     "name": "stderr",
     "output_type": "stream",
     "text": [
      "\n",
      "generating from val:   0%|                                                                                               | 0/4 [00:00<?, ?it/s]\u001b[A\n",
      "generating from val:  25%|█████████████████████▊                                                                 | 1/4 [00:10<00:32, 10.83s/it]\u001b[A\n",
      "generating from val:  50%|███████████████████████████████████████████▌                                           | 2/4 [00:21<00:21, 10.72s/it]\u001b[A\n",
      "generating from val:  75%|█████████████████████████████████████████████████████████████████▎                     | 3/4 [00:32<00:10, 10.89s/it]\u001b[A\n",
      "generating from val: 100%|███████████████████████████████████████████████████████████████████████████████████████| 4/4 [00:43<00:00, 10.80s/it]\u001b[A\n",
      "                                                                                                                                               \u001b[A"
     ]
    },
    {
     "name": "stdout",
     "output_type": "stream",
     "text": [
      "[pred] to the character of the sutures of the skull, which, like those of the infant skull, are relatively smooth and untortuous. In\n",
      "[true] to the character of the sutures of the skull which, like those of the infant skull, are relatively smooth and untortuous. In fact\n",
      "\n",
      "\n",
      "\n",
      "[pred] individual from the Southern Hemisphere, to win a Winter Olympic gold medal and was also part of the short track relay team that won Australia'\n",
      "[true] individual from the Southern Hemisphere, to win a Winter Olympic gold medal and was also part of the short track relay team that won Australia'\n",
      "\n",
      "\n",
      "\n",
      "[pred] the same rights as straight people, while 15% disagreed. Additionally, 69% agreed that they should be protected from workplace discrimination. 13% of H\n",
      "[true] the same rights as straight people, while 15% disagreed. Additionally, 69% agreed that they should be protected from workplace discrimination. 13% of H\n",
      "setting preds_emb\n"
     ]
    },
    {
     "name": "stderr",
     "output_type": "stream",
     "text": [
      "\n",
      "generating from val:   0%|                                                                                               | 0/4 [00:00<?, ?it/s]\u001b[A\n",
      "generating from val:  25%|█████████████████████▊                                                                 | 1/4 [00:11<00:34, 11.41s/it]\u001b[A\n",
      "generating from val:  50%|███████████████████████████████████████████▌                                           | 2/4 [00:22<00:22, 11.04s/it]\u001b[A\n",
      "generating from val:  75%|█████████████████████████████████████████████████████████████████▎                     | 3/4 [00:32<00:10, 10.91s/it]\u001b[A\n",
      "generating from val: 100%|███████████████████████████████████████████████████████████████████████████████████████| 4/4 [00:43<00:00, 10.72s/it]\u001b[A\n",
      "                                                                                                                                               \u001b[A"
     ]
    },
    {
     "name": "stdout",
     "output_type": "stream",
     "text": [
      "[pred] we study the phase behavior of a nematic liquid crystal confined between a flat substrate and a patterned substrate with strong anchoring\n",
      "[true] we study the phase behavior of a nematic liquid crystal confined between a flat substrate with strong anchoring and a patterned substrate\n",
      "\n",
      "\n",
      "\n",
      "[pred] determining the scaling relations between galaxy clusters requires large samples of uniformly observed clusters. we measure the mean observables x-\n",
      "[true] determining the scaling relations between galaxy cluster observables requires large samples of uniformly observed clusters. we measure the mean x -\n",
      "\n",
      "\n",
      "\n",
      "[pred] we show how to control spatial correlations in a degenerate quantum parametric multimode optical oscillator type I below threshold by a\n",
      "[true] we show how to control spatial quantum correlations in a multimode degenerate optical parametric oscillator type i below threshold by \n",
      "setting preds_emb\n"
     ]
    },
    {
     "name": "stderr",
     "output_type": "stream",
     "text": [
      "\n",
      "generating from val:   0%|                                                                                               | 0/4 [00:00<?, ?it/s]\u001b[A\n",
      "generating from val:  25%|█████████████████████▊                                                                 | 1/4 [00:10<00:32, 10.97s/it]\u001b[A\n",
      "generating from val:  50%|███████████████████████████████████████████▌                                           | 2/4 [00:22<00:22, 11.02s/it]\u001b[A\n",
      "generating from val:  75%|█████████████████████████████████████████████████████████████████▎                     | 3/4 [00:32<00:10, 10.92s/it]\u001b[A\n",
      "generating from val: 100%|███████████████████████████████████████████████████████████████████████████████████████| 4/4 [00:42<00:00, 10.62s/it]\u001b[A\n",
      "                                                                                                                                               \u001b[AWarning: Empty reference sentence detected; setting raw BERTScores to 0.\n",
      " 39%|███████████████████████████████████████▉                                                               | 19/49 [27:16<1:04:59, 129.97s/it]"
     ]
    },
    {
     "name": "stdout",
     "output_type": "stream",
     "text": [
      "[pred] The ex-Reading defender denied fraudulent trading charges for the Sodje Sports Foundation - a charity involved in raising money for Nigerian financial\n",
      "[true] The ex-Reading defender denied fraudulent trading charges relating to the Sodje Sports Foundation - a charity to raise money for Nigerian\n",
      "\n",
      "\n",
      "\n",
      "[pred] Voges was forced to retire hurt after batting for 86 on 4 June during the County Championship draw with Middlesex. After suffering injury, Somerset\n",
      "[true] Voges was forced to retire hurt on 86 after suffering the injury while batting during the County Championship draw with Somerset on 4 June. Middlesex\n",
      "\n",
      "\n",
      "\n",
      "[pred] Seven photographs taken in the Norfolk countryside by photographer Josh Olins will appear in the June edition. In her first sitting for the magazine, a du\n",
      "[true] Seven photographs taken in the Norfolk countryside by photographer Josh Olins will appear in the June edition. In her first sitting for a magazine, the du\n",
      "setting preds_emb\n",
      "*** round 20\n"
     ]
    },
    {
     "name": "stderr",
     "output_type": "stream",
     "text": [
      "\n",
      "generating from val:   0%|                                                                                               | 0/4 [00:00<?, ?it/s]\u001b[A\n",
      "generating from val:  25%|█████████████████████▊                                                                 | 1/4 [00:11<00:34, 11.40s/it]\u001b[A\n",
      "generating from val:  50%|███████████████████████████████████████████▌                                           | 2/4 [00:22<00:22, 11.50s/it]\u001b[A\n",
      "generating from val:  75%|█████████████████████████████████████████████████████████████████▎                     | 3/4 [00:34<00:11, 11.39s/it]\u001b[A\n",
      "generating from val: 100%|███████████████████████████████████████████████████████████████████████████████████████| 4/4 [00:45<00:00, 11.23s/it]\u001b[A\n",
      "                                                                                                                                               \u001b[A"
     ]
    },
    {
     "name": "stdout",
     "output_type": "stream",
     "text": [
      "[pred] to the character of the sutures of the skull, which, like those of the infant skull, are relatively smooth and untortuous. In\n",
      "[true] to the character of the sutures of the skull which, like those of the infant skull, are relatively smooth and untortuous. In fact\n",
      "\n",
      "\n",
      "\n",
      "[pred] individual from the Southern Hemisphere, to win a Winter Olympic gold medal and was also part of the short track relay team that won Australia'\n",
      "[true] individual from the Southern Hemisphere, to win a Winter Olympic gold medal and was also part of the short track relay team that won Australia'\n",
      "\n",
      "\n",
      "\n",
      "[pred] the same rights as straight people, while 15% disagreed. Additionally, 69% agreed that they should be protected from workplace discrimination. 13% of H\n",
      "[true] the same rights as straight people, while 15% disagreed. Additionally, 69% agreed that they should be protected from workplace discrimination. 13% of H\n",
      "setting preds_emb\n"
     ]
    },
    {
     "name": "stderr",
     "output_type": "stream",
     "text": [
      "\n",
      "generating from val:   0%|                                                                                               | 0/4 [00:00<?, ?it/s]\u001b[A\n",
      "generating from val:  25%|█████████████████████▊                                                                 | 1/4 [00:11<00:33, 11.29s/it]\u001b[A\n",
      "generating from val:  50%|███████████████████████████████████████████▌                                           | 2/4 [00:22<00:22, 11.34s/it]\u001b[A\n",
      "generating from val:  75%|█████████████████████████████████████████████████████████████████▎                     | 3/4 [00:34<00:11, 11.41s/it]\u001b[A\n",
      "generating from val: 100%|███████████████████████████████████████████████████████████████████████████████████████| 4/4 [00:44<00:00, 11.12s/it]\u001b[A\n",
      "                                                                                                                                               \u001b[A"
     ]
    },
    {
     "name": "stdout",
     "output_type": "stream",
     "text": [
      "[pred] we study the phase behavior of a nematic liquid crystal confined between a patterned substrate and a flat substrate with strong anchoring\n",
      "[true] we study the phase behavior of a nematic liquid crystal confined between a flat substrate with strong anchoring and a patterned substrate\n",
      "\n",
      "\n",
      "\n",
      "[pred] determining the scaling relations between galaxy clusters requires large samples of uniformly observed clusters. We measure the mean observable x -\n",
      "[true] determining the scaling relations between galaxy cluster observables requires large samples of uniformly observed clusters. we measure the mean x -\n",
      "\n",
      "\n",
      "\n",
      "[pred] we show how to control spatial correlations in a degenerate quantum parametric multimode optical oscillator type I below threshold by a\n",
      "[true] we show how to control spatial quantum correlations in a multimode degenerate optical parametric oscillator type i below threshold by \n",
      "setting preds_emb\n"
     ]
    },
    {
     "name": "stderr",
     "output_type": "stream",
     "text": [
      "\n",
      "generating from val:   0%|                                                                                               | 0/4 [00:00<?, ?it/s]\u001b[A\n",
      "generating from val:  25%|█████████████████████▊                                                                 | 1/4 [00:11<00:33, 11.20s/it]\u001b[A\n",
      "generating from val:  50%|███████████████████████████████████████████▌                                           | 2/4 [00:22<00:22, 11.29s/it]\u001b[A\n",
      "generating from val:  75%|█████████████████████████████████████████████████████████████████▎                     | 3/4 [00:33<00:11, 11.22s/it]\u001b[A\n",
      "generating from val: 100%|███████████████████████████████████████████████████████████████████████████████████████| 4/4 [00:44<00:00, 11.09s/it]\u001b[A\n",
      "                                                                                                                                               \u001b[AWarning: Empty reference sentence detected; setting raw BERTScores to 0.\n",
      " 41%|██████████████████████████████████████████                                                             | 20/49 [29:45<1:05:41, 135.91s/it]"
     ]
    },
    {
     "name": "stdout",
     "output_type": "stream",
     "text": [
      "[pred] The ex-Reading defender denied fraudulent trading charges relating to the Sodje Sports Foundation - a charity to raise money for Nigerian\n",
      "[true] The ex-Reading defender denied fraudulent trading charges relating to the Sodje Sports Foundation - a charity to raise money for Nigerian\n",
      "\n",
      "\n",
      "\n",
      "[pred] Voges was forced to retire hurt after batting for 86 while suffering a knee injury in the County Championship draw with Middlesex on 4 June\n",
      "[true] Voges was forced to retire hurt on 86 after suffering the injury while batting during the County Championship draw with Somerset on 4 June. Middlesex\n",
      "\n",
      "\n",
      "\n",
      "[pred] Seven photographs taken in the Norfolk countryside by photographer Josh Olins will appear in the June edition. In her first sitting for the magazine, a du\n",
      "[true] Seven photographs taken in the Norfolk countryside by photographer Josh Olins will appear in the June edition. In her first sitting for a magazine, the du\n",
      "setting preds_emb\n",
      "*** round 21\n"
     ]
    },
    {
     "name": "stderr",
     "output_type": "stream",
     "text": [
      "\n",
      "generating from val:   0%|                                                                                               | 0/4 [00:00<?, ?it/s]\u001b[A\n",
      "generating from val:  25%|█████████████████████▊                                                                 | 1/4 [00:11<00:35, 11.98s/it]\u001b[A\n",
      "generating from val:  50%|███████████████████████████████████████████▌                                           | 2/4 [00:24<00:24, 12.07s/it]\u001b[A\n",
      "generating from val:  75%|█████████████████████████████████████████████████████████████████▎                     | 3/4 [00:36<00:12, 12.08s/it]\u001b[A\n",
      "generating from val: 100%|███████████████████████████████████████████████████████████████████████████████████████| 4/4 [00:47<00:00, 11.95s/it]\u001b[A\n",
      "                                                                                                                                               \u001b[A"
     ]
    },
    {
     "name": "stdout",
     "output_type": "stream",
     "text": [
      "[pred] to the character of the sutures of the skull, which, like those of the infant skull, are relatively smooth and untortuous. In\n",
      "[true] to the character of the sutures of the skull which, like those of the infant skull, are relatively smooth and untortuous. In fact\n",
      "\n",
      "\n",
      "\n",
      "[pred] individual from the Southern Hemisphere, to win a Winter Olympic gold medal and was also part of the short track relay team that won Australia'\n",
      "[true] individual from the Southern Hemisphere, to win a Winter Olympic gold medal and was also part of the short track relay team that won Australia'\n",
      "\n",
      "\n",
      "\n",
      "[pred] the same rights as straight people, while 15% disagreed. Additionally, 69% agreed that they should be protected from workplace discrimination. 13% of H\n",
      "[true] the same rights as straight people, while 15% disagreed. Additionally, 69% agreed that they should be protected from workplace discrimination. 13% of H\n",
      "setting preds_emb\n"
     ]
    },
    {
     "name": "stderr",
     "output_type": "stream",
     "text": [
      "\n",
      "generating from val:   0%|                                                                                               | 0/4 [00:00<?, ?it/s]\u001b[A\n",
      "generating from val:  25%|█████████████████████▊                                                                 | 1/4 [00:11<00:35, 11.75s/it]\u001b[A\n",
      "generating from val:  50%|███████████████████████████████████████████▌                                           | 2/4 [00:23<00:23, 11.87s/it]\u001b[A\n",
      "generating from val:  75%|█████████████████████████████████████████████████████████████████▎                     | 3/4 [00:35<00:11, 11.91s/it]\u001b[A\n",
      "generating from val: 100%|███████████████████████████████████████████████████████████████████████████████████████| 4/4 [00:46<00:00, 11.67s/it]\u001b[A\n",
      "                                                                                                                                               \u001b[A"
     ]
    },
    {
     "name": "stdout",
     "output_type": "stream",
     "text": [
      "[pred] we study the phase behavior of a nematic liquid crystal confined between a flat substrate and a patterned substrate with strong anchoring\n",
      "[true] we study the phase behavior of a nematic liquid crystal confined between a flat substrate with strong anchoring and a patterned substrate\n",
      "\n",
      "\n",
      "\n",
      "[pred] determining the scaling relations between galaxy clusters requires large samples of uniformly observed clusters. we measure the mean observables x-\n",
      "[true] determining the scaling relations between galaxy cluster observables requires large samples of uniformly observed clusters. we measure the mean x -\n",
      "\n",
      "\n",
      "\n",
      "[pred] we show how to control spatial correlations in a degenerate quantum parametric multimode optical oscillator type I below threshold by a\n",
      "[true] we show how to control spatial quantum correlations in a multimode degenerate optical parametric oscillator type i below threshold by \n",
      "setting preds_emb\n"
     ]
    },
    {
     "name": "stderr",
     "output_type": "stream",
     "text": [
      "\n",
      "generating from val:   0%|                                                                                               | 0/4 [00:00<?, ?it/s]\u001b[A\n",
      "generating from val:  25%|█████████████████████▊                                                                 | 1/4 [00:12<00:36, 12.23s/it]\u001b[A\n",
      "generating from val:  50%|███████████████████████████████████████████▌                                           | 2/4 [00:24<00:24, 12.13s/it]\u001b[A\n",
      "generating from val:  75%|█████████████████████████████████████████████████████████████████▎                     | 3/4 [00:36<00:11, 11.98s/it]\u001b[A\n",
      "generating from val: 100%|███████████████████████████████████████████████████████████████████████████████████████| 4/4 [00:47<00:00, 11.74s/it]\u001b[A\n",
      "                                                                                                                                               \u001b[AWarning: Empty reference sentence detected; setting raw BERTScores to 0.\n",
      " 43%|████████████████████████████████████████████▏                                                          | 21/49 [32:23<1:06:24, 142.32s/it]"
     ]
    },
    {
     "name": "stdout",
     "output_type": "stream",
     "text": [
      "[pred] The ex-Reading defender denied fraudulent trading charges relating to the Sodje Sports Foundation - a charity to raise money for Nigerian\n",
      "[true] The ex-Reading defender denied fraudulent trading charges relating to the Sodje Sports Foundation - a charity to raise money for Nigerian\n",
      "\n",
      "\n",
      "\n",
      "[pred] Voges was forced to retire hurt after batting for 62 during the County Championship draw with Somerset on 2 April. After suffering something from Middlesex\n",
      "[true] Voges was forced to retire hurt on 86 after suffering the injury while batting during the County Championship draw with Somerset on 4 June. Middlesex\n",
      "\n",
      "\n",
      "\n",
      "[pred] Seven photographs taken in the Norfolk countryside by photographer Josh Olins will appear in the June edition. In her first sitting for the magazine, a du\n",
      "[true] Seven photographs taken in the Norfolk countryside by photographer Josh Olins will appear in the June edition. In her first sitting for a magazine, the du\n",
      "setting preds_emb\n",
      "*** round 22\n"
     ]
    },
    {
     "name": "stderr",
     "output_type": "stream",
     "text": [
      "\n",
      "generating from val:   0%|                                                                                               | 0/4 [00:00<?, ?it/s]\u001b[A\n",
      "generating from val:  25%|█████████████████████▊                                                                 | 1/4 [00:12<00:37, 12.64s/it]\u001b[A\n",
      "generating from val:  50%|███████████████████████████████████████████▌                                           | 2/4 [00:25<00:25, 12.62s/it]\u001b[A\n",
      "generating from val:  75%|█████████████████████████████████████████████████████████████████▎                     | 3/4 [00:37<00:12, 12.58s/it]\u001b[A\n",
      "generating from val: 100%|███████████████████████████████████████████████████████████████████████████████████████| 4/4 [00:50<00:00, 12.48s/it]\u001b[A\n",
      "                                                                                                                                               \u001b[A"
     ]
    },
    {
     "name": "stdout",
     "output_type": "stream",
     "text": [
      "[pred] to the character of the sutures of the skull, which, like those of the infant skull, are relatively smooth and untortuous. In\n",
      "[true] to the character of the sutures of the skull which, like those of the infant skull, are relatively smooth and untortuous. In fact\n",
      "\n",
      "\n",
      "\n",
      "[pred] individual from the Southern Hemisphere, to win a Winter Olympic gold medal and was also part of the short track relay team that won Australia'\n",
      "[true] individual from the Southern Hemisphere, to win a Winter Olympic gold medal and was also part of the short track relay team that won Australia'\n",
      "\n",
      "\n",
      "\n",
      "[pred] the same rights as straight people, while 15% disagreed. Additionally, 69% agreed that they should be protected from workplace discrimination. 13% of H\n",
      "[true] the same rights as straight people, while 15% disagreed. Additionally, 69% agreed that they should be protected from workplace discrimination. 13% of H\n",
      "setting preds_emb\n"
     ]
    },
    {
     "name": "stderr",
     "output_type": "stream",
     "text": [
      "\n",
      "generating from val:   0%|                                                                                               | 0/4 [00:00<?, ?it/s]\u001b[A\n",
      "generating from val:  25%|█████████████████████▊                                                                 | 1/4 [00:12<00:36, 12.25s/it]\u001b[A\n",
      "generating from val:  50%|███████████████████████████████████████████▌                                           | 2/4 [00:24<00:25, 12.52s/it]\u001b[A\n",
      "generating from val:  75%|█████████████████████████████████████████████████████████████████▎                     | 3/4 [00:37<00:12, 12.53s/it]\u001b[A\n",
      "generating from val: 100%|███████████████████████████████████████████████████████████████████████████████████████| 4/4 [00:49<00:00, 12.24s/it]\u001b[A\n",
      "                                                                                                                                               \u001b[A"
     ]
    },
    {
     "name": "stdout",
     "output_type": "stream",
     "text": [
      "[pred] we study the phase behavior of a nematic liquid crystal confined between a patterned substrate and a flat substrate with strong anchoring\n",
      "[true] we study the phase behavior of a nematic liquid crystal confined between a flat substrate with strong anchoring and a patterned substrate\n",
      "\n",
      "\n",
      "\n",
      "[pred] determining the scaling relations between galaxy clusters requires large samples of uniformly observed clusters. We measure the mean observable x -\n",
      "[true] determining the scaling relations between galaxy cluster observables requires large samples of uniformly observed clusters. we measure the mean x -\n",
      "\n",
      "\n",
      "\n",
      "[pred] we show how to control spatial correlations in a degenerate quantum parametric multimode optical oscillator type I below threshold by a\n",
      "[true] we show how to control spatial quantum correlations in a multimode degenerate optical parametric oscillator type i below threshold by \n",
      "setting preds_emb\n"
     ]
    },
    {
     "name": "stderr",
     "output_type": "stream",
     "text": [
      "\n",
      "generating from val:   0%|                                                                                               | 0/4 [00:00<?, ?it/s]\u001b[A\n",
      "generating from val:  25%|█████████████████████▊                                                                 | 1/4 [00:12<00:38, 12.71s/it]\u001b[A\n",
      "generating from val:  50%|███████████████████████████████████████████▌                                           | 2/4 [00:25<00:25, 12.66s/it]\u001b[A\n",
      "generating from val:  75%|█████████████████████████████████████████████████████████████████▎                     | 3/4 [00:37<00:12, 12.58s/it]\u001b[A\n",
      "generating from val: 100%|███████████████████████████████████████████████████████████████████████████████████████| 4/4 [00:49<00:00, 12.39s/it]\u001b[A\n",
      "                                                                                                                                               \u001b[AWarning: Empty reference sentence detected; setting raw BERTScores to 0.\n",
      " 45%|██████████████████████████████████████████████▏                                                        | 22/49 [35:08<1:07:09, 149.24s/it]"
     ]
    },
    {
     "name": "stdout",
     "output_type": "stream",
     "text": [
      "[pred] The ex-Reading defender denied fraudulent trading charges relating to the Sodje Sports Foundation - a charity to raise money for Nigerian\n",
      "[true] The ex-Reading defender denied fraudulent trading charges relating to the Sodje Sports Foundation - a charity to raise money for Nigerian\n",
      "\n",
      "\n",
      "\n",
      "[pred] Voges was forced to retire hurt after batting on 86 while suffering an injury in the County Championship draw with Somerset on 4 June. Middlesex\n",
      "[true] Voges was forced to retire hurt on 86 after suffering the injury while batting during the County Championship draw with Somerset on 4 June. Middlesex\n",
      "\n",
      "\n",
      "\n",
      "[pred] Seven photographs taken in the Norfolk countryside by photographer Josh Olins will appear in the June edition. In her first sitting for the magazine, a du\n",
      "[true] Seven photographs taken in the Norfolk countryside by photographer Josh Olins will appear in the June edition. In her first sitting for a magazine, the du\n",
      "setting preds_emb\n",
      "*** round 23\n"
     ]
    },
    {
     "name": "stderr",
     "output_type": "stream",
     "text": [
      "\n",
      "generating from val:   0%|                                                                                               | 0/4 [00:00<?, ?it/s]\u001b[A\n",
      "generating from val:  25%|█████████████████████▊                                                                 | 1/4 [00:13<00:39, 13.09s/it]\u001b[A\n",
      "generating from val:  50%|███████████████████████████████████████████▌                                           | 2/4 [00:25<00:25, 12.88s/it]\u001b[A\n",
      "generating from val:  75%|█████████████████████████████████████████████████████████████████▎                     | 3/4 [00:39<00:13, 13.03s/it]\u001b[A\n",
      "generating from val: 100%|███████████████████████████████████████████████████████████████████████████████████████| 4/4 [00:51<00:00, 12.85s/it]\u001b[A\n",
      "                                                                                                                                               \u001b[A"
     ]
    },
    {
     "name": "stdout",
     "output_type": "stream",
     "text": [
      "[pred] to the character of the sutures of the skull, which, like those of the infant skull, are relatively smooth and untortuous. In\n",
      "[true] to the character of the sutures of the skull which, like those of the infant skull, are relatively smooth and untortuous. In fact\n",
      "\n",
      "\n",
      "\n",
      "[pred] individual from the Southern Hemisphere, to win a Winter Olympic gold medal and was also part of the short track relay team that won Australia'\n",
      "[true] individual from the Southern Hemisphere, to win a Winter Olympic gold medal and was also part of the short track relay team that won Australia'\n",
      "\n",
      "\n",
      "\n",
      "[pred] the same rights as straight people, while 15% disagreed. Additionally, 69% agreed that they should be protected from workplace discrimination. 13% of H\n",
      "[true] the same rights as straight people, while 15% disagreed. Additionally, 69% agreed that they should be protected from workplace discrimination. 13% of H\n",
      "setting preds_emb\n"
     ]
    },
    {
     "name": "stderr",
     "output_type": "stream",
     "text": [
      "\n",
      "generating from val:   0%|                                                                                               | 0/4 [00:00<?, ?it/s]\u001b[A\n",
      "generating from val:  25%|█████████████████████▊                                                                 | 1/4 [00:13<00:39, 13.27s/it]\u001b[A\n",
      "generating from val:  50%|███████████████████████████████████████████▌                                           | 2/4 [00:26<00:26, 13.28s/it]\u001b[A\n",
      "generating from val:  75%|█████████████████████████████████████████████████████████████████▎                     | 3/4 [00:39<00:13, 13.14s/it]\u001b[A\n",
      "generating from val: 100%|███████████████████████████████████████████████████████████████████████████████████████| 4/4 [00:51<00:00, 12.81s/it]\u001b[A\n",
      "                                                                                                                                               \u001b[A"
     ]
    },
    {
     "name": "stdout",
     "output_type": "stream",
     "text": [
      "[pred] we study the phase behavior of a nematic liquid crystal confined between a flat substrate and a patterned substrate with strong anchoring\n",
      "[true] we study the phase behavior of a nematic liquid crystal confined between a flat substrate with strong anchoring and a patterned substrate\n",
      "\n",
      "\n",
      "\n",
      "[pred] determining the scaling relations between galaxy clusters requires large samples of uniformly observed clusters. we measure the mean observables x-\n",
      "[true] determining the scaling relations between galaxy cluster observables requires large samples of uniformly observed clusters. we measure the mean x -\n",
      "\n",
      "\n",
      "\n",
      "[pred] we show how to control spatial correlations in a degenerate quantum parametric multimode optical oscillator type I below threshold by a\n",
      "[true] we show how to control spatial quantum correlations in a multimode degenerate optical parametric oscillator type i below threshold by \n",
      "setting preds_emb\n"
     ]
    },
    {
     "name": "stderr",
     "output_type": "stream",
     "text": [
      "\n",
      "generating from val:   0%|                                                                                               | 0/4 [00:00<?, ?it/s]\u001b[A\n",
      "generating from val:  25%|█████████████████████▊                                                                 | 1/4 [00:12<00:38, 12.99s/it]\u001b[A\n",
      "generating from val:  50%|███████████████████████████████████████████▌                                           | 2/4 [00:26<00:26, 13.13s/it]\u001b[A\n",
      "generating from val:  75%|█████████████████████████████████████████████████████████████████▎                     | 3/4 [00:39<00:13, 13.33s/it]\u001b[A\n",
      "generating from val: 100%|███████████████████████████████████████████████████████████████████████████████████████| 4/4 [00:52<00:00, 13.09s/it]\u001b[A\n",
      "                                                                                                                                               \u001b[AWarning: Empty reference sentence detected; setting raw BERTScores to 0.\n",
      " 47%|████████████████████████████████████████████████▎                                                      | 23/49 [37:59<1:07:33, 155.91s/it]"
     ]
    },
    {
     "name": "stdout",
     "output_type": "stream",
     "text": [
      "[pred] The ex-Reading defender denied fraudulent trading charges relating to the Sodje Sports Foundation - a charity to raise money for Nigerian\n",
      "[true] The ex-Reading defender denied fraudulent trading charges relating to the Sodje Sports Foundation - a charity to raise money for Nigerian\n",
      "\n",
      "\n",
      "\n",
      "[pred] Voges was forced to retire hurt after batting on 86 during a draw with Somerset on 30 June for the County Championship. Middlesex suffered\n",
      "[true] Voges was forced to retire hurt on 86 after suffering the injury while batting during the County Championship draw with Somerset on 4 June. Middlesex\n",
      "\n",
      "\n",
      "\n",
      "[pred] Seven photographs taken in the Norfolk countryside by photographer Josh Olins will appear in the June edition. In her first sitting for the magazine, a du\n",
      "[true] Seven photographs taken in the Norfolk countryside by photographer Josh Olins will appear in the June edition. In her first sitting for a magazine, the du\n",
      "setting preds_emb\n",
      "*** round 24\n"
     ]
    },
    {
     "name": "stderr",
     "output_type": "stream",
     "text": [
      "\n",
      "generating from val:   0%|                                                                                               | 0/4 [00:00<?, ?it/s]\u001b[A\n",
      "generating from val:  25%|█████████████████████▊                                                                 | 1/4 [00:13<00:41, 13.76s/it]\u001b[A\n",
      "generating from val:  50%|███████████████████████████████████████████▌                                           | 2/4 [00:27<00:27, 13.60s/it]\u001b[A\n",
      "generating from val:  75%|█████████████████████████████████████████████████████████████████▎                     | 3/4 [00:40<00:13, 13.54s/it]\u001b[A\n",
      "generating from val: 100%|███████████████████████████████████████████████████████████████████████████████████████| 4/4 [00:53<00:00, 13.36s/it]\u001b[A\n",
      "                                                                                                                                               \u001b[A"
     ]
    },
    {
     "name": "stdout",
     "output_type": "stream",
     "text": [
      "[pred] to the character of the sutures of the skull, which, like those of the infant skull, are relatively smooth and untortuous. In\n",
      "[true] to the character of the sutures of the skull which, like those of the infant skull, are relatively smooth and untortuous. In fact\n",
      "\n",
      "\n",
      "\n",
      "[pred] individual from the Southern Hemisphere, to win a Winter Olympic gold medal and was also part of the short track relay team that won Australia'\n",
      "[true] individual from the Southern Hemisphere, to win a Winter Olympic gold medal and was also part of the short track relay team that won Australia'\n",
      "\n",
      "\n",
      "\n",
      "[pred] the same rights as straight people, while 15% disagreed. Additionally, 69% agreed that they should be protected from workplace discrimination. 13% of H\n",
      "[true] the same rights as straight people, while 15% disagreed. Additionally, 69% agreed that they should be protected from workplace discrimination. 13% of H\n",
      "setting preds_emb\n"
     ]
    },
    {
     "name": "stderr",
     "output_type": "stream",
     "text": [
      "\n",
      "generating from val:   0%|                                                                                               | 0/4 [00:00<?, ?it/s]\u001b[A\n",
      "generating from val:  25%|█████████████████████▊                                                                 | 1/4 [00:13<00:39, 13.28s/it]\u001b[A\n",
      "generating from val:  50%|███████████████████████████████████████████▌                                           | 2/4 [00:26<00:27, 13.51s/it]\u001b[A\n",
      "generating from val:  75%|█████████████████████████████████████████████████████████████████▎                     | 3/4 [00:40<00:13, 13.45s/it]\u001b[A\n",
      "generating from val: 100%|███████████████████████████████████████████████████████████████████████████████████████| 4/4 [00:53<00:00, 13.23s/it]\u001b[A\n",
      "                                                                                                                                               \u001b[A"
     ]
    },
    {
     "name": "stdout",
     "output_type": "stream",
     "text": [
      "[pred] we study the phase behavior of a nematic liquid crystal confined between a patterned substrate and a flat substrate with strong anchoring\n",
      "[true] we study the phase behavior of a nematic liquid crystal confined between a flat substrate with strong anchoring and a patterned substrate\n",
      "\n",
      "\n",
      "\n",
      "[pred] determining the scaling relations between galaxy clusters requires large samples of uniformly observed clusters. We measure the mean observable x -\n",
      "[true] determining the scaling relations between galaxy cluster observables requires large samples of uniformly observed clusters. we measure the mean x -\n",
      "\n",
      "\n",
      "\n",
      "[pred] we show how to control spatial correlations in a degenerate quantum parametric multimode optical oscillator type I below threshold by a\n",
      "[true] we show how to control spatial quantum correlations in a multimode degenerate optical parametric oscillator type i below threshold by \n",
      "setting preds_emb\n"
     ]
    },
    {
     "name": "stderr",
     "output_type": "stream",
     "text": [
      "\n",
      "generating from val:   0%|                                                                                               | 0/4 [00:00<?, ?it/s]\u001b[A\n",
      "generating from val:  25%|█████████████████████▊                                                                 | 1/4 [00:13<00:41, 13.75s/it]\u001b[A\n",
      "generating from val:  50%|███████████████████████████████████████████▌                                           | 2/4 [00:27<00:27, 13.76s/it]\u001b[A\n",
      "generating from val:  75%|█████████████████████████████████████████████████████████████████▎                     | 3/4 [00:41<00:13, 13.80s/it]\u001b[A\n",
      "generating from val: 100%|███████████████████████████████████████████████████████████████████████████████████████| 4/4 [00:54<00:00, 13.50s/it]\u001b[A\n",
      "                                                                                                                                               \u001b[AWarning: Empty reference sentence detected; setting raw BERTScores to 0.\n",
      " 49%|██████████████████████████████████████████████████▍                                                    | 24/49 [40:57<1:07:36, 162.25s/it]"
     ]
    },
    {
     "name": "stdout",
     "output_type": "stream",
     "text": [
      "[pred] The ex-Reading defender denied fraudulent trading charges relating to the Sodje Sports Foundation - a charity to raise money for Nigerian\n",
      "[true] The ex-Reading defender denied fraudulent trading charges relating to the Sodje Sports Foundation - a charity to raise money for Nigerian\n",
      "\n",
      "\n",
      "\n",
      "[pred] Voges was forced to retire hurt after batting on 40 whilst suffering an injury in Somerset's June 4 County Championship draw. Middlesex\n",
      "[true] Voges was forced to retire hurt on 86 after suffering the injury while batting during the County Championship draw with Somerset on 4 June. Middlesex\n",
      "\n",
      "\n",
      "\n",
      "[pred] Seven photographs taken in the Norfolk countryside by photographer Josh Olins will appear in the June edition. In her first sitting for the magazine, a du\n",
      "[true] Seven photographs taken in the Norfolk countryside by photographer Josh Olins will appear in the June edition. In her first sitting for a magazine, the du\n",
      "setting preds_emb\n",
      "*** round 25\n"
     ]
    },
    {
     "name": "stderr",
     "output_type": "stream",
     "text": [
      "\n",
      "generating from val:   0%|                                                                                               | 0/4 [00:00<?, ?it/s]\u001b[A\n",
      "generating from val:  25%|█████████████████████▊                                                                 | 1/4 [00:14<00:42, 14.25s/it]\u001b[A\n",
      "generating from val:  50%|███████████████████████████████████████████▌                                           | 2/4 [00:28<00:28, 14.15s/it]\u001b[A\n",
      "generating from val:  75%|█████████████████████████████████████████████████████████████████▎                     | 3/4 [00:42<00:14, 14.06s/it]\u001b[A\n",
      "generating from val: 100%|███████████████████████████████████████████████████████████████████████████████████████| 4/4 [00:56<00:00, 14.09s/it]\u001b[A\n",
      "                                                                                                                                               \u001b[A"
     ]
    },
    {
     "name": "stdout",
     "output_type": "stream",
     "text": [
      "[pred] to the character of the sutures of the skull, which, like those of the infant skull, are relatively smooth and untortuous. In\n",
      "[true] to the character of the sutures of the skull which, like those of the infant skull, are relatively smooth and untortuous. In fact\n",
      "\n",
      "\n",
      "\n",
      "[pred] individual from the Southern Hemisphere, to win a Winter Olympic gold medal and was also part of the short track relay team that won Australia'\n",
      "[true] individual from the Southern Hemisphere, to win a Winter Olympic gold medal and was also part of the short track relay team that won Australia'\n",
      "\n",
      "\n",
      "\n",
      "[pred] the same rights as straight people, while 15% disagreed. Additionally, 69% agreed that they should be protected from workplace discrimination. 13% of H\n",
      "[true] the same rights as straight people, while 15% disagreed. Additionally, 69% agreed that they should be protected from workplace discrimination. 13% of H\n",
      "setting preds_emb\n"
     ]
    },
    {
     "name": "stderr",
     "output_type": "stream",
     "text": [
      "\n",
      "generating from val:   0%|                                                                                               | 0/4 [00:00<?, ?it/s]\u001b[A\n",
      "generating from val:  25%|█████████████████████▊                                                                 | 1/4 [00:14<00:42, 14.22s/it]\u001b[A\n",
      "generating from val:  50%|███████████████████████████████████████████▌                                           | 2/4 [00:28<00:28, 14.45s/it]\u001b[A\n",
      "generating from val:  75%|█████████████████████████████████████████████████████████████████▎                     | 3/4 [00:43<00:14, 14.36s/it]\u001b[A\n",
      "generating from val: 100%|███████████████████████████████████████████████████████████████████████████████████████| 4/4 [00:56<00:00, 14.10s/it]\u001b[A\n",
      "                                                                                                                                               \u001b[A"
     ]
    },
    {
     "name": "stdout",
     "output_type": "stream",
     "text": [
      "[pred] we study the phase behavior of a nematic liquid crystal confined between a flat substrate and a patterned substrate with strong anchoring\n",
      "[true] we study the phase behavior of a nematic liquid crystal confined between a flat substrate with strong anchoring and a patterned substrate\n",
      "\n",
      "\n",
      "\n",
      "[pred] determining the scaling relations between galaxy clusters requires large samples of uniformly observed clusters. we measure the mean observables x-\n",
      "[true] determining the scaling relations between galaxy cluster observables requires large samples of uniformly observed clusters. we measure the mean x -\n",
      "\n",
      "\n",
      "\n",
      "[pred] we show how to control spatial correlations in a degenerate quantum parametric multimode optical oscillator type I below threshold by a\n",
      "[true] we show how to control spatial quantum correlations in a multimode degenerate optical parametric oscillator type i below threshold by \n",
      "setting preds_emb\n"
     ]
    },
    {
     "name": "stderr",
     "output_type": "stream",
     "text": [
      "\n",
      "generating from val:   0%|                                                                                               | 0/4 [00:00<?, ?it/s]\u001b[A\n",
      "generating from val:  25%|█████████████████████▊                                                                 | 1/4 [00:14<00:42, 14.25s/it]\u001b[A\n",
      "generating from val:  50%|███████████████████████████████████████████▌                                           | 2/4 [00:28<00:28, 14.39s/it]\u001b[A\n",
      "generating from val:  75%|█████████████████████████████████████████████████████████████████▎                     | 3/4 [00:42<00:14, 14.27s/it]\u001b[A\n",
      "generating from val: 100%|███████████████████████████████████████████████████████████████████████████████████████| 4/4 [00:56<00:00, 13.88s/it]\u001b[A\n",
      "                                                                                                                                               \u001b[AWarning: Empty reference sentence detected; setting raw BERTScores to 0.\n",
      " 51%|████████████████████████████████████████████████████▌                                                  | 25/49 [44:02<1:07:39, 169.16s/it]"
     ]
    },
    {
     "name": "stdout",
     "output_type": "stream",
     "text": [
      "[pred] The ex-Reading defender denied fraudulent trading charges relating to the Sodje Sports Foundation - a charity to raise money for Nigerian\n",
      "[true] The ex-Reading defender denied fraudulent trading charges relating to the Sodje Sports Foundation - a charity to raise money for Nigerian\n",
      "\n",
      "\n",
      "\n",
      "[pred] Voges was forced to retire hurt after batting on 86 for Somerset in June while suffering a draw with Middlesex in the County Championship.\n",
      "[true] Voges was forced to retire hurt on 86 after suffering the injury while batting during the County Championship draw with Somerset on 4 June. Middlesex\n",
      "\n",
      "\n",
      "\n",
      "[pred] Seven photographs taken in the Norfolk countryside by photographer Josh Olins will appear in the June edition. In her first sitting for the magazine, a du\n",
      "[true] Seven photographs taken in the Norfolk countryside by photographer Josh Olins will appear in the June edition. In her first sitting for a magazine, the du\n",
      "setting preds_emb\n",
      "*** round 26\n"
     ]
    },
    {
     "name": "stderr",
     "output_type": "stream",
     "text": [
      "\n",
      "generating from val:   0%|                                                                                               | 0/4 [00:00<?, ?it/s]\u001b[A\n",
      "generating from val:  25%|█████████████████████▊                                                                 | 1/4 [00:14<00:44, 14.89s/it]\u001b[A\n",
      "generating from val:  50%|███████████████████████████████████████████▌                                           | 2/4 [00:29<00:29, 14.90s/it]\u001b[A\n",
      "generating from val:  75%|█████████████████████████████████████████████████████████████████▎                     | 3/4 [00:44<00:14, 14.79s/it]\u001b[A\n",
      "generating from val: 100%|███████████████████████████████████████████████████████████████████████████████████████| 4/4 [00:58<00:00, 14.54s/it]\u001b[A\n",
      "                                                                                                                                               \u001b[A"
     ]
    },
    {
     "name": "stdout",
     "output_type": "stream",
     "text": [
      "[pred] to the character of the sutures of the skull, which, like those of the infant skull, are relatively smooth and untortuous. In\n",
      "[true] to the character of the sutures of the skull which, like those of the infant skull, are relatively smooth and untortuous. In fact\n",
      "\n",
      "\n",
      "\n",
      "[pred] individual from the Southern Hemisphere, to win a Winter Olympic gold medal and was also part of the short track relay team that won Australia'\n",
      "[true] individual from the Southern Hemisphere, to win a Winter Olympic gold medal and was also part of the short track relay team that won Australia'\n",
      "\n",
      "\n",
      "\n",
      "[pred] the same rights as straight people, while 15% disagreed. Additionally, 69% agreed that they should be protected from workplace discrimination. 13% of H\n",
      "[true] the same rights as straight people, while 15% disagreed. Additionally, 69% agreed that they should be protected from workplace discrimination. 13% of H\n",
      "setting preds_emb\n"
     ]
    },
    {
     "name": "stderr",
     "output_type": "stream",
     "text": [
      "\n",
      "generating from val:   0%|                                                                                               | 0/4 [00:00<?, ?it/s]\u001b[A\n",
      "generating from val:  25%|█████████████████████▊                                                                 | 1/4 [00:15<00:45, 15.20s/it]\u001b[A\n",
      "generating from val:  50%|███████████████████████████████████████████▌                                           | 2/4 [00:30<00:30, 15.16s/it]\u001b[A\n",
      "generating from val:  75%|█████████████████████████████████████████████████████████████████▎                     | 3/4 [00:45<00:15, 15.08s/it]\u001b[A\n",
      "generating from val: 100%|███████████████████████████████████████████████████████████████████████████████████████| 4/4 [00:59<00:00, 14.89s/it]\u001b[A\n",
      "                                                                                                                                               \u001b[A"
     ]
    },
    {
     "name": "stdout",
     "output_type": "stream",
     "text": [
      "[pred] we study the phase behavior of a nematic liquid crystal confined between a patterned substrate and a flat substrate with strong anchoring\n",
      "[true] we study the phase behavior of a nematic liquid crystal confined between a flat substrate with strong anchoring and a patterned substrate\n",
      "\n",
      "\n",
      "\n",
      "[pred] determining the scaling relations between galaxy clusters requires large samples of uniformly observed clusters. We measure the mean observable x -\n",
      "[true] determining the scaling relations between galaxy cluster observables requires large samples of uniformly observed clusters. we measure the mean x -\n",
      "\n",
      "\n",
      "\n",
      "[pred] we show how to control spatial correlations in a degenerate quantum parametric multimode optical oscillator type I below threshold by a\n",
      "[true] we show how to control spatial quantum correlations in a multimode degenerate optical parametric oscillator type i below threshold by \n",
      "setting preds_emb\n"
     ]
    },
    {
     "name": "stderr",
     "output_type": "stream",
     "text": [
      "\n",
      "generating from val:   0%|                                                                                               | 0/4 [00:00<?, ?it/s]\u001b[A\n",
      "generating from val:  25%|█████████████████████▊                                                                 | 1/4 [00:14<00:43, 14.36s/it]\u001b[A\n",
      "generating from val:  50%|███████████████████████████████████████████▌                                           | 2/4 [00:28<00:28, 14.42s/it]\u001b[A\n",
      "generating from val:  75%|█████████████████████████████████████████████████████████████████▎                     | 3/4 [00:43<00:14, 14.55s/it]\u001b[A\n",
      "generating from val: 100%|███████████████████████████████████████████████████████████████████████████████████████| 4/4 [00:57<00:00, 14.47s/it]\u001b[A\n",
      "                                                                                                                                               \u001b[AWarning: Empty reference sentence detected; setting raw BERTScores to 0.\n",
      " 53%|██████████████████████████████████████████████████████▋                                                | 26/49 [47:14<1:07:26, 175.94s/it]"
     ]
    },
    {
     "name": "stdout",
     "output_type": "stream",
     "text": [
      "[pred] The ex-Reading defender denied fraudulent trading charges relating to the Sodje Sports Foundation - a charity to raise money for Nigerian\n",
      "[true] The ex-Reading defender denied fraudulent trading charges relating to the Sodje Sports Foundation - a charity to raise money for Nigerian\n",
      "\n",
      "\n",
      "\n",
      "[pred] Voges was forced to retire hurt after batting on 86 in June and suffering an injury to Middlesex during the County Championship. When Somerset draw\n",
      "[true] Voges was forced to retire hurt on 86 after suffering the injury while batting during the County Championship draw with Somerset on 4 June. Middlesex\n",
      "\n",
      "\n",
      "\n",
      "[pred] Seven photographs taken in the Norfolk countryside by photographer Josh Olins will appear in the June edition. In her first sitting for the magazine, a du\n",
      "[true] Seven photographs taken in the Norfolk countryside by photographer Josh Olins will appear in the June edition. In her first sitting for a magazine, the du\n",
      "setting preds_emb\n",
      "*** round 27\n"
     ]
    },
    {
     "name": "stderr",
     "output_type": "stream",
     "text": [
      "\n",
      "generating from val:   0%|                                                                                               | 0/4 [00:00<?, ?it/s]\u001b[A\n",
      "generating from val:  25%|█████████████████████▊                                                                 | 1/4 [00:15<00:46, 15.45s/it]\u001b[A\n",
      "generating from val:  50%|███████████████████████████████████████████▌                                           | 2/4 [00:30<00:30, 15.36s/it]\u001b[A\n",
      "generating from val:  75%|█████████████████████████████████████████████████████████████████▎                     | 3/4 [00:46<00:15, 15.31s/it]\u001b[A\n",
      "generating from val: 100%|███████████████████████████████████████████████████████████████████████████████████████| 4/4 [01:00<00:00, 15.06s/it]\u001b[A\n",
      "                                                                                                                                               \u001b[A"
     ]
    },
    {
     "name": "stdout",
     "output_type": "stream",
     "text": [
      "[pred] to the character of the sutures of the skull, which, like those of the infant skull, are relatively smooth and untortuous. In\n",
      "[true] to the character of the sutures of the skull which, like those of the infant skull, are relatively smooth and untortuous. In fact\n",
      "\n",
      "\n",
      "\n",
      "[pred] individual from the Southern Hemisphere, to win a Winter Olympic gold medal and was also part of the short track relay team that won Australia'\n",
      "[true] individual from the Southern Hemisphere, to win a Winter Olympic gold medal and was also part of the short track relay team that won Australia'\n",
      "\n",
      "\n",
      "\n",
      "[pred] the same rights as straight people, while 15% disagreed. Additionally, 69% agreed that they should be protected from workplace discrimination. 13% of H\n",
      "[true] the same rights as straight people, while 15% disagreed. Additionally, 69% agreed that they should be protected from workplace discrimination. 13% of H\n",
      "setting preds_emb\n"
     ]
    },
    {
     "name": "stderr",
     "output_type": "stream",
     "text": [
      "\n",
      "generating from val:   0%|                                                                                               | 0/4 [00:00<?, ?it/s]\u001b[A\n",
      "generating from val:  25%|█████████████████████▊                                                                 | 1/4 [00:14<00:44, 14.80s/it]\u001b[A\n",
      "generating from val:  50%|███████████████████████████████████████████▌                                           | 2/4 [00:30<00:30, 15.39s/it]\u001b[A\n",
      "generating from val:  75%|█████████████████████████████████████████████████████████████████▎                     | 3/4 [00:46<00:15, 15.65s/it]\u001b[A\n",
      "generating from val: 100%|███████████████████████████████████████████████████████████████████████████████████████| 4/4 [01:01<00:00, 15.33s/it]\u001b[A\n",
      "                                                                                                                                               \u001b[A"
     ]
    },
    {
     "name": "stdout",
     "output_type": "stream",
     "text": [
      "[pred] we study the phase behavior of a nematic liquid crystal confined between a flat substrate and a patterned substrate with strong anchoring\n",
      "[true] we study the phase behavior of a nematic liquid crystal confined between a flat substrate with strong anchoring and a patterned substrate\n",
      "\n",
      "\n",
      "\n",
      "[pred] determining the scaling relations between galaxy clusters requires large samples of uniformly observed clusters. we measure the mean observables x-\n",
      "[true] determining the scaling relations between galaxy cluster observables requires large samples of uniformly observed clusters. we measure the mean x -\n",
      "\n",
      "\n",
      "\n",
      "[pred] we show how to control spatial correlations in a degenerate quantum parametric multimode optical oscillator type I below threshold by a\n",
      "[true] we show how to control spatial quantum correlations in a multimode degenerate optical parametric oscillator type i below threshold by \n",
      "setting preds_emb\n"
     ]
    },
    {
     "name": "stderr",
     "output_type": "stream",
     "text": [
      "\n",
      "generating from val:   0%|                                                                                               | 0/4 [00:00<?, ?it/s]\u001b[A\n",
      "generating from val:  25%|█████████████████████▊                                                                 | 1/4 [00:15<00:46, 15.35s/it]\u001b[A\n",
      "generating from val:  50%|███████████████████████████████████████████▌                                           | 2/4 [00:30<00:30, 15.36s/it]\u001b[A\n",
      "generating from val:  75%|█████████████████████████████████████████████████████████████████▎                     | 3/4 [00:45<00:15, 15.31s/it]\u001b[A\n",
      "generating from val: 100%|███████████████████████████████████████████████████████████████████████████████████████| 4/4 [01:00<00:00, 15.01s/it]\u001b[A\n",
      "                                                                                                                                               \u001b[AWarning: Empty reference sentence detected; setting raw BERTScores to 0.\n",
      " 55%|████████████████████████████████████████████████████████▊                                              | 27/49 [50:32<1:06:58, 182.67s/it]"
     ]
    },
    {
     "name": "stdout",
     "output_type": "stream",
     "text": [
      "[pred] The ex-Reading defender denied fraudulent trading charges relating to the Sodje Sports Foundation - a charity to raise money for Nigerian\n",
      "[true] The ex-Reading defender denied fraudulent trading charges relating to the Sodje Sports Foundation - a charity to raise money for Nigerian\n",
      "\n",
      "\n",
      "\n",
      "[pred] Voges was forced to retire hurt after suffering an injury while batting for 86 with Middlesex on 16 June in the County Championship draw. Somerset\n",
      "[true] Voges was forced to retire hurt on 86 after suffering the injury while batting during the County Championship draw with Somerset on 4 June. Middlesex\n",
      "\n",
      "\n",
      "\n",
      "[pred] Seven photographs taken in the Norfolk countryside by photographer Josh Olins will appear in the June edition. In her first sitting for the magazine, a du\n",
      "[true] Seven photographs taken in the Norfolk countryside by photographer Josh Olins will appear in the June edition. In her first sitting for a magazine, the du\n",
      "setting preds_emb\n",
      "*** round 28\n"
     ]
    },
    {
     "name": "stderr",
     "output_type": "stream",
     "text": [
      "\n",
      "generating from val:   0%|                                                                                               | 0/4 [00:00<?, ?it/s]\u001b[A\n",
      "generating from val:  25%|█████████████████████▊                                                                 | 1/4 [00:15<00:47, 15.92s/it]\u001b[A\n",
      "generating from val:  50%|███████████████████████████████████████████▌                                           | 2/4 [00:31<00:31, 15.83s/it]\u001b[A\n",
      "generating from val:  75%|█████████████████████████████████████████████████████████████████▎                     | 3/4 [00:47<00:16, 16.04s/it]\u001b[A\n",
      "generating from val: 100%|███████████████████████████████████████████████████████████████████████████████████████| 4/4 [01:03<00:00, 15.73s/it]\u001b[A\n",
      "                                                                                                                                               \u001b[A"
     ]
    },
    {
     "name": "stdout",
     "output_type": "stream",
     "text": [
      "[pred] to the character of the sutures of the skull, which, like those of the infant skull, are relatively smooth and untortuous. In\n",
      "[true] to the character of the sutures of the skull which, like those of the infant skull, are relatively smooth and untortuous. In fact\n",
      "\n",
      "\n",
      "\n",
      "[pred] individual from the Southern Hemisphere, to win a Winter Olympic gold medal and was also part of the short track relay team that won Australia'\n",
      "[true] individual from the Southern Hemisphere, to win a Winter Olympic gold medal and was also part of the short track relay team that won Australia'\n",
      "\n",
      "\n",
      "\n",
      "[pred] the same rights as straight people, while 15% disagreed. Additionally, 69% agreed that they should be protected from workplace discrimination. 13% of H\n",
      "[true] the same rights as straight people, while 15% disagreed. Additionally, 69% agreed that they should be protected from workplace discrimination. 13% of H\n",
      "setting preds_emb\n"
     ]
    },
    {
     "name": "stderr",
     "output_type": "stream",
     "text": [
      "\n",
      "generating from val:   0%|                                                                                               | 0/4 [00:00<?, ?it/s]\u001b[A\n",
      "generating from val:  25%|█████████████████████▊                                                                 | 1/4 [00:15<00:46, 15.54s/it]\u001b[A\n",
      "generating from val:  50%|███████████████████████████████████████████▌                                           | 2/4 [00:31<00:31, 15.55s/it]\u001b[A\n",
      "generating from val:  75%|█████████████████████████████████████████████████████████████████▎                     | 3/4 [00:46<00:15, 15.52s/it]\u001b[A\n",
      "generating from val: 100%|███████████████████████████████████████████████████████████████████████████████████████| 4/4 [01:01<00:00, 15.45s/it]\u001b[A\n",
      "                                                                                                                                               \u001b[A"
     ]
    },
    {
     "name": "stdout",
     "output_type": "stream",
     "text": [
      "[pred] we study the phase behavior of a nematic liquid crystal confined between a patterned substrate and a flat substrate with strong anchoring\n",
      "[true] we study the phase behavior of a nematic liquid crystal confined between a flat substrate with strong anchoring and a patterned substrate\n",
      "\n",
      "\n",
      "\n",
      "[pred] determining the scaling relations between galaxy clusters requires large samples of uniformly observed clusters. We measure the mean observable x -\n",
      "[true] determining the scaling relations between galaxy cluster observables requires large samples of uniformly observed clusters. we measure the mean x -\n",
      "\n",
      "\n",
      "\n",
      "[pred] we show how to control spatial correlations in a degenerate quantum parametric multimode optical oscillator type I below threshold by a\n",
      "[true] we show how to control spatial quantum correlations in a multimode degenerate optical parametric oscillator type i below threshold by \n",
      "setting preds_emb\n"
     ]
    },
    {
     "name": "stderr",
     "output_type": "stream",
     "text": [
      "\n",
      "generating from val:   0%|                                                                                               | 0/4 [00:00<?, ?it/s]\u001b[A\n",
      "generating from val:  25%|█████████████████████▊                                                                 | 1/4 [00:15<00:46, 15.50s/it]\u001b[A\n",
      "generating from val:  50%|███████████████████████████████████████████▌                                           | 2/4 [00:30<00:30, 15.45s/it]\u001b[A\n",
      "generating from val:  75%|█████████████████████████████████████████████████████████████████▎                     | 3/4 [00:46<00:15, 15.50s/it]\u001b[A\n",
      "generating from val: 100%|███████████████████████████████████████████████████████████████████████████████████████| 4/4 [01:01<00:00, 15.21s/it]\u001b[A\n",
      "                                                                                                                                               \u001b[AWarning: Empty reference sentence detected; setting raw BERTScores to 0.\n",
      " 57%|██████████████████████████████████████████████████████████▊                                            | 28/49 [53:54<1:05:59, 188.57s/it]"
     ]
    },
    {
     "name": "stdout",
     "output_type": "stream",
     "text": [
      "[pred] The ex-Reading defender denied fraudulent trading charges relating to the Sodje Sports Foundation - a charity to raise money for Nigerian\n",
      "[true] The ex-Reading defender denied fraudulent trading charges relating to the Sodje Sports Foundation - a charity to raise money for Nigerian\n",
      "\n",
      "\n",
      "\n",
      "[pred] Voges was forced to retire hurt after batting for 89 on 16 June in the County Championship draw with Middlesex. After suffering injury. Somerset\n",
      "[true] Voges was forced to retire hurt on 86 after suffering the injury while batting during the County Championship draw with Somerset on 4 June. Middlesex\n",
      "\n",
      "\n",
      "\n",
      "[pred] Seven photographs taken in the Norfolk countryside by photographer Josh Olins will appear in the June edition. In her first sitting for the magazine, a du\n",
      "[true] Seven photographs taken in the Norfolk countryside by photographer Josh Olins will appear in the June edition. In her first sitting for a magazine, the du\n",
      "setting preds_emb\n",
      "*** round 29\n"
     ]
    },
    {
     "name": "stderr",
     "output_type": "stream",
     "text": [
      "\n",
      "generating from val:   0%|                                                                                               | 0/4 [00:00<?, ?it/s]\u001b[A\n",
      "generating from val:  25%|█████████████████████▊                                                                 | 1/4 [00:15<00:47, 15.81s/it]\u001b[A\n",
      "generating from val:  50%|███████████████████████████████████████████▌                                           | 2/4 [00:31<00:32, 16.01s/it]\u001b[A\n",
      "generating from val:  75%|█████████████████████████████████████████████████████████████████▎                     | 3/4 [00:48<00:16, 16.05s/it]\u001b[A\n",
      "generating from val: 100%|███████████████████████████████████████████████████████████████████████████████████████| 4/4 [01:03<00:00, 15.91s/it]\u001b[A\n",
      "                                                                                                                                               \u001b[A"
     ]
    },
    {
     "name": "stdout",
     "output_type": "stream",
     "text": [
      "[pred] to the character of the sutures of the skull, which, like those of the infant skull, are relatively smooth and untortuous. In\n",
      "[true] to the character of the sutures of the skull which, like those of the infant skull, are relatively smooth and untortuous. In fact\n",
      "\n",
      "\n",
      "\n",
      "[pred] individual from the Southern Hemisphere, to win a Winter Olympic gold medal and was also part of the short track relay team that won Australia'\n",
      "[true] individual from the Southern Hemisphere, to win a Winter Olympic gold medal and was also part of the short track relay team that won Australia'\n",
      "\n",
      "\n",
      "\n",
      "[pred] the same rights as straight people, while 15% disagreed. Additionally, 69% agreed that they should be protected from workplace discrimination. 13% of H\n",
      "[true] the same rights as straight people, while 15% disagreed. Additionally, 69% agreed that they should be protected from workplace discrimination. 13% of H\n",
      "setting preds_emb\n"
     ]
    },
    {
     "name": "stderr",
     "output_type": "stream",
     "text": [
      "\n",
      "generating from val:   0%|                                                                                               | 0/4 [00:00<?, ?it/s]\u001b[A\n",
      "generating from val:  25%|█████████████████████▊                                                                 | 1/4 [00:16<00:48, 16.05s/it]\u001b[A\n",
      "generating from val:  50%|███████████████████████████████████████████▌                                           | 2/4 [00:31<00:31, 15.93s/it]\u001b[A\n",
      "generating from val:  75%|█████████████████████████████████████████████████████████████████▎                     | 3/4 [00:48<00:16, 16.06s/it]\u001b[A\n",
      "generating from val: 100%|███████████████████████████████████████████████████████████████████████████████████████| 4/4 [01:03<00:00, 15.99s/it]\u001b[A\n",
      "                                                                                                                                               \u001b[A"
     ]
    },
    {
     "name": "stdout",
     "output_type": "stream",
     "text": [
      "[pred] we study the phase behavior of a nematic liquid crystal confined between a flat substrate and a patterned substrate with strong anchoring\n",
      "[true] we study the phase behavior of a nematic liquid crystal confined between a flat substrate with strong anchoring and a patterned substrate\n",
      "\n",
      "\n",
      "\n",
      "[pred] determining the scaling relations between galaxy clusters requires large samples of uniformly observed clusters. we measure the mean observables x-\n",
      "[true] determining the scaling relations between galaxy cluster observables requires large samples of uniformly observed clusters. we measure the mean x -\n",
      "\n",
      "\n",
      "\n",
      "[pred] we show how to control spatial correlations in a degenerate quantum parametric multimode optical oscillator type I below threshold by a\n",
      "[true] we show how to control spatial quantum correlations in a multimode degenerate optical parametric oscillator type i below threshold by \n",
      "setting preds_emb\n"
     ]
    },
    {
     "name": "stderr",
     "output_type": "stream",
     "text": [
      "\n",
      "generating from val:   0%|                                                                                               | 0/4 [00:00<?, ?it/s]\u001b[A\n",
      "generating from val:  25%|█████████████████████▊                                                                 | 1/4 [00:15<00:47, 15.87s/it]\u001b[A\n",
      "generating from val:  50%|███████████████████████████████████████████▌                                           | 2/4 [00:32<00:32, 16.09s/it]\u001b[A\n",
      "generating from val:  75%|█████████████████████████████████████████████████████████████████▎                     | 3/4 [00:48<00:16, 16.30s/it]\u001b[A\n",
      "generating from val: 100%|███████████████████████████████████████████████████████████████████████████████████████| 4/4 [01:04<00:00, 16.06s/it]\u001b[A\n",
      "                                                                                                                                               \u001b[AWarning: Empty reference sentence detected; setting raw BERTScores to 0.\n",
      " 59%|████████████████████████████████████████████████████████████▉                                          | 29/49 [57:22<1:04:44, 194.23s/it]"
     ]
    },
    {
     "name": "stdout",
     "output_type": "stream",
     "text": [
      "[pred] The ex-Reading defender denied fraudulent trading charges relating to the Sodje Sports Foundation - a charity to raise money for Nigerian\n",
      "[true] The ex-Reading defender denied fraudulent trading charges relating to the Sodje Sports Foundation - a charity to raise money for Nigerian\n",
      "\n",
      "\n",
      "\n",
      "[pred] Voges was forced to retire hurt after batting on 16 June while suffering a 86 injury in the County Championship draw with Somerset. Middlesex\n",
      "[true] Voges was forced to retire hurt on 86 after suffering the injury while batting during the County Championship draw with Somerset on 4 June. Middlesex\n",
      "\n",
      "\n",
      "\n",
      "[pred] Seven photographs taken in the Norfolk countryside by photographer Josh Olins will appear in the June edition. In her first sitting for the magazine, a du\n",
      "[true] Seven photographs taken in the Norfolk countryside by photographer Josh Olins will appear in the June edition. In her first sitting for a magazine, the du\n",
      "setting preds_emb\n",
      "*** round 30\n"
     ]
    },
    {
     "name": "stderr",
     "output_type": "stream",
     "text": [
      "\n",
      "generating from val:   0%|                                                                                               | 0/4 [00:00<?, ?it/s]\u001b[A\n",
      "generating from val:  25%|█████████████████████▊                                                                 | 1/4 [00:16<00:50, 16.83s/it]\u001b[A\n",
      "generating from val:  50%|███████████████████████████████████████████▌                                           | 2/4 [00:33<00:33, 16.92s/it]\u001b[A\n",
      "generating from val:  75%|█████████████████████████████████████████████████████████████████▎                     | 3/4 [00:50<00:16, 16.86s/it]\u001b[A\n",
      "generating from val: 100%|███████████████████████████████████████████████████████████████████████████████████████| 4/4 [01:07<00:00, 16.71s/it]\u001b[A\n",
      "                                                                                                                                               \u001b[A"
     ]
    },
    {
     "name": "stdout",
     "output_type": "stream",
     "text": [
      "[pred] to the character of the sutures of the skull, which, like those of the infant skull, are relatively smooth and untortuous. In\n",
      "[true] to the character of the sutures of the skull which, like those of the infant skull, are relatively smooth and untortuous. In fact\n",
      "\n",
      "\n",
      "\n",
      "[pred] individual from the Southern Hemisphere, to win a Winter Olympic gold medal and was also part of the short track relay team that won Australia'\n",
      "[true] individual from the Southern Hemisphere, to win a Winter Olympic gold medal and was also part of the short track relay team that won Australia'\n",
      "\n",
      "\n",
      "\n",
      "[pred] the same rights as straight people, while 15% disagreed. Additionally, 69% agreed that they should be protected from workplace discrimination. 13% of H\n",
      "[true] the same rights as straight people, while 15% disagreed. Additionally, 69% agreed that they should be protected from workplace discrimination. 13% of H\n",
      "setting preds_emb\n"
     ]
    },
    {
     "name": "stderr",
     "output_type": "stream",
     "text": [
      "\n",
      "generating from val:   0%|                                                                                               | 0/4 [00:00<?, ?it/s]\u001b[A\n",
      "generating from val:  25%|█████████████████████▊                                                                 | 1/4 [00:17<00:51, 17.02s/it]\u001b[A\n",
      "generating from val:  50%|███████████████████████████████████████████▌                                           | 2/4 [00:33<00:33, 16.95s/it]\u001b[A\n",
      "generating from val:  75%|█████████████████████████████████████████████████████████████████▎                     | 3/4 [00:50<00:16, 16.91s/it]\u001b[A\n",
      "generating from val: 100%|███████████████████████████████████████████████████████████████████████████████████████| 4/4 [01:06<00:00, 16.58s/it]\u001b[A\n",
      "                                                                                                                                               \u001b[A"
     ]
    },
    {
     "name": "stdout",
     "output_type": "stream",
     "text": [
      "[pred] we study the phase behavior of a nematic liquid crystal confined between a patterned substrate and a flat substrate with strong anchoring\n",
      "[true] we study the phase behavior of a nematic liquid crystal confined between a flat substrate with strong anchoring and a patterned substrate\n",
      "\n",
      "\n",
      "\n",
      "[pred] determining the scaling relations between galaxy clusters requires large samples of uniformly observed clusters. We measure the mean observable x -\n",
      "[true] determining the scaling relations between galaxy cluster observables requires large samples of uniformly observed clusters. we measure the mean x -\n",
      "\n",
      "\n",
      "\n",
      "[pred] we show how to control spatial correlations in a degenerate quantum parametric multimode optical oscillator type I below threshold by a\n",
      "[true] we show how to control spatial quantum correlations in a multimode degenerate optical parametric oscillator type i below threshold by \n",
      "setting preds_emb\n"
     ]
    },
    {
     "name": "stderr",
     "output_type": "stream",
     "text": [
      "\n",
      "generating from val:   0%|                                                                                               | 0/4 [00:00<?, ?it/s]\u001b[A\n",
      "generating from val:  25%|█████████████████████▊                                                                 | 1/4 [00:17<00:51, 17.33s/it]\u001b[A\n",
      "generating from val:  50%|███████████████████████████████████████████▌                                           | 2/4 [00:34<00:34, 17.34s/it]\u001b[A\n",
      "generating from val:  75%|█████████████████████████████████████████████████████████████████▎                     | 3/4 [00:51<00:17, 17.25s/it]\u001b[A\n",
      "generating from val: 100%|███████████████████████████████████████████████████████████████████████████████████████| 4/4 [01:07<00:00, 16.70s/it]\u001b[A\n",
      "                                                                                                                                               \u001b[AWarning: Empty reference sentence detected; setting raw BERTScores to 0.\n",
      " 61%|█████████████████████████████████████████████████████████████▊                                       | 30/49 [1:00:58<1:03:39, 201.00s/it]"
     ]
    },
    {
     "name": "stdout",
     "output_type": "stream",
     "text": [
      "[pred] The ex-Reading defender denied fraudulent trading charges relating to the Sodje Sports Foundation - a charity to raise money for Nigerian\n",
      "[true] The ex-Reading defender denied fraudulent trading charges relating to the Sodje Sports Foundation - a charity to raise money for Nigerian\n",
      "\n",
      "\n",
      "\n",
      "[pred] Voges was forced to retire hurt after batting for 86 on 4 June while suffering an injury in the County Championship draw with Somerset. Middlesex\n",
      "[true] Voges was forced to retire hurt on 86 after suffering the injury while batting during the County Championship draw with Somerset on 4 June. Middlesex\n",
      "\n",
      "\n",
      "\n",
      "[pred] Seven photographs taken in the Norfolk countryside by photographer Josh Olins will appear in the June edition. In her first sitting for the magazine, a du\n",
      "[true] Seven photographs taken in the Norfolk countryside by photographer Josh Olins will appear in the June edition. In her first sitting for a magazine, the du\n",
      "setting preds_emb\n",
      "*** round 31\n"
     ]
    },
    {
     "name": "stderr",
     "output_type": "stream",
     "text": [
      "\n",
      "generating from val:   0%|                                                                                               | 0/4 [00:00<?, ?it/s]\u001b[A\n",
      "generating from val:  25%|█████████████████████▊                                                                 | 1/4 [00:17<00:51, 17.16s/it]\u001b[A\n",
      "generating from val:  50%|███████████████████████████████████████████▌                                           | 2/4 [00:34<00:34, 17.33s/it]\u001b[A\n",
      "generating from val:  75%|█████████████████████████████████████████████████████████████████▎                     | 3/4 [00:52<00:17, 17.42s/it]\u001b[A\n",
      "generating from val: 100%|███████████████████████████████████████████████████████████████████████████████████████| 4/4 [01:09<00:00, 17.24s/it]\u001b[A\n",
      "                                                                                                                                               \u001b[A"
     ]
    },
    {
     "name": "stdout",
     "output_type": "stream",
     "text": [
      "[pred] to the character of the sutures of the skull, which, like those of the infant skull, are relatively smooth and untortuous. In\n",
      "[true] to the character of the sutures of the skull which, like those of the infant skull, are relatively smooth and untortuous. In fact\n",
      "\n",
      "\n",
      "\n",
      "[pred] individual from the Southern Hemisphere, to win a Winter Olympic gold medal and was also part of the short track relay team that won Australia'\n",
      "[true] individual from the Southern Hemisphere, to win a Winter Olympic gold medal and was also part of the short track relay team that won Australia'\n",
      "\n",
      "\n",
      "\n",
      "[pred] the same rights as straight people, while 15% disagreed. Additionally, 69% agreed that they should be protected from workplace discrimination. 13% of H\n",
      "[true] the same rights as straight people, while 15% disagreed. Additionally, 69% agreed that they should be protected from workplace discrimination. 13% of H\n",
      "setting preds_emb\n"
     ]
    },
    {
     "name": "stderr",
     "output_type": "stream",
     "text": [
      "\n",
      "generating from val:   0%|                                                                                               | 0/4 [00:00<?, ?it/s]\u001b[A\n",
      "generating from val:  25%|█████████████████████▊                                                                 | 1/4 [00:17<00:52, 17.41s/it]\u001b[A\n",
      "generating from val:  50%|███████████████████████████████████████████▌                                           | 2/4 [00:34<00:34, 17.50s/it]\u001b[A\n",
      "generating from val:  75%|█████████████████████████████████████████████████████████████████▎                     | 3/4 [00:52<00:17, 17.44s/it]\u001b[A\n",
      "generating from val: 100%|███████████████████████████████████████████████████████████████████████████████████████| 4/4 [01:09<00:00, 17.18s/it]\u001b[A\n",
      "                                                                                                                                               \u001b[A"
     ]
    },
    {
     "name": "stdout",
     "output_type": "stream",
     "text": [
      "[pred] we study the phase behavior of a nematic liquid crystal confined between a flat substrate and a patterned substrate with strong anchoring\n",
      "[true] we study the phase behavior of a nematic liquid crystal confined between a flat substrate with strong anchoring and a patterned substrate\n",
      "\n",
      "\n",
      "\n",
      "[pred] determining the scaling relations between galaxy clusters requires large samples of uniformly observed clusters. we measure the mean observables x-\n",
      "[true] determining the scaling relations between galaxy cluster observables requires large samples of uniformly observed clusters. we measure the mean x -\n",
      "\n",
      "\n",
      "\n",
      "[pred] we show how to control spatial correlations in a degenerate quantum parametric multimode optical oscillator type I below threshold by a\n",
      "[true] we show how to control spatial quantum correlations in a multimode degenerate optical parametric oscillator type i below threshold by \n",
      "setting preds_emb\n"
     ]
    },
    {
     "name": "stderr",
     "output_type": "stream",
     "text": [
      "\n",
      "generating from val:   0%|                                                                                               | 0/4 [00:00<?, ?it/s]\u001b[A\n",
      "generating from val:  25%|█████████████████████▊                                                                 | 1/4 [00:17<00:51, 17.23s/it]\u001b[A\n",
      "generating from val:  50%|███████████████████████████████████████████▌                                           | 2/4 [00:35<00:35, 17.61s/it]\u001b[A\n",
      "generating from val:  75%|█████████████████████████████████████████████████████████████████▎                     | 3/4 [00:52<00:17, 17.37s/it]\u001b[A\n",
      "generating from val: 100%|███████████████████████████████████████████████████████████████████████████████████████| 4/4 [01:08<00:00, 17.06s/it]\u001b[A\n",
      "                                                                                                                                               \u001b[AWarning: Empty reference sentence detected; setting raw BERTScores to 0.\n",
      " 63%|███████████████████████████████████████████████████████████████▉                                     | 31/49 [1:04:40<1:02:10, 207.23s/it]"
     ]
    },
    {
     "name": "stdout",
     "output_type": "stream",
     "text": [
      "[pred] The ex-Reading defender denied fraudulent trading charges relating to the Sodje Sports Foundation - a charity to raise money for Nigerian\n",
      "[true] The ex-Reading defender denied fraudulent trading charges relating to the Sodje Sports Foundation - a charity to raise money for Nigerian\n",
      "\n",
      "\n",
      "\n",
      "[pred] Voges was forced to retire hurt after batting for 86 on 4 June while suffering the injury in the County Championship draw with Somerset. Middlesex\n",
      "[true] Voges was forced to retire hurt on 86 after suffering the injury while batting during the County Championship draw with Somerset on 4 June. Middlesex\n",
      "\n",
      "\n",
      "\n",
      "[pred] Seven photographs taken in the Norfolk countryside by photographer Josh Olins will appear in the June edition. In her first sitting for the magazine, a du\n",
      "[true] Seven photographs taken in the Norfolk countryside by photographer Josh Olins will appear in the June edition. In her first sitting for a magazine, the du\n",
      "setting preds_emb\n",
      "*** round 32\n"
     ]
    },
    {
     "name": "stderr",
     "output_type": "stream",
     "text": [
      "\n",
      "generating from val:   0%|                                                                                               | 0/4 [00:00<?, ?it/s]\u001b[A\n",
      "generating from val:  25%|█████████████████████▊                                                                 | 1/4 [00:17<00:52, 17.54s/it]\u001b[A\n",
      "generating from val:  75%|█████████████████████████████████████████████████████████████████▎                     | 3/4 [00:52<00:17, 17.62s/it]\u001b[A\n",
      "generating from val: 100%|███████████████████████████████████████████████████████████████████████████████████████| 4/4 [01:09<00:00, 17.38s/it]\u001b[A\n",
      "                                                                                                                                               \u001b[A"
     ]
    },
    {
     "name": "stdout",
     "output_type": "stream",
     "text": [
      "[pred] we study the phase behavior of a nematic liquid crystal confined between a patterned substrate and a flat substrate with strong anchoring\n",
      "[true] we study the phase behavior of a nematic liquid crystal confined between a flat substrate with strong anchoring and a patterned substrate\n",
      "\n",
      "\n",
      "\n",
      "[pred] determining the scaling relations between galaxy clusters requires large samples of uniformly observed clusters. We measure the mean observable x -\n",
      "[true] determining the scaling relations between galaxy cluster observables requires large samples of uniformly observed clusters. we measure the mean x -\n",
      "\n",
      "\n",
      "\n",
      "[pred] we show how to control spatial correlations in a degenerate quantum parametric multimode optical oscillator type I below threshold by a\n",
      "[true] we show how to control spatial quantum correlations in a multimode degenerate optical parametric oscillator type i below threshold by \n",
      "setting preds_emb\n"
     ]
    },
    {
     "name": "stderr",
     "output_type": "stream",
     "text": [
      "\n",
      "generating from val:   0%|                                                                                               | 0/4 [00:00<?, ?it/s]\u001b[A\n",
      "generating from val:  25%|█████████████████████▊                                                                 | 1/4 [00:17<00:52, 17.60s/it]\u001b[A\n",
      "generating from val:  50%|███████████████████████████████████████████▌                                           | 2/4 [00:35<00:35, 17.67s/it]\u001b[A\n",
      "generating from val:  75%|█████████████████████████████████████████████████████████████████▎                     | 3/4 [00:53<00:17, 17.77s/it]\u001b[A\n",
      "generating from val: 100%|███████████████████████████████████████████████████████████████████████████████████████| 4/4 [01:10<00:00, 17.45s/it]\u001b[A\n",
      "                                                                                                                                               \u001b[AWarning: Empty reference sentence detected; setting raw BERTScores to 0.\n",
      " 65%|█████████████████████████████████████████████████████████████████▉                                   | 32/49 [1:08:25<1:00:10, 212.38s/it]"
     ]
    },
    {
     "name": "stdout",
     "output_type": "stream",
     "text": [
      "[pred] The ex-Reading defender denied fraudulent trading charges relating to the Sodje Sports Foundation - a charity to raise money for Nigerian\n",
      "[true] The ex-Reading defender denied fraudulent trading charges relating to the Sodje Sports Foundation - a charity to raise money for Nigerian\n",
      "\n",
      "\n",
      "\n",
      "[pred] Voges was forced to retire hurt after batting for 86 on 4 June while suffering the injury during the County Championship draw with Somerset. Middlesex\n",
      "[true] Voges was forced to retire hurt on 86 after suffering the injury while batting during the County Championship draw with Somerset on 4 June. Middlesex\n",
      "\n",
      "\n",
      "\n",
      "[pred] Seven photographs taken in the Norfolk countryside by photographer Josh Olins will appear in the June edition. In her first sitting for the magazine, a du\n",
      "[true] Seven photographs taken in the Norfolk countryside by photographer Josh Olins will appear in the June edition. In her first sitting for a magazine, the du\n",
      "setting preds_emb\n",
      "*** round 33\n"
     ]
    },
    {
     "name": "stderr",
     "output_type": "stream",
     "text": [
      "\n",
      "generating from val:   0%|                                                                                               | 0/4 [00:00<?, ?it/s]\u001b[A\n",
      "generating from val:  25%|█████████████████████▊                                                                 | 1/4 [00:18<00:55, 18.47s/it]\u001b[A\n",
      "generating from val:  50%|███████████████████████████████████████████▌                                           | 2/4 [00:36<00:36, 18.45s/it]\u001b[A\n",
      "generating from val:  75%|█████████████████████████████████████████████████████████████████▎                     | 3/4 [00:55<00:18, 18.56s/it]\u001b[A\n",
      "generating from val: 100%|███████████████████████████████████████████████████████████████████████████████████████| 4/4 [01:13<00:00, 18.28s/it]\u001b[A\n",
      "                                                                                                                                               \u001b[A"
     ]
    },
    {
     "name": "stdout",
     "output_type": "stream",
     "text": [
      "[pred] to the character of the sutures of the skull, which, like those of the infant skull, are relatively smooth and untortuous. In\n",
      "[true] to the character of the sutures of the skull which, like those of the infant skull, are relatively smooth and untortuous. In fact\n",
      "\n",
      "\n",
      "\n",
      "[pred] individual from the Southern Hemisphere, to win a Winter Olympic gold medal and was also part of the short track relay team that won Australia'\n",
      "[true] individual from the Southern Hemisphere, to win a Winter Olympic gold medal and was also part of the short track relay team that won Australia'\n",
      "\n",
      "\n",
      "\n",
      "[pred] the same rights as straight people, while 15% disagreed. Additionally, 69% agreed that they should be protected from workplace discrimination. 13% of H\n",
      "[true] the same rights as straight people, while 15% disagreed. Additionally, 69% agreed that they should be protected from workplace discrimination. 13% of H\n",
      "setting preds_emb\n"
     ]
    },
    {
     "name": "stderr",
     "output_type": "stream",
     "text": [
      "\n",
      "generating from val:   0%|                                                                                               | 0/4 [00:00<?, ?it/s]\u001b[A\n",
      "generating from val:  25%|█████████████████████▊                                                                 | 1/4 [00:18<00:56, 18.79s/it]\u001b[A\n",
      "generating from val:  50%|███████████████████████████████████████████▌                                           | 2/4 [00:37<00:37, 18.59s/it]\u001b[A\n",
      "generating from val:  75%|█████████████████████████████████████████████████████████████████▎                     | 3/4 [00:55<00:18, 18.32s/it]\u001b[A\n",
      "generating from val: 100%|███████████████████████████████████████████████████████████████████████████████████████| 4/4 [01:12<00:00, 17.91s/it]\u001b[A\n",
      "                                                                                                                                               \u001b[A"
     ]
    },
    {
     "name": "stdout",
     "output_type": "stream",
     "text": [
      "[pred] we study the phase behavior of a nematic liquid crystal confined between a flat substrate and a patterned substrate with strong anchoring\n",
      "[true] we study the phase behavior of a nematic liquid crystal confined between a flat substrate with strong anchoring and a patterned substrate\n",
      "\n",
      "\n",
      "\n",
      "[pred] determining the scaling relations between galaxy clusters requires large samples of uniformly observed clusters. we measure the mean observables x-\n",
      "[true] determining the scaling relations between galaxy cluster observables requires large samples of uniformly observed clusters. we measure the mean x -\n",
      "\n",
      "\n",
      "\n",
      "[pred] we show how to control spatial correlations in a degenerate quantum parametric multimode optical oscillator type I below threshold by a\n",
      "[true] we show how to control spatial quantum correlations in a multimode degenerate optical parametric oscillator type i below threshold by \n",
      "setting preds_emb\n"
     ]
    },
    {
     "name": "stderr",
     "output_type": "stream",
     "text": [
      "\n",
      "generating from val:   0%|                                                                                               | 0/4 [00:00<?, ?it/s]\u001b[A\n",
      "generating from val:  25%|█████████████████████▊                                                                 | 1/4 [00:18<00:54, 18.16s/it]\u001b[A\n",
      "generating from val:  50%|███████████████████████████████████████████▌                                           | 2/4 [00:36<00:36, 18.03s/it]\u001b[A\n",
      "generating from val:  75%|█████████████████████████████████████████████████████████████████▎                     | 3/4 [00:54<00:18, 18.21s/it]\u001b[A\n",
      "generating from val: 100%|███████████████████████████████████████████████████████████████████████████████████████| 4/4 [01:11<00:00, 17.90s/it]\u001b[A\n",
      "                                                                                                                                               \u001b[AWarning: Empty reference sentence detected; setting raw BERTScores to 0.\n",
      " 67%|█████████████████████████████████████████████████████████████████████▎                                 | 33/49 [1:12:18<58:19, 218.74s/it]"
     ]
    },
    {
     "name": "stdout",
     "output_type": "stream",
     "text": [
      "[pred] The ex-Reading defender denied fraudulent trading charges relating to the Sodje Sports Foundation - a charity to raise money for Nigerian\n",
      "[true] The ex-Reading defender denied fraudulent trading charges relating to the Sodje Sports Foundation - a charity to raise money for Nigerian\n",
      "\n",
      "\n",
      "\n",
      "[pred] Voges was forced to retire hurt after batting for 86 on 4 June while suffering the injury in the County Championship draw with Somerset. Middlesex\n",
      "[true] Voges was forced to retire hurt on 86 after suffering the injury while batting during the County Championship draw with Somerset on 4 June. Middlesex\n",
      "\n",
      "\n",
      "\n",
      "[pred] Seven photographs taken in the Norfolk countryside by photographer Josh Olins will appear in the June edition. In her first sitting for the magazine, a du\n",
      "[true] Seven photographs taken in the Norfolk countryside by photographer Josh Olins will appear in the June edition. In her first sitting for a magazine, the du\n",
      "setting preds_emb\n",
      "*** round 34\n"
     ]
    },
    {
     "name": "stderr",
     "output_type": "stream",
     "text": [
      "\n",
      "generating from val:   0%|                                                                                               | 0/4 [00:00<?, ?it/s]\u001b[A\n",
      "generating from val:  25%|█████████████████████▊                                                                 | 1/4 [00:18<00:56, 18.80s/it]\u001b[A\n",
      "generating from val:  50%|███████████████████████████████████████████▌                                           | 2/4 [00:37<00:37, 18.78s/it]\u001b[A\n",
      "generating from val:  75%|█████████████████████████████████████████████████████████████████▎                     | 3/4 [00:56<00:18, 18.73s/it]\u001b[A\n",
      "generating from val: 100%|███████████████████████████████████████████████████████████████████████████████████████| 4/4 [01:14<00:00, 18.43s/it]\u001b[A\n",
      "                                                                                                                                               \u001b[A"
     ]
    },
    {
     "name": "stdout",
     "output_type": "stream",
     "text": [
      "[pred] to the character of the sutures of the skull, which, like those of the infant skull, are relatively smooth and untortuous. In\n",
      "[true] to the character of the sutures of the skull which, like those of the infant skull, are relatively smooth and untortuous. In fact\n",
      "\n",
      "\n",
      "\n",
      "[pred] individual from the Southern Hemisphere, to win a Winter Olympic gold medal and was also part of the short track relay team that won Australia'\n",
      "[true] individual from the Southern Hemisphere, to win a Winter Olympic gold medal and was also part of the short track relay team that won Australia'\n",
      "\n",
      "\n",
      "\n",
      "[pred] the same rights as straight people, while 15% disagreed. Additionally, 69% agreed that they should be protected from workplace discrimination. 13% of H\n",
      "[true] the same rights as straight people, while 15% disagreed. Additionally, 69% agreed that they should be protected from workplace discrimination. 13% of H\n",
      "setting preds_emb\n"
     ]
    },
    {
     "name": "stderr",
     "output_type": "stream",
     "text": [
      "\n",
      "generating from val:   0%|                                                                                               | 0/4 [00:00<?, ?it/s]\u001b[A\n",
      "generating from val:  25%|█████████████████████▊                                                                 | 1/4 [00:18<00:56, 18.81s/it]\u001b[A\n",
      "generating from val:  50%|███████████████████████████████████████████▌                                           | 2/4 [00:37<00:37, 18.73s/it]\u001b[A\n",
      "generating from val:  75%|█████████████████████████████████████████████████████████████████▎                     | 3/4 [00:56<00:18, 18.87s/it]\u001b[A\n",
      "generating from val: 100%|███████████████████████████████████████████████████████████████████████████████████████| 4/4 [01:14<00:00, 18.64s/it]\u001b[A\n",
      "                                                                                                                                               \u001b[A"
     ]
    },
    {
     "name": "stdout",
     "output_type": "stream",
     "text": [
      "[pred] we study the phase behavior of a nematic liquid crystal confined between a patterned substrate and a flat substrate with strong anchoring\n",
      "[true] we study the phase behavior of a nematic liquid crystal confined between a flat substrate with strong anchoring and a patterned substrate\n",
      "\n",
      "\n",
      "\n",
      "[pred] determining the scaling relations between galaxy clusters requires large samples of uniformly observed clusters. We measure the mean observable x -\n",
      "[true] determining the scaling relations between galaxy cluster observables requires large samples of uniformly observed clusters. we measure the mean x -\n",
      "\n",
      "\n",
      "\n",
      "[pred] we show how to control spatial correlations in a degenerate quantum parametric multimode optical oscillator type I below threshold by a\n",
      "[true] we show how to control spatial quantum correlations in a multimode degenerate optical parametric oscillator type i below threshold by \n",
      "setting preds_emb\n"
     ]
    },
    {
     "name": "stderr",
     "output_type": "stream",
     "text": [
      "\n",
      "generating from val:   0%|                                                                                               | 0/4 [00:00<?, ?it/s]\u001b[A\n",
      "generating from val:  25%|█████████████████████▊                                                                 | 1/4 [00:18<00:56, 18.99s/it]\u001b[A\n",
      "generating from val:  50%|███████████████████████████████████████████▌                                           | 2/4 [00:37<00:37, 18.95s/it]\u001b[A\n",
      "generating from val:  75%|█████████████████████████████████████████████████████████████████▎                     | 3/4 [00:56<00:18, 18.69s/it]\u001b[A\n",
      "generating from val: 100%|███████████████████████████████████████████████████████████████████████████████████████| 4/4 [01:13<00:00, 18.19s/it]\u001b[A\n",
      "                                                                                                                                               \u001b[AWarning: Empty reference sentence detected; setting raw BERTScores to 0.\n",
      " 69%|███████████████████████████████████████████████████████████████████████▍                               | 34/49 [1:16:17<56:09, 224.62s/it]"
     ]
    },
    {
     "name": "stdout",
     "output_type": "stream",
     "text": [
      "[pred] The ex-Reading defender denied fraudulent trading charges relating to the Sodje Sports Foundation - a charity to raise money for Nigerian\n",
      "[true] The ex-Reading defender denied fraudulent trading charges relating to the Sodje Sports Foundation - a charity to raise money for Nigerian\n",
      "\n",
      "\n",
      "\n",
      "[pred] Voges was forced to retire hurt after batting for 86 on 4 June while suffering the injury during the County Championship draw with Somerset. Middlesex\n",
      "[true] Voges was forced to retire hurt on 86 after suffering the injury while batting during the County Championship draw with Somerset on 4 June. Middlesex\n",
      "\n",
      "\n",
      "\n",
      "[pred] Seven photographs taken in the Norfolk countryside by photographer Josh Olins will appear in the June edition. In her first sitting for the magazine, a du\n",
      "[true] Seven photographs taken in the Norfolk countryside by photographer Josh Olins will appear in the June edition. In her first sitting for a magazine, the du\n",
      "setting preds_emb\n",
      "*** round 35\n"
     ]
    },
    {
     "name": "stderr",
     "output_type": "stream",
     "text": [
      "\n",
      "generating from val:   0%|                                                                                               | 0/4 [00:00<?, ?it/s]\u001b[A\n",
      "generating from val:  25%|█████████████████████▊                                                                 | 1/4 [00:19<00:57, 19.33s/it]\u001b[A\n",
      "generating from val:  50%|███████████████████████████████████████████▌                                           | 2/4 [00:38<00:38, 19.41s/it]\u001b[A\n",
      "generating from val:  75%|█████████████████████████████████████████████████████████████████▎                     | 3/4 [00:58<00:19, 19.46s/it]\u001b[A\n",
      "generating from val: 100%|███████████████████████████████████████████████████████████████████████████████████████| 4/4 [01:17<00:00, 19.16s/it]\u001b[A\n",
      "                                                                                                                                               \u001b[A"
     ]
    },
    {
     "name": "stdout",
     "output_type": "stream",
     "text": [
      "[pred] to the character of the sutures of the skull, which, like those of the infant skull, are relatively smooth and untortuous. In\n",
      "[true] to the character of the sutures of the skull which, like those of the infant skull, are relatively smooth and untortuous. In fact\n",
      "\n",
      "\n",
      "\n",
      "[pred] individual from the Southern Hemisphere, to win a Winter Olympic gold medal and was also part of the short track relay team that won Australia'\n",
      "[true] individual from the Southern Hemisphere, to win a Winter Olympic gold medal and was also part of the short track relay team that won Australia'\n",
      "\n",
      "\n",
      "\n",
      "[pred] the same rights as straight people, while 15% disagreed. Additionally, 69% agreed that they should be protected from workplace discrimination. 13% of H\n",
      "[true] the same rights as straight people, while 15% disagreed. Additionally, 69% agreed that they should be protected from workplace discrimination. 13% of H\n",
      "setting preds_emb\n"
     ]
    },
    {
     "name": "stderr",
     "output_type": "stream",
     "text": [
      "\n",
      "generating from val:   0%|                                                                                               | 0/4 [00:00<?, ?it/s]\u001b[A\n",
      "generating from val:  25%|█████████████████████▊                                                                 | 1/4 [00:19<00:59, 19.89s/it]\u001b[A\n",
      "generating from val:  50%|███████████████████████████████████████████▌                                           | 2/4 [00:39<00:40, 20.01s/it]\u001b[A\n",
      "generating from val:  75%|█████████████████████████████████████████████████████████████████▎                     | 3/4 [00:59<00:19, 19.59s/it]\u001b[A\n",
      "generating from val: 100%|███████████████████████████████████████████████████████████████████████████████████████| 4/4 [01:17<00:00, 19.06s/it]\u001b[A\n",
      "                                                                                                                                               \u001b[A"
     ]
    },
    {
     "name": "stdout",
     "output_type": "stream",
     "text": [
      "[pred] we study the phase behavior of a nematic liquid crystal confined between a flat substrate and a patterned substrate with strong anchoring\n",
      "[true] we study the phase behavior of a nematic liquid crystal confined between a flat substrate with strong anchoring and a patterned substrate\n",
      "\n",
      "\n",
      "\n",
      "[pred] determining the scaling relations between galaxy clusters requires large samples of uniformly observed clusters. we measure the mean observables x-\n",
      "[true] determining the scaling relations between galaxy cluster observables requires large samples of uniformly observed clusters. we measure the mean x -\n",
      "\n",
      "\n",
      "\n",
      "[pred] we show how to control spatial correlations in a degenerate quantum parametric multimode optical oscillator type I below threshold by a\n",
      "[true] we show how to control spatial quantum correlations in a multimode degenerate optical parametric oscillator type i below threshold by \n",
      "setting preds_emb\n"
     ]
    },
    {
     "name": "stderr",
     "output_type": "stream",
     "text": [
      "\n",
      "generating from val:   0%|                                                                                               | 0/4 [00:00<?, ?it/s]\u001b[A\n",
      "generating from val:  25%|█████████████████████▊                                                                 | 1/4 [00:19<00:58, 19.51s/it]\u001b[A\n",
      "generating from val:  50%|███████████████████████████████████████████▌                                           | 2/4 [00:39<00:39, 19.51s/it]\u001b[A\n",
      "generating from val:  75%|█████████████████████████████████████████████████████████████████▎                     | 3/4 [00:58<00:19, 19.56s/it]\u001b[A\n",
      "generating from val: 100%|███████████████████████████████████████████████████████████████████████████████████████| 4/4 [01:17<00:00, 19.45s/it]\u001b[A\n",
      "                                                                                                                                               \u001b[AWarning: Empty reference sentence detected; setting raw BERTScores to 0.\n",
      " 71%|█████████████████████████████████████████████████████████████████████████▌                             | 35/49 [1:20:24<54:00, 231.49s/it]"
     ]
    },
    {
     "name": "stdout",
     "output_type": "stream",
     "text": [
      "[pred] The ex-Reading defender denied fraudulent trading charges relating to the Sodje Sports Foundation - a charity to raise money for Nigerian\n",
      "[true] The ex-Reading defender denied fraudulent trading charges relating to the Sodje Sports Foundation - a charity to raise money for Nigerian\n",
      "\n",
      "\n",
      "\n",
      "[pred] Voges was forced to retire hurt after batting for 86 on 4 June while suffering the injury in the County Championship draw with Somerset. Middlesex\n",
      "[true] Voges was forced to retire hurt on 86 after suffering the injury while batting during the County Championship draw with Somerset on 4 June. Middlesex\n",
      "\n",
      "\n",
      "\n",
      "[pred] Seven photographs taken in the Norfolk countryside by photographer Josh Olins will appear in the June edition. In her first sitting for the magazine, a du\n",
      "[true] Seven photographs taken in the Norfolk countryside by photographer Josh Olins will appear in the June edition. In her first sitting for a magazine, the du\n",
      "setting preds_emb\n",
      "*** round 36\n"
     ]
    },
    {
     "name": "stderr",
     "output_type": "stream",
     "text": [
      "\n",
      "generating from val:   0%|                                                                                               | 0/4 [00:00<?, ?it/s]\u001b[A\n",
      "generating from val:  25%|█████████████████████▊                                                                 | 1/4 [00:20<01:00, 20.12s/it]\u001b[A\n",
      "generating from val:  50%|███████████████████████████████████████████▌                                           | 2/4 [00:40<00:40, 20.29s/it]\u001b[A\n",
      "generating from val:  75%|█████████████████████████████████████████████████████████████████▎                     | 3/4 [01:00<00:20, 20.34s/it]\u001b[A\n",
      "generating from val: 100%|███████████████████████████████████████████████████████████████████████████████████████| 4/4 [01:20<00:00, 19.98s/it]\u001b[A\n",
      "                                                                                                                                               \u001b[A"
     ]
    },
    {
     "name": "stdout",
     "output_type": "stream",
     "text": [
      "[pred] to the character of the sutures of the skull, which, like those of the infant skull, are relatively smooth and untortuous. In\n",
      "[true] to the character of the sutures of the skull which, like those of the infant skull, are relatively smooth and untortuous. In fact\n",
      "\n",
      "\n",
      "\n",
      "[pred] individual from the Southern Hemisphere, to win a Winter Olympic gold medal and was also part of the short track relay team that won Australia'\n",
      "[true] individual from the Southern Hemisphere, to win a Winter Olympic gold medal and was also part of the short track relay team that won Australia'\n",
      "\n",
      "\n",
      "\n",
      "[pred] the same rights as straight people, while 15% disagreed. Additionally, 69% agreed that they should be protected from workplace discrimination. 13% of H\n",
      "[true] the same rights as straight people, while 15% disagreed. Additionally, 69% agreed that they should be protected from workplace discrimination. 13% of H\n",
      "setting preds_emb\n"
     ]
    },
    {
     "name": "stderr",
     "output_type": "stream",
     "text": [
      "\n",
      "generating from val:   0%|                                                                                               | 0/4 [00:00<?, ?it/s]\u001b[A\n",
      "generating from val:  25%|█████████████████████▊                                                                 | 1/4 [00:19<00:59, 19.99s/it]\u001b[A\n",
      "generating from val:  50%|███████████████████████████████████████████▌                                           | 2/4 [00:39<00:39, 19.83s/it]\u001b[A\n",
      "generating from val:  75%|█████████████████████████████████████████████████████████████████▎                     | 3/4 [01:00<00:20, 20.09s/it]\u001b[A\n",
      "generating from val: 100%|███████████████████████████████████████████████████████████████████████████████████████| 4/4 [01:19<00:00, 19.81s/it]\u001b[A\n",
      "                                                                                                                                               \u001b[A"
     ]
    },
    {
     "name": "stdout",
     "output_type": "stream",
     "text": [
      "[pred] we study the phase behavior of a nematic liquid crystal confined between a patterned substrate and a flat substrate with strong anchoring\n",
      "[true] we study the phase behavior of a nematic liquid crystal confined between a flat substrate with strong anchoring and a patterned substrate\n",
      "\n",
      "\n",
      "\n",
      "[pred] determining the scaling relations between galaxy clusters requires large samples of uniformly observed clusters. We measure the mean observable x -\n",
      "[true] determining the scaling relations between galaxy cluster observables requires large samples of uniformly observed clusters. we measure the mean x -\n",
      "\n",
      "\n",
      "\n",
      "[pred] we show how to control spatial correlations in a degenerate quantum parametric multimode optical oscillator type I below threshold by a\n",
      "[true] we show how to control spatial quantum correlations in a multimode degenerate optical parametric oscillator type i below threshold by \n",
      "setting preds_emb\n"
     ]
    },
    {
     "name": "stderr",
     "output_type": "stream",
     "text": [
      "\n",
      "generating from val:   0%|                                                                                               | 0/4 [00:00<?, ?it/s]\u001b[A\n",
      "generating from val:  25%|█████████████████████▊                                                                 | 1/4 [00:20<01:00, 20.33s/it]\u001b[A\n",
      "generating from val:  50%|███████████████████████████████████████████▌                                           | 2/4 [00:40<00:40, 20.17s/it]\u001b[A\n",
      "generating from val:  75%|█████████████████████████████████████████████████████████████████▎                     | 3/4 [01:00<00:20, 20.13s/it]\u001b[A\n",
      "generating from val: 100%|███████████████████████████████████████████████████████████████████████████████████████| 4/4 [01:20<00:00, 19.96s/it]\u001b[A\n",
      "                                                                                                                                               \u001b[AWarning: Empty reference sentence detected; setting raw BERTScores to 0.\n",
      " 73%|███████████████████████████████████████████████████████████████████████████▋                           | 36/49 [1:24:40<51:43, 238.75s/it]"
     ]
    },
    {
     "name": "stdout",
     "output_type": "stream",
     "text": [
      "[pred] The ex-Reading defender denied fraudulent trading charges relating to the Sodje Sports Foundation - a charity to raise money for Nigerian\n",
      "[true] The ex-Reading defender denied fraudulent trading charges relating to the Sodje Sports Foundation - a charity to raise money for Nigerian\n",
      "\n",
      "\n",
      "\n",
      "[pred] Voges was forced to retire hurt after batting for 86 on 4 June while suffering the injury during the County Championship draw with Somerset. Middlesex\n",
      "[true] Voges was forced to retire hurt on 86 after suffering the injury while batting during the County Championship draw with Somerset on 4 June. Middlesex\n",
      "\n",
      "\n",
      "\n",
      "[pred] Seven photographs taken in the Norfolk countryside by photographer Josh Olins will appear in the June edition. In her first sitting for the magazine, a du\n",
      "[true] Seven photographs taken in the Norfolk countryside by photographer Josh Olins will appear in the June edition. In her first sitting for a magazine, the du\n",
      "setting preds_emb\n",
      "*** round 37\n"
     ]
    },
    {
     "name": "stderr",
     "output_type": "stream",
     "text": [
      "\n",
      "generating from val:   0%|                                                                                               | 0/4 [00:00<?, ?it/s]\u001b[A\n",
      "generating from val:  25%|█████████████████████▊                                                                 | 1/4 [00:21<01:03, 21.03s/it]\u001b[A\n",
      "generating from val:  50%|███████████████████████████████████████████▌                                           | 2/4 [00:41<00:41, 20.72s/it]\u001b[A\n",
      "generating from val:  75%|█████████████████████████████████████████████████████████████████▎                     | 3/4 [01:02<00:21, 21.02s/it]\u001b[A\n",
      "generating from val: 100%|███████████████████████████████████████████████████████████████████████████████████████| 4/4 [01:22<00:00, 20.49s/it]\u001b[A\n",
      "                                                                                                                                               \u001b[A"
     ]
    },
    {
     "name": "stdout",
     "output_type": "stream",
     "text": [
      "[pred] to the character of the sutures of the skull, which, like those of the infant skull, are relatively smooth and untortuous. In\n",
      "[true] to the character of the sutures of the skull which, like those of the infant skull, are relatively smooth and untortuous. In fact\n",
      "\n",
      "\n",
      "\n",
      "[pred] individual from the Southern Hemisphere, to win a Winter Olympic gold medal and was also part of the short track relay team that won Australia'\n",
      "[true] individual from the Southern Hemisphere, to win a Winter Olympic gold medal and was also part of the short track relay team that won Australia'\n",
      "\n",
      "\n",
      "\n",
      "[pred] the same rights as straight people, while 15% disagreed. Additionally, 69% agreed that they should be protected from workplace discrimination. 13% of H\n",
      "[true] the same rights as straight people, while 15% disagreed. Additionally, 69% agreed that they should be protected from workplace discrimination. 13% of H\n",
      "setting preds_emb\n"
     ]
    },
    {
     "name": "stderr",
     "output_type": "stream",
     "text": [
      "\n",
      "generating from val:   0%|                                                                                               | 0/4 [00:00<?, ?it/s]\u001b[A\n",
      "generating from val:  25%|█████████████████████▊                                                                 | 1/4 [00:20<01:00, 20.25s/it]\u001b[A\n",
      "generating from val:  50%|███████████████████████████████████████████▌                                           | 2/4 [00:40<00:40, 20.33s/it]\u001b[A\n",
      "generating from val:  75%|█████████████████████████████████████████████████████████████████▎                     | 3/4 [01:00<00:20, 20.30s/it]\u001b[A\n",
      "generating from val: 100%|███████████████████████████████████████████████████████████████████████████████████████| 4/4 [01:21<00:00, 20.30s/it]\u001b[A\n",
      "                                                                                                                                               \u001b[A"
     ]
    },
    {
     "name": "stdout",
     "output_type": "stream",
     "text": [
      "[pred] we study the phase behavior of a nematic liquid crystal confined between a flat substrate and a patterned substrate with strong anchoring\n",
      "[true] we study the phase behavior of a nematic liquid crystal confined between a flat substrate with strong anchoring and a patterned substrate\n",
      "\n",
      "\n",
      "\n",
      "[pred] determining the scaling relations between galaxy clusters requires large samples of uniformly observed clusters. we measure the mean observables x-\n",
      "[true] determining the scaling relations between galaxy cluster observables requires large samples of uniformly observed clusters. we measure the mean x -\n",
      "\n",
      "\n",
      "\n",
      "[pred] we show how to control spatial correlations in a degenerate quantum parametric multimode optical oscillator type I below threshold by a\n",
      "[true] we show how to control spatial quantum correlations in a multimode degenerate optical parametric oscillator type i below threshold by \n",
      "setting preds_emb\n"
     ]
    },
    {
     "name": "stderr",
     "output_type": "stream",
     "text": [
      "\n",
      "generating from val:   0%|                                                                                               | 0/4 [00:00<?, ?it/s]\u001b[A\n",
      "generating from val:  25%|█████████████████████▊                                                                 | 1/4 [00:20<01:02, 20.89s/it]\u001b[A\n",
      "generating from val:  50%|███████████████████████████████████████████▌                                           | 2/4 [00:41<00:41, 20.61s/it]\u001b[A\n",
      "generating from val:  75%|█████████████████████████████████████████████████████████████████▎                     | 3/4 [01:01<00:20, 20.63s/it]\u001b[A\n",
      "generating from val: 100%|███████████████████████████████████████████████████████████████████████████████████████| 4/4 [01:21<00:00, 20.35s/it]\u001b[A\n",
      "                                                                                                                                               \u001b[AWarning: Empty reference sentence detected; setting raw BERTScores to 0.\n",
      " 76%|█████████████████████████████████████████████████████████████████████████████▊                         | 37/49 [1:29:01<49:04, 245.40s/it]"
     ]
    },
    {
     "name": "stdout",
     "output_type": "stream",
     "text": [
      "[pred] The ex-Reading defender denied fraudulent trading charges relating to the Sodje Sports Foundation - a charity to raise money for Nigerian\n",
      "[true] The ex-Reading defender denied fraudulent trading charges relating to the Sodje Sports Foundation - a charity to raise money for Nigerian\n",
      "\n",
      "\n",
      "\n",
      "[pred] Voges was forced to retire hurt after batting for 86 on 4 June while suffering the injury in the County Championship draw with Somerset. Middlesex\n",
      "[true] Voges was forced to retire hurt on 86 after suffering the injury while batting during the County Championship draw with Somerset on 4 June. Middlesex\n",
      "\n",
      "\n",
      "\n",
      "[pred] Seven photographs taken in the Norfolk countryside by photographer Josh Olins will appear in the June edition. In her first sitting for the magazine, a du\n",
      "[true] Seven photographs taken in the Norfolk countryside by photographer Josh Olins will appear in the June edition. In her first sitting for a magazine, the du\n",
      "setting preds_emb\n",
      "*** round 38\n"
     ]
    },
    {
     "name": "stderr",
     "output_type": "stream",
     "text": [
      "\n",
      "generating from val:   0%|                                                                                               | 0/4 [00:00<?, ?it/s]\u001b[A\n",
      "generating from val:  25%|█████████████████████▊                                                                 | 1/4 [00:21<01:04, 21.61s/it]\u001b[A\n",
      "generating from val:  50%|███████████████████████████████████████████▌                                           | 2/4 [00:42<00:42, 21.28s/it]\u001b[A\n",
      "generating from val:  75%|█████████████████████████████████████████████████████████████████▎                     | 3/4 [01:04<00:21, 21.40s/it]\u001b[A\n",
      "generating from val: 100%|███████████████████████████████████████████████████████████████████████████████████████| 4/4 [01:25<00:00, 21.18s/it]\u001b[A\n",
      "                                                                                                                                               \u001b[A"
     ]
    },
    {
     "name": "stdout",
     "output_type": "stream",
     "text": [
      "[pred] to the character of the sutures of the skull, which, like those of the infant skull, are relatively smooth and untortuous. In\n",
      "[true] to the character of the sutures of the skull which, like those of the infant skull, are relatively smooth and untortuous. In fact\n",
      "\n",
      "\n",
      "\n",
      "[pred] individual from the Southern Hemisphere, to win a Winter Olympic gold medal and was also part of the short track relay team that won Australia'\n",
      "[true] individual from the Southern Hemisphere, to win a Winter Olympic gold medal and was also part of the short track relay team that won Australia'\n",
      "\n",
      "\n",
      "\n",
      "[pred] the same rights as straight people, while 15% disagreed. Additionally, 69% agreed that they should be protected from workplace discrimination. 13% of H\n",
      "[true] the same rights as straight people, while 15% disagreed. Additionally, 69% agreed that they should be protected from workplace discrimination. 13% of H\n",
      "setting preds_emb\n"
     ]
    },
    {
     "name": "stderr",
     "output_type": "stream",
     "text": [
      "\n",
      "generating from val:   0%|                                                                                               | 0/4 [00:00<?, ?it/s]\u001b[A\n",
      "generating from val:  25%|█████████████████████▊                                                                 | 1/4 [00:21<01:03, 21.30s/it]\u001b[A\n",
      "generating from val:  50%|███████████████████████████████████████████▌                                           | 2/4 [00:42<00:42, 21.46s/it]\u001b[A\n",
      "generating from val:  75%|█████████████████████████████████████████████████████████████████▎                     | 3/4 [01:03<00:21, 21.18s/it]\u001b[A\n",
      "generating from val: 100%|███████████████████████████████████████████████████████████████████████████████████████| 4/4 [01:23<00:00, 20.76s/it]\u001b[A\n",
      "                                                                                                                                               \u001b[A"
     ]
    },
    {
     "name": "stdout",
     "output_type": "stream",
     "text": [
      "[pred] we study the phase behavior of a nematic liquid crystal confined between a patterned substrate and a flat substrate with strong anchoring\n",
      "[true] we study the phase behavior of a nematic liquid crystal confined between a flat substrate with strong anchoring and a patterned substrate\n",
      "\n",
      "\n",
      "\n",
      "[pred] determining the scaling relations between galaxy clusters requires large samples of uniformly observed clusters. We measure the mean observable x -\n",
      "[true] determining the scaling relations between galaxy cluster observables requires large samples of uniformly observed clusters. we measure the mean x -\n",
      "\n",
      "\n",
      "\n",
      "[pred] we show how to control spatial correlations in a degenerate quantum parametric multimode optical oscillator type I below threshold by a\n",
      "[true] we show how to control spatial quantum correlations in a multimode degenerate optical parametric oscillator type i below threshold by \n",
      "setting preds_emb\n"
     ]
    },
    {
     "name": "stderr",
     "output_type": "stream",
     "text": [
      "\n",
      "generating from val:   0%|                                                                                               | 0/4 [00:00<?, ?it/s]\u001b[A\n",
      "generating from val:  25%|█████████████████████▊                                                                 | 1/4 [00:21<01:03, 21.30s/it]\u001b[A\n",
      "generating from val:  50%|███████████████████████████████████████████▌                                           | 2/4 [00:42<00:42, 21.39s/it]\u001b[A\n",
      "generating from val:  75%|█████████████████████████████████████████████████████████████████▎                     | 3/4 [01:04<00:21, 21.57s/it]\u001b[A\n",
      "generating from val: 100%|███████████████████████████████████████████████████████████████████████████████████████| 4/4 [01:25<00:00, 21.27s/it]\u001b[A\n",
      "                                                                                                                                               \u001b[AWarning: Empty reference sentence detected; setting raw BERTScores to 0.\n",
      " 78%|███████████████████████████████████████████████████████████████████████████████▉                       | 38/49 [1:33:29<46:16, 252.41s/it]"
     ]
    },
    {
     "name": "stdout",
     "output_type": "stream",
     "text": [
      "[pred] The ex-Reading defender denied fraudulent trading charges relating to the Sodje Sports Foundation - a charity to raise money for Nigerian\n",
      "[true] The ex-Reading defender denied fraudulent trading charges relating to the Sodje Sports Foundation - a charity to raise money for Nigerian\n",
      "\n",
      "\n",
      "\n",
      "[pred] Voges was forced to retire hurt after batting for 86 on 4 June while suffering the injury during the County Championship draw with Somerset. Middlesex\n",
      "[true] Voges was forced to retire hurt on 86 after suffering the injury while batting during the County Championship draw with Somerset on 4 June. Middlesex\n",
      "\n",
      "\n",
      "\n",
      "[pred] Seven photographs taken in the Norfolk countryside by photographer Josh Olins will appear in the June edition. In her first sitting for the magazine, a du\n",
      "[true] Seven photographs taken in the Norfolk countryside by photographer Josh Olins will appear in the June edition. In her first sitting for a magazine, the du\n",
      "setting preds_emb\n",
      "*** round 39\n"
     ]
    },
    {
     "name": "stderr",
     "output_type": "stream",
     "text": [
      "\n",
      "generating from val:   0%|                                                                                               | 0/4 [00:00<?, ?it/s]\u001b[A\n",
      "generating from val:  25%|█████████████████████▊                                                                 | 1/4 [00:21<01:04, 21.59s/it]\u001b[A\n",
      "generating from val:  50%|███████████████████████████████████████████▌                                           | 2/4 [00:43<00:43, 21.62s/it]\u001b[A\n",
      "generating from val:  75%|█████████████████████████████████████████████████████████████████▎                     | 3/4 [01:05<00:21, 21.71s/it]\u001b[A\n",
      "generating from val: 100%|███████████████████████████████████████████████████████████████████████████████████████| 4/4 [01:25<00:00, 21.26s/it]\u001b[A\n",
      "                                                                                                                                               \u001b[A"
     ]
    },
    {
     "name": "stdout",
     "output_type": "stream",
     "text": [
      "[pred] to the character of the sutures of the skull, which, like those of the infant skull, are relatively smooth and untortuous. In\n",
      "[true] to the character of the sutures of the skull which, like those of the infant skull, are relatively smooth and untortuous. In fact\n",
      "\n",
      "\n",
      "\n",
      "[pred] individual from the Southern Hemisphere, to win a Winter Olympic gold medal and was also part of the short track relay team that won Australia'\n",
      "[true] individual from the Southern Hemisphere, to win a Winter Olympic gold medal and was also part of the short track relay team that won Australia'\n",
      "\n",
      "\n",
      "\n",
      "[pred] the same rights as straight people, while 15% disagreed. Additionally, 69% agreed that they should be protected from workplace discrimination. 13% of H\n",
      "[true] the same rights as straight people, while 15% disagreed. Additionally, 69% agreed that they should be protected from workplace discrimination. 13% of H\n",
      "setting preds_emb\n"
     ]
    },
    {
     "name": "stderr",
     "output_type": "stream",
     "text": [
      "\n",
      "generating from val:   0%|                                                                                               | 0/4 [00:00<?, ?it/s]\u001b[A\n",
      "generating from val:  25%|█████████████████████▊                                                                 | 1/4 [00:22<01:07, 22.54s/it]\u001b[A\n",
      "generating from val:  50%|███████████████████████████████████████████▌                                           | 2/4 [00:44<00:44, 22.05s/it]\u001b[A\n",
      "generating from val:  75%|█████████████████████████████████████████████████████████████████▎                     | 3/4 [01:05<00:21, 21.76s/it]\u001b[A\n",
      "generating from val: 100%|███████████████████████████████████████████████████████████████████████████████████████| 4/4 [01:27<00:00, 21.60s/it]\u001b[A\n",
      "                                                                                                                                               \u001b[A"
     ]
    },
    {
     "name": "stdout",
     "output_type": "stream",
     "text": [
      "[pred] we study the phase behavior of a nematic liquid crystal confined between a flat substrate and a patterned substrate with strong anchoring\n",
      "[true] we study the phase behavior of a nematic liquid crystal confined between a flat substrate with strong anchoring and a patterned substrate\n",
      "\n",
      "\n",
      "\n",
      "[pred] determining the scaling relations between galaxy clusters requires large samples of uniformly observed clusters. we measure the mean observables x-\n",
      "[true] determining the scaling relations between galaxy cluster observables requires large samples of uniformly observed clusters. we measure the mean x -\n",
      "\n",
      "\n",
      "\n",
      "[pred] we show how to control spatial correlations in a degenerate quantum parametric multimode optical oscillator type I below threshold by a\n",
      "[true] we show how to control spatial quantum correlations in a multimode degenerate optical parametric oscillator type i below threshold by \n",
      "setting preds_emb\n"
     ]
    },
    {
     "name": "stderr",
     "output_type": "stream",
     "text": [
      "\n",
      "generating from val:   0%|                                                                                               | 0/4 [00:00<?, ?it/s]\u001b[A\n",
      "generating from val:  25%|█████████████████████▊                                                                 | 1/4 [00:21<01:04, 21.47s/it]\u001b[A\n",
      "generating from val:  50%|███████████████████████████████████████████▌                                           | 2/4 [00:43<00:43, 21.54s/it]\u001b[A\n",
      "generating from val:  75%|█████████████████████████████████████████████████████████████████▎                     | 3/4 [01:04<00:21, 21.63s/it]\u001b[A\n",
      "generating from val: 100%|███████████████████████████████████████████████████████████████████████████████████████| 4/4 [01:25<00:00, 21.18s/it]\u001b[A\n",
      "                                                                                                                                               \u001b[AWarning: Empty reference sentence detected; setting raw BERTScores to 0.\n",
      " 80%|█████████████████████████████████████████████████████████████████████████████████▉                     | 39/49 [1:38:03<43:07, 258.78s/it]"
     ]
    },
    {
     "name": "stdout",
     "output_type": "stream",
     "text": [
      "[pred] The ex-Reading defender denied fraudulent trading charges relating to the Sodje Sports Foundation - a charity to raise money for Nigerian\n",
      "[true] The ex-Reading defender denied fraudulent trading charges relating to the Sodje Sports Foundation - a charity to raise money for Nigerian\n",
      "\n",
      "\n",
      "\n",
      "[pred] Voges was forced to retire hurt after batting for 86 on 4 June while suffering the injury in the County Championship draw with Somerset. Middlesex\n",
      "[true] Voges was forced to retire hurt on 86 after suffering the injury while batting during the County Championship draw with Somerset on 4 June. Middlesex\n",
      "\n",
      "\n",
      "\n",
      "[pred] Seven photographs taken in the Norfolk countryside by photographer Josh Olins will appear in the June edition. In her first sitting for the magazine, a du\n",
      "[true] Seven photographs taken in the Norfolk countryside by photographer Josh Olins will appear in the June edition. In her first sitting for a magazine, the du\n",
      "setting preds_emb\n",
      "*** round 40\n"
     ]
    },
    {
     "name": "stderr",
     "output_type": "stream",
     "text": [
      "\n",
      "generating from val:   0%|                                                                                               | 0/4 [00:00<?, ?it/s]\u001b[A\n",
      "generating from val:  25%|█████████████████████▊                                                                 | 1/4 [00:22<01:07, 22.35s/it]\u001b[A\n",
      "generating from val:  50%|███████████████████████████████████████████▌                                           | 2/4 [00:44<00:44, 22.12s/it]\u001b[A\n",
      "generating from val:  75%|█████████████████████████████████████████████████████████████████▎                     | 3/4 [01:06<00:22, 22.19s/it]\u001b[A\n",
      "generating from val: 100%|███████████████████████████████████████████████████████████████████████████████████████| 4/4 [01:28<00:00, 21.92s/it]\u001b[A\n",
      "                                                                                                                                               \u001b[A"
     ]
    },
    {
     "name": "stdout",
     "output_type": "stream",
     "text": [
      "[pred] to the character of the sutures of the skull, which, like those of the infant skull, are relatively smooth and untortuous. In\n",
      "[true] to the character of the sutures of the skull which, like those of the infant skull, are relatively smooth and untortuous. In fact\n",
      "\n",
      "\n",
      "\n",
      "[pred] individual from the Southern Hemisphere, to win a Winter Olympic gold medal and was also part of the short track relay team that won Australia'\n",
      "[true] individual from the Southern Hemisphere, to win a Winter Olympic gold medal and was also part of the short track relay team that won Australia'\n",
      "\n",
      "\n",
      "\n",
      "[pred] the same rights as straight people, while 15% disagreed. Additionally, 69% agreed that they should be protected from workplace discrimination. 13% of H\n",
      "[true] the same rights as straight people, while 15% disagreed. Additionally, 69% agreed that they should be protected from workplace discrimination. 13% of H\n",
      "setting preds_emb\n"
     ]
    },
    {
     "name": "stderr",
     "output_type": "stream",
     "text": [
      "\n",
      "generating from val:   0%|                                                                                               | 0/4 [00:00<?, ?it/s]\u001b[A\n",
      "generating from val:  25%|█████████████████████▊                                                                 | 1/4 [00:22<01:06, 22.19s/it]\u001b[A\n",
      "generating from val:  50%|███████████████████████████████████████████▌                                           | 2/4 [00:44<00:44, 22.39s/it]\u001b[A\n",
      "generating from val:  75%|█████████████████████████████████████████████████████████████████▎                     | 3/4 [01:07<00:22, 22.42s/it]\u001b[A\n",
      "generating from val: 100%|███████████████████████████████████████████████████████████████████████████████████████| 4/4 [01:28<00:00, 22.14s/it]\u001b[A\n",
      "                                                                                                                                               \u001b[A"
     ]
    },
    {
     "name": "stdout",
     "output_type": "stream",
     "text": [
      "[pred] we study the phase behavior of a nematic liquid crystal confined between a patterned substrate and a flat substrate with strong anchoring\n",
      "[true] we study the phase behavior of a nematic liquid crystal confined between a flat substrate with strong anchoring and a patterned substrate\n",
      "\n",
      "\n",
      "\n",
      "[pred] determining the scaling relations between galaxy clusters requires large samples of uniformly observed clusters. We measure the mean observable x -\n",
      "[true] determining the scaling relations between galaxy cluster observables requires large samples of uniformly observed clusters. we measure the mean x -\n",
      "\n",
      "\n",
      "\n",
      "[pred] we show how to control spatial correlations in a degenerate quantum parametric multimode optical oscillator type I below threshold by a\n",
      "[true] we show how to control spatial quantum correlations in a multimode degenerate optical parametric oscillator type i below threshold by \n",
      "setting preds_emb\n"
     ]
    },
    {
     "name": "stderr",
     "output_type": "stream",
     "text": [
      "\n",
      "generating from val:   0%|                                                                                               | 0/4 [00:00<?, ?it/s]\u001b[A\n",
      "generating from val:  25%|█████████████████████▊                                                                 | 1/4 [00:22<01:07, 22.38s/it]\u001b[A\n",
      "generating from val:  50%|███████████████████████████████████████████▌                                           | 2/4 [00:44<00:44, 22.43s/it]\u001b[A\n",
      "generating from val:  75%|█████████████████████████████████████████████████████████████████▎                     | 3/4 [01:07<00:22, 22.31s/it]\u001b[A\n",
      "generating from val: 100%|███████████████████████████████████████████████████████████████████████████████████████| 4/4 [01:28<00:00, 21.80s/it]\u001b[A\n",
      "                                                                                                                                               \u001b[AWarning: Empty reference sentence detected; setting raw BERTScores to 0.\n",
      " 82%|████████████████████████████████████████████████████████████████████████████████████                   | 40/49 [1:42:43<39:45, 265.03s/it]"
     ]
    },
    {
     "name": "stdout",
     "output_type": "stream",
     "text": [
      "[pred] The ex-Reading defender denied fraudulent trading charges relating to the Sodje Sports Foundation - a charity to raise money for Nigerian\n",
      "[true] The ex-Reading defender denied fraudulent trading charges relating to the Sodje Sports Foundation - a charity to raise money for Nigerian\n",
      "\n",
      "\n",
      "\n",
      "[pred] Voges was forced to retire hurt after batting for 86 on 4 June while suffering the injury during the County Championship draw with Somerset. Middlesex\n",
      "[true] Voges was forced to retire hurt on 86 after suffering the injury while batting during the County Championship draw with Somerset on 4 June. Middlesex\n",
      "\n",
      "\n",
      "\n",
      "[pred] Seven photographs taken in the Norfolk countryside by photographer Josh Olins will appear in the June edition. In her first sitting for the magazine, a du\n",
      "[true] Seven photographs taken in the Norfolk countryside by photographer Josh Olins will appear in the June edition. In her first sitting for a magazine, the du\n",
      "setting preds_emb\n",
      "*** round 41\n"
     ]
    },
    {
     "name": "stderr",
     "output_type": "stream",
     "text": [
      "\n",
      "generating from val:   0%|                                                                                               | 0/4 [00:00<?, ?it/s]\u001b[A\n",
      "generating from val:  25%|█████████████████████▊                                                                 | 1/4 [00:23<01:09, 23.32s/it]\u001b[A\n",
      "generating from val:  50%|███████████████████████████████████████████▌                                           | 2/4 [00:46<00:45, 22.96s/it]\u001b[A\n",
      "generating from val:  75%|█████████████████████████████████████████████████████████████████▎                     | 3/4 [01:08<00:22, 22.79s/it]\u001b[A\n",
      "generating from val: 100%|███████████████████████████████████████████████████████████████████████████████████████| 4/4 [01:30<00:00, 22.42s/it]\u001b[A\n",
      "                                                                                                                                               \u001b[A"
     ]
    },
    {
     "name": "stdout",
     "output_type": "stream",
     "text": [
      "[pred] to the character of the sutures of the skull, which, like those of the infant skull, are relatively smooth and untortuous. In\n",
      "[true] to the character of the sutures of the skull which, like those of the infant skull, are relatively smooth and untortuous. In fact\n",
      "\n",
      "\n",
      "\n",
      "[pred] individual from the Southern Hemisphere, to win a Winter Olympic gold medal and was also part of the short track relay team that won Australia'\n",
      "[true] individual from the Southern Hemisphere, to win a Winter Olympic gold medal and was also part of the short track relay team that won Australia'\n",
      "\n",
      "\n",
      "\n",
      "[pred] the same rights as straight people, while 15% disagreed. Additionally, 69% agreed that they should be protected from workplace discrimination. 13% of H\n",
      "[true] the same rights as straight people, while 15% disagreed. Additionally, 69% agreed that they should be protected from workplace discrimination. 13% of H\n",
      "setting preds_emb\n"
     ]
    },
    {
     "name": "stderr",
     "output_type": "stream",
     "text": [
      "\n",
      "generating from val:   0%|                                                                                               | 0/4 [00:00<?, ?it/s]\u001b[A\n",
      "generating from val:  25%|█████████████████████▊                                                                 | 1/4 [00:23<01:10, 23.40s/it]\u001b[A\n",
      "generating from val:  50%|███████████████████████████████████████████▌                                           | 2/4 [00:46<00:46, 23.22s/it]\u001b[A\n",
      "generating from val:  75%|█████████████████████████████████████████████████████████████████▎                     | 3/4 [01:09<00:23, 23.31s/it]\u001b[A\n",
      "generating from val: 100%|███████████████████████████████████████████████████████████████████████████████████████| 4/4 [01:32<00:00, 22.91s/it]\u001b[A\n",
      "                                                                                                                                               \u001b[A"
     ]
    },
    {
     "name": "stdout",
     "output_type": "stream",
     "text": [
      "[pred] we study the phase behavior of a nematic liquid crystal confined between a flat substrate and a patterned substrate with strong anchoring\n",
      "[true] we study the phase behavior of a nematic liquid crystal confined between a flat substrate with strong anchoring and a patterned substrate\n",
      "\n",
      "\n",
      "\n",
      "[pred] determining the scaling relations between galaxy clusters requires large samples of uniformly observed clusters. we measure the mean observables x-\n",
      "[true] determining the scaling relations between galaxy cluster observables requires large samples of uniformly observed clusters. we measure the mean x -\n",
      "\n",
      "\n",
      "\n",
      "[pred] we show how to control spatial correlations in a degenerate quantum parametric multimode optical oscillator type I below threshold by a\n",
      "[true] we show how to control spatial quantum correlations in a multimode degenerate optical parametric oscillator type i below threshold by \n",
      "setting preds_emb\n"
     ]
    },
    {
     "name": "stderr",
     "output_type": "stream",
     "text": [
      "\n",
      "generating from val:   0%|                                                                                               | 0/4 [00:00<?, ?it/s]\u001b[A\n",
      "generating from val:  25%|█████████████████████▊                                                                 | 1/4 [00:22<01:06, 22.19s/it]\u001b[A\n",
      "generating from val:  50%|███████████████████████████████████████████▌                                           | 2/4 [00:44<00:44, 22.44s/it]\u001b[A\n",
      "generating from val:  75%|█████████████████████████████████████████████████████████████████▎                     | 3/4 [01:08<00:22, 22.83s/it]\u001b[A\n",
      "generating from val: 100%|███████████████████████████████████████████████████████████████████████████████████████| 4/4 [01:30<00:00, 22.63s/it]\u001b[A\n",
      "                                                                                                                                               \u001b[AWarning: Empty reference sentence detected; setting raw BERTScores to 0.\n",
      " 84%|██████████████████████████████████████████████████████████████████████████████████████▏                | 41/49 [1:47:31<36:16, 272.08s/it]"
     ]
    },
    {
     "name": "stdout",
     "output_type": "stream",
     "text": [
      "[pred] The ex-Reading defender denied fraudulent trading charges relating to the Sodje Sports Foundation - a charity to raise money for Nigerian\n",
      "[true] The ex-Reading defender denied fraudulent trading charges relating to the Sodje Sports Foundation - a charity to raise money for Nigerian\n",
      "\n",
      "\n",
      "\n",
      "[pred] Voges was forced to retire hurt after batting for 86 on 4 June while suffering the injury in the County Championship draw with Somerset. Middlesex\n",
      "[true] Voges was forced to retire hurt on 86 after suffering the injury while batting during the County Championship draw with Somerset on 4 June. Middlesex\n",
      "\n",
      "\n",
      "\n",
      "[pred] Seven photographs taken in the Norfolk countryside by photographer Josh Olins will appear in the June edition. In her first sitting for the magazine, a du\n",
      "[true] Seven photographs taken in the Norfolk countryside by photographer Josh Olins will appear in the June edition. In her first sitting for a magazine, the du\n",
      "setting preds_emb\n",
      "*** round 42\n"
     ]
    },
    {
     "name": "stderr",
     "output_type": "stream",
     "text": [
      "\n",
      "generating from val:   0%|                                                                                               | 0/4 [00:00<?, ?it/s]\u001b[A\n",
      "generating from val:  25%|█████████████████████▊                                                                 | 1/4 [00:23<01:09, 23.27s/it]\u001b[A\n",
      "generating from val:  50%|███████████████████████████████████████████▌                                           | 2/4 [00:46<00:46, 23.06s/it]\u001b[A\n",
      "generating from val:  75%|█████████████████████████████████████████████████████████████████▎                     | 3/4 [01:09<00:23, 23.30s/it]\u001b[A\n",
      "generating from val: 100%|███████████████████████████████████████████████████████████████████████████████████████| 4/4 [01:32<00:00, 23.09s/it]\u001b[A\n",
      "                                                                                                                                               \u001b[A"
     ]
    },
    {
     "name": "stdout",
     "output_type": "stream",
     "text": [
      "[pred] to the character of the sutures of the skull, which, like those of the infant skull, are relatively smooth and untortuous. In\n",
      "[true] to the character of the sutures of the skull which, like those of the infant skull, are relatively smooth and untortuous. In fact\n",
      "\n",
      "\n",
      "\n",
      "[pred] individual from the Southern Hemisphere, to win a Winter Olympic gold medal and was also part of the short track relay team that won Australia'\n",
      "[true] individual from the Southern Hemisphere, to win a Winter Olympic gold medal and was also part of the short track relay team that won Australia'\n",
      "\n",
      "\n",
      "\n",
      "[pred] the same rights as straight people, while 15% disagreed. Additionally, 69% agreed that they should be protected from workplace discrimination. 13% of H\n",
      "[true] the same rights as straight people, while 15% disagreed. Additionally, 69% agreed that they should be protected from workplace discrimination. 13% of H\n",
      "setting preds_emb\n"
     ]
    },
    {
     "name": "stderr",
     "output_type": "stream",
     "text": [
      "\n",
      "generating from val:   0%|                                                                                               | 0/4 [00:00<?, ?it/s]\u001b[A\n",
      "generating from val:  25%|█████████████████████▊                                                                 | 1/4 [00:23<01:10, 23.52s/it]\u001b[A\n",
      "generating from val:  50%|███████████████████████████████████████████▌                                           | 2/4 [00:47<00:47, 23.71s/it]\u001b[A\n",
      "generating from val:  75%|█████████████████████████████████████████████████████████████████▎                     | 3/4 [01:10<00:23, 23.64s/it]\u001b[A\n",
      "generating from val: 100%|███████████████████████████████████████████████████████████████████████████████████████| 4/4 [01:33<00:00, 23.25s/it]\u001b[A\n",
      "                                                                                                                                               \u001b[A"
     ]
    },
    {
     "name": "stdout",
     "output_type": "stream",
     "text": [
      "[pred] we study the phase behavior of a nematic liquid crystal confined between a patterned substrate and a flat substrate with strong anchoring\n",
      "[true] we study the phase behavior of a nematic liquid crystal confined between a flat substrate with strong anchoring and a patterned substrate\n",
      "\n",
      "\n",
      "\n",
      "[pred] determining the scaling relations between galaxy clusters requires large samples of uniformly observed clusters. We measure the mean observable x -\n",
      "[true] determining the scaling relations between galaxy cluster observables requires large samples of uniformly observed clusters. we measure the mean x -\n",
      "\n",
      "\n",
      "\n",
      "[pred] we show how to control spatial correlations in a degenerate quantum parametric multimode optical oscillator type I below threshold by a\n",
      "[true] we show how to control spatial quantum correlations in a multimode degenerate optical parametric oscillator type i below threshold by \n",
      "setting preds_emb\n"
     ]
    },
    {
     "name": "stderr",
     "output_type": "stream",
     "text": [
      "\n",
      "generating from val:   0%|                                                                                               | 0/4 [00:00<?, ?it/s]\u001b[A\n",
      "generating from val:  25%|█████████████████████▊                                                                 | 1/4 [00:23<01:10, 23.46s/it]\u001b[A\n",
      "generating from val:  50%|███████████████████████████████████████████▌                                           | 2/4 [00:46<00:46, 23.27s/it]\u001b[A\n",
      "generating from val:  75%|█████████████████████████████████████████████████████████████████▎                     | 3/4 [01:09<00:23, 23.25s/it]\u001b[A\n",
      "generating from val: 100%|███████████████████████████████████████████████████████████████████████████████████████| 4/4 [01:32<00:00, 22.87s/it]\u001b[A\n",
      "                                                                                                                                               \u001b[AWarning: Empty reference sentence detected; setting raw BERTScores to 0.\n",
      " 86%|████████████████████████████████████████████████████████████████████████████████████████▎              | 42/49 [1:52:25<32:29, 278.53s/it]"
     ]
    },
    {
     "name": "stdout",
     "output_type": "stream",
     "text": [
      "[pred] The ex-Reading defender denied fraudulent trading charges relating to the Sodje Sports Foundation - a charity to raise money for Nigerian\n",
      "[true] The ex-Reading defender denied fraudulent trading charges relating to the Sodje Sports Foundation - a charity to raise money for Nigerian\n",
      "\n",
      "\n",
      "\n",
      "[pred] Voges was forced to retire hurt after batting for 86 on 4 June while suffering the injury during the County Championship draw with Somerset. Middlesex\n",
      "[true] Voges was forced to retire hurt on 86 after suffering the injury while batting during the County Championship draw with Somerset on 4 June. Middlesex\n",
      "\n",
      "\n",
      "\n",
      "[pred] Seven photographs taken in the Norfolk countryside by photographer Josh Olins will appear in the June edition. In her first sitting for the magazine, a du\n",
      "[true] Seven photographs taken in the Norfolk countryside by photographer Josh Olins will appear in the June edition. In her first sitting for a magazine, the du\n",
      "setting preds_emb\n",
      "*** round 43\n"
     ]
    },
    {
     "name": "stderr",
     "output_type": "stream",
     "text": [
      "\n",
      "generating from val:   0%|                                                                                               | 0/4 [00:00<?, ?it/s]\u001b[A\n",
      "generating from val:  25%|█████████████████████▊                                                                 | 1/4 [00:24<01:12, 24.03s/it]\u001b[A\n",
      "generating from val:  50%|███████████████████████████████████████████▌                                           | 2/4 [00:48<00:48, 24.02s/it]\u001b[A\n",
      "generating from val:  75%|█████████████████████████████████████████████████████████████████▎                     | 3/4 [01:11<00:23, 23.91s/it]\u001b[A\n",
      "generating from val: 100%|███████████████████████████████████████████████████████████████████████████████████████| 4/4 [01:35<00:00, 23.73s/it]\u001b[A\n",
      "                                                                                                                                               \u001b[A"
     ]
    },
    {
     "name": "stdout",
     "output_type": "stream",
     "text": [
      "[pred] to the character of the sutures of the skull, which, like those of the infant skull, are relatively smooth and untortuous. In\n",
      "[true] to the character of the sutures of the skull which, like those of the infant skull, are relatively smooth and untortuous. In fact\n",
      "\n",
      "\n",
      "\n",
      "[pred] individual from the Southern Hemisphere, to win a Winter Olympic gold medal and was also part of the short track relay team that won Australia'\n",
      "[true] individual from the Southern Hemisphere, to win a Winter Olympic gold medal and was also part of the short track relay team that won Australia'\n",
      "\n",
      "\n",
      "\n",
      "[pred] the same rights as straight people, while 15% disagreed. Additionally, 69% agreed that they should be protected from workplace discrimination. 13% of H\n",
      "[true] the same rights as straight people, while 15% disagreed. Additionally, 69% agreed that they should be protected from workplace discrimination. 13% of H\n",
      "setting preds_emb\n"
     ]
    },
    {
     "name": "stderr",
     "output_type": "stream",
     "text": [
      "\n",
      "generating from val:   0%|                                                                                               | 0/4 [00:00<?, ?it/s]\u001b[A\n",
      "generating from val:  25%|█████████████████████▊                                                                 | 1/4 [00:23<01:10, 23.53s/it]\u001b[A\n",
      "generating from val:  50%|███████████████████████████████████████████▌                                           | 2/4 [00:47<00:47, 23.60s/it]\u001b[A\n",
      "generating from val:  75%|█████████████████████████████████████████████████████████████████▎                     | 3/4 [01:10<00:23, 23.56s/it]\u001b[A\n",
      "generating from val: 100%|███████████████████████████████████████████████████████████████████████████████████████| 4/4 [01:33<00:00, 23.22s/it]\u001b[A\n",
      "                                                                                                                                               \u001b[A"
     ]
    },
    {
     "name": "stdout",
     "output_type": "stream",
     "text": [
      "[pred] we study the phase behavior of a nematic liquid crystal confined between a flat substrate and a patterned substrate with strong anchoring\n",
      "[true] we study the phase behavior of a nematic liquid crystal confined between a flat substrate with strong anchoring and a patterned substrate\n",
      "\n",
      "\n",
      "\n",
      "[pred] determining the scaling relations between galaxy clusters requires large samples of uniformly observed clusters. we measure the mean observables x-\n",
      "[true] determining the scaling relations between galaxy cluster observables requires large samples of uniformly observed clusters. we measure the mean x -\n",
      "\n",
      "\n",
      "\n",
      "[pred] we show how to control spatial correlations in a degenerate quantum parametric multimode optical oscillator type I below threshold by a\n",
      "[true] we show how to control spatial quantum correlations in a multimode degenerate optical parametric oscillator type i below threshold by \n",
      "setting preds_emb\n"
     ]
    },
    {
     "name": "stderr",
     "output_type": "stream",
     "text": [
      "\n",
      "generating from val:   0%|                                                                                               | 0/4 [00:00<?, ?it/s]\u001b[A\n",
      "generating from val:  25%|█████████████████████▊                                                                 | 1/4 [00:24<01:13, 24.46s/it]\u001b[A\n",
      "generating from val:  50%|███████████████████████████████████████████▌                                           | 2/4 [00:48<00:48, 24.37s/it]\u001b[A\n",
      "generating from val:  75%|█████████████████████████████████████████████████████████████████▎                     | 3/4 [01:12<00:24, 24.14s/it]\u001b[A\n",
      "generating from val: 100%|███████████████████████████████████████████████████████████████████████████████████████| 4/4 [01:35<00:00, 23.75s/it]\u001b[A\n",
      "                                                                                                                                               \u001b[AWarning: Empty reference sentence detected; setting raw BERTScores to 0.\n",
      " 88%|██████████████████████████████████████████████████████████████████████████████████████████▍            | 43/49 [1:57:25<28:29, 284.88s/it]"
     ]
    },
    {
     "name": "stdout",
     "output_type": "stream",
     "text": [
      "[pred] The ex-Reading defender denied fraudulent trading charges relating to the Sodje Sports Foundation - a charity to raise money for Nigerian\n",
      "[true] The ex-Reading defender denied fraudulent trading charges relating to the Sodje Sports Foundation - a charity to raise money for Nigerian\n",
      "\n",
      "\n",
      "\n",
      "[pred] Voges was forced to retire hurt after batting for 86 on 4 June while suffering the injury in the County Championship draw with Somerset. Middlesex\n",
      "[true] Voges was forced to retire hurt on 86 after suffering the injury while batting during the County Championship draw with Somerset on 4 June. Middlesex\n",
      "\n",
      "\n",
      "\n",
      "[pred] Seven photographs taken in the Norfolk countryside by photographer Josh Olins will appear in the June edition. In her first sitting for the magazine, a du\n",
      "[true] Seven photographs taken in the Norfolk countryside by photographer Josh Olins will appear in the June edition. In her first sitting for a magazine, the du\n",
      "setting preds_emb\n",
      "*** round 44\n"
     ]
    },
    {
     "name": "stderr",
     "output_type": "stream",
     "text": [
      "\n",
      "generating from val:   0%|                                                                                               | 0/4 [00:00<?, ?it/s]\u001b[A\n",
      "generating from val:  25%|█████████████████████▊                                                                 | 1/4 [00:24<01:13, 24.47s/it]\u001b[A\n",
      "generating from val:  50%|███████████████████████████████████████████▌                                           | 2/4 [00:48<00:48, 24.38s/it]\u001b[A\n",
      "generating from val:  75%|█████████████████████████████████████████████████████████████████▎                     | 3/4 [01:13<00:24, 24.32s/it]\u001b[A\n",
      "generating from val: 100%|███████████████████████████████████████████████████████████████████████████████████████| 4/4 [01:37<00:00, 24.20s/it]\u001b[A\n",
      "                                                                                                                                               \u001b[A"
     ]
    },
    {
     "name": "stdout",
     "output_type": "stream",
     "text": [
      "[pred] to the character of the sutures of the skull, which, like those of the infant skull, are relatively smooth and untortuous. In\n",
      "[true] to the character of the sutures of the skull which, like those of the infant skull, are relatively smooth and untortuous. In fact\n",
      "\n",
      "\n",
      "\n",
      "[pred] individual from the Southern Hemisphere, to win a Winter Olympic gold medal and was also part of the short track relay team that won Australia'\n",
      "[true] individual from the Southern Hemisphere, to win a Winter Olympic gold medal and was also part of the short track relay team that won Australia'\n",
      "\n",
      "\n",
      "\n",
      "[pred] the same rights as straight people, while 15% disagreed. Additionally, 69% agreed that they should be protected from workplace discrimination. 13% of H\n",
      "[true] the same rights as straight people, while 15% disagreed. Additionally, 69% agreed that they should be protected from workplace discrimination. 13% of H\n",
      "setting preds_emb\n"
     ]
    },
    {
     "name": "stderr",
     "output_type": "stream",
     "text": [
      "\n",
      "generating from val:   0%|                                                                                               | 0/4 [00:00<?, ?it/s]\u001b[A\n",
      "generating from val:  25%|█████████████████████▊                                                                 | 1/4 [00:24<01:13, 24.62s/it]\u001b[A\n",
      "generating from val:  50%|███████████████████████████████████████████▌                                           | 2/4 [00:49<00:49, 24.60s/it]\u001b[A\n",
      "generating from val:  75%|█████████████████████████████████████████████████████████████████▎                     | 3/4 [01:13<00:24, 24.67s/it]\u001b[A\n",
      "generating from val: 100%|███████████████████████████████████████████████████████████████████████████████████████| 4/4 [01:37<00:00, 24.33s/it]\u001b[A\n",
      "                                                                                                                                               \u001b[A"
     ]
    },
    {
     "name": "stdout",
     "output_type": "stream",
     "text": [
      "[pred] we study the phase behavior of a nematic liquid crystal confined between a patterned substrate and a flat substrate with strong anchoring\n",
      "[true] we study the phase behavior of a nematic liquid crystal confined between a flat substrate with strong anchoring and a patterned substrate\n",
      "\n",
      "\n",
      "\n",
      "[pred] determining the scaling relations between galaxy clusters requires large samples of uniformly observed clusters. We measure the mean observable x -\n",
      "[true] determining the scaling relations between galaxy cluster observables requires large samples of uniformly observed clusters. we measure the mean x -\n",
      "\n",
      "\n",
      "\n",
      "[pred] we show how to control spatial correlations in a degenerate quantum parametric multimode optical oscillator type I below threshold by a\n",
      "[true] we show how to control spatial quantum correlations in a multimode degenerate optical parametric oscillator type i below threshold by \n",
      "setting preds_emb\n"
     ]
    },
    {
     "name": "stderr",
     "output_type": "stream",
     "text": [
      "\n",
      "generating from val:   0%|                                                                                               | 0/4 [00:00<?, ?it/s]\u001b[A\n",
      "generating from val:  25%|█████████████████████▊                                                                 | 1/4 [00:24<01:14, 24.99s/it]\u001b[A\n",
      "generating from val:  50%|███████████████████████████████████████████▌                                           | 2/4 [00:50<00:50, 25.29s/it]\u001b[A\n",
      "generating from val:  75%|█████████████████████████████████████████████████████████████████▎                     | 3/4 [01:15<00:24, 24.99s/it]\u001b[A\n",
      "generating from val: 100%|███████████████████████████████████████████████████████████████████████████████████████| 4/4 [01:38<00:00, 24.48s/it]\u001b[A\n",
      "                                                                                                                                               \u001b[AWarning: Empty reference sentence detected; setting raw BERTScores to 0.\n",
      " 90%|████████████████████████████████████████████████████████████████████████████████████████████▍          | 44/49 [2:02:34<24:21, 292.24s/it]"
     ]
    },
    {
     "name": "stdout",
     "output_type": "stream",
     "text": [
      "[pred] The ex-Reading defender denied fraudulent trading charges relating to the Sodje Sports Foundation - a charity to raise money for Nigerian\n",
      "[true] The ex-Reading defender denied fraudulent trading charges relating to the Sodje Sports Foundation - a charity to raise money for Nigerian\n",
      "\n",
      "\n",
      "\n",
      "[pred] Voges was forced to retire hurt after batting for 86 on 4 June while suffering the injury during the County Championship draw with Somerset. Middlesex\n",
      "[true] Voges was forced to retire hurt on 86 after suffering the injury while batting during the County Championship draw with Somerset on 4 June. Middlesex\n",
      "\n",
      "\n",
      "\n",
      "[pred] Seven photographs taken in the Norfolk countryside by photographer Josh Olins will appear in the June edition. In her first sitting for the magazine, a du\n",
      "[true] Seven photographs taken in the Norfolk countryside by photographer Josh Olins will appear in the June edition. In her first sitting for a magazine, the du\n",
      "setting preds_emb\n",
      "*** round 45\n"
     ]
    },
    {
     "name": "stderr",
     "output_type": "stream",
     "text": [
      "\n",
      "generating from val:   0%|                                                                                               | 0/4 [00:00<?, ?it/s]\u001b[A\n",
      "generating from val:  25%|█████████████████████▊                                                                 | 1/4 [00:25<01:15, 25.24s/it]\u001b[A\n",
      "generating from val:  50%|███████████████████████████████████████████▌                                           | 2/4 [00:50<00:50, 25.15s/it]\u001b[A\n",
      "generating from val:  75%|█████████████████████████████████████████████████████████████████▎                     | 3/4 [01:16<00:25, 25.59s/it]\u001b[A\n",
      "generating from val: 100%|███████████████████████████████████████████████████████████████████████████████████████| 4/4 [01:40<00:00, 25.08s/it]\u001b[A\n",
      "                                                                                                                                               \u001b[A"
     ]
    },
    {
     "name": "stdout",
     "output_type": "stream",
     "text": [
      "[pred] to the character of the sutures of the skull, which, like those of the infant skull, are relatively smooth and untortuous. In\n",
      "[true] to the character of the sutures of the skull which, like those of the infant skull, are relatively smooth and untortuous. In fact\n",
      "\n",
      "\n",
      "\n",
      "[pred] individual from the Southern Hemisphere, to win a Winter Olympic gold medal and was also part of the short track relay team that won Australia'\n",
      "[true] individual from the Southern Hemisphere, to win a Winter Olympic gold medal and was also part of the short track relay team that won Australia'\n",
      "\n",
      "\n",
      "\n",
      "[pred] the same rights as straight people, while 15% disagreed. Additionally, 69% agreed that they should be protected from workplace discrimination. 13% of H\n",
      "[true] the same rights as straight people, while 15% disagreed. Additionally, 69% agreed that they should be protected from workplace discrimination. 13% of H\n",
      "setting preds_emb\n"
     ]
    },
    {
     "name": "stderr",
     "output_type": "stream",
     "text": [
      "\n",
      "generating from val:   0%|                                                                                               | 0/4 [00:00<?, ?it/s]\u001b[A\n",
      "generating from val:  25%|█████████████████████▊                                                                 | 1/4 [00:25<01:15, 25.06s/it]\u001b[A\n",
      "generating from val:  50%|███████████████████████████████████████████▌                                           | 2/4 [00:50<00:50, 25.04s/it]\u001b[A\n",
      "generating from val:  75%|█████████████████████████████████████████████████████████████████▎                     | 3/4 [01:14<00:24, 24.89s/it]\u001b[A\n",
      "generating from val: 100%|███████████████████████████████████████████████████████████████████████████████████████| 4/4 [01:39<00:00, 24.73s/it]\u001b[A\n",
      "                                                                                                                                               \u001b[A"
     ]
    },
    {
     "name": "stdout",
     "output_type": "stream",
     "text": [
      "[pred] we study the phase behavior of a nematic liquid crystal confined between a flat substrate and a patterned substrate with strong anchoring\n",
      "[true] we study the phase behavior of a nematic liquid crystal confined between a flat substrate with strong anchoring and a patterned substrate\n",
      "\n",
      "\n",
      "\n",
      "[pred] determining the scaling relations between galaxy clusters requires large samples of uniformly observed clusters. we measure the mean observables x-\n",
      "[true] determining the scaling relations between galaxy cluster observables requires large samples of uniformly observed clusters. we measure the mean x -\n",
      "\n",
      "\n",
      "\n",
      "[pred] we show how to control spatial correlations in a degenerate quantum parametric multimode optical oscillator type I below threshold by a\n",
      "[true] we show how to control spatial quantum correlations in a multimode degenerate optical parametric oscillator type i below threshold by \n",
      "setting preds_emb\n"
     ]
    },
    {
     "name": "stderr",
     "output_type": "stream",
     "text": [
      "\n",
      "generating from val:   0%|                                                                                               | 0/4 [00:00<?, ?it/s]\u001b[A\n",
      "generating from val:  25%|█████████████████████▊                                                                 | 1/4 [00:25<01:15, 25.25s/it]\u001b[A\n",
      "generating from val:  50%|███████████████████████████████████████████▌                                           | 2/4 [00:50<00:50, 25.07s/it]\u001b[A\n",
      "generating from val:  75%|█████████████████████████████████████████████████████████████████▎                     | 3/4 [01:15<00:25, 25.03s/it]\u001b[A\n",
      "generating from val: 100%|███████████████████████████████████████████████████████████████████████████████████████| 4/4 [01:39<00:00, 24.59s/it]\u001b[A\n",
      "                                                                                                                                               \u001b[AWarning: Empty reference sentence detected; setting raw BERTScores to 0.\n",
      " 92%|██████████████████████████████████████████████████████████████████████████████████████████████▌        | 45/49 [2:07:48<19:55, 298.91s/it]"
     ]
    },
    {
     "name": "stdout",
     "output_type": "stream",
     "text": [
      "[pred] The ex-Reading defender denied fraudulent trading charges relating to the Sodje Sports Foundation - a charity to raise money for Nigerian\n",
      "[true] The ex-Reading defender denied fraudulent trading charges relating to the Sodje Sports Foundation - a charity to raise money for Nigerian\n",
      "\n",
      "\n",
      "\n",
      "[pred] Voges was forced to retire hurt after batting for 86 on 4 June while suffering the injury in the County Championship draw with Somerset. Middlesex\n",
      "[true] Voges was forced to retire hurt on 86 after suffering the injury while batting during the County Championship draw with Somerset on 4 June. Middlesex\n",
      "\n",
      "\n",
      "\n",
      "[pred] Seven photographs taken in the Norfolk countryside by photographer Josh Olins will appear in the June edition. In her first sitting for the magazine, a du\n",
      "[true] Seven photographs taken in the Norfolk countryside by photographer Josh Olins will appear in the June edition. In her first sitting for a magazine, the du\n",
      "setting preds_emb\n",
      "*** round 46\n"
     ]
    },
    {
     "name": "stderr",
     "output_type": "stream",
     "text": [
      "\n",
      "generating from val:   0%|                                                                                               | 0/4 [00:00<?, ?it/s]\u001b[A\n",
      "generating from val:  25%|█████████████████████▊                                                                 | 1/4 [00:25<01:16, 25.41s/it]\u001b[A\n",
      "generating from val:  50%|███████████████████████████████████████████▌                                           | 2/4 [00:50<00:50, 25.24s/it]\u001b[A\n",
      "generating from val:  75%|█████████████████████████████████████████████████████████████████▎                     | 3/4 [01:16<00:25, 25.38s/it]\u001b[A\n",
      "generating from val: 100%|███████████████████████████████████████████████████████████████████████████████████████| 4/4 [01:40<00:00, 25.15s/it]\u001b[A\n",
      "                                                                                                                                               \u001b[A"
     ]
    },
    {
     "name": "stdout",
     "output_type": "stream",
     "text": [
      "[pred] to the character of the sutures of the skull, which, like those of the infant skull, are relatively smooth and untortuous. In\n",
      "[true] to the character of the sutures of the skull which, like those of the infant skull, are relatively smooth and untortuous. In fact\n",
      "\n",
      "\n",
      "\n",
      "[pred] individual from the Southern Hemisphere, to win a Winter Olympic gold medal and was also part of the short track relay team that won Australia'\n",
      "[true] individual from the Southern Hemisphere, to win a Winter Olympic gold medal and was also part of the short track relay team that won Australia'\n",
      "\n",
      "\n",
      "\n",
      "[pred] the same rights as straight people, while 15% disagreed. Additionally, 69% agreed that they should be protected from workplace discrimination. 13% of H\n",
      "[true] the same rights as straight people, while 15% disagreed. Additionally, 69% agreed that they should be protected from workplace discrimination. 13% of H\n",
      "setting preds_emb\n"
     ]
    },
    {
     "name": "stderr",
     "output_type": "stream",
     "text": [
      "\n",
      "generating from val:   0%|                                                                                               | 0/4 [00:00<?, ?it/s]\u001b[A\n",
      "generating from val:  25%|█████████████████████▊                                                                 | 1/4 [00:25<01:16, 25.47s/it]\u001b[A\n",
      "generating from val:  50%|███████████████████████████████████████████▌                                           | 2/4 [00:51<00:51, 25.80s/it]\u001b[A\n",
      "generating from val:  75%|█████████████████████████████████████████████████████████████████▎                     | 3/4 [01:17<00:25, 25.85s/it]\u001b[A\n",
      "generating from val: 100%|███████████████████████████████████████████████████████████████████████████████████████| 4/4 [01:42<00:00, 25.51s/it]\u001b[A\n",
      "                                                                                                                                               \u001b[A"
     ]
    },
    {
     "name": "stdout",
     "output_type": "stream",
     "text": [
      "[pred] we study the phase behavior of a nematic liquid crystal confined between a patterned substrate and a flat substrate with strong anchoring\n",
      "[true] we study the phase behavior of a nematic liquid crystal confined between a flat substrate with strong anchoring and a patterned substrate\n",
      "\n",
      "\n",
      "\n",
      "[pred] determining the scaling relations between galaxy clusters requires large samples of uniformly observed clusters. We measure the mean observable x -\n",
      "[true] determining the scaling relations between galaxy cluster observables requires large samples of uniformly observed clusters. we measure the mean x -\n",
      "\n",
      "\n",
      "\n",
      "[pred] we show how to control spatial correlations in a degenerate quantum parametric multimode optical oscillator type I below threshold by a\n",
      "[true] we show how to control spatial quantum correlations in a multimode degenerate optical parametric oscillator type i below threshold by \n",
      "setting preds_emb\n"
     ]
    },
    {
     "name": "stderr",
     "output_type": "stream",
     "text": [
      "\n",
      "generating from val:   0%|                                                                                               | 0/4 [00:00<?, ?it/s]\u001b[A\n",
      "generating from val:  25%|█████████████████████▊                                                                 | 1/4 [00:25<01:15, 25.09s/it]\u001b[A\n",
      "generating from val:  50%|███████████████████████████████████████████▌                                           | 2/4 [00:50<00:50, 25.30s/it]\u001b[A\n",
      "generating from val:  75%|█████████████████████████████████████████████████████████████████▎                     | 3/4 [01:16<00:25, 25.46s/it]\u001b[A\n",
      "generating from val: 100%|███████████████████████████████████████████████████████████████████████████████████████| 4/4 [01:40<00:00, 25.14s/it]\u001b[A\n",
      "                                                                                                                                               \u001b[AWarning: Empty reference sentence detected; setting raw BERTScores to 0.\n",
      " 94%|████████████████████████████████████████████████████████████████████████████████████████████████▋      | 46/49 [2:13:09<15:15, 305.28s/it]"
     ]
    },
    {
     "name": "stdout",
     "output_type": "stream",
     "text": [
      "[pred] The ex-Reading defender denied fraudulent trading charges relating to the Sodje Sports Foundation - a charity to raise money for Nigerian\n",
      "[true] The ex-Reading defender denied fraudulent trading charges relating to the Sodje Sports Foundation - a charity to raise money for Nigerian\n",
      "\n",
      "\n",
      "\n",
      "[pred] Voges was forced to retire hurt after batting for 86 on 4 June while suffering the injury during the County Championship draw with Somerset. Middlesex\n",
      "[true] Voges was forced to retire hurt on 86 after suffering the injury while batting during the County Championship draw with Somerset on 4 June. Middlesex\n",
      "\n",
      "\n",
      "\n",
      "[pred] Seven photographs taken in the Norfolk countryside by photographer Josh Olins will appear in the June edition. In her first sitting for the magazine, a du\n",
      "[true] Seven photographs taken in the Norfolk countryside by photographer Josh Olins will appear in the June edition. In her first sitting for a magazine, the du\n",
      "setting preds_emb\n",
      "*** round 47\n"
     ]
    },
    {
     "name": "stderr",
     "output_type": "stream",
     "text": [
      "\n",
      "generating from val:   0%|                                                                                               | 0/4 [00:00<?, ?it/s]\u001b[A\n",
      "generating from val:  25%|█████████████████████▊                                                                 | 1/4 [00:26<01:18, 26.00s/it]\u001b[A\n",
      "generating from val:  50%|███████████████████████████████████████████▌                                           | 2/4 [00:52<00:52, 26.29s/it]\u001b[A\n",
      "generating from val:  75%|█████████████████████████████████████████████████████████████████▎                     | 3/4 [01:18<00:26, 26.21s/it]\u001b[A\n",
      "generating from val: 100%|███████████████████████████████████████████████████████████████████████████████████████| 4/4 [01:44<00:00, 26.06s/it]\u001b[A\n",
      "                                                                                                                                               \u001b[A"
     ]
    },
    {
     "name": "stdout",
     "output_type": "stream",
     "text": [
      "[pred] to the character of the sutures of the skull, which, like those of the infant skull, are relatively smooth and untortuous. In\n",
      "[true] to the character of the sutures of the skull which, like those of the infant skull, are relatively smooth and untortuous. In fact\n",
      "\n",
      "\n",
      "\n",
      "[pred] individual from the Southern Hemisphere, to win a Winter Olympic gold medal and was also part of the short track relay team that won Australia'\n",
      "[true] individual from the Southern Hemisphere, to win a Winter Olympic gold medal and was also part of the short track relay team that won Australia'\n",
      "\n",
      "\n",
      "\n",
      "[pred] the same rights as straight people, while 15% disagreed. Additionally, 69% agreed that they should be protected from workplace discrimination. 13% of H\n",
      "[true] the same rights as straight people, while 15% disagreed. Additionally, 69% agreed that they should be protected from workplace discrimination. 13% of H\n",
      "setting preds_emb\n"
     ]
    },
    {
     "name": "stderr",
     "output_type": "stream",
     "text": [
      "\n",
      "generating from val:   0%|                                                                                               | 0/4 [00:00<?, ?it/s]\u001b[A\n",
      "generating from val:  25%|█████████████████████▊                                                                 | 1/4 [00:26<01:18, 26.04s/it]\u001b[A\n",
      "generating from val:  50%|███████████████████████████████████████████▌                                           | 2/4 [00:52<00:52, 26.30s/it]\u001b[A\n",
      "generating from val:  75%|█████████████████████████████████████████████████████████████████▎                     | 3/4 [01:18<00:26, 26.32s/it]\u001b[A\n",
      "generating from val: 100%|███████████████████████████████████████████████████████████████████████████████████████| 4/4 [01:43<00:00, 25.72s/it]\u001b[A\n",
      "                                                                                                                                               \u001b[A"
     ]
    },
    {
     "name": "stdout",
     "output_type": "stream",
     "text": [
      "[pred] we study the phase behavior of a nematic liquid crystal confined between a flat substrate and a patterned substrate with strong anchoring\n",
      "[true] we study the phase behavior of a nematic liquid crystal confined between a flat substrate with strong anchoring and a patterned substrate\n",
      "\n",
      "\n",
      "\n",
      "[pred] determining the scaling relations between galaxy clusters requires large samples of uniformly observed clusters. we measure the mean observables x-\n",
      "[true] determining the scaling relations between galaxy cluster observables requires large samples of uniformly observed clusters. we measure the mean x -\n",
      "\n",
      "\n",
      "\n",
      "[pred] we show how to control spatial correlations in a degenerate quantum parametric multimode optical oscillator type I below threshold by a\n",
      "[true] we show how to control spatial quantum correlations in a multimode degenerate optical parametric oscillator type i below threshold by \n",
      "setting preds_emb\n"
     ]
    },
    {
     "name": "stderr",
     "output_type": "stream",
     "text": [
      "\n",
      "generating from val:   0%|                                                                                               | 0/4 [00:00<?, ?it/s]\u001b[A\n",
      "generating from val:  25%|█████████████████████▊                                                                 | 1/4 [00:25<01:17, 25.74s/it]\u001b[A\n",
      "generating from val:  50%|███████████████████████████████████████████▌                                           | 2/4 [00:51<00:51, 25.72s/it]\u001b[A\n",
      "generating from val:  75%|█████████████████████████████████████████████████████████████████▎                     | 3/4 [01:17<00:25, 25.93s/it]\u001b[A\n",
      "generating from val: 100%|███████████████████████████████████████████████████████████████████████████████████████| 4/4 [01:42<00:00, 25.70s/it]\u001b[A\n",
      "                                                                                                                                               \u001b[AWarning: Empty reference sentence detected; setting raw BERTScores to 0.\n",
      " 96%|██████████████████████████████████████████████████████████████████████████████████████████████████▊    | 47/49 [2:18:35<10:23, 311.71s/it]"
     ]
    },
    {
     "name": "stdout",
     "output_type": "stream",
     "text": [
      "[pred] The ex-Reading defender denied fraudulent trading charges relating to the Sodje Sports Foundation - a charity to raise money for Nigerian\n",
      "[true] The ex-Reading defender denied fraudulent trading charges relating to the Sodje Sports Foundation - a charity to raise money for Nigerian\n",
      "\n",
      "\n",
      "\n",
      "[pred] Voges was forced to retire hurt after batting for 86 on 4 June while suffering the injury in the County Championship draw with Somerset. Middlesex\n",
      "[true] Voges was forced to retire hurt on 86 after suffering the injury while batting during the County Championship draw with Somerset on 4 June. Middlesex\n",
      "\n",
      "\n",
      "\n",
      "[pred] Seven photographs taken in the Norfolk countryside by photographer Josh Olins will appear in the June edition. In her first sitting for the magazine, a du\n",
      "[true] Seven photographs taken in the Norfolk countryside by photographer Josh Olins will appear in the June edition. In her first sitting for a magazine, the du\n",
      "setting preds_emb\n",
      "*** round 48\n"
     ]
    },
    {
     "name": "stderr",
     "output_type": "stream",
     "text": [
      "\n",
      "generating from val:   0%|                                                                                               | 0/4 [00:00<?, ?it/s]\u001b[A\n",
      "generating from val:  25%|█████████████████████▊                                                                 | 1/4 [00:27<01:21, 27.20s/it]\u001b[A\n",
      "generating from val:  50%|███████████████████████████████████████████▌                                           | 2/4 [00:53<00:53, 26.93s/it]\u001b[A\n",
      "generating from val:  75%|█████████████████████████████████████████████████████████████████▎                     | 3/4 [01:20<00:26, 26.68s/it]\u001b[A\n",
      "generating from val: 100%|███████████████████████████████████████████████████████████████████████████████████████| 4/4 [01:46<00:00, 26.45s/it]\u001b[A\n",
      "                                                                                                                                               \u001b[A"
     ]
    },
    {
     "name": "stdout",
     "output_type": "stream",
     "text": [
      "[pred] to the character of the sutures of the skull, which, like those of the infant skull, are relatively smooth and untortuous. In\n",
      "[true] to the character of the sutures of the skull which, like those of the infant skull, are relatively smooth and untortuous. In fact\n",
      "\n",
      "\n",
      "\n",
      "[pred] individual from the Southern Hemisphere, to win a Winter Olympic gold medal and was also part of the short track relay team that won Australia'\n",
      "[true] individual from the Southern Hemisphere, to win a Winter Olympic gold medal and was also part of the short track relay team that won Australia'\n",
      "\n",
      "\n",
      "\n",
      "[pred] the same rights as straight people, while 15% disagreed. Additionally, 69% agreed that they should be protected from workplace discrimination. 13% of H\n",
      "[true] the same rights as straight people, while 15% disagreed. Additionally, 69% agreed that they should be protected from workplace discrimination. 13% of H\n",
      "setting preds_emb\n"
     ]
    },
    {
     "name": "stderr",
     "output_type": "stream",
     "text": [
      "\n",
      "generating from val:   0%|                                                                                               | 0/4 [00:00<?, ?it/s]\u001b[A\n",
      "generating from val:  25%|█████████████████████▊                                                                 | 1/4 [00:27<01:21, 27.08s/it]\u001b[A\n",
      "generating from val:  50%|███████████████████████████████████████████▌                                           | 2/4 [00:54<00:54, 27.09s/it]\u001b[A\n",
      "generating from val:  75%|█████████████████████████████████████████████████████████████████▎                     | 3/4 [01:20<00:26, 26.70s/it]\u001b[A\n",
      "generating from val: 100%|███████████████████████████████████████████████████████████████████████████████████████| 4/4 [01:46<00:00, 26.34s/it]\u001b[A\n",
      "                                                                                                                                               \u001b[A"
     ]
    },
    {
     "name": "stdout",
     "output_type": "stream",
     "text": [
      "[pred] we study the phase behavior of a nematic liquid crystal confined between a patterned substrate and a flat substrate with strong anchoring\n",
      "[true] we study the phase behavior of a nematic liquid crystal confined between a flat substrate with strong anchoring and a patterned substrate\n",
      "\n",
      "\n",
      "\n",
      "[pred] determining the scaling relations between galaxy clusters requires large samples of uniformly observed clusters. We measure the mean observable x -\n",
      "[true] determining the scaling relations between galaxy cluster observables requires large samples of uniformly observed clusters. we measure the mean x -\n",
      "\n",
      "\n",
      "\n",
      "[pred] we show how to control spatial correlations in a degenerate quantum parametric multimode optical oscillator type I below threshold by a\n",
      "[true] we show how to control spatial quantum correlations in a multimode degenerate optical parametric oscillator type i below threshold by \n",
      "setting preds_emb\n"
     ]
    },
    {
     "name": "stderr",
     "output_type": "stream",
     "text": [
      "\n",
      "generating from val:   0%|                                                                                               | 0/4 [00:00<?, ?it/s]\u001b[A\n",
      "generating from val:  25%|█████████████████████▊                                                                 | 1/4 [00:27<01:22, 27.39s/it]\u001b[A\n",
      "generating from val:  50%|███████████████████████████████████████████▌                                           | 2/4 [00:54<00:54, 27.10s/it]\u001b[A\n",
      "generating from val:  75%|█████████████████████████████████████████████████████████████████▎                     | 3/4 [01:21<00:27, 27.02s/it]\u001b[A\n",
      "generating from val: 100%|███████████████████████████████████████████████████████████████████████████████████████| 4/4 [01:46<00:00, 26.44s/it]\u001b[A\n",
      "                                                                                                                                               \u001b[AWarning: Empty reference sentence detected; setting raw BERTScores to 0.\n",
      " 98%|████████████████████████████████████████████████████████████████████████████████████████████████████▉  | 48/49 [2:24:10<05:18, 318.74s/it]"
     ]
    },
    {
     "name": "stdout",
     "output_type": "stream",
     "text": [
      "[pred] The ex-Reading defender denied fraudulent trading charges relating to the Sodje Sports Foundation - a charity to raise money for Nigerian\n",
      "[true] The ex-Reading defender denied fraudulent trading charges relating to the Sodje Sports Foundation - a charity to raise money for Nigerian\n",
      "\n",
      "\n",
      "\n",
      "[pred] Voges was forced to retire hurt after batting for 86 on 4 June while suffering the injury during the County Championship draw with Somerset. Middlesex\n",
      "[true] Voges was forced to retire hurt on 86 after suffering the injury while batting during the County Championship draw with Somerset on 4 June. Middlesex\n",
      "\n",
      "\n",
      "\n",
      "[pred] Seven photographs taken in the Norfolk countryside by photographer Josh Olins will appear in the June edition. In her first sitting for the magazine, a du\n",
      "[true] Seven photographs taken in the Norfolk countryside by photographer Josh Olins will appear in the June edition. In her first sitting for a magazine, the du\n",
      "setting preds_emb\n",
      "*** round 49\n"
     ]
    },
    {
     "name": "stderr",
     "output_type": "stream",
     "text": [
      "\n",
      "generating from val:   0%|                                                                                               | 0/4 [00:00<?, ?it/s]\u001b[A\n",
      "generating from val:  25%|█████████████████████▊                                                                 | 1/4 [00:27<01:21, 27.12s/it]\u001b[A\n",
      "generating from val:  50%|███████████████████████████████████████████▌                                           | 2/4 [00:54<00:54, 27.29s/it]\u001b[A\n",
      "generating from val:  75%|█████████████████████████████████████████████████████████████████▎                     | 3/4 [01:22<00:27, 27.48s/it]\u001b[A\n",
      "generating from val: 100%|███████████████████████████████████████████████████████████████████████████████████████| 4/4 [01:47<00:00, 26.70s/it]\u001b[A\n",
      "                                                                                                                                               \u001b[A"
     ]
    },
    {
     "name": "stdout",
     "output_type": "stream",
     "text": [
      "[pred] to the character of the sutures of the skull, which, like those of the infant skull, are relatively smooth and untortuous. In\n",
      "[true] to the character of the sutures of the skull which, like those of the infant skull, are relatively smooth and untortuous. In fact\n",
      "\n",
      "\n",
      "\n",
      "[pred] individual from the Southern Hemisphere, to win a Winter Olympic gold medal and was also part of the short track relay team that won Australia'\n",
      "[true] individual from the Southern Hemisphere, to win a Winter Olympic gold medal and was also part of the short track relay team that won Australia'\n",
      "\n",
      "\n",
      "\n",
      "[pred] the same rights as straight people, while 15% disagreed. Additionally, 69% agreed that they should be protected from workplace discrimination. 13% of H\n",
      "[true] the same rights as straight people, while 15% disagreed. Additionally, 69% agreed that they should be protected from workplace discrimination. 13% of H\n",
      "setting preds_emb\n"
     ]
    },
    {
     "name": "stderr",
     "output_type": "stream",
     "text": [
      "\n",
      "generating from val:   0%|                                                                                               | 0/4 [00:00<?, ?it/s]\u001b[A\n",
      "generating from val:  25%|█████████████████████▊                                                                 | 1/4 [00:26<01:20, 26.90s/it]\u001b[A\n",
      "generating from val:  50%|███████████████████████████████████████████▌                                           | 2/4 [00:54<00:54, 27.15s/it]\u001b[A\n",
      "generating from val:  75%|█████████████████████████████████████████████████████████████████▎                     | 3/4 [01:21<00:27, 27.20s/it]\u001b[A\n",
      "generating from val: 100%|███████████████████████████████████████████████████████████████████████████████████████| 4/4 [01:47<00:00, 26.82s/it]\u001b[A\n",
      "                                                                                                                                               \u001b[A"
     ]
    },
    {
     "name": "stdout",
     "output_type": "stream",
     "text": [
      "[pred] we study the phase behavior of a nematic liquid crystal confined between a flat substrate and a patterned substrate with strong anchoring\n",
      "[true] we study the phase behavior of a nematic liquid crystal confined between a flat substrate with strong anchoring and a patterned substrate\n",
      "\n",
      "\n",
      "\n",
      "[pred] determining the scaling relations between galaxy clusters requires large samples of uniformly observed clusters. we measure the mean observables x-\n",
      "[true] determining the scaling relations between galaxy cluster observables requires large samples of uniformly observed clusters. we measure the mean x -\n",
      "\n",
      "\n",
      "\n",
      "[pred] we show how to control spatial correlations in a degenerate quantum parametric multimode optical oscillator type I below threshold by a\n",
      "[true] we show how to control spatial quantum correlations in a multimode degenerate optical parametric oscillator type i below threshold by \n",
      "setting preds_emb\n"
     ]
    },
    {
     "name": "stderr",
     "output_type": "stream",
     "text": [
      "\n",
      "generating from val:   0%|                                                                                               | 0/4 [00:00<?, ?it/s]\u001b[A\n",
      "generating from val:  25%|█████████████████████▊                                                                 | 1/4 [00:26<01:20, 26.83s/it]\u001b[A\n",
      "generating from val:  50%|███████████████████████████████████████████▌                                           | 2/4 [00:54<00:54, 27.23s/it]\u001b[A\n",
      "generating from val:  75%|█████████████████████████████████████████████████████████████████▎                     | 3/4 [01:21<00:27, 27.16s/it]\u001b[A\n",
      "generating from val: 100%|███████████████████████████████████████████████████████████████████████████████████████| 4/4 [01:47<00:00, 26.61s/it]\u001b[A\n",
      "                                                                                                                                               \u001b[AWarning: Empty reference sentence detected; setting raw BERTScores to 0.\n",
      "100%|███████████████████████████████████████████████████████████████████████████████████████████████████████| 49/49 [2:29:49<00:00, 183.45s/it]"
     ]
    },
    {
     "name": "stdout",
     "output_type": "stream",
     "text": [
      "[pred] The ex-Reading defender denied fraudulent trading charges relating to the Sodje Sports Foundation - a charity to raise money for Nigerian\n",
      "[true] The ex-Reading defender denied fraudulent trading charges relating to the Sodje Sports Foundation - a charity to raise money for Nigerian\n",
      "\n",
      "\n",
      "\n",
      "[pred] Voges was forced to retire hurt after batting for 86 on 4 June while suffering the injury in the County Championship draw with Somerset. Middlesex\n",
      "[true] Voges was forced to retire hurt on 86 after suffering the injury while batting during the County Championship draw with Somerset on 4 June. Middlesex\n",
      "\n",
      "\n",
      "\n",
      "[pred] Seven photographs taken in the Norfolk countryside by photographer Josh Olins will appear in the June edition. In her first sitting for the magazine, a du\n",
      "[true] Seven photographs taken in the Norfolk countryside by photographer Josh Olins will appear in the June edition. In her first sitting for a magazine, the du\n",
      "setting preds_emb\n"
     ]
    },
    {
     "name": "stderr",
     "output_type": "stream",
     "text": [
      "\n"
     ]
    }
   ],
   "source": [
    "from tqdm import trange\n",
    "\n",
    "all_metrics = []\n",
    "\n",
    "def get_metrics(t):\n",
    "    return (\n",
    "    {f\"nq_{k}\": v for k,v in t.evaluate(eval_dataset=t.eval_dataset[\"nq\"]).items()} \n",
    "    |\n",
    "    {f\"arxiv_{k}\": v for k,v in t.evaluate(eval_dataset=t.eval_dataset[\"arxiv\"]).items()} \n",
    "    |\n",
    "    {f\"xsum_doc_{k}\": v for k,v in t.evaluate(eval_dataset=t.eval_dataset[\"xsum_doc\"]).items()} \n",
    ")\n",
    "\n",
    "trainer.inversion_trainer.model.use_frozen_embeddings_as_input = False\n",
    "trainer.inversion_trainer.gen_kwargs =  {\n",
    "    \"early_stopping\": False,\n",
    "    \"num_beams\": 1,\n",
    "    \"do_sample\": False,\n",
    "    \"no_repeat_ngram_size\": 0,\n",
    "}\n",
    "metrics = get_metrics(trainer.inversion_trainer)\n",
    "metrics['num_rounds'] = 0\n",
    "all_metrics.append(metrics)\n",
    "\n",
    "trainer.inversion_trainer.model.use_frozen_embeddings_as_input = True\n",
    "for R in trange(1, 50):\n",
    "    print(f\"*** round {R}\")\n",
    "    trainer.gen_kwargs = {\n",
    "        \"early_stopping\": False,\n",
    "        \"num_beams\": 1,\n",
    "        \"do_sample\": False,\n",
    "        \"no_repeat_ngram_size\": 0,\n",
    "    }\n",
    "    trainer.args.per_device_eval_batch_size = 128\n",
    "    trainer.num_gen_recursive_steps = R\n",
    "\n",
    "    metrics = get_metrics(trainer)\n",
    "    metrics['num_rounds'] = R\n",
    "    all_metrics.append(metrics)"
   ]
  },
  {
   "cell_type": "code",
   "execution_count": 35,
   "id": "08baadab-5673-4292-8549-fd486fa91f64",
   "metadata": {},
   "outputs": [
    {
     "data": {
      "text/plain": [
       "50"
      ]
     },
     "execution_count": 35,
     "metadata": {},
     "output_type": "execute_result"
    }
   ],
   "source": [
    "len(all_metrics)"
   ]
  },
  {
   "cell_type": "code",
   "execution_count": 36,
   "id": "7eefbfbe-cdd1-48fa-b7b3-e1122d58e93f",
   "metadata": {},
   "outputs": [
    {
     "data": {
      "text/html": [
       "<div>\n",
       "<style scoped>\n",
       "    .dataframe tbody tr th:only-of-type {\n",
       "        vertical-align: middle;\n",
       "    }\n",
       "\n",
       "    .dataframe tbody tr th {\n",
       "        vertical-align: top;\n",
       "    }\n",
       "\n",
       "    .dataframe thead th {\n",
       "        text-align: right;\n",
       "    }\n",
       "</style>\n",
       "<table border=\"1\" class=\"dataframe\">\n",
       "  <thead>\n",
       "    <tr style=\"text-align: right;\">\n",
       "      <th></th>\n",
       "      <th>nq_eval_loss</th>\n",
       "      <th>nq_eval_accuracy</th>\n",
       "      <th>nq_eval_token_set_precision</th>\n",
       "      <th>nq_eval_token_set_recall</th>\n",
       "      <th>nq_eval_token_set_f1</th>\n",
       "      <th>nq_eval_bleu_score</th>\n",
       "      <th>nq_eval_meteor_score</th>\n",
       "      <th>nq_eval_rouge_score</th>\n",
       "      <th>nq_eval_bert_score</th>\n",
       "      <th>nq_eval_exact_match</th>\n",
       "      <th>...</th>\n",
       "      <th>xsum_doc_eval_meteor_score</th>\n",
       "      <th>xsum_doc_eval_rouge_score</th>\n",
       "      <th>xsum_doc_eval_bert_score</th>\n",
       "      <th>xsum_doc_eval_exact_match</th>\n",
       "      <th>xsum_doc_eval_emb_cos_sim</th>\n",
       "      <th>xsum_doc_eval_perplexity</th>\n",
       "      <th>xsum_doc_eval_runtime</th>\n",
       "      <th>xsum_doc_eval_samples_per_second</th>\n",
       "      <th>xsum_doc_eval_steps_per_second</th>\n",
       "      <th>num_rounds</th>\n",
       "    </tr>\n",
       "  </thead>\n",
       "  <tbody>\n",
       "    <tr>\n",
       "      <th>0</th>\n",
       "      <td>1.052261</td>\n",
       "      <td>0.738607</td>\n",
       "      <td>0.659537</td>\n",
       "      <td>0.688779</td>\n",
       "      <td>0.672880</td>\n",
       "      <td>31.876986</td>\n",
       "      <td>0.579221</td>\n",
       "      <td>0.641488</td>\n",
       "      <td>0.917711</td>\n",
       "      <td>0.015625</td>\n",
       "      <td>...</td>\n",
       "      <td>0.462871</td>\n",
       "      <td>0.546852</td>\n",
       "      <td>0.897046</td>\n",
       "      <td>0.000</td>\n",
       "      <td>0.886195</td>\n",
       "      <td>4.452925</td>\n",
       "      <td>5.1810</td>\n",
       "      <td>96.506</td>\n",
       "      <td>0.772</td>\n",
       "      <td>0</td>\n",
       "    </tr>\n",
       "    <tr>\n",
       "      <th>1</th>\n",
       "      <td>0.645235</td>\n",
       "      <td>NaN</td>\n",
       "      <td>0.798146</td>\n",
       "      <td>0.812329</td>\n",
       "      <td>0.804574</td>\n",
       "      <td>49.991154</td>\n",
       "      <td>0.739983</td>\n",
       "      <td>0.778723</td>\n",
       "      <td>0.943934</td>\n",
       "      <td>0.088000</td>\n",
       "      <td>...</td>\n",
       "      <td>0.605260</td>\n",
       "      <td>0.667726</td>\n",
       "      <td>0.918014</td>\n",
       "      <td>0.002</td>\n",
       "      <td>0.935534</td>\n",
       "      <td>NaN</td>\n",
       "      <td>9.3527</td>\n",
       "      <td>53.461</td>\n",
       "      <td>0.428</td>\n",
       "      <td>1</td>\n",
       "    </tr>\n",
       "    <tr>\n",
       "      <th>2</th>\n",
       "      <td>0.645235</td>\n",
       "      <td>NaN</td>\n",
       "      <td>0.856935</td>\n",
       "      <td>0.865795</td>\n",
       "      <td>0.860895</td>\n",
       "      <td>60.560479</td>\n",
       "      <td>0.810046</td>\n",
       "      <td>0.841975</td>\n",
       "      <td>0.956518</td>\n",
       "      <td>0.190000</td>\n",
       "      <td>...</td>\n",
       "      <td>0.688532</td>\n",
       "      <td>0.739705</td>\n",
       "      <td>0.932339</td>\n",
       "      <td>0.018</td>\n",
       "      <td>0.951886</td>\n",
       "      <td>NaN</td>\n",
       "      <td>11.7574</td>\n",
       "      <td>42.527</td>\n",
       "      <td>0.340</td>\n",
       "      <td>2</td>\n",
       "    </tr>\n",
       "    <tr>\n",
       "      <th>3</th>\n",
       "      <td>0.645235</td>\n",
       "      <td>NaN</td>\n",
       "      <td>0.887662</td>\n",
       "      <td>0.895868</td>\n",
       "      <td>0.891410</td>\n",
       "      <td>67.151438</td>\n",
       "      <td>0.849825</td>\n",
       "      <td>0.876062</td>\n",
       "      <td>0.964854</td>\n",
       "      <td>0.274000</td>\n",
       "      <td>...</td>\n",
       "      <td>0.743652</td>\n",
       "      <td>0.781952</td>\n",
       "      <td>0.941930</td>\n",
       "      <td>0.054</td>\n",
       "      <td>0.962352</td>\n",
       "      <td>NaN</td>\n",
       "      <td>13.6233</td>\n",
       "      <td>36.702</td>\n",
       "      <td>0.294</td>\n",
       "      <td>3</td>\n",
       "    </tr>\n",
       "    <tr>\n",
       "      <th>4</th>\n",
       "      <td>0.645235</td>\n",
       "      <td>NaN</td>\n",
       "      <td>0.906216</td>\n",
       "      <td>0.917397</td>\n",
       "      <td>0.911450</td>\n",
       "      <td>71.701140</td>\n",
       "      <td>0.876375</td>\n",
       "      <td>0.898838</td>\n",
       "      <td>0.969566</td>\n",
       "      <td>0.338000</td>\n",
       "      <td>...</td>\n",
       "      <td>0.778148</td>\n",
       "      <td>0.809880</td>\n",
       "      <td>0.949026</td>\n",
       "      <td>0.136</td>\n",
       "      <td>0.966575</td>\n",
       "      <td>NaN</td>\n",
       "      <td>15.2067</td>\n",
       "      <td>32.880</td>\n",
       "      <td>0.263</td>\n",
       "      <td>4</td>\n",
       "    </tr>\n",
       "  </tbody>\n",
       "</table>\n",
       "<p>5 rows × 46 columns</p>\n",
       "</div>"
      ],
      "text/plain": [
       "   nq_eval_loss  nq_eval_accuracy  nq_eval_token_set_precision   \n",
       "0      1.052261          0.738607                     0.659537  \\\n",
       "1      0.645235               NaN                     0.798146   \n",
       "2      0.645235               NaN                     0.856935   \n",
       "3      0.645235               NaN                     0.887662   \n",
       "4      0.645235               NaN                     0.906216   \n",
       "\n",
       "   nq_eval_token_set_recall  nq_eval_token_set_f1  nq_eval_bleu_score   \n",
       "0                  0.688779              0.672880           31.876986  \\\n",
       "1                  0.812329              0.804574           49.991154   \n",
       "2                  0.865795              0.860895           60.560479   \n",
       "3                  0.895868              0.891410           67.151438   \n",
       "4                  0.917397              0.911450           71.701140   \n",
       "\n",
       "   nq_eval_meteor_score  nq_eval_rouge_score  nq_eval_bert_score   \n",
       "0              0.579221             0.641488            0.917711  \\\n",
       "1              0.739983             0.778723            0.943934   \n",
       "2              0.810046             0.841975            0.956518   \n",
       "3              0.849825             0.876062            0.964854   \n",
       "4              0.876375             0.898838            0.969566   \n",
       "\n",
       "   nq_eval_exact_match  ...  xsum_doc_eval_meteor_score   \n",
       "0             0.015625  ...                    0.462871  \\\n",
       "1             0.088000  ...                    0.605260   \n",
       "2             0.190000  ...                    0.688532   \n",
       "3             0.274000  ...                    0.743652   \n",
       "4             0.338000  ...                    0.778148   \n",
       "\n",
       "   xsum_doc_eval_rouge_score  xsum_doc_eval_bert_score   \n",
       "0                   0.546852                  0.897046  \\\n",
       "1                   0.667726                  0.918014   \n",
       "2                   0.739705                  0.932339   \n",
       "3                   0.781952                  0.941930   \n",
       "4                   0.809880                  0.949026   \n",
       "\n",
       "   xsum_doc_eval_exact_match  xsum_doc_eval_emb_cos_sim   \n",
       "0                      0.000                   0.886195  \\\n",
       "1                      0.002                   0.935534   \n",
       "2                      0.018                   0.951886   \n",
       "3                      0.054                   0.962352   \n",
       "4                      0.136                   0.966575   \n",
       "\n",
       "   xsum_doc_eval_perplexity  xsum_doc_eval_runtime   \n",
       "0                  4.452925                 5.1810  \\\n",
       "1                       NaN                 9.3527   \n",
       "2                       NaN                11.7574   \n",
       "3                       NaN                13.6233   \n",
       "4                       NaN                15.2067   \n",
       "\n",
       "   xsum_doc_eval_samples_per_second  xsum_doc_eval_steps_per_second   \n",
       "0                            96.506                           0.772  \\\n",
       "1                            53.461                           0.428   \n",
       "2                            42.527                           0.340   \n",
       "3                            36.702                           0.294   \n",
       "4                            32.880                           0.263   \n",
       "\n",
       "   num_rounds  \n",
       "0           0  \n",
       "1           1  \n",
       "2           2  \n",
       "3           3  \n",
       "4           4  \n",
       "\n",
       "[5 rows x 46 columns]"
      ]
     },
     "execution_count": 36,
     "metadata": {},
     "output_type": "execute_result"
    }
   ],
   "source": [
    "import pandas as pd\n",
    "import seaborn as sns\n",
    "\n",
    "df = pd.DataFrame(all_metrics)\n",
    "df.head()"
   ]
  },
  {
   "cell_type": "code",
   "execution_count": 95,
   "id": "ee5a9e33-1199-40fa-98bb-964baa8a4b7b",
   "metadata": {},
   "outputs": [
    {
     "data": {
      "image/png": "[encoded data removed]",
      "text/plain": [
       "<Figure size 640x480 with 1 Axes>"
      ]
     },
     "metadata": {},
     "output_type": "display_data"
    }
   ],
   "source": [
    "import matplotlib.pyplot as plt\n",
    "import seaborn as sns\n",
    "\n",
    "sns.set(font_scale=1.2, style=\"white\")\n",
    "\n",
    "new_df = df.melt(id_vars=['num_rounds'], value_vars=['nq_eval_bleu_score', 'arxiv_eval_bleu_score', 'xsum_doc_eval_bleu_score'])\n",
    "new_df.to_parquet('multiround_sl32.parquet')\n",
    "ax = sns.lineplot(data=new_df, x=\"num_rounds\", y=\"value\", hue=\"variable\", style=\"variable\", lw=3)\n",
    "\n",
    "# Titles\n",
    "# ax.set_title(\"Reconstruction performance improves across rounds\")\n",
    "ax.set_xlabel(\"Rounds of self-correction\")\n",
    "ax.set_ylabel(\"Reconstruction acc. (BLEU)\")\n",
    "\n",
    "\n",
    "# Change labels to something interpretable\n",
    "L = plt.legend()\n",
    "for i, label in enumerate([\"Wikipedia\", \"ArXiv\", \"News\"]):\n",
    "    L.get_texts()[i].set_text(label)\n",
    "    \n",
    "# save to PDF\n",
    "plt.savefig(\"multiround_sl32.pdf\", format=\"pdf\", bbox_inches=\"tight\") "
   ]
  },
  {
   "cell_type": "code",
   "execution_count": 41,
   "id": "4379251a-550a-427c-af00-165cbde7d97a",
   "metadata": {},
   "outputs": [
    {
     "data": {
      "text/plain": [
       "{'nq_eval_loss': 0.6452354788780212,\n",
       " 'nq_eval_token_set_precision': 0.9568612423044403,\n",
       " 'nq_eval_token_set_recall': 0.9624170367965794,\n",
       " 'nq_eval_token_set_f1': 0.9594496296846116,\n",
       " 'nq_eval_bleu_score': 84.09693695426056,\n",
       " 'nq_eval_meteor_score': 0.9413687286414782,\n",
       " 'nq_eval_rouge_score': 0.9520987181354363,\n",
       " 'nq_eval_bert_score': 0.9838602417707443,\n",
       " 'nq_eval_exact_match': 0.52,\n",
       " 'nq_eval_emb_cos_sim': 0.9906647205352783,\n",
       " 'nq_eval_runtime': 113.2404,\n",
       " 'nq_eval_samples_per_second': 4.415,\n",
       " 'nq_eval_steps_per_second': 0.035,\n",
       " 'arxiv_eval_loss': 1.7339987754821777,\n",
       " 'arxiv_eval_token_set_precision': 0.8872689641541411,\n",
       " 'arxiv_eval_token_set_recall': 0.8889101085918554,\n",
       " 'arxiv_eval_token_set_f1': 0.8874387107985746,\n",
       " 'arxiv_eval_bleu_score': 53.767067347226565,\n",
       " 'arxiv_eval_meteor_score': 0.789265543874401,\n",
       " 'arxiv_eval_rouge_score': 0.8722897604751119,\n",
       " 'arxiv_eval_bert_score': 0.9468973543643951,\n",
       " 'arxiv_eval_exact_match': 0.102,\n",
       " 'arxiv_eval_emb_cos_sim': 0.9678734540939331,\n",
       " 'arxiv_eval_runtime': 112.9954,\n",
       " 'arxiv_eval_samples_per_second': 4.425,\n",
       " 'arxiv_eval_steps_per_second': 0.035,\n",
       " 'xsum_doc_eval_loss': 1.1224849224090576,\n",
       " 'xsum_doc_eval_token_set_precision': 0.9304465610101327,\n",
       " 'xsum_doc_eval_token_set_recall': 0.9366241937054638,\n",
       " 'xsum_doc_eval_token_set_f1': 0.9333721444257388,\n",
       " 'xsum_doc_eval_bleu_score': 77.40329707793063,\n",
       " 'xsum_doc_eval_meteor_score': 0.9091222097882187,\n",
       " 'xsum_doc_eval_rouge_score': 0.920038431911088,\n",
       " 'xsum_doc_eval_bert_score': 0.9743584693670273,\n",
       " 'xsum_doc_eval_exact_match': 0.426,\n",
       " 'xsum_doc_eval_emb_cos_sim': 0.988284170627594,\n",
       " 'xsum_doc_eval_runtime': 112.1503,\n",
       " 'xsum_doc_eval_samples_per_second': 4.458,\n",
       " 'xsum_doc_eval_steps_per_second': 0.036,\n",
       " 'num_rounds': 49}"
      ]
     },
     "execution_count": 41,
     "metadata": {},
     "output_type": "execute_result"
    }
   ],
   "source": [
    "all_metrics[-1]"
   ]
  },
  {
   "cell_type": "code",
   "execution_count": 20,
   "id": "1572b399-8dcc-4405-a9b5-75db62079194",
   "metadata": {},
   "outputs": [
    {
     "data": {
      "text/plain": [
       "<Axes: xlabel='num_rounds'>"
      ]
     },
     "execution_count": 20,
     "metadata": {},
     "output_type": "execute_result"
    },
    {
     "data": {
      "image/png": "[encoded data removed]",
      "text/plain": [
       "<Figure size 640x480 with 1 Axes>"
      ]
     },
     "metadata": {},
     "output_type": "display_data"
    }
   ],
   "source": [
    "df.plot(x=\"num_rounds\", y=\"eval_bleu_score\")"
   ]
  },
  {
   "cell_type": "code",
   "execution_count": 17,
   "id": "9080d1a3-532a-43a9-8cb8-342c200ec0d2",
   "metadata": {},
   "outputs": [
    {
     "data": {
      "text/plain": [
       "<Axes: xlabel='num_rounds'>"
      ]
     },
     "execution_count": 17,
     "metadata": {},
     "output_type": "execute_result"
    },
    {
     "data": {
      "image/png": "[encoded data removed]",
      "text/plain": [
       "<Figure size 640x480 with 1 Axes>"
      ]
     },
     "metadata": {},
     "output_type": "display_data"
    }
   ],
   "source": [
    "df.plot(x=\"num_rounds\", y=\"eval_emb_cos_sim\")"
   ]
  },
  {
   "cell_type": "code",
   "execution_count": 22,
   "id": "bddc7af6-de57-4b51-b572-1897155626aa",
   "metadata": {},
   "outputs": [
    {
     "data": {
      "text/plain": [
       "<Axes: xlabel='num_rounds'>"
      ]
     },
     "execution_count": 22,
     "metadata": {},
     "output_type": "execute_result"
    },
    {
     "data": {
      "image/png": "[encoded data removed]",
      "text/plain": [
       "<Figure size 640x480 with 1 Axes>"
      ]
     },
     "metadata": {},
     "output_type": "display_data"
    }
   ],
   "source": [
    "df.plot(x=\"num_rounds\", y=\"eval_token_set_precision\")"
   ]
  },
  {
   "cell_type": "code",
   "execution_count": 5,
   "id": "3127a1b7-0409-4e32-abfb-22fdf58328e3",
   "metadata": {},
   "outputs": [],
   "source": [
    "# trainer.evaluate(\n",
    "#     trainer.preds_emb.shape"
   ]
  },
  {
   "cell_type": "markdown",
   "id": "93f89d77-1d7d-41f8-8fc2-e933094213ab",
   "metadata": {},
   "source": [
    "## plotting trajectories"
   ]
  },
  {
   "cell_type": "code",
   "execution_count": 6,
   "id": "f647fb30-572f-4db5-8199-13f5d9a6c817",
   "metadata": {},
   "outputs": [],
   "source": [
    "from sklearn.decomposition import PCA\n",
    "\n",
    "pca = PCA(n_components=2).fit(trainer.preds_emb)"
   ]
  },
  {
   "cell_type": "code",
   "execution_count": 7,
   "id": "bc200da8-1dc7-4e77-89af-174551a9a8c2",
   "metadata": {},
   "outputs": [
    {
     "data": {
      "text/plain": [
       "<Axes: >"
      ]
     },
     "execution_count": 7,
     "metadata": {},
     "output_type": "execute_result"
    },
    {
     "data": {
      "image/png": "[encoded data removed]",
      "text/plain": [
       "<Figure size 640x480 with 1 Axes>"
      ]
     },
     "metadata": {},
     "output_type": "display_data"
    }
   ],
   "source": [
    "import seaborn as sns\n",
    "\n",
    "x, y = pca.transform(trainer.preds_emb).T\n",
    "sns.scatterplot(x=x, y=y)"
   ]
  },
  {
   "cell_type": "code",
   "execution_count": 147,
   "id": "2de6fe88-441f-4c0b-9974-e80f5cf55cbe",
   "metadata": {},
   "outputs": [
    {
     "data": {
      "text/plain": [
       "'rowboat. The 2002 horror movie \"The Ring\" was in part filmed near the pass. The bridge is fictionalized as a toll bridge</s>'"
      ]
     },
     "execution_count": 147,
     "metadata": {},
     "output_type": "execute_result"
    }
   ],
   "source": [
    "trainer.embedder_tokenizer.decode(trainer.eval_dataset[\"nq\"][335][\"input_ids\"])"
   ]
  },
  {
   "cell_type": "code",
   "execution_count": 122,
   "id": "1bca0f05-27a5-4086-b0e4-b56ab63e1b85",
   "metadata": {},
   "outputs": [
    {
     "data": {
      "text/plain": [
       "{'early_stopping': False,\n",
       " 'num_beams': 1,\n",
       " 'do_sample': False,\n",
       " 'no_repeat_ngram_size': 0}"
      ]
     },
     "execution_count": 122,
     "metadata": {},
     "output_type": "execute_result"
    }
   ],
   "source": [
    "trainer.gen_kwargs"
   ]
  },
  {
   "cell_type": "code",
   "execution_count": 124,
   "id": "86eddd22-b3c9-4b1a-b655-63228886efb5",
   "metadata": {},
   "outputs": [],
   "source": [
    "from typing import Dict\n",
    "import copy\n",
    "import torch\n",
    "\n",
    "def get_trajectories(inputs: Dict[str, torch.Tensor], num_beams: int = 1, num_rounds: int = 5) -> torch.Tensor:\n",
    "    embeddings = []\n",
    "    gen_kwargs = copy.copy(trainer.gen_kwargs)\n",
    "    gen_kwargs[\"num_beams\"] = num_beams\n",
    "    frozen_embeddings = trainer.get_frozen_embeddings(\n",
    "        embedder_input_ids=inputs[\"embedder_input_ids\"],\n",
    "        embedder_attention_mask=inputs[\"embedder_attention_mask\"],\n",
    "    )\n",
    "    print(\"input:\", trainer.embedder_tokenizer.decode(inputs[\"input_ids\"][0]))\n",
    "    for n in range(num_rounds):\n",
    "        if n == 0:\n",
    "            trainer.inversion_trainer.model.use_frozen_embeddings_as_input = False\n",
    "            hypothesis = trainer.inversion_trainer.generate(inputs=inputs, generation_kwargs=gen_kwargs)\n",
    "        else:\n",
    "            hypothesis = trainer.generate(inputs=inputs, generation_kwargs=gen_kwargs, num_recursive_steps=1)\n",
    "        # queue up next round             \n",
    "        hypothesis_embedding = trainer.embed_generated_hypothesis(input_ids=hypothesis)\n",
    "        inputs[\"frozen_embeddings\"] = frozen_embeddings\n",
    "        inputs[\"hypothesis_input_ids\"] = hypothesis\n",
    "        inputs[\"hypothesis_attention_mask\"] = (hypothesis != trainer.model.encoder_decoder.config.pad_token_id).int()\n",
    "        inputs[\"hypothesis_embedding\"] = hypothesis_embedding\n",
    "        # import pdb; pdb.set_trace()\n",
    "        embeddings.append(hypothesis_embedding.cpu())\n",
    "        dist = torch.nn.CosineSimilarity(dim=1)(hypothesis_embedding, frozen_embeddings).item()\n",
    "        print(f\"round {n+1} ({dist:.3f}):\", trainer.embedder_tokenizer.decode(hypothesis[0]))\n",
    "    return torch.stack(embeddings)"
   ]
  },
  {
   "cell_type": "code",
   "execution_count": 125,
   "id": "935fa9b0-fcf7-49d9-9b20-0cd0dd8be96a",
   "metadata": {},
   "outputs": [
    {
     "name": "stdout",
     "output_type": "stream",
     "text": [
      "input: nowadays, scientific challenges usually require approaches that cross traditional boundaries between academic disciplines, driving many researchers towards interdisciplinarity. despite its obvious</s>\n",
      "round 1 (0.908): <pad> in many disciplines challenges often involve a challenge that crosses traditional scientific boundaries rather than a challenge that follows interdisciplinarity. This has led to researchers\n",
      "round 2 (0.953): <pad> nowadays, scientific challenges often require a cross between disciplines which approach interdisciplinarity and which naturally follows traditional academic boundaries. This may lead to researchers \n",
      "round 3 (0.961): <pad> nowadays, scientific challenges often require researchers to cross traditional academic boundaries and follow a different approach towards interdisciplinarity. This is obvious in many applications (\n",
      "round 4 (0.973): <pad> nowadays, scientific challenges usually require approaches that cross traditional academic boundaries while driving researchers towards interdisciplinarity. This is obvious in a combination of applications \n",
      "round 5 (0.983): <pad> nowadays, scientific challenges usually require approaches that cross traditional academic boundaries, allowing researchers to drive disciplines towards interdisciplinarity. As an obvious result,\n",
      "round 6 (0.987): <pad> nowadays, scientific challenges usually require approaches which cross traditional academic boundaries between disciplines, allowing researchers to drive towards interdisciplinarity. As a obvious\n",
      "round 7 (0.988): <pad> nowadays, scientific challenges usually require approaches which cross traditional academic boundaries between disciplines, allowing researchers to drive towards interdisciplinarity. As it is obvious\n",
      "round 8 (0.991): <pad> nowadays, scientific challenges usually require approaches which cross traditional academic boundaries between disciplines, allowing researchers to drive towards interdisciplinarity. Despite its obvious\n"
     ]
    }
   ],
   "source": [
    "eval_batch = next(iter(trainer.get_eval_dataloader(eval_dataset=trainer.eval_dataset[\"arxiv\"])))\n",
    "eval_batch = {k: v[None, 4] for k,v in eval_batch.items() }\n",
    "eval_batch = {k: v.to(trainer.args.device) for k,v in eval_batch.items() } # put on GPU\n",
    "trainer.inversion_trainer.model.use_frozen_embeddings_as_input = False\n",
    "# trainer.embedder_tokenizer.decode(().flatten())\n",
    "trajectories = get_trajectories(inputs=eval_batch, num_rounds=8)"
   ]
  },
  {
   "cell_type": "code",
   "execution_count": 229,
   "id": "13f77214-43dd-4271-8d7c-1a2738fb5c3c",
   "metadata": {},
   "outputs": [
    {
     "data": {
      "image/svg+xml": [
       "<?xml version=\"1.0\" encoding=\"utf-8\" ?>\n",
       "<svg baseProfile=\"full\" height=\"500\" version=\"1.1\" width=\"564\" xmlns=\"http://www.w3.org/2000/svg\" xmlns:ev=\"http://www.w3.org/2001/xml-events\" xmlns:xlink=\"http://www.w3.org/1999/xlink\"><defs><marker id=\"arrow\" markerHeight=\"3.5\" markerWidth=\"5\" orient=\"auto\" refX=\"5.0\" refY=\"1.7\"><polygon points=\"0,0 5,1.75 0,3.5\" /></marker></defs><g style=\"fill:white;\"><g transform=\"matrix(1.0, 0.0, 0.0, 1.0, 282.3672180185871, 250.0)\"><g transform=\"matrix(816.8735708559035, 0.0, 0.0, 816.8735708559035, 0.0, 0.0)\"><g><g transform=\"matrix(1.0, 0.0, 0.0, 1.0, -0.02424909829341554, -0.008168015537043882)\"><g><g><g><g><g /><g style=\"fill: #ffffff;stroke: black;stroke-width: 1.692;\" transform=\"matrix(1.0, 0.0, 0.0, 1.0, -0.30495871257495644, -0.2833033290992708)\"><path d=\"M 0.0 0.0 L 0.658415621736744 0.0 L 0.658415621736744 0.5829426892726294 L 0.0 0.5829426892726294 L 0.0 0.0 Z\" style=\"vector-effect: non-scaling-stroke;\" /></g></g><g><g><g><g><g><g><g><g><g><g><g><g><g><g><g><g><g><g><g /><g style=\"stroke: #000000;stroke-width: 13.536;\" transform=\"matrix(1.0, 0.0, 0.0, 1.0, 0.0, 0.0)\"><path d=\"M 0.2534569091617875 -0.15908851742589503 L 0.2270460331214635 -0.18330332909927077\" style=\"vector-effect: non-scaling-stroke;fill:none;\" /></g></g><g style=\"stroke: #1b0008;stroke-width: 13.536;\" transform=\"matrix(1.0, 0.0, 0.0, 1.0, 0.0, 0.0)\"><path d=\"M 0.2270460331214635 -0.18330332909927077 L -0.08648207038248956 -0.10415830551178372\" style=\"vector-effect: non-scaling-stroke;fill:none;\" /></g></g><g style=\"stroke: #360010;stroke-width: 13.536;\" transform=\"matrix(1.0, 0.0, 0.0, 1.0, 0.0, 0.0)\"><path d=\"M -0.08648207038248958 -0.10415830551178372 L -0.06962688626892817 -0.16654580625452964\" style=\"vector-effect: non-scaling-stroke;fill:none;\" /></g></g><g style=\"stroke: #510018;stroke-width: 13.536;\" transform=\"matrix(1.0, 0.0, 0.0, 1.0, 0.0, 0.0)\"><path d=\"M -0.06962688626892817 -0.16654580625452964 L 0.07039389101167136 -0.00391016393659005\" style=\"vector-effect: non-scaling-stroke;fill:none;\" /></g></g><g style=\"stroke: #6b0020;stroke-width: 13.536;\" transform=\"matrix(1.0, 0.0, 0.0, 1.0, 0.0, 0.0)\"><path d=\"M 0.07039389101167137 -0.003910163936590043 L -0.1155592825500169 -0.12488071531676526\" style=\"vector-effect: non-scaling-stroke;fill:none;\" /></g></g><g style=\"stroke: #860028;stroke-width: 13.536;\" transform=\"matrix(1.0, 0.0, 0.0, 1.0, 0.0, 0.0)\"><path d=\"M -0.11555928255001692 -0.12488071531676526 L -0.08112379320249097 -0.03624293684480685\" style=\"vector-effect: non-scaling-stroke;fill:none;\" /></g></g><g style=\"stroke: #a10030;stroke-width: 13.536;\" transform=\"matrix(1.0, 0.0, 0.0, 1.0, 0.0, 0.0)\"><path d=\"M -0.08112379320249097 -0.03624293684480685 L 0.19559361818319676 0.13197492114764142\" style=\"vector-effect: non-scaling-stroke;fill:none;\" /></g></g><g style=\"stroke: #bc0038;stroke-width: 13.536;\" transform=\"matrix(1.0, 0.0, 0.0, 1.0, 0.0, 0.0)\"><path d=\"M 0.19559361818319676 0.13197492114764142 L -0.05818218281525134 -0.11494502369342335\" style=\"vector-effect: non-scaling-stroke;fill:none;\" /></g></g><g style=\"stroke: #d70040;stroke-width: 13.536;\" transform=\"matrix(1.0, 0.0, 0.0, 1.0, 0.0, 0.0)\"><path d=\"M -0.05818218281525133 -0.11494502369342335 L 0.23482623169455386 0.03715610695358029\" style=\"vector-effect: non-scaling-stroke;fill:none;\" /></g></g><g style=\"stroke: #f20048;stroke-width: 13.536;\" transform=\"matrix(1.0, 0.0, 0.0, 1.0, 0.0, 0.0)\"><path d=\"M 0.23482623169455388 0.03715610695358028 L -0.20495871257495643 -0.08805342250751881\" style=\"vector-effect: non-scaling-stroke;fill:none;\" /></g></g><g style=\"stroke: #ff0d56;stroke-width: 13.536;\" transform=\"matrix(1.0, 0.0, 0.0, 1.0, 0.0, 0.0)\"><path d=\"M -0.20495871257495646 -0.0880534225075188 L -0.07411929381989474 0.02602827381529954\" style=\"vector-effect: non-scaling-stroke;fill:none;\" /></g></g><g style=\"stroke: #ff2869;stroke-width: 13.536;\" transform=\"matrix(1.0, 0.0, 0.0, 1.0, 0.0, 0.0)\"><path d=\"M -0.07411929381989474 0.02602827381529954 L 0.0022932989983507346 0.1996393601733586\" style=\"vector-effect: non-scaling-stroke;fill:none;\" /></g></g><g style=\"stroke: #ff437b;stroke-width: 13.536;\" transform=\"matrix(1.0, 0.0, 0.0, 1.0, 0.0, 0.0)\"><path d=\"M 0.002293298998350731 0.1996393601733586 L -0.08806901984502533 0.05519433992717315\" style=\"vector-effect: non-scaling-stroke;fill:none;\" /></g></g><g style=\"stroke: #ff5e8e;stroke-width: 13.536;\" transform=\"matrix(1.0, 0.0, 0.0, 1.0, 0.0, 0.0)\"><path d=\"M -0.08806901984502533 0.05519433992717314 L -0.018246872946454107 0.05638378404300892\" style=\"vector-effect: non-scaling-stroke;fill:none;\" /></g></g><g style=\"stroke: #ff79a1;stroke-width: 13.536;\" transform=\"matrix(1.0, 0.0, 0.0, 1.0, 0.0, 0.0)\"><path d=\"M -0.018246872946454107 0.05638378404300892 L -0.05952164719466919 0.13345137785166108\" style=\"vector-effect: non-scaling-stroke;fill:none;\" /></g></g><g style=\"stroke: #ff94b4;stroke-width: 13.536;\" transform=\"matrix(1.0, 0.0, 0.0, 1.0, 0.0, 0.0)\"><path d=\"M -0.05952164719466919 0.13345137785166108 L 0.06004295103712803 0.17828840406207802\" style=\"vector-effect: non-scaling-stroke;fill:none;\" /></g></g><g style=\"stroke: #ffaec7;stroke-width: 13.536;\" transform=\"matrix(1.0, 0.0, 0.0, 1.0, 0.0, 0.0)\"><path d=\"M 0.06004295103712803 0.17828840406207802 L -0.061972023090493926 0.038320819216715096\" style=\"vector-effect: non-scaling-stroke;fill:none;\" /></g></g><g style=\"stroke: #ffc9d9;stroke-width: 13.536;\" transform=\"matrix(1.0, 0.0, 0.0, 1.0, 0.0, 0.0)\"><path d=\"M -0.061972023090493926 0.038320819216715096 L -0.05420736380989074 0.04988056854406648\" style=\"vector-effect: non-scaling-stroke;fill:none;\" /></g></g></g><g><g><g><g><g><g><g><g><g><g><g><g><g><g><g><g><g><g><g><g /><g style=\"fill: #eeeeee;stroke: black;stroke-width: 1.692;\" transform=\"matrix(0.01, 0.0, 0.0, 0.01, 0.2634569091617875, -0.15908851742589503)\"><path d=\"M 0.0 0.0 A 1.0 1.0 0.0 0 0 -1.0 -1.0 A 1.0 1.0 -90.0 0 0 -2.0 0.0 A 1.0 1.0 180.0 0 0 -1.0 1.0 A 1.0 1.0 90.0 0 0 0.0 0.0 Z\" style=\"vector-effect: non-scaling-stroke;\" /></g></g><g style=\"fill: #eeeeee;stroke: black;stroke-width: 1.692;\" transform=\"matrix(0.01, 0.0, 0.0, 0.01, 0.2370460331214635, -0.18330332909927077)\"><path d=\"M 0.0 0.0 A 1.0 1.0 0.0 0 0 -1.0 -1.0 A 1.0 1.0 -90.0 0 0 -2.0 0.0 A 1.0 1.0 180.0 0 0 -1.0 1.0 A 1.0 1.0 90.0 0 0 0.0 0.0 Z\" style=\"vector-effect: non-scaling-stroke;\" /></g></g><g style=\"fill: #eeeeee;stroke: black;stroke-width: 1.692;\" transform=\"matrix(0.01, 0.0, 0.0, 0.01, -0.07648207038248958, -0.10415830551178372)\"><path d=\"M 0.0 0.0 A 1.0 1.0 0.0 0 0 -1.0 -1.0 A 1.0 1.0 -90.0 0 0 -2.0 0.0 A 1.0 1.0 180.0 0 0 -1.0 1.0 A 1.0 1.0 90.0 0 0 0.0 0.0 Z\" style=\"vector-effect: non-scaling-stroke;\" /></g></g><g style=\"fill: #eeeeee;stroke: black;stroke-width: 1.692;\" transform=\"matrix(0.01, 0.0, 0.0, 0.01, -0.05962688626892817, -0.16654580625452964)\"><path d=\"M 0.0 0.0 A 1.0 1.0 0.0 0 0 -1.0 -1.0 A 1.0 1.0 -90.0 0 0 -2.0 0.0 A 1.0 1.0 180.0 0 0 -1.0 1.0 A 1.0 1.0 90.0 0 0 0.0 0.0 Z\" style=\"vector-effect: non-scaling-stroke;\" /></g></g><g style=\"fill: #eeeeee;stroke: black;stroke-width: 1.692;\" transform=\"matrix(0.01, 0.0, 0.0, 0.01, 0.08039389101167137, -0.003910163936590043)\"><path d=\"M 0.0 0.0 A 1.0 1.0 0.0 0 0 -1.0 -1.0 A 1.0 1.0 -90.0 0 0 -2.0 0.0 A 1.0 1.0 180.0 0 0 -1.0 1.0 A 1.0 1.0 90.0 0 0 0.0 0.0 Z\" style=\"vector-effect: non-scaling-stroke;\" /></g></g><g style=\"fill: #eeeeee;stroke: black;stroke-width: 1.692;\" transform=\"matrix(0.01, 0.0, 0.0, 0.01, -0.10555928255001693, -0.12488071531676526)\"><path d=\"M 0.0 0.0 A 1.0 1.0 0.0 0 0 -1.0 -1.0 A 1.0 1.0 -90.0 0 0 -2.0 0.0 A 1.0 1.0 180.0 0 0 -1.0 1.0 A 1.0 1.0 90.0 0 0 0.0 0.0 Z\" style=\"vector-effect: non-scaling-stroke;\" /></g></g><g style=\"fill: #eeeeee;stroke: black;stroke-width: 1.692;\" transform=\"matrix(0.01, 0.0, 0.0, 0.01, -0.07112379320249097, -0.03624293684480685)\"><path d=\"M 0.0 0.0 A 1.0 1.0 0.0 0 0 -1.0 -1.0 A 1.0 1.0 -90.0 0 0 -2.0 0.0 A 1.0 1.0 180.0 0 0 -1.0 1.0 A 1.0 1.0 90.0 0 0 0.0 0.0 Z\" style=\"vector-effect: non-scaling-stroke;\" /></g></g><g style=\"fill: #eeeeee;stroke: black;stroke-width: 1.692;\" transform=\"matrix(0.01, 0.0, 0.0, 0.01, 0.20559361818319677, 0.13197492114764142)\"><path d=\"M 0.0 0.0 A 1.0 1.0 0.0 0 0 -1.0 -1.0 A 1.0 1.0 -90.0 0 0 -2.0 0.0 A 1.0 1.0 180.0 0 0 -1.0 1.0 A 1.0 1.0 90.0 0 0 0.0 0.0 Z\" style=\"vector-effect: non-scaling-stroke;\" /></g></g><g style=\"fill: #eeeeee;stroke: black;stroke-width: 1.692;\" transform=\"matrix(0.01, 0.0, 0.0, 0.01, -0.04818218281525133, -0.11494502369342335)\"><path d=\"M 0.0 0.0 A 1.0 1.0 0.0 0 0 -1.0 -1.0 A 1.0 1.0 -90.0 0 0 -2.0 0.0 A 1.0 1.0 180.0 0 0 -1.0 1.0 A 1.0 1.0 90.0 0 0 0.0 0.0 Z\" style=\"vector-effect: non-scaling-stroke;\" /></g></g><g style=\"fill: #eeeeee;stroke: black;stroke-width: 1.692;\" transform=\"matrix(0.01, 0.0, 0.0, 0.01, 0.2448262316945539, 0.03715610695358028)\"><path d=\"M 0.0 0.0 A 1.0 1.0 0.0 0 0 -1.0 -1.0 A 1.0 1.0 -90.0 0 0 -2.0 0.0 A 1.0 1.0 180.0 0 0 -1.0 1.0 A 1.0 1.0 90.0 0 0 0.0 0.0 Z\" style=\"vector-effect: non-scaling-stroke;\" /></g></g><g style=\"fill: #eeeeee;stroke: black;stroke-width: 1.692;\" transform=\"matrix(0.01, 0.0, 0.0, 0.01, -0.19495871257495645, -0.0880534225075188)\"><path d=\"M 0.0 0.0 A 1.0 1.0 0.0 0 0 -1.0 -1.0 A 1.0 1.0 -90.0 0 0 -2.0 0.0 A 1.0 1.0 180.0 0 0 -1.0 1.0 A 1.0 1.0 90.0 0 0 0.0 0.0 Z\" style=\"vector-effect: non-scaling-stroke;\" /></g></g><g style=\"fill: #eeeeee;stroke: black;stroke-width: 1.692;\" transform=\"matrix(0.01, 0.0, 0.0, 0.01, -0.06411929381989474, 0.02602827381529954)\"><path d=\"M 0.0 0.0 A 1.0 1.0 0.0 0 0 -1.0 -1.0 A 1.0 1.0 -90.0 0 0 -2.0 0.0 A 1.0 1.0 180.0 0 0 -1.0 1.0 A 1.0 1.0 90.0 0 0 0.0 0.0 Z\" style=\"vector-effect: non-scaling-stroke;\" /></g></g><g style=\"fill: #eeeeee;stroke: black;stroke-width: 1.692;\" transform=\"matrix(0.01, 0.0, 0.0, 0.01, 0.012293298998350731, 0.1996393601733586)\"><path d=\"M 0.0 0.0 A 1.0 1.0 0.0 0 0 -1.0 -1.0 A 1.0 1.0 -90.0 0 0 -2.0 0.0 A 1.0 1.0 180.0 0 0 -1.0 1.0 A 1.0 1.0 90.0 0 0 0.0 0.0 Z\" style=\"vector-effect: non-scaling-stroke;\" /></g></g><g style=\"fill: #eeeeee;stroke: black;stroke-width: 1.692;\" transform=\"matrix(0.01, 0.0, 0.0, 0.01, -0.07806901984502533, 0.05519433992717314)\"><path d=\"M 0.0 0.0 A 1.0 1.0 0.0 0 0 -1.0 -1.0 A 1.0 1.0 -90.0 0 0 -2.0 0.0 A 1.0 1.0 180.0 0 0 -1.0 1.0 A 1.0 1.0 90.0 0 0 0.0 0.0 Z\" style=\"vector-effect: non-scaling-stroke;\" /></g></g><g style=\"fill: #eeeeee;stroke: black;stroke-width: 1.692;\" transform=\"matrix(0.01, 0.0, 0.0, 0.01, -0.008246872946454107, 0.05638378404300892)\"><path d=\"M 0.0 0.0 A 1.0 1.0 0.0 0 0 -1.0 -1.0 A 1.0 1.0 -90.0 0 0 -2.0 0.0 A 1.0 1.0 180.0 0 0 -1.0 1.0 A 1.0 1.0 90.0 0 0 0.0 0.0 Z\" style=\"vector-effect: non-scaling-stroke;\" /></g></g><g style=\"fill: #eeeeee;stroke: black;stroke-width: 1.692;\" transform=\"matrix(0.01, 0.0, 0.0, 0.01, -0.049521647194669186, 0.13345137785166108)\"><path d=\"M 0.0 0.0 A 1.0 1.0 0.0 0 0 -1.0 -1.0 A 1.0 1.0 -90.0 0 0 -2.0 0.0 A 1.0 1.0 180.0 0 0 -1.0 1.0 A 1.0 1.0 90.0 0 0 0.0 0.0 Z\" style=\"vector-effect: non-scaling-stroke;\" /></g></g><g style=\"fill: #eeeeee;stroke: black;stroke-width: 1.692;\" transform=\"matrix(0.01, 0.0, 0.0, 0.01, 0.07004295103712803, 0.17828840406207802)\"><path d=\"M 0.0 0.0 A 1.0 1.0 0.0 0 0 -1.0 -1.0 A 1.0 1.0 -90.0 0 0 -2.0 0.0 A 1.0 1.0 180.0 0 0 -1.0 1.0 A 1.0 1.0 90.0 0 0 0.0 0.0 Z\" style=\"vector-effect: non-scaling-stroke;\" /></g></g><g style=\"fill: #eeeeee;stroke: black;stroke-width: 1.692;\" transform=\"matrix(0.01, 0.0, 0.0, 0.01, -0.051972023090493924, 0.038320819216715096)\"><path d=\"M 0.0 0.0 A 1.0 1.0 0.0 0 0 -1.0 -1.0 A 1.0 1.0 -90.0 0 0 -2.0 0.0 A 1.0 1.0 180.0 0 0 -1.0 1.0 A 1.0 1.0 90.0 0 0 0.0 0.0 Z\" style=\"vector-effect: non-scaling-stroke;\" /></g></g><g style=\"fill: #eeeeee;stroke: black;stroke-width: 1.692;\" transform=\"matrix(0.01, 0.0, 0.0, 0.01, -0.04420736380989074, 0.04988056854406648)\"><path d=\"M 0.0 0.0 A 1.0 1.0 0.0 0 0 -1.0 -1.0 A 1.0 1.0 -90.0 0 0 -2.0 0.0 A 1.0 1.0 180.0 0 0 -1.0 1.0 A 1.0 1.0 90.0 0 0 0.0 0.0 Z\" style=\"vector-effect: non-scaling-stroke;\" /></g></g></g><g style=\"fill: #0000ff;stroke: black;stroke-width: 1.692;\" transform=\"matrix(0.01, 0.0, 0.0, 0.01, 0.01743574493126244, -0.015925630363576068)\"><path d=\"M 0.0 0.0 A 1.0 1.0 0.0 0 0 -1.0 -1.0 A 1.0 1.0 -90.0 0 0 -2.0 0.0 A 1.0 1.0 180.0 0 0 -1.0 1.0 A 1.0 1.0 90.0 0 0 0.0 0.0 Z\" style=\"vector-effect: non-scaling-stroke;\" /></g></g></g><g /></g></g></g></g></svg>"
      ],
      "text/plain": [
       "Compose(envelope=<chalk.envelope.Envelope object at 0x7f1bacd80f40>, diagram1=Compose(envelope=<chalk.envelope.Envelope object at 0x7f1bacd80d00>, diagram1=Compose(envelope=<chalk.envelope.Envelope object at 0x7f1bacd809a0>, diagram1=Compose(envelope=<chalk.envelope.Envelope object at 0x7f1bacd73cd0>, diagram1=Empty(), diagram2=Primitive(shape=Path(loc_trails=[Located(trail=Trail(segments=[Segment(offset=Vec2(0.658415621736744, 0.0), origin=Vec2(0.0, 0.0)), Segment(offset=Vec2(0.0, 0.5829426892726294), origin=Vec2(0.0, 0.0)), Segment(offset=Vec2(-0.658415621736744, 0.0), origin=Vec2(0.0, 0.0)), Segment(offset=Vec2(0.0, -0.5829426892726294), origin=Vec2(0.0, 0.0))], closed=True), location=Vec2(0.0, 0.0))]), style=Style(line_width_=None, line_color_=None, fill_color_=<Color white>, fill_opacity_=None, dashing_=None, output_size=None), transform=Affine(1.0, 0.0, -0.30495871257495644,\n",
       "       0.0, 1.0, -0.2833033290992708))), diagram2=Compose(envelope=<chalk.envelope.Envelope object at 0x7f1bacd73880>, diagram1=Compose(envelope=<chalk.envelope.Envelope object at 0x7f1bacd73100>, diagram1=Compose(envelope=<chalk.envelope.Envelope object at 0x7f1bacd72980>, diagram1=Compose(envelope=<chalk.envelope.Envelope object at 0x7f1bacd72200>, diagram1=Compose(envelope=<chalk.envelope.Envelope object at 0x7f1bacd71a80>, diagram1=Compose(envelope=<chalk.envelope.Envelope object at 0x7f1bacd71300>, diagram1=Compose(envelope=<chalk.envelope.Envelope object at 0x7f1bacd70b80>, diagram1=Compose(envelope=<chalk.envelope.Envelope object at 0x7f1bacd70400>, diagram1=Compose(envelope=<chalk.envelope.Envelope object at 0x7f1bacd67c40>, diagram1=Compose(envelope=<chalk.envelope.Envelope object at 0x7f1bacd674c0>, diagram1=Compose(envelope=<chalk.envelope.Envelope object at 0x7f1bacd66d40>, diagram1=Compose(envelope=<chalk.envelope.Envelope object at 0x7f1bacd665c0>, diagram1=Compose(envelope=<chalk.envelope.Envelope object at 0x7f1bacd65e40>, diagram1=Compose(envelope=<chalk.envelope.Envelope object at 0x7f1bacd656c0>, diagram1=Compose(envelope=<chalk.envelope.Envelope object at 0x7f1bacd64f40>, diagram1=Compose(envelope=<chalk.envelope.Envelope object at 0x7f1bacd647c0>, diagram1=Compose(envelope=<chalk.envelope.Envelope object at 0x7f1bacd64070>, diagram1=Compose(envelope=<chalk.envelope.Envelope object at 0x7f1bacd57820>, diagram1=Empty(), diagram2=Primitive(shape=Path(loc_trails=[Located(trail=Trail(segments=[Segment(offset=Vec2(-0.026410876040323994, -0.024214811673375747), origin=Vec2(0.0, 0.0))], closed=False), location=Vec2(0.2534569091617875, -0.15908851742589503))]), style=Style(line_width_=(<WidthType.NORMALIZED: 2>, 0.8), line_color_=<Color black>, fill_color_=None, fill_opacity_=None, dashing_=None, output_size=None), transform=Affine(1.0, 0.0, 0.0,\n",
       "       0.0, 1.0, 0.0))), diagram2=Primitive(shape=Path(loc_trails=[Located(trail=Trail(segments=[Segment(offset=Vec2(-0.31352810350395305, 0.07914502358748705), origin=Vec2(0.0, 0.0))], closed=False), location=Vec2(0.2270460331214635, -0.18330332909927077))]), style=Style(line_width_=(<WidthType.NORMALIZED: 2>, 0.8), line_color_=<Color #1b0008>, fill_color_=None, fill_opacity_=None, dashing_=None, output_size=None), transform=Affine(1.0, 0.0, 0.0,\n",
       "       0.0, 1.0, 0.0))), diagram2=Primitive(shape=Path(loc_trails=[Located(trail=Trail(segments=[Segment(offset=Vec2(0.016855184113561406, -0.06238750074274592), origin=Vec2(0.0, 0.0))], closed=False), location=Vec2(-0.08648207038248958, -0.10415830551178372))]), style=Style(line_width_=(<WidthType.NORMALIZED: 2>, 0.8), line_color_=<Color #360010>, fill_color_=None, fill_opacity_=None, dashing_=None, output_size=None), transform=Affine(1.0, 0.0, 0.0,\n",
       "       0.0, 1.0, 0.0))), diagram2=Primitive(shape=Path(loc_trails=[Located(trail=Trail(segments=[Segment(offset=Vec2(0.14002077728059953, 0.1626356423179396), origin=Vec2(0.0, 0.0))], closed=False), location=Vec2(-0.06962688626892817, -0.16654580625452964))]), style=Style(line_width_=(<WidthType.NORMALIZED: 2>, 0.8), line_color_=<Color #510018>, fill_color_=None, fill_opacity_=None, dashing_=None, output_size=None), transform=Affine(1.0, 0.0, 0.0,\n",
       "       0.0, 1.0, 0.0))), diagram2=Primitive(shape=Path(loc_trails=[Located(trail=Trail(segments=[Segment(offset=Vec2(-0.18595317356168828, -0.1209705513801752), origin=Vec2(0.0, 0.0))], closed=False), location=Vec2(0.07039389101167137, -0.003910163936590043))]), style=Style(line_width_=(<WidthType.NORMALIZED: 2>, 0.8), line_color_=<Color #6b0020>, fill_color_=None, fill_opacity_=None, dashing_=None, output_size=None), transform=Affine(1.0, 0.0, 0.0,\n",
       "       0.0, 1.0, 0.0))), diagram2=Primitive(shape=Path(loc_trails=[Located(trail=Trail(segments=[Segment(offset=Vec2(0.03443548934752595, 0.0886377784719584), origin=Vec2(0.0, 0.0))], closed=False), location=Vec2(-0.11555928255001692, -0.12488071531676526))]), style=Style(line_width_=(<WidthType.NORMALIZED: 2>, 0.8), line_color_=<Color #860028>, fill_color_=None, fill_opacity_=None, dashing_=None, output_size=None), transform=Affine(1.0, 0.0, 0.0,\n",
       "       0.0, 1.0, 0.0))), diagram2=Primitive(shape=Path(loc_trails=[Located(trail=Trail(segments=[Segment(offset=Vec2(0.27671741138568773, 0.16821785799244826), origin=Vec2(0.0, 0.0))], closed=False), location=Vec2(-0.08112379320249097, -0.03624293684480685))]), style=Style(line_width_=(<WidthType.NORMALIZED: 2>, 0.8), line_color_=<Color #a10030>, fill_color_=None, fill_opacity_=None, dashing_=None, output_size=None), transform=Affine(1.0, 0.0, 0.0,\n",
       "       0.0, 1.0, 0.0))), diagram2=Primitive(shape=Path(loc_trails=[Located(trail=Trail(segments=[Segment(offset=Vec2(-0.2537758009984481, -0.24691994484106478), origin=Vec2(0.0, 0.0))], closed=False), location=Vec2(0.19559361818319676, 0.13197492114764142))]), style=Style(line_width_=(<WidthType.NORMALIZED: 2>, 0.8), line_color_=<Color #bc0038>, fill_color_=None, fill_opacity_=None, dashing_=None, output_size=None), transform=Affine(1.0, 0.0, 0.0,\n",
       "       0.0, 1.0, 0.0))), diagram2=Primitive(shape=Path(loc_trails=[Located(trail=Trail(segments=[Segment(offset=Vec2(0.2930084145098052, 0.15210113064700365), origin=Vec2(0.0, 0.0))], closed=False), location=Vec2(-0.05818218281525133, -0.11494502369342335))]), style=Style(line_width_=(<WidthType.NORMALIZED: 2>, 0.8), line_color_=<Color #d70040>, fill_color_=None, fill_opacity_=None, dashing_=None, output_size=None), transform=Affine(1.0, 0.0, 0.0,\n",
       "       0.0, 1.0, 0.0))), diagram2=Primitive(shape=Path(loc_trails=[Located(trail=Trail(segments=[Segment(offset=Vec2(-0.4397849442695103, -0.1252095294610991), origin=Vec2(0.0, 0.0))], closed=False), location=Vec2(0.23482623169455388, 0.03715610695358028))]), style=Style(line_width_=(<WidthType.NORMALIZED: 2>, 0.8), line_color_=<Color #f20048>, fill_color_=None, fill_opacity_=None, dashing_=None, output_size=None), transform=Affine(1.0, 0.0, 0.0,\n",
       "       0.0, 1.0, 0.0))), diagram2=Primitive(shape=Path(loc_trails=[Located(trail=Trail(segments=[Segment(offset=Vec2(0.13083941875506172, 0.11408169632281834), origin=Vec2(0.0, 0.0))], closed=False), location=Vec2(-0.20495871257495646, -0.0880534225075188))]), style=Style(line_width_=(<WidthType.NORMALIZED: 2>, 0.8), line_color_=<Color #ff0d56>, fill_color_=None, fill_opacity_=None, dashing_=None, output_size=None), transform=Affine(1.0, 0.0, 0.0,\n",
       "       0.0, 1.0, 0.0))), diagram2=Primitive(shape=Path(loc_trails=[Located(trail=Trail(segments=[Segment(offset=Vec2(0.07641259281824547, 0.17361108635805905), origin=Vec2(0.0, 0.0))], closed=False), location=Vec2(-0.07411929381989474, 0.02602827381529954))]), style=Style(line_width_=(<WidthType.NORMALIZED: 2>, 0.8), line_color_=<Color #ff2869>, fill_color_=None, fill_opacity_=None, dashing_=None, output_size=None), transform=Affine(1.0, 0.0, 0.0,\n",
       "       0.0, 1.0, 0.0))), diagram2=Primitive(shape=Path(loc_trails=[Located(trail=Trail(segments=[Segment(offset=Vec2(-0.09036231884337606, -0.14444502024618544), origin=Vec2(0.0, 0.0))], closed=False), location=Vec2(0.002293298998350731, 0.1996393601733586))]), style=Style(line_width_=(<WidthType.NORMALIZED: 2>, 0.8), line_color_=<Color #ff437b>, fill_color_=None, fill_opacity_=None, dashing_=None, output_size=None), transform=Affine(1.0, 0.0, 0.0,\n",
       "       0.0, 1.0, 0.0))), diagram2=Primitive(shape=Path(loc_trails=[Located(trail=Trail(segments=[Segment(offset=Vec2(0.06982214689857122, 0.0011894441158357832), origin=Vec2(0.0, 0.0))], closed=False), location=Vec2(-0.08806901984502533, 0.05519433992717314))]), style=Style(line_width_=(<WidthType.NORMALIZED: 2>, 0.8), line_color_=<Color #ff5e8e>, fill_color_=None, fill_opacity_=None, dashing_=None, output_size=None), transform=Affine(1.0, 0.0, 0.0,\n",
       "       0.0, 1.0, 0.0))), diagram2=Primitive(shape=Path(loc_trails=[Located(trail=Trail(segments=[Segment(offset=Vec2(-0.04127477424821508, 0.07706759380865216), origin=Vec2(0.0, 0.0))], closed=False), location=Vec2(-0.018246872946454107, 0.05638378404300892))]), style=Style(line_width_=(<WidthType.NORMALIZED: 2>, 0.8), line_color_=<Color #ff79a1>, fill_color_=None, fill_opacity_=None, dashing_=None, output_size=None), transform=Affine(1.0, 0.0, 0.0,\n",
       "       0.0, 1.0, 0.0))), diagram2=Primitive(shape=Path(loc_trails=[Located(trail=Trail(segments=[Segment(offset=Vec2(0.11956459823179721, 0.044837026210416936), origin=Vec2(0.0, 0.0))], closed=False), location=Vec2(-0.05952164719466919, 0.13345137785166108))]), style=Style(line_width_=(<WidthType.NORMALIZED: 2>, 0.8), line_color_=<Color #ff94b4>, fill_color_=None, fill_opacity_=None, dashing_=None, output_size=None), transform=Affine(1.0, 0.0, 0.0,\n",
       "       0.0, 1.0, 0.0))), diagram2=Primitive(shape=Path(loc_trails=[Located(trail=Trail(segments=[Segment(offset=Vec2(-0.12201497412762195, -0.13996758484536292), origin=Vec2(0.0, 0.0))], closed=False), location=Vec2(0.06004295103712803, 0.17828840406207802))]), style=Style(line_width_=(<WidthType.NORMALIZED: 2>, 0.8), line_color_=<Color #ffaec7>, fill_color_=None, fill_opacity_=None, dashing_=None, output_size=None), transform=Affine(1.0, 0.0, 0.0,\n",
       "       0.0, 1.0, 0.0))), diagram2=Primitive(shape=Path(loc_trails=[Located(trail=Trail(segments=[Segment(offset=Vec2(0.007764659280603187, 0.011559749327351383), origin=Vec2(0.0, 0.0))], closed=False), location=Vec2(-0.061972023090493926, 0.038320819216715096))]), style=Style(line_width_=(<WidthType.NORMALIZED: 2>, 0.8), line_color_=<Color #ffc9d9>, fill_color_=None, fill_opacity_=None, dashing_=None, output_size=None), transform=Affine(1.0, 0.0, 0.0,\n",
       "       0.0, 1.0, 0.0)))), diagram2=Compose(envelope=<chalk.envelope.Envelope object at 0x7f1bacd57370>, diagram1=Compose(envelope=<chalk.envelope.Envelope object at 0x7f1bacd55b40>, diagram1=Compose(envelope=<chalk.envelope.Envelope object at 0x7f1bacd4ffa0>, diagram1=Compose(envelope=<chalk.envelope.Envelope object at 0x7f1bacd4eaa0>, diagram1=Compose(envelope=<chalk.envelope.Envelope object at 0x7f1bacd4d270>, diagram1=Compose(envelope=<chalk.envelope.Envelope object at 0x7f1bacd17a00>, diagram1=Compose(envelope=<chalk.envelope.Envelope object at 0x7f1bacd161d0>, diagram1=Compose(envelope=<chalk.envelope.Envelope object at 0x7f1bacd0fe20>, diagram1=Compose(envelope=<chalk.envelope.Envelope object at 0x7f1bacd0f130>, diagram1=Compose(envelope=<chalk.envelope.Envelope object at 0x7f1bacd0d900>, diagram1=Compose(envelope=<chalk.envelope.Envelope object at 0x7f1bacd03e50>, diagram1=Compose(envelope=<chalk.envelope.Envelope object at 0x7f1bacd02860>, diagram1=Compose(envelope=<chalk.envelope.Envelope object at 0x7f1bacd010c0>, diagram1=Compose(envelope=<chalk.envelope.Envelope object at 0x7f1bacd1b7c0>, diagram1=Compose(envelope=<chalk.envelope.Envelope object at 0x7f1bacd19f90>, diagram1=Compose(envelope=<chalk.envelope.Envelope object at 0x7f1bacecff70>, diagram1=Compose(envelope=<chalk.envelope.Envelope object at 0x7f1baceceef0>, diagram1=Compose(envelope=<chalk.envelope.Envelope object at 0x7f1bacecd6c0>, diagram1=Compose(envelope=<chalk.envelope.Envelope object at 0x7f1bace43400>, diagram1=Empty(), diagram2=Primitive(shape=Path(loc_trails=[Located(trail=Trail(segments=[ArcSegment(angle=0, dangle=-90, t=Affine(1.0, 0.0, -1.0,\n",
       "       0.0, 1.0, 0.0)), ArcSegment(angle=0, dangle=-90, t=Affine(0.0, 1.0, 0.0,\n",
       "       -1.0, 0.0, 1.0)), ArcSegment(angle=0, dangle=-90, t=Affine(-1.0, 0.0, 1.0,\n",
       "       0.0, -1.0, 0.0)), ArcSegment(angle=0, dangle=-90, t=Affine(0.0, -1.0, 0.0,\n",
       "       1.0, 0.0, -1.0))], closed=True), location=Vec2(0.0, 0.0))]), style=Style(line_width_=None, line_color_=None, fill_color_=<Color #eee>, fill_opacity_=None, dashing_=None, output_size=None), transform=Affine(0.01, 0.0, 0.2634569091617875,\n",
       "       0.0, 0.01, -0.15908851742589503))), diagram2=Primitive(shape=Path(loc_trails=[Located(trail=Trail(segments=[ArcSegment(angle=0, dangle=-90, t=Affine(1.0, 0.0, -1.0,\n",
       "       0.0, 1.0, 0.0)), ArcSegment(angle=0, dangle=-90, t=Affine(0.0, 1.0, 0.0,\n",
       "       -1.0, 0.0, 1.0)), ArcSegment(angle=0, dangle=-90, t=Affine(-1.0, 0.0, 1.0,\n",
       "       0.0, -1.0, 0.0)), ArcSegment(angle=0, dangle=-90, t=Affine(0.0, -1.0, 0.0,\n",
       "       1.0, 0.0, -1.0))], closed=True), location=Vec2(0.0, 0.0))]), style=Style(line_width_=None, line_color_=None, fill_color_=<Color #eee>, fill_opacity_=None, dashing_=None, output_size=None), transform=Affine(0.01, 0.0, 0.2370460331214635,\n",
       "       0.0, 0.01, -0.18330332909927077))), diagram2=Primitive(shape=Path(loc_trails=[Located(trail=Trail(segments=[ArcSegment(angle=0, dangle=-90, t=Affine(1.0, 0.0, -1.0,\n",
       "       0.0, 1.0, 0.0)), ArcSegment(angle=0, dangle=-90, t=Affine(0.0, 1.0, 0.0,\n",
       "       -1.0, 0.0, 1.0)), ArcSegment(angle=0, dangle=-90, t=Affine(-1.0, 0.0, 1.0,\n",
       "       0.0, -1.0, 0.0)), ArcSegment(angle=0, dangle=-90, t=Affine(0.0, -1.0, 0.0,\n",
       "       1.0, 0.0, -1.0))], closed=True), location=Vec2(0.0, 0.0))]), style=Style(line_width_=None, line_color_=None, fill_color_=<Color #eee>, fill_opacity_=None, dashing_=None, output_size=None), transform=Affine(0.01, 0.0, -0.07648207038248958,\n",
       "       0.0, 0.01, -0.10415830551178372))), diagram2=Primitive(shape=Path(loc_trails=[Located(trail=Trail(segments=[ArcSegment(angle=0, dangle=-90, t=Affine(1.0, 0.0, -1.0,\n",
       "       0.0, 1.0, 0.0)), ArcSegment(angle=0, dangle=-90, t=Affine(0.0, 1.0, 0.0,\n",
       "       -1.0, 0.0, 1.0)), ArcSegment(angle=0, dangle=-90, t=Affine(-1.0, 0.0, 1.0,\n",
       "       0.0, -1.0, 0.0)), ArcSegment(angle=0, dangle=-90, t=Affine(0.0, -1.0, 0.0,\n",
       "       1.0, 0.0, -1.0))], closed=True), location=Vec2(0.0, 0.0))]), style=Style(line_width_=None, line_color_=None, fill_color_=<Color #eee>, fill_opacity_=None, dashing_=None, output_size=None), transform=Affine(0.01, 0.0, -0.05962688626892817,\n",
       "       0.0, 0.01, -0.16654580625452964))), diagram2=Primitive(shape=Path(loc_trails=[Located(trail=Trail(segments=[ArcSegment(angle=0, dangle=-90, t=Affine(1.0, 0.0, -1.0,\n",
       "       0.0, 1.0, 0.0)), ArcSegment(angle=0, dangle=-90, t=Affine(0.0, 1.0, 0.0,\n",
       "       -1.0, 0.0, 1.0)), ArcSegment(angle=0, dangle=-90, t=Affine(-1.0, 0.0, 1.0,\n",
       "       0.0, -1.0, 0.0)), ArcSegment(angle=0, dangle=-90, t=Affine(0.0, -1.0, 0.0,\n",
       "       1.0, 0.0, -1.0))], closed=True), location=Vec2(0.0, 0.0))]), style=Style(line_width_=None, line_color_=None, fill_color_=<Color #eee>, fill_opacity_=None, dashing_=None, output_size=None), transform=Affine(0.01, 0.0, 0.08039389101167137,\n",
       "       0.0, 0.01, -0.003910163936590043))), diagram2=Primitive(shape=Path(loc_trails=[Located(trail=Trail(segments=[ArcSegment(angle=0, dangle=-90, t=Affine(1.0, 0.0, -1.0,\n",
       "       0.0, 1.0, 0.0)), ArcSegment(angle=0, dangle=-90, t=Affine(0.0, 1.0, 0.0,\n",
       "       -1.0, 0.0, 1.0)), ArcSegment(angle=0, dangle=-90, t=Affine(-1.0, 0.0, 1.0,\n",
       "       0.0, -1.0, 0.0)), ArcSegment(angle=0, dangle=-90, t=Affine(0.0, -1.0, 0.0,\n",
       "       1.0, 0.0, -1.0))], closed=True), location=Vec2(0.0, 0.0))]), style=Style(line_width_=None, line_color_=None, fill_color_=<Color #eee>, fill_opacity_=None, dashing_=None, output_size=None), transform=Affine(0.01, 0.0, -0.10555928255001693,\n",
       "       0.0, 0.01, -0.12488071531676526))), diagram2=Primitive(shape=Path(loc_trails=[Located(trail=Trail(segments=[ArcSegment(angle=0, dangle=-90, t=Affine(1.0, 0.0, -1.0,\n",
       "       0.0, 1.0, 0.0)), ArcSegment(angle=0, dangle=-90, t=Affine(0.0, 1.0, 0.0,\n",
       "       -1.0, 0.0, 1.0)), ArcSegment(angle=0, dangle=-90, t=Affine(-1.0, 0.0, 1.0,\n",
       "       0.0, -1.0, 0.0)), ArcSegment(angle=0, dangle=-90, t=Affine(0.0, -1.0, 0.0,\n",
       "       1.0, 0.0, -1.0))], closed=True), location=Vec2(0.0, 0.0))]), style=Style(line_width_=None, line_color_=None, fill_color_=<Color #eee>, fill_opacity_=None, dashing_=None, output_size=None), transform=Affine(0.01, 0.0, -0.07112379320249097,\n",
       "       0.0, 0.01, -0.03624293684480685))), diagram2=Primitive(shape=Path(loc_trails=[Located(trail=Trail(segments=[ArcSegment(angle=0, dangle=-90, t=Affine(1.0, 0.0, -1.0,\n",
       "       0.0, 1.0, 0.0)), ArcSegment(angle=0, dangle=-90, t=Affine(0.0, 1.0, 0.0,\n",
       "       -1.0, 0.0, 1.0)), ArcSegment(angle=0, dangle=-90, t=Affine(-1.0, 0.0, 1.0,\n",
       "       0.0, -1.0, 0.0)), ArcSegment(angle=0, dangle=-90, t=Affine(0.0, -1.0, 0.0,\n",
       "       1.0, 0.0, -1.0))], closed=True), location=Vec2(0.0, 0.0))]), style=Style(line_width_=None, line_color_=None, fill_color_=<Color #eee>, fill_opacity_=None, dashing_=None, output_size=None), transform=Affine(0.01, 0.0, 0.20559361818319677,\n",
       "       0.0, 0.01, 0.13197492114764142))), diagram2=Primitive(shape=Path(loc_trails=[Located(trail=Trail(segments=[ArcSegment(angle=0, dangle=-90, t=Affine(1.0, 0.0, -1.0,\n",
       "       0.0, 1.0, 0.0)), ArcSegment(angle=0, dangle=-90, t=Affine(0.0, 1.0, 0.0,\n",
       "       -1.0, 0.0, 1.0)), ArcSegment(angle=0, dangle=-90, t=Affine(-1.0, 0.0, 1.0,\n",
       "       0.0, -1.0, 0.0)), ArcSegment(angle=0, dangle=-90, t=Affine(0.0, -1.0, 0.0,\n",
       "       1.0, 0.0, -1.0))], closed=True), location=Vec2(0.0, 0.0))]), style=Style(line_width_=None, line_color_=None, fill_color_=<Color #eee>, fill_opacity_=None, dashing_=None, output_size=None), transform=Affine(0.01, 0.0, -0.04818218281525133,\n",
       "       0.0, 0.01, -0.11494502369342335))), diagram2=Primitive(shape=Path(loc_trails=[Located(trail=Trail(segments=[ArcSegment(angle=0, dangle=-90, t=Affine(1.0, 0.0, -1.0,\n",
       "       0.0, 1.0, 0.0)), ArcSegment(angle=0, dangle=-90, t=Affine(0.0, 1.0, 0.0,\n",
       "       -1.0, 0.0, 1.0)), ArcSegment(angle=0, dangle=-90, t=Affine(-1.0, 0.0, 1.0,\n",
       "       0.0, -1.0, 0.0)), ArcSegment(angle=0, dangle=-90, t=Affine(0.0, -1.0, 0.0,\n",
       "       1.0, 0.0, -1.0))], closed=True), location=Vec2(0.0, 0.0))]), style=Style(line_width_=None, line_color_=None, fill_color_=<Color #eee>, fill_opacity_=None, dashing_=None, output_size=None), transform=Affine(0.01, 0.0, 0.2448262316945539,\n",
       "       0.0, 0.01, 0.03715610695358028))), diagram2=Primitive(shape=Path(loc_trails=[Located(trail=Trail(segments=[ArcSegment(angle=0, dangle=-90, t=Affine(1.0, 0.0, -1.0,\n",
       "       0.0, 1.0, 0.0)), ArcSegment(angle=0, dangle=-90, t=Affine(0.0, 1.0, 0.0,\n",
       "       -1.0, 0.0, 1.0)), ArcSegment(angle=0, dangle=-90, t=Affine(-1.0, 0.0, 1.0,\n",
       "       0.0, -1.0, 0.0)), ArcSegment(angle=0, dangle=-90, t=Affine(0.0, -1.0, 0.0,\n",
       "       1.0, 0.0, -1.0))], closed=True), location=Vec2(0.0, 0.0))]), style=Style(line_width_=None, line_color_=None, fill_color_=<Color #eee>, fill_opacity_=None, dashing_=None, output_size=None), transform=Affine(0.01, 0.0, -0.19495871257495645,\n",
       "       0.0, 0.01, -0.0880534225075188))), diagram2=Primitive(shape=Path(loc_trails=[Located(trail=Trail(segments=[ArcSegment(angle=0, dangle=-90, t=Affine(1.0, 0.0, -1.0,\n",
       "       0.0, 1.0, 0.0)), ArcSegment(angle=0, dangle=-90, t=Affine(0.0, 1.0, 0.0,\n",
       "       -1.0, 0.0, 1.0)), ArcSegment(angle=0, dangle=-90, t=Affine(-1.0, 0.0, 1.0,\n",
       "       0.0, -1.0, 0.0)), ArcSegment(angle=0, dangle=-90, t=Affine(0.0, -1.0, 0.0,\n",
       "       1.0, 0.0, -1.0))], closed=True), location=Vec2(0.0, 0.0))]), style=Style(line_width_=None, line_color_=None, fill_color_=<Color #eee>, fill_opacity_=None, dashing_=None, output_size=None), transform=Affine(0.01, 0.0, -0.06411929381989474,\n",
       "       0.0, 0.01, 0.02602827381529954))), diagram2=Primitive(shape=Path(loc_trails=[Located(trail=Trail(segments=[ArcSegment(angle=0, dangle=-90, t=Affine(1.0, 0.0, -1.0,\n",
       "       0.0, 1.0, 0.0)), ArcSegment(angle=0, dangle=-90, t=Affine(0.0, 1.0, 0.0,\n",
       "       -1.0, 0.0, 1.0)), ArcSegment(angle=0, dangle=-90, t=Affine(-1.0, 0.0, 1.0,\n",
       "       0.0, -1.0, 0.0)), ArcSegment(angle=0, dangle=-90, t=Affine(0.0, -1.0, 0.0,\n",
       "       1.0, 0.0, -1.0))], closed=True), location=Vec2(0.0, 0.0))]), style=Style(line_width_=None, line_color_=None, fill_color_=<Color #eee>, fill_opacity_=None, dashing_=None, output_size=None), transform=Affine(0.01, 0.0, 0.012293298998350731,\n",
       "       0.0, 0.01, 0.1996393601733586))), diagram2=Primitive(shape=Path(loc_trails=[Located(trail=Trail(segments=[ArcSegment(angle=0, dangle=-90, t=Affine(1.0, 0.0, -1.0,\n",
       "       0.0, 1.0, 0.0)), ArcSegment(angle=0, dangle=-90, t=Affine(0.0, 1.0, 0.0,\n",
       "       -1.0, 0.0, 1.0)), ArcSegment(angle=0, dangle=-90, t=Affine(-1.0, 0.0, 1.0,\n",
       "       0.0, -1.0, 0.0)), ArcSegment(angle=0, dangle=-90, t=Affine(0.0, -1.0, 0.0,\n",
       "       1.0, 0.0, -1.0))], closed=True), location=Vec2(0.0, 0.0))]), style=Style(line_width_=None, line_color_=None, fill_color_=<Color #eee>, fill_opacity_=None, dashing_=None, output_size=None), transform=Affine(0.01, 0.0, -0.07806901984502533,\n",
       "       0.0, 0.01, 0.05519433992717314))), diagram2=Primitive(shape=Path(loc_trails=[Located(trail=Trail(segments=[ArcSegment(angle=0, dangle=-90, t=Affine(1.0, 0.0, -1.0,\n",
       "       0.0, 1.0, 0.0)), ArcSegment(angle=0, dangle=-90, t=Affine(0.0, 1.0, 0.0,\n",
       "       -1.0, 0.0, 1.0)), ArcSegment(angle=0, dangle=-90, t=Affine(-1.0, 0.0, 1.0,\n",
       "       0.0, -1.0, 0.0)), ArcSegment(angle=0, dangle=-90, t=Affine(0.0, -1.0, 0.0,\n",
       "       1.0, 0.0, -1.0))], closed=True), location=Vec2(0.0, 0.0))]), style=Style(line_width_=None, line_color_=None, fill_color_=<Color #eee>, fill_opacity_=None, dashing_=None, output_size=None), transform=Affine(0.01, 0.0, -0.008246872946454107,\n",
       "       0.0, 0.01, 0.05638378404300892))), diagram2=Primitive(shape=Path(loc_trails=[Located(trail=Trail(segments=[ArcSegment(angle=0, dangle=-90, t=Affine(1.0, 0.0, -1.0,\n",
       "       0.0, 1.0, 0.0)), ArcSegment(angle=0, dangle=-90, t=Affine(0.0, 1.0, 0.0,\n",
       "       -1.0, 0.0, 1.0)), ArcSegment(angle=0, dangle=-90, t=Affine(-1.0, 0.0, 1.0,\n",
       "       0.0, -1.0, 0.0)), ArcSegment(angle=0, dangle=-90, t=Affine(0.0, -1.0, 0.0,\n",
       "       1.0, 0.0, -1.0))], closed=True), location=Vec2(0.0, 0.0))]), style=Style(line_width_=None, line_color_=None, fill_color_=<Color #eee>, fill_opacity_=None, dashing_=None, output_size=None), transform=Affine(0.01, 0.0, -0.049521647194669186,\n",
       "       0.0, 0.01, 0.13345137785166108))), diagram2=Primitive(shape=Path(loc_trails=[Located(trail=Trail(segments=[ArcSegment(angle=0, dangle=-90, t=Affine(1.0, 0.0, -1.0,\n",
       "       0.0, 1.0, 0.0)), ArcSegment(angle=0, dangle=-90, t=Affine(0.0, 1.0, 0.0,\n",
       "       -1.0, 0.0, 1.0)), ArcSegment(angle=0, dangle=-90, t=Affine(-1.0, 0.0, 1.0,\n",
       "       0.0, -1.0, 0.0)), ArcSegment(angle=0, dangle=-90, t=Affine(0.0, -1.0, 0.0,\n",
       "       1.0, 0.0, -1.0))], closed=True), location=Vec2(0.0, 0.0))]), style=Style(line_width_=None, line_color_=None, fill_color_=<Color #eee>, fill_opacity_=None, dashing_=None, output_size=None), transform=Affine(0.01, 0.0, 0.07004295103712803,\n",
       "       0.0, 0.01, 0.17828840406207802))), diagram2=Primitive(shape=Path(loc_trails=[Located(trail=Trail(segments=[ArcSegment(angle=0, dangle=-90, t=Affine(1.0, 0.0, -1.0,\n",
       "       0.0, 1.0, 0.0)), ArcSegment(angle=0, dangle=-90, t=Affine(0.0, 1.0, 0.0,\n",
       "       -1.0, 0.0, 1.0)), ArcSegment(angle=0, dangle=-90, t=Affine(-1.0, 0.0, 1.0,\n",
       "       0.0, -1.0, 0.0)), ArcSegment(angle=0, dangle=-90, t=Affine(0.0, -1.0, 0.0,\n",
       "       1.0, 0.0, -1.0))], closed=True), location=Vec2(0.0, 0.0))]), style=Style(line_width_=None, line_color_=None, fill_color_=<Color #eee>, fill_opacity_=None, dashing_=None, output_size=None), transform=Affine(0.01, 0.0, -0.051972023090493924,\n",
       "       0.0, 0.01, 0.038320819216715096))), diagram2=Primitive(shape=Path(loc_trails=[Located(trail=Trail(segments=[ArcSegment(angle=0, dangle=-90, t=Affine(1.0, 0.0, -1.0,\n",
       "       0.0, 1.0, 0.0)), ArcSegment(angle=0, dangle=-90, t=Affine(0.0, 1.0, 0.0,\n",
       "       -1.0, 0.0, 1.0)), ArcSegment(angle=0, dangle=-90, t=Affine(-1.0, 0.0, 1.0,\n",
       "       0.0, -1.0, 0.0)), ArcSegment(angle=0, dangle=-90, t=Affine(0.0, -1.0, 0.0,\n",
       "       1.0, 0.0, -1.0))], closed=True), location=Vec2(0.0, 0.0))]), style=Style(line_width_=None, line_color_=None, fill_color_=<Color #eee>, fill_opacity_=None, dashing_=None, output_size=None), transform=Affine(0.01, 0.0, -0.04420736380989074,\n",
       "       0.0, 0.01, 0.04988056854406648)))), diagram2=Primitive(shape=Path(loc_trails=[Located(trail=Trail(segments=[ArcSegment(angle=0, dangle=-90, t=Affine(1.0, 0.0, -1.0,\n",
       "       0.0, 1.0, 0.0)), ArcSegment(angle=0, dangle=-90, t=Affine(0.0, 1.0, 0.0,\n",
       "       -1.0, 0.0, 1.0)), ArcSegment(angle=0, dangle=-90, t=Affine(-1.0, 0.0, 1.0,\n",
       "       0.0, -1.0, 0.0)), ArcSegment(angle=0, dangle=-90, t=Affine(0.0, -1.0, 0.0,\n",
       "       1.0, 0.0, -1.0))], closed=True), location=Vec2(0.0, 0.0))]), style=Style(line_width_=None, line_color_=None, fill_color_=<Color blue>, fill_opacity_=None, dashing_=None, output_size=None), transform=Affine(0.01, 0.0, 0.01743574493126244,\n",
       "       0.0, 0.01, -0.015925630363576068)))"
      ]
     },
     "execution_count": 229,
     "metadata": {},
     "output_type": "execute_result"
    }
   ],
   "source": [
    "from colour import Color\n",
    "from chalk import *\n",
    "\n",
    "# https://chalk-diagrams.github.io/\n",
    "set_svg_height(500) \n",
    "\n",
    "point_color = Color(\"black\")\n",
    "line_color = Color(\"#e0e0e0\")\n",
    "\n",
    "def grayscale(alpha: float) -> Color:\n",
    "    assert 0 <= alpha <= 1.0\n",
    "    return Color(hue=.95, saturation=1.0, luminance=alpha)\n",
    "\n",
    "pca_trajec = PCA(n_components=2).fit(trajectories[:, 0, :])\n",
    "# data = pca.transform(trajectories[:, 0, :]) * 5 # multiply to stretch things out\n",
    "data = pca_trajec.transform(trajectories[:, 0, :])\n",
    "# data = pd.DataFrame(data.T, columns=['x', 'y'])\n",
    "# data['i'] = range(len(data))\n",
    "\n",
    "line_points = []\n",
    "for i in range(len(data)-1):\n",
    "    x1, y1 = data[i]\n",
    "    x2, y2 = data[i+1]\n",
    "    if (x1 == x2) and (y1 == y2): continue\n",
    "    line_points.append([(x1, y1), (x2, y2)])\n",
    "\n",
    "frames = []\n",
    "\n",
    "buffer = .1\n",
    "minx = min([x for x,y in data]) - buffer\n",
    "maxx = max([x for x,y in data]) + buffer\n",
    "miny = min([y for x,y in data]) - buffer\n",
    "maxy = max([y for x,y in data]) + buffer\n",
    "\n",
    "pca_goal = pca_trajec.transform(eval_batch[\"frozen_embeddings\"].cpu())\n",
    "goal = circle(radius=.01).fill_color(Color(\"blue\")).translate(*pca_goal.flatten())\n",
    "\n",
    "for N in range(1, len(data)):\n",
    "    background = rectangle(width=(maxx-minx), height=(maxy-miny)).fill_color(Color(\"white\")).translate(minx+(maxx-minx)/2, maxy-(maxy-miny)/2)\n",
    "    circles = concat(circle(radius=.01).fill_color(Color(\"#eee\")).translate(x, y) for j, (x, y) in enumerate(data[:N]))\n",
    "    lines = concat(make_path([p1, p2]).line_color(grayscale(i/len(line_points))).line_width(.8) for i, (p1, p2) in enumerate(line_points[:N-1]))\n",
    "    frames.append(concat([background, lines, circles, goal]))\n",
    "\n",
    "frames[-1]"
   ]
  },
  {
   "cell_type": "code",
   "execution_count": 231,
   "id": "2b652bb1-b22e-4e02-9e48-ba7de63ba4db",
   "metadata": {},
   "outputs": [
    {
     "name": "stderr",
     "output_type": "stream",
     "text": [
      "/tmp/ipykernel_2427909/3542927145.py:10: DeprecationWarning: Starting with ImageIO v3 the behavior of this function will switch to that of iio.v3.imread. To keep the current behavior (and make this warning disappear) use `import imageio.v2 as imageio` or call `imageio.v2.imread` directly.\n",
      "  images = [imageio.imread(path) for path in frame_paths]\n"
     ]
    },
    {
     "data": {
      "image/gif": "[encoded data removed]",
      "text/plain": [
       "<IPython.core.display.Image object>"
      ]
     },
     "metadata": {},
     "output_type": "display_data"
    }
   ],
   "source": [
    "import imageio\n",
    "\n",
    "hw = 512\n",
    "frame_paths = []\n",
    "for i, frame in enumerate(frames):\n",
    "    path = f\"frame_{i}.png\"\n",
    "    frame.render(path, height=hw, width=hw)\n",
    "    frame_paths.append(path)\n",
    "\n",
    "images = [imageio.imread(path) for path in frame_paths]\n",
    "gif_path = \"animation.gif\"\n",
    "imageio.mimsave(gif_path, images, duration=1)\n",
    "\n",
    "# Display the GIF in the Jupyter Notebook\n",
    "from IPython.display import Image, display\n",
    "display(Image(filename=gif_path))"
   ]
  },
  {
   "cell_type": "markdown",
   "id": "31b38e16-f660-44b8-b83f-660042728ae6",
   "metadata": {},
   "source": [
    "## Measuring closesness of hypotheses\n",
    "\n",
    "Wondering how \"comprehensive\" our training data is – does it include \"very close\" hypotheses?"
   ]
  },
  {
   "cell_type": "code",
   "execution_count": 66,
   "id": "7b3e6c6d-de85-4362-b16d-6383cd41e071",
   "metadata": {},
   "outputs": [
    {
     "name": "stdout",
     "output_type": "stream",
     "text": [
      "Loading hypotheses from path /home/jxm3/research/retrieval/inversion/saves/db66b9c01b644541fedbdcc59c53a285/ebb31d91810c4b62d2b55b5382e8c7ea/526eed4aef8023828df2d1962356118f/410d3ac43b21b148_hypotheses.cache\n",
      "Loading hypotheses from path /home/jxm3/research/retrieval/inversion/saves/db66b9c01b644541fedbdcc59c53a285/ebb31d91810c4b62d2b55b5382e8c7ea/526eed4aef8023828df2d1962356118f/faa7fd729fb13809_hypotheses.cache\n",
      "Saving hypotheses to path /home/jxm3/research/retrieval/inversion/saves/db66b9c01b644541fedbdcc59c53a285/ebb31d91810c4b62d2b55b5382e8c7ea/526eed4aef8023828df2d1962356118f/f6cb440d7b1a11b3_hypotheses.cache\n"
     ]
    },
    {
     "data": {
      "application/vnd.jupyter.widget-view+json": {
       "model_id": "",
       "version_major": 2,
       "version_minor": 0
      },
      "text/plain": [
       "Precomputing hypotheses for data:   0%|          | 0/500 [00:00<?, ? examples/s]"
      ]
     },
     "metadata": {},
     "output_type": "display_data"
    },
    {
     "data": {
      "application/vnd.jupyter.widget-view+json": {
       "model_id": "",
       "version_major": 2,
       "version_minor": 0
      },
      "text/plain": [
       "Saving the dataset (0/1 shards):   0%|          | 0/500 [00:00<?, ? examples/s]"
      ]
     },
     "metadata": {},
     "output_type": "display_data"
    },
    {
     "name": "stdout",
     "output_type": "stream",
     "text": [
      "Loading hypotheses from path /home/jxm3/research/retrieval/inversion/saves/db66b9c01b644541fedbdcc59c53a285/ebb31d91810c4b62d2b55b5382e8c7ea/526eed4aef8023828df2d1962356118f/c86e02d62c95721f_hypotheses.cache\n",
      "Loading hypotheses from path /home/jxm3/research/retrieval/inversion/saves/db66b9c01b644541fedbdcc59c53a285/ebb31d91810c4b62d2b55b5382e8c7ea/526eed4aef8023828df2d1962356118f/0fc6efa35ccc8998_hypotheses.cache\n",
      "Loading hypotheses from path /home/jxm3/research/retrieval/inversion/saves/db66b9c01b644541fedbdcc59c53a285/ebb31d91810c4b62d2b55b5382e8c7ea/526eed4aef8023828df2d1962356118f/69ab30859523c623_hypotheses.cache\n",
      "Loading hypotheses from path /home/jxm3/research/retrieval/inversion/saves/db66b9c01b644541fedbdcc59c53a285/ebb31d91810c4b62d2b55b5382e8c7ea/526eed4aef8023828df2d1962356118f/bc62ad38b92d7dcb_hypotheses.cache\n"
     ]
    }
   ],
   "source": [
    "trainer.precompute_hypotheses()"
   ]
  },
  {
   "cell_type": "code",
   "execution_count": 92,
   "id": "c9dae905-7c29-4845-8dd6-aa7612f63022",
   "metadata": {},
   "outputs": [
    {
     "data": {
      "application/vnd.jupyter.widget-view+json": {
       "model_id": "",
       "version_major": 2,
       "version_minor": 0
      },
      "text/plain": [
       "Map:   0%|          | 0/1000000 [00:00<?, ? examples/s]"
      ]
     },
     "metadata": {},
     "output_type": "display_data"
    }
   ],
   "source": [
    "from typing import Dict\n",
    "import torch\n",
    "\n",
    "def add_distance_to_dataset(batch: Dict[str, torch.Tensor]) -> Dict[str, torch.Tensor]:\n",
    "    e1 = torch.tensor(batch[\"frozen_embeddings\"], device=\"cpu\")#trainer.args.device)\n",
    "    e2 = torch.tensor(batch[\"hypothesis_embedding\"], device=\"cpu\")#trainer.args.device)\n",
    "    batch[\"hypothesis_distance\"] = torch.nn.CosineSimilarity(dim=1)(e1, e2).cpu()\n",
    "    return batch\n",
    "\n",
    "ds_with_distances = trainer.train_dataset.select(range(10**6)).map(add_distance_to_dataset, batched=True, batch_size=8192)"
   ]
  },
  {
   "cell_type": "code",
   "execution_count": null,
   "id": "ebe4b2fc-4dc7-4492-9906-7fc990dde64e",
   "metadata": {},
   "outputs": [],
   "source": [
    "# https://seaborn.pydata.org/generated/seaborn.displot.html#seaborn.displot\n",
    "ax = sns.histplot(ds_with_distances[\"hypothesis_distance\"], bins=150)\n",
    "\n",
    "ax.set_xlim([.7,1])\n",
    "ax.set_ylim([0, 30_000])\n",
    "ax.set_xlabel(\"Cosine distance from hypothesis to true embedding\")\n",
    "# ax.set_xscale(\"log\")\n",
    "\n",
    "# save to PDF\n",
    "plt.savefig(\"train_hypothesis_distance_sl32.pdf\", format=\"pdf\", bbox_inches=\"tight\") "
   ]
  },
  {
   "cell_type": "markdown",
   "id": "e56718d2-db13-41db-a0c6-98e99e1bbf26",
   "metadata": {},
   "source": [
    "## looking for failure cases in arxiv data"
   ]
  },
  {
   "cell_type": "code",
   "execution_count": null,
   "id": "09e2aaa5-33d0-4272-a515-001536c52d7d",
   "metadata": {},
   "outputs": [],
   "source": [
    "trainer.gen_kwargs = {\n",
    "    \"early_stopping\": False,\n",
    "    \"num_beams\": 1,\n",
    "    \"do_sample\": False,\n",
    "    \"no_repeat_ngram_size\": 0,\n",
    "}\n",
    "trainer.num_gen_recursive_steps = 20\n",
    "trainer.inversion_trainer.model.use_frozen_embeddings_as_input = True\n",
    "metrics = trainer.evaluate(\n",
    "    eval_dataset=eval_dataset,\n",
    "    metric_key_prefix=f\"eval_arxiv\",\n",
    ")\n",
    "print(metrics)"
   ]
  },
  {
   "cell_type": "code",
   "execution_count": 119,
   "id": "0427dffc-bd4c-4dec-81eb-95a481f0b22a",
   "metadata": {},
   "outputs": [
    {
     "name": "stdout",
     "output_type": "stream",
     "text": [
      "input: in this paper, we use belief - propagation techniques to develop fast algorithms for image inpainting. unlike traditional gradient - </s>\n",
      "round 1 (0.850): <pad> believe propagation techniques.... In this paper we use gradients to develop a more fast and effective image-based belief\n",
      "round 2 (0.903): <pad> than traditional belief techniques. In this paper we use propagation algorithms to develop fast, in-depth, gradient-painting. ii\n",
      "round 3 (0.940): <pad> as in this paper.. we use belief techniques to develop propagation algorithms - fast in traditional gradient and image-painting.\n",
      "round 4 (0.884): <pad> than in traditional belief techniques.. we develop propagation techniques for fast image-painting. In this paper we use gradient.\n",
      "round 5 (0.921): <pad> than in traditional belief algorithms... We use propagation techniques to develop fast or gradient in image-painting. This paper is\n",
      "round 6 (0.860): <pad> than in traditional paper., we use propagation techniques to develop fast gradient, in belief, in image-painting.In\n",
      "round 7 (0.929): <pad> than in traditional belief algorithms., we use propagation techniques to develop fast gradients for image-painting.This paper is in \n",
      "round 8 (0.865): <pad> than in traditional belief - in this paper, we use propagation techniques to develop fast gradient for image-painting.As with in\n"
     ]
    }
   ],
   "source": [
    "# worst arxiv reconstructions by bertscore:\n",
    "# [424, 201, 471,  86, 254, 237,  49, 321,  36, 284, 433, 107, 316, ...]\n",
    "eval_batch = next(iter(trainer.get_eval_dataloader(eval_dataset=trainer.eval_dataset[\"arxiv\"])))\n",
    "eval_batch = {k: v[None, 49] for k,v in eval_batch.items() }\n",
    "eval_batch = {k: v.to(trainer.args.device) for k,v in eval_batch.items() } # put on GPU\n",
    "trainer.inversion_trainer.model.use_frozen_embeddings_as_input = False\n",
    "# trainer.embedder_tokenizer.decode(().flatten())\n",
    "trajectories = get_trajectories(inputs=eval_batch, num_rounds=8)"
   ]
  },
  {
   "cell_type": "code",
   "execution_count": 134,
   "id": "ba7aa94f-e0f6-4bb6-8a89-b0c8fa9ab08c",
   "metadata": {},
   "outputs": [
    {
     "name": "stdout",
     "output_type": "stream",
     "text": [
      "** num_beams=1 **\n",
      "input: in this paper, we use belief - propagation techniques to develop fast algorithms for image inpainting. unlike traditional gradient - </s>\n",
      "round 1 (0.850): <pad> believe propagation techniques.... In this paper we use gradients to develop a more fast and effective image-based belief\n",
      "round 2 (0.903): <pad> than traditional belief techniques. In this paper we use propagation algorithms to develop fast, in-depth, gradient-painting. ii\n",
      "round 3 (0.940): <pad> as in this paper.. we use belief techniques to develop propagation algorithms - fast in traditional gradient and image-painting.\n",
      "round 4 (0.884): <pad> than in traditional belief techniques.. we develop propagation techniques for fast image-painting. In this paper we use gradient.\n",
      "round 5 (0.921): <pad> than in traditional belief algorithms... We use propagation techniques to develop fast or gradient in image-painting. This paper is\n",
      "round 6 (0.860): <pad> than in traditional paper., we use propagation techniques to develop fast gradient, in belief, in image-painting.In\n",
      "round 7 (0.929): <pad> than in traditional belief algorithms., we use propagation techniques to develop fast gradients for image-painting.This paper is in \n",
      "round 8 (0.865): <pad> than in traditional belief - in this paper, we use propagation techniques to develop fast gradient for image-painting.As with in\n",
      "round 9 (0.918): <pad> than in traditional belief algorithms... In this paper, we use propagation techniques to develop fast gradients for image-painting\n",
      "round 10 (0.944): <pad> as in belief. In this paper we use propagation techniques to develop fast gradient.. rather than traditional algorithms for image-painting\n",
      "round 11 (0.929): <pad> as in belief algorithms. In this paper we use propagation techniques to develop fast and traditional gradient.. rather than for image-pain\n",
      "round 12 (0.917): <pad> as in belief painting. In this paper we use propagation techniques to develop fast, traditional gradient. Rather than ink algorithms for image-\n",
      "round 13 (0.923): <pad> for developing belief algorithms. In this paper, we use propagation techniques to design fast, gradient.as opposed to traditional ink painting.\n",
      "round 14 (0.956): <pad> for developing belief algorithms. In this paper, we use propagation techniques to design fast, gradient.. as opposed to traditional inimage painting\n",
      "round 15 (0.937): <pad> well as for developing belief algorithms. In this paper, we use propagation techniques to produce fast, gradient. akin to traditional inimage\n",
      "round 16 (0.914): <pad> well as for developing belief algorithms. In this paper we use propagation techniques to produce fast, gradient a. Unlike traditional inpain\n",
      "** num_beams=32 **\n",
      "input: in this paper, we use belief - propagation techniques to develop fast algorithms for image inpainting. unlike traditional gradient - </s>\n",
      "round 1 (0.854): <pad> believe propagation techniques.... In this paper we use gradients to develop a new, faster and more effective belief algorithm\n",
      "round 2 (0.922): <pad> as in belief painting. In this paper we use propagation techniques to develop fast, i.e. traditional gradient and input algorithms. \n",
      "round 3 (0.952): <pad> for belief-painting. In this paper we use traditional propagation techniques to develop fast gradient as well as image algorithms.. \n",
      "round 4 (0.952): <pad>, in this paper we use propagation techniques to develop fast and traditional gradient image algorithms.. as opposed to belief-painting \n",
      "round 5 (0.923): <pad> well as in this paper, we use propagation techniques to develop fast gradient and image algorithms.. For traditional belief-painting \n",
      "round 6 (0.951): <pad> as in belief-painting, we use propagation techniques to develop fast gradient and image algorithms... In this traditional paper\n",
      "round 7 (0.934): <pad> than in traditional propagation techniques, we use belief in gradient, to develop fast image-painting algorithms.This paper is for in-\n",
      "round 8 (0.943): <pad> than traditional belief techniques, we use propagation, fast in gradient, to develop image-painting algorithms.This paper is for research\n",
      "round 9 (0.946): <pad> as opposed to traditional belief techniques, we use propagation in gradient, to develop fast image-painting algorithms.This paper is \n",
      "round 10 (0.963): <pad> well as belief techniques, we use propagation in gradient, to develop fast in-image-painting algorithms.This paper is \n",
      "round 11 (0.949): <pad> as opposed to belief techniques, we use propagation to develop fast in gradient-painting and image algorithms.This paper is a submission\n",
      "round 12 (0.942): <pad> well as in belief techniques, we use propagation to develop fast, gradient-painting algorithms for image inertia.This paper\n",
      "round 13 (0.948): <pad> in belief techniques... we use propagation to develop fast, gradient-painting algorithms for image inking.This new paper\n",
      "round 14 (0.944): <pad> as in, we use belief techniques to develop fast, gradient-painting algorithms for image propagation.<unk>br> In this new paper\n",
      "round 15 (0.884): <pad> for this paper... we use propagation techniques to develop fast, in gradient or image-painting algorithms. Unlike belief\n",
      "round 16 (0.935): <pad> as in belief propagation. In this paper, we use fast techniques to develop gradient and image-painting algorithms.. Unlike traditional\n"
     ]
    }
   ],
   "source": [
    "# worst arxiv reconstructions by bertscore:\n",
    "# [424, 201, 471,  86, 254, 237,  49, 321,  36, 284, 433, 107, 316, ...]\n",
    "eval_batch = next(iter(trainer.get_eval_dataloader(eval_dataset=trainer.eval_dataset[\"arxiv\"])))\n",
    "eval_batch = {k: v[None, 49] for k,v in eval_batch.items() }\n",
    "eval_batch = {k: v.to(trainer.args.device) for k,v in eval_batch.items() } # put on GPU\n",
    "trainer.inversion_trainer.model.use_frozen_embeddings_as_input = False\n",
    "# trainer.embedder_tokenizer.decode(().flatten())\n",
    "\n",
    "print(\"** num_beams=1 **\")\n",
    "trajectories = get_trajectories(inputs=eval_batch, num_beams=1, num_rounds=16)\n",
    "\n",
    "print(\"** num_beams=32 **\")\n",
    "trajectories = get_trajectories(inputs=eval_batch, num_beams=8, num_rounds=16)"
   ]
  },
  {
   "cell_type": "code",
   "execution_count": 295,
   "id": "fce619dc-d55d-4373-8173-f7d44c9f3c49",
   "metadata": {},
   "outputs": [
    {
     "name": "stdout",
     "output_type": "stream",
     "text": [
      "{'score': 24.57498456289153, 'counts': [16, 6, 4, 2], 'totals': [22, 21, 20, 19], 'precisions': [72.72727272727273, 28.571428571428573, 20.0, 10.526315789473685], 'bp': 0.9555630362682843, 'sys_len': 22, 'ref_len': 23}\n"
     ]
    },
    {
     "data": {
      "text/plain": [
       "24.57498456289153"
      ]
     },
     "execution_count": 295,
     "metadata": {},
     "output_type": "execute_result"
    }
   ],
   "source": [
    "def bleu(s1: str, s2: str) -> float:\n",
    "    m = trainer.metric_bleu.compute(\n",
    "        predictions=[s1], references=[s2],\n",
    "    )\n",
    "    print(m)\n",
    "    return m[\"score\"]\n",
    "\n",
    "bleu(\n",
    "    \"in this paper, we use belief - propagation techniques to develop fast algorithms for image inpainting. unlike traditional gradient - \",\n",
    "    \"as in belief propagation. In this paper, we use fast techniques to develop gradient and image-painting algorithms.. Unlike traditional\",\n",
    ")"
   ]
  },
  {
   "cell_type": "markdown",
   "id": "98d36af3-b402-429b-afda-d7f699ef23f9",
   "metadata": {},
   "source": [
    "## test words in training"
   ]
  },
  {
   "cell_type": "code",
   "execution_count": 187,
   "id": "cc7c4f37-5dcd-404b-91ae-f66972bcd986",
   "metadata": {},
   "outputs": [
    {
     "data": {
      "application/vnd.jupyter.widget-view+json": {
       "model_id": "",
       "version_major": 2,
       "version_minor": 0
      },
      "text/plain": [
       "Map:   0%|          | 0/5332023 [00:00<?, ? examples/s]"
      ]
     },
     "metadata": {},
     "output_type": "display_data"
    }
   ],
   "source": [
    "from typing import Dict\n",
    "from collections import Counter\n",
    "import torch\n",
    "\n",
    "\n",
    "vocab_size = trainer.embedder_tokenizer.vocab_size\n",
    "word_counts = Counter()\n",
    "\n",
    "def count_words_freq(batch: Dict[str, torch.Tensor]) -> None:\n",
    "    global word_counts\n",
    "    str_list = trainer.embedder_tokenizer.batch_decode(batch[\"embedder_input_ids\"], skip_special_tokens=True)\n",
    "    s = \"\\n\".join(str_list)\n",
    "    word_counts.update(s.split())\n",
    "    \n",
    "\n",
    "trainer.train_dataset.map(count_words_freq, batched=True, batch_size=1024)\n",
    "\n",
    "import pickle\n",
    "pickle.dump(word_counts, open(\"nq_train_word_counts.p\", \"wb\"))\n",
    "# pickle.dump(token_counts, open(\"nq_train_token_counts.p\", \"wb\"))"
   ]
  },
  {
   "cell_type": "code",
   "execution_count": 4,
   "id": "081f8eb7-47a2-4ce5-9ae3-c849d5338be1",
   "metadata": {},
   "outputs": [],
   "source": [
    "import pickle\n",
    "word_counts = pickle.load(open(\"nq_train_word_counts.p\", \"rb\"))"
   ]
  },
  {
   "cell_type": "code",
   "execution_count": 5,
   "id": "be2ab26d-a3c9-4d96-b4a0-50c274043ab5",
   "metadata": {},
   "outputs": [
    {
     "data": {
      "application/vnd.jupyter.widget-view+json": {
       "model_id": "e11a3d84e5134f53a2e8dfcbf1188f44",
       "version_major": 2,
       "version_minor": 0
      },
      "text/plain": [
       "  0%|          | 0/2 [00:00<?, ?it/s]"
      ]
     },
     "metadata": {},
     "output_type": "display_data"
    },
    {
     "data": {
      "application/vnd.jupyter.widget-view+json": {
       "model_id": "8e4791547f7f4891bef2d1bb0b14d694",
       "version_major": 2,
       "version_minor": 0
      },
      "text/plain": [
       "  0%|          | 0/3 [00:00<?, ?it/s]"
      ]
     },
     "metadata": {},
     "output_type": "display_data"
    },
    {
     "data": {
      "application/vnd.jupyter.widget-view+json": {
       "model_id": "53bfac3e6d38462ea57d7129a6076eed",
       "version_major": 2,
       "version_minor": 0
      },
      "text/plain": [
       "  0%|          | 0/3 [00:00<?, ?it/s]"
      ]
     },
     "metadata": {},
     "output_type": "display_data"
    },
    {
     "data": {
      "application/vnd.jupyter.widget-view+json": {
       "model_id": "d65b0964062e4d7f96ce8f9e27da6054",
       "version_major": 2,
       "version_minor": 0
      },
      "text/plain": [
       "  0%|          | 0/3 [00:00<?, ?it/s]"
      ]
     },
     "metadata": {},
     "output_type": "display_data"
    },
    {
     "data": {
      "application/vnd.jupyter.widget-view+json": {
       "model_id": "935b5e41384c498eb8fa3f0c169d6b30",
       "version_major": 2,
       "version_minor": 0
      },
      "text/plain": [
       "  0%|          | 0/3 [00:00<?, ?it/s]"
      ]
     },
     "metadata": {},
     "output_type": "display_data"
    },
    {
     "name": "stderr",
     "output_type": "stream",
     "text": [
      "/home/jxm3/.conda/envs/torch/lib/python3.10/site-packages/transformers/models/t5/tokenization_t5_fast.py:155: FutureWarning: This tokenizer was incorrectly instantiated with a model max length of 512 which will be corrected in Transformers v5.\n",
      "For now, this behavior is kept to avoid breaking backwards compatibility when padding/encoding with `truncation is True`.\n",
      "- Be aware that you SHOULD NOT rely on t5-base automatically truncating your input to 512 when padding/encoding.\n",
      "- If you want to encode/pad to sequences longer than 512 you can either instantiate this tokenizer with `model_max_length` or pass `max_length` when encoding/padding.\n",
      "- To avoid this warning, please instantiate this tokenizer with `model_max_length` set to your preferred value.\n",
      "  warnings.warn(\n"
     ]
    },
    {
     "data": {
      "application/vnd.jupyter.widget-view+json": {
       "model_id": "",
       "version_major": 2,
       "version_minor": 0
      },
      "text/plain": [
       "Running tokenizer on dataset:   0%|          | 0/7600 [00:00<?, ? examples/s]"
      ]
     },
     "metadata": {},
     "output_type": "display_data"
    }
   ],
   "source": [
    "from data_helpers import load_standard_val_datasets\n",
    "from tokenize_data import tokenize_function\n",
    "import transformers\n",
    "\n",
    "def load_arxiv(max_eval_samples: int):\n",
    "    max_eval_samples\n",
    "    val_datasets_dict = load_standard_val_datasets()\n",
    "    tokenizer = transformers.AutoTokenizer.from_pretrained(\n",
    "        \"t5-base\",\n",
    "        padding=True,\n",
    "        truncation=\"max_length\",\n",
    "        max_length=32,\n",
    "    )\n",
    "\n",
    "    val_datasets_dict = val_datasets_dict.map(\n",
    "        tokenize_function(\n",
    "            tokenizer,\n",
    "            trainer.embedder_tokenizer,\n",
    "            \"text\",\n",
    "            32,\n",
    "        ),\n",
    "        remove_columns=[\"text\"],\n",
    "        batched=True,\n",
    "        desc=\"Running tokenizer on dataset\",\n",
    "    )\n",
    "\n",
    "    for name, dataset in val_datasets_dict.items():\n",
    "        max_eval_samples = min(len(dataset), max_eval_samples)\n",
    "        val_datasets_dict[name] = val_datasets_dict[name].select(\n",
    "            range(max_eval_samples)\n",
    "        )\n",
    "        val_datasets_dict[name] = val_datasets_dict[name].add_column(\n",
    "            \"idx\", range(len(val_datasets_dict[name]))\n",
    "        )\n",
    "    \n",
    "    return val_datasets_dict[\"arxiv\"]\n",
    "\n",
    "arxiv = load_arxiv(10_000)"
   ]
  },
  {
   "cell_type": "code",
   "execution_count": 6,
   "id": "704b238e-4150-4519-81a5-ea54d03e327a",
   "metadata": {},
   "outputs": [
    {
     "data": {
      "text/html": [
       "\n",
       "    <div>\n",
       "      \n",
       "      <progress value='80' max='26' style='width:300px; height:20px; vertical-align: middle;'></progress>\n",
       "      [26/26 2:12:49]\n",
       "    </div>\n",
       "    "
      ],
      "text/plain": [
       "<IPython.core.display.HTML object>"
      ]
     },
     "metadata": {},
     "output_type": "display_data"
    },
    {
     "name": "stderr",
     "output_type": "stream",
     "text": [
      "                                                                                                                                               \r"
     ]
    },
    {
     "name": "stdout",
     "output_type": "stream",
     "text": [
      "[pred] we study the phase behavior of a nematic liquid crystal confined between a flat substrate and a strong patterned substrate with anchoring\n",
      "[true] we study the phase behavior of a nematic liquid crystal confined between a flat substrate with strong anchoring and a patterned substrate\n",
      "\n",
      "\n",
      "\n",
      "[pred] determining the scaling relations between galaxy clusters requires large samples of uniformly observed clusters. We measure the mean observables x-\n",
      "[true] determining the scaling relations between galaxy cluster observables requires large samples of uniformly observed clusters. we measure the mean x -\n",
      "\n",
      "\n",
      "\n",
      "[pred] we show how to control quantum correlations in a type parametric degenerate multimode spatial optical oscillator under a threshold at \n",
      "[true] we show how to control spatial quantum correlations in a multimode degenerate optical parametric oscillator type i below threshold by \n"
     ]
    },
    {
     "data": {
      "text/plain": [
       "{'eval_nq_loss': 1.9206750392913818,\n",
       " 'eval_nq_token_set_precision': 0.8445179125502034,\n",
       " 'eval_nq_token_set_recall': 0.8425926632073305,\n",
       " 'eval_nq_token_set_f1': 0.8428480031085244,\n",
       " 'eval_nq_bleu_score': 44.241891733069146,\n",
       " 'eval_nq_meteor_score': 0.7235803559188588,\n",
       " 'eval_nq_rouge_score': 0.8187974764350332,\n",
       " 'eval_nq_bert_score': 0.9339153805436222,\n",
       " 'eval_nq_exact_match': 0.053138595400870105,\n",
       " 'eval_nq_emb_cos_sim': 0.9481046199798584,\n",
       " 'eval_nq_runtime': 428.6643,\n",
       " 'eval_nq_samples_per_second': 15.014,\n",
       " 'eval_nq_steps_per_second': 0.061}"
      ]
     },
     "execution_count": 6,
     "metadata": {},
     "output_type": "execute_result"
    }
   ],
   "source": [
    "trainer.num_gen_recursive_steps = 10\n",
    "trainer.inversion_trainer.model.use_frozen_embeddings_as_input = True\n",
    "metrics = trainer.evaluate(\n",
    "    eval_dataset=arxiv,\n",
    "    metric_key_prefix=f\"eval_nq\",\n",
    ")\n",
    "metrics"
   ]
  },
  {
   "cell_type": "code",
   "execution_count": 7,
   "id": "cf23a727-fd89-4e55-8f2e-2b5f84a12a16",
   "metadata": {},
   "outputs": [],
   "source": [
    "preds_sample = trainer.embedder_tokenizer.batch_decode(trainer.preds_sample_list, skip_special_tokens=True)\n",
    "preds_sample_words = list(map(str.split, preds_sample))\n",
    "preds_sample_labels = trainer.embedder_tokenizer.batch_decode(trainer.preds_sample_labels_list, skip_special_tokens=True)\n",
    "preds_sample_labels_words = list(map(str.split, preds_sample_labels))"
   ]
  },
  {
   "cell_type": "code",
   "execution_count": 8,
   "id": "ff5f989b-4fe2-4037-b70c-9be2c1c65b4f",
   "metadata": {},
   "outputs": [
    {
     "data": {
      "text/plain": [
       "6436"
      ]
     },
     "execution_count": 8,
     "metadata": {},
     "output_type": "execute_result"
    }
   ],
   "source": [
    "len(trainer.preds_sample_list)"
   ]
  },
  {
   "cell_type": "code",
   "execution_count": 10,
   "id": "de642e97-bad1-4649-84aa-98bc2a4200ff",
   "metadata": {},
   "outputs": [],
   "source": [
    "import pandas as pd\n",
    "word_counts_df = pd.DataFrame(word_counts.items(), columns=['word', 'count'])"
   ]
  },
  {
   "cell_type": "code",
   "execution_count": 11,
   "id": "21a77535-7429-4202-99df-bce343fa1010",
   "metadata": {},
   "outputs": [
    {
     "data": {
      "text/html": [
       "<div>\n",
       "<style scoped>\n",
       "    .dataframe tbody tr th:only-of-type {\n",
       "        vertical-align: middle;\n",
       "    }\n",
       "\n",
       "    .dataframe tbody tr th {\n",
       "        vertical-align: top;\n",
       "    }\n",
       "\n",
       "    .dataframe thead th {\n",
       "        text-align: right;\n",
       "    }\n",
       "</style>\n",
       "<table border=\"1\" class=\"dataframe\">\n",
       "  <thead>\n",
       "    <tr style=\"text-align: right;\">\n",
       "      <th></th>\n",
       "      <th>word</th>\n",
       "      <th>count</th>\n",
       "    </tr>\n",
       "  </thead>\n",
       "  <tbody>\n",
       "    <tr>\n",
       "      <th>3175480</th>\n",
       "      <td>“avar”</td>\n",
       "      <td>1</td>\n",
       "    </tr>\n",
       "    <tr>\n",
       "      <th>3175481</th>\n",
       "      <td>“conqueror”)</td>\n",
       "      <td>1</td>\n",
       "    </tr>\n",
       "    <tr>\n",
       "      <th>3175482</th>\n",
       "      <td>Yesterdays,</td>\n",
       "      <td>1</td>\n",
       "    </tr>\n",
       "    <tr>\n",
       "      <th>3175483</th>\n",
       "      <td>Desta's</td>\n",
       "      <td>1</td>\n",
       "    </tr>\n",
       "    <tr>\n",
       "      <th>3175484</th>\n",
       "      <td>Aeronautica\").</td>\n",
       "      <td>1</td>\n",
       "    </tr>\n",
       "  </tbody>\n",
       "</table>\n",
       "</div>"
      ],
      "text/plain": [
       "                   word  count\n",
       "3175480          “avar”      1\n",
       "3175481    “conqueror”)      1\n",
       "3175482     Yesterdays,      1\n",
       "3175483         Desta's      1\n",
       "3175484  Aeronautica\").      1"
      ]
     },
     "execution_count": 11,
     "metadata": {},
     "output_type": "execute_result"
    }
   ],
   "source": [
    "word_counts_df.tail()"
   ]
  },
  {
   "cell_type": "code",
   "execution_count": 12,
   "id": "194c48ed-4ba4-4ddf-891e-1e0619c71fe8",
   "metadata": {},
   "outputs": [],
   "source": [
    "word_counts_trimmed = {k:v for k,v in word_counts.items() if v>(10**2) }"
   ]
  },
  {
   "cell_type": "code",
   "execution_count": 13,
   "id": "199e0f39-32d4-4574-9623-de91ce1c1447",
   "metadata": {},
   "outputs": [
    {
     "data": {
      "text/plain": [
       "(54473, 3175485)"
      ]
     },
     "execution_count": 13,
     "metadata": {},
     "output_type": "execute_result"
    }
   ],
   "source": [
    "len(word_counts_trimmed), len(word_counts)"
   ]
  },
  {
   "cell_type": "code",
   "execution_count": 46,
   "id": "0567f0c9-c2ef-4ded-a814-5f3017acb862",
   "metadata": {},
   "outputs": [
    {
     "data": {
      "text/html": [
       "<div>\n",
       "<style scoped>\n",
       "    .dataframe tbody tr th:only-of-type {\n",
       "        vertical-align: middle;\n",
       "    }\n",
       "\n",
       "    .dataframe tbody tr th {\n",
       "        vertical-align: top;\n",
       "    }\n",
       "\n",
       "    .dataframe thead th {\n",
       "        text-align: right;\n",
       "    }\n",
       "</style>\n",
       "<table border=\"1\" class=\"dataframe\">\n",
       "  <thead>\n",
       "    <tr style=\"text-align: right;\">\n",
       "      <th></th>\n",
       "      <th>word</th>\n",
       "      <th>guess_correct</th>\n",
       "      <th>count</th>\n",
       "    </tr>\n",
       "  </thead>\n",
       "  <tbody>\n",
       "    <tr>\n",
       "      <th>0</th>\n",
       "      <td>we</td>\n",
       "      <td>True</td>\n",
       "      <td>22698</td>\n",
       "    </tr>\n",
       "    <tr>\n",
       "      <th>1</th>\n",
       "      <td>study</td>\n",
       "      <td>True</td>\n",
       "      <td>14892</td>\n",
       "    </tr>\n",
       "    <tr>\n",
       "      <th>2</th>\n",
       "      <td>the</td>\n",
       "      <td>True</td>\n",
       "      <td>6793681</td>\n",
       "    </tr>\n",
       "    <tr>\n",
       "      <th>3</th>\n",
       "      <td>phase</td>\n",
       "      <td>True</td>\n",
       "      <td>4352</td>\n",
       "    </tr>\n",
       "    <tr>\n",
       "      <th>4</th>\n",
       "      <td>behavior</td>\n",
       "      <td>True</td>\n",
       "      <td>3415</td>\n",
       "    </tr>\n",
       "  </tbody>\n",
       "</table>\n",
       "</div>"
      ],
      "text/plain": [
       "       word  guess_correct    count\n",
       "0        we           True    22698\n",
       "1     study           True    14892\n",
       "2       the           True  6793681\n",
       "3     phase           True     4352\n",
       "4  behavior           True     3415"
      ]
     },
     "execution_count": 46,
     "metadata": {},
     "output_type": "execute_result"
    }
   ],
   "source": [
    "import pandas as pd\n",
    "\n",
    "correct_words = []\n",
    "incorrect_words = []\n",
    "\n",
    "for pred_words, true_words in zip(preds_sample_words, preds_sample_labels_words):\n",
    "    for w in true_words:\n",
    "        word_in_training_data = (word_counts[w] > 0)\n",
    "        # if not word_in_training_data: print(w)\n",
    "        word_correct = (w in pred_words)\n",
    "        if word_correct:\n",
    "            correct_words.append(w)\n",
    "        else:\n",
    "            # if word_counts[w] > 5*10**6:\n",
    "            #     print(w)\n",
    "            #     print(\" \".join(pred_words))\n",
    "            #     print(\" \".join(true_words))\n",
    "            #     print()\n",
    "            incorrect_words.append(w)\n",
    "\n",
    "\n",
    "data = []\n",
    "for w in list(correct_words):\n",
    "    data.append((w, True, word_counts[w]))\n",
    "for w in list(incorrect_words):\n",
    "    data.append((w, False, word_counts[w]))\n",
    "word_df = pd.DataFrame(data, columns=['word', 'guess_correct', 'count'])\n",
    "word_df[\"count\"] += 1\n",
    "word_df.head()"
   ]
  },
  {
   "cell_type": "code",
   "execution_count": 51,
   "id": "ba8db219-dd75-4560-a43a-8e7be4fc6842",
   "metadata": {},
   "outputs": [
    {
     "data": {
      "image/png": "[encoded data removed]",
      "text/plain": [
       "<Figure size 640x480 with 1 Axes>"
      ]
     },
     "metadata": {},
     "output_type": "display_data"
    }
   ],
   "source": [
    "import math\n",
    "import matplotlib.pyplot as plt\n",
    "import seaborn as sns\n",
    "\n",
    "ax = sns.histplot(data=word_df, x=\"count\", hue=\"guess_correct\", label=\"guess_correct\", log_scale=True, legend=True)\n",
    "\n",
    "ax.set_ylabel(\"Total guessed in eval\")\n",
    "ax.set_xlabel(\"Frequency in training data\")\n",
    "ax.set_title(\"Correctness vs word frequency in training on ArXiv\")\n",
    "\n",
    "# Change labels to something interpretable\n",
    "L = plt.legend()\n",
    "for i, label in enumerate([\"False negative\", \"True positive\"]):\n",
    "    L.get_texts()[i].set_text(label)\n",
    "    \n",
    "# save to PDF\n",
    "plt.savefig(\"incorrect_word_dist_sl32.pdf\", format=\"pdf\", bbox_inches=\"tight\") "
   ]
  },
  {
   "cell_type": "code",
   "execution_count": 49,
   "id": "f5345443-702a-4a1a-a16a-9dca5ff389b4",
   "metadata": {},
   "outputs": [],
   "source": [
    "import re\n",
    "\n",
    "is_alpha = lambda s: bool(re.search(r'^[a-zA-Z0-9]+$',s))\n",
    "word_df[\"is_alpha\"] = word_df[\"word\"].apply(is_alpha)"
   ]
  },
  {
   "cell_type": "code",
   "execution_count": 52,
   "id": "96a7b180-1e07-4497-b008-f28df683ab2b",
   "metadata": {},
   "outputs": [
    {
     "data": {
      "image/png": "[encoded data removed]",
      "text/plain": [
       "<Figure size 640x480 with 1 Axes>"
      ]
     },
     "metadata": {},
     "output_type": "display_data"
    }
   ],
   "source": [
    "import math\n",
    "import matplotlib.pyplot as plt\n",
    "import seaborn as sns\n",
    "\n",
    "ax = sns.histplot(data=word_df, x=\"count\", hue=\"is_alpha\", label=\"is_alpha\", log_scale=True, legend=True)\n",
    "\n",
    "ax.set_ylabel(\"Total guessed in eval\")\n",
    "ax.set_xlabel(\"Frequency in training data\")\n",
    "ax.set_title(\"Correctness vs word frequency in training on ArXiv\")\n",
    "\n",
    "# Change labels to something interpretable\n",
    "# L = plt.legend()\n",
    "# for i, label in enumerate([\"False negative\", \"True positive\"]):\n",
    "#     L.get_texts()[i].set_text(label)\n",
    "    \n",
    "# save to PDF\n",
    "plt.savefig(\"incorrect_word_dist_punct_sl32.pdf\", format=\"pdf\", bbox_inches=\"tight\") "
   ]
  },
  {
   "cell_type": "code",
   "execution_count": 41,
   "id": "dc3274aa-855b-43f7-9620-531f42dc5dd2",
   "metadata": {},
   "outputs": [
    {
     "data": {
      "text/plain": [
       "word           guess_correct  count  is_alpha\n",
       "-              False          37408  False       2584\n",
       "(              False          32691  False       1205\n",
       ")              False          14961  False        791\n",
       "@xmath0        False          1      False        492\n",
       "_              False          24     False        335\n",
       "                                                 ... \n",
       "decoupling,    False          3      False          1\n",
       "decisions,     False          298    False          1\n",
       "deceleration.  False          10     False          1\n",
       "decays.        False          13     False          1\n",
       "zrfe@xmath0    False          1      False          1\n",
       "Name: count, Length: 2162, dtype: int64"
      ]
     },
     "execution_count": 41,
     "metadata": {},
     "output_type": "execute_result"
    }
   ],
   "source": [
    "word_df[(~word_df[\"guess_correct\"]) & (~word_df[\"is_alpha\"])].value_counts()"
   ]
  },
  {
   "cell_type": "markdown",
   "id": "03ed1b09-6f76-4fc4-a74f-881a2a53867f",
   "metadata": {},
   "source": [
    "## one more test: what about a random hypothesis?"
   ]
  },
  {
   "cell_type": "code",
   "execution_count": 79,
   "id": "495038f5-6316-4fe2-bb2f-f9da8b57c410",
   "metadata": {},
   "outputs": [],
   "source": [
    "eval_batch = next(iter(trainer.get_eval_dataloader(eval_dataset=trainer.eval_dataset[\"nq\"])))\n",
    "eval_batch = {k: v[None, 55] for k,v in eval_batch.items() }\n",
    "eval_batch = {k: v.to(trainer.args.device) for k,v in eval_batch.items() } # put on GPU\n",
    "\n",
    "# trainer.generate(inputs=eval_batch, generation_kwargs=trainer.gen_kwargs, num_recursive_steps=1)"
   ]
  },
  {
   "cell_type": "code",
   "execution_count": 80,
   "id": "76039b44-03ae-4930-af6f-398987d0e680",
   "metadata": {},
   "outputs": [
    {
     "name": "stdout",
     "output_type": "stream",
     "text": [
      "input: other sources. In his 1925 research bulletin called \"How to Grow the Peanut and 105 Ways of Preparing it for Human Consumption</s>\n",
      "torch.Size([1, 32])\n",
      "round 1 (0.138): <pad> This is a random hypothesis with nothing to do with anything</s><pad><pad><pad><pad><pad><pad><pad><pad><pad><pad><pad><pad><pad><pad><pad><pad><pad><pad>\n",
      "round 2 (0.807): <pad> other sources. In his 20 book \"How to Grow Peanuts and Other Possible Activities for Peanut Consumption\" (subtitled \"The 101 for Human\n",
      "round 3 (0.871): <pad> other sources. In his 1925 bulletin called \"How to Grow the Peanut and Other Precautions for Human Consumption\" as part of its\n",
      "round 4 (0.930): <pad> other sources. In his 1944 bulletin on the 25 research techniques for growing the Peanut, called \"How to Prepare It for Human Consumption\n",
      "round 5 (0.947): <pad> his other 25 sources. In his 1925 research bulletin called \"How to Grow the Peanut and for Preparing It for Human Consumption in \n",
      "round 6 (0.983): <pad> other sources. In his 1925 research bulletin called \"101 Ways to Grow the Peanut, and How to Prepare It for Human Consumption\n",
      "round 7 (0.989): <pad> other sources. In his 1925 research bulletin called \"105 Ways to Grow the Peanut and How to Prepare It for Human Consumption,\n",
      "round 8 (0.990): <pad> other sources. In his 1925 research bulletin called \"105 Ways to Grow the Peanut and How to Prepare It for Human Consumption \n",
      "round 9 (0.991): <pad> other sources. In his 1925 research bulletin called \"105 Ways to Grow the Peanut and How to Prepare it for Human Consumption \n",
      "round 10 (0.990): <pad> other sources. In his 1925 research bulletin called \"105 Ways to Grow the Peanut and How to Prepare it for Human Consumption'\n"
     ]
    }
   ],
   "source": [
    "from typing import Dict\n",
    "import copy\n",
    "import torch\n",
    "\n",
    "def get_trajectories_random_init(inputs: Dict[str, torch.Tensor], num_beams: int = 1, num_rounds: int = 5) -> torch.Tensor:\n",
    "    embeddings = []\n",
    "    gen_kwargs = copy.copy(trainer.gen_kwargs)\n",
    "    gen_kwargs[\"num_beams\"] = num_beams\n",
    "    frozen_embeddings = trainer.get_frozen_embeddings(\n",
    "        embedder_input_ids=inputs[\"embedder_input_ids\"],\n",
    "        embedder_attention_mask=inputs[\"embedder_attention_mask\"],\n",
    "    )\n",
    "    print(\"input:\", trainer.embedder_tokenizer.decode(inputs[\"input_ids\"][0]))\n",
    "    for n in range(num_rounds):\n",
    "        if n == 0:\n",
    "            # hypothesis = trainer.inversion_trainer.generate(inputs=inputs, generation_kwargs=gen_kwargs)\n",
    "            trainer.inversion_trainer.model.use_frozen_embeddings_as_input = False\n",
    "            hypothesis = trainer.embedder_tokenizer(\n",
    "                [\"This is a random hypothesis with nothing to do with anything\"],\n",
    "                return_tensors=\"pt\",\n",
    "                max_length=32,\n",
    "                truncation=True,\n",
    "                padding=\"max_length\",\n",
    "            )[\"input_ids\"]\n",
    "            hypothesis = torch.cat(\n",
    "                (torch.tensor([[0]], dtype=torch.long), hypothesis[:, :-1]), dim=1\n",
    "            ).to(trainer.args.device)\n",
    "            print(hypothesis.shape)\n",
    "        else:\n",
    "            hypothesis = trainer.generate(inputs=inputs, generation_kwargs=gen_kwargs, num_recursive_steps=1)\n",
    "        # queue up next round             \n",
    "        hypothesis_embedding = trainer.embed_generated_hypothesis(input_ids=hypothesis)\n",
    "        inputs[\"frozen_embeddings\"] = frozen_embeddings\n",
    "        inputs[\"hypothesis_input_ids\"] = hypothesis\n",
    "        inputs[\"hypothesis_attention_mask\"] = (hypothesis != trainer.model.encoder_decoder.config.pad_token_id).int()\n",
    "        inputs[\"hypothesis_embedding\"] = hypothesis_embedding\n",
    "        # import pdb; pdb.set_trace()\n",
    "        embeddings.append(hypothesis_embedding.cpu())\n",
    "        dist = torch.nn.CosineSimilarity(dim=1)(hypothesis_embedding, frozen_embeddings).item()\n",
    "        print(f\"round {n+1} ({dist:.3f}):\", trainer.embedder_tokenizer.decode(hypothesis[0]))\n",
    "    return torch.stack(embeddings)\n",
    "\n",
    "trajectories = get_trajectories_random_init(inputs=eval_batch, num_rounds=10)"
   ]
  },
  {
   "cell_type": "code",
   "execution_count": 84,
   "id": "344eeac0-cc5b-47b9-a1b9-895f30b729e0",
   "metadata": {},
   "outputs": [
    {
     "name": "stderr",
     "output_type": "stream",
     "text": [
      "                                                                                                                                               \r"
     ]
    },
    {
     "name": "stdout",
     "output_type": "stream",
     "text": [
      "[pred] to the character of the sutures of the skull, which, like those of the infant skull, are relatively smooth and untornuous. However\n",
      "[true] to the character of the sutures of the skull which, like those of the infant skull, are relatively smooth and untortuous. In fact\n",
      "\n",
      "\n",
      "\n",
      "[pred] individual from the Southern Hemisphere, to win a Winter Olympic gold medal and was also part of the short track relay team that won Australia'\n",
      "[true] individual from the Southern Hemisphere, to win a Winter Olympic gold medal and was also part of the short track relay team that won Australia'\n",
      "\n",
      "\n",
      "\n",
      "[pred] the same rights as straight people, while 15% disagreed. Additionally, 13% agreed that they should be protected from workplace discrimination. 69% of H\n",
      "[true] the same rights as straight people, while 15% disagreed. Additionally, 69% agreed that they should be protected from workplace discrimination. 13% of H\n"
     ]
    },
    {
     "data": {
      "text/plain": [
       "{'eval_nq_loss': 0.640424907207489,\n",
       " 'eval_nq_token_set_precision': 0.9391952200405421,\n",
       " 'eval_nq_token_set_recall': 0.945836575157309,\n",
       " 'eval_nq_token_set_f1': 0.9422769245335009,\n",
       " 'eval_nq_bleu_score': 80.37247640138087,\n",
       " 'eval_nq_meteor_score': 0.919825422067612,\n",
       " 'eval_nq_rouge_score': 0.933674529306423,\n",
       " 'eval_nq_bert_score': 0.9787255973815918,\n",
       " 'eval_nq_exact_match': 0.488,\n",
       " 'eval_nq_emb_cos_sim': 0.9877819418907166,\n",
       " 'eval_nq_runtime': 23.6447,\n",
       " 'eval_nq_samples_per_second': 21.146,\n",
       " 'eval_nq_steps_per_second': 0.085}"
      ]
     },
     "execution_count": 84,
     "metadata": {},
     "output_type": "execute_result"
    }
   ],
   "source": [
    "# default\n",
    "trainer.gen_kwargs = {\n",
    "    \"early_stopping\": False,\n",
    "    \"num_beams\": 1,\n",
    "    \"do_sample\": False,\n",
    "    \"no_repeat_ngram_size\": 0,\n",
    "}\n",
    "trainer.num_gen_recursive_steps = 10\n",
    "trainer.inversion_trainer.model.use_frozen_embeddings_as_input = True\n",
    "trainer.random_init_str = None\n",
    "trainer.evaluate(\n",
    "    eval_dataset=trainer.eval_dataset[\"nq\"],\n",
    "    metric_key_prefix=\"eval_nq\",\n",
    ")"
   ]
  },
  {
   "cell_type": "code",
   "execution_count": 89,
   "id": "1a281ab5-0c28-4b78-9a86-cb3e3f322652",
   "metadata": {},
   "outputs": [
    {
     "name": "stderr",
     "output_type": "stream",
     "text": [
      "                                                                                                                                               \r"
     ]
    },
    {
     "name": "stdout",
     "output_type": "stream",
     "text": [
      "[pred] to the character of the sutures of the skull, which, like those of the infant skull, are relatively smooth and untornuous. However\n",
      "[true] to the character of the sutures of the skull which, like those of the infant skull, are relatively smooth and untortuous. In fact\n",
      "\n",
      "\n",
      "\n",
      "[pred] individual from the Southern Hemisphere, to win a Winter Olympic gold medal and was also part of the short track relay team that won Australia'\n",
      "[true] individual from the Southern Hemisphere, to win a Winter Olympic gold medal and was also part of the short track relay team that won Australia'\n",
      "\n",
      "\n",
      "\n",
      "[pred] the same rights as straight people, while 15% disagreed. Additionally, 13% agreed that they should be protected from workplace discrimination. 69% of H\n",
      "[true] the same rights as straight people, while 15% disagreed. Additionally, 69% agreed that they should be protected from workplace discrimination. 13% of H\n"
     ]
    },
    {
     "data": {
      "text/plain": [
       "{'eval_nq_loss': 0.640424907207489,\n",
       " 'eval_nq_token_set_precision': 0.9391952200405421,\n",
       " 'eval_nq_token_set_recall': 0.945836575157309,\n",
       " 'eval_nq_token_set_f1': 0.9422769245335009,\n",
       " 'eval_nq_bleu_score': 80.37247640138087,\n",
       " 'eval_nq_meteor_score': 0.919825422067612,\n",
       " 'eval_nq_rouge_score': 0.933674529306423,\n",
       " 'eval_nq_bert_score': 0.9787255973815918,\n",
       " 'eval_nq_exact_match': 0.488,\n",
       " 'eval_nq_emb_cos_sim': 0.9877819418907166,\n",
       " 'eval_nq_runtime': 22.4835,\n",
       " 'eval_nq_samples_per_second': 22.238,\n",
       " 'eval_nq_steps_per_second': 0.089}"
      ]
     },
     "execution_count": 89,
     "metadata": {},
     "output_type": "execute_result"
    }
   ],
   "source": [
    "trainer.gen_kwargs = {\n",
    "    \"early_stopping\": False,\n",
    "    \"num_beams\": 1,\n",
    "    \"do_sample\": False,\n",
    "    \"no_repeat_ngram_size\": 0,\n",
    "}\n",
    "trainer.num_gen_recursive_steps = 10\n",
    "trainer.inversion_trainer.model.use_frozen_embeddings_as_input = True\n",
    "trainer.evaluate(\n",
    "    eval_dataset=trainer.eval_dataset[\"nq\"],\n",
    "    metric_key_prefix=\"eval_nq\",\n",
    ")"
   ]
  },
  {
   "cell_type": "code",
   "execution_count": 19,
   "id": "a1c8eb5c-99d0-4efb-9383-be9c23ad25ef",
   "metadata": {},
   "outputs": [
    {
     "name": "stderr",
     "output_type": "stream",
     "text": [
      "                                                                                                                                               \r"
     ]
    },
    {
     "name": "stdout",
     "output_type": "stream",
     "text": [
      "[pred] to the character of the sutures of the skull, which, like those of the infant skull, are relatively smooth and untornuous. Though\n",
      "[true] to the character of the sutures of the skull which, like those of the infant skull, are relatively smooth and untortuous. In fact\n",
      "\n",
      "\n",
      "\n",
      "[pred] individual from the Southern Hemisphere, to win a Winter Olympic gold medal and was also part of the short track relay team that won Australia'\n",
      "[true] individual from the Southern Hemisphere, to win a Winter Olympic gold medal and was also part of the short track relay team that won Australia'\n",
      "\n",
      "\n",
      "\n",
      "[pred] the same rights as straight people, while 15% disagreed. Additionally, 13% agreed that they should be protected from workplace discrimination. 69% of H\n",
      "[true] the same rights as straight people, while 15% disagreed. Additionally, 69% agreed that they should be protected from workplace discrimination. 13% of H\n"
     ]
    },
    {
     "data": {
      "text/plain": [
       "{'eval_nq_loss': 0.640424907207489,\n",
       " 'eval_nq_token_set_precision': 0.9495397033309224,\n",
       " 'eval_nq_token_set_recall': 0.95377127071308,\n",
       " 'eval_nq_token_set_f1': 0.9514825194411889,\n",
       " 'eval_nq_bleu_score': 82.10228264267568,\n",
       " 'eval_nq_meteor_score': 0.9301743242834084,\n",
       " 'eval_nq_rouge_score': 0.9429341671524022,\n",
       " 'eval_nq_bert_score': 0.9819246656894683,\n",
       " 'eval_nq_exact_match': 0.5,\n",
       " 'eval_nq_emb_cos_sim': 0.9933227300643921,\n",
       " 'eval_nq_runtime': 38.0076,\n",
       " 'eval_nq_samples_per_second': 13.155,\n",
       " 'eval_nq_steps_per_second': 0.053}"
      ]
     },
     "execution_count": 19,
     "metadata": {},
     "output_type": "execute_result"
    }
   ],
   "source": [
    "trainer.gen_kwargs = {\n",
    "    \"early_stopping\": False,\n",
    "    \"num_beams\": 1,\n",
    "    \"do_sample\": False,\n",
    "    \"no_repeat_ngram_size\": 0,\n",
    "}\n",
    "trainer.num_gen_recursive_steps = 20\n",
    "trainer.inversion_trainer.model.use_frozen_embeddings_as_input = True\n",
    "trainer.initial_hypothesis_str = (\"there's no reverse on a motorcycle, as my friend found out quite dramatically the other day\")\n",
    "# trainer.initial_hypothesis_str = (\"the room was not very light. a small oblong reading lamp on the desk\")\n",
    "trainer.evaluate(\n",
    "    eval_dataset=trainer.eval_dataset[\"nq\"],\n",
    "    metric_key_prefix=\"eval_nq\",\n",
    ")"
   ]
  },
  {
   "cell_type": "code",
   "execution_count": 13,
   "id": "8a102cb8-661e-473f-b3b5-45d8645ee31d",
   "metadata": {},
   "outputs": [
    {
     "name": "stderr",
     "output_type": "stream",
     "text": [
      "                                                                                                                                               \r"
     ]
    },
    {
     "name": "stdout",
     "output_type": "stream",
     "text": [
      "[pred] to the character of the sutures of the skull, which, like those of the infant skull, are relatively smooth and untornuous. However\n",
      "[true] to the character of the sutures of the skull which, like those of the infant skull, are relatively smooth and untortuous. In fact\n",
      "\n",
      "\n",
      "\n",
      "[pred] individual from the Southern Hemisphere, to win a Winter Olympic gold medal and was also part of the short track relay team that won Australia'\n",
      "[true] individual from the Southern Hemisphere, to win a Winter Olympic gold medal and was also part of the short track relay team that won Australia'\n",
      "\n",
      "\n",
      "\n",
      "[pred] the same rights as straight people, while 15% disagreed. Additionally, 69% agreed that they should be protected from workplace discrimination. 13% of H\n",
      "[true] the same rights as straight people, while 15% disagreed. Additionally, 69% agreed that they should be protected from workplace discrimination. 13% of H\n"
     ]
    },
    {
     "data": {
      "text/plain": [
       "{'eval_nq_loss': 0.640424907207489,\n",
       " 'eval_nq_token_set_precision': 0.9466991936737654,\n",
       " 'eval_nq_token_set_recall': 0.9530630209931289,\n",
       " 'eval_nq_token_set_f1': 0.9496727420797874,\n",
       " 'eval_nq_bleu_score': 81.40115863261492,\n",
       " 'eval_nq_meteor_score': 0.9287166942703777,\n",
       " 'eval_nq_rouge_score': 0.9404800274570904,\n",
       " 'eval_nq_bert_score': 0.9804516552686692,\n",
       " 'eval_nq_exact_match': 0.49,\n",
       " 'eval_nq_emb_cos_sim': 0.9889990091323853,\n",
       " 'eval_nq_runtime': 37.9589,\n",
       " 'eval_nq_samples_per_second': 13.172,\n",
       " 'eval_nq_steps_per_second': 0.053}"
      ]
     },
     "execution_count": 13,
     "metadata": {},
     "output_type": "execute_result"
    }
   ],
   "source": [
    "trainer.gen_kwargs = {\n",
    "    \"early_stopping\": False,\n",
    "    \"num_beams\": 1,\n",
    "    \"do_sample\": False,\n",
    "    \"no_repeat_ngram_size\": 0,\n",
    "}\n",
    "trainer.num_gen_recursive_steps = 20\n",
    "trainer.inversion_trainer.model.use_frozen_embeddings_as_input = True\n",
    "trainer.return_best_hypothesis = False\n",
    "trainer.initial_hypothesis_str = (\"the \" * 32)\n",
    "trainer.evaluate(\n",
    "    eval_dataset=trainer.eval_dataset[\"nq\"],\n",
    "    metric_key_prefix=\"eval_nq\",\n",
    ")"
   ]
  },
  {
   "cell_type": "code",
   "execution_count": 15,
   "id": "0a28dc62-8daf-458e-bbd5-473db3fdb3ce",
   "metadata": {},
   "outputs": [
    {
     "name": "stderr",
     "output_type": "stream",
     "text": [
      "                                                                                                                                               \r"
     ]
    },
    {
     "name": "stdout",
     "output_type": "stream",
     "text": [
      "[pred] to the character of the sutures of the skull, which, like those of the infant skull, are relatively smooth and untortuous. In\n",
      "[true] to the character of the sutures of the skull which, like those of the infant skull, are relatively smooth and untortuous. In fact\n",
      "\n",
      "\n",
      "\n",
      "[pred] individual from the Southern Hemisphere, to win a Winter Olympic gold medal and was also part of the short track relay team that won Australia'\n",
      "[true] individual from the Southern Hemisphere, to win a Winter Olympic gold medal and was also part of the short track relay team that won Australia'\n",
      "\n",
      "\n",
      "\n",
      "[pred] the same rights as straight people, while 15% disagreed. Additionally, 69% agreed that they should be protected from workplace discrimination. 13% of H\n",
      "[true] the same rights as straight people, while 15% disagreed. Additionally, 69% agreed that they should be protected from workplace discrimination. 13% of H\n"
     ]
    },
    {
     "data": {
      "text/plain": [
       "{'eval_nq_loss': 0.640424907207489,\n",
       " 'eval_nq_token_set_precision': 0.9459560330731325,\n",
       " 'eval_nq_token_set_recall': 0.9513604267709799,\n",
       " 'eval_nq_token_set_f1': 0.9484452084509725,\n",
       " 'eval_nq_bleu_score': 81.54209306860743,\n",
       " 'eval_nq_meteor_score': 0.9270608300410531,\n",
       " 'eval_nq_rouge_score': 0.9404976115474051,\n",
       " 'eval_nq_bert_score': 0.9805634109973907,\n",
       " 'eval_nq_exact_match': 0.492,\n",
       " 'eval_nq_emb_cos_sim': 0.9907062649726868,\n",
       " 'eval_nq_runtime': 38.1484,\n",
       " 'eval_nq_samples_per_second': 13.107,\n",
       " 'eval_nq_steps_per_second': 0.052}"
      ]
     },
     "execution_count": 15,
     "metadata": {},
     "output_type": "execute_result"
    }
   ],
   "source": [
    "# random init\n",
    "trainer.gen_kwargs = {\n",
    "    \"early_stopping\": False,\n",
    "    \"num_beams\": 1,\n",
    "    \"do_sample\": False,\n",
    "    \"no_repeat_ngram_size\": 0,\n",
    "}\n",
    "trainer.num_gen_recursive_steps = 20\n",
    "trainer.inversion_trainer.model.use_frozen_embeddings_as_input = True\n",
    "trainer.return_best_hypothesis = False\n",
    "trainer.initial_hypothesis_str = (\"the \" * 32)\n",
    "trainer.evaluate(\n",
    "    eval_dataset=trainer.eval_dataset[\"nq\"],\n",
    "    metric_key_prefix=\"eval_nq\",\n",
    ")"
   ]
  },
  {
   "cell_type": "markdown",
   "id": "844e265c-ceca-4c13-b761-6328dcaebbbc",
   "metadata": {},
   "source": [
    "## Checking another condition\n",
    "\n",
    "We consider a variant where we only 'accept' a hypothesis if it improves the current cosine similarity. Does this improve performance?"
   ]
  },
  {
   "cell_type": "code",
   "execution_count": 20,
   "id": "b3529929-76ac-4d5f-8fe3-1fb652172a44",
   "metadata": {},
   "outputs": [
    {
     "name": "stderr",
     "output_type": "stream",
     "text": [
      "                                                                                                                                               \r"
     ]
    },
    {
     "name": "stdout",
     "output_type": "stream",
     "text": [
      "[pred] to the character of the sutures of the skull, which, like those of the infant skull, are relatively smooth and untortuous. In\n",
      "[true] to the character of the sutures of the skull which, like those of the infant skull, are relatively smooth and untortuous. In fact\n",
      "\n",
      "\n",
      "\n",
      "[pred] individual from the Southern Hemisphere, to win a Winter Olympic gold medal and was also part of the short track relay team that won Australia'\n",
      "[true] individual from the Southern Hemisphere, to win a Winter Olympic gold medal and was also part of the short track relay team that won Australia'\n",
      "\n",
      "\n",
      "\n",
      "[pred] the same rights as straight people, while 15% disagreed. Additionally, 69% agreed that they should be protected from workplace discrimination. 13% of H\n",
      "[true] the same rights as straight people, while 15% disagreed. Additionally, 69% agreed that they should be protected from workplace discrimination. 13% of H\n"
     ]
    },
    {
     "data": {
      "text/plain": [
       "{'eval_nq_loss': 0.640424907207489,\n",
       " 'eval_nq_token_set_precision': 0.944968656300516,\n",
       " 'eval_nq_token_set_recall': 0.9502630357071616,\n",
       " 'eval_nq_token_set_f1': 0.9473200132862849,\n",
       " 'eval_nq_bleu_score': 81.1955045043298,\n",
       " 'eval_nq_meteor_score': 0.9259010603944196,\n",
       " 'eval_nq_rouge_score': 0.9393604211159566,\n",
       " 'eval_nq_bert_score': 0.9797727766036988,\n",
       " 'eval_nq_exact_match': 0.472,\n",
       " 'eval_nq_emb_cos_sim': 0.9877132177352905,\n",
       " 'eval_nq_runtime': 38.7017,\n",
       " 'eval_nq_samples_per_second': 12.919,\n",
       " 'eval_nq_steps_per_second': 0.052}"
      ]
     },
     "execution_count": 20,
     "metadata": {},
     "output_type": "execute_result"
    }
   ],
   "source": [
    "# default\n",
    "trainer.gen_kwargs = {\n",
    "    \"early_stopping\": False,\n",
    "    \"num_beams\": 1,\n",
    "    \"do_sample\": False,\n",
    "    \"no_repeat_ngram_size\": 0,\n",
    "}\n",
    "trainer.return_best_hypothesis = False\n",
    "trainer.num_gen_recursive_steps = 20\n",
    "trainer.inversion_trainer.model.use_frozen_embeddings_as_input = True\n",
    "trainer.random_init_str = None\n",
    "trainer.evaluate(\n",
    "    eval_dataset=trainer.eval_dataset[\"nq\"],\n",
    "    metric_key_prefix=\"eval_nq\",\n",
    ")"
   ]
  },
  {
   "cell_type": "code",
   "execution_count": 17,
   "id": "1c09997a-cd6d-4e19-b25e-7868b3471439",
   "metadata": {},
   "outputs": [
    {
     "name": "stderr",
     "output_type": "stream",
     "text": [
      "                                                                                                                                               \r"
     ]
    },
    {
     "name": "stdout",
     "output_type": "stream",
     "text": [
      "[pred] to the character of the sutures of the skull, which, like those of the infant skull, are relatively smooth and untortuous. However\n",
      "[true] to the character of the sutures of the skull which, like those of the infant skull, are relatively smooth and untortuous. In fact\n",
      "\n",
      "\n",
      "\n",
      "[pred] individual from the Southern Hemisphere, to win a Winter Olympic gold medal and was also part of the short track relay team that won Australia'\n",
      "[true] individual from the Southern Hemisphere, to win a Winter Olympic gold medal and was also part of the short track relay team that won Australia'\n",
      "\n",
      "\n",
      "\n",
      "[pred] the same rights as straight people, while 15% disagreed. Additionally, 69% agreed that they should be protected from workplace discrimination. 13% of H\n",
      "[true] the same rights as straight people, while 15% disagreed. Additionally, 69% agreed that they should be protected from workplace discrimination. 13% of H\n"
     ]
    },
    {
     "data": {
      "text/plain": [
       "{'eval_nq_loss': 0.640424907207489,\n",
       " 'eval_nq_token_set_precision': 0.95122603466508,\n",
       " 'eval_nq_token_set_recall': 0.9564923750211071,\n",
       " 'eval_nq_token_set_f1': 0.953652448978819,\n",
       " 'eval_nq_bleu_score': 82.6157386251573,\n",
       " 'eval_nq_meteor_score': 0.9327357326074207,\n",
       " 'eval_nq_rouge_score': 0.944533657342512,\n",
       " 'eval_nq_bert_score': 0.9819944233894348,\n",
       " 'eval_nq_exact_match': 0.498,\n",
       " 'eval_nq_emb_cos_sim': 0.9917433261871338,\n",
       " 'eval_nq_runtime': 38.0368,\n",
       " 'eval_nq_samples_per_second': 13.145,\n",
       " 'eval_nq_steps_per_second': 0.053}"
      ]
     },
     "execution_count": 17,
     "metadata": {},
     "output_type": "execute_result"
    }
   ],
   "source": [
    "# with return_best_hypothesis\n",
    "trainer.gen_kwargs = {\n",
    "    \"early_stopping\": False,\n",
    "    \"num_beams\": 1,\n",
    "    \"do_sample\": False,\n",
    "    \"no_repeat_ngram_size\": 0,\n",
    "}\n",
    "trainer.return_best_hypothesis = True\n",
    "trainer.num_gen_recursive_steps = 20\n",
    "trainer.inversion_trainer.model.use_frozen_embeddings_as_input = True\n",
    "trainer.random_init_str = None\n",
    "trainer.evaluate(\n",
    "    eval_dataset=trainer.eval_dataset[\"nq\"],\n",
    "    metric_key_prefix=\"eval_nq\",\n",
    ")"
   ]
  },
  {
   "cell_type": "code",
   "execution_count": 21,
   "id": "961a58f6-f3e7-43e1-8c6c-b8dd38842841",
   "metadata": {},
   "outputs": [
    {
     "name": "stderr",
     "output_type": "stream",
     "text": [
      "                                                                                                                                               \r"
     ]
    },
    {
     "name": "stdout",
     "output_type": "stream",
     "text": [
      "[pred] to the character of the sutures of the skull, which, like the infant skull, are relatively smooth and untornuous. In fact,\n",
      "[true] to the character of the sutures of the skull which, like those of the infant skull, are relatively smooth and untortuous. In fact\n",
      "\n",
      "\n",
      "\n",
      "[pred] individual from the Southern Hemisphere, to win a Winter Olympic gold medal and was also part of the short track relay team that won Australia'\n",
      "[true] individual from the Southern Hemisphere, to win a Winter Olympic gold medal and was also part of the short track relay team that won Australia'\n",
      "\n",
      "\n",
      "\n",
      "[pred] the same rights as straight people, while 15% disagreed. Additionally, 13% agreed that they should be protected from workplace discrimination. 69% of H\n",
      "[true] the same rights as straight people, while 15% disagreed. Additionally, 69% agreed that they should be protected from workplace discrimination. 13% of H\n"
     ]
    },
    {
     "data": {
      "text/plain": [
       "{'eval_nq_loss': 0.640424907207489,\n",
       " 'eval_nq_token_set_precision': 0.9589718718163208,\n",
       " 'eval_nq_token_set_recall': 0.9632812683412628,\n",
       " 'eval_nq_token_set_f1': 0.9609636716455631,\n",
       " 'eval_nq_bleu_score': 84.9212614520813,\n",
       " 'eval_nq_meteor_score': 0.9447738044773442,\n",
       " 'eval_nq_rouge_score': 0.9535839485020179,\n",
       " 'eval_nq_bert_score': 0.9852078878879547,\n",
       " 'eval_nq_exact_match': 0.54,\n",
       " 'eval_nq_emb_cos_sim': 0.9940618276596069,\n",
       " 'eval_nq_runtime': 90.4761,\n",
       " 'eval_nq_samples_per_second': 5.526,\n",
       " 'eval_nq_steps_per_second': 0.022}"
      ]
     },
     "execution_count": 21,
     "metadata": {},
     "output_type": "execute_result"
    }
   ],
   "source": [
    "# with return_best_hypothesis\n",
    "trainer.gen_kwargs = {\n",
    "    \"early_stopping\": False,\n",
    "    \"num_beams\": 1,\n",
    "    \"do_sample\": False,\n",
    "    \"no_repeat_ngram_size\": 0,\n",
    "}\n",
    "trainer.return_best_hypothesis = True\n",
    "trainer.num_gen_recursive_steps = 50\n",
    "trainer.inversion_trainer.model.use_frozen_embeddings_as_input = True\n",
    "trainer.random_init_str = None\n",
    "trainer.evaluate(\n",
    "    eval_dataset=trainer.eval_dataset[\"nq\"],\n",
    "    metric_key_prefix=\"eval_nq\",\n",
    ")"
   ]
  },
  {
   "cell_type": "code",
   "execution_count": null,
   "id": "c6c0f3c0-903b-4820-9320-0624d3c7adc3",
   "metadata": {},
   "outputs": [],
   "source": []
  }
 ],
 "metadata": {
  "kernelspec": {
   "display_name": "Python 3 (ipykernel)",
   "language": "python",
   "name": "python3"
  },
  "language_info": {
   "codemirror_mode": {
    "name": "ipython",
    "version": 3
   },
   "file_extension": ".py",
   "mimetype": "text/x-python",
   "name": "python",
   "nbconvert_exporter": "python",
   "pygments_lexer": "ipython3",
   "version": "3.10.10"
  }
 },
 "nbformat": 4,
 "nbformat_minor": 5
}
