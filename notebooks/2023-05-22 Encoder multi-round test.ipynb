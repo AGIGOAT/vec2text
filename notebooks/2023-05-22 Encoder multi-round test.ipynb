{
 "cells": [
  {
   "cell_type": "code",
   "execution_count": 1,
   "id": "5628f14b-f207-42ff-a7a8-119c813bf583",
   "metadata": {},
   "outputs": [],
   "source": [
    "%load_ext autoreload\n",
    "%autoreload 2"
   ]
  },
  {
   "cell_type": "code",
   "execution_count": 2,
   "id": "c83eb4ec-24eb-486c-bfab-282f610624dc",
   "metadata": {},
   "outputs": [],
   "source": [
    "import os\n",
    "os.environ[\"WANDB_DISABLED\"] = \"true\"\n",
    "\n",
    "import sys\n",
    "# sys.path = ['/home/jxm3/research/retrieval/inversion'] + sys.path\n",
    "sys.path = [\n",
    "    p for p in sys.path\n",
    "    if p not in ['/home/jxm3/research/prompting/imodelsX', '/home/jxm3/research/prompting/tree-prompt']\n",
    "]\n",
    "sys.path.append('/home/jxm3/research/retrieval/inversion')"
   ]
  },
  {
   "cell_type": "markdown",
   "id": "278249f9-b243-4549-acf5-4839b2ff15ed",
   "metadata": {},
   "source": [
    "## debugging\n",
    "\n",
    "we trained our first self-correcting model that's decoder-based. generation from it doesn't seem to be working properly, so going to debug in this notebook."
   ]
  },
  {
   "cell_type": "code",
   "execution_count": 3,
   "id": "60660ace-aab9-42b5-be7d-b19f77123ce6",
   "metadata": {},
   "outputs": [
    {
     "name": "stdout",
     "output_type": "stream",
     "text": [
      "Loading trainer for analysis – setting --do_eval=1\n",
      "loading alias dpr_nq__msl32_beta from /home/jxm3/research/retrieval/inversion/saves/db66b9c01b644541fedbdcc59c53a285/ebb31d91810c4b62d2b55b5382e8c7ea...\n",
      "Set train_args.dataloader_num_workers = 4\n"
     ]
    },
    {
     "name": "stderr",
     "output_type": "stream",
     "text": [
      "/home/jxm3/.conda/envs/torch/lib/python3.10/site-packages/transformers/models/t5/tokenization_t5_fast.py:155: FutureWarning: This tokenizer was incorrectly instantiated with a model max length of 512 which will be corrected in Transformers v5.\n",
      "For now, this behavior is kept to avoid breaking backwards compatibility when padding/encoding with `truncation is True`.\n",
      "- Be aware that you SHOULD NOT rely on t5-base automatically truncating your input to 512 when padding/encoding.\n",
      "- If you want to encode/pad to sequences longer than 512 you can either instantiate this tokenizer with `model_max_length` or pass `max_length` when encoding/padding.\n",
      "- To avoid this warning, please instantiate this tokenizer with `model_max_length` set to your preferred value.\n",
      "  warnings.warn(\n"
     ]
    },
    {
     "data": {
      "application/vnd.jupyter.widget-view+json": {
       "model_id": "902ab614c5b0481ab9a2c6c8def8cc42",
       "version_major": 2,
       "version_minor": 0
      },
      "text/plain": [
       "  0%|          | 0/2 [00:00<?, ?it/s]"
      ]
     },
     "metadata": {},
     "output_type": "display_data"
    },
    {
     "data": {
      "application/vnd.jupyter.widget-view+json": {
       "model_id": "765a567976b5448a93e38854549cb023",
       "version_major": 2,
       "version_minor": 0
      },
      "text/plain": [
       "  0%|          | 0/3 [00:00<?, ?it/s]"
      ]
     },
     "metadata": {},
     "output_type": "display_data"
    },
    {
     "data": {
      "application/vnd.jupyter.widget-view+json": {
       "model_id": "aff4e2a5935b4fa2bb4cc46394967409",
       "version_major": 2,
       "version_minor": 0
      },
      "text/plain": [
       "  0%|          | 0/3 [00:00<?, ?it/s]"
      ]
     },
     "metadata": {},
     "output_type": "display_data"
    },
    {
     "data": {
      "application/vnd.jupyter.widget-view+json": {
       "model_id": "7c867ab578e44ae7a3690e0622bbbc8a",
       "version_major": 2,
       "version_minor": 0
      },
      "text/plain": [
       "  0%|          | 0/3 [00:00<?, ?it/s]"
      ]
     },
     "metadata": {},
     "output_type": "display_data"
    },
    {
     "data": {
      "application/vnd.jupyter.widget-view+json": {
       "model_id": "a7c371c3fd72497c8cad5c62706ea51f",
       "version_major": 2,
       "version_minor": 0
      },
      "text/plain": [
       "  0%|          | 0/3 [00:00<?, ?it/s]"
      ]
     },
     "metadata": {},
     "output_type": "display_data"
    },
    {
     "name": "stderr",
     "output_type": "stream",
     "text": [
      "[nltk_data] Downloading package wordnet to /home/jxm3/nltk_data...\n",
      "[nltk_data]   Package wordnet is already up-to-date!\n",
      "[nltk_data] Downloading package punkt to /home/jxm3/nltk_data...\n",
      "[nltk_data]   Package punkt is already up-to-date!\n",
      "[nltk_data] Downloading package omw-1.4 to /home/jxm3/nltk_data...\n",
      "[nltk_data]   Package omw-1.4 is already up-to-date!\n"
     ]
    },
    {
     "name": "stdout",
     "output_type": "stream",
     "text": [
      "================ Begin trainer sanity check ================\n",
      "\tInput to encode -> Twas brillig, and the slithy toves, Did gyre and gimble in the wabe, All mimsy were the borogoves, And the mome raths outgrabe.\n",
      "\tDecoded output -> Was slurred the togy, Was gilber and brittle, Did twave sliths\n",
      "================ End trainer sanity check ================\n",
      "Froze 342572160 params from model type <class 'models.inversion.InversionModel'>\n"
     ]
    },
    {
     "name": "stderr",
     "output_type": "stream",
     "text": [
      "[nltk_data] Downloading package wordnet to /home/jxm3/nltk_data...\n",
      "[nltk_data]   Package wordnet is already up-to-date!\n",
      "[nltk_data] Downloading package punkt to /home/jxm3/nltk_data...\n",
      "[nltk_data]   Package punkt is already up-to-date!\n",
      "[nltk_data] Downloading package omw-1.4 to /home/jxm3/nltk_data...\n",
      "[nltk_data]   Package omw-1.4 is already up-to-date!\n"
     ]
    },
    {
     "name": "stdout",
     "output_type": "stream",
     "text": [
      "================ Begin trainer sanity check ================\n",
      "\tInput to encode -> Twas brillig, and the slithy toves, Did gyre and gimble in the wabe, All mimsy were the borogoves, And the mome raths outgrabe.\n",
      "\tDecoded output -> Was tibe and willig, Did tore the slithy gyres, Did the brittle \n",
      "================ End trainer sanity check ================\n"
     ]
    }
   ],
   "source": [
    "# model info:\n",
    "#    https://wandb.ai/jack-morris/emb-correct-1/runs/e9430bc73cfd6fb433eb0e5401d4a7ff\n",
    "#             path: saves/47d9c149a8e827d0609abbeefdfd89ac\n",
    "\n",
    "import analyze_utils\n",
    "\n",
    "checkpoint_folder = '/home/jxm3/research/retrieval/inversion/saves/47d9c149a8e827d0609abbeefdfd89ac'\n",
    "trainer = analyze_utils.load_trainer(checkpoint_folder)"
   ]
  },
  {
   "cell_type": "raw",
   "id": "d86da589-a306-4972-954f-d178a341679f",
   "metadata": {},
   "source": []
  },
  {
   "cell_type": "raw",
   "id": "3bb3bc3b-6ba7-4497-80c1-e940c5193450",
   "metadata": {},
   "source": [
    "trainer.inversion_trainer.model.use_frozen_embeddings_as_input = False\n",
    "trainer.inversion_trainer.gen_kwargs = {\n",
    "    \"early_stopping\": False,\n",
    "    \"num_beams\": 1,\n",
    "    \"do_sample\": False,\n",
    "    \"no_repeat_ngram_size\": 0,\n",
    "}\n",
    "\n",
    "for eval_dataset_name, eval_dataset in trainer.eval_dataset.items():\n",
    "    metrics = trainer.inversion_trainer.evaluate(\n",
    "        eval_dataset=eval_dataset,\n",
    "        metric_key_prefix=f\"eval_{eval_dataset_name}\",\n",
    "    )\n",
    "    print(metrics)"
   ]
  },
  {
   "cell_type": "code",
   "execution_count": 10,
   "id": "0dfec681-6259-4d70-9181-3af8150fc87c",
   "metadata": {},
   "outputs": [
    {
     "data": {
      "text/html": [
       "\n",
       "    <div>\n",
       "      \n",
       "      <progress value='24' max='2' style='width:300px; height:20px; vertical-align: middle;'></progress>\n",
       "      [2/2 04:13]\n",
       "    </div>\n",
       "    "
      ],
      "text/plain": [
       "<IPython.core.display.HTML object>"
      ]
     },
     "metadata": {},
     "output_type": "display_data"
    },
    {
     "name": "stderr",
     "output_type": "stream",
     "text": [
      "                                                                                                                                               \r"
     ]
    },
    {
     "name": "stdout",
     "output_type": "stream",
     "text": [
      "[pred] Union at Newtri after talks with N S Turner, current fears are expressed when Union representatives at the meeting are disappointed, like pensions, workers disgru\n",
      "[true] Fears for T N pension after talks Unions representing workers at Turner Newall say they are 'disappointed' after talks with stri\n",
      "\n",
      "\n",
      "\n",
      "[pred] of the Human Space Race: FRONT GOES TOS – Second Man Starts a Private Space Launch Team Official Website: Todate\n",
      "[true] The Race is On: Second Private Team Sets Launch Date for Human Spaceflight (SPACE.com) SPACE.com - TORON\n",
      "\n",
      "\n",
      "\n",
      "[pred] AP Research and Development Company wins a grant to study peptides - AP (company) - founded by students at University of\n",
      "[true] Ky. Company Wins Grant to Study Peptides (AP) AP - A company founded by a chemistry researcher at the University of\n",
      "setting preds_emb\n",
      "{'eval_ag_news_loss': 2.07120943069458, 'eval_ag_news_token_set_precision': 0.5809505561595186, 'eval_ag_news_token_set_recall': 0.6001999148398365, 'eval_ag_news_token_set_f1': 0.5891242490841598, 'eval_ag_news_bleu_score': 15.36290278028717, 'eval_ag_news_meteor_score': 0.47432945031457496, 'eval_ag_news_rouge_score': 0.597432040060736, 'eval_ag_news_bert_score': 0.8857527754306793, 'eval_ag_news_exact_match': 0.0, 'eval_ag_news_emb_cos_sim': 0.8781830072402954, 'eval_ag_news_runtime': 13.1066, 'eval_ag_news_samples_per_second': 38.149, 'eval_ag_news_steps_per_second': 0.153}\n"
     ]
    },
    {
     "name": "stderr",
     "output_type": "stream",
     "text": [
      "                                                                                                                                               \r"
     ]
    },
    {
     "name": "stdout",
     "output_type": "stream",
     "text": [
      "[pred] we study phase behavior between a liquid crystal with a strong nematic pattern anchored in a binging crystal between the substrate and surrounding\n",
      "[true] we study the phase behavior of a nematic liquid crystal confined between a flat substrate with strong anchoring and a patterned substrate\n",
      "\n",
      "\n",
      "\n",
      "[pred] determining the scale relations of observed uniform clusterings requires measuring large X observable samples. We sample the galaxy's x axi\n",
      "[true] determining the scaling relations between galaxy cluster observables requires large samples of uniformly observed clusters. we measure the mean x -\n",
      "\n",
      "\n",
      "\n",
      "[pred] demonstrating how to control a link type optical quantum correlation in degenerate spatial parametric modes of a multimode modulator, i\n",
      "[true] we show how to control spatial quantum correlations in a multimode degenerate optical parametric oscillator type i below threshold by \n",
      "setting preds_emb\n",
      "{'eval_arxiv_loss': 1.7339985370635986, 'eval_arxiv_token_set_precision': 0.7053365736617419, 'eval_arxiv_token_set_recall': 0.708936525302681, 'eval_arxiv_token_set_f1': 0.7059670199551982, 'eval_arxiv_bleu_score': 20.237280595355063, 'eval_arxiv_meteor_score': 0.5326007701382793, 'eval_arxiv_rouge_score': 0.6627343160067591, 'eval_arxiv_bert_score': 0.9016326315402985, 'eval_arxiv_exact_match': 0.0, 'eval_arxiv_emb_cos_sim': 0.9030882120132446, 'eval_arxiv_runtime': 7.2411, 'eval_arxiv_samples_per_second': 69.05, 'eval_arxiv_steps_per_second': 0.276}\n"
     ]
    },
    {
     "name": "stderr",
     "output_type": "stream",
     "text": [
      "Warning: Empty reference sentence detected; setting raw BERTScores to 0.                                                                       \n"
     ]
    },
    {
     "name": "stdout",
     "output_type": "stream",
     "text": [
      "[pred] a former Sodje Trader denied the fraud charges against the Reading Sports Foundation, the National Fund for the Defence of Nigeria, for allegedly raising\n",
      "[true] The ex-Reading defender denied fraudulent trading charges relating to the Sodje Sports Foundation - a charity to raise money for Nigerian\n",
      "\n",
      "\n",
      "\n",
      "[pred] Voges was forced to retire after suffering an injury on the batting surface on 6 June for 62 in the County Championship. Somerset then hurt Middles\n",
      "[true] Voges was forced to retire hurt on 86 after suffering the injury while batting during the County Championship draw with Somerset on 4 June. Middlesex\n",
      "\n",
      "\n",
      "\n",
      "[pred] Seven photographs taken in the Norfolk countryside by photographer Josh Olins will appear in his first June edition in the magazine. While seated, the s\n",
      "[true] Seven photographs taken in the Norfolk countryside by photographer Josh Olins will appear in the June edition. In her first sitting for a magazine, the du\n",
      "setting preds_emb\n",
      "{'eval_xsum_doc_loss': 1.122348666191101, 'eval_xsum_doc_token_set_precision': 0.6949698159916238, 'eval_xsum_doc_token_set_recall': 0.71408255459645, 'eval_xsum_doc_token_set_f1': 0.703735636066378, 'eval_xsum_doc_bleu_score': 29.44499178547483, 'eval_xsum_doc_meteor_score': 0.6052599081399694, 'eval_xsum_doc_rouge_score': 0.6677264800155438, 'eval_xsum_doc_bert_score': 0.918013660311699, 'eval_xsum_doc_exact_match': 0.002, 'eval_xsum_doc_emb_cos_sim': 0.9355340003967285, 'eval_xsum_doc_runtime': 7.5008, 'eval_xsum_doc_samples_per_second': 66.66, 'eval_xsum_doc_steps_per_second': 0.267}\n"
     ]
    },
    {
     "name": "stderr",
     "output_type": "stream",
     "text": [
      "                                                                                                                                               \r"
     ]
    },
    {
     "name": "stdout",
     "output_type": "stream",
     "text": [
      "[pred] Former Premier League footballer Sam Sodje has appeared before court, joined by three brothers and three brothers accused of fraud for their National Charity Farm charity.\n",
      "[true] Former Premier League footballer Sam Sodje has appeared in court alongside three brothers accused of charity fraud.\n",
      "\n",
      "\n",
      "\n",
      "[pred] Middlesex batsman Adam Voges will be out until December after torn calf muscle in his first-class leg in August.\n",
      "[true] Middlesex batsman Adam Voges will be out until August after suffering a torn calf muscle in his right leg.\n",
      "\n",
      "\n",
      "\n",
      "[pred] The Duchess of Cambridge will feature on the cover of British Vogue's cover to mark the magazine's centenary in the magazine.\n",
      "[true] The Duchess of Cambridge will feature on the cover of British Vogue to mark the magazine's centenary.\n",
      "setting preds_emb\n",
      "{'eval_xsum_summ_loss': 1.2609869241714478, 'eval_xsum_summ_token_set_precision': 0.7845961496564842, 'eval_xsum_summ_token_set_recall': 0.7251062632396557, 'eval_xsum_summ_token_set_f1': 0.7500835089939342, 'eval_xsum_summ_bleu_score': 33.39809004435628, 'eval_xsum_summ_meteor_score': 0.6951319671858391, 'eval_xsum_summ_rouge_score': 0.7152762383507745, 'eval_xsum_summ_bert_score': 0.9350950057506562, 'eval_xsum_summ_exact_match': 0.0, 'eval_xsum_summ_emb_cos_sim': 0.7937044501304626, 'eval_xsum_summ_runtime': 7.2945, 'eval_xsum_summ_samples_per_second': 68.545, 'eval_xsum_summ_steps_per_second': 0.274}\n"
     ]
    },
    {
     "name": "stderr",
     "output_type": "stream",
     "text": [
      "                                                                                                                                               \r"
     ]
    },
    {
     "name": "stdout",
     "output_type": "stream",
     "text": [
      "[pred] pope kilol ii. christian of Michail, also known as Khalil ab\n",
      "[true] pope michael iii of alexandria -lrb- also known as khail i\n",
      "\n",
      "\n",
      "\n",
      "[pred] hui jun hun is a male former professional table tennis player from China. He is a former men's tennis player. \n",
      "[true] hui jun is a male former table tennis player from china.\n",
      "\n",
      "\n",
      "\n",
      "[pred] oztürk rb rb - born 30 November 1977 (Turk) is a lakh-\n",
      "[true] okan ztürk -lrb- born 30 november 1977 -rrb- is a tur\n",
      "setting preds_emb\n",
      "{'eval_wikibio_loss': 2.2393977642059326, 'eval_wikibio_token_set_precision': 0.6312108164387288, 'eval_wikibio_token_set_recall': 0.6367846484693094, 'eval_wikibio_token_set_f1': 0.6313904667400375, 'eval_wikibio_bleu_score': 8.066843706711486, 'eval_wikibio_meteor_score': 0.397198126557718, 'eval_wikibio_rouge_score': 0.49090856778366987, 'eval_wikibio_bert_score': 0.8693862154483795, 'eval_wikibio_exact_match': 0.0, 'eval_wikibio_emb_cos_sim': 0.8771003484725952, 'eval_wikibio_runtime': 7.0103, 'eval_wikibio_samples_per_second': 71.324, 'eval_wikibio_steps_per_second': 0.285}\n"
     ]
    },
    {
     "name": "stderr",
     "output_type": "stream",
     "text": [
      "                                                                                                                                               \r"
     ]
    },
    {
     "name": "stdout",
     "output_type": "stream",
     "text": [
      "[pred] to the character of the sutures of the skull, which are relatively smooth and untortuous of infant skulls. In fact, like the\n",
      "[true] to the character of the sutures of the skull which, like those of the infant skull, are relatively smooth and untortuous. In fact\n",
      "\n",
      "\n",
      "\n",
      "[pred] individual from the Southern Hemisphere to win a Winter Olympic gold medal, and was also part of the short track relay team which won Australia'\n",
      "[true] individual from the Southern Hemisphere, to win a Winter Olympic gold medal and was also part of the short track relay team that won Australia'\n",
      "\n",
      "\n",
      "\n",
      "[pred] the same rights as other people, while 15% agreed that they should be protected from discrimination. Less than 3% disagreed with gay HRC and\n",
      "[true] the same rights as straight people, while 15% disagreed. Additionally, 69% agreed that they should be protected from workplace discrimination. 13% of H\n",
      "setting preds_emb\n",
      "{'eval_nq_loss': 0.6452353000640869, 'eval_nq_token_set_precision': 0.7981461408626773, 'eval_nq_token_set_recall': 0.812328643510516, 'eval_nq_token_set_f1': 0.8045741774364366, 'eval_nq_bleu_score': 49.99115437950722, 'eval_nq_meteor_score': 0.7399825867034704, 'eval_nq_rouge_score': 0.7787234404087495, 'eval_nq_bert_score': 0.9439336426258087, 'eval_nq_exact_match': 0.088, 'eval_nq_emb_cos_sim': 0.955917239189148, 'eval_nq_runtime': 7.3979, 'eval_nq_samples_per_second': 67.587, 'eval_nq_steps_per_second': 0.27}\n"
     ]
    }
   ],
   "source": [
    "trainer.inversion_trainer.model.use_frozen_embeddings_as_input = True\n",
    "trainer.gen_kwargs = {\n",
    "    \"early_stopping\": False,\n",
    "    \"num_beams\": 1,\n",
    "    \"do_sample\": False,\n",
    "    \"no_repeat_ngram_size\": 0,\n",
    "}\n",
    "trainer.num_gen_recursive_steps = 1\n",
    "for eval_dataset_name, eval_dataset in trainer.eval_dataset.items():\n",
    "    metrics = trainer.evaluate(\n",
    "        eval_dataset=eval_dataset,\n",
    "        metric_key_prefix=f\"eval_{eval_dataset_name}\",\n",
    "    )\n",
    "    print(metrics)"
   ]
  },
  {
   "cell_type": "code",
   "execution_count": 11,
   "id": "66db0d25-1f70-494a-8ff2-921fbcb00348",
   "metadata": {},
   "outputs": [
    {
     "name": "stderr",
     "output_type": "stream",
     "text": [
      "                                                                                                                                               \r"
     ]
    },
    {
     "name": "stdout",
     "output_type": "stream",
     "text": [
      "[pred] discontent at T N Turner after talking about union pensions, workers at Newall are said to be in fear and are expected to be delivered by Str\n",
      "[true] Fears for T N pension after talks Unions representing workers at Turner Newall say they are 'disappointed' after talks with stri\n",
      "\n",
      "\n",
      "\n",
      "[pred] of the Human Race: Second Private Team Sets Launch Date for Spaceflight on the SpaceSpACE (PAGE.COM) – TO\n",
      "[true] The Race is On: Second Private Team Sets Launch Date for Human Spaceflight (SPACE.com) SPACE.com - TORON\n",
      "\n",
      "\n",
      "\n",
      "[pred] AP Research  Company A. Wins Grant to study peptides (AP) - a company founded by University of Kyn\n",
      "[true] Ky. Company Wins Grant to Study Peptides (AP) AP - A company founded by a chemistry researcher at the University of\n",
      "setting preds_emb\n",
      "{'eval_ag_news_loss': 2.07120943069458, 'eval_ag_news_token_set_precision': 0.7280849366194959, 'eval_ag_news_token_set_recall': 0.7460735260799638, 'eval_ag_news_token_set_f1': 0.7359172591474451, 'eval_ag_news_bleu_score': 33.77461040074571, 'eval_ag_news_meteor_score': 0.6522576116085429, 'eval_ag_news_rouge_score': 0.7466666588269872, 'eval_ag_news_bert_score': 0.9134301860332489, 'eval_ag_news_exact_match': 0.028, 'eval_ag_news_emb_cos_sim': 0.9258929491043091, 'eval_ag_news_runtime': 40.4351, 'eval_ag_news_samples_per_second': 12.366, 'eval_ag_news_steps_per_second': 0.049}\n"
     ]
    },
    {
     "name": "stderr",
     "output_type": "stream",
     "text": [
      "                                                                                                                                               \r"
     ]
    },
    {
     "name": "stdout",
     "output_type": "stream",
     "text": [
      "[pred] we study the phase behavior of a nematic liquid crystal confined between a patterned substrate and a flat substrate with strong anchoring\n",
      "[true] we study the phase behavior of a nematic liquid crystal confined between a flat substrate with strong anchoring and a patterned substrate\n",
      "\n",
      "\n",
      "\n",
      "[pred] determining the scaling relations between galaxy clusters requires large samples of uniformly observed clusters. We measure the mean observable x -\n",
      "[true] determining the scaling relations between galaxy cluster observables requires large samples of uniformly observed clusters. we measure the mean x -\n",
      "\n",
      "\n",
      "\n",
      "[pred] we show how to control spatial correlations in a degenerate quantum parametric multimode optical oscillator type I below threshold by a\n",
      "[true] we show how to control spatial quantum correlations in a multimode degenerate optical parametric oscillator type i below threshold by \n",
      "setting preds_emb\n",
      "{'eval_arxiv_loss': 1.7339985370635986, 'eval_arxiv_token_set_precision': 0.8695430622224749, 'eval_arxiv_token_set_recall': 0.872790641933295, 'eval_arxiv_token_set_f1': 0.870533833330116, 'eval_arxiv_bleu_score': 49.940357673311574, 'eval_arxiv_meteor_score': 0.7694279746061589, 'eval_arxiv_rouge_score': 0.8519584916326866, 'eval_arxiv_bert_score': 0.9415654737949372, 'eval_arxiv_exact_match': 0.084, 'eval_arxiv_emb_cos_sim': 0.9597870707511902, 'eval_arxiv_runtime': 40.9896, 'eval_arxiv_samples_per_second': 12.198, 'eval_arxiv_steps_per_second': 0.049}\n"
     ]
    },
    {
     "name": "stderr",
     "output_type": "stream",
     "text": [
      "Warning: Empty reference sentence detected; setting raw BERTScores to 0.                                                                       \n"
     ]
    },
    {
     "name": "stdout",
     "output_type": "stream",
     "text": [
      "[pred] The ex-Reading defender denied fraudulent trading charges relating to the Sodje Sports Foundation - a charity to raise money for Nigerian\n",
      "[true] The ex-Reading defender denied fraudulent trading charges relating to the Sodje Sports Foundation - a charity to raise money for Nigerian\n",
      "\n",
      "\n",
      "\n",
      "[pred] Voges was forced to retire hurt after batting for 86 while suffering a knee injury in the County Championship draw with Middlesex on 4 June\n",
      "[true] Voges was forced to retire hurt on 86 after suffering the injury while batting during the County Championship draw with Somerset on 4 June. Middlesex\n",
      "\n",
      "\n",
      "\n",
      "[pred] Seven photographs taken in the Norfolk countryside by photographer Josh Olins will appear in the June edition. In her first sitting for the magazine, a du\n",
      "[true] Seven photographs taken in the Norfolk countryside by photographer Josh Olins will appear in the June edition. In her first sitting for a magazine, the du\n",
      "setting preds_emb\n",
      "{'eval_xsum_doc_loss': 1.122348666191101, 'eval_xsum_doc_token_set_precision': 0.915876104904537, 'eval_xsum_doc_token_set_recall': 0.9234543775820657, 'eval_xsum_doc_token_set_f1': 0.919428147540546, 'eval_xsum_doc_bleu_score': 74.43354468459428, 'eval_xsum_doc_meteor_score': 0.8907857094148871, 'eval_xsum_doc_rouge_score': 0.9048930714777164, 'eval_xsum_doc_bert_score': 0.9712498023509979, 'eval_xsum_doc_exact_match': 0.402, 'eval_xsum_doc_emb_cos_sim': 0.9868072271347046, 'eval_xsum_doc_runtime': 40.238, 'eval_xsum_doc_samples_per_second': 12.426, 'eval_xsum_doc_steps_per_second': 0.05}\n"
     ]
    },
    {
     "name": "stderr",
     "output_type": "stream",
     "text": [
      "                                                                                                                                               \r"
     ]
    },
    {
     "name": "stdout",
     "output_type": "stream",
     "text": [
      "[pred] Former Premier League footballer Sam Sodje has appeared in court, alongside former footballer Sodje and three brothers accused of charity-related fraud.\n",
      "[true] Former Premier League footballer Sam Sodje has appeared in court alongside three brothers accused of charity fraud.\n",
      "\n",
      "\n",
      "\n",
      "[pred] Middlesex batsman Adam Voges will be out until August after suffering a torn calf muscle in his right leg. \n",
      "[true] Middlesex batsman Adam Voges will be out until August after suffering a torn calf muscle in his right leg.\n",
      "\n",
      "\n",
      "\n",
      "[pred] The Duchess of Cambridge will feature on the cover of British Vogue, to mark the magazine's centenary in the Looks magazine.\n",
      "[true] The Duchess of Cambridge will feature on the cover of British Vogue to mark the magazine's centenary.\n",
      "setting preds_emb\n",
      "{'eval_xsum_summ_loss': 1.2609869241714478, 'eval_xsum_summ_token_set_precision': 0.9503248495111938, 'eval_xsum_summ_token_set_recall': 0.8811663654362333, 'eval_xsum_summ_token_set_f1': 0.911218361097927, 'eval_xsum_summ_bleu_score': 67.51255175268983, 'eval_xsum_summ_meteor_score': 0.9016610818893491, 'eval_xsum_summ_rouge_score': 0.8838478810193051, 'eval_xsum_summ_bert_score': 0.9724060157537461, 'eval_xsum_summ_exact_match': 0.22, 'eval_xsum_summ_emb_cos_sim': 0.8192260265350342, 'eval_xsum_summ_runtime': 40.362, 'eval_xsum_summ_samples_per_second': 12.388, 'eval_xsum_summ_steps_per_second': 0.05}\n"
     ]
    },
    {
     "name": "stderr",
     "output_type": "stream",
     "text": [
      "                                                                                                                                               \r"
     ]
    },
    {
     "name": "stdout",
     "output_type": "stream",
     "text": [
      "[pred] pope Michael i. lii. rob of Alexandrevn also known as khail \n",
      "[true] pope michael iii of alexandria -lrb- also known as khail i\n",
      "\n",
      "\n",
      "\n",
      "[pred] hui jun, is a male former table tennis player from China. Hài jun is a male tennis player and scientist.\n",
      "[true] hui jun is a male former table tennis player from china.\n",
      "\n",
      "\n",
      "\n",
      "[pred] ob rkan ztürk - born 30 Nov 1977 is a lrb/rrg tur\n",
      "[true] okan ztürk -lrb- born 30 november 1977 -rrb- is a tur\n",
      "setting preds_emb\n",
      "{'eval_wikibio_loss': 2.2393977642059326, 'eval_wikibio_token_set_precision': 0.7683957345562397, 'eval_wikibio_token_set_recall': 0.7800123023521438, 'eval_wikibio_token_set_f1': 0.7722569144886082, 'eval_wikibio_bleu_score': 18.15745301092217, 'eval_wikibio_meteor_score': 0.5186208500358166, 'eval_wikibio_rouge_score': 0.6491993134426526, 'eval_wikibio_bert_score': 0.8990875385999679, 'eval_wikibio_exact_match': 0.014, 'eval_wikibio_emb_cos_sim': 0.9381061792373657, 'eval_wikibio_runtime': 40.762, 'eval_wikibio_samples_per_second': 12.266, 'eval_wikibio_steps_per_second': 0.049}\n"
     ]
    },
    {
     "name": "stderr",
     "output_type": "stream",
     "text": [
      "                                                                                                                                               \r"
     ]
    },
    {
     "name": "stdout",
     "output_type": "stream",
     "text": [
      "[pred] to the character of the sutures of the skull, which, like those of the infant skull, are relatively smooth and untortuous. In\n",
      "[true] to the character of the sutures of the skull which, like those of the infant skull, are relatively smooth and untortuous. In fact\n",
      "\n",
      "\n",
      "\n",
      "[pred] individual from the Southern Hemisphere, to win a Winter Olympic gold medal and was also part of the short track relay team that won Australia'\n",
      "[true] individual from the Southern Hemisphere, to win a Winter Olympic gold medal and was also part of the short track relay team that won Australia'\n",
      "\n",
      "\n",
      "\n",
      "[pred] the same rights as straight people, while 15% disagreed. Additionally, 69% agreed that they should be protected from workplace discrimination. 13% of H\n",
      "[true] the same rights as straight people, while 15% disagreed. Additionally, 69% agreed that they should be protected from workplace discrimination. 13% of H\n",
      "setting preds_emb\n",
      "{'eval_nq_loss': 0.6452353000640869, 'eval_nq_token_set_precision': 0.9499601645174658, 'eval_nq_token_set_recall': 0.9554702626778289, 'eval_nq_token_set_f1': 0.9524855847981973, 'eval_nq_bleu_score': 82.34013593814186, 'eval_nq_meteor_score': 0.9302616066017445, 'eval_nq_rouge_score': 0.9435330974685434, 'eval_nq_bert_score': 0.9814579948186875, 'eval_nq_exact_match': 0.506, 'eval_nq_emb_cos_sim': 0.9896413087844849, 'eval_nq_runtime': 40.6342, 'eval_nq_samples_per_second': 12.305, 'eval_nq_steps_per_second': 0.049}\n"
     ]
    }
   ],
   "source": [
    "trainer.gen_kwargs = {\n",
    "    \"early_stopping\": False,\n",
    "    \"num_beams\": 1,\n",
    "    \"do_sample\": False,\n",
    "    \"no_repeat_ngram_size\": 0,\n",
    "}\n",
    "trainer.num_gen_recursive_steps = 20\n",
    "for eval_dataset_name, eval_dataset in trainer.eval_dataset.items():\n",
    "    metrics = trainer.evaluate(\n",
    "        eval_dataset=eval_dataset,\n",
    "        metric_key_prefix=f\"eval_{eval_dataset_name}\",\n",
    "    )\n",
    "    print(metrics)"
   ]
  },
  {
   "cell_type": "code",
   "execution_count": 38,
   "id": "b08ce229-00ed-48ab-9784-50c020b11949",
   "metadata": {},
   "outputs": [
    {
     "name": "stderr",
     "output_type": "stream",
     "text": [
      "                                                                                                                                               \r"
     ]
    },
    {
     "name": "stdout",
     "output_type": "stream",
     "text": [
      "[pred] Fears about unions representing T N Turner workers pension at Newall are said to be \"disappointed\" after talks and are on strike attri\n",
      "[true] Fears for T N pension after talks Unions representing workers at Turner Newall say they are 'disappointed' after talks with stri\n",
      "\n",
      "\n",
      "\n",
      "[pred] of the Human Race: Second Private Team Sets Launch Date for Spaceflight on the SpaceSpACE (PAGE.COM) – TO\n",
      "[true] The Race is On: Second Private Team Sets Launch Date for Human Spaceflight (SPACE.com) SPACE.com - TORON\n",
      "\n",
      "\n",
      "\n",
      "[pred] Ky. Grant Wins AP Company (Peptides) – A company founded by a researcher to study chemistry at the University of A\n",
      "[true] Ky. Company Wins Grant to Study Peptides (AP) AP - A company founded by a chemistry researcher at the University of\n",
      "setting preds_emb\n",
      "{'eval_ag_news_loss': 2.071204423904419, 'eval_ag_news_token_set_precision': 0.7575280497013502, 'eval_ag_news_token_set_recall': 0.7713060143664303, 'eval_ag_news_token_set_f1': 0.7634949770689745, 'eval_ag_news_bleu_score': 37.510092391166964, 'eval_ag_news_meteor_score': 0.6798838315703847, 'eval_ag_news_rouge_score': 0.775164375294777, 'eval_ag_news_bert_score': 0.919071741938591, 'eval_ag_news_exact_match': 0.032, 'eval_ag_news_emb_cos_sim': 0.9318150281906128, 'eval_ag_news_runtime': 117.7833, 'eval_ag_news_samples_per_second': 4.245, 'eval_ag_news_steps_per_second': 0.034}\n"
     ]
    },
    {
     "name": "stderr",
     "output_type": "stream",
     "text": [
      "                                                                                                                                               \r"
     ]
    },
    {
     "name": "stdout",
     "output_type": "stream",
     "text": [
      "[pred] we study the phase behavior of a nematic liquid crystal confined between a patterned substrate and a flat substrate with strong anchoring\n",
      "[true] we study the phase behavior of a nematic liquid crystal confined between a flat substrate with strong anchoring and a patterned substrate\n",
      "\n",
      "\n",
      "\n",
      "[pred] determining the scaling relations between galaxy clusters requires large samples of uniformly observed clusters. We measure the mean observable x -\n",
      "[true] determining the scaling relations between galaxy cluster observables requires large samples of uniformly observed clusters. we measure the mean x -\n",
      "\n",
      "\n",
      "\n",
      "[pred] we show how to control spatial correlations in a degenerate quantum parametric multimode optical oscillator type I below threshold by a\n",
      "[true] we show how to control spatial quantum correlations in a multimode degenerate optical parametric oscillator type i below threshold by \n",
      "setting preds_emb\n",
      "{'eval_arxiv_loss': 1.7339987754821777, 'eval_arxiv_token_set_precision': 0.8861328177631747, 'eval_arxiv_token_set_recall': 0.8878057579807935, 'eval_arxiv_token_set_f1': 0.8863355449251462, 'eval_arxiv_bleu_score': 53.87942465576796, 'eval_arxiv_meteor_score': 0.7909702832508978, 'eval_arxiv_rouge_score': 0.8724184097857084, 'eval_arxiv_bert_score': 0.9467853657007217, 'eval_arxiv_exact_match': 0.1, 'eval_arxiv_emb_cos_sim': 0.9675890207290649, 'eval_arxiv_runtime': 118.8773, 'eval_arxiv_samples_per_second': 4.206, 'eval_arxiv_steps_per_second': 0.034}\n"
     ]
    },
    {
     "name": "stderr",
     "output_type": "stream",
     "text": [
      "Warning: Empty reference sentence detected; setting raw BERTScores to 0.                                                                       \n"
     ]
    },
    {
     "name": "stdout",
     "output_type": "stream",
     "text": [
      "[pred] The ex-Reading defender denied fraudulent trading charges relating to the Sodje Sports Foundation - a charity to raise money for Nigerian\n",
      "[true] The ex-Reading defender denied fraudulent trading charges relating to the Sodje Sports Foundation - a charity to raise money for Nigerian\n",
      "\n",
      "\n",
      "\n",
      "[pred] Voges was forced to retire hurt after batting for 86 on 4 June while suffering the injury during the County Championship draw with Somerset. Middlesex\n",
      "[true] Voges was forced to retire hurt on 86 after suffering the injury while batting during the County Championship draw with Somerset on 4 June. Middlesex\n",
      "\n",
      "\n",
      "\n",
      "[pred] Seven photographs taken in the Norfolk countryside by photographer Josh Olins will appear in the June edition. In her first sitting for the magazine, a du\n",
      "[true] Seven photographs taken in the Norfolk countryside by photographer Josh Olins will appear in the June edition. In her first sitting for a magazine, the du\n",
      "setting preds_emb\n",
      "{'eval_xsum_doc_loss': 1.1224849224090576, 'eval_xsum_doc_token_set_precision': 0.9305102547467844, 'eval_xsum_doc_token_set_recall': 0.9364857723517588, 'eval_xsum_doc_token_set_f1': 0.9333245543176389, 'eval_xsum_doc_bleu_score': 77.24473270370292, 'eval_xsum_doc_meteor_score': 0.9101351399386883, 'eval_xsum_doc_rouge_score': 0.9203024325909261, 'eval_xsum_doc_bert_score': 0.9745022622346878, 'eval_xsum_doc_exact_match': 0.426, 'eval_xsum_doc_emb_cos_sim': 0.9899553060531616, 'eval_xsum_doc_runtime': 115.2879, 'eval_xsum_doc_samples_per_second': 4.337, 'eval_xsum_doc_steps_per_second': 0.035}\n"
     ]
    },
    {
     "name": "stderr",
     "output_type": "stream",
     "text": [
      "                                                                                                                                               \r"
     ]
    },
    {
     "name": "stdout",
     "output_type": "stream",
     "text": [
      "[pred] Former Premier League footballer Sam Sodje has appeared in court, along with his three brothers accused by former England footballers of charity fraud and trials.\n",
      "[true] Former Premier League footballer Sam Sodje has appeared in court alongside three brothers accused of charity fraud.\n",
      "\n",
      "\n",
      "\n",
      "[pred] Middlesex batsman Adam Voges will be out until August after suffering a torn calf muscle in his right leg. \n",
      "[true] Middlesex batsman Adam Voges will be out until August after suffering a torn calf muscle in his right leg.\n",
      "\n",
      "\n",
      "\n",
      "[pred] The Duchess of Cambridge will feature on the cover of British Vogue, to mark the magazine's centenary in the Looks magazine.\n",
      "[true] The Duchess of Cambridge will feature on the cover of British Vogue to mark the magazine's centenary.\n",
      "setting preds_emb\n",
      "{'eval_xsum_summ_loss': 1.2607582807540894, 'eval_xsum_summ_token_set_precision': 0.9531682842413696, 'eval_xsum_summ_token_set_recall': 0.8821522306021646, 'eval_xsum_summ_token_set_f1': 0.9130454957595368, 'eval_xsum_summ_bleu_score': 68.10553097845762, 'eval_xsum_summ_meteor_score': 0.9085094247723805, 'eval_xsum_summ_rouge_score': 0.8892578138699536, 'eval_xsum_summ_bert_score': 0.9736372319459915, 'eval_xsum_summ_exact_match': 0.222, 'eval_xsum_summ_emb_cos_sim': 0.8209741115570068, 'eval_xsum_summ_runtime': 114.0883, 'eval_xsum_summ_samples_per_second': 4.383, 'eval_xsum_summ_steps_per_second': 0.035}\n"
     ]
    },
    {
     "name": "stderr",
     "output_type": "stream",
     "text": [
      "                                                                                                                                               \r"
     ]
    },
    {
     "name": "stdout",
     "output_type": "stream",
     "text": [
      "[pred] pope Michael i. lii. rob of Alexandrevn also known as khail \n",
      "[true] pope michael iii of alexandria -lrb- also known as khail i\n",
      "\n",
      "\n",
      "\n",
      "[pred] hui jun is a male former table tennis player from China. Hài jun is a rower, hatcher and tennis\n",
      "[true] hui jun is a male former table tennis player from china.\n",
      "\n",
      "\n",
      "\n",
      "[pred] okan lz rb - born 30 Nov 1977 - ourk rb. is atur\n",
      "[true] okan ztürk -lrb- born 30 november 1977 -rrb- is a tur\n",
      "setting preds_emb\n",
      "{'eval_wikibio_loss': 2.2393476963043213, 'eval_wikibio_token_set_precision': 0.7818824557191203, 'eval_wikibio_token_set_recall': 0.789823505155915, 'eval_wikibio_token_set_f1': 0.7840708813150634, 'eval_wikibio_bleu_score': 19.10350279029267, 'eval_wikibio_meteor_score': 0.5413950051787124, 'eval_wikibio_rouge_score': 0.6724905340143383, 'eval_wikibio_bert_score': 0.9038393800258636, 'eval_wikibio_exact_match': 0.014, 'eval_wikibio_emb_cos_sim': 0.9474409222602844, 'eval_wikibio_runtime': 115.7118, 'eval_wikibio_samples_per_second': 4.321, 'eval_wikibio_steps_per_second': 0.035}\n"
     ]
    },
    {
     "name": "stderr",
     "output_type": "stream",
     "text": [
      "                                                                                                                                               \r"
     ]
    },
    {
     "name": "stdout",
     "output_type": "stream",
     "text": [
      "[pred] to the character of the sutures of the skull, which, like those of the infant skull, are relatively smooth and untortuous. In\n",
      "[true] to the character of the sutures of the skull which, like those of the infant skull, are relatively smooth and untortuous. In fact\n",
      "\n",
      "\n",
      "\n",
      "[pred] individual from the Southern Hemisphere, to win a Winter Olympic gold medal and was also part of the short track relay team that won Australia'\n",
      "[true] individual from the Southern Hemisphere, to win a Winter Olympic gold medal and was also part of the short track relay team that won Australia'\n",
      "\n",
      "\n",
      "\n",
      "[pred] the same rights as straight people, while 15% disagreed. Additionally, 69% agreed that they should be protected from workplace discrimination. 13% of H\n",
      "[true] the same rights as straight people, while 15% disagreed. Additionally, 69% agreed that they should be protected from workplace discrimination. 13% of H\n",
      "setting preds_emb\n",
      "{'eval_nq_loss': 0.6452354788780212, 'eval_nq_token_set_precision': 0.956499072561179, 'eval_nq_token_set_recall': 0.961283614102278, 'eval_nq_token_set_f1': 0.9587093544031476, 'eval_nq_bleu_score': 84.06953220559544, 'eval_nq_meteor_score': 0.9406574451762769, 'eval_nq_rouge_score': 0.9506804375250736, 'eval_nq_bert_score': 0.9837899503707885, 'eval_nq_exact_match': 0.52, 'eval_nq_emb_cos_sim': 0.9915621876716614, 'eval_nq_runtime': 115.4875, 'eval_nq_samples_per_second': 4.329, 'eval_nq_steps_per_second': 0.035}\n"
     ]
    }
   ],
   "source": [
    "trainer.gen_kwargs = {\n",
    "    \"early_stopping\": False,\n",
    "    \"num_beams\": 1,\n",
    "    \"do_sample\": False,\n",
    "    \"no_repeat_ngram_size\": 0,\n",
    "}\n",
    "trainer.num_gen_recursive_steps = 50\n",
    "for eval_dataset_name, eval_dataset in trainer.eval_dataset.items():\n",
    "    metrics = trainer.evaluate(\n",
    "        eval_dataset=eval_dataset,\n",
    "        metric_key_prefix=f\"eval_{eval_dataset_name}\",\n",
    "    )\n",
    "    print(metrics)"
   ]
  },
  {
   "cell_type": "code",
   "execution_count": 233,
   "id": "bf2a2cff-4715-4f79-a66e-75cb44ce2a54",
   "metadata": {},
   "outputs": [
    {
     "data": {
      "text/html": [
       "\n",
       "    <div>\n",
       "      \n",
       "      <progress value='12' max='2' style='width:300px; height:20px; vertical-align: middle;'></progress>\n",
       "      [2/2 03:19]\n",
       "    </div>\n",
       "    "
      ],
      "text/plain": [
       "<IPython.core.display.HTML object>"
      ]
     },
     "metadata": {},
     "output_type": "display_data"
    },
    {
     "name": "stderr",
     "output_type": "stream",
     "text": [
      "                                                                                                                                               \r"
     ]
    },
    {
     "name": "stdout",
     "output_type": "stream",
     "text": [
      "[pred] to the character of the skull of the sutures of infant skulls, which are relatively smooth and untutuous. In fact, like the\n",
      "[true] to the character of the sutures of the skull which, like those of the infant skull, are relatively smooth and untortuous. In fact\n",
      "\n",
      "\n",
      "\n",
      "[pred] individual from the Southern Hemisphere to win a Winter Olympics gold medal, and was also part of the short track relay team that won Australia'\n",
      "[true] individual from the Southern Hemisphere, to win a Winter Olympic gold medal and was also part of the short track relay team that won Australia'\n",
      "\n",
      "\n",
      "\n",
      "[pred] the same rights as other people, while 15% disagreed: they should be protected from discrimination and fewer than 75% gay. 83% agreed that\n",
      "[true] the same rights as straight people, while 15% disagreed. Additionally, 69% agreed that they should be protected from workplace discrimination. 13% of H\n",
      "setting preds_emb\n"
     ]
    },
    {
     "data": {
      "text/plain": [
       "{'eval_loss': 0.6460092067718506,\n",
       " 'eval_token_set_precision': 0.7931942219812427,\n",
       " 'eval_token_set_recall': 0.7963511188466532,\n",
       " 'eval_token_set_f1': 0.7939592089780559,\n",
       " 'eval_bleu_score': 46.37848733491063,\n",
       " 'eval_meteor_score': 0.7242218316455382,\n",
       " 'eval_rouge_score': 0.766504421176154,\n",
       " 'eval_bert_score': 0.9392919890880584,\n",
       " 'eval_emb_cos_sim': 0.9450901746749878,\n",
       " 'eval_runtime': 12.8657,\n",
       " 'eval_samples_per_second': 38.863,\n",
       " 'eval_steps_per_second': 0.155}"
      ]
     },
     "execution_count": 233,
     "metadata": {},
     "output_type": "execute_result"
    }
   ],
   "source": [
    "trainer.evaluate(\n",
    "    eval_dataset=trainer.eval_dataset[\"nq\"]\n",
    ")"
   ]
  },
  {
   "cell_type": "code",
   "execution_count": null,
   "id": "631d5433-719f-4e7b-97f7-6ac4ec06245f",
   "metadata": {},
   "outputs": [],
   "source": [
    "trainer.num_gen_recursive_steps = 1\n",
    "trainer.sanity_decode()"
   ]
  },
  {
   "cell_type": "code",
   "execution_count": 14,
   "id": "735a92ef-497d-4da0-96df-0a3b0cd33954",
   "metadata": {},
   "outputs": [
    {
     "name": "stdout",
     "output_type": "stream",
     "text": [
      "================ Begin trainer sanity check ================\n",
      "\tInput to encode -> Twas brillig, and the slithy toves, Did gyre and gimble in the wabe, All mimsy were the borogoves, And the mome raths outgrabe.\n",
      "\tDecoded output -> Was the slithy tollies, And gibe did brimble and gibe, And wave\n",
      "================ End trainer sanity check ================\n"
     ]
    }
   ],
   "source": [
    "trainer.num_gen_recursive_steps = 20\n",
    "trainer.sanity_decode()"
   ]
  },
  {
   "cell_type": "code",
   "execution_count": 5,
   "id": "a3762abb-dc08-4c75-9bc4-f77a8de10cae",
   "metadata": {},
   "outputs": [
    {
     "data": {
      "text/html": [
       "\n",
       "    <div>\n",
       "      \n",
       "      <progress value='3' max='3' style='width:300px; height:20px; vertical-align: middle;'></progress>\n",
       "      [3/3 00:00]\n",
       "    </div>\n",
       "    "
      ],
      "text/plain": [
       "<IPython.core.display.HTML object>"
      ]
     },
     "metadata": {},
     "output_type": "display_data"
    },
    {
     "name": "stderr",
     "output_type": "stream",
     "text": [
      "                                                                                                                                               \r"
     ]
    },
    {
     "name": "stdout",
     "output_type": "stream",
     "text": [
      "[pred] to the character of the skull, which are relatively smooth and untutuous in the case of infant sutures. Unlike the sutures,\n",
      "[true] to the character of the sutures of the skull which, like those of the infant skull, are relatively smooth and untortuous. In fact\n",
      "\n",
      "\n",
      "\n",
      "[pred] individual from the Southern Hemisphere to win the Winter Olympic relay gold medal, and was also part of the Australian Short Track team, which won gold\n",
      "[true] individual from the Southern Hemisphere, to win a Winter Olympic gold medal and was also part of the short track relay team that won Australia'\n",
      "\n",
      "\n",
      "\n",
      "[pred] the same rights as men, and 75% agreed that they should be protected from discrimination. Among the other 15%, gay workers are no longer exp\n",
      "[true] the same rights as straight people, while 15% disagreed. Additionally, 69% agreed that they should be protected from workplace discrimination. 13% of H\n"
     ]
    },
    {
     "data": {
      "text/plain": [
       "{'eval_loss': 1.0522613525390625,\n",
       " 'eval_accuracy': 0.7386067708333334,\n",
       " 'eval_token_set_precision': 0.6595365232793972,\n",
       " 'eval_token_set_recall': 0.6887789003733743,\n",
       " 'eval_token_set_f1': 0.6728795963252079,\n",
       " 'eval_bleu_score': 31.876985502984844,\n",
       " 'eval_meteor_score': 0.5792206976897826,\n",
       " 'eval_rouge_score': 0.6414878805144706,\n",
       " 'eval_bert_score': 0.9177108289053043,\n",
       " 'eval_emb_cos_sim': 0.9062262773513794,\n",
       " 'eval_perplexity': 2.8641205867926014,\n",
       " 'eval_runtime': 11.7635,\n",
       " 'eval_samples_per_second': 42.505,\n",
       " 'eval_steps_per_second': 0.34}"
      ]
     },
     "execution_count": 5,
     "metadata": {},
     "output_type": "execute_result"
    }
   ],
   "source": [
    "trainer.inversion_trainer.gen_kwargs = {\n",
    "    \"early_stopping\": False,\n",
    "    \"num_beams\": 1,\n",
    "    \"do_sample\": False,\n",
    "    \"no_repeat_ngram_size\": 0,\n",
    "}\n",
    "trainer.inversion_trainer.model.use_frozen_embeddings_as_input = False\n",
    "trainer.inversion_trainer.evaluate(\n",
    "    eval_dataset=trainer.eval_dataset[\"nq\"]\n",
    ")"
   ]
  },
  {
   "cell_type": "markdown",
   "id": "e54f6ab0-d628-42cd-90e3-7f7da95a6eeb",
   "metadata": {},
   "source": [
    "## multi-round"
   ]
  },
  {
   "cell_type": "code",
   "execution_count": 13,
   "id": "502ea86a-6daf-473b-bcef-a4fe360a05ca",
   "metadata": {},
   "outputs": [
    {
     "data": {
      "text/plain": [
       "dict_keys(['ag_news', 'arxiv', 'xsum_doc', 'xsum_summ', 'wikibio', 'nq'])"
      ]
     },
     "execution_count": 13,
     "metadata": {},
     "output_type": "execute_result"
    }
   ],
   "source": [
    "trainer.eval_dataset.keys()"
   ]
  },
  {
   "cell_type": "code",
   "execution_count": 33,
   "id": "1076d5a5-094c-4d4c-ad1c-e74b9f563e66",
   "metadata": {},
   "outputs": [
    {
     "name": "stderr",
     "output_type": "stream",
     "text": [
      "                                                                                                                                               \r"
     ]
    },
    {
     "name": "stdout",
     "output_type": "stream",
     "text": [
      "[pred] to the character of the skull, which are relatively smooth and untutuous in the case of infant sutures. Unlike the sutures,\n",
      "[true] to the character of the sutures of the skull which, like those of the infant skull, are relatively smooth and untortuous. In fact\n",
      "\n",
      "\n",
      "\n",
      "[pred] individual from the Southern Hemisphere to win the Winter Olympic relay gold medal, and was also part of the Australian Short Track team, which won gold\n",
      "[true] individual from the Southern Hemisphere, to win a Winter Olympic gold medal and was also part of the short track relay team that won Australia'\n",
      "\n",
      "\n",
      "\n",
      "[pred] the same rights as men, and 75% agreed that they should be protected from discrimination. Among the other 15%, gay workers are no longer exp\n",
      "[true] the same rights as straight people, while 15% disagreed. Additionally, 69% agreed that they should be protected from workplace discrimination. 13% of H\n",
      "setting preds_emb\n"
     ]
    },
    {
     "name": "stderr",
     "output_type": "stream",
     "text": [
      "                                                                                                                                               \r"
     ]
    },
    {
     "name": "stdout",
     "output_type": "stream",
     "text": [
      "[pred] we observe a phase transition between a solid crystal and a liquid substrate anchored in a nematic pattern with very weak propagating\n",
      "[true] we study the phase behavior of a nematic liquid crystal confined between a flat substrate with strong anchoring and a patterned substrate\n",
      "\n",
      "\n",
      "\n",
      "[pred] measure the observed clustering relations of large and uniform galaxy X. We need to measure the sample size of replication loops on the X \n",
      "[true] determining the scaling relations between galaxy cluster observables requires large samples of uniformly observed clusters. we measure the mean x -\n",
      "\n",
      "\n",
      "\n",
      "[pred] a link to control spatial parametric thresholds in a type of multivariate optical degenerate mode using a correlation mixer s\n",
      "[true] we show how to control spatial quantum correlations in a multimode degenerate optical parametric oscillator type i below threshold by \n",
      "setting preds_emb\n"
     ]
    },
    {
     "name": "stderr",
     "output_type": "stream",
     "text": [
      "Warning: Empty reference sentence detected; setting raw BERTScores to 0.                                                                       \n"
     ]
    },
    {
     "name": "stdout",
     "output_type": "stream",
     "text": [
      "[pred] a Sodje Reader, accused of denying fraud charges against the Sports Foundation of Nigeria, the National Charity for the Defence of the East African\n",
      "[true] The ex-Reading defender denied fraudulent trading charges relating to the Sodje Sports Foundation - a charity to raise money for Nigerian\n",
      "\n",
      "\n",
      "\n",
      "[pred] Voges was forced to retire after suffering a neck injury in the County Championship on 6 March. After being bowled out for 65, Middles\n",
      "[true] Voges was forced to retire hurt on 86 after suffering the injury while batting during the County Championship draw with Somerset on 4 June. Middlesex\n",
      "\n",
      "\n",
      "\n",
      "[pred] The Norfolk countryside photographs taken by photographer Josh Olins are featured in seven of his first June pictures. In the \"July\" magazine, the\n",
      "[true] Seven photographs taken in the Norfolk countryside by photographer Josh Olins will appear in the June edition. In her first sitting for a magazine, the du\n",
      "setting preds_emb\n"
     ]
    },
    {
     "name": "stderr",
     "output_type": "stream",
     "text": [
      "  0%|                                                                                                                   | 0/49 [00:00<?, ?it/s]"
     ]
    },
    {
     "name": "stdout",
     "output_type": "stream",
     "text": [
      "*** round 1\n"
     ]
    },
    {
     "name": "stderr",
     "output_type": "stream",
     "text": [
      "\n",
      "generating from val:   0%|                                                                                               | 0/4 [00:00<?, ?it/s]\u001b[A\n",
      "generating from val:  25%|█████████████████████▊                                                                 | 1/4 [00:01<00:03,  1.16s/it]\u001b[A\n",
      "generating from val:  50%|███████████████████████████████████████████▌                                           | 2/4 [00:02<00:02,  1.14s/it]\u001b[A\n",
      "generating from val:  75%|█████████████████████████████████████████████████████████████████▎                     | 3/4 [00:03<00:01,  1.09s/it]\u001b[A\n",
      "generating from val: 100%|███████████████████████████████████████████████████████████████████████████████████████| 4/4 [00:04<00:00,  1.05s/it]\u001b[A\n",
      "                                                                                                                                               \u001b[A"
     ]
    },
    {
     "name": "stdout",
     "output_type": "stream",
     "text": [
      "[pred] to the character of the sutures of the skull, which are relatively smooth and untortuous of infant skulls. In fact, like the\n",
      "[true] to the character of the sutures of the skull which, like those of the infant skull, are relatively smooth and untortuous. In fact\n",
      "\n",
      "\n",
      "\n",
      "[pred] individual from the Southern Hemisphere to win a Winter Olympic gold medal, and was also part of the short track relay team which won Australia'\n",
      "[true] individual from the Southern Hemisphere, to win a Winter Olympic gold medal and was also part of the short track relay team that won Australia'\n",
      "\n",
      "\n",
      "\n",
      "[pred] the same rights as other people, while 15% agreed that they should be protected from discrimination. Less than 3% disagreed with gay HRC and\n",
      "[true] the same rights as straight people, while 15% disagreed. Additionally, 69% agreed that they should be protected from workplace discrimination. 13% of H\n",
      "setting preds_emb\n"
     ]
    },
    {
     "name": "stderr",
     "output_type": "stream",
     "text": [
      "\n",
      "generating from val:   0%|                                                                                               | 0/4 [00:00<?, ?it/s]\u001b[A\n",
      "generating from val:  25%|█████████████████████▊                                                                 | 1/4 [00:01<00:03,  1.07s/it]\u001b[A\n",
      "generating from val:  50%|███████████████████████████████████████████▌                                           | 2/4 [00:02<00:02,  1.05s/it]\u001b[A\n",
      "generating from val:  75%|█████████████████████████████████████████████████████████████████▎                     | 3/4 [00:03<00:01,  1.03s/it]\u001b[A\n",
      "generating from val: 100%|███████████████████████████████████████████████████████████████████████████████████████| 4/4 [00:04<00:00,  1.02s/it]\u001b[A\n",
      "                                                                                                                                               \u001b[A"
     ]
    },
    {
     "name": "stdout",
     "output_type": "stream",
     "text": [
      "[pred] we study phase behavior between a liquid crystal with a strong nematic pattern anchored in a binging crystal between the substrate and surrounding\n",
      "[true] we study the phase behavior of a nematic liquid crystal confined between a flat substrate with strong anchoring and a patterned substrate\n",
      "\n",
      "\n",
      "\n",
      "[pred] determining the scale relations of observed uniform clusterings requires measuring large X observable samples. We sample the galaxy's x axi\n",
      "[true] determining the scaling relations between galaxy cluster observables requires large samples of uniformly observed clusters. we measure the mean x -\n",
      "\n",
      "\n",
      "\n",
      "[pred] demonstrating how to control a link type optical quantum correlation in degenerate spatial parametric modes of a multimode modulator, i\n",
      "[true] we show how to control spatial quantum correlations in a multimode degenerate optical parametric oscillator type i below threshold by \n",
      "setting preds_emb\n"
     ]
    },
    {
     "name": "stderr",
     "output_type": "stream",
     "text": [
      "\n",
      "generating from val:   0%|                                                                                               | 0/4 [00:00<?, ?it/s]\u001b[A\n",
      "generating from val:  25%|█████████████████████▊                                                                 | 1/4 [00:00<00:02,  1.00it/s]\u001b[A\n",
      "generating from val:  50%|███████████████████████████████████████████▌                                           | 2/4 [00:01<00:01,  1.01it/s]\u001b[A\n",
      "generating from val:  75%|█████████████████████████████████████████████████████████████████▎                     | 3/4 [00:02<00:00,  1.01it/s]\u001b[A\n",
      "generating from val: 100%|███████████████████████████████████████████████████████████████████████████████████████| 4/4 [00:03<00:00,  1.04it/s]\u001b[A\n",
      "                                                                                                                                               \u001b[AWarning: Empty reference sentence detected; setting raw BERTScores to 0.\n",
      "  2%|██▏                                                                                                        | 1/49 [00:28<23:02, 28.81s/it]"
     ]
    },
    {
     "name": "stdout",
     "output_type": "stream",
     "text": [
      "[pred] a former Sodje Trader denied the fraud charges against the Reading Sports Foundation, the National Fund for the Defence of Nigeria, for allegedly raising\n",
      "[true] The ex-Reading defender denied fraudulent trading charges relating to the Sodje Sports Foundation - a charity to raise money for Nigerian\n",
      "\n",
      "\n",
      "\n",
      "[pred] Voges was forced to retire after suffering an injury on the batting surface on 6 June for 62 in the County Championship. Somerset then hurt Middles\n",
      "[true] Voges was forced to retire hurt on 86 after suffering the injury while batting during the County Championship draw with Somerset on 4 June. Middlesex\n",
      "\n",
      "\n",
      "\n",
      "[pred] Seven photographs taken in the Norfolk countryside by photographer Josh Olins will appear in his first June edition in the magazine. While seated, the s\n",
      "[true] Seven photographs taken in the Norfolk countryside by photographer Josh Olins will appear in the June edition. In her first sitting for a magazine, the du\n",
      "setting preds_emb\n",
      "*** round 2\n"
     ]
    },
    {
     "name": "stderr",
     "output_type": "stream",
     "text": [
      "\n",
      "generating from val:   0%|                                                                                               | 0/4 [00:00<?, ?it/s]\u001b[A\n",
      "generating from val:  25%|█████████████████████▊                                                                 | 1/4 [00:01<00:04,  1.54s/it]\u001b[A\n",
      "generating from val:  50%|███████████████████████████████████████████▌                                           | 2/4 [00:03<00:03,  1.54s/it]\u001b[A\n",
      "generating from val:  75%|█████████████████████████████████████████████████████████████████▎                     | 3/4 [00:04<00:01,  1.65s/it]\u001b[A\n",
      "generating from val: 100%|███████████████████████████████████████████████████████████████████████████████████████| 4/4 [00:06<00:00,  1.63s/it]\u001b[A\n",
      "                                                                                                                                               \u001b[A"
     ]
    },
    {
     "name": "stdout",
     "output_type": "stream",
     "text": [
      "[pred] to the character of the sutures of the skull, which, like those of the infant skull, are relatively smooth and untortuous. However\n",
      "[true] to the character of the sutures of the skull which, like those of the infant skull, are relatively smooth and untortuous. In fact\n",
      "\n",
      "\n",
      "\n",
      "[pred] individual from the Southern Hemisphere, to win a Winter Olympic gold medal and was also part of the short track relay team that won Australia'\n",
      "[true] individual from the Southern Hemisphere, to win a Winter Olympic gold medal and was also part of the short track relay team that won Australia'\n",
      "\n",
      "\n",
      "\n",
      "[pred] the same rights as straight people, and 6% disagreed: 15% agree that they should be protected from workplace discrimination. Additionally, 8% of H\n",
      "[true] the same rights as straight people, while 15% disagreed. Additionally, 69% agreed that they should be protected from workplace discrimination. 13% of H\n",
      "setting preds_emb\n"
     ]
    },
    {
     "name": "stderr",
     "output_type": "stream",
     "text": [
      "\n",
      "generating from val:   0%|                                                                                               | 0/4 [00:00<?, ?it/s]\u001b[A\n",
      "generating from val:  25%|█████████████████████▊                                                                 | 1/4 [00:01<00:04,  1.51s/it]\u001b[A\n",
      "generating from val:  50%|███████████████████████████████████████████▌                                           | 2/4 [00:03<00:03,  1.53s/it]\u001b[A\n",
      "generating from val:  75%|█████████████████████████████████████████████████████████████████▎                     | 3/4 [00:04<00:01,  1.54s/it]\u001b[A\n",
      "generating from val: 100%|███████████████████████████████████████████████████████████████████████████████████████| 4/4 [00:06<00:00,  1.52s/it]\u001b[A\n",
      "                                                                                                                                               \u001b[A"
     ]
    },
    {
     "name": "stdout",
     "output_type": "stream",
     "text": [
      "[pred] we study the phase behavior of a nematic liquid crystal with a strong confined patterning between a substrate and a stationary substrate\n",
      "[true] we study the phase behavior of a nematic liquid crystal confined between a flat substrate with strong anchoring and a patterned substrate\n",
      "\n",
      "\n",
      "\n",
      "[pred] determining the observed relations between large x clusters requires measuring uniformly scaled sample mean axis. We sample the galaxy's \n",
      "[true] determining the scaling relations between galaxy cluster observables requires large samples of uniformly observed clusters. we measure the mean x -\n",
      "\n",
      "\n",
      "\n",
      "[pred] to control a type of optical multimode quantum correlation in parametric spatial degenerate matrices at a threshold spatial linker,\n",
      "[true] we show how to control spatial quantum correlations in a multimode degenerate optical parametric oscillator type i below threshold by \n",
      "setting preds_emb\n"
     ]
    },
    {
     "name": "stderr",
     "output_type": "stream",
     "text": [
      "\n",
      "generating from val:   0%|                                                                                               | 0/4 [00:00<?, ?it/s]\u001b[A\n",
      "generating from val:  25%|█████████████████████▊                                                                 | 1/4 [00:01<00:04,  1.66s/it]\u001b[A\n",
      "generating from val:  50%|███████████████████████████████████████████▌                                           | 2/4 [00:03<00:03,  1.58s/it]\u001b[A\n",
      "generating from val:  75%|█████████████████████████████████████████████████████████████████▎                     | 3/4 [00:04<00:01,  1.66s/it]\u001b[A\n",
      "generating from val: 100%|███████████████████████████████████████████████████████████████████████████████████████| 4/4 [00:06<00:00,  1.63s/it]\u001b[A\n",
      "                                                                                                                                               \u001b[AWarning: Empty reference sentence detected; setting raw BERTScores to 0.\n",
      "  4%|████▎                                                                                                      | 2/49 [01:03<25:06, 32.05s/it]"
     ]
    },
    {
     "name": "stdout",
     "output_type": "stream",
     "text": [
      "[pred] The ex-Sportstrader denied the charges of fraudulently promoting Reading charity, the Sodje Free Foundation for the Defence of Nigeria and that\n",
      "[true] The ex-Reading defender denied fraudulent trading charges relating to the Sodje Sports Foundation - a charity to raise money for Nigerian\n",
      "\n",
      "\n",
      "\n",
      "[pred] Voges was forced to retire after suffering an injury on 6 June while batting at 86 for Somerset in the County Championship. Middlesex then hurt\n",
      "[true] Voges was forced to retire hurt on 86 after suffering the injury while batting during the County Championship draw with Somerset on 4 June. Middlesex\n",
      "\n",
      "\n",
      "\n",
      "[pred] Seven photographs taken in the Norfolk countryside by photographer Josh Olins will appear in his first June edition in the magazine. She sits for a du\n",
      "[true] Seven photographs taken in the Norfolk countryside by photographer Josh Olins will appear in the June edition. In her first sitting for a magazine, the du\n",
      "setting preds_emb\n",
      "*** round 3\n"
     ]
    },
    {
     "name": "stderr",
     "output_type": "stream",
     "text": [
      "\n",
      "generating from val:   0%|                                                                                               | 0/4 [00:00<?, ?it/s]\u001b[A\n",
      "generating from val:  25%|█████████████████████▊                                                                 | 1/4 [00:02<00:06,  2.19s/it]\u001b[A\n",
      "generating from val:  50%|███████████████████████████████████████████▌                                           | 2/4 [00:04<00:04,  2.16s/it]\u001b[A\n",
      "generating from val:  75%|█████████████████████████████████████████████████████████████████▎                     | 3/4 [00:06<00:02,  2.14s/it]\u001b[A\n",
      "generating from val: 100%|███████████████████████████████████████████████████████████████████████████████████████| 4/4 [00:08<00:00,  2.15s/it]\u001b[A\n",
      "                                                                                                                                               \u001b[A"
     ]
    },
    {
     "name": "stdout",
     "output_type": "stream",
     "text": [
      "[pred] to the character of the sutures of the skull, which, like those of the infant skull, are relatively smooth and untortuous. In\n",
      "[true] to the character of the sutures of the skull which, like those of the infant skull, are relatively smooth and untortuous. In fact\n",
      "\n",
      "\n",
      "\n",
      "[pred] individual from the Southern Hemisphere, to win a Winter Olympic gold medal and was also part of the short track relay team that won Australia'\n",
      "[true] individual from the Southern Hemisphere, to win a Winter Olympic gold medal and was also part of the short track relay team that won Australia'\n",
      "\n",
      "\n",
      "\n",
      "[pred] the same rights as straight people, while 15% agreed that they should be protected from workplace discrimination. In addition, 39% disagreed. 33% H\n",
      "[true] the same rights as straight people, while 15% disagreed. Additionally, 69% agreed that they should be protected from workplace discrimination. 13% of H\n",
      "setting preds_emb\n"
     ]
    },
    {
     "name": "stderr",
     "output_type": "stream",
     "text": [
      "\n",
      "generating from val:   0%|                                                                                               | 0/4 [00:00<?, ?it/s]\u001b[A\n",
      "generating from val:  25%|█████████████████████▊                                                                 | 1/4 [00:02<00:06,  2.08s/it]\u001b[A\n",
      "generating from val:  50%|███████████████████████████████████████████▌                                           | 2/4 [00:04<00:04,  2.07s/it]\u001b[A\n",
      "generating from val:  75%|█████████████████████████████████████████████████████████████████▎                     | 3/4 [00:06<00:02,  2.08s/it]\u001b[A\n",
      "generating from val: 100%|███████████████████████████████████████████████████████████████████████████████████████| 4/4 [00:08<00:00,  2.04s/it]\u001b[A\n",
      "                                                                                                                                               \u001b[A"
     ]
    },
    {
     "name": "stdout",
     "output_type": "stream",
     "text": [
      "[pred] we study the phase behavior of a nematic liquid crystal with strong anchoring patterning between a confined substrate and a patterned\n",
      "[true] we study the phase behavior of a nematic liquid crystal confined between a flat substrate with strong anchoring and a patterned substrate\n",
      "\n",
      "\n",
      "\n",
      "[pred] determining the observed relations between large x clusters requires measuring uniformly scaleable samples. We measure the galaxy's axis (m \n",
      "[true] determining the scaling relations between galaxy cluster observables requires large samples of uniformly observed clusters. we measure the mean x -\n",
      "\n",
      "\n",
      "\n",
      "[pred] to control a type of parametric quantum correlation in multimode spatial degenerate optical oscillators at a threshold below the linkage,\n",
      "[true] we show how to control spatial quantum correlations in a multimode degenerate optical parametric oscillator type i below threshold by \n",
      "setting preds_emb\n"
     ]
    },
    {
     "name": "stderr",
     "output_type": "stream",
     "text": [
      "\n",
      "generating from val:   0%|                                                                                               | 0/4 [00:00<?, ?it/s]\u001b[A\n",
      "generating from val:  25%|█████████████████████▊                                                                 | 1/4 [00:02<00:06,  2.26s/it]\u001b[A\n",
      "generating from val:  50%|███████████████████████████████████████████▌                                           | 2/4 [00:04<00:04,  2.16s/it]\u001b[A\n",
      "generating from val:  75%|█████████████████████████████████████████████████████████████████▎                     | 3/4 [00:06<00:02,  2.12s/it]\u001b[A\n",
      "generating from val: 100%|███████████████████████████████████████████████████████████████████████████████████████| 4/4 [00:08<00:00,  2.11s/it]\u001b[A\n",
      "                                                                                                                                               \u001b[AWarning: Empty reference sentence detected; setting raw BERTScores to 0.\n",
      "  6%|██████▌                                                                                                    | 3/49 [01:44<27:49, 36.29s/it]"
     ]
    },
    {
     "name": "stdout",
     "output_type": "stream",
     "text": [
      "[pred] The ex-trader denied allegations by the Sodje Reading Foundation of a charity charged with promoting fraudulent sport to Nigerian readers (Sports\n",
      "[true] The ex-Reading defender denied fraudulent trading charges relating to the Sodje Sports Foundation - a charity to raise money for Nigerian\n",
      "\n",
      "\n",
      "\n",
      "[pred] Voges was forced to retire hurt after batting at 86 on 4 June in the County Championship with Middlesex taking the injury. After Somerset suffered\n",
      "[true] Voges was forced to retire hurt on 86 after suffering the injury while batting during the County Championship draw with Somerset on 4 June. Middlesex\n",
      "\n",
      "\n",
      "\n",
      "[pred] Seven photographs taken in the Norfolk countryside by photographer Josh Olins will appear in a June edition of the magazine. Her first sitting, in which du\n",
      "[true] Seven photographs taken in the Norfolk countryside by photographer Josh Olins will appear in the June edition. In her first sitting for a magazine, the du\n",
      "setting preds_emb\n",
      "*** round 4\n"
     ]
    },
    {
     "name": "stderr",
     "output_type": "stream",
     "text": [
      "\n",
      "generating from val:   0%|                                                                                               | 0/4 [00:00<?, ?it/s]\u001b[A\n",
      "generating from val:  25%|█████████████████████▊                                                                 | 1/4 [00:02<00:08,  2.79s/it]\u001b[A\n",
      "generating from val:  50%|███████████████████████████████████████████▌                                           | 2/4 [00:05<00:05,  2.69s/it]\u001b[A\n",
      "generating from val:  75%|█████████████████████████████████████████████████████████████████▎                     | 3/4 [00:08<00:02,  2.65s/it]\u001b[A\n",
      "generating from val: 100%|███████████████████████████████████████████████████████████████████████████████████████| 4/4 [00:10<00:00,  2.62s/it]\u001b[A\n",
      "                                                                                                                                               \u001b[A"
     ]
    },
    {
     "name": "stdout",
     "output_type": "stream",
     "text": [
      "[pred] to the character of the sutures of the skull, which, like those of the infant skull, are relatively smooth and untortuous. In\n",
      "[true] to the character of the sutures of the skull which, like those of the infant skull, are relatively smooth and untortuous. In fact\n",
      "\n",
      "\n",
      "\n",
      "[pred] individual from the Southern Hemisphere, to win a Winter Olympic gold medal and was also part of the short track relay team that won Australia'\n",
      "[true] individual from the Southern Hemisphere, to win a Winter Olympic gold medal and was also part of the short track relay team that won Australia'\n",
      "\n",
      "\n",
      "\n",
      "[pred] same rights as straight people, while 15% agreed that they should be protected from workplace discrimination. Additionally, 13% disagreed. 65% of Hl\n",
      "[true] the same rights as straight people, while 15% disagreed. Additionally, 69% agreed that they should be protected from workplace discrimination. 13% of H\n",
      "setting preds_emb\n"
     ]
    },
    {
     "name": "stderr",
     "output_type": "stream",
     "text": [
      "\n",
      "generating from val:   0%|                                                                                               | 0/4 [00:00<?, ?it/s]\u001b[A\n",
      "generating from val:  25%|█████████████████████▊                                                                 | 1/4 [00:02<00:07,  2.56s/it]\u001b[A\n",
      "generating from val:  50%|███████████████████████████████████████████▌                                           | 2/4 [00:05<00:05,  2.55s/it]\u001b[A\n",
      "generating from val:  75%|█████████████████████████████████████████████████████████████████▎                     | 3/4 [00:07<00:02,  2.67s/it]\u001b[A\n",
      "generating from val: 100%|███████████████████████████████████████████████████████████████████████████████████████| 4/4 [00:10<00:00,  2.63s/it]\u001b[A\n",
      "                                                                                                                                               \u001b[A"
     ]
    },
    {
     "name": "stdout",
     "output_type": "stream",
     "text": [
      "[pred] we study the phase behavior of a nematic liquid crystal with strong anchoring between a patterned substrate and a confined substrate flat\n",
      "[true] we study the phase behavior of a nematic liquid crystal confined between a flat substrate with strong anchoring and a patterned substrate\n",
      "\n",
      "\n",
      "\n",
      "[pred] determining the observed sample relations between clusters requires uniformly scaleable galaxy x rays. We measure the mean of the clusters -\n",
      "[true] determining the scaling relations between galaxy cluster observables requires large samples of uniformly observed clusters. we measure the mean x -\n",
      "\n",
      "\n",
      "\n",
      "[pred] to control quantum correlation in a type of degenerate parametric multimode optical oscillators below a spatial threshold with the help of \n",
      "[true] we show how to control spatial quantum correlations in a multimode degenerate optical parametric oscillator type i below threshold by \n",
      "setting preds_emb\n"
     ]
    },
    {
     "name": "stderr",
     "output_type": "stream",
     "text": [
      "\n",
      "generating from val:   0%|                                                                                               | 0/4 [00:00<?, ?it/s]\u001b[A\n",
      "generating from val:  25%|█████████████████████▊                                                                 | 1/4 [00:02<00:07,  2.54s/it]\u001b[A\n",
      "generating from val:  50%|███████████████████████████████████████████▌                                           | 2/4 [00:05<00:05,  2.54s/it]\u001b[A\n",
      "generating from val:  75%|█████████████████████████████████████████████████████████████████▎                     | 3/4 [00:07<00:02,  2.54s/it]\u001b[A\n",
      "generating from val: 100%|███████████████████████████████████████████████████████████████████████████████████████| 4/4 [00:10<00:00,  2.52s/it]\u001b[A\n",
      "                                                                                                                                               \u001b[AWarning: Empty reference sentence detected; setting raw BERTScores to 0.\n",
      "  8%|████████▋                                                                                                  | 4/49 [02:30<30:11, 40.26s/it]"
     ]
    },
    {
     "name": "stdout",
     "output_type": "stream",
     "text": [
      "[pred] The ex-trader denied charges by the Sodje Reader Foundation, a charity charged with promoting fraudulent sports and financial defence in Nigeria's\n",
      "[true] The ex-Reading defender denied fraudulent trading charges relating to the Sodje Sports Foundation - a charity to raise money for Nigerian\n",
      "\n",
      "\n",
      "\n",
      "[pred] Voges was forced to retire hurt after suffering a terrible injury against Somerset on 4 June while batting at 86 in the County Championship. Middles\n",
      "[true] Voges was forced to retire hurt on 86 after suffering the injury while batting during the County Championship draw with Somerset on 4 June. Middlesex\n",
      "\n",
      "\n",
      "\n",
      "[pred] Seven photographs taken in the Norfolk countryside by photographer Josh Olins will appear in her first sitting in the magazine. In a June edition, the du\n",
      "[true] Seven photographs taken in the Norfolk countryside by photographer Josh Olins will appear in the June edition. In her first sitting for a magazine, the du\n",
      "setting preds_emb\n",
      "*** round 5\n"
     ]
    },
    {
     "name": "stderr",
     "output_type": "stream",
     "text": [
      "\n",
      "generating from val:   0%|                                                                                               | 0/4 [00:00<?, ?it/s]\u001b[A\n",
      "generating from val:  25%|█████████████████████▊                                                                 | 1/4 [00:03<00:09,  3.18s/it]\u001b[A\n",
      "generating from val:  50%|███████████████████████████████████████████▌                                           | 2/4 [00:06<00:06,  3.13s/it]\u001b[A\n",
      "generating from val:  75%|█████████████████████████████████████████████████████████████████▎                     | 3/4 [00:09<00:03,  3.11s/it]\u001b[A\n",
      "generating from val: 100%|███████████████████████████████████████████████████████████████████████████████████████| 4/4 [00:12<00:00,  3.18s/it]\u001b[A\n",
      "                                                                                                                                               \u001b[A"
     ]
    },
    {
     "name": "stdout",
     "output_type": "stream",
     "text": [
      "[pred] to the character of the sutures of the skull, which, like those of the infant skull, are relatively smooth and untortuous. In\n",
      "[true] to the character of the sutures of the skull which, like those of the infant skull, are relatively smooth and untortuous. In fact\n",
      "\n",
      "\n",
      "\n",
      "[pred] individual from the Southern Hemisphere, to win a Winter Olympic gold medal and was also part of the short track relay team that won Australia'\n",
      "[true] individual from the Southern Hemisphere, to win a Winter Olympic gold medal and was also part of the short track relay team that won Australia'\n",
      "\n",
      "\n",
      "\n",
      "[pred] the same rights as straight people, while 15% agreed that they should be protected from workplace discrimination. Additionally, 13% disagreed. 9% of H\n",
      "[true] the same rights as straight people, while 15% disagreed. Additionally, 69% agreed that they should be protected from workplace discrimination. 13% of H\n",
      "setting preds_emb\n"
     ]
    },
    {
     "name": "stderr",
     "output_type": "stream",
     "text": [
      "\n",
      "generating from val:   0%|                                                                                               | 0/4 [00:00<?, ?it/s]\u001b[A\n",
      "generating from val:  25%|█████████████████████▊                                                                 | 1/4 [00:03<00:09,  3.16s/it]\u001b[A\n",
      "generating from val:  50%|███████████████████████████████████████████▌                                           | 2/4 [00:06<00:06,  3.16s/it]\u001b[A\n",
      "generating from val:  75%|█████████████████████████████████████████████████████████████████▎                     | 3/4 [00:09<00:03,  3.17s/it]\u001b[A\n",
      "generating from val: 100%|███████████████████████████████████████████████████████████████████████████████████████| 4/4 [00:12<00:00,  3.13s/it]\u001b[A\n",
      "                                                                                                                                               \u001b[A"
     ]
    },
    {
     "name": "stdout",
     "output_type": "stream",
     "text": [
      "[pred] we study the phase behavior of a nematic liquid crystal confined between a flat substrate and a patterned substrate with strong anchoring\n",
      "[true] we study the phase behavior of a nematic liquid crystal confined between a flat substrate with strong anchoring and a patterned substrate\n",
      "\n",
      "\n",
      "\n",
      "[pred] determining the scaling relations between observed clusters requires uniformly large sample galaxy x - the mean of the clusters being measured. We sample \n",
      "[true] determining the scaling relations between galaxy cluster observables requires large samples of uniformly observed clusters. we measure the mean x -\n",
      "\n",
      "\n",
      "\n",
      "[pred] here to control quantum correlation in a type of degenerate parametric multimode optical oscillators below a spatial threshold accompanied by \n",
      "[true] we show how to control spatial quantum correlations in a multimode degenerate optical parametric oscillator type i below threshold by \n",
      "setting preds_emb\n"
     ]
    },
    {
     "name": "stderr",
     "output_type": "stream",
     "text": [
      "\n",
      "generating from val:   0%|                                                                                               | 0/4 [00:00<?, ?it/s]\u001b[A\n",
      "generating from val:  25%|█████████████████████▊                                                                 | 1/4 [00:03<00:10,  3.43s/it]\u001b[A\n",
      "generating from val:  50%|███████████████████████████████████████████▌                                           | 2/4 [00:06<00:06,  3.37s/it]\u001b[A\n",
      "generating from val:  75%|█████████████████████████████████████████████████████████████████▎                     | 3/4 [00:09<00:03,  3.28s/it]\u001b[A\n",
      "generating from val: 100%|███████████████████████████████████████████████████████████████████████████████████████| 4/4 [00:12<00:00,  3.18s/it]\u001b[A\n",
      "                                                                                                                                               \u001b[AWarning: Empty reference sentence detected; setting raw BERTScores to 0.\n",
      " 10%|██████████▉                                                                                                | 5/49 [03:24<33:00, 45.00s/it]"
     ]
    },
    {
     "name": "stdout",
     "output_type": "stream",
     "text": [
      "[pred] The ex-Reading defender denied charges against the Sodje Reading Foundation, a charity charged with fraudulent trading and financial assistance to Nigeria's\n",
      "[true] The ex-Reading defender denied fraudulent trading charges relating to the Sodje Sports Foundation - a charity to raise money for Nigerian\n",
      "\n",
      "\n",
      "\n",
      "[pred] Voges was forced to retire hurt after suffering the injury during batting at 86 for Somerset in the County Championship on 6 June. Middlesex with\n",
      "[true] Voges was forced to retire hurt on 86 after suffering the injury while batting during the County Championship draw with Somerset on 4 June. Middlesex\n",
      "\n",
      "\n",
      "\n",
      "[pred] Seven photographs taken in the Norfolk countryside by photographer Josh Olins will appear in her first sitting in the June edition of the magazine. The duc and\n",
      "[true] Seven photographs taken in the Norfolk countryside by photographer Josh Olins will appear in the June edition. In her first sitting for a magazine, the du\n",
      "setting preds_emb\n",
      "*** round 6\n"
     ]
    },
    {
     "name": "stderr",
     "output_type": "stream",
     "text": [
      "\n",
      "generating from val:   0%|                                                                                               | 0/4 [00:00<?, ?it/s]\u001b[A\n",
      "generating from val:  25%|█████████████████████▊                                                                 | 1/4 [00:03<00:11,  3.73s/it]\u001b[A\n",
      "generating from val:  50%|███████████████████████████████████████████▌                                           | 2/4 [00:07<00:07,  3.65s/it]\u001b[A\n",
      "generating from val:  75%|█████████████████████████████████████████████████████████████████▎                     | 3/4 [00:10<00:03,  3.61s/it]\u001b[A\n",
      "generating from val: 100%|███████████████████████████████████████████████████████████████████████████████████████| 4/4 [00:14<00:00,  3.56s/it]\u001b[A\n",
      "                                                                                                                                               \u001b[A"
     ]
    },
    {
     "name": "stdout",
     "output_type": "stream",
     "text": [
      "[pred] to the character of the sutures of the skull, which, like those of the infant skull, are relatively smooth and untortuous. In\n",
      "[true] to the character of the sutures of the skull which, like those of the infant skull, are relatively smooth and untortuous. In fact\n",
      "\n",
      "\n",
      "\n",
      "[pred] individual from the Southern Hemisphere, to win a Winter Olympic gold medal and was also part of the short track relay team that won Australia'\n",
      "[true] individual from the Southern Hemisphere, to win a Winter Olympic gold medal and was also part of the short track relay team that won Australia'\n",
      "\n",
      "\n",
      "\n",
      "[pred] same rights as straight people, while 15% agreed. Additionally, 39% agreed that they should be protected from workplace discrimination. 6% of H's\n",
      "[true] the same rights as straight people, while 15% disagreed. Additionally, 69% agreed that they should be protected from workplace discrimination. 13% of H\n",
      "setting preds_emb\n"
     ]
    },
    {
     "name": "stderr",
     "output_type": "stream",
     "text": [
      "\n",
      "generating from val:   0%|                                                                                               | 0/4 [00:00<?, ?it/s]\u001b[A\n",
      "generating from val:  25%|█████████████████████▊                                                                 | 1/4 [00:03<00:11,  3.74s/it]\u001b[A\n",
      "generating from val:  50%|███████████████████████████████████████████▌                                           | 2/4 [00:07<00:07,  3.73s/it]\u001b[A\n",
      "generating from val:  75%|█████████████████████████████████████████████████████████████████▎                     | 3/4 [00:11<00:03,  3.67s/it]\u001b[A\n",
      "generating from val: 100%|███████████████████████████████████████████████████████████████████████████████████████| 4/4 [00:14<00:00,  3.60s/it]\u001b[A\n",
      "                                                                                                                                               \u001b[A"
     ]
    },
    {
     "name": "stdout",
     "output_type": "stream",
     "text": [
      "[pred] we study the phase behavior of a nematic liquid crystal confined between a patterned substrate and a flat substrate with strong anchoring\n",
      "[true] we study the phase behavior of a nematic liquid crystal confined between a flat substrate with strong anchoring and a patterned substrate\n",
      "\n",
      "\n",
      "\n",
      "[pred] determining the scaling relations between observed clusters requires measuring uniformly large sampled galaxy clusters. We measure the observables x -\n",
      "[true] determining the scaling relations between galaxy cluster observables requires large samples of uniformly observed clusters. we measure the mean x -\n",
      "\n",
      "\n",
      "\n",
      "[pred] here to control quantum correlation in a type of degenerate parametric multimode optical oscillators under spatial thresholds i.e.\n",
      "[true] we show how to control spatial quantum correlations in a multimode degenerate optical parametric oscillator type i below threshold by \n",
      "setting preds_emb\n"
     ]
    },
    {
     "name": "stderr",
     "output_type": "stream",
     "text": [
      "\n",
      "generating from val:   0%|                                                                                               | 0/4 [00:00<?, ?it/s]\u001b[A\n",
      "generating from val:  25%|█████████████████████▊                                                                 | 1/4 [00:03<00:10,  3.60s/it]\u001b[A\n",
      "generating from val:  50%|███████████████████████████████████████████▌                                           | 2/4 [00:07<00:07,  3.61s/it]\u001b[A\n",
      "generating from val:  75%|█████████████████████████████████████████████████████████████████▎                     | 3/4 [00:10<00:03,  3.60s/it]\u001b[A\n",
      "generating from val: 100%|███████████████████████████████████████████████████████████████████████████████████████| 4/4 [00:14<00:00,  3.55s/it]\u001b[A\n",
      "                                                                                                                                               \u001b[AWarning: Empty reference sentence detected; setting raw BERTScores to 0.\n",
      " 12%|█████████████                                                                                              | 6/49 [04:22<35:25, 49.43s/it]"
     ]
    },
    {
     "name": "stdout",
     "output_type": "stream",
     "text": [
      "[pred] An ex-sports defender denied charges of fraudulent trading to the Sodje Reading Foundation, a charity which was set up to raise Nigerian\n",
      "[true] The ex-Reading defender denied fraudulent trading charges relating to the Sodje Sports Foundation - a charity to raise money for Nigerian\n",
      "\n",
      "\n",
      "\n",
      "[pred] Voges was forced to retire hurt after suffering an injury during batting at 86 with Somerset taking 5/32 in the County Championship. Middlesex\n",
      "[true] Voges was forced to retire hurt on 86 after suffering the injury while batting during the County Championship draw with Somerset on 4 June. Middlesex\n",
      "\n",
      "\n",
      "\n",
      "[pred] Seven photographs taken in the Norfolk countryside by photographer Josh Olins will appear in her first sitting. In a June edition of the magazine, the du\n",
      "[true] Seven photographs taken in the Norfolk countryside by photographer Josh Olins will appear in the June edition. In her first sitting for a magazine, the du\n",
      "setting preds_emb\n",
      "*** round 7\n"
     ]
    },
    {
     "name": "stderr",
     "output_type": "stream",
     "text": [
      "\n",
      "generating from val:   0%|                                                                                               | 0/4 [00:00<?, ?it/s]\u001b[A\n",
      "generating from val:  25%|█████████████████████▊                                                                 | 1/4 [00:04<00:13,  4.37s/it]\u001b[A\n",
      "generating from val:  50%|███████████████████████████████████████████▌                                           | 2/4 [00:08<00:08,  4.21s/it]\u001b[A\n",
      "generating from val:  75%|█████████████████████████████████████████████████████████████████▎                     | 3/4 [00:12<00:04,  4.15s/it]\u001b[A\n",
      "generating from val: 100%|███████████████████████████████████████████████████████████████████████████████████████| 4/4 [00:16<00:00,  4.21s/it]\u001b[A\n",
      "                                                                                                                                               \u001b[A"
     ]
    },
    {
     "name": "stdout",
     "output_type": "stream",
     "text": [
      "[pred] to the character of the sutures of the skull, which, like those of the infant skull, are relatively smooth and untortuous. In\n",
      "[true] to the character of the sutures of the skull which, like those of the infant skull, are relatively smooth and untortuous. In fact\n",
      "\n",
      "\n",
      "\n",
      "[pred] individual from the Southern Hemisphere, to win a Winter Olympic gold medal and was also part of the short track relay team that won Australia'\n",
      "[true] individual from the Southern Hemisphere, to win a Winter Olympic gold medal and was also part of the short track relay team that won Australia'\n",
      "\n",
      "\n",
      "\n",
      "[pred] the same rights as straight people, while 15% disagreed. Additionally, 39% agreed that they should be protected from workplace discrimination. 13% of H\n",
      "[true] the same rights as straight people, while 15% disagreed. Additionally, 69% agreed that they should be protected from workplace discrimination. 13% of H\n",
      "setting preds_emb\n"
     ]
    },
    {
     "name": "stderr",
     "output_type": "stream",
     "text": [
      "\n",
      "generating from val:   0%|                                                                                               | 0/4 [00:00<?, ?it/s]\u001b[A\n",
      "generating from val:  25%|█████████████████████▊                                                                 | 1/4 [00:04<00:13,  4.51s/it]\u001b[A\n",
      "generating from val:  50%|███████████████████████████████████████████▌                                           | 2/4 [00:08<00:08,  4.40s/it]\u001b[A\n",
      "generating from val:  75%|█████████████████████████████████████████████████████████████████▎                     | 3/4 [00:13<00:04,  4.37s/it]\u001b[A\n",
      "generating from val: 100%|███████████████████████████████████████████████████████████████████████████████████████| 4/4 [00:17<00:00,  4.24s/it]\u001b[A\n",
      "                                                                                                                                               \u001b[A"
     ]
    },
    {
     "name": "stdout",
     "output_type": "stream",
     "text": [
      "[pred] we study the phase behavior of a nematic liquid crystal confined between a flat substrate and a patterned substrate with strong anchoring\n",
      "[true] we study the phase behavior of a nematic liquid crystal confined between a flat substrate with strong anchoring and a patterned substrate\n",
      "\n",
      "\n",
      "\n",
      "[pred] determining the scaling relations between galaxy clusters requires measuring uniformly sampled observables. We measure the mean of large clusters x \n",
      "[true] determining the scaling relations between galaxy cluster observables requires large samples of uniformly observed clusters. we measure the mean x -\n",
      "\n",
      "\n",
      "\n",
      "[pred] how to control quantum correlation under a type of degenerate parametric multimode optical oscillators spatially below a threshold, we show\n",
      "[true] we show how to control spatial quantum correlations in a multimode degenerate optical parametric oscillator type i below threshold by \n",
      "setting preds_emb\n"
     ]
    },
    {
     "name": "stderr",
     "output_type": "stream",
     "text": [
      "\n",
      "generating from val:   0%|                                                                                               | 0/4 [00:00<?, ?it/s]\u001b[A\n",
      "generating from val:  25%|█████████████████████▊                                                                 | 1/4 [00:04<00:12,  4.27s/it]\u001b[A\n",
      "generating from val:  50%|███████████████████████████████████████████▌                                           | 2/4 [00:08<00:08,  4.27s/it]\u001b[A\n",
      "generating from val:  75%|█████████████████████████████████████████████████████████████████▎                     | 3/4 [00:12<00:04,  4.22s/it]\u001b[A\n",
      "generating from val: 100%|███████████████████████████████████████████████████████████████████████████████████████| 4/4 [00:16<00:00,  4.22s/it]\u001b[A\n",
      "                                                                                                                                               \u001b[AWarning: Empty reference sentence detected; setting raw BERTScores to 0.\n",
      " 14%|███████████████▎                                                                                           | 7/49 [05:29<38:34, 55.11s/it]"
     ]
    },
    {
     "name": "stdout",
     "output_type": "stream",
     "text": [
      "[pred] The ex-Reader denied charges of fraudulent trading to the Sodje Books Foundation - a charity which is to encourage Nigerian sports and financial\n",
      "[true] The ex-Reading defender denied fraudulent trading charges relating to the Sodje Sports Foundation - a charity to raise money for Nigerian\n",
      "\n",
      "\n",
      "\n",
      "[pred] Voges was forced to retire hurt after suffering an injury in the County Championship against Somerset on 2 June. After batting at 86, Middlesex\n",
      "[true] Voges was forced to retire hurt on 86 after suffering the injury while batting during the County Championship draw with Somerset on 4 June. Middlesex\n",
      "\n",
      "\n",
      "\n",
      "[pred] Seven photographs taken in the Norfolk countryside by photographer Josh Olins will be appearing in her first sitting for the June edition of the magazine. The he\n",
      "[true] Seven photographs taken in the Norfolk countryside by photographer Josh Olins will appear in the June edition. In her first sitting for a magazine, the du\n",
      "setting preds_emb\n",
      "*** round 8\n"
     ]
    },
    {
     "name": "stderr",
     "output_type": "stream",
     "text": [
      "\n",
      "generating from val:   0%|                                                                                               | 0/4 [00:00<?, ?it/s]\u001b[A\n",
      "generating from val:  25%|█████████████████████▊                                                                 | 1/4 [00:04<00:14,  4.91s/it]\u001b[A\n",
      "generating from val:  50%|███████████████████████████████████████████▌                                           | 2/4 [00:09<00:09,  4.82s/it]\u001b[A\n",
      "generating from val:  75%|█████████████████████████████████████████████████████████████████▎                     | 3/4 [00:14<00:04,  4.86s/it]\u001b[A\n",
      "generating from val: 100%|███████████████████████████████████████████████████████████████████████████████████████| 4/4 [00:19<00:00,  4.82s/it]\u001b[A\n",
      "                                                                                                                                               \u001b[A"
     ]
    },
    {
     "name": "stdout",
     "output_type": "stream",
     "text": [
      "[pred] to the character of the sutures of the skull, which, like those of the infant skull, are relatively smooth and untortuous. In\n",
      "[true] to the character of the sutures of the skull which, like those of the infant skull, are relatively smooth and untortuous. In fact\n",
      "\n",
      "\n",
      "\n",
      "[pred] individual from the Southern Hemisphere, to win a Winter Olympic gold medal and was also part of the short track relay team that won Australia'\n",
      "[true] individual from the Southern Hemisphere, to win a Winter Olympic gold medal and was also part of the short track relay team that won Australia'\n",
      "\n",
      "\n",
      "\n",
      "[pred] the same rights as straight people, while 15% disagreed. Additionally, 69% agreed that they should be protected from workplace discrimination. 13% of H\n",
      "[true] the same rights as straight people, while 15% disagreed. Additionally, 69% agreed that they should be protected from workplace discrimination. 13% of H\n",
      "setting preds_emb\n"
     ]
    },
    {
     "name": "stderr",
     "output_type": "stream",
     "text": [
      "\n",
      "generating from val:   0%|                                                                                               | 0/4 [00:00<?, ?it/s]\u001b[A\n",
      "generating from val:  25%|█████████████████████▊                                                                 | 1/4 [00:04<00:14,  4.88s/it]\u001b[A\n",
      "generating from val:  50%|███████████████████████████████████████████▌                                           | 2/4 [00:09<00:09,  4.87s/it]\u001b[A\n",
      "generating from val:  75%|█████████████████████████████████████████████████████████████████▎                     | 3/4 [00:14<00:04,  4.88s/it]\u001b[A\n",
      "generating from val: 100%|███████████████████████████████████████████████████████████████████████████████████████| 4/4 [00:19<00:00,  4.76s/it]\u001b[A\n",
      "                                                                                                                                               \u001b[A"
     ]
    },
    {
     "name": "stdout",
     "output_type": "stream",
     "text": [
      "[pred] we study the phase behavior of a nematic liquid crystal confined between a patterned substrate and a flat substrate with strong anchoring\n",
      "[true] we study the phase behavior of a nematic liquid crystal confined between a flat substrate with strong anchoring and a patterned substrate\n",
      "\n",
      "\n",
      "\n",
      "[pred] determining the scaling relations between uniformly observed galaxy clusters requires sample. We measure the mean of large clusters x x x \n",
      "[true] determining the scaling relations between galaxy cluster observables requires large samples of uniformly observed clusters. we measure the mean x -\n",
      "\n",
      "\n",
      "\n",
      "[pred] we show how to control quantum correlation under a type of degenerate parametric multimode optical oscillator spatially above thresholds i\n",
      "[true] we show how to control spatial quantum correlations in a multimode degenerate optical parametric oscillator type i below threshold by \n",
      "setting preds_emb\n"
     ]
    },
    {
     "name": "stderr",
     "output_type": "stream",
     "text": [
      "\n",
      "generating from val:   0%|                                                                                               | 0/4 [00:00<?, ?it/s]\u001b[A\n",
      "generating from val:  25%|█████████████████████▊                                                                 | 1/4 [00:04<00:14,  4.84s/it]\u001b[A\n",
      "generating from val:  50%|███████████████████████████████████████████▌                                           | 2/4 [00:09<00:09,  4.83s/it]\u001b[A\n",
      "generating from val:  75%|█████████████████████████████████████████████████████████████████▎                     | 3/4 [00:14<00:04,  4.82s/it]\u001b[A\n",
      "generating from val: 100%|███████████████████████████████████████████████████████████████████████████████████████| 4/4 [00:19<00:00,  4.79s/it]\u001b[A\n",
      "                                                                                                                                               \u001b[AWarning: Empty reference sentence detected; setting raw BERTScores to 0.\n",
      " 16%|█████████████████▍                                                                                         | 8/49 [06:41<41:25, 60.63s/it]"
     ]
    },
    {
     "name": "stdout",
     "output_type": "stream",
     "text": [
      "[pred] The ex-Reader defender denied charges of fraudulent trading with the Sodje Sports Foundation – a charity aimed at encouraging Nigerian money\n",
      "[true] The ex-Reading defender denied fraudulent trading charges relating to the Sodje Sports Foundation - a charity to raise money for Nigerian\n",
      "\n",
      "\n",
      "\n",
      "[pred] Voges was forced to retire hurt after suffering a batting injury while with Somerset on 4 June for 86 in the County Championship. Middlesex\n",
      "[true] Voges was forced to retire hurt on 86 after suffering the injury while batting during the County Championship draw with Somerset on 4 June. Middlesex\n",
      "\n",
      "\n",
      "\n",
      "[pred] Seven photographs taken in the Norfolk countryside by photographer Josh Olins will appear in the June edition of the magazine. In her first sitting, a du\n",
      "[true] Seven photographs taken in the Norfolk countryside by photographer Josh Olins will appear in the June edition. In her first sitting for a magazine, the du\n",
      "setting preds_emb\n",
      "*** round 9\n"
     ]
    },
    {
     "name": "stderr",
     "output_type": "stream",
     "text": [
      "\n",
      "generating from val:   0%|                                                                                               | 0/4 [00:00<?, ?it/s]\u001b[A\n",
      "generating from val:  25%|█████████████████████▊                                                                 | 1/4 [00:05<00:15,  5.31s/it]\u001b[A\n",
      "generating from val:  50%|███████████████████████████████████████████▌                                           | 2/4 [00:10<00:10,  5.35s/it]\u001b[A\n",
      "generating from val:  75%|█████████████████████████████████████████████████████████████████▎                     | 3/4 [00:16<00:05,  5.41s/it]\u001b[A\n",
      "generating from val: 100%|███████████████████████████████████████████████████████████████████████████████████████| 4/4 [00:21<00:00,  5.39s/it]\u001b[A\n",
      "                                                                                                                                               \u001b[A"
     ]
    },
    {
     "name": "stdout",
     "output_type": "stream",
     "text": [
      "[pred] to the character of the sutures of the skull, which, like those of the infant skull, are relatively smooth and untortuous. In\n",
      "[true] to the character of the sutures of the skull which, like those of the infant skull, are relatively smooth and untortuous. In fact\n",
      "\n",
      "\n",
      "\n",
      "[pred] individual from the Southern Hemisphere, to win a Winter Olympic gold medal and was also part of the short track relay team that won Australia'\n",
      "[true] individual from the Southern Hemisphere, to win a Winter Olympic gold medal and was also part of the short track relay team that won Australia'\n",
      "\n",
      "\n",
      "\n",
      "[pred] the same rights as straight people, while 15% disagreed. Additionally, 69% agreed that they should be protected from workplace discrimination. 13% of H\n",
      "[true] the same rights as straight people, while 15% disagreed. Additionally, 69% agreed that they should be protected from workplace discrimination. 13% of H\n",
      "setting preds_emb\n"
     ]
    },
    {
     "name": "stderr",
     "output_type": "stream",
     "text": [
      "\n",
      "generating from val:   0%|                                                                                               | 0/4 [00:00<?, ?it/s]\u001b[A\n",
      "generating from val:  25%|█████████████████████▊                                                                 | 1/4 [00:05<00:16,  5.55s/it]\u001b[A\n",
      "generating from val:  50%|███████████████████████████████████████████▌                                           | 2/4 [00:11<00:11,  5.50s/it]\u001b[A\n",
      "generating from val:  75%|█████████████████████████████████████████████████████████████████▎                     | 3/4 [00:16<00:05,  5.37s/it]\u001b[A\n",
      "generating from val: 100%|███████████████████████████████████████████████████████████████████████████████████████| 4/4 [00:21<00:00,  5.38s/it]\u001b[A\n",
      "                                                                                                                                               \u001b[A"
     ]
    },
    {
     "name": "stdout",
     "output_type": "stream",
     "text": [
      "[pred] we study the phase behavior of a nematic liquid crystal confined between a flat substrate and a patterned substrate with strong anchoring\n",
      "[true] we study the phase behavior of a nematic liquid crystal confined between a flat substrate with strong anchoring and a patterned substrate\n",
      "\n",
      "\n",
      "\n",
      "[pred] determining the scaling relations between galaxy clusters requires uniformly observed observables. We measure the mean sample of large clusters x -\n",
      "[true] determining the scaling relations between galaxy cluster observables requires large samples of uniformly observed clusters. we measure the mean x -\n",
      "\n",
      "\n",
      "\n",
      "[pred] we show how to control quantum correlations under spatially degenerate parametric multimode optical oscillators of a type threshold i.\n",
      "[true] we show how to control spatial quantum correlations in a multimode degenerate optical parametric oscillator type i below threshold by \n",
      "setting preds_emb\n"
     ]
    },
    {
     "name": "stderr",
     "output_type": "stream",
     "text": [
      "\n",
      "generating from val:   0%|                                                                                               | 0/4 [00:00<?, ?it/s]\u001b[A\n",
      "generating from val:  25%|█████████████████████▊                                                                 | 1/4 [00:05<00:15,  5.33s/it]\u001b[A\n",
      "generating from val:  50%|███████████████████████████████████████████▌                                           | 2/4 [00:10<00:10,  5.37s/it]\u001b[A\n",
      "generating from val:  75%|█████████████████████████████████████████████████████████████████▎                     | 3/4 [00:16<00:05,  5.41s/it]\u001b[A\n",
      "generating from val: 100%|███████████████████████████████████████████████████████████████████████████████████████| 4/4 [00:21<00:00,  5.30s/it]\u001b[A\n",
      "                                                                                                                                               \u001b[AWarning: Empty reference sentence detected; setting raw BERTScores to 0.\n",
      " 18%|███████████████████▋                                                                                       | 9/49 [08:01<44:27, 66.68s/it]"
     ]
    },
    {
     "name": "stdout",
     "output_type": "stream",
     "text": [
      "[pred] The ex-Reading defender denied charges of fraudulent trading with the Sodje Sports Foundation - a charity - to raise money for Nigeria\n",
      "[true] The ex-Reading defender denied fraudulent trading charges relating to the Sodje Sports Foundation - a charity to raise money for Nigerian\n",
      "\n",
      "\n",
      "\n",
      "[pred] Voges was forced to retire hurt after suffering a batting injury on 5 June and then draw with Somerset for 86 in the County Championship. Middle\n",
      "[true] Voges was forced to retire hurt on 86 after suffering the injury while batting during the County Championship draw with Somerset on 4 June. Middlesex\n",
      "\n",
      "\n",
      "\n",
      "[pred] Seven photographs taken in the Norfolk countryside by photographer Josh Olins will appear in the June edition of the magazine. In her first sitting, there was du\n",
      "[true] Seven photographs taken in the Norfolk countryside by photographer Josh Olins will appear in the June edition. In her first sitting for a magazine, the du\n",
      "setting preds_emb\n",
      "*** round 10\n"
     ]
    },
    {
     "name": "stderr",
     "output_type": "stream",
     "text": [
      "\n",
      "generating from val:   0%|                                                                                               | 0/4 [00:00<?, ?it/s]\u001b[A\n",
      "generating from val:  25%|█████████████████████▊                                                                 | 1/4 [00:05<00:17,  5.80s/it]\u001b[A\n",
      "generating from val:  50%|███████████████████████████████████████████▌                                           | 2/4 [00:11<00:11,  5.82s/it]\u001b[A\n",
      "generating from val:  75%|█████████████████████████████████████████████████████████████████▎                     | 3/4 [00:17<00:05,  5.79s/it]\u001b[A\n",
      "generating from val: 100%|███████████████████████████████████████████████████████████████████████████████████████| 4/4 [00:22<00:00,  5.69s/it]\u001b[A\n",
      "                                                                                                                                               \u001b[A"
     ]
    },
    {
     "name": "stdout",
     "output_type": "stream",
     "text": [
      "[pred] to the character of the sutures of the skull, which, like those of the infant skull, are relatively smooth and untortuous. In\n",
      "[true] to the character of the sutures of the skull which, like those of the infant skull, are relatively smooth and untortuous. In fact\n",
      "\n",
      "\n",
      "\n",
      "[pred] individual from the Southern Hemisphere, to win a Winter Olympic gold medal and was also part of the short track relay team that won Australia'\n",
      "[true] individual from the Southern Hemisphere, to win a Winter Olympic gold medal and was also part of the short track relay team that won Australia'\n",
      "\n",
      "\n",
      "\n",
      "[pred] the same rights as straight people, while 15% disagreed. Additionally, 69% agreed that they should be protected from workplace discrimination. 13% of H\n",
      "[true] the same rights as straight people, while 15% disagreed. Additionally, 69% agreed that they should be protected from workplace discrimination. 13% of H\n",
      "setting preds_emb\n"
     ]
    },
    {
     "name": "stderr",
     "output_type": "stream",
     "text": [
      "\n",
      "generating from val:   0%|                                                                                               | 0/4 [00:00<?, ?it/s]\u001b[A\n",
      "generating from val:  25%|█████████████████████▊                                                                 | 1/4 [00:05<00:17,  5.90s/it]\u001b[A\n",
      "generating from val:  50%|███████████████████████████████████████████▌                                           | 2/4 [00:11<00:11,  5.82s/it]\u001b[A\n",
      "generating from val:  75%|█████████████████████████████████████████████████████████████████▎                     | 3/4 [00:17<00:05,  5.79s/it]\u001b[A\n",
      "generating from val: 100%|███████████████████████████████████████████████████████████████████████████████████████| 4/4 [00:23<00:00,  5.73s/it]\u001b[A\n",
      "                                                                                                                                               \u001b[A"
     ]
    },
    {
     "name": "stdout",
     "output_type": "stream",
     "text": [
      "[pred] we study the phase behavior of a nematic liquid crystal confined between a patterned substrate and a flat substrate with strong anchoring\n",
      "[true] we study the phase behavior of a nematic liquid crystal confined between a flat substrate with strong anchoring and a patterned substrate\n",
      "\n",
      "\n",
      "\n",
      "[pred] determining the scaling relations between galaxy clusters requires large samples of uniformly observed observables. we measure the mean x clusters \"\n",
      "[true] determining the scaling relations between galaxy cluster observables requires large samples of uniformly observed clusters. we measure the mean x -\n",
      "\n",
      "\n",
      "\n",
      "[pred] we show how to control quantum correlation in degenerate spatial multimode optical oscillators under a type parametric threshold at a i\n",
      "[true] we show how to control spatial quantum correlations in a multimode degenerate optical parametric oscillator type i below threshold by \n",
      "setting preds_emb\n"
     ]
    },
    {
     "name": "stderr",
     "output_type": "stream",
     "text": [
      "\n",
      "generating from val:   0%|                                                                                               | 0/4 [00:00<?, ?it/s]\u001b[A\n",
      "generating from val:  25%|█████████████████████▊                                                                 | 1/4 [00:06<00:18,  6.22s/it]\u001b[A\n",
      "generating from val:  50%|███████████████████████████████████████████▌                                           | 2/4 [00:12<00:12,  6.17s/it]\u001b[A\n",
      "generating from val:  75%|█████████████████████████████████████████████████████████████████▎                     | 3/4 [00:18<00:06,  6.16s/it]\u001b[A\n",
      "generating from val: 100%|███████████████████████████████████████████████████████████████████████████████████████| 4/4 [00:24<00:00,  5.96s/it]\u001b[A\n",
      "                                                                                                                                               \u001b[AWarning: Empty reference sentence detected; setting raw BERTScores to 0.\n",
      " 20%|█████████████████████▋                                                                                    | 10/49 [09:26<47:03, 72.40s/it]"
     ]
    },
    {
     "name": "stdout",
     "output_type": "stream",
     "text": [
      "[pred] The ex-Reading defender denied charges related to fraudulent trading with the Sodje Sports Foundation - a charity which is to raise money for\n",
      "[true] The ex-Reading defender denied fraudulent trading charges relating to the Sodje Sports Foundation - a charity to raise money for Nigerian\n",
      "\n",
      "\n",
      "\n",
      "[pred] Voges was forced to retire hurt after suffering an injury on 5 June and then batting at 86 for Somerset in the County Championship. Middlesex\n",
      "[true] Voges was forced to retire hurt on 86 after suffering the injury while batting during the County Championship draw with Somerset on 4 June. Middlesex\n",
      "\n",
      "\n",
      "\n",
      "[pred] Seven photographs taken in the Norfolk countryside by photographer Josh Olins will appear in a June edition of the magazine. In her first sitting, the du\n",
      "[true] Seven photographs taken in the Norfolk countryside by photographer Josh Olins will appear in the June edition. In her first sitting for a magazine, the du\n",
      "setting preds_emb\n",
      "*** round 11\n"
     ]
    },
    {
     "name": "stderr",
     "output_type": "stream",
     "text": [
      "\n",
      "generating from val:   0%|                                                                                               | 0/4 [00:00<?, ?it/s]\u001b[A\n",
      "generating from val:  25%|█████████████████████▊                                                                 | 1/4 [00:06<00:19,  6.52s/it]\u001b[A\n",
      "generating from val:  50%|███████████████████████████████████████████▌                                           | 2/4 [00:13<00:13,  6.83s/it]\u001b[A\n",
      "generating from val:  75%|█████████████████████████████████████████████████████████████████▎                     | 3/4 [00:20<00:06,  6.73s/it]\u001b[A\n",
      "generating from val: 100%|███████████████████████████████████████████████████████████████████████████████████████| 4/4 [00:26<00:00,  6.58s/it]\u001b[A\n",
      "                                                                                                                                               \u001b[A"
     ]
    },
    {
     "name": "stdout",
     "output_type": "stream",
     "text": [
      "[pred] to the character of the sutures of the skull, which, like those of the infant skull, are relatively smooth and untortuous. In\n",
      "[true] to the character of the sutures of the skull which, like those of the infant skull, are relatively smooth and untortuous. In fact\n",
      "\n",
      "\n",
      "\n",
      "[pred] individual from the Southern Hemisphere, to win a Winter Olympic gold medal and was also part of the short track relay team that won Australia'\n",
      "[true] individual from the Southern Hemisphere, to win a Winter Olympic gold medal and was also part of the short track relay team that won Australia'\n",
      "\n",
      "\n",
      "\n",
      "[pred] the same rights as straight people, while 15% disagreed. Additionally, 69% agreed that they should be protected from workplace discrimination. 13% of H\n",
      "[true] the same rights as straight people, while 15% disagreed. Additionally, 69% agreed that they should be protected from workplace discrimination. 13% of H\n",
      "setting preds_emb\n"
     ]
    },
    {
     "name": "stderr",
     "output_type": "stream",
     "text": [
      "\n",
      "generating from val:   0%|                                                                                               | 0/4 [00:00<?, ?it/s]\u001b[A\n",
      "generating from val:  25%|█████████████████████▊                                                                 | 1/4 [00:06<00:19,  6.58s/it]\u001b[A\n",
      "generating from val:  50%|███████████████████████████████████████████▌                                           | 2/4 [00:13<00:13,  6.52s/it]\u001b[A\n",
      "generating from val:  75%|█████████████████████████████████████████████████████████████████▎                     | 3/4 [00:19<00:06,  6.43s/it]\u001b[A\n",
      "generating from val: 100%|███████████████████████████████████████████████████████████████████████████████████████| 4/4 [00:25<00:00,  6.40s/it]\u001b[A\n",
      "                                                                                                                                               \u001b[A"
     ]
    },
    {
     "name": "stdout",
     "output_type": "stream",
     "text": [
      "[pred] we study the phase behavior of a nematic liquid crystal confined between a flat substrate and a patterned substrate with strong anchoring\n",
      "[true] we study the phase behavior of a nematic liquid crystal confined between a flat substrate with strong anchoring and a patterned substrate\n",
      "\n",
      "\n",
      "\n",
      "[pred] determining the scaling relations between galaxy clusters requires large samples of uniformly observed observables - clusters we measure the mean x-\n",
      "[true] determining the scaling relations between galaxy cluster observables requires large samples of uniformly observed clusters. we measure the mean x -\n",
      "\n",
      "\n",
      "\n",
      "[pred] we show how to control spatial correlations in a quantum parametric multimode degenerate optical oscillator type above a threshold i\n",
      "[true] we show how to control spatial quantum correlations in a multimode degenerate optical parametric oscillator type i below threshold by \n",
      "setting preds_emb\n"
     ]
    },
    {
     "name": "stderr",
     "output_type": "stream",
     "text": [
      "\n",
      "generating from val:   0%|                                                                                               | 0/4 [00:00<?, ?it/s]\u001b[A\n",
      "generating from val:  25%|█████████████████████▊                                                                 | 1/4 [00:06<00:18,  6.24s/it]\u001b[A\n",
      "generating from val:  50%|███████████████████████████████████████████▌                                           | 2/4 [00:12<00:12,  6.49s/it]\u001b[A\n",
      "generating from val:  75%|█████████████████████████████████████████████████████████████████▎                     | 3/4 [00:19<00:06,  6.51s/it]\u001b[A\n",
      "generating from val: 100%|███████████████████████████████████████████████████████████████████████████████████████| 4/4 [00:25<00:00,  6.42s/it]\u001b[A\n",
      "                                                                                                                                               \u001b[AWarning: Empty reference sentence detected; setting raw BERTScores to 0.\n",
      " 22%|███████████████████████▊                                                                                  | 11/49 [10:59<49:50, 78.70s/it]"
     ]
    },
    {
     "name": "stdout",
     "output_type": "stream",
     "text": [
      "[pred] The ex-Reading defender denied charges of fraudulent trading to the Sodje Sports Foundation - a charity that raises money for Nigerian\n",
      "[true] The ex-Reading defender denied fraudulent trading charges relating to the Sodje Sports Foundation - a charity to raise money for Nigerian\n",
      "\n",
      "\n",
      "\n",
      "[pred] Voges was forced to retire hurt on 4 June after batting at 86 against Somerset in the County Championship. After suffering injury while, Middles\n",
      "[true] Voges was forced to retire hurt on 86 after suffering the injury while batting during the County Championship draw with Somerset on 4 June. Middlesex\n",
      "\n",
      "\n",
      "\n",
      "[pred] Seven photographs taken in the Norfolk countryside by photographer Josh Olins will appear in the June edition. In her first sitting in the magazine, a du\n",
      "[true] Seven photographs taken in the Norfolk countryside by photographer Josh Olins will appear in the June edition. In her first sitting for a magazine, the du\n",
      "setting preds_emb\n",
      "*** round 12\n"
     ]
    },
    {
     "name": "stderr",
     "output_type": "stream",
     "text": [
      "\n",
      "generating from val:   0%|                                                                                               | 0/4 [00:00<?, ?it/s]\u001b[A\n",
      "generating from val:  25%|█████████████████████▊                                                                 | 1/4 [00:06<00:20,  6.97s/it]\u001b[A\n",
      "generating from val:  50%|███████████████████████████████████████████▌                                           | 2/4 [00:13<00:13,  6.96s/it]\u001b[A\n",
      "generating from val:  75%|█████████████████████████████████████████████████████████████████▎                     | 3/4 [00:20<00:06,  6.91s/it]\u001b[A\n",
      "generating from val: 100%|███████████████████████████████████████████████████████████████████████████████████████| 4/4 [00:27<00:00,  6.80s/it]\u001b[A\n",
      "                                                                                                                                               \u001b[A"
     ]
    },
    {
     "name": "stdout",
     "output_type": "stream",
     "text": [
      "[pred] to the character of the sutures of the skull, which, like those of the infant skull, are relatively smooth and untortuous. In\n",
      "[true] to the character of the sutures of the skull which, like those of the infant skull, are relatively smooth and untortuous. In fact\n",
      "\n",
      "\n",
      "\n",
      "[pred] individual from the Southern Hemisphere, to win a Winter Olympic gold medal and was also part of the short track relay team that won Australia'\n",
      "[true] individual from the Southern Hemisphere, to win a Winter Olympic gold medal and was also part of the short track relay team that won Australia'\n",
      "\n",
      "\n",
      "\n",
      "[pred] the same rights as straight people, while 15% disagreed. Additionally, 69% agreed that they should be protected from workplace discrimination. 13% of H\n",
      "[true] the same rights as straight people, while 15% disagreed. Additionally, 69% agreed that they should be protected from workplace discrimination. 13% of H\n",
      "setting preds_emb\n"
     ]
    },
    {
     "name": "stderr",
     "output_type": "stream",
     "text": [
      "\n",
      "generating from val:   0%|                                                                                               | 0/4 [00:00<?, ?it/s]\u001b[A\n",
      "generating from val:  25%|█████████████████████▊                                                                 | 1/4 [00:07<00:21,  7.04s/it]\u001b[A\n",
      "generating from val:  50%|███████████████████████████████████████████▌                                           | 2/4 [00:14<00:14,  7.01s/it]\u001b[A\n",
      "generating from val:  75%|█████████████████████████████████████████████████████████████████▎                     | 3/4 [00:20<00:06,  6.98s/it]\u001b[A\n",
      "generating from val: 100%|███████████████████████████████████████████████████████████████████████████████████████| 4/4 [00:27<00:00,  6.94s/it]\u001b[A\n",
      "                                                                                                                                               \u001b[A"
     ]
    },
    {
     "name": "stdout",
     "output_type": "stream",
     "text": [
      "[pred] we study the phase behavior of a nematic liquid crystal confined between a patterned substrate and a flat substrate with strong anchoring\n",
      "[true] we study the phase behavior of a nematic liquid crystal confined between a flat substrate with strong anchoring and a patterned substrate\n",
      "\n",
      "\n",
      "\n",
      "[pred] determining the scaling relations between galaxy clusters requires large samples of uniformly observed clusters. we measure the mean observable x -\n",
      "[true] determining the scaling relations between galaxy cluster observables requires large samples of uniformly observed clusters. we measure the mean x -\n",
      "\n",
      "\n",
      "\n",
      "[pred] we show how to control spatial correlations in a degenerate quantum parametric multimode optical oscillator in type below threshold i \n",
      "[true] we show how to control spatial quantum correlations in a multimode degenerate optical parametric oscillator type i below threshold by \n",
      "setting preds_emb\n"
     ]
    },
    {
     "name": "stderr",
     "output_type": "stream",
     "text": [
      "\n",
      "generating from val:   0%|                                                                                               | 0/4 [00:00<?, ?it/s]\u001b[A\n",
      "generating from val:  25%|█████████████████████▊                                                                 | 1/4 [00:07<00:21,  7.01s/it]\u001b[A\n",
      "generating from val:  50%|███████████████████████████████████████████▌                                           | 2/4 [00:14<00:14,  7.01s/it]\u001b[A\n",
      "generating from val:  75%|█████████████████████████████████████████████████████████████████▎                     | 3/4 [00:21<00:07,  7.05s/it]\u001b[A\n",
      "generating from val: 100%|███████████████████████████████████████████████████████████████████████████████████████| 4/4 [00:28<00:00,  6.99s/it]\u001b[A\n",
      "                                                                                                                                               \u001b[AWarning: Empty reference sentence detected; setting raw BERTScores to 0.\n",
      " 24%|█████████████████████████▉                                                                                | 12/49 [12:38<52:14, 84.71s/it]"
     ]
    },
    {
     "name": "stdout",
     "output_type": "stream",
     "text": [
      "[pred] The ex-Reading defender denied fraudulent charges related to the Sodje Sports Foundation - a charity which is to raise money for Nigerian\n",
      "[true] The ex-Reading defender denied fraudulent trading charges relating to the Sodje Sports Foundation - a charity to raise money for Nigerian\n",
      "\n",
      "\n",
      "\n",
      "[pred] Voges was forced to retire hurt on 15 June after batting at 66 for Somerset in the County Championship. Suffering injury, Middlesex\n",
      "[true] Voges was forced to retire hurt on 86 after suffering the injury while batting during the County Championship draw with Somerset on 4 June. Middlesex\n",
      "\n",
      "\n",
      "\n",
      "[pred] Seven photographs taken in the Norfolk countryside by photographer Josh Olins will appear in the June edition. In her first sitting for the magazine, a du\n",
      "[true] Seven photographs taken in the Norfolk countryside by photographer Josh Olins will appear in the June edition. In her first sitting for a magazine, the du\n",
      "setting preds_emb\n",
      "*** round 13\n"
     ]
    },
    {
     "name": "stderr",
     "output_type": "stream",
     "text": [
      "\n",
      "generating from val:   0%|                                                                                               | 0/4 [00:00<?, ?it/s]\u001b[A\n",
      "generating from val:  25%|█████████████████████▊                                                                 | 1/4 [00:07<00:22,  7.49s/it]\u001b[A\n",
      "generating from val:  50%|███████████████████████████████████████████▌                                           | 2/4 [00:14<00:14,  7.42s/it]\u001b[A\n",
      "generating from val:  75%|█████████████████████████████████████████████████████████████████▎                     | 3/4 [00:22<00:07,  7.40s/it]\u001b[A\n",
      "generating from val: 100%|███████████████████████████████████████████████████████████████████████████████████████| 4/4 [00:29<00:00,  7.35s/it]\u001b[A\n",
      "                                                                                                                                               \u001b[A"
     ]
    },
    {
     "name": "stdout",
     "output_type": "stream",
     "text": [
      "[pred] to the character of the sutures of the skull, which, like those of the infant skull, are relatively smooth and untortuous. In\n",
      "[true] to the character of the sutures of the skull which, like those of the infant skull, are relatively smooth and untortuous. In fact\n",
      "\n",
      "\n",
      "\n",
      "[pred] individual from the Southern Hemisphere, to win a Winter Olympic gold medal and was also part of the short track relay team that won Australia'\n",
      "[true] individual from the Southern Hemisphere, to win a Winter Olympic gold medal and was also part of the short track relay team that won Australia'\n",
      "\n",
      "\n",
      "\n",
      "[pred] the same rights as straight people, while 15% disagreed. Additionally, 69% agreed that they should be protected from workplace discrimination. 13% of H\n",
      "[true] the same rights as straight people, while 15% disagreed. Additionally, 69% agreed that they should be protected from workplace discrimination. 13% of H\n",
      "setting preds_emb\n"
     ]
    },
    {
     "name": "stderr",
     "output_type": "stream",
     "text": [
      "\n",
      "generating from val:   0%|                                                                                               | 0/4 [00:00<?, ?it/s]\u001b[A\n",
      "generating from val:  25%|█████████████████████▊                                                                 | 1/4 [00:07<00:23,  7.82s/it]\u001b[A\n",
      "generating from val:  50%|███████████████████████████████████████████▌                                           | 2/4 [00:15<00:15,  7.54s/it]\u001b[A\n",
      "generating from val:  75%|█████████████████████████████████████████████████████████████████▎                     | 3/4 [00:22<00:07,  7.48s/it]\u001b[A\n",
      "generating from val: 100%|███████████████████████████████████████████████████████████████████████████████████████| 4/4 [00:29<00:00,  7.34s/it]\u001b[A\n",
      "                                                                                                                                               \u001b[A"
     ]
    },
    {
     "name": "stdout",
     "output_type": "stream",
     "text": [
      "[pred] we study the phase behavior of a nematic liquid crystal confined between a flat substrate and a patterned substrate with strong anchoring\n",
      "[true] we study the phase behavior of a nematic liquid crystal confined between a flat substrate with strong anchoring and a patterned substrate\n",
      "\n",
      "\n",
      "\n",
      "[pred] determining the scaling relations between galaxy clusters requires large samples of uniformly observed clusters. We measure the mean observables x-\n",
      "[true] determining the scaling relations between galaxy cluster observables requires large samples of uniformly observed clusters. we measure the mean x -\n",
      "\n",
      "\n",
      "\n",
      "[pred] we show how to control spatial correlations in a quantum degenerate parametric multimode optical oscillator type below threshold i -\n",
      "[true] we show how to control spatial quantum correlations in a multimode degenerate optical parametric oscillator type i below threshold by \n",
      "setting preds_emb\n"
     ]
    },
    {
     "name": "stderr",
     "output_type": "stream",
     "text": [
      "\n",
      "generating from val:   0%|                                                                                               | 0/4 [00:00<?, ?it/s]\u001b[A\n",
      "generating from val:  25%|█████████████████████▊                                                                 | 1/4 [00:07<00:22,  7.56s/it]\u001b[A\n",
      "generating from val:  50%|███████████████████████████████████████████▌                                           | 2/4 [00:15<00:15,  7.60s/it]\u001b[A\n",
      "generating from val:  75%|█████████████████████████████████████████████████████████████████▎                     | 3/4 [00:22<00:07,  7.66s/it]\u001b[A\n",
      "generating from val: 100%|███████████████████████████████████████████████████████████████████████████████████████| 4/4 [00:30<00:00,  7.56s/it]\u001b[A\n",
      "                                                                                                                                               \u001b[AWarning: Empty reference sentence detected; setting raw BERTScores to 0.\n",
      " 27%|████████████████████████████                                                                              | 13/49 [14:23<54:31, 90.87s/it]"
     ]
    },
    {
     "name": "stdout",
     "output_type": "stream",
     "text": [
      "[pred] The ex-Reading defender denied fraudulent charges of trading with the Sodje Sports Foundation - a charity aimed at raising money for Nigeria\n",
      "[true] The ex-Reading defender denied fraudulent trading charges relating to the Sodje Sports Foundation - a charity to raise money for Nigerian\n",
      "\n",
      "\n",
      "\n",
      "[pred] Voges was forced to retire hurt on 4 June after batting at 86 for Somerset while suffering injury in the County Championship. The Middlesex super\n",
      "[true] Voges was forced to retire hurt on 86 after suffering the injury while batting during the County Championship draw with Somerset on 4 June. Middlesex\n",
      "\n",
      "\n",
      "\n",
      "[pred] Seven photographs taken in the Norfolk countryside by photographer Josh Olins will appear in the June edition. In her first sitting for the magazine, a du\n",
      "[true] Seven photographs taken in the Norfolk countryside by photographer Josh Olins will appear in the June edition. In her first sitting for a magazine, the du\n",
      "setting preds_emb\n",
      "*** round 14\n"
     ]
    },
    {
     "name": "stderr",
     "output_type": "stream",
     "text": [
      "\n",
      "generating from val:   0%|                                                                                               | 0/4 [00:00<?, ?it/s]\u001b[A\n",
      "generating from val:  25%|█████████████████████▊                                                                 | 1/4 [00:08<00:24,  8.25s/it]\u001b[A\n",
      "generating from val:  50%|███████████████████████████████████████████▌                                           | 2/4 [00:16<00:16,  8.30s/it]\u001b[A\n",
      "generating from val:  75%|█████████████████████████████████████████████████████████████████▎                     | 3/4 [00:24<00:08,  8.17s/it]\u001b[A\n",
      "generating from val: 100%|███████████████████████████████████████████████████████████████████████████████████████| 4/4 [00:32<00:00,  7.96s/it]\u001b[A\n",
      "                                                                                                                                               \u001b[A"
     ]
    },
    {
     "name": "stdout",
     "output_type": "stream",
     "text": [
      "[pred] to the character of the sutures of the skull, which, like those of the infant skull, are relatively smooth and untortuous. In\n",
      "[true] to the character of the sutures of the skull which, like those of the infant skull, are relatively smooth and untortuous. In fact\n",
      "\n",
      "\n",
      "\n",
      "[pred] individual from the Southern Hemisphere, to win a Winter Olympic gold medal and was also part of the short track relay team that won Australia'\n",
      "[true] individual from the Southern Hemisphere, to win a Winter Olympic gold medal and was also part of the short track relay team that won Australia'\n",
      "\n",
      "\n",
      "\n",
      "[pred] the same rights as straight people, while 15% disagreed. Additionally, 69% agreed that they should be protected from workplace discrimination. 13% of H\n",
      "[true] the same rights as straight people, while 15% disagreed. Additionally, 69% agreed that they should be protected from workplace discrimination. 13% of H\n",
      "setting preds_emb\n"
     ]
    },
    {
     "name": "stderr",
     "output_type": "stream",
     "text": [
      "\n",
      "generating from val:   0%|                                                                                               | 0/4 [00:00<?, ?it/s]\u001b[A\n",
      "generating from val:  25%|█████████████████████▊                                                                 | 1/4 [00:08<00:24,  8.30s/it]\u001b[A\n",
      "generating from val:  50%|███████████████████████████████████████████▌                                           | 2/4 [00:16<00:16,  8.24s/it]\u001b[A\n",
      "generating from val:  75%|█████████████████████████████████████████████████████████████████▎                     | 3/4 [00:24<00:08,  8.12s/it]\u001b[A\n",
      "generating from val: 100%|███████████████████████████████████████████████████████████████████████████████████████| 4/4 [00:32<00:00,  8.01s/it]\u001b[A\n",
      "                                                                                                                                               \u001b[A"
     ]
    },
    {
     "name": "stdout",
     "output_type": "stream",
     "text": [
      "[pred] we study the phase behavior of a nematic liquid crystal confined between a patterned substrate and a flat substrate with strong anchoring\n",
      "[true] we study the phase behavior of a nematic liquid crystal confined between a flat substrate with strong anchoring and a patterned substrate\n",
      "\n",
      "\n",
      "\n",
      "[pred] determining the scaling relations between galaxy clusters requires large samples of uniformly observed clusters. We measure the mean observable x -\n",
      "[true] determining the scaling relations between galaxy cluster observables requires large samples of uniformly observed clusters. we measure the mean x -\n",
      "\n",
      "\n",
      "\n",
      "[pred] we show how to control spatial correlations in a quantum degenerate parametric multimode optical oscillator type below a threshold i\n",
      "[true] we show how to control spatial quantum correlations in a multimode degenerate optical parametric oscillator type i below threshold by \n",
      "setting preds_emb\n"
     ]
    },
    {
     "name": "stderr",
     "output_type": "stream",
     "text": [
      "\n",
      "generating from val:   0%|                                                                                               | 0/4 [00:00<?, ?it/s]\u001b[A\n",
      "generating from val:  25%|█████████████████████▊                                                                 | 1/4 [00:08<00:25,  8.37s/it]\u001b[A\n",
      "generating from val:  50%|███████████████████████████████████████████▌                                           | 2/4 [00:16<00:16,  8.15s/it]\u001b[A\n",
      "generating from val:  75%|█████████████████████████████████████████████████████████████████▎                     | 3/4 [00:24<00:08,  8.07s/it]\u001b[A\n",
      "generating from val: 100%|███████████████████████████████████████████████████████████████████████████████████████| 4/4 [00:31<00:00,  7.86s/it]\u001b[A\n",
      "                                                                                                                                               \u001b[AWarning: Empty reference sentence detected; setting raw BERTScores to 0.\n",
      " 29%|██████████████████████████████▎                                                                           | 14/49 [16:14<56:36, 97.06s/it]"
     ]
    },
    {
     "name": "stdout",
     "output_type": "stream",
     "text": [
      "[pred] The ex-Reading defender denied fraudulent charges of trading to the Sodje Sports Foundation - a charity which was to raise money for Nigeria\n",
      "[true] The ex-Reading defender denied fraudulent trading charges relating to the Sodje Sports Foundation - a charity to raise money for Nigerian\n",
      "\n",
      "\n",
      "\n",
      "[pred] Voges was forced to retire hurt on 4 June after batting at 86 during the County Championship draw with Middlesex. After suffering injury, Somerset\n",
      "[true] Voges was forced to retire hurt on 86 after suffering the injury while batting during the County Championship draw with Somerset on 4 June. Middlesex\n",
      "\n",
      "\n",
      "\n",
      "[pred] Seven photographs taken in the Norfolk countryside by photographer Josh Olins will appear in the June edition. In her first sitting for the magazine, a du\n",
      "[true] Seven photographs taken in the Norfolk countryside by photographer Josh Olins will appear in the June edition. In her first sitting for a magazine, the du\n",
      "setting preds_emb\n",
      "*** round 15\n"
     ]
    },
    {
     "name": "stderr",
     "output_type": "stream",
     "text": [
      "\n",
      "generating from val:   0%|                                                                                               | 0/4 [00:00<?, ?it/s]\u001b[A\n",
      "generating from val:  25%|█████████████████████▊                                                                 | 1/4 [00:08<00:26,  8.96s/it]\u001b[A\n",
      "generating from val:  50%|███████████████████████████████████████████▌                                           | 2/4 [00:17<00:17,  8.85s/it]\u001b[A\n",
      "generating from val:  75%|█████████████████████████████████████████████████████████████████▎                     | 3/4 [00:26<00:08,  8.74s/it]\u001b[A\n",
      "generating from val: 100%|███████████████████████████████████████████████████████████████████████████████████████| 4/4 [00:34<00:00,  8.59s/it]\u001b[A\n",
      "                                                                                                                                               \u001b[A"
     ]
    },
    {
     "name": "stdout",
     "output_type": "stream",
     "text": [
      "[pred] to the character of the sutures of the skull, which, like those of the infant skull, are relatively smooth and untortuous. In\n",
      "[true] to the character of the sutures of the skull which, like those of the infant skull, are relatively smooth and untortuous. In fact\n",
      "\n",
      "\n",
      "\n",
      "[pred] individual from the Southern Hemisphere, to win a Winter Olympic gold medal and was also part of the short track relay team that won Australia'\n",
      "[true] individual from the Southern Hemisphere, to win a Winter Olympic gold medal and was also part of the short track relay team that won Australia'\n",
      "\n",
      "\n",
      "\n",
      "[pred] the same rights as straight people, while 15% disagreed. Additionally, 69% agreed that they should be protected from workplace discrimination. 13% of H\n",
      "[true] the same rights as straight people, while 15% disagreed. Additionally, 69% agreed that they should be protected from workplace discrimination. 13% of H\n",
      "setting preds_emb\n"
     ]
    },
    {
     "name": "stderr",
     "output_type": "stream",
     "text": [
      "\n",
      "generating from val:   0%|                                                                                               | 0/4 [00:00<?, ?it/s]\u001b[A\n",
      "generating from val:  25%|█████████████████████▊                                                                 | 1/4 [00:08<00:26,  8.87s/it]\u001b[A\n",
      "generating from val:  50%|███████████████████████████████████████████▌                                           | 2/4 [00:17<00:17,  8.83s/it]\u001b[A\n",
      "generating from val:  75%|█████████████████████████████████████████████████████████████████▎                     | 3/4 [00:26<00:08,  8.83s/it]\u001b[A\n",
      "generating from val: 100%|███████████████████████████████████████████████████████████████████████████████████████| 4/4 [00:34<00:00,  8.59s/it]\u001b[A\n",
      "                                                                                                                                               \u001b[A"
     ]
    },
    {
     "name": "stdout",
     "output_type": "stream",
     "text": [
      "[pred] we study the phase behavior of a nematic liquid crystal confined between a flat substrate and a patterned substrate with strong anchoring\n",
      "[true] we study the phase behavior of a nematic liquid crystal confined between a flat substrate with strong anchoring and a patterned substrate\n",
      "\n",
      "\n",
      "\n",
      "[pred] determining the scaling relations between galaxy clusters requires large samples of uniformly observed clusters. we measure the mean observables x-\n",
      "[true] determining the scaling relations between galaxy cluster observables requires large samples of uniformly observed clusters. we measure the mean x -\n",
      "\n",
      "\n",
      "\n",
      "[pred] we show how to control spatial correlations in a degenerate quantum parametric multimode optical oscillator type below threshold by a \n",
      "[true] we show how to control spatial quantum correlations in a multimode degenerate optical parametric oscillator type i below threshold by \n",
      "setting preds_emb\n"
     ]
    },
    {
     "name": "stderr",
     "output_type": "stream",
     "text": [
      "\n",
      "generating from val:   0%|                                                                                               | 0/4 [00:00<?, ?it/s]\u001b[A\n",
      "generating from val:  25%|█████████████████████▊                                                                 | 1/4 [00:08<00:25,  8.48s/it]\u001b[A\n",
      "generating from val:  50%|███████████████████████████████████████████▌                                           | 2/4 [00:17<00:17,  8.62s/it]\u001b[A\n",
      "generating from val:  75%|█████████████████████████████████████████████████████████████████▎                     | 3/4 [00:25<00:08,  8.64s/it]\u001b[A\n",
      "generating from val: 100%|███████████████████████████████████████████████████████████████████████████████████████| 4/4 [00:34<00:00,  8.49s/it]\u001b[A\n",
      "                                                                                                                                               \u001b[AWarning: Empty reference sentence detected; setting raw BERTScores to 0.\n",
      " 31%|████████████████████████████████▏                                                                        | 15/49 [18:13<58:43, 103.64s/it]"
     ]
    },
    {
     "name": "stdout",
     "output_type": "stream",
     "text": [
      "[pred] The ex-Reading defender denied fraudulent charges of trading for the Sodje Sports Foundation - a charity which is to raise money for Nigeria\n",
      "[true] The ex-Reading defender denied fraudulent trading charges relating to the Sodje Sports Foundation - a charity to raise money for Nigerian\n",
      "\n",
      "\n",
      "\n",
      "[pred] Voges was forced to retire hurt after batting at 89 for Middlesex during the County Championship draw on 4 June and suffering an injury. Somerset\n",
      "[true] Voges was forced to retire hurt on 86 after suffering the injury while batting during the County Championship draw with Somerset on 4 June. Middlesex\n",
      "\n",
      "\n",
      "\n",
      "[pred] Seven photographs taken in the Norfolk countryside by photographer Josh Olins will appear in the June edition. In her first sitting for the magazine, a du\n",
      "[true] Seven photographs taken in the Norfolk countryside by photographer Josh Olins will appear in the June edition. In her first sitting for a magazine, the du\n",
      "setting preds_emb\n",
      "*** round 16\n"
     ]
    },
    {
     "name": "stderr",
     "output_type": "stream",
     "text": [
      "\n",
      "generating from val:   0%|                                                                                               | 0/4 [00:00<?, ?it/s]\u001b[A\n",
      "generating from val:  25%|█████████████████████▊                                                                 | 1/4 [00:09<00:28,  9.52s/it]\u001b[A\n",
      "generating from val:  50%|███████████████████████████████████████████▌                                           | 2/4 [00:18<00:18,  9.47s/it]\u001b[A\n",
      "generating from val:  75%|█████████████████████████████████████████████████████████████████▎                     | 3/4 [00:28<00:09,  9.34s/it]\u001b[A\n",
      "generating from val: 100%|███████████████████████████████████████████████████████████████████████████████████████| 4/4 [00:36<00:00,  9.14s/it]\u001b[A\n",
      "                                                                                                                                               \u001b[A"
     ]
    },
    {
     "name": "stdout",
     "output_type": "stream",
     "text": [
      "[pred] to the character of the sutures of the skull, which, like those of the infant skull, are relatively smooth and untortuous. In\n",
      "[true] to the character of the sutures of the skull which, like those of the infant skull, are relatively smooth and untortuous. In fact\n",
      "\n",
      "\n",
      "\n",
      "[pred] individual from the Southern Hemisphere, to win a Winter Olympic gold medal and was also part of the short track relay team that won Australia'\n",
      "[true] individual from the Southern Hemisphere, to win a Winter Olympic gold medal and was also part of the short track relay team that won Australia'\n",
      "\n",
      "\n",
      "\n",
      "[pred] the same rights as straight people, while 15% disagreed. Additionally, 69% agreed that they should be protected from workplace discrimination. 13% of H\n",
      "[true] the same rights as straight people, while 15% disagreed. Additionally, 69% agreed that they should be protected from workplace discrimination. 13% of H\n",
      "setting preds_emb\n"
     ]
    },
    {
     "name": "stderr",
     "output_type": "stream",
     "text": [
      "\n",
      "generating from val:   0%|                                                                                               | 0/4 [00:00<?, ?it/s]\u001b[A\n",
      "generating from val:  25%|█████████████████████▊                                                                 | 1/4 [00:09<00:27,  9.23s/it]\u001b[A\n",
      "generating from val:  50%|███████████████████████████████████████████▌                                           | 2/4 [00:18<00:18,  9.30s/it]\u001b[A\n",
      "generating from val:  75%|█████████████████████████████████████████████████████████████████▎                     | 3/4 [00:27<00:09,  9.35s/it]\u001b[A\n",
      "generating from val: 100%|███████████████████████████████████████████████████████████████████████████████████████| 4/4 [00:36<00:00,  9.21s/it]\u001b[A\n",
      "                                                                                                                                               \u001b[A"
     ]
    },
    {
     "name": "stdout",
     "output_type": "stream",
     "text": [
      "[pred] we study the phase behavior of a nematic liquid crystal confined between a patterned substrate and a flat substrate with strong anchoring\n",
      "[true] we study the phase behavior of a nematic liquid crystal confined between a flat substrate with strong anchoring and a patterned substrate\n",
      "\n",
      "\n",
      "\n",
      "[pred] determining the scaling relations between galaxy clusters requires large samples of uniformly observed clusters. We measure the mean observable x -\n",
      "[true] determining the scaling relations between galaxy cluster observables requires large samples of uniformly observed clusters. we measure the mean x -\n",
      "\n",
      "\n",
      "\n",
      "[pred] we show how to control spatial correlations in a degenerate quantum parametric multimode optical oscillator type I below threshold by a\n",
      "[true] we show how to control spatial quantum correlations in a multimode degenerate optical parametric oscillator type i below threshold by \n",
      "setting preds_emb\n"
     ]
    },
    {
     "name": "stderr",
     "output_type": "stream",
     "text": [
      "\n",
      "generating from val:   0%|                                                                                               | 0/4 [00:00<?, ?it/s]\u001b[A\n",
      "generating from val:  25%|█████████████████████▊                                                                 | 1/4 [00:09<00:27,  9.24s/it]\u001b[A\n",
      "generating from val:  50%|███████████████████████████████████████████▌                                           | 2/4 [00:18<00:18,  9.13s/it]\u001b[A\n",
      "generating from val:  75%|█████████████████████████████████████████████████████████████████▎                     | 3/4 [00:27<00:09,  9.13s/it]\u001b[A\n",
      "generating from val: 100%|███████████████████████████████████████████████████████████████████████████████████████| 4/4 [00:36<00:00,  9.00s/it]\u001b[A\n",
      "                                                                                                                                               \u001b[AWarning: Empty reference sentence detected; setting raw BERTScores to 0.\n",
      " 33%|█████████████████████████████████▋                                                                     | 16/49 [20:19<1:00:44, 110.45s/it]"
     ]
    },
    {
     "name": "stdout",
     "output_type": "stream",
     "text": [
      "[pred] The ex-Reading defender denied fraudulent charges of trading for the Sodje Sports Foundation - a charity which raised money for Nigerian financial\n",
      "[true] The ex-Reading defender denied fraudulent trading charges relating to the Sodje Sports Foundation - a charity to raise money for Nigerian\n",
      "\n",
      "\n",
      "\n",
      "[pred] Voges was forced to retire hurt after suffering a 167 injury while batting with Middlesex on 4 June in the County Championship draw. Somerset\n",
      "[true] Voges was forced to retire hurt on 86 after suffering the injury while batting during the County Championship draw with Somerset on 4 June. Middlesex\n",
      "\n",
      "\n",
      "\n",
      "[pred] Seven photographs taken in the Norfolk countryside by photographer Josh Olins will appear in the June edition. In her first sitting for the magazine, a du\n",
      "[true] Seven photographs taken in the Norfolk countryside by photographer Josh Olins will appear in the June edition. In her first sitting for a magazine, the du\n",
      "setting preds_emb\n",
      "*** round 17\n"
     ]
    },
    {
     "name": "stderr",
     "output_type": "stream",
     "text": [
      "\n",
      "generating from val:   0%|                                                                                               | 0/4 [00:00<?, ?it/s]\u001b[A\n",
      "generating from val:  25%|█████████████████████▊                                                                 | 1/4 [00:09<00:29,  9.75s/it]\u001b[A\n",
      "generating from val:  50%|███████████████████████████████████████████▌                                           | 2/4 [00:19<00:19,  9.93s/it]\u001b[A\n",
      "generating from val:  75%|█████████████████████████████████████████████████████████████████▎                     | 3/4 [00:29<00:09,  9.89s/it]\u001b[A\n",
      "generating from val: 100%|███████████████████████████████████████████████████████████████████████████████████████| 4/4 [00:39<00:00,  9.82s/it]\u001b[A\n",
      "                                                                                                                                               \u001b[A"
     ]
    },
    {
     "name": "stdout",
     "output_type": "stream",
     "text": [
      "[pred] to the character of the sutures of the skull, which, like those of the infant skull, are relatively smooth and untortuous. In\n",
      "[true] to the character of the sutures of the skull which, like those of the infant skull, are relatively smooth and untortuous. In fact\n",
      "\n",
      "\n",
      "\n",
      "[pred] individual from the Southern Hemisphere, to win a Winter Olympic gold medal and was also part of the short track relay team that won Australia'\n",
      "[true] individual from the Southern Hemisphere, to win a Winter Olympic gold medal and was also part of the short track relay team that won Australia'\n",
      "\n",
      "\n",
      "\n",
      "[pred] the same rights as straight people, while 15% disagreed. Additionally, 69% agreed that they should be protected from workplace discrimination. 13% of H\n",
      "[true] the same rights as straight people, while 15% disagreed. Additionally, 69% agreed that they should be protected from workplace discrimination. 13% of H\n",
      "setting preds_emb\n"
     ]
    },
    {
     "name": "stderr",
     "output_type": "stream",
     "text": [
      "\n",
      "generating from val:   0%|                                                                                               | 0/4 [00:00<?, ?it/s]\u001b[A\n",
      "generating from val:  25%|█████████████████████▊                                                                 | 1/4 [00:09<00:29,  9.89s/it]\u001b[A\n",
      "generating from val:  50%|███████████████████████████████████████████▌                                           | 2/4 [00:19<00:19,  9.78s/it]\u001b[A\n",
      "generating from val:  75%|█████████████████████████████████████████████████████████████████▎                     | 3/4 [00:29<00:09,  9.84s/it]\u001b[A\n",
      "generating from val: 100%|███████████████████████████████████████████████████████████████████████████████████████| 4/4 [00:39<00:00,  9.73s/it]\u001b[A\n",
      "                                                                                                                                               \u001b[A"
     ]
    },
    {
     "name": "stdout",
     "output_type": "stream",
     "text": [
      "[pred] we study the phase behavior of a nematic liquid crystal confined between a flat substrate and a patterned substrate with strong anchoring\n",
      "[true] we study the phase behavior of a nematic liquid crystal confined between a flat substrate with strong anchoring and a patterned substrate\n",
      "\n",
      "\n",
      "\n",
      "[pred] determining the scaling relations between galaxy clusters requires large samples of uniformly observed clusters. we measure the mean observables x-\n",
      "[true] determining the scaling relations between galaxy cluster observables requires large samples of uniformly observed clusters. we measure the mean x -\n",
      "\n",
      "\n",
      "\n",
      "[pred] we show how to control spatial correlations in a degenerate quantum parametric multimode optical oscillator type I below threshold by a\n",
      "[true] we show how to control spatial quantum correlations in a multimode degenerate optical parametric oscillator type i below threshold by \n",
      "setting preds_emb\n"
     ]
    },
    {
     "name": "stderr",
     "output_type": "stream",
     "text": [
      "\n",
      "generating from val:   0%|                                                                                               | 0/4 [00:00<?, ?it/s]\u001b[A\n",
      "generating from val:  25%|█████████████████████▊                                                                 | 1/4 [00:09<00:29,  9.87s/it]\u001b[A\n",
      "generating from val:  50%|███████████████████████████████████████████▌                                           | 2/4 [00:19<00:19,  9.97s/it]\u001b[A\n",
      "generating from val:  75%|█████████████████████████████████████████████████████████████████▎                     | 3/4 [00:30<00:10, 10.06s/it]\u001b[A\n",
      "generating from val: 100%|███████████████████████████████████████████████████████████████████████████████████████| 4/4 [00:39<00:00,  9.88s/it]\u001b[A\n",
      "                                                                                                                                               \u001b[AWarning: Empty reference sentence detected; setting raw BERTScores to 0.\n",
      " 35%|███████████████████████████████████▋                                                                   | 17/49 [22:33<1:02:35, 117.36s/it]"
     ]
    },
    {
     "name": "stdout",
     "output_type": "stream",
     "text": [
      "[pred] The ex-Reading defender denied fraudulent charges for trading for the Sodje Sports Foundation - a charity which raised money for Nigerian financial\n",
      "[true] The ex-Reading defender denied fraudulent trading charges relating to the Sodje Sports Foundation - a charity to raise money for Nigerian\n",
      "\n",
      "\n",
      "\n",
      "[pred] Voges was forced to retire hurt after suffering an injury while batting with Somerset on 6 June in the County Championship draw. After suffering 89, Middle\n",
      "[true] Voges was forced to retire hurt on 86 after suffering the injury while batting during the County Championship draw with Somerset on 4 June. Middlesex\n",
      "\n",
      "\n",
      "\n",
      "[pred] Seven photographs taken in the Norfolk countryside by photographer Josh Olins will appear in the June edition. In her first sitting for the magazine, a du\n",
      "[true] Seven photographs taken in the Norfolk countryside by photographer Josh Olins will appear in the June edition. In her first sitting for a magazine, the du\n",
      "setting preds_emb\n",
      "*** round 18\n"
     ]
    },
    {
     "name": "stderr",
     "output_type": "stream",
     "text": [
      "\n",
      "generating from val:   0%|                                                                                               | 0/4 [00:00<?, ?it/s]\u001b[A\n",
      "generating from val:  25%|█████████████████████▊                                                                 | 1/4 [00:10<00:31, 10.58s/it]\u001b[A\n",
      "generating from val:  50%|███████████████████████████████████████████▌                                           | 2/4 [00:21<00:21, 10.71s/it]\u001b[A\n",
      "generating from val:  75%|█████████████████████████████████████████████████████████████████▎                     | 3/4 [00:32<00:10, 10.69s/it]\u001b[A\n",
      "generating from val: 100%|███████████████████████████████████████████████████████████████████████████████████████| 4/4 [00:41<00:00, 10.33s/it]\u001b[A\n",
      "                                                                                                                                               \u001b[A"
     ]
    },
    {
     "name": "stdout",
     "output_type": "stream",
     "text": [
      "[pred] to the character of the sutures of the skull, which, like those of the infant skull, are relatively smooth and untortuous. In\n",
      "[true] to the character of the sutures of the skull which, like those of the infant skull, are relatively smooth and untortuous. In fact\n",
      "\n",
      "\n",
      "\n",
      "[pred] individual from the Southern Hemisphere, to win a Winter Olympic gold medal and was also part of the short track relay team that won Australia'\n",
      "[true] individual from the Southern Hemisphere, to win a Winter Olympic gold medal and was also part of the short track relay team that won Australia'\n",
      "\n",
      "\n",
      "\n",
      "[pred] the same rights as straight people, while 15% disagreed. Additionally, 69% agreed that they should be protected from workplace discrimination. 13% of H\n",
      "[true] the same rights as straight people, while 15% disagreed. Additionally, 69% agreed that they should be protected from workplace discrimination. 13% of H\n",
      "setting preds_emb\n"
     ]
    },
    {
     "name": "stderr",
     "output_type": "stream",
     "text": [
      "\n",
      "generating from val:   0%|                                                                                               | 0/4 [00:00<?, ?it/s]\u001b[A\n",
      "generating from val:  25%|█████████████████████▊                                                                 | 1/4 [00:10<00:30, 10.26s/it]\u001b[A\n",
      "generating from val:  50%|███████████████████████████████████████████▌                                           | 2/4 [00:20<00:20, 10.17s/it]\u001b[A\n",
      "generating from val:  75%|█████████████████████████████████████████████████████████████████▎                     | 3/4 [00:30<00:10, 10.24s/it]\u001b[A\n",
      "generating from val: 100%|███████████████████████████████████████████████████████████████████████████████████████| 4/4 [00:40<00:00, 10.14s/it]\u001b[A\n",
      "                                                                                                                                               \u001b[A"
     ]
    },
    {
     "name": "stdout",
     "output_type": "stream",
     "text": [
      "[pred] we study the phase behavior of a nematic liquid crystal confined between a patterned substrate and a flat substrate with strong anchoring\n",
      "[true] we study the phase behavior of a nematic liquid crystal confined between a flat substrate with strong anchoring and a patterned substrate\n",
      "\n",
      "\n",
      "\n",
      "[pred] determining the scaling relations between galaxy clusters requires large samples of uniformly observed clusters. We measure the mean observable x -\n",
      "[true] determining the scaling relations between galaxy cluster observables requires large samples of uniformly observed clusters. we measure the mean x -\n",
      "\n",
      "\n",
      "\n",
      "[pred] we show how to control spatial correlations in a degenerate quantum parametric multimode optical oscillator type I below threshold by a\n",
      "[true] we show how to control spatial quantum correlations in a multimode degenerate optical parametric oscillator type i below threshold by \n",
      "setting preds_emb\n"
     ]
    },
    {
     "name": "stderr",
     "output_type": "stream",
     "text": [
      "\n",
      "generating from val:   0%|                                                                                               | 0/4 [00:00<?, ?it/s]\u001b[A\n",
      "generating from val:  25%|█████████████████████▊                                                                 | 1/4 [00:10<00:31, 10.40s/it]\u001b[A\n",
      "generating from val:  50%|███████████████████████████████████████████▌                                           | 2/4 [00:20<00:20, 10.29s/it]\u001b[A\n",
      "generating from val:  75%|█████████████████████████████████████████████████████████████████▎                     | 3/4 [00:30<00:10, 10.30s/it]\u001b[A\n",
      "generating from val: 100%|███████████████████████████████████████████████████████████████████████████████████████| 4/4 [00:40<00:00, 10.19s/it]\u001b[A\n",
      "                                                                                                                                               \u001b[AWarning: Empty reference sentence detected; setting raw BERTScores to 0.\n",
      " 37%|█████████████████████████████████████▊                                                                 | 18/49 [24:51<1:03:53, 123.66s/it]"
     ]
    },
    {
     "name": "stdout",
     "output_type": "stream",
     "text": [
      "[pred] The ex-Reading defender denied fraudulent trading charges for the Sodje Sports Foundation - a charity which was to raise money for Nigerian\n",
      "[true] The ex-Reading defender denied fraudulent trading charges relating to the Sodje Sports Foundation - a charity to raise money for Nigerian\n",
      "\n",
      "\n",
      "\n",
      "[pred] Voges was forced to retire hurt after suffering an injury on 6 June while batting for 86 in the County Championship draw. Middlesex, Somerset\n",
      "[true] Voges was forced to retire hurt on 86 after suffering the injury while batting during the County Championship draw with Somerset on 4 June. Middlesex\n",
      "\n",
      "\n",
      "\n",
      "[pred] Seven photographs taken in the Norfolk countryside by photographer Josh Olins will appear in the June edition. In her first sitting for the magazine, a du\n",
      "[true] Seven photographs taken in the Norfolk countryside by photographer Josh Olins will appear in the June edition. In her first sitting for a magazine, the du\n",
      "setting preds_emb\n",
      "*** round 19\n"
     ]
    },
    {
     "name": "stderr",
     "output_type": "stream",
     "text": [
      "\n",
      "generating from val:   0%|                                                                                               | 0/4 [00:00<?, ?it/s]\u001b[A\n",
      "generating from val:  25%|█████████████████████▊                                                                 | 1/4 [00:10<00:32, 10.83s/it]\u001b[A\n",
      "generating from val:  50%|███████████████████████████████████████████▌                                           | 2/4 [00:21<00:21, 10.72s/it]\u001b[A\n",
      "generating from val:  75%|█████████████████████████████████████████████████████████████████▎                     | 3/4 [00:32<00:10, 10.89s/it]\u001b[A\n",
      "generating from val: 100%|███████████████████████████████████████████████████████████████████████████████████████| 4/4 [00:43<00:00, 10.80s/it]\u001b[A\n",
      "                                                                                                                                               \u001b[A"
     ]
    },
    {
     "name": "stdout",
     "output_type": "stream",
     "text": [
      "[pred] to the character of the sutures of the skull, which, like those of the infant skull, are relatively smooth and untortuous. In\n",
      "[true] to the character of the sutures of the skull which, like those of the infant skull, are relatively smooth and untortuous. In fact\n",
      "\n",
      "\n",
      "\n",
      "[pred] individual from the Southern Hemisphere, to win a Winter Olympic gold medal and was also part of the short track relay team that won Australia'\n",
      "[true] individual from the Southern Hemisphere, to win a Winter Olympic gold medal and was also part of the short track relay team that won Australia'\n",
      "\n",
      "\n",
      "\n",
      "[pred] the same rights as straight people, while 15% disagreed. Additionally, 69% agreed that they should be protected from workplace discrimination. 13% of H\n",
      "[true] the same rights as straight people, while 15% disagreed. Additionally, 69% agreed that they should be protected from workplace discrimination. 13% of H\n",
      "setting preds_emb\n"
     ]
    },
    {
     "name": "stderr",
     "output_type": "stream",
     "text": [
      "\n",
      "generating from val:   0%|                                                                                               | 0/4 [00:00<?, ?it/s]\u001b[A\n",
      "generating from val:  25%|█████████████████████▊                                                                 | 1/4 [00:11<00:34, 11.41s/it]\u001b[A\n",
      "generating from val:  50%|███████████████████████████████████████████▌                                           | 2/4 [00:22<00:22, 11.04s/it]\u001b[A\n",
      "generating from val:  75%|█████████████████████████████████████████████████████████████████▎                     | 3/4 [00:32<00:10, 10.91s/it]\u001b[A\n",
      "generating from val: 100%|███████████████████████████████████████████████████████████████████████████████████████| 4/4 [00:43<00:00, 10.72s/it]\u001b[A\n",
      "                                                                                                                                               \u001b[A"
     ]
    },
    {
     "name": "stdout",
     "output_type": "stream",
     "text": [
      "[pred] we study the phase behavior of a nematic liquid crystal confined between a flat substrate and a patterned substrate with strong anchoring\n",
      "[true] we study the phase behavior of a nematic liquid crystal confined between a flat substrate with strong anchoring and a patterned substrate\n",
      "\n",
      "\n",
      "\n",
      "[pred] determining the scaling relations between galaxy clusters requires large samples of uniformly observed clusters. we measure the mean observables x-\n",
      "[true] determining the scaling relations between galaxy cluster observables requires large samples of uniformly observed clusters. we measure the mean x -\n",
      "\n",
      "\n",
      "\n",
      "[pred] we show how to control spatial correlations in a degenerate quantum parametric multimode optical oscillator type I below threshold by a\n",
      "[true] we show how to control spatial quantum correlations in a multimode degenerate optical parametric oscillator type i below threshold by \n",
      "setting preds_emb\n"
     ]
    },
    {
     "name": "stderr",
     "output_type": "stream",
     "text": [
      "\n",
      "generating from val:   0%|                                                                                               | 0/4 [00:00<?, ?it/s]\u001b[A\n",
      "generating from val:  25%|█████████████████████▊                                                                 | 1/4 [00:10<00:32, 10.97s/it]\u001b[A\n",
      "generating from val:  50%|███████████████████████████████████████████▌                                           | 2/4 [00:22<00:22, 11.02s/it]\u001b[A\n",
      "generating from val:  75%|█████████████████████████████████████████████████████████████████▎                     | 3/4 [00:32<00:10, 10.92s/it]\u001b[A\n",
      "generating from val: 100%|███████████████████████████████████████████████████████████████████████████████████████| 4/4 [00:42<00:00, 10.62s/it]\u001b[A\n",
      "                                                                                                                                               \u001b[AWarning: Empty reference sentence detected; setting raw BERTScores to 0.\n",
      " 39%|███████████████████████████████████████▉                                                               | 19/49 [27:16<1:04:59, 129.97s/it]"
     ]
    },
    {
     "name": "stdout",
     "output_type": "stream",
     "text": [
      "[pred] The ex-Reading defender denied fraudulent trading charges for the Sodje Sports Foundation - a charity involved in raising money for Nigerian financial\n",
      "[true] The ex-Reading defender denied fraudulent trading charges relating to the Sodje Sports Foundation - a charity to raise money for Nigerian\n",
      "\n",
      "\n",
      "\n",
      "[pred] Voges was forced to retire hurt after batting for 86 on 4 June during the County Championship draw with Middlesex. After suffering injury, Somerset\n",
      "[true] Voges was forced to retire hurt on 86 after suffering the injury while batting during the County Championship draw with Somerset on 4 June. Middlesex\n",
      "\n",
      "\n",
      "\n",
      "[pred] Seven photographs taken in the Norfolk countryside by photographer Josh Olins will appear in the June edition. In her first sitting for the magazine, a du\n",
      "[true] Seven photographs taken in the Norfolk countryside by photographer Josh Olins will appear in the June edition. In her first sitting for a magazine, the du\n",
      "setting preds_emb\n",
      "*** round 20\n"
     ]
    },
    {
     "name": "stderr",
     "output_type": "stream",
     "text": [
      "\n",
      "generating from val:   0%|                                                                                               | 0/4 [00:00<?, ?it/s]\u001b[A\n",
      "generating from val:  25%|█████████████████████▊                                                                 | 1/4 [00:11<00:34, 11.40s/it]\u001b[A\n",
      "generating from val:  50%|███████████████████████████████████████████▌                                           | 2/4 [00:22<00:22, 11.50s/it]\u001b[A\n",
      "generating from val:  75%|█████████████████████████████████████████████████████████████████▎                     | 3/4 [00:34<00:11, 11.39s/it]\u001b[A\n",
      "generating from val: 100%|███████████████████████████████████████████████████████████████████████████████████████| 4/4 [00:45<00:00, 11.23s/it]\u001b[A\n",
      "                                                                                                                                               \u001b[A"
     ]
    },
    {
     "name": "stdout",
     "output_type": "stream",
     "text": [
      "[pred] to the character of the sutures of the skull, which, like those of the infant skull, are relatively smooth and untortuous. In\n",
      "[true] to the character of the sutures of the skull which, like those of the infant skull, are relatively smooth and untortuous. In fact\n",
      "\n",
      "\n",
      "\n",
      "[pred] individual from the Southern Hemisphere, to win a Winter Olympic gold medal and was also part of the short track relay team that won Australia'\n",
      "[true] individual from the Southern Hemisphere, to win a Winter Olympic gold medal and was also part of the short track relay team that won Australia'\n",
      "\n",
      "\n",
      "\n",
      "[pred] the same rights as straight people, while 15% disagreed. Additionally, 69% agreed that they should be protected from workplace discrimination. 13% of H\n",
      "[true] the same rights as straight people, while 15% disagreed. Additionally, 69% agreed that they should be protected from workplace discrimination. 13% of H\n",
      "setting preds_emb\n"
     ]
    },
    {
     "name": "stderr",
     "output_type": "stream",
     "text": [
      "\n",
      "generating from val:   0%|                                                                                               | 0/4 [00:00<?, ?it/s]\u001b[A\n",
      "generating from val:  25%|█████████████████████▊                                                                 | 1/4 [00:11<00:33, 11.29s/it]\u001b[A\n",
      "generating from val:  50%|███████████████████████████████████████████▌                                           | 2/4 [00:22<00:22, 11.34s/it]\u001b[A\n",
      "generating from val:  75%|█████████████████████████████████████████████████████████████████▎                     | 3/4 [00:34<00:11, 11.41s/it]\u001b[A\n",
      "generating from val: 100%|███████████████████████████████████████████████████████████████████████████████████████| 4/4 [00:44<00:00, 11.12s/it]\u001b[A\n",
      "                                                                                                                                               \u001b[A"
     ]
    },
    {
     "name": "stdout",
     "output_type": "stream",
     "text": [
      "[pred] we study the phase behavior of a nematic liquid crystal confined between a patterned substrate and a flat substrate with strong anchoring\n",
      "[true] we study the phase behavior of a nematic liquid crystal confined between a flat substrate with strong anchoring and a patterned substrate\n",
      "\n",
      "\n",
      "\n",
      "[pred] determining the scaling relations between galaxy clusters requires large samples of uniformly observed clusters. We measure the mean observable x -\n",
      "[true] determining the scaling relations between galaxy cluster observables requires large samples of uniformly observed clusters. we measure the mean x -\n",
      "\n",
      "\n",
      "\n",
      "[pred] we show how to control spatial correlations in a degenerate quantum parametric multimode optical oscillator type I below threshold by a\n",
      "[true] we show how to control spatial quantum correlations in a multimode degenerate optical parametric oscillator type i below threshold by \n",
      "setting preds_emb\n"
     ]
    },
    {
     "name": "stderr",
     "output_type": "stream",
     "text": [
      "\n",
      "generating from val:   0%|                                                                                               | 0/4 [00:00<?, ?it/s]\u001b[A\n",
      "generating from val:  25%|█████████████████████▊                                                                 | 1/4 [00:11<00:33, 11.20s/it]\u001b[A\n",
      "generating from val:  50%|███████████████████████████████████████████▌                                           | 2/4 [00:22<00:22, 11.29s/it]\u001b[A\n",
      "generating from val:  75%|█████████████████████████████████████████████████████████████████▎                     | 3/4 [00:33<00:11, 11.22s/it]\u001b[A\n",
      "generating from val: 100%|███████████████████████████████████████████████████████████████████████████████████████| 4/4 [00:44<00:00, 11.09s/it]\u001b[A\n",
      "                                                                                                                                               \u001b[AWarning: Empty reference sentence detected; setting raw BERTScores to 0.\n",
      " 41%|██████████████████████████████████████████                                                             | 20/49 [29:45<1:05:41, 135.91s/it]"
     ]
    },
    {
     "name": "stdout",
     "output_type": "stream",
     "text": [
      "[pred] The ex-Reading defender denied fraudulent trading charges relating to the Sodje Sports Foundation - a charity to raise money for Nigerian\n",
      "[true] The ex-Reading defender denied fraudulent trading charges relating to the Sodje Sports Foundation - a charity to raise money for Nigerian\n",
      "\n",
      "\n",
      "\n",
      "[pred] Voges was forced to retire hurt after batting for 86 while suffering a knee injury in the County Championship draw with Middlesex on 4 June\n",
      "[true] Voges was forced to retire hurt on 86 after suffering the injury while batting during the County Championship draw with Somerset on 4 June. Middlesex\n",
      "\n",
      "\n",
      "\n",
      "[pred] Seven photographs taken in the Norfolk countryside by photographer Josh Olins will appear in the June edition. In her first sitting for the magazine, a du\n",
      "[true] Seven photographs taken in the Norfolk countryside by photographer Josh Olins will appear in the June edition. In her first sitting for a magazine, the du\n",
      "setting preds_emb\n",
      "*** round 21\n"
     ]
    },
    {
     "name": "stderr",
     "output_type": "stream",
     "text": [
      "\n",
      "generating from val:   0%|                                                                                               | 0/4 [00:00<?, ?it/s]\u001b[A\n",
      "generating from val:  25%|█████████████████████▊                                                                 | 1/4 [00:11<00:35, 11.98s/it]\u001b[A\n",
      "generating from val:  50%|███████████████████████████████████████████▌                                           | 2/4 [00:24<00:24, 12.07s/it]\u001b[A\n",
      "generating from val:  75%|█████████████████████████████████████████████████████████████████▎                     | 3/4 [00:36<00:12, 12.08s/it]\u001b[A\n",
      "generating from val: 100%|███████████████████████████████████████████████████████████████████████████████████████| 4/4 [00:47<00:00, 11.95s/it]\u001b[A\n",
      "                                                                                                                                               \u001b[A"
     ]
    },
    {
     "name": "stdout",
     "output_type": "stream",
     "text": [
      "[pred] to the character of the sutures of the skull, which, like those of the infant skull, are relatively smooth and untortuous. In\n",
      "[true] to the character of the sutures of the skull which, like those of the infant skull, are relatively smooth and untortuous. In fact\n",
      "\n",
      "\n",
      "\n",
      "[pred] individual from the Southern Hemisphere, to win a Winter Olympic gold medal and was also part of the short track relay team that won Australia'\n",
      "[true] individual from the Southern Hemisphere, to win a Winter Olympic gold medal and was also part of the short track relay team that won Australia'\n",
      "\n",
      "\n",
      "\n",
      "[pred] the same rights as straight people, while 15% disagreed. Additionally, 69% agreed that they should be protected from workplace discrimination. 13% of H\n",
      "[true] the same rights as straight people, while 15% disagreed. Additionally, 69% agreed that they should be protected from workplace discrimination. 13% of H\n",
      "setting preds_emb\n"
     ]
    },
    {
     "name": "stderr",
     "output_type": "stream",
     "text": [
      "\n",
      "generating from val:   0%|                                                                                               | 0/4 [00:00<?, ?it/s]\u001b[A\n",
      "generating from val:  25%|█████████████████████▊                                                                 | 1/4 [00:11<00:35, 11.75s/it]\u001b[A\n",
      "generating from val:  50%|███████████████████████████████████████████▌                                           | 2/4 [00:23<00:23, 11.87s/it]\u001b[A\n",
      "generating from val:  75%|█████████████████████████████████████████████████████████████████▎                     | 3/4 [00:35<00:11, 11.91s/it]\u001b[A\n",
      "generating from val: 100%|███████████████████████████████████████████████████████████████████████████████████████| 4/4 [00:46<00:00, 11.67s/it]\u001b[A\n",
      "                                                                                                                                               \u001b[A"
     ]
    },
    {
     "name": "stdout",
     "output_type": "stream",
     "text": [
      "[pred] we study the phase behavior of a nematic liquid crystal confined between a flat substrate and a patterned substrate with strong anchoring\n",
      "[true] we study the phase behavior of a nematic liquid crystal confined between a flat substrate with strong anchoring and a patterned substrate\n",
      "\n",
      "\n",
      "\n",
      "[pred] determining the scaling relations between galaxy clusters requires large samples of uniformly observed clusters. we measure the mean observables x-\n",
      "[true] determining the scaling relations between galaxy cluster observables requires large samples of uniformly observed clusters. we measure the mean x -\n",
      "\n",
      "\n",
      "\n",
      "[pred] we show how to control spatial correlations in a degenerate quantum parametric multimode optical oscillator type I below threshold by a\n",
      "[true] we show how to control spatial quantum correlations in a multimode degenerate optical parametric oscillator type i below threshold by \n",
      "setting preds_emb\n"
     ]
    },
    {
     "name": "stderr",
     "output_type": "stream",
     "text": [
      "\n",
      "generating from val:   0%|                                                                                               | 0/4 [00:00<?, ?it/s]\u001b[A\n",
      "generating from val:  25%|█████████████████████▊                                                                 | 1/4 [00:12<00:36, 12.23s/it]\u001b[A\n",
      "generating from val:  50%|███████████████████████████████████████████▌                                           | 2/4 [00:24<00:24, 12.13s/it]\u001b[A\n",
      "generating from val:  75%|█████████████████████████████████████████████████████████████████▎                     | 3/4 [00:36<00:11, 11.98s/it]\u001b[A\n",
      "generating from val: 100%|███████████████████████████████████████████████████████████████████████████████████████| 4/4 [00:47<00:00, 11.74s/it]\u001b[A\n",
      "                                                                                                                                               \u001b[AWarning: Empty reference sentence detected; setting raw BERTScores to 0.\n",
      " 43%|████████████████████████████████████████████▏                                                          | 21/49 [32:23<1:06:24, 142.32s/it]"
     ]
    },
    {
     "name": "stdout",
     "output_type": "stream",
     "text": [
      "[pred] The ex-Reading defender denied fraudulent trading charges relating to the Sodje Sports Foundation - a charity to raise money for Nigerian\n",
      "[true] The ex-Reading defender denied fraudulent trading charges relating to the Sodje Sports Foundation - a charity to raise money for Nigerian\n",
      "\n",
      "\n",
      "\n",
      "[pred] Voges was forced to retire hurt after batting for 62 during the County Championship draw with Somerset on 2 April. After suffering something from Middlesex\n",
      "[true] Voges was forced to retire hurt on 86 after suffering the injury while batting during the County Championship draw with Somerset on 4 June. Middlesex\n",
      "\n",
      "\n",
      "\n",
      "[pred] Seven photographs taken in the Norfolk countryside by photographer Josh Olins will appear in the June edition. In her first sitting for the magazine, a du\n",
      "[true] Seven photographs taken in the Norfolk countryside by photographer Josh Olins will appear in the June edition. In her first sitting for a magazine, the du\n",
      "setting preds_emb\n",
      "*** round 22\n"
     ]
    },
    {
     "name": "stderr",
     "output_type": "stream",
     "text": [
      "\n",
      "generating from val:   0%|                                                                                               | 0/4 [00:00<?, ?it/s]\u001b[A\n",
      "generating from val:  25%|█████████████████████▊                                                                 | 1/4 [00:12<00:37, 12.64s/it]\u001b[A\n",
      "generating from val:  50%|███████████████████████████████████████████▌                                           | 2/4 [00:25<00:25, 12.62s/it]\u001b[A\n",
      "generating from val:  75%|█████████████████████████████████████████████████████████████████▎                     | 3/4 [00:37<00:12, 12.58s/it]\u001b[A\n",
      "generating from val: 100%|███████████████████████████████████████████████████████████████████████████████████████| 4/4 [00:50<00:00, 12.48s/it]\u001b[A\n",
      "                                                                                                                                               \u001b[A"
     ]
    },
    {
     "name": "stdout",
     "output_type": "stream",
     "text": [
      "[pred] to the character of the sutures of the skull, which, like those of the infant skull, are relatively smooth and untortuous. In\n",
      "[true] to the character of the sutures of the skull which, like those of the infant skull, are relatively smooth and untortuous. In fact\n",
      "\n",
      "\n",
      "\n",
      "[pred] individual from the Southern Hemisphere, to win a Winter Olympic gold medal and was also part of the short track relay team that won Australia'\n",
      "[true] individual from the Southern Hemisphere, to win a Winter Olympic gold medal and was also part of the short track relay team that won Australia'\n",
      "\n",
      "\n",
      "\n",
      "[pred] the same rights as straight people, while 15% disagreed. Additionally, 69% agreed that they should be protected from workplace discrimination. 13% of H\n",
      "[true] the same rights as straight people, while 15% disagreed. Additionally, 69% agreed that they should be protected from workplace discrimination. 13% of H\n",
      "setting preds_emb\n"
     ]
    },
    {
     "name": "stderr",
     "output_type": "stream",
     "text": [
      "\n",
      "generating from val:   0%|                                                                                               | 0/4 [00:00<?, ?it/s]\u001b[A\n",
      "generating from val:  25%|█████████████████████▊                                                                 | 1/4 [00:12<00:36, 12.25s/it]\u001b[A\n",
      "generating from val:  50%|███████████████████████████████████████████▌                                           | 2/4 [00:24<00:25, 12.52s/it]\u001b[A\n",
      "generating from val:  75%|█████████████████████████████████████████████████████████████████▎                     | 3/4 [00:37<00:12, 12.53s/it]\u001b[A\n",
      "generating from val: 100%|███████████████████████████████████████████████████████████████████████████████████████| 4/4 [00:49<00:00, 12.24s/it]\u001b[A\n",
      "                                                                                                                                               \u001b[A"
     ]
    },
    {
     "name": "stdout",
     "output_type": "stream",
     "text": [
      "[pred] we study the phase behavior of a nematic liquid crystal confined between a patterned substrate and a flat substrate with strong anchoring\n",
      "[true] we study the phase behavior of a nematic liquid crystal confined between a flat substrate with strong anchoring and a patterned substrate\n",
      "\n",
      "\n",
      "\n",
      "[pred] determining the scaling relations between galaxy clusters requires large samples of uniformly observed clusters. We measure the mean observable x -\n",
      "[true] determining the scaling relations between galaxy cluster observables requires large samples of uniformly observed clusters. we measure the mean x -\n",
      "\n",
      "\n",
      "\n",
      "[pred] we show how to control spatial correlations in a degenerate quantum parametric multimode optical oscillator type I below threshold by a\n",
      "[true] we show how to control spatial quantum correlations in a multimode degenerate optical parametric oscillator type i below threshold by \n",
      "setting preds_emb\n"
     ]
    },
    {
     "name": "stderr",
     "output_type": "stream",
     "text": [
      "\n",
      "generating from val:   0%|                                                                                               | 0/4 [00:00<?, ?it/s]\u001b[A\n",
      "generating from val:  25%|█████████████████████▊                                                                 | 1/4 [00:12<00:38, 12.71s/it]\u001b[A\n",
      "generating from val:  50%|███████████████████████████████████████████▌                                           | 2/4 [00:25<00:25, 12.66s/it]\u001b[A\n",
      "generating from val:  75%|█████████████████████████████████████████████████████████████████▎                     | 3/4 [00:37<00:12, 12.58s/it]\u001b[A\n",
      "generating from val: 100%|███████████████████████████████████████████████████████████████████████████████████████| 4/4 [00:49<00:00, 12.39s/it]\u001b[A\n",
      "                                                                                                                                               \u001b[AWarning: Empty reference sentence detected; setting raw BERTScores to 0.\n",
      " 45%|██████████████████████████████████████████████▏                                                        | 22/49 [35:08<1:07:09, 149.24s/it]"
     ]
    },
    {
     "name": "stdout",
     "output_type": "stream",
     "text": [
      "[pred] The ex-Reading defender denied fraudulent trading charges relating to the Sodje Sports Foundation - a charity to raise money for Nigerian\n",
      "[true] The ex-Reading defender denied fraudulent trading charges relating to the Sodje Sports Foundation - a charity to raise money for Nigerian\n",
      "\n",
      "\n",
      "\n",
      "[pred] Voges was forced to retire hurt after batting on 86 while suffering an injury in the County Championship draw with Somerset on 4 June. Middlesex\n",
      "[true] Voges was forced to retire hurt on 86 after suffering the injury while batting during the County Championship draw with Somerset on 4 June. Middlesex\n",
      "\n",
      "\n",
      "\n",
      "[pred] Seven photographs taken in the Norfolk countryside by photographer Josh Olins will appear in the June edition. In her first sitting for the magazine, a du\n",
      "[true] Seven photographs taken in the Norfolk countryside by photographer Josh Olins will appear in the June edition. In her first sitting for a magazine, the du\n",
      "setting preds_emb\n",
      "*** round 23\n"
     ]
    },
    {
     "name": "stderr",
     "output_type": "stream",
     "text": [
      "\n",
      "generating from val:   0%|                                                                                               | 0/4 [00:00<?, ?it/s]\u001b[A\n",
      "generating from val:  25%|█████████████████████▊                                                                 | 1/4 [00:13<00:39, 13.09s/it]\u001b[A\n",
      "generating from val:  50%|███████████████████████████████████████████▌                                           | 2/4 [00:25<00:25, 12.88s/it]\u001b[A\n",
      "generating from val:  75%|█████████████████████████████████████████████████████████████████▎                     | 3/4 [00:39<00:13, 13.03s/it]\u001b[A\n",
      "generating from val: 100%|███████████████████████████████████████████████████████████████████████████████████████| 4/4 [00:51<00:00, 12.85s/it]\u001b[A\n",
      "                                                                                                                                               \u001b[A"
     ]
    },
    {
     "name": "stdout",
     "output_type": "stream",
     "text": [
      "[pred] to the character of the sutures of the skull, which, like those of the infant skull, are relatively smooth and untortuous. In\n",
      "[true] to the character of the sutures of the skull which, like those of the infant skull, are relatively smooth and untortuous. In fact\n",
      "\n",
      "\n",
      "\n",
      "[pred] individual from the Southern Hemisphere, to win a Winter Olympic gold medal and was also part of the short track relay team that won Australia'\n",
      "[true] individual from the Southern Hemisphere, to win a Winter Olympic gold medal and was also part of the short track relay team that won Australia'\n",
      "\n",
      "\n",
      "\n",
      "[pred] the same rights as straight people, while 15% disagreed. Additionally, 69% agreed that they should be protected from workplace discrimination. 13% of H\n",
      "[true] the same rights as straight people, while 15% disagreed. Additionally, 69% agreed that they should be protected from workplace discrimination. 13% of H\n",
      "setting preds_emb\n"
     ]
    },
    {
     "name": "stderr",
     "output_type": "stream",
     "text": [
      "\n",
      "generating from val:   0%|                                                                                               | 0/4 [00:00<?, ?it/s]\u001b[A\n",
      "generating from val:  25%|█████████████████████▊                                                                 | 1/4 [00:13<00:39, 13.27s/it]\u001b[A\n",
      "generating from val:  50%|███████████████████████████████████████████▌                                           | 2/4 [00:26<00:26, 13.28s/it]\u001b[A\n",
      "generating from val:  75%|█████████████████████████████████████████████████████████████████▎                     | 3/4 [00:39<00:13, 13.14s/it]\u001b[A\n",
      "generating from val: 100%|███████████████████████████████████████████████████████████████████████████████████████| 4/4 [00:51<00:00, 12.81s/it]\u001b[A\n",
      "                                                                                                                                               \u001b[A"
     ]
    },
    {
     "name": "stdout",
     "output_type": "stream",
     "text": [
      "[pred] we study the phase behavior of a nematic liquid crystal confined between a flat substrate and a patterned substrate with strong anchoring\n",
      "[true] we study the phase behavior of a nematic liquid crystal confined between a flat substrate with strong anchoring and a patterned substrate\n",
      "\n",
      "\n",
      "\n",
      "[pred] determining the scaling relations between galaxy clusters requires large samples of uniformly observed clusters. we measure the mean observables x-\n",
      "[true] determining the scaling relations between galaxy cluster observables requires large samples of uniformly observed clusters. we measure the mean x -\n",
      "\n",
      "\n",
      "\n",
      "[pred] we show how to control spatial correlations in a degenerate quantum parametric multimode optical oscillator type I below threshold by a\n",
      "[true] we show how to control spatial quantum correlations in a multimode degenerate optical parametric oscillator type i below threshold by \n",
      "setting preds_emb\n"
     ]
    },
    {
     "name": "stderr",
     "output_type": "stream",
     "text": [
      "\n",
      "generating from val:   0%|                                                                                               | 0/4 [00:00<?, ?it/s]\u001b[A\n",
      "generating from val:  25%|█████████████████████▊                                                                 | 1/4 [00:12<00:38, 12.99s/it]\u001b[A\n",
      "generating from val:  50%|███████████████████████████████████████████▌                                           | 2/4 [00:26<00:26, 13.13s/it]\u001b[A\n",
      "generating from val:  75%|█████████████████████████████████████████████████████████████████▎                     | 3/4 [00:39<00:13, 13.33s/it]\u001b[A\n",
      "generating from val: 100%|███████████████████████████████████████████████████████████████████████████████████████| 4/4 [00:52<00:00, 13.09s/it]\u001b[A\n",
      "                                                                                                                                               \u001b[AWarning: Empty reference sentence detected; setting raw BERTScores to 0.\n",
      " 47%|████████████████████████████████████████████████▎                                                      | 23/49 [37:59<1:07:33, 155.91s/it]"
     ]
    },
    {
     "name": "stdout",
     "output_type": "stream",
     "text": [
      "[pred] The ex-Reading defender denied fraudulent trading charges relating to the Sodje Sports Foundation - a charity to raise money for Nigerian\n",
      "[true] The ex-Reading defender denied fraudulent trading charges relating to the Sodje Sports Foundation - a charity to raise money for Nigerian\n",
      "\n",
      "\n",
      "\n",
      "[pred] Voges was forced to retire hurt after batting on 86 during a draw with Somerset on 30 June for the County Championship. Middlesex suffered\n",
      "[true] Voges was forced to retire hurt on 86 after suffering the injury while batting during the County Championship draw with Somerset on 4 June. Middlesex\n",
      "\n",
      "\n",
      "\n",
      "[pred] Seven photographs taken in the Norfolk countryside by photographer Josh Olins will appear in the June edition. In her first sitting for the magazine, a du\n",
      "[true] Seven photographs taken in the Norfolk countryside by photographer Josh Olins will appear in the June edition. In her first sitting for a magazine, the du\n",
      "setting preds_emb\n",
      "*** round 24\n"
     ]
    },
    {
     "name": "stderr",
     "output_type": "stream",
     "text": [
      "\n",
      "generating from val:   0%|                                                                                               | 0/4 [00:00<?, ?it/s]\u001b[A\n",
      "generating from val:  25%|█████████████████████▊                                                                 | 1/4 [00:13<00:41, 13.76s/it]\u001b[A\n",
      "generating from val:  50%|███████████████████████████████████████████▌                                           | 2/4 [00:27<00:27, 13.60s/it]\u001b[A\n",
      "generating from val:  75%|█████████████████████████████████████████████████████████████████▎                     | 3/4 [00:40<00:13, 13.54s/it]\u001b[A\n",
      "generating from val: 100%|███████████████████████████████████████████████████████████████████████████████████████| 4/4 [00:53<00:00, 13.36s/it]\u001b[A\n",
      "                                                                                                                                               \u001b[A"
     ]
    },
    {
     "name": "stdout",
     "output_type": "stream",
     "text": [
      "[pred] to the character of the sutures of the skull, which, like those of the infant skull, are relatively smooth and untortuous. In\n",
      "[true] to the character of the sutures of the skull which, like those of the infant skull, are relatively smooth and untortuous. In fact\n",
      "\n",
      "\n",
      "\n",
      "[pred] individual from the Southern Hemisphere, to win a Winter Olympic gold medal and was also part of the short track relay team that won Australia'\n",
      "[true] individual from the Southern Hemisphere, to win a Winter Olympic gold medal and was also part of the short track relay team that won Australia'\n",
      "\n",
      "\n",
      "\n",
      "[pred] the same rights as straight people, while 15% disagreed. Additionally, 69% agreed that they should be protected from workplace discrimination. 13% of H\n",
      "[true] the same rights as straight people, while 15% disagreed. Additionally, 69% agreed that they should be protected from workplace discrimination. 13% of H\n",
      "setting preds_emb\n"
     ]
    },
    {
     "name": "stderr",
     "output_type": "stream",
     "text": [
      "\n",
      "generating from val:   0%|                                                                                               | 0/4 [00:00<?, ?it/s]\u001b[A\n",
      "generating from val:  25%|█████████████████████▊                                                                 | 1/4 [00:13<00:39, 13.28s/it]\u001b[A\n",
      "generating from val:  50%|███████████████████████████████████████████▌                                           | 2/4 [00:26<00:27, 13.51s/it]\u001b[A\n",
      "generating from val:  75%|█████████████████████████████████████████████████████████████████▎                     | 3/4 [00:40<00:13, 13.45s/it]\u001b[A\n",
      "generating from val: 100%|███████████████████████████████████████████████████████████████████████████████████████| 4/4 [00:53<00:00, 13.23s/it]\u001b[A\n",
      "                                                                                                                                               \u001b[A"
     ]
    },
    {
     "name": "stdout",
     "output_type": "stream",
     "text": [
      "[pred] we study the phase behavior of a nematic liquid crystal confined between a patterned substrate and a flat substrate with strong anchoring\n",
      "[true] we study the phase behavior of a nematic liquid crystal confined between a flat substrate with strong anchoring and a patterned substrate\n",
      "\n",
      "\n",
      "\n",
      "[pred] determining the scaling relations between galaxy clusters requires large samples of uniformly observed clusters. We measure the mean observable x -\n",
      "[true] determining the scaling relations between galaxy cluster observables requires large samples of uniformly observed clusters. we measure the mean x -\n",
      "\n",
      "\n",
      "\n",
      "[pred] we show how to control spatial correlations in a degenerate quantum parametric multimode optical oscillator type I below threshold by a\n",
      "[true] we show how to control spatial quantum correlations in a multimode degenerate optical parametric oscillator type i below threshold by \n",
      "setting preds_emb\n"
     ]
    },
    {
     "name": "stderr",
     "output_type": "stream",
     "text": [
      "\n",
      "generating from val:   0%|                                                                                               | 0/4 [00:00<?, ?it/s]\u001b[A\n",
      "generating from val:  25%|█████████████████████▊                                                                 | 1/4 [00:13<00:41, 13.75s/it]\u001b[A\n",
      "generating from val:  50%|███████████████████████████████████████████▌                                           | 2/4 [00:27<00:27, 13.76s/it]\u001b[A\n",
      "generating from val:  75%|█████████████████████████████████████████████████████████████████▎                     | 3/4 [00:41<00:13, 13.80s/it]\u001b[A\n",
      "generating from val: 100%|███████████████████████████████████████████████████████████████████████████████████████| 4/4 [00:54<00:00, 13.50s/it]\u001b[A\n",
      "                                                                                                                                               \u001b[AWarning: Empty reference sentence detected; setting raw BERTScores to 0.\n",
      " 49%|██████████████████████████████████████████████████▍                                                    | 24/49 [40:57<1:07:36, 162.25s/it]"
     ]
    },
    {
     "name": "stdout",
     "output_type": "stream",
     "text": [
      "[pred] The ex-Reading defender denied fraudulent trading charges relating to the Sodje Sports Foundation - a charity to raise money for Nigerian\n",
      "[true] The ex-Reading defender denied fraudulent trading charges relating to the Sodje Sports Foundation - a charity to raise money for Nigerian\n",
      "\n",
      "\n",
      "\n",
      "[pred] Voges was forced to retire hurt after batting on 40 whilst suffering an injury in Somerset's June 4 County Championship draw. Middlesex\n",
      "[true] Voges was forced to retire hurt on 86 after suffering the injury while batting during the County Championship draw with Somerset on 4 June. Middlesex\n",
      "\n",
      "\n",
      "\n",
      "[pred] Seven photographs taken in the Norfolk countryside by photographer Josh Olins will appear in the June edition. In her first sitting for the magazine, a du\n",
      "[true] Seven photographs taken in the Norfolk countryside by photographer Josh Olins will appear in the June edition. In her first sitting for a magazine, the du\n",
      "setting preds_emb\n",
      "*** round 25\n"
     ]
    },
    {
     "name": "stderr",
     "output_type": "stream",
     "text": [
      "\n",
      "generating from val:   0%|                                                                                               | 0/4 [00:00<?, ?it/s]\u001b[A\n",
      "generating from val:  25%|█████████████████████▊                                                                 | 1/4 [00:14<00:42, 14.25s/it]\u001b[A\n",
      "generating from val:  50%|███████████████████████████████████████████▌                                           | 2/4 [00:28<00:28, 14.15s/it]\u001b[A\n",
      "generating from val:  75%|█████████████████████████████████████████████████████████████████▎                     | 3/4 [00:42<00:14, 14.06s/it]\u001b[A\n",
      "generating from val: 100%|███████████████████████████████████████████████████████████████████████████████████████| 4/4 [00:56<00:00, 14.09s/it]\u001b[A\n",
      "                                                                                                                                               \u001b[A"
     ]
    },
    {
     "name": "stdout",
     "output_type": "stream",
     "text": [
      "[pred] to the character of the sutures of the skull, which, like those of the infant skull, are relatively smooth and untortuous. In\n",
      "[true] to the character of the sutures of the skull which, like those of the infant skull, are relatively smooth and untortuous. In fact\n",
      "\n",
      "\n",
      "\n",
      "[pred] individual from the Southern Hemisphere, to win a Winter Olympic gold medal and was also part of the short track relay team that won Australia'\n",
      "[true] individual from the Southern Hemisphere, to win a Winter Olympic gold medal and was also part of the short track relay team that won Australia'\n",
      "\n",
      "\n",
      "\n",
      "[pred] the same rights as straight people, while 15% disagreed. Additionally, 69% agreed that they should be protected from workplace discrimination. 13% of H\n",
      "[true] the same rights as straight people, while 15% disagreed. Additionally, 69% agreed that they should be protected from workplace discrimination. 13% of H\n",
      "setting preds_emb\n"
     ]
    },
    {
     "name": "stderr",
     "output_type": "stream",
     "text": [
      "\n",
      "generating from val:   0%|                                                                                               | 0/4 [00:00<?, ?it/s]\u001b[A\n",
      "generating from val:  25%|█████████████████████▊                                                                 | 1/4 [00:14<00:42, 14.22s/it]\u001b[A\n",
      "generating from val:  50%|███████████████████████████████████████████▌                                           | 2/4 [00:28<00:28, 14.45s/it]\u001b[A\n",
      "generating from val:  75%|█████████████████████████████████████████████████████████████████▎                     | 3/4 [00:43<00:14, 14.36s/it]\u001b[A\n",
      "generating from val: 100%|███████████████████████████████████████████████████████████████████████████████████████| 4/4 [00:56<00:00, 14.10s/it]\u001b[A\n",
      "                                                                                                                                               \u001b[A"
     ]
    },
    {
     "name": "stdout",
     "output_type": "stream",
     "text": [
      "[pred] we study the phase behavior of a nematic liquid crystal confined between a flat substrate and a patterned substrate with strong anchoring\n",
      "[true] we study the phase behavior of a nematic liquid crystal confined between a flat substrate with strong anchoring and a patterned substrate\n",
      "\n",
      "\n",
      "\n",
      "[pred] determining the scaling relations between galaxy clusters requires large samples of uniformly observed clusters. we measure the mean observables x-\n",
      "[true] determining the scaling relations between galaxy cluster observables requires large samples of uniformly observed clusters. we measure the mean x -\n",
      "\n",
      "\n",
      "\n",
      "[pred] we show how to control spatial correlations in a degenerate quantum parametric multimode optical oscillator type I below threshold by a\n",
      "[true] we show how to control spatial quantum correlations in a multimode degenerate optical parametric oscillator type i below threshold by \n",
      "setting preds_emb\n"
     ]
    },
    {
     "name": "stderr",
     "output_type": "stream",
     "text": [
      "\n",
      "generating from val:   0%|                                                                                               | 0/4 [00:00<?, ?it/s]\u001b[A\n",
      "generating from val:  25%|█████████████████████▊                                                                 | 1/4 [00:14<00:42, 14.25s/it]\u001b[A\n",
      "generating from val:  50%|███████████████████████████████████████████▌                                           | 2/4 [00:28<00:28, 14.39s/it]\u001b[A\n",
      "generating from val:  75%|█████████████████████████████████████████████████████████████████▎                     | 3/4 [00:42<00:14, 14.27s/it]\u001b[A\n",
      "generating from val: 100%|███████████████████████████████████████████████████████████████████████████████████████| 4/4 [00:56<00:00, 13.88s/it]\u001b[A\n",
      "                                                                                                                                               \u001b[AWarning: Empty reference sentence detected; setting raw BERTScores to 0.\n",
      " 51%|████████████████████████████████████████████████████▌                                                  | 25/49 [44:02<1:07:39, 169.16s/it]"
     ]
    },
    {
     "name": "stdout",
     "output_type": "stream",
     "text": [
      "[pred] The ex-Reading defender denied fraudulent trading charges relating to the Sodje Sports Foundation - a charity to raise money for Nigerian\n",
      "[true] The ex-Reading defender denied fraudulent trading charges relating to the Sodje Sports Foundation - a charity to raise money for Nigerian\n",
      "\n",
      "\n",
      "\n",
      "[pred] Voges was forced to retire hurt after batting on 86 for Somerset in June while suffering a draw with Middlesex in the County Championship.\n",
      "[true] Voges was forced to retire hurt on 86 after suffering the injury while batting during the County Championship draw with Somerset on 4 June. Middlesex\n",
      "\n",
      "\n",
      "\n",
      "[pred] Seven photographs taken in the Norfolk countryside by photographer Josh Olins will appear in the June edition. In her first sitting for the magazine, a du\n",
      "[true] Seven photographs taken in the Norfolk countryside by photographer Josh Olins will appear in the June edition. In her first sitting for a magazine, the du\n",
      "setting preds_emb\n",
      "*** round 26\n"
     ]
    },
    {
     "name": "stderr",
     "output_type": "stream",
     "text": [
      "\n",
      "generating from val:   0%|                                                                                               | 0/4 [00:00<?, ?it/s]\u001b[A\n",
      "generating from val:  25%|█████████████████████▊                                                                 | 1/4 [00:14<00:44, 14.89s/it]\u001b[A\n",
      "generating from val:  50%|███████████████████████████████████████████▌                                           | 2/4 [00:29<00:29, 14.90s/it]\u001b[A\n",
      "generating from val:  75%|█████████████████████████████████████████████████████████████████▎                     | 3/4 [00:44<00:14, 14.79s/it]\u001b[A\n",
      "generating from val: 100%|███████████████████████████████████████████████████████████████████████████████████████| 4/4 [00:58<00:00, 14.54s/it]\u001b[A\n",
      "                                                                                                                                               \u001b[A"
     ]
    },
    {
     "name": "stdout",
     "output_type": "stream",
     "text": [
      "[pred] to the character of the sutures of the skull, which, like those of the infant skull, are relatively smooth and untortuous. In\n",
      "[true] to the character of the sutures of the skull which, like those of the infant skull, are relatively smooth and untortuous. In fact\n",
      "\n",
      "\n",
      "\n",
      "[pred] individual from the Southern Hemisphere, to win a Winter Olympic gold medal and was also part of the short track relay team that won Australia'\n",
      "[true] individual from the Southern Hemisphere, to win a Winter Olympic gold medal and was also part of the short track relay team that won Australia'\n",
      "\n",
      "\n",
      "\n",
      "[pred] the same rights as straight people, while 15% disagreed. Additionally, 69% agreed that they should be protected from workplace discrimination. 13% of H\n",
      "[true] the same rights as straight people, while 15% disagreed. Additionally, 69% agreed that they should be protected from workplace discrimination. 13% of H\n",
      "setting preds_emb\n"
     ]
    },
    {
     "name": "stderr",
     "output_type": "stream",
     "text": [
      "\n",
      "generating from val:   0%|                                                                                               | 0/4 [00:00<?, ?it/s]\u001b[A\n",
      "generating from val:  25%|█████████████████████▊                                                                 | 1/4 [00:15<00:45, 15.20s/it]\u001b[A\n",
      "generating from val:  50%|███████████████████████████████████████████▌                                           | 2/4 [00:30<00:30, 15.16s/it]\u001b[A\n",
      "generating from val:  75%|█████████████████████████████████████████████████████████████████▎                     | 3/4 [00:45<00:15, 15.08s/it]\u001b[A\n",
      "generating from val: 100%|███████████████████████████████████████████████████████████████████████████████████████| 4/4 [00:59<00:00, 14.89s/it]\u001b[A\n",
      "                                                                                                                                               \u001b[A"
     ]
    },
    {
     "name": "stdout",
     "output_type": "stream",
     "text": [
      "[pred] we study the phase behavior of a nematic liquid crystal confined between a patterned substrate and a flat substrate with strong anchoring\n",
      "[true] we study the phase behavior of a nematic liquid crystal confined between a flat substrate with strong anchoring and a patterned substrate\n",
      "\n",
      "\n",
      "\n",
      "[pred] determining the scaling relations between galaxy clusters requires large samples of uniformly observed clusters. We measure the mean observable x -\n",
      "[true] determining the scaling relations between galaxy cluster observables requires large samples of uniformly observed clusters. we measure the mean x -\n",
      "\n",
      "\n",
      "\n",
      "[pred] we show how to control spatial correlations in a degenerate quantum parametric multimode optical oscillator type I below threshold by a\n",
      "[true] we show how to control spatial quantum correlations in a multimode degenerate optical parametric oscillator type i below threshold by \n",
      "setting preds_emb\n"
     ]
    },
    {
     "name": "stderr",
     "output_type": "stream",
     "text": [
      "\n",
      "generating from val:   0%|                                                                                               | 0/4 [00:00<?, ?it/s]\u001b[A\n",
      "generating from val:  25%|█████████████████████▊                                                                 | 1/4 [00:14<00:43, 14.36s/it]\u001b[A\n",
      "generating from val:  50%|███████████████████████████████████████████▌                                           | 2/4 [00:28<00:28, 14.42s/it]\u001b[A\n",
      "generating from val:  75%|█████████████████████████████████████████████████████████████████▎                     | 3/4 [00:43<00:14, 14.55s/it]\u001b[A\n",
      "generating from val: 100%|███████████████████████████████████████████████████████████████████████████████████████| 4/4 [00:57<00:00, 14.47s/it]\u001b[A\n",
      "                                                                                                                                               \u001b[AWarning: Empty reference sentence detected; setting raw BERTScores to 0.\n",
      " 53%|██████████████████████████████████████████████████████▋                                                | 26/49 [47:14<1:07:26, 175.94s/it]"
     ]
    },
    {
     "name": "stdout",
     "output_type": "stream",
     "text": [
      "[pred] The ex-Reading defender denied fraudulent trading charges relating to the Sodje Sports Foundation - a charity to raise money for Nigerian\n",
      "[true] The ex-Reading defender denied fraudulent trading charges relating to the Sodje Sports Foundation - a charity to raise money for Nigerian\n",
      "\n",
      "\n",
      "\n",
      "[pred] Voges was forced to retire hurt after batting on 86 in June and suffering an injury to Middlesex during the County Championship. When Somerset draw\n",
      "[true] Voges was forced to retire hurt on 86 after suffering the injury while batting during the County Championship draw with Somerset on 4 June. Middlesex\n",
      "\n",
      "\n",
      "\n",
      "[pred] Seven photographs taken in the Norfolk countryside by photographer Josh Olins will appear in the June edition. In her first sitting for the magazine, a du\n",
      "[true] Seven photographs taken in the Norfolk countryside by photographer Josh Olins will appear in the June edition. In her first sitting for a magazine, the du\n",
      "setting preds_emb\n",
      "*** round 27\n"
     ]
    },
    {
     "name": "stderr",
     "output_type": "stream",
     "text": [
      "\n",
      "generating from val:   0%|                                                                                               | 0/4 [00:00<?, ?it/s]\u001b[A\n",
      "generating from val:  25%|█████████████████████▊                                                                 | 1/4 [00:15<00:46, 15.45s/it]\u001b[A\n",
      "generating from val:  50%|███████████████████████████████████████████▌                                           | 2/4 [00:30<00:30, 15.36s/it]\u001b[A\n",
      "generating from val:  75%|█████████████████████████████████████████████████████████████████▎                     | 3/4 [00:46<00:15, 15.31s/it]\u001b[A\n",
      "generating from val: 100%|███████████████████████████████████████████████████████████████████████████████████████| 4/4 [01:00<00:00, 15.06s/it]\u001b[A\n",
      "                                                                                                                                               \u001b[A"
     ]
    },
    {
     "name": "stdout",
     "output_type": "stream",
     "text": [
      "[pred] to the character of the sutures of the skull, which, like those of the infant skull, are relatively smooth and untortuous. In\n",
      "[true] to the character of the sutures of the skull which, like those of the infant skull, are relatively smooth and untortuous. In fact\n",
      "\n",
      "\n",
      "\n",
      "[pred] individual from the Southern Hemisphere, to win a Winter Olympic gold medal and was also part of the short track relay team that won Australia'\n",
      "[true] individual from the Southern Hemisphere, to win a Winter Olympic gold medal and was also part of the short track relay team that won Australia'\n",
      "\n",
      "\n",
      "\n",
      "[pred] the same rights as straight people, while 15% disagreed. Additionally, 69% agreed that they should be protected from workplace discrimination. 13% of H\n",
      "[true] the same rights as straight people, while 15% disagreed. Additionally, 69% agreed that they should be protected from workplace discrimination. 13% of H\n",
      "setting preds_emb\n"
     ]
    },
    {
     "name": "stderr",
     "output_type": "stream",
     "text": [
      "\n",
      "generating from val:   0%|                                                                                               | 0/4 [00:00<?, ?it/s]\u001b[A\n",
      "generating from val:  25%|█████████████████████▊                                                                 | 1/4 [00:14<00:44, 14.80s/it]\u001b[A\n",
      "generating from val:  50%|███████████████████████████████████████████▌                                           | 2/4 [00:30<00:30, 15.39s/it]\u001b[A\n",
      "generating from val:  75%|█████████████████████████████████████████████████████████████████▎                     | 3/4 [00:46<00:15, 15.65s/it]\u001b[A\n",
      "generating from val: 100%|███████████████████████████████████████████████████████████████████████████████████████| 4/4 [01:01<00:00, 15.33s/it]\u001b[A\n",
      "                                                                                                                                               \u001b[A"
     ]
    },
    {
     "name": "stdout",
     "output_type": "stream",
     "text": [
      "[pred] we study the phase behavior of a nematic liquid crystal confined between a flat substrate and a patterned substrate with strong anchoring\n",
      "[true] we study the phase behavior of a nematic liquid crystal confined between a flat substrate with strong anchoring and a patterned substrate\n",
      "\n",
      "\n",
      "\n",
      "[pred] determining the scaling relations between galaxy clusters requires large samples of uniformly observed clusters. we measure the mean observables x-\n",
      "[true] determining the scaling relations between galaxy cluster observables requires large samples of uniformly observed clusters. we measure the mean x -\n",
      "\n",
      "\n",
      "\n",
      "[pred] we show how to control spatial correlations in a degenerate quantum parametric multimode optical oscillator type I below threshold by a\n",
      "[true] we show how to control spatial quantum correlations in a multimode degenerate optical parametric oscillator type i below threshold by \n",
      "setting preds_emb\n"
     ]
    },
    {
     "name": "stderr",
     "output_type": "stream",
     "text": [
      "\n",
      "generating from val:   0%|                                                                                               | 0/4 [00:00<?, ?it/s]\u001b[A\n",
      "generating from val:  25%|█████████████████████▊                                                                 | 1/4 [00:15<00:46, 15.35s/it]\u001b[A\n",
      "generating from val:  50%|███████████████████████████████████████████▌                                           | 2/4 [00:30<00:30, 15.36s/it]\u001b[A\n",
      "generating from val:  75%|█████████████████████████████████████████████████████████████████▎                     | 3/4 [00:45<00:15, 15.31s/it]\u001b[A\n",
      "generating from val: 100%|███████████████████████████████████████████████████████████████████████████████████████| 4/4 [01:00<00:00, 15.01s/it]\u001b[A\n",
      "                                                                                                                                               \u001b[AWarning: Empty reference sentence detected; setting raw BERTScores to 0.\n",
      " 55%|████████████████████████████████████████████████████████▊                                              | 27/49 [50:32<1:06:58, 182.67s/it]"
     ]
    },
    {
     "name": "stdout",
     "output_type": "stream",
     "text": [
      "[pred] The ex-Reading defender denied fraudulent trading charges relating to the Sodje Sports Foundation - a charity to raise money for Nigerian\n",
      "[true] The ex-Reading defender denied fraudulent trading charges relating to the Sodje Sports Foundation - a charity to raise money for Nigerian\n",
      "\n",
      "\n",
      "\n",
      "[pred] Voges was forced to retire hurt after suffering an injury while batting for 86 with Middlesex on 16 June in the County Championship draw. Somerset\n",
      "[true] Voges was forced to retire hurt on 86 after suffering the injury while batting during the County Championship draw with Somerset on 4 June. Middlesex\n",
      "\n",
      "\n",
      "\n",
      "[pred] Seven photographs taken in the Norfolk countryside by photographer Josh Olins will appear in the June edition. In her first sitting for the magazine, a du\n",
      "[true] Seven photographs taken in the Norfolk countryside by photographer Josh Olins will appear in the June edition. In her first sitting for a magazine, the du\n",
      "setting preds_emb\n",
      "*** round 28\n"
     ]
    },
    {
     "name": "stderr",
     "output_type": "stream",
     "text": [
      "\n",
      "generating from val:   0%|                                                                                               | 0/4 [00:00<?, ?it/s]\u001b[A\n",
      "generating from val:  25%|█████████████████████▊                                                                 | 1/4 [00:15<00:47, 15.92s/it]\u001b[A\n",
      "generating from val:  50%|███████████████████████████████████████████▌                                           | 2/4 [00:31<00:31, 15.83s/it]\u001b[A\n",
      "generating from val:  75%|█████████████████████████████████████████████████████████████████▎                     | 3/4 [00:47<00:16, 16.04s/it]\u001b[A\n",
      "generating from val: 100%|███████████████████████████████████████████████████████████████████████████████████████| 4/4 [01:03<00:00, 15.73s/it]\u001b[A\n",
      "                                                                                                                                               \u001b[A"
     ]
    },
    {
     "name": "stdout",
     "output_type": "stream",
     "text": [
      "[pred] to the character of the sutures of the skull, which, like those of the infant skull, are relatively smooth and untortuous. In\n",
      "[true] to the character of the sutures of the skull which, like those of the infant skull, are relatively smooth and untortuous. In fact\n",
      "\n",
      "\n",
      "\n",
      "[pred] individual from the Southern Hemisphere, to win a Winter Olympic gold medal and was also part of the short track relay team that won Australia'\n",
      "[true] individual from the Southern Hemisphere, to win a Winter Olympic gold medal and was also part of the short track relay team that won Australia'\n",
      "\n",
      "\n",
      "\n",
      "[pred] the same rights as straight people, while 15% disagreed. Additionally, 69% agreed that they should be protected from workplace discrimination. 13% of H\n",
      "[true] the same rights as straight people, while 15% disagreed. Additionally, 69% agreed that they should be protected from workplace discrimination. 13% of H\n",
      "setting preds_emb\n"
     ]
    },
    {
     "name": "stderr",
     "output_type": "stream",
     "text": [
      "\n",
      "generating from val:   0%|                                                                                               | 0/4 [00:00<?, ?it/s]\u001b[A\n",
      "generating from val:  25%|█████████████████████▊                                                                 | 1/4 [00:15<00:46, 15.54s/it]\u001b[A\n",
      "generating from val:  50%|███████████████████████████████████████████▌                                           | 2/4 [00:31<00:31, 15.55s/it]\u001b[A\n",
      "generating from val:  75%|█████████████████████████████████████████████████████████████████▎                     | 3/4 [00:46<00:15, 15.52s/it]\u001b[A\n",
      "generating from val: 100%|███████████████████████████████████████████████████████████████████████████████████████| 4/4 [01:01<00:00, 15.45s/it]\u001b[A\n",
      "                                                                                                                                               \u001b[A"
     ]
    },
    {
     "name": "stdout",
     "output_type": "stream",
     "text": [
      "[pred] we study the phase behavior of a nematic liquid crystal confined between a patterned substrate and a flat substrate with strong anchoring\n",
      "[true] we study the phase behavior of a nematic liquid crystal confined between a flat substrate with strong anchoring and a patterned substrate\n",
      "\n",
      "\n",
      "\n",
      "[pred] determining the scaling relations between galaxy clusters requires large samples of uniformly observed clusters. We measure the mean observable x -\n",
      "[true] determining the scaling relations between galaxy cluster observables requires large samples of uniformly observed clusters. we measure the mean x -\n",
      "\n",
      "\n",
      "\n",
      "[pred] we show how to control spatial correlations in a degenerate quantum parametric multimode optical oscillator type I below threshold by a\n",
      "[true] we show how to control spatial quantum correlations in a multimode degenerate optical parametric oscillator type i below threshold by \n",
      "setting preds_emb\n"
     ]
    },
    {
     "name": "stderr",
     "output_type": "stream",
     "text": [
      "\n",
      "generating from val:   0%|                                                                                               | 0/4 [00:00<?, ?it/s]\u001b[A\n",
      "generating from val:  25%|█████████████████████▊                                                                 | 1/4 [00:15<00:46, 15.50s/it]\u001b[A\n",
      "generating from val:  50%|███████████████████████████████████████████▌                                           | 2/4 [00:30<00:30, 15.45s/it]\u001b[A\n",
      "generating from val:  75%|█████████████████████████████████████████████████████████████████▎                     | 3/4 [00:46<00:15, 15.50s/it]\u001b[A\n",
      "generating from val: 100%|███████████████████████████████████████████████████████████████████████████████████████| 4/4 [01:01<00:00, 15.21s/it]\u001b[A\n",
      "                                                                                                                                               \u001b[AWarning: Empty reference sentence detected; setting raw BERTScores to 0.\n",
      " 57%|██████████████████████████████████████████████████████████▊                                            | 28/49 [53:54<1:05:59, 188.57s/it]"
     ]
    },
    {
     "name": "stdout",
     "output_type": "stream",
     "text": [
      "[pred] The ex-Reading defender denied fraudulent trading charges relating to the Sodje Sports Foundation - a charity to raise money for Nigerian\n",
      "[true] The ex-Reading defender denied fraudulent trading charges relating to the Sodje Sports Foundation - a charity to raise money for Nigerian\n",
      "\n",
      "\n",
      "\n",
      "[pred] Voges was forced to retire hurt after batting for 89 on 16 June in the County Championship draw with Middlesex. After suffering injury. Somerset\n",
      "[true] Voges was forced to retire hurt on 86 after suffering the injury while batting during the County Championship draw with Somerset on 4 June. Middlesex\n",
      "\n",
      "\n",
      "\n",
      "[pred] Seven photographs taken in the Norfolk countryside by photographer Josh Olins will appear in the June edition. In her first sitting for the magazine, a du\n",
      "[true] Seven photographs taken in the Norfolk countryside by photographer Josh Olins will appear in the June edition. In her first sitting for a magazine, the du\n",
      "setting preds_emb\n",
      "*** round 29\n"
     ]
    },
    {
     "name": "stderr",
     "output_type": "stream",
     "text": [
      "\n",
      "generating from val:   0%|                                                                                               | 0/4 [00:00<?, ?it/s]\u001b[A\n",
      "generating from val:  25%|█████████████████████▊                                                                 | 1/4 [00:15<00:47, 15.81s/it]\u001b[A\n",
      "generating from val:  50%|███████████████████████████████████████████▌                                           | 2/4 [00:31<00:32, 16.01s/it]\u001b[A\n",
      "generating from val:  75%|█████████████████████████████████████████████████████████████████▎                     | 3/4 [00:48<00:16, 16.05s/it]\u001b[A\n",
      "generating from val: 100%|███████████████████████████████████████████████████████████████████████████████████████| 4/4 [01:03<00:00, 15.91s/it]\u001b[A\n",
      "                                                                                                                                               \u001b[A"
     ]
    },
    {
     "name": "stdout",
     "output_type": "stream",
     "text": [
      "[pred] to the character of the sutures of the skull, which, like those of the infant skull, are relatively smooth and untortuous. In\n",
      "[true] to the character of the sutures of the skull which, like those of the infant skull, are relatively smooth and untortuous. In fact\n",
      "\n",
      "\n",
      "\n",
      "[pred] individual from the Southern Hemisphere, to win a Winter Olympic gold medal and was also part of the short track relay team that won Australia'\n",
      "[true] individual from the Southern Hemisphere, to win a Winter Olympic gold medal and was also part of the short track relay team that won Australia'\n",
      "\n",
      "\n",
      "\n",
      "[pred] the same rights as straight people, while 15% disagreed. Additionally, 69% agreed that they should be protected from workplace discrimination. 13% of H\n",
      "[true] the same rights as straight people, while 15% disagreed. Additionally, 69% agreed that they should be protected from workplace discrimination. 13% of H\n",
      "setting preds_emb\n"
     ]
    },
    {
     "name": "stderr",
     "output_type": "stream",
     "text": [
      "\n",
      "generating from val:   0%|                                                                                               | 0/4 [00:00<?, ?it/s]\u001b[A\n",
      "generating from val:  25%|█████████████████████▊                                                                 | 1/4 [00:16<00:48, 16.05s/it]\u001b[A\n",
      "generating from val:  50%|███████████████████████████████████████████▌                                           | 2/4 [00:31<00:31, 15.93s/it]\u001b[A\n",
      "generating from val:  75%|█████████████████████████████████████████████████████████████████▎                     | 3/4 [00:48<00:16, 16.06s/it]\u001b[A\n",
      "generating from val: 100%|███████████████████████████████████████████████████████████████████████████████████████| 4/4 [01:03<00:00, 15.99s/it]\u001b[A\n",
      "                                                                                                                                               \u001b[A"
     ]
    },
    {
     "name": "stdout",
     "output_type": "stream",
     "text": [
      "[pred] we study the phase behavior of a nematic liquid crystal confined between a flat substrate and a patterned substrate with strong anchoring\n",
      "[true] we study the phase behavior of a nematic liquid crystal confined between a flat substrate with strong anchoring and a patterned substrate\n",
      "\n",
      "\n",
      "\n",
      "[pred] determining the scaling relations between galaxy clusters requires large samples of uniformly observed clusters. we measure the mean observables x-\n",
      "[true] determining the scaling relations between galaxy cluster observables requires large samples of uniformly observed clusters. we measure the mean x -\n",
      "\n",
      "\n",
      "\n",
      "[pred] we show how to control spatial correlations in a degenerate quantum parametric multimode optical oscillator type I below threshold by a\n",
      "[true] we show how to control spatial quantum correlations in a multimode degenerate optical parametric oscillator type i below threshold by \n",
      "setting preds_emb\n"
     ]
    },
    {
     "name": "stderr",
     "output_type": "stream",
     "text": [
      "\n",
      "generating from val:   0%|                                                                                               | 0/4 [00:00<?, ?it/s]\u001b[A\n",
      "generating from val:  25%|█████████████████████▊                                                                 | 1/4 [00:15<00:47, 15.87s/it]\u001b[A\n",
      "generating from val:  50%|███████████████████████████████████████████▌                                           | 2/4 [00:32<00:32, 16.09s/it]\u001b[A\n",
      "generating from val:  75%|█████████████████████████████████████████████████████████████████▎                     | 3/4 [00:48<00:16, 16.30s/it]\u001b[A\n",
      "generating from val: 100%|███████████████████████████████████████████████████████████████████████████████████████| 4/4 [01:04<00:00, 16.06s/it]\u001b[A\n",
      "                                                                                                                                               \u001b[AWarning: Empty reference sentence detected; setting raw BERTScores to 0.\n",
      " 59%|████████████████████████████████████████████████████████████▉                                          | 29/49 [57:22<1:04:44, 194.23s/it]"
     ]
    },
    {
     "name": "stdout",
     "output_type": "stream",
     "text": [
      "[pred] The ex-Reading defender denied fraudulent trading charges relating to the Sodje Sports Foundation - a charity to raise money for Nigerian\n",
      "[true] The ex-Reading defender denied fraudulent trading charges relating to the Sodje Sports Foundation - a charity to raise money for Nigerian\n",
      "\n",
      "\n",
      "\n",
      "[pred] Voges was forced to retire hurt after batting on 16 June while suffering a 86 injury in the County Championship draw with Somerset. Middlesex\n",
      "[true] Voges was forced to retire hurt on 86 after suffering the injury while batting during the County Championship draw with Somerset on 4 June. Middlesex\n",
      "\n",
      "\n",
      "\n",
      "[pred] Seven photographs taken in the Norfolk countryside by photographer Josh Olins will appear in the June edition. In her first sitting for the magazine, a du\n",
      "[true] Seven photographs taken in the Norfolk countryside by photographer Josh Olins will appear in the June edition. In her first sitting for a magazine, the du\n",
      "setting preds_emb\n",
      "*** round 30\n"
     ]
    },
    {
     "name": "stderr",
     "output_type": "stream",
     "text": [
      "\n",
      "generating from val:   0%|                                                                                               | 0/4 [00:00<?, ?it/s]\u001b[A\n",
      "generating from val:  25%|█████████████████████▊                                                                 | 1/4 [00:16<00:50, 16.83s/it]\u001b[A\n",
      "generating from val:  50%|███████████████████████████████████████████▌                                           | 2/4 [00:33<00:33, 16.92s/it]\u001b[A\n",
      "generating from val:  75%|█████████████████████████████████████████████████████████████████▎                     | 3/4 [00:50<00:16, 16.86s/it]\u001b[A\n",
      "generating from val: 100%|███████████████████████████████████████████████████████████████████████████████████████| 4/4 [01:07<00:00, 16.71s/it]\u001b[A\n",
      "                                                                                                                                               \u001b[A"
     ]
    },
    {
     "name": "stdout",
     "output_type": "stream",
     "text": [
      "[pred] to the character of the sutures of the skull, which, like those of the infant skull, are relatively smooth and untortuous. In\n",
      "[true] to the character of the sutures of the skull which, like those of the infant skull, are relatively smooth and untortuous. In fact\n",
      "\n",
      "\n",
      "\n",
      "[pred] individual from the Southern Hemisphere, to win a Winter Olympic gold medal and was also part of the short track relay team that won Australia'\n",
      "[true] individual from the Southern Hemisphere, to win a Winter Olympic gold medal and was also part of the short track relay team that won Australia'\n",
      "\n",
      "\n",
      "\n",
      "[pred] the same rights as straight people, while 15% disagreed. Additionally, 69% agreed that they should be protected from workplace discrimination. 13% of H\n",
      "[true] the same rights as straight people, while 15% disagreed. Additionally, 69% agreed that they should be protected from workplace discrimination. 13% of H\n",
      "setting preds_emb\n"
     ]
    },
    {
     "name": "stderr",
     "output_type": "stream",
     "text": [
      "\n",
      "generating from val:   0%|                                                                                               | 0/4 [00:00<?, ?it/s]\u001b[A\n",
      "generating from val:  25%|█████████████████████▊                                                                 | 1/4 [00:17<00:51, 17.02s/it]\u001b[A\n",
      "generating from val:  50%|███████████████████████████████████████████▌                                           | 2/4 [00:33<00:33, 16.95s/it]\u001b[A\n",
      "generating from val:  75%|█████████████████████████████████████████████████████████████████▎                     | 3/4 [00:50<00:16, 16.91s/it]\u001b[A\n",
      "generating from val: 100%|███████████████████████████████████████████████████████████████████████████████████████| 4/4 [01:06<00:00, 16.58s/it]\u001b[A\n",
      "                                                                                                                                               \u001b[A"
     ]
    },
    {
     "name": "stdout",
     "output_type": "stream",
     "text": [
      "[pred] we study the phase behavior of a nematic liquid crystal confined between a patterned substrate and a flat substrate with strong anchoring\n",
      "[true] we study the phase behavior of a nematic liquid crystal confined between a flat substrate with strong anchoring and a patterned substrate\n",
      "\n",
      "\n",
      "\n",
      "[pred] determining the scaling relations between galaxy clusters requires large samples of uniformly observed clusters. We measure the mean observable x -\n",
      "[true] determining the scaling relations between galaxy cluster observables requires large samples of uniformly observed clusters. we measure the mean x -\n",
      "\n",
      "\n",
      "\n",
      "[pred] we show how to control spatial correlations in a degenerate quantum parametric multimode optical oscillator type I below threshold by a\n",
      "[true] we show how to control spatial quantum correlations in a multimode degenerate optical parametric oscillator type i below threshold by \n",
      "setting preds_emb\n"
     ]
    },
    {
     "name": "stderr",
     "output_type": "stream",
     "text": [
      "\n",
      "generating from val:   0%|                                                                                               | 0/4 [00:00<?, ?it/s]\u001b[A\n",
      "generating from val:  25%|█████████████████████▊                                                                 | 1/4 [00:17<00:51, 17.33s/it]\u001b[A\n",
      "generating from val:  50%|███████████████████████████████████████████▌                                           | 2/4 [00:34<00:34, 17.34s/it]\u001b[A\n",
      "generating from val:  75%|█████████████████████████████████████████████████████████████████▎                     | 3/4 [00:51<00:17, 17.25s/it]\u001b[A\n",
      "generating from val: 100%|███████████████████████████████████████████████████████████████████████████████████████| 4/4 [01:07<00:00, 16.70s/it]\u001b[A\n",
      "                                                                                                                                               \u001b[AWarning: Empty reference sentence detected; setting raw BERTScores to 0.\n",
      " 61%|█████████████████████████████████████████████████████████████▊                                       | 30/49 [1:00:58<1:03:39, 201.00s/it]"
     ]
    },
    {
     "name": "stdout",
     "output_type": "stream",
     "text": [
      "[pred] The ex-Reading defender denied fraudulent trading charges relating to the Sodje Sports Foundation - a charity to raise money for Nigerian\n",
      "[true] The ex-Reading defender denied fraudulent trading charges relating to the Sodje Sports Foundation - a charity to raise money for Nigerian\n",
      "\n",
      "\n",
      "\n",
      "[pred] Voges was forced to retire hurt after batting for 86 on 4 June while suffering an injury in the County Championship draw with Somerset. Middlesex\n",
      "[true] Voges was forced to retire hurt on 86 after suffering the injury while batting during the County Championship draw with Somerset on 4 June. Middlesex\n",
      "\n",
      "\n",
      "\n",
      "[pred] Seven photographs taken in the Norfolk countryside by photographer Josh Olins will appear in the June edition. In her first sitting for the magazine, a du\n",
      "[true] Seven photographs taken in the Norfolk countryside by photographer Josh Olins will appear in the June edition. In her first sitting for a magazine, the du\n",
      "setting preds_emb\n",
      "*** round 31\n"
     ]
    },
    {
     "name": "stderr",
     "output_type": "stream",
     "text": [
      "\n",
      "generating from val:   0%|                                                                                               | 0/4 [00:00<?, ?it/s]\u001b[A\n",
      "generating from val:  25%|█████████████████████▊                                                                 | 1/4 [00:17<00:51, 17.16s/it]\u001b[A\n",
      "generating from val:  50%|███████████████████████████████████████████▌                                           | 2/4 [00:34<00:34, 17.33s/it]\u001b[A\n",
      "generating from val:  75%|█████████████████████████████████████████████████████████████████▎                     | 3/4 [00:52<00:17, 17.42s/it]\u001b[A\n",
      "generating from val: 100%|███████████████████████████████████████████████████████████████████████████████████████| 4/4 [01:09<00:00, 17.24s/it]\u001b[A\n",
      "                                                                                                                                               \u001b[A"
     ]
    },
    {
     "name": "stdout",
     "output_type": "stream",
     "text": [
      "[pred] to the character of the sutures of the skull, which, like those of the infant skull, are relatively smooth and untortuous. In\n",
      "[true] to the character of the sutures of the skull which, like those of the infant skull, are relatively smooth and untortuous. In fact\n",
      "\n",
      "\n",
      "\n",
      "[pred] individual from the Southern Hemisphere, to win a Winter Olympic gold medal and was also part of the short track relay team that won Australia'\n",
      "[true] individual from the Southern Hemisphere, to win a Winter Olympic gold medal and was also part of the short track relay team that won Australia'\n",
      "\n",
      "\n",
      "\n",
      "[pred] the same rights as straight people, while 15% disagreed. Additionally, 69% agreed that they should be protected from workplace discrimination. 13% of H\n",
      "[true] the same rights as straight people, while 15% disagreed. Additionally, 69% agreed that they should be protected from workplace discrimination. 13% of H\n",
      "setting preds_emb\n"
     ]
    },
    {
     "name": "stderr",
     "output_type": "stream",
     "text": [
      "\n",
      "generating from val:   0%|                                                                                               | 0/4 [00:00<?, ?it/s]\u001b[A\n",
      "generating from val:  25%|█████████████████████▊                                                                 | 1/4 [00:17<00:52, 17.41s/it]\u001b[A\n",
      "generating from val:  50%|███████████████████████████████████████████▌                                           | 2/4 [00:34<00:34, 17.50s/it]\u001b[A\n",
      "generating from val:  75%|█████████████████████████████████████████████████████████████████▎                     | 3/4 [00:52<00:17, 17.44s/it]\u001b[A\n",
      "generating from val: 100%|███████████████████████████████████████████████████████████████████████████████████████| 4/4 [01:09<00:00, 17.18s/it]\u001b[A\n",
      "                                                                                                                                               \u001b[A"
     ]
    },
    {
     "name": "stdout",
     "output_type": "stream",
     "text": [
      "[pred] we study the phase behavior of a nematic liquid crystal confined between a flat substrate and a patterned substrate with strong anchoring\n",
      "[true] we study the phase behavior of a nematic liquid crystal confined between a flat substrate with strong anchoring and a patterned substrate\n",
      "\n",
      "\n",
      "\n",
      "[pred] determining the scaling relations between galaxy clusters requires large samples of uniformly observed clusters. we measure the mean observables x-\n",
      "[true] determining the scaling relations between galaxy cluster observables requires large samples of uniformly observed clusters. we measure the mean x -\n",
      "\n",
      "\n",
      "\n",
      "[pred] we show how to control spatial correlations in a degenerate quantum parametric multimode optical oscillator type I below threshold by a\n",
      "[true] we show how to control spatial quantum correlations in a multimode degenerate optical parametric oscillator type i below threshold by \n",
      "setting preds_emb\n"
     ]
    },
    {
     "name": "stderr",
     "output_type": "stream",
     "text": [
      "\n",
      "generating from val:   0%|                                                                                               | 0/4 [00:00<?, ?it/s]\u001b[A\n",
      "generating from val:  25%|█████████████████████▊                                                                 | 1/4 [00:17<00:51, 17.23s/it]\u001b[A\n",
      "generating from val:  50%|███████████████████████████████████████████▌                                           | 2/4 [00:35<00:35, 17.61s/it]\u001b[A\n",
      "generating from val:  75%|█████████████████████████████████████████████████████████████████▎                     | 3/4 [00:52<00:17, 17.37s/it]\u001b[A\n",
      "generating from val: 100%|███████████████████████████████████████████████████████████████████████████████████████| 4/4 [01:08<00:00, 17.06s/it]\u001b[A\n",
      "                                                                                                                                               \u001b[AWarning: Empty reference sentence detected; setting raw BERTScores to 0.\n",
      " 63%|███████████████████████████████████████████████████████████████▉                                     | 31/49 [1:04:40<1:02:10, 207.23s/it]"
     ]
    },
    {
     "name": "stdout",
     "output_type": "stream",
     "text": [
      "[pred] The ex-Reading defender denied fraudulent trading charges relating to the Sodje Sports Foundation - a charity to raise money for Nigerian\n",
      "[true] The ex-Reading defender denied fraudulent trading charges relating to the Sodje Sports Foundation - a charity to raise money for Nigerian\n",
      "\n",
      "\n",
      "\n",
      "[pred] Voges was forced to retire hurt after batting for 86 on 4 June while suffering the injury in the County Championship draw with Somerset. Middlesex\n",
      "[true] Voges was forced to retire hurt on 86 after suffering the injury while batting during the County Championship draw with Somerset on 4 June. Middlesex\n",
      "\n",
      "\n",
      "\n",
      "[pred] Seven photographs taken in the Norfolk countryside by photographer Josh Olins will appear in the June edition. In her first sitting for the magazine, a du\n",
      "[true] Seven photographs taken in the Norfolk countryside by photographer Josh Olins will appear in the June edition. In her first sitting for a magazine, the du\n",
      "setting preds_emb\n",
      "*** round 32\n"
     ]
    },
    {
     "name": "stderr",
     "output_type": "stream",
     "text": [
      "\n",
      "generating from val:   0%|                                                                                               | 0/4 [00:00<?, ?it/s]\u001b[A\n",
      "generating from val:  25%|█████████████████████▊                                                                 | 1/4 [00:17<00:52, 17.54s/it]\u001b[A\n",
      "generating from val:  75%|█████████████████████████████████████████████████████████████████▎                     | 3/4 [00:52<00:17, 17.62s/it]\u001b[A\n",
      "generating from val: 100%|███████████████████████████████████████████████████████████████████████████████████████| 4/4 [01:09<00:00, 17.38s/it]\u001b[A\n",
      "                                                                                                                                               \u001b[A"
     ]
    },
    {
     "name": "stdout",
     "output_type": "stream",
     "text": [
      "[pred] we study the phase behavior of a nematic liquid crystal confined between a patterned substrate and a flat substrate with strong anchoring\n",
      "[true] we study the phase behavior of a nematic liquid crystal confined between a flat substrate with strong anchoring and a patterned substrate\n",
      "\n",
      "\n",
      "\n",
      "[pred] determining the scaling relations between galaxy clusters requires large samples of uniformly observed clusters. We measure the mean observable x -\n",
      "[true] determining the scaling relations between galaxy cluster observables requires large samples of uniformly observed clusters. we measure the mean x -\n",
      "\n",
      "\n",
      "\n",
      "[pred] we show how to control spatial correlations in a degenerate quantum parametric multimode optical oscillator type I below threshold by a\n",
      "[true] we show how to control spatial quantum correlations in a multimode degenerate optical parametric oscillator type i below threshold by \n",
      "setting preds_emb\n"
     ]
    },
    {
     "name": "stderr",
     "output_type": "stream",
     "text": [
      "\n",
      "generating from val:   0%|                                                                                               | 0/4 [00:00<?, ?it/s]\u001b[A\n",
      "generating from val:  25%|█████████████████████▊                                                                 | 1/4 [00:17<00:52, 17.60s/it]\u001b[A\n",
      "generating from val:  50%|███████████████████████████████████████████▌                                           | 2/4 [00:35<00:35, 17.67s/it]\u001b[A\n",
      "generating from val:  75%|█████████████████████████████████████████████████████████████████▎                     | 3/4 [00:53<00:17, 17.77s/it]\u001b[A\n",
      "generating from val: 100%|███████████████████████████████████████████████████████████████████████████████████████| 4/4 [01:10<00:00, 17.45s/it]\u001b[A\n",
      "                                                                                                                                               \u001b[AWarning: Empty reference sentence detected; setting raw BERTScores to 0.\n",
      " 65%|█████████████████████████████████████████████████████████████████▉                                   | 32/49 [1:08:25<1:00:10, 212.38s/it]"
     ]
    },
    {
     "name": "stdout",
     "output_type": "stream",
     "text": [
      "[pred] The ex-Reading defender denied fraudulent trading charges relating to the Sodje Sports Foundation - a charity to raise money for Nigerian\n",
      "[true] The ex-Reading defender denied fraudulent trading charges relating to the Sodje Sports Foundation - a charity to raise money for Nigerian\n",
      "\n",
      "\n",
      "\n",
      "[pred] Voges was forced to retire hurt after batting for 86 on 4 June while suffering the injury during the County Championship draw with Somerset. Middlesex\n",
      "[true] Voges was forced to retire hurt on 86 after suffering the injury while batting during the County Championship draw with Somerset on 4 June. Middlesex\n",
      "\n",
      "\n",
      "\n",
      "[pred] Seven photographs taken in the Norfolk countryside by photographer Josh Olins will appear in the June edition. In her first sitting for the magazine, a du\n",
      "[true] Seven photographs taken in the Norfolk countryside by photographer Josh Olins will appear in the June edition. In her first sitting for a magazine, the du\n",
      "setting preds_emb\n",
      "*** round 33\n"
     ]
    },
    {
     "name": "stderr",
     "output_type": "stream",
     "text": [
      "\n",
      "generating from val:   0%|                                                                                               | 0/4 [00:00<?, ?it/s]\u001b[A\n",
      "generating from val:  25%|█████████████████████▊                                                                 | 1/4 [00:18<00:55, 18.47s/it]\u001b[A\n",
      "generating from val:  50%|███████████████████████████████████████████▌                                           | 2/4 [00:36<00:36, 18.45s/it]\u001b[A\n",
      "generating from val:  75%|█████████████████████████████████████████████████████████████████▎                     | 3/4 [00:55<00:18, 18.56s/it]\u001b[A\n",
      "generating from val: 100%|███████████████████████████████████████████████████████████████████████████████████████| 4/4 [01:13<00:00, 18.28s/it]\u001b[A\n",
      "                                                                                                                                               \u001b[A"
     ]
    },
    {
     "name": "stdout",
     "output_type": "stream",
     "text": [
      "[pred] to the character of the sutures of the skull, which, like those of the infant skull, are relatively smooth and untortuous. In\n",
      "[true] to the character of the sutures of the skull which, like those of the infant skull, are relatively smooth and untortuous. In fact\n",
      "\n",
      "\n",
      "\n",
      "[pred] individual from the Southern Hemisphere, to win a Winter Olympic gold medal and was also part of the short track relay team that won Australia'\n",
      "[true] individual from the Southern Hemisphere, to win a Winter Olympic gold medal and was also part of the short track relay team that won Australia'\n",
      "\n",
      "\n",
      "\n",
      "[pred] the same rights as straight people, while 15% disagreed. Additionally, 69% agreed that they should be protected from workplace discrimination. 13% of H\n",
      "[true] the same rights as straight people, while 15% disagreed. Additionally, 69% agreed that they should be protected from workplace discrimination. 13% of H\n",
      "setting preds_emb\n"
     ]
    },
    {
     "name": "stderr",
     "output_type": "stream",
     "text": [
      "\n",
      "generating from val:   0%|                                                                                               | 0/4 [00:00<?, ?it/s]\u001b[A\n",
      "generating from val:  25%|█████████████████████▊                                                                 | 1/4 [00:18<00:56, 18.79s/it]\u001b[A\n",
      "generating from val:  50%|███████████████████████████████████████████▌                                           | 2/4 [00:37<00:37, 18.59s/it]\u001b[A\n",
      "generating from val:  75%|█████████████████████████████████████████████████████████████████▎                     | 3/4 [00:55<00:18, 18.32s/it]\u001b[A\n",
      "generating from val: 100%|███████████████████████████████████████████████████████████████████████████████████████| 4/4 [01:12<00:00, 17.91s/it]\u001b[A\n",
      "                                                                                                                                               \u001b[A"
     ]
    },
    {
     "name": "stdout",
     "output_type": "stream",
     "text": [
      "[pred] we study the phase behavior of a nematic liquid crystal confined between a flat substrate and a patterned substrate with strong anchoring\n",
      "[true] we study the phase behavior of a nematic liquid crystal confined between a flat substrate with strong anchoring and a patterned substrate\n",
      "\n",
      "\n",
      "\n",
      "[pred] determining the scaling relations between galaxy clusters requires large samples of uniformly observed clusters. we measure the mean observables x-\n",
      "[true] determining the scaling relations between galaxy cluster observables requires large samples of uniformly observed clusters. we measure the mean x -\n",
      "\n",
      "\n",
      "\n",
      "[pred] we show how to control spatial correlations in a degenerate quantum parametric multimode optical oscillator type I below threshold by a\n",
      "[true] we show how to control spatial quantum correlations in a multimode degenerate optical parametric oscillator type i below threshold by \n",
      "setting preds_emb\n"
     ]
    },
    {
     "name": "stderr",
     "output_type": "stream",
     "text": [
      "\n",
      "generating from val:   0%|                                                                                               | 0/4 [00:00<?, ?it/s]\u001b[A\n",
      "generating from val:  25%|█████████████████████▊                                                                 | 1/4 [00:18<00:54, 18.16s/it]\u001b[A\n",
      "generating from val:  50%|███████████████████████████████████████████▌                                           | 2/4 [00:36<00:36, 18.03s/it]\u001b[A\n",
      "generating from val:  75%|█████████████████████████████████████████████████████████████████▎                     | 3/4 [00:54<00:18, 18.21s/it]\u001b[A\n",
      "generating from val: 100%|███████████████████████████████████████████████████████████████████████████████████████| 4/4 [01:11<00:00, 17.90s/it]\u001b[A\n",
      "                                                                                                                                               \u001b[AWarning: Empty reference sentence detected; setting raw BERTScores to 0.\n",
      " 67%|█████████████████████████████████████████████████████████████████████▎                                 | 33/49 [1:12:18<58:19, 218.74s/it]"
     ]
    },
    {
     "name": "stdout",
     "output_type": "stream",
     "text": [
      "[pred] The ex-Reading defender denied fraudulent trading charges relating to the Sodje Sports Foundation - a charity to raise money for Nigerian\n",
      "[true] The ex-Reading defender denied fraudulent trading charges relating to the Sodje Sports Foundation - a charity to raise money for Nigerian\n",
      "\n",
      "\n",
      "\n",
      "[pred] Voges was forced to retire hurt after batting for 86 on 4 June while suffering the injury in the County Championship draw with Somerset. Middlesex\n",
      "[true] Voges was forced to retire hurt on 86 after suffering the injury while batting during the County Championship draw with Somerset on 4 June. Middlesex\n",
      "\n",
      "\n",
      "\n",
      "[pred] Seven photographs taken in the Norfolk countryside by photographer Josh Olins will appear in the June edition. In her first sitting for the magazine, a du\n",
      "[true] Seven photographs taken in the Norfolk countryside by photographer Josh Olins will appear in the June edition. In her first sitting for a magazine, the du\n",
      "setting preds_emb\n",
      "*** round 34\n"
     ]
    },
    {
     "name": "stderr",
     "output_type": "stream",
     "text": [
      "\n",
      "generating from val:   0%|                                                                                               | 0/4 [00:00<?, ?it/s]\u001b[A\n",
      "generating from val:  25%|█████████████████████▊                                                                 | 1/4 [00:18<00:56, 18.80s/it]\u001b[A\n",
      "generating from val:  50%|███████████████████████████████████████████▌                                           | 2/4 [00:37<00:37, 18.78s/it]\u001b[A\n",
      "generating from val:  75%|█████████████████████████████████████████████████████████████████▎                     | 3/4 [00:56<00:18, 18.73s/it]\u001b[A\n",
      "generating from val: 100%|███████████████████████████████████████████████████████████████████████████████████████| 4/4 [01:14<00:00, 18.43s/it]\u001b[A\n",
      "                                                                                                                                               \u001b[A"
     ]
    },
    {
     "name": "stdout",
     "output_type": "stream",
     "text": [
      "[pred] to the character of the sutures of the skull, which, like those of the infant skull, are relatively smooth and untortuous. In\n",
      "[true] to the character of the sutures of the skull which, like those of the infant skull, are relatively smooth and untortuous. In fact\n",
      "\n",
      "\n",
      "\n",
      "[pred] individual from the Southern Hemisphere, to win a Winter Olympic gold medal and was also part of the short track relay team that won Australia'\n",
      "[true] individual from the Southern Hemisphere, to win a Winter Olympic gold medal and was also part of the short track relay team that won Australia'\n",
      "\n",
      "\n",
      "\n",
      "[pred] the same rights as straight people, while 15% disagreed. Additionally, 69% agreed that they should be protected from workplace discrimination. 13% of H\n",
      "[true] the same rights as straight people, while 15% disagreed. Additionally, 69% agreed that they should be protected from workplace discrimination. 13% of H\n",
      "setting preds_emb\n"
     ]
    },
    {
     "name": "stderr",
     "output_type": "stream",
     "text": [
      "\n",
      "generating from val:   0%|                                                                                               | 0/4 [00:00<?, ?it/s]\u001b[A\n",
      "generating from val:  25%|█████████████████████▊                                                                 | 1/4 [00:18<00:56, 18.81s/it]\u001b[A\n",
      "generating from val:  50%|███████████████████████████████████████████▌                                           | 2/4 [00:37<00:37, 18.73s/it]\u001b[A\n",
      "generating from val:  75%|█████████████████████████████████████████████████████████████████▎                     | 3/4 [00:56<00:18, 18.87s/it]\u001b[A\n",
      "generating from val: 100%|███████████████████████████████████████████████████████████████████████████████████████| 4/4 [01:14<00:00, 18.64s/it]\u001b[A\n",
      "                                                                                                                                               \u001b[A"
     ]
    },
    {
     "name": "stdout",
     "output_type": "stream",
     "text": [
      "[pred] we study the phase behavior of a nematic liquid crystal confined between a patterned substrate and a flat substrate with strong anchoring\n",
      "[true] we study the phase behavior of a nematic liquid crystal confined between a flat substrate with strong anchoring and a patterned substrate\n",
      "\n",
      "\n",
      "\n",
      "[pred] determining the scaling relations between galaxy clusters requires large samples of uniformly observed clusters. We measure the mean observable x -\n",
      "[true] determining the scaling relations between galaxy cluster observables requires large samples of uniformly observed clusters. we measure the mean x -\n",
      "\n",
      "\n",
      "\n",
      "[pred] we show how to control spatial correlations in a degenerate quantum parametric multimode optical oscillator type I below threshold by a\n",
      "[true] we show how to control spatial quantum correlations in a multimode degenerate optical parametric oscillator type i below threshold by \n",
      "setting preds_emb\n"
     ]
    },
    {
     "name": "stderr",
     "output_type": "stream",
     "text": [
      "\n",
      "generating from val:   0%|                                                                                               | 0/4 [00:00<?, ?it/s]\u001b[A\n",
      "generating from val:  25%|█████████████████████▊                                                                 | 1/4 [00:18<00:56, 18.99s/it]\u001b[A\n",
      "generating from val:  50%|███████████████████████████████████████████▌                                           | 2/4 [00:37<00:37, 18.95s/it]\u001b[A\n",
      "generating from val:  75%|█████████████████████████████████████████████████████████████████▎                     | 3/4 [00:56<00:18, 18.69s/it]\u001b[A\n",
      "generating from val: 100%|███████████████████████████████████████████████████████████████████████████████████████| 4/4 [01:13<00:00, 18.19s/it]\u001b[A\n",
      "                                                                                                                                               \u001b[AWarning: Empty reference sentence detected; setting raw BERTScores to 0.\n",
      " 69%|███████████████████████████████████████████████████████████████████████▍                               | 34/49 [1:16:17<56:09, 224.62s/it]"
     ]
    },
    {
     "name": "stdout",
     "output_type": "stream",
     "text": [
      "[pred] The ex-Reading defender denied fraudulent trading charges relating to the Sodje Sports Foundation - a charity to raise money for Nigerian\n",
      "[true] The ex-Reading defender denied fraudulent trading charges relating to the Sodje Sports Foundation - a charity to raise money for Nigerian\n",
      "\n",
      "\n",
      "\n",
      "[pred] Voges was forced to retire hurt after batting for 86 on 4 June while suffering the injury during the County Championship draw with Somerset. Middlesex\n",
      "[true] Voges was forced to retire hurt on 86 after suffering the injury while batting during the County Championship draw with Somerset on 4 June. Middlesex\n",
      "\n",
      "\n",
      "\n",
      "[pred] Seven photographs taken in the Norfolk countryside by photographer Josh Olins will appear in the June edition. In her first sitting for the magazine, a du\n",
      "[true] Seven photographs taken in the Norfolk countryside by photographer Josh Olins will appear in the June edition. In her first sitting for a magazine, the du\n",
      "setting preds_emb\n",
      "*** round 35\n"
     ]
    },
    {
     "name": "stderr",
     "output_type": "stream",
     "text": [
      "\n",
      "generating from val:   0%|                                                                                               | 0/4 [00:00<?, ?it/s]\u001b[A\n",
      "generating from val:  25%|█████████████████████▊                                                                 | 1/4 [00:19<00:57, 19.33s/it]\u001b[A\n",
      "generating from val:  50%|███████████████████████████████████████████▌                                           | 2/4 [00:38<00:38, 19.41s/it]\u001b[A\n",
      "generating from val:  75%|█████████████████████████████████████████████████████████████████▎                     | 3/4 [00:58<00:19, 19.46s/it]\u001b[A\n",
      "generating from val: 100%|███████████████████████████████████████████████████████████████████████████████████████| 4/4 [01:17<00:00, 19.16s/it]\u001b[A\n",
      "                                                                                                                                               \u001b[A"
     ]
    },
    {
     "name": "stdout",
     "output_type": "stream",
     "text": [
      "[pred] to the character of the sutures of the skull, which, like those of the infant skull, are relatively smooth and untortuous. In\n",
      "[true] to the character of the sutures of the skull which, like those of the infant skull, are relatively smooth and untortuous. In fact\n",
      "\n",
      "\n",
      "\n",
      "[pred] individual from the Southern Hemisphere, to win a Winter Olympic gold medal and was also part of the short track relay team that won Australia'\n",
      "[true] individual from the Southern Hemisphere, to win a Winter Olympic gold medal and was also part of the short track relay team that won Australia'\n",
      "\n",
      "\n",
      "\n",
      "[pred] the same rights as straight people, while 15% disagreed. Additionally, 69% agreed that they should be protected from workplace discrimination. 13% of H\n",
      "[true] the same rights as straight people, while 15% disagreed. Additionally, 69% agreed that they should be protected from workplace discrimination. 13% of H\n",
      "setting preds_emb\n"
     ]
    },
    {
     "name": "stderr",
     "output_type": "stream",
     "text": [
      "\n",
      "generating from val:   0%|                                                                                               | 0/4 [00:00<?, ?it/s]\u001b[A\n",
      "generating from val:  25%|█████████████████████▊                                                                 | 1/4 [00:19<00:59, 19.89s/it]\u001b[A\n",
      "generating from val:  50%|███████████████████████████████████████████▌                                           | 2/4 [00:39<00:40, 20.01s/it]\u001b[A\n",
      "generating from val:  75%|█████████████████████████████████████████████████████████████████▎                     | 3/4 [00:59<00:19, 19.59s/it]\u001b[A\n",
      "generating from val: 100%|███████████████████████████████████████████████████████████████████████████████████████| 4/4 [01:17<00:00, 19.06s/it]\u001b[A\n",
      "                                                                                                                                               \u001b[A"
     ]
    },
    {
     "name": "stdout",
     "output_type": "stream",
     "text": [
      "[pred] we study the phase behavior of a nematic liquid crystal confined between a flat substrate and a patterned substrate with strong anchoring\n",
      "[true] we study the phase behavior of a nematic liquid crystal confined between a flat substrate with strong anchoring and a patterned substrate\n",
      "\n",
      "\n",
      "\n",
      "[pred] determining the scaling relations between galaxy clusters requires large samples of uniformly observed clusters. we measure the mean observables x-\n",
      "[true] determining the scaling relations between galaxy cluster observables requires large samples of uniformly observed clusters. we measure the mean x -\n",
      "\n",
      "\n",
      "\n",
      "[pred] we show how to control spatial correlations in a degenerate quantum parametric multimode optical oscillator type I below threshold by a\n",
      "[true] we show how to control spatial quantum correlations in a multimode degenerate optical parametric oscillator type i below threshold by \n",
      "setting preds_emb\n"
     ]
    },
    {
     "name": "stderr",
     "output_type": "stream",
     "text": [
      "\n",
      "generating from val:   0%|                                                                                               | 0/4 [00:00<?, ?it/s]\u001b[A\n",
      "generating from val:  25%|█████████████████████▊                                                                 | 1/4 [00:19<00:58, 19.51s/it]\u001b[A\n",
      "generating from val:  50%|███████████████████████████████████████████▌                                           | 2/4 [00:39<00:39, 19.51s/it]\u001b[A\n",
      "generating from val:  75%|█████████████████████████████████████████████████████████████████▎                     | 3/4 [00:58<00:19, 19.56s/it]\u001b[A\n",
      "generating from val: 100%|███████████████████████████████████████████████████████████████████████████████████████| 4/4 [01:17<00:00, 19.45s/it]\u001b[A\n",
      "                                                                                                                                               \u001b[AWarning: Empty reference sentence detected; setting raw BERTScores to 0.\n",
      " 71%|█████████████████████████████████████████████████████████████████████████▌                             | 35/49 [1:20:24<54:00, 231.49s/it]"
     ]
    },
    {
     "name": "stdout",
     "output_type": "stream",
     "text": [
      "[pred] The ex-Reading defender denied fraudulent trading charges relating to the Sodje Sports Foundation - a charity to raise money for Nigerian\n",
      "[true] The ex-Reading defender denied fraudulent trading charges relating to the Sodje Sports Foundation - a charity to raise money for Nigerian\n",
      "\n",
      "\n",
      "\n",
      "[pred] Voges was forced to retire hurt after batting for 86 on 4 June while suffering the injury in the County Championship draw with Somerset. Middlesex\n",
      "[true] Voges was forced to retire hurt on 86 after suffering the injury while batting during the County Championship draw with Somerset on 4 June. Middlesex\n",
      "\n",
      "\n",
      "\n",
      "[pred] Seven photographs taken in the Norfolk countryside by photographer Josh Olins will appear in the June edition. In her first sitting for the magazine, a du\n",
      "[true] Seven photographs taken in the Norfolk countryside by photographer Josh Olins will appear in the June edition. In her first sitting for a magazine, the du\n",
      "setting preds_emb\n",
      "*** round 36\n"
     ]
    },
    {
     "name": "stderr",
     "output_type": "stream",
     "text": [
      "\n",
      "generating from val:   0%|                                                                                               | 0/4 [00:00<?, ?it/s]\u001b[A\n",
      "generating from val:  25%|█████████████████████▊                                                                 | 1/4 [00:20<01:00, 20.12s/it]\u001b[A\n",
      "generating from val:  50%|███████████████████████████████████████████▌                                           | 2/4 [00:40<00:40, 20.29s/it]\u001b[A\n",
      "generating from val:  75%|█████████████████████████████████████████████████████████████████▎                     | 3/4 [01:00<00:20, 20.34s/it]\u001b[A\n",
      "generating from val: 100%|███████████████████████████████████████████████████████████████████████████████████████| 4/4 [01:20<00:00, 19.98s/it]\u001b[A\n",
      "                                                                                                                                               \u001b[A"
     ]
    },
    {
     "name": "stdout",
     "output_type": "stream",
     "text": [
      "[pred] to the character of the sutures of the skull, which, like those of the infant skull, are relatively smooth and untortuous. In\n",
      "[true] to the character of the sutures of the skull which, like those of the infant skull, are relatively smooth and untortuous. In fact\n",
      "\n",
      "\n",
      "\n",
      "[pred] individual from the Southern Hemisphere, to win a Winter Olympic gold medal and was also part of the short track relay team that won Australia'\n",
      "[true] individual from the Southern Hemisphere, to win a Winter Olympic gold medal and was also part of the short track relay team that won Australia'\n",
      "\n",
      "\n",
      "\n",
      "[pred] the same rights as straight people, while 15% disagreed. Additionally, 69% agreed that they should be protected from workplace discrimination. 13% of H\n",
      "[true] the same rights as straight people, while 15% disagreed. Additionally, 69% agreed that they should be protected from workplace discrimination. 13% of H\n",
      "setting preds_emb\n"
     ]
    },
    {
     "name": "stderr",
     "output_type": "stream",
     "text": [
      "\n",
      "generating from val:   0%|                                                                                               | 0/4 [00:00<?, ?it/s]\u001b[A\n",
      "generating from val:  25%|█████████████████████▊                                                                 | 1/4 [00:19<00:59, 19.99s/it]\u001b[A\n",
      "generating from val:  50%|███████████████████████████████████████████▌                                           | 2/4 [00:39<00:39, 19.83s/it]\u001b[A\n",
      "generating from val:  75%|█████████████████████████████████████████████████████████████████▎                     | 3/4 [01:00<00:20, 20.09s/it]\u001b[A\n",
      "generating from val: 100%|███████████████████████████████████████████████████████████████████████████████████████| 4/4 [01:19<00:00, 19.81s/it]\u001b[A\n",
      "                                                                                                                                               \u001b[A"
     ]
    },
    {
     "name": "stdout",
     "output_type": "stream",
     "text": [
      "[pred] we study the phase behavior of a nematic liquid crystal confined between a patterned substrate and a flat substrate with strong anchoring\n",
      "[true] we study the phase behavior of a nematic liquid crystal confined between a flat substrate with strong anchoring and a patterned substrate\n",
      "\n",
      "\n",
      "\n",
      "[pred] determining the scaling relations between galaxy clusters requires large samples of uniformly observed clusters. We measure the mean observable x -\n",
      "[true] determining the scaling relations between galaxy cluster observables requires large samples of uniformly observed clusters. we measure the mean x -\n",
      "\n",
      "\n",
      "\n",
      "[pred] we show how to control spatial correlations in a degenerate quantum parametric multimode optical oscillator type I below threshold by a\n",
      "[true] we show how to control spatial quantum correlations in a multimode degenerate optical parametric oscillator type i below threshold by \n",
      "setting preds_emb\n"
     ]
    },
    {
     "name": "stderr",
     "output_type": "stream",
     "text": [
      "\n",
      "generating from val:   0%|                                                                                               | 0/4 [00:00<?, ?it/s]\u001b[A\n",
      "generating from val:  25%|█████████████████████▊                                                                 | 1/4 [00:20<01:00, 20.33s/it]\u001b[A\n",
      "generating from val:  50%|███████████████████████████████████████████▌                                           | 2/4 [00:40<00:40, 20.17s/it]\u001b[A\n",
      "generating from val:  75%|█████████████████████████████████████████████████████████████████▎                     | 3/4 [01:00<00:20, 20.13s/it]\u001b[A\n",
      "generating from val: 100%|███████████████████████████████████████████████████████████████████████████████████████| 4/4 [01:20<00:00, 19.96s/it]\u001b[A\n",
      "                                                                                                                                               \u001b[AWarning: Empty reference sentence detected; setting raw BERTScores to 0.\n",
      " 73%|███████████████████████████████████████████████████████████████████████████▋                           | 36/49 [1:24:40<51:43, 238.75s/it]"
     ]
    },
    {
     "name": "stdout",
     "output_type": "stream",
     "text": [
      "[pred] The ex-Reading defender denied fraudulent trading charges relating to the Sodje Sports Foundation - a charity to raise money for Nigerian\n",
      "[true] The ex-Reading defender denied fraudulent trading charges relating to the Sodje Sports Foundation - a charity to raise money for Nigerian\n",
      "\n",
      "\n",
      "\n",
      "[pred] Voges was forced to retire hurt after batting for 86 on 4 June while suffering the injury during the County Championship draw with Somerset. Middlesex\n",
      "[true] Voges was forced to retire hurt on 86 after suffering the injury while batting during the County Championship draw with Somerset on 4 June. Middlesex\n",
      "\n",
      "\n",
      "\n",
      "[pred] Seven photographs taken in the Norfolk countryside by photographer Josh Olins will appear in the June edition. In her first sitting for the magazine, a du\n",
      "[true] Seven photographs taken in the Norfolk countryside by photographer Josh Olins will appear in the June edition. In her first sitting for a magazine, the du\n",
      "setting preds_emb\n",
      "*** round 37\n"
     ]
    },
    {
     "name": "stderr",
     "output_type": "stream",
     "text": [
      "\n",
      "generating from val:   0%|                                                                                               | 0/4 [00:00<?, ?it/s]\u001b[A\n",
      "generating from val:  25%|█████████████████████▊                                                                 | 1/4 [00:21<01:03, 21.03s/it]\u001b[A\n",
      "generating from val:  50%|███████████████████████████████████████████▌                                           | 2/4 [00:41<00:41, 20.72s/it]\u001b[A\n",
      "generating from val:  75%|█████████████████████████████████████████████████████████████████▎                     | 3/4 [01:02<00:21, 21.02s/it]\u001b[A\n",
      "generating from val: 100%|███████████████████████████████████████████████████████████████████████████████████████| 4/4 [01:22<00:00, 20.49s/it]\u001b[A\n",
      "                                                                                                                                               \u001b[A"
     ]
    },
    {
     "name": "stdout",
     "output_type": "stream",
     "text": [
      "[pred] to the character of the sutures of the skull, which, like those of the infant skull, are relatively smooth and untortuous. In\n",
      "[true] to the character of the sutures of the skull which, like those of the infant skull, are relatively smooth and untortuous. In fact\n",
      "\n",
      "\n",
      "\n",
      "[pred] individual from the Southern Hemisphere, to win a Winter Olympic gold medal and was also part of the short track relay team that won Australia'\n",
      "[true] individual from the Southern Hemisphere, to win a Winter Olympic gold medal and was also part of the short track relay team that won Australia'\n",
      "\n",
      "\n",
      "\n",
      "[pred] the same rights as straight people, while 15% disagreed. Additionally, 69% agreed that they should be protected from workplace discrimination. 13% of H\n",
      "[true] the same rights as straight people, while 15% disagreed. Additionally, 69% agreed that they should be protected from workplace discrimination. 13% of H\n",
      "setting preds_emb\n"
     ]
    },
    {
     "name": "stderr",
     "output_type": "stream",
     "text": [
      "\n",
      "generating from val:   0%|                                                                                               | 0/4 [00:00<?, ?it/s]\u001b[A\n",
      "generating from val:  25%|█████████████████████▊                                                                 | 1/4 [00:20<01:00, 20.25s/it]\u001b[A\n",
      "generating from val:  50%|███████████████████████████████████████████▌                                           | 2/4 [00:40<00:40, 20.33s/it]\u001b[A\n",
      "generating from val:  75%|█████████████████████████████████████████████████████████████████▎                     | 3/4 [01:00<00:20, 20.30s/it]\u001b[A\n",
      "generating from val: 100%|███████████████████████████████████████████████████████████████████████████████████████| 4/4 [01:21<00:00, 20.30s/it]\u001b[A\n",
      "                                                                                                                                               \u001b[A"
     ]
    },
    {
     "name": "stdout",
     "output_type": "stream",
     "text": [
      "[pred] we study the phase behavior of a nematic liquid crystal confined between a flat substrate and a patterned substrate with strong anchoring\n",
      "[true] we study the phase behavior of a nematic liquid crystal confined between a flat substrate with strong anchoring and a patterned substrate\n",
      "\n",
      "\n",
      "\n",
      "[pred] determining the scaling relations between galaxy clusters requires large samples of uniformly observed clusters. we measure the mean observables x-\n",
      "[true] determining the scaling relations between galaxy cluster observables requires large samples of uniformly observed clusters. we measure the mean x -\n",
      "\n",
      "\n",
      "\n",
      "[pred] we show how to control spatial correlations in a degenerate quantum parametric multimode optical oscillator type I below threshold by a\n",
      "[true] we show how to control spatial quantum correlations in a multimode degenerate optical parametric oscillator type i below threshold by \n",
      "setting preds_emb\n"
     ]
    },
    {
     "name": "stderr",
     "output_type": "stream",
     "text": [
      "\n",
      "generating from val:   0%|                                                                                               | 0/4 [00:00<?, ?it/s]\u001b[A\n",
      "generating from val:  25%|█████████████████████▊                                                                 | 1/4 [00:20<01:02, 20.89s/it]\u001b[A\n",
      "generating from val:  50%|███████████████████████████████████████████▌                                           | 2/4 [00:41<00:41, 20.61s/it]\u001b[A\n",
      "generating from val:  75%|█████████████████████████████████████████████████████████████████▎                     | 3/4 [01:01<00:20, 20.63s/it]\u001b[A\n",
      "generating from val: 100%|███████████████████████████████████████████████████████████████████████████████████████| 4/4 [01:21<00:00, 20.35s/it]\u001b[A\n",
      "                                                                                                                                               \u001b[AWarning: Empty reference sentence detected; setting raw BERTScores to 0.\n",
      " 76%|█████████████████████████████████████████████████████████████████████████████▊                         | 37/49 [1:29:01<49:04, 245.40s/it]"
     ]
    },
    {
     "name": "stdout",
     "output_type": "stream",
     "text": [
      "[pred] The ex-Reading defender denied fraudulent trading charges relating to the Sodje Sports Foundation - a charity to raise money for Nigerian\n",
      "[true] The ex-Reading defender denied fraudulent trading charges relating to the Sodje Sports Foundation - a charity to raise money for Nigerian\n",
      "\n",
      "\n",
      "\n",
      "[pred] Voges was forced to retire hurt after batting for 86 on 4 June while suffering the injury in the County Championship draw with Somerset. Middlesex\n",
      "[true] Voges was forced to retire hurt on 86 after suffering the injury while batting during the County Championship draw with Somerset on 4 June. Middlesex\n",
      "\n",
      "\n",
      "\n",
      "[pred] Seven photographs taken in the Norfolk countryside by photographer Josh Olins will appear in the June edition. In her first sitting for the magazine, a du\n",
      "[true] Seven photographs taken in the Norfolk countryside by photographer Josh Olins will appear in the June edition. In her first sitting for a magazine, the du\n",
      "setting preds_emb\n",
      "*** round 38\n"
     ]
    },
    {
     "name": "stderr",
     "output_type": "stream",
     "text": [
      "\n",
      "generating from val:   0%|                                                                                               | 0/4 [00:00<?, ?it/s]\u001b[A\n",
      "generating from val:  25%|█████████████████████▊                                                                 | 1/4 [00:21<01:04, 21.61s/it]\u001b[A\n",
      "generating from val:  50%|███████████████████████████████████████████▌                                           | 2/4 [00:42<00:42, 21.28s/it]\u001b[A\n",
      "generating from val:  75%|█████████████████████████████████████████████████████████████████▎                     | 3/4 [01:04<00:21, 21.40s/it]\u001b[A\n",
      "generating from val: 100%|███████████████████████████████████████████████████████████████████████████████████████| 4/4 [01:25<00:00, 21.18s/it]\u001b[A\n",
      "                                                                                                                                               \u001b[A"
     ]
    },
    {
     "name": "stdout",
     "output_type": "stream",
     "text": [
      "[pred] to the character of the sutures of the skull, which, like those of the infant skull, are relatively smooth and untortuous. In\n",
      "[true] to the character of the sutures of the skull which, like those of the infant skull, are relatively smooth and untortuous. In fact\n",
      "\n",
      "\n",
      "\n",
      "[pred] individual from the Southern Hemisphere, to win a Winter Olympic gold medal and was also part of the short track relay team that won Australia'\n",
      "[true] individual from the Southern Hemisphere, to win a Winter Olympic gold medal and was also part of the short track relay team that won Australia'\n",
      "\n",
      "\n",
      "\n",
      "[pred] the same rights as straight people, while 15% disagreed. Additionally, 69% agreed that they should be protected from workplace discrimination. 13% of H\n",
      "[true] the same rights as straight people, while 15% disagreed. Additionally, 69% agreed that they should be protected from workplace discrimination. 13% of H\n",
      "setting preds_emb\n"
     ]
    },
    {
     "name": "stderr",
     "output_type": "stream",
     "text": [
      "\n",
      "generating from val:   0%|                                                                                               | 0/4 [00:00<?, ?it/s]\u001b[A\n",
      "generating from val:  25%|█████████████████████▊                                                                 | 1/4 [00:21<01:03, 21.30s/it]\u001b[A\n",
      "generating from val:  50%|███████████████████████████████████████████▌                                           | 2/4 [00:42<00:42, 21.46s/it]\u001b[A\n",
      "generating from val:  75%|█████████████████████████████████████████████████████████████████▎                     | 3/4 [01:03<00:21, 21.18s/it]\u001b[A\n",
      "generating from val: 100%|███████████████████████████████████████████████████████████████████████████████████████| 4/4 [01:23<00:00, 20.76s/it]\u001b[A\n",
      "                                                                                                                                               \u001b[A"
     ]
    },
    {
     "name": "stdout",
     "output_type": "stream",
     "text": [
      "[pred] we study the phase behavior of a nematic liquid crystal confined between a patterned substrate and a flat substrate with strong anchoring\n",
      "[true] we study the phase behavior of a nematic liquid crystal confined between a flat substrate with strong anchoring and a patterned substrate\n",
      "\n",
      "\n",
      "\n",
      "[pred] determining the scaling relations between galaxy clusters requires large samples of uniformly observed clusters. We measure the mean observable x -\n",
      "[true] determining the scaling relations between galaxy cluster observables requires large samples of uniformly observed clusters. we measure the mean x -\n",
      "\n",
      "\n",
      "\n",
      "[pred] we show how to control spatial correlations in a degenerate quantum parametric multimode optical oscillator type I below threshold by a\n",
      "[true] we show how to control spatial quantum correlations in a multimode degenerate optical parametric oscillator type i below threshold by \n",
      "setting preds_emb\n"
     ]
    },
    {
     "name": "stderr",
     "output_type": "stream",
     "text": [
      "\n",
      "generating from val:   0%|                                                                                               | 0/4 [00:00<?, ?it/s]\u001b[A\n",
      "generating from val:  25%|█████████████████████▊                                                                 | 1/4 [00:21<01:03, 21.30s/it]\u001b[A\n",
      "generating from val:  50%|███████████████████████████████████████████▌                                           | 2/4 [00:42<00:42, 21.39s/it]\u001b[A\n",
      "generating from val:  75%|█████████████████████████████████████████████████████████████████▎                     | 3/4 [01:04<00:21, 21.57s/it]\u001b[A\n",
      "generating from val: 100%|███████████████████████████████████████████████████████████████████████████████████████| 4/4 [01:25<00:00, 21.27s/it]\u001b[A\n",
      "                                                                                                                                               \u001b[AWarning: Empty reference sentence detected; setting raw BERTScores to 0.\n",
      " 78%|███████████████████████████████████████████████████████████████████████████████▉                       | 38/49 [1:33:29<46:16, 252.41s/it]"
     ]
    },
    {
     "name": "stdout",
     "output_type": "stream",
     "text": [
      "[pred] The ex-Reading defender denied fraudulent trading charges relating to the Sodje Sports Foundation - a charity to raise money for Nigerian\n",
      "[true] The ex-Reading defender denied fraudulent trading charges relating to the Sodje Sports Foundation - a charity to raise money for Nigerian\n",
      "\n",
      "\n",
      "\n",
      "[pred] Voges was forced to retire hurt after batting for 86 on 4 June while suffering the injury during the County Championship draw with Somerset. Middlesex\n",
      "[true] Voges was forced to retire hurt on 86 after suffering the injury while batting during the County Championship draw with Somerset on 4 June. Middlesex\n",
      "\n",
      "\n",
      "\n",
      "[pred] Seven photographs taken in the Norfolk countryside by photographer Josh Olins will appear in the June edition. In her first sitting for the magazine, a du\n",
      "[true] Seven photographs taken in the Norfolk countryside by photographer Josh Olins will appear in the June edition. In her first sitting for a magazine, the du\n",
      "setting preds_emb\n",
      "*** round 39\n"
     ]
    },
    {
     "name": "stderr",
     "output_type": "stream",
     "text": [
      "\n",
      "generating from val:   0%|                                                                                               | 0/4 [00:00<?, ?it/s]\u001b[A\n",
      "generating from val:  25%|█████████████████████▊                                                                 | 1/4 [00:21<01:04, 21.59s/it]\u001b[A\n",
      "generating from val:  50%|███████████████████████████████████████████▌                                           | 2/4 [00:43<00:43, 21.62s/it]\u001b[A\n",
      "generating from val:  75%|█████████████████████████████████████████████████████████████████▎                     | 3/4 [01:05<00:21, 21.71s/it]\u001b[A\n",
      "generating from val: 100%|███████████████████████████████████████████████████████████████████████████████████████| 4/4 [01:25<00:00, 21.26s/it]\u001b[A\n",
      "                                                                                                                                               \u001b[A"
     ]
    },
    {
     "name": "stdout",
     "output_type": "stream",
     "text": [
      "[pred] to the character of the sutures of the skull, which, like those of the infant skull, are relatively smooth and untortuous. In\n",
      "[true] to the character of the sutures of the skull which, like those of the infant skull, are relatively smooth and untortuous. In fact\n",
      "\n",
      "\n",
      "\n",
      "[pred] individual from the Southern Hemisphere, to win a Winter Olympic gold medal and was also part of the short track relay team that won Australia'\n",
      "[true] individual from the Southern Hemisphere, to win a Winter Olympic gold medal and was also part of the short track relay team that won Australia'\n",
      "\n",
      "\n",
      "\n",
      "[pred] the same rights as straight people, while 15% disagreed. Additionally, 69% agreed that they should be protected from workplace discrimination. 13% of H\n",
      "[true] the same rights as straight people, while 15% disagreed. Additionally, 69% agreed that they should be protected from workplace discrimination. 13% of H\n",
      "setting preds_emb\n"
     ]
    },
    {
     "name": "stderr",
     "output_type": "stream",
     "text": [
      "\n",
      "generating from val:   0%|                                                                                               | 0/4 [00:00<?, ?it/s]\u001b[A\n",
      "generating from val:  25%|█████████████████████▊                                                                 | 1/4 [00:22<01:07, 22.54s/it]\u001b[A\n",
      "generating from val:  50%|███████████████████████████████████████████▌                                           | 2/4 [00:44<00:44, 22.05s/it]\u001b[A\n",
      "generating from val:  75%|█████████████████████████████████████████████████████████████████▎                     | 3/4 [01:05<00:21, 21.76s/it]\u001b[A\n",
      "generating from val: 100%|███████████████████████████████████████████████████████████████████████████████████████| 4/4 [01:27<00:00, 21.60s/it]\u001b[A\n",
      "                                                                                                                                               \u001b[A"
     ]
    },
    {
     "name": "stdout",
     "output_type": "stream",
     "text": [
      "[pred] we study the phase behavior of a nematic liquid crystal confined between a flat substrate and a patterned substrate with strong anchoring\n",
      "[true] we study the phase behavior of a nematic liquid crystal confined between a flat substrate with strong anchoring and a patterned substrate\n",
      "\n",
      "\n",
      "\n",
      "[pred] determining the scaling relations between galaxy clusters requires large samples of uniformly observed clusters. we measure the mean observables x-\n",
      "[true] determining the scaling relations between galaxy cluster observables requires large samples of uniformly observed clusters. we measure the mean x -\n",
      "\n",
      "\n",
      "\n",
      "[pred] we show how to control spatial correlations in a degenerate quantum parametric multimode optical oscillator type I below threshold by a\n",
      "[true] we show how to control spatial quantum correlations in a multimode degenerate optical parametric oscillator type i below threshold by \n",
      "setting preds_emb\n"
     ]
    },
    {
     "name": "stderr",
     "output_type": "stream",
     "text": [
      "\n",
      "generating from val:   0%|                                                                                               | 0/4 [00:00<?, ?it/s]\u001b[A\n",
      "generating from val:  25%|█████████████████████▊                                                                 | 1/4 [00:21<01:04, 21.47s/it]\u001b[A\n",
      "generating from val:  50%|███████████████████████████████████████████▌                                           | 2/4 [00:43<00:43, 21.54s/it]\u001b[A\n",
      "generating from val:  75%|█████████████████████████████████████████████████████████████████▎                     | 3/4 [01:04<00:21, 21.63s/it]\u001b[A\n",
      "generating from val: 100%|███████████████████████████████████████████████████████████████████████████████████████| 4/4 [01:25<00:00, 21.18s/it]\u001b[A\n",
      "                                                                                                                                               \u001b[AWarning: Empty reference sentence detected; setting raw BERTScores to 0.\n",
      " 80%|█████████████████████████████████████████████████████████████████████████████████▉                     | 39/49 [1:38:03<43:07, 258.78s/it]"
     ]
    },
    {
     "name": "stdout",
     "output_type": "stream",
     "text": [
      "[pred] The ex-Reading defender denied fraudulent trading charges relating to the Sodje Sports Foundation - a charity to raise money for Nigerian\n",
      "[true] The ex-Reading defender denied fraudulent trading charges relating to the Sodje Sports Foundation - a charity to raise money for Nigerian\n",
      "\n",
      "\n",
      "\n",
      "[pred] Voges was forced to retire hurt after batting for 86 on 4 June while suffering the injury in the County Championship draw with Somerset. Middlesex\n",
      "[true] Voges was forced to retire hurt on 86 after suffering the injury while batting during the County Championship draw with Somerset on 4 June. Middlesex\n",
      "\n",
      "\n",
      "\n",
      "[pred] Seven photographs taken in the Norfolk countryside by photographer Josh Olins will appear in the June edition. In her first sitting for the magazine, a du\n",
      "[true] Seven photographs taken in the Norfolk countryside by photographer Josh Olins will appear in the June edition. In her first sitting for a magazine, the du\n",
      "setting preds_emb\n",
      "*** round 40\n"
     ]
    },
    {
     "name": "stderr",
     "output_type": "stream",
     "text": [
      "\n",
      "generating from val:   0%|                                                                                               | 0/4 [00:00<?, ?it/s]\u001b[A\n",
      "generating from val:  25%|█████████████████████▊                                                                 | 1/4 [00:22<01:07, 22.35s/it]\u001b[A\n",
      "generating from val:  50%|███████████████████████████████████████████▌                                           | 2/4 [00:44<00:44, 22.12s/it]\u001b[A\n",
      "generating from val:  75%|█████████████████████████████████████████████████████████████████▎                     | 3/4 [01:06<00:22, 22.19s/it]\u001b[A\n",
      "generating from val: 100%|███████████████████████████████████████████████████████████████████████████████████████| 4/4 [01:28<00:00, 21.92s/it]\u001b[A\n",
      "                                                                                                                                               \u001b[A"
     ]
    },
    {
     "name": "stdout",
     "output_type": "stream",
     "text": [
      "[pred] to the character of the sutures of the skull, which, like those of the infant skull, are relatively smooth and untortuous. In\n",
      "[true] to the character of the sutures of the skull which, like those of the infant skull, are relatively smooth and untortuous. In fact\n",
      "\n",
      "\n",
      "\n",
      "[pred] individual from the Southern Hemisphere, to win a Winter Olympic gold medal and was also part of the short track relay team that won Australia'\n",
      "[true] individual from the Southern Hemisphere, to win a Winter Olympic gold medal and was also part of the short track relay team that won Australia'\n",
      "\n",
      "\n",
      "\n",
      "[pred] the same rights as straight people, while 15% disagreed. Additionally, 69% agreed that they should be protected from workplace discrimination. 13% of H\n",
      "[true] the same rights as straight people, while 15% disagreed. Additionally, 69% agreed that they should be protected from workplace discrimination. 13% of H\n",
      "setting preds_emb\n"
     ]
    },
    {
     "name": "stderr",
     "output_type": "stream",
     "text": [
      "\n",
      "generating from val:   0%|                                                                                               | 0/4 [00:00<?, ?it/s]\u001b[A\n",
      "generating from val:  25%|█████████████████████▊                                                                 | 1/4 [00:22<01:06, 22.19s/it]\u001b[A\n",
      "generating from val:  50%|███████████████████████████████████████████▌                                           | 2/4 [00:44<00:44, 22.39s/it]\u001b[A\n",
      "generating from val:  75%|█████████████████████████████████████████████████████████████████▎                     | 3/4 [01:07<00:22, 22.42s/it]\u001b[A\n",
      "generating from val: 100%|███████████████████████████████████████████████████████████████████████████████████████| 4/4 [01:28<00:00, 22.14s/it]\u001b[A\n",
      "                                                                                                                                               \u001b[A"
     ]
    },
    {
     "name": "stdout",
     "output_type": "stream",
     "text": [
      "[pred] we study the phase behavior of a nematic liquid crystal confined between a patterned substrate and a flat substrate with strong anchoring\n",
      "[true] we study the phase behavior of a nematic liquid crystal confined between a flat substrate with strong anchoring and a patterned substrate\n",
      "\n",
      "\n",
      "\n",
      "[pred] determining the scaling relations between galaxy clusters requires large samples of uniformly observed clusters. We measure the mean observable x -\n",
      "[true] determining the scaling relations between galaxy cluster observables requires large samples of uniformly observed clusters. we measure the mean x -\n",
      "\n",
      "\n",
      "\n",
      "[pred] we show how to control spatial correlations in a degenerate quantum parametric multimode optical oscillator type I below threshold by a\n",
      "[true] we show how to control spatial quantum correlations in a multimode degenerate optical parametric oscillator type i below threshold by \n",
      "setting preds_emb\n"
     ]
    },
    {
     "name": "stderr",
     "output_type": "stream",
     "text": [
      "\n",
      "generating from val:   0%|                                                                                               | 0/4 [00:00<?, ?it/s]\u001b[A\n",
      "generating from val:  25%|█████████████████████▊                                                                 | 1/4 [00:22<01:07, 22.38s/it]\u001b[A\n",
      "generating from val:  50%|███████████████████████████████████████████▌                                           | 2/4 [00:44<00:44, 22.43s/it]\u001b[A\n",
      "generating from val:  75%|█████████████████████████████████████████████████████████████████▎                     | 3/4 [01:07<00:22, 22.31s/it]\u001b[A\n",
      "generating from val: 100%|███████████████████████████████████████████████████████████████████████████████████████| 4/4 [01:28<00:00, 21.80s/it]\u001b[A\n",
      "                                                                                                                                               \u001b[AWarning: Empty reference sentence detected; setting raw BERTScores to 0.\n",
      " 82%|████████████████████████████████████████████████████████████████████████████████████                   | 40/49 [1:42:43<39:45, 265.03s/it]"
     ]
    },
    {
     "name": "stdout",
     "output_type": "stream",
     "text": [
      "[pred] The ex-Reading defender denied fraudulent trading charges relating to the Sodje Sports Foundation - a charity to raise money for Nigerian\n",
      "[true] The ex-Reading defender denied fraudulent trading charges relating to the Sodje Sports Foundation - a charity to raise money for Nigerian\n",
      "\n",
      "\n",
      "\n",
      "[pred] Voges was forced to retire hurt after batting for 86 on 4 June while suffering the injury during the County Championship draw with Somerset. Middlesex\n",
      "[true] Voges was forced to retire hurt on 86 after suffering the injury while batting during the County Championship draw with Somerset on 4 June. Middlesex\n",
      "\n",
      "\n",
      "\n",
      "[pred] Seven photographs taken in the Norfolk countryside by photographer Josh Olins will appear in the June edition. In her first sitting for the magazine, a du\n",
      "[true] Seven photographs taken in the Norfolk countryside by photographer Josh Olins will appear in the June edition. In her first sitting for a magazine, the du\n",
      "setting preds_emb\n",
      "*** round 41\n"
     ]
    },
    {
     "name": "stderr",
     "output_type": "stream",
     "text": [
      "\n",
      "generating from val:   0%|                                                                                               | 0/4 [00:00<?, ?it/s]\u001b[A\n",
      "generating from val:  25%|█████████████████████▊                                                                 | 1/4 [00:23<01:09, 23.32s/it]\u001b[A\n",
      "generating from val:  50%|███████████████████████████████████████████▌                                           | 2/4 [00:46<00:45, 22.96s/it]\u001b[A\n",
      "generating from val:  75%|█████████████████████████████████████████████████████████████████▎                     | 3/4 [01:08<00:22, 22.79s/it]\u001b[A\n",
      "generating from val: 100%|███████████████████████████████████████████████████████████████████████████████████████| 4/4 [01:30<00:00, 22.42s/it]\u001b[A\n",
      "                                                                                                                                               \u001b[A"
     ]
    },
    {
     "name": "stdout",
     "output_type": "stream",
     "text": [
      "[pred] to the character of the sutures of the skull, which, like those of the infant skull, are relatively smooth and untortuous. In\n",
      "[true] to the character of the sutures of the skull which, like those of the infant skull, are relatively smooth and untortuous. In fact\n",
      "\n",
      "\n",
      "\n",
      "[pred] individual from the Southern Hemisphere, to win a Winter Olympic gold medal and was also part of the short track relay team that won Australia'\n",
      "[true] individual from the Southern Hemisphere, to win a Winter Olympic gold medal and was also part of the short track relay team that won Australia'\n",
      "\n",
      "\n",
      "\n",
      "[pred] the same rights as straight people, while 15% disagreed. Additionally, 69% agreed that they should be protected from workplace discrimination. 13% of H\n",
      "[true] the same rights as straight people, while 15% disagreed. Additionally, 69% agreed that they should be protected from workplace discrimination. 13% of H\n",
      "setting preds_emb\n"
     ]
    },
    {
     "name": "stderr",
     "output_type": "stream",
     "text": [
      "\n",
      "generating from val:   0%|                                                                                               | 0/4 [00:00<?, ?it/s]\u001b[A\n",
      "generating from val:  25%|█████████████████████▊                                                                 | 1/4 [00:23<01:10, 23.40s/it]\u001b[A\n",
      "generating from val:  50%|███████████████████████████████████████████▌                                           | 2/4 [00:46<00:46, 23.22s/it]\u001b[A\n",
      "generating from val:  75%|█████████████████████████████████████████████████████████████████▎                     | 3/4 [01:09<00:23, 23.31s/it]\u001b[A\n",
      "generating from val: 100%|███████████████████████████████████████████████████████████████████████████████████████| 4/4 [01:32<00:00, 22.91s/it]\u001b[A\n",
      "                                                                                                                                               \u001b[A"
     ]
    },
    {
     "name": "stdout",
     "output_type": "stream",
     "text": [
      "[pred] we study the phase behavior of a nematic liquid crystal confined between a flat substrate and a patterned substrate with strong anchoring\n",
      "[true] we study the phase behavior of a nematic liquid crystal confined between a flat substrate with strong anchoring and a patterned substrate\n",
      "\n",
      "\n",
      "\n",
      "[pred] determining the scaling relations between galaxy clusters requires large samples of uniformly observed clusters. we measure the mean observables x-\n",
      "[true] determining the scaling relations between galaxy cluster observables requires large samples of uniformly observed clusters. we measure the mean x -\n",
      "\n",
      "\n",
      "\n",
      "[pred] we show how to control spatial correlations in a degenerate quantum parametric multimode optical oscillator type I below threshold by a\n",
      "[true] we show how to control spatial quantum correlations in a multimode degenerate optical parametric oscillator type i below threshold by \n",
      "setting preds_emb\n"
     ]
    },
    {
     "name": "stderr",
     "output_type": "stream",
     "text": [
      "\n",
      "generating from val:   0%|                                                                                               | 0/4 [00:00<?, ?it/s]\u001b[A\n",
      "generating from val:  25%|█████████████████████▊                                                                 | 1/4 [00:22<01:06, 22.19s/it]\u001b[A\n",
      "generating from val:  50%|███████████████████████████████████████████▌                                           | 2/4 [00:44<00:44, 22.44s/it]\u001b[A\n",
      "generating from val:  75%|█████████████████████████████████████████████████████████████████▎                     | 3/4 [01:08<00:22, 22.83s/it]\u001b[A\n",
      "generating from val: 100%|███████████████████████████████████████████████████████████████████████████████████████| 4/4 [01:30<00:00, 22.63s/it]\u001b[A\n",
      "                                                                                                                                               \u001b[AWarning: Empty reference sentence detected; setting raw BERTScores to 0.\n",
      " 84%|██████████████████████████████████████████████████████████████████████████████████████▏                | 41/49 [1:47:31<36:16, 272.08s/it]"
     ]
    },
    {
     "name": "stdout",
     "output_type": "stream",
     "text": [
      "[pred] The ex-Reading defender denied fraudulent trading charges relating to the Sodje Sports Foundation - a charity to raise money for Nigerian\n",
      "[true] The ex-Reading defender denied fraudulent trading charges relating to the Sodje Sports Foundation - a charity to raise money for Nigerian\n",
      "\n",
      "\n",
      "\n",
      "[pred] Voges was forced to retire hurt after batting for 86 on 4 June while suffering the injury in the County Championship draw with Somerset. Middlesex\n",
      "[true] Voges was forced to retire hurt on 86 after suffering the injury while batting during the County Championship draw with Somerset on 4 June. Middlesex\n",
      "\n",
      "\n",
      "\n",
      "[pred] Seven photographs taken in the Norfolk countryside by photographer Josh Olins will appear in the June edition. In her first sitting for the magazine, a du\n",
      "[true] Seven photographs taken in the Norfolk countryside by photographer Josh Olins will appear in the June edition. In her first sitting for a magazine, the du\n",
      "setting preds_emb\n",
      "*** round 42\n"
     ]
    },
    {
     "name": "stderr",
     "output_type": "stream",
     "text": [
      "\n",
      "generating from val:   0%|                                                                                               | 0/4 [00:00<?, ?it/s]\u001b[A\n",
      "generating from val:  25%|█████████████████████▊                                                                 | 1/4 [00:23<01:09, 23.27s/it]\u001b[A\n",
      "generating from val:  50%|███████████████████████████████████████████▌                                           | 2/4 [00:46<00:46, 23.06s/it]\u001b[A\n",
      "generating from val:  75%|█████████████████████████████████████████████████████████████████▎                     | 3/4 [01:09<00:23, 23.30s/it]\u001b[A\n",
      "generating from val: 100%|███████████████████████████████████████████████████████████████████████████████████████| 4/4 [01:32<00:00, 23.09s/it]\u001b[A\n",
      "                                                                                                                                               \u001b[A"
     ]
    },
    {
     "name": "stdout",
     "output_type": "stream",
     "text": [
      "[pred] to the character of the sutures of the skull, which, like those of the infant skull, are relatively smooth and untortuous. In\n",
      "[true] to the character of the sutures of the skull which, like those of the infant skull, are relatively smooth and untortuous. In fact\n",
      "\n",
      "\n",
      "\n",
      "[pred] individual from the Southern Hemisphere, to win a Winter Olympic gold medal and was also part of the short track relay team that won Australia'\n",
      "[true] individual from the Southern Hemisphere, to win a Winter Olympic gold medal and was also part of the short track relay team that won Australia'\n",
      "\n",
      "\n",
      "\n",
      "[pred] the same rights as straight people, while 15% disagreed. Additionally, 69% agreed that they should be protected from workplace discrimination. 13% of H\n",
      "[true] the same rights as straight people, while 15% disagreed. Additionally, 69% agreed that they should be protected from workplace discrimination. 13% of H\n",
      "setting preds_emb\n"
     ]
    },
    {
     "name": "stderr",
     "output_type": "stream",
     "text": [
      "\n",
      "generating from val:   0%|                                                                                               | 0/4 [00:00<?, ?it/s]\u001b[A\n",
      "generating from val:  25%|█████████████████████▊                                                                 | 1/4 [00:23<01:10, 23.52s/it]\u001b[A\n",
      "generating from val:  50%|███████████████████████████████████████████▌                                           | 2/4 [00:47<00:47, 23.71s/it]\u001b[A\n",
      "generating from val:  75%|█████████████████████████████████████████████████████████████████▎                     | 3/4 [01:10<00:23, 23.64s/it]\u001b[A\n",
      "generating from val: 100%|███████████████████████████████████████████████████████████████████████████████████████| 4/4 [01:33<00:00, 23.25s/it]\u001b[A\n",
      "                                                                                                                                               \u001b[A"
     ]
    },
    {
     "name": "stdout",
     "output_type": "stream",
     "text": [
      "[pred] we study the phase behavior of a nematic liquid crystal confined between a patterned substrate and a flat substrate with strong anchoring\n",
      "[true] we study the phase behavior of a nematic liquid crystal confined between a flat substrate with strong anchoring and a patterned substrate\n",
      "\n",
      "\n",
      "\n",
      "[pred] determining the scaling relations between galaxy clusters requires large samples of uniformly observed clusters. We measure the mean observable x -\n",
      "[true] determining the scaling relations between galaxy cluster observables requires large samples of uniformly observed clusters. we measure the mean x -\n",
      "\n",
      "\n",
      "\n",
      "[pred] we show how to control spatial correlations in a degenerate quantum parametric multimode optical oscillator type I below threshold by a\n",
      "[true] we show how to control spatial quantum correlations in a multimode degenerate optical parametric oscillator type i below threshold by \n",
      "setting preds_emb\n"
     ]
    },
    {
     "name": "stderr",
     "output_type": "stream",
     "text": [
      "\n",
      "generating from val:   0%|                                                                                               | 0/4 [00:00<?, ?it/s]\u001b[A\n",
      "generating from val:  25%|█████████████████████▊                                                                 | 1/4 [00:23<01:10, 23.46s/it]\u001b[A\n",
      "generating from val:  50%|███████████████████████████████████████████▌                                           | 2/4 [00:46<00:46, 23.27s/it]\u001b[A\n",
      "generating from val:  75%|█████████████████████████████████████████████████████████████████▎                     | 3/4 [01:09<00:23, 23.25s/it]\u001b[A\n",
      "generating from val: 100%|███████████████████████████████████████████████████████████████████████████████████████| 4/4 [01:32<00:00, 22.87s/it]\u001b[A\n",
      "                                                                                                                                               \u001b[AWarning: Empty reference sentence detected; setting raw BERTScores to 0.\n",
      " 86%|████████████████████████████████████████████████████████████████████████████████████████▎              | 42/49 [1:52:25<32:29, 278.53s/it]"
     ]
    },
    {
     "name": "stdout",
     "output_type": "stream",
     "text": [
      "[pred] The ex-Reading defender denied fraudulent trading charges relating to the Sodje Sports Foundation - a charity to raise money for Nigerian\n",
      "[true] The ex-Reading defender denied fraudulent trading charges relating to the Sodje Sports Foundation - a charity to raise money for Nigerian\n",
      "\n",
      "\n",
      "\n",
      "[pred] Voges was forced to retire hurt after batting for 86 on 4 June while suffering the injury during the County Championship draw with Somerset. Middlesex\n",
      "[true] Voges was forced to retire hurt on 86 after suffering the injury while batting during the County Championship draw with Somerset on 4 June. Middlesex\n",
      "\n",
      "\n",
      "\n",
      "[pred] Seven photographs taken in the Norfolk countryside by photographer Josh Olins will appear in the June edition. In her first sitting for the magazine, a du\n",
      "[true] Seven photographs taken in the Norfolk countryside by photographer Josh Olins will appear in the June edition. In her first sitting for a magazine, the du\n",
      "setting preds_emb\n",
      "*** round 43\n"
     ]
    },
    {
     "name": "stderr",
     "output_type": "stream",
     "text": [
      "\n",
      "generating from val:   0%|                                                                                               | 0/4 [00:00<?, ?it/s]\u001b[A\n",
      "generating from val:  25%|█████████████████████▊                                                                 | 1/4 [00:24<01:12, 24.03s/it]\u001b[A\n",
      "generating from val:  50%|███████████████████████████████████████████▌                                           | 2/4 [00:48<00:48, 24.02s/it]\u001b[A\n",
      "generating from val:  75%|█████████████████████████████████████████████████████████████████▎                     | 3/4 [01:11<00:23, 23.91s/it]\u001b[A\n",
      "generating from val: 100%|███████████████████████████████████████████████████████████████████████████████████████| 4/4 [01:35<00:00, 23.73s/it]\u001b[A\n",
      "                                                                                                                                               \u001b[A"
     ]
    },
    {
     "name": "stdout",
     "output_type": "stream",
     "text": [
      "[pred] to the character of the sutures of the skull, which, like those of the infant skull, are relatively smooth and untortuous. In\n",
      "[true] to the character of the sutures of the skull which, like those of the infant skull, are relatively smooth and untortuous. In fact\n",
      "\n",
      "\n",
      "\n",
      "[pred] individual from the Southern Hemisphere, to win a Winter Olympic gold medal and was also part of the short track relay team that won Australia'\n",
      "[true] individual from the Southern Hemisphere, to win a Winter Olympic gold medal and was also part of the short track relay team that won Australia'\n",
      "\n",
      "\n",
      "\n",
      "[pred] the same rights as straight people, while 15% disagreed. Additionally, 69% agreed that they should be protected from workplace discrimination. 13% of H\n",
      "[true] the same rights as straight people, while 15% disagreed. Additionally, 69% agreed that they should be protected from workplace discrimination. 13% of H\n",
      "setting preds_emb\n"
     ]
    },
    {
     "name": "stderr",
     "output_type": "stream",
     "text": [
      "\n",
      "generating from val:   0%|                                                                                               | 0/4 [00:00<?, ?it/s]\u001b[A\n",
      "generating from val:  25%|█████████████████████▊                                                                 | 1/4 [00:23<01:10, 23.53s/it]\u001b[A\n",
      "generating from val:  50%|███████████████████████████████████████████▌                                           | 2/4 [00:47<00:47, 23.60s/it]\u001b[A\n",
      "generating from val:  75%|█████████████████████████████████████████████████████████████████▎                     | 3/4 [01:10<00:23, 23.56s/it]\u001b[A\n",
      "generating from val: 100%|███████████████████████████████████████████████████████████████████████████████████████| 4/4 [01:33<00:00, 23.22s/it]\u001b[A\n",
      "                                                                                                                                               \u001b[A"
     ]
    },
    {
     "name": "stdout",
     "output_type": "stream",
     "text": [
      "[pred] we study the phase behavior of a nematic liquid crystal confined between a flat substrate and a patterned substrate with strong anchoring\n",
      "[true] we study the phase behavior of a nematic liquid crystal confined between a flat substrate with strong anchoring and a patterned substrate\n",
      "\n",
      "\n",
      "\n",
      "[pred] determining the scaling relations between galaxy clusters requires large samples of uniformly observed clusters. we measure the mean observables x-\n",
      "[true] determining the scaling relations between galaxy cluster observables requires large samples of uniformly observed clusters. we measure the mean x -\n",
      "\n",
      "\n",
      "\n",
      "[pred] we show how to control spatial correlations in a degenerate quantum parametric multimode optical oscillator type I below threshold by a\n",
      "[true] we show how to control spatial quantum correlations in a multimode degenerate optical parametric oscillator type i below threshold by \n",
      "setting preds_emb\n"
     ]
    },
    {
     "name": "stderr",
     "output_type": "stream",
     "text": [
      "\n",
      "generating from val:   0%|                                                                                               | 0/4 [00:00<?, ?it/s]\u001b[A\n",
      "generating from val:  25%|█████████████████████▊                                                                 | 1/4 [00:24<01:13, 24.46s/it]\u001b[A\n",
      "generating from val:  50%|███████████████████████████████████████████▌                                           | 2/4 [00:48<00:48, 24.37s/it]\u001b[A\n",
      "generating from val:  75%|█████████████████████████████████████████████████████████████████▎                     | 3/4 [01:12<00:24, 24.14s/it]\u001b[A\n",
      "generating from val: 100%|███████████████████████████████████████████████████████████████████████████████████████| 4/4 [01:35<00:00, 23.75s/it]\u001b[A\n",
      "                                                                                                                                               \u001b[AWarning: Empty reference sentence detected; setting raw BERTScores to 0.\n",
      " 88%|██████████████████████████████████████████████████████████████████████████████████████████▍            | 43/49 [1:57:25<28:29, 284.88s/it]"
     ]
    },
    {
     "name": "stdout",
     "output_type": "stream",
     "text": [
      "[pred] The ex-Reading defender denied fraudulent trading charges relating to the Sodje Sports Foundation - a charity to raise money for Nigerian\n",
      "[true] The ex-Reading defender denied fraudulent trading charges relating to the Sodje Sports Foundation - a charity to raise money for Nigerian\n",
      "\n",
      "\n",
      "\n",
      "[pred] Voges was forced to retire hurt after batting for 86 on 4 June while suffering the injury in the County Championship draw with Somerset. Middlesex\n",
      "[true] Voges was forced to retire hurt on 86 after suffering the injury while batting during the County Championship draw with Somerset on 4 June. Middlesex\n",
      "\n",
      "\n",
      "\n",
      "[pred] Seven photographs taken in the Norfolk countryside by photographer Josh Olins will appear in the June edition. In her first sitting for the magazine, a du\n",
      "[true] Seven photographs taken in the Norfolk countryside by photographer Josh Olins will appear in the June edition. In her first sitting for a magazine, the du\n",
      "setting preds_emb\n",
      "*** round 44\n"
     ]
    },
    {
     "name": "stderr",
     "output_type": "stream",
     "text": [
      "\n",
      "generating from val:   0%|                                                                                               | 0/4 [00:00<?, ?it/s]\u001b[A\n",
      "generating from val:  25%|█████████████████████▊                                                                 | 1/4 [00:24<01:13, 24.47s/it]\u001b[A\n",
      "generating from val:  50%|███████████████████████████████████████████▌                                           | 2/4 [00:48<00:48, 24.38s/it]\u001b[A\n",
      "generating from val:  75%|█████████████████████████████████████████████████████████████████▎                     | 3/4 [01:13<00:24, 24.32s/it]\u001b[A\n",
      "generating from val: 100%|███████████████████████████████████████████████████████████████████████████████████████| 4/4 [01:37<00:00, 24.20s/it]\u001b[A\n",
      "                                                                                                                                               \u001b[A"
     ]
    },
    {
     "name": "stdout",
     "output_type": "stream",
     "text": [
      "[pred] to the character of the sutures of the skull, which, like those of the infant skull, are relatively smooth and untortuous. In\n",
      "[true] to the character of the sutures of the skull which, like those of the infant skull, are relatively smooth and untortuous. In fact\n",
      "\n",
      "\n",
      "\n",
      "[pred] individual from the Southern Hemisphere, to win a Winter Olympic gold medal and was also part of the short track relay team that won Australia'\n",
      "[true] individual from the Southern Hemisphere, to win a Winter Olympic gold medal and was also part of the short track relay team that won Australia'\n",
      "\n",
      "\n",
      "\n",
      "[pred] the same rights as straight people, while 15% disagreed. Additionally, 69% agreed that they should be protected from workplace discrimination. 13% of H\n",
      "[true] the same rights as straight people, while 15% disagreed. Additionally, 69% agreed that they should be protected from workplace discrimination. 13% of H\n",
      "setting preds_emb\n"
     ]
    },
    {
     "name": "stderr",
     "output_type": "stream",
     "text": [
      "\n",
      "generating from val:   0%|                                                                                               | 0/4 [00:00<?, ?it/s]\u001b[A\n",
      "generating from val:  25%|█████████████████████▊                                                                 | 1/4 [00:24<01:13, 24.62s/it]\u001b[A\n",
      "generating from val:  50%|███████████████████████████████████████████▌                                           | 2/4 [00:49<00:49, 24.60s/it]\u001b[A\n",
      "generating from val:  75%|█████████████████████████████████████████████████████████████████▎                     | 3/4 [01:13<00:24, 24.67s/it]\u001b[A\n",
      "generating from val: 100%|███████████████████████████████████████████████████████████████████████████████████████| 4/4 [01:37<00:00, 24.33s/it]\u001b[A\n",
      "                                                                                                                                               \u001b[A"
     ]
    },
    {
     "name": "stdout",
     "output_type": "stream",
     "text": [
      "[pred] we study the phase behavior of a nematic liquid crystal confined between a patterned substrate and a flat substrate with strong anchoring\n",
      "[true] we study the phase behavior of a nematic liquid crystal confined between a flat substrate with strong anchoring and a patterned substrate\n",
      "\n",
      "\n",
      "\n",
      "[pred] determining the scaling relations between galaxy clusters requires large samples of uniformly observed clusters. We measure the mean observable x -\n",
      "[true] determining the scaling relations between galaxy cluster observables requires large samples of uniformly observed clusters. we measure the mean x -\n",
      "\n",
      "\n",
      "\n",
      "[pred] we show how to control spatial correlations in a degenerate quantum parametric multimode optical oscillator type I below threshold by a\n",
      "[true] we show how to control spatial quantum correlations in a multimode degenerate optical parametric oscillator type i below threshold by \n",
      "setting preds_emb\n"
     ]
    },
    {
     "name": "stderr",
     "output_type": "stream",
     "text": [
      "\n",
      "generating from val:   0%|                                                                                               | 0/4 [00:00<?, ?it/s]\u001b[A\n",
      "generating from val:  25%|█████████████████████▊                                                                 | 1/4 [00:24<01:14, 24.99s/it]\u001b[A\n",
      "generating from val:  50%|███████████████████████████████████████████▌                                           | 2/4 [00:50<00:50, 25.29s/it]\u001b[A\n",
      "generating from val:  75%|█████████████████████████████████████████████████████████████████▎                     | 3/4 [01:15<00:24, 24.99s/it]\u001b[A\n",
      "generating from val: 100%|███████████████████████████████████████████████████████████████████████████████████████| 4/4 [01:38<00:00, 24.48s/it]\u001b[A\n",
      "                                                                                                                                               \u001b[AWarning: Empty reference sentence detected; setting raw BERTScores to 0.\n",
      " 90%|████████████████████████████████████████████████████████████████████████████████████████████▍          | 44/49 [2:02:34<24:21, 292.24s/it]"
     ]
    },
    {
     "name": "stdout",
     "output_type": "stream",
     "text": [
      "[pred] The ex-Reading defender denied fraudulent trading charges relating to the Sodje Sports Foundation - a charity to raise money for Nigerian\n",
      "[true] The ex-Reading defender denied fraudulent trading charges relating to the Sodje Sports Foundation - a charity to raise money for Nigerian\n",
      "\n",
      "\n",
      "\n",
      "[pred] Voges was forced to retire hurt after batting for 86 on 4 June while suffering the injury during the County Championship draw with Somerset. Middlesex\n",
      "[true] Voges was forced to retire hurt on 86 after suffering the injury while batting during the County Championship draw with Somerset on 4 June. Middlesex\n",
      "\n",
      "\n",
      "\n",
      "[pred] Seven photographs taken in the Norfolk countryside by photographer Josh Olins will appear in the June edition. In her first sitting for the magazine, a du\n",
      "[true] Seven photographs taken in the Norfolk countryside by photographer Josh Olins will appear in the June edition. In her first sitting for a magazine, the du\n",
      "setting preds_emb\n",
      "*** round 45\n"
     ]
    },
    {
     "name": "stderr",
     "output_type": "stream",
     "text": [
      "\n",
      "generating from val:   0%|                                                                                               | 0/4 [00:00<?, ?it/s]\u001b[A\n",
      "generating from val:  25%|█████████████████████▊                                                                 | 1/4 [00:25<01:15, 25.24s/it]\u001b[A\n",
      "generating from val:  50%|███████████████████████████████████████████▌                                           | 2/4 [00:50<00:50, 25.15s/it]\u001b[A\n",
      "generating from val:  75%|█████████████████████████████████████████████████████████████████▎                     | 3/4 [01:16<00:25, 25.59s/it]\u001b[A\n",
      "generating from val: 100%|███████████████████████████████████████████████████████████████████████████████████████| 4/4 [01:40<00:00, 25.08s/it]\u001b[A\n",
      "                                                                                                                                               \u001b[A"
     ]
    },
    {
     "name": "stdout",
     "output_type": "stream",
     "text": [
      "[pred] to the character of the sutures of the skull, which, like those of the infant skull, are relatively smooth and untortuous. In\n",
      "[true] to the character of the sutures of the skull which, like those of the infant skull, are relatively smooth and untortuous. In fact\n",
      "\n",
      "\n",
      "\n",
      "[pred] individual from the Southern Hemisphere, to win a Winter Olympic gold medal and was also part of the short track relay team that won Australia'\n",
      "[true] individual from the Southern Hemisphere, to win a Winter Olympic gold medal and was also part of the short track relay team that won Australia'\n",
      "\n",
      "\n",
      "\n",
      "[pred] the same rights as straight people, while 15% disagreed. Additionally, 69% agreed that they should be protected from workplace discrimination. 13% of H\n",
      "[true] the same rights as straight people, while 15% disagreed. Additionally, 69% agreed that they should be protected from workplace discrimination. 13% of H\n",
      "setting preds_emb\n"
     ]
    },
    {
     "name": "stderr",
     "output_type": "stream",
     "text": [
      "\n",
      "generating from val:   0%|                                                                                               | 0/4 [00:00<?, ?it/s]\u001b[A\n",
      "generating from val:  25%|█████████████████████▊                                                                 | 1/4 [00:25<01:15, 25.06s/it]\u001b[A\n",
      "generating from val:  50%|███████████████████████████████████████████▌                                           | 2/4 [00:50<00:50, 25.04s/it]\u001b[A\n",
      "generating from val:  75%|█████████████████████████████████████████████████████████████████▎                     | 3/4 [01:14<00:24, 24.89s/it]\u001b[A\n",
      "generating from val: 100%|███████████████████████████████████████████████████████████████████████████████████████| 4/4 [01:39<00:00, 24.73s/it]\u001b[A\n",
      "                                                                                                                                               \u001b[A"
     ]
    },
    {
     "name": "stdout",
     "output_type": "stream",
     "text": [
      "[pred] we study the phase behavior of a nematic liquid crystal confined between a flat substrate and a patterned substrate with strong anchoring\n",
      "[true] we study the phase behavior of a nematic liquid crystal confined between a flat substrate with strong anchoring and a patterned substrate\n",
      "\n",
      "\n",
      "\n",
      "[pred] determining the scaling relations between galaxy clusters requires large samples of uniformly observed clusters. we measure the mean observables x-\n",
      "[true] determining the scaling relations between galaxy cluster observables requires large samples of uniformly observed clusters. we measure the mean x -\n",
      "\n",
      "\n",
      "\n",
      "[pred] we show how to control spatial correlations in a degenerate quantum parametric multimode optical oscillator type I below threshold by a\n",
      "[true] we show how to control spatial quantum correlations in a multimode degenerate optical parametric oscillator type i below threshold by \n",
      "setting preds_emb\n"
     ]
    },
    {
     "name": "stderr",
     "output_type": "stream",
     "text": [
      "\n",
      "generating from val:   0%|                                                                                               | 0/4 [00:00<?, ?it/s]\u001b[A\n",
      "generating from val:  25%|█████████████████████▊                                                                 | 1/4 [00:25<01:15, 25.25s/it]\u001b[A\n",
      "generating from val:  50%|███████████████████████████████████████████▌                                           | 2/4 [00:50<00:50, 25.07s/it]\u001b[A\n",
      "generating from val:  75%|█████████████████████████████████████████████████████████████████▎                     | 3/4 [01:15<00:25, 25.03s/it]\u001b[A\n",
      "generating from val: 100%|███████████████████████████████████████████████████████████████████████████████████████| 4/4 [01:39<00:00, 24.59s/it]\u001b[A\n",
      "                                                                                                                                               \u001b[AWarning: Empty reference sentence detected; setting raw BERTScores to 0.\n",
      " 92%|██████████████████████████████████████████████████████████████████████████████████████████████▌        | 45/49 [2:07:48<19:55, 298.91s/it]"
     ]
    },
    {
     "name": "stdout",
     "output_type": "stream",
     "text": [
      "[pred] The ex-Reading defender denied fraudulent trading charges relating to the Sodje Sports Foundation - a charity to raise money for Nigerian\n",
      "[true] The ex-Reading defender denied fraudulent trading charges relating to the Sodje Sports Foundation - a charity to raise money for Nigerian\n",
      "\n",
      "\n",
      "\n",
      "[pred] Voges was forced to retire hurt after batting for 86 on 4 June while suffering the injury in the County Championship draw with Somerset. Middlesex\n",
      "[true] Voges was forced to retire hurt on 86 after suffering the injury while batting during the County Championship draw with Somerset on 4 June. Middlesex\n",
      "\n",
      "\n",
      "\n",
      "[pred] Seven photographs taken in the Norfolk countryside by photographer Josh Olins will appear in the June edition. In her first sitting for the magazine, a du\n",
      "[true] Seven photographs taken in the Norfolk countryside by photographer Josh Olins will appear in the June edition. In her first sitting for a magazine, the du\n",
      "setting preds_emb\n",
      "*** round 46\n"
     ]
    },
    {
     "name": "stderr",
     "output_type": "stream",
     "text": [
      "\n",
      "generating from val:   0%|                                                                                               | 0/4 [00:00<?, ?it/s]\u001b[A\n",
      "generating from val:  25%|█████████████████████▊                                                                 | 1/4 [00:25<01:16, 25.41s/it]\u001b[A\n",
      "generating from val:  50%|███████████████████████████████████████████▌                                           | 2/4 [00:50<00:50, 25.24s/it]\u001b[A\n",
      "generating from val:  75%|█████████████████████████████████████████████████████████████████▎                     | 3/4 [01:16<00:25, 25.38s/it]\u001b[A\n",
      "generating from val: 100%|███████████████████████████████████████████████████████████████████████████████████████| 4/4 [01:40<00:00, 25.15s/it]\u001b[A\n",
      "                                                                                                                                               \u001b[A"
     ]
    },
    {
     "name": "stdout",
     "output_type": "stream",
     "text": [
      "[pred] to the character of the sutures of the skull, which, like those of the infant skull, are relatively smooth and untortuous. In\n",
      "[true] to the character of the sutures of the skull which, like those of the infant skull, are relatively smooth and untortuous. In fact\n",
      "\n",
      "\n",
      "\n",
      "[pred] individual from the Southern Hemisphere, to win a Winter Olympic gold medal and was also part of the short track relay team that won Australia'\n",
      "[true] individual from the Southern Hemisphere, to win a Winter Olympic gold medal and was also part of the short track relay team that won Australia'\n",
      "\n",
      "\n",
      "\n",
      "[pred] the same rights as straight people, while 15% disagreed. Additionally, 69% agreed that they should be protected from workplace discrimination. 13% of H\n",
      "[true] the same rights as straight people, while 15% disagreed. Additionally, 69% agreed that they should be protected from workplace discrimination. 13% of H\n",
      "setting preds_emb\n"
     ]
    },
    {
     "name": "stderr",
     "output_type": "stream",
     "text": [
      "\n",
      "generating from val:   0%|                                                                                               | 0/4 [00:00<?, ?it/s]\u001b[A\n",
      "generating from val:  25%|█████████████████████▊                                                                 | 1/4 [00:25<01:16, 25.47s/it]\u001b[A\n",
      "generating from val:  50%|███████████████████████████████████████████▌                                           | 2/4 [00:51<00:51, 25.80s/it]\u001b[A\n",
      "generating from val:  75%|█████████████████████████████████████████████████████████████████▎                     | 3/4 [01:17<00:25, 25.85s/it]\u001b[A\n",
      "generating from val: 100%|███████████████████████████████████████████████████████████████████████████████████████| 4/4 [01:42<00:00, 25.51s/it]\u001b[A\n",
      "                                                                                                                                               \u001b[A"
     ]
    },
    {
     "name": "stdout",
     "output_type": "stream",
     "text": [
      "[pred] we study the phase behavior of a nematic liquid crystal confined between a patterned substrate and a flat substrate with strong anchoring\n",
      "[true] we study the phase behavior of a nematic liquid crystal confined between a flat substrate with strong anchoring and a patterned substrate\n",
      "\n",
      "\n",
      "\n",
      "[pred] determining the scaling relations between galaxy clusters requires large samples of uniformly observed clusters. We measure the mean observable x -\n",
      "[true] determining the scaling relations between galaxy cluster observables requires large samples of uniformly observed clusters. we measure the mean x -\n",
      "\n",
      "\n",
      "\n",
      "[pred] we show how to control spatial correlations in a degenerate quantum parametric multimode optical oscillator type I below threshold by a\n",
      "[true] we show how to control spatial quantum correlations in a multimode degenerate optical parametric oscillator type i below threshold by \n",
      "setting preds_emb\n"
     ]
    },
    {
     "name": "stderr",
     "output_type": "stream",
     "text": [
      "\n",
      "generating from val:   0%|                                                                                               | 0/4 [00:00<?, ?it/s]\u001b[A\n",
      "generating from val:  25%|█████████████████████▊                                                                 | 1/4 [00:25<01:15, 25.09s/it]\u001b[A\n",
      "generating from val:  50%|███████████████████████████████████████████▌                                           | 2/4 [00:50<00:50, 25.30s/it]\u001b[A\n",
      "generating from val:  75%|█████████████████████████████████████████████████████████████████▎                     | 3/4 [01:16<00:25, 25.46s/it]\u001b[A\n",
      "generating from val: 100%|███████████████████████████████████████████████████████████████████████████████████████| 4/4 [01:40<00:00, 25.14s/it]\u001b[A\n",
      "                                                                                                                                               \u001b[AWarning: Empty reference sentence detected; setting raw BERTScores to 0.\n",
      " 94%|████████████████████████████████████████████████████████████████████████████████████████████████▋      | 46/49 [2:13:09<15:15, 305.28s/it]"
     ]
    },
    {
     "name": "stdout",
     "output_type": "stream",
     "text": [
      "[pred] The ex-Reading defender denied fraudulent trading charges relating to the Sodje Sports Foundation - a charity to raise money for Nigerian\n",
      "[true] The ex-Reading defender denied fraudulent trading charges relating to the Sodje Sports Foundation - a charity to raise money for Nigerian\n",
      "\n",
      "\n",
      "\n",
      "[pred] Voges was forced to retire hurt after batting for 86 on 4 June while suffering the injury during the County Championship draw with Somerset. Middlesex\n",
      "[true] Voges was forced to retire hurt on 86 after suffering the injury while batting during the County Championship draw with Somerset on 4 June. Middlesex\n",
      "\n",
      "\n",
      "\n",
      "[pred] Seven photographs taken in the Norfolk countryside by photographer Josh Olins will appear in the June edition. In her first sitting for the magazine, a du\n",
      "[true] Seven photographs taken in the Norfolk countryside by photographer Josh Olins will appear in the June edition. In her first sitting for a magazine, the du\n",
      "setting preds_emb\n",
      "*** round 47\n"
     ]
    },
    {
     "name": "stderr",
     "output_type": "stream",
     "text": [
      "\n",
      "generating from val:   0%|                                                                                               | 0/4 [00:00<?, ?it/s]\u001b[A\n",
      "generating from val:  25%|█████████████████████▊                                                                 | 1/4 [00:26<01:18, 26.00s/it]\u001b[A\n",
      "generating from val:  50%|███████████████████████████████████████████▌                                           | 2/4 [00:52<00:52, 26.29s/it]\u001b[A\n",
      "generating from val:  75%|█████████████████████████████████████████████████████████████████▎                     | 3/4 [01:18<00:26, 26.21s/it]\u001b[A\n",
      "generating from val: 100%|███████████████████████████████████████████████████████████████████████████████████████| 4/4 [01:44<00:00, 26.06s/it]\u001b[A\n",
      "                                                                                                                                               \u001b[A"
     ]
    },
    {
     "name": "stdout",
     "output_type": "stream",
     "text": [
      "[pred] to the character of the sutures of the skull, which, like those of the infant skull, are relatively smooth and untortuous. In\n",
      "[true] to the character of the sutures of the skull which, like those of the infant skull, are relatively smooth and untortuous. In fact\n",
      "\n",
      "\n",
      "\n",
      "[pred] individual from the Southern Hemisphere, to win a Winter Olympic gold medal and was also part of the short track relay team that won Australia'\n",
      "[true] individual from the Southern Hemisphere, to win a Winter Olympic gold medal and was also part of the short track relay team that won Australia'\n",
      "\n",
      "\n",
      "\n",
      "[pred] the same rights as straight people, while 15% disagreed. Additionally, 69% agreed that they should be protected from workplace discrimination. 13% of H\n",
      "[true] the same rights as straight people, while 15% disagreed. Additionally, 69% agreed that they should be protected from workplace discrimination. 13% of H\n",
      "setting preds_emb\n"
     ]
    },
    {
     "name": "stderr",
     "output_type": "stream",
     "text": [
      "\n",
      "generating from val:   0%|                                                                                               | 0/4 [00:00<?, ?it/s]\u001b[A\n",
      "generating from val:  25%|█████████████████████▊                                                                 | 1/4 [00:26<01:18, 26.04s/it]\u001b[A\n",
      "generating from val:  50%|███████████████████████████████████████████▌                                           | 2/4 [00:52<00:52, 26.30s/it]\u001b[A\n",
      "generating from val:  75%|█████████████████████████████████████████████████████████████████▎                     | 3/4 [01:18<00:26, 26.32s/it]\u001b[A\n",
      "generating from val: 100%|███████████████████████████████████████████████████████████████████████████████████████| 4/4 [01:43<00:00, 25.72s/it]\u001b[A\n",
      "                                                                                                                                               \u001b[A"
     ]
    },
    {
     "name": "stdout",
     "output_type": "stream",
     "text": [
      "[pred] we study the phase behavior of a nematic liquid crystal confined between a flat substrate and a patterned substrate with strong anchoring\n",
      "[true] we study the phase behavior of a nematic liquid crystal confined between a flat substrate with strong anchoring and a patterned substrate\n",
      "\n",
      "\n",
      "\n",
      "[pred] determining the scaling relations between galaxy clusters requires large samples of uniformly observed clusters. we measure the mean observables x-\n",
      "[true] determining the scaling relations between galaxy cluster observables requires large samples of uniformly observed clusters. we measure the mean x -\n",
      "\n",
      "\n",
      "\n",
      "[pred] we show how to control spatial correlations in a degenerate quantum parametric multimode optical oscillator type I below threshold by a\n",
      "[true] we show how to control spatial quantum correlations in a multimode degenerate optical parametric oscillator type i below threshold by \n",
      "setting preds_emb\n"
     ]
    },
    {
     "name": "stderr",
     "output_type": "stream",
     "text": [
      "\n",
      "generating from val:   0%|                                                                                               | 0/4 [00:00<?, ?it/s]\u001b[A\n",
      "generating from val:  25%|█████████████████████▊                                                                 | 1/4 [00:25<01:17, 25.74s/it]\u001b[A\n",
      "generating from val:  50%|███████████████████████████████████████████▌                                           | 2/4 [00:51<00:51, 25.72s/it]\u001b[A\n",
      "generating from val:  75%|█████████████████████████████████████████████████████████████████▎                     | 3/4 [01:17<00:25, 25.93s/it]\u001b[A\n",
      "generating from val: 100%|███████████████████████████████████████████████████████████████████████████████████████| 4/4 [01:42<00:00, 25.70s/it]\u001b[A\n",
      "                                                                                                                                               \u001b[AWarning: Empty reference sentence detected; setting raw BERTScores to 0.\n",
      " 96%|██████████████████████████████████████████████████████████████████████████████████████████████████▊    | 47/49 [2:18:35<10:23, 311.71s/it]"
     ]
    },
    {
     "name": "stdout",
     "output_type": "stream",
     "text": [
      "[pred] The ex-Reading defender denied fraudulent trading charges relating to the Sodje Sports Foundation - a charity to raise money for Nigerian\n",
      "[true] The ex-Reading defender denied fraudulent trading charges relating to the Sodje Sports Foundation - a charity to raise money for Nigerian\n",
      "\n",
      "\n",
      "\n",
      "[pred] Voges was forced to retire hurt after batting for 86 on 4 June while suffering the injury in the County Championship draw with Somerset. Middlesex\n",
      "[true] Voges was forced to retire hurt on 86 after suffering the injury while batting during the County Championship draw with Somerset on 4 June. Middlesex\n",
      "\n",
      "\n",
      "\n",
      "[pred] Seven photographs taken in the Norfolk countryside by photographer Josh Olins will appear in the June edition. In her first sitting for the magazine, a du\n",
      "[true] Seven photographs taken in the Norfolk countryside by photographer Josh Olins will appear in the June edition. In her first sitting for a magazine, the du\n",
      "setting preds_emb\n",
      "*** round 48\n"
     ]
    },
    {
     "name": "stderr",
     "output_type": "stream",
     "text": [
      "\n",
      "generating from val:   0%|                                                                                               | 0/4 [00:00<?, ?it/s]\u001b[A\n",
      "generating from val:  25%|█████████████████████▊                                                                 | 1/4 [00:27<01:21, 27.20s/it]\u001b[A\n",
      "generating from val:  50%|███████████████████████████████████████████▌                                           | 2/4 [00:53<00:53, 26.93s/it]\u001b[A\n",
      "generating from val:  75%|█████████████████████████████████████████████████████████████████▎                     | 3/4 [01:20<00:26, 26.68s/it]\u001b[A\n",
      "generating from val: 100%|███████████████████████████████████████████████████████████████████████████████████████| 4/4 [01:46<00:00, 26.45s/it]\u001b[A\n",
      "                                                                                                                                               \u001b[A"
     ]
    },
    {
     "name": "stdout",
     "output_type": "stream",
     "text": [
      "[pred] to the character of the sutures of the skull, which, like those of the infant skull, are relatively smooth and untortuous. In\n",
      "[true] to the character of the sutures of the skull which, like those of the infant skull, are relatively smooth and untortuous. In fact\n",
      "\n",
      "\n",
      "\n",
      "[pred] individual from the Southern Hemisphere, to win a Winter Olympic gold medal and was also part of the short track relay team that won Australia'\n",
      "[true] individual from the Southern Hemisphere, to win a Winter Olympic gold medal and was also part of the short track relay team that won Australia'\n",
      "\n",
      "\n",
      "\n",
      "[pred] the same rights as straight people, while 15% disagreed. Additionally, 69% agreed that they should be protected from workplace discrimination. 13% of H\n",
      "[true] the same rights as straight people, while 15% disagreed. Additionally, 69% agreed that they should be protected from workplace discrimination. 13% of H\n",
      "setting preds_emb\n"
     ]
    },
    {
     "name": "stderr",
     "output_type": "stream",
     "text": [
      "\n",
      "generating from val:   0%|                                                                                               | 0/4 [00:00<?, ?it/s]\u001b[A\n",
      "generating from val:  25%|█████████████████████▊                                                                 | 1/4 [00:27<01:21, 27.08s/it]\u001b[A\n",
      "generating from val:  50%|███████████████████████████████████████████▌                                           | 2/4 [00:54<00:54, 27.09s/it]\u001b[A\n",
      "generating from val:  75%|█████████████████████████████████████████████████████████████████▎                     | 3/4 [01:20<00:26, 26.70s/it]\u001b[A\n",
      "generating from val: 100%|███████████████████████████████████████████████████████████████████████████████████████| 4/4 [01:46<00:00, 26.34s/it]\u001b[A\n",
      "                                                                                                                                               \u001b[A"
     ]
    },
    {
     "name": "stdout",
     "output_type": "stream",
     "text": [
      "[pred] we study the phase behavior of a nematic liquid crystal confined between a patterned substrate and a flat substrate with strong anchoring\n",
      "[true] we study the phase behavior of a nematic liquid crystal confined between a flat substrate with strong anchoring and a patterned substrate\n",
      "\n",
      "\n",
      "\n",
      "[pred] determining the scaling relations between galaxy clusters requires large samples of uniformly observed clusters. We measure the mean observable x -\n",
      "[true] determining the scaling relations between galaxy cluster observables requires large samples of uniformly observed clusters. we measure the mean x -\n",
      "\n",
      "\n",
      "\n",
      "[pred] we show how to control spatial correlations in a degenerate quantum parametric multimode optical oscillator type I below threshold by a\n",
      "[true] we show how to control spatial quantum correlations in a multimode degenerate optical parametric oscillator type i below threshold by \n",
      "setting preds_emb\n"
     ]
    },
    {
     "name": "stderr",
     "output_type": "stream",
     "text": [
      "\n",
      "generating from val:   0%|                                                                                               | 0/4 [00:00<?, ?it/s]\u001b[A\n",
      "generating from val:  25%|█████████████████████▊                                                                 | 1/4 [00:27<01:22, 27.39s/it]\u001b[A\n",
      "generating from val:  50%|███████████████████████████████████████████▌                                           | 2/4 [00:54<00:54, 27.10s/it]\u001b[A\n",
      "generating from val:  75%|█████████████████████████████████████████████████████████████████▎                     | 3/4 [01:21<00:27, 27.02s/it]\u001b[A\n",
      "generating from val: 100%|███████████████████████████████████████████████████████████████████████████████████████| 4/4 [01:46<00:00, 26.44s/it]\u001b[A\n",
      "                                                                                                                                               \u001b[AWarning: Empty reference sentence detected; setting raw BERTScores to 0.\n",
      " 98%|████████████████████████████████████████████████████████████████████████████████████████████████████▉  | 48/49 [2:24:10<05:18, 318.74s/it]"
     ]
    },
    {
     "name": "stdout",
     "output_type": "stream",
     "text": [
      "[pred] The ex-Reading defender denied fraudulent trading charges relating to the Sodje Sports Foundation - a charity to raise money for Nigerian\n",
      "[true] The ex-Reading defender denied fraudulent trading charges relating to the Sodje Sports Foundation - a charity to raise money for Nigerian\n",
      "\n",
      "\n",
      "\n",
      "[pred] Voges was forced to retire hurt after batting for 86 on 4 June while suffering the injury during the County Championship draw with Somerset. Middlesex\n",
      "[true] Voges was forced to retire hurt on 86 after suffering the injury while batting during the County Championship draw with Somerset on 4 June. Middlesex\n",
      "\n",
      "\n",
      "\n",
      "[pred] Seven photographs taken in the Norfolk countryside by photographer Josh Olins will appear in the June edition. In her first sitting for the magazine, a du\n",
      "[true] Seven photographs taken in the Norfolk countryside by photographer Josh Olins will appear in the June edition. In her first sitting for a magazine, the du\n",
      "setting preds_emb\n",
      "*** round 49\n"
     ]
    },
    {
     "name": "stderr",
     "output_type": "stream",
     "text": [
      "\n",
      "generating from val:   0%|                                                                                               | 0/4 [00:00<?, ?it/s]\u001b[A\n",
      "generating from val:  25%|█████████████████████▊                                                                 | 1/4 [00:27<01:21, 27.12s/it]\u001b[A\n",
      "generating from val:  50%|███████████████████████████████████████████▌                                           | 2/4 [00:54<00:54, 27.29s/it]\u001b[A\n",
      "generating from val:  75%|█████████████████████████████████████████████████████████████████▎                     | 3/4 [01:22<00:27, 27.48s/it]\u001b[A\n",
      "generating from val: 100%|███████████████████████████████████████████████████████████████████████████████████████| 4/4 [01:47<00:00, 26.70s/it]\u001b[A\n",
      "                                                                                                                                               \u001b[A"
     ]
    },
    {
     "name": "stdout",
     "output_type": "stream",
     "text": [
      "[pred] to the character of the sutures of the skull, which, like those of the infant skull, are relatively smooth and untortuous. In\n",
      "[true] to the character of the sutures of the skull which, like those of the infant skull, are relatively smooth and untortuous. In fact\n",
      "\n",
      "\n",
      "\n",
      "[pred] individual from the Southern Hemisphere, to win a Winter Olympic gold medal and was also part of the short track relay team that won Australia'\n",
      "[true] individual from the Southern Hemisphere, to win a Winter Olympic gold medal and was also part of the short track relay team that won Australia'\n",
      "\n",
      "\n",
      "\n",
      "[pred] the same rights as straight people, while 15% disagreed. Additionally, 69% agreed that they should be protected from workplace discrimination. 13% of H\n",
      "[true] the same rights as straight people, while 15% disagreed. Additionally, 69% agreed that they should be protected from workplace discrimination. 13% of H\n",
      "setting preds_emb\n"
     ]
    },
    {
     "name": "stderr",
     "output_type": "stream",
     "text": [
      "\n",
      "generating from val:   0%|                                                                                               | 0/4 [00:00<?, ?it/s]\u001b[A\n",
      "generating from val:  25%|█████████████████████▊                                                                 | 1/4 [00:26<01:20, 26.90s/it]\u001b[A\n",
      "generating from val:  50%|███████████████████████████████████████████▌                                           | 2/4 [00:54<00:54, 27.15s/it]\u001b[A\n",
      "generating from val:  75%|█████████████████████████████████████████████████████████████████▎                     | 3/4 [01:21<00:27, 27.20s/it]\u001b[A\n",
      "generating from val: 100%|███████████████████████████████████████████████████████████████████████████████████████| 4/4 [01:47<00:00, 26.82s/it]\u001b[A\n",
      "                                                                                                                                               \u001b[A"
     ]
    },
    {
     "name": "stdout",
     "output_type": "stream",
     "text": [
      "[pred] we study the phase behavior of a nematic liquid crystal confined between a flat substrate and a patterned substrate with strong anchoring\n",
      "[true] we study the phase behavior of a nematic liquid crystal confined between a flat substrate with strong anchoring and a patterned substrate\n",
      "\n",
      "\n",
      "\n",
      "[pred] determining the scaling relations between galaxy clusters requires large samples of uniformly observed clusters. we measure the mean observables x-\n",
      "[true] determining the scaling relations between galaxy cluster observables requires large samples of uniformly observed clusters. we measure the mean x -\n",
      "\n",
      "\n",
      "\n",
      "[pred] we show how to control spatial correlations in a degenerate quantum parametric multimode optical oscillator type I below threshold by a\n",
      "[true] we show how to control spatial quantum correlations in a multimode degenerate optical parametric oscillator type i below threshold by \n",
      "setting preds_emb\n"
     ]
    },
    {
     "name": "stderr",
     "output_type": "stream",
     "text": [
      "\n",
      "generating from val:   0%|                                                                                               | 0/4 [00:00<?, ?it/s]\u001b[A\n",
      "generating from val:  25%|█████████████████████▊                                                                 | 1/4 [00:26<01:20, 26.83s/it]\u001b[A\n",
      "generating from val:  50%|███████████████████████████████████████████▌                                           | 2/4 [00:54<00:54, 27.23s/it]\u001b[A\n",
      "generating from val:  75%|█████████████████████████████████████████████████████████████████▎                     | 3/4 [01:21<00:27, 27.16s/it]\u001b[A\n",
      "generating from val: 100%|███████████████████████████████████████████████████████████████████████████████████████| 4/4 [01:47<00:00, 26.61s/it]\u001b[A\n",
      "                                                                                                                                               \u001b[AWarning: Empty reference sentence detected; setting raw BERTScores to 0.\n",
      "100%|███████████████████████████████████████████████████████████████████████████████████████████████████████| 49/49 [2:29:49<00:00, 183.45s/it]"
     ]
    },
    {
     "name": "stdout",
     "output_type": "stream",
     "text": [
      "[pred] The ex-Reading defender denied fraudulent trading charges relating to the Sodje Sports Foundation - a charity to raise money for Nigerian\n",
      "[true] The ex-Reading defender denied fraudulent trading charges relating to the Sodje Sports Foundation - a charity to raise money for Nigerian\n",
      "\n",
      "\n",
      "\n",
      "[pred] Voges was forced to retire hurt after batting for 86 on 4 June while suffering the injury in the County Championship draw with Somerset. Middlesex\n",
      "[true] Voges was forced to retire hurt on 86 after suffering the injury while batting during the County Championship draw with Somerset on 4 June. Middlesex\n",
      "\n",
      "\n",
      "\n",
      "[pred] Seven photographs taken in the Norfolk countryside by photographer Josh Olins will appear in the June edition. In her first sitting for the magazine, a du\n",
      "[true] Seven photographs taken in the Norfolk countryside by photographer Josh Olins will appear in the June edition. In her first sitting for a magazine, the du\n",
      "setting preds_emb\n"
     ]
    },
    {
     "name": "stderr",
     "output_type": "stream",
     "text": [
      "\n"
     ]
    }
   ],
   "source": [
    "from tqdm import trange\n",
    "\n",
    "all_metrics = []\n",
    "\n",
    "def get_metrics(t):\n",
    "    return (\n",
    "    {f\"nq_{k}\": v for k,v in t.evaluate(eval_dataset=t.eval_dataset[\"nq\"]).items()} \n",
    "    |\n",
    "    {f\"arxiv_{k}\": v for k,v in t.evaluate(eval_dataset=t.eval_dataset[\"arxiv\"]).items()} \n",
    "    |\n",
    "    {f\"xsum_doc_{k}\": v for k,v in t.evaluate(eval_dataset=t.eval_dataset[\"xsum_doc\"]).items()} \n",
    ")\n",
    "\n",
    "trainer.inversion_trainer.model.use_frozen_embeddings_as_input = False\n",
    "trainer.inversion_trainer.gen_kwargs =  {\n",
    "    \"early_stopping\": False,\n",
    "    \"num_beams\": 1,\n",
    "    \"do_sample\": False,\n",
    "    \"no_repeat_ngram_size\": 0,\n",
    "}\n",
    "metrics = get_metrics(trainer.inversion_trainer)\n",
    "metrics['num_rounds'] = 0\n",
    "all_metrics.append(metrics)\n",
    "\n",
    "trainer.inversion_trainer.model.use_frozen_embeddings_as_input = True\n",
    "for R in trange(1, 50):\n",
    "    print(f\"*** round {R}\")\n",
    "    trainer.gen_kwargs = {\n",
    "        \"early_stopping\": False,\n",
    "        \"num_beams\": 1,\n",
    "        \"do_sample\": False,\n",
    "        \"no_repeat_ngram_size\": 0,\n",
    "    }\n",
    "    trainer.args.per_device_eval_batch_size = 128\n",
    "    trainer.num_gen_recursive_steps = R\n",
    "\n",
    "    metrics = get_metrics(trainer)\n",
    "    metrics['num_rounds'] = R\n",
    "    all_metrics.append(metrics)"
   ]
  },
  {
   "cell_type": "code",
   "execution_count": 35,
   "id": "08baadab-5673-4292-8549-fd486fa91f64",
   "metadata": {},
   "outputs": [
    {
     "data": {
      "text/plain": [
       "50"
      ]
     },
     "execution_count": 35,
     "metadata": {},
     "output_type": "execute_result"
    }
   ],
   "source": [
    "len(all_metrics)"
   ]
  },
  {
   "cell_type": "code",
   "execution_count": 36,
   "id": "7eefbfbe-cdd1-48fa-b7b3-e1122d58e93f",
   "metadata": {},
   "outputs": [
    {
     "data": {
      "text/html": [
       "<div>\n",
       "<style scoped>\n",
       "    .dataframe tbody tr th:only-of-type {\n",
       "        vertical-align: middle;\n",
       "    }\n",
       "\n",
       "    .dataframe tbody tr th {\n",
       "        vertical-align: top;\n",
       "    }\n",
       "\n",
       "    .dataframe thead th {\n",
       "        text-align: right;\n",
       "    }\n",
       "</style>\n",
       "<table border=\"1\" class=\"dataframe\">\n",
       "  <thead>\n",
       "    <tr style=\"text-align: right;\">\n",
       "      <th></th>\n",
       "      <th>nq_eval_loss</th>\n",
       "      <th>nq_eval_accuracy</th>\n",
       "      <th>nq_eval_token_set_precision</th>\n",
       "      <th>nq_eval_token_set_recall</th>\n",
       "      <th>nq_eval_token_set_f1</th>\n",
       "      <th>nq_eval_bleu_score</th>\n",
       "      <th>nq_eval_meteor_score</th>\n",
       "      <th>nq_eval_rouge_score</th>\n",
       "      <th>nq_eval_bert_score</th>\n",
       "      <th>nq_eval_exact_match</th>\n",
       "      <th>...</th>\n",
       "      <th>xsum_doc_eval_meteor_score</th>\n",
       "      <th>xsum_doc_eval_rouge_score</th>\n",
       "      <th>xsum_doc_eval_bert_score</th>\n",
       "      <th>xsum_doc_eval_exact_match</th>\n",
       "      <th>xsum_doc_eval_emb_cos_sim</th>\n",
       "      <th>xsum_doc_eval_perplexity</th>\n",
       "      <th>xsum_doc_eval_runtime</th>\n",
       "      <th>xsum_doc_eval_samples_per_second</th>\n",
       "      <th>xsum_doc_eval_steps_per_second</th>\n",
       "      <th>num_rounds</th>\n",
       "    </tr>\n",
       "  </thead>\n",
       "  <tbody>\n",
       "    <tr>\n",
       "      <th>0</th>\n",
       "      <td>1.052261</td>\n",
       "      <td>0.738607</td>\n",
       "      <td>0.659537</td>\n",
       "      <td>0.688779</td>\n",
       "      <td>0.672880</td>\n",
       "      <td>31.876986</td>\n",
       "      <td>0.579221</td>\n",
       "      <td>0.641488</td>\n",
       "      <td>0.917711</td>\n",
       "      <td>0.015625</td>\n",
       "      <td>...</td>\n",
       "      <td>0.462871</td>\n",
       "      <td>0.546852</td>\n",
       "      <td>0.897046</td>\n",
       "      <td>0.000</td>\n",
       "      <td>0.886195</td>\n",
       "      <td>4.452925</td>\n",
       "      <td>5.1810</td>\n",
       "      <td>96.506</td>\n",
       "      <td>0.772</td>\n",
       "      <td>0</td>\n",
       "    </tr>\n",
       "    <tr>\n",
       "      <th>1</th>\n",
       "      <td>0.645235</td>\n",
       "      <td>NaN</td>\n",
       "      <td>0.798146</td>\n",
       "      <td>0.812329</td>\n",
       "      <td>0.804574</td>\n",
       "      <td>49.991154</td>\n",
       "      <td>0.739983</td>\n",
       "      <td>0.778723</td>\n",
       "      <td>0.943934</td>\n",
       "      <td>0.088000</td>\n",
       "      <td>...</td>\n",
       "      <td>0.605260</td>\n",
       "      <td>0.667726</td>\n",
       "      <td>0.918014</td>\n",
       "      <td>0.002</td>\n",
       "      <td>0.935534</td>\n",
       "      <td>NaN</td>\n",
       "      <td>9.3527</td>\n",
       "      <td>53.461</td>\n",
       "      <td>0.428</td>\n",
       "      <td>1</td>\n",
       "    </tr>\n",
       "    <tr>\n",
       "      <th>2</th>\n",
       "      <td>0.645235</td>\n",
       "      <td>NaN</td>\n",
       "      <td>0.856935</td>\n",
       "      <td>0.865795</td>\n",
       "      <td>0.860895</td>\n",
       "      <td>60.560479</td>\n",
       "      <td>0.810046</td>\n",
       "      <td>0.841975</td>\n",
       "      <td>0.956518</td>\n",
       "      <td>0.190000</td>\n",
       "      <td>...</td>\n",
       "      <td>0.688532</td>\n",
       "      <td>0.739705</td>\n",
       "      <td>0.932339</td>\n",
       "      <td>0.018</td>\n",
       "      <td>0.951886</td>\n",
       "      <td>NaN</td>\n",
       "      <td>11.7574</td>\n",
       "      <td>42.527</td>\n",
       "      <td>0.340</td>\n",
       "      <td>2</td>\n",
       "    </tr>\n",
       "    <tr>\n",
       "      <th>3</th>\n",
       "      <td>0.645235</td>\n",
       "      <td>NaN</td>\n",
       "      <td>0.887662</td>\n",
       "      <td>0.895868</td>\n",
       "      <td>0.891410</td>\n",
       "      <td>67.151438</td>\n",
       "      <td>0.849825</td>\n",
       "      <td>0.876062</td>\n",
       "      <td>0.964854</td>\n",
       "      <td>0.274000</td>\n",
       "      <td>...</td>\n",
       "      <td>0.743652</td>\n",
       "      <td>0.781952</td>\n",
       "      <td>0.941930</td>\n",
       "      <td>0.054</td>\n",
       "      <td>0.962352</td>\n",
       "      <td>NaN</td>\n",
       "      <td>13.6233</td>\n",
       "      <td>36.702</td>\n",
       "      <td>0.294</td>\n",
       "      <td>3</td>\n",
       "    </tr>\n",
       "    <tr>\n",
       "      <th>4</th>\n",
       "      <td>0.645235</td>\n",
       "      <td>NaN</td>\n",
       "      <td>0.906216</td>\n",
       "      <td>0.917397</td>\n",
       "      <td>0.911450</td>\n",
       "      <td>71.701140</td>\n",
       "      <td>0.876375</td>\n",
       "      <td>0.898838</td>\n",
       "      <td>0.969566</td>\n",
       "      <td>0.338000</td>\n",
       "      <td>...</td>\n",
       "      <td>0.778148</td>\n",
       "      <td>0.809880</td>\n",
       "      <td>0.949026</td>\n",
       "      <td>0.136</td>\n",
       "      <td>0.966575</td>\n",
       "      <td>NaN</td>\n",
       "      <td>15.2067</td>\n",
       "      <td>32.880</td>\n",
       "      <td>0.263</td>\n",
       "      <td>4</td>\n",
       "    </tr>\n",
       "  </tbody>\n",
       "</table>\n",
       "<p>5 rows × 46 columns</p>\n",
       "</div>"
      ],
      "text/plain": [
       "   nq_eval_loss  nq_eval_accuracy  nq_eval_token_set_precision   \n",
       "0      1.052261          0.738607                     0.659537  \\\n",
       "1      0.645235               NaN                     0.798146   \n",
       "2      0.645235               NaN                     0.856935   \n",
       "3      0.645235               NaN                     0.887662   \n",
       "4      0.645235               NaN                     0.906216   \n",
       "\n",
       "   nq_eval_token_set_recall  nq_eval_token_set_f1  nq_eval_bleu_score   \n",
       "0                  0.688779              0.672880           31.876986  \\\n",
       "1                  0.812329              0.804574           49.991154   \n",
       "2                  0.865795              0.860895           60.560479   \n",
       "3                  0.895868              0.891410           67.151438   \n",
       "4                  0.917397              0.911450           71.701140   \n",
       "\n",
       "   nq_eval_meteor_score  nq_eval_rouge_score  nq_eval_bert_score   \n",
       "0              0.579221             0.641488            0.917711  \\\n",
       "1              0.739983             0.778723            0.943934   \n",
       "2              0.810046             0.841975            0.956518   \n",
       "3              0.849825             0.876062            0.964854   \n",
       "4              0.876375             0.898838            0.969566   \n",
       "\n",
       "   nq_eval_exact_match  ...  xsum_doc_eval_meteor_score   \n",
       "0             0.015625  ...                    0.462871  \\\n",
       "1             0.088000  ...                    0.605260   \n",
       "2             0.190000  ...                    0.688532   \n",
       "3             0.274000  ...                    0.743652   \n",
       "4             0.338000  ...                    0.778148   \n",
       "\n",
       "   xsum_doc_eval_rouge_score  xsum_doc_eval_bert_score   \n",
       "0                   0.546852                  0.897046  \\\n",
       "1                   0.667726                  0.918014   \n",
       "2                   0.739705                  0.932339   \n",
       "3                   0.781952                  0.941930   \n",
       "4                   0.809880                  0.949026   \n",
       "\n",
       "   xsum_doc_eval_exact_match  xsum_doc_eval_emb_cos_sim   \n",
       "0                      0.000                   0.886195  \\\n",
       "1                      0.002                   0.935534   \n",
       "2                      0.018                   0.951886   \n",
       "3                      0.054                   0.962352   \n",
       "4                      0.136                   0.966575   \n",
       "\n",
       "   xsum_doc_eval_perplexity  xsum_doc_eval_runtime   \n",
       "0                  4.452925                 5.1810  \\\n",
       "1                       NaN                 9.3527   \n",
       "2                       NaN                11.7574   \n",
       "3                       NaN                13.6233   \n",
       "4                       NaN                15.2067   \n",
       "\n",
       "   xsum_doc_eval_samples_per_second  xsum_doc_eval_steps_per_second   \n",
       "0                            96.506                           0.772  \\\n",
       "1                            53.461                           0.428   \n",
       "2                            42.527                           0.340   \n",
       "3                            36.702                           0.294   \n",
       "4                            32.880                           0.263   \n",
       "\n",
       "   num_rounds  \n",
       "0           0  \n",
       "1           1  \n",
       "2           2  \n",
       "3           3  \n",
       "4           4  \n",
       "\n",
       "[5 rows x 46 columns]"
      ]
     },
     "execution_count": 36,
     "metadata": {},
     "output_type": "execute_result"
    }
   ],
   "source": [
    "import pandas as pd\n",
    "import seaborn as sns\n",
    "\n",
    "df = pd.DataFrame(all_metrics)\n",
    "df.head()"
   ]
  },
  {
   "cell_type": "code",
   "execution_count": 95,
   "id": "ee5a9e33-1199-40fa-98bb-964baa8a4b7b",
   "metadata": {},
   "outputs": [
    {
     "data": {
      "image/png": "[encoded data removed]",
      "text/plain": [
       "<Figure size 640x480 with 1 Axes>"
      ]
     },
     "metadata": {},
     "output_type": "display_data"
    }
   ],
   "source": [
    "import matplotlib.pyplot as plt\n",
    "import seaborn as sns\n",
    "\n",
    "sns.set(font_scale=1.2, style=\"white\")\n",
    "\n",
    "new_df = df.melt(id_vars=['num_rounds'], value_vars=['nq_eval_bleu_score', 'arxiv_eval_bleu_score', 'xsum_doc_eval_bleu_score'])\n",
    "new_df.to_parquet('multiround_sl32.parquet')\n",
    "ax = sns.lineplot(data=new_df, x=\"num_rounds\", y=\"value\", hue=\"variable\", style=\"variable\", lw=3)\n",
    "\n",
    "# Titles\n",
    "# ax.set_title(\"Reconstruction performance improves across rounds\")\n",
    "ax.set_xlabel(\"Rounds of self-correction\")\n",
    "ax.set_ylabel(\"Reconstruction acc. (BLEU)\")\n",
    "\n",
    "\n",
    "# Change labels to something interpretable\n",
    "L = plt.legend()\n",
    "for i, label in enumerate([\"Wikipedia\", \"ArXiv\", \"News\"]):\n",
    "    L.get_texts()[i].set_text(label)\n",
    "    \n",
    "# save to PDF\n",
    "plt.savefig(\"multiround_sl32.pdf\", format=\"pdf\", bbox_inches=\"tight\") "
   ]
  },
  {
   "cell_type": "code",
   "execution_count": 41,
   "id": "4379251a-550a-427c-af00-165cbde7d97a",
   "metadata": {},
   "outputs": [
    {
     "data": {
      "text/plain": [
       "{'nq_eval_loss': 0.6452354788780212,\n",
       " 'nq_eval_token_set_precision': 0.9568612423044403,\n",
       " 'nq_eval_token_set_recall': 0.9624170367965794,\n",
       " 'nq_eval_token_set_f1': 0.9594496296846116,\n",
       " 'nq_eval_bleu_score': 84.09693695426056,\n",
       " 'nq_eval_meteor_score': 0.9413687286414782,\n",
       " 'nq_eval_rouge_score': 0.9520987181354363,\n",
       " 'nq_eval_bert_score': 0.9838602417707443,\n",
       " 'nq_eval_exact_match': 0.52,\n",
       " 'nq_eval_emb_cos_sim': 0.9906647205352783,\n",
       " 'nq_eval_runtime': 113.2404,\n",
       " 'nq_eval_samples_per_second': 4.415,\n",
       " 'nq_eval_steps_per_second': 0.035,\n",
       " 'arxiv_eval_loss': 1.7339987754821777,\n",
       " 'arxiv_eval_token_set_precision': 0.8872689641541411,\n",
       " 'arxiv_eval_token_set_recall': 0.8889101085918554,\n",
       " 'arxiv_eval_token_set_f1': 0.8874387107985746,\n",
       " 'arxiv_eval_bleu_score': 53.767067347226565,\n",
       " 'arxiv_eval_meteor_score': 0.789265543874401,\n",
       " 'arxiv_eval_rouge_score': 0.8722897604751119,\n",
       " 'arxiv_eval_bert_score': 0.9468973543643951,\n",
       " 'arxiv_eval_exact_match': 0.102,\n",
       " 'arxiv_eval_emb_cos_sim': 0.9678734540939331,\n",
       " 'arxiv_eval_runtime': 112.9954,\n",
       " 'arxiv_eval_samples_per_second': 4.425,\n",
       " 'arxiv_eval_steps_per_second': 0.035,\n",
       " 'xsum_doc_eval_loss': 1.1224849224090576,\n",
       " 'xsum_doc_eval_token_set_precision': 0.9304465610101327,\n",
       " 'xsum_doc_eval_token_set_recall': 0.9366241937054638,\n",
       " 'xsum_doc_eval_token_set_f1': 0.9333721444257388,\n",
       " 'xsum_doc_eval_bleu_score': 77.40329707793063,\n",
       " 'xsum_doc_eval_meteor_score': 0.9091222097882187,\n",
       " 'xsum_doc_eval_rouge_score': 0.920038431911088,\n",
       " 'xsum_doc_eval_bert_score': 0.9743584693670273,\n",
       " 'xsum_doc_eval_exact_match': 0.426,\n",
       " 'xsum_doc_eval_emb_cos_sim': 0.988284170627594,\n",
       " 'xsum_doc_eval_runtime': 112.1503,\n",
       " 'xsum_doc_eval_samples_per_second': 4.458,\n",
       " 'xsum_doc_eval_steps_per_second': 0.036,\n",
       " 'num_rounds': 49}"
      ]
     },
     "execution_count": 41,
     "metadata": {},
     "output_type": "execute_result"
    }
   ],
   "source": [
    "all_metrics[-1]"
   ]
  },
  {
   "cell_type": "code",
   "execution_count": 20,
   "id": "1572b399-8dcc-4405-a9b5-75db62079194",
   "metadata": {},
   "outputs": [
    {
     "data": {
      "text/plain": [
       "<Axes: xlabel='num_rounds'>"
      ]
     },
     "execution_count": 20,
     "metadata": {},
     "output_type": "execute_result"
    },
    {
     "data": {
      "image/png": "[encoded data removed]",
      "text/plain": [
       "<Figure size 640x480 with 1 Axes>"
      ]
     },
     "metadata": {},
     "output_type": "display_data"
    }
   ],
   "source": [
    "df.plot(x=\"num_rounds\", y=\"eval_bleu_score\")"
   ]
  },
  {
   "cell_type": "code",
   "execution_count": 17,
   "id": "9080d1a3-532a-43a9-8cb8-342c200ec0d2",
   "metadata": {},
   "outputs": [
    {
     "data": {
      "text/plain": [
       "<Axes: xlabel='num_rounds'>"
      ]
     },
     "execution_count": 17,
     "metadata": {},
     "output_type": "execute_result"
    },
    {
     "data": {
      "image/png": "[encoded data removed]",
      "text/plain": [
       "<Figure size 640x480 with 1 Axes>"
      ]
     },
     "metadata": {},
     "output_type": "display_data"
    }
   ],
   "source": [
    "df.plot(x=\"num_rounds\", y=\"eval_emb_cos_sim\")"
   ]
  },
  {
   "cell_type": "code",
   "execution_count": 22,
   "id": "bddc7af6-de57-4b51-b572-1897155626aa",
   "metadata": {},
   "outputs": [
    {
     "data": {
      "text/plain": [
       "<Axes: xlabel='num_rounds'>"
      ]
     },
     "execution_count": 22,
     "metadata": {},
     "output_type": "execute_result"
    },
    {
     "data": {
      "image/png": "[encoded data removed]",
      "text/plain": [
       "<Figure size 640x480 with 1 Axes>"
      ]
     },
     "metadata": {},
     "output_type": "display_data"
    }
   ],
   "source": [
    "df.plot(x=\"num_rounds\", y=\"eval_token_set_precision\")"
   ]
  },
  {
   "cell_type": "code",
   "execution_count": 5,
   "id": "3127a1b7-0409-4e32-abfb-22fdf58328e3",
   "metadata": {},
   "outputs": [],
   "source": [
    "# trainer.evaluate(\n",
    "#     trainer.preds_emb.shape"
   ]
  },
  {
   "cell_type": "markdown",
   "id": "93f89d77-1d7d-41f8-8fc2-e933094213ab",
   "metadata": {},
   "source": [
    "## plotting trajectories"
   ]
  },
  {
   "cell_type": "code",
   "execution_count": 6,
   "id": "f647fb30-572f-4db5-8199-13f5d9a6c817",
   "metadata": {},
   "outputs": [],
   "source": [
    "from sklearn.decomposition import PCA\n",
    "\n",
    "pca = PCA(n_components=2).fit(trainer.preds_emb)"
   ]
  },
  {
   "cell_type": "code",
   "execution_count": 7,
   "id": "bc200da8-1dc7-4e77-89af-174551a9a8c2",
   "metadata": {},
   "outputs": [
    {
     "data": {
      "text/plain": [
       "<Axes: >"
      ]
     },
     "execution_count": 7,
     "metadata": {},
     "output_type": "execute_result"
    },
    {
     "data": {
      "image/png": "[encoded data removed]",
      "text/plain": [
       "<Figure size 640x480 with 1 Axes>"
      ]
     },
     "metadata": {},
     "output_type": "display_data"
    }
   ],
   "source": [
    "import seaborn as sns\n",
    "\n",
    "x, y = pca.transform(trainer.preds_emb).T\n",
    "sns.scatterplot(x=x, y=y)"
   ]
  },
  {
   "cell_type": "code",
   "execution_count": 147,
   "id": "2de6fe88-441f-4c0b-9974-e80f5cf55cbe",
   "metadata": {},
   "outputs": [
    {
     "data": {
      "text/plain": [
       "'rowboat. The 2002 horror movie \"The Ring\" was in part filmed near the pass. The bridge is fictionalized as a toll bridge</s>'"
      ]
     },
     "execution_count": 147,
     "metadata": {},
     "output_type": "execute_result"
    }
   ],
   "source": [
    "trainer.embedder_tokenizer.decode(trainer.eval_dataset[\"nq\"][335][\"input_ids\"])"
   ]
  },
  {
   "cell_type": "code",
   "execution_count": 122,
   "id": "1bca0f05-27a5-4086-b0e4-b56ab63e1b85",
   "metadata": {},
   "outputs": [
    {
     "data": {
      "text/plain": [
       "{'early_stopping': False,\n",
       " 'num_beams': 1,\n",
       " 'do_sample': False,\n",
       " 'no_repeat_ngram_size': 0}"
      ]
     },
     "execution_count": 122,
     "metadata": {},
     "output_type": "execute_result"
    }
   ],
   "source": [
    "trainer.gen_kwargs"
   ]
  },
  {
   "cell_type": "code",
   "execution_count": 124,
   "id": "86eddd22-b3c9-4b1a-b655-63228886efb5",
   "metadata": {},
   "outputs": [],
   "source": [
    "from typing import Dict\n",
    "import copy\n",
    "import torch\n",
    "\n",
    "def get_trajectories(inputs: Dict[str, torch.Tensor], num_beams: int = 1, num_rounds: int = 5) -> torch.Tensor:\n",
    "    embeddings = []\n",
    "    gen_kwargs = copy.copy(trainer.gen_kwargs)\n",
    "    gen_kwargs[\"num_beams\"] = num_beams\n",
    "    frozen_embeddings = trainer.get_frozen_embeddings(\n",
    "        embedder_input_ids=inputs[\"embedder_input_ids\"],\n",
    "        embedder_attention_mask=inputs[\"embedder_attention_mask\"],\n",
    "    )\n",
    "    print(\"input:\", trainer.embedder_tokenizer.decode(inputs[\"input_ids\"][0]))\n",
    "    for n in range(num_rounds):\n",
    "        if n == 0:\n",
    "            trainer.inversion_trainer.model.use_frozen_embeddings_as_input = False\n",
    "            hypothesis = trainer.inversion_trainer.generate(inputs=inputs, generation_kwargs=gen_kwargs)\n",
    "        else:\n",
    "            hypothesis = trainer.generate(inputs=inputs, generation_kwargs=gen_kwargs, num_recursive_steps=1)\n",
    "        # queue up next round             \n",
    "        hypothesis_embedding = trainer.embed_generated_hypothesis(input_ids=hypothesis)\n",
    "        inputs[\"frozen_embeddings\"] = frozen_embeddings\n",
    "        inputs[\"hypothesis_input_ids\"] = hypothesis\n",
    "        inputs[\"hypothesis_attention_mask\"] = (hypothesis != trainer.model.encoder_decoder.config.pad_token_id).int()\n",
    "        inputs[\"hypothesis_embedding\"] = hypothesis_embedding\n",
    "        # import pdb; pdb.set_trace()\n",
    "        embeddings.append(hypothesis_embedding.cpu())\n",
    "        dist = torch.nn.CosineSimilarity(dim=1)(hypothesis_embedding, frozen_embeddings).item()\n",
    "        print(f\"round {n+1} ({dist:.3f}):\", trainer.embedder_tokenizer.decode(hypothesis[0]))\n",
    "    return torch.stack(embeddings)"
   ]
  },
  {
   "cell_type": "code",
   "execution_count": 125,
   "id": "935fa9b0-fcf7-49d9-9b20-0cd0dd8be96a",
   "metadata": {},
   "outputs": [
    {
     "name": "stdout",
     "output_type": "stream",
     "text": [
      "input: nowadays, scientific challenges usually require approaches that cross traditional boundaries between academic disciplines, driving many researchers towards interdisciplinarity. despite its obvious</s>\n",
      "round 1 (0.908): <pad> in many disciplines challenges often involve a challenge that crosses traditional scientific boundaries rather than a challenge that follows interdisciplinarity. This has led to researchers\n",
      "round 2 (0.953): <pad> nowadays, scientific challenges often require a cross between disciplines which approach interdisciplinarity and which naturally follows traditional academic boundaries. This may lead to researchers \n",
      "round 3 (0.961): <pad> nowadays, scientific challenges often require researchers to cross traditional academic boundaries and follow a different approach towards interdisciplinarity. This is obvious in many applications (\n",
      "round 4 (0.973): <pad> nowadays, scientific challenges usually require approaches that cross traditional academic boundaries while driving researchers towards interdisciplinarity. This is obvious in a combination of applications \n",
      "round 5 (0.983): <pad> nowadays, scientific challenges usually require approaches that cross traditional academic boundaries, allowing researchers to drive disciplines towards interdisciplinarity. As an obvious result,\n",
      "round 6 (0.987): <pad> nowadays, scientific challenges usually require approaches which cross traditional academic boundaries between disciplines, allowing researchers to drive towards interdisciplinarity. As a obvious\n",
      "round 7 (0.988): <pad> nowadays, scientific challenges usually require approaches which cross traditional academic boundaries between disciplines, allowing researchers to drive towards interdisciplinarity. As it is obvious\n",
      "round 8 (0.991): <pad> nowadays, scientific challenges usually require approaches which cross traditional academic boundaries between disciplines, allowing researchers to drive towards interdisciplinarity. Despite its obvious\n"
     ]
    }
   ],
   "source": [
    "eval_batch = next(iter(trainer.get_eval_dataloader(eval_dataset=trainer.eval_dataset[\"arxiv\"])))\n",
    "eval_batch = {k: v[None, 4] for k,v in eval_batch.items() }\n",
    "eval_batch = {k: v.to(trainer.args.device) for k,v in eval_batch.items() } # put on GPU\n",
    "trainer.inversion_trainer.model.use_frozen_embeddings_as_input = False\n",
    "# trainer.embedder_tokenizer.decode(().flatten())\n",
    "trajectories = get_trajectories(inputs=eval_batch, num_rounds=8)"
   ]
  },
  {
   "cell_type": "code",
   "execution_count": 229,
   "id": "13f77214-43dd-4271-8d7c-1a2738fb5c3c",
   "metadata": {},
   "outputs": [
    {
     "data": {
      "image/svg+xml": [
       "<?xml version=\"1.0\" encoding=\"utf-8\" ?>\n",
       "<svg baseProfile=\"full\" height=\"500\" version=\"1.1\" width=\"564\" xmlns=\"http://www.w3.org/2000/svg\" xmlns:ev=\"http://www.w3.org/2001/xml-events\" xmlns:xlink=\"http://www.w3.org/1999/xlink\"><defs><marker id=\"arrow\" markerHeight=\"3.5\" markerWidth=\"5\" orient=\"auto\" refX=\"5.0\" refY=\"1.7\"><polygon points=\"0,0 5,1.75 0,3.5\" /></marker></defs><g style=\"fill:white;\"><g transform=\"matrix(1.0, 0.0, 0.0, 1.0, 282.3672180185871, 250.0)\"><g transform=\"matrix(816.8735708559035, 0.0, 0.0, 816.8735708559035, 0.0, 0.0)\"><g><g transform=\"matrix(1.0, 0.0, 0.0, 1.0, -0.02424909829341554, -0.008168015537043882)\"><g><g><g><g><g /><g style=\"fill: #ffffff;stroke: black;stroke-width: 1.692;\" transform=\"matrix(1.0, 0.0, 0.0, 1.0, -0.30495871257495644, -0.2833033290992708)\"><path d=\"M 0.0 0.0 L 0.658415621736744 0.0 L 0.658415621736744 0.5829426892726294 L 0.0 0.5829426892726294 L 0.0 0.0 Z\" style=\"vector-effect: non-scaling-stroke;\" /></g></g><g><g><g><g><g><g><g><g><g><g><g><g><g><g><g><g><g><g><g /><g style=\"stroke: #000000;stroke-width: 13.536;\" transform=\"matrix(1.0, 0.0, 0.0, 1.0, 0.0, 0.0)\"><path d=\"M 0.2534569091617875 -0.15908851742589503 L 0.2270460331214635 -0.18330332909927077\" style=\"vector-effect: non-scaling-stroke;fill:none;\" /></g></g><g style=\"stroke: #1b0008;stroke-width: 13.536;\" transform=\"matrix(1.0, 0.0, 0.0, 1.0, 0.0, 0.0)\"><path d=\"M 0.2270460331214635 -0.18330332909927077 L -0.08648207038248956 -0.10415830551178372\" style=\"vector-effect: non-scaling-stroke;fill:none;\" /></g></g><g style=\"stroke: #360010;stroke-width: 13.536;\" transform=\"matrix(1.0, 0.0, 0.0, 1.0, 0.0, 0.0)\"><path d=\"M -0.08648207038248958 -0.10415830551178372 L -0.06962688626892817 -0.16654580625452964\" style=\"vector-effect: non-scaling-stroke;fill:none;\" /></g></g><g style=\"stroke: #510018;stroke-width: 13.536;\" transform=\"matrix(1.0, 0.0, 0.0, 1.0, 0.0, 0.0)\"><path d=\"M -0.06962688626892817 -0.16654580625452964 L 0.07039389101167136 -0.00391016393659005\" style=\"vector-effect: non-scaling-stroke;fill:none;\" /></g></g><g style=\"stroke: #6b0020;stroke-width: 13.536;\" transform=\"matrix(1.0, 0.0, 0.0, 1.0, 0.0, 0.0)\"><path d=\"M 0.07039389101167137 -0.003910163936590043 L -0.1155592825500169 -0.12488071531676526\" style=\"vector-effect: non-scaling-stroke;fill:none;\" /></g></g><g style=\"stroke: #860028;stroke-width: 13.536;\" transform=\"matrix(1.0, 0.0, 0.0, 1.0, 0.0, 0.0)\"><path d=\"M -0.11555928255001692 -0.12488071531676526 L -0.08112379320249097 -0.03624293684480685\" style=\"vector-effect: non-scaling-stroke;fill:none;\" /></g></g><g style=\"stroke: #a10030;stroke-width: 13.536;\" transform=\"matrix(1.0, 0.0, 0.0, 1.0, 0.0, 0.0)\"><path d=\"M -0.08112379320249097 -0.03624293684480685 L 0.19559361818319676 0.13197492114764142\" style=\"vector-effect: non-scaling-stroke;fill:none;\" /></g></g><g style=\"stroke: #bc0038;stroke-width: 13.536;\" transform=\"matrix(1.0, 0.0, 0.0, 1.0, 0.0, 0.0)\"><path d=\"M 0.19559361818319676 0.13197492114764142 L -0.05818218281525134 -0.11494502369342335\" style=\"vector-effect: non-scaling-stroke;fill:none;\" /></g></g><g style=\"stroke: #d70040;stroke-width: 13.536;\" transform=\"matrix(1.0, 0.0, 0.0, 1.0, 0.0, 0.0)\"><path d=\"M -0.05818218281525133 -0.11494502369342335 L 0.23482623169455386 0.03715610695358029\" style=\"vector-effect: non-scaling-stroke;fill:none;\" /></g></g><g style=\"stroke: #f20048;stroke-width: 13.536;\" transform=\"matrix(1.0, 0.0, 0.0, 1.0, 0.0, 0.0)\"><path d=\"M 0.23482623169455388 0.03715610695358028 L -0.20495871257495643 -0.08805342250751881\" style=\"vector-effect: non-scaling-stroke;fill:none;\" /></g></g><g style=\"stroke: #ff0d56;stroke-width: 13.536;\" transform=\"matrix(1.0, 0.0, 0.0, 1.0, 0.0, 0.0)\"><path d=\"M -0.20495871257495646 -0.0880534225075188 L -0.07411929381989474 0.02602827381529954\" style=\"vector-effect: non-scaling-stroke;fill:none;\" /></g></g><g style=\"stroke: #ff2869;stroke-width: 13.536;\" transform=\"matrix(1.0, 0.0, 0.0, 1.0, 0.0, 0.0)\"><path d=\"M -0.07411929381989474 0.02602827381529954 L 0.0022932989983507346 0.1996393601733586\" style=\"vector-effect: non-scaling-stroke;fill:none;\" /></g></g><g style=\"stroke: #ff437b;stroke-width: 13.536;\" transform=\"matrix(1.0, 0.0, 0.0, 1.0, 0.0, 0.0)\"><path d=\"M 0.002293298998350731 0.1996393601733586 L -0.08806901984502533 0.05519433992717315\" style=\"vector-effect: non-scaling-stroke;fill:none;\" /></g></g><g style=\"stroke: #ff5e8e;stroke-width: 13.536;\" transform=\"matrix(1.0, 0.0, 0.0, 1.0, 0.0, 0.0)\"><path d=\"M -0.08806901984502533 0.05519433992717314 L -0.018246872946454107 0.05638378404300892\" style=\"vector-effect: non-scaling-stroke;fill:none;\" /></g></g><g style=\"stroke: #ff79a1;stroke-width: 13.536;\" transform=\"matrix(1.0, 0.0, 0.0, 1.0, 0.0, 0.0)\"><path d=\"M -0.018246872946454107 0.05638378404300892 L -0.05952164719466919 0.13345137785166108\" style=\"vector-effect: non-scaling-stroke;fill:none;\" /></g></g><g style=\"stroke: #ff94b4;stroke-width: 13.536;\" transform=\"matrix(1.0, 0.0, 0.0, 1.0, 0.0, 0.0)\"><path d=\"M -0.05952164719466919 0.13345137785166108 L 0.06004295103712803 0.17828840406207802\" style=\"vector-effect: non-scaling-stroke;fill:none;\" /></g></g><g style=\"stroke: #ffaec7;stroke-width: 13.536;\" transform=\"matrix(1.0, 0.0, 0.0, 1.0, 0.0, 0.0)\"><path d=\"M 0.06004295103712803 0.17828840406207802 L -0.061972023090493926 0.038320819216715096\" style=\"vector-effect: non-scaling-stroke;fill:none;\" /></g></g><g style=\"stroke: #ffc9d9;stroke-width: 13.536;\" transform=\"matrix(1.0, 0.0, 0.0, 1.0, 0.0, 0.0)\"><path d=\"M -0.061972023090493926 0.038320819216715096 L -0.05420736380989074 0.04988056854406648\" style=\"vector-effect: non-scaling-stroke;fill:none;\" /></g></g></g><g><g><g><g><g><g><g><g><g><g><g><g><g><g><g><g><g><g><g><g /><g style=\"fill: #eeeeee;stroke: black;stroke-width: 1.692;\" transform=\"matrix(0.01, 0.0, 0.0, 0.01, 0.2634569091617875, -0.15908851742589503)\"><path d=\"M 0.0 0.0 A 1.0 1.0 0.0 0 0 -1.0 -1.0 A 1.0 1.0 -90.0 0 0 -2.0 0.0 A 1.0 1.0 180.0 0 0 -1.0 1.0 A 1.0 1.0 90.0 0 0 0.0 0.0 Z\" style=\"vector-effect: non-scaling-stroke;\" /></g></g><g style=\"fill: #eeeeee;stroke: black;stroke-width: 1.692;\" transform=\"matrix(0.01, 0.0, 0.0, 0.01, 0.2370460331214635, -0.18330332909927077)\"><path d=\"M 0.0 0.0 A 1.0 1.0 0.0 0 0 -1.0 -1.0 A 1.0 1.0 -90.0 0 0 -2.0 0.0 A 1.0 1.0 180.0 0 0 -1.0 1.0 A 1.0 1.0 90.0 0 0 0.0 0.0 Z\" style=\"vector-effect: non-scaling-stroke;\" /></g></g><g style=\"fill: #eeeeee;stroke: black;stroke-width: 1.692;\" transform=\"matrix(0.01, 0.0, 0.0, 0.01, -0.07648207038248958, -0.10415830551178372)\"><path d=\"M 0.0 0.0 A 1.0 1.0 0.0 0 0 -1.0 -1.0 A 1.0 1.0 -90.0 0 0 -2.0 0.0 A 1.0 1.0 180.0 0 0 -1.0 1.0 A 1.0 1.0 90.0 0 0 0.0 0.0 Z\" style=\"vector-effect: non-scaling-stroke;\" /></g></g><g style=\"fill: #eeeeee;stroke: black;stroke-width: 1.692;\" transform=\"matrix(0.01, 0.0, 0.0, 0.01, -0.05962688626892817, -0.16654580625452964)\"><path d=\"M 0.0 0.0 A 1.0 1.0 0.0 0 0 -1.0 -1.0 A 1.0 1.0 -90.0 0 0 -2.0 0.0 A 1.0 1.0 180.0 0 0 -1.0 1.0 A 1.0 1.0 90.0 0 0 0.0 0.0 Z\" style=\"vector-effect: non-scaling-stroke;\" /></g></g><g style=\"fill: #eeeeee;stroke: black;stroke-width: 1.692;\" transform=\"matrix(0.01, 0.0, 0.0, 0.01, 0.08039389101167137, -0.003910163936590043)\"><path d=\"M 0.0 0.0 A 1.0 1.0 0.0 0 0 -1.0 -1.0 A 1.0 1.0 -90.0 0 0 -2.0 0.0 A 1.0 1.0 180.0 0 0 -1.0 1.0 A 1.0 1.0 90.0 0 0 0.0 0.0 Z\" style=\"vector-effect: non-scaling-stroke;\" /></g></g><g style=\"fill: #eeeeee;stroke: black;stroke-width: 1.692;\" transform=\"matrix(0.01, 0.0, 0.0, 0.01, -0.10555928255001693, -0.12488071531676526)\"><path d=\"M 0.0 0.0 A 1.0 1.0 0.0 0 0 -1.0 -1.0 A 1.0 1.0 -90.0 0 0 -2.0 0.0 A 1.0 1.0 180.0 0 0 -1.0 1.0 A 1.0 1.0 90.0 0 0 0.0 0.0 Z\" style=\"vector-effect: non-scaling-stroke;\" /></g></g><g style=\"fill: #eeeeee;stroke: black;stroke-width: 1.692;\" transform=\"matrix(0.01, 0.0, 0.0, 0.01, -0.07112379320249097, -0.03624293684480685)\"><path d=\"M 0.0 0.0 A 1.0 1.0 0.0 0 0 -1.0 -1.0 A 1.0 1.0 -90.0 0 0 -2.0 0.0 A 1.0 1.0 180.0 0 0 -1.0 1.0 A 1.0 1.0 90.0 0 0 0.0 0.0 Z\" style=\"vector-effect: non-scaling-stroke;\" /></g></g><g style=\"fill: #eeeeee;stroke: black;stroke-width: 1.692;\" transform=\"matrix(0.01, 0.0, 0.0, 0.01, 0.20559361818319677, 0.13197492114764142)\"><path d=\"M 0.0 0.0 A 1.0 1.0 0.0 0 0 -1.0 -1.0 A 1.0 1.0 -90.0 0 0 -2.0 0.0 A 1.0 1.0 180.0 0 0 -1.0 1.0 A 1.0 1.0 90.0 0 0 0.0 0.0 Z\" style=\"vector-effect: non-scaling-stroke;\" /></g></g><g style=\"fill: #eeeeee;stroke: black;stroke-width: 1.692;\" transform=\"matrix(0.01, 0.0, 0.0, 0.01, -0.04818218281525133, -0.11494502369342335)\"><path d=\"M 0.0 0.0 A 1.0 1.0 0.0 0 0 -1.0 -1.0 A 1.0 1.0 -90.0 0 0 -2.0 0.0 A 1.0 1.0 180.0 0 0 -1.0 1.0 A 1.0 1.0 90.0 0 0 0.0 0.0 Z\" style=\"vector-effect: non-scaling-stroke;\" /></g></g><g style=\"fill: #eeeeee;stroke: black;stroke-width: 1.692;\" transform=\"matrix(0.01, 0.0, 0.0, 0.01, 0.2448262316945539, 0.03715610695358028)\"><path d=\"M 0.0 0.0 A 1.0 1.0 0.0 0 0 -1.0 -1.0 A 1.0 1.0 -90.0 0 0 -2.0 0.0 A 1.0 1.0 180.0 0 0 -1.0 1.0 A 1.0 1.0 90.0 0 0 0.0 0.0 Z\" style=\"vector-effect: non-scaling-stroke;\" /></g></g><g style=\"fill: #eeeeee;stroke: black;stroke-width: 1.692;\" transform=\"matrix(0.01, 0.0, 0.0, 0.01, -0.19495871257495645, -0.0880534225075188)\"><path d=\"M 0.0 0.0 A 1.0 1.0 0.0 0 0 -1.0 -1.0 A 1.0 1.0 -90.0 0 0 -2.0 0.0 A 1.0 1.0 180.0 0 0 -1.0 1.0 A 1.0 1.0 90.0 0 0 0.0 0.0 Z\" style=\"vector-effect: non-scaling-stroke;\" /></g></g><g style=\"fill: #eeeeee;stroke: black;stroke-width: 1.692;\" transform=\"matrix(0.01, 0.0, 0.0, 0.01, -0.06411929381989474, 0.02602827381529954)\"><path d=\"M 0.0 0.0 A 1.0 1.0 0.0 0 0 -1.0 -1.0 A 1.0 1.0 -90.0 0 0 -2.0 0.0 A 1.0 1.0 180.0 0 0 -1.0 1.0 A 1.0 1.0 90.0 0 0 0.0 0.0 Z\" style=\"vector-effect: non-scaling-stroke;\" /></g></g><g style=\"fill: #eeeeee;stroke: black;stroke-width: 1.692;\" transform=\"matrix(0.01, 0.0, 0.0, 0.01, 0.012293298998350731, 0.1996393601733586)\"><path d=\"M 0.0 0.0 A 1.0 1.0 0.0 0 0 -1.0 -1.0 A 1.0 1.0 -90.0 0 0 -2.0 0.0 A 1.0 1.0 180.0 0 0 -1.0 1.0 A 1.0 1.0 90.0 0 0 0.0 0.0 Z\" style=\"vector-effect: non-scaling-stroke;\" /></g></g><g style=\"fill: #eeeeee;stroke: black;stroke-width: 1.692;\" transform=\"matrix(0.01, 0.0, 0.0, 0.01, -0.07806901984502533, 0.05519433992717314)\"><path d=\"M 0.0 0.0 A 1.0 1.0 0.0 0 0 -1.0 -1.0 A 1.0 1.0 -90.0 0 0 -2.0 0.0 A 1.0 1.0 180.0 0 0 -1.0 1.0 A 1.0 1.0 90.0 0 0 0.0 0.0 Z\" style=\"vector-effect: non-scaling-stroke;\" /></g></g><g style=\"fill: #eeeeee;stroke: black;stroke-width: 1.692;\" transform=\"matrix(0.01, 0.0, 0.0, 0.01, -0.008246872946454107, 0.05638378404300892)\"><path d=\"M 0.0 0.0 A 1.0 1.0 0.0 0 0 -1.0 -1.0 A 1.0 1.0 -90.0 0 0 -2.0 0.0 A 1.0 1.0 180.0 0 0 -1.0 1.0 A 1.0 1.0 90.0 0 0 0.0 0.0 Z\" style=\"vector-effect: non-scaling-stroke;\" /></g></g><g style=\"fill: #eeeeee;stroke: black;stroke-width: 1.692;\" transform=\"matrix(0.01, 0.0, 0.0, 0.01, -0.049521647194669186, 0.13345137785166108)\"><path d=\"M 0.0 0.0 A 1.0 1.0 0.0 0 0 -1.0 -1.0 A 1.0 1.0 -90.0 0 0 -2.0 0.0 A 1.0 1.0 180.0 0 0 -1.0 1.0 A 1.0 1.0 90.0 0 0 0.0 0.0 Z\" style=\"vector-effect: non-scaling-stroke;\" /></g></g><g style=\"fill: #eeeeee;stroke: black;stroke-width: 1.692;\" transform=\"matrix(0.01, 0.0, 0.0, 0.01, 0.07004295103712803, 0.17828840406207802)\"><path d=\"M 0.0 0.0 A 1.0 1.0 0.0 0 0 -1.0 -1.0 A 1.0 1.0 -90.0 0 0 -2.0 0.0 A 1.0 1.0 180.0 0 0 -1.0 1.0 A 1.0 1.0 90.0 0 0 0.0 0.0 Z\" style=\"vector-effect: non-scaling-stroke;\" /></g></g><g style=\"fill: #eeeeee;stroke: black;stroke-width: 1.692;\" transform=\"matrix(0.01, 0.0, 0.0, 0.01, -0.051972023090493924, 0.038320819216715096)\"><path d=\"M 0.0 0.0 A 1.0 1.0 0.0 0 0 -1.0 -1.0 A 1.0 1.0 -90.0 0 0 -2.0 0.0 A 1.0 1.0 180.0 0 0 -1.0 1.0 A 1.0 1.0 90.0 0 0 0.0 0.0 Z\" style=\"vector-effect: non-scaling-stroke;\" /></g></g><g style=\"fill: #eeeeee;stroke: black;stroke-width: 1.692;\" transform=\"matrix(0.01, 0.0, 0.0, 0.01, -0.04420736380989074, 0.04988056854406648)\"><path d=\"M 0.0 0.0 A 1.0 1.0 0.0 0 0 -1.0 -1.0 A 1.0 1.0 -90.0 0 0 -2.0 0.0 A 1.0 1.0 180.0 0 0 -1.0 1.0 A 1.0 1.0 90.0 0 0 0.0 0.0 Z\" style=\"vector-effect: non-scaling-stroke;\" /></g></g></g><g style=\"fill: #0000ff;stroke: black;stroke-width: 1.692;\" transform=\"matrix(0.01, 0.0, 0.0, 0.01, 0.01743574493126244, -0.015925630363576068)\"><path d=\"M 0.0 0.0 A 1.0 1.0 0.0 0 0 -1.0 -1.0 A 1.0 1.0 -90.0 0 0 -2.0 0.0 A 1.0 1.0 180.0 0 0 -1.0 1.0 A 1.0 1.0 90.0 0 0 0.0 0.0 Z\" style=\"vector-effect: non-scaling-stroke;\" /></g></g></g><g /></g></g></g></g></svg>"
      ],
      "text/plain": [
       "Compose(envelope=<chalk.envelope.Envelope object at 0x7f1bacd80f40>, diagram1=Compose(envelope=<chalk.envelope.Envelope object at 0x7f1bacd80d00>, diagram1=Compose(envelope=<chalk.envelope.Envelope object at 0x7f1bacd809a0>, diagram1=Compose(envelope=<chalk.envelope.Envelope object at 0x7f1bacd73cd0>, diagram1=Empty(), diagram2=Primitive(shape=Path(loc_trails=[Located(trail=Trail(segments=[Segment(offset=Vec2(0.658415621736744, 0.0), origin=Vec2(0.0, 0.0)), Segment(offset=Vec2(0.0, 0.5829426892726294), origin=Vec2(0.0, 0.0)), Segment(offset=Vec2(-0.658415621736744, 0.0), origin=Vec2(0.0, 0.0)), Segment(offset=Vec2(0.0, -0.5829426892726294), origin=Vec2(0.0, 0.0))], closed=True), location=Vec2(0.0, 0.0))]), style=Style(line_width_=None, line_color_=None, fill_color_=<Color white>, fill_opacity_=None, dashing_=None, output_size=None), transform=Affine(1.0, 0.0, -0.30495871257495644,\n",
       "       0.0, 1.0, -0.2833033290992708))), diagram2=Compose(envelope=<chalk.envelope.Envelope object at 0x7f1bacd73880>, diagram1=Compose(envelope=<chalk.envelope.Envelope object at 0x7f1bacd73100>, diagram1=Compose(envelope=<chalk.envelope.Envelope object at 0x7f1bacd72980>, diagram1=Compose(envelope=<chalk.envelope.Envelope object at 0x7f1bacd72200>, diagram1=Compose(envelope=<chalk.envelope.Envelope object at 0x7f1bacd71a80>, diagram1=Compose(envelope=<chalk.envelope.Envelope object at 0x7f1bacd71300>, diagram1=Compose(envelope=<chalk.envelope.Envelope object at 0x7f1bacd70b80>, diagram1=Compose(envelope=<chalk.envelope.Envelope object at 0x7f1bacd70400>, diagram1=Compose(envelope=<chalk.envelope.Envelope object at 0x7f1bacd67c40>, diagram1=Compose(envelope=<chalk.envelope.Envelope object at 0x7f1bacd674c0>, diagram1=Compose(envelope=<chalk.envelope.Envelope object at 0x7f1bacd66d40>, diagram1=Compose(envelope=<chalk.envelope.Envelope object at 0x7f1bacd665c0>, diagram1=Compose(envelope=<chalk.envelope.Envelope object at 0x7f1bacd65e40>, diagram1=Compose(envelope=<chalk.envelope.Envelope object at 0x7f1bacd656c0>, diagram1=Compose(envelope=<chalk.envelope.Envelope object at 0x7f1bacd64f40>, diagram1=Compose(envelope=<chalk.envelope.Envelope object at 0x7f1bacd647c0>, diagram1=Compose(envelope=<chalk.envelope.Envelope object at 0x7f1bacd64070>, diagram1=Compose(envelope=<chalk.envelope.Envelope object at 0x7f1bacd57820>, diagram1=Empty(), diagram2=Primitive(shape=Path(loc_trails=[Located(trail=Trail(segments=[Segment(offset=Vec2(-0.026410876040323994, -0.024214811673375747), origin=Vec2(0.0, 0.0))], closed=False), location=Vec2(0.2534569091617875, -0.15908851742589503))]), style=Style(line_width_=(<WidthType.NORMALIZED: 2>, 0.8), line_color_=<Color black>, fill_color_=None, fill_opacity_=None, dashing_=None, output_size=None), transform=Affine(1.0, 0.0, 0.0,\n",
       "       0.0, 1.0, 0.0))), diagram2=Primitive(shape=Path(loc_trails=[Located(trail=Trail(segments=[Segment(offset=Vec2(-0.31352810350395305, 0.07914502358748705), origin=Vec2(0.0, 0.0))], closed=False), location=Vec2(0.2270460331214635, -0.18330332909927077))]), style=Style(line_width_=(<WidthType.NORMALIZED: 2>, 0.8), line_color_=<Color #1b0008>, fill_color_=None, fill_opacity_=None, dashing_=None, output_size=None), transform=Affine(1.0, 0.0, 0.0,\n",
       "       0.0, 1.0, 0.0))), diagram2=Primitive(shape=Path(loc_trails=[Located(trail=Trail(segments=[Segment(offset=Vec2(0.016855184113561406, -0.06238750074274592), origin=Vec2(0.0, 0.0))], closed=False), location=Vec2(-0.08648207038248958, -0.10415830551178372))]), style=Style(line_width_=(<WidthType.NORMALIZED: 2>, 0.8), line_color_=<Color #360010>, fill_color_=None, fill_opacity_=None, dashing_=None, output_size=None), transform=Affine(1.0, 0.0, 0.0,\n",
       "       0.0, 1.0, 0.0))), diagram2=Primitive(shape=Path(loc_trails=[Located(trail=Trail(segments=[Segment(offset=Vec2(0.14002077728059953, 0.1626356423179396), origin=Vec2(0.0, 0.0))], closed=False), location=Vec2(-0.06962688626892817, -0.16654580625452964))]), style=Style(line_width_=(<WidthType.NORMALIZED: 2>, 0.8), line_color_=<Color #510018>, fill_color_=None, fill_opacity_=None, dashing_=None, output_size=None), transform=Affine(1.0, 0.0, 0.0,\n",
       "       0.0, 1.0, 0.0))), diagram2=Primitive(shape=Path(loc_trails=[Located(trail=Trail(segments=[Segment(offset=Vec2(-0.18595317356168828, -0.1209705513801752), origin=Vec2(0.0, 0.0))], closed=False), location=Vec2(0.07039389101167137, -0.003910163936590043))]), style=Style(line_width_=(<WidthType.NORMALIZED: 2>, 0.8), line_color_=<Color #6b0020>, fill_color_=None, fill_opacity_=None, dashing_=None, output_size=None), transform=Affine(1.0, 0.0, 0.0,\n",
       "       0.0, 1.0, 0.0))), diagram2=Primitive(shape=Path(loc_trails=[Located(trail=Trail(segments=[Segment(offset=Vec2(0.03443548934752595, 0.0886377784719584), origin=Vec2(0.0, 0.0))], closed=False), location=Vec2(-0.11555928255001692, -0.12488071531676526))]), style=Style(line_width_=(<WidthType.NORMALIZED: 2>, 0.8), line_color_=<Color #860028>, fill_color_=None, fill_opacity_=None, dashing_=None, output_size=None), transform=Affine(1.0, 0.0, 0.0,\n",
       "       0.0, 1.0, 0.0))), diagram2=Primitive(shape=Path(loc_trails=[Located(trail=Trail(segments=[Segment(offset=Vec2(0.27671741138568773, 0.16821785799244826), origin=Vec2(0.0, 0.0))], closed=False), location=Vec2(-0.08112379320249097, -0.03624293684480685))]), style=Style(line_width_=(<WidthType.NORMALIZED: 2>, 0.8), line_color_=<Color #a10030>, fill_color_=None, fill_opacity_=None, dashing_=None, output_size=None), transform=Affine(1.0, 0.0, 0.0,\n",
       "       0.0, 1.0, 0.0))), diagram2=Primitive(shape=Path(loc_trails=[Located(trail=Trail(segments=[Segment(offset=Vec2(-0.2537758009984481, -0.24691994484106478), origin=Vec2(0.0, 0.0))], closed=False), location=Vec2(0.19559361818319676, 0.13197492114764142))]), style=Style(line_width_=(<WidthType.NORMALIZED: 2>, 0.8), line_color_=<Color #bc0038>, fill_color_=None, fill_opacity_=None, dashing_=None, output_size=None), transform=Affine(1.0, 0.0, 0.0,\n",
       "       0.0, 1.0, 0.0))), diagram2=Primitive(shape=Path(loc_trails=[Located(trail=Trail(segments=[Segment(offset=Vec2(0.2930084145098052, 0.15210113064700365), origin=Vec2(0.0, 0.0))], closed=False), location=Vec2(-0.05818218281525133, -0.11494502369342335))]), style=Style(line_width_=(<WidthType.NORMALIZED: 2>, 0.8), line_color_=<Color #d70040>, fill_color_=None, fill_opacity_=None, dashing_=None, output_size=None), transform=Affine(1.0, 0.0, 0.0,\n",
       "       0.0, 1.0, 0.0))), diagram2=Primitive(shape=Path(loc_trails=[Located(trail=Trail(segments=[Segment(offset=Vec2(-0.4397849442695103, -0.1252095294610991), origin=Vec2(0.0, 0.0))], closed=False), location=Vec2(0.23482623169455388, 0.03715610695358028))]), style=Style(line_width_=(<WidthType.NORMALIZED: 2>, 0.8), line_color_=<Color #f20048>, fill_color_=None, fill_opacity_=None, dashing_=None, output_size=None), transform=Affine(1.0, 0.0, 0.0,\n",
       "       0.0, 1.0, 0.0))), diagram2=Primitive(shape=Path(loc_trails=[Located(trail=Trail(segments=[Segment(offset=Vec2(0.13083941875506172, 0.11408169632281834), origin=Vec2(0.0, 0.0))], closed=False), location=Vec2(-0.20495871257495646, -0.0880534225075188))]), style=Style(line_width_=(<WidthType.NORMALIZED: 2>, 0.8), line_color_=<Color #ff0d56>, fill_color_=None, fill_opacity_=None, dashing_=None, output_size=None), transform=Affine(1.0, 0.0, 0.0,\n",
       "       0.0, 1.0, 0.0))), diagram2=Primitive(shape=Path(loc_trails=[Located(trail=Trail(segments=[Segment(offset=Vec2(0.07641259281824547, 0.17361108635805905), origin=Vec2(0.0, 0.0))], closed=False), location=Vec2(-0.07411929381989474, 0.02602827381529954))]), style=Style(line_width_=(<WidthType.NORMALIZED: 2>, 0.8), line_color_=<Color #ff2869>, fill_color_=None, fill_opacity_=None, dashing_=None, output_size=None), transform=Affine(1.0, 0.0, 0.0,\n",
       "       0.0, 1.0, 0.0))), diagram2=Primitive(shape=Path(loc_trails=[Located(trail=Trail(segments=[Segment(offset=Vec2(-0.09036231884337606, -0.14444502024618544), origin=Vec2(0.0, 0.0))], closed=False), location=Vec2(0.002293298998350731, 0.1996393601733586))]), style=Style(line_width_=(<WidthType.NORMALIZED: 2>, 0.8), line_color_=<Color #ff437b>, fill_color_=None, fill_opacity_=None, dashing_=None, output_size=None), transform=Affine(1.0, 0.0, 0.0,\n",
       "       0.0, 1.0, 0.0))), diagram2=Primitive(shape=Path(loc_trails=[Located(trail=Trail(segments=[Segment(offset=Vec2(0.06982214689857122, 0.0011894441158357832), origin=Vec2(0.0, 0.0))], closed=False), location=Vec2(-0.08806901984502533, 0.05519433992717314))]), style=Style(line_width_=(<WidthType.NORMALIZED: 2>, 0.8), line_color_=<Color #ff5e8e>, fill_color_=None, fill_opacity_=None, dashing_=None, output_size=None), transform=Affine(1.0, 0.0, 0.0,\n",
       "       0.0, 1.0, 0.0))), diagram2=Primitive(shape=Path(loc_trails=[Located(trail=Trail(segments=[Segment(offset=Vec2(-0.04127477424821508, 0.07706759380865216), origin=Vec2(0.0, 0.0))], closed=False), location=Vec2(-0.018246872946454107, 0.05638378404300892))]), style=Style(line_width_=(<WidthType.NORMALIZED: 2>, 0.8), line_color_=<Color #ff79a1>, fill_color_=None, fill_opacity_=None, dashing_=None, output_size=None), transform=Affine(1.0, 0.0, 0.0,\n",
       "       0.0, 1.0, 0.0))), diagram2=Primitive(shape=Path(loc_trails=[Located(trail=Trail(segments=[Segment(offset=Vec2(0.11956459823179721, 0.044837026210416936), origin=Vec2(0.0, 0.0))], closed=False), location=Vec2(-0.05952164719466919, 0.13345137785166108))]), style=Style(line_width_=(<WidthType.NORMALIZED: 2>, 0.8), line_color_=<Color #ff94b4>, fill_color_=None, fill_opacity_=None, dashing_=None, output_size=None), transform=Affine(1.0, 0.0, 0.0,\n",
       "       0.0, 1.0, 0.0))), diagram2=Primitive(shape=Path(loc_trails=[Located(trail=Trail(segments=[Segment(offset=Vec2(-0.12201497412762195, -0.13996758484536292), origin=Vec2(0.0, 0.0))], closed=False), location=Vec2(0.06004295103712803, 0.17828840406207802))]), style=Style(line_width_=(<WidthType.NORMALIZED: 2>, 0.8), line_color_=<Color #ffaec7>, fill_color_=None, fill_opacity_=None, dashing_=None, output_size=None), transform=Affine(1.0, 0.0, 0.0,\n",
       "       0.0, 1.0, 0.0))), diagram2=Primitive(shape=Path(loc_trails=[Located(trail=Trail(segments=[Segment(offset=Vec2(0.007764659280603187, 0.011559749327351383), origin=Vec2(0.0, 0.0))], closed=False), location=Vec2(-0.061972023090493926, 0.038320819216715096))]), style=Style(line_width_=(<WidthType.NORMALIZED: 2>, 0.8), line_color_=<Color #ffc9d9>, fill_color_=None, fill_opacity_=None, dashing_=None, output_size=None), transform=Affine(1.0, 0.0, 0.0,\n",
       "       0.0, 1.0, 0.0)))), diagram2=Compose(envelope=<chalk.envelope.Envelope object at 0x7f1bacd57370>, diagram1=Compose(envelope=<chalk.envelope.Envelope object at 0x7f1bacd55b40>, diagram1=Compose(envelope=<chalk.envelope.Envelope object at 0x7f1bacd4ffa0>, diagram1=Compose(envelope=<chalk.envelope.Envelope object at 0x7f1bacd4eaa0>, diagram1=Compose(envelope=<chalk.envelope.Envelope object at 0x7f1bacd4d270>, diagram1=Compose(envelope=<chalk.envelope.Envelope object at 0x7f1bacd17a00>, diagram1=Compose(envelope=<chalk.envelope.Envelope object at 0x7f1bacd161d0>, diagram1=Compose(envelope=<chalk.envelope.Envelope object at 0x7f1bacd0fe20>, diagram1=Compose(envelope=<chalk.envelope.Envelope object at 0x7f1bacd0f130>, diagram1=Compose(envelope=<chalk.envelope.Envelope object at 0x7f1bacd0d900>, diagram1=Compose(envelope=<chalk.envelope.Envelope object at 0x7f1bacd03e50>, diagram1=Compose(envelope=<chalk.envelope.Envelope object at 0x7f1bacd02860>, diagram1=Compose(envelope=<chalk.envelope.Envelope object at 0x7f1bacd010c0>, diagram1=Compose(envelope=<chalk.envelope.Envelope object at 0x7f1bacd1b7c0>, diagram1=Compose(envelope=<chalk.envelope.Envelope object at 0x7f1bacd19f90>, diagram1=Compose(envelope=<chalk.envelope.Envelope object at 0x7f1bacecff70>, diagram1=Compose(envelope=<chalk.envelope.Envelope object at 0x7f1baceceef0>, diagram1=Compose(envelope=<chalk.envelope.Envelope object at 0x7f1bacecd6c0>, diagram1=Compose(envelope=<chalk.envelope.Envelope object at 0x7f1bace43400>, diagram1=Empty(), diagram2=Primitive(shape=Path(loc_trails=[Located(trail=Trail(segments=[ArcSegment(angle=0, dangle=-90, t=Affine(1.0, 0.0, -1.0,\n",
       "       0.0, 1.0, 0.0)), ArcSegment(angle=0, dangle=-90, t=Affine(0.0, 1.0, 0.0,\n",
       "       -1.0, 0.0, 1.0)), ArcSegment(angle=0, dangle=-90, t=Affine(-1.0, 0.0, 1.0,\n",
       "       0.0, -1.0, 0.0)), ArcSegment(angle=0, dangle=-90, t=Affine(0.0, -1.0, 0.0,\n",
       "       1.0, 0.0, -1.0))], closed=True), location=Vec2(0.0, 0.0))]), style=Style(line_width_=None, line_color_=None, fill_color_=<Color #eee>, fill_opacity_=None, dashing_=None, output_size=None), transform=Affine(0.01, 0.0, 0.2634569091617875,\n",
       "       0.0, 0.01, -0.15908851742589503))), diagram2=Primitive(shape=Path(loc_trails=[Located(trail=Trail(segments=[ArcSegment(angle=0, dangle=-90, t=Affine(1.0, 0.0, -1.0,\n",
       "       0.0, 1.0, 0.0)), ArcSegment(angle=0, dangle=-90, t=Affine(0.0, 1.0, 0.0,\n",
       "       -1.0, 0.0, 1.0)), ArcSegment(angle=0, dangle=-90, t=Affine(-1.0, 0.0, 1.0,\n",
       "       0.0, -1.0, 0.0)), ArcSegment(angle=0, dangle=-90, t=Affine(0.0, -1.0, 0.0,\n",
       "       1.0, 0.0, -1.0))], closed=True), location=Vec2(0.0, 0.0))]), style=Style(line_width_=None, line_color_=None, fill_color_=<Color #eee>, fill_opacity_=None, dashing_=None, output_size=None), transform=Affine(0.01, 0.0, 0.2370460331214635,\n",
       "       0.0, 0.01, -0.18330332909927077))), diagram2=Primitive(shape=Path(loc_trails=[Located(trail=Trail(segments=[ArcSegment(angle=0, dangle=-90, t=Affine(1.0, 0.0, -1.0,\n",
       "       0.0, 1.0, 0.0)), ArcSegment(angle=0, dangle=-90, t=Affine(0.0, 1.0, 0.0,\n",
       "       -1.0, 0.0, 1.0)), ArcSegment(angle=0, dangle=-90, t=Affine(-1.0, 0.0, 1.0,\n",
       "       0.0, -1.0, 0.0)), ArcSegment(angle=0, dangle=-90, t=Affine(0.0, -1.0, 0.0,\n",
       "       1.0, 0.0, -1.0))], closed=True), location=Vec2(0.0, 0.0))]), style=Style(line_width_=None, line_color_=None, fill_color_=<Color #eee>, fill_opacity_=None, dashing_=None, output_size=None), transform=Affine(0.01, 0.0, -0.07648207038248958,\n",
       "       0.0, 0.01, -0.10415830551178372))), diagram2=Primitive(shape=Path(loc_trails=[Located(trail=Trail(segments=[ArcSegment(angle=0, dangle=-90, t=Affine(1.0, 0.0, -1.0,\n",
       "       0.0, 1.0, 0.0)), ArcSegment(angle=0, dangle=-90, t=Affine(0.0, 1.0, 0.0,\n",
       "       -1.0, 0.0, 1.0)), ArcSegment(angle=0, dangle=-90, t=Affine(-1.0, 0.0, 1.0,\n",
       "       0.0, -1.0, 0.0)), ArcSegment(angle=0, dangle=-90, t=Affine(0.0, -1.0, 0.0,\n",
       "       1.0, 0.0, -1.0))], closed=True), location=Vec2(0.0, 0.0))]), style=Style(line_width_=None, line_color_=None, fill_color_=<Color #eee>, fill_opacity_=None, dashing_=None, output_size=None), transform=Affine(0.01, 0.0, -0.05962688626892817,\n",
       "       0.0, 0.01, -0.16654580625452964))), diagram2=Primitive(shape=Path(loc_trails=[Located(trail=Trail(segments=[ArcSegment(angle=0, dangle=-90, t=Affine(1.0, 0.0, -1.0,\n",
       "       0.0, 1.0, 0.0)), ArcSegment(angle=0, dangle=-90, t=Affine(0.0, 1.0, 0.0,\n",
       "       -1.0, 0.0, 1.0)), ArcSegment(angle=0, dangle=-90, t=Affine(-1.0, 0.0, 1.0,\n",
       "       0.0, -1.0, 0.0)), ArcSegment(angle=0, dangle=-90, t=Affine(0.0, -1.0, 0.0,\n",
       "       1.0, 0.0, -1.0))], closed=True), location=Vec2(0.0, 0.0))]), style=Style(line_width_=None, line_color_=None, fill_color_=<Color #eee>, fill_opacity_=None, dashing_=None, output_size=None), transform=Affine(0.01, 0.0, 0.08039389101167137,\n",
       "       0.0, 0.01, -0.003910163936590043))), diagram2=Primitive(shape=Path(loc_trails=[Located(trail=Trail(segments=[ArcSegment(angle=0, dangle=-90, t=Affine(1.0, 0.0, -1.0,\n",
       "       0.0, 1.0, 0.0)), ArcSegment(angle=0, dangle=-90, t=Affine(0.0, 1.0, 0.0,\n",
       "       -1.0, 0.0, 1.0)), ArcSegment(angle=0, dangle=-90, t=Affine(-1.0, 0.0, 1.0,\n",
       "       0.0, -1.0, 0.0)), ArcSegment(angle=0, dangle=-90, t=Affine(0.0, -1.0, 0.0,\n",
       "       1.0, 0.0, -1.0))], closed=True), location=Vec2(0.0, 0.0))]), style=Style(line_width_=None, line_color_=None, fill_color_=<Color #eee>, fill_opacity_=None, dashing_=None, output_size=None), transform=Affine(0.01, 0.0, -0.10555928255001693,\n",
       "       0.0, 0.01, -0.12488071531676526))), diagram2=Primitive(shape=Path(loc_trails=[Located(trail=Trail(segments=[ArcSegment(angle=0, dangle=-90, t=Affine(1.0, 0.0, -1.0,\n",
       "       0.0, 1.0, 0.0)), ArcSegment(angle=0, dangle=-90, t=Affine(0.0, 1.0, 0.0,\n",
       "       -1.0, 0.0, 1.0)), ArcSegment(angle=0, dangle=-90, t=Affine(-1.0, 0.0, 1.0,\n",
       "       0.0, -1.0, 0.0)), ArcSegment(angle=0, dangle=-90, t=Affine(0.0, -1.0, 0.0,\n",
       "       1.0, 0.0, -1.0))], closed=True), location=Vec2(0.0, 0.0))]), style=Style(line_width_=None, line_color_=None, fill_color_=<Color #eee>, fill_opacity_=None, dashing_=None, output_size=None), transform=Affine(0.01, 0.0, -0.07112379320249097,\n",
       "       0.0, 0.01, -0.03624293684480685))), diagram2=Primitive(shape=Path(loc_trails=[Located(trail=Trail(segments=[ArcSegment(angle=0, dangle=-90, t=Affine(1.0, 0.0, -1.0,\n",
       "       0.0, 1.0, 0.0)), ArcSegment(angle=0, dangle=-90, t=Affine(0.0, 1.0, 0.0,\n",
       "       -1.0, 0.0, 1.0)), ArcSegment(angle=0, dangle=-90, t=Affine(-1.0, 0.0, 1.0,\n",
       "       0.0, -1.0, 0.0)), ArcSegment(angle=0, dangle=-90, t=Affine(0.0, -1.0, 0.0,\n",
       "       1.0, 0.0, -1.0))], closed=True), location=Vec2(0.0, 0.0))]), style=Style(line_width_=None, line_color_=None, fill_color_=<Color #eee>, fill_opacity_=None, dashing_=None, output_size=None), transform=Affine(0.01, 0.0, 0.20559361818319677,\n",
       "       0.0, 0.01, 0.13197492114764142))), diagram2=Primitive(shape=Path(loc_trails=[Located(trail=Trail(segments=[ArcSegment(angle=0, dangle=-90, t=Affine(1.0, 0.0, -1.0,\n",
       "       0.0, 1.0, 0.0)), ArcSegment(angle=0, dangle=-90, t=Affine(0.0, 1.0, 0.0,\n",
       "       -1.0, 0.0, 1.0)), ArcSegment(angle=0, dangle=-90, t=Affine(-1.0, 0.0, 1.0,\n",
       "       0.0, -1.0, 0.0)), ArcSegment(angle=0, dangle=-90, t=Affine(0.0, -1.0, 0.0,\n",
       "       1.0, 0.0, -1.0))], closed=True), location=Vec2(0.0, 0.0))]), style=Style(line_width_=None, line_color_=None, fill_color_=<Color #eee>, fill_opacity_=None, dashing_=None, output_size=None), transform=Affine(0.01, 0.0, -0.04818218281525133,\n",
       "       0.0, 0.01, -0.11494502369342335))), diagram2=Primitive(shape=Path(loc_trails=[Located(trail=Trail(segments=[ArcSegment(angle=0, dangle=-90, t=Affine(1.0, 0.0, -1.0,\n",
       "       0.0, 1.0, 0.0)), ArcSegment(angle=0, dangle=-90, t=Affine(0.0, 1.0, 0.0,\n",
       "       -1.0, 0.0, 1.0)), ArcSegment(angle=0, dangle=-90, t=Affine(-1.0, 0.0, 1.0,\n",
       "       0.0, -1.0, 0.0)), ArcSegment(angle=0, dangle=-90, t=Affine(0.0, -1.0, 0.0,\n",
       "       1.0, 0.0, -1.0))], closed=True), location=Vec2(0.0, 0.0))]), style=Style(line_width_=None, line_color_=None, fill_color_=<Color #eee>, fill_opacity_=None, dashing_=None, output_size=None), transform=Affine(0.01, 0.0, 0.2448262316945539,\n",
       "       0.0, 0.01, 0.03715610695358028))), diagram2=Primitive(shape=Path(loc_trails=[Located(trail=Trail(segments=[ArcSegment(angle=0, dangle=-90, t=Affine(1.0, 0.0, -1.0,\n",
       "       0.0, 1.0, 0.0)), ArcSegment(angle=0, dangle=-90, t=Affine(0.0, 1.0, 0.0,\n",
       "       -1.0, 0.0, 1.0)), ArcSegment(angle=0, dangle=-90, t=Affine(-1.0, 0.0, 1.0,\n",
       "       0.0, -1.0, 0.0)), ArcSegment(angle=0, dangle=-90, t=Affine(0.0, -1.0, 0.0,\n",
       "       1.0, 0.0, -1.0))], closed=True), location=Vec2(0.0, 0.0))]), style=Style(line_width_=None, line_color_=None, fill_color_=<Color #eee>, fill_opacity_=None, dashing_=None, output_size=None), transform=Affine(0.01, 0.0, -0.19495871257495645,\n",
       "       0.0, 0.01, -0.0880534225075188))), diagram2=Primitive(shape=Path(loc_trails=[Located(trail=Trail(segments=[ArcSegment(angle=0, dangle=-90, t=Affine(1.0, 0.0, -1.0,\n",
       "       0.0, 1.0, 0.0)), ArcSegment(angle=0, dangle=-90, t=Affine(0.0, 1.0, 0.0,\n",
       "       -1.0, 0.0, 1.0)), ArcSegment(angle=0, dangle=-90, t=Affine(-1.0, 0.0, 1.0,\n",
       "       0.0, -1.0, 0.0)), ArcSegment(angle=0, dangle=-90, t=Affine(0.0, -1.0, 0.0,\n",
       "       1.0, 0.0, -1.0))], closed=True), location=Vec2(0.0, 0.0))]), style=Style(line_width_=None, line_color_=None, fill_color_=<Color #eee>, fill_opacity_=None, dashing_=None, output_size=None), transform=Affine(0.01, 0.0, -0.06411929381989474,\n",
       "       0.0, 0.01, 0.02602827381529954))), diagram2=Primitive(shape=Path(loc_trails=[Located(trail=Trail(segments=[ArcSegment(angle=0, dangle=-90, t=Affine(1.0, 0.0, -1.0,\n",
       "       0.0, 1.0, 0.0)), ArcSegment(angle=0, dangle=-90, t=Affine(0.0, 1.0, 0.0,\n",
       "       -1.0, 0.0, 1.0)), ArcSegment(angle=0, dangle=-90, t=Affine(-1.0, 0.0, 1.0,\n",
       "       0.0, -1.0, 0.0)), ArcSegment(angle=0, dangle=-90, t=Affine(0.0, -1.0, 0.0,\n",
       "       1.0, 0.0, -1.0))], closed=True), location=Vec2(0.0, 0.0))]), style=Style(line_width_=None, line_color_=None, fill_color_=<Color #eee>, fill_opacity_=None, dashing_=None, output_size=None), transform=Affine(0.01, 0.0, 0.012293298998350731,\n",
       "       0.0, 0.01, 0.1996393601733586))), diagram2=Primitive(shape=Path(loc_trails=[Located(trail=Trail(segments=[ArcSegment(angle=0, dangle=-90, t=Affine(1.0, 0.0, -1.0,\n",
       "       0.0, 1.0, 0.0)), ArcSegment(angle=0, dangle=-90, t=Affine(0.0, 1.0, 0.0,\n",
       "       -1.0, 0.0, 1.0)), ArcSegment(angle=0, dangle=-90, t=Affine(-1.0, 0.0, 1.0,\n",
       "       0.0, -1.0, 0.0)), ArcSegment(angle=0, dangle=-90, t=Affine(0.0, -1.0, 0.0,\n",
       "       1.0, 0.0, -1.0))], closed=True), location=Vec2(0.0, 0.0))]), style=Style(line_width_=None, line_color_=None, fill_color_=<Color #eee>, fill_opacity_=None, dashing_=None, output_size=None), transform=Affine(0.01, 0.0, -0.07806901984502533,\n",
       "       0.0, 0.01, 0.05519433992717314))), diagram2=Primitive(shape=Path(loc_trails=[Located(trail=Trail(segments=[ArcSegment(angle=0, dangle=-90, t=Affine(1.0, 0.0, -1.0,\n",
       "       0.0, 1.0, 0.0)), ArcSegment(angle=0, dangle=-90, t=Affine(0.0, 1.0, 0.0,\n",
       "       -1.0, 0.0, 1.0)), ArcSegment(angle=0, dangle=-90, t=Affine(-1.0, 0.0, 1.0,\n",
       "       0.0, -1.0, 0.0)), ArcSegment(angle=0, dangle=-90, t=Affine(0.0, -1.0, 0.0,\n",
       "       1.0, 0.0, -1.0))], closed=True), location=Vec2(0.0, 0.0))]), style=Style(line_width_=None, line_color_=None, fill_color_=<Color #eee>, fill_opacity_=None, dashing_=None, output_size=None), transform=Affine(0.01, 0.0, -0.008246872946454107,\n",
       "       0.0, 0.01, 0.05638378404300892))), diagram2=Primitive(shape=Path(loc_trails=[Located(trail=Trail(segments=[ArcSegment(angle=0, dangle=-90, t=Affine(1.0, 0.0, -1.0,\n",
       "       0.0, 1.0, 0.0)), ArcSegment(angle=0, dangle=-90, t=Affine(0.0, 1.0, 0.0,\n",
       "       -1.0, 0.0, 1.0)), ArcSegment(angle=0, dangle=-90, t=Affine(-1.0, 0.0, 1.0,\n",
       "       0.0, -1.0, 0.0)), ArcSegment(angle=0, dangle=-90, t=Affine(0.0, -1.0, 0.0,\n",
       "       1.0, 0.0, -1.0))], closed=True), location=Vec2(0.0, 0.0))]), style=Style(line_width_=None, line_color_=None, fill_color_=<Color #eee>, fill_opacity_=None, dashing_=None, output_size=None), transform=Affine(0.01, 0.0, -0.049521647194669186,\n",
       "       0.0, 0.01, 0.13345137785166108))), diagram2=Primitive(shape=Path(loc_trails=[Located(trail=Trail(segments=[ArcSegment(angle=0, dangle=-90, t=Affine(1.0, 0.0, -1.0,\n",
       "       0.0, 1.0, 0.0)), ArcSegment(angle=0, dangle=-90, t=Affine(0.0, 1.0, 0.0,\n",
       "       -1.0, 0.0, 1.0)), ArcSegment(angle=0, dangle=-90, t=Affine(-1.0, 0.0, 1.0,\n",
       "       0.0, -1.0, 0.0)), ArcSegment(angle=0, dangle=-90, t=Affine(0.0, -1.0, 0.0,\n",
       "       1.0, 0.0, -1.0))], closed=True), location=Vec2(0.0, 0.0))]), style=Style(line_width_=None, line_color_=None, fill_color_=<Color #eee>, fill_opacity_=None, dashing_=None, output_size=None), transform=Affine(0.01, 0.0, 0.07004295103712803,\n",
       "       0.0, 0.01, 0.17828840406207802))), diagram2=Primitive(shape=Path(loc_trails=[Located(trail=Trail(segments=[ArcSegment(angle=0, dangle=-90, t=Affine(1.0, 0.0, -1.0,\n",
       "       0.0, 1.0, 0.0)), ArcSegment(angle=0, dangle=-90, t=Affine(0.0, 1.0, 0.0,\n",
       "       -1.0, 0.0, 1.0)), ArcSegment(angle=0, dangle=-90, t=Affine(-1.0, 0.0, 1.0,\n",
       "       0.0, -1.0, 0.0)), ArcSegment(angle=0, dangle=-90, t=Affine(0.0, -1.0, 0.0,\n",
       "       1.0, 0.0, -1.0))], closed=True), location=Vec2(0.0, 0.0))]), style=Style(line_width_=None, line_color_=None, fill_color_=<Color #eee>, fill_opacity_=None, dashing_=None, output_size=None), transform=Affine(0.01, 0.0, -0.051972023090493924,\n",
       "       0.0, 0.01, 0.038320819216715096))), diagram2=Primitive(shape=Path(loc_trails=[Located(trail=Trail(segments=[ArcSegment(angle=0, dangle=-90, t=Affine(1.0, 0.0, -1.0,\n",
       "       0.0, 1.0, 0.0)), ArcSegment(angle=0, dangle=-90, t=Affine(0.0, 1.0, 0.0,\n",
       "       -1.0, 0.0, 1.0)), ArcSegment(angle=0, dangle=-90, t=Affine(-1.0, 0.0, 1.0,\n",
       "       0.0, -1.0, 0.0)), ArcSegment(angle=0, dangle=-90, t=Affine(0.0, -1.0, 0.0,\n",
       "       1.0, 0.0, -1.0))], closed=True), location=Vec2(0.0, 0.0))]), style=Style(line_width_=None, line_color_=None, fill_color_=<Color #eee>, fill_opacity_=None, dashing_=None, output_size=None), transform=Affine(0.01, 0.0, -0.04420736380989074,\n",
       "       0.0, 0.01, 0.04988056854406648)))), diagram2=Primitive(shape=Path(loc_trails=[Located(trail=Trail(segments=[ArcSegment(angle=0, dangle=-90, t=Affine(1.0, 0.0, -1.0,\n",
       "       0.0, 1.0, 0.0)), ArcSegment(angle=0, dangle=-90, t=Affine(0.0, 1.0, 0.0,\n",
       "       -1.0, 0.0, 1.0)), ArcSegment(angle=0, dangle=-90, t=Affine(-1.0, 0.0, 1.0,\n",
       "       0.0, -1.0, 0.0)), ArcSegment(angle=0, dangle=-90, t=Affine(0.0, -1.0, 0.0,\n",
       "       1.0, 0.0, -1.0))], closed=True), location=Vec2(0.0, 0.0))]), style=Style(line_width_=None, line_color_=None, fill_color_=<Color blue>, fill_opacity_=None, dashing_=None, output_size=None), transform=Affine(0.01, 0.0, 0.01743574493126244,\n",
       "       0.0, 0.01, -0.015925630363576068)))"
      ]
     },
     "execution_count": 229,
     "metadata": {},
     "output_type": "execute_result"
    }
   ],
   "source": [
    "from colour import Color\n",
    "from chalk import *\n",
    "\n",
    "# https://chalk-diagrams.github.io/\n",
    "set_svg_height(500) \n",
    "\n",
    "point_color = Color(\"black\")\n",
    "line_color = Color(\"#e0e0e0\")\n",
    "\n",
    "def grayscale(alpha: float) -> Color:\n",
    "    assert 0 <= alpha <= 1.0\n",
    "    return Color(hue=.95, saturation=1.0, luminance=alpha)\n",
    "\n",
    "pca_trajec = PCA(n_components=2).fit(trajectories[:, 0, :])\n",
    "# data = pca.transform(trajectories[:, 0, :]) * 5 # multiply to stretch things out\n",
    "data = pca_trajec.transform(trajectories[:, 0, :])\n",
    "# data = pd.DataFrame(data.T, columns=['x', 'y'])\n",
    "# data['i'] = range(len(data))\n",
    "\n",
    "line_points = []\n",
    "for i in range(len(data)-1):\n",
    "    x1, y1 = data[i]\n",
    "    x2, y2 = data[i+1]\n",
    "    if (x1 == x2) and (y1 == y2): continue\n",
    "    line_points.append([(x1, y1), (x2, y2)])\n",
    "\n",
    "frames = []\n",
    "\n",
    "buffer = .1\n",
    "minx = min([x for x,y in data]) - buffer\n",
    "maxx = max([x for x,y in data]) + buffer\n",
    "miny = min([y for x,y in data]) - buffer\n",
    "maxy = max([y for x,y in data]) + buffer\n",
    "\n",
    "pca_goal = pca_trajec.transform(eval_batch[\"frozen_embeddings\"].cpu())\n",
    "goal = circle(radius=.01).fill_color(Color(\"blue\")).translate(*pca_goal.flatten())\n",
    "\n",
    "for N in range(1, len(data)):\n",
    "    background = rectangle(width=(maxx-minx), height=(maxy-miny)).fill_color(Color(\"white\")).translate(minx+(maxx-minx)/2, maxy-(maxy-miny)/2)\n",
    "    circles = concat(circle(radius=.01).fill_color(Color(\"#eee\")).translate(x, y) for j, (x, y) in enumerate(data[:N]))\n",
    "    lines = concat(make_path([p1, p2]).line_color(grayscale(i/len(line_points))).line_width(.8) for i, (p1, p2) in enumerate(line_points[:N-1]))\n",
    "    frames.append(concat([background, lines, circles, goal]))\n",
    "\n",
    "frames[-1]"
   ]
  },
  {
   "cell_type": "code",
   "execution_count": 231,
   "id": "2b652bb1-b22e-4e02-9e48-ba7de63ba4db",
   "metadata": {},
   "outputs": [
    {
     "name": "stderr",
     "output_type": "stream",
     "text": [
      "/tmp/ipykernel_2427909/3542927145.py:10: DeprecationWarning: Starting with ImageIO v3 the behavior of this function will switch to that of iio.v3.imread. To keep the current behavior (and make this warning disappear) use `import imageio.v2 as imageio` or call `imageio.v2.imread` directly.\n",
      "  images = [imageio.imread(path) for path in frame_paths]\n"
     ]
    },
    {
     "data": {
      "image/gif": "[encoded data removed]",
      "text/plain": [
       "<IPython.core.display.Image object>"
      ]
     },
     "metadata": {},
     "output_type": "display_data"
    }
   ],
   "source": [
    "import imageio\n",
    "\n",
    "hw = 512\n",
    "frame_paths = []\n",
    "for i, frame in enumerate(frames):\n",
    "    path = f\"frame_{i}.png\"\n",
    "    frame.render(path, height=hw, width=hw)\n",
    "    frame_paths.append(path)\n",
    "\n",
    "images = [imageio.imread(path) for path in frame_paths]\n",
    "gif_path = \"animation.gif\"\n",
    "imageio.mimsave(gif_path, images, duration=1)\n",
    "\n",
    "# Display the GIF in the Jupyter Notebook\n",
    "from IPython.display import Image, display\n",
    "display(Image(filename=gif_path))"
   ]
  },
  {
   "cell_type": "markdown",
   "id": "31b38e16-f660-44b8-b83f-660042728ae6",
   "metadata": {},
   "source": [
    "## Measuring closesness of hypotheses\n",
    "\n",
    "Wondering how \"comprehensive\" our training data is – does it include \"very close\" hypotheses?"
   ]
  },
  {
   "cell_type": "code",
   "execution_count": 66,
   "id": "7b3e6c6d-de85-4362-b16d-6383cd41e071",
   "metadata": {},
   "outputs": [
    {
     "name": "stdout",
     "output_type": "stream",
     "text": [
      "Loading hypotheses from path /home/jxm3/research/retrieval/inversion/saves/db66b9c01b644541fedbdcc59c53a285/ebb31d91810c4b62d2b55b5382e8c7ea/526eed4aef8023828df2d1962356118f/410d3ac43b21b148_hypotheses.cache\n",
      "Loading hypotheses from path /home/jxm3/research/retrieval/inversion/saves/db66b9c01b644541fedbdcc59c53a285/ebb31d91810c4b62d2b55b5382e8c7ea/526eed4aef8023828df2d1962356118f/faa7fd729fb13809_hypotheses.cache\n",
      "Saving hypotheses to path /home/jxm3/research/retrieval/inversion/saves/db66b9c01b644541fedbdcc59c53a285/ebb31d91810c4b62d2b55b5382e8c7ea/526eed4aef8023828df2d1962356118f/f6cb440d7b1a11b3_hypotheses.cache\n"
     ]
    },
    {
     "data": {
      "application/vnd.jupyter.widget-view+json": {
       "model_id": "",
       "version_major": 2,
       "version_minor": 0
      },
      "text/plain": [
       "Precomputing hypotheses for data:   0%|          | 0/500 [00:00<?, ? examples/s]"
      ]
     },
     "metadata": {},
     "output_type": "display_data"
    },
    {
     "data": {
      "application/vnd.jupyter.widget-view+json": {
       "model_id": "",
       "version_major": 2,
       "version_minor": 0
      },
      "text/plain": [
       "Saving the dataset (0/1 shards):   0%|          | 0/500 [00:00<?, ? examples/s]"
      ]
     },
     "metadata": {},
     "output_type": "display_data"
    },
    {
     "name": "stdout",
     "output_type": "stream",
     "text": [
      "Loading hypotheses from path /home/jxm3/research/retrieval/inversion/saves/db66b9c01b644541fedbdcc59c53a285/ebb31d91810c4b62d2b55b5382e8c7ea/526eed4aef8023828df2d1962356118f/c86e02d62c95721f_hypotheses.cache\n",
      "Loading hypotheses from path /home/jxm3/research/retrieval/inversion/saves/db66b9c01b644541fedbdcc59c53a285/ebb31d91810c4b62d2b55b5382e8c7ea/526eed4aef8023828df2d1962356118f/0fc6efa35ccc8998_hypotheses.cache\n",
      "Loading hypotheses from path /home/jxm3/research/retrieval/inversion/saves/db66b9c01b644541fedbdcc59c53a285/ebb31d91810c4b62d2b55b5382e8c7ea/526eed4aef8023828df2d1962356118f/69ab30859523c623_hypotheses.cache\n",
      "Loading hypotheses from path /home/jxm3/research/retrieval/inversion/saves/db66b9c01b644541fedbdcc59c53a285/ebb31d91810c4b62d2b55b5382e8c7ea/526eed4aef8023828df2d1962356118f/bc62ad38b92d7dcb_hypotheses.cache\n"
     ]
    }
   ],
   "source": [
    "trainer.precompute_hypotheses()"
   ]
  },
  {
   "cell_type": "code",
   "execution_count": 92,
   "id": "c9dae905-7c29-4845-8dd6-aa7612f63022",
   "metadata": {},
   "outputs": [
    {
     "data": {
      "application/vnd.jupyter.widget-view+json": {
       "model_id": "",
       "version_major": 2,
       "version_minor": 0
      },
      "text/plain": [
       "Map:   0%|          | 0/1000000 [00:00<?, ? examples/s]"
      ]
     },
     "metadata": {},
     "output_type": "display_data"
    }
   ],
   "source": [
    "from typing import Dict\n",
    "import torch\n",
    "\n",
    "def add_distance_to_dataset(batch: Dict[str, torch.Tensor]) -> Dict[str, torch.Tensor]:\n",
    "    e1 = torch.tensor(batch[\"frozen_embeddings\"], device=\"cpu\")#trainer.args.device)\n",
    "    e2 = torch.tensor(batch[\"hypothesis_embedding\"], device=\"cpu\")#trainer.args.device)\n",
    "    batch[\"hypothesis_distance\"] = torch.nn.CosineSimilarity(dim=1)(e1, e2).cpu()\n",
    "    return batch\n",
    "\n",
    "ds_with_distances = trainer.train_dataset.select(range(10**6)).map(add_distance_to_dataset, batched=True, batch_size=8192)"
   ]
  },
  {
   "cell_type": "code",
   "execution_count": null,
   "id": "ebe4b2fc-4dc7-4492-9906-7fc990dde64e",
   "metadata": {},
   "outputs": [],
   "source": [
    "# https://seaborn.pydata.org/generated/seaborn.displot.html#seaborn.displot\n",
    "ax = sns.histplot(ds_with_distances[\"hypothesis_distance\"], bins=150)\n",
    "\n",
    "ax.set_xlim([.7,1])\n",
    "ax.set_ylim([0, 30_000])\n",
    "ax.set_xlabel(\"Cosine distance from hypothesis to true embedding\")\n",
    "# ax.set_xscale(\"log\")\n",
    "\n",
    "# save to PDF\n",
    "plt.savefig(\"train_hypothesis_distance_sl32.pdf\", format=\"pdf\", bbox_inches=\"tight\") "
   ]
  },
  {
   "cell_type": "markdown",
   "id": "e56718d2-db13-41db-a0c6-98e99e1bbf26",
   "metadata": {},
   "source": [
    "## looking for failure cases in arxiv data"
   ]
  },
  {
   "cell_type": "code",
   "execution_count": null,
   "id": "09e2aaa5-33d0-4272-a515-001536c52d7d",
   "metadata": {},
   "outputs": [],
   "source": [
    "trainer.gen_kwargs = {\n",
    "    \"early_stopping\": False,\n",
    "    \"num_beams\": 1,\n",
    "    \"do_sample\": False,\n",
    "    \"no_repeat_ngram_size\": 0,\n",
    "}\n",
    "trainer.num_gen_recursive_steps = 20\n",
    "trainer.inversion_trainer.model.use_frozen_embeddings_as_input = True\n",
    "metrics = trainer.evaluate(\n",
    "    eval_dataset=eval_dataset,\n",
    "    metric_key_prefix=f\"eval_arxiv\",\n",
    ")\n",
    "print(metrics)"
   ]
  },
  {
   "cell_type": "code",
   "execution_count": 119,
   "id": "0427dffc-bd4c-4dec-81eb-95a481f0b22a",
   "metadata": {},
   "outputs": [
    {
     "name": "stdout",
     "output_type": "stream",
     "text": [
      "input: in this paper, we use belief - propagation techniques to develop fast algorithms for image inpainting. unlike traditional gradient - </s>\n",
      "round 1 (0.850): <pad> believe propagation techniques.... In this paper we use gradients to develop a more fast and effective image-based belief\n",
      "round 2 (0.903): <pad> than traditional belief techniques. In this paper we use propagation algorithms to develop fast, in-depth, gradient-painting. ii\n",
      "round 3 (0.940): <pad> as in this paper.. we use belief techniques to develop propagation algorithms - fast in traditional gradient and image-painting.\n",
      "round 4 (0.884): <pad> than in traditional belief techniques.. we develop propagation techniques for fast image-painting. In this paper we use gradient.\n",
      "round 5 (0.921): <pad> than in traditional belief algorithms... We use propagation techniques to develop fast or gradient in image-painting. This paper is\n",
      "round 6 (0.860): <pad> than in traditional paper., we use propagation techniques to develop fast gradient, in belief, in image-painting.In\n",
      "round 7 (0.929): <pad> than in traditional belief algorithms., we use propagation techniques to develop fast gradients for image-painting.This paper is in \n",
      "round 8 (0.865): <pad> than in traditional belief - in this paper, we use propagation techniques to develop fast gradient for image-painting.As with in\n"
     ]
    }
   ],
   "source": [
    "# worst arxiv reconstructions by bertscore:\n",
    "# [424, 201, 471,  86, 254, 237,  49, 321,  36, 284, 433, 107, 316, ...]\n",
    "eval_batch = next(iter(trainer.get_eval_dataloader(eval_dataset=trainer.eval_dataset[\"arxiv\"])))\n",
    "eval_batch = {k: v[None, 49] for k,v in eval_batch.items() }\n",
    "eval_batch = {k: v.to(trainer.args.device) for k,v in eval_batch.items() } # put on GPU\n",
    "trainer.inversion_trainer.model.use_frozen_embeddings_as_input = False\n",
    "# trainer.embedder_tokenizer.decode(().flatten())\n",
    "trajectories = get_trajectories(inputs=eval_batch, num_rounds=8)"
   ]
  },
  {
   "cell_type": "code",
   "execution_count": 134,
   "id": "ba7aa94f-e0f6-4bb6-8a89-b0c8fa9ab08c",
   "metadata": {},
   "outputs": [
    {
     "name": "stdout",
     "output_type": "stream",
     "text": [
      "** num_beams=1 **\n",
      "input: in this paper, we use belief - propagation techniques to develop fast algorithms for image inpainting. unlike traditional gradient - </s>\n",
      "round 1 (0.850): <pad> believe propagation techniques.... In this paper we use gradients to develop a more fast and effective image-based belief\n",
      "round 2 (0.903): <pad> than traditional belief techniques. In this paper we use propagation algorithms to develop fast, in-depth, gradient-painting. ii\n",
      "round 3 (0.940): <pad> as in this paper.. we use belief techniques to develop propagation algorithms - fast in traditional gradient and image-painting.\n",
      "round 4 (0.884): <pad> than in traditional belief techniques.. we develop propagation techniques for fast image-painting. In this paper we use gradient.\n",
      "round 5 (0.921): <pad> than in traditional belief algorithms... We use propagation techniques to develop fast or gradient in image-painting. This paper is\n",
      "round 6 (0.860): <pad> than in traditional paper., we use propagation techniques to develop fast gradient, in belief, in image-painting.In\n",
      "round 7 (0.929): <pad> than in traditional belief algorithms., we use propagation techniques to develop fast gradients for image-painting.This paper is in \n",
      "round 8 (0.865): <pad> than in traditional belief - in this paper, we use propagation techniques to develop fast gradient for image-painting.As with in\n",
      "round 9 (0.918): <pad> than in traditional belief algorithms... In this paper, we use propagation techniques to develop fast gradients for image-painting\n",
      "round 10 (0.944): <pad> as in belief. In this paper we use propagation techniques to develop fast gradient.. rather than traditional algorithms for image-painting\n",
      "round 11 (0.929): <pad> as in belief algorithms. In this paper we use propagation techniques to develop fast and traditional gradient.. rather than for image-pain\n",
      "round 12 (0.917): <pad> as in belief painting. In this paper we use propagation techniques to develop fast, traditional gradient. Rather than ink algorithms for image-\n",
      "round 13 (0.923): <pad> for developing belief algorithms. In this paper, we use propagation techniques to design fast, gradient.as opposed to traditional ink painting.\n",
      "round 14 (0.956): <pad> for developing belief algorithms. In this paper, we use propagation techniques to design fast, gradient.. as opposed to traditional inimage painting\n",
      "round 15 (0.937): <pad> well as for developing belief algorithms. In this paper, we use propagation techniques to produce fast, gradient. akin to traditional inimage\n",
      "round 16 (0.914): <pad> well as for developing belief algorithms. In this paper we use propagation techniques to produce fast, gradient a. Unlike traditional inpain\n",
      "** num_beams=32 **\n",
      "input: in this paper, we use belief - propagation techniques to develop fast algorithms for image inpainting. unlike traditional gradient - </s>\n",
      "round 1 (0.854): <pad> believe propagation techniques.... In this paper we use gradients to develop a new, faster and more effective belief algorithm\n",
      "round 2 (0.922): <pad> as in belief painting. In this paper we use propagation techniques to develop fast, i.e. traditional gradient and input algorithms. \n",
      "round 3 (0.952): <pad> for belief-painting. In this paper we use traditional propagation techniques to develop fast gradient as well as image algorithms.. \n",
      "round 4 (0.952): <pad>, in this paper we use propagation techniques to develop fast and traditional gradient image algorithms.. as opposed to belief-painting \n",
      "round 5 (0.923): <pad> well as in this paper, we use propagation techniques to develop fast gradient and image algorithms.. For traditional belief-painting \n",
      "round 6 (0.951): <pad> as in belief-painting, we use propagation techniques to develop fast gradient and image algorithms... In this traditional paper\n",
      "round 7 (0.934): <pad> than in traditional propagation techniques, we use belief in gradient, to develop fast image-painting algorithms.This paper is for in-\n",
      "round 8 (0.943): <pad> than traditional belief techniques, we use propagation, fast in gradient, to develop image-painting algorithms.This paper is for research\n",
      "round 9 (0.946): <pad> as opposed to traditional belief techniques, we use propagation in gradient, to develop fast image-painting algorithms.This paper is \n",
      "round 10 (0.963): <pad> well as belief techniques, we use propagation in gradient, to develop fast in-image-painting algorithms.This paper is \n",
      "round 11 (0.949): <pad> as opposed to belief techniques, we use propagation to develop fast in gradient-painting and image algorithms.This paper is a submission\n",
      "round 12 (0.942): <pad> well as in belief techniques, we use propagation to develop fast, gradient-painting algorithms for image inertia.This paper\n",
      "round 13 (0.948): <pad> in belief techniques... we use propagation to develop fast, gradient-painting algorithms for image inking.This new paper\n",
      "round 14 (0.944): <pad> as in, we use belief techniques to develop fast, gradient-painting algorithms for image propagation.<unk>br> In this new paper\n",
      "round 15 (0.884): <pad> for this paper... we use propagation techniques to develop fast, in gradient or image-painting algorithms. Unlike belief\n",
      "round 16 (0.935): <pad> as in belief propagation. In this paper, we use fast techniques to develop gradient and image-painting algorithms.. Unlike traditional\n"
     ]
    }
   ],
   "source": [
    "# worst arxiv reconstructions by bertscore:\n",
    "# [424, 201, 471,  86, 254, 237,  49, 321,  36, 284, 433, 107, 316, ...]\n",
    "eval_batch = next(iter(trainer.get_eval_dataloader(eval_dataset=trainer.eval_dataset[\"arxiv\"])))\n",
    "eval_batch = {k: v[None, 49] for k,v in eval_batch.items() }\n",
    "eval_batch = {k: v.to(trainer.args.device) for k,v in eval_batch.items() } # put on GPU\n",
    "trainer.inversion_trainer.model.use_frozen_embeddings_as_input = False\n",
    "# trainer.embedder_tokenizer.decode(().flatten())\n",
    "\n",
    "print(\"** num_beams=1 **\")\n",
    "trajectories = get_trajectories(inputs=eval_batch, num_beams=1, num_rounds=16)\n",
    "\n",
    "print(\"** num_beams=32 **\")\n",
    "trajectories = get_trajectories(inputs=eval_batch, num_beams=8, num_rounds=16)"
   ]
  },
  {
   "cell_type": "code",
   "execution_count": 295,
   "id": "fce619dc-d55d-4373-8173-f7d44c9f3c49",
   "metadata": {},
   "outputs": [
    {
     "name": "stdout",
     "output_type": "stream",
     "text": [
      "{'score': 24.57498456289153, 'counts': [16, 6, 4, 2], 'totals': [22, 21, 20, 19], 'precisions': [72.72727272727273, 28.571428571428573, 20.0, 10.526315789473685], 'bp': 0.9555630362682843, 'sys_len': 22, 'ref_len': 23}\n"
     ]
    },
    {
     "data": {
      "text/plain": [
       "24.57498456289153"
      ]
     },
     "execution_count": 295,
     "metadata": {},
     "output_type": "execute_result"
    }
   ],
   "source": [
    "def bleu(s1: str, s2: str) -> float:\n",
    "    m = trainer.metric_bleu.compute(\n",
    "        predictions=[s1], references=[s2],\n",
    "    )\n",
    "    print(m)\n",
    "    return m[\"score\"]\n",
    "\n",
    "bleu(\n",
    "    \"in this paper, we use belief - propagation techniques to develop fast algorithms for image inpainting. unlike traditional gradient - \",\n",
    "    \"as in belief propagation. In this paper, we use fast techniques to develop gradient and image-painting algorithms.. Unlike traditional\",\n",
    ")"
   ]
  },
  {
   "cell_type": "markdown",
   "id": "98d36af3-b402-429b-afda-d7f699ef23f9",
   "metadata": {},
   "source": [
    "## test words in training"
   ]
  },
  {
   "cell_type": "code",
   "execution_count": 187,
   "id": "cc7c4f37-5dcd-404b-91ae-f66972bcd986",
   "metadata": {},
   "outputs": [
    {
     "data": {
      "application/vnd.jupyter.widget-view+json": {
       "model_id": "",
       "version_major": 2,
       "version_minor": 0
      },
      "text/plain": [
       "Map:   0%|          | 0/5332023 [00:00<?, ? examples/s]"
      ]
     },
     "metadata": {},
     "output_type": "display_data"
    }
   ],
   "source": [
    "from typing import Dict\n",
    "from collections import Counter\n",
    "import torch\n",
    "\n",
    "\n",
    "vocab_size = trainer.embedder_tokenizer.vocab_size\n",
    "word_counts = Counter()\n",
    "\n",
    "def count_words_freq(batch: Dict[str, torch.Tensor]) -> None:\n",
    "    global word_counts\n",
    "    str_list = trainer.embedder_tokenizer.batch_decode(batch[\"embedder_input_ids\"], skip_special_tokens=True)\n",
    "    s = \"\\n\".join(str_list)\n",
    "    word_counts.update(s.split())\n",
    "    \n",
    "\n",
    "trainer.train_dataset.map(count_words_freq, batched=True, batch_size=1024)\n",
    "\n",
    "import pickle\n",
    "pickle.dump(word_counts, open(\"nq_train_word_counts.p\", \"wb\"))\n",
    "# pickle.dump(token_counts, open(\"nq_train_token_counts.p\", \"wb\"))"
   ]
  },
  {
   "cell_type": "code",
   "execution_count": null,
   "id": "be2ab26d-a3c9-4d96-b4a0-50c274043ab5",
   "metadata": {},
   "outputs": [],
   "source": [
    "from data_helpers import load_standard_val_datasets\n",
    "from tokenize_data import tokenize_function\n",
    "import transformers\n",
    "\n",
    "def load_arxiv(max_eval_samples: int):\n",
    "    max_eval_samples\n",
    "    val_datasets_dict = load_standard_val_datasets()\n",
    "    tokenizer = transformers.AutoTokenizer.from_pretrained(\n",
    "        \"t5-base\",\n",
    "        padding=True,\n",
    "        truncation=\"max_length\",\n",
    "        max_length=32,\n",
    "    )\n",
    "\n",
    "    val_datasets_dict = val_datasets_dict.map(\n",
    "        tokenize_function(\n",
    "            tokenizer,\n",
    "            trainer.embedder_tokenizer,\n",
    "            \"text\",\n",
    "            32,\n",
    "        ),\n",
    "        remove_columns=[\"text\"],\n",
    "        batched=True,\n",
    "        desc=\"Running tokenizer on dataset\",\n",
    "    )\n",
    "\n",
    "    for name, dataset in val_datasets_dict.items():\n",
    "        max_eval_samples = min(len(dataset), max_eval_samples)\n",
    "        val_datasets_dict[name] = val_datasets_dict[name].select(\n",
    "            range(max_eval_samples)\n",
    "        )\n",
    "        val_datasets_dict[name] = val_datasets_dict[name].add_column(\n",
    "            \"idx\", range(len(val_datasets_dict[name]))\n",
    "        )\n",
    "    \n",
    "    return val_datasets_dict[\"arxiv\"]\n",
    "\n",
    "arxiv = load_arxiv(10_000)"
   ]
  },
  {
   "cell_type": "code",
   "execution_count": 355,
   "id": "922a4195-abf4-4159-8f31-f5c8c3ce6ab7",
   "metadata": {},
   "outputs": [
    {
     "data": {
      "text/plain": [
       "dict_keys(['ag_news', 'arxiv', 'xsum_doc', 'xsum_summ', 'wikibio', 'nq'])"
      ]
     },
     "execution_count": 355,
     "metadata": {},
     "output_type": "execute_result"
    }
   ],
   "source": [
    "trainer.eval_dataset.keys()"
   ]
  },
  {
   "cell_type": "code",
   "execution_count": 356,
   "id": "704b238e-4150-4519-81a5-ea54d03e327a",
   "metadata": {},
   "outputs": [
    {
     "name": "stderr",
     "output_type": "stream",
     "text": [
      "                                                                                                                                               \r"
     ]
    },
    {
     "name": "stdout",
     "output_type": "stream",
     "text": [
      "[pred] to the character of the sutures of the skull, which, like those of the infant skull, are relatively smooth and untortuous. In\n",
      "[true] to the character of the sutures of the skull which, like those of the infant skull, are relatively smooth and untortuous. In fact\n",
      "\n",
      "\n",
      "\n",
      "[pred] individual from the Southern Hemisphere, to win a Winter Olympic gold medal and was also part of the short track relay team that won Australia'\n",
      "[true] individual from the Southern Hemisphere, to win a Winter Olympic gold medal and was also part of the short track relay team that won Australia'\n",
      "\n",
      "\n",
      "\n",
      "[pred] the same rights as straight people, while 15% disagreed. Additionally, 69% agreed that they should be protected from workplace discrimination. 13% of H\n",
      "[true] the same rights as straight people, while 15% disagreed. Additionally, 69% agreed that they should be protected from workplace discrimination. 13% of H\n"
     ]
    },
    {
     "data": {
      "text/plain": [
       "{'eval_nq_loss': 0.6452354788780212,\n",
       " 'eval_nq_token_set_precision': 0.9378606822414812,\n",
       " 'eval_nq_token_set_recall': 0.9442479841148055,\n",
       " 'eval_nq_token_set_f1': 0.9408037307960407,\n",
       " 'eval_nq_bleu_score': 79.75680103758263,\n",
       " 'eval_nq_meteor_score': 0.9165888519814936,\n",
       " 'eval_nq_rouge_score': 0.9312237417103695,\n",
       " 'eval_nq_bert_score': 0.9786610765457153,\n",
       " 'eval_nq_exact_match': 0.476,\n",
       " 'eval_nq_emb_cos_sim': 0.9863787293434143,\n",
       " 'eval_nq_runtime': 25.3197,\n",
       " 'eval_nq_samples_per_second': 19.747,\n",
       " 'eval_nq_steps_per_second': 0.158}"
      ]
     },
     "execution_count": 356,
     "metadata": {},
     "output_type": "execute_result"
    }
   ],
   "source": [
    "trainer.num_gen_recursive_steps = 10\n",
    "trainer.inversion_trainer.model.use_frozen_embeddings_as_input = True\n",
    "metrics = trainer.evaluate(\n",
    "    eval_dataset=trainer.eval_dataset[\"nq\"],\n",
    "    metric_key_prefix=f\"eval_nq\",\n",
    ")\n",
    "metrics"
   ]
  },
  {
   "cell_type": "code",
   "execution_count": 357,
   "id": "cf23a727-fd89-4e55-8f2e-2b5f84a12a16",
   "metadata": {},
   "outputs": [],
   "source": [
    "preds_sample = trainer.embedder_tokenizer.batch_decode(trainer.preds_sample_list, skip_special_tokens=True)\n",
    "preds_sample_words = list(map(str.split, preds_sample))\n",
    "preds_sample_labels = trainer.embedder_tokenizer.batch_decode(trainer.preds_sample_labels_list, skip_special_tokens=True)\n",
    "preds_sample_labels_words = list(map(str.split, preds_sample_labels))"
   ]
  },
  {
   "cell_type": "code",
   "execution_count": 358,
   "id": "ff5f989b-4fe2-4037-b70c-9be2c1c65b4f",
   "metadata": {},
   "outputs": [
    {
     "data": {
      "text/plain": [
       "500"
      ]
     },
     "execution_count": 358,
     "metadata": {},
     "output_type": "execute_result"
    }
   ],
   "source": [
    "len(trainer.preds_sample_list)"
   ]
  },
  {
   "cell_type": "code",
   "execution_count": 359,
   "id": "de642e97-bad1-4649-84aa-98bc2a4200ff",
   "metadata": {},
   "outputs": [],
   "source": [
    "word_counts_df = pd.DataFrame(word_counts.items(), columns=['word', 'count'])"
   ]
  },
  {
   "cell_type": "code",
   "execution_count": 360,
   "id": "21a77535-7429-4202-99df-bce343fa1010",
   "metadata": {},
   "outputs": [
    {
     "data": {
      "text/html": [
       "<div>\n",
       "<style scoped>\n",
       "    .dataframe tbody tr th:only-of-type {\n",
       "        vertical-align: middle;\n",
       "    }\n",
       "\n",
       "    .dataframe tbody tr th {\n",
       "        vertical-align: top;\n",
       "    }\n",
       "\n",
       "    .dataframe thead th {\n",
       "        text-align: right;\n",
       "    }\n",
       "</style>\n",
       "<table border=\"1\" class=\"dataframe\">\n",
       "  <thead>\n",
       "    <tr style=\"text-align: right;\">\n",
       "      <th></th>\n",
       "      <th>word</th>\n",
       "      <th>count</th>\n",
       "    </tr>\n",
       "  </thead>\n",
       "  <tbody>\n",
       "    <tr>\n",
       "      <th>3175480</th>\n",
       "      <td>“avar”</td>\n",
       "      <td>1</td>\n",
       "    </tr>\n",
       "    <tr>\n",
       "      <th>3175481</th>\n",
       "      <td>“conqueror”)</td>\n",
       "      <td>1</td>\n",
       "    </tr>\n",
       "    <tr>\n",
       "      <th>3175482</th>\n",
       "      <td>Yesterdays,</td>\n",
       "      <td>1</td>\n",
       "    </tr>\n",
       "    <tr>\n",
       "      <th>3175483</th>\n",
       "      <td>Desta's</td>\n",
       "      <td>1</td>\n",
       "    </tr>\n",
       "    <tr>\n",
       "      <th>3175484</th>\n",
       "      <td>Aeronautica\").</td>\n",
       "      <td>1</td>\n",
       "    </tr>\n",
       "  </tbody>\n",
       "</table>\n",
       "</div>"
      ],
      "text/plain": [
       "                   word  count\n",
       "3175480          “avar”      1\n",
       "3175481    “conqueror”)      1\n",
       "3175482     Yesterdays,      1\n",
       "3175483         Desta's      1\n",
       "3175484  Aeronautica\").      1"
      ]
     },
     "execution_count": 360,
     "metadata": {},
     "output_type": "execute_result"
    }
   ],
   "source": [
    "word_counts_df.tail()"
   ]
  },
  {
   "cell_type": "code",
   "execution_count": 371,
   "id": "194c48ed-4ba4-4ddf-891e-1e0619c71fe8",
   "metadata": {},
   "outputs": [],
   "source": [
    "word_counts_trimmed = {k:v for k,v in word_counts.items() if v>(10**2) }"
   ]
  },
  {
   "cell_type": "code",
   "execution_count": 372,
   "id": "199e0f39-32d4-4574-9623-de91ce1c1447",
   "metadata": {},
   "outputs": [
    {
     "data": {
      "text/plain": [
       "(54473, 3175485)"
      ]
     },
     "execution_count": 372,
     "metadata": {},
     "output_type": "execute_result"
    }
   ],
   "source": [
    "len(word_counts_trimmed), len(word_counts)"
   ]
  },
  {
   "cell_type": "code",
   "execution_count": 378,
   "id": "48dedf3c-4612-4cfd-83c6-8a88a44d8689",
   "metadata": {},
   "outputs": [
    {
     "ename": "KeyboardInterrupt",
     "evalue": "",
     "output_type": "error",
     "traceback": [
      "\u001b[0;31m---------------------------------------------------------------------------\u001b[0m",
      "\u001b[0;31mKeyboardInterrupt\u001b[0m                         Traceback (most recent call last)",
      "Cell \u001b[0;32mIn[378], line 4\u001b[0m\n\u001b[1;32m      1\u001b[0m sns\u001b[38;5;241m.\u001b[39mreset_orig()\n\u001b[1;32m      3\u001b[0m plt\u001b[38;5;241m.\u001b[39mhist(word_counts_trimmed\u001b[38;5;241m.\u001b[39mkeys(), weights\u001b[38;5;241m=\u001b[39mword_counts_trimmed\u001b[38;5;241m.\u001b[39mvalues(), bins\u001b[38;5;241m=\u001b[39m\u001b[38;5;28mrange\u001b[39m(\u001b[38;5;241m50\u001b[39m), histtype\u001b[38;5;241m=\u001b[39m\u001b[38;5;124m'\u001b[39m\u001b[38;5;124mstep\u001b[39m\u001b[38;5;124m'\u001b[39m)\n\u001b[0;32m----> 4\u001b[0m \u001b[43mplt\u001b[49m\u001b[38;5;241;43m.\u001b[39;49m\u001b[43mshow\u001b[49m\u001b[43m(\u001b[49m\u001b[43m)\u001b[49m\n",
      "File \u001b[0;32m~/.conda/envs/torch/lib/python3.10/site-packages/matplotlib/pyplot.py:446\u001b[0m, in \u001b[0;36mshow\u001b[0;34m(*args, **kwargs)\u001b[0m\n\u001b[1;32m    402\u001b[0m \u001b[38;5;124;03m\"\"\"\u001b[39;00m\n\u001b[1;32m    403\u001b[0m \u001b[38;5;124;03mDisplay all open figures.\u001b[39;00m\n\u001b[1;32m    404\u001b[0m \n\u001b[0;32m   (...)\u001b[0m\n\u001b[1;32m    443\u001b[0m \u001b[38;5;124;03mexplicitly there.\u001b[39;00m\n\u001b[1;32m    444\u001b[0m \u001b[38;5;124;03m\"\"\"\u001b[39;00m\n\u001b[1;32m    445\u001b[0m _warn_if_gui_out_of_main_thread()\n\u001b[0;32m--> 446\u001b[0m \u001b[38;5;28;01mreturn\u001b[39;00m \u001b[43m_get_backend_mod\u001b[49m\u001b[43m(\u001b[49m\u001b[43m)\u001b[49m\u001b[38;5;241;43m.\u001b[39;49m\u001b[43mshow\u001b[49m\u001b[43m(\u001b[49m\u001b[38;5;241;43m*\u001b[39;49m\u001b[43margs\u001b[49m\u001b[43m,\u001b[49m\u001b[43m \u001b[49m\u001b[38;5;241;43m*\u001b[39;49m\u001b[38;5;241;43m*\u001b[39;49m\u001b[43mkwargs\u001b[49m\u001b[43m)\u001b[49m\n",
      "File \u001b[0;32m~/.conda/envs/torch/lib/python3.10/site-packages/matplotlib_inline/backend_inline.py:90\u001b[0m, in \u001b[0;36mshow\u001b[0;34m(close, block)\u001b[0m\n\u001b[1;32m     88\u001b[0m \u001b[38;5;28;01mtry\u001b[39;00m:\n\u001b[1;32m     89\u001b[0m     \u001b[38;5;28;01mfor\u001b[39;00m figure_manager \u001b[38;5;129;01min\u001b[39;00m Gcf\u001b[38;5;241m.\u001b[39mget_all_fig_managers():\n\u001b[0;32m---> 90\u001b[0m         \u001b[43mdisplay\u001b[49m\u001b[43m(\u001b[49m\n\u001b[1;32m     91\u001b[0m \u001b[43m            \u001b[49m\u001b[43mfigure_manager\u001b[49m\u001b[38;5;241;43m.\u001b[39;49m\u001b[43mcanvas\u001b[49m\u001b[38;5;241;43m.\u001b[39;49m\u001b[43mfigure\u001b[49m\u001b[43m,\u001b[49m\n\u001b[1;32m     92\u001b[0m \u001b[43m            \u001b[49m\u001b[43mmetadata\u001b[49m\u001b[38;5;241;43m=\u001b[39;49m\u001b[43m_fetch_figure_metadata\u001b[49m\u001b[43m(\u001b[49m\u001b[43mfigure_manager\u001b[49m\u001b[38;5;241;43m.\u001b[39;49m\u001b[43mcanvas\u001b[49m\u001b[38;5;241;43m.\u001b[39;49m\u001b[43mfigure\u001b[49m\u001b[43m)\u001b[49m\n\u001b[1;32m     93\u001b[0m \u001b[43m        \u001b[49m\u001b[43m)\u001b[49m\n\u001b[1;32m     94\u001b[0m \u001b[38;5;28;01mfinally\u001b[39;00m:\n\u001b[1;32m     95\u001b[0m     show\u001b[38;5;241m.\u001b[39m_to_draw \u001b[38;5;241m=\u001b[39m []\n",
      "File \u001b[0;32m~/.conda/envs/torch/lib/python3.10/site-packages/IPython/core/display_functions.py:298\u001b[0m, in \u001b[0;36mdisplay\u001b[0;34m(include, exclude, metadata, transient, display_id, raw, clear, *objs, **kwargs)\u001b[0m\n\u001b[1;32m    296\u001b[0m     publish_display_data(data\u001b[38;5;241m=\u001b[39mobj, metadata\u001b[38;5;241m=\u001b[39mmetadata, \u001b[38;5;241m*\u001b[39m\u001b[38;5;241m*\u001b[39mkwargs)\n\u001b[1;32m    297\u001b[0m \u001b[38;5;28;01melse\u001b[39;00m:\n\u001b[0;32m--> 298\u001b[0m     format_dict, md_dict \u001b[38;5;241m=\u001b[39m \u001b[38;5;28;43mformat\u001b[39;49m\u001b[43m(\u001b[49m\u001b[43mobj\u001b[49m\u001b[43m,\u001b[49m\u001b[43m \u001b[49m\u001b[43minclude\u001b[49m\u001b[38;5;241;43m=\u001b[39;49m\u001b[43minclude\u001b[49m\u001b[43m,\u001b[49m\u001b[43m \u001b[49m\u001b[43mexclude\u001b[49m\u001b[38;5;241;43m=\u001b[39;49m\u001b[43mexclude\u001b[49m\u001b[43m)\u001b[49m\n\u001b[1;32m    299\u001b[0m     \u001b[38;5;28;01mif\u001b[39;00m \u001b[38;5;129;01mnot\u001b[39;00m format_dict:\n\u001b[1;32m    300\u001b[0m         \u001b[38;5;66;03m# nothing to display (e.g. _ipython_display_ took over)\u001b[39;00m\n\u001b[1;32m    301\u001b[0m         \u001b[38;5;28;01mcontinue\u001b[39;00m\n",
      "File \u001b[0;32m~/.conda/envs/torch/lib/python3.10/site-packages/IPython/core/formatters.py:179\u001b[0m, in \u001b[0;36mDisplayFormatter.format\u001b[0;34m(self, obj, include, exclude)\u001b[0m\n\u001b[1;32m    177\u001b[0m md \u001b[38;5;241m=\u001b[39m \u001b[38;5;28;01mNone\u001b[39;00m\n\u001b[1;32m    178\u001b[0m \u001b[38;5;28;01mtry\u001b[39;00m:\n\u001b[0;32m--> 179\u001b[0m     data \u001b[38;5;241m=\u001b[39m \u001b[43mformatter\u001b[49m\u001b[43m(\u001b[49m\u001b[43mobj\u001b[49m\u001b[43m)\u001b[49m\n\u001b[1;32m    180\u001b[0m \u001b[38;5;28;01mexcept\u001b[39;00m:\n\u001b[1;32m    181\u001b[0m     \u001b[38;5;66;03m# FIXME: log the exception\u001b[39;00m\n\u001b[1;32m    182\u001b[0m     \u001b[38;5;28;01mraise\u001b[39;00m\n",
      "File \u001b[0;32m~/.conda/envs/torch/lib/python3.10/site-packages/decorator.py:232\u001b[0m, in \u001b[0;36mdecorate.<locals>.fun\u001b[0;34m(*args, **kw)\u001b[0m\n\u001b[1;32m    230\u001b[0m \u001b[38;5;28;01mif\u001b[39;00m \u001b[38;5;129;01mnot\u001b[39;00m kwsyntax:\n\u001b[1;32m    231\u001b[0m     args, kw \u001b[38;5;241m=\u001b[39m fix(args, kw, sig)\n\u001b[0;32m--> 232\u001b[0m \u001b[38;5;28;01mreturn\u001b[39;00m \u001b[43mcaller\u001b[49m\u001b[43m(\u001b[49m\u001b[43mfunc\u001b[49m\u001b[43m,\u001b[49m\u001b[43m \u001b[49m\u001b[38;5;241;43m*\u001b[39;49m\u001b[43m(\u001b[49m\u001b[43mextras\u001b[49m\u001b[43m \u001b[49m\u001b[38;5;241;43m+\u001b[39;49m\u001b[43m \u001b[49m\u001b[43margs\u001b[49m\u001b[43m)\u001b[49m\u001b[43m,\u001b[49m\u001b[43m \u001b[49m\u001b[38;5;241;43m*\u001b[39;49m\u001b[38;5;241;43m*\u001b[39;49m\u001b[43mkw\u001b[49m\u001b[43m)\u001b[49m\n",
      "File \u001b[0;32m~/.conda/envs/torch/lib/python3.10/site-packages/IPython/core/formatters.py:223\u001b[0m, in \u001b[0;36mcatch_format_error\u001b[0;34m(method, self, *args, **kwargs)\u001b[0m\n\u001b[1;32m    221\u001b[0m \u001b[38;5;124;03m\"\"\"show traceback on failed format call\"\"\"\u001b[39;00m\n\u001b[1;32m    222\u001b[0m \u001b[38;5;28;01mtry\u001b[39;00m:\n\u001b[0;32m--> 223\u001b[0m     r \u001b[38;5;241m=\u001b[39m \u001b[43mmethod\u001b[49m\u001b[43m(\u001b[49m\u001b[38;5;28;43mself\u001b[39;49m\u001b[43m,\u001b[49m\u001b[43m \u001b[49m\u001b[38;5;241;43m*\u001b[39;49m\u001b[43margs\u001b[49m\u001b[43m,\u001b[49m\u001b[43m \u001b[49m\u001b[38;5;241;43m*\u001b[39;49m\u001b[38;5;241;43m*\u001b[39;49m\u001b[43mkwargs\u001b[49m\u001b[43m)\u001b[49m\n\u001b[1;32m    224\u001b[0m \u001b[38;5;28;01mexcept\u001b[39;00m \u001b[38;5;167;01mNotImplementedError\u001b[39;00m:\n\u001b[1;32m    225\u001b[0m     \u001b[38;5;66;03m# don't warn on NotImplementedErrors\u001b[39;00m\n\u001b[1;32m    226\u001b[0m     \u001b[38;5;28;01mreturn\u001b[39;00m \u001b[38;5;28mself\u001b[39m\u001b[38;5;241m.\u001b[39m_check_return(\u001b[38;5;28;01mNone\u001b[39;00m, args[\u001b[38;5;241m0\u001b[39m])\n",
      "File \u001b[0;32m~/.conda/envs/torch/lib/python3.10/site-packages/IPython/core/formatters.py:340\u001b[0m, in \u001b[0;36mBaseFormatter.__call__\u001b[0;34m(self, obj)\u001b[0m\n\u001b[1;32m    338\u001b[0m     \u001b[38;5;28;01mpass\u001b[39;00m\n\u001b[1;32m    339\u001b[0m \u001b[38;5;28;01melse\u001b[39;00m:\n\u001b[0;32m--> 340\u001b[0m     \u001b[38;5;28;01mreturn\u001b[39;00m \u001b[43mprinter\u001b[49m\u001b[43m(\u001b[49m\u001b[43mobj\u001b[49m\u001b[43m)\u001b[49m\n\u001b[1;32m    341\u001b[0m \u001b[38;5;66;03m# Finally look for special method names\u001b[39;00m\n\u001b[1;32m    342\u001b[0m method \u001b[38;5;241m=\u001b[39m get_real_method(obj, \u001b[38;5;28mself\u001b[39m\u001b[38;5;241m.\u001b[39mprint_method)\n",
      "File \u001b[0;32m~/.conda/envs/torch/lib/python3.10/site-packages/IPython/core/pylabtools.py:152\u001b[0m, in \u001b[0;36mprint_figure\u001b[0;34m(fig, fmt, bbox_inches, base64, **kwargs)\u001b[0m\n\u001b[1;32m    149\u001b[0m     \u001b[38;5;28;01mfrom\u001b[39;00m \u001b[38;5;21;01mmatplotlib\u001b[39;00m\u001b[38;5;21;01m.\u001b[39;00m\u001b[38;5;21;01mbackend_bases\u001b[39;00m \u001b[38;5;28;01mimport\u001b[39;00m FigureCanvasBase\n\u001b[1;32m    150\u001b[0m     FigureCanvasBase(fig)\n\u001b[0;32m--> 152\u001b[0m \u001b[43mfig\u001b[49m\u001b[38;5;241;43m.\u001b[39;49m\u001b[43mcanvas\u001b[49m\u001b[38;5;241;43m.\u001b[39;49m\u001b[43mprint_figure\u001b[49m\u001b[43m(\u001b[49m\u001b[43mbytes_io\u001b[49m\u001b[43m,\u001b[49m\u001b[43m \u001b[49m\u001b[38;5;241;43m*\u001b[39;49m\u001b[38;5;241;43m*\u001b[39;49m\u001b[43mkw\u001b[49m\u001b[43m)\u001b[49m\n\u001b[1;32m    153\u001b[0m data \u001b[38;5;241m=\u001b[39m bytes_io\u001b[38;5;241m.\u001b[39mgetvalue()\n\u001b[1;32m    154\u001b[0m \u001b[38;5;28;01mif\u001b[39;00m fmt \u001b[38;5;241m==\u001b[39m \u001b[38;5;124m'\u001b[39m\u001b[38;5;124msvg\u001b[39m\u001b[38;5;124m'\u001b[39m:\n",
      "File \u001b[0;32m~/.conda/envs/torch/lib/python3.10/site-packages/matplotlib/backend_bases.py:2346\u001b[0m, in \u001b[0;36mFigureCanvasBase.print_figure\u001b[0;34m(self, filename, dpi, facecolor, edgecolor, orientation, format, bbox_inches, pad_inches, bbox_extra_artists, backend, **kwargs)\u001b[0m\n\u001b[1;32m   2344\u001b[0m \u001b[38;5;28;01mif\u001b[39;00m bbox_inches:\n\u001b[1;32m   2345\u001b[0m     \u001b[38;5;28;01mif\u001b[39;00m bbox_inches \u001b[38;5;241m==\u001b[39m \u001b[38;5;124m\"\u001b[39m\u001b[38;5;124mtight\u001b[39m\u001b[38;5;124m\"\u001b[39m:\n\u001b[0;32m-> 2346\u001b[0m         bbox_inches \u001b[38;5;241m=\u001b[39m \u001b[38;5;28;43mself\u001b[39;49m\u001b[38;5;241;43m.\u001b[39;49m\u001b[43mfigure\u001b[49m\u001b[38;5;241;43m.\u001b[39;49m\u001b[43mget_tightbbox\u001b[49m\u001b[43m(\u001b[49m\n\u001b[1;32m   2347\u001b[0m \u001b[43m            \u001b[49m\u001b[43mrenderer\u001b[49m\u001b[43m,\u001b[49m\u001b[43m \u001b[49m\u001b[43mbbox_extra_artists\u001b[49m\u001b[38;5;241;43m=\u001b[39;49m\u001b[43mbbox_extra_artists\u001b[49m\u001b[43m)\u001b[49m\n\u001b[1;32m   2348\u001b[0m         \u001b[38;5;28;01mif\u001b[39;00m pad_inches \u001b[38;5;129;01mis\u001b[39;00m \u001b[38;5;28;01mNone\u001b[39;00m:\n\u001b[1;32m   2349\u001b[0m             pad_inches \u001b[38;5;241m=\u001b[39m rcParams[\u001b[38;5;124m'\u001b[39m\u001b[38;5;124msavefig.pad_inches\u001b[39m\u001b[38;5;124m'\u001b[39m]\n",
      "File \u001b[0;32m~/.conda/envs/torch/lib/python3.10/site-packages/matplotlib/figure.py:1744\u001b[0m, in \u001b[0;36mFigureBase.get_tightbbox\u001b[0;34m(self, renderer, bbox_extra_artists)\u001b[0m\n\u001b[1;32m   1741\u001b[0m     artists \u001b[38;5;241m=\u001b[39m bbox_extra_artists\n\u001b[1;32m   1743\u001b[0m \u001b[38;5;28;01mfor\u001b[39;00m a \u001b[38;5;129;01min\u001b[39;00m artists:\n\u001b[0;32m-> 1744\u001b[0m     bbox \u001b[38;5;241m=\u001b[39m \u001b[43ma\u001b[49m\u001b[38;5;241;43m.\u001b[39;49m\u001b[43mget_tightbbox\u001b[49m\u001b[43m(\u001b[49m\u001b[43mrenderer\u001b[49m\u001b[43m)\u001b[49m\n\u001b[1;32m   1745\u001b[0m     \u001b[38;5;28;01mif\u001b[39;00m bbox \u001b[38;5;129;01mis\u001b[39;00m \u001b[38;5;129;01mnot\u001b[39;00m \u001b[38;5;28;01mNone\u001b[39;00m:\n\u001b[1;32m   1746\u001b[0m         bb\u001b[38;5;241m.\u001b[39mappend(bbox)\n",
      "File \u001b[0;32m~/.conda/envs/torch/lib/python3.10/site-packages/matplotlib/axes/_base.py:4408\u001b[0m, in \u001b[0;36m_AxesBase.get_tightbbox\u001b[0;34m(self, renderer, call_axes_locator, bbox_extra_artists, for_layout_only)\u001b[0m\n\u001b[1;32m   4405\u001b[0m     bbox_artists \u001b[38;5;241m=\u001b[39m \u001b[38;5;28mself\u001b[39m\u001b[38;5;241m.\u001b[39mget_default_bbox_extra_artists()\n\u001b[1;32m   4407\u001b[0m \u001b[38;5;28;01mfor\u001b[39;00m a \u001b[38;5;129;01min\u001b[39;00m bbox_artists:\n\u001b[0;32m-> 4408\u001b[0m     bbox \u001b[38;5;241m=\u001b[39m \u001b[43ma\u001b[49m\u001b[38;5;241;43m.\u001b[39;49m\u001b[43mget_tightbbox\u001b[49m\u001b[43m(\u001b[49m\u001b[43mrenderer\u001b[49m\u001b[43m)\u001b[49m\n\u001b[1;32m   4409\u001b[0m     \u001b[38;5;28;01mif\u001b[39;00m (bbox \u001b[38;5;129;01mis\u001b[39;00m \u001b[38;5;129;01mnot\u001b[39;00m \u001b[38;5;28;01mNone\u001b[39;00m\n\u001b[1;32m   4410\u001b[0m             \u001b[38;5;129;01mand\u001b[39;00m \u001b[38;5;241m0\u001b[39m \u001b[38;5;241m<\u001b[39m bbox\u001b[38;5;241m.\u001b[39mwidth \u001b[38;5;241m<\u001b[39m np\u001b[38;5;241m.\u001b[39minf\n\u001b[1;32m   4411\u001b[0m             \u001b[38;5;129;01mand\u001b[39;00m \u001b[38;5;241m0\u001b[39m \u001b[38;5;241m<\u001b[39m bbox\u001b[38;5;241m.\u001b[39mheight \u001b[38;5;241m<\u001b[39m np\u001b[38;5;241m.\u001b[39minf):\n\u001b[1;32m   4412\u001b[0m         bb\u001b[38;5;241m.\u001b[39mappend(bbox)\n",
      "File \u001b[0;32m~/.conda/envs/torch/lib/python3.10/site-packages/matplotlib/artist.py:367\u001b[0m, in \u001b[0;36mArtist.get_tightbbox\u001b[0;34m(self, renderer)\u001b[0m\n\u001b[1;32m    352\u001b[0m \u001b[38;5;28;01mdef\u001b[39;00m \u001b[38;5;21mget_tightbbox\u001b[39m(\u001b[38;5;28mself\u001b[39m, renderer\u001b[38;5;241m=\u001b[39m\u001b[38;5;28;01mNone\u001b[39;00m):\n\u001b[1;32m    353\u001b[0m     \u001b[38;5;124;03m\"\"\"\u001b[39;00m\n\u001b[1;32m    354\u001b[0m \u001b[38;5;124;03m    Like `.Artist.get_window_extent`, but includes any clipping.\u001b[39;00m\n\u001b[1;32m    355\u001b[0m \n\u001b[0;32m   (...)\u001b[0m\n\u001b[1;32m    365\u001b[0m \u001b[38;5;124;03m        The enclosing bounding box (in figure pixel coordinates).\u001b[39;00m\n\u001b[1;32m    366\u001b[0m \u001b[38;5;124;03m    \"\"\"\u001b[39;00m\n\u001b[0;32m--> 367\u001b[0m     bbox \u001b[38;5;241m=\u001b[39m \u001b[38;5;28;43mself\u001b[39;49m\u001b[38;5;241;43m.\u001b[39;49m\u001b[43mget_window_extent\u001b[49m\u001b[43m(\u001b[49m\u001b[43mrenderer\u001b[49m\u001b[43m)\u001b[49m\n\u001b[1;32m    368\u001b[0m     \u001b[38;5;28;01mif\u001b[39;00m \u001b[38;5;28mself\u001b[39m\u001b[38;5;241m.\u001b[39mget_clip_on():\n\u001b[1;32m    369\u001b[0m         clip_box \u001b[38;5;241m=\u001b[39m \u001b[38;5;28mself\u001b[39m\u001b[38;5;241m.\u001b[39mget_clip_box()\n",
      "File \u001b[0;32m~/.conda/envs/torch/lib/python3.10/site-packages/matplotlib/spines.py:158\u001b[0m, in \u001b[0;36mSpine.get_window_extent\u001b[0;34m(self, renderer)\u001b[0m\n\u001b[1;32m    156\u001b[0m     \u001b[38;5;28;01mreturn\u001b[39;00m bb\n\u001b[1;32m    157\u001b[0m bboxes \u001b[38;5;241m=\u001b[39m [bb]\n\u001b[0;32m--> 158\u001b[0m drawn_ticks \u001b[38;5;241m=\u001b[39m \u001b[38;5;28;43mself\u001b[39;49m\u001b[38;5;241;43m.\u001b[39;49m\u001b[43maxis\u001b[49m\u001b[38;5;241;43m.\u001b[39;49m\u001b[43m_update_ticks\u001b[49m\u001b[43m(\u001b[49m\u001b[43m)\u001b[49m\n\u001b[1;32m    160\u001b[0m major_tick \u001b[38;5;241m=\u001b[39m \u001b[38;5;28mnext\u001b[39m(\u001b[38;5;28miter\u001b[39m({\u001b[38;5;241m*\u001b[39mdrawn_ticks} \u001b[38;5;241m&\u001b[39m {\u001b[38;5;241m*\u001b[39m\u001b[38;5;28mself\u001b[39m\u001b[38;5;241m.\u001b[39maxis\u001b[38;5;241m.\u001b[39mmajorTicks}), \u001b[38;5;28;01mNone\u001b[39;00m)\n\u001b[1;32m    161\u001b[0m minor_tick \u001b[38;5;241m=\u001b[39m \u001b[38;5;28mnext\u001b[39m(\u001b[38;5;28miter\u001b[39m({\u001b[38;5;241m*\u001b[39mdrawn_ticks} \u001b[38;5;241m&\u001b[39m {\u001b[38;5;241m*\u001b[39m\u001b[38;5;28mself\u001b[39m\u001b[38;5;241m.\u001b[39maxis\u001b[38;5;241m.\u001b[39mminorTicks}), \u001b[38;5;28;01mNone\u001b[39;00m)\n",
      "File \u001b[0;32m~/.conda/envs/torch/lib/python3.10/site-packages/matplotlib/axis.py:1289\u001b[0m, in \u001b[0;36mAxis._update_ticks\u001b[0;34m(self)\u001b[0m\n\u001b[1;32m   1287\u001b[0m \u001b[38;5;28;01mfor\u001b[39;00m tick \u001b[38;5;129;01min\u001b[39;00m ticks:\n\u001b[1;32m   1288\u001b[0m     \u001b[38;5;28;01mtry\u001b[39;00m:\n\u001b[0;32m-> 1289\u001b[0m         loc_t \u001b[38;5;241m=\u001b[39m \u001b[38;5;28;43mself\u001b[39;49m\u001b[38;5;241;43m.\u001b[39;49m\u001b[43mget_transform\u001b[49m\u001b[43m(\u001b[49m\u001b[43m)\u001b[49m\u001b[38;5;241m.\u001b[39mtransform(tick\u001b[38;5;241m.\u001b[39mget_loc())\n\u001b[1;32m   1290\u001b[0m     \u001b[38;5;28;01mexcept\u001b[39;00m \u001b[38;5;167;01mAssertionError\u001b[39;00m:\n\u001b[1;32m   1291\u001b[0m         \u001b[38;5;66;03m# transforms.transform doesn't allow masked values but\u001b[39;00m\n\u001b[1;32m   1292\u001b[0m         \u001b[38;5;66;03m# some scales might make them, so we need this try/except.\u001b[39;00m\n\u001b[1;32m   1293\u001b[0m         \u001b[38;5;28;01mpass\u001b[39;00m\n",
      "File \u001b[0;32m~/.conda/envs/torch/lib/python3.10/site-packages/matplotlib/axis.py:759\u001b[0m, in \u001b[0;36mAxis.get_transform\u001b[0;34m(self)\u001b[0m\n\u001b[1;32m    758\u001b[0m \u001b[38;5;28;01mdef\u001b[39;00m \u001b[38;5;21mget_transform\u001b[39m(\u001b[38;5;28mself\u001b[39m):\n\u001b[0;32m--> 759\u001b[0m     \u001b[38;5;28;01mreturn\u001b[39;00m \u001b[38;5;28;43mself\u001b[39;49m\u001b[38;5;241;43m.\u001b[39;49m\u001b[43m_scale\u001b[49m\u001b[38;5;241;43m.\u001b[39;49m\u001b[43mget_transform\u001b[49m\u001b[43m(\u001b[49m\u001b[43m)\u001b[49m\n",
      "File \u001b[0;32m~/.conda/envs/torch/lib/python3.10/site-packages/matplotlib/scale.py:120\u001b[0m, in \u001b[0;36mLinearScale.get_transform\u001b[0;34m(self)\u001b[0m\n\u001b[1;32m    115\u001b[0m \u001b[38;5;28;01mdef\u001b[39;00m \u001b[38;5;21mget_transform\u001b[39m(\u001b[38;5;28mself\u001b[39m):\n\u001b[1;32m    116\u001b[0m     \u001b[38;5;124;03m\"\"\"\u001b[39;00m\n\u001b[1;32m    117\u001b[0m \u001b[38;5;124;03m    Return the transform for linear scaling, which is just the\u001b[39;00m\n\u001b[1;32m    118\u001b[0m \u001b[38;5;124;03m    `~matplotlib.transforms.IdentityTransform`.\u001b[39;00m\n\u001b[1;32m    119\u001b[0m \u001b[38;5;124;03m    \"\"\"\u001b[39;00m\n\u001b[0;32m--> 120\u001b[0m     \u001b[38;5;28;01mreturn\u001b[39;00m \u001b[43mIdentityTransform\u001b[49m\u001b[43m(\u001b[49m\u001b[43m)\u001b[49m\n",
      "File \u001b[0;32m~/.conda/envs/torch/lib/python3.10/site-packages/matplotlib/transforms.py:1765\u001b[0m, in \u001b[0;36mAffineBase.__init__\u001b[0;34m(self, *args, **kwargs)\u001b[0m\n\u001b[1;32m   1764\u001b[0m \u001b[38;5;28;01mdef\u001b[39;00m \u001b[38;5;21m__init__\u001b[39m(\u001b[38;5;28mself\u001b[39m, \u001b[38;5;241m*\u001b[39margs, \u001b[38;5;241m*\u001b[39m\u001b[38;5;241m*\u001b[39mkwargs):\n\u001b[0;32m-> 1765\u001b[0m     \u001b[38;5;28;43msuper\u001b[39;49m\u001b[43m(\u001b[49m\u001b[43m)\u001b[49m\u001b[38;5;241;43m.\u001b[39;49m\u001b[38;5;21;43m__init__\u001b[39;49m\u001b[43m(\u001b[49m\u001b[38;5;241;43m*\u001b[39;49m\u001b[43margs\u001b[49m\u001b[43m,\u001b[49m\u001b[43m \u001b[49m\u001b[38;5;241;43m*\u001b[39;49m\u001b[38;5;241;43m*\u001b[39;49m\u001b[43mkwargs\u001b[49m\u001b[43m)\u001b[49m\n\u001b[1;32m   1766\u001b[0m     \u001b[38;5;28mself\u001b[39m\u001b[38;5;241m.\u001b[39m_inverted \u001b[38;5;241m=\u001b[39m \u001b[38;5;28;01mNone\u001b[39;00m\n",
      "File \u001b[0;32m~/.conda/envs/torch/lib/python3.10/site-packages/matplotlib/transforms.py:110\u001b[0m, in \u001b[0;36mTransformNode.__init__\u001b[0;34m(self, shorthand_name)\u001b[0m\n\u001b[1;32m    104\u001b[0m pass_through \u001b[38;5;241m=\u001b[39m \u001b[38;5;28;01mFalse\u001b[39;00m\n\u001b[1;32m    105\u001b[0m \u001b[38;5;124;03m\"\"\"\u001b[39;00m\n\u001b[1;32m    106\u001b[0m \u001b[38;5;124;03mIf pass_through is True, all ancestors will always be\u001b[39;00m\n\u001b[1;32m    107\u001b[0m \u001b[38;5;124;03minvalidated, even if 'self' is already invalid.\u001b[39;00m\n\u001b[1;32m    108\u001b[0m \u001b[38;5;124;03m\"\"\"\u001b[39;00m\n\u001b[0;32m--> 110\u001b[0m \u001b[38;5;28;01mdef\u001b[39;00m \u001b[38;5;21m__init__\u001b[39m(\u001b[38;5;28mself\u001b[39m, shorthand_name\u001b[38;5;241m=\u001b[39m\u001b[38;5;28;01mNone\u001b[39;00m):\n\u001b[1;32m    111\u001b[0m     \u001b[38;5;124;03m\"\"\"\u001b[39;00m\n\u001b[1;32m    112\u001b[0m \u001b[38;5;124;03m    Parameters\u001b[39;00m\n\u001b[1;32m    113\u001b[0m \u001b[38;5;124;03m    ----------\u001b[39;00m\n\u001b[0;32m   (...)\u001b[0m\n\u001b[1;32m    117\u001b[0m \u001b[38;5;124;03m        ``str(transform)`` when DEBUG=True.\u001b[39;00m\n\u001b[1;32m    118\u001b[0m \u001b[38;5;124;03m    \"\"\"\u001b[39;00m\n\u001b[1;32m    119\u001b[0m     \u001b[38;5;28mself\u001b[39m\u001b[38;5;241m.\u001b[39m_parents \u001b[38;5;241m=\u001b[39m {}\n",
      "\u001b[0;31mKeyboardInterrupt\u001b[0m: "
     ]
    }
   ],
   "source": [
    "sns.reset_orig()\n",
    "\n",
    "plt.hist(word_counts_trimmed.keys(), weights=word_counts_trimmed.values(), bins=range(50), histtype='step')\n",
    "plt.show()"
   ]
  },
  {
   "cell_type": "code",
   "execution_count": 366,
   "id": "0567f0c9-c2ef-4ded-a814-5f3017acb862",
   "metadata": {},
   "outputs": [
    {
     "name": "stdout",
     "output_type": "stream",
     "text": [
      "untortuous.\n",
      "Minworth\n",
      "(Kathi\n",
      "Hagerstown's\n",
      "\"linga\".\n",
      "Celone/San\n",
      "d'Arpi\n",
      "Celone/San\n",
      "Prozac\"\n",
      "Ebingen,\n",
      "$2–2.5\n",
      "(Transnistrian\n",
      "Nonmagnetic\n",
      "induction-welded\n",
      "\"...it’\n",
      "YYO\n",
      "Wymott\n",
      "3442\n",
      "Barentsz,\n",
      "Steptoeville,\n",
      "Abernetty\n",
      "Abernetty\n",
      "Steinbeck-Ancker\n",
      "Chateaud\n",
      "TGFBI\n",
      "beta-induced,\n",
      "68kDa,\n",
      "TGFBI\n",
      "Doaks\n",
      "Finger'\n",
      "acumin\n",
      "Schultzy's.\n",
      "hazel/alder\n",
      "'Happiness\n",
      "Tents'\n",
      "Katarina\"\n",
      "Rößl\"\n",
      "[Western\n",
      "Pentapartito\n",
      "Pentapartito\n",
      "\"Penta\",\n",
      "\"partito\",\n",
      "\"Türmle\",\n",
      "\"\"Selshamurinn\n",
      "Biogenesis.\n",
      "11,1%\n",
      "(1812–1823)\n",
      "Riesenberger\n",
      "paresthesia.\n",
      "hypog\n",
      "19J\n",
      "Rudorfer\n",
      "(Intro\n",
      "Off\")\")\n",
      "Ichihara.\n",
      "\"Tsubas\n",
      "Warblington\n",
      "79–82\n",
      "caldeira\n",
      "Black-bearded\n",
      "melanopogon\")\n",
      "19/23\n",
      "Monofats\n",
      "Varifold\n",
      "varifold\n",
      "attacks/infiltrations.\n",
      "style=\"background:#990033;\n",
      "prison—and\n",
      "Scharlach\n",
      "\"Judeo-Bolshevism\"\n",
      "Zempter\n",
      "value-addition\n",
      "CpE\n",
      "\"Tianzi\",\n",
      "Passera,\n",
      "\"Abbas\n",
      "Cyrus\".\n",
      "(\"Peak\"),\n",
      "Akaln.\n",
      "nowiki>\"/nowiki>.\n",
      "Isralietisch\n",
      "Israelietisch\n",
      "Kanights\n",
      "Kanights\n",
      "Daprosy\n",
      "\"timbuwarra\"\n",
      "Dadov\"\n",
      "(\"Duh\n",
      "slowcore/post-rock\n",
      "fastned\n",
      "(play-offs)\n",
      "GTS:\n",
      "Mandy-González\n",
      "\"ee\"\n",
      "microbodies\n",
      "Creditors'\n",
      "184513\n",
      "al-Ashram,\n",
      "Kaa'ba\n",
      "Techajindawong\n",
      "Siripun\n",
      "Taechachiadawong\n",
      "Yew-Tree.\"\n",
      "267:\n",
      "Metn.\n",
      "Viderem\",\n",
      "Tabakova's\n",
      "Chadderton.\n",
      "Kanayagawa\n",
      "Kanayagawa\n",
      "264.0\n",
      "'Newnham\n",
      "Westbury'\n",
      "megalitres,\n",
      "Steinerskole\"\n",
      "(Operacion\n",
      "Angicos).\n",
      "$53,196.\n",
      "$93,144\n",
      "35,695\n",
      "‘free’\n"
     ]
    },
    {
     "data": {
      "text/html": [
       "<div>\n",
       "<style scoped>\n",
       "    .dataframe tbody tr th:only-of-type {\n",
       "        vertical-align: middle;\n",
       "    }\n",
       "\n",
       "    .dataframe tbody tr th {\n",
       "        vertical-align: top;\n",
       "    }\n",
       "\n",
       "    .dataframe thead th {\n",
       "        text-align: right;\n",
       "    }\n",
       "</style>\n",
       "<table border=\"1\" class=\"dataframe\">\n",
       "  <thead>\n",
       "    <tr style=\"text-align: right;\">\n",
       "      <th></th>\n",
       "      <th>word</th>\n",
       "      <th>guess_correct</th>\n",
       "      <th>count</th>\n",
       "    </tr>\n",
       "  </thead>\n",
       "  <tbody>\n",
       "    <tr>\n",
       "      <th>0</th>\n",
       "      <td>Kerim</td>\n",
       "      <td>True</td>\n",
       "      <td>18</td>\n",
       "    </tr>\n",
       "    <tr>\n",
       "      <th>1</th>\n",
       "      <td>visit</td>\n",
       "      <td>True</td>\n",
       "      <td>5925</td>\n",
       "    </tr>\n",
       "    <tr>\n",
       "      <th>2</th>\n",
       "      <td>holdings</td>\n",
       "      <td>True</td>\n",
       "      <td>537</td>\n",
       "    </tr>\n",
       "    <tr>\n",
       "      <th>3</th>\n",
       "      <td>creolized</td>\n",
       "      <td>True</td>\n",
       "      <td>7</td>\n",
       "    </tr>\n",
       "    <tr>\n",
       "      <th>4</th>\n",
       "      <td>Apart</td>\n",
       "      <td>True</td>\n",
       "      <td>1321</td>\n",
       "    </tr>\n",
       "  </tbody>\n",
       "</table>\n",
       "</div>"
      ],
      "text/plain": [
       "        word  guess_correct  count\n",
       "0      Kerim           True     18\n",
       "1      visit           True   5925\n",
       "2   holdings           True    537\n",
       "3  creolized           True      7\n",
       "4      Apart           True   1321"
      ]
     },
     "execution_count": 366,
     "metadata": {},
     "output_type": "execute_result"
    }
   ],
   "source": [
    "correct_words = []\n",
    "incorrect_words = []\n",
    "\n",
    "for pred_words, true_words in zip(preds_sample_words, preds_sample_labels_words):\n",
    "    for w in true_words:\n",
    "        word_in_training_data = (word_counts[w] > 0)\n",
    "        if not word_in_training_data:\n",
    "            print(w)\n",
    "        word_correct = (w in pred_words)\n",
    "        if word_correct:\n",
    "            correct_words.append(w)\n",
    "        else:\n",
    "            # if word_counts[w] > 5*10**6:\n",
    "            #     print(w)\n",
    "            #     print(\" \".join(pred_words))\n",
    "            #     print(\" \".join(true_words))\n",
    "            #     print()\n",
    "            incorrect_words.append(w)\n",
    "\n",
    "\n",
    "data = []\n",
    "for w in set(correct_words):\n",
    "    data.append((w, True, word_counts[w]))\n",
    "for w in set(incorrect_words):\n",
    "    data.append((w, False, word_counts[w]))\n",
    "word_df = pd.DataFrame(data, columns=['word', 'guess_correct', 'count'])\n",
    "word_df[\"count\"] += 1\n",
    "word_df.head()"
   ]
  },
  {
   "cell_type": "code",
   "execution_count": 363,
   "id": "a9afe5b6-39ff-443f-89ff-0e4193ebb1f5",
   "metadata": {},
   "outputs": [
    {
     "data": {
      "text/plain": [
       "array(['to', 'the', 'of', 'and', 'a', 'was', 'is', 'in', 'The'],\n",
       "      dtype=object)"
      ]
     },
     "execution_count": 363,
     "metadata": {},
     "output_type": "execute_result"
    }
   ],
   "source": [
    "word_df[word_df[\"count\"] > 10**6][\"word\"].unique()"
   ]
  },
  {
   "cell_type": "code",
   "execution_count": 364,
   "id": "ba8db219-dd75-4560-a43a-8e7be4fc6842",
   "metadata": {},
   "outputs": [
    {
     "data": {
      "image/png": "[encoded data removed]",
      "text/plain": [
       "<Figure size 640x480 with 1 Axes>"
      ]
     },
     "metadata": {},
     "output_type": "display_data"
    }
   ],
   "source": [
    "import math\n",
    "import seaborn as sns\n",
    "\n",
    "ax = sns.histplot(data=word_df, x=\"count\", hue=\"guess_correct\", label=\"guess_correct\", log_scale=True, legend=True)\n",
    "\n",
    "ax.set_ylabel(\"Total guessed in eval\")\n",
    "ax.set_xlabel(\"Frequency in training data\")\n",
    "ax.set_title(\"Correctness vs word frequency in training on ArXiv\")\n",
    "\n",
    "# Change labels to something interpretable\n",
    "L = plt.legend()\n",
    "for i, label in enumerate([\"False negative\", \"True positive\"]):\n",
    "    L.get_texts()[i].set_text(label)\n",
    "    \n",
    "# save to PDF\n",
    "plt.savefig(\"incorrect_word_dist_sl32.pdf\", format=\"pdf\", bbox_inches=\"tight\") "
   ]
  },
  {
   "cell_type": "code",
   "execution_count": null,
   "id": "4c6ee705-def3-4b03-a026-ea403b44c9f4",
   "metadata": {},
   "outputs": [],
   "source": []
  },
  {
   "cell_type": "code",
   "execution_count": null,
   "id": "495038f5-6316-4fe2-bb2f-f9da8b57c410",
   "metadata": {},
   "outputs": [],
   "source": []
  }
 ],
 "metadata": {
  "kernelspec": {
   "display_name": "Python 3 (ipykernel)",
   "language": "python",
   "name": "python3"
  },
  "language_info": {
   "codemirror_mode": {
    "name": "ipython",
    "version": 3
   },
   "file_extension": ".py",
   "mimetype": "text/x-python",
   "name": "python",
   "nbconvert_exporter": "python",
   "pygments_lexer": "ipython3",
   "version": "3.10.10"
  }
 },
 "nbformat": 4,
 "nbformat_minor": 5
}
