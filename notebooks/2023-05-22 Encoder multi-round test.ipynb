{
 "cells": [
  {
   "cell_type": "code",
   "execution_count": 1,
   "id": "5628f14b-f207-42ff-a7a8-119c813bf583",
   "metadata": {},
   "outputs": [],
   "source": [
    "%load_ext autoreload\n",
    "%autoreload 2"
   ]
  },
  {
   "cell_type": "code",
   "execution_count": 2,
   "id": "c83eb4ec-24eb-486c-bfab-282f610624dc",
   "metadata": {},
   "outputs": [],
   "source": [
    "import os\n",
    "os.environ[\"WANDB_DISABLED\"] = \"true\"\n",
    "\n",
    "import sys\n",
    "# sys.path = ['/home/jxm3/research/retrieval/inversion'] + sys.path\n",
    "sys.path = [\n",
    "    p for p in sys.path\n",
    "    if p not in ['/home/jxm3/research/prompting/imodelsX', '/home/jxm3/research/prompting/tree-prompt']\n",
    "]\n",
    "sys.path.append('/home/jxm3/research/retrieval/inversion')"
   ]
  },
  {
   "cell_type": "markdown",
   "id": "278249f9-b243-4549-acf5-4839b2ff15ed",
   "metadata": {},
   "source": [
    "## debugging\n",
    "\n",
    "we trained our first self-correcting model that's decoder-based. generation from it doesn't seem to be working properly, so going to debug in this notebook."
   ]
  },
  {
   "cell_type": "code",
   "execution_count": 3,
   "id": "60660ace-aab9-42b5-be7d-b19f77123ce6",
   "metadata": {},
   "outputs": [
    {
     "name": "stdout",
     "output_type": "stream",
     "text": [
      "Loading trainer for analysis – setting --do_eval=1\n",
      "loading alias dpr_nq__msl32_beta from /home/jxm3/research/retrieval/inversion/saves/db66b9c01b644541fedbdcc59c53a285/ebb31d91810c4b62d2b55b5382e8c7ea...\n",
      "Set train_args.dataloader_num_workers = 4\n"
     ]
    },
    {
     "name": "stderr",
     "output_type": "stream",
     "text": [
      "/home/jxm3/.conda/envs/torch/lib/python3.10/site-packages/transformers/models/t5/tokenization_t5_fast.py:155: FutureWarning: This tokenizer was incorrectly instantiated with a model max length of 512 which will be corrected in Transformers v5.\n",
      "For now, this behavior is kept to avoid breaking backwards compatibility when padding/encoding with `truncation is True`.\n",
      "- Be aware that you SHOULD NOT rely on t5-base automatically truncating your input to 512 when padding/encoding.\n",
      "- If you want to encode/pad to sequences longer than 512 you can either instantiate this tokenizer with `model_max_length` or pass `max_length` when encoding/padding.\n",
      "- To avoid this warning, please instantiate this tokenizer with `model_max_length` set to your preferred value.\n",
      "  warnings.warn(\n"
     ]
    },
    {
     "data": {
      "application/vnd.jupyter.widget-view+json": {
       "model_id": "2c0aca1a758c4ccb9eee320247e1c62c",
       "version_major": 2,
       "version_minor": 0
      },
      "text/plain": [
       "  0%|          | 0/2 [00:00<?, ?it/s]"
      ]
     },
     "metadata": {},
     "output_type": "display_data"
    },
    {
     "data": {
      "application/vnd.jupyter.widget-view+json": {
       "model_id": "d4a571c7448a4c4c8d1cb8e5cceb0c7a",
       "version_major": 2,
       "version_minor": 0
      },
      "text/plain": [
       "  0%|          | 0/3 [00:00<?, ?it/s]"
      ]
     },
     "metadata": {},
     "output_type": "display_data"
    },
    {
     "data": {
      "application/vnd.jupyter.widget-view+json": {
       "model_id": "a4b5b5482d524435b48134c3c45f9319",
       "version_major": 2,
       "version_minor": 0
      },
      "text/plain": [
       "  0%|          | 0/3 [00:00<?, ?it/s]"
      ]
     },
     "metadata": {},
     "output_type": "display_data"
    },
    {
     "data": {
      "application/vnd.jupyter.widget-view+json": {
       "model_id": "ff12f367859943dda68a4407a07d7e77",
       "version_major": 2,
       "version_minor": 0
      },
      "text/plain": [
       "  0%|          | 0/3 [00:00<?, ?it/s]"
      ]
     },
     "metadata": {},
     "output_type": "display_data"
    },
    {
     "name": "stderr",
     "output_type": "stream",
     "text": [
      "[nltk_data] Downloading package wordnet to /home/jxm3/nltk_data...\n",
      "[nltk_data]   Package wordnet is already up-to-date!\n",
      "[nltk_data] Downloading package punkt to /home/jxm3/nltk_data...\n",
      "[nltk_data]   Package punkt is already up-to-date!\n",
      "[nltk_data] Downloading package omw-1.4 to /home/jxm3/nltk_data...\n",
      "[nltk_data]   Package omw-1.4 is already up-to-date!\n"
     ]
    },
    {
     "name": "stdout",
     "output_type": "stream",
     "text": [
      "================ Begin trainer sanity check ================\n",
      "\tInput to encode -> Twas brillig, and the slithy toves, Did gyre and gimble in the wabe, All mimsy were the borogoves, And the mome raths outgrabe.\n",
      "\tDecoded output -> Was slurred the togy, Was gilber and brittle, Did twave sliths\n",
      "================ End trainer sanity check ================\n",
      "Froze 342572160 params from model type <class 'models.inversion.InversionModel'>\n"
     ]
    },
    {
     "name": "stderr",
     "output_type": "stream",
     "text": [
      "[nltk_data] Downloading package wordnet to /home/jxm3/nltk_data...\n",
      "[nltk_data]   Package wordnet is already up-to-date!\n",
      "[nltk_data] Downloading package punkt to /home/jxm3/nltk_data...\n",
      "[nltk_data]   Package punkt is already up-to-date!\n",
      "[nltk_data] Downloading package omw-1.4 to /home/jxm3/nltk_data...\n",
      "[nltk_data]   Package omw-1.4 is already up-to-date!\n"
     ]
    },
    {
     "name": "stdout",
     "output_type": "stream",
     "text": [
      "================ Begin trainer sanity check ================\n",
      "\tInput to encode -> Twas brillig, and the slithy toves, Did gyre and gimble in the wabe, All mimsy were the borogoves, And the mome raths outgrabe.\n",
      "\tDecoded output -> Was the gillig swave and toy, Did bribe slur the wyres, Bel\n",
      "================ End trainer sanity check ================\n"
     ]
    }
   ],
   "source": [
    "# model info:\n",
    "#    https://wandb.ai/jack-morris/emb-correct-1/runs/e9430bc73cfd6fb433eb0e5401d4a7ff\n",
    "#             path: saves/47d9c149a8e827d0609abbeefdfd89ac\n",
    "\n",
    "import analyze_utils\n",
    "\n",
    "checkpoint_folder = '/home/jxm3/research/retrieval/inversion/saves/47d9c149a8e827d0609abbeefdfd89ac'\n",
    "trainer = analyze_utils.load_trainer(checkpoint_folder)"
   ]
  },
  {
   "cell_type": "code",
   "execution_count": 4,
   "id": "bf2a2cff-4715-4f79-a66e-75cb44ce2a54",
   "metadata": {},
   "outputs": [
    {
     "data": {
      "text/html": [
       "\n",
       "    <div>\n",
       "      \n",
       "      <progress value='82' max='2' style='width:300px; height:20px; vertical-align: middle;'></progress>\n",
       "      [2/2 08:31]\n",
       "    </div>\n",
       "    "
      ],
      "text/plain": [
       "<IPython.core.display.HTML object>"
      ]
     },
     "metadata": {},
     "output_type": "display_data"
    },
    {
     "name": "stderr",
     "output_type": "stream",
     "text": [
      "                                                                                                                                               \r"
     ]
    },
    {
     "name": "stdout",
     "output_type": "stream",
     "text": [
      "[pred] to the character of the skull of the sutures, which are relatively smooth and untortuous of infant skulls. In fact, like those\n",
      "[true] to the character of the sutures of the skull which, like those of the infant skull, are relatively smooth and untortuous. In fact\n",
      "\n",
      "\n",
      "\n",
      "[pred] individual from the Southern Hemisphere to win a Winter Olympic gold medal, and was also part of the short track relay team that won Australia'\n",
      "[true] individual from the Southern Hemisphere, to win a Winter Olympic gold medal and was also part of the short track relay team that won Australia'\n",
      "\n",
      "\n",
      "\n",
      "[pred] the same rights as other people, while 15% agreed that they should be protected from discrimination. Among gay and straight workers, 63% disagreed and\n",
      "[true] the same rights as straight people, while 15% disagreed. Additionally, 69% agreed that they should be protected from workplace discrimination. 13% of H\n"
     ]
    },
    {
     "data": {
      "text/plain": [
       "{'eval_loss': 0.6762245893478394,\n",
       " 'eval_token_set_precision': 0.7868841329671202,\n",
       " 'eval_token_set_recall': 0.7894241524458314,\n",
       " 'eval_token_set_f1': 0.7872981165457503,\n",
       " 'eval_bleu_score': 45.89207392770204,\n",
       " 'eval_meteor_score': 0.715975790685012,\n",
       " 'eval_rouge_score': 0.7610256514449997,\n",
       " 'eval_bert_score': 0.9380280026197434,\n",
       " 'eval_emb_cos_sim': 0.9498069286346436,\n",
       " 'eval_runtime': 12.6388,\n",
       " 'eval_samples_per_second': 39.561,\n",
       " 'eval_steps_per_second': 0.158}"
      ]
     },
     "execution_count": 4,
     "metadata": {},
     "output_type": "execute_result"
    }
   ],
   "source": [
    "trainer.evaluate(\n",
    "    eval_dataset=trainer.eval_dataset[\"nq\"]\n",
    ")"
   ]
  },
  {
   "cell_type": "code",
   "execution_count": 5,
   "id": "631d5433-719f-4e7b-97f7-6ac4ec06245f",
   "metadata": {},
   "outputs": [
    {
     "name": "stdout",
     "output_type": "stream",
     "text": [
      "================ Begin trainer sanity check ================\n",
      "\tInput to encode -> Twas brillig, and the slithy toves, Did gyre and gimble in the wabe, All mimsy were the borogoves, And the mome raths outgrabe.\n",
      "\tDecoded output -> Was the gilly sliths and bribe, Did towl the snare and waving tyre\n",
      "================ End trainer sanity check ================\n"
     ]
    }
   ],
   "source": [
    "trainer.num_gen_recursive_steps = 1\n",
    "trainer.sanity_decode()"
   ]
  },
  {
   "cell_type": "code",
   "execution_count": 14,
   "id": "735a92ef-497d-4da0-96df-0a3b0cd33954",
   "metadata": {},
   "outputs": [
    {
     "name": "stdout",
     "output_type": "stream",
     "text": [
      "================ Begin trainer sanity check ================\n",
      "\tInput to encode -> Twas brillig, and the slithy toves, Did gyre and gimble in the wabe, All mimsy were the borogoves, And the mome raths outgrabe.\n",
      "\tDecoded output -> Was the slithy tollies, And gibe did brimble and gibe, And wave\n",
      "================ End trainer sanity check ================\n"
     ]
    }
   ],
   "source": [
    "trainer.num_gen_recursive_steps = 20\n",
    "trainer.sanity_decode()"
   ]
  },
  {
   "cell_type": "code",
   "execution_count": 7,
   "id": "42bdc780-3b13-4a83-a2f7-dc6a6e7199cb",
   "metadata": {},
   "outputs": [
    {
     "data": {
      "text/plain": [
       "True"
      ]
     },
     "execution_count": 7,
     "metadata": {},
     "output_type": "execute_result"
    }
   ],
   "source": [
    "from models import CorrectorEncoderModel\n",
    "isinstance(trainer.model, CorrectorEncoderModel)"
   ]
  },
  {
   "cell_type": "code",
   "execution_count": 9,
   "id": "1076d5a5-094c-4d4c-ad1c-e74b9f563e66",
   "metadata": {},
   "outputs": [
    {
     "name": "stderr",
     "output_type": "stream",
     "text": [
      "  0%|                                                                                                                   | 0/19 [00:00<?, ?it/s]\n",
      "generating from val:   0%|                                                                                               | 0/4 [00:00<?, ?it/s]\u001b[A\n",
      "generating from val:  25%|█████████████████████▊                                                                 | 1/4 [00:01<00:03,  1.12s/it]\u001b[A\n",
      "generating from val:  50%|███████████████████████████████████████████▌                                           | 2/4 [00:02<00:02,  1.11s/it]\u001b[A\n",
      "generating from val:  75%|█████████████████████████████████████████████████████████████████▎                     | 3/4 [00:03<00:01,  1.02s/it]\u001b[A\n",
      "generating from val: 100%|███████████████████████████████████████████████████████████████████████████████████████| 4/4 [00:04<00:00,  1.03it/s]\u001b[A\n",
      "  5%|█████▋                                                                                                     | 1/19 [00:09<02:45,  9.19s/it]\u001b[A"
     ]
    },
    {
     "name": "stdout",
     "output_type": "stream",
     "text": [
      "[pred] to the character of the skull of the sutures, which are relatively smooth and untortuous of infant skulls. In fact, like those\n",
      "[true] to the character of the sutures of the skull which, like those of the infant skull, are relatively smooth and untortuous. In fact\n",
      "\n",
      "\n",
      "\n",
      "[pred] individual from the Southern Hemisphere to win a Winter Olympic gold medal, and was also part of the short track relay team that won Australia'\n",
      "[true] individual from the Southern Hemisphere, to win a Winter Olympic gold medal and was also part of the short track relay team that won Australia'\n",
      "\n",
      "\n",
      "\n",
      "[pred] the same rights as other people, while 15% agreed that they should be protected from discrimination. Among gay and straight workers, 63% disagreed and\n",
      "[true] the same rights as straight people, while 15% disagreed. Additionally, 69% agreed that they should be protected from workplace discrimination. 13% of H\n"
     ]
    },
    {
     "name": "stderr",
     "output_type": "stream",
     "text": [
      "\n",
      "generating from val:   0%|                                                                                               | 0/4 [00:00<?, ?it/s]\u001b[A\n",
      "generating from val:  25%|█████████████████████▊                                                                 | 1/4 [00:01<00:05,  1.70s/it]\u001b[A\n",
      "generating from val:  50%|███████████████████████████████████████████▌                                           | 2/4 [00:03<00:03,  1.54s/it]\u001b[A\n",
      "generating from val:  75%|█████████████████████████████████████████████████████████████████▎                     | 3/4 [00:04<00:01,  1.49s/it]\u001b[A\n",
      "generating from val: 100%|███████████████████████████████████████████████████████████████████████████████████████| 4/4 [00:05<00:00,  1.45s/it]\u001b[A\n",
      " 11%|███████████▎                                                                                               | 2/19 [00:20<02:52, 10.16s/it]\u001b[A"
     ]
    },
    {
     "name": "stdout",
     "output_type": "stream",
     "text": [
      "[pred] to the character of the sutures of the skull, which are relatively smooth and untortuous of an infant skull. In fact, like any\n",
      "[true] to the character of the sutures of the skull which, like those of the infant skull, are relatively smooth and untortuous. In fact\n",
      "\n",
      "\n",
      "\n",
      "[pred] individual from the Southern Hemisphere, to win a Winter Olympic gold medal and was also part of the short track relay team that won Australia'\n",
      "[true] individual from the Southern Hemisphere, to win a Winter Olympic gold medal and was also part of the short track relay team that won Australia'\n",
      "\n",
      "\n",
      "\n",
      "[pred] the same rights as other people, including straight, while 15% agreed that they should be protected from discrimination. Workplaces disagreed, 63% H\n",
      "[true] the same rights as straight people, while 15% disagreed. Additionally, 69% agreed that they should be protected from workplace discrimination. 13% of H\n"
     ]
    },
    {
     "name": "stderr",
     "output_type": "stream",
     "text": [
      "\n",
      "generating from val:   0%|                                                                                               | 0/4 [00:00<?, ?it/s]\u001b[A\n",
      "generating from val:  25%|█████████████████████▊                                                                 | 1/4 [00:01<00:05,  1.93s/it]\u001b[A\n",
      "generating from val:  50%|███████████████████████████████████████████▌                                           | 2/4 [00:04<00:04,  2.04s/it]\u001b[A\n",
      "generating from val:  75%|█████████████████████████████████████████████████████████████████▎                     | 3/4 [00:05<00:01,  1.99s/it]\u001b[A\n",
      "generating from val: 100%|███████████████████████████████████████████████████████████████████████████████████████| 4/4 [00:07<00:00,  1.94s/it]\u001b[A\n",
      " 16%|████████████████▉                                                                                          | 3/19 [00:33<03:03, 11.49s/it]\u001b[A"
     ]
    },
    {
     "name": "stdout",
     "output_type": "stream",
     "text": [
      "[pred] to that of the character of the sutures of the skull, which are relatively smooth and untortuous. In fact, like the infant skull\n",
      "[true] to the character of the sutures of the skull which, like those of the infant skull, are relatively smooth and untortuous. In fact\n",
      "\n",
      "\n",
      "\n",
      "[pred] individual from the Southern Hemisphere, to win a Winter Olympic gold medal and was also part of the short track relay team that won Australia'\n",
      "[true] individual from the Southern Hemisphere, to win a Winter Olympic gold medal and was also part of the short track relay team that won Australia'\n",
      "\n",
      "\n",
      "\n",
      "[pred] the same rights as straight people, while 15% agreed that they should be protected from discrimination. Other workplaces disagreed. 3%, including h\n",
      "[true] the same rights as straight people, while 15% disagreed. Additionally, 69% agreed that they should be protected from workplace discrimination. 13% of H\n"
     ]
    },
    {
     "name": "stderr",
     "output_type": "stream",
     "text": [
      "\n",
      "generating from val:   0%|                                                                                               | 0/4 [00:00<?, ?it/s]\u001b[A\n",
      "generating from val:  25%|█████████████████████▊                                                                 | 1/4 [00:02<00:08,  2.68s/it]\u001b[A\n",
      "generating from val:  50%|███████████████████████████████████████████▌                                           | 2/4 [00:05<00:05,  2.54s/it]\u001b[A\n",
      "generating from val:  75%|█████████████████████████████████████████████████████████████████▎                     | 3/4 [00:07<00:02,  2.59s/it]\u001b[A\n",
      "generating from val: 100%|███████████████████████████████████████████████████████████████████████████████████████| 4/4 [00:10<00:00,  2.50s/it]\u001b[A\n",
      " 21%|██████████████████████▌                                                                                    | 4/19 [00:48<03:14, 12.98s/it]\u001b[A"
     ]
    },
    {
     "name": "stdout",
     "output_type": "stream",
     "text": [
      "[pred] to the character of the sutures of the skull, which, in fact, are relatively smooth and untortuous. Like infant skulls,\n",
      "[true] to the character of the sutures of the skull which, like those of the infant skull, are relatively smooth and untortuous. In fact\n",
      "\n",
      "\n",
      "\n",
      "[pred] individual from the Southern Hemisphere, to win a Winter Olympic gold medal and was also part of the short track relay team that won Australia'\n",
      "[true] individual from the Southern Hemisphere, to win a Winter Olympic gold medal and was also part of the short track relay team that won Australia'\n",
      "\n",
      "\n",
      "\n",
      "[pred] the same rights as straight people, while 15% agreed they should be protected from discrimination. Additionally, 69% disagreed. Workplaces with h\n",
      "[true] the same rights as straight people, while 15% disagreed. Additionally, 69% agreed that they should be protected from workplace discrimination. 13% of H\n"
     ]
    },
    {
     "name": "stderr",
     "output_type": "stream",
     "text": [
      "\n",
      "generating from val:   0%|                                                                                               | 0/4 [00:00<?, ?it/s]\u001b[A\n",
      "generating from val:  25%|█████████████████████▊                                                                 | 1/4 [00:03<00:09,  3.12s/it]\u001b[A\n",
      "generating from val:  50%|███████████████████████████████████████████▌                                           | 2/4 [00:06<00:06,  3.00s/it]\u001b[A\n",
      "generating from val:  75%|█████████████████████████████████████████████████████████████████▎                     | 3/4 [00:09<00:03,  3.06s/it]\u001b[A\n",
      "generating from val: 100%|███████████████████████████████████████████████████████████████████████████████████████| 4/4 [00:12<00:00,  3.06s/it]\u001b[A\n",
      " 26%|████████████████████████████▏                                                                              | 5/19 [01:05<03:23, 14.54s/it]\u001b[A"
     ]
    },
    {
     "name": "stdout",
     "output_type": "stream",
     "text": [
      "[pred] to that of the character of the sutures of the skull, which, in fact, are relatively smooth and untortuous. Like the infant\n",
      "[true] to the character of the sutures of the skull which, like those of the infant skull, are relatively smooth and untortuous. In fact\n",
      "\n",
      "\n",
      "\n",
      "[pred] individual from the Southern Hemisphere, to win a Winter Olympic gold medal and was also part of the short track relay team that won Australia'\n",
      "[true] individual from the Southern Hemisphere, to win a Winter Olympic gold medal and was also part of the short track relay team that won Australia'\n",
      "\n",
      "\n",
      "\n",
      "[pred] the same rights as straight people, while 15% agreed they should be protected from discrimination. Additionally, 33% disagreed with this. Workplace h\n",
      "[true] the same rights as straight people, while 15% disagreed. Additionally, 69% agreed that they should be protected from workplace discrimination. 13% of H\n"
     ]
    },
    {
     "name": "stderr",
     "output_type": "stream",
     "text": [
      "\n",
      "generating from val:   0%|                                                                                               | 0/4 [00:00<?, ?it/s]\u001b[A\n",
      "generating from val:  25%|█████████████████████▊                                                                 | 1/4 [00:03<00:10,  3.44s/it]\u001b[A\n",
      "generating from val:  50%|███████████████████████████████████████████▌                                           | 2/4 [00:06<00:06,  3.43s/it]\u001b[A\n",
      "generating from val:  75%|█████████████████████████████████████████████████████████████████▎                     | 3/4 [00:10<00:03,  3.53s/it]\u001b[A\n",
      "generating from val: 100%|███████████████████████████████████████████████████████████████████████████████████████| 4/4 [00:13<00:00,  3.45s/it]\u001b[A\n",
      " 32%|█████████████████████████████████▊                                                                         | 6/19 [01:24<03:27, 15.97s/it]\u001b[A"
     ]
    },
    {
     "name": "stdout",
     "output_type": "stream",
     "text": [
      "[pred] to the character of the sutures of the skull, which, in fact, are relatively smooth and untortuous like those of infant skull.\n",
      "[true] to the character of the sutures of the skull which, like those of the infant skull, are relatively smooth and untortuous. In fact\n",
      "\n",
      "\n",
      "\n",
      "[pred] individual from the Southern Hemisphere, to win a Winter Olympic gold medal and was also part of the short track relay team that won Australia'\n",
      "[true] individual from the Southern Hemisphere, to win a Winter Olympic gold medal and was also part of the short track relay team that won Australia'\n",
      "\n",
      "\n",
      "\n",
      "[pred] the same rights as straight people, while 15% agreed they should be protected from discrimination. Additionally, 3% disagreed with this: Workplace H and\n",
      "[true] the same rights as straight people, while 15% disagreed. Additionally, 69% agreed that they should be protected from workplace discrimination. 13% of H\n"
     ]
    },
    {
     "name": "stderr",
     "output_type": "stream",
     "text": [
      "\n",
      "generating from val:   0%|                                                                                               | 0/4 [00:00<?, ?it/s]\u001b[A\n",
      "generating from val:  25%|█████████████████████▊                                                                 | 1/4 [00:04<00:12,  4.06s/it]\u001b[A\n",
      "generating from val:  50%|███████████████████████████████████████████▌                                           | 2/4 [00:08<00:08,  4.00s/it]\u001b[A\n",
      "generating from val:  75%|█████████████████████████████████████████████████████████████████▎                     | 3/4 [00:11<00:03,  3.98s/it]\u001b[A\n",
      "generating from val: 100%|███████████████████████████████████████████████████████████████████████████████████████| 4/4 [00:15<00:00,  3.92s/it]\u001b[A\n",
      " 37%|███████████████████████████████████████▍                                                                   | 7/19 [01:45<03:30, 17.58s/it]\u001b[A"
     ]
    },
    {
     "name": "stdout",
     "output_type": "stream",
     "text": [
      "[pred] to the character of the sutures of the skull, which, like those of the infant skull, are relatively smooth and untortuous. In\n",
      "[true] to the character of the sutures of the skull which, like those of the infant skull, are relatively smooth and untortuous. In fact\n",
      "\n",
      "\n",
      "\n",
      "[pred] individual from the Southern Hemisphere, to win a Winter Olympic gold medal and was also part of the short track relay team that won Australia'\n",
      "[true] individual from the Southern Hemisphere, to win a Winter Olympic gold medal and was also part of the short track relay team that won Australia'\n",
      "\n",
      "\n",
      "\n",
      "[pred] the same rights as straight people, while 15% disagreed. Additionally, 16% agreed they should be protected from workplace discrimination. Among other 15% H\n",
      "[true] the same rights as straight people, while 15% disagreed. Additionally, 69% agreed that they should be protected from workplace discrimination. 13% of H\n"
     ]
    },
    {
     "name": "stderr",
     "output_type": "stream",
     "text": [
      "\n",
      "generating from val:   0%|                                                                                               | 0/4 [00:00<?, ?it/s]\u001b[A\n",
      "generating from val:  25%|█████████████████████▊                                                                 | 1/4 [00:04<00:13,  4.64s/it]\u001b[A\n",
      "generating from val:  50%|███████████████████████████████████████████▌                                           | 2/4 [00:09<00:09,  4.54s/it]\u001b[A\n",
      "generating from val:  75%|█████████████████████████████████████████████████████████████████▎                     | 3/4 [00:13<00:04,  4.60s/it]\u001b[A\n",
      "generating from val: 100%|███████████████████████████████████████████████████████████████████████████████████████| 4/4 [00:18<00:00,  4.56s/it]\u001b[A\n",
      " 42%|█████████████████████████████████████████████                                                              | 8/19 [02:08<03:33, 19.39s/it]\u001b[A"
     ]
    },
    {
     "name": "stdout",
     "output_type": "stream",
     "text": [
      "[pred] to the character of the sutures of the skull, which, like those of the infant skull, are relatively smooth and untortuous. In\n",
      "[true] to the character of the sutures of the skull which, like those of the infant skull, are relatively smooth and untortuous. In fact\n",
      "\n",
      "\n",
      "\n",
      "[pred] individual from the Southern Hemisphere, to win a Winter Olympic gold medal and was also part of the short track relay team that won Australia'\n",
      "[true] individual from the Southern Hemisphere, to win a Winter Olympic gold medal and was also part of the short track relay team that won Australia'\n",
      "\n",
      "\n",
      "\n",
      "[pred] the same rights as straight people, while 15% disagreed. 33% agreed that they should be protected from workplace discrimination. Additionally, 96% of H\n",
      "[true] the same rights as straight people, while 15% disagreed. Additionally, 69% agreed that they should be protected from workplace discrimination. 13% of H\n"
     ]
    },
    {
     "name": "stderr",
     "output_type": "stream",
     "text": [
      "\n",
      "generating from val:   0%|                                                                                               | 0/4 [00:00<?, ?it/s]\u001b[A\n",
      "generating from val:  25%|█████████████████████▊                                                                 | 1/4 [00:04<00:14,  4.97s/it]\u001b[A\n",
      "generating from val:  50%|███████████████████████████████████████████▌                                           | 2/4 [00:09<00:09,  4.97s/it]\u001b[A\n",
      "generating from val:  75%|█████████████████████████████████████████████████████████████████▎                     | 3/4 [00:14<00:04,  4.98s/it]\u001b[A\n",
      "generating from val: 100%|███████████████████████████████████████████████████████████████████████████████████████| 4/4 [00:19<00:00,  4.90s/it]\u001b[A\n",
      " 47%|██████████████████████████████████████████████████▋                                                        | 9/19 [02:32<03:29, 20.92s/it]\u001b[A"
     ]
    },
    {
     "name": "stdout",
     "output_type": "stream",
     "text": [
      "[pred] to the character of the sutures of the skull, which, like those of the infant skull, are relatively smooth and untortuous. In\n",
      "[true] to the character of the sutures of the skull which, like those of the infant skull, are relatively smooth and untortuous. In fact\n",
      "\n",
      "\n",
      "\n",
      "[pred] individual from the Southern Hemisphere, to win a Winter Olympic gold medal and was also part of the short track relay team that won Australia'\n",
      "[true] individual from the Southern Hemisphere, to win a Winter Olympic gold medal and was also part of the short track relay team that won Australia'\n",
      "\n",
      "\n",
      "\n",
      "[pred] the same rights as straight people, while 15% disagreed. Additionally, 39% agreed they should be protected from workplace discrimination. 63% of H'\n",
      "[true] the same rights as straight people, while 15% disagreed. Additionally, 69% agreed that they should be protected from workplace discrimination. 13% of H\n"
     ]
    },
    {
     "name": "stderr",
     "output_type": "stream",
     "text": [
      "\n",
      "generating from val:   0%|                                                                                               | 0/4 [00:00<?, ?it/s]\u001b[A\n",
      "generating from val:  25%|█████████████████████▊                                                                 | 1/4 [00:05<00:17,  5.85s/it]\u001b[A\n",
      "generating from val:  50%|███████████████████████████████████████████▌                                           | 2/4 [00:11<00:11,  5.63s/it]\u001b[A\n",
      "generating from val:  75%|█████████████████████████████████████████████████████████████████▎                     | 3/4 [00:17<00:05,  5.65s/it]\u001b[A\n",
      "generating from val: 100%|███████████████████████████████████████████████████████████████████████████████████████| 4/4 [00:22<00:00,  5.57s/it]\u001b[A\n",
      " 53%|███████████████████████████████████████████████████████▊                                                  | 10/19 [02:59<03:25, 22.79s/it]\u001b[A"
     ]
    },
    {
     "name": "stdout",
     "output_type": "stream",
     "text": [
      "[pred] to the character of the sutures of the skull, which, like those of the infant skull, are relatively smooth and untortuous. In\n",
      "[true] to the character of the sutures of the skull which, like those of the infant skull, are relatively smooth and untortuous. In fact\n",
      "\n",
      "\n",
      "\n",
      "[pred] individual from the Southern Hemisphere, to win a Winter Olympic gold medal and was also part of the short track relay team that won Australia'\n",
      "[true] individual from the Southern Hemisphere, to win a Winter Olympic gold medal and was also part of the short track relay team that won Australia'\n",
      "\n",
      "\n",
      "\n",
      "[pred] the same rights as straight people, while 15% disagreed. Additionally, 93% agreed that they should be protected from workplace discrimination. 11% of H\n",
      "[true] the same rights as straight people, while 15% disagreed. Additionally, 69% agreed that they should be protected from workplace discrimination. 13% of H\n"
     ]
    },
    {
     "name": "stderr",
     "output_type": "stream",
     "text": [
      "\n",
      "generating from val:   0%|                                                                                               | 0/4 [00:00<?, ?it/s]\u001b[A\n",
      "generating from val:  25%|█████████████████████▊                                                                 | 1/4 [00:05<00:17,  5.94s/it]\u001b[A\n",
      "generating from val:  50%|███████████████████████████████████████████▌                                           | 2/4 [00:11<00:11,  5.93s/it]\u001b[A\n",
      "generating from val:  75%|█████████████████████████████████████████████████████████████████▎                     | 3/4 [00:17<00:05,  5.93s/it]\u001b[A\n",
      "generating from val: 100%|███████████████████████████████████████████████████████████████████████████████████████| 4/4 [00:23<00:00,  5.94s/it]\u001b[A\n",
      " 58%|█████████████████████████████████████████████████████████████▎                                            | 11/19 [03:28<03:15, 24.47s/it]\u001b[A"
     ]
    },
    {
     "name": "stdout",
     "output_type": "stream",
     "text": [
      "[pred] to the character of the sutures of the skull, which, like those of the infant skull, are relatively smooth and untortuous. In\n",
      "[true] to the character of the sutures of the skull which, like those of the infant skull, are relatively smooth and untortuous. In fact\n",
      "\n",
      "\n",
      "\n",
      "[pred] individual from the Southern Hemisphere, to win a Winter Olympic gold medal and was also part of the short track relay team that won Australia'\n",
      "[true] individual from the Southern Hemisphere, to win a Winter Olympic gold medal and was also part of the short track relay team that won Australia'\n",
      "\n",
      "\n",
      "\n",
      "[pred] the same rights as straight people, while 15% disagreed. Additionally, 39% agreed that they should be protected from workplace discrimination. 13% of H\n",
      "[true] the same rights as straight people, while 15% disagreed. Additionally, 69% agreed that they should be protected from workplace discrimination. 13% of H\n"
     ]
    },
    {
     "name": "stderr",
     "output_type": "stream",
     "text": [
      "\n",
      "generating from val:   0%|                                                                                               | 0/4 [00:00<?, ?it/s]\u001b[A\n",
      "generating from val:  25%|█████████████████████▊                                                                 | 1/4 [00:06<00:20,  6.73s/it]\u001b[A\n",
      "generating from val:  50%|███████████████████████████████████████████▌                                           | 2/4 [00:13<00:13,  6.63s/it]\u001b[A\n",
      "generating from val:  75%|█████████████████████████████████████████████████████████████████▎                     | 3/4 [00:19<00:06,  6.57s/it]\u001b[A\n",
      "generating from val: 100%|███████████████████████████████████████████████████████████████████████████████████████| 4/4 [00:26<00:00,  6.53s/it]\u001b[A\n",
      " 63%|██████████████████████████████████████████████████████████████████▉                                       | 12/19 [03:59<03:04, 26.43s/it]\u001b[A"
     ]
    },
    {
     "name": "stdout",
     "output_type": "stream",
     "text": [
      "[pred] to the character of the sutures of the skull, which, like those of the infant skull, are relatively smooth and untortuous. In\n",
      "[true] to the character of the sutures of the skull which, like those of the infant skull, are relatively smooth and untortuous. In fact\n",
      "\n",
      "\n",
      "\n",
      "[pred] individual from the Southern Hemisphere, to win a Winter Olympic gold medal and was also part of the short track relay team that won Australia'\n",
      "[true] individual from the Southern Hemisphere, to win a Winter Olympic gold medal and was also part of the short track relay team that won Australia'\n",
      "\n",
      "\n",
      "\n",
      "[pred] the same rights as straight people, while 15% disagreed. Additionally, 69% agreed that they should be protected from workplace discrimination. 13% of H\n",
      "[true] the same rights as straight people, while 15% disagreed. Additionally, 69% agreed that they should be protected from workplace discrimination. 13% of H\n"
     ]
    },
    {
     "name": "stderr",
     "output_type": "stream",
     "text": [
      "\n",
      "generating from val:   0%|                                                                                               | 0/4 [00:00<?, ?it/s]\u001b[A\n",
      "generating from val:  25%|█████████████████████▊                                                                 | 1/4 [00:07<00:21,  7.00s/it]\u001b[A\n",
      "generating from val:  50%|███████████████████████████████████████████▌                                           | 2/4 [00:13<00:13,  7.00s/it]\u001b[A\n",
      "generating from val:  75%|█████████████████████████████████████████████████████████████████▎                     | 3/4 [00:21<00:07,  7.02s/it]\u001b[A\n",
      "generating from val: 100%|███████████████████████████████████████████████████████████████████████████████████████| 4/4 [00:27<00:00,  6.93s/it]\u001b[A\n",
      " 68%|████████████████████████████████████████████████████████████████████████▌                                 | 13/19 [04:31<02:49, 28.25s/it]\u001b[A"
     ]
    },
    {
     "name": "stdout",
     "output_type": "stream",
     "text": [
      "[pred] to the character of the sutures of the skull, which, like those of the infant skull, are relatively smooth and untortuous. In\n",
      "[true] to the character of the sutures of the skull which, like those of the infant skull, are relatively smooth and untortuous. In fact\n",
      "\n",
      "\n",
      "\n",
      "[pred] individual from the Southern Hemisphere, to win a Winter Olympic gold medal and was also part of the short track relay team that won Australia'\n",
      "[true] individual from the Southern Hemisphere, to win a Winter Olympic gold medal and was also part of the short track relay team that won Australia'\n",
      "\n",
      "\n",
      "\n",
      "[pred] the same rights as straight people, while 15% disagreed. Additionally, 69% agreed that they should be protected from workplace discrimination. 13% of H\n",
      "[true] the same rights as straight people, while 15% disagreed. Additionally, 69% agreed that they should be protected from workplace discrimination. 13% of H\n"
     ]
    },
    {
     "name": "stderr",
     "output_type": "stream",
     "text": [
      "\n",
      "generating from val:   0%|                                                                                               | 0/4 [00:00<?, ?it/s]\u001b[A\n",
      "generating from val:  25%|█████████████████████▊                                                                 | 1/4 [00:07<00:22,  7.43s/it]\u001b[A\n",
      "generating from val:  50%|███████████████████████████████████████████▌                                           | 2/4 [00:14<00:14,  7.42s/it]\u001b[A\n",
      "generating from val:  75%|█████████████████████████████████████████████████████████████████▎                     | 3/4 [00:22<00:07,  7.42s/it]\u001b[A\n",
      "generating from val: 100%|███████████████████████████████████████████████████████████████████████████████████████| 4/4 [00:29<00:00,  7.31s/it]\u001b[A\n",
      " 74%|██████████████████████████████████████████████████████████████████████████████                            | 14/19 [05:05<02:30, 30.02s/it]\u001b[A"
     ]
    },
    {
     "name": "stdout",
     "output_type": "stream",
     "text": [
      "[pred] to the character of the sutures of the skull, which, like those of the infant skull, are relatively smooth and untortuous. In\n",
      "[true] to the character of the sutures of the skull which, like those of the infant skull, are relatively smooth and untortuous. In fact\n",
      "\n",
      "\n",
      "\n",
      "[pred] individual from the Southern Hemisphere, to win a Winter Olympic gold medal and was also part of the short track relay team that won Australia'\n",
      "[true] individual from the Southern Hemisphere, to win a Winter Olympic gold medal and was also part of the short track relay team that won Australia'\n",
      "\n",
      "\n",
      "\n",
      "[pred] the same rights as straight people, while 15% disagreed. Additionally, 69% agreed that they should be protected from workplace discrimination. 13% of H\n",
      "[true] the same rights as straight people, while 15% disagreed. Additionally, 69% agreed that they should be protected from workplace discrimination. 13% of H\n"
     ]
    },
    {
     "name": "stderr",
     "output_type": "stream",
     "text": [
      "\n",
      "generating from val:   0%|                                                                                               | 0/4 [00:00<?, ?it/s]\u001b[A\n",
      "generating from val:  25%|█████████████████████▊                                                                 | 1/4 [00:08<00:24,  8.20s/it]\u001b[A\n",
      "generating from val:  50%|███████████████████████████████████████████▌                                           | 2/4 [00:16<00:16,  8.09s/it]\u001b[A\n",
      "generating from val:  75%|█████████████████████████████████████████████████████████████████▎                     | 3/4 [00:24<00:08,  8.05s/it]\u001b[A\n",
      "generating from val: 100%|███████████████████████████████████████████████████████████████████████████████████████| 4/4 [00:31<00:00,  7.91s/it]\u001b[A\n",
      " 79%|███████████████████████████████████████████████████████████████████████████████████▋                      | 15/19 [05:42<02:08, 32.10s/it]\u001b[A"
     ]
    },
    {
     "name": "stdout",
     "output_type": "stream",
     "text": [
      "[pred] to the character of the sutures of the skull, which, like those of the infant skull, are relatively smooth and untortuous. In\n",
      "[true] to the character of the sutures of the skull which, like those of the infant skull, are relatively smooth and untortuous. In fact\n",
      "\n",
      "\n",
      "\n",
      "[pred] individual from the Southern Hemisphere, to win a Winter Olympic gold medal and was also part of the short track relay team that won Australia'\n",
      "[true] individual from the Southern Hemisphere, to win a Winter Olympic gold medal and was also part of the short track relay team that won Australia'\n",
      "\n",
      "\n",
      "\n",
      "[pred] the same rights as straight people, while 15% disagreed. Additionally, 69% agreed that they should be protected from workplace discrimination. 13% of H\n",
      "[true] the same rights as straight people, while 15% disagreed. Additionally, 69% agreed that they should be protected from workplace discrimination. 13% of H\n"
     ]
    },
    {
     "name": "stderr",
     "output_type": "stream",
     "text": [
      "\n",
      "generating from val:   0%|                                                                                               | 0/4 [00:00<?, ?it/s]\u001b[A\n",
      "generating from val:  25%|█████████████████████▊                                                                 | 1/4 [00:08<00:25,  8.43s/it]\u001b[A\n",
      "generating from val:  50%|███████████████████████████████████████████▌                                           | 2/4 [00:16<00:16,  8.45s/it]\u001b[A\n",
      "generating from val:  75%|█████████████████████████████████████████████████████████████████▎                     | 3/4 [00:25<00:08,  8.48s/it]\u001b[A\n",
      "generating from val: 100%|███████████████████████████████████████████████████████████████████████████████████████| 4/4 [00:33<00:00,  8.33s/it]\u001b[A\n",
      " 84%|█████████████████████████████████████████████████████████████████████████████████████████▎                | 16/19 [06:20<01:41, 34.00s/it]\u001b[A"
     ]
    },
    {
     "name": "stdout",
     "output_type": "stream",
     "text": [
      "[pred] to the character of the sutures of the skull, which, like those of the infant skull, are relatively smooth and untortuous. In\n",
      "[true] to the character of the sutures of the skull which, like those of the infant skull, are relatively smooth and untortuous. In fact\n",
      "\n",
      "\n",
      "\n",
      "[pred] individual from the Southern Hemisphere, to win a Winter Olympic gold medal and was also part of the short track relay team that won Australia'\n",
      "[true] individual from the Southern Hemisphere, to win a Winter Olympic gold medal and was also part of the short track relay team that won Australia'\n",
      "\n",
      "\n",
      "\n",
      "[pred] the same rights as straight people, while 15% disagreed. Additionally, 69% agreed that they should be protected from workplace discrimination. 13% of H\n",
      "[true] the same rights as straight people, while 15% disagreed. Additionally, 69% agreed that they should be protected from workplace discrimination. 13% of H\n"
     ]
    },
    {
     "name": "stderr",
     "output_type": "stream",
     "text": [
      "\n",
      "generating from val:   0%|                                                                                               | 0/4 [00:00<?, ?it/s]\u001b[A\n",
      "generating from val:  25%|█████████████████████▊                                                                 | 1/4 [00:08<00:26,  8.99s/it]\u001b[A\n",
      "generating from val:  50%|███████████████████████████████████████████▌                                           | 2/4 [00:18<00:18,  9.00s/it]\u001b[A\n",
      "generating from val:  75%|█████████████████████████████████████████████████████████████████▎                     | 3/4 [00:27<00:09,  9.12s/it]\u001b[A\n",
      "generating from val: 100%|███████████████████████████████████████████████████████████████████████████████████████| 4/4 [00:35<00:00,  8.95s/it]\u001b[A\n",
      " 89%|██████████████████████████████████████████████████████████████████████████████████████████████▊           | 17/19 [07:01<01:12, 36.07s/it]\u001b[A"
     ]
    },
    {
     "name": "stdout",
     "output_type": "stream",
     "text": [
      "[pred] to the character of the sutures of the skull, which, like those of the infant skull, are relatively smooth and untortuous. In\n",
      "[true] to the character of the sutures of the skull which, like those of the infant skull, are relatively smooth and untortuous. In fact\n",
      "\n",
      "\n",
      "\n",
      "[pred] individual from the Southern Hemisphere, to win a Winter Olympic gold medal and was also part of the short track relay team that won Australia'\n",
      "[true] individual from the Southern Hemisphere, to win a Winter Olympic gold medal and was also part of the short track relay team that won Australia'\n",
      "\n",
      "\n",
      "\n",
      "[pred] the same rights as straight people, while 15% disagreed. Additionally, 69% agreed that they should be protected from workplace discrimination. 13% of H\n",
      "[true] the same rights as straight people, while 15% disagreed. Additionally, 69% agreed that they should be protected from workplace discrimination. 13% of H\n"
     ]
    },
    {
     "name": "stderr",
     "output_type": "stream",
     "text": [
      "\n",
      "generating from val:   0%|                                                                                               | 0/4 [00:00<?, ?it/s]\u001b[A\n",
      "generating from val:  25%|█████████████████████▊                                                                 | 1/4 [00:09<00:28,  9.54s/it]\u001b[A\n",
      "generating from val:  50%|███████████████████████████████████████████▌                                           | 2/4 [00:19<00:19,  9.54s/it]\u001b[A\n",
      "generating from val:  75%|█████████████████████████████████████████████████████████████████▎                     | 3/4 [00:28<00:09,  9.58s/it]\u001b[A\n",
      "generating from val: 100%|███████████████████████████████████████████████████████████████████████████████████████| 4/4 [00:37<00:00,  9.40s/it]\u001b[A\n",
      " 95%|████████████████████████████████████████████████████████████████████████████████████████████████████▍     | 18/19 [07:44<00:38, 38.07s/it]\u001b[A"
     ]
    },
    {
     "name": "stdout",
     "output_type": "stream",
     "text": [
      "[pred] to the character of the sutures of the skull, which, like those of the infant skull, are relatively smooth and untortuous. In\n",
      "[true] to the character of the sutures of the skull which, like those of the infant skull, are relatively smooth and untortuous. In fact\n",
      "\n",
      "\n",
      "\n",
      "[pred] individual from the Southern Hemisphere, to win a Winter Olympic gold medal and was also part of the short track relay team that won Australia'\n",
      "[true] individual from the Southern Hemisphere, to win a Winter Olympic gold medal and was also part of the short track relay team that won Australia'\n",
      "\n",
      "\n",
      "\n",
      "[pred] the same rights as straight people, while 15% disagreed. Additionally, 69% agreed that they should be protected from workplace discrimination. 13% of H\n",
      "[true] the same rights as straight people, while 15% disagreed. Additionally, 69% agreed that they should be protected from workplace discrimination. 13% of H\n"
     ]
    },
    {
     "name": "stderr",
     "output_type": "stream",
     "text": [
      "\n",
      "generating from val:   0%|                                                                                               | 0/4 [00:00<?, ?it/s]\u001b[A\n",
      "generating from val:  25%|█████████████████████▊                                                                 | 1/4 [00:10<00:30, 10.20s/it]\u001b[A\n",
      "generating from val:  50%|███████████████████████████████████████████▌                                           | 2/4 [00:20<00:20, 10.10s/it]\u001b[A\n",
      "generating from val:  75%|█████████████████████████████████████████████████████████████████▎                     | 3/4 [00:30<00:10, 10.08s/it]\u001b[A\n",
      "generating from val: 100%|███████████████████████████████████████████████████████████████████████████████████████| 4/4 [00:39<00:00,  9.91s/it]\u001b[A\n",
      "100%|██████████████████████████████████████████████████████████████████████████████████████████████████████████| 19/19 [08:29<00:00, 26.81s/it]\u001b[A"
     ]
    },
    {
     "name": "stdout",
     "output_type": "stream",
     "text": [
      "[pred] to the character of the sutures of the skull, which, like those of the infant skull, are relatively smooth and untortuous. In\n",
      "[true] to the character of the sutures of the skull which, like those of the infant skull, are relatively smooth and untortuous. In fact\n",
      "\n",
      "\n",
      "\n",
      "[pred] individual from the Southern Hemisphere, to win a Winter Olympic gold medal and was also part of the short track relay team that won Australia'\n",
      "[true] individual from the Southern Hemisphere, to win a Winter Olympic gold medal and was also part of the short track relay team that won Australia'\n",
      "\n",
      "\n",
      "\n",
      "[pred] the same rights as straight people, while 15% disagreed. Additionally, 69% agreed that they should be protected from workplace discrimination. 13% of H\n",
      "[true] the same rights as straight people, while 15% disagreed. Additionally, 69% agreed that they should be protected from workplace discrimination. 13% of H\n"
     ]
    },
    {
     "name": "stderr",
     "output_type": "stream",
     "text": [
      "\n"
     ]
    }
   ],
   "source": [
    "from tqdm import trange\n",
    "\n",
    "all_metrics = []\n",
    "\n",
    "for R in trange(1, 20):\n",
    "    trainer.gen_kwargs = {\n",
    "        \"early_stopping\": False,\n",
    "        \"num_beams\": 1,\n",
    "        \"do_sample\": False,\n",
    "        \"no_repeat_ngram_size\": 0,\n",
    "    }\n",
    "    trainer.args.per_device_eval_batch_size = 128\n",
    "    trainer.num_gen_recursive_steps = R\n",
    "\n",
    "    metrics = trainer.evaluate(\n",
    "        eval_dataset=trainer.eval_dataset[\"nq\"]\n",
    "    )\n",
    "    metrics['num_rounds'] = R\n",
    "    all_metrics.append( metrics )"
   ]
  },
  {
   "cell_type": "code",
   "execution_count": 10,
   "id": "7eefbfbe-cdd1-48fa-b7b3-e1122d58e93f",
   "metadata": {},
   "outputs": [
    {
     "data": {
      "text/html": [
       "<div>\n",
       "<style scoped>\n",
       "    .dataframe tbody tr th:only-of-type {\n",
       "        vertical-align: middle;\n",
       "    }\n",
       "\n",
       "    .dataframe tbody tr th {\n",
       "        vertical-align: top;\n",
       "    }\n",
       "\n",
       "    .dataframe thead th {\n",
       "        text-align: right;\n",
       "    }\n",
       "</style>\n",
       "<table border=\"1\" class=\"dataframe\">\n",
       "  <thead>\n",
       "    <tr style=\"text-align: right;\">\n",
       "      <th></th>\n",
       "      <th>eval_loss</th>\n",
       "      <th>eval_token_set_precision</th>\n",
       "      <th>eval_token_set_recall</th>\n",
       "      <th>eval_token_set_f1</th>\n",
       "      <th>eval_bleu_score</th>\n",
       "      <th>eval_meteor_score</th>\n",
       "      <th>eval_rouge_score</th>\n",
       "      <th>eval_bert_score</th>\n",
       "      <th>eval_emb_cos_sim</th>\n",
       "      <th>eval_runtime</th>\n",
       "      <th>eval_samples_per_second</th>\n",
       "      <th>eval_steps_per_second</th>\n",
       "      <th>num_rounds</th>\n",
       "    </tr>\n",
       "  </thead>\n",
       "  <tbody>\n",
       "    <tr>\n",
       "      <th>0</th>\n",
       "      <td>0.676225</td>\n",
       "      <td>0.787206</td>\n",
       "      <td>0.801009</td>\n",
       "      <td>0.793409</td>\n",
       "      <td>48.597736</td>\n",
       "      <td>0.726691</td>\n",
       "      <td>0.770367</td>\n",
       "      <td>0.941142</td>\n",
       "      <td>0.953380</td>\n",
       "      <td>9.1905</td>\n",
       "      <td>54.404</td>\n",
       "      <td>0.435</td>\n",
       "      <td>1</td>\n",
       "    </tr>\n",
       "    <tr>\n",
       "      <th>1</th>\n",
       "      <td>0.676225</td>\n",
       "      <td>0.842962</td>\n",
       "      <td>0.855187</td>\n",
       "      <td>0.848535</td>\n",
       "      <td>58.166789</td>\n",
       "      <td>0.796306</td>\n",
       "      <td>0.830309</td>\n",
       "      <td>0.953395</td>\n",
       "      <td>0.962919</td>\n",
       "      <td>10.8411</td>\n",
       "      <td>46.121</td>\n",
       "      <td>0.369</td>\n",
       "      <td>2</td>\n",
       "    </tr>\n",
       "    <tr>\n",
       "      <th>2</th>\n",
       "      <td>0.676225</td>\n",
       "      <td>0.867732</td>\n",
       "      <td>0.878759</td>\n",
       "      <td>0.872764</td>\n",
       "      <td>63.835974</td>\n",
       "      <td>0.828833</td>\n",
       "      <td>0.856032</td>\n",
       "      <td>0.960708</td>\n",
       "      <td>0.970515</td>\n",
       "      <td>13.0629</td>\n",
       "      <td>38.276</td>\n",
       "      <td>0.306</td>\n",
       "      <td>3</td>\n",
       "    </tr>\n",
       "    <tr>\n",
       "      <th>3</th>\n",
       "      <td>0.676225</td>\n",
       "      <td>0.887651</td>\n",
       "      <td>0.897446</td>\n",
       "      <td>0.892094</td>\n",
       "      <td>67.767792</td>\n",
       "      <td>0.853166</td>\n",
       "      <td>0.881043</td>\n",
       "      <td>0.965027</td>\n",
       "      <td>0.973964</td>\n",
       "      <td>15.2744</td>\n",
       "      <td>32.735</td>\n",
       "      <td>0.262</td>\n",
       "      <td>4</td>\n",
       "    </tr>\n",
       "    <tr>\n",
       "      <th>4</th>\n",
       "      <td>0.676225</td>\n",
       "      <td>0.904891</td>\n",
       "      <td>0.912268</td>\n",
       "      <td>0.908215</td>\n",
       "      <td>71.093460</td>\n",
       "      <td>0.872434</td>\n",
       "      <td>0.895756</td>\n",
       "      <td>0.968542</td>\n",
       "      <td>0.976743</td>\n",
       "      <td>17.2942</td>\n",
       "      <td>28.911</td>\n",
       "      <td>0.231</td>\n",
       "      <td>5</td>\n",
       "    </tr>\n",
       "  </tbody>\n",
       "</table>\n",
       "</div>"
      ],
      "text/plain": [
       "   eval_loss  eval_token_set_precision  eval_token_set_recall   \n",
       "0   0.676225                  0.787206               0.801009  \\\n",
       "1   0.676225                  0.842962               0.855187   \n",
       "2   0.676225                  0.867732               0.878759   \n",
       "3   0.676225                  0.887651               0.897446   \n",
       "4   0.676225                  0.904891               0.912268   \n",
       "\n",
       "   eval_token_set_f1  eval_bleu_score  eval_meteor_score  eval_rouge_score   \n",
       "0           0.793409        48.597736           0.726691          0.770367  \\\n",
       "1           0.848535        58.166789           0.796306          0.830309   \n",
       "2           0.872764        63.835974           0.828833          0.856032   \n",
       "3           0.892094        67.767792           0.853166          0.881043   \n",
       "4           0.908215        71.093460           0.872434          0.895756   \n",
       "\n",
       "   eval_bert_score  eval_emb_cos_sim  eval_runtime  eval_samples_per_second   \n",
       "0         0.941142          0.953380        9.1905                   54.404  \\\n",
       "1         0.953395          0.962919       10.8411                   46.121   \n",
       "2         0.960708          0.970515       13.0629                   38.276   \n",
       "3         0.965027          0.973964       15.2744                   32.735   \n",
       "4         0.968542          0.976743       17.2942                   28.911   \n",
       "\n",
       "   eval_steps_per_second  num_rounds  \n",
       "0                  0.435           1  \n",
       "1                  0.369           2  \n",
       "2                  0.306           3  \n",
       "3                  0.262           4  \n",
       "4                  0.231           5  "
      ]
     },
     "execution_count": 10,
     "metadata": {},
     "output_type": "execute_result"
    }
   ],
   "source": [
    "import pandas as pd\n",
    "import seaborn as sns\n",
    "\n",
    "df = pd.DataFrame(all_metrics)\n",
    "df.head()"
   ]
  },
  {
   "cell_type": "code",
   "execution_count": 15,
   "id": "1572b399-8dcc-4405-a9b5-75db62079194",
   "metadata": {},
   "outputs": [
    {
     "data": {
      "text/plain": [
       "<Axes: xlabel='num_rounds'>"
      ]
     },
     "execution_count": 15,
     "metadata": {},
     "output_type": "execute_result"
    },
    {
     "data": {
      "image/png": "[encoded data removed]",
      "text/plain": [
       "<Figure size 640x480 with 1 Axes>"
      ]
     },
     "metadata": {},
     "output_type": "display_data"
    }
   ],
   "source": [
    "df.plot(x=\"num_rounds\", y=\"eval_bert_score\")"
   ]
  },
  {
   "cell_type": "code",
   "execution_count": 12,
   "id": "9080d1a3-532a-43a9-8cb8-342c200ec0d2",
   "metadata": {},
   "outputs": [
    {
     "data": {
      "text/plain": [
       "<Axes: xlabel='num_rounds'>"
      ]
     },
     "execution_count": 12,
     "metadata": {},
     "output_type": "execute_result"
    },
    {
     "data": {
      "image/png": "[encoded data removed]",
      "text/plain": [
       "<Figure size 640x480 with 1 Axes>"
      ]
     },
     "metadata": {},
     "output_type": "display_data"
    }
   ],
   "source": [
    "df.plot(x=\"num_rounds\", y=\"eval_emb_cos_sim\")"
   ]
  },
  {
   "cell_type": "code",
   "execution_count": 13,
   "id": "bddc7af6-de57-4b51-b572-1897155626aa",
   "metadata": {},
   "outputs": [
    {
     "data": {
      "text/plain": [
       "<Axes: xlabel='num_rounds'>"
      ]
     },
     "execution_count": 13,
     "metadata": {},
     "output_type": "execute_result"
    },
    {
     "data": {
      "image/png": "[encoded data removed]",
      "text/plain": [
       "<Figure size 640x480 with 1 Axes>"
      ]
     },
     "metadata": {},
     "output_type": "display_data"
    }
   ],
   "source": [
    "df.plot(x=\"num_rounds\", y=\"eval_token_set_f1\")"
   ]
  },
  {
   "cell_type": "code",
   "execution_count": null,
   "id": "3127a1b7-0409-4e32-abfb-22fdf58328e3",
   "metadata": {},
   "outputs": [],
   "source": []
  }
 ],
 "metadata": {
  "kernelspec": {
   "display_name": "Python 3 (ipykernel)",
   "language": "python",
   "name": "python3"
  },
  "language_info": {
   "codemirror_mode": {
    "name": "ipython",
    "version": 3
   },
   "file_extension": ".py",
   "mimetype": "text/x-python",
   "name": "python",
   "nbconvert_exporter": "python",
   "pygments_lexer": "ipython3",
   "version": "3.10.10"
  }
 },
 "nbformat": 4,
 "nbformat_minor": 5
}
