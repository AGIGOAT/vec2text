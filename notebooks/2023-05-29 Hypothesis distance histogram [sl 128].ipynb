{
 "cells": [
  {
   "cell_type": "code",
   "execution_count": 1,
   "id": "f42ad501-381b-4622-908e-c6b68f90668a",
   "metadata": {},
   "outputs": [],
   "source": [
    "%load_ext autoreload\n",
    "%autoreload 2"
   ]
  },
  {
   "cell_type": "code",
   "execution_count": 2,
   "id": "49fb137c-3ab3-49a7-aa6e-207528327484",
   "metadata": {},
   "outputs": [],
   "source": [
    "import os\n",
    "os.environ[\"WANDB_DISABLED\"] = \"true\"\n",
    "\n",
    "import sys\n",
    "# sys.path = ['/home/jxm3/research/retrieval/inversion'] + sys.path\n",
    "sys.path = [\n",
    "    p for p in sys.path\n",
    "    if p not in ['/home/jxm3/research/prompting/imodelsX', '/home/jxm3/research/prompting/tree-prompt']\n",
    "]\n",
    "sys.path.append('/home/jxm3/research/retrieval/inversion')"
   ]
  },
  {
   "cell_type": "code",
   "execution_count": 22,
   "id": "99f97c44-3095-449b-93af-c9220bf06b96",
   "metadata": {},
   "outputs": [
    {
     "name": "stdout",
     "output_type": "stream",
     "text": [
      "Loading trainer for analysis – setting --do_eval=1\n",
      "loading alias gtr_nq__msl128_beta from /home/jxm3/research/retrieval/inversion/saves/8631b1c05efebde3077d16c5b99f6d5e/dc72e8b9c01bd27b0ed1c2def90bcee5...\n",
      "Set train_args.dataloader_num_workers = 4\n"
     ]
    },
    {
     "data": {
      "application/vnd.jupyter.widget-view+json": {
       "model_id": "c8cdeecc87ce4cbda21b4b1b80581db6",
       "version_major": 2,
       "version_minor": 0
      },
      "text/plain": [
       "  0%|          | 0/2 [00:00<?, ?it/s]"
      ]
     },
     "metadata": {},
     "output_type": "display_data"
    },
    {
     "data": {
      "application/vnd.jupyter.widget-view+json": {
       "model_id": "5f20af26dad94ff5930ebb0a47dc33ea",
       "version_major": 2,
       "version_minor": 0
      },
      "text/plain": [
       "  0%|          | 0/3 [00:00<?, ?it/s]"
      ]
     },
     "metadata": {},
     "output_type": "display_data"
    },
    {
     "data": {
      "application/vnd.jupyter.widget-view+json": {
       "model_id": "caf0261417fc478eb82a6c2281fc6e91",
       "version_major": 2,
       "version_minor": 0
      },
      "text/plain": [
       "  0%|          | 0/3 [00:00<?, ?it/s]"
      ]
     },
     "metadata": {},
     "output_type": "display_data"
    },
    {
     "data": {
      "application/vnd.jupyter.widget-view+json": {
       "model_id": "54d6226a6e0a4341bfc4956ace1da266",
       "version_major": 2,
       "version_minor": 0
      },
      "text/plain": [
       "  0%|          | 0/3 [00:00<?, ?it/s]"
      ]
     },
     "metadata": {},
     "output_type": "display_data"
    },
    {
     "data": {
      "application/vnd.jupyter.widget-view+json": {
       "model_id": "d69236c6d1474205b8ef861bbaedf5cc",
       "version_major": 2,
       "version_minor": 0
      },
      "text/plain": [
       "  0%|          | 0/3 [00:00<?, ?it/s]"
      ]
     },
     "metadata": {},
     "output_type": "display_data"
    },
    {
     "name": "stderr",
     "output_type": "stream",
     "text": [
      "[nltk_data] Downloading package wordnet to /home/jxm3/nltk_data...\n",
      "[nltk_data]   Package wordnet is already up-to-date!\n",
      "[nltk_data] Downloading package punkt to /home/jxm3/nltk_data...\n",
      "[nltk_data]   Package punkt is already up-to-date!\n",
      "[nltk_data] Downloading package omw-1.4 to /home/jxm3/nltk_data...\n",
      "[nltk_data]   Package omw-1.4 is already up-to-date!\n"
     ]
    },
    {
     "name": "stdout",
     "output_type": "stream",
     "text": [
      "================ Begin trainer sanity check ================\n",
      "\tInput to encode -> Twas brillig, and the slithy toves, Did gyre and gimble in the wabe, All mimsy were the borogoves, And the mome raths outgrabe.\n",
      "\tDecoded output shape ->  torch.Size([1, 128])\n",
      "\tDecoded output -> The sloes, the snags, and the wybies were the motte, the tobbies, The wavy slags, And the gybes, were the martyres, But the tybe was the nags and the martes, And all the bluffs, blies, and bliths were wry. The mesty came to the ring, And sighed, And sang, And came to writhe, And\n",
      "================ End trainer sanity check ================\n",
      "Froze 342572160 params from model type <class 'models.inversion.InversionModel'>\n"
     ]
    },
    {
     "name": "stderr",
     "output_type": "stream",
     "text": [
      "[nltk_data] Downloading package wordnet to /home/jxm3/nltk_data...\n",
      "[nltk_data]   Package wordnet is already up-to-date!\n",
      "[nltk_data] Downloading package punkt to /home/jxm3/nltk_data...\n",
      "[nltk_data]   Package punkt is already up-to-date!\n",
      "[nltk_data] Downloading package omw-1.4 to /home/jxm3/nltk_data...\n",
      "[nltk_data]   Package omw-1.4 is already up-to-date!\n"
     ]
    }
   ],
   "source": [
    "# model info:\n",
    "#    https://wandb.ai/jack-morris/emb-correct-1/runs/b93343310fcbae26f80da608a9e07cbd/overview?workspace=user-jxmorris12\n",
    "#     abs       [in-progress sl 128 model, hasn't made it that far]\n",
    "#             path: saves/474c3cf5cfb8d281b0abee9041b6cb5a\n",
    "\n",
    "import analyze_utils\n",
    "\n",
    "checkpoint_folder = '/home/jxm3/research/retrieval/inversion/saves/474c3cf5cfb8d281b0abee9041b6cb5a'\n",
    "trainer = analyze_utils.load_trainer(checkpoint_folder, sanity_decode=False)"
   ]
  },
  {
   "cell_type": "markdown",
   "id": "cf11e3aa-c796-4586-ab3a-a810bc8ed2e6",
   "metadata": {},
   "source": [
    "## Visualize hypothesis distance"
   ]
  },
  {
   "cell_type": "code",
   "execution_count": 9,
   "id": "fbda8d6b-266e-45c8-81bf-ea39e1d6c663",
   "metadata": {},
   "outputs": [
    {
     "name": "stdout",
     "output_type": "stream",
     "text": [
      "Loading hypotheses from path /home/jxm3/research/retrieval/inversion/saves/8631b1c05efebde3077d16c5b99f6d5e/dc72e8b9c01bd27b0ed1c2def90bcee5/b6a7395774fafa6a965bc62eb29aa281/1db4edcafef34825_hypotheses.cache\n",
      "Loading hypotheses from path /home/jxm3/research/retrieval/inversion/saves/8631b1c05efebde3077d16c5b99f6d5e/dc72e8b9c01bd27b0ed1c2def90bcee5/b6a7395774fafa6a965bc62eb29aa281/2ec5fd83e6fff43c_hypotheses.cache\n",
      "Loading hypotheses from path /home/jxm3/research/retrieval/inversion/saves/8631b1c05efebde3077d16c5b99f6d5e/dc72e8b9c01bd27b0ed1c2def90bcee5/b6a7395774fafa6a965bc62eb29aa281/3575ad459a907cad_hypotheses.cache\n",
      "Loading hypotheses from path /home/jxm3/research/retrieval/inversion/saves/8631b1c05efebde3077d16c5b99f6d5e/dc72e8b9c01bd27b0ed1c2def90bcee5/b6a7395774fafa6a965bc62eb29aa281/cc9236cb401ac674_hypotheses.cache\n",
      "Loading hypotheses from path /home/jxm3/research/retrieval/inversion/saves/8631b1c05efebde3077d16c5b99f6d5e/dc72e8b9c01bd27b0ed1c2def90bcee5/b6a7395774fafa6a965bc62eb29aa281/23cfa384ef795d84_hypotheses.cache\n",
      "Loading hypotheses from path /home/jxm3/research/retrieval/inversion/saves/8631b1c05efebde3077d16c5b99f6d5e/dc72e8b9c01bd27b0ed1c2def90bcee5/b6a7395774fafa6a965bc62eb29aa281/6f6297dbb06f4530_hypotheses.cache\n",
      "Loading hypotheses from path /home/jxm3/research/retrieval/inversion/saves/8631b1c05efebde3077d16c5b99f6d5e/dc72e8b9c01bd27b0ed1c2def90bcee5/b6a7395774fafa6a965bc62eb29aa281/81d9ef45c907f42f_hypotheses.cache\n"
     ]
    }
   ],
   "source": [
    "trainer.precompute_hypotheses()"
   ]
  },
  {
   "cell_type": "code",
   "execution_count": 12,
   "id": "cbd6f066-ab8a-4dd0-9b0f-1f8f956db444",
   "metadata": {},
   "outputs": [
    {
     "data": {
      "application/vnd.jupyter.widget-view+json": {
       "model_id": "",
       "version_major": 2,
       "version_minor": 0
      },
      "text/plain": [
       "Map:   0%|          | 0/100000 [00:00<?, ? examples/s]"
      ]
     },
     "metadata": {},
     "output_type": "display_data"
    }
   ],
   "source": [
    "from typing import Dict\n",
    "import torch\n",
    "\n",
    "def add_distance_to_dataset(batch: Dict[str, torch.Tensor]) -> Dict[str, torch.Tensor]:\n",
    "    e1 = torch.tensor(batch[\"frozen_embeddings\"], device=\"cpu\")\n",
    "    e2 = torch.tensor(batch[\"hypothesis_embedding\"], device=\"cpu\")\n",
    "    batch[\"hypothesis_distance\"] = torch.nn.CosineSimilarity(dim=1)(e1, e2).cpu()\n",
    "    return batch\n",
    "\n",
    "ds_with_distances = trainer.train_dataset.select(range(10**5)).map(add_distance_to_dataset, batched=True, batch_size=4096)"
   ]
  },
  {
   "cell_type": "code",
   "execution_count": 18,
   "id": "ad50897e-987b-4299-b991-6f5735e6be93",
   "metadata": {},
   "outputs": [
    {
     "data": {
      "image/png": "[encoded data removed]",
      "text/plain": [
       "<Figure size 640x480 with 1 Axes>"
      ]
     },
     "metadata": {},
     "output_type": "display_data"
    }
   ],
   "source": [
    "import matplotlib.pyplot as plt\n",
    "import seaborn as sns\n",
    "\n",
    "# https://seaborn.pydata.org/generated/seaborn.displot.html#seaborn.displot\n",
    "ax = sns.histplot(ds_with_distances[\"hypothesis_distance\"], bins=150)\n",
    "\n",
    "ax.set_xlim([.6,1])\n",
    "ax.set_ylim([0, 3_000])\n",
    "ax.set_xlabel(\"Cosine distance from hypothesis to true embedding (sequence length 128)\")\n",
    "# ax.set_xscale(\"log\")\n",
    "\n",
    "# save to PDF\n",
    "plt.savefig(\"train_hypothesis_distance_sl128.pdf\", format=\"pdf\", bbox_inches=\"tight\") "
   ]
  },
  {
   "cell_type": "markdown",
   "id": "560963d7-026f-45d5-b82d-e84d24c2cc79",
   "metadata": {},
   "source": [
    "## Decoding test\n",
    "\n",
    "Need to always pad everything to max-length so we can decode variable-length texts and track the best ones we've seen."
   ]
  },
  {
   "cell_type": "code",
   "execution_count": 19,
   "id": "49226473-6661-4cf3-bf39-1d54ddfe8cc7",
   "metadata": {},
   "outputs": [
    {
     "name": "stdout",
     "output_type": "stream",
     "text": [
      "================ Begin trainer sanity check ================\n",
      "\tInput to encode -> Twas brillig, and the slithy toves, Did gyre and gimble in the wabe, All mimsy were the borogoves, And the mome raths outgrabe.\n",
      "IM.generate: {'early_stopping': False, 'num_beams': 1, 'do_sample': False, 'no_repeat_ngram_size': 0, 'max_length': 58}\n",
      "CE.generate: {'early_stopping': False, 'num_beams': 1, 'do_sample': False, 'no_repeat_ngram_size': 3, 'min_length': 1, 'max_length': 128}\n",
      "\tDecoded output shape ->  torch.Size([1, 128])\n",
      "\tDecoded output -> The slugs were the mbbies, the slurred mbeys, and the wygbey. The wry mbereys were tyres, And the gygbbey was a slithe, And all the nags were torpedoes, The nagbey swaddled, And threw, And did the luge, and did the marmoset. The wily mbire, the wily marmos\n",
      "================ End trainer sanity check ================\n"
     ]
    }
   ],
   "source": [
    "trainer.model.eval()\n",
    "trainer.sanity_decode()"
   ]
  },
  {
   "cell_type": "markdown",
   "id": "b1b5d8cd-40a4-45c0-87ad-21b8528b7872",
   "metadata": {},
   "source": [
    "## Multi-round test\n",
    "\n",
    "Our current model is getting around 11 BLEU. But does multi-round decoding help?"
   ]
  },
  {
   "cell_type": "code",
   "execution_count": 23,
   "id": "b2e703cd-772e-49eb-9321-e78d89eb4af3",
   "metadata": {},
   "outputs": [
    {
     "data": {
      "text/html": [
       "\n",
       "    <div>\n",
       "      \n",
       "      <progress value='16' max='8' style='width:300px; height:20px; vertical-align: middle;'></progress>\n",
       "      [8/8 01:02]\n",
       "    </div>\n",
       "    "
      ],
      "text/plain": [
       "<IPython.core.display.HTML object>"
      ]
     },
     "metadata": {},
     "output_type": "display_data"
    },
    {
     "name": "stderr",
     "output_type": "stream",
     "text": [
      "                                                                                                                                     \r"
     ]
    },
    {
     "name": "stdout",
     "output_type": "stream",
     "text": [
      "[pred] a fetus, and the fetus is slender and flattened, a characteristic of the mongoloid type. The morphological properties of the infant are often referred to as mongoloidized, a term that is used in reference to the tendency of the infant to have a small, flattened face, and the presence of a small, rounded skull in the infant. The fetal skull is also a source of the fetal epithelium, which is the internal structure of the skull, and the feta\n",
      "[true] to the character of the sutures of the skull which, like those of the infant skull, are relatively smooth and untortuous. In fact the Mongoloid presents so many physical traits which are associated with the late fetus or young infant that he has been called a fetalized, infantilized or pedomorphic type. Those who have carefully observed young babies may recall that the root of the nose is frequently flat or low as in Mongoloids, and that an internal epicanthic fold in such instances is usually present. The smaller number of individual head\n",
      "\n",
      "\n",
      "\n",
      "[pred] to win a winter Olympic medal for Australia in the Winter Olympic Games. Australia first entered the Winter Olympic Games in 1920, and won its first Winter Olympic medal in 1924. Australia was a member of the International Ice Hockey Federation from 1924 to 1932, and has competed in every Winter Olympic Games since then. Australia's first Winter Olympic medal was won in the men's sledge hockey event at the 1936 Winter Olympics. Australia's first gold medal in the men's sledge hockey event was won in the 1960 Winter Olympics. Australia has won the bronze medal in the men's \n",
      "[true] individual from the Southern Hemisphere, to win a Winter Olympic gold medal and was also part of the short track relay team that won Australia's first Winter Olympic medal (a bronze in 1994). Australia first competed in the Winter Olympic Games in 1936 and has taken part in every Winter Olympics since 1952. Australia first entered an ice hockey team in the 1960 Winter Olympics. It won its first Winter Olympic medal, a bronze, in 1994, and became the only southern hemisphere country to win Winter Olympic gold in 2002. Australia has competed in every Winter Paralympic Games, and has\n",
      "\n",
      "\n",
      "\n",
      "[pred] should be protected from discrimination. 53% of respondents said that they should be allowed to change their gender identity. 53% said that they should be allowed to change their gender identity. 53% said that they should be allowed to change their gender identity. 53% said that they should be allowed to change their gender identity. The same-sex couples should be protected from discrimination. Transgender people in Hungary According to the Human Rights Commission, a survey of 74,409 Hungarians found that transgender people (including heterosexuals, bisexuals, and transgender people) had\n",
      "[true] the same rights as straight people, while 15% disagreed. Additionally, 69% agreed that they should be protected from workplace discrimination. 13% of Hungarians, however, said that people who are in same-sex relationships should be charged as criminals, while 64% disagreed. As for transgender people, 60% agreed that they should have the same rights, 64% believed they should be protected from employment discrimination and a plurality of 48% believed they should be allowed to change their legal gender. LGBT rights in Hungary The rights of lesbian, gay, bisexual, transgender (\n",
      "{'eval_nq_loss': 2.2381510734558105, 'eval_nq_token_set_precision': 0.38146313634800444, 'eval_nq_token_set_recall': 0.5300918508757306, 'eval_nq_token_set_f1': 0.44065510304240757, 'eval_nq_bleu_score': 12.31909074137998, 'eval_nq_meteor_score': 0.3141892460460199, 'eval_nq_rouge_score': 0.4391905165162739, 'eval_nq_exact_match': 0.0, 'eval_nq_emb_cos_sim': 0.8787299394607544, 'eval_nq_runtime': 47.8316, 'eval_nq_samples_per_second': 10.453, 'eval_nq_steps_per_second': 0.167}\n"
     ]
    }
   ],
   "source": [
    "trainer.inversion_trainer.model.use_frozen_embeddings_as_input = True\n",
    "trainer.gen_kwargs = {\n",
    "    \"early_stopping\": False,\n",
    "    \"num_beams\": 1,\n",
    "    \"do_sample\": False,\n",
    "    \"no_repeat_ngram_size\": 0,\n",
    "}\n",
    "trainer.num_gen_recursive_steps = 1\n",
    "metrics = trainer.evaluate(\n",
    "    eval_dataset=trainer.eval_dataset[\"nq\"],\n",
    "    metric_key_prefix=\"eval_nq\",\n",
    ")\n",
    "print(metrics)"
   ]
  },
  {
   "cell_type": "code",
   "execution_count": 24,
   "id": "f6ee6297-e1c4-4166-a79a-58a90bc47834",
   "metadata": {},
   "outputs": [
    {
     "name": "stderr",
     "output_type": "stream",
     "text": [
      "                                                                                                                                     \r"
     ]
    },
    {
     "name": "stdout",
     "output_type": "stream",
     "text": [
      "[pred] a morphologically primitive type of infant, the morphological features of the infant are characterized by the presence of a small, flattened, and slender fetus, which is a characteristic of all monoids, and is also present in many other types of monoids. The fetus is often referred to as infantized, because the lateral and posterior surfaces of the skull are slender and flattened, and the posterior surface of the chin is slender and flattened. The lateral surface of the \n",
      "[true] to the character of the sutures of the skull which, like those of the infant skull, are relatively smooth and untortuous. In fact the Mongoloid presents so many physical traits which are associated with the late fetus or young infant that he has been called a fetalized, infantilized or pedomorphic type. Those who have carefully observed young babies may recall that the root of the nose is frequently flat or low as in Mongoloids, and that an internal epicanthic fold in such instances is usually present. The smaller number of individual head\n",
      "\n",
      "\n",
      "\n",
      "[pred] to win a Winter Olympic gold medal in the first Winter Olympic Games in 1960 and the first to win a Winter Olympic gold medal in the first Winter Olympic Games in 1960. Australia was part of the South American Hockey Union from 1924 to 1976 and the Australian Hockey League from 1976 to 1988. Australia's first Winter Olympic team was selected to compete in the Winter Olympics in 1980. Australia's first Winter Olympic medal came in the men's ice hockey event at the 1988 Winter Olympics. Australia won its first Winter Olympic medal in the men's ice hockey event at\n",
      "[true] individual from the Southern Hemisphere, to win a Winter Olympic gold medal and was also part of the short track relay team that won Australia's first Winter Olympic medal (a bronze in 1994). Australia first competed in the Winter Olympic Games in 1936 and has taken part in every Winter Olympics since 1952. Australia first entered an ice hockey team in the 1960 Winter Olympics. It won its first Winter Olympic medal, a bronze, in 1994, and became the only southern hemisphere country to win Winter Olympic gold in 2002. Australia has competed in every Winter Paralympic Games, and has\n",
      "\n",
      "\n",
      "\n",
      "[pred] same rights as heterosexuals. 53% of respondents said that they should be protected from harassment, while 33% said that they should be protected from discrimination. 53% said that they should be protected from discrimination, while 33% said that they should be protected from discrimination. 43% said that they should be protected from discrimination. LGBT rights in Hungary Lesbian, gay, bisexual, and transgender (LGBT) people in Hungary have the same rights as heterosexuals, but have different rights. The proportion of Hungarians who are openly gay is a little higher than the proportion\n",
      "[true] the same rights as straight people, while 15% disagreed. Additionally, 69% agreed that they should be protected from workplace discrimination. 13% of Hungarians, however, said that people who are in same-sex relationships should be charged as criminals, while 64% disagreed. As for transgender people, 60% agreed that they should have the same rights, 64% believed they should be protected from employment discrimination and a plurality of 48% believed they should be allowed to change their legal gender. LGBT rights in Hungary The rights of lesbian, gay, bisexual, transgender (\n",
      "{'eval_nq_loss': 2.2381510734558105, 'eval_nq_token_set_precision': 0.3801985915036878, 'eval_nq_token_set_recall': 0.5322002975587918, 'eval_nq_token_set_f1': 0.4400839689861278, 'eval_nq_bleu_score': 12.503080021368953, 'eval_nq_meteor_score': 0.3162588021270457, 'eval_nq_rouge_score': 0.4390969920578457, 'eval_nq_exact_match': 0.0, 'eval_nq_emb_cos_sim': 0.8786255121231079, 'eval_nq_runtime': 101.4022, 'eval_nq_samples_per_second': 4.931, 'eval_nq_steps_per_second': 0.079}\n"
     ]
    }
   ],
   "source": [
    "trainer.inversion_trainer.model.use_frozen_embeddings_as_input = True\n",
    "trainer.gen_kwargs = {\n",
    "    \"early_stopping\": False,\n",
    "    \"num_beams\": 1,\n",
    "    \"do_sample\": False,\n",
    "    \"no_repeat_ngram_size\": 0,\n",
    "}\n",
    "trainer.num_gen_recursive_steps = 5\n",
    "metrics = trainer.evaluate(\n",
    "    eval_dataset=trainer.eval_dataset[\"nq\"],\n",
    "    metric_key_prefix=\"eval_nq\",\n",
    ")\n",
    "print(metrics)"
   ]
  },
  {
   "cell_type": "code",
   "execution_count": null,
   "id": "5ace7640-4485-4509-90a9-be89c0661352",
   "metadata": {},
   "outputs": [],
   "source": []
  }
 ],
 "metadata": {
  "kernelspec": {
   "display_name": "Python 3 (ipykernel)",
   "language": "python",
   "name": "python3"
  },
  "language_info": {
   "codemirror_mode": {
    "name": "ipython",
    "version": 3
   },
   "file_extension": ".py",
   "mimetype": "text/x-python",
   "name": "python",
   "nbconvert_exporter": "python",
   "pygments_lexer": "ipython3",
   "version": "3.10.10"
  }
 },
 "nbformat": 4,
 "nbformat_minor": 5
}
