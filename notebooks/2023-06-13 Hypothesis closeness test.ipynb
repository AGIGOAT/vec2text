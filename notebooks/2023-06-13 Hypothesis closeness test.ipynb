{
 "cells": [
  {
   "cell_type": "code",
   "execution_count": 1,
   "id": "14a92f9d-c45b-4207-a0db-ffa03cef0e0c",
   "metadata": {},
   "outputs": [],
   "source": [
    "%load_ext autoreload\n",
    "%autoreload 2\n",
    "\n",
    "import os\n",
    "os.environ[\"WANDB_DISABLED\"] = \"true\"\n",
    "\n",
    "import sys\n",
    "sys.path = [\n",
    "    p for p in sys.path\n",
    "    if p not in ['/home/jxm3/research/prompting/imodelsX', '/home/jxm3/research/prompting/tree-prompt']\n",
    "]\n",
    "sys.path.append('/home/jxm3/research/retrieval/inversion')"
   ]
  },
  {
   "cell_type": "code",
   "execution_count": 2,
   "id": "46ecebef-b774-47cd-92a4-d75db6eb1b78",
   "metadata": {},
   "outputs": [
    {
     "name": "stdout",
     "output_type": "stream",
     "text": [
      "loading alias openai_msmarco__msl128__100epoch__correct_cheat from /home/jxm3/research/retrieval/inversion/saves/45e3f871f91d0fbf54bacb5593434409...\n",
      "loading alias openai_msmarco__msl128__100epoch from /home/jxm3/research/retrieval/inversion/saves/f9abd65db4c4823264b133816d08612f...\n"
     ]
    },
    {
     "name": "stderr",
     "output_type": "stream",
     "text": [
      "/home/jxm3/.conda/envs/torch/lib/python3.10/site-packages/transformers/models/t5/tokenization_t5_fast.py:155: FutureWarning: This tokenizer was incorrectly instantiated with a model max length of 512 which will be corrected in Transformers v5.\n",
      "For now, this behavior is kept to avoid breaking backwards compatibility when padding/encoding with `truncation is True`.\n",
      "- Be aware that you SHOULD NOT rely on t5-base automatically truncating your input to 512 when padding/encoding.\n",
      "- If you want to encode/pad to sequences longer than 512 you can either instantiate this tokenizer with `model_max_length` or pass `max_length` when encoding/padding.\n",
      "- To avoid this warning, please instantiate this tokenizer with `model_max_length` set to your preferred value.\n",
      "  warnings.warn(\n",
      "[nltk_data] Downloading package wordnet to /home/jxm3/nltk_data...\n",
      "[nltk_data]   Package wordnet is already up-to-date!\n",
      "[nltk_data] Downloading package punkt to /home/jxm3/nltk_data...\n",
      "[nltk_data]   Package punkt is already up-to-date!\n",
      "[nltk_data] Downloading package omw-1.4 to /home/jxm3/nltk_data...\n",
      "[nltk_data]   Package omw-1.4 is already up-to-date!\n",
      "/home/jxm3/.conda/envs/torch/lib/python3.10/site-packages/torch/utils/data/dataloader.py:560: UserWarning: This DataLoader will create 4 worker processes in total. Our suggested max number of worker in current system is 1, which is smaller than what this DataLoader is going to create. Please be aware that excessive worker creation might get DataLoader running slow or even freeze, lower the worker number to avoid potential slowness/freeze if necessary.\n",
      "  warnings.warn(_create_warning_msg(\n"
     ]
    },
    {
     "name": "stdout",
     "output_type": "stream",
     "text": [
      "================ Begin trainer sanity check ================\n",
      "\tInput to encode -> Twas brillig, and the slithy toves, Did gyre and gimble in the wabe, All mimsy were the borogoves, And the mome raths outgrabe.\n",
      "running manifest on text_list of length 1, first element 'Twas brillig, and the slithy toves, Did gyre and gimble in the wabe, All mimsy were the borogoves, And the mome raths outgrabe.'\n",
      "\tDecoded output shape ->  torch.Size([1, 69])\n",
      "\tDecoded output -> And the trolls, twilight, was smooty, And swiggy, smeared, And wispy, wisping, wily, wiz, wizz, wizzy, wizzie, wizy, wit.\n",
      "================ End trainer sanity check ================\n",
      "Froze 353779584 params from model type <class 'models.inversion.InversionModel'>\n"
     ]
    },
    {
     "name": "stderr",
     "output_type": "stream",
     "text": [
      "[nltk_data] Downloading package wordnet to /home/jxm3/nltk_data...\n",
      "[nltk_data]   Package wordnet is already up-to-date!\n",
      "[nltk_data] Downloading package punkt to /home/jxm3/nltk_data...\n",
      "[nltk_data]   Package punkt is already up-to-date!\n",
      "[nltk_data] Downloading package omw-1.4 to /home/jxm3/nltk_data...\n",
      "[nltk_data]   Package omw-1.4 is already up-to-date!\n"
     ]
    },
    {
     "name": "stdout",
     "output_type": "stream",
     "text": [
      "================ Begin trainer sanity check ================\n",
      "\tInput to encode -> Twas brillig, and the slithy toves, Did gyre and gimble in the wabe, All mimsy were the borogoves, And the mome raths outgrabe.\n",
      "running manifest on text_list of length 1, first element 'Twas brillig, and the slithy toves, Did gyre and gimble in the wabe, All mimsy were the borogoves, And the mome raths outgrabe.'\n",
      "running manifest on text_list of length 1, first element 'And the trolls, trolls, trolls, trolls, trolls, trolls, trolls, trolls, trolls, trolls, trolls,'\n",
      "running manifest on text_list of length 1, first element 'And the smoky glottis, wows, was tast wittily, wowes, wougs, wispy, woulds, trolls.'\n",
      "\tDecoded output shape ->  torch.Size([1, 58])\n",
      "\tDecoded output -> And the smoky glottis, wows, was tast wittily, wowes, wougs, wispy, woulds, trolls.\n",
      "================ End trainer sanity check ================\n",
      "Loading hypotheses from path /home/jxm3/research/retrieval/inversion/saves/f9abd65db4c4823264b133816d08612f/8d34a936d8e5905fe900d96ed65ec156/improved_hypotheses/0ed77465b20070e5_hypotheses.cache\n",
      "Loading hypotheses from path /home/jxm3/research/retrieval/inversion/saves/f9abd65db4c4823264b133816d08612f/8d34a936d8e5905fe900d96ed65ec156/fa5c492104fd5235_hypotheses.cache\n",
      "Loading hypotheses from path /home/jxm3/research/retrieval/inversion/saves/f9abd65db4c4823264b133816d08612f/8d34a936d8e5905fe900d96ed65ec156/927a7aa89af4e080_hypotheses.cache\n",
      "Loading hypotheses from path /home/jxm3/research/retrieval/inversion/saves/f9abd65db4c4823264b133816d08612f/8d34a936d8e5905fe900d96ed65ec156/d405c2908a2abede_hypotheses.cache\n",
      "Loading hypotheses from path /home/jxm3/research/retrieval/inversion/saves/f9abd65db4c4823264b133816d08612f/8d34a936d8e5905fe900d96ed65ec156/35c1eff11b4e82d2_hypotheses.cache\n",
      "\n"
     ]
    }
   ],
   "source": [
    "import aliases\n",
    "\n",
    "# inv_trainer = aliases.load_trainer_from_alias(\"openai_msmarco__msl128__100epoch\")\n",
    "corr_experiment, corr_trainer = aliases.load_experiment_and_trainer_from_alias(\"openai_msmarco__msl128__100epoch__correct_cheat\")\n",
    "inv_trainer = corr_trainer.inversion_trainer\n",
    "corr_trainer.precompute_hypotheses()\n",
    "corr_trainer.model.eval()\n",
    "print()"
   ]
  },
  {
   "cell_type": "code",
   "execution_count": 4,
   "id": "2bc7f62c-56fc-4d6f-ae84-17e9bfca56b9",
   "metadata": {},
   "outputs": [
    {
     "data": {
      "application/vnd.jupyter.widget-view+json": {
       "model_id": "",
       "version_major": 2,
       "version_minor": 0
      },
      "text/plain": [
       "Map:   0%|          | 0/100000 [00:00<?, ? examples/s]"
      ]
     },
     "metadata": {},
     "output_type": "display_data"
    }
   ],
   "source": [
    "from typing import Dict\n",
    "import torch\n",
    "\n",
    "\n",
    "def bleu(t1: torch.Tensor, t2: torch.Tensor) -> float:\n",
    "    s1 = corr_trainer.embedder_tokenizer.decode(t1, skip_special_tokens=True)\n",
    "    s2 = corr_trainer.embedder_tokenizer.decode(t2, skip_special_tokens=True)\n",
    "    result = corr_trainer.metric_bleu.compute(\n",
    "        predictions=[s1], references=[s2]\n",
    "    )\n",
    "    return result[\"score\"]\n",
    "\n",
    "def add_bleu_to_dataset(batch: Dict[str, torch.Tensor]) -> Dict[str, torch.Tensor]:\n",
    "    batch[\"hypothesis_bleu\"] = []\n",
    "    for input_ids, hypothesis_ids in zip(batch[\"input_ids\"], batch[\"hypothesis_input_ids\"]):\n",
    "        batch[\"hypothesis_bleu\"].append(\n",
    "            bleu(input_ids, hypothesis_ids)\n",
    "        )\n",
    "    batch[\"hypothesis_bleu\"] = torch.tensor(batch[\"hypothesis_bleu\"])\n",
    "\n",
    "    return batch\n",
    "\n",
    "ds_with_bleu = corr_trainer.train_dataset.select(range(10**5)).map(add_bleu_to_dataset, batched=True, batch_size=1024)"
   ]
  },
  {
   "cell_type": "code",
   "execution_count": 5,
   "id": "cf05a75a-0917-446b-8633-dd139d698667",
   "metadata": {},
   "outputs": [
    {
     "data": {
      "text/plain": [
       "Text(0.5, 1.0, 'Hypothesis BLEU scores')"
      ]
     },
     "execution_count": 5,
     "metadata": {},
     "output_type": "execute_result"
    },
    {
     "data": {
      "image/png": "[encoded data removed]",
      "text/plain": [
       "<Figure size 640x480 with 1 Axes>"
      ]
     },
     "metadata": {},
     "output_type": "display_data"
    }
   ],
   "source": [
    "import matplotlib.pyplot as plt\n",
    "import seaborn as sns\n",
    "\n",
    "# https://seaborn.pydata.org/generated/seaborn.displot.html#seaborn.displot\n",
    "ax = sns.histplot(ds_with_bleu[\"hypothesis_bleu\"], bins=25, color=sns.color_palette()[3])\n",
    "\n",
    "# ax.set_xlim([.85,1])\n",
    "# ax.set_ylim([0, 3_000])\n",
    "ax.set_xlabel(\"BLEU\")\n",
    "# ax.set_xscale(\"log\")\n",
    "\n",
    "ax.set_title(\"Hypothesis BLEU scores\")\n",
    "\n",
    "# save to PDF\n",
    "# plt.savefig(\"train_hypothesis_distance_sl128.pdf\", format=\"pdf\", bbox_inches=\"tight\") "
   ]
  },
  {
   "cell_type": "markdown",
   "id": "ede7d6af-4ecd-49ab-a9d8-1aaec9c4eacc",
   "metadata": {},
   "source": [
    "## multi-step eval"
   ]
  },
  {
   "cell_type": "code",
   "execution_count": 3,
   "id": "ee51f357-d8df-4493-b0f4-ffb9e3eb586e",
   "metadata": {},
   "outputs": [
    {
     "name": "stderr",
     "output_type": "stream",
     "text": [
      "/home/jxm3/.conda/envs/torch/lib/python3.10/site-packages/torch/utils/data/dataloader.py:560: UserWarning: This DataLoader will create 6 worker processes in total. Our suggested max number of worker in current system is 1, which is smaller than what this DataLoader is going to create. Please be aware that excessive worker creation might get DataLoader running slow or even freeze, lower the worker number to avoid potential slowness/freeze if necessary.\n",
      "  warnings.warn(_create_warning_msg(\n"
     ]
    },
    {
     "data": {
      "text/html": [
       "\n",
       "    <div>\n",
       "      \n",
       "      <progress value='40' max='8' style='width:300px; height:20px; vertical-align: middle;'></progress>\n",
       "      [8/8 12:48]\n",
       "    </div>\n",
       "    "
      ],
      "text/plain": [
       "<IPython.core.display.HTML object>"
      ]
     },
     "metadata": {},
     "output_type": "display_data"
    },
    {
     "name": "stderr",
     "output_type": "stream",
     "text": [
      "generating from val:   0%|                                                                                     | 0/8 [00:00<?, ?it/s]"
     ]
    },
    {
     "name": "stdout",
     "output_type": "stream",
     "text": [
      "running manifest on text_list of length 64, first element '*The parking lot will require the use of a separate parking space for the proposed use of the. building. [District Floor Plan: Use of existing floor plan space, dimensions, and/or permit requirements for each. subfloor/driveway will be provided in the Show/Submit Fee Schedule.'\n"
     ]
    },
    {
     "name": "stderr",
     "output_type": "stream",
     "text": [
      "generating from val:  12%|█████████▋                                                                   | 1/8 [00:03<00:25,  3.66s/it]"
     ]
    },
    {
     "name": "stdout",
     "output_type": "stream",
     "text": [
      "running manifest on text_list of length 64, first element '3. Download Android data recovery software on your Galaxy S4, S3, S4 or other mobile devices. 4. Once installed, launch the software to recover your data from your Android phone. You can also use it to get back your deleted files.'\n"
     ]
    },
    {
     "name": "stderr",
     "output_type": "stream",
     "text": [
      "generating from val:  25%|███████████████████▎                                                         | 2/8 [00:06<00:19,  3.20s/it]"
     ]
    },
    {
     "name": "stdout",
     "output_type": "stream",
     "text": [
      "running manifest on text_list of length 64, first element 'In addition to the income from the investment, a MLP also allows for the depreciation of assets from a source of income through partnerships, real estate, and construction. The MLP structure has been regulated for nearly 90 years. The MLP allows for a significant percentage of the assets to be passed on to the individual investor. To qualify for the MLP, an individual must have at least 70% of its assets from sources of income, such as real estate, construction, and tax-deferred interest income.'\n"
     ]
    },
    {
     "name": "stderr",
     "output_type": "stream",
     "text": [
      "generating from val:  38%|████████████████████████████▉                                                | 3/8 [00:09<00:14,  2.90s/it]"
     ]
    },
    {
     "name": "stdout",
     "output_type": "stream",
     "text": [
      "running manifest on text_list of length 64, first element 'The color blue is believed to be a slow-moving color and it is associated with the metabolism. Blues tend to calm down the human mind and cause relaxation. Blue is also believed to produce a deep calming effect.'\n"
     ]
    },
    {
     "name": "stderr",
     "output_type": "stream",
     "text": [
      "generating from val:  50%|██████████████████████████████████████▌                                      | 4/8 [00:11<00:10,  2.74s/it]"
     ]
    },
    {
     "name": "stdout",
     "output_type": "stream",
     "text": [
      "running manifest on text_list of length 64, first element 'I think the Pancho Beaches in the Philippines, with their white sand beaches, is in the top list. BANGALOR, GUALAMO, GUALAMO, CUALAMO. I also saw the Pancho Beaches in the world class, so their was not only so amazing.'\n"
     ]
    },
    {
     "name": "stderr",
     "output_type": "stream",
     "text": [
      "generating from val:  62%|████████████████████████████████████████████████▏                            | 5/8 [00:13<00:07,  2.58s/it]"
     ]
    },
    {
     "name": "stdout",
     "output_type": "stream",
     "text": [
      "running manifest on text_list of length 64, first element 'This is one of the most famous buildings in the world; it is the Tomb of the Champions. It is located in the center of Paris, just a few minutes away from the famous World Trade Center. It is the site of the famous famous Ritz-Carlton. It stands at a height of 319 meters and it is the tallest structure in the world. It was built in 1939 and was built as a bridge for the famous Paris Opera House. It does not require any special building permits; it is a spire that is surrounded by a cliff.'\n"
     ]
    },
    {
     "name": "stderr",
     "output_type": "stream",
     "text": [
      "generating from val:  75%|█████████████████████████████████████████████████████████▊                   | 6/8 [00:16<00:05,  2.58s/it]"
     ]
    },
    {
     "name": "stdout",
     "output_type": "stream",
     "text": [
      "running manifest on text_list of length 64, first element 'The GRE Self Study Book (with a budget of $20) You can learn a lot if youâre a seasoned LEARN. The only good recommendation: buy one book for just one book. If you want to save money, you might want to consider buying the GRE self study book too.'\n"
     ]
    },
    {
     "name": "stderr",
     "output_type": "stream",
     "text": [
      "generating from val:  88%|███████████████████████████████████████████████████████████████████▍         | 7/8 [00:18<00:02,  2.56s/it]"
     ]
    },
    {
     "name": "stdout",
     "output_type": "stream",
     "text": [
      "running manifest on text_list of length 52, first element 'But there was a moment in the book when he explains that he was the most famous shooter on American soil: Kyle's rifle was snubbed by an insurgent in Iraq, thereby helping him to defeat the snatchers. In the video, he describes how he swam down the pool with a snatcher.'\n"
     ]
    },
    {
     "name": "stderr",
     "output_type": "stream",
     "text": [
      "                                                                                                                                     \r"
     ]
    },
    {
     "name": "stdout",
     "output_type": "stream",
     "text": [
      "[pred] *The parking lot will require the use of a separate parking space for the proposed use of the. building. [District Floor Plan: Use of existing floor plan space, dimensions, and/or permit requirements for each. subfloor/driveway will be provided in the Show/Submit Fee Schedule.\n",
      "[true] *The use of the driveway as the required parking spaces will require a separate submittal for a Use Permit. [ ] Floor plan (dimensioned): Show overall building size, existing and proposed room locations, existing and. proposed new window(s)/door(s) size/location(s).\n",
      "\n",
      "\n",
      "\n",
      "[pred] Our illuminated Seville map is encapsulated in a map of each of our cities, enabling you to discover hidden gems of the city. Our enlightened Seville map also includes a map of the SEGA STREET, the central business district, the AIRPORT, the CORTESTA and the GARDENWAY.e encourage you to take advantage of our easy-to-use, fully accessible and fully accessible map of Seville, allowing you to explore the city in a completely uncluttered manner.\n",
      "[true] Our STREETWISE Seville Map enables you to explore each hidden corner of this enticing destination with a clearly defined map of the city, fully indexed and highlighted with hotels, parks and gardens, and places of interest. An inset of the center of Seville makes even the tiniest of alleyways navigable.rea maps of Cordoba, Grenada and Seville facilitate your entry into these three principal cities via auto, giving you the greatest freedom to experience all that is Southern Spain.\n",
      "\n",
      "\n",
      "\n",
      "[pred] aaa coupons 32 save aaa is an american travel organization with an average of 32 coupons for members save $ aaa offers savings on a variety of products and services from aaa to car insurance aaa com codes not only save money but also show more benefits and earn more with aaa com com\n",
      "[true] aaa coupon codes about aaa save an average of $ 32 with 26 coupon codes deals for aaa com aaa is a not for profit organization that lists the automobile clubs in the united states and offers travel benefits and automobile insurance to its members members review the aaa positively for its convenient travel benefits pricing of services and insurance claim policies shop aaa com show more show less\n",
      "running manifest on text_list of length 128, first element '*The parking lot will require the use of a separate parking space for the proposed use of the. building. [District Floor Plan: Use of existing floor plan space, dimensions, and/or permit requirements for each. subfloor/driveway will be provided in the Show/Submit Fee Schedule.'\n",
      "running manifest on text_list of length 128, first element '*The use of the driveway as the required parking spaces will require a separate submittal for a Use Permit. [ ] Floor plan (dimensioned): Show overall building size, existing and proposed room locations, existing and. proposed new window(s)/door(s) size/location(s).'\n"
     ]
    },
    {
     "data": {
      "text/plain": [
       "{'eval_loss': 1.925140142440796,\n",
       " 'eval_pred_num_tokens': 80.65625,\n",
       " 'eval_true_num_tokens': 80.859375,\n",
       " 'eval_token_set_precision': 0.5306075166380131,\n",
       " 'eval_token_set_recall': 0.6181320146541678,\n",
       " 'eval_token_set_f1': 0.5655370273875632,\n",
       " 'eval_bleu_score': 18.22941838538746,\n",
       " 'eval_meteor_score': 0.4322368810647787,\n",
       " 'eval_rouge_score': 0.5518874345017427,\n",
       " 'eval_exact_match': 0.006,\n",
       " 'eval_emb_cos_sim': 0.9555368423461914,\n",
       " 'eval_runtime': 36.739,\n",
       " 'eval_samples_per_second': 13.61,\n",
       " 'eval_steps_per_second': 0.218}"
      ]
     },
     "execution_count": 3,
     "metadata": {},
     "output_type": "execute_result"
    }
   ],
   "source": [
    "corr_trainer.num_gen_recursive_steps = 1\n",
    "corr_trainer.return_best_hypothesis = True\n",
    "\n",
    "corr_trainer.gen_kwargs = {\n",
    "    \"early_stopping\": False,\n",
    "    \"num_beams\": 1,\n",
    "    \"do_sample\": False,\n",
    "    \"no_repeat_ngram_size\": 0,\n",
    "}\n",
    "corr_trainer.evaluate(\n",
    "    eval_dataset=corr_trainer.eval_dataset[\"msmarco\"].select(range(500))\n",
    ")\n"
   ]
  },
  {
   "cell_type": "code",
   "execution_count": 4,
   "id": "6b99c617-a95b-45a4-a670-6ebcaf30c0fe",
   "metadata": {},
   "outputs": [
    {
     "name": "stderr",
     "output_type": "stream",
     "text": [
      "generating from val:   0%|                                                                                     | 0/8 [00:00<?, ?it/s]"
     ]
    },
    {
     "name": "stdout",
     "output_type": "stream",
     "text": [
      "running manifest on text_list of length 64, first element '*The parking lot will require the use of a separate parking space for the proposed use of the. building. [District Floor Plan: Use of existing floor plan space, dimensions, and/or permit requirements for each. subfloor/driveway will be provided in the Show/Submit Fee Schedule.'\n",
      "running manifest on text_list of length 64, first element '*The proposed use of the parking space will require a separate parking space for the. building. [District Floor Plan: Use of existing floor plan space, dimensions, and/or permit requirements for each. subfloor/driveway will be provided in the Show/Submit Fee Schedule.'\n",
      "running manifest on text_list of length 64, first element '*The proposed use of the parking space will require a separate parking space for the. building. [District Floor Plan: Use of existing floor plan space, dimensions, and/or permit requirements for each. subfloor/driveway will be provided in the Show/Submit Fee Schedule.'\n",
      "running manifest on text_list of length 64, first element '*The proposed use of the parking space will require a separate parking space for the. building. [District Floor Plan: Use of existing floor plan space, dimensions, and/or permit requirements for each. subfloor/driveway will be provided in the Show/Submit Fee Schedule.'\n",
      "running manifest on text_list of length 64, first element '*The proposed use of the parking space will require a separate parking space for the. building. [District Floor Plan: Use of existing floor plan space, dimensions, and/or permit requirements for each. subfloor/driveway will be provided in the Show/Submit Fee Schedule.'\n",
      "running manifest on text_list of length 64, first element '*The proposed use of the parking space will require a separate parking space for the. building. [District Floor Plan: Use of existing floor plan space, dimensions, and/or permit requirements for each. subfloor/driveway will be provided in the Show/Submit Fee Schedule.'\n",
      "running manifest on text_list of length 64, first element '*The proposed use of the parking space will require a separate parking space for the. building. [District Floor Plan: Use of existing floor plan space, dimensions, and/or permit requirements for each. subfloor/driveway will be provided in the Show/Submit Fee Schedule.'\n",
      "running manifest on text_list of length 64, first element '*The proposed use of the parking space will require a separate parking space for the. building. [District Floor Plan: Use of existing floor plan space, dimensions, and/or permit requirements for each. subfloor/driveway will be provided in the Show/Submit Fee Schedule.'\n",
      "running manifest on text_list of length 64, first element '*The proposed use of the parking space will require a separate parking space for the. building. [District Floor Plan: Use of existing floor plan space, dimensions, and/or permit requirements for each. subfloor/driveway will be provided in the Show/Submit Fee Schedule.'\n",
      "running manifest on text_list of length 64, first element '*The proposed use of the parking space will require a separate parking space for the. building. [District Floor Plan: Use of existing floor plan space, dimensions, and/or permit requirements for each. subfloor/driveway will be provided in the Show/Submit Fee Schedule.'\n"
     ]
    },
    {
     "name": "stderr",
     "output_type": "stream",
     "text": [
      "generating from val:  12%|█████████▋                                                                   | 1/8 [00:25<02:58, 25.53s/it]"
     ]
    },
    {
     "name": "stdout",
     "output_type": "stream",
     "text": [
      "running manifest on text_list of length 64, first element '3. Download Android data recovery software on your Galaxy S4, S3, S4 or other mobile devices. 4. Once installed, launch the software to recover your data from your Android phone. You can also use it to get back your deleted files.'\n",
      "running manifest on text_list of length 64, first element '3. Install Android data recovery software on your Galaxy S4, S3, S4 or other mobile devices. 4. Once installed, launch the software to recover your data from your Android phone. You can also use it to get back your deleted files.'\n",
      "running manifest on text_list of length 64, first element '3. Install Android data recovery software on your Galaxy S4, S3, S4 or other mobile devices. 4. Once installed, launch the software to get back your lost data (example your Android phone or computer).'\n",
      "running manifest on text_list of length 64, first element '3. Install Android data recovery software on your Galaxy S4, S3, S4 or other mobile devices. 4. Once installed, launch the software to get back your deleted data (example your Android phone or computer).'\n",
      "running manifest on text_list of length 64, first element '3. Install Android data recovery software on your Galaxy S4, S3, S4 or other mobile devices. 4. Once installed, launch the software to get back your deleted data (example your Android phone or computer).'\n",
      "running manifest on text_list of length 64, first element '3. Install Android data recovery software on your Galaxy S4, S3, S4 or other mobile devices. 4. Once installed, launch the software to get back your deleted data (example your Android phone or computer).'\n",
      "running manifest on text_list of length 64, first element '3. Install Android data recovery software on your Galaxy S4, S3, S4 or other mobile devices. 4. Once installed, launch the software to get back your deleted data (example your Android phone or computer).'\n",
      "running manifest on text_list of length 64, first element '3. Install Android data recovery software on your Galaxy S4, S3, S4 or other mobile devices. 4. Once installed, launch the software to get back your deleted data (example your Android phone or computer).'\n",
      "running manifest on text_list of length 64, first element '3. Install Android data recovery software on your Galaxy S4, S3, S4 or other mobile devices. 4. Once installed, launch the software to get back your deleted data (example your Android phone or computer).'\n",
      "running manifest on text_list of length 64, first element '3. Install Android data recovery software on your Galaxy S4, S3, S4 or other mobile devices. 4. Once installed, launch the software to get back your deleted data (example your Android phone or computer).'\n"
     ]
    },
    {
     "name": "stderr",
     "output_type": "stream",
     "text": [
      "generating from val:  25%|███████████████████▎                                                         | 2/8 [00:52<02:36, 26.13s/it]"
     ]
    },
    {
     "name": "stdout",
     "output_type": "stream",
     "text": [
      "running manifest on text_list of length 64, first element 'In addition to the income from the investment, a MLP also allows for the depreciation of assets from a source of income through partnerships, real estate, and construction. The MLP structure has been regulated for nearly 90 years. The MLP allows for a significant percentage of the assets to be passed on to the individual investor. To qualify for the MLP, an individual must have at least 70% of its assets from sources of income, such as real estate, construction, and tax-deferred interest income.'\n",
      "running manifest on text_list of length 64, first element 'In addition to the income from the investment, a MLP also allows for the depreciation of assets from a source of income through partnerships, such as real estate, construction, and leasing. The taxation of MLP assets has been a significant area of focus for the past 90 years. To qualify for the MLP, an investor must pass through at least 70% of its assets from sources of income, such as real estate, construction, and tax-deferred interest income.'\n",
      "running manifest on text_list of length 64, first element 'In addition to the income from the investment, a MLP also allows for the depreciation of assets from a source of income through partnerships, such as real estate, construction, and leasing. The structure of the MLP has been streamlined to allow for the efficient and efficient distribution of assets. MLP assets are generally tax-deferred. An individual or group of individuals must have at least 70% of its assets from sources of income, including real estate, construction, and leasing.'\n",
      "running manifest on text_list of length 64, first element 'In addition to the income from the investment, a MLP also allows for the depreciation of assets from a source of income through partnerships, such as real estate, construction, and leasing. The structure of the MLP has been streamlined to allow for the efficient and tax-efficient passing of the MLP tax pass. MLP assets are generally taxable to at least 90% of the taxpayers.'\n",
      "running manifest on text_list of length 64, first element 'In addition to the income from the investment, a MLP also allows for the depreciation of assets from a source of income through partnerships, such as real estate, construction, and leasing. The structure of the MLP has been streamlined to allow for the efficient and efficient passing of the 90-percent tax pass. MLP assets are generally sourced from individuals or families.'\n",
      "running manifest on text_list of length 64, first element 'In addition to qualifying for the tax pass, a MLP also allows for the depreciation of assets from a source of income through partnerships, such as real estate, construction, and leasing. The structure of the MLP has been streamlined to allow for the efficient and efficient transfer of assets from an individual or family to an entity. MLP assets are generally over 90 percent depreciable.'\n",
      "running manifest on text_list of length 64, first element 'In addition to qualifying for the tax pass, a MLP also allows for the depreciation of assets from a source of income through partnerships, such as real estate investment and investment. The structure of the MLP has been streamlined to allow for the efficient and efficient transfer of assets from an individual or family to an entity. MLP assets are generally over 90 percent depreciable.'\n",
      "running manifest on text_list of length 64, first element 'In addition to qualifying for the tax pass, a MLP also allows for the depreciation of assets from a source of income through partnerships, such as real estate investment and investment. The structure of the MLP has been streamlined to allow for the efficient and efficient transfer of assets from an individual or family to an entity. MLP assets are generally over 90-65% of the assets of the investor.'\n",
      "running manifest on text_list of length 64, first element 'In addition to qualifying for the tax pass, a MLP also allows for the depreciation of assets from a source of income through partnerships, such as real estate investment and investment. The structure of the MLP has been streamlined to allow for the efficient and efficient transfer of assets from an individual or family to an entity. MLP assets are generally over 90-65% of the assets of the investor.'\n",
      "running manifest on text_list of length 64, first element 'In addition to qualifying for the tax pass, a MLP also allows for the depreciation of assets from a source of income through partnerships, such as real estate investment and investment. The structure of the MLP has been streamlined to allow for the efficient and efficient transfer of assets from an individual or family to an entity. MLP assets are generally over 90-65% of the assets of the investor.'\n"
     ]
    },
    {
     "name": "stderr",
     "output_type": "stream",
     "text": [
      "generating from val:  38%|████████████████████████████▉                                                | 3/8 [01:18<02:12, 26.42s/it]"
     ]
    },
    {
     "name": "stdout",
     "output_type": "stream",
     "text": [
      "running manifest on text_list of length 64, first element 'The color blue is believed to be a slow-moving color and it is associated with the metabolism. Blues tend to calm down the human mind and cause relaxation. Blue is also believed to produce a deep calming effect.'\n",
      "running manifest on text_list of length 64, first element 'The color blue is believed to be a slow-moving color and it is associated with metabolic efficiency and calmness. Blues tend to calm the human mind and cause deep relaxation, which is believed to produce a calm emotion.'\n",
      "running manifest on text_list of length 64, first element 'The color blue is believed to slow down the metabolism and calmness and it is associated with metabolic efficiency. Blue is often thought to produce a deep understanding of the human mind, which is associated with calmness and warmth.'\n",
      "running manifest on text_list of length 64, first element 'The color blue is believed to slow down the processing of emotions and it is associated with metabolic efficiency. Blue is often thought to produce a deep understanding of the human mind, which is associated with calmness and warmth.'\n",
      "running manifest on text_list of length 64, first element 'The color blue is believed to slow down the metabolism and it is associated with calmness and metabolic efficiency. Blue is often thought to produce a deep understanding of the human mind, which is why it is so popular.'\n",
      "running manifest on text_list of length 64, first element 'The color blue is believed to slow down the brain and it is associated with calmness and metabolic efficiency. Blue is often thought to produce a deep understanding of the human mind, which is why it is so popular.'\n",
      "running manifest on text_list of length 64, first element 'The color blue is believed to calm the human mind and it is associated with calmness and metabolic efficiency. Blue is often thought to produce a warm sensation which is due to the deepness of its color.'\n",
      "running manifest on text_list of length 64, first element 'The color blue is believed to slow down the human mind and it is associated with calmness and metabolic efficiency. Blue is often thought to produce a warm sensation which is a symbol of deepening and depression.'\n",
      "running manifest on text_list of length 64, first element 'The color blue is believed to slow down the human mind and it is associated with calmness and metabolic efficiency. Blue is often thought to produce a warm sensation which is a symbol of enlightenment and depression.'\n",
      "running manifest on text_list of length 64, first element 'The color blue is believed to slow down the human mind since it is associated with calmness and metabolic efficiency. Blue is often thought to produce a warm sensation which is a symbol of enlightenment and calmness.'\n"
     ]
    },
    {
     "name": "stderr",
     "output_type": "stream",
     "text": [
      "generating from val:  50%|██████████████████████████████████████▌                                      | 4/8 [01:42<01:41, 25.39s/it]"
     ]
    },
    {
     "name": "stdout",
     "output_type": "stream",
     "text": [
      "running manifest on text_list of length 64, first element 'I think the Pancho Beaches in the Philippines, with their white sand beaches, is in the top list. BANGALOR, GUALAMO, GUALAMO, CUALAMO. I also saw the Pancho Beaches in the world class, so their was not only so amazing.'\n",
      "running manifest on text_list of length 64, first element 'I think the Pancho Beaches in the Philippines, with their white sand beaches, is in the top list. BANGALOR, GUALAMO, GUALAMO, CUALAMO. I also saw the Pancho Island in the world class, so their was not only so amazing.'\n",
      "running manifest on text_list of length 64, first element 'I think the Pancho Beaches in the Philippines, with their white sand beaches, is in the top list. BANGALOR, GUALAMO, GUALAMO, CUALAMO. I also saw the Pancho Island in the world class, so their was not only so amazing.'\n",
      "running manifest on text_list of length 64, first element 'I think the Pancho Beaches in the Philippines, with their white sand beaches, is in the top list. BANGALOR, GUALAMO, GUALAMO, CUALAMO. I also saw the Pancho Island in the world class, so their was not only so amazing.'\n",
      "running manifest on text_list of length 64, first element 'I think the Pancho Beaches in the Philippines, with their white sand beaches, is in the top list. BANGALOR, GUALAMO, GUALAMO, CUALAMO. I also saw the Pancho Island in the world class, so their was not only so amazing.'\n",
      "running manifest on text_list of length 64, first element 'I think the Pancho Beaches in the Philippines, with their white sand beaches, is in the top list. BANGALOR, GUALAMO, GUALAMO, CUALAMO. I also saw the Pancho Island in the world class, so their was not only so amazing.'\n",
      "running manifest on text_list of length 64, first element 'I think the Pancho Beaches in the Philippines, with their white sand beaches, is in the top list. BANGALOR, GUALAMO, GUALAMO, CUALAMO. I also saw the Pancho Island in the world class, so their was not only so amazing.'\n",
      "running manifest on text_list of length 64, first element 'I think the Pancho Beaches in the Philippines, with their white sand beaches, is in the top list. BANGALOR, GUALAMO, GUALAMO, CUALAMO. I also saw the Pancho Island in the world class, so their was not only so amazing.'\n",
      "running manifest on text_list of length 64, first element 'I think the Pancho Beaches in the Philippines, with their white sand beaches, is in the top list. BANGALOR, GUALAMO, GUALAMO, CUALAMO. I also saw the Pancho Island in the world class, so their was not only so amazing.'\n",
      "running manifest on text_list of length 64, first element 'I think the Pancho Beaches in the Philippines, with their white sand beaches, is in the top list. BANGALOR, GUALAMO, GUALAMO, CUALAMO. I also saw the Pancho Island in the world class, so their was not only so amazing.'\n"
     ]
    },
    {
     "name": "stderr",
     "output_type": "stream",
     "text": [
      "generating from val:  62%|████████████████████████████████████████████████▏                            | 5/8 [02:16<01:25, 28.34s/it]"
     ]
    },
    {
     "name": "stdout",
     "output_type": "stream",
     "text": [
      "running manifest on text_list of length 64, first element 'This is one of the most famous buildings in the world; it is the Tomb of the Champions. It is located in the center of Paris, just a few minutes away from the famous World Trade Center. It is the site of the famous famous Ritz-Carlton. It stands at a height of 319 meters and it is the tallest structure in the world. It was built in 1939 and was built as a bridge for the famous Paris Opera House. It does not require any special building permits; it is a spire that is surrounded by a cliff.'\n",
      "running manifest on text_list of length 64, first element 'This is one of the most famous buildings in the world; it is the Tomb of the Champions. It is located in the center of Paris, just a few minutes away from the famous World Trade Center. It is the site of Katie Holmesâ famous proposal to build the World Trade Center. It stands at a height of 319 meters and it is the tallest structure in the world. It does not require any special building permits; it is almost 50 meters high.'\n",
      "running manifest on text_list of length 64, first element 'This is one of the most famous buildings in the world; it is the Tomb of the Champs-lyses. It stands just over three meters high on the famous plane that flew to the site of Katie Holmesâ famous proposal to build the World Trade Center. It is a natural place for the spectators and it is the tallest structure in the world. It does not require any special building permits; it is almost 50 meters high.'\n",
      "running manifest on text_list of length 64, first element 'This is one of the most famous buildings in the world; it is the Tomb of the Champs-lyses. It stands just over three meters high on the famous plane that flew to the site of Katie Holmesâ famous proposal to build the World Trade Center. It is a natural place for the spectators and it is the tallest structure in the world. It does not require any special building permits; it is almost 50 meters high.'\n",
      "running manifest on text_list of length 64, first element 'This is one of the most famous buildings in the world; it is the Tomb of the Champs-lyses. It stands just over three meters high on the famous plane that flew to the site of Katie Holmesâ famous proposal to build the World Trade Center. It is a natural place for the spectators and it is the tallest structure in the world. It does not require any special building permits; it is almost 50 meters high.'\n",
      "running manifest on text_list of length 64, first element 'This is one of the most famous buildings in the world; it is the Tomb of the Champs-lyses. It stands just over three meters high on the famous plane that flew to the site of Katie Holmesâ famous proposal to build the World Trade Center. It is a natural place for the spectators and it is the tallest structure in the world. It does not require any special building permits; it is almost 50 meters high.'\n",
      "running manifest on text_list of length 64, first element 'This is one of the most famous buildings in the world; it is the Tomb of the Champs-lyses. It stands just over three meters high on the famous plane that flew to the site of Katie Holmesâ famous proposal to build the World Trade Center. It is a natural place for the spectators and it is the tallest structure in the world. It does not require any special building permits; it is almost 50 meters high.'\n",
      "running manifest on text_list of length 64, first element 'This is one of the most famous buildings in the world; it is the Tomb of the Champs-lyses. It stands just over three meters high on the famous plane that flew to the site of Katie Holmesâ famous proposal to build the World Trade Center. It is a natural place for the spectators and it is the tallest structure in the world. It does not require any special building permits; it is almost 50 meters high.'\n",
      "running manifest on text_list of length 64, first element 'This is one of the most famous buildings in the world; it is the Tomb of the Champs-lyses. It stands just over three meters high on the famous plane that flew to the site of Katie Holmesâ famous proposal to build the World Trade Center. It is a natural place for the spectators and it is the tallest structure in the world. It does not require any special building permits; it is almost 50 meters high.'\n",
      "running manifest on text_list of length 64, first element 'This is one of the most famous buildings in the world; it is the Tomb of the Champs-lyses. It stands just over three meters high on the famous plane that flew to the site of Katie Holmesâ famous proposal to build the World Trade Center. It is a natural place for the spectators and it is the tallest structure in the world. It does not require any special building permits; it is almost 50 meters high.'\n"
     ]
    },
    {
     "name": "stderr",
     "output_type": "stream",
     "text": [
      "generating from val:  75%|█████████████████████████████████████████████████████████▊                   | 6/8 [02:42<00:55, 27.57s/it]"
     ]
    },
    {
     "name": "stdout",
     "output_type": "stream",
     "text": [
      "running manifest on text_list of length 64, first element 'The GRE Self Study Book (with a budget of $20) You can learn a lot if youâre a seasoned LEARN. The only good recommendation: buy one book for just one book. If you want to save money, you might want to consider buying the GRE self study book too.'\n",
      "running manifest on text_list of length 64, first element 'The GRE Self Study Book (with a budget of $20) You can learn a lot if youâre a seasoned LEARN. The only good recommendation: buy one book for just $20. You probably wonât spend more than $120 to read this book, but you might want to pick up the book.'\n",
      "running manifest on text_list of length 64, first element 'The GRE Self Study Book (with a budget of $20) You can learn a lot if you only plan to take one GRE grad LEARN. The only good recommendation: buy one book for less than $20. You probably wonât spend more than $120 to pick up the book.'\n",
      "running manifest on text_list of length 64, first element 'The GRE Self Study Book (with a budget of $20) You can learn a lot if you only plan to take one GRE grad LEARN. The cost is just too good to be true: buy one book for less than $20 and you probably wonât spend more than $120 to pick up the book.'\n",
      "running manifest on text_list of length 64, first element 'The GRE Self Study Book (with a budget of $20) You can learn a lot if you only plan to take one GRE grad LEARN. The cost is just too good to be true: buy one book for less than $20 and you probably wonât spend more than $120 to pick up the book.'\n",
      "running manifest on text_list of length 64, first element 'The GRE Self Study Book (with a budget of $20) You can learn a lot if you only plan to take one GRE grad LEARN. The cost is just too good to be true: buy one book for less than $20 and you probably wonât spend more than $120 to pick up the book.'\n",
      "running manifest on text_list of length 64, first element 'The GRE Self Study Book (with a budget of $20) You can learn a lot if you only plan to take one GRE grad LEARN. The cost is just too good to be true: buy one book for less than $20 and you probably wonât spend more than $120 to pick up the book.'\n",
      "running manifest on text_list of length 64, first element 'The GRE Self Study Book (with a budget of $20) You can learn a lot if you only plan to take one GRE grad LEARN. The cost is just too good to be true: buy one book for less than $20 and you probably wonât spend more than $120 to pick up the book.'\n",
      "running manifest on text_list of length 64, first element 'The GRE Self Study Book (with a budget of $20) You can learn a lot if you only plan to take one GRE grad LEARN. The cost is just too good to be true: buy one book for less than $20 and you probably wonât spend more than $120 to pick up the book.'\n",
      "running manifest on text_list of length 64, first element 'The GRE Self Study Book (with a budget of $20) You can learn a lot if you only plan to take one GRE grad LEARN. The cost is just too good to be true: buy one book for less than $20 and you probably wonât spend more than $120 to pick up the book.'\n"
     ]
    },
    {
     "name": "stderr",
     "output_type": "stream",
     "text": [
      "generating from val:  88%|███████████████████████████████████████████████████████████████████▍         | 7/8 [03:07<00:26, 26.95s/it]"
     ]
    },
    {
     "name": "stdout",
     "output_type": "stream",
     "text": [
      "running manifest on text_list of length 52, first element 'But there was a moment in the book when he explains that he was the most famous shooter on American soil: Kyle's rifle was snubbed by an insurgent in Iraq, thereby helping him to defeat the snatchers. In the video, he describes how he swam down the pool with a snatcher.'\n",
      "running manifest on text_list of length 52, first element 'But there was a moment in the book when he explains that he was the most deadly shooter on American soil: Kyle's autoswivels were fired upon an insurgent in Iraq, thereby helping him to defeat the snatchers. In the video, he describes how he swam down the pool with a snatcher.'\n",
      "running manifest on text_list of length 52, first element 'But there was a moment in the book when he explains that he was the most deadly shooter on American soil: In the movie, Kyle's autoswivels were fired upon an insurgent in Iraq, thereby helping him to defeat the snatchers and make a humanitarian mission.'\n",
      "running manifest on text_list of length 52, first element 'But there was a moment in the book when he explains that he was the most deadly shooter on American soil: In the movie, Kyle's autoswivels were fired upon an insurgent in Iraq, thereby helping him to defeat the snatchers and make a humanitarian mission.'\n",
      "running manifest on text_list of length 52, first element 'But there was a moment in the book when he explains that he was the most deadly shooter on American soil: In the movie, Kyle's autoswivels were fired upon an insurgent in Iraq, thereby helping him to defeat the snatchers and make a humanitarian mission.'\n",
      "running manifest on text_list of length 52, first element 'But there was a moment in the book when he explains that he was the most deadly shooter on American soil: In the movie, Kyle's autoswivels were fired upon an insurgent in Iraq, thereby helping him to defeat the snatchers and make a humanitarian mission.'\n",
      "running manifest on text_list of length 52, first element 'But there was a moment in the book when he explains that he was the most deadly shooter on American soil: In the movie, Kyle's autoswivels were fired upon an insurgent in Iraq, thereby helping him to defeat the snatchers and make a humanitarian mission.'\n",
      "running manifest on text_list of length 52, first element 'But there was a moment in the book when he explains that he was the most deadly shooter on American soil: In the movie, Kyle's autoswivels were fired upon an insurgent in Iraq, thereby helping him to defeat the snatchers and make a humanitarian mission.'\n",
      "running manifest on text_list of length 52, first element 'But there was a moment in the book when he explains that he was the most deadly shooter on American soil: In the movie, Kyle's autoswivels were fired upon an insurgent in Iraq, thereby helping him to defeat the snatchers and make a humanitarian mission.'\n",
      "running manifest on text_list of length 52, first element 'But there was a moment in the book when he explains that he was the most deadly shooter on American soil: In the movie, Kyle's autoswivels were fired upon an insurgent in Iraq, thereby helping him to defeat the snatchers and make a humanitarian mission.'\n"
     ]
    },
    {
     "name": "stderr",
     "output_type": "stream",
     "text": [
      "                                                                                                                                     \r"
     ]
    },
    {
     "name": "stdout",
     "output_type": "stream",
     "text": [
      "[pred] *The proposed use of the parking space will require a separate parking space for the. building. [District Floor Plan: Use of existing floor plan space, dimensions, and/or permit requirements for each. subfloor/driveway will be provided in the Show/Submit Fee Schedule.\n",
      "[true] *The use of the driveway as the required parking spaces will require a separate submittal for a Use Permit. [ ] Floor plan (dimensioned): Show overall building size, existing and proposed room locations, existing and. proposed new window(s)/door(s) size/location(s).\n",
      "\n",
      "\n",
      "\n",
      "[pred] Our illuminated Seville map is encapsulated in a map of each of these cities, enabling you to discover hidden gems of the city. Our enlightened Seville map also includes a map of the SEGA STREET, the central business district, the AIRPORT, the CORTESTA and the GARDENWAY.our fully accessible street corners and streets are clearly marked with a distinctive street address, allowing you to explore the city in a completely uncluttered manner.\n",
      "[true] Our STREETWISE Seville Map enables you to explore each hidden corner of this enticing destination with a clearly defined map of the city, fully indexed and highlighted with hotels, parks and gardens, and places of interest. An inset of the center of Seville makes even the tiniest of alleyways navigable.rea maps of Cordoba, Grenada and Seville facilitate your entry into these three principal cities via auto, giving you the greatest freedom to experience all that is Southern Spain.\n",
      "\n",
      "\n",
      "\n",
      "[pred] aaa coupons 32 save aaa is an american travel organization with an average of 32 coupons for members save $ aaa offers savings on a variety of products and services from auto insurance to discount clubs and more aaa com codes not only save money but also show more benefits and earn more with aaa com\n",
      "[true] aaa coupon codes about aaa save an average of $ 32 with 26 coupon codes deals for aaa com aaa is a not for profit organization that lists the automobile clubs in the united states and offers travel benefits and automobile insurance to its members members review the aaa positively for its convenient travel benefits pricing of services and insurance claim policies shop aaa com show more show less\n",
      "running manifest on text_list of length 128, first element '*The proposed use of the parking space will require a separate parking space for the. building. [District Floor Plan: Use of existing floor plan space, dimensions, and/or permit requirements for each. subfloor/driveway will be provided in the Show/Submit Fee Schedule.'\n",
      "running manifest on text_list of length 128, first element '*The use of the driveway as the required parking spaces will require a separate submittal for a Use Permit. [ ] Floor plan (dimensioned): Show overall building size, existing and proposed room locations, existing and. proposed new window(s)/door(s) size/location(s).'\n"
     ]
    },
    {
     "data": {
      "text/plain": [
       "{'eval_loss': 1.925140142440796,\n",
       " 'eval_pred_num_tokens': 78.703125,\n",
       " 'eval_true_num_tokens': 80.859375,\n",
       " 'eval_token_set_precision': 0.5598354732342954,\n",
       " 'eval_token_set_recall': 0.6348265787981741,\n",
       " 'eval_token_set_f1': 0.5902981326128126,\n",
       " 'eval_bleu_score': 19.35778063425997,\n",
       " 'eval_meteor_score': 0.45755907554270014,\n",
       " 'eval_rouge_score': 0.5816473631153447,\n",
       " 'eval_exact_match': 0.006,\n",
       " 'eval_emb_cos_sim': 0.962153971195221,\n",
       " 'eval_runtime': 225.2168,\n",
       " 'eval_samples_per_second': 2.22,\n",
       " 'eval_steps_per_second': 0.036}"
      ]
     },
     "execution_count": 4,
     "metadata": {},
     "output_type": "execute_result"
    }
   ],
   "source": [
    "corr_trainer.num_gen_recursive_steps = 10\n",
    "corr_trainer.return_best_hypothesis = True\n",
    "\n",
    "corr_trainer.gen_kwargs = {\n",
    "    \"early_stopping\": False,\n",
    "    \"num_beams\": 1,\n",
    "    \"do_sample\": False,\n",
    "    \"no_repeat_ngram_size\": 0,\n",
    "}\n",
    "corr_trainer.evaluate(\n",
    "    eval_dataset=corr_trainer.eval_dataset[\"msmarco\"].select(range(500))\n",
    ")\n"
   ]
  },
  {
   "cell_type": "code",
   "execution_count": 3,
   "id": "6afbcaa7-446b-46ce-bfa7-bc9344dea58a",
   "metadata": {},
   "outputs": [
    {
     "name": "stderr",
     "output_type": "stream",
     "text": [
      "/home/jxm3/.conda/envs/torch/lib/python3.10/site-packages/torch/utils/data/dataloader.py:560: UserWarning: This DataLoader will create 6 worker processes in total. Our suggested max number of worker in current system is 1, which is smaller than what this DataLoader is going to create. Please be aware that excessive worker creation might get DataLoader running slow or even freeze, lower the worker number to avoid potential slowness/freeze if necessary.\n",
      "  warnings.warn(_create_warning_msg(\n"
     ]
    },
    {
     "data": {
      "text/html": [
       "\n",
       "    <div>\n",
       "      \n",
       "      <progress value='16' max='16' style='width:300px; height:20px; vertical-align: middle;'></progress>\n",
       "      [16/16 00:02]\n",
       "    </div>\n",
       "    "
      ],
      "text/plain": [
       "<IPython.core.display.HTML object>"
      ]
     },
     "metadata": {},
     "output_type": "display_data"
    },
    {
     "name": "stderr",
     "output_type": "stream",
     "text": [
      "generating from val:   0%|                                                                                    | 0/16 [00:00<?, ?it/s]"
     ]
    },
    {
     "name": "stdout",
     "output_type": "stream",
     "text": [
      "running manifest on text_list of length 128, first element '*The parking lot will require the use of a separate parking space for the proposed use of the. building. [District Floor Plan: Use of existing floor plan space, dimensions, and/or permit requirements for each. subfloor/space will be provided in the Submitting Documents.'\n",
      "running manifest on text_list of length 128, first element '*The parking lot will require the use of a separate parking space for the proposed use of the. building. [District Floor Plan: Use of existing floor plan space, dimensions, and/or permit requirements for each. subfloor/space will be provided in the Submitting Documents.'\n",
      "running manifest on text_list of length 128, first element '*The parking lot will require the use of a separate parking space for the proposed use of the. building. [District Floor Plan: Use of existing floor plan space, dimensions, and/or permit requirements for each. subfloor/space will be provided in the Submit Documents.'\n",
      "running manifest on text_list of length 128, first element '*The parking lot will require the use of a separate parking space for the proposed use of the. building. [District Floor Plan: Use of existing floor plan space, dimensions, and/or permit requirements for each. subfloor/space will be shown in the Submit Documents.'\n",
      "running manifest on text_list of length 128, first element '*The parking lot will require the use of a separate parking space for the proposed use of the. building. [District Floor Plan: Use of existing permit space, dimensions, and/or permit requirements for each. subfloor/space will be shown in the Submit Documents.'\n"
     ]
    },
    {
     "name": "stderr",
     "output_type": "stream",
     "text": [
      "generating from val:   6%|████▊                                                                       | 1/16 [00:25<06:26, 25.79s/it]"
     ]
    },
    {
     "name": "stdout",
     "output_type": "stream",
     "text": [
      "running manifest on text_list of length 128, first element 'When you list your expertise, you pay the buyer's agent, and the seller's agent, who is the real estate sales agent! When you're buying a home, you get to choose between paying your agent and the buyer's agent. No need to learn the ins and outs of selling! Both of you get paid for their expertise!'\n",
      "running manifest on text_list of length 128, first element 'When you list your expertise, you pay the buyer's agent, and the seller's agent, who is the real estate sales agent! When you're buying, you get to choose between paying your agent and the buyer's agent. No need to learn the ins and outs of selling!'\n",
      "running manifest on text_list of length 128, first element 'When you list your expertise, you pay the buyer's agent, and the seller's agent, who is the real estate sales agent! When you're buying, you get to choose between paying your agent and the buyer's agent. No need to learn the ins and outs of selling! Both of you get paid for their advice!'\n",
      "running manifest on text_list of length 128, first element 'When you list your expertise, you pay the buyer's agent, and the seller's agent, who is the real estate sales agent! When you're buying, you get to choose between paying your agent and the buyer's agent. No need to learn the ins and outs of selling! Both of you get paid for their guidance!'\n",
      "running manifest on text_list of length 128, first element 'When you list your expertise, you pay the buyer's agent, and the seller's agent, who is the real estate sales agent! When you're buying, you get to choose between paying your agent and the buyer's agent. No need to learn the ins and outs of selling! Both of you get paid for their guidance.'\n"
     ]
    },
    {
     "name": "stderr",
     "output_type": "stream",
     "text": [
      "generating from val:  12%|█████████▌                                                                  | 2/16 [00:53<06:15, 26.83s/it]"
     ]
    },
    {
     "name": "stdout",
     "output_type": "stream",
     "text": [
      "running manifest on text_list of length 128, first element '3. Download Android data recovery software on your Android phone. 4. To recover deleted data from your Android phone, install or launch the software on your Samsung Galaxy S4, Galaxy S3, or other devices, you can also use it to get back your old data.'\n",
      "running manifest on text_list of length 128, first element '3. Download Android data recovery software on your Android phone. 4. To recover your data from your Android phone, install or launch the software on your Samsung Galaxy S4, Galaxy S3, or other devices, then use it to back up your files.'\n",
      "running manifest on text_list of length 128, first element '3. Install Android data recovery software on your Android phone (Samsung Galaxy S4, S3, S4, S5, S3, or other devices). 4. Once your Android phone has been lost or deleted, use it to get back your data.'\n",
      "running manifest on text_list of length 128, first element '3. Install Android data recovery software on your Android phone (Samsung Galaxy S4, S3, S4, S5, S3, or other devices). 4. Once your Android phone has been deleted or stolen, use it to get back your data from your computer.'\n",
      "running manifest on text_list of length 128, first element '3. Install Android data recovery software on your Android phone (Samsung Galaxy S4, S3, S4, S5, S3, or other devices). 4. Once your Android phone has been deleted or lost, use it to get back your data from your computer.'\n"
     ]
    },
    {
     "name": "stderr",
     "output_type": "stream",
     "text": [
      "generating from val:  19%|██████████████▎                                                             | 3/16 [01:18<05:37, 25.96s/it]"
     ]
    },
    {
     "name": "stdout",
     "output_type": "stream",
     "text": [
      "running manifest on text_list of length 128, first element 'Etymology & Historical Origin. By 'logistic', the term 'logistic' is very similar to the term 'logging'. The purpose of chucking is to seal the interior of a structure with a thin, sanded-down log wall.This process is done to seal the inside of a structure with a thin, sanded-down log wall.n the same way, chucking is very similar to the term 'logistic'. The purpose of chucking is to seal the interior of'\n",
      "running manifest on text_list of length 128, first element 'Etymology & Historical Origin. By 'login', the term 'login' is very similar to the term 'logging'. The purpose of login chipping is to seal the interior of a structure with a thin, well-preserved log wall.This process is done to seal the inside of a structure with a thin, well-preserved log wall.he purpose of login chipping is to seal the interior of a structure with a thin, well-preserved log wall. This process is done'\n",
      "running manifest on text_list of length 128, first element 'Etymology & Historical Definition. By 'login', the term 'login' is very similar to the term 'chipping'. The purpose of login chipping is to seal the interior of a structure with a thin, well-preserved log wall.This process is done to seal the inside of a structure with a thin, well-preserved log wall.he purpose of login chipping is to seal the interior of a structure with a thin, well-preserved log wall. This process is done'\n",
      "running manifest on text_list of length 128, first element 'Etymology & Historical Definition. By 'login', the term 'login' is very similar to the term 'chipping'. The purpose of login chipping is to seal the interior of a structure with a thin, well-preserved log wall.This process is done to seal the inside of a structure with a thin, well-preserved log wall.he purpose of login chipping is to seal the interior of a structure with a thin, well-preserved log wall. This process is done'\n",
      "running manifest on text_list of length 128, first element 'Etymology & Historical Definition. By 'login', the term 'login' is very similar to the term 'chipping'. The purpose of login chipping is to seal the interior of a structure with a thin, well-preserved log wall.This process is done to seal the inside of a structure with a very thin, well-preserved log wall.he purpose of login chipping is to seal the interior of a structure with a thin, well-preserved log wall. This process is'\n"
     ]
    },
    {
     "name": "stderr",
     "output_type": "stream",
     "text": [
      "generating from val:  25%|███████████████████                                                         | 4/16 [01:41<04:58, 24.85s/it]"
     ]
    },
    {
     "name": "stdout",
     "output_type": "stream",
     "text": [
      "running manifest on text_list of length 128, first element 'In addition to qualifying income from the investment, a MLP also allows for the depreciation of assets from a source of income, such as real estate, construction, and partnership structures. MLPs have been regulated for over 90 years. The MLP allows for a significant percentage of the assets to be passed on to the individual investor. The MLP must have at least 70% of its assets from sources of income.'\n",
      "running manifest on text_list of length 128, first element 'In addition to qualifying income from the investment, a MLP also allows for the depreciation of assets through a variety of sources, such as real estate, construction, and partnership structures. MLPs have been beneficial to investors for over 90 years. The MLP allows for a significant percentage of the assets to be passed on to the individual investor. The MLP must have at least 70% of its assets from sources of income.'\n",
      "running manifest on text_list of length 128, first element 'In addition to qualifying income from the investment, a MLP also allows for the depreciation of assets through a variety of sources, such as real estate, construction, and partnership structures. MLPs have been beneficial to investors for over 90 years. To qualify as an MLP, the taxation of the assets must be passed on to the individual investor.'\n",
      "running manifest on text_list of length 128, first element 'In addition to qualifying income from the investment, a MLP also allows for the depreciation of assets through a variety of sources, such as real estate, construction, and partnership structures. MLPs have been beneficial to investors for over 90 years. To qualify as an MLP, the taxation of the assets passes from the individual investor to the partnership owner. The MLP must have at least 70% of its assets from sources of income.'\n",
      "running manifest on text_list of length 128, first element 'In addition to qualifying income from the investment, a MLP also allows for the depreciation of assets through a variety of sources, such as real estate, construction, and partnership structures. MLPs have been beneficial to investors for over 90 years. To qualify as an MLP, the taxation of the assets passes from the individual investor to the partnership owner. The MLP must have at least 70% of its income from sources of income.'\n"
     ]
    },
    {
     "name": "stderr",
     "output_type": "stream",
     "text": [
      "generating from val:  31%|███████████████████████▊                                                    | 5/16 [02:09<04:45, 25.99s/it]"
     ]
    },
    {
     "name": "stdout",
     "output_type": "stream",
     "text": [
      "running manifest on text_list of length 128, first element 'The services provided by Walk-In Health Care are provided by a private practice of Dr. DâAndrew R. Dow, a licensed physician in New York City, and a member of the New York City medical group of independent physicians, who are not employees of Walk-In Health Care, a subsidiary of Walgreens, Inc., or any of its affiliates...'\n",
      "running manifest on text_list of length 128, first element 'The services provided by Take Care New York are provided by a private practice of Dr. DâAndrew R. Dow, a licensed physician in New York City, and a member of the Take Care New York medical group of independent physicians, who are not employees of Walk-In Health Care, a subsidiary of Walgreens, Inc., or any of its affiliates...'\n",
      "running manifest on text_list of length 128, first element 'The services provided by Walk-In Health Care are provided by a private practice of Dr. DâAndrew R. Dow, a licensed physician in New York City, and a member of the Take Care New York medical group of independent physicians, who are not employees of Walk-In Health Care, a subsidiary of Walgreens, Inc., or any of its affiliates...'\n",
      "running manifest on text_list of length 128, first element 'The services provided by Walk-In Health Care are provided by a private practice of Dr. DâAndrew R. Dow, a licensed physician in New York City, and a member of the Take Care New York medical group of independent physicians, who are not employees of Walk-In Health Care, a subsidiary of Walgreens, Inc., or any of its affiliates...'\n",
      "running manifest on text_list of length 128, first element 'The services provided by Walk-In Health Care are provided by a private practice of Dr. DâAndrew R. Dow, a licensed physician in New York City, and a member of the Take Care New York medical group of independent physicians, who are not employees of Walk-In Health Care, a subsidiary of Walgreens, Inc., or any of its affiliates...'\n"
     ]
    },
    {
     "name": "stderr",
     "output_type": "stream",
     "text": [
      "generating from val:  38%|████████████████████████████▌                                               | 6/16 [02:40<04:37, 27.75s/it]"
     ]
    },
    {
     "name": "stdout",
     "output_type": "stream",
     "text": [
      "running manifest on text_list of length 128, first element 'The color blue is believed to be a slow-moving color and it is associated with the human metabolism. Blues tend to calm down the human mind and cause relaxation. Blue is also believed to represent calmness and energy.'\n",
      "running manifest on text_list of length 128, first element 'The color blue is believed to be calming and slow-moving and it is associated with the human metabolism. Blue is often believed to produce a deep feeling of calmness that symbolizes knowledge and understanding.'\n",
      "running manifest on text_list of length 128, first element 'The color blue is believed to be calming and slow-moving and it is associated with the human metabolism. Blue is often believed to produce a deep euphoria that symbolizes knowledge, calmness and calmness.'\n",
      "running manifest on text_list of length 128, first element 'The color blue is believed to be calming and slow-moving and it is associated with the human metabolism. Blue is often believed to produce a depth of calmness that symbolizes knowledge, empathy and understanding.'\n",
      "running manifest on text_list of length 128, first element 'The color blue is believed to be calming and slow-moving and it is associated with the human metabolism. Blue is often believed to produce a depth of calmness that symbolizes knowledge and understanding.'\n"
     ]
    },
    {
     "name": "stderr",
     "output_type": "stream",
     "text": [
      "generating from val:  44%|█████████████████████████████████▎                                          | 7/16 [03:24<04:56, 32.90s/it]"
     ]
    },
    {
     "name": "stdout",
     "output_type": "stream",
     "text": [
      "running manifest on text_list of length 128, first element 'Temperate Grasslands Temperate grasslands are characterized as having fewer trees than shrubs and shrubs. Seasonal rainfall is predominant in the temperate savanna. Grasslands are often distinguished from other grasslands because of their large number of trees.'\n",
      "running manifest on text_list of length 128, first element 'Temperate Grasslands Temperate grasslands are characterized as having a large number of trees and shrubs. Seasonal rainfall is predominant, as temperatures rarely change from summer to winter. Grasslands are also known as desert grasslands.'\n",
      "running manifest on text_list of length 128, first element 'Temperate Grasslands Temperate grasslands are characterized as having fewer trees and shrubs than the grassland. Seasonal rainfall is predominant, as temperatures rarely change from summer to winter. Grasslands are also known as prairies because of the savanna vegetation.'\n",
      "running manifest on text_list of length 128, first element 'Temperate Grasslands Temperate grasslands are characterized as having a large number of trees and shrubs. Rainfall is predominant in temperate grasslands, as temperatures rarely change from summer to winter. Grasslands are also known as savanna vegetation.'\n",
      "running manifest on text_list of length 128, first element 'Temperate Grasslands Temperate grasslands are characterized as having fewer trees than shrubs and grasses. Rainfall is predominant in temperate grasslands, as temperatures rarely change from summer to winter. Grassland vegetation is also known as the savanna.'\n"
     ]
    },
    {
     "name": "stderr",
     "output_type": "stream",
     "text": [
      "generating from val:  50%|██████████████████████████████████████                                      | 8/16 [03:54<04:16, 32.03s/it]"
     ]
    },
    {
     "name": "stdout",
     "output_type": "stream",
     "text": [
      "running manifest on text_list of length 128, first element 'I think the Pancho Beaches in the Philippines, with their white sand beaches, should be in the top list. BANGALOR, GUALAMO, GUALAMO, GUALAMO. I also saw the Pancho Island in Cameroon. Its not only amazing, but also so beautiful.'\n",
      "running manifest on text_list of length 128, first element 'I think the Pancho Beaches in the Philippines, with their white sand beaches, should be in the top list. BANGALOR, GUALAMO, GUALAMO, GUALAMO. I also saw the Pancho Island in Cameroon. Its not only amazing, but also so great.'\n",
      "running manifest on text_list of length 128, first element 'I think the Pancho Beaches in the Philippines, with their white sand beaches, should be in the top list. BANGALOR, GUALAMO, GUALAMO, GUALAMO. I also saw the Pancho Island in Cameroon. Its not only amazing, but also so much.'\n",
      "running manifest on text_list of length 128, first element 'I think the Pancho Beaches in the Philippines, with their white sand beaches, should be in the top list. BANGALOR, GUALAMO, GUALAMO, GUALAMO. I also saw the Pancho Island in Cameroon. Its not only amazing, they also so much.'\n",
      "running manifest on text_list of length 128, first element 'I think the Pancho Beaches in the Philippines, with their white sand beaches, should be in the top list. BANGALOR, GUALAMO, GUALAMO, GUALAMO. I also saw the Pancho Island in Cameroon. Its not only amazing, they also so much.'\n"
     ]
    },
    {
     "name": "stderr",
     "output_type": "stream",
     "text": [
      "generating from val:  56%|██████████████████████████████████████████▊                                 | 9/16 [04:20<03:32, 30.37s/it]"
     ]
    },
    {
     "name": "stdout",
     "output_type": "stream",
     "text": [
      "running manifest on text_list of length 128, first element '1 The vitamin B6 that causes vertigo appears to reduce nausea and vomiting. Look for foods that contain more vitamin B6 such as spinach, kale, dandelion, apricots, walnuts, peanuts, peanut butter, chicken, pork, fish, eggs, nuts and fish-based breakfast cereals that add calcium to your diet.'\n",
      "running manifest on text_list of length 128, first element '1 The vitamin B6 that causes vertigo appears to reduce nausea and vomiting. Look for foods that contain more vitamin B6 such as spinach, kale, dandelion, apricots, walnuts, peanuts, chicken, pork, fish, eggs, nuts and fish-based breakfast cereals that add calcium to your diet.'\n",
      "running manifest on text_list of length 128, first element '1 The vitamin B6 that causes vertigo appears to reduce nausea and vomiting. To add more vitamin B6 to your diet, look for foods that contain dandelion, such as apricots, walnuts, peanuts, peanut butter, chicken, pork, fish, eggs, nuts and fish-based breakfast cereals.'\n",
      "running manifest on text_list of length 128, first element '1 The vitamin B6 that causes vertigo appears to reduce nausea and vomiting. To add more vitamin B6 to your diet, look for foods that contain dandelion, such as apricots, walnuts, peanuts, peanut butter, chicken, pork, fish, eggs, nuts and fish-based breakfast cereals.'\n",
      "running manifest on text_list of length 128, first element '1 The vitamin B6 that causes vertigo appears to reduce nausea and vomiting. To add more vitamin B6 to your diet, look for foods that contain dandelion, such as apricots, walnuts, peanuts, peanut butter, chicken, pork, fish, eggs, nuts and fish-based breakfast cereals.'\n"
     ]
    },
    {
     "name": "stderr",
     "output_type": "stream",
     "text": [
      "generating from val:  62%|██████████████████████████████████████████████▉                            | 10/16 [04:46<02:52, 28.74s/it]"
     ]
    },
    {
     "name": "stdout",
     "output_type": "stream",
     "text": [
      "running manifest on text_list of length 128, first element 'This is one of the most famous buildings in the world; it is the Tomb of the Champions. It is located in the center of Paris, just a few minutes away from the famous World Trade Center. It is the site of Katie Holmesâ famous introduction to the world. It stands at a height of 319 meters and it is the tallest structure in the world. It was built in 1939 and was built as a bridge for the famous Paris Opera House. It does not require any special building permits; it is one of the most famous buildings in the world.'\n",
      "running manifest on text_list of length 128, first element 'This is one of the most famous buildings in the world; it is the Tomb of the Champions. It is located in the center of Paris, just a few minutes away from the famous World Trade Center. It is the site of Katie Holmesâ famous introduction to the world. It stands at a height of 319 meters and it is the tallest structure in the world. It was built as a bridge for the famous Paris Opera House. It does not require any special building permits;'\n",
      "running manifest on text_list of length 128, first element 'This is one of the most famous buildings in the world; it is the Tomb of the Champions. It is located in the center of Paris, just a few minutes away from the famous World Trade Center. It is the site of Katie Holmesâ famous introduction to the world. It stands at a height of 319 meters and it is the tallest structure in the sky. It was built as a bridge for the famous Paris Opera House. It does not require any special building permits.'\n",
      "running manifest on text_list of length 128, first element 'This is one of the most famous buildings in the world; the Tomb of Katie Holmes. It is located in the center of Paris, just a few minutes away from the famous World Trade Center. It is the site of Katie Holmesâ famous introduction to the world. It stands at a height of 319 meters and it is the tallest structure in the sky. It was built as a bridge for the famous Opera House. It does not require any special building permits.'\n",
      "running manifest on text_list of length 128, first element 'This is one of the most famous buildings in the world; the Tomb of Katie Holmes. It is located in the center of Paris, just a few minutes away from the famous World Trade Center. It is the site of Katie Holmesâ famous introduction to the world. It stands at a height of 319 meters and it is the tallest structure in the sky. It was built as a bridge for the famous Opera House. It does not require any special building permits;'\n"
     ]
    },
    {
     "name": "stderr",
     "output_type": "stream",
     "text": [
      "generating from val:  69%|███████████████████████████████████████████████████▌                       | 11/16 [05:10<02:16, 27.36s/it]"
     ]
    },
    {
     "name": "stdout",
     "output_type": "stream",
     "text": [
      "running manifest on text_list of length 128, first element 'At the age of 17, a child can no longer move out of the home of their parents. There is no police in Michigan that can bring a child home. As a parent you can help your child move out of the home of your parents. At the age of 17, a child can no longer move out of the home of their parents. There is no police in Michigan that can bring a child home. As a parent you can help your child move out of the home of your parents.'\n",
      "running manifest on text_list of length 128, first element 'At the age of 17 a child can move out of the home of their parents. There is no police in Michigan that can bring a child home. As a parent you can help your child move out of the home of their parents. At the age of 17 a child can move out of the home of their parents. There is no police in Michigan that can bring a child home. As a parent you can help your child move out of the home of their parents.'\n",
      "running manifest on text_list of length 128, first element 'At the age of 17, a child can move out of the home of their parents. There is no police in Michigan that can bring a child home. As a parent you can help your child move out of the home of their parents. At the age of 17, a child can move out of the home of their parents. There is no police in Michigan that can bring a child home. As a parent you can help your child move out of the home of their parents.'\n",
      "running manifest on text_list of length 128, first element 'At the age of 17, a child can move out of the home of their parents. There is no police in Michigan that can bring a child home. As a parent you can help your child move out of the home of their parents. At the age of 17, a child can move out of the home of their parents. There is no police in Michigan that can bring a child home. As a parent you can help your child move out of the home of their parents.'\n",
      "running manifest on text_list of length 128, first element 'At the age of 17, a child can move out of the home of their parents. There is no police in Michigan that can bring a child home. As a parent you can help your child move out of the home of their parents. At the age of 17, a child can move out of the home of their parents. There is no police in Michigan that can bring a child home. As a parent you can help your child move out of the home of their parents.'\n"
     ]
    },
    {
     "name": "stderr",
     "output_type": "stream",
     "text": [
      "generating from val:  75%|████████████████████████████████████████████████████████▎                  | 12/16 [05:36<01:47, 26.99s/it]"
     ]
    },
    {
     "name": "stdout",
     "output_type": "stream",
     "text": [
      "running manifest on text_list of length 128, first element 'The GRE Self Study Book (with a good plan) You can learn a lot if youâre a LEARN only student. The cost of this book is less than $20 for just one book. If you want to save money, you might want to consider buying the GRE self study book for $20.'\n",
      "running manifest on text_list of length 128, first element 'Cost of the GRE Self Study Book (with a good plan) You can learn a lot if youâre a LEARN only grad student. Guess how much youâll spend for just one book. If you want to save money, you might want to consider buying the GRE self-study book for $20.'\n",
      "running manifest on text_list of length 128, first element 'Cost of the GRE Self-Study Book (with a budget of $20) You can learn a lot if youâre a LEARN only grad student. Guess how much youâll spend for just one book. If you donât mind spending more money, you might want to pick up one of the GRE self-study books.'\n",
      "running manifest on text_list of length 128, first element 'Cost of the GRE Self-Study Book (with a budget of $20) You can learn a lot if youâre a LEARN only grad student. Guess how much youâll spend for just one book. If you donât mind spending more money, you might want to pick up one of the GRE books.'\n",
      "running manifest on text_list of length 128, first element 'Cost of the GRE Self-Study Book (with a budget of $20) You can learn a lot if youâre a LEARN only grad student. Guess how much youâll spend for just one book. If you donât mind spending more money, you might want to pick up one of the great books and take the GRE.'\n"
     ]
    },
    {
     "name": "stderr",
     "output_type": "stream",
     "text": [
      "generating from val:  81%|████████████████████████████████████████████████████████████▉              | 13/16 [06:02<01:20, 26.70s/it]"
     ]
    },
    {
     "name": "stdout",
     "output_type": "stream",
     "text": [
      "running manifest on text_list of length 128, first element 'Indianapolis Public Schools Statement of Equal Opportunity. Indianapolis Public Schools is an equal opportunity employer committed to ensuring the quality of education and employment for all students. IPS strives to deliver a socially equitable and equitable learning experience to our students and their families.'\n",
      "running manifest on text_list of length 128, first element 'Indianapolis Public Schools Statement of Diversity. IPS is an equal opportunity employer committed to delivering quality education and employment to our students, families, and communities. IPS strives to recognize and address social equity through equitable learning.'\n",
      "running manifest on text_list of length 128, first element 'IPS Statement of Equal Opportunity. Indianapolis Public Schools is an equal opportunity employer committed to delivering quality education and employment to our students, families, and communities. IPS strives to recognize and address social equity through equitable access to resources.'\n",
      "running manifest on text_list of length 128, first element 'IPS Statement of Diversity. Indianapolis Public Schools is an equal opportunity employer committed to delivering quality education and employment to our students, families, and communities. IPS strives to recognize and address social equity through equitable access to education.'\n",
      "running manifest on text_list of length 128, first element 'IPS Statement of Diversity Statement. Indianapolis Public Schools is an equal opportunity company committed to delivering quality education and employment to our students, families, and workplaces. IPS strives to recognize and address social equity through equitable access to education.'\n"
     ]
    },
    {
     "name": "stderr",
     "output_type": "stream",
     "text": [
      "generating from val:  88%|█████████████████████████████████████████████████████████████████▋         | 14/16 [06:25<00:51, 25.62s/it]"
     ]
    },
    {
     "name": "stdout",
     "output_type": "stream",
     "text": [
      "running manifest on text_list of length 128, first element 'But there was a moment in the book when he explains that he shot down the most-infamous sniper on American soil: Kyle was snubbed by an instructor in the air during a military mission in Iraq, thereby helping him to defeat the snatchers. In the book, he explains that he is a self-defense snatcher.'\n",
      "running manifest on text_list of length 128, first element 'But there was a moment in the book when he explains that he shot down the most-infamous volley on American beach: Kyle was shot by an insurgent in the air during a military mission in Iraq, thereby helping him to defeat the snatchers.'\n",
      "running manifest on text_list of length 128, first element 'But there was a moment in the book when he explains that he shot down the most-infamous volley on American beach: When Kyle was shot by an insurgent in the air during a military mission in Iraq, thereby helping him to defeat the snatchers. In the autobiography, he identifies himself as the snatcher.'\n",
      "running manifest on text_list of length 128, first element 'But there was a moment in the autobiography when he explains that he shot down the most-infamous volley on American beach: When Kyle was shot by an insurgent in the air during a military mission in Iraq, thereby helping him to defeat the snatchers.'\n",
      "running manifest on text_list of length 128, first element 'But there was a moment in the autobiography when he explains that he is the most-infamous sniper on American beach: When Kyle was shot down by an insurgent in the air during a military mission in Iraq, thereby helping him to defeat the snatchers.'\n"
     ]
    },
    {
     "name": "stderr",
     "output_type": "stream",
     "text": [
      "generating from val:  94%|██████████████████████████████████████████████████████████████████████▎    | 15/16 [06:48<00:24, 24.87s/it]"
     ]
    },
    {
     "name": "stdout",
     "output_type": "stream",
     "text": [
      "running manifest on text_list of length 80, first element 'In United States law, adjournment of dismissal (ACD) is sometimes contemplated as a court adjournment for a period of time, usually six months, to allow the defendant to conclude the case in the interest of a plea of guilty or to reduce the criminal charge to a lesser charge. The defendant may be dismissed by the judge without...'\n",
      "running manifest on text_list of length 80, first element 'In United States law, adjournment of dismissal (ACD) is sometimes contemplated as a criminal adjournment for a period of time, usually six months, to allow the defendant to conclude the case in the interest of a plea of guilty or to reduce the criminal charge to a later charge. The defendant may be dismissed by the judge without...'\n",
      "running manifest on text_list of length 80, first element 'In United States law, adjournment of dismissal (ACD) is sometimes contemplated as a criminal adjournment for a period of time, usually six months, to allow the defendant to conclude the case in the interest of a plea of guilty or to reduce the criminal charge to a later charge. The defendant may be dismissed by the judge on od...'\n",
      "running manifest on text_list of length 80, first element 'In United States law, adjournment of dismissal (ACD) is sometimes contemplated as a criminal adjournment for a period of time, usually six months, to allow the defendant to conclude the case in the interest of a plea of guilty or to reduce the criminal charge to a later charge. The defendant may be dismissed by the judge on OD...'\n",
      "running manifest on text_list of length 80, first element 'In United States law, adjournment of dismissal (ACD) is sometimes contemplated as a criminal adjournment for a period of time, usually six months, to allow the defendant to conclude the case in the interest of a plea of guilty or to reduce the criminal charge to a later charge. The defendant may be dismissed by the judge on OD...'\n"
     ]
    },
    {
     "name": "stderr",
     "output_type": "stream",
     "text": [
      "                                                                                                                                     \r"
     ]
    },
    {
     "name": "stdout",
     "output_type": "stream",
     "text": [
      "[pred] *The parking lot will require the use of a separate parking space for the proposed use of the. building. [District Floor Plan: Use of existing permit space, dimensions, and/or permit requirements for each. subfloor/space will be shown in the Submit Documents.\n",
      "[true] *The use of the driveway as the required parking spaces will require a separate submittal for a Use Permit. [ ] Floor plan (dimensioned): Show overall building size, existing and proposed room locations, existing and. proposed new window(s)/door(s) size/location(s).\n",
      "\n",
      "\n",
      "\n",
      "[pred] Our illuminated Seville map is encapsulated in a map of each of our cities, enabling you to discover the hidden gems of the city. Our enlightened Seville map also includes a map of the streets of the city centre, the central business district, the outskirts of the city center and the streets of Cartagena.e encourage you to take advantage of our easy-to-use, fully accessible and easy-to-understand street maps of Valencia, Costa Rica and Spain.\n",
      "[true] Our STREETWISE Seville Map enables you to explore each hidden corner of this enticing destination with a clearly defined map of the city, fully indexed and highlighted with hotels, parks and gardens, and places of interest. An inset of the center of Seville makes even the tiniest of alleyways navigable.rea maps of Cordoba, Grenada and Seville facilitate your entry into these three principal cities via auto, giving you the greatest freedom to experience all that is Southern Spain.\n",
      "\n",
      "\n",
      "\n",
      "[pred] aaa coupons 32 save aaa is an american travel organization with an average of 32 coupons for members save $ aaa offers savings on a variety of products and services from aaa to car insurance com aaa com codes codes for more than $ aaa not only does aaa show an appreciation for its members but also works to promote its products and services to the public\n",
      "[true] aaa coupon codes about aaa save an average of $ 32 with 26 coupon codes deals for aaa com aaa is a not for profit organization that lists the automobile clubs in the united states and offers travel benefits and automobile insurance to its members members review the aaa positively for its convenient travel benefits pricing of services and insurance claim policies shop aaa com show more show less\n",
      "running manifest on text_list of length 128, first element '*The parking lot will require the use of a separate parking space for the proposed use of the. building. [District Floor Plan: Use of existing permit space, dimensions, and/or permit requirements for each. subfloor/space will be shown in the Submit Documents.'\n",
      "running manifest on text_list of length 128, first element '*The use of the driveway as the required parking spaces will require a separate submittal for a Use Permit. [ ] Floor plan (dimensioned): Show overall building size, existing and proposed room locations, existing and. proposed new window(s)/door(s) size/location(s).'\n"
     ]
    },
    {
     "data": {
      "text/plain": [
       "{'eval_loss': 1.9263066053390503,\n",
       " 'eval_pred_num_tokens': 80.65625,\n",
       " 'eval_true_num_tokens': 80.859375,\n",
       " 'eval_token_set_precision': 0.5718026222808328,\n",
       " 'eval_token_set_recall': 0.6471834478722946,\n",
       " 'eval_token_set_f1': 0.602151840385882,\n",
       " 'eval_bleu_score': 20.363485712345508,\n",
       " 'eval_meteor_score': 0.4635260268263805,\n",
       " 'eval_rouge_score': 0.5908035883250253,\n",
       " 'eval_exact_match': 0.012,\n",
       " 'eval_emb_cos_sim': 0.9642256498336792,\n",
       " 'eval_runtime': 441.3494,\n",
       " 'eval_samples_per_second': 1.133,\n",
       " 'eval_steps_per_second': 0.036}"
      ]
     },
     "execution_count": 3,
     "metadata": {},
     "output_type": "execute_result"
    }
   ],
   "source": [
    "corr_trainer.args.per_device_eval_batch_size = 32\n",
    "corr_trainer.num_gen_recursive_steps = 5\n",
    "corr_trainer.return_best_hypothesis = True\n",
    "\n",
    "corr_trainer.gen_kwargs = {\n",
    "    \"early_stopping\": False,\n",
    "    \"num_beams\": 4,\n",
    "    \"num_return_sequences\": 4,\n",
    "    \"do_sample\": False,\n",
    "    \"no_repeat_ngram_size\": 0,\n",
    "}\n",
    "corr_trainer.evaluate(\n",
    "    eval_dataset=corr_trainer.eval_dataset[\"msmarco\"].select(range(500))\n",
    ")\n"
   ]
  },
  {
   "cell_type": "code",
   "execution_count": null,
   "id": "33a88337-718b-45c8-81bf-accdcfa6656c",
   "metadata": {},
   "outputs": [],
   "source": []
  }
 ],
 "metadata": {
  "kernelspec": {
   "display_name": "Python 3 (ipykernel)",
   "language": "python",
   "name": "python3"
  },
  "language_info": {
   "codemirror_mode": {
    "name": "ipython",
    "version": 3
   },
   "file_extension": ".py",
   "mimetype": "text/x-python",
   "name": "python",
   "nbconvert_exporter": "python",
   "pygments_lexer": "ipython3",
   "version": "3.10.10"
  }
 },
 "nbformat": 4,
 "nbformat_minor": 5
}
