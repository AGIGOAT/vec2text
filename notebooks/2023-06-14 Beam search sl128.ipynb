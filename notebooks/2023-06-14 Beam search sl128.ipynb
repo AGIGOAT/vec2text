{
 "cells": [
  {
   "cell_type": "code",
   "execution_count": null,
   "id": "24295723-0e99-42e6-8287-84c8e0a485c2",
   "metadata": {},
   "outputs": [],
   "source": [
    "%load_ext autoreload\n",
    "%autoreload 2\n",
    "\n",
    "import os\n",
    "os.environ[\"WANDB_DISABLED\"] = \"true\"\n",
    "\n",
    "import sys\n",
    "sys.path = [\n",
    "    p for p in sys.path\n",
    "    if p not in ['/home/jxm3/research/prompting/imodelsX', '/home/jxm3/research/prompting/tree-prompt']\n",
    "]\n",
    "sys.path.append('/home/jxm3/research/retrieval/inversion')"
   ]
  },
  {
   "cell_type": "code",
   "execution_count": 2,
   "id": "eb3318c7-a906-4aca-8aee-a7999f57c073",
   "metadata": {},
   "outputs": [
    {
     "name": "stdout",
     "output_type": "stream",
     "text": [
      "loading alias openai_msmarco__msl128__100epoch__correct_cheat from /home/jxm3/research/retrieval/inversion/saves/45e3f871f91d0fbf54bacb5593434409...\n",
      "> checkpoint: /home/jxm3/research/retrieval/inversion/saves/45e3f871f91d0fbf54bacb5593434409/checkpoint-336000\n",
      "loading alias openai_msmarco__msl128__100epoch from /home/jxm3/research/retrieval/inversion/saves/f9abd65db4c4823264b133816d08612f...\n",
      "> checkpoint: /home/jxm3/research/retrieval/inversion/saves/f9abd65db4c4823264b133816d08612f/checkpoint-194000\n"
     ]
    },
    {
     "name": "stderr",
     "output_type": "stream",
     "text": [
      "/home/jxm3/.conda/envs/torch/lib/python3.10/site-packages/transformers/models/t5/tokenization_t5_fast.py:155: FutureWarning: This tokenizer was incorrectly instantiated with a model max length of 512 which will be corrected in Transformers v5.\n",
      "For now, this behavior is kept to avoid breaking backwards compatibility when padding/encoding with `truncation is True`.\n",
      "- Be aware that you SHOULD NOT rely on t5-base automatically truncating your input to 512 when padding/encoding.\n",
      "- If you want to encode/pad to sequences longer than 512 you can either instantiate this tokenizer with `model_max_length` or pass `max_length` when encoding/padding.\n",
      "- To avoid this warning, please instantiate this tokenizer with `model_max_length` set to your preferred value.\n",
      "  warnings.warn(\n"
     ]
    },
    {
     "name": "stdout",
     "output_type": "stream",
     "text": [
      "Loading datasets with TOKENIZERS_PARALLELISM = True\n"
     ]
    },
    {
     "name": "stderr",
     "output_type": "stream",
     "text": [
      "[nltk_data] Downloading package wordnet to /home/jxm3/nltk_data...\n",
      "[nltk_data]   Package wordnet is already up-to-date!\n",
      "[nltk_data] Downloading package punkt to /home/jxm3/nltk_data...\n",
      "[nltk_data]   Package punkt is already up-to-date!\n",
      "[nltk_data] Downloading package omw-1.4 to /home/jxm3/nltk_data...\n",
      "[nltk_data]   Package omw-1.4 is already up-to-date!\n",
      "/home/jxm3/.conda/envs/torch/lib/python3.10/site-packages/torch/utils/data/dataloader.py:560: UserWarning: This DataLoader will create 4 worker processes in total. Our suggested max number of worker in current system is 1, which is smaller than what this DataLoader is going to create. Please be aware that excessive worker creation might get DataLoader running slow or even freeze, lower the worker number to avoid potential slowness/freeze if necessary.\n",
      "  warnings.warn(_create_warning_msg(\n"
     ]
    },
    {
     "name": "stdout",
     "output_type": "stream",
     "text": [
      "================ Begin trainer sanity check ================\n",
      "\tInput to encode -> Twas brillig, and the slithy toves, Did gyre and gimble in the wabe, All mimsy were the borogoves, And the mome raths outgrabe.\n",
      "running manifest on text_list of length 1, first element 'Twas brillig, and the slithy toves, Did gyre and gimble in the wabe, All mimsy were the borogoves, And the mome raths outgrabe.'\n",
      "\tDecoded output shape ->  torch.Size([1, 69])\n",
      "\tDecoded output -> And the trolls, twilight, was smooty, And smeared sboogly, And wis smorgasbord, And all smarmy, And brilliant, And clever, And good, And soot.\n",
      "================ End trainer sanity check ================\n",
      "Froze 353779584 params from model type <class 'models.inversion.InversionModel'>\n"
     ]
    },
    {
     "name": "stderr",
     "output_type": "stream",
     "text": [
      "[nltk_data] Downloading package wordnet to /home/jxm3/nltk_data...\n",
      "[nltk_data]   Package wordnet is already up-to-date!\n",
      "[nltk_data] Downloading package punkt to /home/jxm3/nltk_data...\n",
      "[nltk_data]   Package punkt is already up-to-date!\n",
      "[nltk_data] Downloading package omw-1.4 to /home/jxm3/nltk_data...\n",
      "[nltk_data]   Package omw-1.4 is already up-to-date!\n"
     ]
    },
    {
     "name": "stdout",
     "output_type": "stream",
     "text": [
      "================ Begin trainer sanity check ================\n",
      "\tInput to encode -> Twas brillig, and the slithy toves, Did gyre and gimble in the wabe, All mimsy were the borogoves, And the mome raths outgrabe.\n",
      "running manifest on text_list of length 1, first element 'Twas brillig, and the slithy toves, Did gyre and gimble in the wabe, All mimsy were the borogoves, And the mome raths outgrabe.'\n",
      "running manifest on text_list of length 1, first element 'And the trolls, trolls, trolls, trolls, trolls, trolls, trolls, trolls, trolls, trolls, trolls,'\n",
      "running manifest on text_list of length 1, first element 'And the smegs, And the wispy, And twiggy, And all borby motes. Rigs was clever, Rigth was wriggly, Riggs was sly.'\n",
      "\tDecoded output shape ->  torch.Size([1, 55])\n",
      "\tDecoded output -> And the smegs, And the wispy, And twiggy, And all borby motes. Rigs was clever, Rigth was wriggly, Riggs was sly.\n",
      "================ End trainer sanity check ================\n",
      "\n"
     ]
    }
   ],
   "source": [
    "import aliases\n",
    "\n",
    "# inv_trainer = aliases.load_trainer_from_alias(\"openai_msmarco__msl128__100epoch\")\n",
    "corr_experiment, corr_trainer = aliases.load_experiment_and_trainer_from_alias(\"openai_msmarco__msl128__100epoch__correct_cheat\")\n",
    "inv_trainer = corr_trainer.inversion_trainer\n",
    "# corr_trainer.precompute_hypotheses()\n",
    "corr_trainer.model.eval()\n",
    "print()"
   ]
  },
  {
   "cell_type": "code",
   "execution_count": 3,
   "id": "b77fbba8-ed41-448a-b321-de3a0d83dccf",
   "metadata": {},
   "outputs": [
    {
     "name": "stderr",
     "output_type": "stream",
     "text": [
      "/home/jxm3/.conda/envs/torch/lib/python3.10/site-packages/torch/utils/data/dataloader.py:560: UserWarning: This DataLoader will create 6 worker processes in total. Our suggested max number of worker in current system is 1, which is smaller than what this DataLoader is going to create. Please be aware that excessive worker creation might get DataLoader running slow or even freeze, lower the worker number to avoid potential slowness/freeze if necessary.\n",
      "  warnings.warn(_create_warning_msg(\n"
     ]
    },
    {
     "name": "stdout",
     "output_type": "stream",
     "text": [
      "running manifest on text_list of length 3, first element '*The parking lot will require the use of a separate parking space for the proposed use of the. building. [District Floor Plan: Use of existing floor plan space, dimensions, and/or permit requirements for each. subfloor/space will be provided in the Submitting Documents.'\n"
     ]
    },
    {
     "data": {
      "text/html": [
       "\n",
       "    <div>\n",
       "      \n",
       "      <progress value='7' max='1' style='width:300px; height:20px; vertical-align: middle;'></progress>\n",
       "      [1/1 03:16]\n",
       "    </div>\n",
       "    "
      ],
      "text/plain": [
       "<IPython.core.display.HTML object>"
      ]
     },
     "metadata": {},
     "output_type": "display_data"
    },
    {
     "name": "stderr",
     "output_type": "stream",
     "text": [
      "generating from val:   0%|                                                                                     | 0/1 [00:00<?, ?it/s]"
     ]
    },
    {
     "name": "stdout",
     "output_type": "stream",
     "text": [
      "running manifest on text_list of length 3, first element '*The parking lot will require the use of a separate parking space for the proposed use of the. building. [District Floor Plan: Use of existing floor plan space, dimensions, and/or permit requirements for each. subfloor/space will be provided in the Submitting Documents.'\n",
      "running manifest on text_list of length 3, first element '*The parking lot will require the use of a separate parking space for the proposed use of the. building. [District Floor Plan: Show/Submit Floor Plan, dimensions, and/or permit requirements for each. permitted use/space]'\n"
     ]
    },
    {
     "name": "stderr",
     "output_type": "stream",
     "text": [
      "                                                                                                                                     \r"
     ]
    },
    {
     "name": "stdout",
     "output_type": "stream",
     "text": [
      "[pred] *The parking lot will require the use of a separate parking space for the proposed use of the. building. [District Floor Plan: Show/Submit Floor Plan, dimensions, and/or permit requirements for each. permitted use/space]\n",
      "[true] *The use of the driveway as the required parking spaces will require a separate submittal for a Use Permit. [ ] Floor plan (dimensioned): Show overall building size, existing and proposed room locations, existing and. proposed new window(s)/door(s) size/location(s).\n",
      "\n",
      "\n",
      "\n",
      "[pred] Our illuminated Seville map is encapsulated in a map of each of our cities, enabling you to discover hidden gems in every corner of the city.our SEGA SERVILLE, a fully accessible street map of the city centre, the central business district, the outskirts of the city center and the quaint streets of Corrientes, Madrid and Madrid are also highlighted in boldly colored spaces to aid in your exploration.\n",
      "[true] Our STREETWISE Seville Map enables you to explore each hidden corner of this enticing destination with a clearly defined map of the city, fully indexed and highlighted with hotels, parks and gardens, and places of interest. An inset of the center of Seville makes even the tiniest of alleyways navigable.rea maps of Cordoba, Grenada and Seville facilitate your entry into these three principal cities via auto, giving you the greatest freedom to experience all that is Southern Spain.\n",
      "\n",
      "\n",
      "\n",
      "[pred] aaa coupons 32 save aaa is an american not for profit organization with an average of 32 coupons for members save $ aaa codes show savings on a variety of products and services from car insurance to travel to automobile com aaa com earns more money with its members by providing convenient and affordable travel discounts\n",
      "[true] aaa coupon codes about aaa save an average of $ 32 with 26 coupon codes deals for aaa com aaa is a not for profit organization that lists the automobile clubs in the united states and offers travel benefits and automobile insurance to its members members review the aaa positively for its convenient travel benefits pricing of services and insurance claim policies shop aaa com show more show less\n",
      "running manifest on text_list of length 3, first element '*The parking lot will require the use of a separate parking space for the proposed use of the. building. [District Floor Plan: Show/Submit Floor Plan, dimensions, and/or permit requirements for each. permitted use/space]'\n",
      "running manifest on text_list of length 3, first element '*The use of the driveway as the required parking spaces will require a separate submittal for a Use Permit. [ ] Floor plan (dimensioned): Show overall building size, existing and proposed room locations, existing and. proposed new window(s)/door(s) size/location(s).'\n"
     ]
    },
    {
     "data": {
      "text/plain": [
       "{'eval_loss': 2.9332072734832764,\n",
       " 'eval_pred_num_tokens': 74.33333587646484,\n",
       " 'eval_true_num_tokens': 90.66667175292969,\n",
       " 'eval_token_set_precision': 0.45437002013834166,\n",
       " 'eval_token_set_recall': 0.5570871623503203,\n",
       " 'eval_token_set_f1': 0.49980611357015853,\n",
       " 'eval_bleu_score': 5.965771885447562,\n",
       " 'eval_meteor_score': 0.3322617559151426,\n",
       " 'eval_rouge_score': 0.48723019454726774,\n",
       " 'eval_exact_match': 0.0,\n",
       " 'eval_emb_cos_sim': 0.9486007690429688,\n",
       " 'eval_runtime': 9.9523,\n",
       " 'eval_samples_per_second': 0.301,\n",
       " 'eval_steps_per_second': 0.1}"
      ]
     },
     "execution_count": 3,
     "metadata": {},
     "output_type": "execute_result"
    }
   ],
   "source": [
    "corr_trainer.args.per_device_eval_batch_size = 128\n",
    "corr_trainer.return_best_hypothesis = False\n",
    "corr_trainer.num_gen_recursive_steps = 1\n",
    "corr_trainer.gen_kwargs = {\n",
    "    \"early_stopping\": False,\n",
    "    \"num_beams\": 1,\n",
    "    \"num_return_sequences\": 1,\n",
    "    \"do_sample\": False,\n",
    "    \"no_repeat_ngram_size\": 0,\n",
    "}\n",
    "corr_trainer.evaluate(\n",
    "    eval_dataset=inv_trainer.eval_dataset[\"msmarco\"].select(range(3))\n",
    ")"
   ]
  },
  {
   "cell_type": "code",
   "execution_count": 4,
   "id": "13780fcd-54e3-41ae-88d3-cc58f256bcd4",
   "metadata": {},
   "outputs": [
    {
     "name": "stdout",
     "output_type": "stream",
     "text": [
      "running manifest on text_list of length 3, first element '*The parking lot will require the use of a separate parking space for the proposed use of the. building. [District Floor Plan: Use of existing floor plan space, dimensions, and/or permit requirements for each. subfloor/space will be provided in the Submitting Documents.'\n"
     ]
    },
    {
     "name": "stderr",
     "output_type": "stream",
     "text": [
      "generating from val:   0%|                                                                                     | 0/1 [00:00<?, ?it/s]"
     ]
    },
    {
     "name": "stdout",
     "output_type": "stream",
     "text": [
      "running manifest on text_list of length 3, first element '*The parking lot will require the use of a separate parking space for the proposed use of the. building. [District Floor Plan: Use of existing floor plan space, dimensions, and/or permit requirements for each. subfloor/space will be provided in the Submitting Documents.'\n",
      "running manifest on text_list of length 3, first element '*The parking lot will require the use of a separate parking space for the proposed use of the. building. [District Floor Plan: Show/Submit Floor Plan, dimensions, and/or permit requirements for each. permitted use/space]'\n",
      "running manifest on text_list of length 3, first element '*The parking lot will require the use of a separate parking space for the existing. building. [Submit Floor Plan: Show/Submit Floor Plan, dimensions, and complete dimensions of each permitted use/use/use/space as. indicated].'\n",
      "running manifest on text_list of length 3, first element '*The parking lot will require the use of a separate parking space for the existing. building. [Submit Floor Plan: Show/Submit Floor Plan, dimensions, and complete dimensions of each permitted use/use/space as. indicated on the permit.'\n",
      "running manifest on text_list of length 3, first element '*The parking lot will require the issuance of a separate parking permit for the existing. building. [Submit Floor Plan: Show/Submit Floor Plan, dimensions, and complete dimensions of each permitted use/use/space as. indicated on the drawing.'\n",
      "running manifest on text_list of length 3, first element '*The parking lot will require the issuance of a separate parking permit for the existing. building. [Submit Floor Plan: Show/Submit Floor Plan, dimensions, and complete dimensions of each permitted use/use/space as. indicated on the drawing.'\n"
     ]
    },
    {
     "name": "stderr",
     "output_type": "stream",
     "text": [
      "                                                                                                                                     \r"
     ]
    },
    {
     "name": "stdout",
     "output_type": "stream",
     "text": [
      "[pred] *The parking lot will require the issuance of a separate parking permit for the existing. building. [Submit Floor Plan: Show/Submit Floor Plan, dimensions, and complete dimensions of each permitted use/use/space as. indicated on the drawing.\n",
      "[true] *The use of the driveway as the required parking spaces will require a separate submittal for a Use Permit. [ ] Floor plan (dimensioned): Show overall building size, existing and proposed room locations, existing and. proposed new window(s)/door(s) size/location(s).\n",
      "\n",
      "\n",
      "\n",
      "[pred] Our illuminated SEBIEN SERVILLE map is encapsulated in a hidden street map, enabling you to discover hidden gems in every corner of the city.our map of each of the major cities of Seville, Madrid, Costa Brava and Cartagena has been adapted to assist you with your essential travels by highlighting the major cities with an eye on the streets, landmarks and attractions of each city.\n",
      "[true] Our STREETWISE Seville Map enables you to explore each hidden corner of this enticing destination with a clearly defined map of the city, fully indexed and highlighted with hotels, parks and gardens, and places of interest. An inset of the center of Seville makes even the tiniest of alleyways navigable.rea maps of Cordoba, Grenada and Seville facilitate your entry into these three principal cities via auto, giving you the greatest freedom to experience all that is Southern Spain.\n",
      "\n",
      "\n",
      "\n",
      "[pred] aaa coupons 32 save aaa is an american not for profit organization with an average of 32 coupons for members save about $ aaa codes show savings on a variety of products and services from car insurance to travel to automobile com aaa com earns more money with its members by providing convenient and affordable travel discounts\n",
      "[true] aaa coupon codes about aaa save an average of $ 32 with 26 coupon codes deals for aaa com aaa is a not for profit organization that lists the automobile clubs in the united states and offers travel benefits and automobile insurance to its members members review the aaa positively for its convenient travel benefits pricing of services and insurance claim policies shop aaa com show more show less\n",
      "running manifest on text_list of length 3, first element '*The parking lot will require the issuance of a separate parking permit for the existing. building. [Submit Floor Plan: Show/Submit Floor Plan, dimensions, and complete dimensions of each permitted use/use/space as. indicated on the drawing.'\n",
      "running manifest on text_list of length 3, first element '*The use of the driveway as the required parking spaces will require a separate submittal for a Use Permit. [ ] Floor plan (dimensioned): Show overall building size, existing and proposed room locations, existing and. proposed new window(s)/door(s) size/location(s).'\n"
     ]
    },
    {
     "data": {
      "text/plain": [
       "{'eval_loss': 2.9332072734832764,\n",
       " 'eval_pred_num_tokens': 74.33333587646484,\n",
       " 'eval_true_num_tokens': 90.66667175292969,\n",
       " 'eval_token_set_precision': 0.45323176604500476,\n",
       " 'eval_token_set_recall': 0.5512364933338597,\n",
       " 'eval_token_set_f1': 0.49645169645169646,\n",
       " 'eval_bleu_score': 4.466994443079003,\n",
       " 'eval_meteor_score': 0.32812025587538013,\n",
       " 'eval_rouge_score': 0.49814608824619944,\n",
       " 'eval_exact_match': 0.0,\n",
       " 'eval_emb_cos_sim': 0.9524575471878052,\n",
       " 'eval_runtime': 11.968,\n",
       " 'eval_samples_per_second': 0.251,\n",
       " 'eval_steps_per_second': 0.084}"
      ]
     },
     "execution_count": 4,
     "metadata": {},
     "output_type": "execute_result"
    }
   ],
   "source": [
    "corr_trainer.args.per_device_eval_batch_size = 128\n",
    "corr_trainer.return_best_hypothesis = False\n",
    "corr_trainer.num_gen_recursive_steps = 5\n",
    "corr_trainer.gen_kwargs = {\n",
    "    \"early_stopping\": False,\n",
    "    \"num_beams\": 1,\n",
    "    \"num_return_sequences\": 1,\n",
    "    \"do_sample\": False,\n",
    "    \"no_repeat_ngram_size\": 0,\n",
    "}\n",
    "corr_trainer.evaluate(\n",
    "    eval_dataset=inv_trainer.eval_dataset[\"msmarco\"].select(range(3))\n",
    ")"
   ]
  },
  {
   "cell_type": "code",
   "execution_count": 3,
   "id": "e6f1ffe1-83b5-4481-8d68-94cb5e19e941",
   "metadata": {},
   "outputs": [
    {
     "name": "stderr",
     "output_type": "stream",
     "text": [
      "/home/jxm3/.conda/envs/torch/lib/python3.10/site-packages/torch/utils/data/dataloader.py:560: UserWarning: This DataLoader will create 6 worker processes in total. Our suggested max number of worker in current system is 1, which is smaller than what this DataLoader is going to create. Please be aware that excessive worker creation might get DataLoader running slow or even freeze, lower the worker number to avoid potential slowness/freeze if necessary.\n",
      "  warnings.warn(_create_warning_msg(\n"
     ]
    },
    {
     "name": "stdout",
     "output_type": "stream",
     "text": [
      "running manifest on text_list of length 1, first element '*The parking lot will require the use of a separate parking space for the proposed use of the. building. [District Floor Plan: Use of existing floor plan space, dimensions, and/or permit requirements for each. subfloor/space will be provided in the Submitting Documents.'\n"
     ]
    },
    {
     "data": {
      "text/html": [
       "\n",
       "    <div>\n",
       "      \n",
       "      <progress value='15' max='3' style='width:300px; height:20px; vertical-align: middle;'></progress>\n",
       "      [3/3 13:19]\n",
       "    </div>\n",
       "    "
      ],
      "text/plain": [
       "<IPython.core.display.HTML object>"
      ]
     },
     "metadata": {},
     "output_type": "display_data"
    },
    {
     "name": "stdout",
     "output_type": "stream",
     "text": [
      "running manifest on text_list of length 1, first element 'Our illuminated Seville map is encapsulated in a map of each of our cities, enabling you to discover the hidden gems of the city. Our enlightened Seville map also includes a map of the streets of the city centre, the central business district, the outskirts of the city center and the outskirts of the city center.e encourage you to take advantage of our easy-to-use, fully accessible and easy-to-use map of Seville, Valencia, Seville, and Seville.'\n",
      "running manifest on text_list of length 1, first element 'aaa coupons 32 save aaa is an american travel organization with an average of 32 coupons for members save $ aaa offers savings on a variety of products and services from aaa to car insurance aaa com offers coupons for car insurance and travel insurance not only saves money but also helps members save money on their car insurance and travel insurance'\n"
     ]
    },
    {
     "name": "stderr",
     "output_type": "stream",
     "text": [
      "generating from val:   0%|                                                                                     | 0/3 [00:00<?, ?it/s]"
     ]
    },
    {
     "name": "stdout",
     "output_type": "stream",
     "text": [
      "running manifest on text_list of length 1, first element '*The parking lot will require the use of a separate parking space for the proposed use of the. building. [District Floor Plan: Use of existing floor plan space, dimensions, and/or permit requirements for each. subfloor/space will be provided in the Submitting Documents.'\n",
      "running manifest on text_list of length 5, first element '*The parking lot will require the use of a separate parking space for the proposed use of the. building. [District Floor Plan: Use of existing floor plan space, dimensions, and/or permit requirements for each. subfloor/space will be provided in the Submit Fees.'\n",
      "running manifest on text_list of length 25, first element '*The parking lot will require a separate entrance/exit for the proposed use of the. building. [District Floor Plan: Use of existing floor plan space, dimensions, and/or permit requirements for each. subfloor/space will be provided in the Submit Fees.'\n",
      "running manifest on text_list of length 25, first element '*The parking lot will require the use of a separate parking space for the proposed use of the. building. [District Floor Plan: Use of existing floor plan space, dimensions, and/or permit requirements for each. subroom/driveway will be provided in the Submit Fees.'\n",
      "running manifest on text_list of length 25, first element '*The parking lot will require a separate entrance/exit for the proposed use of the. building. [District Floor Plan: Use of existing floor plan space, dimensions, and/or permit requirements for each. subfloor/space will be provided in the Show Fees section.'\n",
      "running manifest on text_list of length 25, first element '*The parking lot will require a separate entrance/exit for the proposed use of the. building. [District Floor Plan: Use of existing floor plan space, dimensions, and/or permit requirements for each. subfloor/space will be provided in the Show Fees column.'\n"
     ]
    },
    {
     "name": "stderr",
     "output_type": "stream",
     "text": [
      "generating from val:  33%|█████████████████████████▋                                                   | 1/3 [00:10<00:20, 10.49s/it]"
     ]
    },
    {
     "name": "stdout",
     "output_type": "stream",
     "text": [
      "running manifest on text_list of length 1, first element 'Our illuminated Seville map is encapsulated in a map of each of our cities, enabling you to discover the hidden gems of the city. Our enlightened Seville map also includes a map of the streets of the city centre, the central business district, the outskirts of the city center and the outskirts of the city center.e encourage you to take advantage of our easy-to-use, fully accessible and easy-to-use map of Seville, Valencia, Seville, and Seville.'\n",
      "running manifest on text_list of length 5, first element 'Our illuminated Seville map is encapsulated in a map of each of our cities, enabling you to discover the hidden gems of the city.OUR SEVENTH GAROUND, Sevilleâs most prominent street corner, and Sevilleâs central business district are clearly encapsulated in an easy-to-access map of every corner of the city. This feature also allows you to book hotels, restaurants, hotels and other places of interest.'\n",
      "running manifest on text_list of length 25, first element 'Our illuminated Seville map is encapsulated in a map of each hidden street corner, enabling you to discover the hidden gems of the city.OUR SEVISA GAROUND, Sevilleâs most prominent street corners, and Sevilleâs central business districts are clearly encapsulated in an easy-to-access map of every corner of the city. This feature also allows you to book hotels, restaurants and other places of interest.'\n",
      "running manifest on text_list of length 25, first element 'Our illuminated Seville map is encapsulated in a map of each hidden street corner, enabling you to discover the hidden gems of the city.OUR SEVISA GAROUND, Sevilleâs most prominent street corners, and Sevilleâs central business districts are clearly encapsulated in an easy-to-access map of every corner of the city. This feature also allows you to book hotels, restaurants and other places of interest in your travels.'\n",
      "running manifest on text_list of length 25, first element 'Our illuminated Seville map is encapsulated in a map of each hidden street corner, enabling you to discover the hidden gems of the city.OUR SEVISA GAROUND, Sevilleâs most prominent street corners, and Sevilleâs central business districts are clearly encapsulated in an easy-to-access map of every corner of the city. This feature also allows you to book hotels, restaurants and other places of interest in your travels.'\n",
      "running manifest on text_list of length 25, first element 'Our illuminated Seville map is encapsulated in a map of each hidden street corner, enabling you to discover the hidden gems of the city.OUR SEVISA GAROUND, Sevilleâs most prominent street corners, and Sevilleâs central business districts are clearly encapsulated in an easy-to-access map of every corner of the city. This feature also allows you to book hotels, restaurants and other places of interest in your travels.'\n"
     ]
    },
    {
     "name": "stderr",
     "output_type": "stream",
     "text": [
      "generating from val:  67%|███████████████████████████████████████████████████▎                         | 2/3 [00:22<00:11, 11.52s/it]"
     ]
    },
    {
     "name": "stdout",
     "output_type": "stream",
     "text": [
      "running manifest on text_list of length 1, first element 'aaa coupons 32 save aaa is an american travel organization with an average of 32 coupons for members save $ aaa offers savings on a variety of products and services from aaa to car insurance aaa com offers coupons for car insurance and travel insurance not only saves money but also helps members save money on their car insurance and travel insurance'\n",
      "running manifest on text_list of length 5, first element 'aaa coupons 32 save aaa is an american not for profit organization with an average of 32 coupons for members save $ aaa offers savings on a variety of products and services from aaa codes to car insurance aaa com displays coupons for aaa to help members save more'\n",
      "running manifest on text_list of length 25, first element 'aaa coupons 32 save aaa is an american not for profit organization with an average of 32 coupons for members save about $ aaa offers savings on a variety of products and services from travel benefits to travel codes to car insurance aaa com displays coupons for aaa to help members save more'\n",
      "running manifest on text_list of length 25, first element 'aaa coupons 32 save aaa is an american not for profit organization with an average of 32 coupons for members save about $ aaa offers savings on a variety of products and services from travel benefits to travel codes to car insurance aaa com displays coupons for aaa to help members save more'\n",
      "running manifest on text_list of length 25, first element 'aaa coupons 32 save aaa is an american not for profit organization with an average of 32 coupons for members save about $ aaa offers savings on a variety of products and services from travel benefits to travel codes to car insurance aaa com displays coupons for aaa to help members save more'\n",
      "running manifest on text_list of length 25, first element 'aaa coupons 32 save aaa is an american not for profit organization with an average of 32 coupons for members save about $ aaa offers savings on a variety of products and services from travel benefits to discount codes to car insurance aaa com displays coupons for aaa to help members save more'\n"
     ]
    },
    {
     "name": "stderr",
     "output_type": "stream",
     "text": [
      "                                                                                                                                     \r"
     ]
    },
    {
     "name": "stdout",
     "output_type": "stream",
     "text": [
      "[pred] *The parking lot will require a separate entrance/exit for the proposed use of the. building. [District Floor Plan: Use of existing floor plan space, dimensions, and/or permit requirements for each. subfloor/space will be provided in the Show Fees column.\n",
      "[true] *The use of the driveway as the required parking spaces will require a separate submittal for a Use Permit. [ ] Floor plan (dimensioned): Show overall building size, existing and proposed room locations, existing and. proposed new window(s)/door(s) size/location(s).\n",
      "\n",
      "\n",
      "\n",
      "[pred] Our illuminated Seville map is encapsulated in a map of each hidden street corner, enabling you to discover the hidden gems of the city.OUR SEVISA GAROUND, Sevilleâs most prominent street corners, and Sevilleâs central business districts are clearly encapsulated in an easy-to-access map of every corner of the city. This feature also allows you to book hotels, restaurants and other places of interest in your travels.\n",
      "[true] Our STREETWISE Seville Map enables you to explore each hidden corner of this enticing destination with a clearly defined map of the city, fully indexed and highlighted with hotels, parks and gardens, and places of interest. An inset of the center of Seville makes even the tiniest of alleyways navigable.rea maps of Cordoba, Grenada and Seville facilitate your entry into these three principal cities via auto, giving you the greatest freedom to experience all that is Southern Spain.\n",
      "\n",
      "\n",
      "\n",
      "[pred] aaa coupons 32 save aaa is an american not for profit organization with an average of 26 coupons for members save about $ aaa offers savings on a variety of products and services from travel benefits to discount codes to car insurance aaa com displays coupons for aaa to help members save more\n",
      "[true] aaa coupon codes about aaa save an average of $ 32 with 26 coupon codes deals for aaa com aaa is a not for profit organization that lists the automobile clubs in the united states and offers travel benefits and automobile insurance to its members members review the aaa positively for its convenient travel benefits pricing of services and insurance claim policies shop aaa com show more show less\n",
      "running manifest on text_list of length 3, first element '*The parking lot will require a separate entrance/exit for the proposed use of the. building. [District Floor Plan: Use of existing floor plan space, dimensions, and/or permit requirements for each. subfloor/space will be provided in the Show Fees column.'\n",
      "running manifest on text_list of length 3, first element '*The use of the driveway as the required parking spaces will require a separate submittal for a Use Permit. [ ] Floor plan (dimensioned): Show overall building size, existing and proposed room locations, existing and. proposed new window(s)/door(s) size/location(s).'\n"
     ]
    },
    {
     "data": {
      "text/plain": [
       "{'eval_loss': 2.900930404663086,\n",
       " 'eval_pred_num_tokens': 78.33333587646484,\n",
       " 'eval_true_num_tokens': 90.66667175292969,\n",
       " 'eval_token_set_precision': 0.467703353471675,\n",
       " 'eval_token_set_recall': 0.5439211868958109,\n",
       " 'eval_token_set_f1': 0.5017914097021602,\n",
       " 'eval_bleu_score': 6.679353890454544,\n",
       " 'eval_meteor_score': 0.31670915534283656,\n",
       " 'eval_rouge_score': 0.4942857142857144,\n",
       " 'eval_exact_match': 0.0,\n",
       " 'eval_emb_cos_sim': 0.9515328407287598,\n",
       " 'eval_runtime': 43.4954,\n",
       " 'eval_samples_per_second': 0.069,\n",
       " 'eval_steps_per_second': 0.069}"
      ]
     },
     "execution_count": 3,
     "metadata": {},
     "output_type": "execute_result"
    }
   ],
   "source": [
    "corr_trainer.args.per_device_eval_batch_size = 1\n",
    "corr_trainer.return_best_hypothesis = False\n",
    "corr_trainer.num_gen_recursive_steps = 5\n",
    "corr_trainer.sequence_beam_width = 5\n",
    "corr_trainer.gen_kwargs = {\n",
    "    \"early_stopping\": False,\n",
    "    \"num_beams\": 1,\n",
    "    \"num_return_sequences\": 1,\n",
    "    \"do_sample\": False,\n",
    "    \"no_repeat_ngram_size\": 0,\n",
    "}\n",
    "corr_trainer.evaluate(\n",
    "    eval_dataset=inv_trainer.eval_dataset[\"msmarco\"].select(range(3))\n",
    ")"
   ]
  },
  {
   "cell_type": "code",
   "execution_count": 5,
   "id": "8921494a-d23b-4e9a-9487-c4740c474ec2",
   "metadata": {},
   "outputs": [
    {
     "name": "stdout",
     "output_type": "stream",
     "text": [
      "running manifest on text_list of length 1, first element '*The parking lot will require the use of a separate parking space for the proposed use of the. building. [District Floor Plan: Use of existing floor plan space, dimensions, and/or permit requirements for each. subfloor/space will be provided in the Submitting Documents.'\n",
      "running manifest on text_list of length 1, first element 'Our illuminated Seville map is encapsulated in a map of each of our cities, enabling you to discover the hidden gems of the city. Our enlightened Seville map also includes a map of the streets of the city centre, the central business district, the outskirts of the city center and the outskirts of the city center.e encourage you to take advantage of our easy-to-use, fully accessible and easy-to-use map of Seville, Valencia, Seville, and Seville.'\n",
      "running manifest on text_list of length 1, first element 'aaa coupons 32 save aaa is an american travel organization with an average of 32 coupons for members save $ aaa offers savings on a variety of products and services from aaa to car insurance aaa com offers coupons for car insurance and travel insurance not only saves money but also helps members save money on their car insurance and travel insurance'\n"
     ]
    },
    {
     "name": "stderr",
     "output_type": "stream",
     "text": [
      "generating from val:   0%|                                                                                     | 0/3 [00:00<?, ?it/s]"
     ]
    },
    {
     "name": "stdout",
     "output_type": "stream",
     "text": [
      "running manifest on text_list of length 1, first element '*The parking lot will require the use of a separate parking space for the proposed use of the. building. [District Floor Plan: Use of existing floor plan space, dimensions, and/or permit requirements for each. subfloor/space will be provided in the Submitting Documents.'\n",
      "running manifest on text_list of length 5, first element '*The parking lot will require the use of a separate parking space for the proposed use of the. building. [District Floor Plan: Use of existing floor plan space, dimensions, and/or permit requirements for each. subfloor/space will be provided in the Submit Fees.'\n",
      "running manifest on text_list of length 25, first element '*The parking lot will require the use of a separate parking space for the proposed use of the. building. [District Floor Plan: Use of existing floor plan space, dimensions, and/or permit requirements for each. subfloor/driveway will be provided in the Submit.'\n",
      "running manifest on text_list of length 25, first element '*The parking lot will require the use of a separate parking space for the proposed use of the. building. [Purpose Floor Plan: Use of existing floor plan space, dimensions, and entrance/exit permit requirements for each. subfloor/driveway will be provided in the Submit.'\n",
      "running manifest on text_list of length 25, first element '*The driveway will require a separate parking space for the proposed use of the. building. [Submit Fees] [Purpose Floor Plan: Use of existing floor plan space, dimensions, and/or permit requirements for each. subroom/driveway will be provided in the Submit.'\n",
      "running manifest on text_list of length 25, first element '*The driveway will require a separate parking space for the proposed use of the. building. [Submit Fees] [Purpose Floor Plan: Use of existing floor plan space, dimensions, and/or permit requirements for each. subroom/driveway will be provided in the window size.'\n"
     ]
    },
    {
     "name": "stderr",
     "output_type": "stream",
     "text": [
      "generating from val:  33%|█████████████████████████▋                                                   | 1/3 [00:09<00:19,  9.64s/it]"
     ]
    },
    {
     "name": "stdout",
     "output_type": "stream",
     "text": [
      "running manifest on text_list of length 1, first element 'Our illuminated Seville map is encapsulated in a map of each of our cities, enabling you to discover the hidden gems of the city. Our enlightened Seville map also includes a map of the streets of the city centre, the central business district, the outskirts of the city center and the outskirts of the city center.e encourage you to take advantage of our easy-to-use, fully accessible and easy-to-use map of Seville, Valencia, Seville, and Seville.'\n",
      "running manifest on text_list of length 5, first element 'Our illuminated Seville map is encapsulated in a map of each of our cities, enabling you to discover the hidden gems of the city.OUR SEVENTH GAROUND, Sevilleâs most prominent street corner, and Sevilleâs central business district are clearly encapsulated in an easy-to-access map of every corner of the city. This feature also allows you to book hotels, restaurants, hotels and other places of interest.'\n",
      "running manifest on text_list of length 25, first element 'Our illuminated Seville map is encapsulated in a map of each hidden street corner, enabling you to discover the hidden gems of the city.OUR SEVISA GAROUND, Sevilleâs most prominent street corners, and Sevilleâs central business districts are clearly encapsulated in an easy-to-access map of every corner of the city. This feature also allows you to book hotels, restaurants, hotels and other places of interest in Spain.'\n",
      "running manifest on text_list of length 25, first element 'Our illuminated Seville map is encapsulated in a map of each hidden street corner, enabling you to discover the hidden gems of the city.OUR SEVISA GAROUND, Sevilleâs most prominent street corners, and Sevilleâs central business districts are clearly encapsulated in an easy-to-access map of every corner of the city. This feature also allows you to book hotels, resorts and other places of interest in Spain.'\n",
      "running manifest on text_list of length 25, first element 'Our illuminated Seville map is encapsulated in a map of each hidden street corner, enabling you to explore the hidden gems of the city.OUR SEVISA GAROUND, Sevilleâs most prominent street corners, and Sevilleâs central business districts are clearly encapsulated in an easy-to-access map of every corner of the city. This feature also allows you to book hotels, restaurants and other places of interest in Spain.'\n",
      "running manifest on text_list of length 25, first element 'Our illuminated Seville map is encapsulated in a map of each hidden street corner, enabling you to explore the hidden gems of the city.OUR SEVISA GAROUND, Sevilleâs most prominent street corners, and Sevilleâs central business districts are clearly encapsulated in an effortless-to-access map of every corner of the city. This feature also allows you to book hotels, restaurants and other places of interest in Spain.'\n"
     ]
    },
    {
     "name": "stderr",
     "output_type": "stream",
     "text": [
      "generating from val:  67%|███████████████████████████████████████████████████▎                         | 2/3 [00:22<00:11, 11.29s/it]"
     ]
    },
    {
     "name": "stdout",
     "output_type": "stream",
     "text": [
      "running manifest on text_list of length 1, first element 'aaa coupons 32 save aaa is an american travel organization with an average of 32 coupons for members save $ aaa offers savings on a variety of products and services from aaa to car insurance aaa com offers coupons for car insurance and travel insurance not only saves money but also helps members save money on their car insurance and travel insurance'\n",
      "running manifest on text_list of length 5, first element 'aaa coupons 32 save aaa is an american not for profit organization with an average of 32 coupons for members save $ aaa offers savings on a variety of products and services from aaa codes to car insurance aaa com displays coupons for aaa to help members save more'\n",
      "running manifest on text_list of length 25, first element 'aaa coupons 32 save aaa is an american not for profit organization with an average of 32 coupons for members save about $ aaa offers savings on aaa related products and services with aaa codes travelclubcom aaa com displays coupons for aaa to help members save more on their car insurance and travel benefits'\n",
      "running manifest on text_list of length 25, first element 'aaa coupons 32 save aaa is an american not for profit organization with an average of 32 coupons for members save $ aaa offers savings on more than $ 26 products and services with aaa codes from travelclubcomcom aaa com displays coupons for aaa to help members save more information about their car insurance and travel plans'\n",
      "running manifest on text_list of length 25, first element 'aaa coupons 32 save aaa is an american not for profit organization with an average of 32 coupons for members save $ aaa offers savings on more than $ 26 products and services with aaa codes from travelclubcomcom aaa com displays coupons for aaa to help members save more information about their car insurance benefits and travel plans'\n",
      "running manifest on text_list of length 25, first element 'aaa coupons 32 save aaa is an american not for profit organization with an average of 32 coupons for members save about $ aaa offers savings on more than $ 26 products and services with aaa codes from travelclubcomcomcom aaa com displays coupons for aaa to help members save more information about their car insurance benefits and travel plans'\n"
     ]
    },
    {
     "name": "stderr",
     "output_type": "stream",
     "text": [
      "                                                                                                                                     \r"
     ]
    },
    {
     "name": "stdout",
     "output_type": "stream",
     "text": [
      "[pred] *The driveway will require a separate parking space for the proposed use of the. building. [Purpose Permits: Show all]. Floor Plan: Use of existing floor plan space, dimensions, and/or permit requirements for each. subroom/driveway will be provided in the window size.\n",
      "[true] *The use of the driveway as the required parking spaces will require a separate submittal for a Use Permit. [ ] Floor plan (dimensioned): Show overall building size, existing and proposed room locations, existing and. proposed new window(s)/door(s) size/location(s).\n",
      "\n",
      "\n",
      "\n",
      "[pred] Our illuminated Seville map is encapsulated in a map of each hidden street corner, enabling you to explore the hidden gems of the city.OUR SEVISA GAROUND, Sevilleâs most prominent street corners, and Sevilleâs central business districts are clearly encapsulated in an easy-to-access map of every corner of the city. This feature also allows you to book hotels, resorts and other places of interest in Spain with full-accessibility.\n",
      "[true] Our STREETWISE Seville Map enables you to explore each hidden corner of this enticing destination with a clearly defined map of the city, fully indexed and highlighted with hotels, parks and gardens, and places of interest. An inset of the center of Seville makes even the tiniest of alleyways navigable.rea maps of Cordoba, Grenada and Seville facilitate your entry into these three principal cities via auto, giving you the greatest freedom to experience all that is Southern Spain.\n",
      "\n",
      "\n",
      "\n",
      "[pred] aaa coupons 32 save aaa is an american not for profit organization with an average of 32 coupons for members save about $ aaa offers savings on more than $ 26 products and services with aaa codes from travelclubcomcomcom aaa com displays coupons for aaa to help members save more information about their car insurance benefits and travel plans\n",
      "[true] aaa coupon codes about aaa save an average of $ 32 with 26 coupon codes deals for aaa com aaa is a not for profit organization that lists the automobile clubs in the united states and offers travel benefits and automobile insurance to its members members review the aaa positively for its convenient travel benefits pricing of services and insurance claim policies shop aaa com show more show less\n",
      "running manifest on text_list of length 3, first element '*The driveway will require a separate parking space for the proposed use of the. building. [Purpose Permits: Show all]. Floor Plan: Use of existing floor plan space, dimensions, and/or permit requirements for each. subroom/driveway will be provided in the window size.'\n",
      "running manifest on text_list of length 3, first element '*The use of the driveway as the required parking spaces will require a separate submittal for a Use Permit. [ ] Floor plan (dimensioned): Show overall building size, existing and proposed room locations, existing and. proposed new window(s)/door(s) size/location(s).'\n"
     ]
    },
    {
     "data": {
      "text/plain": [
       "{'eval_loss': 2.8996400833129883,\n",
       " 'eval_pred_num_tokens': 85.0,\n",
       " 'eval_true_num_tokens': 90.66667175292969,\n",
       " 'eval_token_set_precision': 0.5159338061465721,\n",
       " 'eval_token_set_recall': 0.5610040366137928,\n",
       " 'eval_token_set_f1': 0.5361447609346769,\n",
       " 'eval_bleu_score': 7.161232050702384,\n",
       " 'eval_meteor_score': 0.315146893527269,\n",
       " 'eval_rouge_score': 0.515234262125903,\n",
       " 'eval_exact_match': 0.0,\n",
       " 'eval_emb_cos_sim': 0.9661175012588501,\n",
       " 'eval_runtime': 41.7953,\n",
       " 'eval_samples_per_second': 0.072,\n",
       " 'eval_steps_per_second': 0.072}"
      ]
     },
     "execution_count": 5,
     "metadata": {},
     "output_type": "execute_result"
    }
   ],
   "source": [
    "corr_trainer.args.per_device_eval_batch_size = 1\n",
    "corr_trainer.return_best_hypothesis = True\n",
    "corr_trainer.num_gen_recursive_steps = 5\n",
    "corr_trainer.sequence_beam_width = 5\n",
    "corr_trainer.gen_kwargs = {\n",
    "    \"early_stopping\": False,\n",
    "    \"num_beams\": 1,\n",
    "    \"num_return_sequences\": 1,\n",
    "    \"do_sample\": False,\n",
    "    \"no_repeat_ngram_size\": 0,\n",
    "}\n",
    "corr_trainer.evaluate(\n",
    "    eval_dataset=inv_trainer.eval_dataset[\"msmarco\"].select(range(3))\n",
    ")"
   ]
  },
  {
   "cell_type": "code",
   "execution_count": 6,
   "id": "c61de484-dd31-424b-9a18-b2c3248e5a1f",
   "metadata": {},
   "outputs": [
    {
     "name": "stdout",
     "output_type": "stream",
     "text": [
      "running manifest on text_list of length 1, first element '*The parking lot will require the use of a separate parking space for the proposed use of the. building. [District Floor Plan: Use of existing floor plan space, dimensions, and/or permit requirements for each. subfloor/space will be provided in the Submitting Documents.'\n",
      "running manifest on text_list of length 1, first element 'Our illuminated Seville map is encapsulated in a map of each of our cities, enabling you to discover the hidden gems of the city. Our enlightened Seville map also includes a map of the streets of the city centre, the central business district, the outskirts of the city center and the outskirts of the city center.e encourage you to take advantage of our easy-to-use, fully accessible and easy-to-use map of Seville, Valencia, Seville, and Seville.'\n",
      "running manifest on text_list of length 1, first element 'aaa coupons 32 save aaa is an american travel organization with an average of 32 coupons for members save $ aaa offers savings on a variety of products and services from aaa to car insurance aaa com offers coupons for car insurance and travel insurance not only saves money but also helps members save money on their car insurance and travel insurance'\n"
     ]
    },
    {
     "name": "stderr",
     "output_type": "stream",
     "text": [
      "generating from val:   0%|                                                                                     | 0/3 [00:00<?, ?it/s]"
     ]
    },
    {
     "name": "stdout",
     "output_type": "stream",
     "text": [
      "running manifest on text_list of length 1, first element '*The parking lot will require the use of a separate parking space for the proposed use of the. building. [District Floor Plan: Use of existing floor plan space, dimensions, and/or permit requirements for each. subfloor/space will be provided in the Submitting Documents.'\n",
      "running manifest on text_list of length 8, first element '*The parking lot will require a separate entrance/exit permit for the proposed use of the. building. [District Floor Plan: Use of existing floor plan space, dimensions, and/or permit requirements for each. subfloor/space will be provided in the Submit.'\n",
      "running manifest on text_list of length 64, first element '*The parking lot will require a separate entrance/exit permit for the proposed use of the. building. [District Floor Plan: Use of existing floor plan space, dimensions, and/or permit requirements for each. subfloor/space will be provided in the Show Slide.'\n",
      "running manifest on text_list of length 64, first element '*The parking lot will require a separate entrance/exit permit for the proposed use of the. building. [Drive Subdivision: Use of existing floor plan space, dimensions] Show the complete permit requirements for each. permitted use/space.'\n",
      "running manifest on text_list of length 64, first element '*The driveway will require a separate entrance/exit permit for the proposed use of the. building. [Use Floor Plan: Show all existing floor plan spaces, dimensions, and required driving permit requirements for each. subfloor/space will be provided in the Submit.'\n",
      "running manifest on text_list of length 64, first element '*The driveway location will require a separate resale permit for the proposed use of the. building. [Use Floor Plan: Show all existing floor plan spaces, dimensions, and required driving permit requirements for each. subroom/space will be provided in the Submit.'\n",
      "06/14/2023 14:27:01 - ERROR - manifest.clients.client - {'error': {'message': 'The server had an error while processing your request. Sorry about that!', 'type': 'server_error', 'param': None, 'code': None}}\n",
      "running manifest on text_list of length 64, first element '*The driveway location will require a separate resale permit for the proposed use of the. building. [Use Floor Plan: Show all existing floor plan spaces, dimensions, and required driving permit requirements for each. subroom/space will be provided in the Submit.'\n",
      "running manifest on text_list of length 64, first element '*The driveway location will require a separate parking permit for the proposed use of the. building. [Use Floor Plan: Show all existing floor plan spaces, dimensions, and required sizes, as separate subunits, that will be provided in the Submit.'\n",
      "running manifest on text_list of length 64, first element '*The driveway location will require a separate parking permit for the proposed use of the. building. [Use Floor Plan: Show all existing floor plan spaces, dimensions, and required size sub-spaces as they are presented in the Submit.'\n",
      "running manifest on text_list of length 64, first element '*The driveway location will require a separate parking permit for the proposed use of the. building. [Use Floor Plan: Show all existing floor plan spaces, dimensions, and required size sub-spaces as they are presented in the. Submit/Submit window.'\n",
      "running manifest on text_list of length 64, first element '*The driveway location will require a separate parking permit for the proposed use of the. building. [Use Floor Plan: Show all existing subuse spaces, dimensions, and required sizes, as separate windows/doors that will be provided in the Submit.'\n",
      "running manifest on text_list of length 64, first element '*The driveway location generally requires a separate parking permit for the proposed use of the. building. [Use Floor Plan: Show all existing subuse spaces, dimensions, and required sizes, as separate windows/door sizes that will be provided in the Submit.'\n",
      "running manifest on text_list of length 64, first element '*The driveway location will require a separate parking permit for the proposed use of the. building. [Use Floor Plan: Show all existing subuse spaces, dimensions, and required sizes, as separate windows/door sizes that shall be provided in the Submit.'\n",
      "running manifest on text_list of length 64, first element '*The driveway location will require a separate parking permit for the proposed use of the. building. [Use Floor Plan: Show all existing subuse spaces, their dimensions, and required sizes, as separate windows/door sizes that shall be provided in the Submit.'\n",
      "running manifest on text_list of length 64, first element '*The driveway location will require a separate parking permit for the proposed use of the. building. [Use Floor Plan: Show all existing subuse spaces, their dimensions, and required sizes, as separate windows/door sizes that shall be provided in the Submit.'\n",
      "running manifest on text_list of length 64, first element '*The driveway location will require a separate parking permit for the proposed use of the. building. [Use Floor Plan: Show all existing subuse spaces, their dimensions, and required sizes, as separate windows/door sizes that shall be provided in the Submit.'\n",
      "running manifest on text_list of length 64, first element '*The driveway location will require a separate parking permit for the proposed use of the. building. [Use Floor Plan: Show all existing subuse spaces, overall dimensions, and required sizes, as separate windows/door sizes that shall be provided in the Submit.'\n"
     ]
    },
    {
     "name": "stderr",
     "output_type": "stream",
     "text": [
      "generating from val:  33%|█████████████████████████▋                                                   | 1/3 [00:44<01:28, 44.43s/it]"
     ]
    },
    {
     "name": "stdout",
     "output_type": "stream",
     "text": [
      "running manifest on text_list of length 1, first element 'Our illuminated Seville map is encapsulated in a map of each of our cities, enabling you to discover the hidden gems of the city. Our enlightened Seville map also includes a map of the streets of the city centre, the central business district, the outskirts of the city center and the outskirts of the city center.e encourage you to take advantage of our easy-to-use, fully accessible and easy-to-use map of Seville, Valencia, Seville, and Seville.'\n",
      "running manifest on text_list of length 8, first element 'Our illuminated Seville map is encapsulated in a map of each of our cities, enabling you to discover the hidden gems of the city.OUR SEVENTH GAROUND, Seville, Costa Rica and Seville Streets enable you to easily navigate the central business district with the utmost degree of accuracy and a detailed map of every corner of the city. Places of interest include a wide range of restaurants, hotels and attractions.'\n",
      "running manifest on text_list of length 64, first element 'Our illuminated Seville map is encapsulated in a map of each of these hidden gems, enabling you to discover the hidden gems of the city.OUR SEVENTH GAROUND, Seville, Costa Rica and Seville Streets enable you to easily navigate the central business district with the utmost degree of accuracy and a detailed map of every corner of the city. Places of interest include a wide range of restaurants, hotels and boutique hotels.'\n",
      "running manifest on text_list of length 64, first element 'Our illuminated Seville map is encapsulated in a map of each of these hidden gems, enabling you to discover the hidden gems of the city.OUR SEDESIDE GAROUND, Seville, Costa Rica and Seville Streets enable you to easily navigate the central business district with the utmost degree of accuracy and a detailed map of every corner of the city. Places of interest include a wide range of restaurants, hotels and boutique hotels.'\n",
      "running manifest on text_list of length 64, first element 'Our illuminated Seville map is encapsulated in a map of each of these hidden gems, enabling you to discover the hidden gems of the city.OUR SEASIDE GAROUND, Seville, Costa Rica and Seville Streets enable you to easily navigate the central business district with the utmost degree of accuracy and a detailed map of every corner of the city. Places of interest include a wide range of hotels and motels in Seville.'\n",
      "running manifest on text_list of length 64, first element 'Our illuminated Seville map is encapsulated in a map of each of these hidden gems, enabling you to discover the hidden gems of the city.OUR SEASIDE GAROUND, Seville, Costa Rica and Seville Streets enable you to easily navigate the central business district with the utmost degree of accuracy and a detailed map of every corner of the city. Places of interest include a wide range of restaurants and boutiques, as well as hotels and motels in Seville.'\n",
      "running manifest on text_list of length 64, first element 'Our illuminated Seville map is encapsulated in a map of each of these hidden gems, enabling you to discover the hidden gems of the city.OUR SEASIDE GAROUND, Seville, Costa Rica and Seville Streets enable you to easily navigate the central business district with the utmost degree of accuracy and a detailed map of every corner of the city. Places of interest include a wide range of hotels and motels in Seville, Madrid and Toledo.'\n",
      "running manifest on text_list of length 64, first element 'Our illuminated Seville map is encapsulated in a map of each of these hidden gems, enabling you to discover the hidden gems of the city.OUR SEASIDE GAROUND, Seville, Costa Rica and Seville Street maps enable you to easily navigate the central business district with the utmost degree of accuracy and a detailed map of every corner of the city. Places of interest include a wide range of hotels and motels in Seville, Madrid and Toledo.'\n",
      "running manifest on text_list of length 64, first element 'Our illuminated Seville map is encapsulated in a map of each of these hidden gems, enabling you to discover the hidden gems of the city.OUR SEASIDE GAROUND, Seville, Costa Rica and Seville Street maps enable you to easily navigate the central business district with the utmost degree of accuracy and a detailed map of every corner of the city. Places of interest include a wide range of hotels and motels in Seville, Madrid and Toledo.'\n",
      "running manifest on text_list of length 64, first element 'Our illuminated Seville map is encapsulated in a map of each of these hidden gems, enabling you to discover the hidden gems of the city.OUR SEASIDE GAROUND, Seville, Costa Rica and Seville Street maps enable you to easily navigate your central business district with the utmost degree of detail and a definitive map of every corner of the city. Places of interest include a wide range of hotels and motels in Seville, Madrid and Toledo.'\n",
      "running manifest on text_list of length 64, first element 'Our illuminated Seville map is encapsulated in a map of each of these hidden gems, enabling you to discover the hidden jewels of the city.OUR SEASIDE GAROUND, Seville, Costa Rica and Seville Street maps enable you to effectively navigate the central business district with the utmost degree of detail and a definitive map of every corner of the city. Places of interest include a wide range of hotels and motels in Seville, Madrid and Toledo.'\n",
      "running manifest on text_list of length 64, first element 'Our illuminated Seville map is encapsulated in a map of each of these hidden gems, enabling you to discover the hidden jewels of the city.OUR SEASIDE GAROUND, Seville, Costa Rica and Seville Street maps enable you to effectively navigate your central business district with the utmost degree of detail and a definitive map of every corner of the city. Places of interest include a wide range of hotels and motels in Seville, Madrid and Toledo.'\n",
      "running manifest on text_list of length 64, first element 'Our illuminated Seville map is encapsulated in a map of each of these hidden gems, enabling you to discover the hidden jewels of the city.OUR SEASIDE GAROUND, Seville Street maps and Costa Rica Street maps enable you to effectively navigate your central business district with the utmost degree of detail and a map of every corner of the city. Places of interest include a wide range of hotels and motels in Seville, Madrid and Toledo.'\n",
      "running manifest on text_list of length 64, first element 'Our illuminated Seville map is encapsulated in a map of each of these hidden gems, enabling you to discover the hidden jewels of the city.OUR SEASIDE GAROUND, Seville Street maps and Costa Rica Street maps enable you to effectively navigate your central business district with the utmost degree of detail and a map of every corner of the city. Places of interest include a wide range of hotels and motels in Seville, Madrid and Toledo.'\n",
      "running manifest on text_list of length 64, first element 'Our illuminated Seville map is encapsulated in a map of each of these hidden gems, enabling you to discover the hidden jewels of the city.OUR SEASIDE GAROUND, Seville Street maps and Costa Rica Street maps enable you to effectively navigate your central business districts with the utmost degree of detail and a map of every corner of the city. Places of interest include a wide range of hotels and motels in Seville, Madrid and Toledo.'\n",
      "running manifest on text_list of length 64, first element 'Our illuminated Seville map is encapsulated in a map of each of these hidden gems, enabling you to discover the hidden jewels of the city.OUR SEASIDE GAROUND, Seville Street maps and Seville Street Planner enable you to effectively navigate your central business districts with the utmost degree of detail and a definitive map of every corner of the city. Places of interest include a wide range of hotels and motels in Seville, Madrid and Cordoba.'\n",
      "06/14/2023 14:28:20 - ERROR - manifest.clients.client - {'error': {'message': 'The server had an error while processing your request. Sorry about that!', 'type': 'server_error', 'param': None, 'code': None}}\n",
      "running manifest on text_list of length 64, first element 'Our illuminated Seville map is encapsulated in a map of each of these hidden gems, enabling you to discover the hidden jewels of the city.OUR SEASIDE GAROUND, Seville Street maps and Seville Street Planner enable you to effectively navigate your central business districts with the utmost degree of detail and a definitive map of every corner of the city. Places of interest include a wide range of hotels and motels in Seville, Madrid and Cordoba.'\n"
     ]
    },
    {
     "name": "stderr",
     "output_type": "stream",
     "text": [
      "generating from val:  67%|███████████████████████████████████████████████████▎                         | 2/3 [01:36<00:48, 48.73s/it]"
     ]
    },
    {
     "name": "stdout",
     "output_type": "stream",
     "text": [
      "running manifest on text_list of length 1, first element 'aaa coupons 32 save aaa is an american travel organization with an average of 32 coupons for members save $ aaa offers savings on a variety of products and services from aaa to car insurance aaa com offers coupons for car insurance and travel insurance not only saves money but also helps members save money on their car insurance and travel insurance'\n",
      "running manifest on text_list of length 8, first element 'aaa coupons 32 save aaa is an american not for profit organization with an average of 32 coupons for members save $ aaa offers savings on a variety of products and services from aaa codes to car insurance aaa com displays coupons for aaa to help members save more'\n",
      "running manifest on text_list of length 64, first element 'aaa coupons 32 save aaa is an american not for profit organization with an average of 32 coupons for members save $ aaa codes save more with aaa com show the benefits of aaa com aaa com offers coupons for car insurance and travel related products and services to help members save money on their car insurance and commute around the country'\n",
      "running manifest on text_list of length 64, first element 'aaa coupons 32 save aaa is an american not for profit organization with an average of 32 coupons for members save about $ aaa codes save more with aaa com show the benefits of aaa com aaa com offers coupons for car insurance and travel related products and services to help members save money on their car insurance and travel plans'\n",
      "running manifest on text_list of length 64, first element 'aaa coupons 32 save aaa is an american not for profit organization with an average of $ 26 coupons for members save about 63 aaa codes save more with aaa com show the benefits of aaa com aaa com offers coupons for car insurance and travel related products and services to help members save money on their travel plans and commute around the united states'\n",
      "running manifest on text_list of length 64, first element 'aaa coupons 32 save aaa is an american not for profit organization with an average of 32 coupons for members save about $ 26 $ aaa codes save more with aaa com show the benefits of aaa com aaa com offers coupons for car insurance and travel related products and services to help members save money on their automobile and travel related products'\n",
      "running manifest on text_list of length 64, first element 'aaa coupons 32 save aaa is an american not for profit organization with an average of 32 coupons for members save an average of about $ 26 aaa codes save more with aaa com show the benefits of aaa com aaa com offers coupons for car insurance and travel related products and services to members in the united states'\n",
      "running manifest on text_list of length 64, first element 'aaa coupons 32 save aaa is an american not for profit organization with an average of $ 26 coupon codes for members save about 65% with coupon codes save more with aaa com show the benefits of aaa com aaa com offers discounts on automobile insurance and travel related products and services to help members save money on their automobile travel and commute around the united states'\n",
      "running manifest on text_list of length 64, first element 'aaa coupons 32 save aaa is an american not for profit organization with an average of $ 26 coupon codes for members save about 65% with coupon codes save more with aaa com show the benefits of aaa com aaa com offers discounts on automobile insurance and travel related products and services to help members save money on their automobile travel and commute around the united states'\n",
      "running manifest on text_list of length 64, first element 'aaa coupons 32 save aaa is an american not for profit organization with an average of $ 26 coupon codes for members save an average of $ 32 coupon codes save more with aaa com show the benefits of aaa com aaa com offers discounts on automobile insurance and travel related products and services to help members save on their automobile travel and commute around the united states'\n",
      "running manifest on text_list of length 64, first element 'aaa coupons 32 save aaa is an american not for profit organization with an average of $ 26 coupon codes for members save an average of $ 32 coupon codes save more with aaa com show the benefits of aaa com aaa com offers discounts on automobile insurance and travel related products and services to help members save on their automobile travel and commute around the united states and more'\n",
      "running manifest on text_list of length 64, first element 'aaa coupons 32 save aaa is an american not for profit organization with an average of $ 26 coupon codes for members save an average of $ 32 coupon codes save more with aaa com show the benefits of aaa com aaa com offers discounts on automobile insurance and travel related products and services in the member s favorite travel and leisure clubs around the united states'\n",
      "running manifest on text_list of length 64, first element 'aaa coupons 32 save aaa is an american not for profit organization with an average of $ 26 coupon codes for members save an average of $ 32 coupon codes save more with aaa com show the benefits about aaa com aaa com offers discounts on automobile insurance and travel related products and services in most member s favorite travel and leisure clubs around the united states'\n",
      "running manifest on text_list of length 64, first element 'aaa coupons 32 save aaa is an american not for profit organization with an average of $ 26 coupon codes for members save an average of $ 32 coupon codes save more with aaa com show the benefits about aaa com aaa com offers discounts on automobile insurance and travel related goods and services in most member s favorite travel and leisure clubs around the united states'\n",
      "running manifest on text_list of length 64, first element 'aaa coupons 32 save aaa is an american not for profit organization with an average of $ 26 coupon codes for members save an average of $ 32 coupon codes save more with aaa com show the benefits about aaa com aaa com offers discounts on automobile insurance and travel related goods and services in the member s favorite travel and leisure clubs around the united states'\n",
      "running manifest on text_list of length 64, first element 'aaa coupons 32 save aaa is an american not for profit organization with an average of $ 26 coupon codes for members save an average of $ 32 coupon codes save more with aaa com show the benefits about aaa com aaa com offers discounts on automobile insurance and travel related goods and services in most member s favorite travel and leisure clubs around the united states'\n"
     ]
    },
    {
     "name": "stderr",
     "output_type": "stream",
     "text": [
      "                                                                                                                                     \r"
     ]
    },
    {
     "name": "stdout",
     "output_type": "stream",
     "text": [
      "[pred] *The driveway location will require a separate parking permit for the proposed use of the. building. [Use Floor Plan: Show all existing subuse spaces, their dimensions, and required sizes, as separate windows/door sizes that shall be provided in the Submit.\n",
      "[true] *The use of the driveway as the required parking spaces will require a separate submittal for a Use Permit. [ ] Floor plan (dimensioned): Show overall building size, existing and proposed room locations, existing and. proposed new window(s)/door(s) size/location(s).\n",
      "\n",
      "\n",
      "\n",
      "[pred] Our illuminated Seville map is encapsulated in a map of each of these hidden treasures, enabling you to discover the hidden jewels of the city.OUR SEASIDE GAROUND, Seville Street maps and Seville Street Planner enable you to effectively navigate your central business districts with the utmost degree of detail and a definitive map of every corner of the city. Places of interest include a wide range of hotels and motels in Seville, Madrid and Cordoba.\n",
      "[true] Our STREETWISE Seville Map enables you to explore each hidden corner of this enticing destination with a clearly defined map of the city, fully indexed and highlighted with hotels, parks and gardens, and places of interest. An inset of the center of Seville makes even the tiniest of alleyways navigable.rea maps of Cordoba, Grenada and Seville facilitate your entry into these three principal cities via auto, giving you the greatest freedom to experience all that is Southern Spain.\n",
      "\n",
      "\n",
      "\n",
      "[pred] aaa coupons 32 save aaa is an american not for profit organization with an average of $ 26 coupon codes for members save an average of $ 32 coupon codes save more with aaa com show the benefits about aaa com aaa com offers discounts on automobile insurance and travel related goods and services in the member s favorite travel and leisure clubs around the united states\n",
      "[true] aaa coupon codes about aaa save an average of $ 32 with 26 coupon codes deals for aaa com aaa is a not for profit organization that lists the automobile clubs in the united states and offers travel benefits and automobile insurance to its members members review the aaa positively for its convenient travel benefits pricing of services and insurance claim policies shop aaa com show more show less\n",
      "running manifest on text_list of length 3, first element '*The driveway location will require a separate parking permit for the proposed use of the. building. [Use Floor Plan: Show all existing subuse spaces, their dimensions, and required sizes, as separate windows/door sizes that shall be provided in the Submit.'\n",
      "running manifest on text_list of length 3, first element '*The use of the driveway as the required parking spaces will require a separate submittal for a Use Permit. [ ] Floor plan (dimensioned): Show overall building size, existing and proposed room locations, existing and. proposed new window(s)/door(s) size/location(s).'\n"
     ]
    },
    {
     "data": {
      "text/plain": [
       "{'eval_loss': 2.9003868103027344,\n",
       " 'eval_pred_num_tokens': 84.33333587646484,\n",
       " 'eval_true_num_tokens': 90.66667175292969,\n",
       " 'eval_token_set_precision': 0.5712582085631731,\n",
       " 'eval_token_set_recall': 0.6163833609729132,\n",
       " 'eval_token_set_f1': 0.5923963004708347,\n",
       " 'eval_bleu_score': 11.23825355446046,\n",
       " 'eval_meteor_score': 0.41247066824638184,\n",
       " 'eval_rouge_score': 0.6071537179520897,\n",
       " 'eval_exact_match': 0.0,\n",
       " 'eval_emb_cos_sim': 0.9768344163894653,\n",
       " 'eval_runtime': 147.6754,\n",
       " 'eval_samples_per_second': 0.02,\n",
       " 'eval_steps_per_second': 0.02}"
      ]
     },
     "execution_count": 6,
     "metadata": {},
     "output_type": "execute_result"
    }
   ],
   "source": [
    "corr_trainer.args.per_device_eval_batch_size = 1\n",
    "corr_trainer.return_best_hypothesis = True\n",
    "corr_trainer.num_gen_recursive_steps = 15\n",
    "corr_trainer.sequence_beam_width = 8\n",
    "corr_trainer.gen_kwargs = {\n",
    "    \"early_stopping\": False,\n",
    "    \"num_beams\": 1,\n",
    "    \"num_return_sequences\": 1,\n",
    "    \"do_sample\": False,\n",
    "    \"no_repeat_ngram_size\": 0,\n",
    "}\n",
    "corr_trainer.evaluate(\n",
    "    eval_dataset=inv_trainer.eval_dataset[\"msmarco\"].select(range(3))\n",
    ")"
   ]
  },
  {
   "cell_type": "code",
   "execution_count": 7,
   "id": "163990b5-6819-4d48-91ef-2f7e7d373c8e",
   "metadata": {},
   "outputs": [
    {
     "name": "stdout",
     "output_type": "stream",
     "text": [
      "running manifest on text_list of length 1, first element '*The parking lot will require the use of a separate parking space for the proposed use of the. building. [District Floor Plan: Use of existing floor plan space, dimensions, and/or permit requirements for each. subfloor/space will be provided in the Submitting Documents.'\n",
      "running manifest on text_list of length 1, first element 'Our illuminated Seville map is encapsulated in a map of each of our cities, enabling you to discover the hidden gems of the city. Our enlightened Seville map also includes a map of the streets of the city centre, the central business district, the outskirts of the city center and the outskirts of the city center.e encourage you to take advantage of our easy-to-use, fully accessible and easy-to-use map of Seville, Valencia, Seville, and Seville.'\n",
      "running manifest on text_list of length 1, first element 'aaa coupons 32 save aaa is an american travel organization with an average of 32 coupons for members save $ aaa offers savings on a variety of products and services from aaa to car insurance aaa com offers coupons for car insurance and travel insurance not only saves money but also helps members save money on their car insurance and travel insurance'\n"
     ]
    },
    {
     "name": "stderr",
     "output_type": "stream",
     "text": [
      "generating from val:   0%|                                                                                     | 0/3 [00:00<?, ?it/s]"
     ]
    },
    {
     "name": "stdout",
     "output_type": "stream",
     "text": [
      "running manifest on text_list of length 1, first element '*The parking lot will require the use of a separate parking space for the proposed use of the. building. [District Floor Plan: Use of existing floor plan space, dimensions, and/or permit requirements for each. subfloor/space will be provided in the Submitting Documents.'\n",
      "running manifest on text_list of length 8, first element '*The parking lot will require a separate entrance/exit permit for the proposed use of the. building. [District Floor Plan: Use of existing floor plan space, dimensions, and/or permit requirements for each. subfloor/space will be provided in the Submit.'\n",
      "running manifest on text_list of length 64, first element '*The parking lot will require a separate entrance/exit permit for the proposed use of the. building. [District Floor Plan: Use of existing floor plan space, dimensions, and/or permit requirements for each. subfloor/space will be provided in the Show Slide.'\n",
      "running manifest on text_list of length 64, first element '*The parking lot will require a separate entrance/exit permit for the proposed use of the. building. [Drive Subdivision: Use of existing floor plan space, dimensions] Show the complete permit requirements for each. permitted use/space.'\n",
      "running manifest on text_list of length 64, first element '*The driveway will require a separate entrance/exit permit for the proposed use of the. building. [Use Floor Plan: Show all existing floor plan spaces, dimensions, and required driving permit requirements for each. subfloor/space will be provided in the Submit.'\n",
      "running manifest on text_list of length 64, first element '*The driveway location will require a separate resale permit for the proposed use of the. building. [Use Floor Plan: Show all existing floor plan spaces, dimensions, and required driving permit requirements for each. subroom/space will be provided in the Submit.'\n",
      "running manifest on text_list of length 64, first element '*The driveway location will require a separate parking permit for the proposed use of the. building. [Use Floor Plan: Show all existing floor plan spaces, dimensions, and required sizes, as separate subunits, that will be provided in the Submit.'\n",
      "running manifest on text_list of length 64, first element '*The driveway location will require a separate parking permit for the proposed use of the. building. [Use Floor Plan: Show all existing floor plan spaces, dimensions, and required size sub-spaces as they are presented in the Submit.'\n",
      "running manifest on text_list of length 64, first element '*The driveway location will require a separate parking permit for the proposed use of the. building. [Use Floor Plan: Show all existing floor plan spaces, dimensions, and required size sub-spaces as they are presented in the. Submit/Submit window.'\n",
      "running manifest on text_list of length 64, first element '*The driveway location will require a separate parking permit for the proposed use of the. building. [Use Floor Plan: Show all existing subuse spaces, dimensions, and required sizes, as separate windows/doors that will be provided in the Submit.'\n",
      "running manifest on text_list of length 64, first element '*The driveway location generally requires a separate parking permit for the proposed use of the. building. [Use Floor Plan: Show all existing subuse spaces, dimensions, and required sizes, as separate windows/door sizes that will be provided in the Submit.'\n",
      "06/14/2023 14:30:15 - ERROR - manifest.clients.client - {'error': {'message': 'The server had an error while processing your request. Sorry about that!', 'type': 'server_error', 'param': None, 'code': None}}\n",
      "running manifest on text_list of length 64, first element '*The driveway location generally requires a separate parking permit for the proposed use of the. building. [Use Floor Plan: Show all existing subuse spaces, dimensions, and required sizes, as separate windows/door sizes that will be provided in the Submit.'\n",
      "running manifest on text_list of length 64, first element '*The driveway location will require a separate parking permit for the proposed use of the. building. [Use Floor Plan: Show all existing subuse spaces, dimensions, and required sizes, as separate windows/door sizes that shall be provided in the Submit.'\n",
      "running manifest on text_list of length 64, first element '*The driveway location will require a separate parking permit for the proposed use of the. building. [Use Floor Plan: Show all existing subuse spaces, their dimensions, and required sizes, as separate windows/door sizes that shall be provided in the Submit.'\n",
      "running manifest on text_list of length 64, first element '*The driveway location will require a separate parking permit for the proposed use of the. building. [Use Floor Plan: Show all existing subuse spaces, their dimensions, and required sizes, as separate windows/door sizes that shall be provided in the Submit.'\n",
      "running manifest on text_list of length 64, first element '*The driveway location will require a separate parking permit for the proposed use of the. building. [Use Floor Plan: Show all existing subuse spaces, their dimensions, and required sizes, as separate windows/door sizes that shall be provided in the Submit.'\n",
      "running manifest on text_list of length 64, first element '*The driveway location will require a separate parking permit for the proposed use of the. building. [Use Floor Plan: Show all existing subuse spaces, overall dimensions, and required sizes, as separate windows/door sizes that shall be provided in the Submit.'\n",
      "running manifest on text_list of length 64, first element '*The driveway location will require a separate parking permit for the proposed use of the. building. [Use Floor Plan: Show all existing subuse spaces, overall dimensions, and required sizes, as separate windows/door sizes that shall be provided in the Submit.'\n",
      "running manifest on text_list of length 64, first element '*The driveway location will require a separate parking permit for the proposed use of the. building. [Use Floor Plan: Show all existing subuse spaces, their dimensions, and required sizes, as separate windows/door sizes that shall be provided in the Submit.'\n",
      "running manifest on text_list of length 64, first element '*The driveway location will require a separate parking permit for the proposed use of the. building. [Use Floor Plan: Show all existing subuse spaces, overall dimensions, and required room sizes as separate windows/door sizes that shall be provided in the Submit.'\n",
      "running manifest on text_list of length 64, first element '*The driveway location will require a separate parking permit for the proposed use of the. building. [Use Floor Plan: Show all existing subuse spaces, overall dimensions, and required room sizes as separate windows/door sizes that shall be provided in the Submit.'\n",
      "running manifest on text_list of length 64, first element '*The driveway location will require a separate parking permit for the proposed use of the. building. [Use Floor Plan: Show all existing subuse spaces, overall dimensions, and required room sizes as separate windows/door sizes that shall be provided in the Submit.'\n",
      "running manifest on text_list of length 64, first element '*The driveway location will require a separate parking permit for the proposed use of the. building. [Use Floor Plan: Show all existing subuse spaces, overall dimensions, and required room sizes as separate windows/door sizes that shall be provided in the Submit.'\n",
      "running manifest on text_list of length 64, first element '*The driveway location will require a separate parking permit for the proposed use of the. building. [Use Floor Plan: Show all existing subuse spaces, overall dimensions, and required room sizes as separate windows/door sizes that shall be provided in the Submit.'\n",
      "running manifest on text_list of length 64, first element '*The driveway location will require a separate parking permit for the proposed use of the. building. [Use Floor Plan: Show all existing subuse spaces, overall dimensions, and required room sizes as separate windows/door sizes that shall be provided in the Submit.'\n",
      "running manifest on text_list of length 64, first element '*The driveway location will require a separate parking permit for the proposed use of the. building. [Use Floor Plan: Show all existing subuse spaces, overall dimensions, and required room sizes as separate windows/door sizes that shall be provided in the Submit.'\n",
      "running manifest on text_list of length 64, first element '*The driveway location will require a separate parking permit for the proposed use of the. building. [Use Floor Plan: Show all existing subuse spaces, overall dimensions, and required room sizes as separate windows/door sizes that shall be provided in the Submit.'\n",
      "running manifest on text_list of length 64, first element '*The driveway location will require a separate parking permit for the proposed use of the. building. [Use Floor Plan: Show all existing subuse spaces, overall dimensions, and required room sizes as separate windows/door sizes that shall be provided in the Submit.'\n",
      "running manifest on text_list of length 64, first element '*The driveway location will require a separate parking permit for the proposed use of the. building. [Use Floor Plan: Show all existing subuse spaces, overall dimensions, and required room sizes as separate windows/door sizes that shall be provided in the Submit.'\n",
      "running manifest on text_list of length 64, first element '*The driveway location will require a separate parking permit for the proposed use of the. building. [Use Floor Plan: Show all existing subuse spaces, overall dimensions, and required room sizes as separate windows/door sizes that shall be provided in the Submit.'\n",
      "running manifest on text_list of length 64, first element '*The driveway location will require a separate parking permit for the proposed use of the. building. [Use Floor Plan: Show all existing subuse spaces, overall dimensions, and required room sizes as separate windows/door sizes that shall be provided in the Submit.'\n",
      "running manifest on text_list of length 64, first element '*The driveway location will require a separate parking permit for the proposed use of the. building. [Use Floor Plan: Show all existing subuse spaces, overall dimensions, and required room sizes as separate windows/door sizes that shall be provided in the Submit.'\n",
      "running manifest on text_list of length 64, first element '*The driveway location will require a separate parking permit for the proposed use of the. building. [Use Floor Plan: Show all existing subuse spaces, overall dimensions, and required room sizes as separate windows/door sizes that shall be provided in the Submit.'\n",
      "running manifest on text_list of length 64, first element '*The driveway location will require a separate parking permit for the proposed use of the. building. [Use Floor Plan: Show all existing subuse spaces, overall dimensions, and required room sizes as separate windows/door sizes that shall be provided in the Submit.'\n",
      "running manifest on text_list of length 64, first element '*The driveway location will require a separate parking permit for the proposed use of the. building. [Use Floor Plan: Show all existing subuse spaces, overall dimensions, and required room sizes as separate windows/door sizes that shall be provided in the Submit.'\n",
      "running manifest on text_list of length 64, first element '*The driveway location will require a separate parking permit for the proposed use of the. building. [Use Floor Plan: Show all existing subuse spaces, overall dimensions, and required room sizes as separate windows/door sizes that shall be provided in the Submit.'\n",
      "running manifest on text_list of length 64, first element '*The driveway location will require a separate parking permit for the proposed use of the. building. [Use Floor Plan: Show all existing subuse spaces, overall dimensions, and required room sizes as separate windows/door sizes that shall be provided in the Submit.'\n",
      "running manifest on text_list of length 64, first element '*The driveway location will require a separate parking permit for the proposed use of the. building. [Use Floor Plan: Show all existing subuse spaces, overall dimensions, and required room sizes as separate windows/door sizes that shall be provided in the Submit.'\n",
      "running manifest on text_list of length 64, first element '*The driveway location will require a separate parking permit for the proposed use of the. building. [Use Floor Plan: Show all existing subuse spaces, overall dimensions, and required room sizes as separate windows/door sizes that shall be provided in the Submit.'\n",
      "running manifest on text_list of length 64, first element '*The driveway location will require a separate parking permit for the proposed use of the. building. [Use Floor Plan: Show all existing subuse spaces, overall dimensions, and required room sizes as separate windows/door sizes that shall be provided in the Submit.'\n",
      "running manifest on text_list of length 64, first element '*The driveway location will require a separate parking permit for the proposed use of the. building. [Use Floor Plan: Show all existing subuse spaces, overall dimensions, and required room sizes as separate windows/door sizes that shall be provided in the Submit.'\n",
      "running manifest on text_list of length 64, first element '*The driveway location will require a separate parking permit for the proposed use of the. building. [Use Floor Plan: Show all existing subuse spaces, overall dimensions, and required room sizes as separate windows/door sizes that shall be provided in the Submit.'\n",
      "running manifest on text_list of length 64, first element '*The driveway location will require a separate parking permit for the proposed use of the. building. [Use Floor Plan: Show all existing subuse spaces, overall dimensions, and required room sizes as separate windows/door sizes that shall be provided in the Submit.'\n",
      "running manifest on text_list of length 64, first element '*The driveway location will require a separate parking permit for the proposed use of the. building. [Use Floor Plan: Show all existing subuse spaces, overall dimensions, and required room sizes as separate windows/door sizes that shall be provided in the Submit.'\n",
      "running manifest on text_list of length 64, first element '*The driveway location will require a separate parking permit for the proposed use of the. building. [Use Floor Plan: Show all existing subuse spaces, overall dimensions, and required room sizes as separate windows/door sizes that shall be provided in the Submit.'\n",
      "running manifest on text_list of length 64, first element '*The driveway location will require a separate parking permit for the proposed use of the. building. [Use Floor Plan: Show all existing subuse spaces, overall dimensions, and required room sizes as separate windows/door sizes that shall be provided in the Submit.'\n",
      "running manifest on text_list of length 64, first element '*The driveway location will require a separate parking permit for the proposed use of the. building. [Use Floor Plan: Show all existing subuse spaces, overall dimensions, and required room sizes as separate windows/door sizes that shall be provided in the Submit.'\n",
      "running manifest on text_list of length 64, first element '*The driveway location will require a separate parking permit for the proposed use of the. building. [Use Floor Plan: Show all existing subuse spaces, overall dimensions, and required room sizes as separate windows/door sizes that shall be provided in the Submit.'\n",
      "running manifest on text_list of length 64, first element '*The driveway location will require a separate parking permit for the proposed use of the. building. [Use Floor Plan: Show all existing subuse spaces, overall dimensions, and required room sizes as separate windows/door sizes that shall be provided in the Submit.'\n",
      "running manifest on text_list of length 64, first element '*The driveway location will require a separate parking permit for the proposed use of the. building. [Use Floor Plan: Show all existing subuse spaces, overall dimensions, and required room sizes as separate windows/door sizes that shall be provided in the Submit.'\n",
      "running manifest on text_list of length 64, first element '*The driveway location will require a separate parking permit for the proposed use of the. building. [Use Floor Plan: Show all existing subuse spaces, overall dimensions, and required room sizes as separate windows/door sizes that shall be provided in the Submit.'\n",
      "running manifest on text_list of length 64, first element '*The driveway location will require a separate parking permit for the proposed use of the. building. [Use Floor Plan: Show all existing subuse spaces, overall dimensions, and required room sizes as separate windows/door sizes that shall be provided in the Submit.'\n"
     ]
    },
    {
     "name": "stderr",
     "output_type": "stream",
     "text": [
      "generating from val:  33%|█████████████████████████▎                                                  | 1/3 [02:14<04:29, 134.93s/it]"
     ]
    },
    {
     "name": "stdout",
     "output_type": "stream",
     "text": [
      "running manifest on text_list of length 1, first element 'Our illuminated Seville map is encapsulated in a map of each of our cities, enabling you to discover the hidden gems of the city. Our enlightened Seville map also includes a map of the streets of the city centre, the central business district, the outskirts of the city center and the outskirts of the city center.e encourage you to take advantage of our easy-to-use, fully accessible and easy-to-use map of Seville, Valencia, Seville, and Seville.'\n",
      "running manifest on text_list of length 8, first element 'Our illuminated Seville map is encapsulated in a map of each of our cities, enabling you to discover the hidden gems of the city.OUR SEVENTH GAROUND, Seville, Costa Rica and Seville Streets enable you to easily navigate the central business district with the utmost degree of accuracy and a detailed map of every corner of the city. Places of interest include a wide range of restaurants, hotels and attractions.'\n",
      "running manifest on text_list of length 64, first element 'Our illuminated Seville map is encapsulated in a map of each of these hidden gems, enabling you to discover the hidden gems of the city.OUR SEVENTH GAROUND, Seville, Costa Rica and Seville Streets enable you to easily navigate the central business district with the utmost degree of accuracy and a detailed map of every corner of the city. Places of interest include a wide range of restaurants, hotels and boutique hotels.'\n",
      "running manifest on text_list of length 64, first element 'Our illuminated Seville map is encapsulated in a map of each of these hidden gems, enabling you to discover the hidden gems of the city.OUR SEDESIDE GAROUND, Seville, Costa Rica and Seville Streets enable you to easily navigate the central business district with the utmost degree of accuracy and a detailed map of every corner of the city. Places of interest include a wide range of restaurants, hotels and boutique hotels.'\n",
      "running manifest on text_list of length 64, first element 'Our illuminated Seville map is encapsulated in a map of each of these hidden gems, enabling you to discover the hidden gems of the city.OUR SEASIDE GAROUND, Seville, Costa Rica and Seville Streets enable you to easily navigate the central business district with the utmost degree of accuracy and a detailed map of every corner of the city. Places of interest include a wide range of hotels and motels in Seville.'\n",
      "running manifest on text_list of length 64, first element 'Our illuminated Seville map is encapsulated in a map of each of these hidden gems, enabling you to discover the hidden gems of the city.OUR SEASIDE GAROUND, Seville, Costa Rica and Seville Streets enable you to easily navigate the central business district with the utmost degree of accuracy and a detailed map of every corner of the city. Places of interest include a wide range of restaurants and boutiques, as well as hotels and motels in Seville.'\n",
      "running manifest on text_list of length 64, first element 'Our illuminated Seville map is encapsulated in a map of each of these hidden gems, enabling you to discover the hidden gems of the city.OUR SEASIDE GAROUND, Seville, Costa Rica and Seville Streets enable you to easily navigate the central business district with the utmost degree of accuracy and a detailed map of every corner of the city. Places of interest include a wide range of hotels and motels in Seville, Madrid and Toledo.'\n",
      "running manifest on text_list of length 64, first element 'Our illuminated Seville map is encapsulated in a map of each of these hidden gems, enabling you to discover the hidden gems of the city.OUR SEASIDE GAROUND, Seville, Costa Rica and Seville Street maps enable you to easily navigate the central business district with the utmost degree of accuracy and a detailed map of every corner of the city. Places of interest include a wide range of hotels and motels in Seville, Madrid and Toledo.'\n",
      "running manifest on text_list of length 64, first element 'Our illuminated Seville map is encapsulated in a map of each of these hidden gems, enabling you to discover the hidden gems of the city.OUR SEASIDE GAROUND, Seville, Costa Rica and Seville Street maps enable you to easily navigate the central business district with the utmost degree of accuracy and a detailed map of every corner of the city. Places of interest include a wide range of hotels and motels in Seville, Madrid and Toledo.'\n",
      "running manifest on text_list of length 64, first element 'Our illuminated Seville map is encapsulated in a map of each of these hidden gems, enabling you to discover the hidden gems of the city.OUR SEASIDE GAROUND, Seville, Costa Rica and Seville Street maps enable you to easily navigate your central business district with the utmost degree of detail and a definitive map of every corner of the city. Places of interest include a wide range of hotels and motels in Seville, Madrid and Toledo.'\n",
      "running manifest on text_list of length 64, first element 'Our illuminated Seville map is encapsulated in a map of each of these hidden gems, enabling you to discover the hidden jewels of the city.OUR SEASIDE GAROUND, Seville, Costa Rica and Seville Street maps enable you to effectively navigate the central business district with the utmost degree of detail and a definitive map of every corner of the city. Places of interest include a wide range of hotels and motels in Seville, Madrid and Toledo.'\n",
      "running manifest on text_list of length 64, first element 'Our illuminated Seville map is encapsulated in a map of each of these hidden gems, enabling you to discover the hidden jewels of the city.OUR SEASIDE GAROUND, Seville, Costa Rica and Seville Street maps enable you to effectively navigate your central business district with the utmost degree of detail and a definitive map of every corner of the city. Places of interest include a wide range of hotels and motels in Seville, Madrid and Toledo.'\n",
      "running manifest on text_list of length 64, first element 'Our illuminated Seville map is encapsulated in a map of each of these hidden gems, enabling you to discover the hidden jewels of the city.OUR SEASIDE GAROUND, Seville, Costa Rica Street maps enable you to effectively navigate your central business districts with the utmost degree of detail and a definitive map of every corner of the city. Places of interest include a wide range of hotels and motels in Seville, Madrid and Toledo.'\n",
      "running manifest on text_list of length 64, first element 'Our illuminated Seville map is encapsulated in a map of each of these hidden gems, enabling you to discover the hidden jewels of the city.OUR SEASIDE GAROUND, Seville Street maps and Costa Rica Street maps enable you to effectively navigate your central business districts with the utmost degree of detail and a definitive map of every corner of the city. Places of interest include a wide range of hotels and motels in Seville, Madrid and Toledo.'\n",
      "running manifest on text_list of length 64, first element 'Our illuminated Seville map is encapsulated in a map of each of these hidden gems, enabling you to discover the hidden jewels of the city.OUR SEASIDE GAROUND, Seville Street maps and Costa Rica Street maps enable you to effectively navigate your central business districts with the utmost degree of detail and a definitive map of every corner of the city. Places of interest include a wide range of hotels and motels in Seville, Madrid and Toledo.'\n",
      "running manifest on text_list of length 64, first element 'Our illuminated Seville map is encapsulated in a map of each of these hidden gems, enabling you to discover the hidden jewels of the city.OUR SEASIDE GAROUND, Seville Street maps and Seville Street Planner enable you to effectively navigate your central business districts with the utmost degree of detail and a definitive map of every corner of the city. Places of interest include a wide range of hotels and motels in Seville, Madrid and Cordoba.'\n",
      "running manifest on text_list of length 64, first element 'Our illuminated Seville map is encapsulated in a map of each of these hidden treasures, enabling you to discover the hidden jewels of the city.OUR SEASIDE GAROUND, Seville Street maps and Seville Street Planner enable you to effectively navigate your central business districts with the utmost degree of detail and a definitive map of every corner of the city. Places of interest include a wide range of hotels and motels in Seville, Madrid and Cordoba.'\n",
      "running manifest on text_list of length 64, first element 'Our illuminated Seville map is encapsulated in a map of each of these hidden treasures, enabling you to discover the hidden jewels of the city.OUR SEASIDE GAROUND, Seville street maps and Seville Street Planner enable you to effectively navigate your central business districts with the utmost degree of detail and a definitive map of every corner of the city. Places of interest include a wide range of hotels and motels in Seville, Madrid and Cordoba.'\n",
      "running manifest on text_list of length 64, first element 'Our illuminated Seville map is encapsulated in an in-depth map of each of these hidden jewels, enabling you to discover the hidden jewels of the city.OUR SEASIDE GAROUND, Seville street maps and Seville Street Planner enable you to effectively navigate your central business districts with the utmost degree of detail and a definitive map of every corner of the city. Places of interest include a wide range of hotels and motels in Seville, Madrid and Cordoba.'\n",
      "running manifest on text_list of length 64, first element 'Our illuminated Seville map is encapsulated in an in-depth map of each of these hidden jewels, enabling you to discover the hidden jewels of the city.OUR SEASIDE GAROUND, Seville street maps and Seville Street Planner enable you to effectively navigate your central business districts with the utmost degree of detail and a definitive map of every corner of the city. Places of interest include a wide range of hotels and motels in Seville, Madrid and Cordoba, easily accessible by car.'\n",
      "running manifest on text_list of length 64, first element 'Our enlightened Seville map is encapsulated in a map of each of these hidden jewels, enabling you to discover the hidden jewels of the city.OUR SEASIDE GAROUND, Seville street maps and Seville Street Planner enable you to effectively navigate your central business districts with the utmost degree of detail and a definitive map of every corner of the city. Places of interest include a wide range of hotels and motels in Seville, Madrid and Cordoba, easily accessible by auto.'\n",
      "running manifest on text_list of length 64, first element 'Our enlightened Seville map is encapsulated in a map of each of these hidden jewels, enabling you to discover the hidden jewels of the city.OUR SEASIDE GAROUND, Seville street maps and Seville Street Planner enable you to effectively navigate your central business districts with the utmost degree of detail and a definitive map of every corner of the city. Places of interest include a wide range of hotels and motels in Seville, Madrid and Cordoba, easily accessible by auto.'\n",
      "running manifest on text_list of length 64, first element 'Our enlightened Seville map is encapsulated in a map of each of these hidden jewels, enabling you to discover the hidden jewels of the city.OUR SEASIDE GAROUND, Seville street maps and Seville Street Planner enable you to effectively navigate your central business districts with the utmost degree of detail and a definitive map of every corner of the city. Places of interest include a wide range of hotels and motels in Seville, Madrid and Cordoba, easily accessible by auto.'\n",
      "running manifest on text_list of length 64, first element 'Our enlightened Seville map is encapsulated in a map of each of these hidden jewels, enabling you to discover the hidden jewels of the city.OUR SEASIDE GAROUND, Seville street maps and Seville Street Planner enable you to effectively navigate your central business districts with the utmost degree of detail and a definitive map of every corner of the city. Places of interest include a wide range of hotels and motels in Seville, Madrid and Cordoba, easily accessible by auto.'\n",
      "running manifest on text_list of length 64, first element 'Our enlightened Seville map is encapsulated in a map of each of these hidden jewels, enabling you to discover the hidden jewels of the city.OUR SEASIDE GAROUND, Seville street maps and Seville Street Planner enable you to effectively navigate your central business districts with the utmost degree of detail and a definitive map of every corner of the city. Places of interest include a wide range of hotels and motels in Seville, Madrid and Cordoba, easily accessible by auto.'\n",
      "running manifest on text_list of length 64, first element 'Our enlightened Seville map is encapsulated in a map of each of these hidden jewels, enabling you to discover the hidden jewels of the city.OUR SEASIDE GAROUND, Seville street maps and Seville Street Planner enable you to effectively navigate your central business districts with the utmost degree of detail and a definitive map of every corner of the city. Places of interest include a wide range of hotels and motels in Seville, Madrid and Cordoba, easily accessible by auto.'\n",
      "running manifest on text_list of length 64, first element 'Our enlightened Seville map is encapsulated in a map of each of these hidden jewels, enabling you to discover the hidden jewels of the city.OUR SEASIDE GAROUND, Seville street maps and Seville Street Planner enable you to effectively navigate your central business districts with the utmost degree of detail and a definitive map of every corner of the city. Places of interest include a wide range of hotels and motels in Seville, Madrid and Cordoba, easily accessible by auto.'\n",
      "running manifest on text_list of length 64, first element 'Our enlightened Seville map is encapsulated in a map of each of these hidden jewels, enabling you to discover the hidden jewels of the city.OUR SEASIDE GAROUND, Seville street maps and Seville Street Planner enable you to effectively navigate your central business districts with the utmost degree of detail and a definitive map of every corner of the city. Places of interest include a wide range of hotels and motels in Seville, Madrid and Cordoba, easily accessible by auto.'\n",
      "running manifest on text_list of length 64, first element 'Our enlightened Seville map is encapsulated in a map of each of these hidden jewels, enabling you to discover the hidden jewels of the city.OUR SEASIDE GAROUND, Seville street maps and Seville Street Planner enable you to effectively navigate your central business districts with the utmost degree of detail and a definitive map of every corner of the city. Places of interest include a wide range of hotels and motels in Seville, Madrid and Cordoba, easily accessible by auto.'\n",
      "running manifest on text_list of length 64, first element 'Our enlightened Seville map is encapsulated in a map of each of these hidden jewels, enabling you to discover the hidden jewels of the city.OUR SEASIDE GAROUND, Seville street maps and Seville Street Planner enable you to effectively navigate your central business districts with the utmost degree of detail and a definitive map of every corner of the city. Places of interest include a wide range of hotels and motels in Seville, Madrid and Cordoba, easily accessible by auto.'\n",
      "running manifest on text_list of length 64, first element 'Our enlightened Seville map is encapsulated in a map of each of these hidden jewels, enabling you to discover the hidden jewels of the city.OUR SEASIDE GAROUND, Seville street maps and Seville Street Planner enable you to effectively navigate your central business districts with the utmost degree of detail and a definitive map of every corner of the city. Places of interest include a wide range of hotels and motels in Seville, Madrid and Cordoba, easily accessible by auto.'\n",
      "running manifest on text_list of length 64, first element 'Our enlightened Seville map is encapsulated in a map of each of these hidden jewels, enabling you to discover the hidden jewels of the city.OUR SEASIDE GAROUND, Seville street maps and Seville Street Planner enable you to effectively navigate your central business districts with the utmost degree of detail and a definitive map of every corner of the city. Places of interest include a wide range of hotels and motels in Seville, Madrid and Cordoba, easily accessible by auto.'\n",
      "running manifest on text_list of length 64, first element 'Our enlightened Seville map is encapsulated in a map of each of these hidden jewels, enabling you to discover the hidden jewels of the city.OUR SEASIDE GAROUND, Seville street maps and Seville Street Planner enable you to effectively navigate your central business districts with the utmost degree of detail and a definitive map of every corner of the city. Places of interest include a wide range of hotels and motels in Seville, Madrid and Cordoba, easily accessible by auto.'\n",
      "running manifest on text_list of length 64, first element 'Our enlightened Seville map is encapsulated in a map of each of these hidden jewels, enabling you to discover the hidden jewels of the city.OUR SEASIDE GAROUND, Seville street maps and Seville Street Planner enable you to effectively navigate your central business districts with the utmost degree of detail and a definitive map of every corner of the city. Places of interest include a wide range of hotels and motels in Seville, Madrid and Cordoba, easily accessible by auto.'\n",
      "running manifest on text_list of length 64, first element 'Our enlightened Seville map is encapsulated in a map of each of these hidden jewels, enabling you to discover the hidden jewels of the city.OUR SEASIDE GAROUND, Seville street maps and Seville Street Planner enable you to effectively navigate your central business districts with the utmost degree of detail and a definitive map of every corner of the city. Places of interest include a wide range of hotels and motels in Seville, Madrid and Cordoba, easily accessible by auto.'\n"
     ]
    },
    {
     "name": "stderr",
     "output_type": "stream",
     "text": [
      "                                                                                                                                     \r"
     ]
    },
    {
     "ename": "OutOfMemoryError",
     "evalue": "CUDA out of memory. Tried to allocate 22.00 MiB (GPU 0; 47.54 GiB total capacity; 35.49 GiB already allocated; 14.88 MiB free; 46.46 GiB reserved in total by PyTorch) If reserved memory is >> allocated memory try setting max_split_size_mb to avoid fragmentation.  See documentation for Memory Management and PYTORCH_CUDA_ALLOC_CONF",
     "output_type": "error",
     "traceback": [
      "\u001b[0;31m---------------------------------------------------------------------------\u001b[0m",
      "\u001b[0;31mOutOfMemoryError\u001b[0m                          Traceback (most recent call last)",
      "Cell \u001b[0;32mIn[7], line 12\u001b[0m\n\u001b[1;32m      4\u001b[0m corr_trainer\u001b[38;5;241m.\u001b[39msequence_beam_width \u001b[38;5;241m=\u001b[39m \u001b[38;5;241m8\u001b[39m\n\u001b[1;32m      5\u001b[0m corr_trainer\u001b[38;5;241m.\u001b[39mgen_kwargs \u001b[38;5;241m=\u001b[39m {\n\u001b[1;32m      6\u001b[0m     \u001b[38;5;124m\"\u001b[39m\u001b[38;5;124mearly_stopping\u001b[39m\u001b[38;5;124m\"\u001b[39m: \u001b[38;5;28;01mFalse\u001b[39;00m,\n\u001b[1;32m      7\u001b[0m     \u001b[38;5;124m\"\u001b[39m\u001b[38;5;124mnum_beams\u001b[39m\u001b[38;5;124m\"\u001b[39m: \u001b[38;5;241m1\u001b[39m,\n\u001b[0;32m   (...)\u001b[0m\n\u001b[1;32m     10\u001b[0m     \u001b[38;5;124m\"\u001b[39m\u001b[38;5;124mno_repeat_ngram_size\u001b[39m\u001b[38;5;124m\"\u001b[39m: \u001b[38;5;241m0\u001b[39m,\n\u001b[1;32m     11\u001b[0m }\n\u001b[0;32m---> 12\u001b[0m \u001b[43mcorr_trainer\u001b[49m\u001b[38;5;241;43m.\u001b[39;49m\u001b[43mevaluate\u001b[49m\u001b[43m(\u001b[49m\n\u001b[1;32m     13\u001b[0m \u001b[43m    \u001b[49m\u001b[43meval_dataset\u001b[49m\u001b[38;5;241;43m=\u001b[39;49m\u001b[43minv_trainer\u001b[49m\u001b[38;5;241;43m.\u001b[39;49m\u001b[43meval_dataset\u001b[49m\u001b[43m[\u001b[49m\u001b[38;5;124;43m\"\u001b[39;49m\u001b[38;5;124;43mmsmarco\u001b[39;49m\u001b[38;5;124;43m\"\u001b[39;49m\u001b[43m]\u001b[49m\u001b[38;5;241;43m.\u001b[39;49m\u001b[43mselect\u001b[49m\u001b[43m(\u001b[49m\u001b[38;5;28;43mrange\u001b[39;49m\u001b[43m(\u001b[49m\u001b[38;5;241;43m3\u001b[39;49m\u001b[43m)\u001b[49m\u001b[43m)\u001b[49m\n\u001b[1;32m     14\u001b[0m \u001b[43m)\u001b[49m\n",
      "File \u001b[0;32m~/.conda/envs/torch/lib/python3.10/site-packages/transformers/trainer.py:3029\u001b[0m, in \u001b[0;36mTrainer.evaluate\u001b[0;34m(self, eval_dataset, ignore_keys, metric_key_prefix)\u001b[0m\n\u001b[1;32m   3026\u001b[0m start_time \u001b[38;5;241m=\u001b[39m time\u001b[38;5;241m.\u001b[39mtime()\n\u001b[1;32m   3028\u001b[0m eval_loop \u001b[38;5;241m=\u001b[39m \u001b[38;5;28mself\u001b[39m\u001b[38;5;241m.\u001b[39mprediction_loop \u001b[38;5;28;01mif\u001b[39;00m \u001b[38;5;28mself\u001b[39m\u001b[38;5;241m.\u001b[39margs\u001b[38;5;241m.\u001b[39muse_legacy_prediction_loop \u001b[38;5;28;01melse\u001b[39;00m \u001b[38;5;28mself\u001b[39m\u001b[38;5;241m.\u001b[39mevaluation_loop\n\u001b[0;32m-> 3029\u001b[0m output \u001b[38;5;241m=\u001b[39m \u001b[43meval_loop\u001b[49m\u001b[43m(\u001b[49m\n\u001b[1;32m   3030\u001b[0m \u001b[43m    \u001b[49m\u001b[43meval_dataloader\u001b[49m\u001b[43m,\u001b[49m\n\u001b[1;32m   3031\u001b[0m \u001b[43m    \u001b[49m\u001b[43mdescription\u001b[49m\u001b[38;5;241;43m=\u001b[39;49m\u001b[38;5;124;43m\"\u001b[39;49m\u001b[38;5;124;43mEvaluation\u001b[39;49m\u001b[38;5;124;43m\"\u001b[39;49m\u001b[43m,\u001b[49m\n\u001b[1;32m   3032\u001b[0m \u001b[43m    \u001b[49m\u001b[38;5;66;43;03m# No point gathering the predictions if there are no metrics, otherwise we defer to\u001b[39;49;00m\n\u001b[1;32m   3033\u001b[0m \u001b[43m    \u001b[49m\u001b[38;5;66;43;03m# self.args.prediction_loss_only\u001b[39;49;00m\n\u001b[1;32m   3034\u001b[0m \u001b[43m    \u001b[49m\u001b[43mprediction_loss_only\u001b[49m\u001b[38;5;241;43m=\u001b[39;49m\u001b[38;5;28;43;01mTrue\u001b[39;49;00m\u001b[43m \u001b[49m\u001b[38;5;28;43;01mif\u001b[39;49;00m\u001b[43m \u001b[49m\u001b[38;5;28;43mself\u001b[39;49m\u001b[38;5;241;43m.\u001b[39;49m\u001b[43mcompute_metrics\u001b[49m\u001b[43m \u001b[49m\u001b[38;5;129;43;01mis\u001b[39;49;00m\u001b[43m \u001b[49m\u001b[38;5;28;43;01mNone\u001b[39;49;00m\u001b[43m \u001b[49m\u001b[38;5;28;43;01melse\u001b[39;49;00m\u001b[43m \u001b[49m\u001b[38;5;28;43;01mNone\u001b[39;49;00m\u001b[43m,\u001b[49m\n\u001b[1;32m   3035\u001b[0m \u001b[43m    \u001b[49m\u001b[43mignore_keys\u001b[49m\u001b[38;5;241;43m=\u001b[39;49m\u001b[43mignore_keys\u001b[49m\u001b[43m,\u001b[49m\n\u001b[1;32m   3036\u001b[0m \u001b[43m    \u001b[49m\u001b[43mmetric_key_prefix\u001b[49m\u001b[38;5;241;43m=\u001b[39;49m\u001b[43mmetric_key_prefix\u001b[49m\u001b[43m,\u001b[49m\n\u001b[1;32m   3037\u001b[0m \u001b[43m\u001b[49m\u001b[43m)\u001b[49m\n\u001b[1;32m   3039\u001b[0m total_batch_size \u001b[38;5;241m=\u001b[39m \u001b[38;5;28mself\u001b[39m\u001b[38;5;241m.\u001b[39margs\u001b[38;5;241m.\u001b[39meval_batch_size \u001b[38;5;241m*\u001b[39m \u001b[38;5;28mself\u001b[39m\u001b[38;5;241m.\u001b[39margs\u001b[38;5;241m.\u001b[39mworld_size\n\u001b[1;32m   3040\u001b[0m \u001b[38;5;28;01mif\u001b[39;00m \u001b[38;5;124mf\u001b[39m\u001b[38;5;124m\"\u001b[39m\u001b[38;5;132;01m{\u001b[39;00mmetric_key_prefix\u001b[38;5;132;01m}\u001b[39;00m\u001b[38;5;124m_jit_compilation_time\u001b[39m\u001b[38;5;124m\"\u001b[39m \u001b[38;5;129;01min\u001b[39;00m output\u001b[38;5;241m.\u001b[39mmetrics:\n",
      "File \u001b[0;32m~/research/retrieval/inversion/trainers/base.py:379\u001b[0m, in \u001b[0;36mBaseTrainer.evaluation_loop\u001b[0;34m(self, dataloader, *args, **kwargs)\u001b[0m\n\u001b[1;32m    377\u001b[0m metric_key_prefix \u001b[38;5;241m=\u001b[39m kwargs[\u001b[38;5;124m\"\u001b[39m\u001b[38;5;124mmetric_key_prefix\u001b[39m\u001b[38;5;124m\"\u001b[39m]\n\u001b[1;32m    378\u001b[0m \u001b[38;5;66;03m# TODO compute some data metrics here too.\u001b[39;00m\n\u001b[0;32m--> 379\u001b[0m generation_metrics \u001b[38;5;241m=\u001b[39m \u001b[38;5;28;43mself\u001b[39;49m\u001b[38;5;241;43m.\u001b[39;49m\u001b[43meval_generation_metrics\u001b[49m\u001b[43m(\u001b[49m\u001b[43mdataloader\u001b[49m\u001b[38;5;241;43m=\u001b[39;49m\u001b[43mdataloader\u001b[49m\u001b[43m)\u001b[49m\n\u001b[1;32m    380\u001b[0m generation_metrics \u001b[38;5;241m=\u001b[39m {\n\u001b[1;32m    381\u001b[0m     \u001b[38;5;124mf\u001b[39m\u001b[38;5;124m\"\u001b[39m\u001b[38;5;132;01m{\u001b[39;00mmetric_key_prefix\u001b[38;5;132;01m}\u001b[39;00m\u001b[38;5;124m_\u001b[39m\u001b[38;5;132;01m{\u001b[39;00mk\u001b[38;5;132;01m}\u001b[39;00m\u001b[38;5;124m\"\u001b[39m: v \u001b[38;5;28;01mfor\u001b[39;00m k, v \u001b[38;5;129;01min\u001b[39;00m generation_metrics\u001b[38;5;241m.\u001b[39mitems()\n\u001b[1;32m    382\u001b[0m }\n\u001b[1;32m    383\u001b[0m output\u001b[38;5;241m.\u001b[39mmetrics\u001b[38;5;241m.\u001b[39mupdate(generation_metrics)\n",
      "File \u001b[0;32m~/research/retrieval/inversion/trainers/base.py:271\u001b[0m, in \u001b[0;36mBaseTrainer.eval_generation_metrics\u001b[0;34m(self, dataloader)\u001b[0m\n\u001b[1;32m    266\u001b[0m \u001b[38;5;28;01mdef\u001b[39;00m \u001b[38;5;21meval_generation_metrics\u001b[39m(\n\u001b[1;32m    267\u001b[0m     \u001b[38;5;28mself\u001b[39m, dataloader: torch\u001b[38;5;241m.\u001b[39mutils\u001b[38;5;241m.\u001b[39mdata\u001b[38;5;241m.\u001b[39mDataLoader\n\u001b[1;32m    268\u001b[0m ) \u001b[38;5;241m-\u001b[39m\u001b[38;5;241m>\u001b[39m Dict[\u001b[38;5;28mstr\u001b[39m, \u001b[38;5;28mfloat\u001b[39m]:\n\u001b[1;32m    269\u001b[0m     \u001b[38;5;66;03m# Get decoded text. Note that this is different than `preds`, which\u001b[39;00m\n\u001b[1;32m    270\u001b[0m     \u001b[38;5;66;03m# is used to compute the loss.\u001b[39;00m\n\u001b[0;32m--> 271\u001b[0m     preds_sample_list, preds_sample_labels_list \u001b[38;5;241m=\u001b[39m \u001b[38;5;28;43mself\u001b[39;49m\u001b[38;5;241;43m.\u001b[39;49m\u001b[43m_get_decoded_sequences\u001b[49m\u001b[43m(\u001b[49m\n\u001b[1;32m    272\u001b[0m \u001b[43m        \u001b[49m\u001b[43mdataloader\u001b[49m\u001b[38;5;241;43m=\u001b[39;49m\u001b[43mdataloader\u001b[49m\u001b[43m,\u001b[49m\u001b[43m \u001b[49m\u001b[43mn\u001b[49m\u001b[38;5;241;43m=\u001b[39;49m\u001b[38;5;241;43m10000\u001b[39;49m\n\u001b[1;32m    273\u001b[0m \u001b[43m    \u001b[49m\u001b[43m)\u001b[49m\n\u001b[1;32m    275\u001b[0m     \u001b[38;5;66;03m# Log BLEU, log table of text.\u001b[39;00m\n\u001b[1;32m    276\u001b[0m     decoded_preds \u001b[38;5;241m=\u001b[39m \u001b[38;5;28mself\u001b[39m\u001b[38;5;241m.\u001b[39mtokenizer\u001b[38;5;241m.\u001b[39mbatch_decode(\n\u001b[1;32m    277\u001b[0m         preds_sample_list, skip_special_tokens\u001b[38;5;241m=\u001b[39m\u001b[38;5;28;01mTrue\u001b[39;00m\n\u001b[1;32m    278\u001b[0m     )\n",
      "File \u001b[0;32m~/research/retrieval/inversion/trainers/base.py:115\u001b[0m, in \u001b[0;36mBaseTrainer._get_decoded_sequences\u001b[0;34m(self, dataloader, n)\u001b[0m\n\u001b[1;32m    113\u001b[0m gen_kwargs[\u001b[38;5;124m\"\u001b[39m\u001b[38;5;124mmax_length\u001b[39m\u001b[38;5;124m\"\u001b[39m] \u001b[38;5;241m=\u001b[39m max_length\n\u001b[1;32m    114\u001b[0m \u001b[38;5;28;01mwith\u001b[39;00m torch\u001b[38;5;241m.\u001b[39mno_grad():\n\u001b[0;32m--> 115\u001b[0m     generated_text \u001b[38;5;241m=\u001b[39m \u001b[38;5;28;43mself\u001b[39;49m\u001b[38;5;241;43m.\u001b[39;49m\u001b[43mgenerate\u001b[49m\u001b[43m(\u001b[49m\n\u001b[1;32m    116\u001b[0m \u001b[43m        \u001b[49m\u001b[43minputs\u001b[49m\u001b[38;5;241;43m=\u001b[39;49m\u001b[43minputs_cuda\u001b[49m\u001b[43m,\u001b[49m\u001b[43m \u001b[49m\u001b[43mgeneration_kwargs\u001b[49m\u001b[38;5;241;43m=\u001b[39;49m\u001b[43mgen_kwargs\u001b[49m\n\u001b[1;32m    117\u001b[0m \u001b[43m    \u001b[49m\u001b[43m)\u001b[49m\n\u001b[1;32m    118\u001b[0m \u001b[38;5;28;01mif\u001b[39;00m generated_text\u001b[38;5;241m.\u001b[39mshape[\u001b[38;5;241m1\u001b[39m] \u001b[38;5;241m<\u001b[39m max_length:\n\u001b[1;32m    119\u001b[0m     \u001b[38;5;66;03m# Pad generated text to max length\u001b[39;00m\n\u001b[1;32m    120\u001b[0m     pad_tokens \u001b[38;5;241m=\u001b[39m (\n\u001b[1;32m    121\u001b[0m         torch\u001b[38;5;241m.\u001b[39mones(\n\u001b[1;32m    122\u001b[0m             (generated_text\u001b[38;5;241m.\u001b[39mshape[\u001b[38;5;241m0\u001b[39m], max_length \u001b[38;5;241m-\u001b[39m generated_text\u001b[38;5;241m.\u001b[39mshape[\u001b[38;5;241m1\u001b[39m]),\n\u001b[0;32m   (...)\u001b[0m\n\u001b[1;32m    126\u001b[0m         \u001b[38;5;241m*\u001b[39m \u001b[38;5;28mself\u001b[39m\u001b[38;5;241m.\u001b[39mmodel\u001b[38;5;241m.\u001b[39mencoder_decoder\u001b[38;5;241m.\u001b[39mconfig\u001b[38;5;241m.\u001b[39mpad_token_id\n\u001b[1;32m    127\u001b[0m     )\n",
      "File \u001b[0;32m~/research/retrieval/inversion/trainers/corrector.py:239\u001b[0m, in \u001b[0;36mCorrectorTrainer.generate\u001b[0;34m(self, inputs, generation_kwargs, num_recursive_steps, sequence_beam_width)\u001b[0m\n\u001b[1;32m    237\u001b[0m inputs[\u001b[38;5;124m\"\u001b[39m\u001b[38;5;124mhypothesis_embedding\u001b[39m\u001b[38;5;124m\"\u001b[39m] \u001b[38;5;241m=\u001b[39m hypothesis_embedding\n\u001b[1;32m    238\u001b[0m \u001b[38;5;66;03m# print(\"generating with sequence_beam_width:\", (sequence_beam_width or self.sequence_beam_width))\u001b[39;00m\n\u001b[0;32m--> 239\u001b[0m \u001b[38;5;28;01mreturn\u001b[39;00m \u001b[38;5;28;43mself\u001b[39;49m\u001b[38;5;241;43m.\u001b[39;49m\u001b[43m_generate_with_beam\u001b[49m\u001b[43m(\u001b[49m\n\u001b[1;32m    240\u001b[0m \u001b[43m    \u001b[49m\u001b[43minputs\u001b[49m\u001b[38;5;241;43m=\u001b[39;49m\u001b[43minputs\u001b[49m\u001b[43m,\u001b[49m\n\u001b[1;32m    241\u001b[0m \u001b[43m    \u001b[49m\u001b[43mgeneration_kwargs\u001b[49m\u001b[38;5;241;43m=\u001b[39;49m\u001b[43mgeneration_kwargs\u001b[49m\u001b[43m,\u001b[49m\n\u001b[1;32m    242\u001b[0m \u001b[43m    \u001b[49m\u001b[43mnum_recursive_steps\u001b[49m\u001b[38;5;241;43m=\u001b[39;49m\u001b[43m(\u001b[49m\u001b[43mnum_recursive_steps\u001b[49m\u001b[43m \u001b[49m\u001b[38;5;129;43;01mor\u001b[39;49;00m\u001b[43m \u001b[49m\u001b[38;5;28;43mself\u001b[39;49m\u001b[38;5;241;43m.\u001b[39;49m\u001b[43mnum_gen_recursive_steps\u001b[49m\u001b[43m)\u001b[49m\u001b[43m,\u001b[49m\n\u001b[1;32m    243\u001b[0m \u001b[43m    \u001b[49m\u001b[43mnum_recursive_steps_so_far\u001b[49m\u001b[38;5;241;43m=\u001b[39;49m\u001b[38;5;241;43m0\u001b[39;49m\u001b[43m,\u001b[49m\n\u001b[1;32m    244\u001b[0m \u001b[43m    \u001b[49m\u001b[43msequence_beam_width\u001b[49m\u001b[38;5;241;43m=\u001b[39;49m\u001b[43m(\u001b[49m\u001b[43msequence_beam_width\u001b[49m\u001b[43m \u001b[49m\u001b[38;5;129;43;01mor\u001b[39;49;00m\u001b[43m \u001b[49m\u001b[38;5;28;43mself\u001b[39;49m\u001b[38;5;241;43m.\u001b[39;49m\u001b[43msequence_beam_width\u001b[49m\u001b[43m)\u001b[49m\u001b[43m,\u001b[49m\n\u001b[1;32m    245\u001b[0m \u001b[43m\u001b[49m\u001b[43m)\u001b[49m\n",
      "File \u001b[0;32m~/research/retrieval/inversion/trainers/corrector.py:474\u001b[0m, in \u001b[0;36mCorrectorTrainer._generate_with_beam\u001b[0;34m(self, inputs, generation_kwargs, num_recursive_steps, num_recursive_steps_so_far, sequence_beam_width)\u001b[0m\n\u001b[1;32m    472\u001b[0m inputs[\u001b[38;5;124m\"\u001b[39m\u001b[38;5;124mhypothesis_embedding\u001b[39m\u001b[38;5;124m\"\u001b[39m] \u001b[38;5;241m=\u001b[39m hypothesis_embedding\n\u001b[1;32m    473\u001b[0m torch\u001b[38;5;241m.\u001b[39mcuda\u001b[38;5;241m.\u001b[39mempty_cache()\n\u001b[0;32m--> 474\u001b[0m \u001b[38;5;28;01mreturn\u001b[39;00m \u001b[38;5;28;43mself\u001b[39;49m\u001b[38;5;241;43m.\u001b[39;49m\u001b[43m_generate_with_beam\u001b[49m\u001b[43m(\u001b[49m\n\u001b[1;32m    475\u001b[0m \u001b[43m    \u001b[49m\u001b[43minputs\u001b[49m\u001b[38;5;241;43m=\u001b[39;49m\u001b[43minputs\u001b[49m\u001b[43m,\u001b[49m\n\u001b[1;32m    476\u001b[0m \u001b[43m    \u001b[49m\u001b[43mgeneration_kwargs\u001b[49m\u001b[38;5;241;43m=\u001b[39;49m\u001b[43mgeneration_kwargs\u001b[49m\u001b[43m,\u001b[49m\n\u001b[1;32m    477\u001b[0m \u001b[43m    \u001b[49m\u001b[43mnum_recursive_steps\u001b[49m\u001b[38;5;241;43m=\u001b[39;49m\u001b[43m(\u001b[49m\u001b[43mnum_recursive_steps\u001b[49m\u001b[43m \u001b[49m\u001b[38;5;241;43m-\u001b[39;49m\u001b[43m \u001b[49m\u001b[38;5;241;43m1\u001b[39;49m\u001b[43m)\u001b[49m\u001b[43m,\u001b[49m\n\u001b[1;32m    478\u001b[0m \u001b[43m    \u001b[49m\u001b[43mnum_recursive_steps_so_far\u001b[49m\u001b[38;5;241;43m=\u001b[39;49m\u001b[43mnum_recursive_steps_so_far\u001b[49m\u001b[43m \u001b[49m\u001b[38;5;241;43m+\u001b[39;49m\u001b[43m \u001b[49m\u001b[38;5;241;43m1\u001b[39;49m\u001b[43m,\u001b[49m\n\u001b[1;32m    479\u001b[0m \u001b[43m    \u001b[49m\u001b[43msequence_beam_width\u001b[49m\u001b[38;5;241;43m=\u001b[39;49m\u001b[43msequence_beam_width\u001b[49m\u001b[43m,\u001b[49m\n\u001b[1;32m    480\u001b[0m \u001b[43m\u001b[49m\u001b[43m)\u001b[49m\n",
      "File \u001b[0;32m~/research/retrieval/inversion/trainers/corrector.py:474\u001b[0m, in \u001b[0;36mCorrectorTrainer._generate_with_beam\u001b[0;34m(self, inputs, generation_kwargs, num_recursive_steps, num_recursive_steps_so_far, sequence_beam_width)\u001b[0m\n\u001b[1;32m    472\u001b[0m inputs[\u001b[38;5;124m\"\u001b[39m\u001b[38;5;124mhypothesis_embedding\u001b[39m\u001b[38;5;124m\"\u001b[39m] \u001b[38;5;241m=\u001b[39m hypothesis_embedding\n\u001b[1;32m    473\u001b[0m torch\u001b[38;5;241m.\u001b[39mcuda\u001b[38;5;241m.\u001b[39mempty_cache()\n\u001b[0;32m--> 474\u001b[0m \u001b[38;5;28;01mreturn\u001b[39;00m \u001b[38;5;28;43mself\u001b[39;49m\u001b[38;5;241;43m.\u001b[39;49m\u001b[43m_generate_with_beam\u001b[49m\u001b[43m(\u001b[49m\n\u001b[1;32m    475\u001b[0m \u001b[43m    \u001b[49m\u001b[43minputs\u001b[49m\u001b[38;5;241;43m=\u001b[39;49m\u001b[43minputs\u001b[49m\u001b[43m,\u001b[49m\n\u001b[1;32m    476\u001b[0m \u001b[43m    \u001b[49m\u001b[43mgeneration_kwargs\u001b[49m\u001b[38;5;241;43m=\u001b[39;49m\u001b[43mgeneration_kwargs\u001b[49m\u001b[43m,\u001b[49m\n\u001b[1;32m    477\u001b[0m \u001b[43m    \u001b[49m\u001b[43mnum_recursive_steps\u001b[49m\u001b[38;5;241;43m=\u001b[39;49m\u001b[43m(\u001b[49m\u001b[43mnum_recursive_steps\u001b[49m\u001b[43m \u001b[49m\u001b[38;5;241;43m-\u001b[39;49m\u001b[43m \u001b[49m\u001b[38;5;241;43m1\u001b[39;49m\u001b[43m)\u001b[49m\u001b[43m,\u001b[49m\n\u001b[1;32m    478\u001b[0m \u001b[43m    \u001b[49m\u001b[43mnum_recursive_steps_so_far\u001b[49m\u001b[38;5;241;43m=\u001b[39;49m\u001b[43mnum_recursive_steps_so_far\u001b[49m\u001b[43m \u001b[49m\u001b[38;5;241;43m+\u001b[39;49m\u001b[43m \u001b[49m\u001b[38;5;241;43m1\u001b[39;49m\u001b[43m,\u001b[49m\n\u001b[1;32m    479\u001b[0m \u001b[43m    \u001b[49m\u001b[43msequence_beam_width\u001b[49m\u001b[38;5;241;43m=\u001b[39;49m\u001b[43msequence_beam_width\u001b[49m\u001b[43m,\u001b[49m\n\u001b[1;32m    480\u001b[0m \u001b[43m\u001b[49m\u001b[43m)\u001b[49m\n",
      "    \u001b[0;31m[... skipping similar frames: CorrectorTrainer._generate_with_beam at line 474 (31 times)]\u001b[0m\n",
      "File \u001b[0;32m~/research/retrieval/inversion/trainers/corrector.py:474\u001b[0m, in \u001b[0;36mCorrectorTrainer._generate_with_beam\u001b[0;34m(self, inputs, generation_kwargs, num_recursive_steps, num_recursive_steps_so_far, sequence_beam_width)\u001b[0m\n\u001b[1;32m    472\u001b[0m inputs[\u001b[38;5;124m\"\u001b[39m\u001b[38;5;124mhypothesis_embedding\u001b[39m\u001b[38;5;124m\"\u001b[39m] \u001b[38;5;241m=\u001b[39m hypothesis_embedding\n\u001b[1;32m    473\u001b[0m torch\u001b[38;5;241m.\u001b[39mcuda\u001b[38;5;241m.\u001b[39mempty_cache()\n\u001b[0;32m--> 474\u001b[0m \u001b[38;5;28;01mreturn\u001b[39;00m \u001b[38;5;28;43mself\u001b[39;49m\u001b[38;5;241;43m.\u001b[39;49m\u001b[43m_generate_with_beam\u001b[49m\u001b[43m(\u001b[49m\n\u001b[1;32m    475\u001b[0m \u001b[43m    \u001b[49m\u001b[43minputs\u001b[49m\u001b[38;5;241;43m=\u001b[39;49m\u001b[43minputs\u001b[49m\u001b[43m,\u001b[49m\n\u001b[1;32m    476\u001b[0m \u001b[43m    \u001b[49m\u001b[43mgeneration_kwargs\u001b[49m\u001b[38;5;241;43m=\u001b[39;49m\u001b[43mgeneration_kwargs\u001b[49m\u001b[43m,\u001b[49m\n\u001b[1;32m    477\u001b[0m \u001b[43m    \u001b[49m\u001b[43mnum_recursive_steps\u001b[49m\u001b[38;5;241;43m=\u001b[39;49m\u001b[43m(\u001b[49m\u001b[43mnum_recursive_steps\u001b[49m\u001b[43m \u001b[49m\u001b[38;5;241;43m-\u001b[39;49m\u001b[43m \u001b[49m\u001b[38;5;241;43m1\u001b[39;49m\u001b[43m)\u001b[49m\u001b[43m,\u001b[49m\n\u001b[1;32m    478\u001b[0m \u001b[43m    \u001b[49m\u001b[43mnum_recursive_steps_so_far\u001b[49m\u001b[38;5;241;43m=\u001b[39;49m\u001b[43mnum_recursive_steps_so_far\u001b[49m\u001b[43m \u001b[49m\u001b[38;5;241;43m+\u001b[39;49m\u001b[43m \u001b[49m\u001b[38;5;241;43m1\u001b[39;49m\u001b[43m,\u001b[49m\n\u001b[1;32m    479\u001b[0m \u001b[43m    \u001b[49m\u001b[43msequence_beam_width\u001b[49m\u001b[38;5;241;43m=\u001b[39;49m\u001b[43msequence_beam_width\u001b[49m\u001b[43m,\u001b[49m\n\u001b[1;32m    480\u001b[0m \u001b[43m\u001b[49m\u001b[43m)\u001b[49m\n",
      "File \u001b[0;32m~/research/retrieval/inversion/trainers/corrector.py:312\u001b[0m, in \u001b[0;36mCorrectorTrainer._generate_with_beam\u001b[0;34m(self, inputs, generation_kwargs, num_recursive_steps, num_recursive_steps_so_far, sequence_beam_width)\u001b[0m\n\u001b[1;32m    310\u001b[0m     gen_text_ids \u001b[38;5;241m=\u001b[39m torch\u001b[38;5;241m.\u001b[39mcat((bos_token_ids, gen_text_ids[:, :\u001b[38;5;241m-\u001b[39m\u001b[38;5;241m1\u001b[39m]), dim\u001b[38;5;241m=\u001b[39m\u001b[38;5;241m1\u001b[39m)\n\u001b[1;32m    311\u001b[0m \u001b[38;5;28;01melif\u001b[39;00m \u001b[38;5;28mself\u001b[39m\u001b[38;5;241m.\u001b[39mis_corrector_encoder:\n\u001b[0;32m--> 312\u001b[0m     outputs \u001b[38;5;241m=\u001b[39m \u001b[38;5;28;43mself\u001b[39;49m\u001b[38;5;241;43m.\u001b[39;49m\u001b[43mmodel\u001b[49m\u001b[38;5;241;43m.\u001b[39;49m\u001b[43mgenerate\u001b[49m\u001b[43m(\u001b[49m\n\u001b[1;32m    313\u001b[0m \u001b[43m        \u001b[49m\u001b[43minputs\u001b[49m\u001b[38;5;241;43m=\u001b[39;49m\u001b[43minputs\u001b[49m\u001b[43m,\u001b[49m\n\u001b[1;32m    314\u001b[0m \u001b[43m        \u001b[49m\u001b[43mgeneration_kwargs\u001b[49m\u001b[38;5;241;43m=\u001b[39;49m\u001b[43mgeneration_kwargs\u001b[49m\u001b[43m,\u001b[49m\n\u001b[1;32m    315\u001b[0m \u001b[43m        \u001b[49m\u001b[43mreturn_dict_in_generate\u001b[49m\u001b[38;5;241;43m=\u001b[39;49m\u001b[38;5;28;43;01mTrue\u001b[39;49;00m\u001b[43m,\u001b[49m\n\u001b[1;32m    316\u001b[0m \u001b[43m    \u001b[49m\u001b[43m)\u001b[49m\n\u001b[1;32m    317\u001b[0m     gen_text_ids \u001b[38;5;241m=\u001b[39m outputs\u001b[38;5;241m.\u001b[39msequences\n\u001b[1;32m    318\u001b[0m     \u001b[38;5;66;03m# get scores for sequences\u001b[39;00m\n\u001b[1;32m    319\u001b[0m     \u001b[38;5;66;03m# https://discuss.huggingface.co/t/announcement-generation-get-probabilities-for-generated-output/30075\u001b[39;00m\n",
      "File \u001b[0;32m~/research/retrieval/inversion/models/corrector_encoder.py:145\u001b[0m, in \u001b[0;36mCorrectorEncoderModel.generate\u001b[0;34m(self, inputs, generation_kwargs, return_dict_in_generate)\u001b[0m\n\u001b[1;32m    131\u001b[0m     \u001b[38;5;28;01mreturn\u001b[39;00m \u001b[38;5;28mself\u001b[39m\u001b[38;5;241m.\u001b[39mencoder_decoder\u001b[38;5;241m.\u001b[39mgenerate(\n\u001b[1;32m    132\u001b[0m         \u001b[38;5;66;03m# required: input embeddings\u001b[39;00m\n\u001b[1;32m    133\u001b[0m         inputs_embeds\u001b[38;5;241m=\u001b[39minputs_embeds,\n\u001b[0;32m   (...)\u001b[0m\n\u001b[1;32m    142\u001b[0m         \u001b[38;5;241m*\u001b[39m\u001b[38;5;241m*\u001b[39mgeneration_kwargs,\n\u001b[1;32m    143\u001b[0m     )\n\u001b[1;32m    144\u001b[0m \u001b[38;5;28;01melse\u001b[39;00m:\n\u001b[0;32m--> 145\u001b[0m     \u001b[38;5;28;01mreturn\u001b[39;00m \u001b[38;5;28;43mself\u001b[39;49m\u001b[38;5;241;43m.\u001b[39;49m\u001b[43mencoder_decoder\u001b[49m\u001b[38;5;241;43m.\u001b[39;49m\u001b[43mgenerate\u001b[49m\u001b[43m(\u001b[49m\n\u001b[1;32m    146\u001b[0m \u001b[43m        \u001b[49m\u001b[38;5;66;43;03m# required: input embeddings\u001b[39;49;00m\n\u001b[1;32m    147\u001b[0m \u001b[43m        \u001b[49m\u001b[43minputs_embeds\u001b[49m\u001b[38;5;241;43m=\u001b[39;49m\u001b[43minputs_embeds\u001b[49m\u001b[43m,\u001b[49m\n\u001b[1;32m    148\u001b[0m \u001b[43m        \u001b[49m\u001b[43mattention_mask\u001b[49m\u001b[38;5;241;43m=\u001b[39;49m\u001b[43mattention_mask\u001b[49m\u001b[43m,\u001b[49m\n\u001b[1;32m    149\u001b[0m \u001b[43m        \u001b[49m\u001b[43mreturn_dict_in_generate\u001b[49m\u001b[38;5;241;43m=\u001b[39;49m\u001b[43mreturn_dict_in_generate\u001b[49m\u001b[43m,\u001b[49m\n\u001b[1;32m    150\u001b[0m \u001b[43m        \u001b[49m\u001b[43moutput_scores\u001b[49m\u001b[38;5;241;43m=\u001b[39;49m\u001b[43mreturn_dict_in_generate\u001b[49m\u001b[43m,\u001b[49m\n\u001b[1;32m    151\u001b[0m \u001b[43m        \u001b[49m\u001b[38;5;66;43;03m# optional: input IDs (for starting generation).\u001b[39;49;00m\n\u001b[1;32m    152\u001b[0m \u001b[43m        \u001b[49m\u001b[38;5;66;43;03m# typically not set unless generating prefixes for\u001b[39;49;00m\n\u001b[1;32m    153\u001b[0m \u001b[43m        \u001b[49m\u001b[38;5;66;43;03m# reranking.\u001b[39;49;00m\n\u001b[1;32m    154\u001b[0m \u001b[43m        \u001b[49m\u001b[38;5;241;43m*\u001b[39;49m\u001b[38;5;241;43m*\u001b[39;49m\u001b[43mgeneration_kwargs\u001b[49m\u001b[43m,\u001b[49m\n\u001b[1;32m    155\u001b[0m \u001b[43m    \u001b[49m\u001b[43m)\u001b[49m\n",
      "File \u001b[0;32m~/.conda/envs/torch/lib/python3.10/site-packages/torch/utils/_contextlib.py:115\u001b[0m, in \u001b[0;36mcontext_decorator.<locals>.decorate_context\u001b[0;34m(*args, **kwargs)\u001b[0m\n\u001b[1;32m    112\u001b[0m \u001b[38;5;129m@functools\u001b[39m\u001b[38;5;241m.\u001b[39mwraps(func)\n\u001b[1;32m    113\u001b[0m \u001b[38;5;28;01mdef\u001b[39;00m \u001b[38;5;21mdecorate_context\u001b[39m(\u001b[38;5;241m*\u001b[39margs, \u001b[38;5;241m*\u001b[39m\u001b[38;5;241m*\u001b[39mkwargs):\n\u001b[1;32m    114\u001b[0m     \u001b[38;5;28;01mwith\u001b[39;00m ctx_factory():\n\u001b[0;32m--> 115\u001b[0m         \u001b[38;5;28;01mreturn\u001b[39;00m \u001b[43mfunc\u001b[49m\u001b[43m(\u001b[49m\u001b[38;5;241;43m*\u001b[39;49m\u001b[43margs\u001b[49m\u001b[43m,\u001b[49m\u001b[43m \u001b[49m\u001b[38;5;241;43m*\u001b[39;49m\u001b[38;5;241;43m*\u001b[39;49m\u001b[43mkwargs\u001b[49m\u001b[43m)\u001b[49m\n",
      "File \u001b[0;32m~/.conda/envs/torch/lib/python3.10/site-packages/transformers/generation/utils.py:1604\u001b[0m, in \u001b[0;36mGenerationMixin.generate\u001b[0;34m(self, inputs, generation_config, logits_processor, stopping_criteria, prefix_allowed_tokens_fn, synced_gpus, assistant_model, streamer, **kwargs)\u001b[0m\n\u001b[1;32m   1597\u001b[0m     input_ids, model_kwargs \u001b[38;5;241m=\u001b[39m \u001b[38;5;28mself\u001b[39m\u001b[38;5;241m.\u001b[39m_expand_inputs_for_generation(\n\u001b[1;32m   1598\u001b[0m         input_ids\u001b[38;5;241m=\u001b[39minput_ids,\n\u001b[1;32m   1599\u001b[0m         expand_size\u001b[38;5;241m=\u001b[39mgeneration_config\u001b[38;5;241m.\u001b[39mnum_beams,\n\u001b[1;32m   1600\u001b[0m         is_encoder_decoder\u001b[38;5;241m=\u001b[39m\u001b[38;5;28mself\u001b[39m\u001b[38;5;241m.\u001b[39mconfig\u001b[38;5;241m.\u001b[39mis_encoder_decoder,\n\u001b[1;32m   1601\u001b[0m         \u001b[38;5;241m*\u001b[39m\u001b[38;5;241m*\u001b[39mmodel_kwargs,\n\u001b[1;32m   1602\u001b[0m     )\n\u001b[1;32m   1603\u001b[0m     \u001b[38;5;66;03m# 13. run beam search\u001b[39;00m\n\u001b[0;32m-> 1604\u001b[0m     \u001b[38;5;28;01mreturn\u001b[39;00m \u001b[38;5;28;43mself\u001b[39;49m\u001b[38;5;241;43m.\u001b[39;49m\u001b[43mbeam_search\u001b[49m\u001b[43m(\u001b[49m\n\u001b[1;32m   1605\u001b[0m \u001b[43m        \u001b[49m\u001b[43minput_ids\u001b[49m\u001b[43m,\u001b[49m\n\u001b[1;32m   1606\u001b[0m \u001b[43m        \u001b[49m\u001b[43mbeam_scorer\u001b[49m\u001b[43m,\u001b[49m\n\u001b[1;32m   1607\u001b[0m \u001b[43m        \u001b[49m\u001b[43mlogits_processor\u001b[49m\u001b[38;5;241;43m=\u001b[39;49m\u001b[43mlogits_processor\u001b[49m\u001b[43m,\u001b[49m\n\u001b[1;32m   1608\u001b[0m \u001b[43m        \u001b[49m\u001b[43mstopping_criteria\u001b[49m\u001b[38;5;241;43m=\u001b[39;49m\u001b[43mstopping_criteria\u001b[49m\u001b[43m,\u001b[49m\n\u001b[1;32m   1609\u001b[0m \u001b[43m        \u001b[49m\u001b[43mpad_token_id\u001b[49m\u001b[38;5;241;43m=\u001b[39;49m\u001b[43mgeneration_config\u001b[49m\u001b[38;5;241;43m.\u001b[39;49m\u001b[43mpad_token_id\u001b[49m\u001b[43m,\u001b[49m\n\u001b[1;32m   1610\u001b[0m \u001b[43m        \u001b[49m\u001b[43meos_token_id\u001b[49m\u001b[38;5;241;43m=\u001b[39;49m\u001b[43mgeneration_config\u001b[49m\u001b[38;5;241;43m.\u001b[39;49m\u001b[43meos_token_id\u001b[49m\u001b[43m,\u001b[49m\n\u001b[1;32m   1611\u001b[0m \u001b[43m        \u001b[49m\u001b[43moutput_scores\u001b[49m\u001b[38;5;241;43m=\u001b[39;49m\u001b[43mgeneration_config\u001b[49m\u001b[38;5;241;43m.\u001b[39;49m\u001b[43moutput_scores\u001b[49m\u001b[43m,\u001b[49m\n\u001b[1;32m   1612\u001b[0m \u001b[43m        \u001b[49m\u001b[43mreturn_dict_in_generate\u001b[49m\u001b[38;5;241;43m=\u001b[39;49m\u001b[43mgeneration_config\u001b[49m\u001b[38;5;241;43m.\u001b[39;49m\u001b[43mreturn_dict_in_generate\u001b[49m\u001b[43m,\u001b[49m\n\u001b[1;32m   1613\u001b[0m \u001b[43m        \u001b[49m\u001b[43msynced_gpus\u001b[49m\u001b[38;5;241;43m=\u001b[39;49m\u001b[43msynced_gpus\u001b[49m\u001b[43m,\u001b[49m\n\u001b[1;32m   1614\u001b[0m \u001b[43m        \u001b[49m\u001b[38;5;241;43m*\u001b[39;49m\u001b[38;5;241;43m*\u001b[39;49m\u001b[43mmodel_kwargs\u001b[49m\u001b[43m,\u001b[49m\n\u001b[1;32m   1615\u001b[0m \u001b[43m    \u001b[49m\u001b[43m)\u001b[49m\n\u001b[1;32m   1617\u001b[0m \u001b[38;5;28;01melif\u001b[39;00m is_beam_sample_gen_mode:\n\u001b[1;32m   1618\u001b[0m     \u001b[38;5;66;03m# 11. prepare logits warper\u001b[39;00m\n\u001b[1;32m   1619\u001b[0m     logits_warper \u001b[38;5;241m=\u001b[39m \u001b[38;5;28mself\u001b[39m\u001b[38;5;241m.\u001b[39m_get_logits_warper(generation_config)\n",
      "File \u001b[0;32m~/.conda/envs/torch/lib/python3.10/site-packages/transformers/generation/utils.py:2975\u001b[0m, in \u001b[0;36mGenerationMixin.beam_search\u001b[0;34m(self, input_ids, beam_scorer, logits_processor, stopping_criteria, max_length, pad_token_id, eos_token_id, output_attentions, output_hidden_states, output_scores, return_dict_in_generate, synced_gpus, **model_kwargs)\u001b[0m\n\u001b[1;32m   2971\u001b[0m model_kwargs \u001b[38;5;241m=\u001b[39m \u001b[38;5;28mself\u001b[39m\u001b[38;5;241m.\u001b[39m_update_model_kwargs_for_generation(\n\u001b[1;32m   2972\u001b[0m     outputs, model_kwargs, is_encoder_decoder\u001b[38;5;241m=\u001b[39m\u001b[38;5;28mself\u001b[39m\u001b[38;5;241m.\u001b[39mconfig\u001b[38;5;241m.\u001b[39mis_encoder_decoder\n\u001b[1;32m   2973\u001b[0m )\n\u001b[1;32m   2974\u001b[0m \u001b[38;5;28;01mif\u001b[39;00m model_kwargs[\u001b[38;5;124m\"\u001b[39m\u001b[38;5;124mpast_key_values\u001b[39m\u001b[38;5;124m\"\u001b[39m] \u001b[38;5;129;01mis\u001b[39;00m \u001b[38;5;129;01mnot\u001b[39;00m \u001b[38;5;28;01mNone\u001b[39;00m:\n\u001b[0;32m-> 2975\u001b[0m     model_kwargs[\u001b[38;5;124m\"\u001b[39m\u001b[38;5;124mpast_key_values\u001b[39m\u001b[38;5;124m\"\u001b[39m] \u001b[38;5;241m=\u001b[39m \u001b[38;5;28;43mself\u001b[39;49m\u001b[38;5;241;43m.\u001b[39;49m\u001b[43m_reorder_cache\u001b[49m\u001b[43m(\u001b[49m\u001b[43mmodel_kwargs\u001b[49m\u001b[43m[\u001b[49m\u001b[38;5;124;43m\"\u001b[39;49m\u001b[38;5;124;43mpast_key_values\u001b[39;49m\u001b[38;5;124;43m\"\u001b[39;49m\u001b[43m]\u001b[49m\u001b[43m,\u001b[49m\u001b[43m \u001b[49m\u001b[43mbeam_idx\u001b[49m\u001b[43m)\u001b[49m\n\u001b[1;32m   2977\u001b[0m \u001b[38;5;28;01mif\u001b[39;00m return_dict_in_generate \u001b[38;5;129;01mand\u001b[39;00m output_scores:\n\u001b[1;32m   2978\u001b[0m     beam_indices \u001b[38;5;241m=\u001b[39m \u001b[38;5;28mtuple\u001b[39m((beam_indices[beam_idx[i]] \u001b[38;5;241m+\u001b[39m (beam_idx[i],) \u001b[38;5;28;01mfor\u001b[39;00m i \u001b[38;5;129;01min\u001b[39;00m \u001b[38;5;28mrange\u001b[39m(\u001b[38;5;28mlen\u001b[39m(beam_indices))))\n",
      "File \u001b[0;32m~/.conda/envs/torch/lib/python3.10/site-packages/transformers/models/t5/modeling_t5.py:1817\u001b[0m, in \u001b[0;36mT5ForConditionalGeneration._reorder_cache\u001b[0;34m(self, past_key_values, beam_idx)\u001b[0m\n\u001b[1;32m   1813\u001b[0m reordered_layer_past_states \u001b[38;5;241m=\u001b[39m ()\n\u001b[1;32m   1814\u001b[0m \u001b[38;5;28;01mfor\u001b[39;00m layer_past_state \u001b[38;5;129;01min\u001b[39;00m layer_past_states:\n\u001b[1;32m   1815\u001b[0m     \u001b[38;5;66;03m# need to set correct `past` for each of the four key / value states\u001b[39;00m\n\u001b[1;32m   1816\u001b[0m     reordered_layer_past_states \u001b[38;5;241m=\u001b[39m reordered_layer_past_states \u001b[38;5;241m+\u001b[39m (\n\u001b[0;32m-> 1817\u001b[0m         \u001b[43mlayer_past_state\u001b[49m\u001b[38;5;241;43m.\u001b[39;49m\u001b[43mindex_select\u001b[49m\u001b[43m(\u001b[49m\u001b[38;5;241;43m0\u001b[39;49m\u001b[43m,\u001b[49m\u001b[43m \u001b[49m\u001b[43mbeam_idx\u001b[49m\u001b[38;5;241;43m.\u001b[39;49m\u001b[43mto\u001b[49m\u001b[43m(\u001b[49m\u001b[43mlayer_past_state\u001b[49m\u001b[38;5;241;43m.\u001b[39;49m\u001b[43mdevice\u001b[49m\u001b[43m)\u001b[49m\u001b[43m)\u001b[49m,\n\u001b[1;32m   1818\u001b[0m     )\n\u001b[1;32m   1820\u001b[0m \u001b[38;5;28;01massert\u001b[39;00m reordered_layer_past_states[\u001b[38;5;241m0\u001b[39m]\u001b[38;5;241m.\u001b[39mshape \u001b[38;5;241m==\u001b[39m layer_past_states[\u001b[38;5;241m0\u001b[39m]\u001b[38;5;241m.\u001b[39mshape\n\u001b[1;32m   1821\u001b[0m \u001b[38;5;28;01massert\u001b[39;00m \u001b[38;5;28mlen\u001b[39m(reordered_layer_past_states) \u001b[38;5;241m==\u001b[39m \u001b[38;5;28mlen\u001b[39m(layer_past_states)\n",
      "\u001b[0;31mOutOfMemoryError\u001b[0m: CUDA out of memory. Tried to allocate 22.00 MiB (GPU 0; 47.54 GiB total capacity; 35.49 GiB already allocated; 14.88 MiB free; 46.46 GiB reserved in total by PyTorch) If reserved memory is >> allocated memory try setting max_split_size_mb to avoid fragmentation.  See documentation for Memory Management and PYTORCH_CUDA_ALLOC_CONF"
     ]
    }
   ],
   "source": [
    "corr_trainer.args.per_device_eval_batch_size = 1\n",
    "corr_trainer.return_best_hypothesis = True\n",
    "corr_trainer.num_gen_recursive_steps = 50\n",
    "corr_trainer.sequence_beam_width = 8\n",
    "corr_trainer.gen_kwargs = {\n",
    "    \"early_stopping\": False,\n",
    "    \"num_beams\": 1,\n",
    "    \"num_return_sequences\": 1,\n",
    "    \"do_sample\": False,\n",
    "    \"no_repeat_ngram_size\": 0,\n",
    "}\n",
    "corr_trainer.evaluate(\n",
    "    eval_dataset=inv_trainer.eval_dataset[\"msmarco\"].select(range(3))\n",
    ")"
   ]
  },
  {
   "cell_type": "code",
   "execution_count": 4,
   "id": "15c62298-e4c3-41ab-866f-ec05d66e6537",
   "metadata": {},
   "outputs": [
    {
     "name": "stdout",
     "output_type": "stream",
     "text": [
      "running manifest on text_list of length 1, first element '*The parking lot will require the use of a separate parking space for the proposed use of the. building. [District Floor Plan: Use of existing floor plan space, dimensions, and/or permit requirements for each. subfloor/space will be provided in the Submitting Documents.'\n",
      "running manifest on text_list of length 1, first element 'Our illuminated Seville map is encapsulated in a map of each of our cities, enabling you to discover the hidden gems of the city. Our enlightened Seville map also includes a map of the streets of the city centre, the central business district, the outskirts of the city center and the outskirts of the city center.e encourage you to take advantage of our easy-to-use, fully accessible and easy-to-use map of Seville, Valencia, Seville, and Seville.'\n",
      "running manifest on text_list of length 1, first element 'aaa coupons 32 save aaa is an american travel organization with an average of 32 coupons for members save $ aaa offers savings on a variety of products and services from aaa to car insurance aaa com offers coupons for car insurance and travel insurance not only saves money but also helps members save money on their car insurance and travel insurance'\n"
     ]
    },
    {
     "name": "stderr",
     "output_type": "stream",
     "text": [
      "generating from val:   0%|                                                                                     | 0/3 [00:00<?, ?it/s]"
     ]
    },
    {
     "name": "stdout",
     "output_type": "stream",
     "text": [
      "running manifest on text_list of length 1, first element '*The parking lot will require the use of a separate parking space for the proposed use of the. building. [District Floor Plan: Use of existing floor plan space, dimensions, and/or permit requirements for each. subfloor/space will be provided in the Submitting Documents.'\n",
      "running manifest on text_list of length 4, first element '*The parking lot will require the use of a separate parking space for the proposed use of the. building. [District Floor Plan: Use of existing floor plan space, dimensions, and/or permit requirements for each. subfloor/space will be provided in the Submit Fees.'\n",
      "running manifest on text_list of length 16, first element '*The parking lot will require a separate entrance/exit for the proposed use of the. building. [District Floor Plan: Use of existing floor plan space, dimensions, and/or permit requirements for each. subfloor/space will be provided in the Submit Fees.'\n",
      "running manifest on text_list of length 16, first element '*The parking lot will require a separate entrance/exit for the proposed use of the. building. [District Floor Plan: Use of existing floor plan space, dimensions, and/or permit requirements for each. subfloor/space will be provided in the Show Fees section.'\n",
      "running manifest on text_list of length 16, first element '*The parking lot will require a separate entrance/exit for the proposed use of the. building. [District Floor Plan: Use of existing floor plan space, dimensions, and/or permit requirements for each. subfloor/space will be provided in the Show Fees section.'\n",
      "running manifest on text_list of length 16, first element '*The parking lot will require a separate entrance/exit for the proposed use of the. building. [District Floor Plan: Use of existing floor plan space, dimensions, and/or permit requirements for each. subfloor/space will be provided in the Show Fees column.'\n",
      "running manifest on text_list of length 16, first element '*The parking lot will require a separate entrance/exit for the proposed use of the. building. [District Floor Plan: Use of existing floor plan space, dimensions, and/or permit requirements for each. subfloor/space will be provided in the Show Fees column.].'\n",
      "running manifest on text_list of length 16, first element '*The parking lot will require a separate entrance/exit for the proposed use of the. building. [District Floor Plan: Use of existing floor plan space, dimensions, and/or permit requirements for each. subfloor/space will be provided in the Show Fees column.].'\n",
      "running manifest on text_list of length 16, first element '*The parking lot will require a separate entrance/exit for the proposed use of the. building. [District Floor Plan: Use of existing floor plan space, dimensions, and/or permit requirements for each. subfloor/space will be provided in the Show Fees column.].'\n",
      "running manifest on text_list of length 16, first element '*The parking lot will require a separate entrance/exit for the proposed use of the. building. [District Floor Plan: Use of existing floor plan space, dimensions, and/or permit requirements for each. subfloor/space will be provided in the Show Fees column.].'\n",
      "running manifest on text_list of length 16, first element '*The parking lot will require a separate entrance/exit for the proposed use of the. building. [District Floor Plan: Use of existing floor plan space, dimensions, and/or permit requirements for each. subfloor/space will be provided in the Show Fees column.].'\n",
      "running manifest on text_list of length 16, first element '*The parking lot will require a separate entrance/exit for the proposed use of the. building. [District Floor Plan: Use of existing floor plan space, dimensions, and/or permit requirements for each. subfloor/space will be provided in the Show Fees column.].'\n",
      "running manifest on text_list of length 16, first element '*The parking lot will require a separate entrance/exit for the proposed use of the. building. [District Floor Plan: Use of existing floor plan space, dimensions, and/or permit requirements for each. subfloor/space will be provided in the Show Fees column.].'\n",
      "running manifest on text_list of length 16, first element '*The parking lot will require a separate entrance/exit for the proposed use of the. building. [District Floor Plan: Use of existing floor plan space, dimensions, and/or permit requirements for each. subfloor/space will be provided in the Show Fees column.].'\n",
      "running manifest on text_list of length 16, first element '*The parking lot will require a separate entrance/exit for the proposed use of the. building. [District Floor Plan: Use of existing floor plan space, dimensions, and/or permit requirements for each. subfloor/space will be provided in the Show Fees column.].'\n",
      "running manifest on text_list of length 16, first element '*The parking lot will require a separate entrance/exit for the proposed use of the. building. [District Floor Plan: Use of existing floor plan space, dimensions, and/or permit requirements for each. subfloor/space will be provided in the Show Fees column.].'\n",
      "running manifest on text_list of length 16, first element '*The parking lot will require a separate entrance/exit for the proposed use of the. building. [District Floor Plan: Use of existing floor plan space, dimensions, and/or permit requirements for each. subfloor/space will be provided in the Show Fees column.].'\n",
      "running manifest on text_list of length 16, first element '*The parking lot will require a separate entrance/exit for the proposed use of the. building. [District Floor Plan: Use of existing floor plan space, dimensions, and/or permit requirements for each. subfloor/space will be provided in the Show Fees column.].'\n",
      "running manifest on text_list of length 16, first element '*The parking lot will require a separate entrance/exit for the proposed use of the. building. [District Floor Plan: Use of existing floor plan space, dimensions, and/or permit requirements for each. subfloor/space will be provided in the Show Fees column.].'\n",
      "running manifest on text_list of length 16, first element '*The parking lot will require a separate entrance/exit for the proposed use of the. building. [District Floor Plan: Use of existing floor plan space, dimensions, and/or permit requirements for each. subfloor/space will be provided in the Show Fees column.].'\n",
      "running manifest on text_list of length 16, first element '*The parking lot will require a separate entrance/exit for the proposed use of the. building. [District Floor Plan: Use of existing floor plan space, dimensions, and/or permit requirements for each. subfloor/space will be provided in the Show Fees column.].'\n",
      "running manifest on text_list of length 16, first element '*The parking lot will require a separate entrance/exit for the proposed use of the. building. [District Floor Plan: Use of existing floor plan space, dimensions, and/or permit requirements for each. subfloor/space will be provided in the Show Fees column.].'\n",
      "running manifest on text_list of length 16, first element '*The parking lot will require a separate entrance/exit for the proposed use of the. building. [District Floor Plan: Use of existing floor plan space, dimensions, and/or permit requirements for each. subfloor/space will be provided in the Show Fees column.].'\n",
      "running manifest on text_list of length 16, first element '*The parking lot will require a separate entrance/exit for the proposed use of the. building. [District Floor Plan: Use of existing floor plan space, dimensions, and/or permit requirements for each. subfloor/space will be provided in the Show Fees column.].'\n",
      "running manifest on text_list of length 16, first element '*The parking lot will require a separate entrance/exit for the proposed use of the. building. [District Floor Plan: Use of existing floor plan space, dimensions, and/or permit requirements for each. subfloor/space will be provided in the Show Fees column.].'\n",
      "running manifest on text_list of length 16, first element '*The parking lot will require a separate entrance/exit for the proposed use of the. building. [District Floor Plan: Use of existing floor plan space, dimensions, and/or permit requirements for each. subfloor/space will be provided in the Show Fees column.].'\n"
     ]
    },
    {
     "name": "stderr",
     "output_type": "stream",
     "text": [
      "generating from val:  33%|█████████████████████████▋                                                   | 1/3 [00:46<01:32, 46.29s/it]"
     ]
    },
    {
     "name": "stdout",
     "output_type": "stream",
     "text": [
      "running manifest on text_list of length 1, first element 'Our illuminated Seville map is encapsulated in a map of each of our cities, enabling you to discover the hidden gems of the city. Our enlightened Seville map also includes a map of the streets of the city centre, the central business district, the outskirts of the city center and the outskirts of the city center.e encourage you to take advantage of our easy-to-use, fully accessible and easy-to-use map of Seville, Valencia, Seville, and Seville.'\n",
      "running manifest on text_list of length 4, first element 'Our illuminated Seville map is encapsulated in a map of each of our cities, enabling you to discover the hidden gems of the city.OUR SEVENTH GAROUND, Sevilleâs most prominent street corner, and Sevilleâs central business district are clearly encapsulated in an easy-to-access map of every street corner. This feature also allows you to book hotels, restaurants, resorts and hotels in a convenient location.'\n",
      "running manifest on text_list of length 16, first element 'Our illuminated Seville map is encapsulated in a map of each hidden street corner, enabling you to discover the hidden gems of the city.OUR SEVISA GAROUND, Sevilleâs most prominent street corners, and Sevilleâs central business districts are clearly encapsulated in an easy-to-access map of every street corner. This feature also allows you to book hotels, restaurants, resorts and hotels in a convenient location.'\n",
      "running manifest on text_list of length 16, first element 'Our illuminated Seville map is encapsulated in a map of every street corner, enabling you to discover the hidden gems of the city.OUR SEVISA GAROUND, Sevilleâs most prominent street corners, and Sevilleâs central business districts are clearly encapsulated in an easy-to-access map of every street corner. This feature also allows you to book hotels, restaurants, resorts and attractions in advance.'\n",
      "running manifest on text_list of length 16, first element 'Our illuminated Seville map is encapsulated in a map of each hidden street corner, enabling you to discover the hidden gems of the city.OUR SEVISA GAROUND, Sevilleâs most prominent street corners, and Sevilleâs central business districts are clearly encapsulated in an easy-to-access map of every street corner. This feature also allows you to book hotels, restaurants and resorts in a location of your choice.'\n",
      "running manifest on text_list of length 16, first element 'Our illuminated Seville map is encapsulated in a map of each hidden street corner, enabling you to discover the hidden gems of the city.OUR SEVISA GAROUND, Sevilleâs most prominent street corners, and Sevilleâs central business districts are clearly encapsulated in an easy-to-access map of every street corner. This feature also allows you to book hotels, restaurants and resorts in a location of your choice.'\n",
      "running manifest on text_list of length 16, first element 'Our illuminated Seville map is encapsulated in a map of each hidden street corner, enabling you to discover the hidden gems of the city.OUR SEVISA GAROUND, Sevilleâs most prominent street corners, and Sevilleâs central business districts are clearly encapsulated in an easy-to-access map of every street corner. This feature also allows you to book hotels, restaurants and resorts in a location of your choice.'\n",
      "running manifest on text_list of length 16, first element 'Our illuminated Seville map is encapsulated in a map of each hidden street corner, enabling you to discover the hidden gems of the city.OUR SEVISA GAROUND, Sevilleâs most prominent street corners, and Sevilleâs central business districts are clearly encapsulated in an easy-to-access map of every street corner. This feature also allows you to book hotels, restaurants and resorts in a location of your choice.'\n",
      "running manifest on text_list of length 16, first element 'Our illuminated Seville map is encapsulated in a map of each hidden street corner, enabling you to discover the hidden gems of the city.OUR SEVISA GAROUND, Sevilleâs most prominent street corners, and Sevilleâs central business districts are clearly encapsulated in an easy-to-access map of every street corner. This feature also allows you to book hotels, restaurants and resorts in a location of your choice.'\n",
      "running manifest on text_list of length 16, first element 'Our illuminated Seville map is encapsulated in a map of each hidden street corner, enabling you to discover the hidden gems of the city.OUR SEVISA GAROUND, Sevilleâs most prominent street corners, and Sevilleâs central business districts are clearly encapsulated in an easy-to-access map of every street corner. This feature also allows you to book hotels, restaurants and resorts in a location of your choice.'\n",
      "running manifest on text_list of length 16, first element 'Our illuminated Seville map is encapsulated in a map of each hidden street corner, enabling you to discover the hidden gems of the city.OUR SEVISA GAROUND, Sevilleâs most prominent street corners, and Sevilleâs central business districts are clearly encapsulated in an easy-to-access map of every street corner. This feature also allows you to book hotels, restaurants and resorts in a location of your choosing.'\n",
      "running manifest on text_list of length 16, first element 'Our illuminated Seville map is encapsulated in a map of each hidden street corner, enabling you to discover the hidden gems of the city.OUR SEVISA GAROUND, Sevilleâs most prominent street corners, and Sevilleâs central business districts are clearly encapsulated in an easy-to-access map of every street corner. This feature also allows you to book hotels, restaurants and resorts in a location of your choice.'\n",
      "running manifest on text_list of length 16, first element 'Our illuminated Seville map is encapsulated in a map of each hidden street corner, enabling you to discover the hidden gems of the city.OUR SEVISA GAROUND, Sevilleâs most prominent street corners, and Sevilleâs central business districts are clearly encapsulated in an easy-to-access map of every street corner. This feature also allows you to book hotels, restaurants and resorts in a location of your choice.'\n",
      "running manifest on text_list of length 16, first element 'Our illuminated Seville map is encapsulated in a map of each hidden street corner, enabling you to discover the hidden gems of the city.OUR SEVISA GAROUND, Sevilleâs most prominent street corners, and Sevilleâs central business districts are clearly encapsulated in an easy-to-access map of every street corner. This feature also allows you to book hotels, restaurants and resorts in a location of your choice.'\n",
      "running manifest on text_list of length 16, first element 'Our illuminated Seville map is encapsulated in a map of each hidden street corner, enabling you to discover the hidden gems of the city.OUR SEVISA GAROUND, Sevilleâs most prominent street corners, and Sevilleâs central business districts are clearly encapsulated in an easy-to-access map of every street corner. This feature also allows you to book hotels, restaurants and resorts in a location of your choice.'\n",
      "running manifest on text_list of length 16, first element 'Our illuminated Seville map is encapsulated in a map of each hidden street corner, enabling you to discover the hidden gems of the city.OUR SEVISA GAROUND, Sevilleâs most prominent street corners, and Sevilleâs central business districts are clearly encapsulated in an easy-to-access map of every street corner. This feature also allows you to book hotels, restaurants and resorts in a location of your choice.'\n",
      "running manifest on text_list of length 16, first element 'Our illuminated Seville map is encapsulated in a map of each hidden street corner, enabling you to discover the hidden gems of the city.OUR SEVISA GAROUND, Sevilleâs most prominent street corners, and Sevilleâs central business districts are clearly encapsulated in an easy-to-access map of every street corner. This feature also allows you to book hotels, restaurants and resorts in a location of your choice.'\n",
      "running manifest on text_list of length 16, first element 'Our illuminated Seville map is encapsulated in a map of each hidden street corner, enabling you to discover the hidden gems of the city.OUR SEVISA GAROUND, Sevilleâs most prominent street corners, and Sevilleâs central business districts are clearly encapsulated in an easy-to-access map of every street corner. This feature also allows you to book hotels, restaurants and resorts in a location of your choice.'\n",
      "running manifest on text_list of length 16, first element 'Our illuminated Seville map is encapsulated in a map of each hidden street corner, enabling you to discover the hidden gems of the city.OUR SEVISA GAROUND, Sevilleâs most prominent street corners, and Sevilleâs central business districts are clearly encapsulated in an easy-to-access map of every street corner. This feature also allows you to book hotels, restaurants and resorts in a location of your choice.'\n",
      "running manifest on text_list of length 16, first element 'Our illuminated Seville map is encapsulated in a map of each hidden street corner, enabling you to discover the hidden gems of the city.OUR SEVISA GAROUND, Sevilleâs most prominent street corners, and Sevilleâs central business districts are clearly encapsulated in an easy-to-access map of every street corner. This feature also allows you to book hotels, restaurants and resorts in a location of your choice.'\n",
      "running manifest on text_list of length 16, first element 'Our illuminated Seville map is encapsulated in a map of each hidden street corner, enabling you to discover the hidden gems of the city.OUR SEVISA GAROUND, Sevilleâs most prominent street corners, and Sevilleâs central business districts are clearly encapsulated in an easy-to-access map of every street corner. This feature also allows you to book hotels, restaurants and resorts in a location of your choice.'\n",
      "running manifest on text_list of length 16, first element 'Our illuminated Seville map is encapsulated in a map of each hidden street corner, enabling you to discover the hidden gems of the city.OUR SEVISA GAROUND, Sevilleâs most prominent street corners, and Sevilleâs central business districts are clearly encapsulated in an easy-to-access map of every street corner. This feature also allows you to book hotels, restaurants and resorts in a location of your choice.'\n",
      "running manifest on text_list of length 16, first element 'Our illuminated Seville map is encapsulated in a map of each hidden street corner, enabling you to discover the hidden gems of the city.OUR SEVISA GAROUND, Sevilleâs most prominent street corners, and Sevilleâs central business districts are clearly encapsulated in an easy-to-access map of every street corner. This feature also allows you to book hotels, restaurants and resorts in a location of your choice.'\n",
      "running manifest on text_list of length 16, first element 'Our illuminated Seville map is encapsulated in a map of each hidden street corner, enabling you to discover the hidden gems of the city.OUR SEVISA GAROUND, Sevilleâs most prominent street corners, and Sevilleâs central business districts are clearly encapsulated in an easy-to-access map of every street corner. This feature also allows you to book hotels, restaurants and resorts in a location of your choice.'\n",
      "running manifest on text_list of length 16, first element 'Our illuminated Seville map is encapsulated in a map of each hidden street corner, enabling you to discover the hidden gems of the city.OUR SEVISA GAROUND, Sevilleâs most prominent street corners, and Sevilleâs central business districts are clearly encapsulated in an easy-to-access map of every street corner. This feature also allows you to book hotels, restaurants and resorts in a location of your choice.'\n",
      "running manifest on text_list of length 16, first element 'Our illuminated Seville map is encapsulated in a map of each hidden street corner, enabling you to discover the hidden gems of the city.OUR SEVISA GAROUND, Sevilleâs most prominent street corners, and Sevilleâs central business districts are clearly encapsulated in an easy-to-access map of every street corner. This feature also allows you to book hotels, restaurants and resorts in a location of your choice.'\n"
     ]
    },
    {
     "name": "stderr",
     "output_type": "stream",
     "text": [
      "generating from val:  67%|███████████████████████████████████████████████████▎                         | 2/3 [01:40<00:50, 50.77s/it]"
     ]
    },
    {
     "name": "stdout",
     "output_type": "stream",
     "text": [
      "running manifest on text_list of length 1, first element 'aaa coupons 32 save aaa is an american travel organization with an average of 32 coupons for members save $ aaa offers savings on a variety of products and services from aaa to car insurance aaa com offers coupons for car insurance and travel insurance not only saves money but also helps members save money on their car insurance and travel insurance'\n",
      "running manifest on text_list of length 4, first element 'aaa coupons 32 save aaa is an american not for profit organization with an average of 32 coupons for members save $ aaa offers savings on a variety of products and services from aaa codes to car insurance aaa com displays coupons for aaa to help members save more'\n",
      "running manifest on text_list of length 16, first element 'aaa coupons 32 save aaa is an american not for profit organization with an average of 32 coupons for members save about $ aaa offers savings on a variety of products and services from travel benefits to travel codes to car insurance aaa com displays coupons for aaa to help members save more'\n",
      "running manifest on text_list of length 16, first element 'aaa coupons 32 save aaa is an american not for profit organization with an average of 32 coupons for members save $ aaa offers savings on a variety of products and services from travel deals to benefits codes to car insurance aaa com displays coupons for aaa to help members save more about aaa'\n",
      "running manifest on text_list of length 16, first element 'aaa coupons 32 save aaa is an american not for profit organization with an average of 32 coupons for members save about $ aaa offers savings on a variety of products and services from travel benefits to travel codes to car insurance aaa com displays coupons for aaa to help members save more'\n",
      "running manifest on text_list of length 16, first element 'aaa coupons 32 save aaa is an american not for profit organization with an average of 32 coupons for members save about $ aaa offers savings on a variety of products and services from travel benefits to discount codes to car insurance aaa com displays coupons for aaa to help members save more'\n",
      "running manifest on text_list of length 16, first element 'aaa coupons 32 save aaa is an american not for profit organization with an average of 26 coupons for members save about $ aaa offers savings on a variety of products and services from travel benefits to discount codes to car insurance aaa com displays coupons for aaa to help members save more'\n",
      "running manifest on text_list of length 16, first element 'aaa coupons 32 save aaa is an american not for profit organization with an average of 26 coupons for members save about $ aaa offers savings on aaa related products and services from travel benefits to discount codes to car insurance aaa com displays coupons for aaa to help members save more'\n",
      "running manifest on text_list of length 16, first element 'aaa coupons 32 save aaa is an american not for profit organization with an average of 26 coupons for members save about $ aaa offers savings on aaa related goods and services from travel benefits to discount codes to car insurance aaa com displays coupons for aaa to help members save more'\n",
      "running manifest on text_list of length 16, first element 'aaa coupons 32 save aaa is an american not for profit organization with an average of 26 coupons for members save about $ aaa offers savings on aaa related goods and services from travel benefits to discount codes to car insurance aaa com displays coupons for aaa to help members save more'\n",
      "running manifest on text_list of length 16, first element 'aaa coupons 32 save aaa is an american not for profit organization with an average of 26 coupons for members save about $ aaa offers savings on aaa related goods and services from travel benefits to discount codes to car insurance aaa com displays coupons for aaa to help members save more'\n",
      "running manifest on text_list of length 16, first element 'aaa coupons 32 save aaa is an american not for profit organization with an average of 26 coupons for members save about $ aaa offers savings on aaa related goods and services from travel benefits to discount codes to car insurance aaa com displays coupons for aaa to help members save more'\n",
      "running manifest on text_list of length 16, first element 'aaa coupons 32 save aaa is an american not for profit organization with an average of 26 coupons for members save about $ aaa offers savings on aaa related goods and services from travel benefits to discount codes to car insurance aaa com displays coupons for aaa to help members save more'\n",
      "running manifest on text_list of length 16, first element 'aaa coupons 32 save aaa is an american not for profit organization with an average of 26 coupons for members save about $ aaa offers savings on aaa related goods and services from travel benefits to discount codes to car insurance aaa com displays coupons for aaa to help members save more'\n",
      "running manifest on text_list of length 16, first element 'aaa coupons 32 save aaa is an american not for profit organization with an average of 26 coupons for members save about $ aaa offers savings on aaa related goods and services from travel benefits to discount codes to car insurance aaa com displays coupons for aaa to help members save more'\n",
      "running manifest on text_list of length 16, first element 'aaa coupons 32 save aaa is an american not for profit organization with an average of 26 coupons for members save about $ aaa offers savings on aaa related goods and services from travel benefits to discount codes to car insurance aaa com displays coupons for aaa to help members save more'\n",
      "running manifest on text_list of length 16, first element 'aaa coupons 32 save aaa is an american not for profit organization with an average of 26 coupons for members save about $ aaa offers savings on aaa related goods and services from travel benefits to discount codes to car insurance aaa com displays coupons for aaa to help members save more'\n",
      "running manifest on text_list of length 16, first element 'aaa coupons 32 save aaa is an american not for profit organization with an average of 26 coupons for members save about $ aaa offers savings on aaa related goods and services from travel benefits to discount codes to car insurance aaa com displays coupons for aaa to help members save more'\n",
      "running manifest on text_list of length 16, first element 'aaa coupons 32 save aaa is an american not for profit organization with an average of 26 coupons for members save about $ aaa offers savings on aaa related goods and services from travel benefits to discount codes to car insurance aaa com displays coupons for aaa to help members save more'\n",
      "running manifest on text_list of length 16, first element 'aaa coupons 32 save aaa is an american not for profit organization with an average of 26 coupons for members save about $ aaa offers savings on aaa related goods and services from travel benefits to discount codes to car insurance aaa com displays coupons for aaa to help members save more'\n",
      "running manifest on text_list of length 16, first element 'aaa coupons 32 save aaa is an american not for profit organization with an average of 26 coupons for members save about $ aaa offers savings on aaa related goods and services from travel benefits to discount codes to car insurance aaa com displays coupons for aaa to help members save more'\n",
      "running manifest on text_list of length 16, first element 'aaa coupons 32 save aaa is an american not for profit organization with an average of 26 coupons for members save about $ aaa offers savings on aaa related goods and services from travel benefits to discount codes to car insurance aaa com displays coupons for aaa to help members save more'\n",
      "running manifest on text_list of length 16, first element 'aaa coupons 32 save aaa is an american not for profit organization with an average of 26 coupons for members save about $ aaa offers savings on aaa related goods and services from travel benefits to discount codes to car insurance aaa com displays coupons for aaa to help members save more'\n",
      "running manifest on text_list of length 16, first element 'aaa coupons 32 save aaa is an american not for profit organization with an average of 26 coupons for members save about $ aaa offers savings on aaa related goods and services from travel benefits to discount codes to car insurance aaa com displays coupons for aaa to help members save more'\n",
      "running manifest on text_list of length 16, first element 'aaa coupons 32 save aaa is an american not for profit organization with an average of 26 coupons for members save about $ aaa offers savings on aaa related goods and services from travel benefits to discount codes to car insurance aaa com displays coupons for aaa to help members save more'\n",
      "running manifest on text_list of length 16, first element 'aaa coupons 32 save aaa is an american not for profit organization with an average of 26 coupons for members save about $ aaa offers savings on aaa related goods and services from travel benefits to discount codes to car insurance aaa com displays coupons for aaa to help members save more'\n"
     ]
    },
    {
     "name": "stderr",
     "output_type": "stream",
     "text": [
      "                                                                                                                                     \r"
     ]
    },
    {
     "name": "stdout",
     "output_type": "stream",
     "text": [
      "[pred] *The parking lot will require a separate entrance/exit for the proposed use of the. building. [District Floor Plan: Use of existing floor plan space, dimensions, and/or permit requirements for each. subfloor/space will be provided in the Show Fees column.].\n",
      "[true] *The use of the driveway as the required parking spaces will require a separate submittal for a Use Permit. [ ] Floor plan (dimensioned): Show overall building size, existing and proposed room locations, existing and. proposed new window(s)/door(s) size/location(s).\n",
      "\n",
      "\n",
      "\n",
      "[pred] Our illuminated Seville map is encapsulated in a map of each hidden street corner, enabling you to discover the hidden gems of the city.OUR SEVISA GAROUND, Sevilleâs most prominent street corners, and Sevilleâs central business districts are clearly encapsulated in an easy-to-access map of every street corner. This feature also allows you to book hotels, restaurants and resorts in a location of your choice.\n",
      "[true] Our STREETWISE Seville Map enables you to explore each hidden corner of this enticing destination with a clearly defined map of the city, fully indexed and highlighted with hotels, parks and gardens, and places of interest. An inset of the center of Seville makes even the tiniest of alleyways navigable.rea maps of Cordoba, Grenada and Seville facilitate your entry into these three principal cities via auto, giving you the greatest freedom to experience all that is Southern Spain.\n",
      "\n",
      "\n",
      "\n",
      "[pred] aaa coupons 32 save aaa is an american not for profit organization with an average of 26 coupons for members save about $ aaa offers savings on aaa related goods and services from travel benefits to discount codes to car insurance aaa com displays coupons for aaa to help members save more\n",
      "[true] aaa coupon codes about aaa save an average of $ 32 with 26 coupon codes deals for aaa com aaa is a not for profit organization that lists the automobile clubs in the united states and offers travel benefits and automobile insurance to its members members review the aaa positively for its convenient travel benefits pricing of services and insurance claim policies shop aaa com show more show less\n",
      "running manifest on text_list of length 3, first element '*The parking lot will require a separate entrance/exit for the proposed use of the. building. [District Floor Plan: Use of existing floor plan space, dimensions, and/or permit requirements for each. subfloor/space will be provided in the Show Fees column.].'\n",
      "running manifest on text_list of length 3, first element '*The use of the driveway as the required parking spaces will require a separate submittal for a Use Permit. [ ] Floor plan (dimensioned): Show overall building size, existing and proposed room locations, existing and. proposed new window(s)/door(s) size/location(s).'\n"
     ]
    },
    {
     "data": {
      "text/plain": [
       "{'eval_loss': 2.899637222290039,\n",
       " 'eval_pred_num_tokens': 78.66667175292969,\n",
       " 'eval_true_num_tokens': 90.66667175292969,\n",
       " 'eval_token_set_precision': 0.4594729007967779,\n",
       " 'eval_token_set_recall': 0.5318685602896129,\n",
       " 'eval_token_set_f1': 0.4915795206971678,\n",
       " 'eval_bleu_score': 6.136566476254792,\n",
       " 'eval_meteor_score': 0.29302015907056633,\n",
       " 'eval_rouge_score': 0.47423473894062135,\n",
       " 'eval_exact_match': 0.0,\n",
       " 'eval_emb_cos_sim': 0.9517328143119812,\n",
       " 'eval_runtime': 146.4131,\n",
       " 'eval_samples_per_second': 0.02,\n",
       " 'eval_steps_per_second': 0.02}"
      ]
     },
     "execution_count": 4,
     "metadata": {},
     "output_type": "execute_result"
    }
   ],
   "source": [
    "corr_trainer.args.per_device_eval_batch_size = 1\n",
    "corr_trainer.return_best_hypothesis = False\n",
    "corr_trainer.num_gen_recursive_steps = 25\n",
    "corr_trainer.sequence_beam_width = 4\n",
    "corr_trainer.gen_kwargs = {\n",
    "    \"early_stopping\": False,\n",
    "    \"num_beams\": 1,\n",
    "    \"num_return_sequences\": 1,\n",
    "    \"do_sample\": False,\n",
    "    \"no_repeat_ngram_size\": 0,\n",
    "}\n",
    "corr_trainer.evaluate(\n",
    "    eval_dataset=inv_trainer.eval_dataset[\"msmarco\"].select(range(3))\n",
    ")"
   ]
  },
  {
   "cell_type": "code",
   "execution_count": 6,
   "id": "c96b03b4-ea25-4d47-9a1c-7818cf18a201",
   "metadata": {},
   "outputs": [
    {
     "name": "stdout",
     "output_type": "stream",
     "text": [
      "running manifest on text_list of length 1, first element '*The parking lot will require the use of a separate parking space for the proposed use of the. building. [District Floor Plan: Use of existing floor plan space, dimensions, and/or permit requirements for each. subfloor/space will be provided in the Submitting Documents.'\n",
      "running manifest on text_list of length 1, first element 'Our illuminated Seville map is encapsulated in a map of each of our cities, enabling you to discover the hidden gems of the city. Our enlightened Seville map also includes a map of the streets of the city centre, the central business district, the outskirts of the city center and the outskirts of the city center.e encourage you to take advantage of our easy-to-use, fully accessible and easy-to-use map of Seville, Valencia, Seville, and Seville.'\n",
      "running manifest on text_list of length 1, first element 'aaa coupons 32 save aaa is an american travel organization with an average of 32 coupons for members save $ aaa offers savings on a variety of products and services from aaa to car insurance aaa com offers coupons for car insurance and travel insurance not only saves money but also helps members save money on their car insurance and travel insurance'\n"
     ]
    },
    {
     "name": "stderr",
     "output_type": "stream",
     "text": [
      "generating from val:   0%|                                                                                     | 0/3 [00:00<?, ?it/s]"
     ]
    },
    {
     "name": "stdout",
     "output_type": "stream",
     "text": [
      "running manifest on text_list of length 1, first element '*The parking lot will require the use of a separate parking space for the proposed use of the. building. [District Floor Plan: Use of existing floor plan space, dimensions, and/or permit requirements for each. subfloor/space will be provided in the Submitting Documents.'\n",
      "> \u001b[0;32m/home/jxm3/research/retrieval/inversion/trainers/corrector.py\u001b[0m(322)\u001b[0;36m_generate_with_beam\u001b[0;34m()\u001b[0m\n",
      "\u001b[0;32m    320 \u001b[0;31m            \u001b[0;31m# https://discuss.huggingface.co/t/announcement-generation-get-probabilities-for-generated-output/30075\u001b[0m\u001b[0;34m\u001b[0m\u001b[0;34m\u001b[0m\u001b[0m\n",
      "\u001b[0m\u001b[0;32m    321 \u001b[0;31m\u001b[0;34m\u001b[0m\u001b[0m\n",
      "\u001b[0m\u001b[0;32m--> 322 \u001b[0;31m            \u001b[0;32mif\u001b[0m \u001b[0;34m'beam_indices'\u001b[0m \u001b[0;32min\u001b[0m \u001b[0moutputs\u001b[0m\u001b[0;34m:\u001b[0m\u001b[0;34m\u001b[0m\u001b[0;34m\u001b[0m\u001b[0m\n",
      "\u001b[0m\u001b[0;32m    323 \u001b[0;31m                \u001b[0;32mwith\u001b[0m \u001b[0mtorch\u001b[0m\u001b[0;34m.\u001b[0m\u001b[0mno_grad\u001b[0m\u001b[0;34m(\u001b[0m\u001b[0;34m)\u001b[0m\u001b[0;34m:\u001b[0m\u001b[0;34m\u001b[0m\u001b[0;34m\u001b[0m\u001b[0m\n",
      "\u001b[0m\u001b[0;32m    324 \u001b[0;31m                    transition_scores = self.model.encoder_decoder.compute_transition_scores(\n",
      "\u001b[0m\n"
     ]
    },
    {
     "name": "stdin",
     "output_type": "stream",
     "text": [
      "ipdb>  p gen_text_ids\n"
     ]
    },
    {
     "name": "stdout",
     "output_type": "stream",
     "text": [
      "tensor([[   0, 1429,  634,  ...,    0,    0,    0],\n",
      "        [   0, 1429,  634,  ...,    5,    1,    0],\n",
      "        [   0, 1429,  634,  ...,    5,    1,    0],\n",
      "        ...,\n",
      "        [   0, 1429,  634,  ...,    1,    0,    0],\n",
      "        [   0, 1429,  634,  ...,    1,    0,    0],\n",
      "        [   0, 1429,  634,  ...,  908,    1,    0]], device='cuda:0')\n"
     ]
    },
    {
     "name": "stdin",
     "output_type": "stream",
     "text": [
      "ipdb>  p type(gen_text_ids)\n"
     ]
    },
    {
     "name": "stdout",
     "output_type": "stream",
     "text": [
      "<class 'torch.Tensor'>\n"
     ]
    },
    {
     "name": "stdin",
     "output_type": "stream",
     "text": [
      "ipdb>  c\n"
     ]
    },
    {
     "name": "stdout",
     "output_type": "stream",
     "text": [
      "running manifest on text_list of length 16, first element '*The parking lot will require the use of a separate parking space for the proposed use of the. building. [District Floor Plan: Show all existing floor plan entries, dimensions, and/or permit requirements for each. permitted use/space].'\n"
     ]
    },
    {
     "name": "stderr",
     "output_type": "stream",
     "text": [
      "                                                                                                                                     \r"
     ]
    },
    {
     "ename": "OutOfMemoryError",
     "evalue": "CUDA out of memory. Tried to allocate 34.00 MiB (GPU 0; 47.54 GiB total capacity; 39.50 GiB already allocated; 28.88 MiB free; 46.45 GiB reserved in total by PyTorch) If reserved memory is >> allocated memory try setting max_split_size_mb to avoid fragmentation.  See documentation for Memory Management and PYTORCH_CUDA_ALLOC_CONF",
     "output_type": "error",
     "traceback": [
      "\u001b[0;31m---------------------------------------------------------------------------\u001b[0m",
      "\u001b[0;31mOutOfMemoryError\u001b[0m                          Traceback (most recent call last)",
      "Cell \u001b[0;32mIn[6], line 12\u001b[0m\n\u001b[1;32m      4\u001b[0m corr_trainer\u001b[38;5;241m.\u001b[39msequence_beam_width \u001b[38;5;241m=\u001b[39m \u001b[38;5;241m16\u001b[39m\n\u001b[1;32m      5\u001b[0m corr_trainer\u001b[38;5;241m.\u001b[39mgen_kwargs \u001b[38;5;241m=\u001b[39m {\n\u001b[1;32m      6\u001b[0m     \u001b[38;5;124m\"\u001b[39m\u001b[38;5;124mearly_stopping\u001b[39m\u001b[38;5;124m\"\u001b[39m: \u001b[38;5;28;01mFalse\u001b[39;00m,\n\u001b[1;32m      7\u001b[0m     \u001b[38;5;124m\"\u001b[39m\u001b[38;5;124mnum_beams\u001b[39m\u001b[38;5;124m\"\u001b[39m: \u001b[38;5;241m1\u001b[39m,\n\u001b[0;32m   (...)\u001b[0m\n\u001b[1;32m     10\u001b[0m     \u001b[38;5;124m\"\u001b[39m\u001b[38;5;124mno_repeat_ngram_size\u001b[39m\u001b[38;5;124m\"\u001b[39m: \u001b[38;5;241m0\u001b[39m,\n\u001b[1;32m     11\u001b[0m }\n\u001b[0;32m---> 12\u001b[0m \u001b[43mcorr_trainer\u001b[49m\u001b[38;5;241;43m.\u001b[39;49m\u001b[43mevaluate\u001b[49m\u001b[43m(\u001b[49m\n\u001b[1;32m     13\u001b[0m \u001b[43m    \u001b[49m\u001b[43meval_dataset\u001b[49m\u001b[38;5;241;43m=\u001b[39;49m\u001b[43minv_trainer\u001b[49m\u001b[38;5;241;43m.\u001b[39;49m\u001b[43meval_dataset\u001b[49m\u001b[43m[\u001b[49m\u001b[38;5;124;43m\"\u001b[39;49m\u001b[38;5;124;43mmsmarco\u001b[39;49m\u001b[38;5;124;43m\"\u001b[39;49m\u001b[43m]\u001b[49m\u001b[38;5;241;43m.\u001b[39;49m\u001b[43mselect\u001b[49m\u001b[43m(\u001b[49m\u001b[38;5;28;43mrange\u001b[39;49m\u001b[43m(\u001b[49m\u001b[38;5;241;43m3\u001b[39;49m\u001b[43m)\u001b[49m\u001b[43m)\u001b[49m\n\u001b[1;32m     14\u001b[0m \u001b[43m)\u001b[49m\n",
      "File \u001b[0;32m~/.conda/envs/torch/lib/python3.10/site-packages/transformers/trainer.py:3029\u001b[0m, in \u001b[0;36mTrainer.evaluate\u001b[0;34m(self, eval_dataset, ignore_keys, metric_key_prefix)\u001b[0m\n\u001b[1;32m   3026\u001b[0m start_time \u001b[38;5;241m=\u001b[39m time\u001b[38;5;241m.\u001b[39mtime()\n\u001b[1;32m   3028\u001b[0m eval_loop \u001b[38;5;241m=\u001b[39m \u001b[38;5;28mself\u001b[39m\u001b[38;5;241m.\u001b[39mprediction_loop \u001b[38;5;28;01mif\u001b[39;00m \u001b[38;5;28mself\u001b[39m\u001b[38;5;241m.\u001b[39margs\u001b[38;5;241m.\u001b[39muse_legacy_prediction_loop \u001b[38;5;28;01melse\u001b[39;00m \u001b[38;5;28mself\u001b[39m\u001b[38;5;241m.\u001b[39mevaluation_loop\n\u001b[0;32m-> 3029\u001b[0m output \u001b[38;5;241m=\u001b[39m \u001b[43meval_loop\u001b[49m\u001b[43m(\u001b[49m\n\u001b[1;32m   3030\u001b[0m \u001b[43m    \u001b[49m\u001b[43meval_dataloader\u001b[49m\u001b[43m,\u001b[49m\n\u001b[1;32m   3031\u001b[0m \u001b[43m    \u001b[49m\u001b[43mdescription\u001b[49m\u001b[38;5;241;43m=\u001b[39;49m\u001b[38;5;124;43m\"\u001b[39;49m\u001b[38;5;124;43mEvaluation\u001b[39;49m\u001b[38;5;124;43m\"\u001b[39;49m\u001b[43m,\u001b[49m\n\u001b[1;32m   3032\u001b[0m \u001b[43m    \u001b[49m\u001b[38;5;66;43;03m# No point gathering the predictions if there are no metrics, otherwise we defer to\u001b[39;49;00m\n\u001b[1;32m   3033\u001b[0m \u001b[43m    \u001b[49m\u001b[38;5;66;43;03m# self.args.prediction_loss_only\u001b[39;49;00m\n\u001b[1;32m   3034\u001b[0m \u001b[43m    \u001b[49m\u001b[43mprediction_loss_only\u001b[49m\u001b[38;5;241;43m=\u001b[39;49m\u001b[38;5;28;43;01mTrue\u001b[39;49;00m\u001b[43m \u001b[49m\u001b[38;5;28;43;01mif\u001b[39;49;00m\u001b[43m \u001b[49m\u001b[38;5;28;43mself\u001b[39;49m\u001b[38;5;241;43m.\u001b[39;49m\u001b[43mcompute_metrics\u001b[49m\u001b[43m \u001b[49m\u001b[38;5;129;43;01mis\u001b[39;49;00m\u001b[43m \u001b[49m\u001b[38;5;28;43;01mNone\u001b[39;49;00m\u001b[43m \u001b[49m\u001b[38;5;28;43;01melse\u001b[39;49;00m\u001b[43m \u001b[49m\u001b[38;5;28;43;01mNone\u001b[39;49;00m\u001b[43m,\u001b[49m\n\u001b[1;32m   3035\u001b[0m \u001b[43m    \u001b[49m\u001b[43mignore_keys\u001b[49m\u001b[38;5;241;43m=\u001b[39;49m\u001b[43mignore_keys\u001b[49m\u001b[43m,\u001b[49m\n\u001b[1;32m   3036\u001b[0m \u001b[43m    \u001b[49m\u001b[43mmetric_key_prefix\u001b[49m\u001b[38;5;241;43m=\u001b[39;49m\u001b[43mmetric_key_prefix\u001b[49m\u001b[43m,\u001b[49m\n\u001b[1;32m   3037\u001b[0m \u001b[43m\u001b[49m\u001b[43m)\u001b[49m\n\u001b[1;32m   3039\u001b[0m total_batch_size \u001b[38;5;241m=\u001b[39m \u001b[38;5;28mself\u001b[39m\u001b[38;5;241m.\u001b[39margs\u001b[38;5;241m.\u001b[39meval_batch_size \u001b[38;5;241m*\u001b[39m \u001b[38;5;28mself\u001b[39m\u001b[38;5;241m.\u001b[39margs\u001b[38;5;241m.\u001b[39mworld_size\n\u001b[1;32m   3040\u001b[0m \u001b[38;5;28;01mif\u001b[39;00m \u001b[38;5;124mf\u001b[39m\u001b[38;5;124m\"\u001b[39m\u001b[38;5;132;01m{\u001b[39;00mmetric_key_prefix\u001b[38;5;132;01m}\u001b[39;00m\u001b[38;5;124m_jit_compilation_time\u001b[39m\u001b[38;5;124m\"\u001b[39m \u001b[38;5;129;01min\u001b[39;00m output\u001b[38;5;241m.\u001b[39mmetrics:\n",
      "File \u001b[0;32m~/research/retrieval/inversion/trainers/base.py:379\u001b[0m, in \u001b[0;36mBaseTrainer.evaluation_loop\u001b[0;34m(self, dataloader, *args, **kwargs)\u001b[0m\n\u001b[1;32m    377\u001b[0m metric_key_prefix \u001b[38;5;241m=\u001b[39m kwargs[\u001b[38;5;124m\"\u001b[39m\u001b[38;5;124mmetric_key_prefix\u001b[39m\u001b[38;5;124m\"\u001b[39m]\n\u001b[1;32m    378\u001b[0m \u001b[38;5;66;03m# TODO compute some data metrics here too.\u001b[39;00m\n\u001b[0;32m--> 379\u001b[0m generation_metrics \u001b[38;5;241m=\u001b[39m \u001b[38;5;28;43mself\u001b[39;49m\u001b[38;5;241;43m.\u001b[39;49m\u001b[43meval_generation_metrics\u001b[49m\u001b[43m(\u001b[49m\u001b[43mdataloader\u001b[49m\u001b[38;5;241;43m=\u001b[39;49m\u001b[43mdataloader\u001b[49m\u001b[43m)\u001b[49m\n\u001b[1;32m    380\u001b[0m generation_metrics \u001b[38;5;241m=\u001b[39m {\n\u001b[1;32m    381\u001b[0m     \u001b[38;5;124mf\u001b[39m\u001b[38;5;124m\"\u001b[39m\u001b[38;5;132;01m{\u001b[39;00mmetric_key_prefix\u001b[38;5;132;01m}\u001b[39;00m\u001b[38;5;124m_\u001b[39m\u001b[38;5;132;01m{\u001b[39;00mk\u001b[38;5;132;01m}\u001b[39;00m\u001b[38;5;124m\"\u001b[39m: v \u001b[38;5;28;01mfor\u001b[39;00m k, v \u001b[38;5;129;01min\u001b[39;00m generation_metrics\u001b[38;5;241m.\u001b[39mitems()\n\u001b[1;32m    382\u001b[0m }\n\u001b[1;32m    383\u001b[0m output\u001b[38;5;241m.\u001b[39mmetrics\u001b[38;5;241m.\u001b[39mupdate(generation_metrics)\n",
      "File \u001b[0;32m~/research/retrieval/inversion/trainers/base.py:271\u001b[0m, in \u001b[0;36mBaseTrainer.eval_generation_metrics\u001b[0;34m(self, dataloader)\u001b[0m\n\u001b[1;32m    266\u001b[0m \u001b[38;5;28;01mdef\u001b[39;00m \u001b[38;5;21meval_generation_metrics\u001b[39m(\n\u001b[1;32m    267\u001b[0m     \u001b[38;5;28mself\u001b[39m, dataloader: torch\u001b[38;5;241m.\u001b[39mutils\u001b[38;5;241m.\u001b[39mdata\u001b[38;5;241m.\u001b[39mDataLoader\n\u001b[1;32m    268\u001b[0m ) \u001b[38;5;241m-\u001b[39m\u001b[38;5;241m>\u001b[39m Dict[\u001b[38;5;28mstr\u001b[39m, \u001b[38;5;28mfloat\u001b[39m]:\n\u001b[1;32m    269\u001b[0m     \u001b[38;5;66;03m# Get decoded text. Note that this is different than `preds`, which\u001b[39;00m\n\u001b[1;32m    270\u001b[0m     \u001b[38;5;66;03m# is used to compute the loss.\u001b[39;00m\n\u001b[0;32m--> 271\u001b[0m     preds_sample_list, preds_sample_labels_list \u001b[38;5;241m=\u001b[39m \u001b[38;5;28;43mself\u001b[39;49m\u001b[38;5;241;43m.\u001b[39;49m\u001b[43m_get_decoded_sequences\u001b[49m\u001b[43m(\u001b[49m\n\u001b[1;32m    272\u001b[0m \u001b[43m        \u001b[49m\u001b[43mdataloader\u001b[49m\u001b[38;5;241;43m=\u001b[39;49m\u001b[43mdataloader\u001b[49m\u001b[43m,\u001b[49m\u001b[43m \u001b[49m\u001b[43mn\u001b[49m\u001b[38;5;241;43m=\u001b[39;49m\u001b[38;5;241;43m10000\u001b[39;49m\n\u001b[1;32m    273\u001b[0m \u001b[43m    \u001b[49m\u001b[43m)\u001b[49m\n\u001b[1;32m    275\u001b[0m     \u001b[38;5;66;03m# Log BLEU, log table of text.\u001b[39;00m\n\u001b[1;32m    276\u001b[0m     decoded_preds \u001b[38;5;241m=\u001b[39m \u001b[38;5;28mself\u001b[39m\u001b[38;5;241m.\u001b[39mtokenizer\u001b[38;5;241m.\u001b[39mbatch_decode(\n\u001b[1;32m    277\u001b[0m         preds_sample_list, skip_special_tokens\u001b[38;5;241m=\u001b[39m\u001b[38;5;28;01mTrue\u001b[39;00m\n\u001b[1;32m    278\u001b[0m     )\n",
      "File \u001b[0;32m~/research/retrieval/inversion/trainers/base.py:115\u001b[0m, in \u001b[0;36mBaseTrainer._get_decoded_sequences\u001b[0;34m(self, dataloader, n)\u001b[0m\n\u001b[1;32m    113\u001b[0m gen_kwargs[\u001b[38;5;124m\"\u001b[39m\u001b[38;5;124mmax_length\u001b[39m\u001b[38;5;124m\"\u001b[39m] \u001b[38;5;241m=\u001b[39m max_length\n\u001b[1;32m    114\u001b[0m \u001b[38;5;28;01mwith\u001b[39;00m torch\u001b[38;5;241m.\u001b[39mno_grad():\n\u001b[0;32m--> 115\u001b[0m     generated_text \u001b[38;5;241m=\u001b[39m \u001b[38;5;28;43mself\u001b[39;49m\u001b[38;5;241;43m.\u001b[39;49m\u001b[43mgenerate\u001b[49m\u001b[43m(\u001b[49m\n\u001b[1;32m    116\u001b[0m \u001b[43m        \u001b[49m\u001b[43minputs\u001b[49m\u001b[38;5;241;43m=\u001b[39;49m\u001b[43minputs_cuda\u001b[49m\u001b[43m,\u001b[49m\u001b[43m \u001b[49m\u001b[43mgeneration_kwargs\u001b[49m\u001b[38;5;241;43m=\u001b[39;49m\u001b[43mgen_kwargs\u001b[49m\n\u001b[1;32m    117\u001b[0m \u001b[43m    \u001b[49m\u001b[43m)\u001b[49m\n\u001b[1;32m    118\u001b[0m \u001b[38;5;28;01mif\u001b[39;00m generated_text\u001b[38;5;241m.\u001b[39mshape[\u001b[38;5;241m1\u001b[39m] \u001b[38;5;241m<\u001b[39m max_length:\n\u001b[1;32m    119\u001b[0m     \u001b[38;5;66;03m# Pad generated text to max length\u001b[39;00m\n\u001b[1;32m    120\u001b[0m     pad_tokens \u001b[38;5;241m=\u001b[39m (\n\u001b[1;32m    121\u001b[0m         torch\u001b[38;5;241m.\u001b[39mones(\n\u001b[1;32m    122\u001b[0m             (generated_text\u001b[38;5;241m.\u001b[39mshape[\u001b[38;5;241m0\u001b[39m], max_length \u001b[38;5;241m-\u001b[39m generated_text\u001b[38;5;241m.\u001b[39mshape[\u001b[38;5;241m1\u001b[39m]),\n\u001b[0;32m   (...)\u001b[0m\n\u001b[1;32m    126\u001b[0m         \u001b[38;5;241m*\u001b[39m \u001b[38;5;28mself\u001b[39m\u001b[38;5;241m.\u001b[39mmodel\u001b[38;5;241m.\u001b[39mencoder_decoder\u001b[38;5;241m.\u001b[39mconfig\u001b[38;5;241m.\u001b[39mpad_token_id\n\u001b[1;32m    127\u001b[0m     )\n",
      "File \u001b[0;32m~/research/retrieval/inversion/trainers/corrector.py:239\u001b[0m, in \u001b[0;36mCorrectorTrainer.generate\u001b[0;34m(self, inputs, generation_kwargs, num_recursive_steps, sequence_beam_width)\u001b[0m\n\u001b[1;32m    237\u001b[0m inputs[\u001b[38;5;124m\"\u001b[39m\u001b[38;5;124mhypothesis_embedding\u001b[39m\u001b[38;5;124m\"\u001b[39m] \u001b[38;5;241m=\u001b[39m hypothesis_embedding\n\u001b[1;32m    238\u001b[0m \u001b[38;5;66;03m# print(\"generating with sequence_beam_width:\", (sequence_beam_width or self.sequence_beam_width))\u001b[39;00m\n\u001b[0;32m--> 239\u001b[0m \u001b[38;5;28;01mreturn\u001b[39;00m \u001b[38;5;28;43mself\u001b[39;49m\u001b[38;5;241;43m.\u001b[39;49m\u001b[43m_generate_with_beam\u001b[49m\u001b[43m(\u001b[49m\n\u001b[1;32m    240\u001b[0m \u001b[43m    \u001b[49m\u001b[43minputs\u001b[49m\u001b[38;5;241;43m=\u001b[39;49m\u001b[43minputs\u001b[49m\u001b[43m,\u001b[49m\n\u001b[1;32m    241\u001b[0m \u001b[43m    \u001b[49m\u001b[43mgeneration_kwargs\u001b[49m\u001b[38;5;241;43m=\u001b[39;49m\u001b[43mgeneration_kwargs\u001b[49m\u001b[43m,\u001b[49m\n\u001b[1;32m    242\u001b[0m \u001b[43m    \u001b[49m\u001b[43mnum_recursive_steps\u001b[49m\u001b[38;5;241;43m=\u001b[39;49m\u001b[43m(\u001b[49m\u001b[43mnum_recursive_steps\u001b[49m\u001b[43m \u001b[49m\u001b[38;5;129;43;01mor\u001b[39;49;00m\u001b[43m \u001b[49m\u001b[38;5;28;43mself\u001b[39;49m\u001b[38;5;241;43m.\u001b[39;49m\u001b[43mnum_gen_recursive_steps\u001b[49m\u001b[43m)\u001b[49m\u001b[43m,\u001b[49m\n\u001b[1;32m    243\u001b[0m \u001b[43m    \u001b[49m\u001b[43mnum_recursive_steps_so_far\u001b[49m\u001b[38;5;241;43m=\u001b[39;49m\u001b[38;5;241;43m0\u001b[39;49m\u001b[43m,\u001b[49m\n\u001b[1;32m    244\u001b[0m \u001b[43m    \u001b[49m\u001b[43msequence_beam_width\u001b[49m\u001b[38;5;241;43m=\u001b[39;49m\u001b[43m(\u001b[49m\u001b[43msequence_beam_width\u001b[49m\u001b[43m \u001b[49m\u001b[38;5;129;43;01mor\u001b[39;49;00m\u001b[43m \u001b[49m\u001b[38;5;28;43mself\u001b[39;49m\u001b[38;5;241;43m.\u001b[39;49m\u001b[43msequence_beam_width\u001b[49m\u001b[43m)\u001b[49m\u001b[43m,\u001b[49m\n\u001b[1;32m    245\u001b[0m \u001b[43m\u001b[49m\u001b[43m)\u001b[49m\n",
      "File \u001b[0;32m~/research/retrieval/inversion/trainers/corrector.py:473\u001b[0m, in \u001b[0;36mCorrectorTrainer._generate_with_beam\u001b[0;34m(self, inputs, generation_kwargs, num_recursive_steps, num_recursive_steps_so_far, sequence_beam_width)\u001b[0m\n\u001b[1;32m    469\u001b[0m inputs[\u001b[38;5;124m\"\u001b[39m\u001b[38;5;124mhypothesis_attention_mask\u001b[39m\u001b[38;5;124m\"\u001b[39m] \u001b[38;5;241m=\u001b[39m (\n\u001b[1;32m    470\u001b[0m     gen_text_ids \u001b[38;5;241m!=\u001b[39m \u001b[38;5;28mself\u001b[39m\u001b[38;5;241m.\u001b[39mmodel\u001b[38;5;241m.\u001b[39mencoder_decoder\u001b[38;5;241m.\u001b[39mconfig\u001b[38;5;241m.\u001b[39mpad_token_id\n\u001b[1;32m    471\u001b[0m )\u001b[38;5;241m.\u001b[39mint()\n\u001b[1;32m    472\u001b[0m inputs[\u001b[38;5;124m\"\u001b[39m\u001b[38;5;124mhypothesis_embedding\u001b[39m\u001b[38;5;124m\"\u001b[39m] \u001b[38;5;241m=\u001b[39m hypothesis_embedding\n\u001b[0;32m--> 473\u001b[0m \u001b[38;5;28;01mreturn\u001b[39;00m \u001b[38;5;28;43mself\u001b[39;49m\u001b[38;5;241;43m.\u001b[39;49m\u001b[43m_generate_with_beam\u001b[49m\u001b[43m(\u001b[49m\n\u001b[1;32m    474\u001b[0m \u001b[43m    \u001b[49m\u001b[43minputs\u001b[49m\u001b[38;5;241;43m=\u001b[39;49m\u001b[43minputs\u001b[49m\u001b[43m,\u001b[49m\n\u001b[1;32m    475\u001b[0m \u001b[43m    \u001b[49m\u001b[43mgeneration_kwargs\u001b[49m\u001b[38;5;241;43m=\u001b[39;49m\u001b[43mgeneration_kwargs\u001b[49m\u001b[43m,\u001b[49m\n\u001b[1;32m    476\u001b[0m \u001b[43m    \u001b[49m\u001b[43mnum_recursive_steps\u001b[49m\u001b[38;5;241;43m=\u001b[39;49m\u001b[43m(\u001b[49m\u001b[43mnum_recursive_steps\u001b[49m\u001b[43m \u001b[49m\u001b[38;5;241;43m-\u001b[39;49m\u001b[43m \u001b[49m\u001b[38;5;241;43m1\u001b[39;49m\u001b[43m)\u001b[49m\u001b[43m,\u001b[49m\n\u001b[1;32m    477\u001b[0m \u001b[43m    \u001b[49m\u001b[43mnum_recursive_steps_so_far\u001b[49m\u001b[38;5;241;43m=\u001b[39;49m\u001b[43mnum_recursive_steps_so_far\u001b[49m\u001b[43m \u001b[49m\u001b[38;5;241;43m+\u001b[39;49m\u001b[43m \u001b[49m\u001b[38;5;241;43m1\u001b[39;49m\u001b[43m,\u001b[49m\n\u001b[1;32m    478\u001b[0m \u001b[43m    \u001b[49m\u001b[43msequence_beam_width\u001b[49m\u001b[38;5;241;43m=\u001b[39;49m\u001b[43msequence_beam_width\u001b[49m\u001b[43m,\u001b[49m\n\u001b[1;32m    479\u001b[0m \u001b[43m\u001b[49m\u001b[43m)\u001b[49m\n",
      "File \u001b[0;32m~/research/retrieval/inversion/trainers/corrector.py:312\u001b[0m, in \u001b[0;36mCorrectorTrainer._generate_with_beam\u001b[0;34m(self, inputs, generation_kwargs, num_recursive_steps, num_recursive_steps_so_far, sequence_beam_width)\u001b[0m\n\u001b[1;32m    310\u001b[0m     gen_text_ids \u001b[38;5;241m=\u001b[39m torch\u001b[38;5;241m.\u001b[39mcat((bos_token_ids, gen_text_ids[:, :\u001b[38;5;241m-\u001b[39m\u001b[38;5;241m1\u001b[39m]), dim\u001b[38;5;241m=\u001b[39m\u001b[38;5;241m1\u001b[39m)\n\u001b[1;32m    311\u001b[0m \u001b[38;5;28;01melif\u001b[39;00m \u001b[38;5;28mself\u001b[39m\u001b[38;5;241m.\u001b[39mis_corrector_encoder:\n\u001b[0;32m--> 312\u001b[0m     outputs \u001b[38;5;241m=\u001b[39m \u001b[38;5;28;43mself\u001b[39;49m\u001b[38;5;241;43m.\u001b[39;49m\u001b[43mmodel\u001b[49m\u001b[38;5;241;43m.\u001b[39;49m\u001b[43mgenerate\u001b[49m\u001b[43m(\u001b[49m\n\u001b[1;32m    313\u001b[0m \u001b[43m        \u001b[49m\u001b[43minputs\u001b[49m\u001b[38;5;241;43m=\u001b[39;49m\u001b[43minputs\u001b[49m\u001b[43m,\u001b[49m\n\u001b[1;32m    314\u001b[0m \u001b[43m        \u001b[49m\u001b[43mgeneration_kwargs\u001b[49m\u001b[38;5;241;43m=\u001b[39;49m\u001b[43mgeneration_kwargs\u001b[49m\u001b[43m,\u001b[49m\n\u001b[1;32m    315\u001b[0m \u001b[43m        \u001b[49m\u001b[43mreturn_dict_in_generate\u001b[49m\u001b[38;5;241;43m=\u001b[39;49m\u001b[38;5;28;43;01mTrue\u001b[39;49;00m\u001b[43m,\u001b[49m\n\u001b[1;32m    316\u001b[0m \u001b[43m    \u001b[49m\u001b[43m)\u001b[49m\n\u001b[1;32m    317\u001b[0m     gen_text_ids \u001b[38;5;241m=\u001b[39m outputs\u001b[38;5;241m.\u001b[39msequences\n\u001b[1;32m    318\u001b[0m     \u001b[38;5;28;01mimport\u001b[39;00m \u001b[38;5;21;01mpdb\u001b[39;00m; pdb\u001b[38;5;241m.\u001b[39mset_trace()\n",
      "File \u001b[0;32m~/research/retrieval/inversion/models/corrector_encoder.py:145\u001b[0m, in \u001b[0;36mCorrectorEncoderModel.generate\u001b[0;34m(self, inputs, generation_kwargs, return_dict_in_generate)\u001b[0m\n\u001b[1;32m    131\u001b[0m     \u001b[38;5;28;01mreturn\u001b[39;00m \u001b[38;5;28mself\u001b[39m\u001b[38;5;241m.\u001b[39mencoder_decoder\u001b[38;5;241m.\u001b[39mgenerate(\n\u001b[1;32m    132\u001b[0m         \u001b[38;5;66;03m# required: input embeddings\u001b[39;00m\n\u001b[1;32m    133\u001b[0m         inputs_embeds\u001b[38;5;241m=\u001b[39minputs_embeds,\n\u001b[0;32m   (...)\u001b[0m\n\u001b[1;32m    142\u001b[0m         \u001b[38;5;241m*\u001b[39m\u001b[38;5;241m*\u001b[39mgeneration_kwargs,\n\u001b[1;32m    143\u001b[0m     )\n\u001b[1;32m    144\u001b[0m \u001b[38;5;28;01melse\u001b[39;00m:\n\u001b[0;32m--> 145\u001b[0m     \u001b[38;5;28;01mreturn\u001b[39;00m \u001b[38;5;28;43mself\u001b[39;49m\u001b[38;5;241;43m.\u001b[39;49m\u001b[43mencoder_decoder\u001b[49m\u001b[38;5;241;43m.\u001b[39;49m\u001b[43mgenerate\u001b[49m\u001b[43m(\u001b[49m\n\u001b[1;32m    146\u001b[0m \u001b[43m        \u001b[49m\u001b[38;5;66;43;03m# required: input embeddings\u001b[39;49;00m\n\u001b[1;32m    147\u001b[0m \u001b[43m        \u001b[49m\u001b[43minputs_embeds\u001b[49m\u001b[38;5;241;43m=\u001b[39;49m\u001b[43minputs_embeds\u001b[49m\u001b[43m,\u001b[49m\n\u001b[1;32m    148\u001b[0m \u001b[43m        \u001b[49m\u001b[43mattention_mask\u001b[49m\u001b[38;5;241;43m=\u001b[39;49m\u001b[43mattention_mask\u001b[49m\u001b[43m,\u001b[49m\n\u001b[1;32m    149\u001b[0m \u001b[43m        \u001b[49m\u001b[43mreturn_dict_in_generate\u001b[49m\u001b[38;5;241;43m=\u001b[39;49m\u001b[43mreturn_dict_in_generate\u001b[49m\u001b[43m,\u001b[49m\n\u001b[1;32m    150\u001b[0m \u001b[43m        \u001b[49m\u001b[43moutput_scores\u001b[49m\u001b[38;5;241;43m=\u001b[39;49m\u001b[43mreturn_dict_in_generate\u001b[49m\u001b[43m,\u001b[49m\n\u001b[1;32m    151\u001b[0m \u001b[43m        \u001b[49m\u001b[38;5;66;43;03m# optional: input IDs (for starting generation).\u001b[39;49;00m\n\u001b[1;32m    152\u001b[0m \u001b[43m        \u001b[49m\u001b[38;5;66;43;03m# typically not set unless generating prefixes for\u001b[39;49;00m\n\u001b[1;32m    153\u001b[0m \u001b[43m        \u001b[49m\u001b[38;5;66;43;03m# reranking.\u001b[39;49;00m\n\u001b[1;32m    154\u001b[0m \u001b[43m        \u001b[49m\u001b[38;5;241;43m*\u001b[39;49m\u001b[38;5;241;43m*\u001b[39;49m\u001b[43mgeneration_kwargs\u001b[49m\u001b[43m,\u001b[49m\n\u001b[1;32m    155\u001b[0m \u001b[43m    \u001b[49m\u001b[43m)\u001b[49m\n",
      "File \u001b[0;32m~/.conda/envs/torch/lib/python3.10/site-packages/torch/utils/_contextlib.py:115\u001b[0m, in \u001b[0;36mcontext_decorator.<locals>.decorate_context\u001b[0;34m(*args, **kwargs)\u001b[0m\n\u001b[1;32m    112\u001b[0m \u001b[38;5;129m@functools\u001b[39m\u001b[38;5;241m.\u001b[39mwraps(func)\n\u001b[1;32m    113\u001b[0m \u001b[38;5;28;01mdef\u001b[39;00m \u001b[38;5;21mdecorate_context\u001b[39m(\u001b[38;5;241m*\u001b[39margs, \u001b[38;5;241m*\u001b[39m\u001b[38;5;241m*\u001b[39mkwargs):\n\u001b[1;32m    114\u001b[0m     \u001b[38;5;28;01mwith\u001b[39;00m ctx_factory():\n\u001b[0;32m--> 115\u001b[0m         \u001b[38;5;28;01mreturn\u001b[39;00m \u001b[43mfunc\u001b[49m\u001b[43m(\u001b[49m\u001b[38;5;241;43m*\u001b[39;49m\u001b[43margs\u001b[49m\u001b[43m,\u001b[49m\u001b[43m \u001b[49m\u001b[38;5;241;43m*\u001b[39;49m\u001b[38;5;241;43m*\u001b[39;49m\u001b[43mkwargs\u001b[49m\u001b[43m)\u001b[49m\n",
      "File \u001b[0;32m~/.conda/envs/torch/lib/python3.10/site-packages/transformers/generation/utils.py:1604\u001b[0m, in \u001b[0;36mGenerationMixin.generate\u001b[0;34m(self, inputs, generation_config, logits_processor, stopping_criteria, prefix_allowed_tokens_fn, synced_gpus, assistant_model, streamer, **kwargs)\u001b[0m\n\u001b[1;32m   1597\u001b[0m     input_ids, model_kwargs \u001b[38;5;241m=\u001b[39m \u001b[38;5;28mself\u001b[39m\u001b[38;5;241m.\u001b[39m_expand_inputs_for_generation(\n\u001b[1;32m   1598\u001b[0m         input_ids\u001b[38;5;241m=\u001b[39minput_ids,\n\u001b[1;32m   1599\u001b[0m         expand_size\u001b[38;5;241m=\u001b[39mgeneration_config\u001b[38;5;241m.\u001b[39mnum_beams,\n\u001b[1;32m   1600\u001b[0m         is_encoder_decoder\u001b[38;5;241m=\u001b[39m\u001b[38;5;28mself\u001b[39m\u001b[38;5;241m.\u001b[39mconfig\u001b[38;5;241m.\u001b[39mis_encoder_decoder,\n\u001b[1;32m   1601\u001b[0m         \u001b[38;5;241m*\u001b[39m\u001b[38;5;241m*\u001b[39mmodel_kwargs,\n\u001b[1;32m   1602\u001b[0m     )\n\u001b[1;32m   1603\u001b[0m     \u001b[38;5;66;03m# 13. run beam search\u001b[39;00m\n\u001b[0;32m-> 1604\u001b[0m     \u001b[38;5;28;01mreturn\u001b[39;00m \u001b[38;5;28;43mself\u001b[39;49m\u001b[38;5;241;43m.\u001b[39;49m\u001b[43mbeam_search\u001b[49m\u001b[43m(\u001b[49m\n\u001b[1;32m   1605\u001b[0m \u001b[43m        \u001b[49m\u001b[43minput_ids\u001b[49m\u001b[43m,\u001b[49m\n\u001b[1;32m   1606\u001b[0m \u001b[43m        \u001b[49m\u001b[43mbeam_scorer\u001b[49m\u001b[43m,\u001b[49m\n\u001b[1;32m   1607\u001b[0m \u001b[43m        \u001b[49m\u001b[43mlogits_processor\u001b[49m\u001b[38;5;241;43m=\u001b[39;49m\u001b[43mlogits_processor\u001b[49m\u001b[43m,\u001b[49m\n\u001b[1;32m   1608\u001b[0m \u001b[43m        \u001b[49m\u001b[43mstopping_criteria\u001b[49m\u001b[38;5;241;43m=\u001b[39;49m\u001b[43mstopping_criteria\u001b[49m\u001b[43m,\u001b[49m\n\u001b[1;32m   1609\u001b[0m \u001b[43m        \u001b[49m\u001b[43mpad_token_id\u001b[49m\u001b[38;5;241;43m=\u001b[39;49m\u001b[43mgeneration_config\u001b[49m\u001b[38;5;241;43m.\u001b[39;49m\u001b[43mpad_token_id\u001b[49m\u001b[43m,\u001b[49m\n\u001b[1;32m   1610\u001b[0m \u001b[43m        \u001b[49m\u001b[43meos_token_id\u001b[49m\u001b[38;5;241;43m=\u001b[39;49m\u001b[43mgeneration_config\u001b[49m\u001b[38;5;241;43m.\u001b[39;49m\u001b[43meos_token_id\u001b[49m\u001b[43m,\u001b[49m\n\u001b[1;32m   1611\u001b[0m \u001b[43m        \u001b[49m\u001b[43moutput_scores\u001b[49m\u001b[38;5;241;43m=\u001b[39;49m\u001b[43mgeneration_config\u001b[49m\u001b[38;5;241;43m.\u001b[39;49m\u001b[43moutput_scores\u001b[49m\u001b[43m,\u001b[49m\n\u001b[1;32m   1612\u001b[0m \u001b[43m        \u001b[49m\u001b[43mreturn_dict_in_generate\u001b[49m\u001b[38;5;241;43m=\u001b[39;49m\u001b[43mgeneration_config\u001b[49m\u001b[38;5;241;43m.\u001b[39;49m\u001b[43mreturn_dict_in_generate\u001b[49m\u001b[43m,\u001b[49m\n\u001b[1;32m   1613\u001b[0m \u001b[43m        \u001b[49m\u001b[43msynced_gpus\u001b[49m\u001b[38;5;241;43m=\u001b[39;49m\u001b[43msynced_gpus\u001b[49m\u001b[43m,\u001b[49m\n\u001b[1;32m   1614\u001b[0m \u001b[43m        \u001b[49m\u001b[38;5;241;43m*\u001b[39;49m\u001b[38;5;241;43m*\u001b[39;49m\u001b[43mmodel_kwargs\u001b[49m\u001b[43m,\u001b[49m\n\u001b[1;32m   1615\u001b[0m \u001b[43m    \u001b[49m\u001b[43m)\u001b[49m\n\u001b[1;32m   1617\u001b[0m \u001b[38;5;28;01melif\u001b[39;00m is_beam_sample_gen_mode:\n\u001b[1;32m   1618\u001b[0m     \u001b[38;5;66;03m# 11. prepare logits warper\u001b[39;00m\n\u001b[1;32m   1619\u001b[0m     logits_warper \u001b[38;5;241m=\u001b[39m \u001b[38;5;28mself\u001b[39m\u001b[38;5;241m.\u001b[39m_get_logits_warper(generation_config)\n",
      "File \u001b[0;32m~/.conda/envs/torch/lib/python3.10/site-packages/transformers/generation/utils.py:2902\u001b[0m, in \u001b[0;36mGenerationMixin.beam_search\u001b[0;34m(self, input_ids, beam_scorer, logits_processor, stopping_criteria, max_length, pad_token_id, eos_token_id, output_attentions, output_hidden_states, output_scores, return_dict_in_generate, synced_gpus, **model_kwargs)\u001b[0m\n\u001b[1;32m   2898\u001b[0m         \u001b[38;5;28;01mbreak\u001b[39;00m\n\u001b[1;32m   2900\u001b[0m model_inputs \u001b[38;5;241m=\u001b[39m \u001b[38;5;28mself\u001b[39m\u001b[38;5;241m.\u001b[39mprepare_inputs_for_generation(input_ids, \u001b[38;5;241m*\u001b[39m\u001b[38;5;241m*\u001b[39mmodel_kwargs)\n\u001b[0;32m-> 2902\u001b[0m outputs \u001b[38;5;241m=\u001b[39m \u001b[38;5;28;43mself\u001b[39;49m\u001b[43m(\u001b[49m\n\u001b[1;32m   2903\u001b[0m \u001b[43m    \u001b[49m\u001b[38;5;241;43m*\u001b[39;49m\u001b[38;5;241;43m*\u001b[39;49m\u001b[43mmodel_inputs\u001b[49m\u001b[43m,\u001b[49m\n\u001b[1;32m   2904\u001b[0m \u001b[43m    \u001b[49m\u001b[43mreturn_dict\u001b[49m\u001b[38;5;241;43m=\u001b[39;49m\u001b[38;5;28;43;01mTrue\u001b[39;49;00m\u001b[43m,\u001b[49m\n\u001b[1;32m   2905\u001b[0m \u001b[43m    \u001b[49m\u001b[43moutput_attentions\u001b[49m\u001b[38;5;241;43m=\u001b[39;49m\u001b[43moutput_attentions\u001b[49m\u001b[43m,\u001b[49m\n\u001b[1;32m   2906\u001b[0m \u001b[43m    \u001b[49m\u001b[43moutput_hidden_states\u001b[49m\u001b[38;5;241;43m=\u001b[39;49m\u001b[43moutput_hidden_states\u001b[49m\u001b[43m,\u001b[49m\n\u001b[1;32m   2907\u001b[0m \u001b[43m\u001b[49m\u001b[43m)\u001b[49m\n\u001b[1;32m   2909\u001b[0m \u001b[38;5;28;01mif\u001b[39;00m synced_gpus \u001b[38;5;129;01mand\u001b[39;00m this_peer_finished:\n\u001b[1;32m   2910\u001b[0m     cur_len \u001b[38;5;241m=\u001b[39m cur_len \u001b[38;5;241m+\u001b[39m \u001b[38;5;241m1\u001b[39m\n",
      "File \u001b[0;32m~/.conda/envs/torch/lib/python3.10/site-packages/torch/nn/modules/module.py:1501\u001b[0m, in \u001b[0;36mModule._call_impl\u001b[0;34m(self, *args, **kwargs)\u001b[0m\n\u001b[1;32m   1496\u001b[0m \u001b[38;5;66;03m# If we don't have any hooks, we want to skip the rest of the logic in\u001b[39;00m\n\u001b[1;32m   1497\u001b[0m \u001b[38;5;66;03m# this function, and just call forward.\u001b[39;00m\n\u001b[1;32m   1498\u001b[0m \u001b[38;5;28;01mif\u001b[39;00m \u001b[38;5;129;01mnot\u001b[39;00m (\u001b[38;5;28mself\u001b[39m\u001b[38;5;241m.\u001b[39m_backward_hooks \u001b[38;5;129;01mor\u001b[39;00m \u001b[38;5;28mself\u001b[39m\u001b[38;5;241m.\u001b[39m_backward_pre_hooks \u001b[38;5;129;01mor\u001b[39;00m \u001b[38;5;28mself\u001b[39m\u001b[38;5;241m.\u001b[39m_forward_hooks \u001b[38;5;129;01mor\u001b[39;00m \u001b[38;5;28mself\u001b[39m\u001b[38;5;241m.\u001b[39m_forward_pre_hooks\n\u001b[1;32m   1499\u001b[0m         \u001b[38;5;129;01mor\u001b[39;00m _global_backward_pre_hooks \u001b[38;5;129;01mor\u001b[39;00m _global_backward_hooks\n\u001b[1;32m   1500\u001b[0m         \u001b[38;5;129;01mor\u001b[39;00m _global_forward_hooks \u001b[38;5;129;01mor\u001b[39;00m _global_forward_pre_hooks):\n\u001b[0;32m-> 1501\u001b[0m     \u001b[38;5;28;01mreturn\u001b[39;00m \u001b[43mforward_call\u001b[49m\u001b[43m(\u001b[49m\u001b[38;5;241;43m*\u001b[39;49m\u001b[43margs\u001b[49m\u001b[43m,\u001b[49m\u001b[43m \u001b[49m\u001b[38;5;241;43m*\u001b[39;49m\u001b[38;5;241;43m*\u001b[39;49m\u001b[43mkwargs\u001b[49m\u001b[43m)\u001b[49m\n\u001b[1;32m   1502\u001b[0m \u001b[38;5;66;03m# Do not call functions when jit is used\u001b[39;00m\n\u001b[1;32m   1503\u001b[0m full_backward_hooks, non_full_backward_hooks \u001b[38;5;241m=\u001b[39m [], []\n",
      "File \u001b[0;32m~/.conda/envs/torch/lib/python3.10/site-packages/transformers/models/t5/modeling_t5.py:1716\u001b[0m, in \u001b[0;36mT5ForConditionalGeneration.forward\u001b[0;34m(self, input_ids, attention_mask, decoder_input_ids, decoder_attention_mask, head_mask, decoder_head_mask, cross_attn_head_mask, encoder_outputs, past_key_values, inputs_embeds, decoder_inputs_embeds, labels, use_cache, output_attentions, output_hidden_states, return_dict)\u001b[0m\n\u001b[1;32m   1713\u001b[0m         decoder_attention_mask \u001b[38;5;241m=\u001b[39m decoder_attention_mask\u001b[38;5;241m.\u001b[39mto(\u001b[38;5;28mself\u001b[39m\u001b[38;5;241m.\u001b[39mdecoder\u001b[38;5;241m.\u001b[39mfirst_device)\n\u001b[1;32m   1715\u001b[0m \u001b[38;5;66;03m# Decode\u001b[39;00m\n\u001b[0;32m-> 1716\u001b[0m decoder_outputs \u001b[38;5;241m=\u001b[39m \u001b[38;5;28;43mself\u001b[39;49m\u001b[38;5;241;43m.\u001b[39;49m\u001b[43mdecoder\u001b[49m\u001b[43m(\u001b[49m\n\u001b[1;32m   1717\u001b[0m \u001b[43m    \u001b[49m\u001b[43minput_ids\u001b[49m\u001b[38;5;241;43m=\u001b[39;49m\u001b[43mdecoder_input_ids\u001b[49m\u001b[43m,\u001b[49m\n\u001b[1;32m   1718\u001b[0m \u001b[43m    \u001b[49m\u001b[43mattention_mask\u001b[49m\u001b[38;5;241;43m=\u001b[39;49m\u001b[43mdecoder_attention_mask\u001b[49m\u001b[43m,\u001b[49m\n\u001b[1;32m   1719\u001b[0m \u001b[43m    \u001b[49m\u001b[43minputs_embeds\u001b[49m\u001b[38;5;241;43m=\u001b[39;49m\u001b[43mdecoder_inputs_embeds\u001b[49m\u001b[43m,\u001b[49m\n\u001b[1;32m   1720\u001b[0m \u001b[43m    \u001b[49m\u001b[43mpast_key_values\u001b[49m\u001b[38;5;241;43m=\u001b[39;49m\u001b[43mpast_key_values\u001b[49m\u001b[43m,\u001b[49m\n\u001b[1;32m   1721\u001b[0m \u001b[43m    \u001b[49m\u001b[43mencoder_hidden_states\u001b[49m\u001b[38;5;241;43m=\u001b[39;49m\u001b[43mhidden_states\u001b[49m\u001b[43m,\u001b[49m\n\u001b[1;32m   1722\u001b[0m \u001b[43m    \u001b[49m\u001b[43mencoder_attention_mask\u001b[49m\u001b[38;5;241;43m=\u001b[39;49m\u001b[43mattention_mask\u001b[49m\u001b[43m,\u001b[49m\n\u001b[1;32m   1723\u001b[0m \u001b[43m    \u001b[49m\u001b[43mhead_mask\u001b[49m\u001b[38;5;241;43m=\u001b[39;49m\u001b[43mdecoder_head_mask\u001b[49m\u001b[43m,\u001b[49m\n\u001b[1;32m   1724\u001b[0m \u001b[43m    \u001b[49m\u001b[43mcross_attn_head_mask\u001b[49m\u001b[38;5;241;43m=\u001b[39;49m\u001b[43mcross_attn_head_mask\u001b[49m\u001b[43m,\u001b[49m\n\u001b[1;32m   1725\u001b[0m \u001b[43m    \u001b[49m\u001b[43muse_cache\u001b[49m\u001b[38;5;241;43m=\u001b[39;49m\u001b[43muse_cache\u001b[49m\u001b[43m,\u001b[49m\n\u001b[1;32m   1726\u001b[0m \u001b[43m    \u001b[49m\u001b[43moutput_attentions\u001b[49m\u001b[38;5;241;43m=\u001b[39;49m\u001b[43moutput_attentions\u001b[49m\u001b[43m,\u001b[49m\n\u001b[1;32m   1727\u001b[0m \u001b[43m    \u001b[49m\u001b[43moutput_hidden_states\u001b[49m\u001b[38;5;241;43m=\u001b[39;49m\u001b[43moutput_hidden_states\u001b[49m\u001b[43m,\u001b[49m\n\u001b[1;32m   1728\u001b[0m \u001b[43m    \u001b[49m\u001b[43mreturn_dict\u001b[49m\u001b[38;5;241;43m=\u001b[39;49m\u001b[43mreturn_dict\u001b[49m\u001b[43m,\u001b[49m\n\u001b[1;32m   1729\u001b[0m \u001b[43m\u001b[49m\u001b[43m)\u001b[49m\n\u001b[1;32m   1731\u001b[0m sequence_output \u001b[38;5;241m=\u001b[39m decoder_outputs[\u001b[38;5;241m0\u001b[39m]\n\u001b[1;32m   1733\u001b[0m \u001b[38;5;66;03m# Set device for model parallelism\u001b[39;00m\n",
      "File \u001b[0;32m~/.conda/envs/torch/lib/python3.10/site-packages/torch/nn/modules/module.py:1501\u001b[0m, in \u001b[0;36mModule._call_impl\u001b[0;34m(self, *args, **kwargs)\u001b[0m\n\u001b[1;32m   1496\u001b[0m \u001b[38;5;66;03m# If we don't have any hooks, we want to skip the rest of the logic in\u001b[39;00m\n\u001b[1;32m   1497\u001b[0m \u001b[38;5;66;03m# this function, and just call forward.\u001b[39;00m\n\u001b[1;32m   1498\u001b[0m \u001b[38;5;28;01mif\u001b[39;00m \u001b[38;5;129;01mnot\u001b[39;00m (\u001b[38;5;28mself\u001b[39m\u001b[38;5;241m.\u001b[39m_backward_hooks \u001b[38;5;129;01mor\u001b[39;00m \u001b[38;5;28mself\u001b[39m\u001b[38;5;241m.\u001b[39m_backward_pre_hooks \u001b[38;5;129;01mor\u001b[39;00m \u001b[38;5;28mself\u001b[39m\u001b[38;5;241m.\u001b[39m_forward_hooks \u001b[38;5;129;01mor\u001b[39;00m \u001b[38;5;28mself\u001b[39m\u001b[38;5;241m.\u001b[39m_forward_pre_hooks\n\u001b[1;32m   1499\u001b[0m         \u001b[38;5;129;01mor\u001b[39;00m _global_backward_pre_hooks \u001b[38;5;129;01mor\u001b[39;00m _global_backward_hooks\n\u001b[1;32m   1500\u001b[0m         \u001b[38;5;129;01mor\u001b[39;00m _global_forward_hooks \u001b[38;5;129;01mor\u001b[39;00m _global_forward_pre_hooks):\n\u001b[0;32m-> 1501\u001b[0m     \u001b[38;5;28;01mreturn\u001b[39;00m \u001b[43mforward_call\u001b[49m\u001b[43m(\u001b[49m\u001b[38;5;241;43m*\u001b[39;49m\u001b[43margs\u001b[49m\u001b[43m,\u001b[49m\u001b[43m \u001b[49m\u001b[38;5;241;43m*\u001b[39;49m\u001b[38;5;241;43m*\u001b[39;49m\u001b[43mkwargs\u001b[49m\u001b[43m)\u001b[49m\n\u001b[1;32m   1502\u001b[0m \u001b[38;5;66;03m# Do not call functions when jit is used\u001b[39;00m\n\u001b[1;32m   1503\u001b[0m full_backward_hooks, non_full_backward_hooks \u001b[38;5;241m=\u001b[39m [], []\n",
      "File \u001b[0;32m~/.conda/envs/torch/lib/python3.10/site-packages/transformers/models/t5/modeling_t5.py:1086\u001b[0m, in \u001b[0;36mT5Stack.forward\u001b[0;34m(self, input_ids, attention_mask, encoder_hidden_states, encoder_attention_mask, inputs_embeds, head_mask, cross_attn_head_mask, past_key_values, use_cache, output_attentions, output_hidden_states, return_dict)\u001b[0m\n\u001b[1;32m   1073\u001b[0m     layer_outputs \u001b[38;5;241m=\u001b[39m checkpoint(\n\u001b[1;32m   1074\u001b[0m         create_custom_forward(layer_module),\n\u001b[1;32m   1075\u001b[0m         hidden_states,\n\u001b[0;32m   (...)\u001b[0m\n\u001b[1;32m   1083\u001b[0m         \u001b[38;5;28;01mNone\u001b[39;00m,  \u001b[38;5;66;03m# past_key_value is always None with gradient checkpointing\u001b[39;00m\n\u001b[1;32m   1084\u001b[0m     )\n\u001b[1;32m   1085\u001b[0m \u001b[38;5;28;01melse\u001b[39;00m:\n\u001b[0;32m-> 1086\u001b[0m     layer_outputs \u001b[38;5;241m=\u001b[39m \u001b[43mlayer_module\u001b[49m\u001b[43m(\u001b[49m\n\u001b[1;32m   1087\u001b[0m \u001b[43m        \u001b[49m\u001b[43mhidden_states\u001b[49m\u001b[43m,\u001b[49m\n\u001b[1;32m   1088\u001b[0m \u001b[43m        \u001b[49m\u001b[43mattention_mask\u001b[49m\u001b[38;5;241;43m=\u001b[39;49m\u001b[43mextended_attention_mask\u001b[49m\u001b[43m,\u001b[49m\n\u001b[1;32m   1089\u001b[0m \u001b[43m        \u001b[49m\u001b[43mposition_bias\u001b[49m\u001b[38;5;241;43m=\u001b[39;49m\u001b[43mposition_bias\u001b[49m\u001b[43m,\u001b[49m\n\u001b[1;32m   1090\u001b[0m \u001b[43m        \u001b[49m\u001b[43mencoder_hidden_states\u001b[49m\u001b[38;5;241;43m=\u001b[39;49m\u001b[43mencoder_hidden_states\u001b[49m\u001b[43m,\u001b[49m\n\u001b[1;32m   1091\u001b[0m \u001b[43m        \u001b[49m\u001b[43mencoder_attention_mask\u001b[49m\u001b[38;5;241;43m=\u001b[39;49m\u001b[43mencoder_extended_attention_mask\u001b[49m\u001b[43m,\u001b[49m\n\u001b[1;32m   1092\u001b[0m \u001b[43m        \u001b[49m\u001b[43mencoder_decoder_position_bias\u001b[49m\u001b[38;5;241;43m=\u001b[39;49m\u001b[43mencoder_decoder_position_bias\u001b[49m\u001b[43m,\u001b[49m\n\u001b[1;32m   1093\u001b[0m \u001b[43m        \u001b[49m\u001b[43mlayer_head_mask\u001b[49m\u001b[38;5;241;43m=\u001b[39;49m\u001b[43mlayer_head_mask\u001b[49m\u001b[43m,\u001b[49m\n\u001b[1;32m   1094\u001b[0m \u001b[43m        \u001b[49m\u001b[43mcross_attn_layer_head_mask\u001b[49m\u001b[38;5;241;43m=\u001b[39;49m\u001b[43mcross_attn_layer_head_mask\u001b[49m\u001b[43m,\u001b[49m\n\u001b[1;32m   1095\u001b[0m \u001b[43m        \u001b[49m\u001b[43mpast_key_value\u001b[49m\u001b[38;5;241;43m=\u001b[39;49m\u001b[43mpast_key_value\u001b[49m\u001b[43m,\u001b[49m\n\u001b[1;32m   1096\u001b[0m \u001b[43m        \u001b[49m\u001b[43muse_cache\u001b[49m\u001b[38;5;241;43m=\u001b[39;49m\u001b[43muse_cache\u001b[49m\u001b[43m,\u001b[49m\n\u001b[1;32m   1097\u001b[0m \u001b[43m        \u001b[49m\u001b[43moutput_attentions\u001b[49m\u001b[38;5;241;43m=\u001b[39;49m\u001b[43moutput_attentions\u001b[49m\u001b[43m,\u001b[49m\n\u001b[1;32m   1098\u001b[0m \u001b[43m    \u001b[49m\u001b[43m)\u001b[49m\n\u001b[1;32m   1100\u001b[0m \u001b[38;5;66;03m# layer_outputs is a tuple with:\u001b[39;00m\n\u001b[1;32m   1101\u001b[0m \u001b[38;5;66;03m# hidden-states, key-value-states, (self-attention position bias), (self-attention weights), (cross-attention position bias), (cross-attention weights)\u001b[39;00m\n\u001b[1;32m   1102\u001b[0m \u001b[38;5;28;01mif\u001b[39;00m use_cache \u001b[38;5;129;01mis\u001b[39;00m \u001b[38;5;28;01mFalse\u001b[39;00m:\n",
      "File \u001b[0;32m~/.conda/envs/torch/lib/python3.10/site-packages/torch/nn/modules/module.py:1501\u001b[0m, in \u001b[0;36mModule._call_impl\u001b[0;34m(self, *args, **kwargs)\u001b[0m\n\u001b[1;32m   1496\u001b[0m \u001b[38;5;66;03m# If we don't have any hooks, we want to skip the rest of the logic in\u001b[39;00m\n\u001b[1;32m   1497\u001b[0m \u001b[38;5;66;03m# this function, and just call forward.\u001b[39;00m\n\u001b[1;32m   1498\u001b[0m \u001b[38;5;28;01mif\u001b[39;00m \u001b[38;5;129;01mnot\u001b[39;00m (\u001b[38;5;28mself\u001b[39m\u001b[38;5;241m.\u001b[39m_backward_hooks \u001b[38;5;129;01mor\u001b[39;00m \u001b[38;5;28mself\u001b[39m\u001b[38;5;241m.\u001b[39m_backward_pre_hooks \u001b[38;5;129;01mor\u001b[39;00m \u001b[38;5;28mself\u001b[39m\u001b[38;5;241m.\u001b[39m_forward_hooks \u001b[38;5;129;01mor\u001b[39;00m \u001b[38;5;28mself\u001b[39m\u001b[38;5;241m.\u001b[39m_forward_pre_hooks\n\u001b[1;32m   1499\u001b[0m         \u001b[38;5;129;01mor\u001b[39;00m _global_backward_pre_hooks \u001b[38;5;129;01mor\u001b[39;00m _global_backward_hooks\n\u001b[1;32m   1500\u001b[0m         \u001b[38;5;129;01mor\u001b[39;00m _global_forward_hooks \u001b[38;5;129;01mor\u001b[39;00m _global_forward_pre_hooks):\n\u001b[0;32m-> 1501\u001b[0m     \u001b[38;5;28;01mreturn\u001b[39;00m \u001b[43mforward_call\u001b[49m\u001b[43m(\u001b[49m\u001b[38;5;241;43m*\u001b[39;49m\u001b[43margs\u001b[49m\u001b[43m,\u001b[49m\u001b[43m \u001b[49m\u001b[38;5;241;43m*\u001b[39;49m\u001b[38;5;241;43m*\u001b[39;49m\u001b[43mkwargs\u001b[49m\u001b[43m)\u001b[49m\n\u001b[1;32m   1502\u001b[0m \u001b[38;5;66;03m# Do not call functions when jit is used\u001b[39;00m\n\u001b[1;32m   1503\u001b[0m full_backward_hooks, non_full_backward_hooks \u001b[38;5;241m=\u001b[39m [], []\n",
      "File \u001b[0;32m~/.conda/envs/torch/lib/python3.10/site-packages/transformers/models/t5/modeling_t5.py:693\u001b[0m, in \u001b[0;36mT5Block.forward\u001b[0;34m(self, hidden_states, attention_mask, position_bias, encoder_hidden_states, encoder_attention_mask, encoder_decoder_position_bias, layer_head_mask, cross_attn_layer_head_mask, past_key_value, use_cache, output_attentions, return_dict)\u001b[0m\n\u001b[1;32m    690\u001b[0m \u001b[38;5;28;01melse\u001b[39;00m:\n\u001b[1;32m    691\u001b[0m     self_attn_past_key_value, cross_attn_past_key_value \u001b[38;5;241m=\u001b[39m \u001b[38;5;28;01mNone\u001b[39;00m, \u001b[38;5;28;01mNone\u001b[39;00m\n\u001b[0;32m--> 693\u001b[0m self_attention_outputs \u001b[38;5;241m=\u001b[39m \u001b[38;5;28;43mself\u001b[39;49m\u001b[38;5;241;43m.\u001b[39;49m\u001b[43mlayer\u001b[49m\u001b[43m[\u001b[49m\u001b[38;5;241;43m0\u001b[39;49m\u001b[43m]\u001b[49m\u001b[43m(\u001b[49m\n\u001b[1;32m    694\u001b[0m \u001b[43m    \u001b[49m\u001b[43mhidden_states\u001b[49m\u001b[43m,\u001b[49m\n\u001b[1;32m    695\u001b[0m \u001b[43m    \u001b[49m\u001b[43mattention_mask\u001b[49m\u001b[38;5;241;43m=\u001b[39;49m\u001b[43mattention_mask\u001b[49m\u001b[43m,\u001b[49m\n\u001b[1;32m    696\u001b[0m \u001b[43m    \u001b[49m\u001b[43mposition_bias\u001b[49m\u001b[38;5;241;43m=\u001b[39;49m\u001b[43mposition_bias\u001b[49m\u001b[43m,\u001b[49m\n\u001b[1;32m    697\u001b[0m \u001b[43m    \u001b[49m\u001b[43mlayer_head_mask\u001b[49m\u001b[38;5;241;43m=\u001b[39;49m\u001b[43mlayer_head_mask\u001b[49m\u001b[43m,\u001b[49m\n\u001b[1;32m    698\u001b[0m \u001b[43m    \u001b[49m\u001b[43mpast_key_value\u001b[49m\u001b[38;5;241;43m=\u001b[39;49m\u001b[43mself_attn_past_key_value\u001b[49m\u001b[43m,\u001b[49m\n\u001b[1;32m    699\u001b[0m \u001b[43m    \u001b[49m\u001b[43muse_cache\u001b[49m\u001b[38;5;241;43m=\u001b[39;49m\u001b[43muse_cache\u001b[49m\u001b[43m,\u001b[49m\n\u001b[1;32m    700\u001b[0m \u001b[43m    \u001b[49m\u001b[43moutput_attentions\u001b[49m\u001b[38;5;241;43m=\u001b[39;49m\u001b[43moutput_attentions\u001b[49m\u001b[43m,\u001b[49m\n\u001b[1;32m    701\u001b[0m \u001b[43m\u001b[49m\u001b[43m)\u001b[49m\n\u001b[1;32m    702\u001b[0m hidden_states, present_key_value_state \u001b[38;5;241m=\u001b[39m self_attention_outputs[:\u001b[38;5;241m2\u001b[39m]\n\u001b[1;32m    703\u001b[0m attention_outputs \u001b[38;5;241m=\u001b[39m self_attention_outputs[\u001b[38;5;241m2\u001b[39m:]  \u001b[38;5;66;03m# Keep self-attention outputs and relative position weights\u001b[39;00m\n",
      "File \u001b[0;32m~/.conda/envs/torch/lib/python3.10/site-packages/torch/nn/modules/module.py:1501\u001b[0m, in \u001b[0;36mModule._call_impl\u001b[0;34m(self, *args, **kwargs)\u001b[0m\n\u001b[1;32m   1496\u001b[0m \u001b[38;5;66;03m# If we don't have any hooks, we want to skip the rest of the logic in\u001b[39;00m\n\u001b[1;32m   1497\u001b[0m \u001b[38;5;66;03m# this function, and just call forward.\u001b[39;00m\n\u001b[1;32m   1498\u001b[0m \u001b[38;5;28;01mif\u001b[39;00m \u001b[38;5;129;01mnot\u001b[39;00m (\u001b[38;5;28mself\u001b[39m\u001b[38;5;241m.\u001b[39m_backward_hooks \u001b[38;5;129;01mor\u001b[39;00m \u001b[38;5;28mself\u001b[39m\u001b[38;5;241m.\u001b[39m_backward_pre_hooks \u001b[38;5;129;01mor\u001b[39;00m \u001b[38;5;28mself\u001b[39m\u001b[38;5;241m.\u001b[39m_forward_hooks \u001b[38;5;129;01mor\u001b[39;00m \u001b[38;5;28mself\u001b[39m\u001b[38;5;241m.\u001b[39m_forward_pre_hooks\n\u001b[1;32m   1499\u001b[0m         \u001b[38;5;129;01mor\u001b[39;00m _global_backward_pre_hooks \u001b[38;5;129;01mor\u001b[39;00m _global_backward_hooks\n\u001b[1;32m   1500\u001b[0m         \u001b[38;5;129;01mor\u001b[39;00m _global_forward_hooks \u001b[38;5;129;01mor\u001b[39;00m _global_forward_pre_hooks):\n\u001b[0;32m-> 1501\u001b[0m     \u001b[38;5;28;01mreturn\u001b[39;00m \u001b[43mforward_call\u001b[49m\u001b[43m(\u001b[49m\u001b[38;5;241;43m*\u001b[39;49m\u001b[43margs\u001b[49m\u001b[43m,\u001b[49m\u001b[43m \u001b[49m\u001b[38;5;241;43m*\u001b[39;49m\u001b[38;5;241;43m*\u001b[39;49m\u001b[43mkwargs\u001b[49m\u001b[43m)\u001b[49m\n\u001b[1;32m   1502\u001b[0m \u001b[38;5;66;03m# Do not call functions when jit is used\u001b[39;00m\n\u001b[1;32m   1503\u001b[0m full_backward_hooks, non_full_backward_hooks \u001b[38;5;241m=\u001b[39m [], []\n",
      "File \u001b[0;32m~/.conda/envs/torch/lib/python3.10/site-packages/transformers/models/t5/modeling_t5.py:600\u001b[0m, in \u001b[0;36mT5LayerSelfAttention.forward\u001b[0;34m(self, hidden_states, attention_mask, position_bias, layer_head_mask, past_key_value, use_cache, output_attentions)\u001b[0m\n\u001b[1;32m    589\u001b[0m \u001b[38;5;28;01mdef\u001b[39;00m \u001b[38;5;21mforward\u001b[39m(\n\u001b[1;32m    590\u001b[0m     \u001b[38;5;28mself\u001b[39m,\n\u001b[1;32m    591\u001b[0m     hidden_states,\n\u001b[0;32m   (...)\u001b[0m\n\u001b[1;32m    597\u001b[0m     output_attentions\u001b[38;5;241m=\u001b[39m\u001b[38;5;28;01mFalse\u001b[39;00m,\n\u001b[1;32m    598\u001b[0m ):\n\u001b[1;32m    599\u001b[0m     normed_hidden_states \u001b[38;5;241m=\u001b[39m \u001b[38;5;28mself\u001b[39m\u001b[38;5;241m.\u001b[39mlayer_norm(hidden_states)\n\u001b[0;32m--> 600\u001b[0m     attention_output \u001b[38;5;241m=\u001b[39m \u001b[38;5;28;43mself\u001b[39;49m\u001b[38;5;241;43m.\u001b[39;49m\u001b[43mSelfAttention\u001b[49m\u001b[43m(\u001b[49m\n\u001b[1;32m    601\u001b[0m \u001b[43m        \u001b[49m\u001b[43mnormed_hidden_states\u001b[49m\u001b[43m,\u001b[49m\n\u001b[1;32m    602\u001b[0m \u001b[43m        \u001b[49m\u001b[43mmask\u001b[49m\u001b[38;5;241;43m=\u001b[39;49m\u001b[43mattention_mask\u001b[49m\u001b[43m,\u001b[49m\n\u001b[1;32m    603\u001b[0m \u001b[43m        \u001b[49m\u001b[43mposition_bias\u001b[49m\u001b[38;5;241;43m=\u001b[39;49m\u001b[43mposition_bias\u001b[49m\u001b[43m,\u001b[49m\n\u001b[1;32m    604\u001b[0m \u001b[43m        \u001b[49m\u001b[43mlayer_head_mask\u001b[49m\u001b[38;5;241;43m=\u001b[39;49m\u001b[43mlayer_head_mask\u001b[49m\u001b[43m,\u001b[49m\n\u001b[1;32m    605\u001b[0m \u001b[43m        \u001b[49m\u001b[43mpast_key_value\u001b[49m\u001b[38;5;241;43m=\u001b[39;49m\u001b[43mpast_key_value\u001b[49m\u001b[43m,\u001b[49m\n\u001b[1;32m    606\u001b[0m \u001b[43m        \u001b[49m\u001b[43muse_cache\u001b[49m\u001b[38;5;241;43m=\u001b[39;49m\u001b[43muse_cache\u001b[49m\u001b[43m,\u001b[49m\n\u001b[1;32m    607\u001b[0m \u001b[43m        \u001b[49m\u001b[43moutput_attentions\u001b[49m\u001b[38;5;241;43m=\u001b[39;49m\u001b[43moutput_attentions\u001b[49m\u001b[43m,\u001b[49m\n\u001b[1;32m    608\u001b[0m \u001b[43m    \u001b[49m\u001b[43m)\u001b[49m\n\u001b[1;32m    609\u001b[0m     hidden_states \u001b[38;5;241m=\u001b[39m hidden_states \u001b[38;5;241m+\u001b[39m \u001b[38;5;28mself\u001b[39m\u001b[38;5;241m.\u001b[39mdropout(attention_output[\u001b[38;5;241m0\u001b[39m])\n\u001b[1;32m    610\u001b[0m     outputs \u001b[38;5;241m=\u001b[39m (hidden_states,) \u001b[38;5;241m+\u001b[39m attention_output[\u001b[38;5;241m1\u001b[39m:]  \u001b[38;5;66;03m# add attentions if we output them\u001b[39;00m\n",
      "File \u001b[0;32m~/.conda/envs/torch/lib/python3.10/site-packages/torch/nn/modules/module.py:1501\u001b[0m, in \u001b[0;36mModule._call_impl\u001b[0;34m(self, *args, **kwargs)\u001b[0m\n\u001b[1;32m   1496\u001b[0m \u001b[38;5;66;03m# If we don't have any hooks, we want to skip the rest of the logic in\u001b[39;00m\n\u001b[1;32m   1497\u001b[0m \u001b[38;5;66;03m# this function, and just call forward.\u001b[39;00m\n\u001b[1;32m   1498\u001b[0m \u001b[38;5;28;01mif\u001b[39;00m \u001b[38;5;129;01mnot\u001b[39;00m (\u001b[38;5;28mself\u001b[39m\u001b[38;5;241m.\u001b[39m_backward_hooks \u001b[38;5;129;01mor\u001b[39;00m \u001b[38;5;28mself\u001b[39m\u001b[38;5;241m.\u001b[39m_backward_pre_hooks \u001b[38;5;129;01mor\u001b[39;00m \u001b[38;5;28mself\u001b[39m\u001b[38;5;241m.\u001b[39m_forward_hooks \u001b[38;5;129;01mor\u001b[39;00m \u001b[38;5;28mself\u001b[39m\u001b[38;5;241m.\u001b[39m_forward_pre_hooks\n\u001b[1;32m   1499\u001b[0m         \u001b[38;5;129;01mor\u001b[39;00m _global_backward_pre_hooks \u001b[38;5;129;01mor\u001b[39;00m _global_backward_hooks\n\u001b[1;32m   1500\u001b[0m         \u001b[38;5;129;01mor\u001b[39;00m _global_forward_hooks \u001b[38;5;129;01mor\u001b[39;00m _global_forward_pre_hooks):\n\u001b[0;32m-> 1501\u001b[0m     \u001b[38;5;28;01mreturn\u001b[39;00m \u001b[43mforward_call\u001b[49m\u001b[43m(\u001b[49m\u001b[38;5;241;43m*\u001b[39;49m\u001b[43margs\u001b[49m\u001b[43m,\u001b[49m\u001b[43m \u001b[49m\u001b[38;5;241;43m*\u001b[39;49m\u001b[38;5;241;43m*\u001b[39;49m\u001b[43mkwargs\u001b[49m\u001b[43m)\u001b[49m\n\u001b[1;32m   1502\u001b[0m \u001b[38;5;66;03m# Do not call functions when jit is used\u001b[39;00m\n\u001b[1;32m   1503\u001b[0m full_backward_hooks, non_full_backward_hooks \u001b[38;5;241m=\u001b[39m [], []\n",
      "File \u001b[0;32m~/.conda/envs/torch/lib/python3.10/site-packages/transformers/models/t5/modeling_t5.py:525\u001b[0m, in \u001b[0;36mT5Attention.forward\u001b[0;34m(self, hidden_states, mask, key_value_states, position_bias, past_key_value, layer_head_mask, query_length, use_cache, output_attentions)\u001b[0m\n\u001b[1;32m    521\u001b[0m \u001b[38;5;66;03m# get key/value states\u001b[39;00m\n\u001b[1;32m    522\u001b[0m key_states \u001b[38;5;241m=\u001b[39m project(\n\u001b[1;32m    523\u001b[0m     hidden_states, \u001b[38;5;28mself\u001b[39m\u001b[38;5;241m.\u001b[39mk, key_value_states, past_key_value[\u001b[38;5;241m0\u001b[39m] \u001b[38;5;28;01mif\u001b[39;00m past_key_value \u001b[38;5;129;01mis\u001b[39;00m \u001b[38;5;129;01mnot\u001b[39;00m \u001b[38;5;28;01mNone\u001b[39;00m \u001b[38;5;28;01melse\u001b[39;00m \u001b[38;5;28;01mNone\u001b[39;00m\n\u001b[1;32m    524\u001b[0m )\n\u001b[0;32m--> 525\u001b[0m value_states \u001b[38;5;241m=\u001b[39m \u001b[43mproject\u001b[49m\u001b[43m(\u001b[49m\n\u001b[1;32m    526\u001b[0m \u001b[43m    \u001b[49m\u001b[43mhidden_states\u001b[49m\u001b[43m,\u001b[49m\u001b[43m \u001b[49m\u001b[38;5;28;43mself\u001b[39;49m\u001b[38;5;241;43m.\u001b[39;49m\u001b[43mv\u001b[49m\u001b[43m,\u001b[49m\u001b[43m \u001b[49m\u001b[43mkey_value_states\u001b[49m\u001b[43m,\u001b[49m\u001b[43m \u001b[49m\u001b[43mpast_key_value\u001b[49m\u001b[43m[\u001b[49m\u001b[38;5;241;43m1\u001b[39;49m\u001b[43m]\u001b[49m\u001b[43m \u001b[49m\u001b[38;5;28;43;01mif\u001b[39;49;00m\u001b[43m \u001b[49m\u001b[43mpast_key_value\u001b[49m\u001b[43m \u001b[49m\u001b[38;5;129;43;01mis\u001b[39;49;00m\u001b[43m \u001b[49m\u001b[38;5;129;43;01mnot\u001b[39;49;00m\u001b[43m \u001b[49m\u001b[38;5;28;43;01mNone\u001b[39;49;00m\u001b[43m \u001b[49m\u001b[38;5;28;43;01melse\u001b[39;49;00m\u001b[43m \u001b[49m\u001b[38;5;28;43;01mNone\u001b[39;49;00m\n\u001b[1;32m    527\u001b[0m \u001b[43m\u001b[49m\u001b[43m)\u001b[49m\n\u001b[1;32m    529\u001b[0m \u001b[38;5;66;03m# compute scores\u001b[39;00m\n\u001b[1;32m    530\u001b[0m scores \u001b[38;5;241m=\u001b[39m torch\u001b[38;5;241m.\u001b[39mmatmul(\n\u001b[1;32m    531\u001b[0m     query_states, key_states\u001b[38;5;241m.\u001b[39mtranspose(\u001b[38;5;241m3\u001b[39m, \u001b[38;5;241m2\u001b[39m)\n\u001b[1;32m    532\u001b[0m )  \u001b[38;5;66;03m# equivalent of torch.einsum(\"bnqd,bnkd->bnqk\", query_states, key_states), compatible with onnx op>9\u001b[39;00m\n",
      "File \u001b[0;32m~/.conda/envs/torch/lib/python3.10/site-packages/transformers/models/t5/modeling_t5.py:506\u001b[0m, in \u001b[0;36mT5Attention.forward.<locals>.project\u001b[0;34m(hidden_states, proj_layer, key_value_states, past_key_value)\u001b[0m\n\u001b[1;32m    502\u001b[0m \u001b[38;5;28;01mif\u001b[39;00m past_key_value \u001b[38;5;129;01mis\u001b[39;00m \u001b[38;5;129;01mnot\u001b[39;00m \u001b[38;5;28;01mNone\u001b[39;00m:\n\u001b[1;32m    503\u001b[0m     \u001b[38;5;28;01mif\u001b[39;00m key_value_states \u001b[38;5;129;01mis\u001b[39;00m \u001b[38;5;28;01mNone\u001b[39;00m:\n\u001b[1;32m    504\u001b[0m         \u001b[38;5;66;03m# self-attn\u001b[39;00m\n\u001b[1;32m    505\u001b[0m         \u001b[38;5;66;03m# (batch_size, n_heads, key_length, dim_per_head)\u001b[39;00m\n\u001b[0;32m--> 506\u001b[0m         hidden_states \u001b[38;5;241m=\u001b[39m \u001b[43mtorch\u001b[49m\u001b[38;5;241;43m.\u001b[39;49m\u001b[43mcat\u001b[49m\u001b[43m(\u001b[49m\u001b[43m[\u001b[49m\u001b[43mpast_key_value\u001b[49m\u001b[43m,\u001b[49m\u001b[43m \u001b[49m\u001b[43mhidden_states\u001b[49m\u001b[43m]\u001b[49m\u001b[43m,\u001b[49m\u001b[43m \u001b[49m\u001b[43mdim\u001b[49m\u001b[38;5;241;43m=\u001b[39;49m\u001b[38;5;241;43m2\u001b[39;49m\u001b[43m)\u001b[49m\n\u001b[1;32m    507\u001b[0m     \u001b[38;5;28;01melif\u001b[39;00m past_key_value\u001b[38;5;241m.\u001b[39mshape[\u001b[38;5;241m2\u001b[39m] \u001b[38;5;241m!=\u001b[39m key_value_states\u001b[38;5;241m.\u001b[39mshape[\u001b[38;5;241m1\u001b[39m]:\n\u001b[1;32m    508\u001b[0m         \u001b[38;5;66;03m# checking that the `sequence_length` of the `past_key_value` is the same as\u001b[39;00m\n\u001b[1;32m    509\u001b[0m         \u001b[38;5;66;03m# the provided `key_value_states` to support prefix tuning\u001b[39;00m\n\u001b[1;32m    510\u001b[0m         \u001b[38;5;66;03m# cross-attn\u001b[39;00m\n\u001b[1;32m    511\u001b[0m         \u001b[38;5;66;03m# (batch_size, n_heads, seq_length, dim_per_head)\u001b[39;00m\n\u001b[1;32m    512\u001b[0m         hidden_states \u001b[38;5;241m=\u001b[39m shape(proj_layer(key_value_states))\n",
      "\u001b[0;31mOutOfMemoryError\u001b[0m: CUDA out of memory. Tried to allocate 34.00 MiB (GPU 0; 47.54 GiB total capacity; 39.50 GiB already allocated; 28.88 MiB free; 46.45 GiB reserved in total by PyTorch) If reserved memory is >> allocated memory try setting max_split_size_mb to avoid fragmentation.  See documentation for Memory Management and PYTORCH_CUDA_ALLOC_CONF"
     ]
    }
   ],
   "source": [
    "corr_trainer.args.per_device_eval_batch_size = 1\n",
    "corr_trainer.return_best_hypothesis = False\n",
    "corr_trainer.num_gen_recursive_steps = 20\n",
    "corr_trainer.sequence_beam_width = 16\n",
    "corr_trainer.gen_kwargs = {\n",
    "    \"early_stopping\": False,\n",
    "    \"num_beams\": 1,\n",
    "    \"num_return_sequences\": 1,\n",
    "    \"do_sample\": False,\n",
    "    \"no_repeat_ngram_size\": 0,\n",
    "}\n",
    "corr_trainer.evaluate(\n",
    "    eval_dataset=inv_trainer.eval_dataset[\"msmarco\"].select(range(3))\n",
    ")"
   ]
  },
  {
   "cell_type": "code",
   "execution_count": 9,
   "id": "e836905a-0ea6-4fe6-894d-2381a1d66c6c",
   "metadata": {},
   "outputs": [
    {
     "name": "stdout",
     "output_type": "stream",
     "text": [
      "running manifest on text_list of length 3, first element '*The parking lot will require the use of a separate parking space for the proposed use of the. building. [District Floor Plan: Use of existing floor plan space, dimensions, and/or permit requirements for each. subfloor/space will be provided in the Submitting Documents.'\n"
     ]
    },
    {
     "name": "stderr",
     "output_type": "stream",
     "text": [
      "generating from val:   0%|                                                                                     | 0/1 [00:00<?, ?it/s]"
     ]
    },
    {
     "name": "stdout",
     "output_type": "stream",
     "text": [
      "running manifest on text_list of length 3, first element '*The parking lot will require the use of a separate parking space for the proposed use of the. building. [District Floor Plan: Use of existing floor plan space, dimensions, and/or permit requirements for each. subfloor/space will be provided in the Submitting Documents.'\n",
      "running manifest on text_list of length 48, first element '*The parking permit will require the use of a separate parking space for the proposed use of the. building. [District Floor Plan: Show all existing floor plan dimensions, dimensions, and/or permit requirements for each. subfloor/space].'\n",
      "running manifest on text_list of length 48, first element '*The parking permit will require the use of a separate parking space for the proposed use of the. building. [District Floor Plan: Show all existing floor plan entries, dimensions, and/or permit requirements for each. subfloor/driveway].'\n",
      "running manifest on text_list of length 48, first element '*The parking permit will require the use of a separate parking space for the proposed use of the. building. [Purpose Floor Plan: Show all existing floor plan entries, dimensions, and submittal permit requirements for each. subfloor/driveway].'\n",
      "running manifest on text_list of length 48, first element '*The parking permit will require the use of a separate parking space for the proposed use of the. building. [Purpose Floor Plan: Show all existing floor plan entries, dimensions, and submit submittal permit requirements for each. subfloor/driveway].'\n",
      "running manifest on text_list of length 48, first element '*The parking permit will require the use of a separate parking space for the proposed use of the. building. [Purpose Floor Plan: Show all existing floor plan entries, dimensions, and submit submittal permit requirements for each. subfloor/driveway].'\n",
      "running manifest on text_list of length 48, first element '*The parking permit will require the use of a separate parking space for the proposed use of the. building. [Purpose Floor Plan: Show all existing floor plan entries, dimensions, and submit submittal permit requirements for each. subfloor/driveway].'\n",
      "running manifest on text_list of length 48, first element '*The parking permit will require the use of a separate parking space for the proposed use of the. building. [Purpose Floor Plan: Show all existing floor plan entries, dimensions, and submit submittal permit requirements for each. subfloor/driveway].'\n",
      "running manifest on text_list of length 48, first element '*The parking permit will require the use of a separate parking space for the proposed use of the. building. [Purpose Floor Plan: Show all existing floor plan entries, dimensions, and submit submittal permit requirements for each. subfloor/driveway].'\n",
      "running manifest on text_list of length 48, first element '*The parking permit will require the use of a separate parking space for the proposed use of the. building. [Purpose Floor Plan: Show all existing floor plan entries, original dimensions, and submit submittal permit requirements for each. subfloor/driveway].'\n",
      "running manifest on text_list of length 48, first element '*The parking permit will require the use of a separate parking space for the proposed use of the. building. [Purpose Floor Plan: Show all existing floor plan entries, original dimensions, and submit submittal permit requirements for each. subfloor/driveway].'\n",
      "running manifest on text_list of length 48, first element '*The parking permit will require the use of a separate parking space for the proposed use of the. building. [Purpose Floor Plan: Show all existing floor plan entries, original dimensions, and submit submittal permit requirements for each. subfloor/driveway].'\n",
      "running manifest on text_list of length 48, first element '*The parking permit will require the use of a separate parking space for the proposed use of the. building. [Purpose Floor Plan: Show all existing floor plan entries, original dimensions, and submit submittal permit requirements for each. subfloor/driveway].'\n",
      "running manifest on text_list of length 48, first element '*The parking permit will require the use of a separate parking space for the proposed use of the. building. [Purpose Floor Plan: Show all existing floor plan entries, original dimensions, and submit submittal permit requirements for each. subfloor/driveway].'\n",
      "running manifest on text_list of length 48, first element '*The parking permit will require the use of a separate parking space for the proposed use of the. building. [Purpose Floor Plan: Show all existing floor plan entries, original dimensions, and submit submittal permit requirements for each. subfloor/driveway].'\n",
      "running manifest on text_list of length 48, first element '*The parking permit will require the use of a separate parking space for the proposed use of the. building. [Purpose Floor Plan: Show all existing floor plan entries, original dimensions, and submit submittal permit requirements for each. subfloor/driveway].'\n"
     ]
    },
    {
     "name": "stderr",
     "output_type": "stream",
     "text": [
      "                                                                                                                                     \r"
     ]
    },
    {
     "name": "stdout",
     "output_type": "stream",
     "text": [
      "[pred] *The parking permit will require the use of a separate parking space for the proposed use of the. building. [Purpose Floor Plan: Show all existing floor plan entries, original dimensions, and submit submittal permit requirements for each. subfloor/driveway].\n",
      "[true] *The use of the driveway as the required parking spaces will require a separate submittal for a Use Permit. [ ] Floor plan (dimensioned): Show overall building size, existing and proposed room locations, existing and. proposed new window(s)/door(s) size/location(s).\n",
      "\n",
      "\n",
      "\n",
      "[pred] Our illuminated SEIDEWAY map is intimately encapsulated in a map of each of our cities, enabling you to discover hidden gems of the city.our enlightened Seville map also includes a map of the streets of the city centre, the central business district, the outskirts of Madrid, Costa Rica and Spainâs most sought-after places of interest. Cartagena Street and Woodstreets are fully accessible and easy to navigate with a minimum of a minuteâs travel time.\n",
      "[true] Our STREETWISE Seville Map enables you to explore each hidden corner of this enticing destination with a clearly defined map of the city, fully indexed and highlighted with hotels, parks and gardens, and places of interest. An inset of the center of Seville makes even the tiniest of alleyways navigable.rea maps of Cordoba, Grenada and Seville facilitate your entry into these three principal cities via auto, giving you the greatest freedom to experience all that is Southern Spain.\n",
      "\n",
      "\n",
      "\n",
      "[pred] aaa coupons 32 save aaa is an american not for profit organization with an average of 32 coupons for members save about $ aaa codes show savings on a variety of products and services from automobile leasing to travel to car insurance aaa com benefits members with more than $ 10000 savings with adva com\n",
      "[true] aaa coupon codes about aaa save an average of $ 32 with 26 coupon codes deals for aaa com aaa is a not for profit organization that lists the automobile clubs in the united states and offers travel benefits and automobile insurance to its members members review the aaa positively for its convenient travel benefits pricing of services and insurance claim policies shop aaa com show more show less\n",
      "running manifest on text_list of length 3, first element '*The parking permit will require the use of a separate parking space for the proposed use of the. building. [Purpose Floor Plan: Show all existing floor plan entries, original dimensions, and submit submittal permit requirements for each. subfloor/driveway].'\n",
      "running manifest on text_list of length 3, first element '*The use of the driveway as the required parking spaces will require a separate submittal for a Use Permit. [ ] Floor plan (dimensioned): Show overall building size, existing and proposed room locations, existing and. proposed new window(s)/door(s) size/location(s).'\n"
     ]
    },
    {
     "data": {
      "text/plain": [
       "{'eval_loss': 2.90336537361145,\n",
       " 'eval_pred_num_tokens': 82.0,\n",
       " 'eval_true_num_tokens': 90.66667175292969,\n",
       " 'eval_token_set_precision': 0.4743700201383417,\n",
       " 'eval_token_set_recall': 0.535252935862692,\n",
       " 'eval_token_set_f1': 0.5029516006296192,\n",
       " 'eval_bleu_score': 6.481565062859429,\n",
       " 'eval_meteor_score': 0.35444483259821924,\n",
       " 'eval_rouge_score': 0.49876924469988876,\n",
       " 'eval_exact_match': 0.0,\n",
       " 'eval_emb_cos_sim': 0.9606207609176636,\n",
       " 'eval_runtime': 49.9414,\n",
       " 'eval_samples_per_second': 0.06,\n",
       " 'eval_steps_per_second': 0.02}"
      ]
     },
     "execution_count": 9,
     "metadata": {},
     "output_type": "execute_result"
    }
   ],
   "source": [
    "corr_trainer.args.per_device_eval_batch_size = 128\n",
    "corr_trainer.return_best_hypothesis = False\n",
    "corr_trainer.num_gen_recursive_steps = 15\n",
    "corr_trainer.sequence_beam_width = 1\n",
    "corr_trainer.gen_kwargs = {\n",
    "    \"early_stopping\": False,\n",
    "    \"num_beams\": 16,\n",
    "    \"num_return_sequences\": 16,\n",
    "    \"do_sample\": False,\n",
    "    \"no_repeat_ngram_size\": 0,\n",
    "}\n",
    "corr_trainer.evaluate(\n",
    "    eval_dataset=inv_trainer.eval_dataset[\"msmarco\"].select(range(3))\n",
    ")"
   ]
  },
  {
   "cell_type": "code",
   "execution_count": null,
   "id": "38dc9273-76ec-462f-b86d-e4899546b2b1",
   "metadata": {},
   "outputs": [],
   "source": []
  }
 ],
 "metadata": {
  "kernelspec": {
   "display_name": "Python 3 (ipykernel)",
   "language": "python",
   "name": "python3"
  },
  "language_info": {
   "codemirror_mode": {
    "name": "ipython",
    "version": 3
   },
   "file_extension": ".py",
   "mimetype": "text/x-python",
   "name": "python",
   "nbconvert_exporter": "python",
   "pygments_lexer": "ipython3",
   "version": "3.10.10"
  }
 },
 "nbformat": 4,
 "nbformat_minor": 5
}
