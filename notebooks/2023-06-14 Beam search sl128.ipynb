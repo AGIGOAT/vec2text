{
 "cells": [
  {
   "cell_type": "code",
   "execution_count": 1,
   "id": "24295723-0e99-42e6-8287-84c8e0a485c2",
   "metadata": {},
   "outputs": [],
   "source": [
    "%load_ext autoreload\n",
    "%autoreload 2\n",
    "\n",
    "import os\n",
    "os.environ[\"WANDB_DISABLED\"] = \"true\"\n",
    "\n",
    "import sys\n",
    "sys.path = [\n",
    "    p for p in sys.path\n",
    "    if p not in ['/home/jxm3/research/prompting/imodelsX', '/home/jxm3/research/prompting/tree-prompt']\n",
    "]\n",
    "sys.path.append('/home/jxm3/research/retrieval/inversion')"
   ]
  },
  {
   "cell_type": "code",
   "execution_count": 3,
   "id": "eb3318c7-a906-4aca-8aee-a7999f57c073",
   "metadata": {},
   "outputs": [
    {
     "name": "stdout",
     "output_type": "stream",
     "text": [
      "loading alias openai_msmarco__msl128__100epoch__correct_cheat from /home/jxm3/research/retrieval/inversion/saves/45e3f871f91d0fbf54bacb5593434409...\n",
      "> checkpoint: /home/jxm3/research/retrieval/inversion/saves/45e3f871f91d0fbf54bacb5593434409/checkpoint-340000\n",
      "loading alias openai_msmarco__msl128__100epoch from /home/jxm3/research/retrieval/inversion/saves/f9abd65db4c4823264b133816d08612f...\n",
      "> checkpoint: /home/jxm3/research/retrieval/inversion/saves/f9abd65db4c4823264b133816d08612f/checkpoint-194000\n"
     ]
    },
    {
     "name": "stderr",
     "output_type": "stream",
     "text": [
      "/home/jxm3/.conda/envs/torch/lib/python3.10/site-packages/transformers/models/t5/tokenization_t5_fast.py:155: FutureWarning: This tokenizer was incorrectly instantiated with a model max length of 512 which will be corrected in Transformers v5.\n",
      "For now, this behavior is kept to avoid breaking backwards compatibility when padding/encoding with `truncation is True`.\n",
      "- Be aware that you SHOULD NOT rely on t5-base automatically truncating your input to 512 when padding/encoding.\n",
      "- If you want to encode/pad to sequences longer than 512 you can either instantiate this tokenizer with `model_max_length` or pass `max_length` when encoding/padding.\n",
      "- To avoid this warning, please instantiate this tokenizer with `model_max_length` set to your preferred value.\n",
      "  warnings.warn(\n"
     ]
    },
    {
     "name": "stdout",
     "output_type": "stream",
     "text": [
      "Loading datasets with TOKENIZERS_PARALLELISM = True\n"
     ]
    },
    {
     "name": "stderr",
     "output_type": "stream",
     "text": [
      "[nltk_data] Downloading package wordnet to /home/jxm3/nltk_data...\n",
      "[nltk_data]   Package wordnet is already up-to-date!\n",
      "[nltk_data] Downloading package punkt to /home/jxm3/nltk_data...\n",
      "[nltk_data]   Package punkt is already up-to-date!\n",
      "[nltk_data] Downloading package omw-1.4 to /home/jxm3/nltk_data...\n",
      "[nltk_data]   Package omw-1.4 is already up-to-date!\n",
      "/home/jxm3/.conda/envs/torch/lib/python3.10/site-packages/torch/utils/data/dataloader.py:560: UserWarning: This DataLoader will create 4 worker processes in total. Our suggested max number of worker in current system is 1, which is smaller than what this DataLoader is going to create. Please be aware that excessive worker creation might get DataLoader running slow or even freeze, lower the worker number to avoid potential slowness/freeze if necessary.\n",
      "  warnings.warn(_create_warning_msg(\n"
     ]
    },
    {
     "name": "stdout",
     "output_type": "stream",
     "text": [
      "================ Begin trainer sanity check ================\n",
      "\tInput to encode -> Twas brillig, and the slithy toves, Did gyre and gimble in the wabe, All mimsy were the borogoves, And the mome raths outgrabe.\n",
      "running manifest on text_list of length 1, first element 'Twas brillig, and the slithy toves, Did gyre and gimble in the wabe, All mimsy were the borogoves, And the mome raths outgrabe.'\n",
      "\tDecoded output shape ->  torch.Size([1, 69])\n",
      "\tDecoded output -> And the trolls, twilight, was smooty, And swiggy, smeared, And wispy, wisping, wily, wiz, wizz, wizzy, wizzie, wizy, wit.\n",
      "================ End trainer sanity check ================\n",
      "Froze 353779584 params from model type <class 'models.inversion.InversionModel'>\n"
     ]
    },
    {
     "name": "stderr",
     "output_type": "stream",
     "text": [
      "[nltk_data] Downloading package wordnet to /home/jxm3/nltk_data...\n",
      "[nltk_data]   Package wordnet is already up-to-date!\n",
      "[nltk_data] Downloading package punkt to /home/jxm3/nltk_data...\n",
      "[nltk_data]   Package punkt is already up-to-date!\n",
      "[nltk_data] Downloading package omw-1.4 to /home/jxm3/nltk_data...\n",
      "[nltk_data]   Package omw-1.4 is already up-to-date!\n"
     ]
    },
    {
     "name": "stdout",
     "output_type": "stream",
     "text": [
      "================ Begin trainer sanity check ================\n",
      "\tInput to encode -> Twas brillig, and the slithy toves, Did gyre and gimble in the wabe, All mimsy were the borogoves, And the mome raths outgrabe.\n",
      "running manifest on text_list of length 1, first element 'Twas brillig, and the slithy toves, Did gyre and gimble in the wabe, All mimsy were the borogoves, And the mome raths outgrabe.'\n",
      "running manifest on text_list of length 1, first element 'And the trolls, trolls, trolls, trolls, trolls, trolls, trolls, trolls, trolls, trolls, trolls,'\n",
      "running manifest on text_list of length 1, first element 'And the mogs, and the smegs. Rigs wispy, Rigby was twitchy, Wispily wisping, Riggly wispies, Rigged was a twitching.'\n",
      "\tDecoded output shape ->  torch.Size([1, 59])\n",
      "\tDecoded output -> And the mogs, and the smegs. Rigs wispy, Rigby was twitchy, Wispily wisping, Riggly wispies, Rigged was a twitching.\n",
      "================ End trainer sanity check ================\n",
      "\n"
     ]
    }
   ],
   "source": [
    "import aliases\n",
    "\n",
    "# inv_trainer = aliases.load_trainer_from_alias(\"openai_msmarco__msl128__100epoch\")\n",
    "corr_experiment, corr_trainer = aliases.load_experiment_and_trainer_from_alias(\"openai_msmarco__msl128__100epoch__correct_cheat\")\n",
    "inv_trainer = corr_trainer.inversion_trainer\n",
    "# corr_trainer.precompute_hypotheses()\n",
    "corr_trainer.model.eval()\n",
    "print()"
   ]
  },
  {
   "cell_type": "code",
   "execution_count": 3,
   "id": "b77fbba8-ed41-448a-b321-de3a0d83dccf",
   "metadata": {},
   "outputs": [
    {
     "name": "stderr",
     "output_type": "stream",
     "text": [
      "/home/jxm3/.conda/envs/torch/lib/python3.10/site-packages/torch/utils/data/dataloader.py:560: UserWarning: This DataLoader will create 6 worker processes in total. Our suggested max number of worker in current system is 1, which is smaller than what this DataLoader is going to create. Please be aware that excessive worker creation might get DataLoader running slow or even freeze, lower the worker number to avoid potential slowness/freeze if necessary.\n",
      "  warnings.warn(_create_warning_msg(\n"
     ]
    },
    {
     "name": "stdout",
     "output_type": "stream",
     "text": [
      "running manifest on text_list of length 3, first element '*The parking lot will require the use of a separate parking space for the proposed use of the. building. [District Floor Plan: Use of existing floor plan space, dimensions, and/or permit requirements for each. subfloor/space will be provided in the Submitting Documents.'\n"
     ]
    },
    {
     "data": {
      "text/html": [
       "\n",
       "    <div>\n",
       "      \n",
       "      <progress value='7' max='1' style='width:300px; height:20px; vertical-align: middle;'></progress>\n",
       "      [1/1 03:16]\n",
       "    </div>\n",
       "    "
      ],
      "text/plain": [
       "<IPython.core.display.HTML object>"
      ]
     },
     "metadata": {},
     "output_type": "display_data"
    },
    {
     "name": "stderr",
     "output_type": "stream",
     "text": [
      "generating from val:   0%|                                                                                     | 0/1 [00:00<?, ?it/s]"
     ]
    },
    {
     "name": "stdout",
     "output_type": "stream",
     "text": [
      "running manifest on text_list of length 3, first element '*The parking lot will require the use of a separate parking space for the proposed use of the. building. [District Floor Plan: Use of existing floor plan space, dimensions, and/or permit requirements for each. subfloor/space will be provided in the Submitting Documents.'\n",
      "running manifest on text_list of length 3, first element '*The parking lot will require the use of a separate parking space for the proposed use of the. building. [District Floor Plan: Show/Submit Floor Plan, dimensions, and/or permit requirements for each. permitted use/space]'\n"
     ]
    },
    {
     "name": "stderr",
     "output_type": "stream",
     "text": [
      "                                                                                                                                     \r"
     ]
    },
    {
     "name": "stdout",
     "output_type": "stream",
     "text": [
      "[pred] *The parking lot will require the use of a separate parking space for the proposed use of the. building. [District Floor Plan: Show/Submit Floor Plan, dimensions, and/or permit requirements for each. permitted use/space]\n",
      "[true] *The use of the driveway as the required parking spaces will require a separate submittal for a Use Permit. [ ] Floor plan (dimensioned): Show overall building size, existing and proposed room locations, existing and. proposed new window(s)/door(s) size/location(s).\n",
      "\n",
      "\n",
      "\n",
      "[pred] Our illuminated Seville map is encapsulated in a map of each of our cities, enabling you to discover hidden gems in every corner of the city.our SEGA SERVILLE, a fully accessible street map of the city centre, the central business district, the outskirts of the city center and the quaint streets of Corrientes, Madrid and Madrid are also highlighted in boldly colored spaces to aid in your exploration.\n",
      "[true] Our STREETWISE Seville Map enables you to explore each hidden corner of this enticing destination with a clearly defined map of the city, fully indexed and highlighted with hotels, parks and gardens, and places of interest. An inset of the center of Seville makes even the tiniest of alleyways navigable.rea maps of Cordoba, Grenada and Seville facilitate your entry into these three principal cities via auto, giving you the greatest freedom to experience all that is Southern Spain.\n",
      "\n",
      "\n",
      "\n",
      "[pred] aaa coupons 32 save aaa is an american not for profit organization with an average of 32 coupons for members save $ aaa codes show savings on a variety of products and services from car insurance to travel to automobile com aaa com earns more money with its members by providing convenient and affordable travel discounts\n",
      "[true] aaa coupon codes about aaa save an average of $ 32 with 26 coupon codes deals for aaa com aaa is a not for profit organization that lists the automobile clubs in the united states and offers travel benefits and automobile insurance to its members members review the aaa positively for its convenient travel benefits pricing of services and insurance claim policies shop aaa com show more show less\n",
      "running manifest on text_list of length 3, first element '*The parking lot will require the use of a separate parking space for the proposed use of the. building. [District Floor Plan: Show/Submit Floor Plan, dimensions, and/or permit requirements for each. permitted use/space]'\n",
      "running manifest on text_list of length 3, first element '*The use of the driveway as the required parking spaces will require a separate submittal for a Use Permit. [ ] Floor plan (dimensioned): Show overall building size, existing and proposed room locations, existing and. proposed new window(s)/door(s) size/location(s).'\n"
     ]
    },
    {
     "data": {
      "text/plain": [
       "{'eval_loss': 2.9332072734832764,\n",
       " 'eval_pred_num_tokens': 74.33333587646484,\n",
       " 'eval_true_num_tokens': 90.66667175292969,\n",
       " 'eval_token_set_precision': 0.45437002013834166,\n",
       " 'eval_token_set_recall': 0.5570871623503203,\n",
       " 'eval_token_set_f1': 0.49980611357015853,\n",
       " 'eval_bleu_score': 5.965771885447562,\n",
       " 'eval_meteor_score': 0.3322617559151426,\n",
       " 'eval_rouge_score': 0.48723019454726774,\n",
       " 'eval_exact_match': 0.0,\n",
       " 'eval_emb_cos_sim': 0.9486007690429688,\n",
       " 'eval_runtime': 9.9523,\n",
       " 'eval_samples_per_second': 0.301,\n",
       " 'eval_steps_per_second': 0.1}"
      ]
     },
     "execution_count": 3,
     "metadata": {},
     "output_type": "execute_result"
    }
   ],
   "source": [
    "corr_trainer.args.per_device_eval_batch_size = 128\n",
    "corr_trainer.return_best_hypothesis = False\n",
    "corr_trainer.num_gen_recursive_steps = 1\n",
    "corr_trainer.gen_kwargs = {\n",
    "    \"early_stopping\": False,\n",
    "    \"num_beams\": 1,\n",
    "    \"num_return_sequences\": 1,\n",
    "    \"do_sample\": False,\n",
    "    \"no_repeat_ngram_size\": 0,\n",
    "}\n",
    "corr_trainer.evaluate(\n",
    "    eval_dataset=inv_trainer.eval_dataset[\"msmarco\"].select(range(3))\n",
    ")"
   ]
  },
  {
   "cell_type": "code",
   "execution_count": 4,
   "id": "13780fcd-54e3-41ae-88d3-cc58f256bcd4",
   "metadata": {},
   "outputs": [
    {
     "name": "stdout",
     "output_type": "stream",
     "text": [
      "running manifest on text_list of length 3, first element '*The parking lot will require the use of a separate parking space for the proposed use of the. building. [District Floor Plan: Use of existing floor plan space, dimensions, and/or permit requirements for each. subfloor/space will be provided in the Submitting Documents.'\n"
     ]
    },
    {
     "name": "stderr",
     "output_type": "stream",
     "text": [
      "generating from val:   0%|                                                                                     | 0/1 [00:00<?, ?it/s]"
     ]
    },
    {
     "name": "stdout",
     "output_type": "stream",
     "text": [
      "running manifest on text_list of length 3, first element '*The parking lot will require the use of a separate parking space for the proposed use of the. building. [District Floor Plan: Use of existing floor plan space, dimensions, and/or permit requirements for each. subfloor/space will be provided in the Submitting Documents.'\n",
      "running manifest on text_list of length 3, first element '*The parking lot will require the use of a separate parking space for the proposed use of the. building. [District Floor Plan: Show/Submit Floor Plan, dimensions, and/or permit requirements for each. permitted use/space]'\n",
      "running manifest on text_list of length 3, first element '*The parking lot will require the use of a separate parking space for the existing. building. [Submit Floor Plan: Show/Submit Floor Plan, dimensions, and complete dimensions of each permitted use/use/use/space as. indicated].'\n",
      "running manifest on text_list of length 3, first element '*The parking lot will require the use of a separate parking space for the existing. building. [Submit Floor Plan: Show/Submit Floor Plan, dimensions, and complete dimensions of each permitted use/use/space as. indicated on the permit.'\n",
      "running manifest on text_list of length 3, first element '*The parking lot will require the issuance of a separate parking permit for the existing. building. [Submit Floor Plan: Show/Submit Floor Plan, dimensions, and complete dimensions of each permitted use/use/space as. indicated on the drawing.'\n",
      "running manifest on text_list of length 3, first element '*The parking lot will require the issuance of a separate parking permit for the existing. building. [Submit Floor Plan: Show/Submit Floor Plan, dimensions, and complete dimensions of each permitted use/use/space as. indicated on the drawing.'\n"
     ]
    },
    {
     "name": "stderr",
     "output_type": "stream",
     "text": [
      "                                                                                                                                     \r"
     ]
    },
    {
     "name": "stdout",
     "output_type": "stream",
     "text": [
      "[pred] *The parking lot will require the issuance of a separate parking permit for the existing. building. [Submit Floor Plan: Show/Submit Floor Plan, dimensions, and complete dimensions of each permitted use/use/space as. indicated on the drawing.\n",
      "[true] *The use of the driveway as the required parking spaces will require a separate submittal for a Use Permit. [ ] Floor plan (dimensioned): Show overall building size, existing and proposed room locations, existing and. proposed new window(s)/door(s) size/location(s).\n",
      "\n",
      "\n",
      "\n",
      "[pred] Our illuminated SEBIEN SERVILLE map is encapsulated in a hidden street map, enabling you to discover hidden gems in every corner of the city.our map of each of the major cities of Seville, Madrid, Costa Brava and Cartagena has been adapted to assist you with your essential travels by highlighting the major cities with an eye on the streets, landmarks and attractions of each city.\n",
      "[true] Our STREETWISE Seville Map enables you to explore each hidden corner of this enticing destination with a clearly defined map of the city, fully indexed and highlighted with hotels, parks and gardens, and places of interest. An inset of the center of Seville makes even the tiniest of alleyways navigable.rea maps of Cordoba, Grenada and Seville facilitate your entry into these three principal cities via auto, giving you the greatest freedom to experience all that is Southern Spain.\n",
      "\n",
      "\n",
      "\n",
      "[pred] aaa coupons 32 save aaa is an american not for profit organization with an average of 32 coupons for members save about $ aaa codes show savings on a variety of products and services from car insurance to travel to automobile com aaa com earns more money with its members by providing convenient and affordable travel discounts\n",
      "[true] aaa coupon codes about aaa save an average of $ 32 with 26 coupon codes deals for aaa com aaa is a not for profit organization that lists the automobile clubs in the united states and offers travel benefits and automobile insurance to its members members review the aaa positively for its convenient travel benefits pricing of services and insurance claim policies shop aaa com show more show less\n",
      "running manifest on text_list of length 3, first element '*The parking lot will require the issuance of a separate parking permit for the existing. building. [Submit Floor Plan: Show/Submit Floor Plan, dimensions, and complete dimensions of each permitted use/use/space as. indicated on the drawing.'\n",
      "running manifest on text_list of length 3, first element '*The use of the driveway as the required parking spaces will require a separate submittal for a Use Permit. [ ] Floor plan (dimensioned): Show overall building size, existing and proposed room locations, existing and. proposed new window(s)/door(s) size/location(s).'\n"
     ]
    },
    {
     "data": {
      "text/plain": [
       "{'eval_loss': 2.9332072734832764,\n",
       " 'eval_pred_num_tokens': 74.33333587646484,\n",
       " 'eval_true_num_tokens': 90.66667175292969,\n",
       " 'eval_token_set_precision': 0.45323176604500476,\n",
       " 'eval_token_set_recall': 0.5512364933338597,\n",
       " 'eval_token_set_f1': 0.49645169645169646,\n",
       " 'eval_bleu_score': 4.466994443079003,\n",
       " 'eval_meteor_score': 0.32812025587538013,\n",
       " 'eval_rouge_score': 0.49814608824619944,\n",
       " 'eval_exact_match': 0.0,\n",
       " 'eval_emb_cos_sim': 0.9524575471878052,\n",
       " 'eval_runtime': 11.968,\n",
       " 'eval_samples_per_second': 0.251,\n",
       " 'eval_steps_per_second': 0.084}"
      ]
     },
     "execution_count": 4,
     "metadata": {},
     "output_type": "execute_result"
    }
   ],
   "source": [
    "corr_trainer.args.per_device_eval_batch_size = 128\n",
    "corr_trainer.return_best_hypothesis = False\n",
    "corr_trainer.num_gen_recursive_steps = 5\n",
    "corr_trainer.gen_kwargs = {\n",
    "    \"early_stopping\": False,\n",
    "    \"num_beams\": 1,\n",
    "    \"num_return_sequences\": 1,\n",
    "    \"do_sample\": False,\n",
    "    \"no_repeat_ngram_size\": 0,\n",
    "}\n",
    "corr_trainer.evaluate(\n",
    "    eval_dataset=inv_trainer.eval_dataset[\"msmarco\"].select(range(3))\n",
    ")"
   ]
  },
  {
   "cell_type": "code",
   "execution_count": 3,
   "id": "e6f1ffe1-83b5-4481-8d68-94cb5e19e941",
   "metadata": {},
   "outputs": [
    {
     "name": "stderr",
     "output_type": "stream",
     "text": [
      "/home/jxm3/.conda/envs/torch/lib/python3.10/site-packages/torch/utils/data/dataloader.py:560: UserWarning: This DataLoader will create 6 worker processes in total. Our suggested max number of worker in current system is 1, which is smaller than what this DataLoader is going to create. Please be aware that excessive worker creation might get DataLoader running slow or even freeze, lower the worker number to avoid potential slowness/freeze if necessary.\n",
      "  warnings.warn(_create_warning_msg(\n"
     ]
    },
    {
     "name": "stdout",
     "output_type": "stream",
     "text": [
      "running manifest on text_list of length 1, first element '*The parking lot will require the use of a separate parking space for the proposed use of the. building. [District Floor Plan: Use of existing floor plan space, dimensions, and/or permit requirements for each. subfloor/space will be provided in the Submitting Documents.'\n"
     ]
    },
    {
     "data": {
      "text/html": [
       "\n",
       "    <div>\n",
       "      \n",
       "      <progress value='15' max='3' style='width:300px; height:20px; vertical-align: middle;'></progress>\n",
       "      [3/3 13:19]\n",
       "    </div>\n",
       "    "
      ],
      "text/plain": [
       "<IPython.core.display.HTML object>"
      ]
     },
     "metadata": {},
     "output_type": "display_data"
    },
    {
     "name": "stdout",
     "output_type": "stream",
     "text": [
      "running manifest on text_list of length 1, first element 'Our illuminated Seville map is encapsulated in a map of each of our cities, enabling you to discover the hidden gems of the city. Our enlightened Seville map also includes a map of the streets of the city centre, the central business district, the outskirts of the city center and the outskirts of the city center.e encourage you to take advantage of our easy-to-use, fully accessible and easy-to-use map of Seville, Valencia, Seville, and Seville.'\n",
      "running manifest on text_list of length 1, first element 'aaa coupons 32 save aaa is an american travel organization with an average of 32 coupons for members save $ aaa offers savings on a variety of products and services from aaa to car insurance aaa com offers coupons for car insurance and travel insurance not only saves money but also helps members save money on their car insurance and travel insurance'\n"
     ]
    },
    {
     "name": "stderr",
     "output_type": "stream",
     "text": [
      "generating from val:   0%|                                                                                     | 0/3 [00:00<?, ?it/s]"
     ]
    },
    {
     "name": "stdout",
     "output_type": "stream",
     "text": [
      "running manifest on text_list of length 1, first element '*The parking lot will require the use of a separate parking space for the proposed use of the. building. [District Floor Plan: Use of existing floor plan space, dimensions, and/or permit requirements for each. subfloor/space will be provided in the Submitting Documents.'\n",
      "running manifest on text_list of length 5, first element '*The parking lot will require the use of a separate parking space for the proposed use of the. building. [District Floor Plan: Use of existing floor plan space, dimensions, and/or permit requirements for each. subfloor/space will be provided in the Submit Fees.'\n",
      "running manifest on text_list of length 25, first element '*The parking lot will require a separate entrance/exit for the proposed use of the. building. [District Floor Plan: Use of existing floor plan space, dimensions, and/or permit requirements for each. subfloor/space will be provided in the Submit Fees.'\n",
      "running manifest on text_list of length 25, first element '*The parking lot will require the use of a separate parking space for the proposed use of the. building. [District Floor Plan: Use of existing floor plan space, dimensions, and/or permit requirements for each. subroom/driveway will be provided in the Submit Fees.'\n",
      "running manifest on text_list of length 25, first element '*The parking lot will require a separate entrance/exit for the proposed use of the. building. [District Floor Plan: Use of existing floor plan space, dimensions, and/or permit requirements for each. subfloor/space will be provided in the Show Fees section.'\n",
      "running manifest on text_list of length 25, first element '*The parking lot will require a separate entrance/exit for the proposed use of the. building. [District Floor Plan: Use of existing floor plan space, dimensions, and/or permit requirements for each. subfloor/space will be provided in the Show Fees column.'\n"
     ]
    },
    {
     "name": "stderr",
     "output_type": "stream",
     "text": [
      "generating from val:  33%|█████████████████████████▋                                                   | 1/3 [00:10<00:20, 10.49s/it]"
     ]
    },
    {
     "name": "stdout",
     "output_type": "stream",
     "text": [
      "running manifest on text_list of length 1, first element 'Our illuminated Seville map is encapsulated in a map of each of our cities, enabling you to discover the hidden gems of the city. Our enlightened Seville map also includes a map of the streets of the city centre, the central business district, the outskirts of the city center and the outskirts of the city center.e encourage you to take advantage of our easy-to-use, fully accessible and easy-to-use map of Seville, Valencia, Seville, and Seville.'\n",
      "running manifest on text_list of length 5, first element 'Our illuminated Seville map is encapsulated in a map of each of our cities, enabling you to discover the hidden gems of the city.OUR SEVENTH GAROUND, Sevilleâs most prominent street corner, and Sevilleâs central business district are clearly encapsulated in an easy-to-access map of every corner of the city. This feature also allows you to book hotels, restaurants, hotels and other places of interest.'\n",
      "running manifest on text_list of length 25, first element 'Our illuminated Seville map is encapsulated in a map of each hidden street corner, enabling you to discover the hidden gems of the city.OUR SEVISA GAROUND, Sevilleâs most prominent street corners, and Sevilleâs central business districts are clearly encapsulated in an easy-to-access map of every corner of the city. This feature also allows you to book hotels, restaurants and other places of interest.'\n",
      "running manifest on text_list of length 25, first element 'Our illuminated Seville map is encapsulated in a map of each hidden street corner, enabling you to discover the hidden gems of the city.OUR SEVISA GAROUND, Sevilleâs most prominent street corners, and Sevilleâs central business districts are clearly encapsulated in an easy-to-access map of every corner of the city. This feature also allows you to book hotels, restaurants and other places of interest in your travels.'\n",
      "running manifest on text_list of length 25, first element 'Our illuminated Seville map is encapsulated in a map of each hidden street corner, enabling you to discover the hidden gems of the city.OUR SEVISA GAROUND, Sevilleâs most prominent street corners, and Sevilleâs central business districts are clearly encapsulated in an easy-to-access map of every corner of the city. This feature also allows you to book hotels, restaurants and other places of interest in your travels.'\n",
      "running manifest on text_list of length 25, first element 'Our illuminated Seville map is encapsulated in a map of each hidden street corner, enabling you to discover the hidden gems of the city.OUR SEVISA GAROUND, Sevilleâs most prominent street corners, and Sevilleâs central business districts are clearly encapsulated in an easy-to-access map of every corner of the city. This feature also allows you to book hotels, restaurants and other places of interest in your travels.'\n"
     ]
    },
    {
     "name": "stderr",
     "output_type": "stream",
     "text": [
      "generating from val:  67%|███████████████████████████████████████████████████▎                         | 2/3 [00:22<00:11, 11.52s/it]"
     ]
    },
    {
     "name": "stdout",
     "output_type": "stream",
     "text": [
      "running manifest on text_list of length 1, first element 'aaa coupons 32 save aaa is an american travel organization with an average of 32 coupons for members save $ aaa offers savings on a variety of products and services from aaa to car insurance aaa com offers coupons for car insurance and travel insurance not only saves money but also helps members save money on their car insurance and travel insurance'\n",
      "running manifest on text_list of length 5, first element 'aaa coupons 32 save aaa is an american not for profit organization with an average of 32 coupons for members save $ aaa offers savings on a variety of products and services from aaa codes to car insurance aaa com displays coupons for aaa to help members save more'\n",
      "running manifest on text_list of length 25, first element 'aaa coupons 32 save aaa is an american not for profit organization with an average of 32 coupons for members save about $ aaa offers savings on a variety of products and services from travel benefits to travel codes to car insurance aaa com displays coupons for aaa to help members save more'\n",
      "running manifest on text_list of length 25, first element 'aaa coupons 32 save aaa is an american not for profit organization with an average of 32 coupons for members save about $ aaa offers savings on a variety of products and services from travel benefits to travel codes to car insurance aaa com displays coupons for aaa to help members save more'\n",
      "running manifest on text_list of length 25, first element 'aaa coupons 32 save aaa is an american not for profit organization with an average of 32 coupons for members save about $ aaa offers savings on a variety of products and services from travel benefits to travel codes to car insurance aaa com displays coupons for aaa to help members save more'\n",
      "running manifest on text_list of length 25, first element 'aaa coupons 32 save aaa is an american not for profit organization with an average of 32 coupons for members save about $ aaa offers savings on a variety of products and services from travel benefits to discount codes to car insurance aaa com displays coupons for aaa to help members save more'\n"
     ]
    },
    {
     "name": "stderr",
     "output_type": "stream",
     "text": [
      "                                                                                                                                     \r"
     ]
    },
    {
     "name": "stdout",
     "output_type": "stream",
     "text": [
      "[pred] *The parking lot will require a separate entrance/exit for the proposed use of the. building. [District Floor Plan: Use of existing floor plan space, dimensions, and/or permit requirements for each. subfloor/space will be provided in the Show Fees column.\n",
      "[true] *The use of the driveway as the required parking spaces will require a separate submittal for a Use Permit. [ ] Floor plan (dimensioned): Show overall building size, existing and proposed room locations, existing and. proposed new window(s)/door(s) size/location(s).\n",
      "\n",
      "\n",
      "\n",
      "[pred] Our illuminated Seville map is encapsulated in a map of each hidden street corner, enabling you to discover the hidden gems of the city.OUR SEVISA GAROUND, Sevilleâs most prominent street corners, and Sevilleâs central business districts are clearly encapsulated in an easy-to-access map of every corner of the city. This feature also allows you to book hotels, restaurants and other places of interest in your travels.\n",
      "[true] Our STREETWISE Seville Map enables you to explore each hidden corner of this enticing destination with a clearly defined map of the city, fully indexed and highlighted with hotels, parks and gardens, and places of interest. An inset of the center of Seville makes even the tiniest of alleyways navigable.rea maps of Cordoba, Grenada and Seville facilitate your entry into these three principal cities via auto, giving you the greatest freedom to experience all that is Southern Spain.\n",
      "\n",
      "\n",
      "\n",
      "[pred] aaa coupons 32 save aaa is an american not for profit organization with an average of 26 coupons for members save about $ aaa offers savings on a variety of products and services from travel benefits to discount codes to car insurance aaa com displays coupons for aaa to help members save more\n",
      "[true] aaa coupon codes about aaa save an average of $ 32 with 26 coupon codes deals for aaa com aaa is a not for profit organization that lists the automobile clubs in the united states and offers travel benefits and automobile insurance to its members members review the aaa positively for its convenient travel benefits pricing of services and insurance claim policies shop aaa com show more show less\n",
      "running manifest on text_list of length 3, first element '*The parking lot will require a separate entrance/exit for the proposed use of the. building. [District Floor Plan: Use of existing floor plan space, dimensions, and/or permit requirements for each. subfloor/space will be provided in the Show Fees column.'\n",
      "running manifest on text_list of length 3, first element '*The use of the driveway as the required parking spaces will require a separate submittal for a Use Permit. [ ] Floor plan (dimensioned): Show overall building size, existing and proposed room locations, existing and. proposed new window(s)/door(s) size/location(s).'\n"
     ]
    },
    {
     "data": {
      "text/plain": [
       "{'eval_loss': 2.900930404663086,\n",
       " 'eval_pred_num_tokens': 78.33333587646484,\n",
       " 'eval_true_num_tokens': 90.66667175292969,\n",
       " 'eval_token_set_precision': 0.467703353471675,\n",
       " 'eval_token_set_recall': 0.5439211868958109,\n",
       " 'eval_token_set_f1': 0.5017914097021602,\n",
       " 'eval_bleu_score': 6.679353890454544,\n",
       " 'eval_meteor_score': 0.31670915534283656,\n",
       " 'eval_rouge_score': 0.4942857142857144,\n",
       " 'eval_exact_match': 0.0,\n",
       " 'eval_emb_cos_sim': 0.9515328407287598,\n",
       " 'eval_runtime': 43.4954,\n",
       " 'eval_samples_per_second': 0.069,\n",
       " 'eval_steps_per_second': 0.069}"
      ]
     },
     "execution_count": 3,
     "metadata": {},
     "output_type": "execute_result"
    }
   ],
   "source": [
    "corr_trainer.args.per_device_eval_batch_size = 1\n",
    "corr_trainer.return_best_hypothesis = False\n",
    "corr_trainer.num_gen_recursive_steps = 5\n",
    "corr_trainer.sequence_beam_width = 5\n",
    "corr_trainer.gen_kwargs = {\n",
    "    \"early_stopping\": False,\n",
    "    \"num_beams\": 1,\n",
    "    \"num_return_sequences\": 1,\n",
    "    \"do_sample\": False,\n",
    "    \"no_repeat_ngram_size\": 0,\n",
    "}\n",
    "corr_trainer.evaluate(\n",
    "    eval_dataset=inv_trainer.eval_dataset[\"msmarco\"].select(range(3))\n",
    ")"
   ]
  },
  {
   "cell_type": "code",
   "execution_count": 5,
   "id": "8921494a-d23b-4e9a-9487-c4740c474ec2",
   "metadata": {},
   "outputs": [
    {
     "name": "stdout",
     "output_type": "stream",
     "text": [
      "running manifest on text_list of length 1, first element '*The parking lot will require the use of a separate parking space for the proposed use of the. building. [District Floor Plan: Use of existing floor plan space, dimensions, and/or permit requirements for each. subfloor/space will be provided in the Submitting Documents.'\n",
      "running manifest on text_list of length 1, first element 'Our illuminated Seville map is encapsulated in a map of each of our cities, enabling you to discover the hidden gems of the city. Our enlightened Seville map also includes a map of the streets of the city centre, the central business district, the outskirts of the city center and the outskirts of the city center.e encourage you to take advantage of our easy-to-use, fully accessible and easy-to-use map of Seville, Valencia, Seville, and Seville.'\n",
      "running manifest on text_list of length 1, first element 'aaa coupons 32 save aaa is an american travel organization with an average of 32 coupons for members save $ aaa offers savings on a variety of products and services from aaa to car insurance aaa com offers coupons for car insurance and travel insurance not only saves money but also helps members save money on their car insurance and travel insurance'\n"
     ]
    },
    {
     "name": "stderr",
     "output_type": "stream",
     "text": [
      "generating from val:   0%|                                                                                     | 0/3 [00:00<?, ?it/s]"
     ]
    },
    {
     "name": "stdout",
     "output_type": "stream",
     "text": [
      "running manifest on text_list of length 1, first element '*The parking lot will require the use of a separate parking space for the proposed use of the. building. [District Floor Plan: Use of existing floor plan space, dimensions, and/or permit requirements for each. subfloor/space will be provided in the Submitting Documents.'\n",
      "running manifest on text_list of length 5, first element '*The parking lot will require the use of a separate parking space for the proposed use of the. building. [District Floor Plan: Use of existing floor plan space, dimensions, and/or permit requirements for each. subfloor/space will be provided in the Submit Fees.'\n",
      "running manifest on text_list of length 25, first element '*The parking lot will require the use of a separate parking space for the proposed use of the. building. [District Floor Plan: Use of existing floor plan space, dimensions, and/or permit requirements for each. subfloor/driveway will be provided in the Submit.'\n",
      "running manifest on text_list of length 25, first element '*The parking lot will require the use of a separate parking space for the proposed use of the. building. [Purpose Floor Plan: Use of existing floor plan space, dimensions, and entrance/exit permit requirements for each. subfloor/driveway will be provided in the Submit.'\n",
      "running manifest on text_list of length 25, first element '*The driveway will require a separate parking space for the proposed use of the. building. [Submit Fees] [Purpose Floor Plan: Use of existing floor plan space, dimensions, and/or permit requirements for each. subroom/driveway will be provided in the Submit.'\n",
      "running manifest on text_list of length 25, first element '*The driveway will require a separate parking space for the proposed use of the. building. [Submit Fees] [Purpose Floor Plan: Use of existing floor plan space, dimensions, and/or permit requirements for each. subroom/driveway will be provided in the window size.'\n"
     ]
    },
    {
     "name": "stderr",
     "output_type": "stream",
     "text": [
      "generating from val:  33%|█████████████████████████▋                                                   | 1/3 [00:09<00:19,  9.64s/it]"
     ]
    },
    {
     "name": "stdout",
     "output_type": "stream",
     "text": [
      "running manifest on text_list of length 1, first element 'Our illuminated Seville map is encapsulated in a map of each of our cities, enabling you to discover the hidden gems of the city. Our enlightened Seville map also includes a map of the streets of the city centre, the central business district, the outskirts of the city center and the outskirts of the city center.e encourage you to take advantage of our easy-to-use, fully accessible and easy-to-use map of Seville, Valencia, Seville, and Seville.'\n",
      "running manifest on text_list of length 5, first element 'Our illuminated Seville map is encapsulated in a map of each of our cities, enabling you to discover the hidden gems of the city.OUR SEVENTH GAROUND, Sevilleâs most prominent street corner, and Sevilleâs central business district are clearly encapsulated in an easy-to-access map of every corner of the city. This feature also allows you to book hotels, restaurants, hotels and other places of interest.'\n",
      "running manifest on text_list of length 25, first element 'Our illuminated Seville map is encapsulated in a map of each hidden street corner, enabling you to discover the hidden gems of the city.OUR SEVISA GAROUND, Sevilleâs most prominent street corners, and Sevilleâs central business districts are clearly encapsulated in an easy-to-access map of every corner of the city. This feature also allows you to book hotels, restaurants, hotels and other places of interest in Spain.'\n",
      "running manifest on text_list of length 25, first element 'Our illuminated Seville map is encapsulated in a map of each hidden street corner, enabling you to discover the hidden gems of the city.OUR SEVISA GAROUND, Sevilleâs most prominent street corners, and Sevilleâs central business districts are clearly encapsulated in an easy-to-access map of every corner of the city. This feature also allows you to book hotels, resorts and other places of interest in Spain.'\n",
      "running manifest on text_list of length 25, first element 'Our illuminated Seville map is encapsulated in a map of each hidden street corner, enabling you to explore the hidden gems of the city.OUR SEVISA GAROUND, Sevilleâs most prominent street corners, and Sevilleâs central business districts are clearly encapsulated in an easy-to-access map of every corner of the city. This feature also allows you to book hotels, restaurants and other places of interest in Spain.'\n",
      "running manifest on text_list of length 25, first element 'Our illuminated Seville map is encapsulated in a map of each hidden street corner, enabling you to explore the hidden gems of the city.OUR SEVISA GAROUND, Sevilleâs most prominent street corners, and Sevilleâs central business districts are clearly encapsulated in an effortless-to-access map of every corner of the city. This feature also allows you to book hotels, restaurants and other places of interest in Spain.'\n"
     ]
    },
    {
     "name": "stderr",
     "output_type": "stream",
     "text": [
      "generating from val:  67%|███████████████████████████████████████████████████▎                         | 2/3 [00:22<00:11, 11.29s/it]"
     ]
    },
    {
     "name": "stdout",
     "output_type": "stream",
     "text": [
      "running manifest on text_list of length 1, first element 'aaa coupons 32 save aaa is an american travel organization with an average of 32 coupons for members save $ aaa offers savings on a variety of products and services from aaa to car insurance aaa com offers coupons for car insurance and travel insurance not only saves money but also helps members save money on their car insurance and travel insurance'\n",
      "running manifest on text_list of length 5, first element 'aaa coupons 32 save aaa is an american not for profit organization with an average of 32 coupons for members save $ aaa offers savings on a variety of products and services from aaa codes to car insurance aaa com displays coupons for aaa to help members save more'\n",
      "running manifest on text_list of length 25, first element 'aaa coupons 32 save aaa is an american not for profit organization with an average of 32 coupons for members save about $ aaa offers savings on aaa related products and services with aaa codes travelclubcom aaa com displays coupons for aaa to help members save more on their car insurance and travel benefits'\n",
      "running manifest on text_list of length 25, first element 'aaa coupons 32 save aaa is an american not for profit organization with an average of 32 coupons for members save $ aaa offers savings on more than $ 26 products and services with aaa codes from travelclubcomcom aaa com displays coupons for aaa to help members save more information about their car insurance and travel plans'\n",
      "running manifest on text_list of length 25, first element 'aaa coupons 32 save aaa is an american not for profit organization with an average of 32 coupons for members save $ aaa offers savings on more than $ 26 products and services with aaa codes from travelclubcomcom aaa com displays coupons for aaa to help members save more information about their car insurance benefits and travel plans'\n",
      "running manifest on text_list of length 25, first element 'aaa coupons 32 save aaa is an american not for profit organization with an average of 32 coupons for members save about $ aaa offers savings on more than $ 26 products and services with aaa codes from travelclubcomcomcom aaa com displays coupons for aaa to help members save more information about their car insurance benefits and travel plans'\n"
     ]
    },
    {
     "name": "stderr",
     "output_type": "stream",
     "text": [
      "                                                                                                                                     \r"
     ]
    },
    {
     "name": "stdout",
     "output_type": "stream",
     "text": [
      "[pred] *The driveway will require a separate parking space for the proposed use of the. building. [Purpose Permits: Show all]. Floor Plan: Use of existing floor plan space, dimensions, and/or permit requirements for each. subroom/driveway will be provided in the window size.\n",
      "[true] *The use of the driveway as the required parking spaces will require a separate submittal for a Use Permit. [ ] Floor plan (dimensioned): Show overall building size, existing and proposed room locations, existing and. proposed new window(s)/door(s) size/location(s).\n",
      "\n",
      "\n",
      "\n",
      "[pred] Our illuminated Seville map is encapsulated in a map of each hidden street corner, enabling you to explore the hidden gems of the city.OUR SEVISA GAROUND, Sevilleâs most prominent street corners, and Sevilleâs central business districts are clearly encapsulated in an easy-to-access map of every corner of the city. This feature also allows you to book hotels, resorts and other places of interest in Spain with full-accessibility.\n",
      "[true] Our STREETWISE Seville Map enables you to explore each hidden corner of this enticing destination with a clearly defined map of the city, fully indexed and highlighted with hotels, parks and gardens, and places of interest. An inset of the center of Seville makes even the tiniest of alleyways navigable.rea maps of Cordoba, Grenada and Seville facilitate your entry into these three principal cities via auto, giving you the greatest freedom to experience all that is Southern Spain.\n",
      "\n",
      "\n",
      "\n",
      "[pred] aaa coupons 32 save aaa is an american not for profit organization with an average of 32 coupons for members save about $ aaa offers savings on more than $ 26 products and services with aaa codes from travelclubcomcomcom aaa com displays coupons for aaa to help members save more information about their car insurance benefits and travel plans\n",
      "[true] aaa coupon codes about aaa save an average of $ 32 with 26 coupon codes deals for aaa com aaa is a not for profit organization that lists the automobile clubs in the united states and offers travel benefits and automobile insurance to its members members review the aaa positively for its convenient travel benefits pricing of services and insurance claim policies shop aaa com show more show less\n",
      "running manifest on text_list of length 3, first element '*The driveway will require a separate parking space for the proposed use of the. building. [Purpose Permits: Show all]. Floor Plan: Use of existing floor plan space, dimensions, and/or permit requirements for each. subroom/driveway will be provided in the window size.'\n",
      "running manifest on text_list of length 3, first element '*The use of the driveway as the required parking spaces will require a separate submittal for a Use Permit. [ ] Floor plan (dimensioned): Show overall building size, existing and proposed room locations, existing and. proposed new window(s)/door(s) size/location(s).'\n"
     ]
    },
    {
     "data": {
      "text/plain": [
       "{'eval_loss': 2.8996400833129883,\n",
       " 'eval_pred_num_tokens': 85.0,\n",
       " 'eval_true_num_tokens': 90.66667175292969,\n",
       " 'eval_token_set_precision': 0.5159338061465721,\n",
       " 'eval_token_set_recall': 0.5610040366137928,\n",
       " 'eval_token_set_f1': 0.5361447609346769,\n",
       " 'eval_bleu_score': 7.161232050702384,\n",
       " 'eval_meteor_score': 0.315146893527269,\n",
       " 'eval_rouge_score': 0.515234262125903,\n",
       " 'eval_exact_match': 0.0,\n",
       " 'eval_emb_cos_sim': 0.9661175012588501,\n",
       " 'eval_runtime': 41.7953,\n",
       " 'eval_samples_per_second': 0.072,\n",
       " 'eval_steps_per_second': 0.072}"
      ]
     },
     "execution_count": 5,
     "metadata": {},
     "output_type": "execute_result"
    }
   ],
   "source": [
    "corr_trainer.args.per_device_eval_batch_size = 1\n",
    "corr_trainer.return_best_hypothesis = True\n",
    "corr_trainer.num_gen_recursive_steps = 5\n",
    "corr_trainer.sequence_beam_width = 5\n",
    "corr_trainer.gen_kwargs = {\n",
    "    \"early_stopping\": False,\n",
    "    \"num_beams\": 1,\n",
    "    \"num_return_sequences\": 1,\n",
    "    \"do_sample\": False,\n",
    "    \"no_repeat_ngram_size\": 0,\n",
    "}\n",
    "corr_trainer.evaluate(\n",
    "    eval_dataset=inv_trainer.eval_dataset[\"msmarco\"].select(range(3))\n",
    ")"
   ]
  },
  {
   "cell_type": "code",
   "execution_count": 5,
   "id": "01e451d6-5bef-4f28-90a4-6f1318ad0c8e",
   "metadata": {},
   "outputs": [
    {
     "name": "stdout",
     "output_type": "stream",
     "text": [
      "running manifest on text_list of length 3, first element '*The parking lot will require the use of a separate parking space for the proposed use of the. building. [District Floor Plan: Use of existing floor plan space, dimensions, and/or permit requirements for each. subfloor/space will be provided in the Submitting Documents.'\n"
     ]
    },
    {
     "name": "stderr",
     "output_type": "stream",
     "text": [
      "generating from val:   0%|                                                                                     | 0/1 [00:00<?, ?it/s]"
     ]
    },
    {
     "name": "stdout",
     "output_type": "stream",
     "text": [
      "running manifest on text_list of length 3, first element '*The parking lot will require the use of a separate parking space for the proposed use of the. building. [District Floor Plan: Use of existing floor plan space, dimensions, and/or permit requirements for each. subfloor/space will be provided in the Submitting Documents.'\n",
      "running manifest on text_list of length 24, first element '*The parking lot will require the use of a separate parking space for the proposed use of the. building. [District Floor Plan: Show all existing floor plan entries, dimensions, and/or permit requirements for each. permitted use/space].'\n",
      "running manifest on text_list of length 192, first element '*The parking lot will require the use of a separate parking space for the proposed use of the. building. [District Floor Plan: Show all existing floor plan entries, dimensions, and submittals for permit requirements for each. permitted use/space].'\n",
      "running manifest on text_list of length 192, first element '*The parking lot will require the use of a separate parking space for the proposed use of the. building. [District Floor Plan: Show all existing floor plan entries, dimensions, and submit a complete permit envelope for each. permitted use/space].'\n",
      "running manifest on text_list of length 192, first element '*The parking lot will require the use of a separate driveway space for the proposed use of the. building. [Dimension Sheet: Show all existing floor plan entries, complete dimensions, and submit original permit requirements for each. permitted use/place].'\n",
      "running manifest on text_list of length 192, first element '*The parking lot will require the use of a separate parking space for the proposed use of the. building. [Dimension Sheet: Show all existing floor plan entries, complete dimensions, and submit applicable permit requirements for each. permitted use/place].'\n",
      "running manifest on text_list of length 192, first element '*The parking lot will require the use of a separate drive space for the proposed use of the. building. [Dimension Sheet: Show all existing floor plan entries, complete dimensions, and submit original permit requirements for each. permitted use/place].'\n",
      "running manifest on text_list of length 192, first element '*The parking lot will require the use of a separate drive space for the proposed use of the. building. [Dimension Sheet: Show existing floor plan entries, complete dimensions, and submit original permit requirements for each. permitted use/place].'\n",
      "running manifest on text_list of length 192, first element '**The parking lot will require the use of a separate drive space for the proposed use of the. building. [Dimension Sheet: Show existing floor plan entries, complete dimensions, and submit original permit requirements for each. permitted use/place].'\n",
      "running manifest on text_list of length 192, first element '**The parking lot will require the use of a separate drive space for the proposed use of the. building. [Dimension Sheet: Show existing floor plan entries, complete dimensions, and submit original permit requirements for each. permitted use/place].'\n",
      "running manifest on text_list of length 192, first element '**The parking lot will require the use of a separate drive space for the proposed use of the. building. [Dimension Sheet: Show existing floor plan entries, complete dimensions, and submit original permit requirements for each. permitted use/place].'\n",
      "running manifest on text_list of length 192, first element '**The parking lot will require the use of a separate drive space for the proposed use of the. building. [Dimension Sheet: Show existing floor plan entries, complete dimensions, and submit original permit requirements for each. permitted use/place].'\n",
      "running manifest on text_list of length 192, first element '**The parking lot will require the use of a separate drive space for the proposed use of the. building. [Dimension Sheet: Show existing floor plan entries, complete dimensions, and submit original permit requirements for each. permitted use/place].'\n",
      "running manifest on text_list of length 192, first element '**The parking lot will require the use of a separate drive space for the proposed use of the. building. [Dimension Sheet: Show existing floor plan entries, complete dimensions, and submit original permit requirements for each. permitted use/place].'\n",
      "running manifest on text_list of length 192, first element '**The parking lot will require the use of a separate drive space for the proposed use of the. building. [Dimension Sheet: Show existing floor plan entries, complete dimensions, and submit original permit requirements for each. permitted use/place].'\n",
      "running manifest on text_list of length 192, first element '**The parking lot will require the use of a separate drive space for the proposed use of the. building. [Dimension Sheet: Show existing floor plan entries, complete dimensions, and submit original permit requirements for each. permitted use/place].'\n"
     ]
    },
    {
     "name": "stderr",
     "output_type": "stream",
     "text": [
      "                                                                                                                                     \r"
     ]
    },
    {
     "name": "stdout",
     "output_type": "stream",
     "text": [
      "[pred] **The parking lot will require the use of a separate drive space for the proposed use of the. building. [Dimension Sheet: Show existing floor plan entries, complete dimensions, and submit original permit requirements for each. permitted use/place].\n",
      "[true] *The use of the driveway as the required parking spaces will require a separate submittal for a Use Permit. [ ] Floor plan (dimensioned): Show overall building size, existing and proposed room locations, existing and. proposed new window(s)/door(s) size/location(s).\n",
      "\n",
      "\n",
      "\n",
      "[pred] Our illuminated Seville map is beautifully encapsulated in a map of hidden corners of each city, enabling you to discover hidden gems in every corner of the city.OUR SEREA® Streetwise map enables an equally intuitive and thorough exploration of Sevilleâs principal business districts, with a direct link to major cities and places of interest such as Corrientes, Barajas, Cartagena, Valencia and San Sebastin del sol.\n",
      "[true] Our STREETWISE Seville Map enables you to explore each hidden corner of this enticing destination with a clearly defined map of the city, fully indexed and highlighted with hotels, parks and gardens, and places of interest. An inset of the center of Seville makes even the tiniest of alleyways navigable.rea maps of Cordoba, Grenada and Seville facilitate your entry into these three principal cities via auto, giving you the greatest freedom to experience all that is Southern Spain.\n",
      "\n",
      "\n",
      "\n",
      "[pred] aaa coupon codes 32 save aaa is an us travel organization with an average of 32 coupons for members save $ aaa offers savings on a variety of goods and services for an average of $ show more about aaa com coupons aaa com benefits com not only offers discounts on auto insurance but also promotes loyalty programs for companies and clubs\n",
      "[true] aaa coupon codes about aaa save an average of $ 32 with 26 coupon codes deals for aaa com aaa is a not for profit organization that lists the automobile clubs in the united states and offers travel benefits and automobile insurance to its members members review the aaa positively for its convenient travel benefits pricing of services and insurance claim policies shop aaa com show more show less\n",
      "running manifest on text_list of length 3, first element '**The parking lot will require the use of a separate drive space for the proposed use of the. building. [Dimension Sheet: Show existing floor plan entries, complete dimensions, and submit original permit requirements for each. permitted use/place].'\n",
      "running manifest on text_list of length 3, first element '*The use of the driveway as the required parking spaces will require a separate submittal for a Use Permit. [ ] Floor plan (dimensioned): Show overall building size, existing and proposed room locations, existing and. proposed new window(s)/door(s) size/location(s).'\n"
     ]
    },
    {
     "data": {
      "text/plain": [
       "{'eval_loss': 2.9060802459716797,\n",
       " 'eval_pred_num_tokens': 80.33333587646484,\n",
       " 'eval_true_num_tokens': 90.66667175292969,\n",
       " 'eval_token_set_precision': 0.4600490324840207,\n",
       " 'eval_token_set_recall': 0.515450780503345,\n",
       " 'eval_token_set_f1': 0.4860866731834474,\n",
       " 'eval_bleu_score': 6.449743923827363,\n",
       " 'eval_meteor_score': 0.32529395364970676,\n",
       " 'eval_rouge_score': 0.4905108447488584,\n",
       " 'eval_exact_match': 0.0,\n",
       " 'eval_emb_cos_sim': 0.9618387222290039,\n",
       " 'eval_runtime': 112.0796,\n",
       " 'eval_samples_per_second': 0.027,\n",
       " 'eval_steps_per_second': 0.009}"
      ]
     },
     "execution_count": 5,
     "metadata": {},
     "output_type": "execute_result"
    }
   ],
   "source": [
    "corr_trainer.args.per_device_eval_batch_size = 3\n",
    "corr_trainer.return_best_hypothesis = False\n",
    "corr_trainer.num_gen_recursive_steps = 15\n",
    "corr_trainer.sequence_beam_width = 8\n",
    "corr_trainer.gen_kwargs = {\n",
    "    \"early_stopping\": False,\n",
    "    \"num_beams\": 1,\n",
    "    \"num_return_sequences\": 1,\n",
    "    \"do_sample\": False,\n",
    "    \"no_repeat_ngram_size\": 0,\n",
    "}\n",
    "corr_trainer.evaluate(\n",
    "    eval_dataset=inv_trainer.eval_dataset[\"msmarco\"].select(range(3))\n",
    ")"
   ]
  },
  {
   "cell_type": "code",
   "execution_count": 7,
   "id": "c61de484-dd31-424b-9a18-b2c3248e5a1f",
   "metadata": {},
   "outputs": [
    {
     "name": "stdout",
     "output_type": "stream",
     "text": [
      "running manifest on text_list of length 3, first element '*The parking lot will require the use of a separate parking space for the proposed use of the. building. [District Floor Plan: Use of existing floor plan space, dimensions, and/or permit requirements for each. subfloor/space will be provided in the Submitting Documents.'\n"
     ]
    },
    {
     "name": "stderr",
     "output_type": "stream",
     "text": [
      "generating from val:   0%|                                                                                     | 0/1 [00:00<?, ?it/s]"
     ]
    },
    {
     "name": "stdout",
     "output_type": "stream",
     "text": [
      "running manifest on text_list of length 3, first element '*The parking lot will require the use of a separate parking space for the proposed use of the. building. [District Floor Plan: Use of existing floor plan space, dimensions, and/or permit requirements for each. subfloor/space will be provided in the Submitting Documents.'\n",
      "running manifest on text_list of length 24, first element '*The parking lot will require the use of a separate parking space for the proposed use of the. building. [District Floor Plan: Show all existing floor plan entries, dimensions, and/or permit requirements for each. permitted use/space].'\n",
      "step 0 // scores = [0.9467394948005676, 0.948303759098053, 0.9768136143684387]\n",
      "running manifest on text_list of length 192, first element '*The parking lot will require the use of a separate parking space for the proposed use of the. building. [District Floor Plan: Show all existing floor plan entries, dimensions, and submittal permit requirements for each. subfloor/driveway in the proposed use].'\n",
      "step 1 // scores = [0.9563525319099426, 0.9538437128067017, 0.9790976643562317]\n",
      "running manifest on text_list of length 192, first element '*The parking lot will require the use of a separate parking space for the proposed use of the. building. [Dimension Sheet: Show all existing floor plan entries, dimensions, and submit complete permit requirements for each. subfloor/driveway in the proposed use].'\n",
      "step 2 // scores = [0.9635592699050903, 0.9554890394210815, 0.9798141121864319]\n",
      "running manifest on text_list of length 192, first element '*The parking permit will require the use of a separate parking space for the proposed use of the. building. [Dimension Floor Plan: Show all existing floor plan entries, dimensions, and submit complete permit requirements for each. subfloor/driveway in the proposed use].'\n",
      "step 3 // scores = [0.9711642265319824, 0.9572151899337769, 0.981116771697998]\n",
      "running manifest on text_list of length 192, first element '*The driveway permit will require the use of a separate parking space for the proposed use of the. building. [Size Suggestions: Floor Plan: Show/Show existing floor plan entries, dimensions, and submit complete permit forms for each. subroom/use location.'\n"
     ]
    },
    {
     "name": "stderr",
     "output_type": "stream",
     "text": [
      "generating from val: 100%|█████████████████████████████████████████████████████████████████████████████| 1/1 [00:31<00:00, 31.24s/it]"
     ]
    },
    {
     "name": "stdout",
     "output_type": "stream",
     "text": [
      "step 4 // scores = [0.9724856019020081, 0.957737922668457, 0.982081413269043]\n"
     ]
    },
    {
     "name": "stderr",
     "output_type": "stream",
     "text": [
      "                                                                                                                                     \r"
     ]
    },
    {
     "name": "stdout",
     "output_type": "stream",
     "text": [
      "[pred] *The driveway permit will require the use of a separate parking space for the proposed use of the. building. [Dimension Floor Plan: Show/Show existing floor plan entries, sizes, and submit complete permit requirements for each. subroom/use location.\n",
      "[true] *The use of the driveway as the required parking spaces will require a separate submittal for a Use Permit. [ ] Floor plan (dimensioned): Show overall building size, existing and proposed room locations, existing and. proposed new window(s)/door(s) size/location(s).\n",
      "\n",
      "\n",
      "\n",
      "[pred] Our illuminated Seville Streetwise map is encapsulated in a map of hidden places of interest, enabling you to discover hidden gems in every corner of the city.OURSELANDâs Streetwise map enables you to intuitively navigate every corner of the city centre, the central business district, the outskirts of the city center and even a full-width map of Cartagena, Seville, Madrid and San Sebastin de Alhambra.\n",
      "[true] Our STREETWISE Seville Map enables you to explore each hidden corner of this enticing destination with a clearly defined map of the city, fully indexed and highlighted with hotels, parks and gardens, and places of interest. An inset of the center of Seville makes even the tiniest of alleyways navigable.rea maps of Cordoba, Grenada and Seville facilitate your entry into these three principal cities via auto, giving you the greatest freedom to experience all that is Southern Spain.\n",
      "\n",
      "\n",
      "\n",
      "[pred] aaa coupons for aaa com is an american travel organization with an average of 32 coupons for members save $ 26 aaa offers savings on a variety of products and services in an average of 32 show more about aaa com coupon code aaa com benefits aaa com not only helps members save money on automobile insurance but also promotes companies like auto clubs and loyalty clubs\n",
      "[true] aaa coupon codes about aaa save an average of $ 32 with 26 coupon codes deals for aaa com aaa is a not for profit organization that lists the automobile clubs in the united states and offers travel benefits and automobile insurance to its members members review the aaa positively for its convenient travel benefits pricing of services and insurance claim policies shop aaa com show more show less\n",
      "running manifest on text_list of length 3, first element '*The driveway permit will require the use of a separate parking space for the proposed use of the. building. [Dimension Floor Plan: Show/Show existing floor plan entries, sizes, and submit complete permit requirements for each. subroom/use location.'\n",
      "running manifest on text_list of length 3, first element '*The use of the driveway as the required parking spaces will require a separate submittal for a Use Permit. [ ] Floor plan (dimensioned): Show overall building size, existing and proposed room locations, existing and. proposed new window(s)/door(s) size/location(s).'\n"
     ]
    },
    {
     "data": {
      "text/plain": [
       "{'eval_loss': 2.9060802459716797,\n",
       " 'eval_pred_num_tokens': 85.0,\n",
       " 'eval_true_num_tokens': 90.66667175292969,\n",
       " 'eval_token_set_precision': 0.4860029769722441,\n",
       " 'eval_token_set_recall': 0.5336830181245075,\n",
       " 'eval_token_set_f1': 0.5076701291011828,\n",
       " 'eval_bleu_score': 4.369131150726458,\n",
       " 'eval_meteor_score': 0.3555577722189689,\n",
       " 'eval_rouge_score': 0.516243406677083,\n",
       " 'eval_exact_match': 0.0,\n",
       " 'eval_emb_cos_sim': 0.9707701206207275,\n",
       " 'eval_runtime': 34.9734,\n",
       " 'eval_samples_per_second': 0.086,\n",
       " 'eval_steps_per_second': 0.029}"
      ]
     },
     "execution_count": 7,
     "metadata": {},
     "output_type": "execute_result"
    }
   ],
   "source": [
    "corr_trainer.args.per_device_eval_batch_size = 3\n",
    "corr_trainer.return_best_hypothesis = True\n",
    "corr_trainer.num_gen_recursive_steps = 5\n",
    "corr_trainer.sequence_beam_width = 8\n",
    "corr_trainer.gen_kwargs = {\n",
    "    \"early_stopping\": False,\n",
    "    \"num_beams\": 1,\n",
    "    \"num_return_sequences\": 1,\n",
    "    \"do_sample\": False,\n",
    "    \"no_repeat_ngram_size\": 0,\n",
    "}\n",
    "corr_trainer.evaluate(\n",
    "    eval_dataset=inv_trainer.eval_dataset[\"msmarco\"].select(range(3))\n",
    ")"
   ]
  },
  {
   "cell_type": "code",
   "execution_count": 12,
   "id": "649b60f7-a366-4dc3-bffc-8881cb25f12b",
   "metadata": {},
   "outputs": [
    {
     "name": "stdout",
     "output_type": "stream",
     "text": [
      "running manifest on text_list of length 1, first element '*The parking lot will require the use of a separate parking space for the proposed use of the. building. [District Floor Plan: Use of existing floor plan space, dimensions, and/or permit requirements for each. subfloor/space will be provided in the Submitting Documents.'\n",
      "running manifest on text_list of length 1, first element 'Our illuminated Seville map is encapsulated in a map of each of our cities, enabling you to discover the hidden gems of the city. Our enlightened Seville map also includes a map of the streets of the city centre, the central business district, the outskirts of the city center and the outskirts of the city center.e encourage you to take advantage of our easy-to-use, fully accessible and easy-to-use map of Seville, Valencia, Seville, and Seville.'\n",
      "running manifest on text_list of length 1, first element 'aaa coupons 32 save aaa is an american travel organization with an average of 32 coupons for members save $ aaa offers savings on a variety of products and services from aaa to car insurance aaa com offers coupons for car insurance and travel insurance not only saves money but also helps members save money on their car insurance and travel insurance'\n"
     ]
    },
    {
     "name": "stderr",
     "output_type": "stream",
     "text": [
      "generating from val:   0%|                                                                                     | 0/3 [00:00<?, ?it/s]"
     ]
    },
    {
     "name": "stdout",
     "output_type": "stream",
     "text": [
      "running manifest on text_list of length 1, first element '*The parking lot will require the use of a separate parking space for the proposed use of the. building. [District Floor Plan: Use of existing floor plan space, dimensions, and/or permit requirements for each. subfloor/space will be provided in the Submitting Documents.'\n",
      "running manifest on text_list of length 16, first element '*The parking lot will require the use of a separate parking space for the proposed use of the. building. [District Floor Plan: Show all existing floor plan entries, dimensions, and/or permit requirements for each. permitted use/space].'\n",
      "step 0 // scores = [0.9535164833068848]\n",
      "running manifest on text_list of length 256, first element '*The parking permit will require the use of a separate parking space for the proposed use of the. building. [Use Floor Plan: Show all existing floor plan entries, dimensions, and submittal permit requirements for each. subroom/driveway in the proposed structure].'\n",
      "step 1 // scores = [0.9660629034042358]\n",
      "running manifest on text_list of length 256, first element '*The parking permit will require the use of a separate parking space for the proposed use of the. building. [Use Floor Plan: Show all existing floor plan entries, dimensions, and submitsize permit requirements for each. subroom/Driveway in the proposed structure].'\n",
      "step 2 // scores = [0.9708297252655029]\n",
      "running manifest on text_list of length 256, first element '*The parking permit will require the use of a separate parking space for the proposed use of the. building. [Driveway Floor Plan: Show all existing floor plan entries, dimensions, and submittal permit requirements for each. USE / SIZES].'\n",
      "step 3 // scores = [0.9717792868614197]\n",
      "running manifest on text_list of length 256, first element '*The parking permit will require the use of a separate parking space for the proposed. Use of the Driveway. [Driveway Floor Plan: Show all existing floor plan entries, dimensions, and submittal permit requirements for each. ROOM SIZES].'\n",
      "step 4 // scores = [0.9753345251083374]\n",
      "running manifest on text_list of length 256, first element '*The use permit will require the submittal of a separate parking space for the proposed. use of the building. [Driveway Floor Plan: Show all existing floor plan entries, dimensions, and submittal permit requirements for each. DIMENSIONS).'\n",
      "step 5 // scores = [0.9765165448188782]\n",
      "running manifest on text_list of length 256, first element '*The use permit will require the submittal of a separate parking space for the proposed. use/location. [Driveway Floor Plan: Show all existing floor plan entries, overall dimensions, and submittal permit requirements for each. ROOM DIMENSIONS.'\n",
      "step 6 // scores = [0.9789336919784546]\n",
      "running manifest on text_list of length 256, first element '*The use permit will require the submittal of a separate parking space for the proposed. use/deployment. [Driveway Floor Plan: Show all existing floor plan entries, size windows and submittal permit requirements for each. ROOM DIMENSIONS).'\n",
      "step 7 // scores = [0.9804907441139221]\n",
      "running manifest on text_list of length 256, first element '[The use permit will require the submittal of a separate parking space for the proposed. use/location of existing buildings.] Driveway Floor Plan: Show all existing floor plan entries, size windows and submittal permit requirements for each. ROOM DIMENSIONS.'\n",
      "step 8 // scores = [0.9812788963317871]\n",
      "running manifest on text_list of length 256, first element '*The use permit will require the submittal of a separate parking space for the proposed. use/location of existing buildings. [Driveway Floor Plan: Show complete floor plan entries, window sizes, and submittal permit requirements for each] ROOM DIMENSIONS.'\n",
      "step 9 // scores = [0.9821041226387024]\n",
      "running manifest on text_list of length 256, first element '[The use permit will require the submittal of a separate parking space for the proposed. use/location of existing buildings.] Driveway Floor Plan: Show entire floor plan entries, size windows and submittal permit requirements for each. ROOM DIMENSIONS.'\n",
      "step 10 // scores = [0.9827598333358765]\n",
      "running manifest on text_list of length 256, first element '[The use permit will require the submittal of a separate parking space for the proposed. use/location of existing buildings] * Driveway Floor Plan: Show only the required entries, size windows and submittal permit requirements for each. ROOM DIMENSIONS.'\n",
      "step 11 // scores = [0.9832521080970764]\n",
      "running manifest on text_list of length 256, first element '[The use permit will require the submittal of a separate parking space for the proposed. use/location of existing buildings.] Driveway Floor Plan: Show entire floor plan entries, size windows and submittal permit requirements for each ROOM DIMENSIONS ***.'\n",
      "step 12 // scores = [0.9836506247520447]\n",
      "running manifest on text_list of length 256, first element '[The use permit will require the submittal of a separate parking space for the proposed. use/location of existing buildings.] Driveway Floor Plan: Show complete floor plan entries, designated window sizes and submittal permit requirements for each ROOM DIMENSIONS ***.'\n",
      "step 13 // scores = [0.9839599132537842]\n",
      "running manifest on text_list of length 256, first element '[The use permit will require the submittal of a separate parking space for the proposed. use/location of existing buildings.] Driveway Floor Plan: Show entire floor plan, designated size window and submittal permit requirements for each ROOM DIMENSIONS ***.'\n"
     ]
    },
    {
     "name": "stderr",
     "output_type": "stream",
     "text": [
      "generating from val:  33%|█████████████████████████▎                                                  | 1/3 [01:47<03:34, 107.25s/it]"
     ]
    },
    {
     "name": "stdout",
     "output_type": "stream",
     "text": [
      "step 14 // scores = [0.9839599132537842]\n",
      "running manifest on text_list of length 1, first element 'Our illuminated Seville map is encapsulated in a map of each of our cities, enabling you to discover the hidden gems of the city. Our enlightened Seville map also includes a map of the streets of the city centre, the central business district, the outskirts of the city center and the outskirts of the city center.e encourage you to take advantage of our easy-to-use, fully accessible and easy-to-use map of Seville, Valencia, Seville, and Seville.'\n",
      "running manifest on text_list of length 16, first element 'Our illuminated Seville map is encapsulated in a map of each of our cities, enabling you to discover hidden gems in every corner of the city.our SEGA® Streetwise map enables you to easily navigate the streets of the city centre, the central business district, the outskirts of the city center and places of interest such as Barranquilla, Cartagena, San Sebastin and Costa Rica.'\n",
      "step 0 // scores = [0.9477604627609253]\n",
      "running manifest on text_list of length 256, first element 'Our illuminated Seville map is encapsulated in a map of hidden corners of each city, enabling you to discover hidden gems in every corner of the city.OUR SEGA® Streetwise map enables you to intuitively navigate the streets of the city centre, the central business district, the outskirts of the city center and places of interest such as Barranquilla, Corrientes, San Sebastin and Cartagena, each with its own distinct street address.'\n",
      "step 1 // scores = [0.9508390426635742]\n",
      "running manifest on text_list of length 256, first element 'Our illuminated Seville map is encapsulated in a map of hidden corners of each city, enabling you to discover hidden gems in every corner of the city.OUR SEGA® Streetwise map enables an intuitive and thorough exploration of the city centre, the central business district, the outskirts of major tourist attractions and places of interest such as Barranquilla, Corrientes, San Sebastin and Cartagena, each with its own distinct street address.'\n",
      "step 2 // scores = [0.9540415406227112]\n",
      "running manifest on text_list of length 256, first element 'Our illuminated Seville map is inseparable with a map of hidden corners of each city, enabling you to discover hidden gems in every corner of the city.OUR SEGA® Streetwise map enables an equally intuitive and thorough exploration of Seville, Seville's central business district, the outskirts of major cities and places of interest such as Barranquilla, Corrientes, San Sebastin and Cartagena.'\n",
      "step 3 // scores = [0.956325113773346]\n",
      "running manifest on text_list of length 256, first element 'Our illuminated Seville map is fully encapsulated in a map of hidden corners of each city, enabling you to discover hidden gems in every corner of the city.OUR SEREA® Streetwise map enables an intuitive exploration of Sevilleâs streets, the central business district, the outskirts of major tourist attractions and places of interest such as Barranquilla, Corrientes, San Sebastin and Cartagena.'\n",
      "step 4 // scores = [0.9572117328643799]\n",
      "running manifest on text_list of length 256, first element 'Our illuminated Seville map is fully inseparable with a map of hidden corners of each city, enabling you to discover hidden gems in every corner of the city.OUR SEREA® Streetwise map enables an intuitive exploration of Sevilleâs streets, the central business district, the outskirts of major tourist attractions and places of interest such as Barranquilla, Corrientes, San Sebastin and Cartagena.'\n",
      "step 5 // scores = [0.958935558795929]\n",
      "running manifest on text_list of length 256, first element 'Our illuminated Seville map is inseparable with a Google Streetwise map of each city, enabling you to discover hidden gems in every corner of the city.OUR SEREA® Streetwise map enables an intuitive exploration of Sevilleâs streets, the central business district, the outskirts of major tourist attractions and places of interest such as Barranquilla, Corrientes, San Sebastin and Cartagena, each with its own distinct street address.'\n",
      "step 6 // scores = [0.959700345993042]\n",
      "running manifest on text_list of length 256, first element 'Our illuminated Seville map is inseparable with a Google Streetwise map of each city, enabling you to discover hidden gems hidden in every corner of the city.OUR SEREA® Streetwise map enables an intuitive exploration of Sevilleâs streets, the central business district, the outskirts of major tourist attractions and places of interest such as Barranquilla, Corrientes, San Sebastin and Cartagena.'\n",
      "step 7 // scores = [0.9620743989944458]\n",
      "running manifest on text_list of length 256, first element 'This gated Seville map is inseparably illuminated with a Streetwise map of each city, enabling you to discover hidden gems in every corner of the city.OUR SEADA® Streetwise map enables an equally intuitive and thorough exploration of Seville, Seville's central business districts and the outskirts of major cities and places of interest such as Barranquilla, Corrientes, San Sebastin and Cartagena.'\n",
      "step 8 // scores = [0.9636631011962891]\n",
      "running manifest on text_list of length 256, first element 'Our partially-aligned Seville map is inseparable with a Google Streetwise map of each city, enabling you to discover hidden gems in every corner of the city.OUR SEREA® Streetwise map demonstrates an intuitive exploration of Sevilleâs streets, the central business district, the outskirts of major tourist attractions and places of interest such as Barranquilla, Corrientes, San Sebastin and Cartagena hotels.'\n",
      "step 9 // scores = [0.9646514654159546]\n",
      "running manifest on text_list of length 256, first element 'This gated Seville map is indelibly illuminated with a Streetwise map of each city, enabling you to discover hidden gems in every corner of the city.OUR SEREA® Streetwise map demonstrates an intuitive exploration of Sevilleâs streets, the central business district, the outskirts of major tourist attractions and places of interest such as Barranquilla, Corrientes, San Sebastin and Cartagena.'\n",
      "step 10 // scores = [0.9644433856010437]\n",
      "running manifest on text_list of length 256, first element 'Our partially shaded Seville map is inseparable with a Google Streetwise map of each city, enabling you to discover hidden gems in every corner of the city.OUR SEREA® Streetswise map demonstrates an intuitive exploration of Sevilleâs streets, the central business district and the outskirts of major tourist attractions and places of interest such as Barranquilla, Corrientes, San Sebastin and Cartagena.'\n",
      "step 11 // scores = [0.9644496440887451]\n",
      "running manifest on text_list of length 256, first element 'Our partially shaded Seville map, inseparable with a Google Streetwise map of each city, enables you to discover hidden gems in every corner of the street.OUR SEREA® Streetwise map demonstrates an intuitive exploration of Sevilleâs streets, the central business district and the outskirts of major tourist attractions and places of interest such as Barranquilla, Corrientes, San Sebastin and Cartagena hotels.'\n",
      "step 12 // scores = [0.9647594094276428]\n",
      "running manifest on text_list of length 256, first element 'Our partially shaded Seville map, inseparable with a Google Streetwise map of each city, enables you to discover hidden gems in every corner of the city.OUR SEREA® Streetwise maps demonstrates an intuitive exploration of Sevilleâs streets, the central business district and the entrances of major tourist attractions and places of interest such as Barranquilla, Corrientes, San Sebastin and Taormina.'\n",
      "step 13 // scores = [0.9649444818496704]\n",
      "running manifest on text_list of length 256, first element 'our partially shaded Seville map, inseparable with a Google Streetwise map of each city, enables you to discover hidden gems in every corner of the street.OUR SEREA® Streetswise map demonstrates an intuitive exploration of Sevilleâs streets, the central business district and the outskirts of major tourist attractions and places of interest such as Barranquilla, Corrientes, San Sebastin and Cartagena hotels.'\n"
     ]
    },
    {
     "name": "stderr",
     "output_type": "stream",
     "text": [
      "generating from val:  67%|██████████████████████████████████████████████████▋                         | 2/3 [04:16<02:11, 131.97s/it]"
     ]
    },
    {
     "name": "stdout",
     "output_type": "stream",
     "text": [
      "step 14 // scores = [0.9654271006584167]\n",
      "running manifest on text_list of length 1, first element 'aaa coupons 32 save aaa is an american travel organization with an average of 32 coupons for members save $ aaa offers savings on a variety of products and services from aaa to car insurance aaa com offers coupons for car insurance and travel insurance not only saves money but also helps members save money on their car insurance and travel insurance'\n",
      "running manifest on text_list of length 16, first element 'aaa coupons 32 save aaa is an american travel organization with an average of 32 coupons for members save $ show more aaa offers savings on a variety of products and services from aaa to car insurance aaa com compiles coupons and codes for aaa not only offers discounts on aaa related products and services'\n",
      "step 0 // scores = [0.9736191630363464]\n",
      "running manifest on text_list of length 256, first element 'aaa coupons 32 save aaa is an american travel organization with an average of 32 coupons for members save $ show more aaa offers savings on a variety of products and services from automobile insurance to car insurance aaa com compiles coupons and codes for aaa not only helps members save money on their car insurance but also benefits their communities'\n",
      "step 1 // scores = [0.97604900598526]\n",
      "running manifest on text_list of length 256, first element 'aaa coupons 32 save aaa is an american travel organization with an average of 32 coupons for members save $ show more aaa offers savings on a variety of products and services from automobile insurance to car insurance aaa com compiles coupons and codes for aaa not only helps members save money but also benefits their communities'\n",
      "step 2 // scores = [0.9780445694923401]\n",
      "running manifest on text_list of length 256, first element 'aaa coupon codes 32 save aaa is an american travel organization with an average of 32 coupons for members save $ show more aaa offers savings on a variety of products and services from car insurance to insurance com aaa com compiles coupons and codes for aaa not only helps members save money on their automobile but also benefits their communities'\n",
      "step 3 // scores = [0.979684591293335]\n",
      "running manifest on text_list of length 256, first element 'aaa coupon codes 32 save aaa is an american travel organization with an average savings of $ 26 for members save $ show more aaa offers savings on a variety of products and services from car insurance to com aaa com compiles coupons and codes for aaa not only helps members save money on their automobile but also benefits their communities'\n",
      "step 4 // scores = [0.981240451335907]\n",
      "running manifest on text_list of length 256, first element 'aaa coupon codes 32 save aaa is an american travel organization with an average savings of $ 26 for members save $ show more aaa offers savings on a variety of products and services from car insuranceclub com aaa com compiles coupons and codes for aaa not only helps members save money on their automobile insurance but also benefits their communities'\n",
      "step 5 // scores = [0.9818625450134277]\n",
      "running manifest on text_list of length 256, first element 'aaa coupon codes 32 save aaa is an american travel organization with an average savings of $ 26 for members save $ show more aaa offers savings on a variety of products and services from car insurance to insuranceclub com aaa com compiles coupons and codes for aaa not only benefits aaa but also its communities and organizations'\n",
      "step 6 // scores = [0.9830301403999329]\n",
      "running manifest on text_list of length 256, first element 'aaa coupon codes 32 save aaa is an american travel organization with an average savings of $ 26 for members save $ show more aaa offers savings on a variety of products and services from car insuranceclub com the aaa com compiles coupons and codes for aaa not only benefits aaa but also its communities and businesses'\n",
      "step 7 // scores = [0.9833873510360718]\n",
      "running manifest on text_list of length 256, first element 'aaa coupon codes 32 save aaa is an american travel organization with an average savings of $ 26 for members save $ show more aaa offers discounts on a variety of products and services from car insuranceclub com the aaa com compiles coupons and codes for aaa not only benefits aaa but also its communities and businesses'\n",
      "step 8 // scores = [0.9839026927947998]\n",
      "running manifest on text_list of length 256, first element 'aaa coupon codes 32 coupons about aaa is an american travel organization with an average savings of $ 26 for members save $ show more aaa provides savings on a variety of products and services from car insuranceclub com the aaa com compiles coupons and codes for aaa not only benefits aaa but also its communities and businesses'\n",
      "step 9 // scores = [0.9841672778129578]\n",
      "running manifest on text_list of length 256, first element 'aaa coupon codes 32 coupons about aaa is an american travel organization with an average savings of $ 26 for members save $ show more aaa provides savings on a variety of products and services from car insuranceclub com the aaa com compiles coupons and codes for aaa not only because aaa benefits its communities and businesses but because it s not regulated'\n",
      "step 10 // scores = [0.9847482442855835]\n",
      "running manifest on text_list of length 256, first element 'aaa coupon codes 32 coupons about aaa is an us travel organization with an average savings of $ 26 for members save $ show more aaa provides savings on a variety of products and services from car insuranceclub com the aaa com compiles coupons and codes for aaa not only because aaa benefits its communities and businesses but because it s not regulated'\n",
      "step 11 // scores = [0.9852008819580078]\n",
      "running manifest on text_list of length 256, first element 'aaa coupon codes 32 coupons about aaa is an us travel organization with an average savings of $ 26 for members save $ show more aaa provides discounts on a variety of products and services from car insuranceclub com the aaa com compiles coupons and codes for aaa not only because aaa benefits its communities and businesses but because it s not regulated'\n",
      "step 12 // scores = [0.9853793382644653]\n",
      "running manifest on text_list of length 256, first element 'aaa coupon codes 32 coupons about aaa is an american travel organization with an average savings of $ 26 for members save $ show more aaa provides savings on a variety of convenient services and benefits from car insuranceclub com the aaa com compiles coupons and codes for aaa not only because aaa benefits its communities and businesses but because it s not regulated like most auto insurance companies'\n",
      "step 13 // scores = [0.9858543872833252]\n",
      "running manifest on text_list of length 256, first element 'aaa coupon codes 32 coupons about aaa is an us travel organization with an average savings of $ 26 for members save $ show more aaa provides savings on a variety of convenient services and benefits from car insuranceclub com the aaa com compiles coupons and codes for aaa not only because aaa benefits its communities and businesses but because it s not regulated like most auto insurance companies'\n"
     ]
    },
    {
     "name": "stderr",
     "output_type": "stream",
     "text": [
      "generating from val: 100%|████████████████████████████████████████████████████████████████████████████| 3/3 [06:21<00:00, 128.97s/it]"
     ]
    },
    {
     "name": "stdout",
     "output_type": "stream",
     "text": [
      "step 14 // scores = [0.9863578081130981]\n"
     ]
    },
    {
     "name": "stderr",
     "output_type": "stream",
     "text": [
      "                                                                                                                                     \r"
     ]
    },
    {
     "name": "stdout",
     "output_type": "stream",
     "text": [
      "[pred] [The use permit will require the submittal of a separate parking space for the proposed. use/location of existing buildings.] Driveway Floor Plan: Show entire floor plan, designated size window and submittal permit requirements for each ROOM DIMENSIONS ***.\n",
      "[true] *The use of the driveway as the required parking spaces will require a separate submittal for a Use Permit. [ ] Floor plan (dimensioned): Show overall building size, existing and proposed room locations, existing and. proposed new window(s)/door(s) size/location(s).\n",
      "\n",
      "\n",
      "\n",
      "[pred] Our partially shaded Seville map, inseparable with a Google Streetwise map of each city, enables you to discover hidden gems in every corner of the city.OUR SEREA® Streetwise maps demonstrates an intuitive exploration of Sevilleâs streets, its central business district and the entrances of major tourist attractions and places of interest such as Barranquilla, Corrientes, San Sebastin and Taormina, all conveniently accessible by car.\n",
      "[true] Our STREETWISE Seville Map enables you to explore each hidden corner of this enticing destination with a clearly defined map of the city, fully indexed and highlighted with hotels, parks and gardens, and places of interest. An inset of the center of Seville makes even the tiniest of alleyways navigable.rea maps of Cordoba, Grenada and Seville facilitate your entry into these three principal cities via auto, giving you the greatest freedom to experience all that is Southern Spain.\n",
      "\n",
      "\n",
      "\n",
      "[pred] aaa coupon codes 32 coupons about aaa is an us travel organization with an average saving of $ 26 for members save $ show more aaa provides savings on a variety of convenient services and benefits from car insuranceclub com the aaa com compiles coupons and codes for aaa not only because aaa benefits its communities and businesses but because it s not regulated like most auto insurance companies\n",
      "[true] aaa coupon codes about aaa save an average of $ 32 with 26 coupon codes deals for aaa com aaa is a not for profit organization that lists the automobile clubs in the united states and offers travel benefits and automobile insurance to its members members review the aaa positively for its convenient travel benefits pricing of services and insurance claim policies shop aaa com show more show less\n",
      "running manifest on text_list of length 3, first element '[The use permit will require the submittal of a separate parking space for the proposed. use/location of existing buildings.] Driveway Floor Plan: Show entire floor plan, designated size window and submittal permit requirements for each ROOM DIMENSIONS ***.'\n",
      "running manifest on text_list of length 3, first element '*The use of the driveway as the required parking spaces will require a separate submittal for a Use Permit. [ ] Floor plan (dimensioned): Show overall building size, existing and proposed room locations, existing and. proposed new window(s)/door(s) size/location(s).'\n"
     ]
    },
    {
     "data": {
      "text/plain": [
       "{'eval_loss': 2.9040629863739014,\n",
       " 'eval_pred_num_tokens': 87.0,\n",
       " 'eval_true_num_tokens': 90.66667175292969,\n",
       " 'eval_token_set_precision': 0.503451536643026,\n",
       " 'eval_token_set_recall': 0.5066804613974426,\n",
       " 'eval_token_set_f1': 0.5037486120364202,\n",
       " 'eval_bleu_score': 5.094652576154163,\n",
       " 'eval_meteor_score': 0.33658898846865704,\n",
       " 'eval_rouge_score': 0.5437952320136228,\n",
       " 'eval_exact_match': 0.0,\n",
       " 'eval_emb_cos_sim': 0.9785456657409668,\n",
       " 'eval_runtime': 387.5807,\n",
       " 'eval_samples_per_second': 0.008,\n",
       " 'eval_steps_per_second': 0.008}"
      ]
     },
     "execution_count": 12,
     "metadata": {},
     "output_type": "execute_result"
    }
   ],
   "source": [
    "corr_trainer.args.per_device_eval_batch_size = 1\n",
    "corr_trainer.return_best_hypothesis = True\n",
    "corr_trainer.num_gen_recursive_steps = 15\n",
    "corr_trainer.sequence_beam_width = 16\n",
    "corr_trainer.gen_kwargs = {\n",
    "    \"early_stopping\": False,\n",
    "    \"num_beams\": 1,\n",
    "    \"num_return_sequences\": 1,\n",
    "    \"do_sample\": False,\n",
    "    \"no_repeat_ngram_size\": 0,\n",
    "}\n",
    "corr_trainer.evaluate(\n",
    "    eval_dataset=inv_trainer.eval_dataset[\"msmarco\"].select(range(3))\n",
    ")"
   ]
  },
  {
   "cell_type": "code",
   "execution_count": 11,
   "id": "33c8e7d2-6736-4161-9bda-54e54c5a48d9",
   "metadata": {},
   "outputs": [
    {
     "name": "stdout",
     "output_type": "stream",
     "text": [
      "running manifest on text_list of length 1, first element '*The parking lot will require the use of a separate parking space for the proposed use of the. building. [District Floor Plan: Use of existing floor plan space, dimensions, and/or permit requirements for each. subfloor/space will be provided in the Submitting Documents.'\n",
      "running manifest on text_list of length 1, first element 'Our illuminated Seville map is encapsulated in a map of each of our cities, enabling you to discover the hidden gems of the city. Our enlightened Seville map also includes a map of the streets of the city centre, the central business district, the outskirts of the city center and the outskirts of the city center.e encourage you to take advantage of our easy-to-use, fully accessible and easy-to-use map of Seville, Valencia, Seville, and Seville.'\n",
      "running manifest on text_list of length 1, first element 'aaa coupons 32 save aaa is an american travel organization with an average of 32 coupons for members save $ aaa offers savings on a variety of products and services from aaa to car insurance aaa com offers coupons for car insurance and travel insurance not only saves money but also helps members save money on their car insurance and travel insurance'\n"
     ]
    },
    {
     "name": "stderr",
     "output_type": "stream",
     "text": [
      "generating from val:   0%|                                                                                     | 0/3 [00:00<?, ?it/s]"
     ]
    },
    {
     "name": "stdout",
     "output_type": "stream",
     "text": [
      "running manifest on text_list of length 1, first element '*The parking lot will require the use of a separate parking space for the proposed use of the. building. [District Floor Plan: Use of existing floor plan space, dimensions, and/or permit requirements for each. subfloor/space will be provided in the Submitting Documents.'\n",
      "running manifest on text_list of length 16, first element '*The parking lot will require the use of a separate parking space for the proposed use of the. building. [District Floor Plan: Show all existing floor plan entries, dimensions, and/or permit requirements for each. permitted use/space].'\n",
      "step 0 // scores = [-0.3870392441749573]\n",
      "running manifest on text_list of length 256, first element '*The parking lot will require the use of a separate parking space for the proposed use of the. building. [District Floor Plan: Show all existing floor plan entries, dimensions, and submittals for permit requirements for each. permitted use/space].'\n",
      "step 1 // scores = [-0.17207148671150208]\n",
      "running manifest on text_list of length 256, first element '*The parking permit will require the use of a separate parking space for the proposed use of the. building. [Driveway Floor Plan: Show all existing floor plan entries, dimensions, and/or permit requirements for each. SUMMARY/DIVISION PAGE].'\n",
      "step 2 // scores = [-0.14205525815486908]\n",
      "running manifest on text_list of length 256, first element '*The parking permit will require the use of a separate parking space for the proposed use of the. building. [Driveway Floor Plan: Show all existing floor plan entries, dimensions, and/or permit requirements for each. SUMMARY/DIVISION PAGE].'\n",
      "step 3 // scores = [-0.11117054522037506]\n",
      "running manifest on text_list of length 256, first element '*The parking permit will require the use of a separate parking space for the proposed use of the. building. [Driveway Floor Plan: Show all existing floor plan entries, dimensions, and subway permit requirements for each. SUMMARY/DIVIDED PAGE].'\n",
      "step 4 // scores = [-0.09898223727941513]\n",
      "running manifest on text_list of length 256, first element '*The parking permit will require the use of a separate parking space for the proposed use of the. building. [Driveway Entrance: Show all existing floor plan entries, dimensions, and subfloor permit requirements for each. SUITE/DIVISION PAGE].'\n",
      "step 5 // scores = [-0.09898223727941513]\n",
      "running manifest on text_list of length 256, first element '*The parking permit will require the use of a separate parking space for the proposed use of the. building. [Driveway Entrance: Show all existing floor plan entries, dimensions, and subfloor permit requirements for each. SUITE/DIVISION PAGE].'\n",
      "step 6 // scores = [-0.0880950540304184]\n",
      "running manifest on text_list of length 256, first element '*The parking permit will require the use of a separate parking space for the proposed. use of the building. [Driveway Entrance: Show all existing floor plan entries, sizes, and subfloor permit requirements for each. USE / DIMENSION PAGE].'\n",
      "step 7 // scores = [-0.06406291574239731]\n",
      "running manifest on text_list of length 256, first element '*The parking permit will require the use of a separate parking space for the proposed. use of the building. [Driveway Entrance: Show complete existing floor plan entries, sizes, and subfloor permit requirements for each. USE / DIMENSION PAGE].'\n",
      "step 8 // scores = [-0.06351757049560547]\n",
      "running manifest on text_list of length 256, first element '*The parking permit will require the use of a separate parking space for the proposed. use of the building. [Driveway Entrance: Show complete existing floor plan entries, sizes, and subfloor permit requirements for each. SIZES / DIMENSION PAGE].'\n",
      "step 9 // scores = [-0.049052901566028595]\n",
      "running manifest on text_list of length 256, first element '*The parking permit will require the provision of a separate parking space for the proposed. use of the building. [Driveway Entrance: Show complete existing floor plan entries, sizes, and subfloor permit requirements for each. SIZES / DIMENSION PAGE].'\n",
      "step 10 // scores = [-0.03995291516184807]\n",
      "running manifest on text_list of length 256, first element '*The parking permit will require the provision of a separate parking space for the proposed. use within the building. [Driveway Entrance: Show complete existing floor plan entries, sizes, and subfloor permit requirements for each. SIZES / DIMENSION PAGE].'\n",
      "step 11 // scores = [-0.03607185184955597]\n",
      "running manifest on text_list of length 256, first element '*The parking permit will require the provision of a separate parking space for the proposed. use within the building. [Driveway Entrance: Show complete existing floor plan entries, sizes, and subfloor permit requirements for each. SIZES / DIMENSIONS PAGE].'\n",
      "step 12 // scores = [-0.03606154024600983]\n",
      "running manifest on text_list of length 256, first element '*The parking permit will require the provision of a separate parking space for the proposed. use within the building. [Driveway Entrance: Show complete existing floor plan entries, sizes, and subfloor permit requirements for each. SIZES / DIMENSIONS PAGE].'\n",
      "step 13 // scores = [-0.02538355439901352]\n",
      "running manifest on text_list of length 256, first element '*The use permit will require the provision of a separate parking space for the proposed. use within the building. [Driveway Entrance: Show complete existing floor plan entries, sizes, and subfloor permit requirements for each. SIZES / DIMENSIONS PAGE].'\n"
     ]
    },
    {
     "name": "stderr",
     "output_type": "stream",
     "text": [
      "generating from val:  33%|█████████████████████████▎                                                  | 1/3 [01:52<03:44, 112.18s/it]"
     ]
    },
    {
     "name": "stdout",
     "output_type": "stream",
     "text": [
      "step 14 // scores = [-0.02538355439901352]\n",
      "running manifest on text_list of length 1, first element 'Our illuminated Seville map is encapsulated in a map of each of our cities, enabling you to discover the hidden gems of the city. Our enlightened Seville map also includes a map of the streets of the city centre, the central business district, the outskirts of the city center and the outskirts of the city center.e encourage you to take advantage of our easy-to-use, fully accessible and easy-to-use map of Seville, Valencia, Seville, and Seville.'\n",
      "running manifest on text_list of length 16, first element 'Our illuminated Seville map is encapsulated in a map of each of our cities, enabling you to discover hidden gems in every corner of the city.our SEGA® Streetwise map enables you to easily navigate the streets of the city centre, the central business district, the outskirts of the city center and places of interest such as Barranquilla, Cartagena, San Sebastin and Costa Rica.'\n",
      "step 0 // scores = [-0.6383910775184631]\n",
      "running manifest on text_list of length 256, first element 'Our illuminated Seville map is encapsulated in a map of each of these hidden gems, enabling you to discover hidden gems in every corner of the city.our SEGA® Streetwise map enables you to intuitively navigate the streets of the city centre, the central business district, the outskirts of the city center and places of interest such as Barranquilla, Cartagena, San Sebastin and Costa Rica.'\n",
      "step 1 // scores = [-0.3047592043876648]\n",
      "running manifest on text_list of length 256, first element 'Our illuminated Seville map is encapsulated in a map of each of these hidden gems, enabling you to discover hidden gems in every corner of the city.OUR SEGA® Streetwise map enables an intuitive and thorough exploration of Seville, Sevilleâs central business district, the outskirts of the city center and places of interest such as Barranquilla, San Sebastin, Playa del Carmen and Costa Ricaâs major cities.'\n",
      "step 2 // scores = [-0.25241708755493164]\n",
      "running manifest on text_list of length 256, first element 'Our illuminated Seville map is inseparable with a map of distinct corners of each city, enabling you to discover hidden gems in every corner of the city.OURSELAND® Streetwise map enables you to intuitively explore the streets of the city centre, the central business district, the outskirts of the city center and places of interest such as Barranquilla, San Sebastin, Playa del Carmen and Costa Ricaâs most famous landmarks.'\n",
      "step 3 // scores = [-0.2089935541152954]\n",
      "running manifest on text_list of length 256, first element 'Our illuminated Seville map is encapsulated in a map of each of these hidden gems, enabling you to discover hidden gems in every corner of the city.OURSELAND® Streetwise map enables an intuitive and thorough exploration of Seville, Sevilleâs central business district, the outskirts of major cities and places of interest such as Barranquilla, San Sebastin, Playa del Carmen and Valencia.'\n",
      "step 4 // scores = [-0.13810810446739197]\n",
      "running manifest on text_list of length 256, first element 'Our illuminated Seville map is encapsulated in a map of each of these hidden gems, enabling you to discover hidden gems in every corner of the city.OURSEWAY® Streetwise map enables an intuitive and thorough exploration of Seville, Sevilleâs central business district, the outskirts of major cities and places of interest such as Barranquilla, San Sebastin, Playa del Carmen and Valencia.'\n",
      "step 5 // scores = [-0.12105616182088852]\n",
      "running manifest on text_list of length 256, first element 'Our illuminated Seville map is entwined with a map of each of these hidden gems, enabling you to discover hidden gems in every corner of the city.OURSEWAY® Streetwise map enables an intuitive and thorough exploration of Seville, Sevilleâs central business district, the outskirts of major cities and places of interest such as Barranquilla, San Sebastin, Playa del Carmen and Valencia.'\n",
      "step 6 // scores = [-0.1089724525809288]\n",
      "running manifest on text_list of length 256, first element 'Our illuminated Seville map is indented with a map of each of these hidden gems, enabling you to discover hidden gems in every corner of the city.OURSEWAY® Streetwise map enables an intuitive and thorough exploration of Seville, Sevilleâs central business district and the outskirts of major cities and places of interest such as Barranquilla, San Sebastin, Playa del Carmen and Valencia.'\n",
      "step 7 // scores = [-0.1090800017118454]\n",
      "running manifest on text_list of length 256, first element 'Our illuminated Seville map is indented with a map of each of these hidden gems, enabling you to discover hidden gems in every corner of the city.OURSEWAY® Streetwise map enables an intuitive and thorough exploration of Seville, Sevilleâs central business district and the outskirts of major cities and places of interest such as Barranquilla, San Sebastin, Playa del Carmen and Valencia.'\n",
      "step 8 // scores = [-0.1090800017118454]\n",
      "running manifest on text_list of length 256, first element 'Our illuminated Seville map is indented with a map of each of these hidden gems, enabling you to discover hidden gems in every corner of the city.OURSEWAY® Streetwise map enables an intuitive and thorough exploration of Seville, Sevilleâs central business district and the outskirts of major cities and places of interest such as Barranquilla, San Sebastin, Playa del Carmen and Valencia.'\n",
      "step 9 // scores = [-0.1090800017118454]\n",
      "running manifest on text_list of length 256, first element 'Our illuminated Seville map is indented with a map of each of these hidden gems, enabling you to discover hidden gems in every corner of the city.OURSEWAY® Streetwise map enables an intuitive and thorough exploration of Seville, Sevilleâs central business district and the outskirts of major cities and places of interest such as Barranquilla, San Sebastin, Playa del Carmen and Valencia.'\n",
      "step 10 // scores = [-0.1090800017118454]\n",
      "running manifest on text_list of length 256, first element 'Our illuminated Seville map is indented with a map of each of these hidden gems, enabling you to discover hidden gems in every corner of the city.OURSEWAY® Streetwise map enables an intuitive and thorough exploration of Seville, Sevilleâs central business district and the outskirts of major cities and places of interest such as Barranquilla, San Sebastin, Playa del Carmen and Valencia.'\n",
      "step 11 // scores = [-0.1091746836900711]\n",
      "running manifest on text_list of length 256, first element 'Our illuminated Seville map is indented with a map of each of these hidden gems, enabling you to discover hidden gems in every corner of the city.OURSEWAY® Streetwise map enables an intuitive and thorough exploration of Seville, Sevilleâs central business district and the outskirts of major cities and places of interest such as Barranquilla, San Sebastin, Playa del Carmen and Valencia.'\n",
      "step 12 // scores = [-0.10894129425287247]\n",
      "running manifest on text_list of length 256, first element 'Our illuminated Seville map is indented with a map of each of these hidden gems, enabling you to discover hidden gems in every corner of the city.OURSEWAY® Streetwise map enables an intuitive and thorough exploration of Seville, Sevilleâs central business district and the outskirts of major cities and places of interest such as Barranquilla, San Sebastin, Playa del Carmen and Valencia.'\n",
      "step 13 // scores = [-0.1090800017118454]\n",
      "running manifest on text_list of length 256, first element 'Our illuminated Seville map is indented with a map of each of these hidden gems, enabling you to discover hidden gems in every corner of the city.OURSEWAY® Streetwise map enables an intuitive and thorough exploration of Seville, Sevilleâs central business district and the outskirts of major cities and places of interest such as Barranquilla, San Sebastin, Playa del Carmen and Valencia.'\n"
     ]
    },
    {
     "name": "stderr",
     "output_type": "stream",
     "text": [
      "generating from val:  67%|██████████████████████████████████████████████████▋                         | 2/3 [04:12<02:08, 128.96s/it]"
     ]
    },
    {
     "name": "stdout",
     "output_type": "stream",
     "text": [
      "step 14 // scores = [-0.1090800017118454]\n",
      "running manifest on text_list of length 1, first element 'aaa coupons 32 save aaa is an american travel organization with an average of 32 coupons for members save $ aaa offers savings on a variety of products and services from aaa to car insurance aaa com offers coupons for car insurance and travel insurance not only saves money but also helps members save money on their car insurance and travel insurance'\n",
      "running manifest on text_list of length 16, first element 'aaa coupons 32 save aaa is an american travel organization with an average of 32 coupons for members save $ show more aaa offers savings on a variety of products and services from discount codes for cars to car insurance aaa com compiles and analyzes aaa s coupons to help members save money'\n",
      "step 0 // scores = [-0.43447622656822205]\n",
      "running manifest on text_list of length 256, first element 'aaa coupons 32 save aaa is an american travel organization with an average of 32 coupons for members save $ show more aaa offers savings on a variety of products and services from discount codes for cars to car insurance aaa com compiles and analyzes aaa s coupons to help members save money'\n",
      "step 1 // scores = [-0.0926261693239212]\n",
      "running manifest on text_list of length 256, first element 'aaa coupons 32 save aaa is an american travel organization with an average of 32 coupons for members save $ show more aaa offers savings on a variety of products and services from discount codes for cars to car insurance aaa com compiles the most useful aaa website with more than 21 million reviews'\n",
      "step 2 // scores = [-0.08055135607719421]\n",
      "running manifest on text_list of length 256, first element 'aaa coupons 32 save aaa is an american travel organization with an average of 32 coupons for members save $ show more aaa offers savings on a variety of products and services from discount codes for cars to car insurance aaa com compiles the most useful aaa website with more than 21 million positive reviews'\n",
      "step 3 // scores = [-0.0644959956407547]\n",
      "running manifest on text_list of length 256, first element 'aaa coupons 32 save aaa is an american travel organization with an average of 32 coupons for members save $ show more aaa offers savings on a variety of products and services from discount codes for clubs to car insurance aaa com compiles the most useful aaa website with more than 21 comments'\n",
      "step 4 // scores = [-0.06053689494729042]\n",
      "running manifest on text_list of length 256, first element 'aaa coupons 32 save aaa is an american travel organization with an average of 32 coupons for its members save $ show more aaa offers savings on a variety of products and services from discount codes for clubs to car insurance aaa com compiles the most useful aaa website with more than 21 comments'\n",
      "step 5 // scores = [-0.05974150821566582]\n",
      "running manifest on text_list of length 256, first element 'aaa coupons 32 save aaa is an american travel organization with an average of 32 coupons for its members save $ show more aaa offers savings on a variety of products and services from discount codes for clubs to car insurance aaa com compiles the most useful aaa website with more than 21 comments'\n",
      "step 6 // scores = [-0.06124384328722954]\n",
      "running manifest on text_list of length 256, first element 'aaa coupons 32 save aaa is an american travel organization with an average of 32 coupons for its members save $ show more aaa offers savings on a variety of products and services from discount codes for clubs to car insurance aaa com compiles the most useful aaa website with more than 21 comments'\n",
      "step 7 // scores = [-0.06124384328722954]\n",
      "running manifest on text_list of length 256, first element 'aaa coupons 32 save aaa is an american travel organization with an average of 32 coupons for its members save $ show more aaa offers savings on a variety of products and services from discount codes for clubs to car insurance aaa com compiles the most useful aaa website with more than 21 comments'\n",
      "step 8 // scores = [-0.06124384328722954]\n",
      "running manifest on text_list of length 256, first element 'aaa coupons 32 save aaa is an american travel organization with an average of 32 coupons for its members save $ show more aaa offers savings on a variety of products and services from discount codes for clubs to car insurance aaa com compiles the most useful aaa website with more than 21 comments'\n",
      "step 9 // scores = [-0.06124384328722954]\n",
      "running manifest on text_list of length 256, first element 'aaa coupons 32 save aaa is an american travel organization with an average of 32 coupons for its members save $ show more aaa offers savings on a variety of products and services from discount codes for clubs to car insurance aaa com compiles the most useful aaa website with more than 21 comments'\n",
      "step 10 // scores = [-0.06124384328722954]\n",
      "running manifest on text_list of length 256, first element 'aaa coupons 32 save aaa is an american travel organization with an average of 32 coupons for its members save $ show more aaa offers savings on a variety of products and services from discount codes for clubs to car insurance aaa com compiles the most useful aaa website with more than 21 comments'\n",
      "step 11 // scores = [-0.06124384328722954]\n",
      "running manifest on text_list of length 256, first element 'aaa coupons 32 save aaa is an american travel organization with an average of 32 coupons for its members save $ show more aaa offers savings on a variety of products and services from discount codes for clubs to car insurance aaa com compiles the most useful aaa website with more than 21 comments'\n",
      "step 12 // scores = [-0.06124384328722954]\n",
      "running manifest on text_list of length 256, first element 'aaa coupons 32 save aaa is an american travel organization with an average of 32 coupons for its members save $ show more aaa offers savings on a variety of products and services from discount codes for clubs to car insurance aaa com compiles the most useful aaa website with more than 21 comments'\n",
      "step 13 // scores = [-0.06124384328722954]\n",
      "running manifest on text_list of length 256, first element 'aaa coupons 32 save aaa is an american travel organization with an average of 32 coupons for its members save $ show more aaa offers savings on a variety of products and services from discount codes for clubs to car insurance aaa com compiles the most useful aaa website with more than 21 comments'\n"
     ]
    },
    {
     "name": "stderr",
     "output_type": "stream",
     "text": [
      "generating from val: 100%|████████████████████████████████████████████████████████████████████████████| 3/3 [06:22<00:00, 129.42s/it]"
     ]
    },
    {
     "name": "stdout",
     "output_type": "stream",
     "text": [
      "step 14 // scores = [-0.06124384328722954]\n"
     ]
    },
    {
     "name": "stderr",
     "output_type": "stream",
     "text": [
      "                                                                                                                                     \r"
     ]
    },
    {
     "name": "stdout",
     "output_type": "stream",
     "text": [
      "[pred] *The use permit will require the provision of a separate parking space for the proposed. use within the building. [Driveway Entrance: Show complete existing floor plan entries, sizes, and subfloor permit requirements for each. SIZES / DIMENSIONS PAGE].\n",
      "[true] *The use of the driveway as the required parking spaces will require a separate submittal for a Use Permit. [ ] Floor plan (dimensioned): Show overall building size, existing and proposed room locations, existing and. proposed new window(s)/door(s) size/location(s).\n",
      "\n",
      "\n",
      "\n",
      "[pred] Our illuminated Seville map is indented with a map of each of these hidden gems, enabling you to discover hidden gems in every corner of the city.OURSEWAY® Streetwise map enables an intuitive and thorough exploration of Seville, Sevilleâs central business district and the outskirts of major cities and places of interest such as Barranquilla, San Sebastin, Playa del Carmen and Valencia.\n",
      "[true] Our STREETWISE Seville Map enables you to explore each hidden corner of this enticing destination with a clearly defined map of the city, fully indexed and highlighted with hotels, parks and gardens, and places of interest. An inset of the center of Seville makes even the tiniest of alleyways navigable.rea maps of Cordoba, Grenada and Seville facilitate your entry into these three principal cities via auto, giving you the greatest freedom to experience all that is Southern Spain.\n",
      "\n",
      "\n",
      "\n",
      "[pred] aaa coupons 32 save aaa is an american travel organization with an average of 32 coupons for its members save $ show more aaa offers savings on a variety of products and services from discount codes for clubs to car insurance aaa com compiles the most useful aaa website with more than 21 comments\n",
      "[true] aaa coupon codes about aaa save an average of $ 32 with 26 coupon codes deals for aaa com aaa is a not for profit organization that lists the automobile clubs in the united states and offers travel benefits and automobile insurance to its members members review the aaa positively for its convenient travel benefits pricing of services and insurance claim policies shop aaa com show more show less\n",
      "running manifest on text_list of length 3, first element '*The use permit will require the provision of a separate parking space for the proposed. use within the building. [Driveway Entrance: Show complete existing floor plan entries, sizes, and subfloor permit requirements for each. SIZES / DIMENSIONS PAGE].'\n",
      "running manifest on text_list of length 3, first element '*The use of the driveway as the required parking spaces will require a separate submittal for a Use Permit. [ ] Floor plan (dimensioned): Show overall building size, existing and proposed room locations, existing and. proposed new window(s)/door(s) size/location(s).'\n"
     ]
    },
    {
     "data": {
      "text/plain": [
       "{'eval_loss': 2.9030206203460693,\n",
       " 'eval_pred_num_tokens': 78.0,\n",
       " 'eval_true_num_tokens': 90.66667175292969,\n",
       " 'eval_token_set_precision': 0.44884160756501185,\n",
       " 'eval_token_set_recall': 0.4877606402126658,\n",
       " 'eval_token_set_f1': 0.46697996697996697,\n",
       " 'eval_bleu_score': 4.68626594783657,\n",
       " 'eval_meteor_score': 0.3216281122581794,\n",
       " 'eval_rouge_score': 0.507638501090583,\n",
       " 'eval_exact_match': 0.0,\n",
       " 'eval_emb_cos_sim': 0.9621677398681641,\n",
       " 'eval_runtime': 388.3651,\n",
       " 'eval_samples_per_second': 0.008,\n",
       " 'eval_steps_per_second': 0.008}"
      ]
     },
     "execution_count": 11,
     "metadata": {},
     "output_type": "execute_result"
    }
   ],
   "source": [
    "corr_trainer.args.per_device_eval_batch_size = 1\n",
    "corr_trainer.return_best_hypothesis = False\n",
    "corr_trainer.num_gen_recursive_steps = 15\n",
    "corr_trainer.sequence_beam_width = 16\n",
    "corr_trainer.gen_kwargs = {\n",
    "    \"early_stopping\": False,\n",
    "    \"num_beams\": 1,\n",
    "    \"num_return_sequences\": 1,\n",
    "    \"do_sample\": False,\n",
    "    \"no_repeat_ngram_size\": 0,\n",
    "}\n",
    "corr_trainer.evaluate(\n",
    "    eval_dataset=inv_trainer.eval_dataset[\"msmarco\"].select(range(3))\n",
    ")"
   ]
  },
  {
   "cell_type": "code",
   "execution_count": 4,
   "id": "15c62298-e4c3-41ab-866f-ec05d66e6537",
   "metadata": {},
   "outputs": [
    {
     "name": "stdout",
     "output_type": "stream",
     "text": [
      "running manifest on text_list of length 1, first element '*The parking lot will require the use of a separate parking space for the proposed use of the. building. [District Floor Plan: Use of existing floor plan space, dimensions, and/or permit requirements for each. subfloor/space will be provided in the Submitting Documents.'\n",
      "running manifest on text_list of length 1, first element 'Our illuminated Seville map is encapsulated in a map of each of our cities, enabling you to discover the hidden gems of the city. Our enlightened Seville map also includes a map of the streets of the city centre, the central business district, the outskirts of the city center and the outskirts of the city center.e encourage you to take advantage of our easy-to-use, fully accessible and easy-to-use map of Seville, Valencia, Seville, and Seville.'\n",
      "running manifest on text_list of length 1, first element 'aaa coupons 32 save aaa is an american travel organization with an average of 32 coupons for members save $ aaa offers savings on a variety of products and services from aaa to car insurance aaa com offers coupons for car insurance and travel insurance not only saves money but also helps members save money on their car insurance and travel insurance'\n"
     ]
    },
    {
     "name": "stderr",
     "output_type": "stream",
     "text": [
      "generating from val:   0%|                                                                                     | 0/3 [00:00<?, ?it/s]"
     ]
    },
    {
     "name": "stdout",
     "output_type": "stream",
     "text": [
      "running manifest on text_list of length 1, first element '*The parking lot will require the use of a separate parking space for the proposed use of the. building. [District Floor Plan: Use of existing floor plan space, dimensions, and/or permit requirements for each. subfloor/space will be provided in the Submitting Documents.'\n",
      "running manifest on text_list of length 4, first element '*The parking lot will require the use of a separate parking space for the proposed use of the. building. [District Floor Plan: Use of existing floor plan space, dimensions, and/or permit requirements for each. subfloor/space will be provided in the Submit Fees.'\n",
      "running manifest on text_list of length 16, first element '*The parking lot will require a separate entrance/exit for the proposed use of the. building. [District Floor Plan: Use of existing floor plan space, dimensions, and/or permit requirements for each. subfloor/space will be provided in the Submit Fees.'\n",
      "running manifest on text_list of length 16, first element '*The parking lot will require a separate entrance/exit for the proposed use of the. building. [District Floor Plan: Use of existing floor plan space, dimensions, and/or permit requirements for each. subfloor/space will be provided in the Show Fees section.'\n",
      "running manifest on text_list of length 16, first element '*The parking lot will require a separate entrance/exit for the proposed use of the. building. [District Floor Plan: Use of existing floor plan space, dimensions, and/or permit requirements for each. subfloor/space will be provided in the Show Fees section.'\n",
      "running manifest on text_list of length 16, first element '*The parking lot will require a separate entrance/exit for the proposed use of the. building. [District Floor Plan: Use of existing floor plan space, dimensions, and/or permit requirements for each. subfloor/space will be provided in the Show Fees column.'\n",
      "running manifest on text_list of length 16, first element '*The parking lot will require a separate entrance/exit for the proposed use of the. building. [District Floor Plan: Use of existing floor plan space, dimensions, and/or permit requirements for each. subfloor/space will be provided in the Show Fees column.].'\n",
      "running manifest on text_list of length 16, first element '*The parking lot will require a separate entrance/exit for the proposed use of the. building. [District Floor Plan: Use of existing floor plan space, dimensions, and/or permit requirements for each. subfloor/space will be provided in the Show Fees column.].'\n",
      "running manifest on text_list of length 16, first element '*The parking lot will require a separate entrance/exit for the proposed use of the. building. [District Floor Plan: Use of existing floor plan space, dimensions, and/or permit requirements for each. subfloor/space will be provided in the Show Fees column.].'\n",
      "running manifest on text_list of length 16, first element '*The parking lot will require a separate entrance/exit for the proposed use of the. building. [District Floor Plan: Use of existing floor plan space, dimensions, and/or permit requirements for each. subfloor/space will be provided in the Show Fees column.].'\n",
      "running manifest on text_list of length 16, first element '*The parking lot will require a separate entrance/exit for the proposed use of the. building. [District Floor Plan: Use of existing floor plan space, dimensions, and/or permit requirements for each. subfloor/space will be provided in the Show Fees column.].'\n",
      "running manifest on text_list of length 16, first element '*The parking lot will require a separate entrance/exit for the proposed use of the. building. [District Floor Plan: Use of existing floor plan space, dimensions, and/or permit requirements for each. subfloor/space will be provided in the Show Fees column.].'\n",
      "running manifest on text_list of length 16, first element '*The parking lot will require a separate entrance/exit for the proposed use of the. building. [District Floor Plan: Use of existing floor plan space, dimensions, and/or permit requirements for each. subfloor/space will be provided in the Show Fees column.].'\n",
      "running manifest on text_list of length 16, first element '*The parking lot will require a separate entrance/exit for the proposed use of the. building. [District Floor Plan: Use of existing floor plan space, dimensions, and/or permit requirements for each. subfloor/space will be provided in the Show Fees column.].'\n",
      "running manifest on text_list of length 16, first element '*The parking lot will require a separate entrance/exit for the proposed use of the. building. [District Floor Plan: Use of existing floor plan space, dimensions, and/or permit requirements for each. subfloor/space will be provided in the Show Fees column.].'\n",
      "running manifest on text_list of length 16, first element '*The parking lot will require a separate entrance/exit for the proposed use of the. building. [District Floor Plan: Use of existing floor plan space, dimensions, and/or permit requirements for each. subfloor/space will be provided in the Show Fees column.].'\n",
      "running manifest on text_list of length 16, first element '*The parking lot will require a separate entrance/exit for the proposed use of the. building. [District Floor Plan: Use of existing floor plan space, dimensions, and/or permit requirements for each. subfloor/space will be provided in the Show Fees column.].'\n",
      "running manifest on text_list of length 16, first element '*The parking lot will require a separate entrance/exit for the proposed use of the. building. [District Floor Plan: Use of existing floor plan space, dimensions, and/or permit requirements for each. subfloor/space will be provided in the Show Fees column.].'\n",
      "running manifest on text_list of length 16, first element '*The parking lot will require a separate entrance/exit for the proposed use of the. building. [District Floor Plan: Use of existing floor plan space, dimensions, and/or permit requirements for each. subfloor/space will be provided in the Show Fees column.].'\n",
      "running manifest on text_list of length 16, first element '*The parking lot will require a separate entrance/exit for the proposed use of the. building. [District Floor Plan: Use of existing floor plan space, dimensions, and/or permit requirements for each. subfloor/space will be provided in the Show Fees column.].'\n",
      "running manifest on text_list of length 16, first element '*The parking lot will require a separate entrance/exit for the proposed use of the. building. [District Floor Plan: Use of existing floor plan space, dimensions, and/or permit requirements for each. subfloor/space will be provided in the Show Fees column.].'\n",
      "running manifest on text_list of length 16, first element '*The parking lot will require a separate entrance/exit for the proposed use of the. building. [District Floor Plan: Use of existing floor plan space, dimensions, and/or permit requirements for each. subfloor/space will be provided in the Show Fees column.].'\n",
      "running manifest on text_list of length 16, first element '*The parking lot will require a separate entrance/exit for the proposed use of the. building. [District Floor Plan: Use of existing floor plan space, dimensions, and/or permit requirements for each. subfloor/space will be provided in the Show Fees column.].'\n",
      "running manifest on text_list of length 16, first element '*The parking lot will require a separate entrance/exit for the proposed use of the. building. [District Floor Plan: Use of existing floor plan space, dimensions, and/or permit requirements for each. subfloor/space will be provided in the Show Fees column.].'\n",
      "running manifest on text_list of length 16, first element '*The parking lot will require a separate entrance/exit for the proposed use of the. building. [District Floor Plan: Use of existing floor plan space, dimensions, and/or permit requirements for each. subfloor/space will be provided in the Show Fees column.].'\n",
      "running manifest on text_list of length 16, first element '*The parking lot will require a separate entrance/exit for the proposed use of the. building. [District Floor Plan: Use of existing floor plan space, dimensions, and/or permit requirements for each. subfloor/space will be provided in the Show Fees column.].'\n"
     ]
    },
    {
     "name": "stderr",
     "output_type": "stream",
     "text": [
      "generating from val:  33%|█████████████████████████▋                                                   | 1/3 [00:46<01:32, 46.29s/it]"
     ]
    },
    {
     "name": "stdout",
     "output_type": "stream",
     "text": [
      "running manifest on text_list of length 1, first element 'Our illuminated Seville map is encapsulated in a map of each of our cities, enabling you to discover the hidden gems of the city. Our enlightened Seville map also includes a map of the streets of the city centre, the central business district, the outskirts of the city center and the outskirts of the city center.e encourage you to take advantage of our easy-to-use, fully accessible and easy-to-use map of Seville, Valencia, Seville, and Seville.'\n",
      "running manifest on text_list of length 4, first element 'Our illuminated Seville map is encapsulated in a map of each of our cities, enabling you to discover the hidden gems of the city.OUR SEVENTH GAROUND, Sevilleâs most prominent street corner, and Sevilleâs central business district are clearly encapsulated in an easy-to-access map of every street corner. This feature also allows you to book hotels, restaurants, resorts and hotels in a convenient location.'\n",
      "running manifest on text_list of length 16, first element 'Our illuminated Seville map is encapsulated in a map of each hidden street corner, enabling you to discover the hidden gems of the city.OUR SEVISA GAROUND, Sevilleâs most prominent street corners, and Sevilleâs central business districts are clearly encapsulated in an easy-to-access map of every street corner. This feature also allows you to book hotels, restaurants, resorts and hotels in a convenient location.'\n",
      "running manifest on text_list of length 16, first element 'Our illuminated Seville map is encapsulated in a map of every street corner, enabling you to discover the hidden gems of the city.OUR SEVISA GAROUND, Sevilleâs most prominent street corners, and Sevilleâs central business districts are clearly encapsulated in an easy-to-access map of every street corner. This feature also allows you to book hotels, restaurants, resorts and attractions in advance.'\n",
      "running manifest on text_list of length 16, first element 'Our illuminated Seville map is encapsulated in a map of each hidden street corner, enabling you to discover the hidden gems of the city.OUR SEVISA GAROUND, Sevilleâs most prominent street corners, and Sevilleâs central business districts are clearly encapsulated in an easy-to-access map of every street corner. This feature also allows you to book hotels, restaurants and resorts in a location of your choice.'\n",
      "running manifest on text_list of length 16, first element 'Our illuminated Seville map is encapsulated in a map of each hidden street corner, enabling you to discover the hidden gems of the city.OUR SEVISA GAROUND, Sevilleâs most prominent street corners, and Sevilleâs central business districts are clearly encapsulated in an easy-to-access map of every street corner. This feature also allows you to book hotels, restaurants and resorts in a location of your choice.'\n",
      "running manifest on text_list of length 16, first element 'Our illuminated Seville map is encapsulated in a map of each hidden street corner, enabling you to discover the hidden gems of the city.OUR SEVISA GAROUND, Sevilleâs most prominent street corners, and Sevilleâs central business districts are clearly encapsulated in an easy-to-access map of every street corner. This feature also allows you to book hotels, restaurants and resorts in a location of your choice.'\n",
      "running manifest on text_list of length 16, first element 'Our illuminated Seville map is encapsulated in a map of each hidden street corner, enabling you to discover the hidden gems of the city.OUR SEVISA GAROUND, Sevilleâs most prominent street corners, and Sevilleâs central business districts are clearly encapsulated in an easy-to-access map of every street corner. This feature also allows you to book hotels, restaurants and resorts in a location of your choice.'\n",
      "running manifest on text_list of length 16, first element 'Our illuminated Seville map is encapsulated in a map of each hidden street corner, enabling you to discover the hidden gems of the city.OUR SEVISA GAROUND, Sevilleâs most prominent street corners, and Sevilleâs central business districts are clearly encapsulated in an easy-to-access map of every street corner. This feature also allows you to book hotels, restaurants and resorts in a location of your choice.'\n",
      "running manifest on text_list of length 16, first element 'Our illuminated Seville map is encapsulated in a map of each hidden street corner, enabling you to discover the hidden gems of the city.OUR SEVISA GAROUND, Sevilleâs most prominent street corners, and Sevilleâs central business districts are clearly encapsulated in an easy-to-access map of every street corner. This feature also allows you to book hotels, restaurants and resorts in a location of your choice.'\n",
      "running manifest on text_list of length 16, first element 'Our illuminated Seville map is encapsulated in a map of each hidden street corner, enabling you to discover the hidden gems of the city.OUR SEVISA GAROUND, Sevilleâs most prominent street corners, and Sevilleâs central business districts are clearly encapsulated in an easy-to-access map of every street corner. This feature also allows you to book hotels, restaurants and resorts in a location of your choosing.'\n",
      "running manifest on text_list of length 16, first element 'Our illuminated Seville map is encapsulated in a map of each hidden street corner, enabling you to discover the hidden gems of the city.OUR SEVISA GAROUND, Sevilleâs most prominent street corners, and Sevilleâs central business districts are clearly encapsulated in an easy-to-access map of every street corner. This feature also allows you to book hotels, restaurants and resorts in a location of your choice.'\n",
      "running manifest on text_list of length 16, first element 'Our illuminated Seville map is encapsulated in a map of each hidden street corner, enabling you to discover the hidden gems of the city.OUR SEVISA GAROUND, Sevilleâs most prominent street corners, and Sevilleâs central business districts are clearly encapsulated in an easy-to-access map of every street corner. This feature also allows you to book hotels, restaurants and resorts in a location of your choice.'\n",
      "running manifest on text_list of length 16, first element 'Our illuminated Seville map is encapsulated in a map of each hidden street corner, enabling you to discover the hidden gems of the city.OUR SEVISA GAROUND, Sevilleâs most prominent street corners, and Sevilleâs central business districts are clearly encapsulated in an easy-to-access map of every street corner. This feature also allows you to book hotels, restaurants and resorts in a location of your choice.'\n",
      "running manifest on text_list of length 16, first element 'Our illuminated Seville map is encapsulated in a map of each hidden street corner, enabling you to discover the hidden gems of the city.OUR SEVISA GAROUND, Sevilleâs most prominent street corners, and Sevilleâs central business districts are clearly encapsulated in an easy-to-access map of every street corner. This feature also allows you to book hotels, restaurants and resorts in a location of your choice.'\n",
      "running manifest on text_list of length 16, first element 'Our illuminated Seville map is encapsulated in a map of each hidden street corner, enabling you to discover the hidden gems of the city.OUR SEVISA GAROUND, Sevilleâs most prominent street corners, and Sevilleâs central business districts are clearly encapsulated in an easy-to-access map of every street corner. This feature also allows you to book hotels, restaurants and resorts in a location of your choice.'\n",
      "running manifest on text_list of length 16, first element 'Our illuminated Seville map is encapsulated in a map of each hidden street corner, enabling you to discover the hidden gems of the city.OUR SEVISA GAROUND, Sevilleâs most prominent street corners, and Sevilleâs central business districts are clearly encapsulated in an easy-to-access map of every street corner. This feature also allows you to book hotels, restaurants and resorts in a location of your choice.'\n",
      "running manifest on text_list of length 16, first element 'Our illuminated Seville map is encapsulated in a map of each hidden street corner, enabling you to discover the hidden gems of the city.OUR SEVISA GAROUND, Sevilleâs most prominent street corners, and Sevilleâs central business districts are clearly encapsulated in an easy-to-access map of every street corner. This feature also allows you to book hotels, restaurants and resorts in a location of your choice.'\n",
      "running manifest on text_list of length 16, first element 'Our illuminated Seville map is encapsulated in a map of each hidden street corner, enabling you to discover the hidden gems of the city.OUR SEVISA GAROUND, Sevilleâs most prominent street corners, and Sevilleâs central business districts are clearly encapsulated in an easy-to-access map of every street corner. This feature also allows you to book hotels, restaurants and resorts in a location of your choice.'\n",
      "running manifest on text_list of length 16, first element 'Our illuminated Seville map is encapsulated in a map of each hidden street corner, enabling you to discover the hidden gems of the city.OUR SEVISA GAROUND, Sevilleâs most prominent street corners, and Sevilleâs central business districts are clearly encapsulated in an easy-to-access map of every street corner. This feature also allows you to book hotels, restaurants and resorts in a location of your choice.'\n",
      "running manifest on text_list of length 16, first element 'Our illuminated Seville map is encapsulated in a map of each hidden street corner, enabling you to discover the hidden gems of the city.OUR SEVISA GAROUND, Sevilleâs most prominent street corners, and Sevilleâs central business districts are clearly encapsulated in an easy-to-access map of every street corner. This feature also allows you to book hotels, restaurants and resorts in a location of your choice.'\n",
      "running manifest on text_list of length 16, first element 'Our illuminated Seville map is encapsulated in a map of each hidden street corner, enabling you to discover the hidden gems of the city.OUR SEVISA GAROUND, Sevilleâs most prominent street corners, and Sevilleâs central business districts are clearly encapsulated in an easy-to-access map of every street corner. This feature also allows you to book hotels, restaurants and resorts in a location of your choice.'\n",
      "running manifest on text_list of length 16, first element 'Our illuminated Seville map is encapsulated in a map of each hidden street corner, enabling you to discover the hidden gems of the city.OUR SEVISA GAROUND, Sevilleâs most prominent street corners, and Sevilleâs central business districts are clearly encapsulated in an easy-to-access map of every street corner. This feature also allows you to book hotels, restaurants and resorts in a location of your choice.'\n",
      "running manifest on text_list of length 16, first element 'Our illuminated Seville map is encapsulated in a map of each hidden street corner, enabling you to discover the hidden gems of the city.OUR SEVISA GAROUND, Sevilleâs most prominent street corners, and Sevilleâs central business districts are clearly encapsulated in an easy-to-access map of every street corner. This feature also allows you to book hotels, restaurants and resorts in a location of your choice.'\n",
      "running manifest on text_list of length 16, first element 'Our illuminated Seville map is encapsulated in a map of each hidden street corner, enabling you to discover the hidden gems of the city.OUR SEVISA GAROUND, Sevilleâs most prominent street corners, and Sevilleâs central business districts are clearly encapsulated in an easy-to-access map of every street corner. This feature also allows you to book hotels, restaurants and resorts in a location of your choice.'\n",
      "running manifest on text_list of length 16, first element 'Our illuminated Seville map is encapsulated in a map of each hidden street corner, enabling you to discover the hidden gems of the city.OUR SEVISA GAROUND, Sevilleâs most prominent street corners, and Sevilleâs central business districts are clearly encapsulated in an easy-to-access map of every street corner. This feature also allows you to book hotels, restaurants and resorts in a location of your choice.'\n"
     ]
    },
    {
     "name": "stderr",
     "output_type": "stream",
     "text": [
      "generating from val:  67%|███████████████████████████████████████████████████▎                         | 2/3 [01:40<00:50, 50.77s/it]"
     ]
    },
    {
     "name": "stdout",
     "output_type": "stream",
     "text": [
      "running manifest on text_list of length 1, first element 'aaa coupons 32 save aaa is an american travel organization with an average of 32 coupons for members save $ aaa offers savings on a variety of products and services from aaa to car insurance aaa com offers coupons for car insurance and travel insurance not only saves money but also helps members save money on their car insurance and travel insurance'\n",
      "running manifest on text_list of length 4, first element 'aaa coupons 32 save aaa is an american not for profit organization with an average of 32 coupons for members save $ aaa offers savings on a variety of products and services from aaa codes to car insurance aaa com displays coupons for aaa to help members save more'\n",
      "running manifest on text_list of length 16, first element 'aaa coupons 32 save aaa is an american not for profit organization with an average of 32 coupons for members save about $ aaa offers savings on a variety of products and services from travel benefits to travel codes to car insurance aaa com displays coupons for aaa to help members save more'\n",
      "running manifest on text_list of length 16, first element 'aaa coupons 32 save aaa is an american not for profit organization with an average of 32 coupons for members save $ aaa offers savings on a variety of products and services from travel deals to benefits codes to car insurance aaa com displays coupons for aaa to help members save more about aaa'\n",
      "running manifest on text_list of length 16, first element 'aaa coupons 32 save aaa is an american not for profit organization with an average of 32 coupons for members save about $ aaa offers savings on a variety of products and services from travel benefits to travel codes to car insurance aaa com displays coupons for aaa to help members save more'\n",
      "running manifest on text_list of length 16, first element 'aaa coupons 32 save aaa is an american not for profit organization with an average of 32 coupons for members save about $ aaa offers savings on a variety of products and services from travel benefits to discount codes to car insurance aaa com displays coupons for aaa to help members save more'\n",
      "running manifest on text_list of length 16, first element 'aaa coupons 32 save aaa is an american not for profit organization with an average of 26 coupons for members save about $ aaa offers savings on a variety of products and services from travel benefits to discount codes to car insurance aaa com displays coupons for aaa to help members save more'\n",
      "running manifest on text_list of length 16, first element 'aaa coupons 32 save aaa is an american not for profit organization with an average of 26 coupons for members save about $ aaa offers savings on aaa related products and services from travel benefits to discount codes to car insurance aaa com displays coupons for aaa to help members save more'\n",
      "running manifest on text_list of length 16, first element 'aaa coupons 32 save aaa is an american not for profit organization with an average of 26 coupons for members save about $ aaa offers savings on aaa related goods and services from travel benefits to discount codes to car insurance aaa com displays coupons for aaa to help members save more'\n",
      "running manifest on text_list of length 16, first element 'aaa coupons 32 save aaa is an american not for profit organization with an average of 26 coupons for members save about $ aaa offers savings on aaa related goods and services from travel benefits to discount codes to car insurance aaa com displays coupons for aaa to help members save more'\n",
      "running manifest on text_list of length 16, first element 'aaa coupons 32 save aaa is an american not for profit organization with an average of 26 coupons for members save about $ aaa offers savings on aaa related goods and services from travel benefits to discount codes to car insurance aaa com displays coupons for aaa to help members save more'\n",
      "running manifest on text_list of length 16, first element 'aaa coupons 32 save aaa is an american not for profit organization with an average of 26 coupons for members save about $ aaa offers savings on aaa related goods and services from travel benefits to discount codes to car insurance aaa com displays coupons for aaa to help members save more'\n",
      "running manifest on text_list of length 16, first element 'aaa coupons 32 save aaa is an american not for profit organization with an average of 26 coupons for members save about $ aaa offers savings on aaa related goods and services from travel benefits to discount codes to car insurance aaa com displays coupons for aaa to help members save more'\n",
      "running manifest on text_list of length 16, first element 'aaa coupons 32 save aaa is an american not for profit organization with an average of 26 coupons for members save about $ aaa offers savings on aaa related goods and services from travel benefits to discount codes to car insurance aaa com displays coupons for aaa to help members save more'\n",
      "running manifest on text_list of length 16, first element 'aaa coupons 32 save aaa is an american not for profit organization with an average of 26 coupons for members save about $ aaa offers savings on aaa related goods and services from travel benefits to discount codes to car insurance aaa com displays coupons for aaa to help members save more'\n",
      "running manifest on text_list of length 16, first element 'aaa coupons 32 save aaa is an american not for profit organization with an average of 26 coupons for members save about $ aaa offers savings on aaa related goods and services from travel benefits to discount codes to car insurance aaa com displays coupons for aaa to help members save more'\n",
      "running manifest on text_list of length 16, first element 'aaa coupons 32 save aaa is an american not for profit organization with an average of 26 coupons for members save about $ aaa offers savings on aaa related goods and services from travel benefits to discount codes to car insurance aaa com displays coupons for aaa to help members save more'\n",
      "running manifest on text_list of length 16, first element 'aaa coupons 32 save aaa is an american not for profit organization with an average of 26 coupons for members save about $ aaa offers savings on aaa related goods and services from travel benefits to discount codes to car insurance aaa com displays coupons for aaa to help members save more'\n",
      "running manifest on text_list of length 16, first element 'aaa coupons 32 save aaa is an american not for profit organization with an average of 26 coupons for members save about $ aaa offers savings on aaa related goods and services from travel benefits to discount codes to car insurance aaa com displays coupons for aaa to help members save more'\n",
      "running manifest on text_list of length 16, first element 'aaa coupons 32 save aaa is an american not for profit organization with an average of 26 coupons for members save about $ aaa offers savings on aaa related goods and services from travel benefits to discount codes to car insurance aaa com displays coupons for aaa to help members save more'\n",
      "running manifest on text_list of length 16, first element 'aaa coupons 32 save aaa is an american not for profit organization with an average of 26 coupons for members save about $ aaa offers savings on aaa related goods and services from travel benefits to discount codes to car insurance aaa com displays coupons for aaa to help members save more'\n",
      "running manifest on text_list of length 16, first element 'aaa coupons 32 save aaa is an american not for profit organization with an average of 26 coupons for members save about $ aaa offers savings on aaa related goods and services from travel benefits to discount codes to car insurance aaa com displays coupons for aaa to help members save more'\n",
      "running manifest on text_list of length 16, first element 'aaa coupons 32 save aaa is an american not for profit organization with an average of 26 coupons for members save about $ aaa offers savings on aaa related goods and services from travel benefits to discount codes to car insurance aaa com displays coupons for aaa to help members save more'\n",
      "running manifest on text_list of length 16, first element 'aaa coupons 32 save aaa is an american not for profit organization with an average of 26 coupons for members save about $ aaa offers savings on aaa related goods and services from travel benefits to discount codes to car insurance aaa com displays coupons for aaa to help members save more'\n",
      "running manifest on text_list of length 16, first element 'aaa coupons 32 save aaa is an american not for profit organization with an average of 26 coupons for members save about $ aaa offers savings on aaa related goods and services from travel benefits to discount codes to car insurance aaa com displays coupons for aaa to help members save more'\n",
      "running manifest on text_list of length 16, first element 'aaa coupons 32 save aaa is an american not for profit organization with an average of 26 coupons for members save about $ aaa offers savings on aaa related goods and services from travel benefits to discount codes to car insurance aaa com displays coupons for aaa to help members save more'\n"
     ]
    },
    {
     "name": "stderr",
     "output_type": "stream",
     "text": [
      "                                                                                                                                     \r"
     ]
    },
    {
     "name": "stdout",
     "output_type": "stream",
     "text": [
      "[pred] *The parking lot will require a separate entrance/exit for the proposed use of the. building. [District Floor Plan: Use of existing floor plan space, dimensions, and/or permit requirements for each. subfloor/space will be provided in the Show Fees column.].\n",
      "[true] *The use of the driveway as the required parking spaces will require a separate submittal for a Use Permit. [ ] Floor plan (dimensioned): Show overall building size, existing and proposed room locations, existing and. proposed new window(s)/door(s) size/location(s).\n",
      "\n",
      "\n",
      "\n",
      "[pred] Our illuminated Seville map is encapsulated in a map of each hidden street corner, enabling you to discover the hidden gems of the city.OUR SEVISA GAROUND, Sevilleâs most prominent street corners, and Sevilleâs central business districts are clearly encapsulated in an easy-to-access map of every street corner. This feature also allows you to book hotels, restaurants and resorts in a location of your choice.\n",
      "[true] Our STREETWISE Seville Map enables you to explore each hidden corner of this enticing destination with a clearly defined map of the city, fully indexed and highlighted with hotels, parks and gardens, and places of interest. An inset of the center of Seville makes even the tiniest of alleyways navigable.rea maps of Cordoba, Grenada and Seville facilitate your entry into these three principal cities via auto, giving you the greatest freedom to experience all that is Southern Spain.\n",
      "\n",
      "\n",
      "\n",
      "[pred] aaa coupons 32 save aaa is an american not for profit organization with an average of 26 coupons for members save about $ aaa offers savings on aaa related goods and services from travel benefits to discount codes to car insurance aaa com displays coupons for aaa to help members save more\n",
      "[true] aaa coupon codes about aaa save an average of $ 32 with 26 coupon codes deals for aaa com aaa is a not for profit organization that lists the automobile clubs in the united states and offers travel benefits and automobile insurance to its members members review the aaa positively for its convenient travel benefits pricing of services and insurance claim policies shop aaa com show more show less\n",
      "running manifest on text_list of length 3, first element '*The parking lot will require a separate entrance/exit for the proposed use of the. building. [District Floor Plan: Use of existing floor plan space, dimensions, and/or permit requirements for each. subfloor/space will be provided in the Show Fees column.].'\n",
      "running manifest on text_list of length 3, first element '*The use of the driveway as the required parking spaces will require a separate submittal for a Use Permit. [ ] Floor plan (dimensioned): Show overall building size, existing and proposed room locations, existing and. proposed new window(s)/door(s) size/location(s).'\n"
     ]
    },
    {
     "data": {
      "text/plain": [
       "{'eval_loss': 2.899637222290039,\n",
       " 'eval_pred_num_tokens': 78.66667175292969,\n",
       " 'eval_true_num_tokens': 90.66667175292969,\n",
       " 'eval_token_set_precision': 0.4594729007967779,\n",
       " 'eval_token_set_recall': 0.5318685602896129,\n",
       " 'eval_token_set_f1': 0.4915795206971678,\n",
       " 'eval_bleu_score': 6.136566476254792,\n",
       " 'eval_meteor_score': 0.29302015907056633,\n",
       " 'eval_rouge_score': 0.47423473894062135,\n",
       " 'eval_exact_match': 0.0,\n",
       " 'eval_emb_cos_sim': 0.9517328143119812,\n",
       " 'eval_runtime': 146.4131,\n",
       " 'eval_samples_per_second': 0.02,\n",
       " 'eval_steps_per_second': 0.02}"
      ]
     },
     "execution_count": 4,
     "metadata": {},
     "output_type": "execute_result"
    }
   ],
   "source": [
    "corr_trainer.args.per_device_eval_batch_size = 1\n",
    "corr_trainer.return_best_hypothesis = False\n",
    "corr_trainer.num_gen_recursive_steps = 25\n",
    "corr_trainer.sequence_beam_width = 4\n",
    "corr_trainer.gen_kwargs = {\n",
    "    \"early_stopping\": False,\n",
    "    \"num_beams\": 1,\n",
    "    \"num_return_sequences\": 1,\n",
    "    \"do_sample\": False,\n",
    "    \"no_repeat_ngram_size\": 0,\n",
    "}\n",
    "corr_trainer.evaluate(\n",
    "    eval_dataset=inv_trainer.eval_dataset[\"msmarco\"].select(range(3))\n",
    ")"
   ]
  },
  {
   "cell_type": "code",
   "execution_count": 9,
   "id": "e836905a-0ea6-4fe6-894d-2381a1d66c6c",
   "metadata": {},
   "outputs": [
    {
     "name": "stdout",
     "output_type": "stream",
     "text": [
      "running manifest on text_list of length 3, first element '*The parking lot will require the use of a separate parking space for the proposed use of the. building. [District Floor Plan: Use of existing floor plan space, dimensions, and/or permit requirements for each. subfloor/space will be provided in the Submitting Documents.'\n"
     ]
    },
    {
     "name": "stderr",
     "output_type": "stream",
     "text": [
      "generating from val:   0%|                                                                                     | 0/1 [00:00<?, ?it/s]"
     ]
    },
    {
     "name": "stdout",
     "output_type": "stream",
     "text": [
      "running manifest on text_list of length 3, first element '*The parking lot will require the use of a separate parking space for the proposed use of the. building. [District Floor Plan: Use of existing floor plan space, dimensions, and/or permit requirements for each. subfloor/space will be provided in the Submitting Documents.'\n",
      "running manifest on text_list of length 48, first element '*The parking permit will require the use of a separate parking space for the proposed use of the. building. [District Floor Plan: Show all existing floor plan dimensions, dimensions, and/or permit requirements for each. subfloor/space].'\n",
      "running manifest on text_list of length 48, first element '*The parking permit will require the use of a separate parking space for the proposed use of the. building. [District Floor Plan: Show all existing floor plan entries, dimensions, and/or permit requirements for each. subfloor/driveway].'\n",
      "running manifest on text_list of length 48, first element '*The parking permit will require the use of a separate parking space for the proposed use of the. building. [Purpose Floor Plan: Show all existing floor plan entries, dimensions, and submittal permit requirements for each. subfloor/driveway].'\n",
      "running manifest on text_list of length 48, first element '*The parking permit will require the use of a separate parking space for the proposed use of the. building. [Purpose Floor Plan: Show all existing floor plan entries, dimensions, and submit submittal permit requirements for each. subfloor/driveway].'\n",
      "running manifest on text_list of length 48, first element '*The parking permit will require the use of a separate parking space for the proposed use of the. building. [Purpose Floor Plan: Show all existing floor plan entries, dimensions, and submit submittal permit requirements for each. subfloor/driveway].'\n",
      "running manifest on text_list of length 48, first element '*The parking permit will require the use of a separate parking space for the proposed use of the. building. [Purpose Floor Plan: Show all existing floor plan entries, dimensions, and submit submittal permit requirements for each. subfloor/driveway].'\n",
      "running manifest on text_list of length 48, first element '*The parking permit will require the use of a separate parking space for the proposed use of the. building. [Purpose Floor Plan: Show all existing floor plan entries, dimensions, and submit submittal permit requirements for each. subfloor/driveway].'\n",
      "running manifest on text_list of length 48, first element '*The parking permit will require the use of a separate parking space for the proposed use of the. building. [Purpose Floor Plan: Show all existing floor plan entries, dimensions, and submit submittal permit requirements for each. subfloor/driveway].'\n",
      "running manifest on text_list of length 48, first element '*The parking permit will require the use of a separate parking space for the proposed use of the. building. [Purpose Floor Plan: Show all existing floor plan entries, original dimensions, and submit submittal permit requirements for each. subfloor/driveway].'\n",
      "running manifest on text_list of length 48, first element '*The parking permit will require the use of a separate parking space for the proposed use of the. building. [Purpose Floor Plan: Show all existing floor plan entries, original dimensions, and submit submittal permit requirements for each. subfloor/driveway].'\n",
      "running manifest on text_list of length 48, first element '*The parking permit will require the use of a separate parking space for the proposed use of the. building. [Purpose Floor Plan: Show all existing floor plan entries, original dimensions, and submit submittal permit requirements for each. subfloor/driveway].'\n",
      "running manifest on text_list of length 48, first element '*The parking permit will require the use of a separate parking space for the proposed use of the. building. [Purpose Floor Plan: Show all existing floor plan entries, original dimensions, and submit submittal permit requirements for each. subfloor/driveway].'\n",
      "running manifest on text_list of length 48, first element '*The parking permit will require the use of a separate parking space for the proposed use of the. building. [Purpose Floor Plan: Show all existing floor plan entries, original dimensions, and submit submittal permit requirements for each. subfloor/driveway].'\n",
      "running manifest on text_list of length 48, first element '*The parking permit will require the use of a separate parking space for the proposed use of the. building. [Purpose Floor Plan: Show all existing floor plan entries, original dimensions, and submit submittal permit requirements for each. subfloor/driveway].'\n",
      "running manifest on text_list of length 48, first element '*The parking permit will require the use of a separate parking space for the proposed use of the. building. [Purpose Floor Plan: Show all existing floor plan entries, original dimensions, and submit submittal permit requirements for each. subfloor/driveway].'\n"
     ]
    },
    {
     "name": "stderr",
     "output_type": "stream",
     "text": [
      "                                                                                                                                     \r"
     ]
    },
    {
     "name": "stdout",
     "output_type": "stream",
     "text": [
      "[pred] *The parking permit will require the use of a separate parking space for the proposed use of the. building. [Purpose Floor Plan: Show all existing floor plan entries, original dimensions, and submit submittal permit requirements for each. subfloor/driveway].\n",
      "[true] *The use of the driveway as the required parking spaces will require a separate submittal for a Use Permit. [ ] Floor plan (dimensioned): Show overall building size, existing and proposed room locations, existing and. proposed new window(s)/door(s) size/location(s).\n",
      "\n",
      "\n",
      "\n",
      "[pred] Our illuminated SEIDEWAY map is intimately encapsulated in a map of each of our cities, enabling you to discover hidden gems of the city.our enlightened Seville map also includes a map of the streets of the city centre, the central business district, the outskirts of Madrid, Costa Rica and Spainâs most sought-after places of interest. Cartagena Street and Woodstreets are fully accessible and easy to navigate with a minimum of a minuteâs travel time.\n",
      "[true] Our STREETWISE Seville Map enables you to explore each hidden corner of this enticing destination with a clearly defined map of the city, fully indexed and highlighted with hotels, parks and gardens, and places of interest. An inset of the center of Seville makes even the tiniest of alleyways navigable.rea maps of Cordoba, Grenada and Seville facilitate your entry into these three principal cities via auto, giving you the greatest freedom to experience all that is Southern Spain.\n",
      "\n",
      "\n",
      "\n",
      "[pred] aaa coupons 32 save aaa is an american not for profit organization with an average of 32 coupons for members save about $ aaa codes show savings on a variety of products and services from automobile leasing to travel to car insurance aaa com benefits members with more than $ 10000 savings with adva com\n",
      "[true] aaa coupon codes about aaa save an average of $ 32 with 26 coupon codes deals for aaa com aaa is a not for profit organization that lists the automobile clubs in the united states and offers travel benefits and automobile insurance to its members members review the aaa positively for its convenient travel benefits pricing of services and insurance claim policies shop aaa com show more show less\n",
      "running manifest on text_list of length 3, first element '*The parking permit will require the use of a separate parking space for the proposed use of the. building. [Purpose Floor Plan: Show all existing floor plan entries, original dimensions, and submit submittal permit requirements for each. subfloor/driveway].'\n",
      "running manifest on text_list of length 3, first element '*The use of the driveway as the required parking spaces will require a separate submittal for a Use Permit. [ ] Floor plan (dimensioned): Show overall building size, existing and proposed room locations, existing and. proposed new window(s)/door(s) size/location(s).'\n"
     ]
    },
    {
     "data": {
      "text/plain": [
       "{'eval_loss': 2.90336537361145,\n",
       " 'eval_pred_num_tokens': 82.0,\n",
       " 'eval_true_num_tokens': 90.66667175292969,\n",
       " 'eval_token_set_precision': 0.4743700201383417,\n",
       " 'eval_token_set_recall': 0.535252935862692,\n",
       " 'eval_token_set_f1': 0.5029516006296192,\n",
       " 'eval_bleu_score': 6.481565062859429,\n",
       " 'eval_meteor_score': 0.35444483259821924,\n",
       " 'eval_rouge_score': 0.49876924469988876,\n",
       " 'eval_exact_match': 0.0,\n",
       " 'eval_emb_cos_sim': 0.9606207609176636,\n",
       " 'eval_runtime': 49.9414,\n",
       " 'eval_samples_per_second': 0.06,\n",
       " 'eval_steps_per_second': 0.02}"
      ]
     },
     "execution_count": 9,
     "metadata": {},
     "output_type": "execute_result"
    }
   ],
   "source": [
    "corr_trainer.args.per_device_eval_batch_size = 128\n",
    "corr_trainer.return_best_hypothesis = False\n",
    "corr_trainer.num_gen_recursive_steps = 15\n",
    "corr_trainer.sequence_beam_width = 1\n",
    "corr_trainer.gen_kwargs = {\n",
    "    \"early_stopping\": False,\n",
    "    \"num_beams\": 16,\n",
    "    \"num_return_sequences\": 16,\n",
    "    \"do_sample\": False,\n",
    "    \"no_repeat_ngram_size\": 0,\n",
    "}\n",
    "corr_trainer.evaluate(\n",
    "    eval_dataset=inv_trainer.eval_dataset[\"msmarco\"].select(range(3))\n",
    ")"
   ]
  },
  {
   "cell_type": "code",
   "execution_count": null,
   "id": "38dc9273-76ec-462f-b86d-e4899546b2b1",
   "metadata": {},
   "outputs": [],
   "source": []
  }
 ],
 "metadata": {
  "kernelspec": {
   "display_name": "Python 3 (ipykernel)",
   "language": "python",
   "name": "python3"
  },
  "language_info": {
   "codemirror_mode": {
    "name": "ipython",
    "version": 3
   },
   "file_extension": ".py",
   "mimetype": "text/x-python",
   "name": "python",
   "nbconvert_exporter": "python",
   "pygments_lexer": "ipython3",
   "version": "3.10.10"
  }
 },
 "nbformat": 4,
 "nbformat_minor": 5
}
