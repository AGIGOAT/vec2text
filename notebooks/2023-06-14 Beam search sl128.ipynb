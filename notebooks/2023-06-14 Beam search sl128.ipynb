{
 "cells": [
  {
   "cell_type": "code",
   "execution_count": 1,
   "id": "24295723-0e99-42e6-8287-84c8e0a485c2",
   "metadata": {},
   "outputs": [],
   "source": [
    "%load_ext autoreload\n",
    "%autoreload 2\n",
    "\n",
    "import os\n",
    "os.environ[\"WANDB_DISABLED\"] = \"true\"\n",
    "\n",
    "import sys\n",
    "sys.path = [\n",
    "    p for p in sys.path\n",
    "    if p not in ['/home/jxm3/research/prompting/imodelsX', '/home/jxm3/research/prompting/tree-prompt']\n",
    "]\n",
    "sys.path.append('/home/jxm3/research/retrieval/inversion')"
   ]
  },
  {
   "cell_type": "code",
   "execution_count": 2,
   "id": "eb3318c7-a906-4aca-8aee-a7999f57c073",
   "metadata": {},
   "outputs": [
    {
     "name": "stdout",
     "output_type": "stream",
     "text": [
      "loading alias openai_msmarco__msl128__100epoch__correct_cheat from /home/jxm3/research/retrieval/inversion/saves/45e3f871f91d0fbf54bacb5593434409...\n",
      "> checkpoint: /home/jxm3/research/retrieval/inversion/saves/45e3f871f91d0fbf54bacb5593434409/checkpoint-324000\n",
      "loading alias openai_msmarco__msl128__100epoch from /home/jxm3/research/retrieval/inversion/saves/f9abd65db4c4823264b133816d08612f...\n",
      "> checkpoint: /home/jxm3/research/retrieval/inversion/saves/f9abd65db4c4823264b133816d08612f/checkpoint-194000\n"
     ]
    },
    {
     "name": "stderr",
     "output_type": "stream",
     "text": [
      "/home/jxm3/.conda/envs/torch/lib/python3.10/site-packages/transformers/models/t5/tokenization_t5_fast.py:155: FutureWarning: This tokenizer was incorrectly instantiated with a model max length of 512 which will be corrected in Transformers v5.\n",
      "For now, this behavior is kept to avoid breaking backwards compatibility when padding/encoding with `truncation is True`.\n",
      "- Be aware that you SHOULD NOT rely on t5-base automatically truncating your input to 512 when padding/encoding.\n",
      "- If you want to encode/pad to sequences longer than 512 you can either instantiate this tokenizer with `model_max_length` or pass `max_length` when encoding/padding.\n",
      "- To avoid this warning, please instantiate this tokenizer with `model_max_length` set to your preferred value.\n",
      "  warnings.warn(\n"
     ]
    },
    {
     "name": "stdout",
     "output_type": "stream",
     "text": [
      "Loading datasets with TOKENIZERS_PARALLELISM = True\n"
     ]
    },
    {
     "name": "stderr",
     "output_type": "stream",
     "text": [
      "[nltk_data] Downloading package wordnet to /home/jxm3/nltk_data...\n",
      "[nltk_data]   Package wordnet is already up-to-date!\n",
      "[nltk_data] Downloading package punkt to /home/jxm3/nltk_data...\n",
      "[nltk_data]   Package punkt is already up-to-date!\n",
      "[nltk_data] Downloading package omw-1.4 to /home/jxm3/nltk_data...\n",
      "[nltk_data]   Package omw-1.4 is already up-to-date!\n",
      "/home/jxm3/.conda/envs/torch/lib/python3.10/site-packages/torch/utils/data/dataloader.py:560: UserWarning: This DataLoader will create 4 worker processes in total. Our suggested max number of worker in current system is 1, which is smaller than what this DataLoader is going to create. Please be aware that excessive worker creation might get DataLoader running slow or even freeze, lower the worker number to avoid potential slowness/freeze if necessary.\n",
      "  warnings.warn(_create_warning_msg(\n"
     ]
    },
    {
     "name": "stdout",
     "output_type": "stream",
     "text": [
      "================ Begin trainer sanity check ================\n",
      "\tInput to encode -> Twas brillig, and the slithy toves, Did gyre and gimble in the wabe, All mimsy were the borogoves, And the mome raths outgrabe.\n",
      "running manifest on text_list of length 1, first element 'Twas brillig, and the slithy toves, Did gyre and gimble in the wabe, All mimsy were the borogoves, And the mome raths outgrabe.'\n",
      "\tDecoded output shape ->  torch.Size([1, 69])\n",
      "\tDecoded output -> And the trolls, twilight, was smooty, And swiggy, smeared, And wispy, wisping, wily, wiz, wizz, wizzy, wizzie, wizy, wit.\n",
      "================ End trainer sanity check ================\n",
      "Froze 353779584 params from model type <class 'models.inversion.InversionModel'>\n"
     ]
    },
    {
     "name": "stderr",
     "output_type": "stream",
     "text": [
      "[nltk_data] Downloading package wordnet to /home/jxm3/nltk_data...\n",
      "[nltk_data]   Package wordnet is already up-to-date!\n",
      "[nltk_data] Downloading package punkt to /home/jxm3/nltk_data...\n",
      "[nltk_data]   Package punkt is already up-to-date!\n",
      "[nltk_data] Downloading package omw-1.4 to /home/jxm3/nltk_data...\n",
      "[nltk_data]   Package omw-1.4 is already up-to-date!\n"
     ]
    },
    {
     "name": "stdout",
     "output_type": "stream",
     "text": [
      "================ Begin trainer sanity check ================\n",
      "\tInput to encode -> Twas brillig, and the slithy toves, Did gyre and gimble in the wabe, All mimsy were the borogoves, And the mome raths outgrabe.\n",
      "running manifest on text_list of length 1, first element 'Twas brillig, and the slithy toves, Did gyre and gimble in the wabe, All mimsy were the borogoves, And the mome raths outgrabe.'\n",
      "running manifest on text_list of length 1, first element 'And the trolls, trolls, trolls, trolls, trolls, trolls, trolls, trolls, trolls, trolls, trolls,'\n",
      "running manifest on text_list of length 1, first element 'And the glishy motes, And the wispy schooners, And twigs was clever, And wispies ruffled, And worrisome mash up.'\n",
      "\tDecoded output shape ->  torch.Size([1, 52])\n",
      "\tDecoded output -> And the glishy motes, And the wispy schooners, And twigs was clever, And wispies ruffled, And worrisome mash up.\n",
      "================ End trainer sanity check ================\n",
      "\n"
     ]
    }
   ],
   "source": [
    "import aliases\n",
    "\n",
    "# inv_trainer = aliases.load_trainer_from_alias(\"openai_msmarco__msl128__100epoch\")\n",
    "corr_experiment, corr_trainer = aliases.load_experiment_and_trainer_from_alias(\"openai_msmarco__msl128__100epoch__correct_cheat\")\n",
    "inv_trainer = corr_trainer.inversion_trainer\n",
    "# corr_trainer.precompute_hypotheses()\n",
    "corr_trainer.model.eval()\n",
    "print()"
   ]
  },
  {
   "cell_type": "code",
   "execution_count": 3,
   "id": "b77fbba8-ed41-448a-b321-de3a0d83dccf",
   "metadata": {},
   "outputs": [
    {
     "name": "stderr",
     "output_type": "stream",
     "text": [
      "/home/jxm3/.conda/envs/torch/lib/python3.10/site-packages/torch/utils/data/dataloader.py:560: UserWarning: This DataLoader will create 6 worker processes in total. Our suggested max number of worker in current system is 1, which is smaller than what this DataLoader is going to create. Please be aware that excessive worker creation might get DataLoader running slow or even freeze, lower the worker number to avoid potential slowness/freeze if necessary.\n",
      "  warnings.warn(_create_warning_msg(\n"
     ]
    },
    {
     "name": "stdout",
     "output_type": "stream",
     "text": [
      "running manifest on text_list of length 3, first element '*The parking lot will require the use of a separate parking space for the proposed use of the. building. [District Floor Plan: Use of existing floor plan space, dimensions, and/or permit requirements for each. subfloor/space will be provided in the Submitting Documents.'\n"
     ]
    },
    {
     "data": {
      "text/html": [
       "\n",
       "    <div>\n",
       "      \n",
       "      <progress value='12' max='1' style='width:300px; height:20px; vertical-align: middle;'></progress>\n",
       "      [1/1 17:55]\n",
       "    </div>\n",
       "    "
      ],
      "text/plain": [
       "<IPython.core.display.HTML object>"
      ]
     },
     "metadata": {},
     "output_type": "display_data"
    },
    {
     "name": "stderr",
     "output_type": "stream",
     "text": [
      "generating from val:   0%|                                                                                     | 0/1 [00:00<?, ?it/s]"
     ]
    },
    {
     "name": "stdout",
     "output_type": "stream",
     "text": [
      "running manifest on text_list of length 3, first element '*The parking lot will require the use of a separate parking space for the proposed use of the. building. [District Floor Plan: Use of existing floor plan space, dimensions, and/or permit requirements for each. subfloor/space will be provided in the Submitting Documents.'\n",
      "running manifest on text_list of length 3, first element '*The parking lot will require the use of a separate parking space for the proposed use of the. building. [District Floor Plan: Show/Insert complete dimensions, permit requirements, and required permit requirements for each. subfloor/driveway/showroom space]'\n"
     ]
    },
    {
     "name": "stderr",
     "output_type": "stream",
     "text": [
      "                                                                                                                                     \r"
     ]
    },
    {
     "name": "stdout",
     "output_type": "stream",
     "text": [
      "[pred] *The parking lot will require the use of a separate parking space for the proposed use of the. building. [District Floor Plan: Show/Insert complete dimensions, permit requirements, and required permit requirements for each. subfloor/driveway/showroom space]\n",
      "[true] *The use of the driveway as the required parking spaces will require a separate submittal for a Use Permit. [ ] Floor plan (dimensioned): Show overall building size, existing and proposed room locations, existing and. proposed new window(s)/door(s) size/location(s).\n",
      "\n",
      "\n",
      "\n",
      "[pred] Our illuminated Seville map is encapsulated in a map of each of our cities, enabling you to discover hidden gems in an effortless manner. Our SEGA TRAVEL SEville map also highlights the streets of the city centre, the central business district, the outskirts of the city center and the outskirts of the city's most desirable places of interest.our streets are clearly marked with a distinctive street name, allowing you to easily navigate the streets of Seville, Valencia, Madrid and Corrientes.\n",
      "[true] Our STREETWISE Seville Map enables you to explore each hidden corner of this enticing destination with a clearly defined map of the city, fully indexed and highlighted with hotels, parks and gardens, and places of interest. An inset of the center of Seville makes even the tiniest of alleyways navigable.rea maps of Cordoba, Grenada and Seville facilitate your entry into these three principal cities via auto, giving you the greatest freedom to experience all that is Southern Spain.\n",
      "\n",
      "\n",
      "\n",
      "[pred] aaa coupons 32 save aaa is an american travel organization with an average of 32 coupons for members save $ aaa codes show savings on a variety of products and services from aaa to car insurance aaa com offers coupons for more than $ 0 and benefits not related to the aaa marketplace\n",
      "[true] aaa coupon codes about aaa save an average of $ 32 with 26 coupon codes deals for aaa com aaa is a not for profit organization that lists the automobile clubs in the united states and offers travel benefits and automobile insurance to its members members review the aaa positively for its convenient travel benefits pricing of services and insurance claim policies shop aaa com show more show less\n",
      "running manifest on text_list of length 3, first element '*The parking lot will require the use of a separate parking space for the proposed use of the. building. [District Floor Plan: Show/Insert complete dimensions, permit requirements, and required permit requirements for each. subfloor/driveway/showroom space]'\n",
      "running manifest on text_list of length 3, first element '*The use of the driveway as the required parking spaces will require a separate submittal for a Use Permit. [ ] Floor plan (dimensioned): Show overall building size, existing and proposed room locations, existing and. proposed new window(s)/door(s) size/location(s).'\n"
     ]
    },
    {
     "data": {
      "text/plain": [
       "{'eval_loss': 2.8527777194976807,\n",
       " 'eval_pred_num_tokens': 83.0,\n",
       " 'eval_true_num_tokens': 90.66667175292969,\n",
       " 'eval_token_set_precision': 0.4539444882234481,\n",
       " 'eval_token_set_recall': 0.539517986886408,\n",
       " 'eval_token_set_f1': 0.4927388499259353,\n",
       " 'eval_bleu_score': 4.834030220927604,\n",
       " 'eval_meteor_score': 0.31434661569983496,\n",
       " 'eval_rouge_score': 0.504801485811716,\n",
       " 'eval_exact_match': 0.0,\n",
       " 'eval_emb_cos_sim': 0.9524294137954712,\n",
       " 'eval_runtime': 11.954,\n",
       " 'eval_samples_per_second': 0.251,\n",
       " 'eval_steps_per_second': 0.084}"
      ]
     },
     "execution_count": 3,
     "metadata": {},
     "output_type": "execute_result"
    }
   ],
   "source": [
    "corr_trainer.args.per_device_eval_batch_size = 128\n",
    "corr_trainer.return_best_hypothesis = False\n",
    "corr_trainer.num_gen_recursive_steps = 1\n",
    "corr_trainer.gen_kwargs = {\n",
    "    \"early_stopping\": False,\n",
    "    \"num_beams\": 1,\n",
    "    \"num_return_sequences\": 1,\n",
    "    \"do_sample\": False,\n",
    "    \"no_repeat_ngram_size\": 0,\n",
    "}\n",
    "corr_trainer.evaluate(\n",
    "    eval_dataset=inv_trainer.eval_dataset[\"msmarco\"].select(range(3))\n",
    ")"
   ]
  },
  {
   "cell_type": "code",
   "execution_count": 4,
   "id": "13780fcd-54e3-41ae-88d3-cc58f256bcd4",
   "metadata": {},
   "outputs": [
    {
     "name": "stdout",
     "output_type": "stream",
     "text": [
      "running manifest on text_list of length 3, first element '*The parking lot will require the use of a separate parking space for the proposed use of the. building. [District Floor Plan: Use of existing floor plan space, dimensions, and/or permit requirements for each. subfloor/space will be provided in the Submitting Documents.'\n"
     ]
    },
    {
     "name": "stderr",
     "output_type": "stream",
     "text": [
      "generating from val:   0%|                                                                                     | 0/1 [00:00<?, ?it/s]"
     ]
    },
    {
     "name": "stdout",
     "output_type": "stream",
     "text": [
      "running manifest on text_list of length 3, first element '*The parking lot will require the use of a separate parking space for the proposed use of the. building. [District Floor Plan: Use of existing floor plan space, dimensions, and/or permit requirements for each. subfloor/space will be provided in the Submitting Documents.'\n",
      "running manifest on text_list of length 3, first element '*The parking lot will require the use of a separate parking space for the proposed use of the. building. [District Floor Plan: Show/Insert complete dimensions, permit requirements, and required permit requirements for each. subfloor/driveway/showroom space]'\n",
      "running manifest on text_list of length 3, first element '*The parking lot will require the use of a separate parking space for the proposed use of the. building. [District Floor Plan: Use Permits] Provide the complete dimensions, existing structure dimensions, and required permit requirements for each. subfloor/driveway/showroom space.'\n",
      "running manifest on text_list of length 3, first element '*The parking lot will require the submission of a separate parking space for the proposed use of the. building. [District Floor Plan: Use Permits] Provide the complete dimensions of the existing structure, subfloor/driveway entrance/exit, and.'\n",
      "running manifest on text_list of length 3, first element '*The parking lot will require the submission of a separate parking space for the proposed. building. [ Floor Plan: Use Permits] Provide the complete dimensions of the existing drive/use/main entrance/exit, subfloor/driveway entrance/exit, and.'\n",
      "running manifest on text_list of length 3, first element '*The parking lot will require the submission of a separate parking space for the proposed. building. [ Floor Plan: Use Permits] Provide the complete dimensions of the existing drive/use/main entrance/exit, subfloor/driveway entrance/exit, and.'\n",
      "running manifest on text_list of length 3, first element '*The parking lot will require the submission of a separate parking space for the proposed. building. [ Floor Plan: Use Permits] Provide the complete dimensions of the existing drive/use/main entrance/exit, subfloor/driveway entrance/exit, and.'\n",
      "running manifest on text_list of length 3, first element '*The parking lot will require the submission of a separate parking space for the proposed. building. [ Floor Plan: Use Permits] Provide the complete dimensions of the existing drive/use/main entrance/exit, subfloor/driveway entrance/exit, and.'\n",
      "running manifest on text_list of length 3, first element '*The parking lot will require the submission of a separate parking space for the proposed. building. [ Floor Plan: Use Permits] Provide the complete dimensions of the existing drive/use/main entrance/exit, subfloor/driveway entrance/exit, and.'\n",
      "running manifest on text_list of length 3, first element '*The parking lot will require the submission of a separate parking space for the proposed. building. [ Floor Plan: Use Permits] Provide the complete dimensions of the existing drive/use/main entrance/exit, subfloor/driveway entrance/exit, and.'\n",
      "running manifest on text_list of length 3, first element '*The parking lot will require the submission of a separate parking space for the proposed. building. [ Floor Plan: Use Permits] Provide the complete dimensions of the existing drive/use/main entrance/exit, subfloor/driveway entrance/exit, and.'\n"
     ]
    },
    {
     "name": "stderr",
     "output_type": "stream",
     "text": [
      "                                                                                                                                     \r"
     ]
    },
    {
     "name": "stdout",
     "output_type": "stream",
     "text": [
      "[pred] *The parking lot will require the submission of a separate parking space for the proposed. building. [ Floor Plan: Use Permits] Provide the complete dimensions of the existing drive/use/main entrance/exit, subfloor/driveway entrance/exit, and.\n",
      "[true] *The use of the driveway as the required parking spaces will require a separate submittal for a Use Permit. [ ] Floor plan (dimensioned): Show overall building size, existing and proposed room locations, existing and. proposed new window(s)/door(s) size/location(s).\n",
      "\n",
      "\n",
      "\n",
      "[pred] Our illuminated Seville map is encapsulated in a map of each of our cities, enabling you to discover hidden gems in an effortless manner. Our SEGA TRAVEL SEville map also highlights the streets of the city centre, the central business district, the outskirts of the city center and the outskirts of the city's most desirable places of interest.our Streetwise and Streetwise Streets are fully accessible to the public, with an easy-to-use map editor and a full-length, detailed map of each city.\n",
      "[true] Our STREETWISE Seville Map enables you to explore each hidden corner of this enticing destination with a clearly defined map of the city, fully indexed and highlighted with hotels, parks and gardens, and places of interest. An inset of the center of Seville makes even the tiniest of alleyways navigable.rea maps of Cordoba, Grenada and Seville facilitate your entry into these three principal cities via auto, giving you the greatest freedom to experience all that is Southern Spain.\n",
      "\n",
      "\n",
      "\n",
      "[pred] aaa coupons 32 save aaa is an american travel organization with an average of 32 coupons for members save $ aaa codes show savings on a variety of products and services from car insurance to membership benefits com aaa com provides coupons for more than $ not related to the aaa marketplace\n",
      "[true] aaa coupon codes about aaa save an average of $ 32 with 26 coupon codes deals for aaa com aaa is a not for profit organization that lists the automobile clubs in the united states and offers travel benefits and automobile insurance to its members members review the aaa positively for its convenient travel benefits pricing of services and insurance claim policies shop aaa com show more show less\n",
      "running manifest on text_list of length 3, first element '*The parking lot will require the submission of a separate parking space for the proposed. building. [ Floor Plan: Use Permits] Provide the complete dimensions of the existing drive/use/main entrance/exit, subfloor/driveway entrance/exit, and.'\n",
      "running manifest on text_list of length 3, first element '*The use of the driveway as the required parking spaces will require a separate submittal for a Use Permit. [ ] Floor plan (dimensioned): Show overall building size, existing and proposed room locations, existing and. proposed new window(s)/door(s) size/location(s).'\n"
     ]
    },
    {
     "data": {
      "text/plain": [
       "{'eval_loss': 2.8516223430633545,\n",
       " 'eval_pred_num_tokens': 83.0,\n",
       " 'eval_true_num_tokens': 90.66667175292969,\n",
       " 'eval_token_set_precision': 0.45351895630855443,\n",
       " 'eval_token_set_recall': 0.5471112594735605,\n",
       " 'eval_token_set_f1': 0.4958370444952174,\n",
       " 'eval_bleu_score': 4.48561200294412,\n",
       " 'eval_meteor_score': 0.30077145815528983,\n",
       " 'eval_rouge_score': 0.4768929370946105,\n",
       " 'eval_exact_match': 0.0,\n",
       " 'eval_emb_cos_sim': 0.9596977233886719,\n",
       " 'eval_runtime': 24.585,\n",
       " 'eval_samples_per_second': 0.122,\n",
       " 'eval_steps_per_second': 0.041}"
      ]
     },
     "execution_count": 4,
     "metadata": {},
     "output_type": "execute_result"
    }
   ],
   "source": [
    "corr_trainer.args.per_device_eval_batch_size = 128\n",
    "corr_trainer.return_best_hypothesis = False\n",
    "corr_trainer.num_gen_recursive_steps = 10\n",
    "corr_trainer.gen_kwargs = {\n",
    "    \"early_stopping\": False,\n",
    "    \"num_beams\": 1,\n",
    "    \"num_return_sequences\": 1,\n",
    "    \"do_sample\": False,\n",
    "    \"no_repeat_ngram_size\": 0,\n",
    "}\n",
    "corr_trainer.evaluate(\n",
    "    eval_dataset=inv_trainer.eval_dataset[\"msmarco\"].select(range(3))\n",
    ")"
   ]
  },
  {
   "cell_type": "code",
   "execution_count": 5,
   "id": "e6f1ffe1-83b5-4481-8d68-94cb5e19e941",
   "metadata": {},
   "outputs": [
    {
     "name": "stdout",
     "output_type": "stream",
     "text": [
      "running manifest on text_list of length 3, first element '*The parking lot will require the use of a separate parking space for the proposed use of the. building. [District Floor Plan: Use of existing floor plan space, dimensions, and/or permit requirements for each. subfloor/space will be provided in the Submitting Documents.'\n"
     ]
    },
    {
     "name": "stderr",
     "output_type": "stream",
     "text": [
      "generating from val:   0%|                                                                                     | 0/1 [00:00<?, ?it/s]"
     ]
    },
    {
     "name": "stdout",
     "output_type": "stream",
     "text": [
      "running manifest on text_list of length 3, first element '*The parking lot will require the use of a separate parking space for the proposed use of the. building. [District Floor Plan: Use of existing floor plan space, dimensions, and/or permit requirements for each. subfloor/space will be provided in the Submitting Documents.'\n",
      "running manifest on text_list of length 15, first element '*The parking lot will require the use of a separate parking space for the proposed use of the. building. [District Floor Plan: Show all existing floor plan entries, dimensions, and/or permit requirements for each. permitted use/use/space].'\n",
      "running manifest on text_list of length 75, first element '*The parking lot will require the use of a separate parking space for the proposed use of the. building. [District Floor Plan: Show all existing floor plan entries, dimensions, and submittals for permit requirements for each. permitted use/use/space].'\n",
      "running manifest on text_list of length 75, first element '*The parking lot will require the use of a separate drive space for the proposed use of the. building. [Dimensions: Show all existing floor plan entries, dimensions, and submit a completed permit application for each. permitted use/use/size].'\n",
      "running manifest on text_list of length 75, first element '*The parking lot will require the use of a separate driveway space for the proposed use of the. building. [Submit a Floor Plan: Show all existing floor plan entries, dimensions, and subfloor permit requirements for each. permitted use/use/district size].'\n",
      "running manifest on text_list of length 75, first element '*The parking lot will require the removal of a separate driveway space for the proposed use of the. building. [Submit a Floor Plan: Show all existing floor plan entries, dimensions, and subfloor permit requirements for each. permitted use/use/division size].'\n",
      "running manifest on text_list of length 75, first element '*The parking lot will require the use of a separate drive space for the proposed use of the. building. [District Floor Plan: Show all existing floor plan entries, dimensions, and submit a complete permit application for each. permitted use/size].'\n",
      "running manifest on text_list of length 75, first element '*The parking lot driveway will require the use of a separate parking space for the proposed use of the. building. [Submit a Floor Plan: Show all existing floor plan entries, dimensions, and subfloor permit requirements for each. permitted use/division size].'\n",
      "running manifest on text_list of length 75, first element '*The parking lot driveway will require the use of a separate parking space for the proposed use of the. building. [Submit a Floor Plan: Show all existing floor plan entries, dimensions, and subfloor permit requirements for each. permitted use/division size].'\n",
      "running manifest on text_list of length 75, first element '*The parking lot driveway will require the use of a separate parking space for the proposed use of the. building. [Submit a Floor Plan: Show all existing floor plan entries, dimensions, and subfloor permit requirements for each. permitted use/division size].'\n",
      "running manifest on text_list of length 75, first element '*The parking lot driveway will require the use of a separate parking space for the proposed use of the. building. [Submit a Floor Plan: Show all existing floor plan entries, dimensions, and subfloor permit requirements for each. permitted use/division size].'\n"
     ]
    },
    {
     "name": "stderr",
     "output_type": "stream",
     "text": [
      "                                                                                                                                     \r"
     ]
    },
    {
     "name": "stdout",
     "output_type": "stream",
     "text": [
      "[pred] *The parking lot driveway will require the use of a separate parking space for the proposed use of the. building. [Submit a Floor Plan: Show all existing floor plan entries, dimensions, and subfloor permit requirements for each. permitted use/division size].\n",
      "[true] *The use of the driveway as the required parking spaces will require a separate submittal for a Use Permit. [ ] Floor plan (dimensioned): Show overall building size, existing and proposed room locations, existing and. proposed new window(s)/door(s) size/location(s).\n",
      "\n",
      "\n",
      "\n",
      "[pred] Our illuminated Seville map is encapsulated in a map of each of Sevilleâs hidden gems, allowing you to immediately identify your destination.OUR SEAWAY® Streetstreets and Cartagena Streets in Seville enable an intuitive exploration of the central business district, the outskirts of the city center and the cities of Madrid, Seville and Costa Rica. This fully-insured map makes your travels even more enjoyable.\n",
      "[true] Our STREETWISE Seville Map enables you to explore each hidden corner of this enticing destination with a clearly defined map of the city, fully indexed and highlighted with hotels, parks and gardens, and places of interest. An inset of the center of Seville makes even the tiniest of alleyways navigable.rea maps of Cordoba, Grenada and Seville facilitate your entry into these three principal cities via auto, giving you the greatest freedom to experience all that is Southern Spain.\n",
      "\n",
      "\n",
      "\n",
      "[pred] aaa coupons 32 save aaa is an american travel organization with an average of 32 coupons for members save $ aaa codes show savings on a variety of products and services from automobile insurance to insurancecom aaa com provides coupons for more than $ not only does aaa benefit members and their communities by helping them save money\n",
      "[true] aaa coupon codes about aaa save an average of $ 32 with 26 coupon codes deals for aaa com aaa is a not for profit organization that lists the automobile clubs in the united states and offers travel benefits and automobile insurance to its members members review the aaa positively for its convenient travel benefits pricing of services and insurance claim policies shop aaa com show more show less\n",
      "running manifest on text_list of length 3, first element '*The parking lot driveway will require the use of a separate parking space for the proposed use of the. building. [Submit a Floor Plan: Show all existing floor plan entries, dimensions, and subfloor permit requirements for each. permitted use/division size].'\n",
      "running manifest on text_list of length 3, first element '*The use of the driveway as the required parking spaces will require a separate submittal for a Use Permit. [ ] Floor plan (dimensioned): Show overall building size, existing and proposed room locations, existing and. proposed new window(s)/door(s) size/location(s).'\n"
     ]
    },
    {
     "data": {
      "text/plain": [
       "{'eval_loss': 2.8516223430633545,\n",
       " 'eval_pred_num_tokens': 78.33333587646484,\n",
       " 'eval_true_num_tokens': 90.66667175292969,\n",
       " 'eval_token_set_precision': 0.4679905437352246,\n",
       " 'eval_token_set_recall': 0.5407407407407407,\n",
       " 'eval_token_set_f1': 0.5012665089690519,\n",
       " 'eval_bleu_score': 3.581563447419579,\n",
       " 'eval_meteor_score': 0.33168910653131145,\n",
       " 'eval_rouge_score': 0.5088130298973673,\n",
       " 'eval_exact_match': 0.0,\n",
       " 'eval_emb_cos_sim': 0.9610828161239624,\n",
       " 'eval_runtime': 34.9011,\n",
       " 'eval_samples_per_second': 0.086,\n",
       " 'eval_steps_per_second': 0.029}"
      ]
     },
     "execution_count": 5,
     "metadata": {},
     "output_type": "execute_result"
    }
   ],
   "source": [
    "corr_trainer.args.per_device_eval_batch_size = 128\n",
    "corr_trainer.return_best_hypothesis = False\n",
    "corr_trainer.num_gen_recursive_steps = 10\n",
    "corr_trainer.sequence_beam_width = 5\n",
    "corr_trainer.gen_kwargs = {\n",
    "    \"early_stopping\": False,\n",
    "    \"num_beams\": 1,\n",
    "    \"num_return_sequences\": 1,\n",
    "    \"do_sample\": False,\n",
    "    \"no_repeat_ngram_size\": 0,\n",
    "}\n",
    "corr_trainer.evaluate(\n",
    "    eval_dataset=inv_trainer.eval_dataset[\"msmarco\"].select(range(3))\n",
    ")"
   ]
  },
  {
   "cell_type": "code",
   "execution_count": 6,
   "id": "15c62298-e4c3-41ab-866f-ec05d66e6537",
   "metadata": {},
   "outputs": [
    {
     "name": "stdout",
     "output_type": "stream",
     "text": [
      "running manifest on text_list of length 3, first element '*The parking lot will require the use of a separate parking space for the proposed use of the. building. [District Floor Plan: Use of existing floor plan space, dimensions, and/or permit requirements for each. subfloor/space will be provided in the Submitting Documents.'\n"
     ]
    },
    {
     "name": "stderr",
     "output_type": "stream",
     "text": [
      "generating from val:   0%|                                                                                     | 0/1 [00:00<?, ?it/s]"
     ]
    },
    {
     "name": "stdout",
     "output_type": "stream",
     "text": [
      "running manifest on text_list of length 3, first element '*The parking lot will require the use of a separate parking space for the proposed use of the. building. [District Floor Plan: Use of existing floor plan space, dimensions, and/or permit requirements for each. subfloor/space will be provided in the Submitting Documents.'\n",
      "running manifest on text_list of length 24, first element '[The parking lot will require the use of a separate parking space for the proposed use of the. building.] Submit a Floor Plan: Show the existing floor plan dimensions, dimensions, and/or permit requirements for each. required entrance/exit/main entrance/exit.'\n",
      "> \u001b[0;32m/home/jxm3/research/retrieval/inversion/trainers/corrector.py\u001b[0m(379)\u001b[0;36m_generate_with_beam\u001b[0;34m()\u001b[0m\n",
      "\u001b[0;32m    377 \u001b[0;31m                \u001b[0;31m# Flatten again so we can do normal operations.\u001b[0m\u001b[0;34m\u001b[0m\u001b[0;34m\u001b[0m\u001b[0m\n",
      "\u001b[0m\u001b[0;32m    378 \u001b[0;31m                \u001b[0;32mimport\u001b[0m \u001b[0mpdb\u001b[0m\u001b[0;34m;\u001b[0m \u001b[0mpdb\u001b[0m\u001b[0;34m.\u001b[0m\u001b[0mset_trace\u001b[0m\u001b[0;34m(\u001b[0m\u001b[0;34m)\u001b[0m\u001b[0;34m\u001b[0m\u001b[0;34m\u001b[0m\u001b[0m\n",
      "\u001b[0m\u001b[0;32m--> 379 \u001b[0;31m                \u001b[0mgen_text_ids\u001b[0m \u001b[0;34m=\u001b[0m \u001b[0mgen_text_ids\u001b[0m\u001b[0;34m.\u001b[0m\u001b[0mreshape\u001b[0m\u001b[0;34m(\u001b[0m\u001b[0;34m(\u001b[0m\u001b[0mbatch_size\u001b[0m \u001b[0;34m*\u001b[0m \u001b[0msequence_beam_width\u001b[0m\u001b[0;34m,\u001b[0m \u001b[0;34m-\u001b[0m\u001b[0;36m1\u001b[0m\u001b[0;34m)\u001b[0m\u001b[0;34m)\u001b[0m\u001b[0;34m\u001b[0m\u001b[0;34m\u001b[0m\u001b[0m\n",
      "\u001b[0m\u001b[0;32m    380 \u001b[0;31m                \u001b[0mhypothesis_embedding\u001b[0m \u001b[0;34m=\u001b[0m \u001b[0mhypothesis_embedding\u001b[0m\u001b[0;34m.\u001b[0m\u001b[0mreshape\u001b[0m\u001b[0;34m(\u001b[0m\u001b[0;34m(\u001b[0m\u001b[0mbatch_size\u001b[0m \u001b[0;34m*\u001b[0m \u001b[0msequence_beam_width\u001b[0m\u001b[0;34m,\u001b[0m \u001b[0;34m-\u001b[0m\u001b[0;36m1\u001b[0m\u001b[0;34m)\u001b[0m\u001b[0;34m)\u001b[0m\u001b[0;34m\u001b[0m\u001b[0;34m\u001b[0m\u001b[0m\n",
      "\u001b[0m\u001b[0;32m    381 \u001b[0;31m            \u001b[0;32melif\u001b[0m \u001b[0;34m(\u001b[0m\u001b[0mnum_recursive_steps\u001b[0m \u001b[0;34m==\u001b[0m \u001b[0;36m1\u001b[0m\u001b[0;34m)\u001b[0m\u001b[0;34m:\u001b[0m\u001b[0;34m\u001b[0m\u001b[0;34m\u001b[0m\u001b[0m\n",
      "\u001b[0m\n"
     ]
    },
    {
     "name": "stdin",
     "output_type": "stream",
     "text": [
      "ipdb>  c\n"
     ]
    },
    {
     "name": "stdout",
     "output_type": "stream",
     "text": [
      "running manifest on text_list of length 24, first element '[The parking lot will require the use of a separate parking space for the proposed use of the. building.] Submit a Floor Plan: Show the existing driveway/exit dimensions, permit requirements, and existing permit requirements for each. required subfloor dimensions.'\n",
      "> \u001b[0;32m/home/jxm3/research/retrieval/inversion/trainers/corrector.py\u001b[0m(379)\u001b[0;36m_generate_with_beam\u001b[0;34m()\u001b[0m\n",
      "\u001b[0;32m    377 \u001b[0;31m                \u001b[0;31m# Flatten again so we can do normal operations.\u001b[0m\u001b[0;34m\u001b[0m\u001b[0;34m\u001b[0m\u001b[0m\n",
      "\u001b[0m\u001b[0;32m    378 \u001b[0;31m                \u001b[0;32mimport\u001b[0m \u001b[0mpdb\u001b[0m\u001b[0;34m;\u001b[0m \u001b[0mpdb\u001b[0m\u001b[0;34m.\u001b[0m\u001b[0mset_trace\u001b[0m\u001b[0;34m(\u001b[0m\u001b[0;34m)\u001b[0m\u001b[0;34m\u001b[0m\u001b[0;34m\u001b[0m\u001b[0m\n",
      "\u001b[0m\u001b[0;32m--> 379 \u001b[0;31m                \u001b[0mgen_text_ids\u001b[0m \u001b[0;34m=\u001b[0m \u001b[0mgen_text_ids\u001b[0m\u001b[0;34m.\u001b[0m\u001b[0mreshape\u001b[0m\u001b[0;34m(\u001b[0m\u001b[0;34m(\u001b[0m\u001b[0mbatch_size\u001b[0m \u001b[0;34m*\u001b[0m \u001b[0msequence_beam_width\u001b[0m\u001b[0;34m,\u001b[0m \u001b[0;34m-\u001b[0m\u001b[0;36m1\u001b[0m\u001b[0;34m)\u001b[0m\u001b[0;34m)\u001b[0m\u001b[0;34m\u001b[0m\u001b[0;34m\u001b[0m\u001b[0m\n",
      "\u001b[0m\u001b[0;32m    380 \u001b[0;31m                \u001b[0mhypothesis_embedding\u001b[0m \u001b[0;34m=\u001b[0m \u001b[0mhypothesis_embedding\u001b[0m\u001b[0;34m.\u001b[0m\u001b[0mreshape\u001b[0m\u001b[0;34m(\u001b[0m\u001b[0;34m(\u001b[0m\u001b[0mbatch_size\u001b[0m \u001b[0;34m*\u001b[0m \u001b[0msequence_beam_width\u001b[0m\u001b[0;34m,\u001b[0m \u001b[0;34m-\u001b[0m\u001b[0;36m1\u001b[0m\u001b[0;34m)\u001b[0m\u001b[0;34m)\u001b[0m\u001b[0;34m\u001b[0m\u001b[0;34m\u001b[0m\u001b[0m\n",
      "\u001b[0m\u001b[0;32m    381 \u001b[0;31m            \u001b[0;32melif\u001b[0m \u001b[0;34m(\u001b[0m\u001b[0mnum_recursive_steps\u001b[0m \u001b[0;34m==\u001b[0m \u001b[0;36m1\u001b[0m\u001b[0;34m)\u001b[0m\u001b[0;34m:\u001b[0m\u001b[0;34m\u001b[0m\u001b[0;34m\u001b[0m\u001b[0m\n",
      "\u001b[0m\n"
     ]
    },
    {
     "name": "stdin",
     "output_type": "stream",
     "text": [
      "ipdb>  c\n"
     ]
    },
    {
     "name": "stdout",
     "output_type": "stream",
     "text": [
      "running manifest on text_list of length 24, first element '[The parking lot will require the use of a separate parking space for the proposed use of the. building.] Submit a Floor Plan: Show the existing driveway/exit dimensions, permit requirements, and existing permit requirements for each. required subfloor dimensions.'\n",
      "> \u001b[0;32m/home/jxm3/research/retrieval/inversion/trainers/corrector.py\u001b[0m(379)\u001b[0;36m_generate_with_beam\u001b[0;34m()\u001b[0m\n",
      "\u001b[0;32m    377 \u001b[0;31m                \u001b[0;31m# Flatten again so we can do normal operations.\u001b[0m\u001b[0;34m\u001b[0m\u001b[0;34m\u001b[0m\u001b[0m\n",
      "\u001b[0m\u001b[0;32m    378 \u001b[0;31m                \u001b[0;32mimport\u001b[0m \u001b[0mpdb\u001b[0m\u001b[0;34m;\u001b[0m \u001b[0mpdb\u001b[0m\u001b[0;34m.\u001b[0m\u001b[0mset_trace\u001b[0m\u001b[0;34m(\u001b[0m\u001b[0;34m)\u001b[0m\u001b[0;34m\u001b[0m\u001b[0;34m\u001b[0m\u001b[0m\n",
      "\u001b[0m\u001b[0;32m--> 379 \u001b[0;31m                \u001b[0mgen_text_ids\u001b[0m \u001b[0;34m=\u001b[0m \u001b[0mgen_text_ids\u001b[0m\u001b[0;34m.\u001b[0m\u001b[0mreshape\u001b[0m\u001b[0;34m(\u001b[0m\u001b[0;34m(\u001b[0m\u001b[0mbatch_size\u001b[0m \u001b[0;34m*\u001b[0m \u001b[0msequence_beam_width\u001b[0m\u001b[0;34m,\u001b[0m \u001b[0;34m-\u001b[0m\u001b[0;36m1\u001b[0m\u001b[0;34m)\u001b[0m\u001b[0;34m)\u001b[0m\u001b[0;34m\u001b[0m\u001b[0;34m\u001b[0m\u001b[0m\n",
      "\u001b[0m\u001b[0;32m    380 \u001b[0;31m                \u001b[0mhypothesis_embedding\u001b[0m \u001b[0;34m=\u001b[0m \u001b[0mhypothesis_embedding\u001b[0m\u001b[0;34m.\u001b[0m\u001b[0mreshape\u001b[0m\u001b[0;34m(\u001b[0m\u001b[0;34m(\u001b[0m\u001b[0mbatch_size\u001b[0m \u001b[0;34m*\u001b[0m \u001b[0msequence_beam_width\u001b[0m\u001b[0;34m,\u001b[0m \u001b[0;34m-\u001b[0m\u001b[0;36m1\u001b[0m\u001b[0;34m)\u001b[0m\u001b[0;34m)\u001b[0m\u001b[0;34m\u001b[0m\u001b[0;34m\u001b[0m\u001b[0m\n",
      "\u001b[0m\u001b[0;32m    381 \u001b[0;31m            \u001b[0;32melif\u001b[0m \u001b[0;34m(\u001b[0m\u001b[0mnum_recursive_steps\u001b[0m \u001b[0;34m==\u001b[0m \u001b[0;36m1\u001b[0m\u001b[0;34m)\u001b[0m\u001b[0;34m:\u001b[0m\u001b[0;34m\u001b[0m\u001b[0;34m\u001b[0m\u001b[0m\n",
      "\u001b[0m\n"
     ]
    },
    {
     "name": "stdin",
     "output_type": "stream",
     "text": [
      "ipdb>  \n",
      "ipdb>  c\n"
     ]
    },
    {
     "name": "stdout",
     "output_type": "stream",
     "text": [
      "running manifest on text_list of length 24, first element '[The parking lot will require the use of a separate parking space for the proposed use of the. building.] Submit a Floor Plan: Show the existing driveway/exit dimensions, permit requirements, and existing permit requirements for each. required subfloor dimensions.'\n",
      "> \u001b[0;32m/home/jxm3/research/retrieval/inversion/trainers/corrector.py\u001b[0m(379)\u001b[0;36m_generate_with_beam\u001b[0;34m()\u001b[0m\n",
      "\u001b[0;32m    377 \u001b[0;31m                \u001b[0;31m# Flatten again so we can do normal operations.\u001b[0m\u001b[0;34m\u001b[0m\u001b[0;34m\u001b[0m\u001b[0m\n",
      "\u001b[0m\u001b[0;32m    378 \u001b[0;31m                \u001b[0;32mimport\u001b[0m \u001b[0mpdb\u001b[0m\u001b[0;34m;\u001b[0m \u001b[0mpdb\u001b[0m\u001b[0;34m.\u001b[0m\u001b[0mset_trace\u001b[0m\u001b[0;34m(\u001b[0m\u001b[0;34m)\u001b[0m\u001b[0;34m\u001b[0m\u001b[0;34m\u001b[0m\u001b[0m\n",
      "\u001b[0m\u001b[0;32m--> 379 \u001b[0;31m                \u001b[0mgen_text_ids\u001b[0m \u001b[0;34m=\u001b[0m \u001b[0mgen_text_ids\u001b[0m\u001b[0;34m.\u001b[0m\u001b[0mreshape\u001b[0m\u001b[0;34m(\u001b[0m\u001b[0;34m(\u001b[0m\u001b[0mbatch_size\u001b[0m \u001b[0;34m*\u001b[0m \u001b[0msequence_beam_width\u001b[0m\u001b[0;34m,\u001b[0m \u001b[0;34m-\u001b[0m\u001b[0;36m1\u001b[0m\u001b[0;34m)\u001b[0m\u001b[0;34m)\u001b[0m\u001b[0;34m\u001b[0m\u001b[0;34m\u001b[0m\u001b[0m\n",
      "\u001b[0m\u001b[0;32m    380 \u001b[0;31m                \u001b[0mhypothesis_embedding\u001b[0m \u001b[0;34m=\u001b[0m \u001b[0mhypothesis_embedding\u001b[0m\u001b[0;34m.\u001b[0m\u001b[0mreshape\u001b[0m\u001b[0;34m(\u001b[0m\u001b[0;34m(\u001b[0m\u001b[0mbatch_size\u001b[0m \u001b[0;34m*\u001b[0m \u001b[0msequence_beam_width\u001b[0m\u001b[0;34m,\u001b[0m \u001b[0;34m-\u001b[0m\u001b[0;36m1\u001b[0m\u001b[0;34m)\u001b[0m\u001b[0;34m)\u001b[0m\u001b[0;34m\u001b[0m\u001b[0;34m\u001b[0m\u001b[0m\n",
      "\u001b[0m\u001b[0;32m    381 \u001b[0;31m            \u001b[0;32melif\u001b[0m \u001b[0;34m(\u001b[0m\u001b[0mnum_recursive_steps\u001b[0m \u001b[0;34m==\u001b[0m \u001b[0;36m1\u001b[0m\u001b[0;34m)\u001b[0m\u001b[0;34m:\u001b[0m\u001b[0;34m\u001b[0m\u001b[0;34m\u001b[0m\u001b[0m\n",
      "\u001b[0m\n"
     ]
    },
    {
     "name": "stdin",
     "output_type": "stream",
     "text": [
      "ipdb>  c\n"
     ]
    },
    {
     "name": "stdout",
     "output_type": "stream",
     "text": [
      "running manifest on text_list of length 24, first element '[The parking lot will require the use of a separate parking space for the proposed use of the. building.] Submit a Floor Plan: Show the existing driveway/exit dimensions, permit requirements, and existing permit requirements for each. required subfloor dimensions.'\n",
      "> \u001b[0;32m/home/jxm3/research/retrieval/inversion/trainers/corrector.py\u001b[0m(379)\u001b[0;36m_generate_with_beam\u001b[0;34m()\u001b[0m\n",
      "\u001b[0;32m    377 \u001b[0;31m                \u001b[0;31m# Flatten again so we can do normal operations.\u001b[0m\u001b[0;34m\u001b[0m\u001b[0;34m\u001b[0m\u001b[0m\n",
      "\u001b[0m\u001b[0;32m    378 \u001b[0;31m                \u001b[0;32mimport\u001b[0m \u001b[0mpdb\u001b[0m\u001b[0;34m;\u001b[0m \u001b[0mpdb\u001b[0m\u001b[0;34m.\u001b[0m\u001b[0mset_trace\u001b[0m\u001b[0;34m(\u001b[0m\u001b[0;34m)\u001b[0m\u001b[0;34m\u001b[0m\u001b[0;34m\u001b[0m\u001b[0m\n",
      "\u001b[0m\u001b[0;32m--> 379 \u001b[0;31m                \u001b[0mgen_text_ids\u001b[0m \u001b[0;34m=\u001b[0m \u001b[0mgen_text_ids\u001b[0m\u001b[0;34m.\u001b[0m\u001b[0mreshape\u001b[0m\u001b[0;34m(\u001b[0m\u001b[0;34m(\u001b[0m\u001b[0mbatch_size\u001b[0m \u001b[0;34m*\u001b[0m \u001b[0msequence_beam_width\u001b[0m\u001b[0;34m,\u001b[0m \u001b[0;34m-\u001b[0m\u001b[0;36m1\u001b[0m\u001b[0;34m)\u001b[0m\u001b[0;34m)\u001b[0m\u001b[0;34m\u001b[0m\u001b[0;34m\u001b[0m\u001b[0m\n",
      "\u001b[0m\u001b[0;32m    380 \u001b[0;31m                \u001b[0mhypothesis_embedding\u001b[0m \u001b[0;34m=\u001b[0m \u001b[0mhypothesis_embedding\u001b[0m\u001b[0;34m.\u001b[0m\u001b[0mreshape\u001b[0m\u001b[0;34m(\u001b[0m\u001b[0;34m(\u001b[0m\u001b[0mbatch_size\u001b[0m \u001b[0;34m*\u001b[0m \u001b[0msequence_beam_width\u001b[0m\u001b[0;34m,\u001b[0m \u001b[0;34m-\u001b[0m\u001b[0;36m1\u001b[0m\u001b[0;34m)\u001b[0m\u001b[0;34m)\u001b[0m\u001b[0;34m\u001b[0m\u001b[0;34m\u001b[0m\u001b[0m\n",
      "\u001b[0m\u001b[0;32m    381 \u001b[0;31m            \u001b[0;32melif\u001b[0m \u001b[0;34m(\u001b[0m\u001b[0mnum_recursive_steps\u001b[0m \u001b[0;34m==\u001b[0m \u001b[0;36m1\u001b[0m\u001b[0;34m)\u001b[0m\u001b[0;34m:\u001b[0m\u001b[0;34m\u001b[0m\u001b[0;34m\u001b[0m\u001b[0m\n",
      "\u001b[0m\n"
     ]
    },
    {
     "name": "stdin",
     "output_type": "stream",
     "text": [
      "ipdb>  c\n"
     ]
    },
    {
     "name": "stderr",
     "output_type": "stream",
     "text": [
      "                                                                                                                                     \r"
     ]
    },
    {
     "name": "stdout",
     "output_type": "stream",
     "text": [
      "[pred] [The parking lot will require the use of a separate parking space for the proposed use of the. building.] Submit a Floor Plan: Show the existing driveway/exit dimensions, permit requirements, and existing permit requirements for each. required subfloor dimensions.\n",
      "[true] *The use of the driveway as the required parking spaces will require a separate submittal for a Use Permit. [ ] Floor plan (dimensioned): Show overall building size, existing and proposed room locations, existing and. proposed new window(s)/door(s) size/location(s).\n",
      "\n",
      "\n",
      "\n",
      "[pred] Our illuminated Seville map is encapsulated in a street map of every corner of the city, enabling you to intuitively discover hidden places of interest.OUR Seaside, Madrid, Valencia, Costa Rica and Seville Street maps enable you to easily navigate the cityâs central business district, the outskirts of the city center and the major cities of interest.\n",
      "[true] Our STREETWISE Seville Map enables you to explore each hidden corner of this enticing destination with a clearly defined map of the city, fully indexed and highlighted with hotels, parks and gardens, and places of interest. An inset of the center of Seville makes even the tiniest of alleyways navigable.rea maps of Cordoba, Grenada and Seville facilitate your entry into these three principal cities via auto, giving you the greatest freedom to experience all that is Southern Spain.\n",
      "\n",
      "\n",
      "\n",
      "[pred] aaa coupons 32 save aaa is an american travel organization with an average of 32 coupons for members save $ aaa codes show savings on a variety of products and services from ad va to car insurance com aaa com offers coupons for more than $ not only does aaa benefit members with significant savings\n",
      "[true] aaa coupon codes about aaa save an average of $ 32 with 26 coupon codes deals for aaa com aaa is a not for profit organization that lists the automobile clubs in the united states and offers travel benefits and automobile insurance to its members members review the aaa positively for its convenient travel benefits pricing of services and insurance claim policies shop aaa com show more show less\n",
      "running manifest on text_list of length 3, first element '[The parking lot will require the use of a separate parking space for the proposed use of the. building.] Submit a Floor Plan: Show the existing driveway/exit dimensions, permit requirements, and existing permit requirements for each. required subfloor dimensions.'\n",
      "running manifest on text_list of length 3, first element '*The use of the driveway as the required parking spaces will require a separate submittal for a Use Permit. [ ] Floor plan (dimensioned): Show overall building size, existing and proposed room locations, existing and. proposed new window(s)/door(s) size/location(s).'\n"
     ]
    },
    {
     "data": {
      "text/plain": [
       "{'eval_loss': 2.8516223430633545,\n",
       " 'eval_pred_num_tokens': 70.66667175292969,\n",
       " 'eval_true_num_tokens': 90.66667175292969,\n",
       " 'eval_token_set_precision': 0.44231153138954554,\n",
       " 'eval_token_set_recall': 0.5841417767932168,\n",
       " 'eval_token_set_f1': 0.5024191936722309,\n",
       " 'eval_bleu_score': 5.737611616562176,\n",
       " 'eval_meteor_score': 0.32083972079283724,\n",
       " 'eval_rouge_score': 0.5119062507509916,\n",
       " 'eval_exact_match': 0.0,\n",
       " 'eval_emb_cos_sim': 0.9599721431732178,\n",
       " 'eval_runtime': 37.2604,\n",
       " 'eval_samples_per_second': 0.081,\n",
       " 'eval_steps_per_second': 0.027}"
      ]
     },
     "execution_count": 6,
     "metadata": {},
     "output_type": "execute_result"
    }
   ],
   "source": [
    "corr_trainer.args.per_device_eval_batch_size = 128\n",
    "corr_trainer.return_best_hypothesis = False\n",
    "corr_trainer.num_gen_recursive_steps = 5\n",
    "corr_trainer.sequence_beam_width = 1\n",
    "corr_trainer.gen_kwargs = {\n",
    "    \"early_stopping\": False,\n",
    "    \"num_beams\": 8,\n",
    "    \"num_return_sequences\": 8,\n",
    "    \"do_sample\": False,\n",
    "    \"no_repeat_ngram_size\": 0,\n",
    "}\n",
    "corr_trainer.evaluate(\n",
    "    eval_dataset=inv_trainer.eval_dataset[\"msmarco\"].select(range(3))\n",
    ")"
   ]
  },
  {
   "cell_type": "code",
   "execution_count": 14,
   "id": "c4a9207c-c9f2-494f-a36b-ff762372f2a5",
   "metadata": {},
   "outputs": [
    {
     "name": "stdout",
     "output_type": "stream",
     "text": [
      "running manifest on text_list of length 3, first element '*The parking lot will require the use of a separate parking space for the proposed use of the. building. [District Floor Plan: Use of existing floor plan space, dimensions, and/or permit requirements for each. subfloor/space will be provided in the Submitting Documents.'\n"
     ]
    },
    {
     "name": "stderr",
     "output_type": "stream",
     "text": [
      "generating from val:   0%|                                                                                     | 0/1 [00:00<?, ?it/s]"
     ]
    },
    {
     "name": "stdout",
     "output_type": "stream",
     "text": [
      "running manifest on text_list of length 3, first element '*The parking lot will require the use of a separate parking space for the proposed use of the. building. [District Floor Plan: Use of existing floor plan space, dimensions, and/or permit requirements for each. subfloor/space will be provided in the Submitting Documents.'\n",
      "running manifest on text_list of length 24, first element '*The parking lot will require the use of a separate parking space for the proposed use of the. building. [Documentation Required] Floor Plan: Show the existing floor plan dimensions, dimensions, and/or permit requirements for each. subfloor/driveway entrance/exit.'\n",
      "running manifest on text_list of length 48, first element '*The parking lot will require the creation of a separate parking space for the proposed use of the. building. [Documentation Required] Floor Plan: Show the existing floor plan subfloor dimensions, as well as permit requirements for each.'\n",
      "running manifest on text_list of length 48, first element '*The parking permit will require the use of a separate parking space for the proposed use of the. building. [Documentation Required] Floor Plan: Show the existing floor plan size, dimensions, and submit the permit requirements for each. subroom/driveway entrance/exit.'\n",
      "running manifest on text_list of length 48, first element '*The new zoning will require a separate parking space for the proposed use of the. building. [Documentation Required] Floor Plan: Show the existing floor plan size, dimensions, and submit the permit requirements for each. subfloor/driveway entrance/exit.'\n",
      "running manifest on text_list of length 48, first element '*The use supposition will require a separate parking space for the proposed. building. [Documentation Required] Floor Plan: Show the existing floor plan dimensions, dimensions, and submit the permit requirements for each. subfloor/driveway entrance/exit.'\n"
     ]
    },
    {
     "name": "stderr",
     "output_type": "stream",
     "text": [
      "                                                                                                                                     \r"
     ]
    },
    {
     "name": "stdout",
     "output_type": "stream",
     "text": [
      "[pred] *The use supposition will require a separate parking space for the proposed. building. [Documentation Required] Floor Plan: Show the existing floor plan dimensions, dimensions, and submit the permit requirements for each. subfloor/driveway entrance/exit.\n",
      "[true] *The use of the driveway as the required parking spaces will require a separate submittal for a Use Permit. [ ] Floor plan (dimensioned): Show overall building size, existing and proposed room locations, existing and. proposed new window(s)/door(s) size/location(s).\n",
      "\n",
      "\n",
      "\n",
      "[pred] Our illuminated Seville map is encapsulated in a street map of every corner of the city, enabling you to intuitively discover hidden gems of the city.OUR SEGARDES, Valencia, Costa Rica and Seville Street maps enable a thorough exploration of the cityâs major business districts, the outskirts of the city center and places of interest.\n",
      "[true] Our STREETWISE Seville Map enables you to explore each hidden corner of this enticing destination with a clearly defined map of the city, fully indexed and highlighted with hotels, parks and gardens, and places of interest. An inset of the center of Seville makes even the tiniest of alleyways navigable.rea maps of Cordoba, Grenada and Seville facilitate your entry into these three principal cities via auto, giving you the greatest freedom to experience all that is Southern Spain.\n",
      "\n",
      "\n",
      "\n",
      "[pred] aaa coupons 32 save aaa is an american travel organization with an average of 32 coupons for members save $ show more aaa offers savings on a variety of products and services from ad va to car insurance aaa com codes code aaa not only helps members save money on their car insurance but also benefits their communities\n",
      "[true] aaa coupon codes about aaa save an average of $ 32 with 26 coupon codes deals for aaa com aaa is a not for profit organization that lists the automobile clubs in the united states and offers travel benefits and automobile insurance to its members members review the aaa positively for its convenient travel benefits pricing of services and insurance claim policies shop aaa com show more show less\n",
      "running manifest on text_list of length 3, first element '*The use supposition will require a separate parking space for the proposed. building. [Documentation Required] Floor Plan: Show the existing floor plan dimensions, dimensions, and submit the permit requirements for each. subfloor/driveway entrance/exit.'\n",
      "running manifest on text_list of length 3, first element '*The use of the driveway as the required parking spaces will require a separate submittal for a Use Permit. [ ] Floor plan (dimensioned): Show overall building size, existing and proposed room locations, existing and. proposed new window(s)/door(s) size/location(s).'\n"
     ]
    },
    {
     "data": {
      "text/plain": [
       "{'eval_loss': 2.8531715869903564,\n",
       " 'eval_pred_num_tokens': 72.0,\n",
       " 'eval_true_num_tokens': 90.66667175292969,\n",
       " 'eval_token_set_precision': 0.4452885036336573,\n",
       " 'eval_token_set_recall': 0.5256315101688679,\n",
       " 'eval_token_set_f1': 0.4791675638121649,\n",
       " 'eval_bleu_score': 7.768477927685492,\n",
       " 'eval_meteor_score': 0.30430758431383603,\n",
       " 'eval_rouge_score': 0.47676511143177813,\n",
       " 'eval_exact_match': 0.0,\n",
       " 'eval_emb_cos_sim': 0.9590933322906494,\n",
       " 'eval_runtime': 18.6381,\n",
       " 'eval_samples_per_second': 0.161,\n",
       " 'eval_steps_per_second': 0.054}"
      ]
     },
     "execution_count": 14,
     "metadata": {},
     "output_type": "execute_result"
    }
   ],
   "source": [
    "corr_trainer.args.per_device_eval_batch_size = 128\n",
    "corr_trainer.return_best_hypothesis = False\n",
    "corr_trainer.num_gen_recursive_steps = 5\n",
    "corr_trainer.sequence_beam_width = 2\n",
    "corr_trainer.gen_kwargs = {\n",
    "    \"early_stopping\": False,\n",
    "    \"num_beams\": 8,\n",
    "    \"num_return_sequences\": 8,\n",
    "    \"do_sample\": False,\n",
    "    \"no_repeat_ngram_size\": 0,\n",
    "}\n",
    "corr_trainer.evaluate(\n",
    "    eval_dataset=inv_trainer.eval_dataset[\"msmarco\"].select(range(3))\n",
    ")"
   ]
  },
  {
   "cell_type": "code",
   "execution_count": null,
   "id": "7df07e01-ffca-428b-b009-ae4405ed32a6",
   "metadata": {},
   "outputs": [],
   "source": [
    "corr_trainer.args.per_device_eval_batch_size = 128\n",
    "corr_trainer.return_best_hypothesis = False\n",
    "corr_trainer.num_gen_recursive_steps = 5\n",
    "corr_trainer.sequence_beam_width = 4\n",
    "corr_trainer.gen_kwargs = {\n",
    "    \"early_stopping\": False,\n",
    "    \"num_beams\": 8,\n",
    "    \"num_return_sequences\": 8,\n",
    "    \"do_sample\": False,\n",
    "    \"no_repeat_ngram_size\": 0,\n",
    "}\n",
    "corr_trainer.evaluate(\n",
    "    eval_dataset=inv_trainer.eval_dataset[\"msmarco\"].select(range(3))\n",
    ")"
   ]
  },
  {
   "cell_type": "code",
   "execution_count": null,
   "id": "e836905a-0ea6-4fe6-894d-2381a1d66c6c",
   "metadata": {},
   "outputs": [],
   "source": []
  }
 ],
 "metadata": {
  "kernelspec": {
   "display_name": "Python 3 (ipykernel)",
   "language": "python",
   "name": "python3"
  },
  "language_info": {
   "codemirror_mode": {
    "name": "ipython",
    "version": 3
   },
   "file_extension": ".py",
   "mimetype": "text/x-python",
   "name": "python",
   "nbconvert_exporter": "python",
   "pygments_lexer": "ipython3",
   "version": "3.10.10"
  }
 },
 "nbformat": 4,
 "nbformat_minor": 5
}
