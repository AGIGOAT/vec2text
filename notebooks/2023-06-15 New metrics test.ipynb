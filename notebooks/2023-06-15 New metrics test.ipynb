{
 "cells": [
  {
   "cell_type": "code",
   "execution_count": 1,
   "id": "266ddaf0-33da-4e80-a751-4af6576fab34",
   "metadata": {},
   "outputs": [],
   "source": [
    "%load_ext autoreload\n",
    "%autoreload 2\n",
    "\n",
    "import os\n",
    "os.environ[\"WANDB_DISABLED\"] = \"true\"\n",
    "\n",
    "import sys\n",
    "sys.path = [\n",
    "    p for p in sys.path\n",
    "    if p not in ['/home/jxm3/research/prompting/imodelsX', '/home/jxm3/research/prompting/tree-prompt']\n",
    "]\n",
    "sys.path.append('/home/jxm3/research/retrieval/inversion')"
   ]
  },
  {
   "cell_type": "code",
   "execution_count": 2,
   "id": "a22c6472-6e3c-4390-8e6c-f3915a037a2d",
   "metadata": {},
   "outputs": [
    {
     "name": "stdout",
     "output_type": "stream",
     "text": [
      "loading alias openai_msmarco__msl128__100epoch__correct from /home/jxm3/research/retrieval/inversion/saves/d6ec9d5838a4ad3daeba636e5378a8a0...\n",
      "> checkpoint: /home/jxm3/research/retrieval/inversion/saves/d6ec9d5838a4ad3daeba636e5378a8a0/checkpoint-384000\n",
      "loading alias openai_msmarco__msl128__100epoch from /home/jxm3/research/retrieval/inversion/saves/f9abd65db4c4823264b133816d08612f...\n",
      "Overwriting max sequence length from 128 to 128\n",
      "> checkpoint: /home/jxm3/research/retrieval/inversion/saves/f9abd65db4c4823264b133816d08612f/checkpoint-194000\n"
     ]
    },
    {
     "name": "stderr",
     "output_type": "stream",
     "text": [
      "/home/jxm3/.conda/envs/torch/lib/python3.10/site-packages/transformers/models/t5/tokenization_t5_fast.py:155: FutureWarning: This tokenizer was incorrectly instantiated with a model max length of 512 which will be corrected in Transformers v5.\n",
      "For now, this behavior is kept to avoid breaking backwards compatibility when padding/encoding with `truncation is True`.\n",
      "- Be aware that you SHOULD NOT rely on t5-base automatically truncating your input to 512 when padding/encoding.\n",
      "- If you want to encode/pad to sequences longer than 512 you can either instantiate this tokenizer with `model_max_length` or pass `max_length` when encoding/padding.\n",
      "- To avoid this warning, please instantiate this tokenizer with `model_max_length` set to your preferred value.\n",
      "  warnings.warn(\n"
     ]
    },
    {
     "name": "stdout",
     "output_type": "stream",
     "text": [
      "Loading datasets with TOKENIZERS_PARALLELISM = True\n"
     ]
    },
    {
     "name": "stderr",
     "output_type": "stream",
     "text": [
      "[nltk_data] Downloading package wordnet to /home/jxm3/nltk_data...\n",
      "[nltk_data]   Package wordnet is already up-to-date!\n",
      "[nltk_data] Downloading package punkt to /home/jxm3/nltk_data...\n",
      "[nltk_data]   Package punkt is already up-to-date!\n",
      "[nltk_data] Downloading package omw-1.4 to /home/jxm3/nltk_data...\n",
      "[nltk_data]   Package omw-1.4 is already up-to-date!\n"
     ]
    },
    {
     "name": "stdout",
     "output_type": "stream",
     "text": [
      "================ Begin trainer sanity check ================\n",
      "\tInput to encode -> Twas brillig, and the slithy toves, Did gyre and gimble in the wabe, All mimsy were the borogoves, And the mome raths outgrabe.\n",
      "\tDecoded output shape ->  torch.Size([1, 86])\n",
      "\tDecoded output -> And the trolls, trolls, trolls, trolls, trolls, trolls, trolls, trolls, trolls, trolls, trolls, trolls, trolls, trolls, was brilliant, and smooty.\n",
      "================ End trainer sanity check ================\n",
      "Froze 353779584 params from model type <class 'models.inversion.InversionModel'>\n"
     ]
    },
    {
     "name": "stderr",
     "output_type": "stream",
     "text": [
      "[nltk_data] Downloading package wordnet to /home/jxm3/nltk_data...\n",
      "[nltk_data]   Package wordnet is already up-to-date!\n",
      "[nltk_data] Downloading package punkt to /home/jxm3/nltk_data...\n",
      "[nltk_data]   Package punkt is already up-to-date!\n",
      "[nltk_data] Downloading package omw-1.4 to /home/jxm3/nltk_data...\n",
      "[nltk_data]   Package omw-1.4 is already up-to-date!\n"
     ]
    },
    {
     "name": "stdout",
     "output_type": "stream",
     "text": [
      "================ Begin trainer sanity check ================\n",
      "\tInput to encode -> Twas brillig, and the slithy toves, Did gyre and gimble in the wabe, All mimsy were the borogoves, And the mome raths outgrabe.\n",
      "CE.generate: {'early_stopping': False, 'num_beams': 1, 'do_sample': False, 'no_repeat_ngram_size': 0, 'min_length': 1, 'max_length': 128, 'num_return_sequences': 1}\n",
      "\tDecoded output shape ->  torch.Size([1, 64])\n",
      "\tDecoded output -> Was brilliant, and witty, And witty, and witty, and witty, and witty, and witty, and witty, witty, witty, witty, witty, witty, witty.\n",
      "================ End trainer sanity check ================\n",
      "Loading hypotheses from path /home/jxm3/research/retrieval/inversion/saves/f9abd65db4c4823264b133816d08612f/9d4a4d4b36da188a6e9dcb9736262823/0ed77465b20070e5_hypotheses.cache\n",
      "Loading hypotheses from path /home/jxm3/research/retrieval/inversion/saves/f9abd65db4c4823264b133816d08612f/9d4a4d4b36da188a6e9dcb9736262823/fa5c492104fd5235_hypotheses.cache\n",
      "Loading hypotheses from path /home/jxm3/research/retrieval/inversion/saves/f9abd65db4c4823264b133816d08612f/9d4a4d4b36da188a6e9dcb9736262823/927a7aa89af4e080_hypotheses.cache\n",
      "Loading hypotheses from path /home/jxm3/research/retrieval/inversion/saves/f9abd65db4c4823264b133816d08612f/9d4a4d4b36da188a6e9dcb9736262823/d405c2908a2abede_hypotheses.cache\n",
      "Loading hypotheses from path /home/jxm3/research/retrieval/inversion/saves/f9abd65db4c4823264b133816d08612f/9d4a4d4b36da188a6e9dcb9736262823/35c1eff11b4e82d2_hypotheses.cache\n",
      "\n"
     ]
    }
   ],
   "source": [
    "import aliases\n",
    "\n",
    "# inv_trainer = aliases.load_trainer_from_alias(\"openai_msmarco__msl128__100epoch\")\n",
    "corr_experiment, corr_trainer = aliases.load_experiment_and_trainer_from_alias(\"openai_msmarco__msl128__100epoch__correct\") #  max_seq_length=32\n",
    "inv_trainer = corr_trainer.inversion_trainer\n",
    "corr_trainer.precompute_hypotheses()\n",
    "corr_trainer.model.eval()\n",
    "print()"
   ]
  },
  {
   "cell_type": "code",
   "execution_count": 5,
   "id": "8815d086-1426-4c52-8431-f0750e48a07b",
   "metadata": {},
   "outputs": [
    {
     "name": "stderr",
     "output_type": "stream",
     "text": [
      "generating from val:   0%|                                                                                                              | 0/4 [00:00<?, ?it/s]"
     ]
    },
    {
     "name": "stdout",
     "output_type": "stream",
     "text": [
      "CE.generate: {'early_stopping': False, 'num_beams': 1, 'num_return_sequences': 1, 'do_sample': False, 'no_repeat_ngram_size': 0, 'max_length': 128}\n"
     ]
    },
    {
     "name": "stderr",
     "output_type": "stream",
     "text": [
      "generating from val:  25%|█████████████████████████▌                                                                            | 1/4 [00:05<00:17,  5.95s/it]"
     ]
    },
    {
     "name": "stdout",
     "output_type": "stream",
     "text": [
      "CE.generate: {'early_stopping': False, 'num_beams': 1, 'num_return_sequences': 1, 'do_sample': False, 'no_repeat_ngram_size': 0, 'max_length': 128}\n"
     ]
    },
    {
     "name": "stderr",
     "output_type": "stream",
     "text": [
      "generating from val:  50%|███████████████████████████████████████████████████                                                   | 2/4 [00:10<00:09,  4.87s/it]"
     ]
    },
    {
     "name": "stdout",
     "output_type": "stream",
     "text": [
      "CE.generate: {'early_stopping': False, 'num_beams': 1, 'num_return_sequences': 1, 'do_sample': False, 'no_repeat_ngram_size': 0, 'max_length': 128}\n"
     ]
    },
    {
     "name": "stderr",
     "output_type": "stream",
     "text": [
      "generating from val:  75%|████████████████████████████████████████████████████████████████████████████▌                         | 3/4 [00:17<00:05,  5.83s/it]"
     ]
    },
    {
     "name": "stdout",
     "output_type": "stream",
     "text": [
      "CE.generate: {'early_stopping': False, 'num_beams': 1, 'num_return_sequences': 1, 'do_sample': False, 'no_repeat_ngram_size': 0, 'max_length': 128}\n"
     ]
    },
    {
     "name": "stderr",
     "output_type": "stream",
     "text": [
      "                                                                                                                                                              \r"
     ]
    },
    {
     "name": "stdout",
     "output_type": "stream",
     "text": [
      "[pred] [Submit the proposed floor plan for the new drive space.]. Parking Permits: The use of a separate parking space will be required. The floor plan dimensions will be shown on each / each / each / each / each / each / each / each / each / each /.\n",
      "[true] *The use of the driveway as the required parking spaces will require a separate submittal for a Use Permit. [ ] Floor plan (dimensioned): Show overall building size, existing and proposed room locations, existing and. proposed new window(s)/door(s) size/location(s).\n",
      "\n",
      "\n",
      "\n",
      "[pred] Our INSPIRED Seville map is fully illuminated, allowing you to explore each city in a clear and direct view. Our Seville map also includes a map of the streets of the city, a map of the streets of the city center, and a map of the streets of the city's major cities.elcome to the hidden treasures of Spain with a map of the streets of Madrid, Caracas, Valencia and Seville, a quaint town with a thriving medieval town centre and a thriving city with a thriving city life.\n",
      "[true] Our STREETWISE Seville Map enables you to explore each hidden corner of this enticing destination with a clearly defined map of the city, fully indexed and highlighted with hotels, parks and gardens, and places of interest. An inset of the center of Seville makes even the tiniest of alleyways navigable.rea maps of Cordoba, Grenada and Seville facilitate your entry into these three principal cities via auto, giving you the greatest freedom to experience all that is Southern Spain.\n",
      "\n",
      "\n",
      "\n",
      "[pred] aaa coupon codes save $ 32 save $ 32 with an average savings of $ 32 for aacom aaa is an e com company that promotes and promotes travel for more than 32 years aaa coupons not only offer savings on aa car insurance but also offer discounts on other auto insurance products and services for members of the united states and around the world\n",
      "[true] aaa coupon codes about aaa save an average of $ 32 with 26 coupon codes deals for aaa com aaa is a not for profit organization that lists the automobile clubs in the united states and offers travel benefits and automobile insurance to its members members review the aaa positively for its convenient travel benefits pricing of services and insurance claim policies shop aaa com show more show less\n"
     ]
    },
    {
     "data": {
      "text/plain": [
       "{'eval_loss': 1.7197115421295166,\n",
       " 'eval_pred_num_tokens': 83.2578125,\n",
       " 'eval_true_num_tokens': 80.859375,\n",
       " 'eval_token_set_precision': 0.5537516660863742,\n",
       " 'eval_token_set_recall': 0.6159165248349496,\n",
       " 'eval_token_set_f1': 0.5798683094750575,\n",
       " 'eval_n_ngrams_match_1': 35.65,\n",
       " 'eval_n_ngrams_match_2': 15.134,\n",
       " 'eval_n_ngrams_match_3': 7.89,\n",
       " 'eval_num_true_words': 62.192,\n",
       " 'eval_num_pred_words': 62.966,\n",
       " 'eval_bleu_score': 19.699567870193906,\n",
       " 'eval_meteor_score': 0.4568287738796212,\n",
       " 'eval_rouge_score': 0.5758685840338376,\n",
       " 'eval_exact_match': 0.006,\n",
       " 'eval_emb_cos_sim': 0.9569383859634399,\n",
       " 'eval_runtime': 30.4324,\n",
       " 'eval_samples_per_second': 16.43,\n",
       " 'eval_steps_per_second': 0.131}"
      ]
     },
     "execution_count": 5,
     "metadata": {},
     "output_type": "execute_result"
    }
   ],
   "source": [
    "corr_trainer.args.per_device_eval_batch_size = 128\n",
    "corr_trainer.gen_kwargs = {\n",
    "    \"early_stopping\": False,\n",
    "    \"num_beams\": 1,\n",
    "    \"num_return_sequences\": 1,\n",
    "    \"do_sample\": False,\n",
    "    \"no_repeat_ngram_size\": 0,\n",
    "    # \"max_length\": 32,\n",
    "    # \"min_length\": 32,\n",
    "}\n",
    "corr_trainer.evaluate(\n",
    "    eval_dataset=corr_trainer.eval_dataset[\"msmarco\"].select(range(500))\n",
    ")"
   ]
  },
  {
   "cell_type": "code",
   "execution_count": 6,
   "id": "d425cfc9-3eb3-48bb-ae73-b7e160d5fd17",
   "metadata": {},
   "outputs": [
    {
     "name": "stderr",
     "output_type": "stream",
     "text": [
      "generating from val:   0%|                                                                                                              | 0/4 [00:00<?, ?it/s]"
     ]
    },
    {
     "name": "stdout",
     "output_type": "stream",
     "text": [
      "CE.generate: {'early_stopping': False, 'num_beams': 1, 'num_return_sequences': 1, 'do_sample': False, 'no_repeat_ngram_size': 0, 'max_length': 128}\n",
      "CE.generate: {'early_stopping': False, 'num_beams': 1, 'num_return_sequences': 1, 'do_sample': False, 'no_repeat_ngram_size': 0, 'max_length': 128}\n",
      "CE.generate: {'early_stopping': False, 'num_beams': 1, 'num_return_sequences': 1, 'do_sample': False, 'no_repeat_ngram_size': 0, 'max_length': 128}\n",
      "CE.generate: {'early_stopping': False, 'num_beams': 1, 'num_return_sequences': 1, 'do_sample': False, 'no_repeat_ngram_size': 0, 'max_length': 128}\n",
      "CE.generate: {'early_stopping': False, 'num_beams': 1, 'num_return_sequences': 1, 'do_sample': False, 'no_repeat_ngram_size': 0, 'max_length': 128}\n",
      "CE.generate: {'early_stopping': False, 'num_beams': 1, 'num_return_sequences': 1, 'do_sample': False, 'no_repeat_ngram_size': 0, 'max_length': 128}\n",
      "CE.generate: {'early_stopping': False, 'num_beams': 1, 'num_return_sequences': 1, 'do_sample': False, 'no_repeat_ngram_size': 0, 'max_length': 128}\n",
      "CE.generate: {'early_stopping': False, 'num_beams': 1, 'num_return_sequences': 1, 'do_sample': False, 'no_repeat_ngram_size': 0, 'max_length': 128}\n",
      "CE.generate: {'early_stopping': False, 'num_beams': 1, 'num_return_sequences': 1, 'do_sample': False, 'no_repeat_ngram_size': 0, 'max_length': 128}\n",
      "CE.generate: {'early_stopping': False, 'num_beams': 1, 'num_return_sequences': 1, 'do_sample': False, 'no_repeat_ngram_size': 0, 'max_length': 128}\n"
     ]
    },
    {
     "name": "stderr",
     "output_type": "stream",
     "text": [
      "generating from val:  25%|█████████████████████████▌                                                                            | 1/4 [00:47<02:23, 47.95s/it]"
     ]
    },
    {
     "name": "stdout",
     "output_type": "stream",
     "text": [
      "CE.generate: {'early_stopping': False, 'num_beams': 1, 'num_return_sequences': 1, 'do_sample': False, 'no_repeat_ngram_size': 0, 'max_length': 128}\n",
      "CE.generate: {'early_stopping': False, 'num_beams': 1, 'num_return_sequences': 1, 'do_sample': False, 'no_repeat_ngram_size': 0, 'max_length': 128}\n",
      "CE.generate: {'early_stopping': False, 'num_beams': 1, 'num_return_sequences': 1, 'do_sample': False, 'no_repeat_ngram_size': 0, 'max_length': 128}\n",
      "CE.generate: {'early_stopping': False, 'num_beams': 1, 'num_return_sequences': 1, 'do_sample': False, 'no_repeat_ngram_size': 0, 'max_length': 128}\n",
      "CE.generate: {'early_stopping': False, 'num_beams': 1, 'num_return_sequences': 1, 'do_sample': False, 'no_repeat_ngram_size': 0, 'max_length': 128}\n",
      "CE.generate: {'early_stopping': False, 'num_beams': 1, 'num_return_sequences': 1, 'do_sample': False, 'no_repeat_ngram_size': 0, 'max_length': 128}\n",
      "CE.generate: {'early_stopping': False, 'num_beams': 1, 'num_return_sequences': 1, 'do_sample': False, 'no_repeat_ngram_size': 0, 'max_length': 128}\n",
      "CE.generate: {'early_stopping': False, 'num_beams': 1, 'num_return_sequences': 1, 'do_sample': False, 'no_repeat_ngram_size': 0, 'max_length': 128}\n",
      "CE.generate: {'early_stopping': False, 'num_beams': 1, 'num_return_sequences': 1, 'do_sample': False, 'no_repeat_ngram_size': 0, 'max_length': 128}\n",
      "CE.generate: {'early_stopping': False, 'num_beams': 1, 'num_return_sequences': 1, 'do_sample': False, 'no_repeat_ngram_size': 0, 'max_length': 128}\n"
     ]
    },
    {
     "name": "stderr",
     "output_type": "stream",
     "text": [
      "generating from val:  50%|███████████████████████████████████████████████████                                                   | 2/4 [01:33<01:33, 46.73s/it]"
     ]
    },
    {
     "name": "stdout",
     "output_type": "stream",
     "text": [
      "CE.generate: {'early_stopping': False, 'num_beams': 1, 'num_return_sequences': 1, 'do_sample': False, 'no_repeat_ngram_size': 0, 'max_length': 128}\n",
      "CE.generate: {'early_stopping': False, 'num_beams': 1, 'num_return_sequences': 1, 'do_sample': False, 'no_repeat_ngram_size': 0, 'max_length': 128}\n",
      "CE.generate: {'early_stopping': False, 'num_beams': 1, 'num_return_sequences': 1, 'do_sample': False, 'no_repeat_ngram_size': 0, 'max_length': 128}\n",
      "CE.generate: {'early_stopping': False, 'num_beams': 1, 'num_return_sequences': 1, 'do_sample': False, 'no_repeat_ngram_size': 0, 'max_length': 128}\n",
      "CE.generate: {'early_stopping': False, 'num_beams': 1, 'num_return_sequences': 1, 'do_sample': False, 'no_repeat_ngram_size': 0, 'max_length': 128}\n",
      "CE.generate: {'early_stopping': False, 'num_beams': 1, 'num_return_sequences': 1, 'do_sample': False, 'no_repeat_ngram_size': 0, 'max_length': 128}\n",
      "CE.generate: {'early_stopping': False, 'num_beams': 1, 'num_return_sequences': 1, 'do_sample': False, 'no_repeat_ngram_size': 0, 'max_length': 128}\n",
      "CE.generate: {'early_stopping': False, 'num_beams': 1, 'num_return_sequences': 1, 'do_sample': False, 'no_repeat_ngram_size': 0, 'max_length': 128}\n",
      "CE.generate: {'early_stopping': False, 'num_beams': 1, 'num_return_sequences': 1, 'do_sample': False, 'no_repeat_ngram_size': 0, 'max_length': 128}\n",
      "CE.generate: {'early_stopping': False, 'num_beams': 1, 'num_return_sequences': 1, 'do_sample': False, 'no_repeat_ngram_size': 0, 'max_length': 128}\n"
     ]
    },
    {
     "name": "stderr",
     "output_type": "stream",
     "text": [
      "generating from val:  75%|████████████████████████████████████████████████████████████████████████████▌                         | 3/4 [02:14<00:43, 43.79s/it]"
     ]
    },
    {
     "name": "stdout",
     "output_type": "stream",
     "text": [
      "CE.generate: {'early_stopping': False, 'num_beams': 1, 'num_return_sequences': 1, 'do_sample': False, 'no_repeat_ngram_size': 0, 'max_length': 128}\n",
      "CE.generate: {'early_stopping': False, 'num_beams': 1, 'num_return_sequences': 1, 'do_sample': False, 'no_repeat_ngram_size': 0, 'max_length': 128}\n",
      "CE.generate: {'early_stopping': False, 'num_beams': 1, 'num_return_sequences': 1, 'do_sample': False, 'no_repeat_ngram_size': 0, 'max_length': 128}\n",
      "CE.generate: {'early_stopping': False, 'num_beams': 1, 'num_return_sequences': 1, 'do_sample': False, 'no_repeat_ngram_size': 0, 'max_length': 128}\n",
      "CE.generate: {'early_stopping': False, 'num_beams': 1, 'num_return_sequences': 1, 'do_sample': False, 'no_repeat_ngram_size': 0, 'max_length': 128}\n",
      "CE.generate: {'early_stopping': False, 'num_beams': 1, 'num_return_sequences': 1, 'do_sample': False, 'no_repeat_ngram_size': 0, 'max_length': 128}\n",
      "CE.generate: {'early_stopping': False, 'num_beams': 1, 'num_return_sequences': 1, 'do_sample': False, 'no_repeat_ngram_size': 0, 'max_length': 128}\n",
      "CE.generate: {'early_stopping': False, 'num_beams': 1, 'num_return_sequences': 1, 'do_sample': False, 'no_repeat_ngram_size': 0, 'max_length': 128}\n",
      "CE.generate: {'early_stopping': False, 'num_beams': 1, 'num_return_sequences': 1, 'do_sample': False, 'no_repeat_ngram_size': 0, 'max_length': 128}\n",
      "CE.generate: {'early_stopping': False, 'num_beams': 1, 'num_return_sequences': 1, 'do_sample': False, 'no_repeat_ngram_size': 0, 'max_length': 128}\n"
     ]
    },
    {
     "name": "stderr",
     "output_type": "stream",
     "text": [
      "                                                                                                                                                              \r"
     ]
    },
    {
     "name": "stdout",
     "output_type": "stream",
     "text": [
      "[pred] ** The proposed floor plan will require a separate permit for the use of the existing. parking space. Subdivisions: [Draw Space Use Permit / Show dimensions of each parking space, including total dimensions, and drive width(s) for each vehicle.\n",
      "[true] *The use of the driveway as the required parking spaces will require a separate submittal for a Use Permit. [ ] Floor plan (dimensioned): Show overall building size, existing and proposed room locations, existing and. proposed new window(s)/door(s) size/location(s).\n",
      "\n",
      "\n",
      "\n",
      "[pred] Our SEVILLE StreetMap encapsulates every hidden gem in Seville, allowing you to take advantage of the city's hidden attractions and attractions. This map is fully indexable and enables you to explore the city's central business district, the outskirts of the city and the surrounding areas.ntroduced with a map of the prestigious Costa Rica hotels, a map of the prestigious Costa Rican hotels and a map of the prestigious Costa Rican hotels, this is a guide to the most prestigious Costa Rica hotels.\n",
      "[true] Our STREETWISE Seville Map enables you to explore each hidden corner of this enticing destination with a clearly defined map of the city, fully indexed and highlighted with hotels, parks and gardens, and places of interest. An inset of the center of Seville makes even the tiniest of alleyways navigable.rea maps of Cordoba, Grenada and Seville facilitate your entry into these three principal cities via auto, giving you the greatest freedom to experience all that is Southern Spain.\n",
      "\n",
      "\n",
      "\n",
      "[pred] aaa coupons save $ 32 save $ 33 with an average coupon of $ 32 for aaa aaa not for profit organization saves $ 32 with more than 50 aaa coupons aaa members benefit from an extensive list of auto insurance and travel related services and coupons provided by aacom members\n",
      "[true] aaa coupon codes about aaa save an average of $ 32 with 26 coupon codes deals for aaa com aaa is a not for profit organization that lists the automobile clubs in the united states and offers travel benefits and automobile insurance to its members members review the aaa positively for its convenient travel benefits pricing of services and insurance claim policies shop aaa com show more show less\n"
     ]
    },
    {
     "data": {
      "text/plain": [
       "{'eval_loss': 1.7197115421295166,\n",
       " 'eval_pred_num_tokens': 80.140625,\n",
       " 'eval_true_num_tokens': 80.859375,\n",
       " 'eval_token_set_precision': 0.5955828167311855,\n",
       " 'eval_token_set_recall': 0.6580361554601318,\n",
       " 'eval_token_set_f1': 0.6219723169511008,\n",
       " 'eval_n_ngrams_match_1': 37.282,\n",
       " 'eval_n_ngrams_match_2': 17.574,\n",
       " 'eval_n_ngrams_match_3': 10.19,\n",
       " 'eval_num_true_words': 62.192,\n",
       " 'eval_num_pred_words': 61.1,\n",
       " 'eval_bleu_score': 24.320978770032514,\n",
       " 'eval_meteor_score': 0.5045429879941058,\n",
       " 'eval_rouge_score': 0.6181371014068007,\n",
       " 'eval_exact_match': 0.006,\n",
       " 'eval_emb_cos_sim': 0.9649533033370972,\n",
       " 'eval_runtime': 184.8661,\n",
       " 'eval_samples_per_second': 2.705,\n",
       " 'eval_steps_per_second': 0.022}"
      ]
     },
     "execution_count": 6,
     "metadata": {},
     "output_type": "execute_result"
    }
   ],
   "source": [
    "corr_trainer.args.per_device_eval_batch_size = 128\n",
    "corr_trainer.return_best_hypothesis = False\n",
    "corr_trainer.num_gen_recursive_steps = 10\n",
    "corr_trainer.gen_kwargs = {\n",
    "    \"early_stopping\": False,\n",
    "    \"num_beams\": 1,\n",
    "    \"num_return_sequences\": 1,\n",
    "    \"do_sample\": False,\n",
    "    \"no_repeat_ngram_size\": 0,\n",
    "}\n",
    "corr_trainer.evaluate(\n",
    "    eval_dataset=inv_trainer.eval_dataset[\"msmarco\"].select(range(500))\n",
    ")"
   ]
  },
  {
   "cell_type": "code",
   "execution_count": 7,
   "id": "0f472885-5d40-43cc-962a-b02fdc4eb52b",
   "metadata": {},
   "outputs": [
    {
     "name": "stderr",
     "output_type": "stream",
     "text": [
      "generating from val:   0%|                                                                                                              | 0/4 [00:00<?, ?it/s]"
     ]
    },
    {
     "name": "stdout",
     "output_type": "stream",
     "text": [
      "CE.generate: {'early_stopping': False, 'num_beams': 1, 'num_return_sequences': 1, 'do_sample': False, 'no_repeat_ngram_size': 0, 'max_length': 128}\n"
     ]
    },
    {
     "name": "stderr",
     "output_type": "stream",
     "text": [
      "generating from val:  25%|█████████████████████████▌                                                                            | 1/4 [00:08<00:24,  8.29s/it]"
     ]
    },
    {
     "name": "stdout",
     "output_type": "stream",
     "text": [
      "CE.generate: {'early_stopping': False, 'num_beams': 1, 'num_return_sequences': 1, 'do_sample': False, 'no_repeat_ngram_size': 0, 'max_length': 128}\n"
     ]
    },
    {
     "name": "stderr",
     "output_type": "stream",
     "text": [
      "generating from val:  50%|███████████████████████████████████████████████████                                                   | 2/4 [00:20<00:20, 10.30s/it]"
     ]
    },
    {
     "name": "stdout",
     "output_type": "stream",
     "text": [
      "CE.generate: {'early_stopping': False, 'num_beams': 1, 'num_return_sequences': 1, 'do_sample': False, 'no_repeat_ngram_size': 0, 'max_length': 128}\n"
     ]
    },
    {
     "name": "stderr",
     "output_type": "stream",
     "text": [
      "generating from val:  75%|████████████████████████████████████████████████████████████████████████████▌                         | 3/4 [00:27<00:08,  8.80s/it]"
     ]
    },
    {
     "name": "stdout",
     "output_type": "stream",
     "text": [
      "CE.generate: {'early_stopping': False, 'num_beams': 1, 'num_return_sequences': 1, 'do_sample': False, 'no_repeat_ngram_size': 0, 'max_length': 128}\n"
     ]
    },
    {
     "name": "stderr",
     "output_type": "stream",
     "text": [
      "                                                                                                                                                              \r"
     ]
    },
    {
     "name": "stdout",
     "output_type": "stream",
     "text": [
      "[pred] Examples include HCl, H2O, H2O, H2O, H2O, H2O, H2O, H2O, H2O, H2O, H2O, H2O, H2O, H2O, H2O, H2O, H2O, H2O, H2O, H2O, H2O, H2O. Binary Acids. Binary acids begin with the name of one of the two elements in the compound (the other being the halogen). This is the second of the three classes of\n",
      "[true] Examples: HF, HCl, HBr, HI, H2O, H2S. The names of binary acids begin with hydro-followed by the name of the other element modified to end with-ic (like in hydro chlor ic acid). Binary Acids are one of two classes of acids, the second being the Ternary Acids. The Ternary acids either consist of a hydrogen, oxygen and one other nonmetal element called the oxoacids (like HNO3), or they consist of hydrogen and two other nonmetal elements,\n",
      "\n",
      "\n",
      "\n",
      "[pred] Co: Writer should now be in the beginning stages of writing. Co: Writer will give you a sense of what to write as you type. Sentences: As you type one word, Co: Writer will add another word to the sentence and place it in the cursor.\n",
      "[true] Co:Writer should now be in the foreground. Writing Sentences: You will write sentences one at a time with Co:Writer. As you begin to type a word, Co:Writer offers guesses as to what the word is, based on the letters you typed and other factors.\n",
      "\n",
      "\n",
      "\n",
      "[pred] earthly. Relating to, characteristic of, or characterized by the earth: earthbound, manorial, earthen, earthy, mundane, earthy, earthy, earthy, earthy world, earthy, mundane.\n",
      "[true] mundane. Relating to or characteristic of the earth or of human life on earth: earthbound, earthen, earthly, earthy, secular, tellurian, telluric, temporal, terrene, terrestrial, worldly.\n"
     ]
    },
    {
     "data": {
      "text/plain": [
       "{'eval_loss': 1.2292510271072388,\n",
       " 'eval_pred_num_tokens': 81.359375,\n",
       " 'eval_true_num_tokens': 80.90625,\n",
       " 'eval_token_set_precision': 0.5991765193079914,\n",
       " 'eval_token_set_recall': 0.6723170009454147,\n",
       " 'eval_token_set_f1': 0.6298408904291689,\n",
       " 'eval_n_ngrams_match_1': 38.326,\n",
       " 'eval_n_ngrams_match_2': 19.294,\n",
       " 'eval_n_ngrams_match_3': 11.93,\n",
       " 'eval_num_true_words': 63.416,\n",
       " 'eval_num_pred_words': 62.798,\n",
       " 'eval_bleu_score': 26.875261937629077,\n",
       " 'eval_meteor_score': 0.5209325402476019,\n",
       " 'eval_rouge_score': 0.6266205070058715,\n",
       " 'eval_exact_match': 0.024,\n",
       " 'eval_emb_cos_sim': 0.9639298915863037,\n",
       " 'eval_runtime': 58.9521,\n",
       " 'eval_samples_per_second': 8.481,\n",
       " 'eval_steps_per_second': 0.068}"
      ]
     },
     "execution_count": 7,
     "metadata": {},
     "output_type": "execute_result"
    }
   ],
   "source": [
    "corr_trainer.args.per_device_eval_batch_size = 128\n",
    "corr_trainer.return_best_hypothesis = False\n",
    "corr_trainer.num_gen_recursive_steps = 1\n",
    "corr_trainer.gen_kwargs = {\n",
    "    \"early_stopping\": False,\n",
    "    \"num_beams\": 1,\n",
    "    \"num_return_sequences\": 1,\n",
    "    \"do_sample\": False,\n",
    "    \"no_repeat_ngram_size\": 0,\n",
    "}\n",
    "corr_trainer.evaluate(\n",
    "    eval_dataset=inv_trainer.train_dataset.select(range(500))\n",
    ")"
   ]
  },
  {
   "cell_type": "code",
   "execution_count": 8,
   "id": "c66813ca-37fd-4d17-be6d-6c97fc876507",
   "metadata": {},
   "outputs": [
    {
     "name": "stderr",
     "output_type": "stream",
     "text": [
      "generating from val:   0%|                                                                                                              | 0/4 [00:00<?, ?it/s]"
     ]
    },
    {
     "name": "stdout",
     "output_type": "stream",
     "text": [
      "CE.generate: {'early_stopping': False, 'num_beams': 1, 'num_return_sequences': 1, 'do_sample': False, 'no_repeat_ngram_size': 0, 'max_length': 128}\n",
      "CE.generate: {'early_stopping': False, 'num_beams': 1, 'num_return_sequences': 1, 'do_sample': False, 'no_repeat_ngram_size': 0, 'max_length': 128}\n",
      "CE.generate: {'early_stopping': False, 'num_beams': 1, 'num_return_sequences': 1, 'do_sample': False, 'no_repeat_ngram_size': 0, 'max_length': 128}\n",
      "CE.generate: {'early_stopping': False, 'num_beams': 1, 'num_return_sequences': 1, 'do_sample': False, 'no_repeat_ngram_size': 0, 'max_length': 128}\n",
      "CE.generate: {'early_stopping': False, 'num_beams': 1, 'num_return_sequences': 1, 'do_sample': False, 'no_repeat_ngram_size': 0, 'max_length': 128}\n",
      "CE.generate: {'early_stopping': False, 'num_beams': 1, 'num_return_sequences': 1, 'do_sample': False, 'no_repeat_ngram_size': 0, 'max_length': 128}\n",
      "CE.generate: {'early_stopping': False, 'num_beams': 1, 'num_return_sequences': 1, 'do_sample': False, 'no_repeat_ngram_size': 0, 'max_length': 128}\n",
      "CE.generate: {'early_stopping': False, 'num_beams': 1, 'num_return_sequences': 1, 'do_sample': False, 'no_repeat_ngram_size': 0, 'max_length': 128}\n",
      "CE.generate: {'early_stopping': False, 'num_beams': 1, 'num_return_sequences': 1, 'do_sample': False, 'no_repeat_ngram_size': 0, 'max_length': 128}\n",
      "CE.generate: {'early_stopping': False, 'num_beams': 1, 'num_return_sequences': 1, 'do_sample': False, 'no_repeat_ngram_size': 0, 'max_length': 128}\n"
     ]
    },
    {
     "name": "stderr",
     "output_type": "stream",
     "text": [
      "generating from val:  25%|█████████████████████████▌                                                                            | 1/4 [00:45<02:17, 45.93s/it]"
     ]
    },
    {
     "name": "stdout",
     "output_type": "stream",
     "text": [
      "CE.generate: {'early_stopping': False, 'num_beams': 1, 'num_return_sequences': 1, 'do_sample': False, 'no_repeat_ngram_size': 0, 'max_length': 128}\n",
      "CE.generate: {'early_stopping': False, 'num_beams': 1, 'num_return_sequences': 1, 'do_sample': False, 'no_repeat_ngram_size': 0, 'max_length': 128}\n",
      "CE.generate: {'early_stopping': False, 'num_beams': 1, 'num_return_sequences': 1, 'do_sample': False, 'no_repeat_ngram_size': 0, 'max_length': 128}\n",
      "CE.generate: {'early_stopping': False, 'num_beams': 1, 'num_return_sequences': 1, 'do_sample': False, 'no_repeat_ngram_size': 0, 'max_length': 128}\n",
      "CE.generate: {'early_stopping': False, 'num_beams': 1, 'num_return_sequences': 1, 'do_sample': False, 'no_repeat_ngram_size': 0, 'max_length': 128}\n",
      "CE.generate: {'early_stopping': False, 'num_beams': 1, 'num_return_sequences': 1, 'do_sample': False, 'no_repeat_ngram_size': 0, 'max_length': 128}\n",
      "CE.generate: {'early_stopping': False, 'num_beams': 1, 'num_return_sequences': 1, 'do_sample': False, 'no_repeat_ngram_size': 0, 'max_length': 128}\n",
      "CE.generate: {'early_stopping': False, 'num_beams': 1, 'num_return_sequences': 1, 'do_sample': False, 'no_repeat_ngram_size': 0, 'max_length': 128}\n",
      "CE.generate: {'early_stopping': False, 'num_beams': 1, 'num_return_sequences': 1, 'do_sample': False, 'no_repeat_ngram_size': 0, 'max_length': 128}\n",
      "CE.generate: {'early_stopping': False, 'num_beams': 1, 'num_return_sequences': 1, 'do_sample': False, 'no_repeat_ngram_size': 0, 'max_length': 128}\n"
     ]
    },
    {
     "name": "stderr",
     "output_type": "stream",
     "text": [
      "generating from val:  50%|███████████████████████████████████████████████████                                                   | 2/4 [01:35<01:36, 48.35s/it]"
     ]
    },
    {
     "name": "stdout",
     "output_type": "stream",
     "text": [
      "CE.generate: {'early_stopping': False, 'num_beams': 1, 'num_return_sequences': 1, 'do_sample': False, 'no_repeat_ngram_size': 0, 'max_length': 128}\n",
      "CE.generate: {'early_stopping': False, 'num_beams': 1, 'num_return_sequences': 1, 'do_sample': False, 'no_repeat_ngram_size': 0, 'max_length': 128}\n",
      "CE.generate: {'early_stopping': False, 'num_beams': 1, 'num_return_sequences': 1, 'do_sample': False, 'no_repeat_ngram_size': 0, 'max_length': 128}\n",
      "CE.generate: {'early_stopping': False, 'num_beams': 1, 'num_return_sequences': 1, 'do_sample': False, 'no_repeat_ngram_size': 0, 'max_length': 128}\n",
      "CE.generate: {'early_stopping': False, 'num_beams': 1, 'num_return_sequences': 1, 'do_sample': False, 'no_repeat_ngram_size': 0, 'max_length': 128}\n",
      "CE.generate: {'early_stopping': False, 'num_beams': 1, 'num_return_sequences': 1, 'do_sample': False, 'no_repeat_ngram_size': 0, 'max_length': 128}\n",
      "CE.generate: {'early_stopping': False, 'num_beams': 1, 'num_return_sequences': 1, 'do_sample': False, 'no_repeat_ngram_size': 0, 'max_length': 128}\n",
      "CE.generate: {'early_stopping': False, 'num_beams': 1, 'num_return_sequences': 1, 'do_sample': False, 'no_repeat_ngram_size': 0, 'max_length': 128}\n",
      "CE.generate: {'early_stopping': False, 'num_beams': 1, 'num_return_sequences': 1, 'do_sample': False, 'no_repeat_ngram_size': 0, 'max_length': 128}\n",
      "CE.generate: {'early_stopping': False, 'num_beams': 1, 'num_return_sequences': 1, 'do_sample': False, 'no_repeat_ngram_size': 0, 'max_length': 128}\n"
     ]
    },
    {
     "name": "stderr",
     "output_type": "stream",
     "text": [
      "generating from val:  75%|████████████████████████████████████████████████████████████████████████████▌                         | 3/4 [02:22<00:47, 47.46s/it]"
     ]
    },
    {
     "name": "stdout",
     "output_type": "stream",
     "text": [
      "CE.generate: {'early_stopping': False, 'num_beams': 1, 'num_return_sequences': 1, 'do_sample': False, 'no_repeat_ngram_size': 0, 'max_length': 128}\n",
      "CE.generate: {'early_stopping': False, 'num_beams': 1, 'num_return_sequences': 1, 'do_sample': False, 'no_repeat_ngram_size': 0, 'max_length': 128}\n",
      "CE.generate: {'early_stopping': False, 'num_beams': 1, 'num_return_sequences': 1, 'do_sample': False, 'no_repeat_ngram_size': 0, 'max_length': 128}\n",
      "CE.generate: {'early_stopping': False, 'num_beams': 1, 'num_return_sequences': 1, 'do_sample': False, 'no_repeat_ngram_size': 0, 'max_length': 128}\n",
      "CE.generate: {'early_stopping': False, 'num_beams': 1, 'num_return_sequences': 1, 'do_sample': False, 'no_repeat_ngram_size': 0, 'max_length': 128}\n",
      "CE.generate: {'early_stopping': False, 'num_beams': 1, 'num_return_sequences': 1, 'do_sample': False, 'no_repeat_ngram_size': 0, 'max_length': 128}\n",
      "CE.generate: {'early_stopping': False, 'num_beams': 1, 'num_return_sequences': 1, 'do_sample': False, 'no_repeat_ngram_size': 0, 'max_length': 128}\n",
      "CE.generate: {'early_stopping': False, 'num_beams': 1, 'num_return_sequences': 1, 'do_sample': False, 'no_repeat_ngram_size': 0, 'max_length': 128}\n",
      "CE.generate: {'early_stopping': False, 'num_beams': 1, 'num_return_sequences': 1, 'do_sample': False, 'no_repeat_ngram_size': 0, 'max_length': 128}\n",
      "CE.generate: {'early_stopping': False, 'num_beams': 1, 'num_return_sequences': 1, 'do_sample': False, 'no_repeat_ngram_size': 0, 'max_length': 128}\n"
     ]
    },
    {
     "name": "stderr",
     "output_type": "stream",
     "text": [
      "                                                                                                                                                              \r"
     ]
    },
    {
     "name": "stdout",
     "output_type": "stream",
     "text": [
      "[pred] Examples include HCl, HCl-H, and HCl-H. Binary Acids. Binary acids begin with the name of one of the two classes of acids followed by the name of the other class of acids. These acids are called ionic acids (i.e., nonmetals such as tetrafluorine, tetrafluorine, and hydroxide). Unlike the other two classes of acids, ionic acids follow the name of the element (e.g., tetrafluorine, tetrafluor\n",
      "[true] Examples: HF, HCl, HBr, HI, H2O, H2S. The names of binary acids begin with hydro-followed by the name of the other element modified to end with-ic (like in hydro chlor ic acid). Binary Acids are one of two classes of acids, the second being the Ternary Acids. The Ternary acids either consist of a hydrogen, oxygen and one other nonmetal element called the oxoacids (like HNO3), or they consist of hydrogen and two other nonmetal elements,\n",
      "\n",
      "\n",
      "\n",
      "[pred] Co:Writer should now be in writing. Sentences: As you type one word at a time, Co:Writer will begin to guess the words you will write. Co:Writer will give you a front row of words to write with, and a second row to highlight the words.\n",
      "[true] Co:Writer should now be in the foreground. Writing Sentences: You will write sentences one at a time with Co:Writer. As you begin to type a word, Co:Writer offers guesses as to what the word is, based on the letters you typed and other factors.\n",
      "\n",
      "\n",
      "\n",
      "[pred] mundane. Relating to, characteristic of, or affecting the earth: earthbound, temporal, earthly, earthly life, earthly earth, earthly people, earthly television, earthly realm, earthly man, earthly earth.\n",
      "[true] mundane. Relating to or characteristic of the earth or of human life on earth: earthbound, earthen, earthly, earthy, secular, tellurian, telluric, temporal, terrene, terrestrial, worldly.\n"
     ]
    },
    {
     "data": {
      "text/plain": [
       "{'eval_loss': 1.2292945384979248,\n",
       " 'eval_pred_num_tokens': 81.234375,\n",
       " 'eval_true_num_tokens': 80.90625,\n",
       " 'eval_token_set_precision': 0.6431535022696252,\n",
       " 'eval_token_set_recall': 0.7121523027453279,\n",
       " 'eval_token_set_f1': 0.6726195857504641,\n",
       " 'eval_n_ngrams_match_1': 40.608,\n",
       " 'eval_n_ngrams_match_2': 22.166,\n",
       " 'eval_n_ngrams_match_3': 14.788,\n",
       " 'eval_num_true_words': 63.416,\n",
       " 'eval_num_pred_words': 62.626,\n",
       " 'eval_bleu_score': 31.836212416623628,\n",
       " 'eval_meteor_score': 0.5716000231857064,\n",
       " 'eval_rouge_score': 0.6689810219050177,\n",
       " 'eval_exact_match': 0.03,\n",
       " 'eval_emb_cos_sim': 0.9706613421440125,\n",
       " 'eval_runtime': 212.5855,\n",
       " 'eval_samples_per_second': 2.352,\n",
       " 'eval_steps_per_second': 0.019}"
      ]
     },
     "execution_count": 8,
     "metadata": {},
     "output_type": "execute_result"
    }
   ],
   "source": [
    "corr_trainer.args.per_device_eval_batch_size = 128\n",
    "corr_trainer.return_best_hypothesis = True\n",
    "corr_trainer.num_gen_recursive_steps = 10\n",
    "corr_trainer.sequence_beam_width = 1\n",
    "corr_trainer.gen_kwargs = {\n",
    "    \"early_stopping\": False,\n",
    "    \"num_beams\": 1,\n",
    "    \"num_return_sequences\": 1,\n",
    "    \"do_sample\": False,\n",
    "    \"no_repeat_ngram_size\": 0,\n",
    "}\n",
    "corr_trainer.evaluate(\n",
    "    eval_dataset=inv_trainer.train_dataset.select(range(500))\n",
    ")"
   ]
  },
  {
   "cell_type": "code",
   "execution_count": 9,
   "id": "d5e81a85-f247-44cc-9d77-d54923d98ce3",
   "metadata": {},
   "outputs": [
    {
     "name": "stderr",
     "output_type": "stream",
     "text": [
      "generating from val:   0%|                                                                                                              | 0/4 [00:00<?, ?it/s]"
     ]
    },
    {
     "name": "stdout",
     "output_type": "stream",
     "text": [
      "CE.generate: {'early_stopping': False, 'num_beams': 1, 'num_return_sequences': 1, 'do_sample': False, 'no_repeat_ngram_size': 0, 'max_length': 128}\n",
      "CE.generate: {'early_stopping': False, 'num_beams': 1, 'num_return_sequences': 1, 'do_sample': False, 'no_repeat_ngram_size': 0, 'max_length': 128}\n",
      "CE.generate: {'early_stopping': False, 'num_beams': 1, 'num_return_sequences': 1, 'do_sample': False, 'no_repeat_ngram_size': 0, 'max_length': 128}\n",
      "CE.generate: {'early_stopping': False, 'num_beams': 1, 'num_return_sequences': 1, 'do_sample': False, 'no_repeat_ngram_size': 0, 'max_length': 128}\n",
      "CE.generate: {'early_stopping': False, 'num_beams': 1, 'num_return_sequences': 1, 'do_sample': False, 'no_repeat_ngram_size': 0, 'max_length': 128}\n",
      "CE.generate: {'early_stopping': False, 'num_beams': 1, 'num_return_sequences': 1, 'do_sample': False, 'no_repeat_ngram_size': 0, 'max_length': 128}\n",
      "CE.generate: {'early_stopping': False, 'num_beams': 1, 'num_return_sequences': 1, 'do_sample': False, 'no_repeat_ngram_size': 0, 'max_length': 128}\n",
      "CE.generate: {'early_stopping': False, 'num_beams': 1, 'num_return_sequences': 1, 'do_sample': False, 'no_repeat_ngram_size': 0, 'max_length': 128}\n",
      "CE.generate: {'early_stopping': False, 'num_beams': 1, 'num_return_sequences': 1, 'do_sample': False, 'no_repeat_ngram_size': 0, 'max_length': 128}\n",
      "CE.generate: {'early_stopping': False, 'num_beams': 1, 'num_return_sequences': 1, 'do_sample': False, 'no_repeat_ngram_size': 0, 'max_length': 128}\n",
      "CE.generate: {'early_stopping': False, 'num_beams': 1, 'num_return_sequences': 1, 'do_sample': False, 'no_repeat_ngram_size': 0, 'max_length': 128}\n",
      "CE.generate: {'early_stopping': False, 'num_beams': 1, 'num_return_sequences': 1, 'do_sample': False, 'no_repeat_ngram_size': 0, 'max_length': 128}\n",
      "CE.generate: {'early_stopping': False, 'num_beams': 1, 'num_return_sequences': 1, 'do_sample': False, 'no_repeat_ngram_size': 0, 'max_length': 128}\n",
      "CE.generate: {'early_stopping': False, 'num_beams': 1, 'num_return_sequences': 1, 'do_sample': False, 'no_repeat_ngram_size': 0, 'max_length': 128}\n",
      "CE.generate: {'early_stopping': False, 'num_beams': 1, 'num_return_sequences': 1, 'do_sample': False, 'no_repeat_ngram_size': 0, 'max_length': 128}\n",
      "CE.generate: {'early_stopping': False, 'num_beams': 1, 'num_return_sequences': 1, 'do_sample': False, 'no_repeat_ngram_size': 0, 'max_length': 128}\n",
      "CE.generate: {'early_stopping': False, 'num_beams': 1, 'num_return_sequences': 1, 'do_sample': False, 'no_repeat_ngram_size': 0, 'max_length': 128}\n",
      "CE.generate: {'early_stopping': False, 'num_beams': 1, 'num_return_sequences': 1, 'do_sample': False, 'no_repeat_ngram_size': 0, 'max_length': 128}\n",
      "CE.generate: {'early_stopping': False, 'num_beams': 1, 'num_return_sequences': 1, 'do_sample': False, 'no_repeat_ngram_size': 0, 'max_length': 128}\n",
      "CE.generate: {'early_stopping': False, 'num_beams': 1, 'num_return_sequences': 1, 'do_sample': False, 'no_repeat_ngram_size': 0, 'max_length': 128}\n",
      "CE.generate: {'early_stopping': False, 'num_beams': 1, 'num_return_sequences': 1, 'do_sample': False, 'no_repeat_ngram_size': 0, 'max_length': 128}\n",
      "CE.generate: {'early_stopping': False, 'num_beams': 1, 'num_return_sequences': 1, 'do_sample': False, 'no_repeat_ngram_size': 0, 'max_length': 128}\n",
      "CE.generate: {'early_stopping': False, 'num_beams': 1, 'num_return_sequences': 1, 'do_sample': False, 'no_repeat_ngram_size': 0, 'max_length': 128}\n",
      "CE.generate: {'early_stopping': False, 'num_beams': 1, 'num_return_sequences': 1, 'do_sample': False, 'no_repeat_ngram_size': 0, 'max_length': 128}\n",
      "CE.generate: {'early_stopping': False, 'num_beams': 1, 'num_return_sequences': 1, 'do_sample': False, 'no_repeat_ngram_size': 0, 'max_length': 128}\n",
      "CE.generate: {'early_stopping': False, 'num_beams': 1, 'num_return_sequences': 1, 'do_sample': False, 'no_repeat_ngram_size': 0, 'max_length': 128}\n",
      "CE.generate: {'early_stopping': False, 'num_beams': 1, 'num_return_sequences': 1, 'do_sample': False, 'no_repeat_ngram_size': 0, 'max_length': 128}\n",
      "CE.generate: {'early_stopping': False, 'num_beams': 1, 'num_return_sequences': 1, 'do_sample': False, 'no_repeat_ngram_size': 0, 'max_length': 128}\n",
      "CE.generate: {'early_stopping': False, 'num_beams': 1, 'num_return_sequences': 1, 'do_sample': False, 'no_repeat_ngram_size': 0, 'max_length': 128}\n",
      "CE.generate: {'early_stopping': False, 'num_beams': 1, 'num_return_sequences': 1, 'do_sample': False, 'no_repeat_ngram_size': 0, 'max_length': 128}\n",
      "CE.generate: {'early_stopping': False, 'num_beams': 1, 'num_return_sequences': 1, 'do_sample': False, 'no_repeat_ngram_size': 0, 'max_length': 128}\n",
      "CE.generate: {'early_stopping': False, 'num_beams': 1, 'num_return_sequences': 1, 'do_sample': False, 'no_repeat_ngram_size': 0, 'max_length': 128}\n",
      "CE.generate: {'early_stopping': False, 'num_beams': 1, 'num_return_sequences': 1, 'do_sample': False, 'no_repeat_ngram_size': 0, 'max_length': 128}\n",
      "CE.generate: {'early_stopping': False, 'num_beams': 1, 'num_return_sequences': 1, 'do_sample': False, 'no_repeat_ngram_size': 0, 'max_length': 128}\n",
      "CE.generate: {'early_stopping': False, 'num_beams': 1, 'num_return_sequences': 1, 'do_sample': False, 'no_repeat_ngram_size': 0, 'max_length': 128}\n",
      "CE.generate: {'early_stopping': False, 'num_beams': 1, 'num_return_sequences': 1, 'do_sample': False, 'no_repeat_ngram_size': 0, 'max_length': 128}\n",
      "CE.generate: {'early_stopping': False, 'num_beams': 1, 'num_return_sequences': 1, 'do_sample': False, 'no_repeat_ngram_size': 0, 'max_length': 128}\n",
      "CE.generate: {'early_stopping': False, 'num_beams': 1, 'num_return_sequences': 1, 'do_sample': False, 'no_repeat_ngram_size': 0, 'max_length': 128}\n",
      "CE.generate: {'early_stopping': False, 'num_beams': 1, 'num_return_sequences': 1, 'do_sample': False, 'no_repeat_ngram_size': 0, 'max_length': 128}\n",
      "CE.generate: {'early_stopping': False, 'num_beams': 1, 'num_return_sequences': 1, 'do_sample': False, 'no_repeat_ngram_size': 0, 'max_length': 128}\n",
      "CE.generate: {'early_stopping': False, 'num_beams': 1, 'num_return_sequences': 1, 'do_sample': False, 'no_repeat_ngram_size': 0, 'max_length': 128}\n",
      "CE.generate: {'early_stopping': False, 'num_beams': 1, 'num_return_sequences': 1, 'do_sample': False, 'no_repeat_ngram_size': 0, 'max_length': 128}\n",
      "CE.generate: {'early_stopping': False, 'num_beams': 1, 'num_return_sequences': 1, 'do_sample': False, 'no_repeat_ngram_size': 0, 'max_length': 128}\n",
      "CE.generate: {'early_stopping': False, 'num_beams': 1, 'num_return_sequences': 1, 'do_sample': False, 'no_repeat_ngram_size': 0, 'max_length': 128}\n",
      "CE.generate: {'early_stopping': False, 'num_beams': 1, 'num_return_sequences': 1, 'do_sample': False, 'no_repeat_ngram_size': 0, 'max_length': 128}\n",
      "CE.generate: {'early_stopping': False, 'num_beams': 1, 'num_return_sequences': 1, 'do_sample': False, 'no_repeat_ngram_size': 0, 'max_length': 128}\n",
      "CE.generate: {'early_stopping': False, 'num_beams': 1, 'num_return_sequences': 1, 'do_sample': False, 'no_repeat_ngram_size': 0, 'max_length': 128}\n",
      "CE.generate: {'early_stopping': False, 'num_beams': 1, 'num_return_sequences': 1, 'do_sample': False, 'no_repeat_ngram_size': 0, 'max_length': 128}\n",
      "CE.generate: {'early_stopping': False, 'num_beams': 1, 'num_return_sequences': 1, 'do_sample': False, 'no_repeat_ngram_size': 0, 'max_length': 128}\n",
      "CE.generate: {'early_stopping': False, 'num_beams': 1, 'num_return_sequences': 1, 'do_sample': False, 'no_repeat_ngram_size': 0, 'max_length': 128}\n"
     ]
    },
    {
     "name": "stderr",
     "output_type": "stream",
     "text": [
      "generating from val:  25%|█████████████████████████▎                                                                           | 1/4 [03:34<10:43, 214.58s/it]"
     ]
    },
    {
     "name": "stdout",
     "output_type": "stream",
     "text": [
      "CE.generate: {'early_stopping': False, 'num_beams': 1, 'num_return_sequences': 1, 'do_sample': False, 'no_repeat_ngram_size': 0, 'max_length': 128}\n",
      "CE.generate: {'early_stopping': False, 'num_beams': 1, 'num_return_sequences': 1, 'do_sample': False, 'no_repeat_ngram_size': 0, 'max_length': 128}\n",
      "CE.generate: {'early_stopping': False, 'num_beams': 1, 'num_return_sequences': 1, 'do_sample': False, 'no_repeat_ngram_size': 0, 'max_length': 128}\n",
      "CE.generate: {'early_stopping': False, 'num_beams': 1, 'num_return_sequences': 1, 'do_sample': False, 'no_repeat_ngram_size': 0, 'max_length': 128}\n",
      "CE.generate: {'early_stopping': False, 'num_beams': 1, 'num_return_sequences': 1, 'do_sample': False, 'no_repeat_ngram_size': 0, 'max_length': 128}\n",
      "CE.generate: {'early_stopping': False, 'num_beams': 1, 'num_return_sequences': 1, 'do_sample': False, 'no_repeat_ngram_size': 0, 'max_length': 128}\n",
      "CE.generate: {'early_stopping': False, 'num_beams': 1, 'num_return_sequences': 1, 'do_sample': False, 'no_repeat_ngram_size': 0, 'max_length': 128}\n",
      "CE.generate: {'early_stopping': False, 'num_beams': 1, 'num_return_sequences': 1, 'do_sample': False, 'no_repeat_ngram_size': 0, 'max_length': 128}\n",
      "CE.generate: {'early_stopping': False, 'num_beams': 1, 'num_return_sequences': 1, 'do_sample': False, 'no_repeat_ngram_size': 0, 'max_length': 128}\n",
      "CE.generate: {'early_stopping': False, 'num_beams': 1, 'num_return_sequences': 1, 'do_sample': False, 'no_repeat_ngram_size': 0, 'max_length': 128}\n",
      "CE.generate: {'early_stopping': False, 'num_beams': 1, 'num_return_sequences': 1, 'do_sample': False, 'no_repeat_ngram_size': 0, 'max_length': 128}\n",
      "CE.generate: {'early_stopping': False, 'num_beams': 1, 'num_return_sequences': 1, 'do_sample': False, 'no_repeat_ngram_size': 0, 'max_length': 128}\n",
      "CE.generate: {'early_stopping': False, 'num_beams': 1, 'num_return_sequences': 1, 'do_sample': False, 'no_repeat_ngram_size': 0, 'max_length': 128}\n",
      "CE.generate: {'early_stopping': False, 'num_beams': 1, 'num_return_sequences': 1, 'do_sample': False, 'no_repeat_ngram_size': 0, 'max_length': 128}\n",
      "CE.generate: {'early_stopping': False, 'num_beams': 1, 'num_return_sequences': 1, 'do_sample': False, 'no_repeat_ngram_size': 0, 'max_length': 128}\n",
      "CE.generate: {'early_stopping': False, 'num_beams': 1, 'num_return_sequences': 1, 'do_sample': False, 'no_repeat_ngram_size': 0, 'max_length': 128}\n",
      "CE.generate: {'early_stopping': False, 'num_beams': 1, 'num_return_sequences': 1, 'do_sample': False, 'no_repeat_ngram_size': 0, 'max_length': 128}\n",
      "CE.generate: {'early_stopping': False, 'num_beams': 1, 'num_return_sequences': 1, 'do_sample': False, 'no_repeat_ngram_size': 0, 'max_length': 128}\n",
      "CE.generate: {'early_stopping': False, 'num_beams': 1, 'num_return_sequences': 1, 'do_sample': False, 'no_repeat_ngram_size': 0, 'max_length': 128}\n",
      "CE.generate: {'early_stopping': False, 'num_beams': 1, 'num_return_sequences': 1, 'do_sample': False, 'no_repeat_ngram_size': 0, 'max_length': 128}\n",
      "CE.generate: {'early_stopping': False, 'num_beams': 1, 'num_return_sequences': 1, 'do_sample': False, 'no_repeat_ngram_size': 0, 'max_length': 128}\n",
      "CE.generate: {'early_stopping': False, 'num_beams': 1, 'num_return_sequences': 1, 'do_sample': False, 'no_repeat_ngram_size': 0, 'max_length': 128}\n",
      "CE.generate: {'early_stopping': False, 'num_beams': 1, 'num_return_sequences': 1, 'do_sample': False, 'no_repeat_ngram_size': 0, 'max_length': 128}\n",
      "CE.generate: {'early_stopping': False, 'num_beams': 1, 'num_return_sequences': 1, 'do_sample': False, 'no_repeat_ngram_size': 0, 'max_length': 128}\n",
      "CE.generate: {'early_stopping': False, 'num_beams': 1, 'num_return_sequences': 1, 'do_sample': False, 'no_repeat_ngram_size': 0, 'max_length': 128}\n",
      "CE.generate: {'early_stopping': False, 'num_beams': 1, 'num_return_sequences': 1, 'do_sample': False, 'no_repeat_ngram_size': 0, 'max_length': 128}\n",
      "CE.generate: {'early_stopping': False, 'num_beams': 1, 'num_return_sequences': 1, 'do_sample': False, 'no_repeat_ngram_size': 0, 'max_length': 128}\n",
      "CE.generate: {'early_stopping': False, 'num_beams': 1, 'num_return_sequences': 1, 'do_sample': False, 'no_repeat_ngram_size': 0, 'max_length': 128}\n",
      "CE.generate: {'early_stopping': False, 'num_beams': 1, 'num_return_sequences': 1, 'do_sample': False, 'no_repeat_ngram_size': 0, 'max_length': 128}\n",
      "CE.generate: {'early_stopping': False, 'num_beams': 1, 'num_return_sequences': 1, 'do_sample': False, 'no_repeat_ngram_size': 0, 'max_length': 128}\n",
      "CE.generate: {'early_stopping': False, 'num_beams': 1, 'num_return_sequences': 1, 'do_sample': False, 'no_repeat_ngram_size': 0, 'max_length': 128}\n",
      "CE.generate: {'early_stopping': False, 'num_beams': 1, 'num_return_sequences': 1, 'do_sample': False, 'no_repeat_ngram_size': 0, 'max_length': 128}\n",
      "CE.generate: {'early_stopping': False, 'num_beams': 1, 'num_return_sequences': 1, 'do_sample': False, 'no_repeat_ngram_size': 0, 'max_length': 128}\n",
      "CE.generate: {'early_stopping': False, 'num_beams': 1, 'num_return_sequences': 1, 'do_sample': False, 'no_repeat_ngram_size': 0, 'max_length': 128}\n",
      "CE.generate: {'early_stopping': False, 'num_beams': 1, 'num_return_sequences': 1, 'do_sample': False, 'no_repeat_ngram_size': 0, 'max_length': 128}\n",
      "CE.generate: {'early_stopping': False, 'num_beams': 1, 'num_return_sequences': 1, 'do_sample': False, 'no_repeat_ngram_size': 0, 'max_length': 128}\n",
      "CE.generate: {'early_stopping': False, 'num_beams': 1, 'num_return_sequences': 1, 'do_sample': False, 'no_repeat_ngram_size': 0, 'max_length': 128}\n",
      "CE.generate: {'early_stopping': False, 'num_beams': 1, 'num_return_sequences': 1, 'do_sample': False, 'no_repeat_ngram_size': 0, 'max_length': 128}\n",
      "CE.generate: {'early_stopping': False, 'num_beams': 1, 'num_return_sequences': 1, 'do_sample': False, 'no_repeat_ngram_size': 0, 'max_length': 128}\n",
      "CE.generate: {'early_stopping': False, 'num_beams': 1, 'num_return_sequences': 1, 'do_sample': False, 'no_repeat_ngram_size': 0, 'max_length': 128}\n",
      "CE.generate: {'early_stopping': False, 'num_beams': 1, 'num_return_sequences': 1, 'do_sample': False, 'no_repeat_ngram_size': 0, 'max_length': 128}\n",
      "CE.generate: {'early_stopping': False, 'num_beams': 1, 'num_return_sequences': 1, 'do_sample': False, 'no_repeat_ngram_size': 0, 'max_length': 128}\n",
      "CE.generate: {'early_stopping': False, 'num_beams': 1, 'num_return_sequences': 1, 'do_sample': False, 'no_repeat_ngram_size': 0, 'max_length': 128}\n",
      "CE.generate: {'early_stopping': False, 'num_beams': 1, 'num_return_sequences': 1, 'do_sample': False, 'no_repeat_ngram_size': 0, 'max_length': 128}\n",
      "CE.generate: {'early_stopping': False, 'num_beams': 1, 'num_return_sequences': 1, 'do_sample': False, 'no_repeat_ngram_size': 0, 'max_length': 128}\n",
      "CE.generate: {'early_stopping': False, 'num_beams': 1, 'num_return_sequences': 1, 'do_sample': False, 'no_repeat_ngram_size': 0, 'max_length': 128}\n",
      "CE.generate: {'early_stopping': False, 'num_beams': 1, 'num_return_sequences': 1, 'do_sample': False, 'no_repeat_ngram_size': 0, 'max_length': 128}\n",
      "CE.generate: {'early_stopping': False, 'num_beams': 1, 'num_return_sequences': 1, 'do_sample': False, 'no_repeat_ngram_size': 0, 'max_length': 128}\n",
      "CE.generate: {'early_stopping': False, 'num_beams': 1, 'num_return_sequences': 1, 'do_sample': False, 'no_repeat_ngram_size': 0, 'max_length': 128}\n",
      "CE.generate: {'early_stopping': False, 'num_beams': 1, 'num_return_sequences': 1, 'do_sample': False, 'no_repeat_ngram_size': 0, 'max_length': 128}\n"
     ]
    },
    {
     "name": "stderr",
     "output_type": "stream",
     "text": [
      "generating from val:  50%|██████████████████████████████████████████████████▌                                                  | 2/4 [07:09<07:09, 214.61s/it]"
     ]
    },
    {
     "name": "stdout",
     "output_type": "stream",
     "text": [
      "CE.generate: {'early_stopping': False, 'num_beams': 1, 'num_return_sequences': 1, 'do_sample': False, 'no_repeat_ngram_size': 0, 'max_length': 128}\n",
      "CE.generate: {'early_stopping': False, 'num_beams': 1, 'num_return_sequences': 1, 'do_sample': False, 'no_repeat_ngram_size': 0, 'max_length': 128}\n",
      "CE.generate: {'early_stopping': False, 'num_beams': 1, 'num_return_sequences': 1, 'do_sample': False, 'no_repeat_ngram_size': 0, 'max_length': 128}\n",
      "CE.generate: {'early_stopping': False, 'num_beams': 1, 'num_return_sequences': 1, 'do_sample': False, 'no_repeat_ngram_size': 0, 'max_length': 128}\n",
      "CE.generate: {'early_stopping': False, 'num_beams': 1, 'num_return_sequences': 1, 'do_sample': False, 'no_repeat_ngram_size': 0, 'max_length': 128}\n",
      "CE.generate: {'early_stopping': False, 'num_beams': 1, 'num_return_sequences': 1, 'do_sample': False, 'no_repeat_ngram_size': 0, 'max_length': 128}\n",
      "CE.generate: {'early_stopping': False, 'num_beams': 1, 'num_return_sequences': 1, 'do_sample': False, 'no_repeat_ngram_size': 0, 'max_length': 128}\n",
      "CE.generate: {'early_stopping': False, 'num_beams': 1, 'num_return_sequences': 1, 'do_sample': False, 'no_repeat_ngram_size': 0, 'max_length': 128}\n",
      "CE.generate: {'early_stopping': False, 'num_beams': 1, 'num_return_sequences': 1, 'do_sample': False, 'no_repeat_ngram_size': 0, 'max_length': 128}\n",
      "CE.generate: {'early_stopping': False, 'num_beams': 1, 'num_return_sequences': 1, 'do_sample': False, 'no_repeat_ngram_size': 0, 'max_length': 128}\n",
      "CE.generate: {'early_stopping': False, 'num_beams': 1, 'num_return_sequences': 1, 'do_sample': False, 'no_repeat_ngram_size': 0, 'max_length': 128}\n",
      "CE.generate: {'early_stopping': False, 'num_beams': 1, 'num_return_sequences': 1, 'do_sample': False, 'no_repeat_ngram_size': 0, 'max_length': 128}\n",
      "CE.generate: {'early_stopping': False, 'num_beams': 1, 'num_return_sequences': 1, 'do_sample': False, 'no_repeat_ngram_size': 0, 'max_length': 128}\n",
      "CE.generate: {'early_stopping': False, 'num_beams': 1, 'num_return_sequences': 1, 'do_sample': False, 'no_repeat_ngram_size': 0, 'max_length': 128}\n",
      "CE.generate: {'early_stopping': False, 'num_beams': 1, 'num_return_sequences': 1, 'do_sample': False, 'no_repeat_ngram_size': 0, 'max_length': 128}\n",
      "CE.generate: {'early_stopping': False, 'num_beams': 1, 'num_return_sequences': 1, 'do_sample': False, 'no_repeat_ngram_size': 0, 'max_length': 128}\n",
      "CE.generate: {'early_stopping': False, 'num_beams': 1, 'num_return_sequences': 1, 'do_sample': False, 'no_repeat_ngram_size': 0, 'max_length': 128}\n",
      "CE.generate: {'early_stopping': False, 'num_beams': 1, 'num_return_sequences': 1, 'do_sample': False, 'no_repeat_ngram_size': 0, 'max_length': 128}\n",
      "CE.generate: {'early_stopping': False, 'num_beams': 1, 'num_return_sequences': 1, 'do_sample': False, 'no_repeat_ngram_size': 0, 'max_length': 128}\n",
      "CE.generate: {'early_stopping': False, 'num_beams': 1, 'num_return_sequences': 1, 'do_sample': False, 'no_repeat_ngram_size': 0, 'max_length': 128}\n",
      "CE.generate: {'early_stopping': False, 'num_beams': 1, 'num_return_sequences': 1, 'do_sample': False, 'no_repeat_ngram_size': 0, 'max_length': 128}\n",
      "CE.generate: {'early_stopping': False, 'num_beams': 1, 'num_return_sequences': 1, 'do_sample': False, 'no_repeat_ngram_size': 0, 'max_length': 128}\n",
      "CE.generate: {'early_stopping': False, 'num_beams': 1, 'num_return_sequences': 1, 'do_sample': False, 'no_repeat_ngram_size': 0, 'max_length': 128}\n",
      "CE.generate: {'early_stopping': False, 'num_beams': 1, 'num_return_sequences': 1, 'do_sample': False, 'no_repeat_ngram_size': 0, 'max_length': 128}\n",
      "CE.generate: {'early_stopping': False, 'num_beams': 1, 'num_return_sequences': 1, 'do_sample': False, 'no_repeat_ngram_size': 0, 'max_length': 128}\n",
      "CE.generate: {'early_stopping': False, 'num_beams': 1, 'num_return_sequences': 1, 'do_sample': False, 'no_repeat_ngram_size': 0, 'max_length': 128}\n",
      "CE.generate: {'early_stopping': False, 'num_beams': 1, 'num_return_sequences': 1, 'do_sample': False, 'no_repeat_ngram_size': 0, 'max_length': 128}\n",
      "CE.generate: {'early_stopping': False, 'num_beams': 1, 'num_return_sequences': 1, 'do_sample': False, 'no_repeat_ngram_size': 0, 'max_length': 128}\n",
      "CE.generate: {'early_stopping': False, 'num_beams': 1, 'num_return_sequences': 1, 'do_sample': False, 'no_repeat_ngram_size': 0, 'max_length': 128}\n",
      "CE.generate: {'early_stopping': False, 'num_beams': 1, 'num_return_sequences': 1, 'do_sample': False, 'no_repeat_ngram_size': 0, 'max_length': 128}\n",
      "CE.generate: {'early_stopping': False, 'num_beams': 1, 'num_return_sequences': 1, 'do_sample': False, 'no_repeat_ngram_size': 0, 'max_length': 128}\n",
      "CE.generate: {'early_stopping': False, 'num_beams': 1, 'num_return_sequences': 1, 'do_sample': False, 'no_repeat_ngram_size': 0, 'max_length': 128}\n",
      "CE.generate: {'early_stopping': False, 'num_beams': 1, 'num_return_sequences': 1, 'do_sample': False, 'no_repeat_ngram_size': 0, 'max_length': 128}\n",
      "CE.generate: {'early_stopping': False, 'num_beams': 1, 'num_return_sequences': 1, 'do_sample': False, 'no_repeat_ngram_size': 0, 'max_length': 128}\n",
      "CE.generate: {'early_stopping': False, 'num_beams': 1, 'num_return_sequences': 1, 'do_sample': False, 'no_repeat_ngram_size': 0, 'max_length': 128}\n",
      "CE.generate: {'early_stopping': False, 'num_beams': 1, 'num_return_sequences': 1, 'do_sample': False, 'no_repeat_ngram_size': 0, 'max_length': 128}\n",
      "CE.generate: {'early_stopping': False, 'num_beams': 1, 'num_return_sequences': 1, 'do_sample': False, 'no_repeat_ngram_size': 0, 'max_length': 128}\n",
      "CE.generate: {'early_stopping': False, 'num_beams': 1, 'num_return_sequences': 1, 'do_sample': False, 'no_repeat_ngram_size': 0, 'max_length': 128}\n",
      "CE.generate: {'early_stopping': False, 'num_beams': 1, 'num_return_sequences': 1, 'do_sample': False, 'no_repeat_ngram_size': 0, 'max_length': 128}\n",
      "CE.generate: {'early_stopping': False, 'num_beams': 1, 'num_return_sequences': 1, 'do_sample': False, 'no_repeat_ngram_size': 0, 'max_length': 128}\n",
      "CE.generate: {'early_stopping': False, 'num_beams': 1, 'num_return_sequences': 1, 'do_sample': False, 'no_repeat_ngram_size': 0, 'max_length': 128}\n",
      "CE.generate: {'early_stopping': False, 'num_beams': 1, 'num_return_sequences': 1, 'do_sample': False, 'no_repeat_ngram_size': 0, 'max_length': 128}\n",
      "CE.generate: {'early_stopping': False, 'num_beams': 1, 'num_return_sequences': 1, 'do_sample': False, 'no_repeat_ngram_size': 0, 'max_length': 128}\n",
      "CE.generate: {'early_stopping': False, 'num_beams': 1, 'num_return_sequences': 1, 'do_sample': False, 'no_repeat_ngram_size': 0, 'max_length': 128}\n",
      "CE.generate: {'early_stopping': False, 'num_beams': 1, 'num_return_sequences': 1, 'do_sample': False, 'no_repeat_ngram_size': 0, 'max_length': 128}\n",
      "CE.generate: {'early_stopping': False, 'num_beams': 1, 'num_return_sequences': 1, 'do_sample': False, 'no_repeat_ngram_size': 0, 'max_length': 128}\n",
      "CE.generate: {'early_stopping': False, 'num_beams': 1, 'num_return_sequences': 1, 'do_sample': False, 'no_repeat_ngram_size': 0, 'max_length': 128}\n",
      "CE.generate: {'early_stopping': False, 'num_beams': 1, 'num_return_sequences': 1, 'do_sample': False, 'no_repeat_ngram_size': 0, 'max_length': 128}\n",
      "CE.generate: {'early_stopping': False, 'num_beams': 1, 'num_return_sequences': 1, 'do_sample': False, 'no_repeat_ngram_size': 0, 'max_length': 128}\n",
      "CE.generate: {'early_stopping': False, 'num_beams': 1, 'num_return_sequences': 1, 'do_sample': False, 'no_repeat_ngram_size': 0, 'max_length': 128}\n"
     ]
    },
    {
     "name": "stderr",
     "output_type": "stream",
     "text": [
      "generating from val:  75%|███████████████████████████████████████████████████████████████████████████▊                         | 3/4 [10:56<03:40, 220.58s/it]"
     ]
    },
    {
     "name": "stdout",
     "output_type": "stream",
     "text": [
      "CE.generate: {'early_stopping': False, 'num_beams': 1, 'num_return_sequences': 1, 'do_sample': False, 'no_repeat_ngram_size': 0, 'max_length': 128}\n",
      "CE.generate: {'early_stopping': False, 'num_beams': 1, 'num_return_sequences': 1, 'do_sample': False, 'no_repeat_ngram_size': 0, 'max_length': 128}\n",
      "CE.generate: {'early_stopping': False, 'num_beams': 1, 'num_return_sequences': 1, 'do_sample': False, 'no_repeat_ngram_size': 0, 'max_length': 128}\n",
      "CE.generate: {'early_stopping': False, 'num_beams': 1, 'num_return_sequences': 1, 'do_sample': False, 'no_repeat_ngram_size': 0, 'max_length': 128}\n",
      "CE.generate: {'early_stopping': False, 'num_beams': 1, 'num_return_sequences': 1, 'do_sample': False, 'no_repeat_ngram_size': 0, 'max_length': 128}\n",
      "CE.generate: {'early_stopping': False, 'num_beams': 1, 'num_return_sequences': 1, 'do_sample': False, 'no_repeat_ngram_size': 0, 'max_length': 128}\n",
      "CE.generate: {'early_stopping': False, 'num_beams': 1, 'num_return_sequences': 1, 'do_sample': False, 'no_repeat_ngram_size': 0, 'max_length': 128}\n",
      "CE.generate: {'early_stopping': False, 'num_beams': 1, 'num_return_sequences': 1, 'do_sample': False, 'no_repeat_ngram_size': 0, 'max_length': 128}\n",
      "CE.generate: {'early_stopping': False, 'num_beams': 1, 'num_return_sequences': 1, 'do_sample': False, 'no_repeat_ngram_size': 0, 'max_length': 128}\n",
      "CE.generate: {'early_stopping': False, 'num_beams': 1, 'num_return_sequences': 1, 'do_sample': False, 'no_repeat_ngram_size': 0, 'max_length': 128}\n",
      "CE.generate: {'early_stopping': False, 'num_beams': 1, 'num_return_sequences': 1, 'do_sample': False, 'no_repeat_ngram_size': 0, 'max_length': 128}\n",
      "CE.generate: {'early_stopping': False, 'num_beams': 1, 'num_return_sequences': 1, 'do_sample': False, 'no_repeat_ngram_size': 0, 'max_length': 128}\n",
      "CE.generate: {'early_stopping': False, 'num_beams': 1, 'num_return_sequences': 1, 'do_sample': False, 'no_repeat_ngram_size': 0, 'max_length': 128}\n",
      "CE.generate: {'early_stopping': False, 'num_beams': 1, 'num_return_sequences': 1, 'do_sample': False, 'no_repeat_ngram_size': 0, 'max_length': 128}\n",
      "CE.generate: {'early_stopping': False, 'num_beams': 1, 'num_return_sequences': 1, 'do_sample': False, 'no_repeat_ngram_size': 0, 'max_length': 128}\n",
      "CE.generate: {'early_stopping': False, 'num_beams': 1, 'num_return_sequences': 1, 'do_sample': False, 'no_repeat_ngram_size': 0, 'max_length': 128}\n",
      "CE.generate: {'early_stopping': False, 'num_beams': 1, 'num_return_sequences': 1, 'do_sample': False, 'no_repeat_ngram_size': 0, 'max_length': 128}\n",
      "CE.generate: {'early_stopping': False, 'num_beams': 1, 'num_return_sequences': 1, 'do_sample': False, 'no_repeat_ngram_size': 0, 'max_length': 128}\n",
      "CE.generate: {'early_stopping': False, 'num_beams': 1, 'num_return_sequences': 1, 'do_sample': False, 'no_repeat_ngram_size': 0, 'max_length': 128}\n",
      "CE.generate: {'early_stopping': False, 'num_beams': 1, 'num_return_sequences': 1, 'do_sample': False, 'no_repeat_ngram_size': 0, 'max_length': 128}\n",
      "CE.generate: {'early_stopping': False, 'num_beams': 1, 'num_return_sequences': 1, 'do_sample': False, 'no_repeat_ngram_size': 0, 'max_length': 128}\n",
      "CE.generate: {'early_stopping': False, 'num_beams': 1, 'num_return_sequences': 1, 'do_sample': False, 'no_repeat_ngram_size': 0, 'max_length': 128}\n",
      "CE.generate: {'early_stopping': False, 'num_beams': 1, 'num_return_sequences': 1, 'do_sample': False, 'no_repeat_ngram_size': 0, 'max_length': 128}\n",
      "CE.generate: {'early_stopping': False, 'num_beams': 1, 'num_return_sequences': 1, 'do_sample': False, 'no_repeat_ngram_size': 0, 'max_length': 128}\n",
      "CE.generate: {'early_stopping': False, 'num_beams': 1, 'num_return_sequences': 1, 'do_sample': False, 'no_repeat_ngram_size': 0, 'max_length': 128}\n",
      "CE.generate: {'early_stopping': False, 'num_beams': 1, 'num_return_sequences': 1, 'do_sample': False, 'no_repeat_ngram_size': 0, 'max_length': 128}\n",
      "CE.generate: {'early_stopping': False, 'num_beams': 1, 'num_return_sequences': 1, 'do_sample': False, 'no_repeat_ngram_size': 0, 'max_length': 128}\n",
      "CE.generate: {'early_stopping': False, 'num_beams': 1, 'num_return_sequences': 1, 'do_sample': False, 'no_repeat_ngram_size': 0, 'max_length': 128}\n",
      "CE.generate: {'early_stopping': False, 'num_beams': 1, 'num_return_sequences': 1, 'do_sample': False, 'no_repeat_ngram_size': 0, 'max_length': 128}\n",
      "CE.generate: {'early_stopping': False, 'num_beams': 1, 'num_return_sequences': 1, 'do_sample': False, 'no_repeat_ngram_size': 0, 'max_length': 128}\n",
      "CE.generate: {'early_stopping': False, 'num_beams': 1, 'num_return_sequences': 1, 'do_sample': False, 'no_repeat_ngram_size': 0, 'max_length': 128}\n",
      "CE.generate: {'early_stopping': False, 'num_beams': 1, 'num_return_sequences': 1, 'do_sample': False, 'no_repeat_ngram_size': 0, 'max_length': 128}\n",
      "CE.generate: {'early_stopping': False, 'num_beams': 1, 'num_return_sequences': 1, 'do_sample': False, 'no_repeat_ngram_size': 0, 'max_length': 128}\n",
      "CE.generate: {'early_stopping': False, 'num_beams': 1, 'num_return_sequences': 1, 'do_sample': False, 'no_repeat_ngram_size': 0, 'max_length': 128}\n",
      "CE.generate: {'early_stopping': False, 'num_beams': 1, 'num_return_sequences': 1, 'do_sample': False, 'no_repeat_ngram_size': 0, 'max_length': 128}\n",
      "CE.generate: {'early_stopping': False, 'num_beams': 1, 'num_return_sequences': 1, 'do_sample': False, 'no_repeat_ngram_size': 0, 'max_length': 128}\n",
      "CE.generate: {'early_stopping': False, 'num_beams': 1, 'num_return_sequences': 1, 'do_sample': False, 'no_repeat_ngram_size': 0, 'max_length': 128}\n",
      "CE.generate: {'early_stopping': False, 'num_beams': 1, 'num_return_sequences': 1, 'do_sample': False, 'no_repeat_ngram_size': 0, 'max_length': 128}\n",
      "CE.generate: {'early_stopping': False, 'num_beams': 1, 'num_return_sequences': 1, 'do_sample': False, 'no_repeat_ngram_size': 0, 'max_length': 128}\n",
      "CE.generate: {'early_stopping': False, 'num_beams': 1, 'num_return_sequences': 1, 'do_sample': False, 'no_repeat_ngram_size': 0, 'max_length': 128}\n",
      "CE.generate: {'early_stopping': False, 'num_beams': 1, 'num_return_sequences': 1, 'do_sample': False, 'no_repeat_ngram_size': 0, 'max_length': 128}\n",
      "CE.generate: {'early_stopping': False, 'num_beams': 1, 'num_return_sequences': 1, 'do_sample': False, 'no_repeat_ngram_size': 0, 'max_length': 128}\n",
      "CE.generate: {'early_stopping': False, 'num_beams': 1, 'num_return_sequences': 1, 'do_sample': False, 'no_repeat_ngram_size': 0, 'max_length': 128}\n",
      "CE.generate: {'early_stopping': False, 'num_beams': 1, 'num_return_sequences': 1, 'do_sample': False, 'no_repeat_ngram_size': 0, 'max_length': 128}\n",
      "CE.generate: {'early_stopping': False, 'num_beams': 1, 'num_return_sequences': 1, 'do_sample': False, 'no_repeat_ngram_size': 0, 'max_length': 128}\n",
      "CE.generate: {'early_stopping': False, 'num_beams': 1, 'num_return_sequences': 1, 'do_sample': False, 'no_repeat_ngram_size': 0, 'max_length': 128}\n",
      "CE.generate: {'early_stopping': False, 'num_beams': 1, 'num_return_sequences': 1, 'do_sample': False, 'no_repeat_ngram_size': 0, 'max_length': 128}\n",
      "CE.generate: {'early_stopping': False, 'num_beams': 1, 'num_return_sequences': 1, 'do_sample': False, 'no_repeat_ngram_size': 0, 'max_length': 128}\n",
      "CE.generate: {'early_stopping': False, 'num_beams': 1, 'num_return_sequences': 1, 'do_sample': False, 'no_repeat_ngram_size': 0, 'max_length': 128}\n",
      "CE.generate: {'early_stopping': False, 'num_beams': 1, 'num_return_sequences': 1, 'do_sample': False, 'no_repeat_ngram_size': 0, 'max_length': 128}\n"
     ]
    },
    {
     "name": "stderr",
     "output_type": "stream",
     "text": [
      "                                                                                                                                                              \r"
     ]
    },
    {
     "name": "stdout",
     "output_type": "stream",
     "text": [
      "[pred] Examples include HCl, HCl-, HCl-, and HCl-. Binary acids follow the name of one of the two classes of acids, i.e., ionic acids. Binary acids begin with the name of the element (element) that is paired with another element (e.g., tetrahydroxide, tetrahydroxide, tetrahydroxide, tetrahydroxide). Other names of binary acids are ionic acids (such as tetrahydr\n",
      "[true] Examples: HF, HCl, HBr, HI, H2O, H2S. The names of binary acids begin with hydro-followed by the name of the other element modified to end with-ic (like in hydro chlor ic acid). Binary Acids are one of two classes of acids, the second being the Ternary Acids. The Ternary acids either consist of a hydrogen, oxygen and one other nonmetal element called the oxoacids (like HNO3), or they consist of hydrogen and two other nonmetal elements,\n",
      "\n",
      "\n",
      "\n",
      "[pred] Co:Writer should now be in the Writing:Sentences. Co:Writer will give you a sense of what the writer is typing as you begin to write. As you type one word at a time, the cursor will move to the top of the screen and a clue will appear.\n",
      "[true] Co:Writer should now be in the foreground. Writing Sentences: You will write sentences one at a time with Co:Writer. As you begin to type a word, Co:Writer offers guesses as to what the word is, based on the letters you typed and other factors.\n",
      "\n",
      "\n",
      "\n",
      "[pred] mundane. Relating to or characteristic of the earth: earthbound, earthly, telluric, earthly times, earthly humankind, earthly realm, earthly inhabitants, earthly things, earthly seasons, earthly flesh.\n",
      "[true] mundane. Relating to or characteristic of the earth or of human life on earth: earthbound, earthen, earthly, earthy, secular, tellurian, telluric, temporal, terrene, terrestrial, worldly.\n"
     ]
    },
    {
     "data": {
      "text/plain": [
       "{'eval_loss': 1.22931706905365,\n",
       " 'eval_pred_num_tokens': 80.5703125,\n",
       " 'eval_true_num_tokens': 80.90625,\n",
       " 'eval_token_set_precision': 0.6555801689310791,\n",
       " 'eval_token_set_recall': 0.7312170777536595,\n",
       " 'eval_token_set_f1': 0.6874534250690862,\n",
       " 'eval_n_ngrams_match_1': 41.218,\n",
       " 'eval_n_ngrams_match_2': 22.918,\n",
       " 'eval_n_ngrams_match_3': 15.574,\n",
       " 'eval_num_true_words': 63.416,\n",
       " 'eval_num_pred_words': 61.714,\n",
       " 'eval_bleu_score': 33.09791479624242,\n",
       " 'eval_meteor_score': 0.5875253833507602,\n",
       " 'eval_rouge_score': 0.684454988248298,\n",
       " 'eval_exact_match': 0.03,\n",
       " 'eval_emb_cos_sim': 0.9728691577911377,\n",
       " 'eval_runtime': 884.1527,\n",
       " 'eval_samples_per_second': 0.566,\n",
       " 'eval_steps_per_second': 0.005}"
      ]
     },
     "execution_count": 9,
     "metadata": {},
     "output_type": "execute_result"
    }
   ],
   "source": [
    "corr_trainer.args.per_device_eval_batch_size = 128\n",
    "corr_trainer.return_best_hypothesis = True\n",
    "corr_trainer.num_gen_recursive_steps = 50\n",
    "corr_trainer.sequence_beam_width = 1\n",
    "corr_trainer.gen_kwargs = {\n",
    "    \"early_stopping\": False,\n",
    "    \"num_beams\": 1,\n",
    "    \"num_return_sequences\": 1,\n",
    "    \"do_sample\": False,\n",
    "    \"no_repeat_ngram_size\": 0,\n",
    "}\n",
    "corr_trainer.evaluate(\n",
    "    eval_dataset=inv_trainer.train_dataset.select(range(500))\n",
    ")"
   ]
  },
  {
   "cell_type": "code",
   "execution_count": 10,
   "id": "022db980-a00b-4620-a8ca-1b15ccf9b575",
   "metadata": {},
   "outputs": [
    {
     "name": "stdout",
     "output_type": "stream",
     "text": [
      "running openai on text_list of length 128, first element 'Examples of Acidic Acids include HF, H2O, H2O, and H2O. Hydrogenic Acids begin with the name of the ionic compound (H-) followed by the name of the ionic compound (H-). Hydrogenic acids are one of two classes of ionic compounds, the other two being bic acids (H-) and bic acids (B-). Unlike a tetrahedral acid, a bic acid is a tetrahedral compound with a tetrahe'\n",
      "running openai on text_list of length 128, first element 'Dr. Michael Wexes MD specializes in orthopedic surgery in Winchester, Virginia. Dr. Michael Wexes graduated from University Of Kentucky School Of Medicine in 1990 and has been in practice for 9 years. Currently, Dr. Michael Wexes practices at 9705 Winchester Avenue, Winchester and has over 9 years of experience in the field of medicine.'\n",
      "running openai on text_list of length 128, first element '0 comments. Oculus Rift, the virtual reality headset that has been rumoured to be the worldâs first consumer headset since it was released in 2002, will be sold for as little as $2 billion.'\n",
      "running openai on text_list of length 116, first element 'The Mexican flag has three horizontal stripes; green, red and blue; green, red and blue; and green, red and blue. The symbol of the Mexican flag is in the middle of a green eagle nesting in a tree. The eagle nesting in the tree is a symbol of the eagle in the middle of the Mexican flag.The symbol of the Mexican flag is a scepter, which is a scepter of the eagle.n the history of Mexico, the Spanish flag was a symbol of the ea'\n"
     ]
    },
    {
     "name": "stderr",
     "output_type": "stream",
     "text": [
      "generating from val:   0%|                                                                                                              | 0/4 [00:00<?, ?it/s]"
     ]
    },
    {
     "name": "stdout",
     "output_type": "stream",
     "text": [
      "running openai on text_list of length 128, first element 'Examples of Acidic Acids include HF, H2O, H2O, and H2O. Hydrogenic Acids begin with the name of the ionic compound (H-) followed by the name of the ionic compound (H-). Hydrogenic acids are one of two classes of ionic compounds, the other two being bic acids (H-) and bic acids (B-). Unlike a tetrahedral acid, a bic acid is a tetrahedral compound with a tetrahe'\n",
      "CE.generate: {'early_stopping': False, 'num_beams': 1, 'num_return_sequences': 1, 'do_sample': False, 'no_repeat_ngram_size': 0, 'max_length': 128}\n",
      "running openai on text_list of length 128, first element 'Examples include HCl, H2O, H2O, H2O, H2O, H2O, H2O, H2O, H2O, H2O, H2O, H2O, H2O, H2O, H2O, H2O, H2O, H2O, H2O, H2O, H2O, H2O. Binary Acids. Binary acids begin with the name of one of the two elements in the compound (the other being the halogen). This is the second of the three classes of'\n",
      "CE.generate: {'early_stopping': False, 'num_beams': 1, 'num_return_sequences': 1, 'do_sample': False, 'no_repeat_ngram_size': 0, 'max_length': 128}\n",
      "running openai on text_list of length 128, first element 'Examples include HCl, HCl-H, and HCl-H. Binary Acids. Binary acids begin with the name of the acid followed by the name of the element (e.g., tetrahydric acid, tetrahydric acid, hydroxic acid, hydroxic acid, hydroxic acid, hydroxic acid, hydroxic acid, hydroxic acid, hydroxic acid, hydroxic acid, hydroxic acid, hydroxic acid, hydroxic acid, hydroxic acid, hydroxic acid, hydro'\n",
      "CE.generate: {'early_stopping': False, 'num_beams': 1, 'num_return_sequences': 1, 'do_sample': False, 'no_repeat_ngram_size': 0, 'max_length': 128}\n",
      "running openai on text_list of length 128, first element 'Examples include H-H, H-H, and H-H. Binary Acids. Binary acids begin with the name of the ionic element followed by the name of the other ionic element (e.g., a tetrahydroxide, H-H, or a tetrahydroxide). These acids are like the two classes of acids, except that they are governed by one atom of the element. Hydroxic acids (also called tetrahydric acids) are one of three classes of acids, along with te'\n",
      "CE.generate: {'early_stopping': False, 'num_beams': 1, 'num_return_sequences': 1, 'do_sample': False, 'no_repeat_ngram_size': 0, 'max_length': 128}\n",
      "running openai on text_list of length 128, first element 'Examples include HCl, HCl, and HCl. Binary Acids. Binary acids begin with the name of the ionic element followed by the name of the other ionic element. These acids are like the other two classes of acids, except that the ionic element is followed by the name of the non-ionic element. (Hydroxic acids are one of the three classes of acids, followed by hydroxic acids, hydroxides, hydroxides, and hydroxides.) Hydroxic acids are named like the name of the ionic element followed'\n",
      "CE.generate: {'early_stopping': False, 'num_beams': 1, 'num_return_sequences': 1, 'do_sample': False, 'no_repeat_ngram_size': 0, 'max_length': 128}\n",
      "running openai on text_list of length 128, first element 'Examples include H2O, H3O, H2F, H2O, H2O, H2O, H2O, H2O, H2O, H2O, H2O, H2O, H2O, H2O, H2O, H2O, H2O, H2O, H2O, H2O, H2O, H2O, H2O. Binary Acids. Binary acids begin with the name of the element (like the name of one of the other two classes of acids) and are followed by the name'\n",
      "CE.generate: {'early_stopping': False, 'num_beams': 1, 'num_return_sequences': 1, 'do_sample': False, 'no_repeat_ngram_size': 0, 'max_length': 128}\n",
      "running openai on text_list of length 128, first element 'Examples include HCl, HCl-, and HCl-. Binary Acids. Binary acids begin with the name of one of the two classes of acids (i.e., the acid followed by the name of the element, such as the acid followed by the name of the element, such as the acid followed by the name of the element, such as the acid followed by the name of the element, such as the acid followed by the name of the element, such as the acid followed by the name of the element. Hydrochloric Acids (Hydroxy-, H3'\n",
      "CE.generate: {'early_stopping': False, 'num_beams': 1, 'num_return_sequences': 1, 'do_sample': False, 'no_repeat_ngram_size': 0, 'max_length': 128}\n",
      "running openai on text_list of length 128, first element 'Examples include HF, H2O, H2O, H2O, H2O, H2O, H2O, H2O, H2O, H2O, H2O, H2O, H2O, H2O, H2O, H2O, H2O, H2O, H2O, H2O, H2O, H2O, H2O. Binary Acids. Binary acids begin with the name of one of the two elements (the other being the other being the other being the other being the other being the other'\n",
      "CE.generate: {'early_stopping': False, 'num_beams': 1, 'num_return_sequences': 1, 'do_sample': False, 'no_repeat_ngram_size': 0, 'max_length': 128}\n",
      "running openai on text_list of length 128, first element 'Examples include HCl, HCl-H, and HCl-H. Binary Acids. Binary acids begin with the name of one of the three classes of ionic acids (such as tetrahydric acid, tetrahydric acid, or hydroxic acid). These acids follow the name of the element (such as a halogen, such as a halogen, or a halogen, such as a halogen). Unlike the other two classes of ionic acids, binary acids are followed by two more elements (such'\n",
      "CE.generate: {'early_stopping': False, 'num_beams': 1, 'num_return_sequences': 1, 'do_sample': False, 'no_repeat_ngram_size': 0, 'max_length': 128}\n",
      "running openai on text_list of length 128, first element 'Examples include H-H, H-H, H-H, H-H, H-H, H-H, H-H, H-H, H-H, H-H, H-H. Binary Acids. Binary acids begin with the name of one of the two classes of ionic acids (other than the tetrahydric acid). These acids follow the name of the element (like oxygen or hydrogen) and are followed by the name of the element (like a halogen or a tetrahydric acid). In other words, the hal'\n",
      "CE.generate: {'early_stopping': False, 'num_beams': 1, 'num_return_sequences': 1, 'do_sample': False, 'no_repeat_ngram_size': 0, 'max_length': 128}\n",
      "running openai on text_list of length 128, first element 'Examples include HCl, HCl, and HCl. Binary Acids. Binary acids begin with the name of the element (other than the halogen) followed by the name of the element (other than the halogen). These acids are one of two classes of acids, the other being hydroxic acids (H2O). Hydroxic acids follow the name of the element (other than the halogen). To be called a hydroxic acid, the atoms of the ionic element must be matched with two pairs of electrons (e.g.,'\n",
      "CE.generate: {'early_stopping': False, 'num_beams': 1, 'num_return_sequences': 1, 'do_sample': False, 'no_repeat_ngram_size': 0, 'max_length': 128}\n",
      "running openai on text_list of length 128, first element 'Examples include H3O, H2O, H3OH, H3OH, H3OH, H3OH, H3OH, H3OH, H3OH, H3OH, H3OH, H3OH, H3OH, H3OH, H3OH, H3OH, H3OH, H3OH, H3OH, H3OH, H3OH, H3OH, H3OH, H3OH, H3OH, H3OH, H3OH, and H3O. Binary Acids follow the name of the ionic acid'\n",
      "CE.generate: {'early_stopping': False, 'num_beams': 1, 'num_return_sequences': 1, 'do_sample': False, 'no_repeat_ngram_size': 0, 'max_length': 128}\n",
      "running openai on text_list of length 128, first element 'Examples include HCl, HCl2, HCl3, and HCl2. Binary Acids. Binary acids begin with the name of one of two elements (H, or the other two elements). These acids are followed by the name of the other element (H, or the other two elements). In this case, the acid is followed by the name of the ionic acid (H, or the other two elements). Acids like hydroxides, hydroxides, tetrafluorides, and tetrafluorocarbons are called ionic acids, and are'\n",
      "CE.generate: {'early_stopping': False, 'num_beams': 1, 'num_return_sequences': 1, 'do_sample': False, 'no_repeat_ngram_size': 0, 'max_length': 128}\n",
      "running openai on text_list of length 128, first element 'Examples include H-H, H-H, H-H, H-H, H-H, H-H, H-H, H-H, H-H, H-H, H-H, H-H, H-H, H-H, H-H, H-H, H-H, H-H. Binary Acids. Binary acids begin with the name of one of the other two elements (e.g. tetrafluorocarbons or tetrafluorocarbons). These acids are classified as ionic acids because they'\n",
      "CE.generate: {'early_stopping': False, 'num_beams': 1, 'num_return_sequences': 1, 'do_sample': False, 'no_repeat_ngram_size': 0, 'max_length': 128}\n",
      "running openai on text_list of length 128, first element 'Examples include Hydrochloric Acids (H-), Hydroxic Acids (H-), and Hydroxic Acids (H-). Binary Acids. Binary acids begin with the name of one of the two elements followed by the name of the other element, such as a tetrahedral (or tetrahedral) ion. Like other ionic acids, binary acids are followed by the name of the second element, such as a tetrahedral (or tetrahedral) ion. In this'\n",
      "CE.generate: {'early_stopping': False, 'num_beams': 1, 'num_return_sequences': 1, 'do_sample': False, 'no_repeat_ngram_size': 0, 'max_length': 128}\n",
      "running openai on text_list of length 128, first element 'Examples include HF, HF, HF, HF, HF, HF, HF, HF, HF, HF, HF, HF, HF, HF, HF, HF, HF, HF, HF, HF, HF, HF, HF. Binary Acids. Binary acids begin with the name of one of the two elements other than the ionic acid (H3O). These two elements are followed by the other element (such as the tetrahedral ionic acid, or t'\n",
      "CE.generate: {'early_stopping': False, 'num_beams': 1, 'num_return_sequences': 1, 'do_sample': False, 'no_repeat_ngram_size': 0, 'max_length': 128}\n",
      "running openai on text_list of length 128, first element 'Examples include Hydrochloric Acids, Hydroxic Acids, and Hydroxic Acids. Binary acids begin with the name of one of the two classes of elements (H, O, H, etc.) followed by the name of the other class of elements (H, O, etc.). These acids are like the ionic acid (H, O, etc.) except that the ionic acid is followed by the ionic acid (H, O, etc.). Non-ionic acids are called ionic acids, and are categorized as ionic acids, such'\n",
      "CE.generate: {'early_stopping': False, 'num_beams': 1, 'num_return_sequences': 1, 'do_sample': False, 'no_repeat_ngram_size': 0, 'max_length': 128}\n",
      "running openai on text_list of length 128, first element 'Examples include HF, H2O, H3H, H2B, H3C, H3F, H3F, H3F, H3F, H3F, H3F, H3F, H3F, H3F, H3F, H3F, H3F, H3F, H3F, H3F, H3F, H3F, H3F, H3F. Binary Acids. Binary acids begin with the name of one of the two elements in the class of ionic acids. These acids are like other'\n",
      "CE.generate: {'early_stopping': False, 'num_beams': 1, 'num_return_sequences': 1, 'do_sample': False, 'no_repeat_ngram_size': 0, 'max_length': 128}\n",
      "running openai on text_list of length 128, first element 'Examples include Hydrochloric Acid (H-), Hydroxic Acid (H-), and Bicarbonate Acids (BiC). Binary Acids begin with the name of one of the two elements in the ionic acid, such as a halogen, followed by the name of the other element, such as a halogen. These acids are followed by the names of the two elements, such as HF, HF, and HF. Non-ionic acids are like halogens, except they are halogens, with one halogen bonded to'\n",
      "CE.generate: {'early_stopping': False, 'num_beams': 1, 'num_return_sequences': 1, 'do_sample': False, 'no_repeat_ngram_size': 0, 'max_length': 128}\n",
      "running openai on text_list of length 128, first element 'Examples include HF, H2O, H3O, H2O, H2O, H2O, H2O, H2O, H2O, H2O, H2O, H2O, H2O, H2O, H2O, H2O, H2O, H2O, H2O. Binary Acids. Binary acids begin with the name of one of the elements (e.g., trichloric acid or trichloric acid) and are followed by the name of the other two elements (e.g'\n",
      "CE.generate: {'early_stopping': False, 'num_beams': 1, 'num_return_sequences': 1, 'do_sample': False, 'no_repeat_ngram_size': 0, 'max_length': 128}\n",
      "running openai on text_list of length 128, first element 'Examples include HF, HF-H, and HF-H. Binary Acids. Binary acids begin with the name of one of the two classes of ionic acids (e.g., hydroxide, hydroxide, hydroxide, hydroxide, hydroxide, hydroxide, hydroxide). These acids are followed by the name of the other class of ionic acids (e.g., trichloric acid, or trichloric acid). Unlike a non-metal, binary acids are ionic (except for the'\n"
     ]
    },
    {
     "name": "stderr",
     "output_type": "stream",
     "text": [
      "generating from val:  25%|█████████████████████████▌                                                                            | 1/4 [01:05<03:16, 65.63s/it]"
     ]
    },
    {
     "name": "stdout",
     "output_type": "stream",
     "text": [
      "running openai on text_list of length 128, first element 'Dr. Michael Wexes MD specializes in orthopedic surgery in Winchester, Virginia. Dr. Michael Wexes graduated from University Of Kentucky School Of Medicine in 1990 and has been in practice for 9 years. Currently, Dr. Michael Wexes practices at 9705 Winchester Avenue, Winchester and has over 9 years of experience in the field of medicine.'\n",
      "CE.generate: {'early_stopping': False, 'num_beams': 1, 'num_return_sequences': 1, 'do_sample': False, 'no_repeat_ngram_size': 0, 'max_length': 128}\n",
      "running openai on text_list of length 128, first element 'Dr. Michael David Waespe has a medical practice at 9405 Waespe Avenue, Winchester, Kentucky. Currently, Dr. Michael David Waespe specializes in orthopedic surgery in Winchester area and has over 9 years of experience in the field of medicine. He graduated from University Of Kentucky School Of Medicine in 2004.'\n",
      "CE.generate: {'early_stopping': False, 'num_beams': 1, 'num_return_sequences': 1, 'do_sample': False, 'no_repeat_ngram_size': 0, 'max_length': 128}\n",
      "running openai on text_list of length 128, first element 'Dr. David Waespe has a medical practice at 9405 Winchester Drive, Winchester, KY. Currently, Dr. David Waespe specializes in orthopedic surgery in Winchester area and has over 9 years of experience in the field of medicine. He graduated from University Of Kentucky School Of Medicine in 2003 and is affiliated with many hospitals.'\n",
      "CE.generate: {'early_stopping': False, 'num_beams': 1, 'num_return_sequences': 1, 'do_sample': False, 'no_repeat_ngram_size': 0, 'max_length': 128}\n",
      "running openai on text_list of length 128, first element 'Dr. David Michael Waespe has a medical practice at 104 Winchester Drive, Winchester, KY. Currently, Dr. David Michael Waespe specializes in orthopedic surgery in Winchester area and has over 9 years of experience in the field of medicine. He graduated from University Of Kentucky School Of Medicine in 2004.'\n",
      "CE.generate: {'early_stopping': False, 'num_beams': 1, 'num_return_sequences': 1, 'do_sample': False, 'no_repeat_ngram_size': 0, 'max_length': 128}\n",
      "running openai on text_list of length 128, first element 'Dr. David Michael Waespe has a medical practice at 94 Shoppers Drive, Winchester, KY. Currently, Dr. David Michael Waespe specializes in orthopedic surgery in Winchester area and has over 9 years of experience in the field of medicine. He graduated from University Of Kentucky School Of Medicine in 2004.'\n",
      "CE.generate: {'early_stopping': False, 'num_beams': 1, 'num_return_sequences': 1, 'do_sample': False, 'no_repeat_ngram_size': 0, 'max_length': 128}\n",
      "running openai on text_list of length 128, first element 'Dr. David Michael Waespe has a medical practice at 404 Shoppers Drive, Winchester, KY 49009. Currently, Dr. David Michael Waespe specializes in orthopedic surgery in the Winchester area and has over 9 years of experience in the field of medicine. He graduated from University Of Kentucky School Of Medicine in 2004.'\n",
      "CE.generate: {'early_stopping': False, 'num_beams': 1, 'num_return_sequences': 1, 'do_sample': False, 'no_repeat_ngram_size': 0, 'max_length': 128}\n",
      "running openai on text_list of length 128, first element 'Dr. David Michael Waespe has a medical practice at 404 Shoppers Drive, Winchester, KY 49009. Currently, Dr. David Michael Waespe specializes in orthopedic surgery in the Winchester area and has over 9 years of experience in the field of medicine. He graduated from University Of Kentucky School Of Medicine in 2011.'\n",
      "CE.generate: {'early_stopping': False, 'num_beams': 1, 'num_return_sequences': 1, 'do_sample': False, 'no_repeat_ngram_size': 0, 'max_length': 128}\n",
      "running openai on text_list of length 128, first element 'Dr. David Michael Waespe has a medical practice at 404 Shoppers Drive, Winchester, KY 49009. Currently, Dr. David Michael Waespe specializes in orthopedic surgery in the Winchester area and has over 9 years of experience in the field of medicine. He graduated from University Of Kentucky School Of Medicine in 2009.'\n",
      "CE.generate: {'early_stopping': False, 'num_beams': 1, 'num_return_sequences': 1, 'do_sample': False, 'no_repeat_ngram_size': 0, 'max_length': 128}\n",
      "running openai on text_list of length 128, first element 'Dr. David Michael Waespe has a medical practice at 404 Shoppers Drive, Winchester, KY 49009. Currently, Dr. David Michael Waespe specializes in orthopedic surgery in the Winchester area and has over 9 years of experience in the field of medicine. He graduated from University Of Kentucky School Of Medicine in 2010.'\n",
      "CE.generate: {'early_stopping': False, 'num_beams': 1, 'num_return_sequences': 1, 'do_sample': False, 'no_repeat_ngram_size': 0, 'max_length': 128}\n",
      "running openai on text_list of length 128, first element 'Dr. David Michael Waespe has a medical practice at 404 Shoppers Drive, Winchester, KY 49009. Currently, Dr. David Michael Waespe specializes in orthopedic surgery in the Winchester area and has over 9 years of experience in the field of medicine. He graduated from University Of Kentucky School Of Medicine in 2009.'\n",
      "CE.generate: {'early_stopping': False, 'num_beams': 1, 'num_return_sequences': 1, 'do_sample': False, 'no_repeat_ngram_size': 0, 'max_length': 128}\n",
      "running openai on text_list of length 128, first element 'Dr. David Michael Waespe has a medical practice at 404 Shoppers Drive, Winchester, KY 49009. Currently, Dr. David Michael Waespe specializes in orthopedic surgery in the Winchester area and has over 9 years of experience in the field of medicine. He graduated from University Of Kentucky School Of Medicine in 2010.'\n",
      "CE.generate: {'early_stopping': False, 'num_beams': 1, 'num_return_sequences': 1, 'do_sample': False, 'no_repeat_ngram_size': 0, 'max_length': 128}\n",
      "running openai on text_list of length 128, first element 'Dr. David Michael Waespe has a medical practice at 404 Shoppers Drive, Winchester, KY 49009. Currently, Dr. David Michael Waespe specializes in orthopedic surgery in the Winchester area and has over 9 years of experience in the field of medicine. He graduated from University Of Kentucky School Of Medicine in 2009.'\n",
      "CE.generate: {'early_stopping': False, 'num_beams': 1, 'num_return_sequences': 1, 'do_sample': False, 'no_repeat_ngram_size': 0, 'max_length': 128}\n",
      "running openai on text_list of length 128, first element 'Dr. David Michael Waespe has a medical practice at 404 Shoppers Drive, Winchester, KY 49009. Currently, Dr. David Michael Waespe specializes in orthopedic surgery in the Winchester area and has over 9 years of experience in the field of medicine. He graduated from University Of Kentucky School Of Medicine in 2010.'\n",
      "CE.generate: {'early_stopping': False, 'num_beams': 1, 'num_return_sequences': 1, 'do_sample': False, 'no_repeat_ngram_size': 0, 'max_length': 128}\n",
      "running openai on text_list of length 128, first element 'Dr. David Michael Waespe has a medical practice at 404 Shoppers Drive, Winchester, KY 49009. Currently, Dr. David Michael Waespe specializes in orthopedic surgery in the Winchester area and has over 9 years of experience in the field of medicine. He graduated from University Of Kentucky School Of Medicine in 2009.'\n",
      "CE.generate: {'early_stopping': False, 'num_beams': 1, 'num_return_sequences': 1, 'do_sample': False, 'no_repeat_ngram_size': 0, 'max_length': 128}\n",
      "running openai on text_list of length 128, first element 'Dr. David Michael Waespe has a medical practice at 404 Shoppers Drive, Winchester, KY 49009. Currently, Dr. David Michael Waespe specializes in orthopedic surgery in the Winchester area and has over 9 years of experience in the field of medicine. He graduated from University Of Kentucky School Of Medicine in 2010.'\n",
      "CE.generate: {'early_stopping': False, 'num_beams': 1, 'num_return_sequences': 1, 'do_sample': False, 'no_repeat_ngram_size': 0, 'max_length': 128}\n",
      "running openai on text_list of length 128, first element 'Dr. David Michael Waespe has a medical practice at 404 Shoppers Drive, Winchester, KY 49009. Currently, Dr. David Michael Waespe specializes in orthopedic surgery in the Winchester area and has over 9 years of experience in the field of medicine. He graduated from University Of Kentucky School Of Medicine in 2009.'\n",
      "CE.generate: {'early_stopping': False, 'num_beams': 1, 'num_return_sequences': 1, 'do_sample': False, 'no_repeat_ngram_size': 0, 'max_length': 128}\n",
      "running openai on text_list of length 128, first element 'Dr. David Michael Waespe has a medical practice at 404 Shoppers Drive, Winchester, KY 49009. Currently, Dr. David Michael Waespe specializes in orthopedic surgery in the Winchester area and has over 9 years of experience in the field of medicine. He graduated from University Of Kentucky School Of Medicine in 2009.'\n",
      "CE.generate: {'early_stopping': False, 'num_beams': 1, 'num_return_sequences': 1, 'do_sample': False, 'no_repeat_ngram_size': 0, 'max_length': 128}\n",
      "running openai on text_list of length 128, first element 'Dr. David Michael Waespe has a medical practice at 404 Shoppers Drive, Winchester, KY 49009. Currently, Dr. David Michael Waespe specializes in orthopedic surgery in the Winchester area and has over 9 years of experience in the field of medicine. He graduated from University Of Kentucky School Of Medicine in 2010.'\n",
      "CE.generate: {'early_stopping': False, 'num_beams': 1, 'num_return_sequences': 1, 'do_sample': False, 'no_repeat_ngram_size': 0, 'max_length': 128}\n",
      "running openai on text_list of length 128, first element 'Dr. David Michael Waespe has a medical practice at 404 Shoppers Drive, Winchester, KY 49009. Currently, Dr. David Michael Waespe specializes in orthopedic surgery in the Winchester area and has over 9 years of experience in the field of medicine. He graduated from University Of Kentucky School Of Medicine in 2009.'\n",
      "CE.generate: {'early_stopping': False, 'num_beams': 1, 'num_return_sequences': 1, 'do_sample': False, 'no_repeat_ngram_size': 0, 'max_length': 128}\n",
      "running openai on text_list of length 128, first element 'Dr. David Michael Waespe has a medical practice at 404 Shoppers Drive, Winchester, KY 49009. Currently, Dr. David Michael Waespe specializes in orthopedic surgery in the Winchester area and has over 9 years of experience in the field of medicine. He graduated from University Of Kentucky School Of Medicine in 2010.'\n",
      "CE.generate: {'early_stopping': False, 'num_beams': 1, 'num_return_sequences': 1, 'do_sample': False, 'no_repeat_ngram_size': 0, 'max_length': 128}\n",
      "running openai on text_list of length 128, first element 'Dr. David Michael Waespe has a medical practice at 404 Shoppers Drive, Winchester, KY 49009. Currently, Dr. David Michael Waespe specializes in orthopedic surgery in the Winchester area and has over 9 years of experience in the field of medicine. He graduated from University Of Kentucky School Of Medicine in 2009.'\n"
     ]
    },
    {
     "name": "stderr",
     "output_type": "stream",
     "text": [
      "generating from val:  50%|███████████████████████████████████████████████████                                                   | 2/4 [02:11<02:11, 65.99s/it]"
     ]
    },
    {
     "name": "stdout",
     "output_type": "stream",
     "text": [
      "running openai on text_list of length 128, first element '0 comments. Oculus Rift, the virtual reality headset that has been rumoured to be the worldâs first consumer headset since it was released in 2002, will be sold for as little as $2 billion.'\n",
      "CE.generate: {'early_stopping': False, 'num_beams': 1, 'num_return_sequences': 1, 'do_sample': False, 'no_repeat_ngram_size': 0, 'max_length': 128}\n",
      "running openai on text_list of length 128, first element '0 Shares. Facebook. Oculus Rift, the virtual reality headset Oculus has hinted at will be released next year as a $2 billion buy-and-release set to be released next year, could cost consumers as little as $200.'\n",
      "CE.generate: {'early_stopping': False, 'num_beams': 1, 'num_return_sequences': 1, 'do_sample': False, 'no_repeat_ngram_size': 0, 'max_length': 128}\n",
      "running openai on text_list of length 128, first element '2 comments. Facebook. Oculus Rift, the virtual reality headset that has been rumoured to be released next year, will be sold for $2 billion next year. The company has just announced it could take consumers as little as $70.'\n",
      "CE.generate: {'early_stopping': False, 'num_beams': 1, 'num_return_sequences': 1, 'do_sample': False, 'no_repeat_ngram_size': 0, 'max_length': 128}\n",
      "running openai on text_list of length 128, first element '0 Comments. Facebook. Oculus Rift, the virtual reality headset maker that has recently been rumored to be set to release its first consumer view next year, will cost $2 billion-and could be bought as little as $200.'\n",
      "CE.generate: {'early_stopping': False, 'num_beams': 1, 'num_return_sequences': 1, 'do_sample': False, 'no_repeat_ngram_size': 0, 'max_length': 128}\n",
      "running openai on text_list of length 128, first element '28. facebook. Oculus Rift, the virtual reality headset that has recently been revealed as a consumer firm, will soon be bought for $2,000 and it has revealed its first consumer view next year.'\n",
      "CE.generate: {'early_stopping': False, 'num_beams': 1, 'num_return_sequences': 1, 'do_sample': False, 'no_repeat_ngram_size': 0, 'max_length': 128}\n",
      "running openai on text_list of length 128, first element 'Comments. Facebook. Oculus Rift, the virtual reality headset it has been rumoured to release next year, will soon be bought for as little as $200 as a consumer base and will cost $2 billion.'\n",
      "CE.generate: {'early_stopping': False, 'num_beams': 1, 'num_return_sequences': 1, 'do_sample': False, 'no_repeat_ngram_size': 0, 'max_length': 128}\n",
      "running openai on text_list of length 128, first element '28. View. comments. Oculus Rift, the virtual reality headset that has been rumoured to be set to be released next year by Facebook, will soon cost consumers as little as $2000-and it could be bought for $49.'\n",
      "CE.generate: {'early_stopping': False, 'num_beams': 1, 'num_return_sequences': 1, 'do_sample': False, 'no_repeat_ngram_size': 0, 'max_length': 128}\n",
      "running openai on text_list of length 128, first element '28. View. comments. Oculus Rift, the virtual reality firm Facebook recently acquired by its first buyer, is set to release its first virtual reality headset in two years and will cost consumers as little as $2m.'\n",
      "CE.generate: {'early_stopping': False, 'num_beams': 1, 'num_return_sequences': 1, 'do_sample': False, 'no_repeat_ngram_size': 0, 'max_length': 128}\n",
      "running openai on text_list of length 128, first element '28. View. comments. Facebook has revealed that its virtual reality firm Oculus Rift, the first virtual reality headset it acquired last year, is set to be released in two years and could cost $200 for consumers.'\n",
      "CE.generate: {'early_stopping': False, 'num_beams': 1, 'num_return_sequences': 1, 'do_sample': False, 'no_repeat_ngram_size': 0, 'max_length': 128}\n",
      "running openai on text_list of length 128, first element '2. View. comments. Facebook has just released its virtual reality headset, Oculus Rift, which it bought last year as a small group of investors, is set to be released in less than two years and could cost as little as $2,000.'\n",
      "CE.generate: {'early_stopping': False, 'num_beams': 1, 'num_return_sequences': 1, 'do_sample': False, 'no_repeat_ngram_size': 0, 'max_length': 128}\n",
      "running openai on text_list of length 128, first element '228 Comments. Oculus Rift, the virtual reality firm Facebook just bought for $200 million last year, will be released as a consumer headset next month and it could cost as little as $200.'\n",
      "CE.generate: {'early_stopping': False, 'num_beams': 1, 'num_return_sequences': 1, 'do_sample': False, 'no_repeat_ngram_size': 0, 'max_length': 128}\n",
      "running openai on text_list of length 128, first element '2. View. comments. The virtual reality firm Oculus Rift, which has just been set to release its first consumer headset in a year, will soon be sold by Facebook for $2bn and could cost as little as $80.'\n",
      "CE.generate: {'early_stopping': False, 'num_beams': 1, 'num_return_sequences': 1, 'do_sample': False, 'no_repeat_ngram_size': 0, 'max_length': 128}\n",
      "running openai on text_list of length 128, first element '27 Comments. Facebook has just released its virtual reality headset, the Oculus Rift, which it revealed will be bought for $200 next year. The virtual reality firm could soon release its first consumer headset in a few years, and it could cost as little as $200.'\n",
      "CE.generate: {'early_stopping': False, 'num_beams': 1, 'num_return_sequences': 1, 'do_sample': False, 'no_repeat_ngram_size': 0, 'max_length': 128}\n",
      "running openai on text_list of length 128, first element '2. comments. Facebook has just released its first virtual reality headset, the Oculus Rift, which it revealed will be bought by the firm for as little as $2m next year. The consumer view could cost as little as $20,000.'\n",
      "CE.generate: {'early_stopping': False, 'num_beams': 1, 'num_return_sequences': 1, 'do_sample': False, 'no_repeat_ngram_size': 0, 'max_length': 128}\n",
      "running openai on text_list of length 128, first element '2 Comments. The Oculus Rift, a virtual reality headset firm it acquired by Facebook last year, has just been revealed and will be sold by the firm for as little as $299. The consumer view will cost $200.'\n",
      "CE.generate: {'early_stopping': False, 'num_beams': 1, 'num_return_sequences': 1, 'do_sample': False, 'no_repeat_ngram_size': 0, 'max_length': 128}\n",
      "running openai on text_list of length 128, first element '2. View. comments. Facebook has released its Oculus Rift, the virtual reality headset it bought last year by billionaire investor and consumer firm Oculus, and the company has revealed it could cost as little as $299.'\n",
      "CE.generate: {'early_stopping': False, 'num_beams': 1, 'num_return_sequences': 1, 'do_sample': False, 'no_repeat_ngram_size': 0, 'max_length': 128}\n",
      "running openai on text_list of length 128, first element '22 Comments. Facebook, the billion-dollar consumer virtual reality firm it bought for $200 million last year, has revealed its Oculus Rift headset which will be released next year and could cost as little as $299.'\n",
      "CE.generate: {'early_stopping': False, 'num_beams': 1, 'num_return_sequences': 1, 'do_sample': False, 'no_repeat_ngram_size': 0, 'max_length': 128}\n",
      "running openai on text_list of length 128, first element '2. Comments. Facebook, the virtual reality firm it bought for $2bn last year, has revealed its Oculus Rift headset, set to be released next year, which could cost as little as $299.'\n",
      "CE.generate: {'early_stopping': False, 'num_beams': 1, 'num_return_sequences': 1, 'do_sample': False, 'no_repeat_ngram_size': 0, 'max_length': 128}\n",
      "running openai on text_list of length 128, first element '0 Views. Facebook, the virtual reality firm that bought its first Oculus Rift headset last year for $220 billion, has revealed its Oculus Rift headset set to be released next year, and could cost as little as $200.'\n",
      "CE.generate: {'early_stopping': False, 'num_beams': 1, 'num_return_sequences': 1, 'do_sample': False, 'no_repeat_ngram_size': 0, 'max_length': 128}\n",
      "running openai on text_list of length 128, first element '2. comments. Facebook, the consumer virtual reality firm that bought its first Oculus Rift headset last year, has revealed its Oculus Rift headset set to be released in the fall and will cost as little as $200.'\n",
      "CE.generate: {'early_stopping': False, 'num_beams': 1, 'num_return_sequences': 1, 'do_sample': False, 'no_repeat_ngram_size': 0, 'max_length': 128}\n",
      "running openai on text_list of length 128, first element '2 Comments. Facebook, the virtual reality firm that bought its first Oculus Rift headset last year, has unveiled its Oculus Rift VR headset set for release next year and it is expected to cost as little as $299.'\n"
     ]
    },
    {
     "name": "stderr",
     "output_type": "stream",
     "text": [
      "generating from val:  75%|████████████████████████████████████████████████████████████████████████████▌                         | 3/4 [03:20<01:07, 67.26s/it]"
     ]
    },
    {
     "name": "stdout",
     "output_type": "stream",
     "text": [
      "running openai on text_list of length 116, first element 'The Mexican flag has three horizontal stripes; green, red and blue; green, red and blue; and green, red and blue. The symbol of the Mexican flag is in the middle of a green eagle nesting in a tree. The eagle nesting in the tree is a symbol of the eagle in the middle of the Mexican flag.The symbol of the Mexican flag is a scepter, which is a scepter of the eagle.n the history of Mexico, the Spanish flag was a symbol of the ea'\n",
      "CE.generate: {'early_stopping': False, 'num_beams': 1, 'num_return_sequences': 1, 'do_sample': False, 'no_repeat_ngram_size': 0, 'max_length': 128}\n",
      "running openai on text_list of length 116, first element 'The Mexican flag has three horizontal stripes; green, red and blue. The symbol of the Mexican flag is in the middle of a cactus nesting between the eagle on the left hand side of the flag. The eagle holding a scepter in its mouth is said to have a deep red tongue.The symbol of the Mexican flag is in the green, red and blue.ymbolism of the Mexican Flag. There are three different interpretations of the Mexican flag. The first, the Spanish flag, was originally created in 1821. It was a symbol of'\n",
      "CE.generate: {'early_stopping': False, 'num_beams': 1, 'num_return_sequences': 1, 'do_sample': False, 'no_repeat_ngram_size': 0, 'max_length': 128}\n",
      "running openai on text_list of length 116, first element 'The Mexican flag has three horizontal stripes; green, red and blue. The eagle in the center of the Mexican flag is sitting on a cactus nesting in a lake. The eagle in the right hand of the flag is holding a cactus nesting between the two cactus.The symbol of the Mexican flag is also described as a picture of a cactus nesting in a lake.ymbolism of the Mexican Flag. The Mexican flag, in its best form, has three different meanings; it is in the middle'\n",
      "CE.generate: {'early_stopping': False, 'num_beams': 1, 'num_return_sequences': 1, 'do_sample': False, 'no_repeat_ngram_size': 0, 'max_length': 128}\n",
      "running openai on text_list of length 116, first element 'The Mexican flag has three horizontal stripes; green, red and blue. The eagle in the center of the Mexican flag is holding a cactus nesting between the two cacti. The symbol of the eagle in the right hand of the flag is a picture of a cactus nesting on a sandstone.The symbol of the Mexican flag was first introduced in Mexico.elated Articles. The symbol of the Mexican flag has three horizontal stripes; green, red and blue. The eagle in the center of the Mexican flag'\n",
      "CE.generate: {'early_stopping': False, 'num_beams': 1, 'num_return_sequences': 1, 'do_sample': False, 'no_repeat_ngram_size': 0, 'max_length': 128}\n",
      "running openai on text_list of length 116, first element 'The Mexican flag has three horizontal stripes; green, red and blue. The eagle in the center of the Mexican flag is in a white cactus nesting between the three stripes. The eagle on the right hand of the flag is holding a white eagle in its mouth.The symbolism of the Mexican flag is a mixture of three different ideas.eagles in Mexico. The symbolism of the Mexican flag is a mixture of three different ideas. The symbolism of the Mexican flag is a mixture of three different ideas; the symbol'\n",
      "CE.generate: {'early_stopping': False, 'num_beams': 1, 'num_return_sequences': 1, 'do_sample': False, 'no_repeat_ngram_size': 0, 'max_length': 128}\n",
      "running openai on text_list of length 116, first element 'The Mexican flag has three horizontal stripes; green, red and blue. In the center of the Mexican flag is a cactus nesting in a white cactus. The eagle in the right hand of the flag has a white eagle holding a snake in its mouth.The symbolism of the three stripes is described in the Mexican Flag.eagles in Mexico. Between the three stripes of the Mexican flag lies a colorful eagle, which is a symbol of the Mexican Republic. The eagle was introduced to Mexico in the'\n",
      "CE.generate: {'early_stopping': False, 'num_beams': 1, 'num_return_sequences': 1, 'do_sample': False, 'no_repeat_ngram_size': 0, 'max_length': 128}\n",
      "running openai on text_list of length 116, first element 'The Mexican flag has three horizontal stripes; green, red and blue. In the center of the Mexican flag is an eagle in the mouth of a snake resting on a white cactus. The eagle in the right hand of the flag is holding a snake.The symbolism of the Mexican flag is best described by the picture of the eagle in the cactus.ymbolism of the Mexican Flag. The Mexican flag was originally a land of immigrants, but it was re-introduced in the year 1821. The symbol'\n",
      "CE.generate: {'early_stopping': False, 'num_beams': 1, 'num_return_sequences': 1, 'do_sample': False, 'no_repeat_ngram_size': 0, 'max_length': 128}\n",
      "running openai on text_list of length 116, first element 'The Mexican flag has three horizontal stripes; green, red and blue. In the center of the Mexican flag is an eagle resting on a white cactus in the mouth of a snake. The eagle in the middle of the Mexican flag is holding a snake between its legs.The symbolism of the Mexican flag is also a fascinating picture.elated Articles. Between the three stripes of the Mexican flag, the Republic of Mexico has a rich history. It was in the territory of Mexico during the seventeenth century, when the Spaniards arrived in'\n",
      "CE.generate: {'early_stopping': False, 'num_beams': 1, 'num_return_sequences': 1, 'do_sample': False, 'no_repeat_ngram_size': 0, 'max_length': 128}\n",
      "running openai on text_list of length 116, first element 'The Mexican flag has three horizontal stripes; green, red and white. In the center of the Mexican flag is an eagle holding a snake in its mouth. The eagle in the right hand of the eagle is resting on a cactus in the middle of the flag.The symbolism of the Mexican flag is best described in the picture of the eagle on the right hand of the eagle.elated Articles. The flag of Mexico, which was first introduced to the Spaniards in the seventeenth century, has '\n",
      "CE.generate: {'early_stopping': False, 'num_beams': 1, 'num_return_sequences': 1, 'do_sample': False, 'no_repeat_ngram_size': 0, 'max_length': 128}\n",
      "running openai on text_list of length 116, first element 'The Mexican flag has three horizontal stripes; green, red and white. The eagle in the center of the Mexican flag is holding a snake in its mouth. The eagle in the middle of the Mexican flag is resting on a cactus in the middle of the flag.The symbolism of the Mexican flag is best explained by the picture of an eagle in a cactus in the middle of the flag.elated Articles. The flag of Mexico, between the three countries, was introduced to the United States in 1821, and had '\n",
      "CE.generate: {'early_stopping': False, 'num_beams': 1, 'num_return_sequences': 1, 'do_sample': False, 'no_repeat_ngram_size': 0, 'max_length': 128}\n",
      "running openai on text_list of length 116, first element 'The Mexican flag has three horizontal stripes; green, red and white. The eagle in the middle of the Mexican flag is holding a snake in its mouth. The eagle in the middle of the Mexican flag is resting on a cactus in the middle of the flag.The symbolism of the Mexican flag is best described in the picture of a snake in its mouth.elated Articles. The flag of Mexico has three horizontal stripes; green, red and white. The Mexican flag, which is situated between Mexico and the United States, was a land of rich'\n",
      "CE.generate: {'early_stopping': False, 'num_beams': 1, 'num_return_sequences': 1, 'do_sample': False, 'no_repeat_ngram_size': 0, 'max_length': 128}\n",
      "running openai on text_list of length 116, first element 'The Mexican flag has three horizontal stripes; green, red and white. The eagle in the middle of the Mexican flag is holding a snake on its right hand. The eagle in the middle of the Mexican flag is resting on a cactus in the center of the flag.The symbolism of the Mexican flag is best described in the picture of an eagle in the mouth of a snake.ealth of the Flag of Mexico. The Mexican flag, which is situated between Mexico and the United States, has three horizontal stripes; green, red and white.'\n",
      "CE.generate: {'early_stopping': False, 'num_beams': 1, 'num_return_sequences': 1, 'do_sample': False, 'no_repeat_ngram_size': 0, 'max_length': 128}\n",
      "running openai on text_list of length 116, first element 'The Mexican flag has three horizontal stripes; green, red and white. The eagle in the middle of the Mexican flag is holding a snake in his right hand. The eagle on the left hand of the flag is resting on a cactus in the center of the flag.The symbolism of the Mexican flag is best described in the picture of an eagle in a cactus in the center of the flag.ools of Mexico Flag. The Mexican flag has three horizontal stripes; green, red and white. The eagle in'\n",
      "CE.generate: {'early_stopping': False, 'num_beams': 1, 'num_return_sequences': 1, 'do_sample': False, 'no_repeat_ngram_size': 0, 'max_length': 128}\n",
      "running openai on text_list of length 116, first element 'The Mexican flag has three horizontal stripes; green, red and white. The eagle in the middle of the Mexican flag is resting on a cactus in the left hand hand. The eagle in the right hand of the Mexican flag is holding a snake between its legs.The symbolism of the Mexican flag was first discovered in the colors of the eagle.ools of the Mexican Flag. The Mexican Flag has three horizontal stripes; green, red and white. The eagle in the middle of the Mexican flag is resting on a '\n",
      "CE.generate: {'early_stopping': False, 'num_beams': 1, 'num_return_sequences': 1, 'do_sample': False, 'no_repeat_ngram_size': 0, 'max_length': 128}\n",
      "running openai on text_list of length 116, first element 'The flag of Mexico has three horizontal stripes; green, red and white. The eagle in the middle of the Mexican flag is holding a snake in his right hand. The eagle resting on a cactus in the middle of the Mexican flag is said to have a mouth in its mouth.The symbolism of the three colors of the Mexican flag is described in detail below.irst, a quick history on the colors of the Mexican Flag. The Mexican Flag has three horizontal stripes; green, red and white. The eagle in the middle of'\n",
      "CE.generate: {'early_stopping': False, 'num_beams': 1, 'num_return_sequences': 1, 'do_sample': False, 'no_repeat_ngram_size': 0, 'max_length': 128}\n",
      "running openai on text_list of length 116, first element 'The flag of Mexico has three horizontal stripes; green, red and white. The eagle in the middle of the Mexican flag is holding a snake resting on a cactus in his right hand.The eagle is in between the two cactus in the Mexican flag.The symbolism of the Mexican flag is best seen in the picture of the eagle in the mouth.eagle in the Mexican Flag. The Mexican flag has three horizontal stripes; green, red and white. The eagle in the middle of the Mexican flag is holding a'\n",
      "CE.generate: {'early_stopping': False, 'num_beams': 1, 'num_return_sequences': 1, 'do_sample': False, 'no_repeat_ngram_size': 0, 'max_length': 128}\n",
      "running openai on text_list of length 116, first element 'The flag of Mexico has three horizontal stripes; green, red and white. The eagle in the middle of the Mexican flag is holding a snake resting on a cactus in his right hand.The eagle in the middle of the Mexican flag is holding a snake resting on a cactus in his right hand.The picture of the eagle in the Mexican flag is a picture of a cactus in its mouth.eagles in Mexico Flag. The symbolism of the Mexican flag is firmly rooted in the'\n",
      "CE.generate: {'early_stopping': False, 'num_beams': 1, 'num_return_sequences': 1, 'do_sample': False, 'no_repeat_ngram_size': 0, 'max_length': 128}\n",
      "running openai on text_list of length 116, first element 'The flag of Mexico has three horizontal stripes; green, red and white. The eagle in the middle of the Mexican flag is holding a snake resting on a cactus. Between the three stripes is a picture of an eagle in his right hand.The symbolism of the Mexican flag is best explained by the colors of the eagle. The Mexican flag has three horizontal stripes; green, red and white. The eagle in the middle of the Mexican flag is holding a snake resting on a cactus. Between the three stripes'\n",
      "CE.generate: {'early_stopping': False, 'num_beams': 1, 'num_return_sequences': 1, 'do_sample': False, 'no_repeat_ngram_size': 0, 'max_length': 128}\n",
      "running openai on text_list of length 116, first element 'The flag of Mexico has three horizontal stripes; green, red and white. In the middle of the Mexican flag, an eagle resting on a cactus in the right hand of the flag is holding a snake in his right hand.The picture of an eagle in the mouth of the flag is a picture of a snake in his mouth.eagle in the Mexican Flag. The symbolism of the Mexican flag is best explained by the three horizontal stripes; green, red and white. The Mexican flag has three horizontal stripes; green, red and white. The Mexican'\n",
      "CE.generate: {'early_stopping': False, 'num_beams': 1, 'num_return_sequences': 1, 'do_sample': False, 'no_repeat_ngram_size': 0, 'max_length': 128}\n",
      "running openai on text_list of length 116, first element 'The flag of Mexico has three horizontal stripes; green, red and white. In the middle of the Mexican flag, an eagle is resting on a cactus in the center of the flag. The eagle's mouth is in the picture of a snake between the cactus and the eagle's mouth.The symbolism of the Mexican flag is all about the colors.eagle in Mexican Flag. The symbolism of the Mexican flag is best explained in the colors of the Mexican flag. The Mexican flag has three colors; green, white'\n",
      "CE.generate: {'early_stopping': False, 'num_beams': 1, 'num_return_sequences': 1, 'do_sample': False, 'no_repeat_ngram_size': 0, 'max_length': 128}\n",
      "running openai on text_list of length 116, first element 'The flag of Mexico has three horizontal stripes; green, white and red. In the middle of the Mexican flag is an eagle holding a snake in its mouth. The eagle is in the picture of a snake resting on a cactus in the middle of the flag.The symbolism of the Mexican flag is best explained in the colors of the eagle's mouth.eagle in the Mexican Flag. The Mexican flag has three horizontal stripes; green, white and red. The Mexican flag is situated between the three continents and the central part of Mexico'\n"
     ]
    },
    {
     "name": "stderr",
     "output_type": "stream",
     "text": [
      "                                                                                                                                                              \r"
     ]
    },
    {
     "name": "stdout",
     "output_type": "stream",
     "text": [
      "[pred] Examples include HF, HF-H, and HF-H. Binary Acids. Binary acids begin with the name of one of the two classes of ionic acids (e.g., hydroxide, hydroxide, hydroxide, hydroxide, hydroxide, hydroxide, hydroxide). These acids are followed by the name of the other class of ionic acids (e.g., trichloric acid, or trichloric acid). Unlike a non-metal, binary acids are ionic (except for the\n",
      "[true] Examples: HF, HCl, HBr, HI, H2O, H2S. The names of binary acids begin with hydro-followed by the name of the other element modified to end with-ic (like in hydro chlor ic acid). Binary Acids are one of two classes of acids, the second being the Ternary Acids. The Ternary acids either consist of a hydrogen, oxygen and one other nonmetal element called the oxoacids (like HNO3), or they consist of hydrogen and two other nonmetal elements,\n",
      "\n",
      "\n",
      "\n",
      "[pred] Co:Writer should now be in the writing stage as you write sentences. Sentences: Co:Writer is at the tip of the scale, with one word at a time. As you type, you will begin to enter words and a series of clues to give each word a clearer picture.\n",
      "[true] Co:Writer should now be in the foreground. Writing Sentences: You will write sentences one at a time with Co:Writer. As you begin to type a word, Co:Writer offers guesses as to what the word is, based on the letters you typed and other factors.\n",
      "\n",
      "\n",
      "\n",
      "[pred] mundane. Relating to, characteristic of, or affecting the earth: earthbound, earthy, temporal, earthly, earthy-turretorial, earthy human, earthly world, earthy-personly, earthy.\n",
      "[true] mundane. Relating to or characteristic of the earth or of human life on earth: earthbound, earthen, earthly, earthy, secular, tellurian, telluric, temporal, terrene, terrestrial, worldly.\n",
      "running openai on text_list of length 128, first element 'Examples include HF, HF-H, and HF-H. Binary Acids. Binary acids begin with the name of one of the two classes of ionic acids (e.g., hydroxide, hydroxide, hydroxide, hydroxide, hydroxide, hydroxide, hydroxide). These acids are followed by the name of the other class of ionic acids (e.g., trichloric acid, or trichloric acid). Unlike a non-metal, binary acids are ionic (except for the'\n",
      "running openai on text_list of length 128, first element 'Examples: HF, HCl, HBr, HI, H2O, H2S. The names of binary acids begin with hydro-followed by the name of the other element modified to end with-ic (like in hydro chlor ic acid). Binary Acids are one of two classes of acids, the second being the Ternary Acids. The Ternary acids either consist of a hydrogen, oxygen and one other nonmetal element called the oxoacids (like HNO3), or they consist of hydrogen and two other nonmetal elements,'\n"
     ]
    },
    {
     "data": {
      "text/plain": [
       "{'eval_loss': 1.2293158769607544,\n",
       " 'eval_pred_num_tokens': 80.234375,\n",
       " 'eval_true_num_tokens': 80.90625,\n",
       " 'eval_token_set_precision': 0.6493072591380598,\n",
       " 'eval_token_set_recall': 0.7256628616424282,\n",
       " 'eval_token_set_f1': 0.6816295341911935,\n",
       " 'eval_n_ngrams_match_1': 40.91,\n",
       " 'eval_n_ngrams_match_2': 22.57,\n",
       " 'eval_n_ngrams_match_3': 15.112,\n",
       " 'eval_num_true_words': 63.416,\n",
       " 'eval_num_pred_words': 61.704,\n",
       " 'eval_bleu_score': 32.354033985694485,\n",
       " 'eval_meteor_score': 0.5742523951898945,\n",
       " 'eval_rouge_score': 0.6782206753419849,\n",
       " 'eval_exact_match': 0.03,\n",
       " 'eval_emb_cos_sim': 0.9721255302429199,\n",
       " 'eval_runtime': 281.8872,\n",
       " 'eval_samples_per_second': 1.774,\n",
       " 'eval_steps_per_second': 0.014}"
      ]
     },
     "execution_count": 10,
     "metadata": {},
     "output_type": "execute_result"
    }
   ],
   "source": [
    "corr_trainer.args.per_device_eval_batch_size = 128\n",
    "corr_trainer.return_best_hypothesis = True\n",
    "corr_trainer.num_gen_recursive_steps = 20\n",
    "corr_trainer.sequence_beam_width = 1\n",
    "corr_trainer.gen_kwargs = {\n",
    "    \"early_stopping\": False,\n",
    "    \"num_beams\": 1,\n",
    "    \"num_return_sequences\": 1,\n",
    "    \"do_sample\": False,\n",
    "    \"no_repeat_ngram_size\": 0,\n",
    "}\n",
    "corr_trainer.evaluate(\n",
    "    eval_dataset=inv_trainer.train_dataset.select(range(500))\n",
    ")"
   ]
  },
  {
   "cell_type": "code",
   "execution_count": 16,
   "id": "63bbef67-1313-4ffb-b374-49e32daf3d2b",
   "metadata": {},
   "outputs": [
    {
     "data": {
      "text/plain": [
       "torch.Size([3, 32])"
      ]
     },
     "execution_count": 16,
     "metadata": {},
     "output_type": "execute_result"
    }
   ],
   "source": [
    "import torch\n",
    "torch.tensor(inv_trainer.eval_dataset[\"msmarco\"].select([16, 16, 16])[\"input_ids\"]).shape"
   ]
  },
  {
   "cell_type": "code",
   "execution_count": null,
   "id": "0a6ab219-71b3-4872-bfcf-efc74c9b398a",
   "metadata": {},
   "outputs": [],
   "source": []
  }
 ],
 "metadata": {
  "kernelspec": {
   "display_name": "Python 3 (ipykernel)",
   "language": "python",
   "name": "python3"
  },
  "language_info": {
   "codemirror_mode": {
    "name": "ipython",
    "version": 3
   },
   "file_extension": ".py",
   "mimetype": "text/x-python",
   "name": "python",
   "nbconvert_exporter": "python",
   "pygments_lexer": "ipython3",
   "version": "3.10.10"
  }
 },
 "nbformat": 4,
 "nbformat_minor": 5
}
