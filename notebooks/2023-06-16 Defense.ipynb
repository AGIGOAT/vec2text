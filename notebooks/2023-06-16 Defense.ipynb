{
 "cells": [
  {
   "cell_type": "code",
   "execution_count": 2,
   "id": "3cbb396b-28dd-4caf-98f2-31e32907cbec",
   "metadata": {},
   "outputs": [],
   "source": [
    "%load_ext autoreload\n",
    "%autoreload 2\n",
    "\n",
    "import os\n",
    "os.environ[\"WANDB_DISABLED\"] = \"true\"\n",
    "\n",
    "import sys\n",
    "sys.path = [\n",
    "    p for p in sys.path\n",
    "    if p not in ['/home/jxm3/research/prompting/imodelsX', '/home/jxm3/research/prompting/tree-prompt']\n",
    "]\n",
    "sys.path.append('/home/jxm3/research/retrieval/inversion')"
   ]
  },
  {
   "cell_type": "code",
   "execution_count": 10,
   "id": "56163907-2955-4a60-aea4-30505b9e8d42",
   "metadata": {},
   "outputs": [
    {
     "name": "stdout",
     "output_type": "stream",
     "text": [
      "loading alias gtr_nq__msl32_beta__correct from /home/jxm3/research/retrieval/inversion/saves/47d9c149a8e827d0609abbeefdfd89ac...\n",
      "> checkpoint: /home/jxm3/research/retrieval/inversion/saves/47d9c149a8e827d0609abbeefdfd89ac/checkpoint-558000\n",
      "set dataset to nq\n",
      "loading alias dpr_nq__msl32_beta from /home/jxm3/research/retrieval/inversion/saves/db66b9c01b644541fedbdcc59c53a285/ebb31d91810c4b62d2b55b5382e8c7ea...\n",
      "Set num workers to 8\n",
      "Overwriting max sequence length from 32 to 32\n",
      "> checkpoint: /home/jxm3/research/retrieval/inversion/saves/db66b9c01b644541fedbdcc59c53a285/ebb31d91810c4b62d2b55b5382e8c7ea/checkpoint-999744\n"
     ]
    },
    {
     "name": "stderr",
     "output_type": "stream",
     "text": [
      "/home/jxm3/.conda/envs/torch/lib/python3.10/site-packages/transformers/models/t5/tokenization_t5_fast.py:155: FutureWarning: This tokenizer was incorrectly instantiated with a model max length of 512 which will be corrected in Transformers v5.\n",
      "For now, this behavior is kept to avoid breaking backwards compatibility when padding/encoding with `truncation is True`.\n",
      "- Be aware that you SHOULD NOT rely on t5-base automatically truncating your input to 512 when padding/encoding.\n",
      "- If you want to encode/pad to sequences longer than 512 you can either instantiate this tokenizer with `model_max_length` or pass `max_length` when encoding/padding.\n",
      "- To avoid this warning, please instantiate this tokenizer with `model_max_length` set to your preferred value.\n",
      "  warnings.warn(\n"
     ]
    },
    {
     "name": "stdout",
     "output_type": "stream",
     "text": [
      "Loading datasets with TOKENIZERS_PARALLELISM = True\n"
     ]
    },
    {
     "name": "stderr",
     "output_type": "stream",
     "text": [
      "[nltk_data] Downloading package wordnet to /home/jxm3/nltk_data...\n",
      "[nltk_data]   Package wordnet is already up-to-date!\n",
      "[nltk_data] Downloading package punkt to /home/jxm3/nltk_data...\n",
      "[nltk_data]   Package punkt is already up-to-date!\n",
      "[nltk_data] Downloading package omw-1.4 to /home/jxm3/nltk_data...\n",
      "[nltk_data]   Package omw-1.4 is already up-to-date!\n"
     ]
    },
    {
     "name": "stdout",
     "output_type": "stream",
     "text": [
      "Renaming keys {'embedding_transform.2.weight', 'embedding_transform.2.bias'} for backward compatibility.\n",
      "================ Begin trainer sanity check ================\n",
      "\tInput to encode -> Twas brillig, and the slithy toves, Did gyre and gimble in the wabe, All mimsy were the borogoves, And the mome raths outgrabe.\n",
      "\tDecoded output shape ->  torch.Size([1, 33])\n",
      "\tDecoded output -> The mlbies wase wyst bograge; And the sliths and toms wy\n",
      "================ End trainer sanity check ================\n",
      "Froze 342572160 params from model type <class 'models.inversion.InversionModel'>\n"
     ]
    },
    {
     "name": "stderr",
     "output_type": "stream",
     "text": [
      "[nltk_data] Downloading package wordnet to /home/jxm3/nltk_data...\n",
      "[nltk_data]   Package wordnet is already up-to-date!\n",
      "[nltk_data] Downloading package punkt to /home/jxm3/nltk_data...\n",
      "[nltk_data]   Package punkt is already up-to-date!\n",
      "[nltk_data] Downloading package omw-1.4 to /home/jxm3/nltk_data...\n",
      "[nltk_data]   Package omw-1.4 is already up-to-date!\n"
     ]
    },
    {
     "name": "stdout",
     "output_type": "stream",
     "text": [
      "Renaming keys {'embedding_transform.2.weight', 'embedding_transform.2.bias'} for backward compatibility.\n",
      "================ Begin trainer sanity check ================\n",
      "\tInput to encode -> Twas brillig, and the slithy toves, Did gyre and gimble in the wabe, All mimsy were the borogoves, And the mome raths outgrabe.\n",
      "\tDecoded output shape ->  torch.Size([1, 33])\n",
      "\tDecoded output -> The slithe and the tobogbes were mly; It wis grabbse tiring\n",
      "================ End trainer sanity check ================\n",
      "\n"
     ]
    }
   ],
   "source": [
    "import aliases\n",
    "\n",
    "# inv_trainer = aliases.load_trainer_from_alias(\"openai_msmarco__msl128__100epoch\")\n",
    "corr_experiment, corr_trainer = aliases.load_experiment_and_trainer_from_alias(\"gtr_nq__msl32_beta__correct\")\n",
    "inv_trainer = corr_trainer.inversion_trainer\n",
    "# corr_trainer.precompute_hypotheses()\n",
    "corr_trainer.model.eval()\n",
    "print()"
   ]
  },
  {
   "cell_type": "code",
   "execution_count": 4,
   "id": "5e37ffdf-e365-4add-a72f-91080a56bd05",
   "metadata": {},
   "outputs": [
    {
     "data": {
      "text/html": [
       "\n",
       "    <div>\n",
       "      \n",
       "      <progress value='4' max='4' style='width:300px; height:20px; vertical-align: middle;'></progress>\n",
       "      [4/4 00:02]\n",
       "    </div>\n",
       "    "
      ],
      "text/plain": [
       "<IPython.core.display.HTML object>"
      ]
     },
     "metadata": {},
     "output_type": "display_data"
    },
    {
     "name": "stderr",
     "output_type": "stream",
     "text": [
      "generating from val:   0%|                                                                                                              | 0/4 [00:00<?, ?it/s]"
     ]
    },
    {
     "name": "stdout",
     "output_type": "stream",
     "text": [
      "CE.generate: {'early_stopping': False, 'num_beams': 1, 'do_sample': False, 'no_repeat_ngram_size': 0, 'max_length': 32, 'num_return_sequences': 1}\n",
      "CE.generate: {'early_stopping': False, 'num_beams': 1, 'do_sample': False, 'no_repeat_ngram_size': 0, 'max_length': 32, 'num_return_sequences': 1}\n",
      "CE.generate: {'early_stopping': False, 'num_beams': 1, 'do_sample': False, 'no_repeat_ngram_size': 0, 'max_length': 32, 'num_return_sequences': 1}\n",
      "CE.generate: {'early_stopping': False, 'num_beams': 1, 'do_sample': False, 'no_repeat_ngram_size': 0, 'max_length': 32, 'num_return_sequences': 1}\n",
      "CE.generate: {'early_stopping': False, 'num_beams': 1, 'do_sample': False, 'no_repeat_ngram_size': 0, 'max_length': 32, 'num_return_sequences': 1}\n"
     ]
    },
    {
     "name": "stderr",
     "output_type": "stream",
     "text": [
      "generating from val:  25%|█████████████████████████▌                                                                            | 1/4 [00:03<00:11,  3.89s/it]"
     ]
    },
    {
     "name": "stdout",
     "output_type": "stream",
     "text": [
      "CE.generate: {'early_stopping': False, 'num_beams': 1, 'do_sample': False, 'no_repeat_ngram_size': 0, 'max_length': 32, 'num_return_sequences': 1}\n",
      "CE.generate: {'early_stopping': False, 'num_beams': 1, 'do_sample': False, 'no_repeat_ngram_size': 0, 'max_length': 32, 'num_return_sequences': 1}\n",
      "CE.generate: {'early_stopping': False, 'num_beams': 1, 'do_sample': False, 'no_repeat_ngram_size': 0, 'max_length': 32, 'num_return_sequences': 1}\n",
      "CE.generate: {'early_stopping': False, 'num_beams': 1, 'do_sample': False, 'no_repeat_ngram_size': 0, 'max_length': 32, 'num_return_sequences': 1}\n",
      "CE.generate: {'early_stopping': False, 'num_beams': 1, 'do_sample': False, 'no_repeat_ngram_size': 0, 'max_length': 32, 'num_return_sequences': 1}\n"
     ]
    },
    {
     "name": "stderr",
     "output_type": "stream",
     "text": [
      "generating from val:  50%|███████████████████████████████████████████████████                                                   | 2/4 [00:07<00:07,  3.72s/it]"
     ]
    },
    {
     "name": "stdout",
     "output_type": "stream",
     "text": [
      "CE.generate: {'early_stopping': False, 'num_beams': 1, 'do_sample': False, 'no_repeat_ngram_size': 0, 'max_length': 32, 'num_return_sequences': 1}\n",
      "CE.generate: {'early_stopping': False, 'num_beams': 1, 'do_sample': False, 'no_repeat_ngram_size': 0, 'max_length': 32, 'num_return_sequences': 1}\n",
      "CE.generate: {'early_stopping': False, 'num_beams': 1, 'do_sample': False, 'no_repeat_ngram_size': 0, 'max_length': 32, 'num_return_sequences': 1}\n",
      "CE.generate: {'early_stopping': False, 'num_beams': 1, 'do_sample': False, 'no_repeat_ngram_size': 0, 'max_length': 32, 'num_return_sequences': 1}\n",
      "CE.generate: {'early_stopping': False, 'num_beams': 1, 'do_sample': False, 'no_repeat_ngram_size': 0, 'max_length': 32, 'num_return_sequences': 1}\n"
     ]
    },
    {
     "name": "stderr",
     "output_type": "stream",
     "text": [
      "generating from val:  75%|████████████████████████████████████████████████████████████████████████████▌                         | 3/4 [00:11<00:03,  3.67s/it]"
     ]
    },
    {
     "name": "stdout",
     "output_type": "stream",
     "text": [
      "CE.generate: {'early_stopping': False, 'num_beams': 1, 'do_sample': False, 'no_repeat_ngram_size': 0, 'max_length': 32, 'num_return_sequences': 1}\n",
      "CE.generate: {'early_stopping': False, 'num_beams': 1, 'do_sample': False, 'no_repeat_ngram_size': 0, 'max_length': 32, 'num_return_sequences': 1}\n",
      "CE.generate: {'early_stopping': False, 'num_beams': 1, 'do_sample': False, 'no_repeat_ngram_size': 0, 'max_length': 32, 'num_return_sequences': 1}\n",
      "CE.generate: {'early_stopping': False, 'num_beams': 1, 'do_sample': False, 'no_repeat_ngram_size': 0, 'max_length': 32, 'num_return_sequences': 1}\n",
      "CE.generate: {'early_stopping': False, 'num_beams': 1, 'do_sample': False, 'no_repeat_ngram_size': 0, 'max_length': 32, 'num_return_sequences': 1}\n"
     ]
    },
    {
     "name": "stderr",
     "output_type": "stream",
     "text": [
      "                                                                                                                                                              \r"
     ]
    },
    {
     "name": "stdout",
     "output_type": "stream",
     "text": [
      "[pred] to the character of the sutures of the skull, which, like those of the infant skull, are relatively smooth and untornuous. Indeed\n",
      "[true] to the character of the sutures of the skull which, like those of the infant skull, are relatively smooth and untortuous. In fact\n",
      "\n",
      "\n",
      "\n",
      "[pred] individual from the Southern Hemisphere, to win a Winter Olympic gold medal and was also part of the short track relay team that won Australia'\n",
      "[true] individual from the Southern Hemisphere, to win a Winter Olympic gold medal and was also part of the short track relay team that won Australia'\n",
      "\n",
      "\n",
      "\n",
      "[pred] same rights as straight people, while 15% agreed that they should be protected from workplace discrimination. Additionally, 13% disagreed. 69% of H-\n",
      "[true] the same rights as straight people, while 15% disagreed. Additionally, 69% agreed that they should be protected from workplace discrimination. 13% of H\n",
      "{'eval_nq_loss': 0.6404249668121338, 'eval_nq_pred_num_tokens': 31.0, 'eval_nq_true_num_tokens': 32.0, 'eval_nq_token_set_precision': 0.9044071345497376, 'eval_nq_token_set_recall': 0.9125329795625029, 'eval_nq_token_set_f1': 0.9080383949145814, 'eval_nq_n_ngrams_match_1': 22.024, 'eval_nq_n_ngrams_match_2': 18.236, 'eval_nq_n_ngrams_match_3': 15.748, 'eval_nq_num_true_words': 24.368, 'eval_nq_num_pred_words': 24.322, 'eval_nq_bleu_score': 75.41253923476056, 'eval_nq_meteor_score': 0.8921194996873874, 'eval_nq_rouge_score': 0.9097580497749944, 'eval_nq_exact_match': 0.414, 'eval_nq_emb_cos_sim': 0.9845502376556396, 'eval_nq_runtime': 22.5982, 'eval_nq_samples_per_second': 22.126, 'eval_nq_steps_per_second': 0.177}\n"
     ]
    }
   ],
   "source": [
    "corr_trainer.return_best_hypothesis = False\n",
    "corr_trainer.args.per_device_eval_batch_size = 128\n",
    "corr_trainer.gen_kwargs = {\n",
    "    \"early_stopping\": False,\n",
    "    \"num_beams\": 1,\n",
    "    \"do_sample\": False,\n",
    "    \"no_repeat_ngram_size\": 0,\n",
    "}\n",
    "corr_trainer.num_gen_recursive_steps = 5\n",
    "metrics = corr_trainer.evaluate(\n",
    "    eval_dataset=corr_trainer.eval_dataset[\"nq\"].select(range(500)),\n",
    "    metric_key_prefix=\"eval_nq\",\n",
    ")\n",
    "print(metrics)"
   ]
  },
  {
   "cell_type": "code",
   "execution_count": 7,
   "id": "11b4f91a-52b4-4e0d-ae1e-caabeea34a80",
   "metadata": {},
   "outputs": [
    {
     "data": {
      "text/plain": [
       "dict_keys(['input_ids', 'attention_mask', 'labels', 'length', 'embedder_input_ids', 'embedder_attention_mask'])"
      ]
     },
     "execution_count": 7,
     "metadata": {},
     "output_type": "execute_result"
    }
   ],
   "source": [
    "corr_trainer.eval_dataset[\"nq\"][0].keys() # making sure embeddings aren't precomputed"
   ]
  },
  {
   "cell_type": "code",
   "execution_count": 13,
   "id": "2b8dccf0-6c5e-47f8-bcb8-3d5f647c7248",
   "metadata": {},
   "outputs": [
    {
     "name": "stderr",
     "output_type": "stream",
     "text": [
      "                                                                                                                                                              \r"
     ]
    },
    {
     "name": "stdout",
     "output_type": "stream",
     "text": [
      "[pred] to the character of the sutures of the skull, which are relatively smooth and untornate of infant skulls. In fact, unlike those\n",
      "[true] to the character of the sutures of the skull which, like those of the infant skull, are relatively smooth and untortuous. In fact\n",
      "\n",
      "\n",
      "\n",
      "[pred] individual from Australia, to win a Winter Olympic gold medal, and was part of the Southern Hemisphere relay team which also won the short track\n",
      "[true] individual from the Southern Hemisphere, to win a Winter Olympic gold medal and was also part of the short track relay team that won Australia'\n",
      "\n",
      "\n",
      "\n",
      "[pred] the same rights as straight people, and 5% disagreed with the idea that workplace discrimination should be protected. Additionally, 15% agreed with LGBT rights and\n",
      "[true] the same rights as straight people, while 15% disagreed. Additionally, 69% agreed that they should be protected from workplace discrimination. 13% of H\n",
      "{'eval_nq_loss': 0.7328670024871826, 'eval_nq_pred_num_tokens': 31.0, 'eval_nq_true_num_tokens': 32.0, 'eval_nq_token_set_precision': 0.7494987847874398, 'eval_nq_token_set_recall': 0.7640406596870772, 'eval_nq_token_set_f1': 0.7555958768315751, 'eval_nq_n_ngrams_match_1': 18.164, 'eval_nq_n_ngrams_match_2': 11.636, 'eval_nq_n_ngrams_match_3': 8.38, 'eval_nq_num_true_words': 24.368, 'eval_nq_num_pred_words': 24.3, 'eval_nq_bleu_score': 45.25997669250702, 'eval_nq_meteor_score': 0.7057961949388873, 'eval_nq_rouge_score': 0.7545884269008226, 'eval_nq_exact_match': 0.064, 'eval_nq_emb_cos_sim': 0.9477237462997437, 'eval_nq_runtime': 10.6702, 'eval_nq_samples_per_second': 46.86, 'eval_nq_steps_per_second': 0.375}\n"
     ]
    }
   ],
   "source": [
    "corr_trainer.inversion_trainer.model.noise_level = 1e-3\n",
    "corr_trainer.return_best_hypothesis = False\n",
    "corr_trainer.args.per_device_eval_batch_size = 128\n",
    "corr_trainer.gen_kwargs = {\n",
    "    \"early_stopping\": False,\n",
    "    \"num_beams\": 1,\n",
    "    \"do_sample\": False,\n",
    "    \"no_repeat_ngram_size\": 0,\n",
    "}\n",
    "corr_trainer.num_gen_recursive_steps = 1\n",
    "metrics = corr_trainer.evaluate(\n",
    "    eval_dataset=corr_trainer.eval_dataset[\"nq\"].select(range(500)),\n",
    "    metric_key_prefix=\"eval_nq\",\n",
    ")\n",
    "print(metrics)"
   ]
  },
  {
   "cell_type": "code",
   "execution_count": 12,
   "id": "0968a7e4-fef4-4d8b-b22b-030a9eea4e70",
   "metadata": {},
   "outputs": [
    {
     "name": "stderr",
     "output_type": "stream",
     "text": [
      "                                                                                                                                                              \r"
     ]
    },
    {
     "name": "stdout",
     "output_type": "stream",
     "text": [
      "[pred] to the character of the sutures of the skull, which, like the infant skull, are relatively smooth and untornuous. Rather,\n",
      "[true] to the character of the sutures of the skull which, like those of the infant skull, are relatively smooth and untortuous. In fact\n",
      "\n",
      "\n",
      "\n",
      "[pred] individual from the Southern Hemisphere, to win a Winter Olympic gold medal and was also part of the short track relay team that won Australia'\n",
      "[true] individual from the Southern Hemisphere, to win a Winter Olympic gold medal and was also part of the short track relay team that won Australia'\n",
      "\n",
      "\n",
      "\n",
      "[pred] the same rights as straight people, while 15% disagreed. Additionally, 9% agreed that they should be protected from workplace discrimination. 63% of H\n",
      "[true] the same rights as straight people, while 15% disagreed. Additionally, 69% agreed that they should be protected from workplace discrimination. 13% of H\n",
      "{'eval_nq_loss': 0.7234241366386414, 'eval_nq_pred_num_tokens': 31.0, 'eval_nq_true_num_tokens': 32.0, 'eval_nq_token_set_precision': 0.871266300026202, 'eval_nq_token_set_recall': 0.8790672843050309, 'eval_nq_token_set_f1': 0.87442957137408, 'eval_nq_n_ngrams_match_1': 21.112, 'eval_nq_n_ngrams_match_2': 16.59, 'eval_nq_n_ngrams_match_3': 13.754, 'eval_nq_num_true_words': 24.368, 'eval_nq_num_pred_words': 24.334, 'eval_nq_bleu_score': 67.53389569279142, 'eval_nq_meteor_score': 0.8503211444698761, 'eval_nq_rouge_score': 0.8781290290017818, 'eval_nq_exact_match': 0.218, 'eval_nq_emb_cos_sim': 0.9775034189224243, 'eval_nq_runtime': 18.3441, 'eval_nq_samples_per_second': 27.257, 'eval_nq_steps_per_second': 0.218}\n"
     ]
    }
   ],
   "source": [
    "corr_trainer.inversion_trainer.model.noise_level = 1e-3\n",
    "corr_trainer.return_best_hypothesis = False\n",
    "corr_trainer.args.per_device_eval_batch_size = 128\n",
    "corr_trainer.gen_kwargs = {\n",
    "    \"early_stopping\": False,\n",
    "    \"num_beams\": 1,\n",
    "    \"do_sample\": False,\n",
    "    \"no_repeat_ngram_size\": 0,\n",
    "}\n",
    "corr_trainer.num_gen_recursive_steps = 5\n",
    "metrics = corr_trainer.evaluate(\n",
    "    eval_dataset=corr_trainer.eval_dataset[\"nq\"].select(range(500)),\n",
    "    metric_key_prefix=\"eval_nq\",\n",
    ")\n",
    "print(metrics)"
   ]
  },
  {
   "cell_type": "code",
   "execution_count": 16,
   "id": "94d0e2d5-e988-42bd-b82f-6623a181fbd5",
   "metadata": {},
   "outputs": [
    {
     "name": "stderr",
     "output_type": "stream",
     "text": [
      "                                                                                                                                                              \r"
     ]
    },
    {
     "name": "stdout",
     "output_type": "stream",
     "text": [
      "[pred] to the character of the sutures of the skull, which, like those of the infant skull, are relatively smooth and untornuous. However\n",
      "[true] to the character of the sutures of the skull which, like those of the infant skull, are relatively smooth and untortuous. In fact\n",
      "\n",
      "\n",
      "\n",
      "[pred] individual from the Southern Hemisphere, to win a Winter Olympic gold medal and was also part of the short track relay team that won Australia'\n",
      "[true] individual from the Southern Hemisphere, to win a Winter Olympic gold medal and was also part of the short track relay team that won Australia'\n",
      "\n",
      "\n",
      "\n",
      "[pred] the same rights as straight people, while 15% disagreed. Additionally, 13% agreed that they should be protected from workplace discrimination. 69% of H\n",
      "[true] the same rights as straight people, while 15% disagreed. Additionally, 69% agreed that they should be protected from workplace discrimination. 13% of H\n",
      "{'eval_nq_loss': 0.6404249668121338, 'eval_nq_pred_num_tokens': 31.0, 'eval_nq_true_num_tokens': 32.0, 'eval_nq_token_set_precision': 0.9315218950062975, 'eval_nq_token_set_recall': 0.9369840357294306, 'eval_nq_token_set_f1': 0.9339098968192999, 'eval_nq_n_ngrams_match_1': 22.668, 'eval_nq_n_ngrams_match_2': 19.278, 'eval_nq_n_ngrams_match_3': 17.024, 'eval_nq_num_true_words': 24.368, 'eval_nq_num_pred_words': 24.402, 'eval_nq_bleu_score': 80.37247640138087, 'eval_nq_meteor_score': 0.919825422067612, 'eval_nq_rouge_score': 0.933674529306423, 'eval_nq_exact_match': 0.488, 'eval_nq_emb_cos_sim': 0.9877819418907166, 'eval_nq_runtime': 28.7159, 'eval_nq_samples_per_second': 17.412, 'eval_nq_steps_per_second': 0.139, 'noise_level': 0}\n"
     ]
    },
    {
     "name": "stderr",
     "output_type": "stream",
     "text": [
      "                                                                                                                                                              \r"
     ]
    },
    {
     "name": "stdout",
     "output_type": "stream",
     "text": [
      "[pred] to the character of the sutures of the skull, which, like those of the infant skull, are relatively smooth and untortuous. fact\n",
      "[true] to the character of the sutures of the skull which, like those of the infant skull, are relatively smooth and untortuous. In fact\n",
      "\n",
      "\n",
      "\n",
      "[pred] individual from the Southern Hemisphere, to win a Winter Olympic gold medal and was also part of the short track relay team which won Australia'\n",
      "[true] individual from the Southern Hemisphere, to win a Winter Olympic gold medal and was also part of the short track relay team that won Australia'\n",
      "\n",
      "\n",
      "\n",
      "[pred] the same rights as straight people, while 15% disagreed. Additionally, 69% agreed that they should be protected from workplace discrimination. 13% of H\n",
      "[true] the same rights as straight people, while 15% disagreed. Additionally, 69% agreed that they should be protected from workplace discrimination. 13% of H\n",
      "{'eval_nq_loss': 0.7306284308433533, 'eval_nq_pred_num_tokens': 31.0, 'eval_nq_true_num_tokens': 32.0, 'eval_nq_token_set_precision': 0.8934921524285415, 'eval_nq_token_set_recall': 0.8972154634459731, 'eval_nq_token_set_f1': 0.894805263921402, 'eval_nq_n_ngrams_match_1': 21.642, 'eval_nq_n_ngrams_match_2': 17.562, 'eval_nq_n_ngrams_match_3': 14.984, 'eval_nq_num_true_words': 24.368, 'eval_nq_num_pred_words': 24.408, 'eval_nq_bleu_score': 72.34699237862377, 'eval_nq_meteor_score': 0.8761256063108167, 'eval_nq_rouge_score': 0.8990084645061449, 'eval_nq_exact_match': 0.314, 'eval_nq_emb_cos_sim': 0.9826547503471375, 'eval_nq_runtime': 28.3482, 'eval_nq_samples_per_second': 17.638, 'eval_nq_steps_per_second': 0.141, 'noise_level': 0.001}\n"
     ]
    },
    {
     "name": "stderr",
     "output_type": "stream",
     "text": [
      "                                                                                                                                                              \r"
     ]
    },
    {
     "name": "stdout",
     "output_type": "stream",
     "text": [
      "[pred] to those of the skeletons of a child, somewhat smooth, teel-like skull. Nevertheless, the following \n",
      "[true] to the character of the sutures of the skull which, like those of the infant skull, are relatively smooth and untortuous. In fact\n",
      "\n",
      "\n",
      "\n",
      "[pred] Winter Olympics as part of Team Winter Olympics to win the short track gold medal; this meant that Windisch was a Southern Australian (Australian) recipient\n",
      "[true] individual from the Southern Hemisphere, to win a Winter Olympic gold medal and was also part of the short track relay team that won Australia'\n",
      "\n",
      "\n",
      "\n",
      "[pred] the same rights as straight people, while 85% agreed that workers should be protected and excluded. On May 18, a party voted to partially close gay\n",
      "[true] the same rights as straight people, while 15% disagreed. Additionally, 69% agreed that they should be protected from workplace discrimination. 13% of H\n",
      "{'eval_nq_loss': 2.759197235107422, 'eval_nq_pred_num_tokens': 31.0, 'eval_nq_true_num_tokens': 32.0, 'eval_nq_token_set_precision': 0.4244050282616596, 'eval_nq_token_set_recall': 0.4439910610647704, 'eval_nq_token_set_f1': 0.43114505322693575, 'eval_nq_n_ngrams_match_1': 10.244, 'eval_nq_n_ngrams_match_2': 3.268, 'eval_nq_n_ngrams_match_3': 1.372, 'eval_nq_num_true_words': 24.368, 'eval_nq_num_pred_words': 23.85, 'eval_nq_bleu_score': 10.334443478563667, 'eval_nq_meteor_score': 0.33395450816219735, 'eval_nq_rouge_score': 0.43081067148322316, 'eval_nq_exact_match': 0.0, 'eval_nq_emb_cos_sim': 0.7443846464157104, 'eval_nq_runtime': 30.1635, 'eval_nq_samples_per_second': 16.576, 'eval_nq_steps_per_second': 0.133, 'noise_level': 0.01}\n"
     ]
    },
    {
     "name": "stderr",
     "output_type": "stream",
     "text": [
      "                                                                                                                                                              \r"
     ]
    },
    {
     "name": "stdout",
     "output_type": "stream",
     "text": [
      "[pred] Little bump on my neck \"My little bump on my neck\"—born. Other than \"My little bump on my neck\", S-born, \n",
      "[true] to the character of the sutures of the skull which, like those of the infant skull, are relatively smooth and untortuous. In fact\n",
      "\n",
      "\n",
      "\n",
      "[pred] ---Young to watch television ---Young to watch television, aka ---Young to watch television, aka ---and \n",
      "[true] individual from the Southern Hemisphere, to win a Winter Olympic gold medal and was also part of the short track relay team that won Australia'\n",
      "\n",
      "\n",
      "\n",
      "[pred] time to write about something I'm about to do. As many readers are excluded from answering their questions, they borrowed space for assignment and what their \n",
      "[true] the same rights as straight people, while 15% disagreed. Additionally, 69% agreed that they should be protected from workplace discrimination. 13% of H\n",
      "{'eval_nq_loss': 9.409228324890137, 'eval_nq_pred_num_tokens': 31.0, 'eval_nq_true_num_tokens': 32.0, 'eval_nq_token_set_precision': 0.09773832763023034, 'eval_nq_token_set_recall': 0.16128203947822314, 'eval_nq_token_set_f1': 0.11754556417585445, 'eval_nq_n_ngrams_match_1': 2.336, 'eval_nq_n_ngrams_match_2': 0.086, 'eval_nq_n_ngrams_match_3': 0.006, 'eval_nq_num_true_words': 24.368, 'eval_nq_num_pred_words': 22.452, 'eval_nq_bleu_score': 0.1476188878935495, 'eval_nq_meteor_score': 0.05640879171154506, 'eval_nq_rouge_score': 0.06955452754629532, 'eval_nq_exact_match': 0.0, 'eval_nq_emb_cos_sim': 0.017202192917466164, 'eval_nq_runtime': 28.738, 'eval_nq_samples_per_second': 17.399, 'eval_nq_steps_per_second': 0.139, 'noise_level': 0.1}\n"
     ]
    },
    {
     "name": "stderr",
     "output_type": "stream",
     "text": [
      "                                                                                                                                                              \r"
     ]
    },
    {
     "name": "stdout",
     "output_type": "stream",
     "text": [
      "[pred] There to make there make no other possible make of there. There to make make make make make hear make \"There will be Derek Derek\" initial setup Ceci\n",
      "[true] to the character of the sutures of the skull which, like those of the infant skull, are relatively smooth and untortuous. In fact\n",
      "\n",
      "\n",
      "\n",
      "[pred] There is a local no longer existing presence in the \"old\" Yelène Lucas. To Hos titlu, Yel titlu being first to make\n",
      "[true] individual from the Southern Hemisphere, to win a Winter Olympic gold medal and was also part of the short track relay team that won Australia'\n",
      "\n",
      "\n",
      "\n",
      "[pred] Propellant firsts local under Ev for its \"national to\" a. But in actual Ev for its formation, first conform conform conform\n",
      "[true] the same rights as straight people, while 15% disagreed. Additionally, 69% agreed that they should be protected from workplace discrimination. 13% of H\n",
      "{'eval_nq_loss': 9.174431800842285, 'eval_nq_pred_num_tokens': 31.0, 'eval_nq_true_num_tokens': 32.0, 'eval_nq_token_set_precision': 0.11769778449979508, 'eval_nq_token_set_recall': 0.1310796329937246, 'eval_nq_token_set_f1': 0.12142436931466391, 'eval_nq_n_ngrams_match_1': 2.688, 'eval_nq_n_ngrams_match_2': 0.082, 'eval_nq_n_ngrams_match_3': 0.0, 'eval_nq_num_true_words': 24.368, 'eval_nq_num_pred_words': 24.456, 'eval_nq_bleu_score': 0.07969173754417926, 'eval_nq_meteor_score': 0.06570256470401964, 'eval_nq_rouge_score': 0.0697422119709667, 'eval_nq_exact_match': 0.0, 'eval_nq_emb_cos_sim': -0.0022504061926156282, 'eval_nq_runtime': 29.2516, 'eval_nq_samples_per_second': 17.093, 'eval_nq_steps_per_second': 0.137, 'noise_level': 1}\n"
     ]
    }
   ],
   "source": [
    "all_retrieval_metrics = []\n",
    "\n",
    "for noise_level in [0, 1e-3, 1e-2, 1e-1, 1]:\n",
    "    corr_trainer.inversion_trainer.model.noise_level = noise_level\n",
    "    corr_trainer.return_best_hypothesis = False\n",
    "    corr_trainer.args.per_device_eval_batch_size = 128\n",
    "    corr_trainer.gen_kwargs = {\n",
    "        \"early_stopping\": False,\n",
    "        \"num_beams\": 1,\n",
    "        \"do_sample\": False,\n",
    "        \"no_repeat_ngram_size\": 0,\n",
    "    }\n",
    "    corr_trainer.num_gen_recursive_steps = 10\n",
    "    metrics = corr_trainer.evaluate(\n",
    "        eval_dataset=corr_trainer.eval_dataset[\"nq\"].select(range(500)),\n",
    "        metric_key_prefix=\"eval_nq\",\n",
    "    )\n",
    "    metrics[\"noise_level\"] = noise_level\n",
    "    all_retrieval_metrics.append(metrics)\n",
    "    print(metrics)\n"
   ]
  },
  {
   "cell_type": "code",
   "execution_count": 48,
   "id": "a20df240-5f48-476b-9a13-bfdcb44da7f6",
   "metadata": {},
   "outputs": [
    {
     "name": "stdout",
     "output_type": "stream",
     "text": [
      "loaded 80 results\n"
     ]
    }
   ],
   "source": [
    "import pandas as pd\n",
    "import glob\n",
    "import json\n",
    "\n",
    "def load_results_from_folder(name: str) -> pd.DataFrame:\n",
    "    filenames = glob.glob(os.path.join(name, \"*__32.json\"))\n",
    "    data = []\n",
    "    for f in filenames:\n",
    "        _, model, dataset, noise_level, __ = os.path.basename(f).split(\"__\")\n",
    "        noise_level = float(noise_level)\n",
    "        metrics = json.load(open(f, 'r'))\n",
    "        d = {}\n",
    "        for k, _d in metrics.items():\n",
    "            d.update(_d)\n",
    "        d.update({\n",
    "            \"model\": model,\n",
    "            \"dataset\": dataset,\n",
    "            \"noise_level\": noise_level,\n",
    "        })\n",
    "        data.append(d)\n",
    "    print(f\"loaded {len(data)} results\")\n",
    "    return pd.DataFrame(data)\n",
    "\n",
    "defense_results = load_results_from_folder(\"/home/jxm3/research/retrieval/inversion/results_defense\")"
   ]
  },
  {
   "cell_type": "code",
   "execution_count": 49,
   "id": "2e2a4d3a-8705-4d79-b090-7b179f1a9b1c",
   "metadata": {},
   "outputs": [
    {
     "data": {
      "text/html": [
       "<div>\n",
       "<style scoped>\n",
       "    .dataframe tbody tr th:only-of-type {\n",
       "        vertical-align: middle;\n",
       "    }\n",
       "\n",
       "    .dataframe tbody tr th {\n",
       "        vertical-align: top;\n",
       "    }\n",
       "\n",
       "    .dataframe thead th {\n",
       "        text-align: right;\n",
       "    }\n",
       "</style>\n",
       "<table border=\"1\" class=\"dataframe\">\n",
       "  <thead>\n",
       "    <tr style=\"text-align: right;\">\n",
       "      <th></th>\n",
       "      <th>NDCG@1</th>\n",
       "      <th>NDCG@3</th>\n",
       "      <th>NDCG@5</th>\n",
       "      <th>NDCG@10</th>\n",
       "      <th>NDCG@100</th>\n",
       "      <th>NDCG@1000</th>\n",
       "      <th>MAP@1</th>\n",
       "      <th>MAP@3</th>\n",
       "      <th>MAP@5</th>\n",
       "      <th>MAP@10</th>\n",
       "      <th>...</th>\n",
       "      <th>Recall@1000</th>\n",
       "      <th>P@1</th>\n",
       "      <th>P@3</th>\n",
       "      <th>P@5</th>\n",
       "      <th>P@10</th>\n",
       "      <th>P@100</th>\n",
       "      <th>P@1000</th>\n",
       "      <th>model</th>\n",
       "      <th>dataset</th>\n",
       "      <th>noise_level</th>\n",
       "    </tr>\n",
       "  </thead>\n",
       "  <tbody>\n",
       "    <tr>\n",
       "      <th>0</th>\n",
       "      <td>0.17333</td>\n",
       "      <td>0.21356</td>\n",
       "      <td>0.23174</td>\n",
       "      <td>0.24720</td>\n",
       "      <td>0.29752</td>\n",
       "      <td>0.32588</td>\n",
       "      <td>0.15639</td>\n",
       "      <td>0.19635</td>\n",
       "      <td>0.20866</td>\n",
       "      <td>0.21543</td>\n",
       "      <td>...</td>\n",
       "      <td>0.80156</td>\n",
       "      <td>0.17333</td>\n",
       "      <td>0.09222</td>\n",
       "      <td>0.06800</td>\n",
       "      <td>0.03967</td>\n",
       "      <td>0.00670</td>\n",
       "      <td>0.00092</td>\n",
       "      <td>sentence_transformers_gtr_t5_base</td>\n",
       "      <td>scifact</td>\n",
       "      <td>0.000</td>\n",
       "    </tr>\n",
       "    <tr>\n",
       "      <th>1</th>\n",
       "      <td>0.15718</td>\n",
       "      <td>0.24788</td>\n",
       "      <td>0.28228</td>\n",
       "      <td>0.32432</td>\n",
       "      <td>0.38179</td>\n",
       "      <td>0.39935</td>\n",
       "      <td>0.15718</td>\n",
       "      <td>0.22499</td>\n",
       "      <td>0.24398</td>\n",
       "      <td>0.26143</td>\n",
       "      <td>...</td>\n",
       "      <td>0.94666</td>\n",
       "      <td>0.15718</td>\n",
       "      <td>0.10479</td>\n",
       "      <td>0.07966</td>\n",
       "      <td>0.05277</td>\n",
       "      <td>0.00804</td>\n",
       "      <td>0.00095</td>\n",
       "      <td>sentence_transformers_gtr_t5_base</td>\n",
       "      <td>arguana</td>\n",
       "      <td>0.010</td>\n",
       "    </tr>\n",
       "    <tr>\n",
       "      <th>2</th>\n",
       "      <td>0.16074</td>\n",
       "      <td>0.24836</td>\n",
       "      <td>0.28597</td>\n",
       "      <td>0.32873</td>\n",
       "      <td>0.38643</td>\n",
       "      <td>0.40368</td>\n",
       "      <td>0.16074</td>\n",
       "      <td>0.22570</td>\n",
       "      <td>0.24647</td>\n",
       "      <td>0.26437</td>\n",
       "      <td>...</td>\n",
       "      <td>0.95235</td>\n",
       "      <td>0.16074</td>\n",
       "      <td>0.10479</td>\n",
       "      <td>0.08122</td>\n",
       "      <td>0.05370</td>\n",
       "      <td>0.00812</td>\n",
       "      <td>0.00095</td>\n",
       "      <td>sentence_transformers_gtr_t5_base</td>\n",
       "      <td>arguana</td>\n",
       "      <td>0.001</td>\n",
       "    </tr>\n",
       "    <tr>\n",
       "      <th>3</th>\n",
       "      <td>0.15647</td>\n",
       "      <td>0.24856</td>\n",
       "      <td>0.28448</td>\n",
       "      <td>0.32781</td>\n",
       "      <td>0.38476</td>\n",
       "      <td>0.40212</td>\n",
       "      <td>0.15647</td>\n",
       "      <td>0.22475</td>\n",
       "      <td>0.24445</td>\n",
       "      <td>0.26251</td>\n",
       "      <td>...</td>\n",
       "      <td>0.95235</td>\n",
       "      <td>0.15647</td>\n",
       "      <td>0.10597</td>\n",
       "      <td>0.08122</td>\n",
       "      <td>0.05391</td>\n",
       "      <td>0.00811</td>\n",
       "      <td>0.00095</td>\n",
       "      <td>sentence_transformers_gtr_t5_base</td>\n",
       "      <td>arguana</td>\n",
       "      <td>0.000</td>\n",
       "    </tr>\n",
       "    <tr>\n",
       "      <th>4</th>\n",
       "      <td>0.00000</td>\n",
       "      <td>0.00000</td>\n",
       "      <td>0.00031</td>\n",
       "      <td>0.00054</td>\n",
       "      <td>0.00211</td>\n",
       "      <td>0.01363</td>\n",
       "      <td>0.00000</td>\n",
       "      <td>0.00000</td>\n",
       "      <td>0.00018</td>\n",
       "      <td>0.00028</td>\n",
       "      <td>...</td>\n",
       "      <td>0.11238</td>\n",
       "      <td>0.00000</td>\n",
       "      <td>0.00000</td>\n",
       "      <td>0.00014</td>\n",
       "      <td>0.00014</td>\n",
       "      <td>0.00010</td>\n",
       "      <td>0.00011</td>\n",
       "      <td>sentence_transformers_gtr_t5_base</td>\n",
       "      <td>arguana</td>\n",
       "      <td>1.000</td>\n",
       "    </tr>\n",
       "    <tr>\n",
       "      <th>...</th>\n",
       "      <td>...</td>\n",
       "      <td>...</td>\n",
       "      <td>...</td>\n",
       "      <td>...</td>\n",
       "      <td>...</td>\n",
       "      <td>...</td>\n",
       "      <td>...</td>\n",
       "      <td>...</td>\n",
       "      <td>...</td>\n",
       "      <td>...</td>\n",
       "      <td>...</td>\n",
       "      <td>...</td>\n",
       "      <td>...</td>\n",
       "      <td>...</td>\n",
       "      <td>...</td>\n",
       "      <td>...</td>\n",
       "      <td>...</td>\n",
       "      <td>...</td>\n",
       "      <td>...</td>\n",
       "      <td>...</td>\n",
       "      <td>...</td>\n",
       "    </tr>\n",
       "    <tr>\n",
       "      <th>75</th>\n",
       "      <td>0.14200</td>\n",
       "      <td>0.12656</td>\n",
       "      <td>0.11917</td>\n",
       "      <td>0.11486</td>\n",
       "      <td>0.14232</td>\n",
       "      <td>0.16242</td>\n",
       "      <td>0.03629</td>\n",
       "      <td>0.05631</td>\n",
       "      <td>0.06278</td>\n",
       "      <td>0.07055</td>\n",
       "      <td>...</td>\n",
       "      <td>0.32563</td>\n",
       "      <td>0.14200</td>\n",
       "      <td>0.10333</td>\n",
       "      <td>0.08320</td>\n",
       "      <td>0.05620</td>\n",
       "      <td>0.01150</td>\n",
       "      <td>0.00169</td>\n",
       "      <td>sentence_transformers_gtr_t5_base</td>\n",
       "      <td>bioasq</td>\n",
       "      <td>0.000</td>\n",
       "    </tr>\n",
       "    <tr>\n",
       "      <th>76</th>\n",
       "      <td>0.14200</td>\n",
       "      <td>0.12266</td>\n",
       "      <td>0.11410</td>\n",
       "      <td>0.11328</td>\n",
       "      <td>0.13907</td>\n",
       "      <td>0.15859</td>\n",
       "      <td>0.03830</td>\n",
       "      <td>0.05489</td>\n",
       "      <td>0.06147</td>\n",
       "      <td>0.06925</td>\n",
       "      <td>...</td>\n",
       "      <td>0.30905</td>\n",
       "      <td>0.14200</td>\n",
       "      <td>0.09867</td>\n",
       "      <td>0.07720</td>\n",
       "      <td>0.05560</td>\n",
       "      <td>0.01112</td>\n",
       "      <td>0.00165</td>\n",
       "      <td>sentence_transformers_gtr_t5_base</td>\n",
       "      <td>bioasq</td>\n",
       "      <td>0.010</td>\n",
       "    </tr>\n",
       "    <tr>\n",
       "      <th>77</th>\n",
       "      <td>0.00000</td>\n",
       "      <td>0.00000</td>\n",
       "      <td>0.00000</td>\n",
       "      <td>0.00000</td>\n",
       "      <td>0.00000</td>\n",
       "      <td>0.00000</td>\n",
       "      <td>0.00000</td>\n",
       "      <td>0.00000</td>\n",
       "      <td>0.00000</td>\n",
       "      <td>0.00000</td>\n",
       "      <td>...</td>\n",
       "      <td>0.00000</td>\n",
       "      <td>0.00000</td>\n",
       "      <td>0.00000</td>\n",
       "      <td>0.00000</td>\n",
       "      <td>0.00000</td>\n",
       "      <td>0.00000</td>\n",
       "      <td>0.00000</td>\n",
       "      <td>sentence_transformers_gtr_t5_base</td>\n",
       "      <td>bioasq</td>\n",
       "      <td>1.000</td>\n",
       "    </tr>\n",
       "    <tr>\n",
       "      <th>78</th>\n",
       "      <td>0.14200</td>\n",
       "      <td>0.12656</td>\n",
       "      <td>0.11946</td>\n",
       "      <td>0.11508</td>\n",
       "      <td>0.14226</td>\n",
       "      <td>0.16229</td>\n",
       "      <td>0.03629</td>\n",
       "      <td>0.05634</td>\n",
       "      <td>0.06287</td>\n",
       "      <td>0.07069</td>\n",
       "      <td>...</td>\n",
       "      <td>0.32471</td>\n",
       "      <td>0.14200</td>\n",
       "      <td>0.10333</td>\n",
       "      <td>0.08360</td>\n",
       "      <td>0.05640</td>\n",
       "      <td>0.01148</td>\n",
       "      <td>0.00168</td>\n",
       "      <td>sentence_transformers_gtr_t5_base</td>\n",
       "      <td>bioasq</td>\n",
       "      <td>0.001</td>\n",
       "    </tr>\n",
       "    <tr>\n",
       "      <th>79</th>\n",
       "      <td>0.00000</td>\n",
       "      <td>0.00000</td>\n",
       "      <td>0.00000</td>\n",
       "      <td>0.00000</td>\n",
       "      <td>0.00017</td>\n",
       "      <td>0.00028</td>\n",
       "      <td>0.00000</td>\n",
       "      <td>0.00000</td>\n",
       "      <td>0.00000</td>\n",
       "      <td>0.00000</td>\n",
       "      <td>...</td>\n",
       "      <td>0.00133</td>\n",
       "      <td>0.00000</td>\n",
       "      <td>0.00000</td>\n",
       "      <td>0.00000</td>\n",
       "      <td>0.00000</td>\n",
       "      <td>0.00002</td>\n",
       "      <td>0.00000</td>\n",
       "      <td>sentence_transformers_gtr_t5_base</td>\n",
       "      <td>bioasq</td>\n",
       "      <td>0.100</td>\n",
       "    </tr>\n",
       "  </tbody>\n",
       "</table>\n",
       "<p>80 rows × 27 columns</p>\n",
       "</div>"
      ],
      "text/plain": [
       "     NDCG@1   NDCG@3   NDCG@5  NDCG@10  NDCG@100  NDCG@1000    MAP@1    MAP@3   \n",
       "0   0.17333  0.21356  0.23174  0.24720   0.29752    0.32588  0.15639  0.19635  \\\n",
       "1   0.15718  0.24788  0.28228  0.32432   0.38179    0.39935  0.15718  0.22499   \n",
       "2   0.16074  0.24836  0.28597  0.32873   0.38643    0.40368  0.16074  0.22570   \n",
       "3   0.15647  0.24856  0.28448  0.32781   0.38476    0.40212  0.15647  0.22475   \n",
       "4   0.00000  0.00000  0.00031  0.00054   0.00211    0.01363  0.00000  0.00000   \n",
       "..      ...      ...      ...      ...       ...        ...      ...      ...   \n",
       "75  0.14200  0.12656  0.11917  0.11486   0.14232    0.16242  0.03629  0.05631   \n",
       "76  0.14200  0.12266  0.11410  0.11328   0.13907    0.15859  0.03830  0.05489   \n",
       "77  0.00000  0.00000  0.00000  0.00000   0.00000    0.00000  0.00000  0.00000   \n",
       "78  0.14200  0.12656  0.11946  0.11508   0.14226    0.16229  0.03629  0.05634   \n",
       "79  0.00000  0.00000  0.00000  0.00000   0.00017    0.00028  0.00000  0.00000   \n",
       "\n",
       "      MAP@5   MAP@10  ...  Recall@1000      P@1      P@3      P@5     P@10   \n",
       "0   0.20866  0.21543  ...      0.80156  0.17333  0.09222  0.06800  0.03967  \\\n",
       "1   0.24398  0.26143  ...      0.94666  0.15718  0.10479  0.07966  0.05277   \n",
       "2   0.24647  0.26437  ...      0.95235  0.16074  0.10479  0.08122  0.05370   \n",
       "3   0.24445  0.26251  ...      0.95235  0.15647  0.10597  0.08122  0.05391   \n",
       "4   0.00018  0.00028  ...      0.11238  0.00000  0.00000  0.00014  0.00014   \n",
       "..      ...      ...  ...          ...      ...      ...      ...      ...   \n",
       "75  0.06278  0.07055  ...      0.32563  0.14200  0.10333  0.08320  0.05620   \n",
       "76  0.06147  0.06925  ...      0.30905  0.14200  0.09867  0.07720  0.05560   \n",
       "77  0.00000  0.00000  ...      0.00000  0.00000  0.00000  0.00000  0.00000   \n",
       "78  0.06287  0.07069  ...      0.32471  0.14200  0.10333  0.08360  0.05640   \n",
       "79  0.00000  0.00000  ...      0.00133  0.00000  0.00000  0.00000  0.00000   \n",
       "\n",
       "      P@100   P@1000                              model  dataset  noise_level  \n",
       "0   0.00670  0.00092  sentence_transformers_gtr_t5_base  scifact        0.000  \n",
       "1   0.00804  0.00095  sentence_transformers_gtr_t5_base  arguana        0.010  \n",
       "2   0.00812  0.00095  sentence_transformers_gtr_t5_base  arguana        0.001  \n",
       "3   0.00811  0.00095  sentence_transformers_gtr_t5_base  arguana        0.000  \n",
       "4   0.00010  0.00011  sentence_transformers_gtr_t5_base  arguana        1.000  \n",
       "..      ...      ...                                ...      ...          ...  \n",
       "75  0.01150  0.00169  sentence_transformers_gtr_t5_base   bioasq        0.000  \n",
       "76  0.01112  0.00165  sentence_transformers_gtr_t5_base   bioasq        0.010  \n",
       "77  0.00000  0.00000  sentence_transformers_gtr_t5_base   bioasq        1.000  \n",
       "78  0.01148  0.00168  sentence_transformers_gtr_t5_base   bioasq        0.001  \n",
       "79  0.00002  0.00000  sentence_transformers_gtr_t5_base   bioasq        0.100  \n",
       "\n",
       "[80 rows x 27 columns]"
      ]
     },
     "execution_count": 49,
     "metadata": {},
     "output_type": "execute_result"
    }
   ],
   "source": [
    "defense_results"
   ]
  },
  {
   "cell_type": "code",
   "execution_count": 128,
   "id": "f6712f0c-2295-4c1a-8fe9-9fe7fccb9fa3",
   "metadata": {},
   "outputs": [
    {
     "data": {
      "text/plain": [
       "19"
      ]
     },
     "execution_count": 128,
     "metadata": {},
     "output_type": "execute_result"
    }
   ],
   "source": [
    "len([\n",
    "    ####### public datasets #######\n",
    "    \"arguana\",\n",
    "    \"climate-fever\",\n",
    "    \"cqadupstack\",\n",
    "    \"dbpedia-entity\",\n",
    "    \"fever\",\n",
    "    \"fiqa\",\n",
    "    \"hotpotqa\",\n",
    "    \"msmarco\",\n",
    "    \"nfcorpus\",\n",
    "    \"nq\",\n",
    "    \"quora\",\n",
    "    \"scidocs\",\n",
    "    \"scifact\",\n",
    "    \"trec-covid\",\n",
    "    \"webis-touche2020\",\n",
    "    ####### private datasets #######\n",
    "    \"signal1m\",\n",
    "    \"trec-news\",\n",
    "    \"robust04\",\n",
    "    \"bioasq\",\n",
    "])"
   ]
  },
  {
   "cell_type": "code",
   "execution_count": 126,
   "id": "ca9db33f-6cbe-4917-baf2-ede67081ab90",
   "metadata": {},
   "outputs": [
    {
     "data": {
      "text/plain": [
       "dataset\n",
       "scifact             5\n",
       "arguana             5\n",
       "climate-fever       5\n",
       "dbpedia-entity      5\n",
       "fiqa                5\n",
       "nfcorpus            5\n",
       "nq                  5\n",
       "quora               5\n",
       "msmarco             5\n",
       "scidocs             5\n",
       "trec-covid          5\n",
       "webis-touche2020    5\n",
       "trec-news           5\n",
       "signal1m            5\n",
       "robust04            5\n",
       "bioasq              5\n",
       "Name: count, dtype: int64"
      ]
     },
     "execution_count": 126,
     "metadata": {},
     "output_type": "execute_result"
    }
   ],
   "source": [
    "defense_results[\"dataset\"].value_counts()"
   ]
  },
  {
   "cell_type": "code",
   "execution_count": 137,
   "id": "8a6bcd59-85d1-40cd-b47f-85ff5d3669df",
   "metadata": {},
   "outputs": [
    {
     "name": "stdout",
     "output_type": "stream",
     "text": [
      "\\begin{tabular}{lrrrrrrrrrrrrrrrr}\n",
      "\\toprule\n",
      " & \\multicolumn{16}{r}{NDCG@10} \\\\\n",
      "dataset & arguana & bioasq & climate-fever & dbpedia-entity & fiqa & msmarco & nfcorpus & nq & quora & robust04 & scidocs & scifact & signal1m & trec-covid & trec-news & webis-touche2020 \\\\\n",
      "noise_level &  &  &  &  &  &  &  &  &  &  &  &  &  &  &  &  \\\\\n",
      "\\midrule\n",
      "0.000000 & 0.328 & 0.115 & 0.136 & 0.306 & 0.208 & 0.647 & 0.239 & 0.306 & 0.879 & 0.205 & 0.095 & 0.247 & 0.261 & 0.376 & 0.245 & 0.233 \\\\\n",
      "0.001000 & 0.329 & 0.115 & 0.135 & 0.307 & 0.208 & 0.647 & 0.239 & 0.306 & 0.879 & 0.204 & 0.096 & 0.246 & 0.261 & 0.381 & 0.246 & 0.233 \\\\\n",
      "0.010000 & 0.324 & 0.113 & 0.132 & 0.301 & 0.205 & 0.633 & 0.234 & 0.298 & 0.875 & 0.192 & 0.092 & 0.235 & 0.259 & 0.378 & 0.234 & 0.225 \\\\\n",
      "0.100000 & 0.005 & 0.000 & 0.000 & 0.000 & 0.000 & 0.000 & 0.017 & 0.000 & 0.003 & 0.000 & 0.002 & 0.006 & 0.001 & 0.005 & 0.001 & 0.000 \\\\\n",
      "1.000000 & 0.001 & 0.000 & 0.000 & 0.000 & 0.000 & 0.000 & 0.008 & 0.000 & 0.000 & 0.000 & 0.000 & 0.001 & 0.000 & 0.000 & 0.000 & 0.000 \\\\\n",
      "\\bottomrule\n",
      "\\end{tabular}\n",
      "\n"
     ]
    }
   ],
   "source": [
    "print(defense_results[[\"noise_level\", \"dataset\", \"NDCG@10\"]].pivot(index=\"noise_level\", columns=\"dataset\").to_latex(float_format=\"{:.3f}\".format))"
   ]
  },
  {
   "cell_type": "code",
   "execution_count": 55,
   "id": "3d42dfd2-44b9-4111-8f0b-38dcd6aee719",
   "metadata": {},
   "outputs": [
    {
     "data": {
      "text/plain": [
       "noise_level\n",
       "0.000    0.301615\n",
       "0.001    0.301932\n",
       "0.010    0.295611\n",
       "0.100    0.002450\n",
       "1.000    0.000682\n",
       "Name: NDCG@10, dtype: float64"
      ]
     },
     "execution_count": 55,
     "metadata": {},
     "output_type": "execute_result"
    }
   ],
   "source": [
    "agg_defense_results = defense_results.groupby(\"noise_level\")[\"NDCG@10\"].mean()\n",
    "agg_defense_results"
   ]
  },
  {
   "cell_type": "code",
   "execution_count": 56,
   "id": "0650a57e-13bd-44ed-a2f2-4ac8da403cb1",
   "metadata": {},
   "outputs": [],
   "source": [
    "retrieval_results = pd.DataFrame(all_retrieval_metrics)"
   ]
  },
  {
   "cell_type": "code",
   "execution_count": 73,
   "id": "64e14068-ce86-4ff2-a4cf-f82a5294953a",
   "metadata": {},
   "outputs": [
    {
     "data": {
      "text/html": [
       "<div>\n",
       "<style scoped>\n",
       "    .dataframe tbody tr th:only-of-type {\n",
       "        vertical-align: middle;\n",
       "    }\n",
       "\n",
       "    .dataframe tbody tr th {\n",
       "        vertical-align: top;\n",
       "    }\n",
       "\n",
       "    .dataframe thead th {\n",
       "        text-align: right;\n",
       "    }\n",
       "</style>\n",
       "<table border=\"1\" class=\"dataframe\">\n",
       "  <thead>\n",
       "    <tr style=\"text-align: right;\">\n",
       "      <th></th>\n",
       "      <th>noise_level</th>\n",
       "      <th>eval_nq_exact_match</th>\n",
       "    </tr>\n",
       "  </thead>\n",
       "  <tbody>\n",
       "    <tr>\n",
       "      <th>0</th>\n",
       "      <td>0.000</td>\n",
       "      <td>0.488</td>\n",
       "    </tr>\n",
       "    <tr>\n",
       "      <th>1</th>\n",
       "      <td>0.001</td>\n",
       "      <td>0.314</td>\n",
       "    </tr>\n",
       "    <tr>\n",
       "      <th>2</th>\n",
       "      <td>0.010</td>\n",
       "      <td>0.000</td>\n",
       "    </tr>\n",
       "    <tr>\n",
       "      <th>3</th>\n",
       "      <td>0.100</td>\n",
       "      <td>0.000</td>\n",
       "    </tr>\n",
       "    <tr>\n",
       "      <th>4</th>\n",
       "      <td>1.000</td>\n",
       "      <td>0.000</td>\n",
       "    </tr>\n",
       "  </tbody>\n",
       "</table>\n",
       "</div>"
      ],
      "text/plain": [
       "   noise_level  eval_nq_exact_match\n",
       "0        0.000                0.488\n",
       "1        0.001                0.314\n",
       "2        0.010                0.000\n",
       "3        0.100                0.000\n",
       "4        1.000                0.000"
      ]
     },
     "execution_count": 73,
     "metadata": {},
     "output_type": "execute_result"
    }
   ],
   "source": [
    "retrieval_results[[\"noise_level\", \"eval_nq_exact_match\"]]"
   ]
  },
  {
   "cell_type": "code",
   "execution_count": 80,
   "id": "a6abb869-7656-4712-8d80-c7501c1ccc61",
   "metadata": {},
   "outputs": [],
   "source": [
    "full_df = retrieval_results.join(agg_defense_results, on='noise_level')\n",
    "full_df.to_parquet(\"defense_results.parquet\")"
   ]
  },
  {
   "cell_type": "code",
   "execution_count": 142,
   "id": "8426c9b2-ffe8-4225-a14d-ec1db74d02e0",
   "metadata": {},
   "outputs": [
    {
     "name": "stdout",
     "output_type": "stream",
     "text": [
      "\\begin{tabular}{lrrr}\n",
      "\\toprule\n",
      " & noise_level & NDCG@10 & eval_nq_bleu_score \\\\\n",
      "\\midrule\n",
      "0 & 0.0000 & 0.3016 & 80.3725 \\\\\n",
      "1 & 0.0010 & 0.3019 & 72.3470 \\\\\n",
      "2 & 0.0100 & 0.2956 & 10.3344 \\\\\n",
      "3 & 0.1000 & 0.0024 & 0.1476 \\\\\n",
      "4 & 1.0000 & 0.0007 & 0.0797 \\\\\n",
      "\\bottomrule\n",
      "\\end{tabular}\n",
      "\n"
     ]
    }
   ],
   "source": [
    "print(full_df[[\"noise_level\", \"NDCG@10\", \"eval_nq_bleu_score\"]].to_latex(float_format=\"{:.4f}\".format))"
   ]
  },
  {
   "cell_type": "code",
   "execution_count": 120,
   "id": "2c42d426-39dc-4741-9dbf-adcb04f337c7",
   "metadata": {},
   "outputs": [
    {
     "name": "stderr",
     "output_type": "stream",
     "text": [
      "/home/jxm3/.conda/envs/torch/lib/python3.10/site-packages/pandas/core/arraylike.py:396: RuntimeWarning: divide by zero encountered in log10\n",
      "  result = getattr(ufunc, method)(*inputs, **kwargs)\n",
      "/home/jxm3/.conda/envs/torch/lib/python3.10/site-packages/pandas/core/arraylike.py:396: RuntimeWarning: divide by zero encountered in log10\n",
      "  result = getattr(ufunc, method)(*inputs, **kwargs)\n"
     ]
    },
    {
     "data": {
      "image/png": "[encoded data removed]",
      "text/plain": [
       "<Figure size 1000x600 with 2 Axes>"
      ]
     },
     "metadata": {},
     "output_type": "display_data"
    }
   ],
   "source": [
    "# full_df.plot(x='noise_level', y=['NDCG@10', 'eval_nq_bleu_score'])\n",
    "\n",
    "import matplotlib.pyplot as plt\n",
    "import seaborn as sns\n",
    "\n",
    "sns.set(style=\"white\", font_scale=1.8)\n",
    "\n",
    "plt.figure(figsize=(10, 6))\n",
    "plt.xscale('log')\n",
    "\n",
    "ax1 = sns.lineplot(data=full_df, x=\"noise_level\", y=\"NDCG@10\", color=\"g\", linewidth=4, label=\"Retrieval\", legend=False)\n",
    "ax2 = ax1.twinx()\n",
    "ax1.set_ylabel(\"Retrieval (Mean NDCG@10)\")\n",
    "ax1.set_xlabel(\"Noise Level (λ)\")\n",
    "ax2 = sns.lineplot(data=full_df, x=\"noise_level\", y=\"eval_nq_bleu_score\", ax=ax2, linewidth=4, label=\"Reconstruction\", legend=False)\n",
    "ax2.set_ylabel(\"Reconstruction (BLEU)\")\n",
    "ax2.lines[0].set_linestyle(\"--\")\n",
    "\n",
    "\n",
    "ax1.figure.legend(bbox_to_anchor=(.89, .96), framealpha=1.0)\n",
    "plt.tight_layout()\n",
    "plt.savefig(\"defense_tradeoff.pdf\", dpi=300)"
   ]
  },
  {
   "cell_type": "code",
   "execution_count": null,
   "id": "b541b59a-24fa-4037-8391-fbbb3b05a03f",
   "metadata": {},
   "outputs": [],
   "source": []
  }
 ],
 "metadata": {
  "kernelspec": {
   "display_name": "Python 3 (ipykernel)",
   "language": "python",
   "name": "python3"
  },
  "language_info": {
   "codemirror_mode": {
    "name": "ipython",
    "version": 3
   },
   "file_extension": ".py",
   "mimetype": "text/x-python",
   "name": "python",
   "nbconvert_exporter": "python",
   "pygments_lexer": "ipython3",
   "version": "3.10.10"
  }
 },
 "nbformat": 4,
 "nbformat_minor": 5
}
