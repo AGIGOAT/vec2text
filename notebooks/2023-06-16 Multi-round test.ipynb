{
 "cells": [
  {
   "cell_type": "code",
   "execution_count": 1,
   "id": "a1f2fd78-7e1c-4ed8-91d0-90bcd24f5cd5",
   "metadata": {},
   "outputs": [],
   "source": [
    "%load_ext autoreload\n",
    "%autoreload 2\n",
    "\n",
    "import os\n",
    "os.environ[\"WANDB_DISABLED\"] = \"true\"\n",
    "\n",
    "import sys\n",
    "sys.path = [\n",
    "    p for p in sys.path\n",
    "    if p not in ['/home/jxm3/research/prompting/imodelsX', '/home/jxm3/research/prompting/tree-prompt']\n",
    "]\n",
    "sys.path.append('/home/jxm3/research/retrieval/inversion')"
   ]
  },
  {
   "cell_type": "code",
   "execution_count": 2,
   "id": "a09b5ed1-79b9-4b97-80de-a27a6efcf50e",
   "metadata": {},
   "outputs": [
    {
     "name": "stdout",
     "output_type": "stream",
     "text": [
      "loading alias gtr_nq__msl32_beta__correct from /home/jxm3/research/retrieval/inversion/saves/47d9c149a8e827d0609abbeefdfd89ac...\n",
      "> checkpoint: /home/jxm3/research/retrieval/inversion/saves/47d9c149a8e827d0609abbeefdfd89ac/checkpoint-558000\n",
      "set dataset to nq\n",
      "loading alias dpr_nq__msl32_beta from /home/jxm3/research/retrieval/inversion/saves/db66b9c01b644541fedbdcc59c53a285/ebb31d91810c4b62d2b55b5382e8c7ea...\n",
      "Set num workers to 4\n",
      "Overwriting max sequence length from 32 to 32\n",
      "> checkpoint: /home/jxm3/research/retrieval/inversion/saves/db66b9c01b644541fedbdcc59c53a285/ebb31d91810c4b62d2b55b5382e8c7ea/checkpoint-999744\n"
     ]
    },
    {
     "name": "stderr",
     "output_type": "stream",
     "text": [
      "/home/jxm3/.conda/envs/torch/lib/python3.10/site-packages/transformers/models/t5/tokenization_t5_fast.py:155: FutureWarning: This tokenizer was incorrectly instantiated with a model max length of 512 which will be corrected in Transformers v5.\n",
      "For now, this behavior is kept to avoid breaking backwards compatibility when padding/encoding with `truncation is True`.\n",
      "- Be aware that you SHOULD NOT rely on t5-base automatically truncating your input to 512 when padding/encoding.\n",
      "- If you want to encode/pad to sequences longer than 512 you can either instantiate this tokenizer with `model_max_length` or pass `max_length` when encoding/padding.\n",
      "- To avoid this warning, please instantiate this tokenizer with `model_max_length` set to your preferred value.\n",
      "  warnings.warn(\n"
     ]
    },
    {
     "name": "stdout",
     "output_type": "stream",
     "text": [
      "Loading datasets with TOKENIZERS_PARALLELISM = True\n"
     ]
    },
    {
     "name": "stderr",
     "output_type": "stream",
     "text": [
      "[nltk_data] Downloading package wordnet to /home/jxm3/nltk_data...\n",
      "[nltk_data]   Package wordnet is already up-to-date!\n",
      "[nltk_data] Downloading package punkt to /home/jxm3/nltk_data...\n",
      "[nltk_data]   Package punkt is already up-to-date!\n",
      "[nltk_data] Downloading package omw-1.4 to /home/jxm3/nltk_data...\n",
      "[nltk_data]   Package omw-1.4 is already up-to-date!\n"
     ]
    },
    {
     "name": "stdout",
     "output_type": "stream",
     "text": [
      "Renaming keys {'embedding_transform.2.weight', 'embedding_transform.2.bias'} for backward compatibility.\n",
      "================ Begin trainer sanity check ================\n",
      "\tInput to encode -> Twas brillig, and the slithy toves, Did gyre and gimble in the wabe, All mimsy were the borogoves, And the mome raths outgrabe.\n",
      "\tDecoded output shape ->  torch.Size([1, 33])\n",
      "\tDecoded output -> The mlbies wase wyst bograge; And the sliths and toms wy\n",
      "================ End trainer sanity check ================\n",
      "Froze 342572160 params from model type <class 'models.inversion.InversionModel'>\n"
     ]
    },
    {
     "name": "stderr",
     "output_type": "stream",
     "text": [
      "[nltk_data] Downloading package wordnet to /home/jxm3/nltk_data...\n",
      "[nltk_data]   Package wordnet is already up-to-date!\n",
      "[nltk_data] Downloading package punkt to /home/jxm3/nltk_data...\n",
      "[nltk_data]   Package punkt is already up-to-date!\n",
      "[nltk_data] Downloading package omw-1.4 to /home/jxm3/nltk_data...\n",
      "[nltk_data]   Package omw-1.4 is already up-to-date!\n"
     ]
    },
    {
     "name": "stdout",
     "output_type": "stream",
     "text": [
      "Renaming keys {'embedding_transform.2.weight', 'embedding_transform.2.bias'} for backward compatibility.\n",
      "================ Begin trainer sanity check ================\n",
      "\tInput to encode -> Twas brillig, and the slithy toves, Did gyre and gimble in the wabe, All mimsy were the borogoves, And the mome raths outgrabe.\n",
      "\tDecoded output shape ->  torch.Size([1, 33])\n",
      "\tDecoded output -> The slithe and the tobogbes were mly; It wis grabbse tiring\n",
      "================ End trainer sanity check ================\n",
      "\n"
     ]
    }
   ],
   "source": [
    "import aliases\n",
    "\n",
    "# inv_trainer = aliases.load_trainer_from_alias(\"openai_msmarco__msl128__100epoch\")\n",
    "corr_experiment, corr_trainer = aliases.load_experiment_and_trainer_from_alias(\"gtr_nq__msl32_beta__correct\")\n",
    "inv_trainer = corr_trainer.inversion_trainer\n",
    "# corr_trainer.precompute_hypotheses()\n",
    "corr_trainer.model.eval()\n",
    "print()"
   ]
  },
  {
   "cell_type": "code",
   "execution_count": 3,
   "id": "f9e941a2-fedb-4970-9a22-b81e4114f154",
   "metadata": {},
   "outputs": [
    {
     "name": "stdout",
     "output_type": "stream",
     "text": [
      "loading alias gtr_nq__msl32_beta__correct__nofeedback from /home/jxm3/research/retrieval/inversion/saves/f031f2b69c815cca265dd791473de60a...\n",
      "> checkpoint: /home/jxm3/research/retrieval/inversion/saves/f031f2b69c815cca265dd791473de60a/checkpoint-763000\n",
      "loading alias dpr_nq__msl32_beta from /home/jxm3/research/retrieval/inversion/saves/db66b9c01b644541fedbdcc59c53a285/ebb31d91810c4b62d2b55b5382e8c7ea...\n",
      "Set num workers to 4\n",
      "Overwriting max sequence length from 32 to 32\n",
      "> checkpoint: /home/jxm3/research/retrieval/inversion/saves/db66b9c01b644541fedbdcc59c53a285/ebb31d91810c4b62d2b55b5382e8c7ea/checkpoint-999744\n"
     ]
    },
    {
     "name": "stderr",
     "output_type": "stream",
     "text": [
      "/home/jxm3/.conda/envs/torch/lib/python3.10/site-packages/transformers/models/t5/tokenization_t5_fast.py:155: FutureWarning: This tokenizer was incorrectly instantiated with a model max length of 512 which will be corrected in Transformers v5.\n",
      "For now, this behavior is kept to avoid breaking backwards compatibility when padding/encoding with `truncation is True`.\n",
      "- Be aware that you SHOULD NOT rely on t5-base automatically truncating your input to 512 when padding/encoding.\n",
      "- If you want to encode/pad to sequences longer than 512 you can either instantiate this tokenizer with `model_max_length` or pass `max_length` when encoding/padding.\n",
      "- To avoid this warning, please instantiate this tokenizer with `model_max_length` set to your preferred value.\n",
      "  warnings.warn(\n"
     ]
    },
    {
     "name": "stdout",
     "output_type": "stream",
     "text": [
      "Loading datasets with TOKENIZERS_PARALLELISM = True\n"
     ]
    },
    {
     "name": "stderr",
     "output_type": "stream",
     "text": [
      "[nltk_data] Downloading package wordnet to /home/jxm3/nltk_data...\n",
      "[nltk_data]   Package wordnet is already up-to-date!\n",
      "[nltk_data] Downloading package punkt to /home/jxm3/nltk_data...\n",
      "[nltk_data]   Package punkt is already up-to-date!\n",
      "[nltk_data] Downloading package omw-1.4 to /home/jxm3/nltk_data...\n",
      "[nltk_data]   Package omw-1.4 is already up-to-date!\n"
     ]
    },
    {
     "name": "stdout",
     "output_type": "stream",
     "text": [
      "Renaming keys {'embedding_transform.2.weight', 'embedding_transform.2.bias'} for backward compatibility.\n",
      "================ Begin trainer sanity check ================\n",
      "\tInput to encode -> Twas brillig, and the slithy toves, Did gyre and gimble in the wabe, All mimsy were the borogoves, And the mome raths outgrabe.\n",
      "\tDecoded output shape ->  torch.Size([1, 33])\n",
      "\tDecoded output -> The mlbies wase wyst bograge; And the sliths and toms wy\n",
      "================ End trainer sanity check ================\n",
      "Froze 342572160 params from model type <class 'models.inversion.InversionModel'>\n"
     ]
    },
    {
     "name": "stderr",
     "output_type": "stream",
     "text": [
      "[nltk_data] Downloading package wordnet to /home/jxm3/nltk_data...\n",
      "[nltk_data]   Package wordnet is already up-to-date!\n",
      "[nltk_data] Downloading package punkt to /home/jxm3/nltk_data...\n",
      "[nltk_data]   Package punkt is already up-to-date!\n",
      "[nltk_data] Downloading package omw-1.4 to /home/jxm3/nltk_data...\n",
      "[nltk_data]   Package omw-1.4 is already up-to-date!\n"
     ]
    },
    {
     "name": "stdout",
     "output_type": "stream",
     "text": [
      "Renaming keys {'embedding_transform.2.weight', 'embedding_transform.2.bias'} for backward compatibility.\n",
      "================ Begin trainer sanity check ================\n",
      "\tInput to encode -> Twas brillig, and the slithy toves, Did gyre and gimble in the wabe, All mimsy were the borogoves, And the mome raths outgrabe.\n",
      "\tDecoded output shape ->  torch.Size([1, 33])\n",
      "\tDecoded output -> The mlbies was slithre; And toe all bograge; And the wambes ye \n",
      "================ End trainer sanity check ================\n",
      "\n"
     ]
    }
   ],
   "source": [
    "import aliases\n",
    "\n",
    "# inv_trainer = aliases.load_trainer_from_alias(\"openai_msmarco__msl128__100epoch\")\n",
    "corr_experiment__no_feedback, corr_trainer__no_feedback = aliases.load_experiment_and_trainer_from_alias(\"gtr_nq__msl32_beta__correct__nofeedback\")\n",
    "# corr_trainer.precompute_hypotheses()\n",
    "corr_trainer.model.eval()\n",
    "print()"
   ]
  },
  {
   "cell_type": "code",
   "execution_count": 11,
   "id": "c443d327-e3f5-4356-b1ac-c82b9e5ad974",
   "metadata": {},
   "outputs": [
    {
     "name": "stderr",
     "output_type": "stream",
     "text": [
      "  0%|                                                                                                                                   | 0/7 [00:00<?, ?it/s]\n",
      "generating from val:   0%|                                                                                                              | 0/4 [00:00<?, ?it/s]\u001b[A\n",
      "generating from val:  25%|█████████████████████████▌                                                                            | 1/4 [00:01<00:04,  1.50s/it]\u001b[A\n",
      "generating from val:  50%|███████████████████████████████████████████████████                                                   | 2/4 [00:02<00:02,  1.28s/it]\u001b[A\n",
      "generating from val:  75%|████████████████████████████████████████████████████████████████████████████▌                         | 3/4 [00:03<00:01,  1.20s/it]\u001b[A\n",
      "generating from val: 100%|██████████████████████████████████████████████████████████████████████████████████████████████████████| 4/4 [00:04<00:00,  1.13s/it]\u001b[A\n",
      "                                                                                                                                                              \u001b[A"
     ]
    },
    {
     "name": "stdout",
     "output_type": "stream",
     "text": [
      "[pred] to the character of the skull, which are relatively smooth and untornatuous of the sutures of infant skulls. In fact, one\n",
      "[true] to the character of the sutures of the skull which, like those of the infant skull, are relatively smooth and untortuous. In fact\n",
      "\n",
      "\n",
      "\n",
      "[pred] individual from the Southern Hemisphere to win a Winter Olympic gold medal, and was also part of the short track relay team that won Australia'\n",
      "[true] individual from the Southern Hemisphere, to win a Winter Olympic gold medal and was also part of the short track relay team that won Australia'\n",
      "\n",
      "\n",
      "\n",
      "[pred] the same rights as straight people, while 15% disagreed: they should be protected from discrimination and harassment. With 33% of those working people, other\n",
      "[true] the same rights as straight people, while 15% disagreed. Additionally, 69% agreed that they should be protected from workplace discrimination. 13% of H\n"
     ]
    },
    {
     "name": "stderr",
     "output_type": "stream",
     "text": [
      "\n",
      "generating from val:   0%|                                                                                                              | 0/4 [00:00<?, ?it/s]\u001b[A\n",
      "generating from val:  25%|█████████████████████████▌                                                                            | 1/4 [00:01<00:04,  1.50s/it]\u001b[A\n",
      "generating from val:  50%|███████████████████████████████████████████████████                                                   | 2/4 [00:02<00:02,  1.28s/it]\u001b[A\n",
      "generating from val:  75%|████████████████████████████████████████████████████████████████████████████▌                         | 3/4 [00:03<00:01,  1.21s/it]\u001b[A\n",
      "generating from val: 100%|██████████████████████████████████████████████████████████████████████████████████████████████████████| 4/4 [00:04<00:00,  1.16s/it]\u001b[A\n",
      "                                                                                                                                                              \u001b[A"
     ]
    },
    {
     "name": "stdout",
     "output_type": "stream",
     "text": [
      "[pred] to the character of the skull, which are relatively smooth and untornatuous of the sutures of infant skulls. In fact, one\n",
      "[true] to the character of the sutures of the skull which, like those of the infant skull, are relatively smooth and untortuous. In fact\n",
      "\n",
      "\n",
      "\n",
      "[pred] individual from the Southern Hemisphere to win a Winter Olympic gold medal, and was also part of the short track relay team that won Australia'\n",
      "[true] individual from the Southern Hemisphere, to win a Winter Olympic gold medal and was also part of the short track relay team that won Australia'\n",
      "\n",
      "\n",
      "\n",
      "[pred] the same rights as straight people, while 15% disagreed: they should be protected from discrimination and harassment. With 33% of those working people, other\n",
      "[true] the same rights as straight people, while 15% disagreed. Additionally, 69% agreed that they should be protected from workplace discrimination. 13% of H\n",
      "{'eval_nq_loss': 0.6404249668121338, 'eval_nq_pred_num_tokens': 31.0, 'eval_nq_true_num_tokens': 32.0, 'eval_nq_token_set_precision': 0.7743381457308105, 'eval_nq_token_set_recall': 0.7886192024569372, 'eval_nq_token_set_f1': 0.7804492909969116, 'eval_nq_n_ngrams_match_1': 18.808, 'eval_nq_n_ngrams_match_2': 12.77, 'eval_nq_n_ngrams_match_3': 9.552, 'eval_nq_num_true_words': 24.368, 'eval_nq_num_pred_words': 24.374, 'eval_nq_bleu_score': 50.27598419041727, 'eval_nq_meteor_score': 0.7365934182852463, 'eval_nq_rouge_score': 0.7776004779063854, 'eval_nq_exact_match': 0.096, 'eval_nq_emb_cos_sim': 0.9553858041763306, 'eval_nq_runtime': 17.0489, 'eval_nq_samples_per_second': 29.327, 'eval_nq_steps_per_second': 0.235}\n"
     ]
    },
    {
     "name": "stderr",
     "output_type": "stream",
     "text": [
      "\n",
      "generating from val:   0%|                                                                                                              | 0/4 [00:00<?, ?it/s]\u001b[A\n",
      "generating from val:  25%|█████████████████████████▌                                                                            | 1/4 [00:01<00:04,  1.50s/it]\u001b[A\n",
      "generating from val:  50%|███████████████████████████████████████████████████                                                   | 2/4 [00:02<00:02,  1.29s/it]\u001b[A\n",
      "generating from val:  75%|████████████████████████████████████████████████████████████████████████████▌                         | 3/4 [00:03<00:01,  1.21s/it]\u001b[A\n",
      "generating from val: 100%|██████████████████████████████████████████████████████████████████████████████████████████████████████| 4/4 [00:04<00:00,  1.17s/it]\u001b[A\n",
      "                                                                                                                                                              \u001b[A"
     ]
    },
    {
     "name": "stdout",
     "output_type": "stream",
     "text": [
      "[pred] to the character of the sutures of the infant skull, which are relatively smooth and untutuous in some manner. Unlike the skull,\n",
      "[true] to the character of the sutures of the skull which, like those of the infant skull, are relatively smooth and untortuous. In fact\n",
      "\n",
      "\n",
      "\n",
      "[pred] individual from the Southern Hemisphere, to win the Winter Olympics gold medal, and was also part of the short track relay team which won Australia'\n",
      "[true] individual from the Southern Hemisphere, to win a Winter Olympic gold medal and was also part of the short track relay team that won Australia'\n",
      "\n",
      "\n",
      "\n",
      "[pred] the same rights as heterosexuals, and 9% agreed that they should be protected from discrimination. Another 15%, gay workers, did not answer exp\n",
      "[true] the same rights as straight people, while 15% disagreed. Additionally, 69% agreed that they should be protected from workplace discrimination. 13% of H\n"
     ]
    },
    {
     "name": "stderr",
     "output_type": "stream",
     "text": [
      "\n",
      "generating from val:   0%|                                                                                                              | 0/4 [00:00<?, ?it/s]\u001b[A\n",
      "generating from val:  25%|█████████████████████████▌                                                                            | 1/4 [00:01<00:04,  1.49s/it]\u001b[A\n",
      "generating from val:  50%|███████████████████████████████████████████████████                                                   | 2/4 [00:02<00:02,  1.28s/it]\u001b[A\n",
      "generating from val:  75%|████████████████████████████████████████████████████████████████████████████▌                         | 3/4 [00:03<00:01,  1.21s/it]\u001b[A\n",
      "generating from val: 100%|██████████████████████████████████████████████████████████████████████████████████████████████████████| 4/4 [00:04<00:00,  1.16s/it]\u001b[A\n",
      " 14%|█████████████████▌                                                                                                         | 1/7 [00:33<03:22, 33.73s/it]\u001b[A"
     ]
    },
    {
     "name": "stdout",
     "output_type": "stream",
     "text": [
      "[pred] to the character of the sutures of the infant skull, which are relatively smooth and untutuous in some manner. Unlike the skull,\n",
      "[true] to the character of the sutures of the skull which, like those of the infant skull, are relatively smooth and untortuous. In fact\n",
      "\n",
      "\n",
      "\n",
      "[pred] individual from the Southern Hemisphere, to win the Winter Olympics gold medal, and was also part of the short track relay team which won Australia'\n",
      "[true] individual from the Southern Hemisphere, to win a Winter Olympic gold medal and was also part of the short track relay team that won Australia'\n",
      "\n",
      "\n",
      "\n",
      "[pred] the same rights as heterosexuals, and 9% agreed that they should be protected from discrimination. Another 15%, gay workers, did not answer exp\n",
      "[true] the same rights as straight people, while 15% disagreed. Additionally, 69% agreed that they should be protected from workplace discrimination. 13% of H\n",
      "{'eval_nq_loss': 0.7669134736061096, 'eval_nq_pred_num_tokens': 31.0, 'eval_nq_true_num_tokens': 32.0, 'eval_nq_token_set_precision': 0.7229957334954668, 'eval_nq_token_set_recall': 0.73692929994914, 'eval_nq_token_set_f1': 0.7288293146822297, 'eval_nq_n_ngrams_match_1': 17.57, 'eval_nq_n_ngrams_match_2': 10.942, 'eval_nq_n_ngrams_match_3': 7.664, 'eval_nq_num_true_words': 24.368, 'eval_nq_num_pred_words': 24.356, 'eval_nq_bleu_score': 41.895373731601865, 'eval_nq_meteor_score': 0.6740793734154336, 'eval_nq_rouge_score': 0.7249803115235317, 'eval_nq_exact_match': 0.038, 'eval_nq_emb_cos_sim': 0.9410986304283142, 'eval_nq_runtime': 16.673, 'eval_nq_samples_per_second': 29.989, 'eval_nq_steps_per_second': 0.24, 'num_steps': 1, 'feedback': False}\n"
     ]
    },
    {
     "name": "stderr",
     "output_type": "stream",
     "text": [
      "\n",
      "generating from val:   0%|                                                                                                              | 0/4 [00:00<?, ?it/s]\u001b[A\n",
      "generating from val:  25%|█████████████████████████▌                                                                            | 1/4 [00:03<00:10,  3.62s/it]\u001b[A\n",
      "generating from val:  50%|███████████████████████████████████████████████████                                                   | 2/4 [00:06<00:06,  3.29s/it]\u001b[A\n",
      "generating from val:  75%|████████████████████████████████████████████████████████████████████████████▌                         | 3/4 [00:09<00:03,  3.18s/it]\u001b[A\n",
      "generating from val: 100%|██████████████████████████████████████████████████████████████████████████████████████████████████████| 4/4 [00:12<00:00,  3.08s/it]\u001b[A\n",
      "                                                                                                                                                              \u001b[A"
     ]
    },
    {
     "name": "stdout",
     "output_type": "stream",
     "text": [
      "[pred] to the character of the sutures of the skull, which, like those of the infant skull, are relatively smooth and untornuous. Indeed\n",
      "[true] to the character of the sutures of the skull which, like those of the infant skull, are relatively smooth and untortuous. In fact\n",
      "\n",
      "\n",
      "\n",
      "[pred] individual from the Southern Hemisphere, to win a Winter Olympic gold medal and was also part of the short track relay team that won Australia'\n",
      "[true] individual from the Southern Hemisphere, to win a Winter Olympic gold medal and was also part of the short track relay team that won Australia'\n",
      "\n",
      "\n",
      "\n",
      "[pred] same rights as straight people, while 15% agreed that they should be protected from workplace discrimination. Additionally, 13% disagreed. 69% of H-\n",
      "[true] the same rights as straight people, while 15% disagreed. Additionally, 69% agreed that they should be protected from workplace discrimination. 13% of H\n"
     ]
    },
    {
     "name": "stderr",
     "output_type": "stream",
     "text": [
      "\n",
      "generating from val:   0%|                                                                                                              | 0/4 [00:00<?, ?it/s]\u001b[A\n",
      "generating from val:  25%|█████████████████████████▌                                                                            | 1/4 [00:03<00:11,  3.79s/it]\u001b[A\n",
      "generating from val:  50%|███████████████████████████████████████████████████                                                   | 2/4 [00:06<00:06,  3.35s/it]\u001b[A\n",
      "generating from val:  75%|████████████████████████████████████████████████████████████████████████████▌                         | 3/4 [00:09<00:03,  3.22s/it]\u001b[A\n",
      "generating from val: 100%|██████████████████████████████████████████████████████████████████████████████████████████████████████| 4/4 [00:12<00:00,  3.10s/it]\u001b[A\n",
      "                                                                                                                                                              \u001b[A"
     ]
    },
    {
     "name": "stdout",
     "output_type": "stream",
     "text": [
      "[pred] to the character of the sutures of the skull, which, like those of the infant skull, are relatively smooth and untornuous. Indeed\n",
      "[true] to the character of the sutures of the skull which, like those of the infant skull, are relatively smooth and untortuous. In fact\n",
      "\n",
      "\n",
      "\n",
      "[pred] individual from the Southern Hemisphere, to win a Winter Olympic gold medal and was also part of the short track relay team that won Australia'\n",
      "[true] individual from the Southern Hemisphere, to win a Winter Olympic gold medal and was also part of the short track relay team that won Australia'\n",
      "\n",
      "\n",
      "\n",
      "[pred] same rights as straight people, while 15% agreed that they should be protected from workplace discrimination. Additionally, 13% disagreed. 69% of H-\n",
      "[true] the same rights as straight people, while 15% disagreed. Additionally, 69% agreed that they should be protected from workplace discrimination. 13% of H\n",
      "{'eval_nq_loss': 0.6404249668121338, 'eval_nq_pred_num_tokens': 31.0, 'eval_nq_true_num_tokens': 32.0, 'eval_nq_token_set_precision': 0.9044071345497376, 'eval_nq_token_set_recall': 0.9125329795625029, 'eval_nq_token_set_f1': 0.9080383949145814, 'eval_nq_n_ngrams_match_1': 22.024, 'eval_nq_n_ngrams_match_2': 18.236, 'eval_nq_n_ngrams_match_3': 15.748, 'eval_nq_num_true_words': 24.368, 'eval_nq_num_pred_words': 24.322, 'eval_nq_bleu_score': 75.41253923476056, 'eval_nq_meteor_score': 0.8921194996873874, 'eval_nq_rouge_score': 0.9097580497749944, 'eval_nq_exact_match': 0.414, 'eval_nq_emb_cos_sim': 0.9845502376556396, 'eval_nq_runtime': 32.2981, 'eval_nq_samples_per_second': 15.481, 'eval_nq_steps_per_second': 0.124}\n"
     ]
    },
    {
     "name": "stderr",
     "output_type": "stream",
     "text": [
      "\n",
      "generating from val:   0%|                                                                                                              | 0/4 [00:00<?, ?it/s]\u001b[A\n",
      "generating from val:  25%|█████████████████████████▌                                                                            | 1/4 [00:03<00:10,  3.39s/it]\u001b[A\n",
      "generating from val:  50%|███████████████████████████████████████████████████                                                   | 2/4 [00:06<00:06,  3.32s/it]\u001b[A\n",
      "generating from val:  75%|████████████████████████████████████████████████████████████████████████████▌                         | 3/4 [00:09<00:03,  3.26s/it]\u001b[A\n",
      "generating from val: 100%|██████████████████████████████████████████████████████████████████████████████████████████████████████| 4/4 [00:13<00:00,  3.23s/it]\u001b[A\n",
      "                                                                                                                                                              \u001b[A"
     ]
    },
    {
     "name": "stdout",
     "output_type": "stream",
     "text": [
      "[pred] to the character of the sutures of the infant skull, which are relatively smooth and untutuous in some manner. Unlike the skull,\n",
      "[true] to the character of the sutures of the skull which, like those of the infant skull, are relatively smooth and untortuous. In fact\n",
      "\n",
      "\n",
      "\n",
      "[pred] individual from the Southern Hemisphere, to win the Winter Olympics gold medal, and was also part of the short track relay team which won Australia'\n",
      "[true] individual from the Southern Hemisphere, to win a Winter Olympic gold medal and was also part of the short track relay team that won Australia'\n",
      "\n",
      "\n",
      "\n",
      "[pred] the same rights as heterosexuals, and 9% agreed that they should be protected from discrimination. Another 15%, gay workers did not answer for exp\n",
      "[true] the same rights as straight people, while 15% disagreed. Additionally, 69% agreed that they should be protected from workplace discrimination. 13% of H\n"
     ]
    },
    {
     "name": "stderr",
     "output_type": "stream",
     "text": [
      "\n",
      "generating from val:   0%|                                                                                                              | 0/4 [00:00<?, ?it/s]\u001b[A\n",
      "generating from val:  25%|█████████████████████████▌                                                                            | 1/4 [00:03<00:10,  3.40s/it]\u001b[A\n",
      "generating from val:  50%|███████████████████████████████████████████████████                                                   | 2/4 [00:06<00:06,  3.33s/it]\u001b[A\n",
      "generating from val:  75%|████████████████████████████████████████████████████████████████████████████▌                         | 3/4 [00:09<00:03,  3.28s/it]\u001b[A\n",
      "generating from val: 100%|██████████████████████████████████████████████████████████████████████████████████████████████████████| 4/4 [00:13<00:00,  3.24s/it]\u001b[A\n",
      " 29%|███████████████████████████████████▏                                                                                       | 2/7 [01:38<04:20, 52.09s/it]\u001b[A"
     ]
    },
    {
     "name": "stdout",
     "output_type": "stream",
     "text": [
      "[pred] to the character of the sutures of the infant skull, which are relatively smooth and untutuous in some manner. Unlike the skull,\n",
      "[true] to the character of the sutures of the skull which, like those of the infant skull, are relatively smooth and untortuous. In fact\n",
      "\n",
      "\n",
      "\n",
      "[pred] individual from the Southern Hemisphere, to win the Winter Olympics gold medal, and was also part of the short track relay team which won Australia'\n",
      "[true] individual from the Southern Hemisphere, to win a Winter Olympic gold medal and was also part of the short track relay team that won Australia'\n",
      "\n",
      "\n",
      "\n",
      "[pred] the same rights as heterosexuals, and 9% agreed that they should be protected from discrimination. Another 15%, gay workers did not answer for exp\n",
      "[true] the same rights as straight people, while 15% disagreed. Additionally, 69% agreed that they should be protected from workplace discrimination. 13% of H\n",
      "{'eval_nq_loss': 0.7669134736061096, 'eval_nq_pred_num_tokens': 31.0, 'eval_nq_true_num_tokens': 32.0, 'eval_nq_token_set_precision': 0.7419772057242777, 'eval_nq_token_set_recall': 0.7538550490300795, 'eval_nq_token_set_f1': 0.7467690898960712, 'eval_nq_n_ngrams_match_1': 17.974, 'eval_nq_n_ngrams_match_2': 11.516, 'eval_nq_n_ngrams_match_3': 8.25, 'eval_nq_num_true_words': 24.368, 'eval_nq_num_pred_words': 24.354, 'eval_nq_bleu_score': 44.464699982597736, 'eval_nq_meteor_score': 0.6970080390028609, 'eval_nq_rouge_score': 0.7424246502807688, 'eval_nq_exact_match': 0.042, 'eval_nq_emb_cos_sim': 0.9494726657867432, 'eval_nq_runtime': 32.6325, 'eval_nq_samples_per_second': 15.322, 'eval_nq_steps_per_second': 0.123, 'num_steps': 5, 'feedback': False}\n"
     ]
    },
    {
     "name": "stderr",
     "output_type": "stream",
     "text": [
      "\n",
      "generating from val:   0%|                                                                                                              | 0/4 [00:00<?, ?it/s]\u001b[A\n",
      "generating from val:  25%|█████████████████████████▌                                                                            | 1/4 [00:06<00:18,  6.29s/it]\u001b[A\n",
      "generating from val:  50%|███████████████████████████████████████████████████                                                   | 2/4 [00:11<00:11,  5.90s/it]\u001b[A\n",
      "generating from val:  75%|████████████████████████████████████████████████████████████████████████████▌                         | 3/4 [00:17<00:05,  5.76s/it]\u001b[A\n",
      "generating from val: 100%|██████████████████████████████████████████████████████████████████████████████████████████████████████| 4/4 [00:22<00:00,  5.60s/it]\u001b[A\n",
      "                                                                                                                                                              \u001b[A"
     ]
    },
    {
     "name": "stdout",
     "output_type": "stream",
     "text": [
      "[pred] to the character of the sutures of the skull, which, like those of the infant skull, are relatively smooth and untornuous. However\n",
      "[true] to the character of the sutures of the skull which, like those of the infant skull, are relatively smooth and untortuous. In fact\n",
      "\n",
      "\n",
      "\n",
      "[pred] individual from the Southern Hemisphere, to win a Winter Olympic gold medal and was also part of the short track relay team that won Australia'\n",
      "[true] individual from the Southern Hemisphere, to win a Winter Olympic gold medal and was also part of the short track relay team that won Australia'\n",
      "\n",
      "\n",
      "\n",
      "[pred] the same rights as straight people, while 15% disagreed. Additionally, 13% agreed that they should be protected from workplace discrimination. 69% of H\n",
      "[true] the same rights as straight people, while 15% disagreed. Additionally, 69% agreed that they should be protected from workplace discrimination. 13% of H\n"
     ]
    },
    {
     "name": "stderr",
     "output_type": "stream",
     "text": [
      "\n",
      "generating from val:   0%|                                                                                                              | 0/4 [00:00<?, ?it/s]\u001b[A\n",
      "generating from val:  25%|█████████████████████████▌                                                                            | 1/4 [00:05<00:17,  5.98s/it]\u001b[A\n",
      "generating from val:  50%|███████████████████████████████████████████████████                                                   | 2/4 [00:11<00:11,  5.88s/it]\u001b[A\n",
      "generating from val:  75%|████████████████████████████████████████████████████████████████████████████▌                         | 3/4 [00:17<00:05,  5.86s/it]\u001b[A\n",
      "generating from val: 100%|██████████████████████████████████████████████████████████████████████████████████████████████████████| 4/4 [00:23<00:00,  5.75s/it]\u001b[A\n",
      "                                                                                                                                                              \u001b[A"
     ]
    },
    {
     "name": "stdout",
     "output_type": "stream",
     "text": [
      "[pred] to the character of the sutures of the skull, which, like those of the infant skull, are relatively smooth and untornuous. However\n",
      "[true] to the character of the sutures of the skull which, like those of the infant skull, are relatively smooth and untortuous. In fact\n",
      "\n",
      "\n",
      "\n",
      "[pred] individual from the Southern Hemisphere, to win a Winter Olympic gold medal and was also part of the short track relay team that won Australia'\n",
      "[true] individual from the Southern Hemisphere, to win a Winter Olympic gold medal and was also part of the short track relay team that won Australia'\n",
      "\n",
      "\n",
      "\n",
      "[pred] the same rights as straight people, while 15% disagreed. Additionally, 13% agreed that they should be protected from workplace discrimination. 69% of H\n",
      "[true] the same rights as straight people, while 15% disagreed. Additionally, 69% agreed that they should be protected from workplace discrimination. 13% of H\n",
      "{'eval_nq_loss': 0.6404249668121338, 'eval_nq_pred_num_tokens': 31.0, 'eval_nq_true_num_tokens': 32.0, 'eval_nq_token_set_precision': 0.9315218950062975, 'eval_nq_token_set_recall': 0.9369840357294306, 'eval_nq_token_set_f1': 0.9339098968192999, 'eval_nq_n_ngrams_match_1': 22.668, 'eval_nq_n_ngrams_match_2': 19.278, 'eval_nq_n_ngrams_match_3': 17.024, 'eval_nq_num_true_words': 24.368, 'eval_nq_num_pred_words': 24.402, 'eval_nq_bleu_score': 80.37247640138087, 'eval_nq_meteor_score': 0.919825422067612, 'eval_nq_rouge_score': 0.933674529306423, 'eval_nq_exact_match': 0.488, 'eval_nq_emb_cos_sim': 0.9877819418907166, 'eval_nq_runtime': 52.4885, 'eval_nq_samples_per_second': 9.526, 'eval_nq_steps_per_second': 0.076}\n"
     ]
    },
    {
     "name": "stderr",
     "output_type": "stream",
     "text": [
      "\n",
      "generating from val:   0%|                                                                                                              | 0/4 [00:00<?, ?it/s]\u001b[A\n",
      "generating from val:  25%|█████████████████████████▌                                                                            | 1/4 [00:06<00:19,  6.45s/it]\u001b[A\n",
      "generating from val:  50%|███████████████████████████████████████████████████                                                   | 2/4 [00:12<00:11,  6.00s/it]\u001b[A\n",
      "generating from val:  75%|████████████████████████████████████████████████████████████████████████████▌                         | 3/4 [00:17<00:05,  5.85s/it]\u001b[A\n",
      "generating from val: 100%|██████████████████████████████████████████████████████████████████████████████████████████████████████| 4/4 [00:23<00:00,  5.68s/it]\u001b[A\n",
      "                                                                                                                                                              \u001b[A"
     ]
    },
    {
     "name": "stdout",
     "output_type": "stream",
     "text": [
      "[pred] to the character of the sutures of the infant skull, which are relatively smooth and untutuous in some manner. Unlike the skull,\n",
      "[true] to the character of the sutures of the skull which, like those of the infant skull, are relatively smooth and untortuous. In fact\n",
      "\n",
      "\n",
      "\n",
      "[pred] individual from the Southern Hemisphere, to win the Winter Olympics gold medal, and was also part of the short track relay team which won Australia'\n",
      "[true] individual from the Southern Hemisphere, to win a Winter Olympic gold medal and was also part of the short track relay team that won Australia'\n",
      "\n",
      "\n",
      "\n",
      "[pred] the same rights as heterosexuals, and 9% agreed that they should be protected from discrimination. Another 15%, gay workers did not answer for exp\n",
      "[true] the same rights as straight people, while 15% disagreed. Additionally, 69% agreed that they should be protected from workplace discrimination. 13% of H\n"
     ]
    },
    {
     "name": "stderr",
     "output_type": "stream",
     "text": [
      "\n",
      "generating from val:   0%|                                                                                                              | 0/4 [00:00<?, ?it/s]\u001b[A\n",
      "generating from val:  25%|█████████████████████████▌                                                                            | 1/4 [00:06<00:18,  6.02s/it]\u001b[A\n",
      "generating from val:  50%|███████████████████████████████████████████████████                                                   | 2/4 [00:11<00:11,  5.96s/it]\u001b[A\n",
      "generating from val:  75%|████████████████████████████████████████████████████████████████████████████▌                         | 3/4 [00:17<00:05,  5.87s/it]\u001b[A\n",
      "generating from val: 100%|██████████████████████████████████████████████████████████████████████████████████████████████████████| 4/4 [00:23<00:00,  5.69s/it]\u001b[A\n",
      " 43%|████████████████████████████████████████████████████▋                                                                      | 3/7 [03:24<05:05, 76.47s/it]\u001b[A"
     ]
    },
    {
     "name": "stdout",
     "output_type": "stream",
     "text": [
      "[pred] to the character of the sutures of the infant skull, which are relatively smooth and untutuous in some manner. Unlike the skull,\n",
      "[true] to the character of the sutures of the skull which, like those of the infant skull, are relatively smooth and untortuous. In fact\n",
      "\n",
      "\n",
      "\n",
      "[pred] individual from the Southern Hemisphere, to win the Winter Olympics gold medal, and was also part of the short track relay team which won Australia'\n",
      "[true] individual from the Southern Hemisphere, to win a Winter Olympic gold medal and was also part of the short track relay team that won Australia'\n",
      "\n",
      "\n",
      "\n",
      "[pred] the same rights as heterosexuals, and 9% agreed that they should be protected from discrimination. Another 15%, gay workers did not answer for exp\n",
      "[true] the same rights as straight people, while 15% disagreed. Additionally, 69% agreed that they should be protected from workplace discrimination. 13% of H\n",
      "{'eval_nq_loss': 0.7669134736061096, 'eval_nq_pred_num_tokens': 31.0, 'eval_nq_true_num_tokens': 32.0, 'eval_nq_token_set_precision': 0.7430336869356923, 'eval_nq_token_set_recall': 0.7552045125749403, 'eval_nq_token_set_f1': 0.7479419027438059, 'eval_nq_n_ngrams_match_1': 18.002, 'eval_nq_n_ngrams_match_2': 11.54, 'eval_nq_n_ngrams_match_3': 8.278, 'eval_nq_num_true_words': 24.368, 'eval_nq_num_pred_words': 24.368, 'eval_nq_bleu_score': 44.57472055669768, 'eval_nq_meteor_score': 0.6975513585778733, 'eval_nq_rouge_score': 0.7434985487141456, 'eval_nq_exact_match': 0.042, 'eval_nq_emb_cos_sim': 0.9494792222976685, 'eval_nq_runtime': 52.9949, 'eval_nq_samples_per_second': 9.435, 'eval_nq_steps_per_second': 0.075, 'num_steps': 10, 'feedback': False}\n"
     ]
    },
    {
     "name": "stderr",
     "output_type": "stream",
     "text": [
      "\n",
      "generating from val:   0%|                                                                                                              | 0/4 [00:00<?, ?it/s]\u001b[A\n",
      "generating from val:  25%|█████████████████████████▌                                                                            | 1/4 [00:11<00:34, 11.53s/it]\u001b[A\n",
      "generating from val:  50%|███████████████████████████████████████████████████                                                   | 2/4 [00:22<00:22, 11.12s/it]\u001b[A\n",
      "generating from val:  75%|████████████████████████████████████████████████████████████████████████████▌                         | 3/4 [00:33<00:11, 11.01s/it]\u001b[A\n",
      "generating from val: 100%|██████████████████████████████████████████████████████████████████████████████████████████████████████| 4/4 [00:43<00:00, 10.75s/it]\u001b[A\n",
      "                                                                                                                                                              \u001b[A"
     ]
    },
    {
     "name": "stdout",
     "output_type": "stream",
     "text": [
      "[pred] to the character of the sutures of the skull, which, like those of the infant skull, are relatively smooth and untornuous. However\n",
      "[true] to the character of the sutures of the skull which, like those of the infant skull, are relatively smooth and untortuous. In fact\n",
      "\n",
      "\n",
      "\n",
      "[pred] individual from the Southern Hemisphere, to win a Winter Olympic gold medal and was also part of the short track relay team that won Australia'\n",
      "[true] individual from the Southern Hemisphere, to win a Winter Olympic gold medal and was also part of the short track relay team that won Australia'\n",
      "\n",
      "\n",
      "\n",
      "[pred] the same rights as straight people, while 15% disagreed. Additionally, 13% agreed that they should be protected from workplace discrimination. 69% of H\n",
      "[true] the same rights as straight people, while 15% disagreed. Additionally, 69% agreed that they should be protected from workplace discrimination. 13% of H\n"
     ]
    },
    {
     "name": "stderr",
     "output_type": "stream",
     "text": [
      "\n",
      "generating from val:   0%|                                                                                                              | 0/4 [00:00<?, ?it/s]\u001b[A\n",
      "generating from val:  25%|█████████████████████████▌                                                                            | 1/4 [00:11<00:34, 11.62s/it]\u001b[A\n",
      "generating from val:  50%|███████████████████████████████████████████████████                                                   | 2/4 [00:22<00:22, 11.23s/it]\u001b[A\n",
      "generating from val:  75%|████████████████████████████████████████████████████████████████████████████▌                         | 3/4 [00:33<00:11, 11.04s/it]\u001b[A\n",
      "generating from val: 100%|██████████████████████████████████████████████████████████████████████████████████████████████████████| 4/4 [00:43<00:00, 10.77s/it]\u001b[A\n",
      "                                                                                                                                                              \u001b[A"
     ]
    },
    {
     "name": "stdout",
     "output_type": "stream",
     "text": [
      "[pred] to the character of the sutures of the skull, which, like those of the infant skull, are relatively smooth and untornuous. However\n",
      "[true] to the character of the sutures of the skull which, like those of the infant skull, are relatively smooth and untortuous. In fact\n",
      "\n",
      "\n",
      "\n",
      "[pred] individual from the Southern Hemisphere, to win a Winter Olympic gold medal and was also part of the short track relay team that won Australia'\n",
      "[true] individual from the Southern Hemisphere, to win a Winter Olympic gold medal and was also part of the short track relay team that won Australia'\n",
      "\n",
      "\n",
      "\n",
      "[pred] the same rights as straight people, while 15% disagreed. Additionally, 13% agreed that they should be protected from workplace discrimination. 69% of H\n",
      "[true] the same rights as straight people, while 15% disagreed. Additionally, 69% agreed that they should be protected from workplace discrimination. 13% of H\n",
      "{'eval_nq_loss': 0.6404249668121338, 'eval_nq_pred_num_tokens': 31.0, 'eval_nq_true_num_tokens': 32.0, 'eval_nq_token_set_precision': 0.941978893353469, 'eval_nq_token_set_recall': 0.9469996525279658, 'eval_nq_token_set_f1': 0.9442156570689848, 'eval_nq_n_ngrams_match_1': 22.912, 'eval_nq_n_ngrams_match_2': 19.728, 'eval_nq_n_ngrams_match_3': 17.564, 'eval_nq_num_true_words': 24.368, 'eval_nq_num_pred_words': 24.354, 'eval_nq_bleu_score': 82.53031401918295, 'eval_nq_meteor_score': 0.9321269407766349, 'eval_nq_rouge_score': 0.9472985614846605, 'eval_nq_exact_match': 0.518, 'eval_nq_emb_cos_sim': 0.9902845621109009, 'eval_nq_runtime': 93.9208, 'eval_nq_samples_per_second': 5.324, 'eval_nq_steps_per_second': 0.043}\n"
     ]
    },
    {
     "name": "stderr",
     "output_type": "stream",
     "text": [
      "\n",
      "generating from val:   0%|                                                                                                              | 0/4 [00:00<?, ?it/s]\u001b[A\n",
      "generating from val:  25%|█████████████████████████▌                                                                            | 1/4 [00:11<00:33, 11.20s/it]\u001b[A\n",
      "generating from val:  50%|███████████████████████████████████████████████████                                                   | 2/4 [00:22<00:22, 11.03s/it]\u001b[A\n",
      "generating from val:  75%|████████████████████████████████████████████████████████████████████████████▌                         | 3/4 [00:32<00:10, 10.93s/it]\u001b[A\n",
      "generating from val: 100%|██████████████████████████████████████████████████████████████████████████████████████████████████████| 4/4 [00:43<00:00, 10.70s/it]\u001b[A\n",
      "                                                                                                                                                              \u001b[A"
     ]
    },
    {
     "name": "stdout",
     "output_type": "stream",
     "text": [
      "[pred] to the character of the sutures of the infant skull, which are relatively smooth and untutuous in some manner. Unlike the skull,\n",
      "[true] to the character of the sutures of the skull which, like those of the infant skull, are relatively smooth and untortuous. In fact\n",
      "\n",
      "\n",
      "\n",
      "[pred] individual from the Southern Hemisphere, to win the Winter Olympics gold medal, and was also part of the short track relay team which won Australia'\n",
      "[true] individual from the Southern Hemisphere, to win a Winter Olympic gold medal and was also part of the short track relay team that won Australia'\n",
      "\n",
      "\n",
      "\n",
      "[pred] the same rights as heterosexuals, and 9% agreed that they should be protected from discrimination. Another 15%, gay workers did not answer for exp\n",
      "[true] the same rights as straight people, while 15% disagreed. Additionally, 69% agreed that they should be protected from workplace discrimination. 13% of H\n"
     ]
    },
    {
     "name": "stderr",
     "output_type": "stream",
     "text": [
      "\n",
      "generating from val:   0%|                                                                                                              | 0/4 [00:00<?, ?it/s]\u001b[A\n",
      "generating from val:  25%|█████████████████████████▌                                                                            | 1/4 [00:11<00:34, 11.42s/it]\u001b[A\n",
      "generating from val:  50%|███████████████████████████████████████████████████                                                   | 2/4 [00:22<00:22, 11.06s/it]\u001b[A\n",
      "generating from val:  75%|████████████████████████████████████████████████████████████████████████████▌                         | 3/4 [00:33<00:10, 10.94s/it]\u001b[A\n",
      "generating from val: 100%|██████████████████████████████████████████████████████████████████████████████████████████████████████| 4/4 [00:43<00:00, 10.69s/it]\u001b[A\n",
      " 57%|█████████████████████████████████████████████████████████████████████▋                                                    | 4/7 [06:31<06:00, 120.17s/it]\u001b[A"
     ]
    },
    {
     "name": "stdout",
     "output_type": "stream",
     "text": [
      "[pred] to the character of the sutures of the infant skull, which are relatively smooth and untutuous in some manner. Unlike the skull,\n",
      "[true] to the character of the sutures of the skull which, like those of the infant skull, are relatively smooth and untortuous. In fact\n",
      "\n",
      "\n",
      "\n",
      "[pred] individual from the Southern Hemisphere, to win the Winter Olympics gold medal, and was also part of the short track relay team which won Australia'\n",
      "[true] individual from the Southern Hemisphere, to win a Winter Olympic gold medal and was also part of the short track relay team that won Australia'\n",
      "\n",
      "\n",
      "\n",
      "[pred] the same rights as heterosexuals, and 9% agreed that they should be protected from discrimination. Another 15%, gay workers did not answer for exp\n",
      "[true] the same rights as straight people, while 15% disagreed. Additionally, 69% agreed that they should be protected from workplace discrimination. 13% of H\n",
      "{'eval_nq_loss': 0.7669134736061096, 'eval_nq_pred_num_tokens': 31.0, 'eval_nq_true_num_tokens': 32.0, 'eval_nq_token_set_precision': 0.7425945753226678, 'eval_nq_token_set_recall': 0.7546060277264555, 'eval_nq_token_set_f1': 0.7474264028802272, 'eval_nq_n_ngrams_match_1': 17.992, 'eval_nq_n_ngrams_match_2': 11.536, 'eval_nq_n_ngrams_match_3': 8.278, 'eval_nq_num_true_words': 24.368, 'eval_nq_num_pred_words': 24.372, 'eval_nq_bleu_score': 44.56419463471882, 'eval_nq_meteor_score': 0.6973886448869391, 'eval_nq_rouge_score': 0.7431756989069486, 'eval_nq_exact_match': 0.042, 'eval_nq_emb_cos_sim': 0.9497928023338318, 'eval_nq_runtime': 93.226, 'eval_nq_samples_per_second': 5.363, 'eval_nq_steps_per_second': 0.043, 'num_steps': 20, 'feedback': False}\n"
     ]
    },
    {
     "name": "stderr",
     "output_type": "stream",
     "text": [
      "\n",
      "generating from val:   0%|                                                                                                              | 0/4 [00:00<?, ?it/s]\u001b[A\n",
      "generating from val:  25%|█████████████████████████▌                                                                            | 1/4 [00:16<00:49, 16.33s/it]\u001b[A\n",
      "generating from val:  50%|███████████████████████████████████████████████████                                                   | 2/4 [00:32<00:32, 16.12s/it]\u001b[A\n",
      "generating from val:  75%|████████████████████████████████████████████████████████████████████████████▌                         | 3/4 [00:48<00:16, 16.15s/it]\u001b[A\n",
      "generating from val: 100%|██████████████████████████████████████████████████████████████████████████████████████████████████████| 4/4 [01:03<00:00, 15.85s/it]\u001b[A\n",
      "                                                                                                                                                              \u001b[A"
     ]
    },
    {
     "name": "stdout",
     "output_type": "stream",
     "text": [
      "[pred] to the character of the sutures of the skull, which, like those of the infant skull, are relatively smooth and untornuous. However\n",
      "[true] to the character of the sutures of the skull which, like those of the infant skull, are relatively smooth and untortuous. In fact\n",
      "\n",
      "\n",
      "\n",
      "[pred] individual from the Southern Hemisphere, to win a Winter Olympic gold medal and was also part of the short track relay team that won Australia'\n",
      "[true] individual from the Southern Hemisphere, to win a Winter Olympic gold medal and was also part of the short track relay team that won Australia'\n",
      "\n",
      "\n",
      "\n",
      "[pred] the same rights as straight people, while 15% disagreed. Additionally, 13% agreed that they should be protected from workplace discrimination. 69% of H\n",
      "[true] the same rights as straight people, while 15% disagreed. Additionally, 69% agreed that they should be protected from workplace discrimination. 13% of H\n"
     ]
    },
    {
     "name": "stderr",
     "output_type": "stream",
     "text": [
      "\n",
      "generating from val:   0%|                                                                                                              | 0/4 [00:00<?, ?it/s]\u001b[A\n",
      "generating from val:  25%|█████████████████████████▌                                                                            | 1/4 [00:16<00:50, 16.71s/it]\u001b[A\n",
      "generating from val:  50%|███████████████████████████████████████████████████                                                   | 2/4 [00:32<00:32, 16.32s/it]\u001b[A\n",
      "generating from val:  75%|████████████████████████████████████████████████████████████████████████████▌                         | 3/4 [00:48<00:16, 16.24s/it]\u001b[A\n",
      "generating from val: 100%|██████████████████████████████████████████████████████████████████████████████████████████████████████| 4/4 [01:04<00:00, 15.97s/it]\u001b[A\n",
      "                                                                                                                                                              \u001b[A"
     ]
    },
    {
     "name": "stdout",
     "output_type": "stream",
     "text": [
      "[pred] to the character of the sutures of the skull, which, like those of the infant skull, are relatively smooth and untornuous. However\n",
      "[true] to the character of the sutures of the skull which, like those of the infant skull, are relatively smooth and untortuous. In fact\n",
      "\n",
      "\n",
      "\n",
      "[pred] individual from the Southern Hemisphere, to win a Winter Olympic gold medal and was also part of the short track relay team that won Australia'\n",
      "[true] individual from the Southern Hemisphere, to win a Winter Olympic gold medal and was also part of the short track relay team that won Australia'\n",
      "\n",
      "\n",
      "\n",
      "[pred] the same rights as straight people, while 15% disagreed. Additionally, 13% agreed that they should be protected from workplace discrimination. 69% of H\n",
      "[true] the same rights as straight people, while 15% disagreed. Additionally, 69% agreed that they should be protected from workplace discrimination. 13% of H\n",
      "{'eval_nq_loss': 0.6404249668121338, 'eval_nq_pred_num_tokens': 31.0, 'eval_nq_true_num_tokens': 32.0, 'eval_nq_token_set_precision': 0.9463924478240796, 'eval_nq_token_set_recall': 0.9507035780307551, 'eval_nq_token_set_f1': 0.9482820771576829, 'eval_nq_n_ngrams_match_1': 23.012, 'eval_nq_n_ngrams_match_2': 19.96, 'eval_nq_n_ngrams_match_3': 17.81, 'eval_nq_num_true_words': 24.368, 'eval_nq_num_pred_words': 24.354, 'eval_nq_bleu_score': 83.42304759016812, 'eval_nq_meteor_score': 0.939194466056546, 'eval_nq_rouge_score': 0.9507189336014508, 'eval_nq_exact_match': 0.522, 'eval_nq_emb_cos_sim': 0.9917678833007812, 'eval_nq_runtime': 134.4153, 'eval_nq_samples_per_second': 3.72, 'eval_nq_steps_per_second': 0.03}\n"
     ]
    },
    {
     "name": "stderr",
     "output_type": "stream",
     "text": [
      "\n",
      "generating from val:   0%|                                                                                                              | 0/4 [00:00<?, ?it/s]\u001b[A\n",
      "generating from val:  25%|█████████████████████████▌                                                                            | 1/4 [00:16<00:50, 16.86s/it]\u001b[A\n",
      "generating from val:  50%|███████████████████████████████████████████████████                                                   | 2/4 [00:33<00:32, 16.45s/it]\u001b[A\n",
      "generating from val:  75%|████████████████████████████████████████████████████████████████████████████▌                         | 3/4 [00:49<00:16, 16.31s/it]\u001b[A\n",
      "generating from val: 100%|██████████████████████████████████████████████████████████████████████████████████████████████████████| 4/4 [01:04<00:00, 15.91s/it]\u001b[A\n",
      "                                                                                                                                                              \u001b[A"
     ]
    },
    {
     "name": "stdout",
     "output_type": "stream",
     "text": [
      "[pred] to the character of the sutures of the infant skull, which are relatively smooth and untutuous in some manner. Unlike the skull,\n",
      "[true] to the character of the sutures of the skull which, like those of the infant skull, are relatively smooth and untortuous. In fact\n",
      "\n",
      "\n",
      "\n",
      "[pred] individual from the Southern Hemisphere, to win the Winter Olympics gold medal, and was also part of the short track relay team which won Australia'\n",
      "[true] individual from the Southern Hemisphere, to win a Winter Olympic gold medal and was also part of the short track relay team that won Australia'\n",
      "\n",
      "\n",
      "\n",
      "[pred] the same rights as heterosexuals, and 9% agreed that they should be protected from discrimination. Another 15%, gay workers did not answer for exp\n",
      "[true] the same rights as straight people, while 15% disagreed. Additionally, 69% agreed that they should be protected from workplace discrimination. 13% of H\n"
     ]
    },
    {
     "name": "stderr",
     "output_type": "stream",
     "text": [
      "\n",
      "generating from val:   0%|                                                                                                              | 0/4 [00:00<?, ?it/s]\u001b[A\n",
      "generating from val:  25%|█████████████████████████▌                                                                            | 1/4 [00:16<00:49, 16.35s/it]\u001b[A\n",
      "generating from val:  50%|███████████████████████████████████████████████████                                                   | 2/4 [00:32<00:32, 16.15s/it]\u001b[A\n",
      "generating from val:  75%|████████████████████████████████████████████████████████████████████████████▌                         | 3/4 [00:48<00:16, 16.27s/it]\u001b[A\n",
      "generating from val: 100%|██████████████████████████████████████████████████████████████████████████████████████████████████████| 4/4 [01:04<00:00, 16.00s/it]\u001b[A\n",
      " 71%|███████████████████████████████████████████████████████████████████████████████████████▏                                  | 5/7 [11:01<05:48, 174.28s/it]\u001b[A"
     ]
    },
    {
     "name": "stdout",
     "output_type": "stream",
     "text": [
      "[pred] to the character of the sutures of the infant skull, which are relatively smooth and untutuous in some manner. Unlike the skull,\n",
      "[true] to the character of the sutures of the skull which, like those of the infant skull, are relatively smooth and untortuous. In fact\n",
      "\n",
      "\n",
      "\n",
      "[pred] individual from the Southern Hemisphere, to win the Winter Olympics gold medal, and was also part of the short track relay team which won Australia'\n",
      "[true] individual from the Southern Hemisphere, to win a Winter Olympic gold medal and was also part of the short track relay team that won Australia'\n",
      "\n",
      "\n",
      "\n",
      "[pred] the same rights as heterosexuals, and 9% agreed that they should be protected from discrimination. Another 15%, gay workers did not answer for exp\n",
      "[true] the same rights as straight people, while 15% disagreed. Additionally, 69% agreed that they should be protected from workplace discrimination. 13% of H\n",
      "{'eval_nq_loss': 0.7669134736061096, 'eval_nq_pred_num_tokens': 31.0, 'eval_nq_true_num_tokens': 32.0, 'eval_nq_token_set_precision': 0.7425079952360876, 'eval_nq_token_set_recall': 0.7545107896312173, 'eval_nq_token_set_f1': 0.7473355944638373, 'eval_nq_n_ngrams_match_1': 17.99, 'eval_nq_n_ngrams_match_2': 11.532, 'eval_nq_n_ngrams_match_3': 8.274, 'eval_nq_num_true_words': 24.368, 'eval_nq_num_pred_words': 24.37, 'eval_nq_bleu_score': 44.55642564533198, 'eval_nq_meteor_score': 0.6974447475198663, 'eval_nq_rouge_score': 0.7431525903898765, 'eval_nq_exact_match': 0.042, 'eval_nq_emb_cos_sim': 0.9489374160766602, 'eval_nq_runtime': 135.8215, 'eval_nq_samples_per_second': 3.681, 'eval_nq_steps_per_second': 0.029, 'num_steps': 30, 'feedback': False}\n"
     ]
    },
    {
     "name": "stderr",
     "output_type": "stream",
     "text": [
      "\n",
      "generating from val:   0%|                                                                                                              | 0/4 [00:00<?, ?it/s]\u001b[A\n",
      "generating from val:  25%|█████████████████████████▌                                                                            | 1/4 [00:21<01:05, 21.87s/it]\u001b[A\n",
      "generating from val:  50%|███████████████████████████████████████████████████                                                   | 2/4 [00:43<00:42, 21.47s/it]\u001b[A\n",
      "generating from val:  75%|████████████████████████████████████████████████████████████████████████████▌                         | 3/4 [01:04<00:21, 21.33s/it]\u001b[A\n",
      "generating from val: 100%|██████████████████████████████████████████████████████████████████████████████████████████████████████| 4/4 [01:24<00:00, 21.00s/it]\u001b[A\n",
      "                                                                                                                                                              \u001b[A"
     ]
    },
    {
     "name": "stdout",
     "output_type": "stream",
     "text": [
      "[pred] to the character of the sutures of the skull, which, like those of the infant skull, are relatively smooth and untornuous. However\n",
      "[true] to the character of the sutures of the skull which, like those of the infant skull, are relatively smooth and untortuous. In fact\n",
      "\n",
      "\n",
      "\n",
      "[pred] individual from the Southern Hemisphere, to win a Winter Olympic gold medal and was also part of the short track relay team that won Australia'\n",
      "[true] individual from the Southern Hemisphere, to win a Winter Olympic gold medal and was also part of the short track relay team that won Australia'\n",
      "\n",
      "\n",
      "\n",
      "[pred] the same rights as straight people, while 15% disagreed. Additionally, 13% agreed that they should be protected from workplace discrimination. 69% of H\n",
      "[true] the same rights as straight people, while 15% disagreed. Additionally, 69% agreed that they should be protected from workplace discrimination. 13% of H\n"
     ]
    },
    {
     "name": "stderr",
     "output_type": "stream",
     "text": [
      "\n",
      "generating from val:   0%|                                                                                                              | 0/4 [00:00<?, ?it/s]\u001b[A\n",
      "generating from val:  25%|█████████████████████████▌                                                                            | 1/4 [00:21<01:05, 21.99s/it]\u001b[A\n",
      "generating from val:  50%|███████████████████████████████████████████████████                                                   | 2/4 [00:43<00:43, 21.53s/it]\u001b[A\n",
      "generating from val:  75%|████████████████████████████████████████████████████████████████████████████▌                         | 3/4 [01:04<00:21, 21.37s/it]\u001b[A\n",
      "generating from val: 100%|██████████████████████████████████████████████████████████████████████████████████████████████████████| 4/4 [01:25<00:00, 21.13s/it]\u001b[A\n",
      "                                                                                                                                                              \u001b[A"
     ]
    },
    {
     "name": "stdout",
     "output_type": "stream",
     "text": [
      "[pred] to the character of the sutures of the skull, which, like those of the infant skull, are relatively smooth and untornuous. However\n",
      "[true] to the character of the sutures of the skull which, like those of the infant skull, are relatively smooth and untortuous. In fact\n",
      "\n",
      "\n",
      "\n",
      "[pred] individual from the Southern Hemisphere, to win a Winter Olympic gold medal and was also part of the short track relay team that won Australia'\n",
      "[true] individual from the Southern Hemisphere, to win a Winter Olympic gold medal and was also part of the short track relay team that won Australia'\n",
      "\n",
      "\n",
      "\n",
      "[pred] the same rights as straight people, while 15% disagreed. Additionally, 13% agreed that they should be protected from workplace discrimination. 69% of H\n",
      "[true] the same rights as straight people, while 15% disagreed. Additionally, 69% agreed that they should be protected from workplace discrimination. 13% of H\n",
      "{'eval_nq_loss': 0.6404249668121338, 'eval_nq_pred_num_tokens': 31.0, 'eval_nq_true_num_tokens': 32.0, 'eval_nq_token_set_precision': 0.946755796528042, 'eval_nq_token_set_recall': 0.9510227724703473, 'eval_nq_token_set_f1': 0.9486270197210274, 'eval_nq_n_ngrams_match_1': 23.032, 'eval_nq_n_ngrams_match_2': 19.98, 'eval_nq_n_ngrams_match_3': 17.848, 'eval_nq_num_true_words': 24.368, 'eval_nq_num_pred_words': 24.354, 'eval_nq_bleu_score': 83.59151077611043, 'eval_nq_meteor_score': 0.9401225156341961, 'eval_nq_rouge_score': 0.9500825242484792, 'eval_nq_exact_match': 0.524, 'eval_nq_emb_cos_sim': 0.9897230863571167, 'eval_nq_runtime': 176.2453, 'eval_nq_samples_per_second': 2.837, 'eval_nq_steps_per_second': 0.023}\n"
     ]
    },
    {
     "name": "stderr",
     "output_type": "stream",
     "text": [
      "\n",
      "generating from val:   0%|                                                                                                              | 0/4 [00:00<?, ?it/s]\u001b[A\n",
      "generating from val:  25%|█████████████████████████▌                                                                            | 1/4 [00:22<01:07, 22.36s/it]\u001b[A\n",
      "generating from val:  50%|███████████████████████████████████████████████████                                                   | 2/4 [00:43<00:43, 21.72s/it]\u001b[A\n",
      "generating from val:  75%|████████████████████████████████████████████████████████████████████████████▌                         | 3/4 [01:05<00:21, 21.62s/it]\u001b[A\n",
      "generating from val: 100%|██████████████████████████████████████████████████████████████████████████████████████████████████████| 4/4 [01:25<00:00, 21.14s/it]\u001b[A\n",
      "                                                                                                                                                              \u001b[A"
     ]
    },
    {
     "name": "stdout",
     "output_type": "stream",
     "text": [
      "[pred] to the character of the sutures of the infant skull, which are relatively smooth and untutuous in some manner. Unlike the skull,\n",
      "[true] to the character of the sutures of the skull which, like those of the infant skull, are relatively smooth and untortuous. In fact\n",
      "\n",
      "\n",
      "\n",
      "[pred] individual from the Southern Hemisphere, to win the Winter Olympics gold medal, and was also part of the short track relay team which won Australia'\n",
      "[true] individual from the Southern Hemisphere, to win a Winter Olympic gold medal and was also part of the short track relay team that won Australia'\n",
      "\n",
      "\n",
      "\n",
      "[pred] the same rights as heterosexuals, and 9% agreed that they should be protected from discrimination. Another 15%, gay workers did not answer for exp\n",
      "[true] the same rights as straight people, while 15% disagreed. Additionally, 69% agreed that they should be protected from workplace discrimination. 13% of H\n"
     ]
    },
    {
     "name": "stderr",
     "output_type": "stream",
     "text": [
      "\n",
      "generating from val:   0%|                                                                                                                                 | 0/4 [00:00<?, ?it/s]\u001b[A\n",
      "generating from val:  25%|██████████████████████████████▎                                                                                          | 1/4 [00:21<01:05, 21.93s/it]\u001b[A\n",
      "generating from val:  50%|████████████████████████████████████████████████████████████▌                                                            | 2/4 [00:43<00:43, 21.62s/it]\u001b[A\n",
      "generating from val:  75%|██████████████████████████████████████████████████████████████████████████████████████████▊                              | 3/4 [01:04<00:21, 21.49s/it]\u001b[A\n",
      "generating from val: 100%|█████████████████████████████████████████████████████████████████████████████████████████████████████████████████████████| 4/4 [01:25<00:00, 21.05s/it]\u001b[A\n",
      " 86%|████████████████████████████████████████████████████████████████████████████████████████████████████████▌                 | 6/7 [16:55<03:55, 235.21s/it]                   \u001b[A"
     ]
    },
    {
     "name": "stdout",
     "output_type": "stream",
     "text": [
      "[pred] to the character of the sutures of the infant skull, which are relatively smooth and untutuous in some manner. Unlike the skull,\n",
      "[true] to the character of the sutures of the skull which, like those of the infant skull, are relatively smooth and untortuous. In fact\n",
      "\n",
      "\n",
      "\n",
      "[pred] individual from the Southern Hemisphere, to win the Winter Olympics gold medal, and was also part of the short track relay team which won Australia'\n",
      "[true] individual from the Southern Hemisphere, to win a Winter Olympic gold medal and was also part of the short track relay team that won Australia'\n",
      "\n",
      "\n",
      "\n",
      "[pred] the same rights as heterosexuals, and 9% agreed that they should be protected from discrimination. Another 15%, gay workers did not answer for exp\n",
      "[true] the same rights as straight people, while 15% disagreed. Additionally, 69% agreed that they should be protected from workplace discrimination. 13% of H\n",
      "{'eval_nq_loss': 0.7669134736061096, 'eval_nq_pred_num_tokens': 31.0, 'eval_nq_true_num_tokens': 32.0, 'eval_nq_token_set_precision': 0.7425036662317587, 'eval_nq_token_set_recall': 0.7545107896312173, 'eval_nq_token_set_f1': 0.7473333796244133, 'eval_nq_n_ngrams_match_1': 17.99, 'eval_nq_n_ngrams_match_2': 11.534, 'eval_nq_n_ngrams_match_3': 8.276, 'eval_nq_num_true_words': 24.368, 'eval_nq_num_pred_words': 24.37, 'eval_nq_bleu_score': 44.55859405642823, 'eval_nq_meteor_score': 0.6973015728855815, 'eval_nq_rouge_score': 0.7431047860227129, 'eval_nq_exact_match': 0.042, 'eval_nq_emb_cos_sim': 0.9494792222976685, 'eval_nq_runtime': 177.2243, 'eval_nq_samples_per_second': 2.821, 'eval_nq_steps_per_second': 0.023, 'num_steps': 40, 'feedback': False}\n"
     ]
    },
    {
     "name": "stderr",
     "output_type": "stream",
     "text": [
      "\n",
      "generating from val:   0%|                                                                                                                                 | 0/4 [00:00<?, ?it/s]\u001b[A\n",
      "generating from val:  25%|██████████████████████████████▎                                                                                          | 1/4 [00:26<01:20, 26.94s/it]\u001b[A\n",
      "generating from val:  50%|████████████████████████████████████████████████████████████▌                                                            | 2/4 [00:53<00:53, 26.68s/it]\u001b[A\n",
      "generating from val:  75%|██████████████████████████████████████████████████████████████████████████████████████████▊                              | 3/4 [01:20<00:26, 26.74s/it]\u001b[A\n",
      "generating from val: 100%|█████████████████████████████████████████████████████████████████████████████████████████████████████████████████████████| 4/4 [01:45<00:00, 26.22s/it]\u001b[A\n",
      "                                                                                                                                                                                 \u001b[A"
     ]
    },
    {
     "name": "stdout",
     "output_type": "stream",
     "text": [
      "[pred] to the character of the sutures of the skull, which, like those of the infant skull, are relatively smooth and untornuous. However\n",
      "[true] to the character of the sutures of the skull which, like those of the infant skull, are relatively smooth and untortuous. In fact\n",
      "\n",
      "\n",
      "\n",
      "[pred] individual from the Southern Hemisphere, to win a Winter Olympic gold medal and was also part of the short track relay team that won Australia'\n",
      "[true] individual from the Southern Hemisphere, to win a Winter Olympic gold medal and was also part of the short track relay team that won Australia'\n",
      "\n",
      "\n",
      "\n",
      "[pred] the same rights as straight people, while 15% disagreed. Additionally, 13% agreed that they should be protected from workplace discrimination. 69% of H\n",
      "[true] the same rights as straight people, while 15% disagreed. Additionally, 69% agreed that they should be protected from workplace discrimination. 13% of H\n"
     ]
    },
    {
     "name": "stderr",
     "output_type": "stream",
     "text": [
      "\n",
      "generating from val:   0%|                                                                                                                                 | 0/4 [00:00<?, ?it/s]\u001b[A\n",
      "generating from val:  25%|██████████████████████████████▎                                                                                          | 1/4 [00:27<01:21, 27.07s/it]\u001b[A\n",
      "generating from val:  50%|████████████████████████████████████████████████████████████▌                                                            | 2/4 [00:53<00:53, 26.74s/it]\u001b[A\n",
      "generating from val:  75%|██████████████████████████████████████████████████████████████████████████████████████████▊                              | 3/4 [01:20<00:26, 26.73s/it]\u001b[A\n",
      "generating from val: 100%|█████████████████████████████████████████████████████████████████████████████████████████████████████████████████████████| 4/4 [01:45<00:00, 26.08s/it]\u001b[A\n",
      "                                                                                                                                                                                 \u001b[A"
     ]
    },
    {
     "name": "stdout",
     "output_type": "stream",
     "text": [
      "[pred] to the character of the sutures of the skull, which, like those of the infant skull, are relatively smooth and untornuous. However\n",
      "[true] to the character of the sutures of the skull which, like those of the infant skull, are relatively smooth and untortuous. In fact\n",
      "\n",
      "\n",
      "\n",
      "[pred] individual from the Southern Hemisphere, to win a Winter Olympic gold medal and was also part of the short track relay team that won Australia'\n",
      "[true] individual from the Southern Hemisphere, to win a Winter Olympic gold medal and was also part of the short track relay team that won Australia'\n",
      "\n",
      "\n",
      "\n",
      "[pred] the same rights as straight people, while 15% disagreed. Additionally, 13% agreed that they should be protected from workplace discrimination. 69% of H\n",
      "[true] the same rights as straight people, while 15% disagreed. Additionally, 69% agreed that they should be protected from workplace discrimination. 13% of H\n",
      "{'eval_nq_loss': 0.6404249668121338, 'eval_nq_pred_num_tokens': 31.0, 'eval_nq_true_num_tokens': 32.0, 'eval_nq_token_set_precision': 0.9499728626127982, 'eval_nq_token_set_recall': 0.954769241694228, 'eval_nq_token_set_f1': 0.9521234157667108, 'eval_nq_n_ngrams_match_1': 23.126, 'eval_nq_n_ngrams_match_2': 20.122, 'eval_nq_n_ngrams_match_3': 17.972, 'eval_nq_num_true_words': 24.368, 'eval_nq_num_pred_words': 24.372, 'eval_nq_bleu_score': 84.0702388811113, 'eval_nq_meteor_score': 0.9441879183023066, 'eval_nq_rouge_score': 0.9538123972259933, 'eval_nq_exact_match': 0.524, 'eval_nq_emb_cos_sim': 0.9906384944915771, 'eval_nq_runtime': 217.0828, 'eval_nq_samples_per_second': 2.303, 'eval_nq_steps_per_second': 0.018}\n"
     ]
    },
    {
     "name": "stderr",
     "output_type": "stream",
     "text": [
      "\n",
      "generating from val:   0%|                                                                                                                                 | 0/4 [00:00<?, ?it/s]\u001b[A\n",
      "generating from val:  25%|██████████████████████████████▎                                                                                          | 1/4 [00:27<01:22, 27.42s/it]\u001b[A\n",
      "generating from val:  50%|████████████████████████████████████████████████████████████▌                                                            | 2/4 [00:54<00:54, 27.25s/it]\u001b[A\n",
      "generating from val:  75%|██████████████████████████████████████████████████████████████████████████████████████████▊                              | 3/4 [01:21<00:26, 26.98s/it]\u001b[A\n",
      "generating from val: 100%|█████████████████████████████████████████████████████████████████████████████████████████████████████████████████████████| 4/4 [01:46<00:00, 26.42s/it]\u001b[A\n",
      "                                                                                                                                                                                 \u001b[A"
     ]
    },
    {
     "name": "stdout",
     "output_type": "stream",
     "text": [
      "[pred] to the character of the sutures of the infant skull, which are relatively smooth and untutuous in some manner. Unlike the skull,\n",
      "[true] to the character of the sutures of the skull which, like those of the infant skull, are relatively smooth and untortuous. In fact\n",
      "\n",
      "\n",
      "\n",
      "[pred] individual from the Southern Hemisphere, to win the Winter Olympics gold medal, and was also part of the short track relay team which won Australia'\n",
      "[true] individual from the Southern Hemisphere, to win a Winter Olympic gold medal and was also part of the short track relay team that won Australia'\n",
      "\n",
      "\n",
      "\n",
      "[pred] the same rights as heterosexuals, and 9% agreed that they should be protected from discrimination. Another 15%, gay workers did not answer for exp\n",
      "[true] the same rights as straight people, while 15% disagreed. Additionally, 69% agreed that they should be protected from workplace discrimination. 13% of H\n"
     ]
    },
    {
     "name": "stderr",
     "output_type": "stream",
     "text": [
      "\n",
      "generating from val:   0%|                                                                                                                                 | 0/4 [00:00<?, ?it/s]\u001b[A\n",
      "generating from val:  25%|██████████████████████████████▎                                                                                          | 1/4 [00:27<01:22, 27.34s/it]\u001b[A\n",
      "generating from val:  50%|████████████████████████████████████████████████████████████▌                                                            | 2/4 [00:53<00:53, 26.89s/it]\u001b[A\n",
      "generating from val:  75%|██████████████████████████████████████████████████████████████████████████████████████████▊                              | 3/4 [01:20<00:26, 26.78s/it]\u001b[A\n",
      "generating from val: 100%|█████████████████████████████████████████████████████████████████████████████████████████████████████████████████████████| 4/4 [01:45<00:00, 26.14s/it]\u001b[A\n",
      "100%|██████████████████████████████████████████████████████████████████████████████████████████████████████████████████████████| 7/7 [24:10<00:00, 207.27s/it]                   \u001b[A"
     ]
    },
    {
     "name": "stdout",
     "output_type": "stream",
     "text": [
      "[pred] to the character of the sutures of the infant skull, which are relatively smooth and untutuous in some manner. Unlike the skull,\n",
      "[true] to the character of the sutures of the skull which, like those of the infant skull, are relatively smooth and untortuous. In fact\n",
      "\n",
      "\n",
      "\n",
      "[pred] individual from the Southern Hemisphere, to win the Winter Olympics gold medal, and was also part of the short track relay team which won Australia'\n",
      "[true] individual from the Southern Hemisphere, to win a Winter Olympic gold medal and was also part of the short track relay team that won Australia'\n",
      "\n",
      "\n",
      "\n",
      "[pred] the same rights as heterosexuals, and 9% agreed that they should be protected from discrimination. Another 15%, gay workers did not answer for exp\n",
      "[true] the same rights as straight people, while 15% disagreed. Additionally, 69% agreed that they should be protected from workplace discrimination. 13% of H\n",
      "{'eval_nq_loss': 0.7669134736061096, 'eval_nq_pred_num_tokens': 31.0, 'eval_nq_true_num_tokens': 32.0, 'eval_nq_token_set_precision': 0.7426898134179057, 'eval_nq_token_set_recall': 0.7547012658216935, 'eval_nq_token_set_f1': 0.7475216409754653, 'eval_nq_n_ngrams_match_1': 17.994, 'eval_nq_n_ngrams_match_2': 11.536, 'eval_nq_n_ngrams_match_3': 8.278, 'eval_nq_num_true_words': 24.368, 'eval_nq_num_pred_words': 24.37, 'eval_nq_bleu_score': 44.56567581171974, 'eval_nq_meteor_score': 0.6974989449295993, 'eval_nq_rouge_score': 0.7432733922322925, 'eval_nq_exact_match': 0.042, 'eval_nq_emb_cos_sim': 0.9497928023338318, 'eval_nq_runtime': 218.789, 'eval_nq_samples_per_second': 2.285, 'eval_nq_steps_per_second': 0.018, 'num_steps': 50, 'feedback': False}\n"
     ]
    },
    {
     "name": "stderr",
     "output_type": "stream",
     "text": [
      "\n"
     ]
    }
   ],
   "source": [
    "from tqdm import tqdm\n",
    "data = []\n",
    "for num_steps in tqdm([1, 5, 10, 20, 30, 40, 50]):\n",
    "    corr_trainer.return_best_hypothesis = False\n",
    "    corr_trainer.args.per_device_eval_batch_size = 128\n",
    "    corr_trainer.gen_kwargs = {\n",
    "        \"early_stopping\": False,\n",
    "        \"num_beams\": 1,\n",
    "        \"do_sample\": False,\n",
    "        \"no_repeat_ngram_size\": 0,\n",
    "    }\n",
    "    corr_trainer.num_gen_recursive_steps = num_steps\n",
    "    metrics = corr_trainer.evaluate(\n",
    "        eval_dataset=corr_trainer.eval_dataset[\"nq\"].select(range(500)),\n",
    "        metric_key_prefix=\"eval_nq\",\n",
    "    )\n",
    "    metrics[\"num_steps\"] = num_steps\n",
    "    metrics[\"feedback\"] = True\n",
    "    print(metrics)\n",
    "    data.append(metrics)\n",
    "\n",
    "    corr_trainer__no_feedback.return_best_hypothesis = False\n",
    "    corr_trainer__no_feedback.args.per_device_eval_batch_size = 128\n",
    "    corr_trainer__no_feedback.gen_kwargs = {\n",
    "        \"early_stopping\": False,\n",
    "        \"num_beams\": 1,\n",
    "        \"do_sample\": False,\n",
    "        \"no_repeat_ngram_size\": 0,\n",
    "    }\n",
    "    corr_trainer__no_feedback.num_gen_recursive_steps = num_steps\n",
    "    metrics = corr_trainer__no_feedback.evaluate(\n",
    "        eval_dataset=corr_trainer.eval_dataset[\"nq\"].select(range(500)),\n",
    "        metric_key_prefix=\"eval_nq\",\n",
    "    )\n",
    "    metrics[\"num_steps\"] = num_steps\n",
    "    metrics[\"feedback\"] = False\n",
    "    print(metrics)\n",
    "    data.append(metrics)"
   ]
  },
  {
   "cell_type": "code",
   "execution_count": 39,
   "id": "3f8d72cf-8fe0-431e-95c4-20751669b429",
   "metadata": {},
   "outputs": [
    {
     "data": {
      "text/html": [
       "\n",
       "    <div>\n",
       "      \n",
       "      <progress value='3' max='3' style='width:300px; height:20px; vertical-align: middle;'></progress>\n",
       "      [3/3 00:00]\n",
       "    </div>\n",
       "    "
      ],
      "text/plain": [
       "<IPython.core.display.HTML object>"
      ]
     },
     "metadata": {},
     "output_type": "display_data"
    },
    {
     "name": "stderr",
     "output_type": "stream",
     "text": [
      "                                                                                                                                                                                 \r"
     ]
    },
    {
     "name": "stdout",
     "output_type": "stream",
     "text": [
      "[pred] to the character of the skull, which are relatively smooth and untutuous in the case of infant sutures. Unlike the sutures,\n",
      "[true] to the character of the sutures of the skull which, like those of the infant skull, are relatively smooth and untortuous. In fact\n",
      "\n",
      "\n",
      "\n",
      "[pred] individual from the Southern Hemisphere to win the Winter Olympic relay gold medal, and was also part of the Australian Short Track team, which won gold\n",
      "[true] individual from the Southern Hemisphere, to win a Winter Olympic gold medal and was also part of the short track relay team that won Australia'\n",
      "\n",
      "\n",
      "\n",
      "[pred] the same rights as men, and 75% agreed that they should be protected from discrimination. Among the other 15%, gay workers are no longer exp\n",
      "[true] the same rights as straight people, while 15% disagreed. Additionally, 69% agreed that they should be protected from workplace discrimination. 13% of H\n",
      "{'eval_nq_loss': 1.0522613525390625, 'eval_nq_accuracy': 0.7386067708333334, 'eval_nq_pred_num_tokens': 31.0, 'eval_nq_true_num_tokens': 32.0, 'eval_nq_token_set_precision': 0.6399202960877239, 'eval_nq_token_set_recall': 0.6648322909455356, 'eval_nq_token_set_f1': 0.6506142984045751, 'eval_nq_n_ngrams_match_1': 15.630208333333334, 'eval_nq_n_ngrams_match_2': 8.4921875, 'eval_nq_n_ngrams_match_3': 5.427083333333333, 'eval_nq_num_true_words': 24.231770833333332, 'eval_nq_num_pred_words': 24.223958333333332, 'eval_nq_bleu_score': 31.876985502984844, 'eval_nq_meteor_score': 0.5792206976897826, 'eval_nq_rouge_score': 0.6414878805144706, 'eval_nq_exact_match': 0.015625, 'eval_nq_emb_cos_sim': 0.9062262773513794, 'eval_nq_perplexity': 2.8641205867926014, 'eval_nq_runtime': 4.5508, 'eval_nq_samples_per_second': 109.87, 'eval_nq_steps_per_second': 0.879, 'num_steps': 0, 'feedback': True}\n"
     ]
    },
    {
     "data": {
      "text/html": [
       "\n",
       "    <div>\n",
       "      \n",
       "      <progress value='3' max='3' style='width:300px; height:20px; vertical-align: middle;'></progress>\n",
       "      [3/3 00:00]\n",
       "    </div>\n",
       "    "
      ],
      "text/plain": [
       "<IPython.core.display.HTML object>"
      ]
     },
     "metadata": {},
     "output_type": "display_data"
    },
    {
     "name": "stderr",
     "output_type": "stream",
     "text": [
      "                                                                                                                                                                                 \r"
     ]
    },
    {
     "name": "stdout",
     "output_type": "stream",
     "text": [
      "[pred] to the character of the skull, which are relatively smooth and untutuous in the case of infant sutures. Unlike the sutures,\n",
      "[true] to the character of the sutures of the skull which, like those of the infant skull, are relatively smooth and untortuous. In fact\n",
      "\n",
      "\n",
      "\n",
      "[pred] individual from the Southern Hemisphere to win the Winter Olympic relay gold medal, and was also part of the Australian Short Track team, which won gold\n",
      "[true] individual from the Southern Hemisphere, to win a Winter Olympic gold medal and was also part of the short track relay team that won Australia'\n",
      "\n",
      "\n",
      "\n",
      "[pred] the same rights as men, and 75% agreed that they should be protected from discrimination. Among the other 15%, gay workers are no longer exp\n",
      "[true] the same rights as straight people, while 15% disagreed. Additionally, 69% agreed that they should be protected from workplace discrimination. 13% of H\n",
      "{'eval_nq_loss': 1.0522613525390625, 'eval_nq_accuracy': 0.7386067708333334, 'eval_nq_pred_num_tokens': 31.0, 'eval_nq_true_num_tokens': 32.0, 'eval_nq_token_set_precision': 0.6399202960877239, 'eval_nq_token_set_recall': 0.6648322909455356, 'eval_nq_token_set_f1': 0.6506142984045751, 'eval_nq_n_ngrams_match_1': 15.630208333333334, 'eval_nq_n_ngrams_match_2': 8.4921875, 'eval_nq_n_ngrams_match_3': 5.427083333333333, 'eval_nq_num_true_words': 24.231770833333332, 'eval_nq_num_pred_words': 24.223958333333332, 'eval_nq_bleu_score': 31.876985502984844, 'eval_nq_meteor_score': 0.5792206976897826, 'eval_nq_rouge_score': 0.6414878805144706, 'eval_nq_exact_match': 0.015625, 'eval_nq_emb_cos_sim': 0.9062262773513794, 'eval_nq_perplexity': 2.8641205867926014, 'eval_nq_runtime': 4.2465, 'eval_nq_samples_per_second': 117.743, 'eval_nq_steps_per_second': 0.942, 'num_steps': 0, 'feedback': False}\n"
     ]
    }
   ],
   "source": [
    "# add step 0 results\n",
    "\n",
    "corr_trainer.inversion_trainer.args.per_device_eval_batch_size = 128\n",
    "corr_trainer.gen_kwargs = {\n",
    "    \"early_stopping\": False,\n",
    "    \"num_beams\": 1,\n",
    "    \"do_sample\": False,\n",
    "    \"no_repeat_ngram_size\": 0,\n",
    "}\n",
    "corr_trainer.num_gen_recursive_steps = 0\n",
    "metrics = corr_trainer.inversion_trainer.evaluate(\n",
    "    eval_dataset=corr_trainer.eval_dataset[\"nq\"].select(range(500)),\n",
    "    metric_key_prefix=\"eval_nq\",\n",
    ")\n",
    "metrics[\"num_steps\"] = 0\n",
    "metrics[\"feedback\"] = True\n",
    "print(metrics)\n",
    "data.append(metrics)\n",
    "\n",
    "corr_trainer__no_feedback.inversion_trainer.args.per_device_eval_batch_size = 128\n",
    "corr_trainer__no_feedback.inversion_trainer.gen_kwargs = {\n",
    "    \"early_stopping\": False,\n",
    "    \"num_beams\": 1,\n",
    "    \"do_sample\": False,\n",
    "    \"no_repeat_ngram_size\": 0,\n",
    "}\n",
    "corr_trainer__no_feedback.num_gen_recursive_steps = 0\n",
    "metrics = corr_trainer__no_feedback.inversion_trainer.evaluate(\n",
    "    eval_dataset=corr_trainer.eval_dataset[\"nq\"].select(range(500)),\n",
    "    metric_key_prefix=\"eval_nq\",\n",
    ")\n",
    "metrics[\"num_steps\"] = 0\n",
    "metrics[\"feedback\"] = False\n",
    "print(metrics)\n",
    "data.append(metrics)"
   ]
  },
  {
   "cell_type": "code",
   "execution_count": 40,
   "id": "19174c3c-572a-4cc4-87d2-f9828c6ab20a",
   "metadata": {},
   "outputs": [
    {
     "data": {
      "image/png": "[encoded data removed]",
      "text/plain": [
       "<Figure size 640x480 with 1 Axes>"
      ]
     },
     "metadata": {},
     "output_type": "display_data"
    }
   ],
   "source": [
    "import matplotlib.pyplot as plt\n",
    "\n",
    "import pandas as pd\n",
    "import seaborn as sns\n",
    "\n",
    "sns.set(style=\"white\", font_scale=1.8)\n",
    "\n",
    "FEEDBACK_RENAME = {\n",
    "    False: 'No feedback',\n",
    "    True: 'Feedback'\n",
    "}\n",
    "df = pd.DataFrame(data)\n",
    "df[\"feedback\"] = df[\"feedback\"].apply(FEEDBACK_RENAME.get)\n",
    "df.to_parquet(\"nq__sl32__feedback.parquet\")\n",
    "# df.groupby(\"feedback\").plot(x=\"num_steps\", y=\"eval_nq_exact_match\")#, hue=\"feedback\", label=\"feedback\")\n",
    "\n",
    "ax = sns.lineplot(data=df, x=\"num_steps\", y=\"eval_nq_bleu_score\", hue=\"feedback\", style=\"feedback\", lw=4)\n",
    "ax.set_ylim([0, 90])\n",
    "ax.set_xlabel('Iteration (t)')\n",
    "ax.set_ylabel('BLEU')\n",
    "# ax.set_title('Reconstruction performance with and without feedback')\n",
    "ax.legend_.set_title(None)\n",
    "plt.tight_layout()\n",
    "plt.savefig(\"nq__sl32__feedback.pdf\", dpi=300)\n",
    "\n"
   ]
  },
  {
   "cell_type": "code",
   "execution_count": 43,
   "id": "360662cb-6c25-4c91-8be4-ecc519353e85",
   "metadata": {},
   "outputs": [
    {
     "data": {
      "text/html": [
       "<div>\n",
       "<style scoped>\n",
       "    .dataframe tbody tr th:only-of-type {\n",
       "        vertical-align: middle;\n",
       "    }\n",
       "\n",
       "    .dataframe tbody tr th {\n",
       "        vertical-align: top;\n",
       "    }\n",
       "\n",
       "    .dataframe thead th {\n",
       "        text-align: right;\n",
       "    }\n",
       "</style>\n",
       "<table border=\"1\" class=\"dataframe\">\n",
       "  <thead>\n",
       "    <tr style=\"text-align: right;\">\n",
       "      <th></th>\n",
       "      <th>num_steps</th>\n",
       "      <th>eval_nq_exact_match</th>\n",
       "      <th>eval_nq_bleu_score</th>\n",
       "      <th>feedback</th>\n",
       "    </tr>\n",
       "  </thead>\n",
       "  <tbody>\n",
       "    <tr>\n",
       "      <th>14</th>\n",
       "      <td>0</td>\n",
       "      <td>0.015625</td>\n",
       "      <td>31.876986</td>\n",
       "      <td>Feedback</td>\n",
       "    </tr>\n",
       "    <tr>\n",
       "      <th>0</th>\n",
       "      <td>1</td>\n",
       "      <td>0.096000</td>\n",
       "      <td>50.275984</td>\n",
       "      <td>Feedback</td>\n",
       "    </tr>\n",
       "    <tr>\n",
       "      <th>2</th>\n",
       "      <td>5</td>\n",
       "      <td>0.414000</td>\n",
       "      <td>75.412539</td>\n",
       "      <td>Feedback</td>\n",
       "    </tr>\n",
       "    <tr>\n",
       "      <th>4</th>\n",
       "      <td>10</td>\n",
       "      <td>0.488000</td>\n",
       "      <td>80.372476</td>\n",
       "      <td>Feedback</td>\n",
       "    </tr>\n",
       "    <tr>\n",
       "      <th>6</th>\n",
       "      <td>20</td>\n",
       "      <td>0.518000</td>\n",
       "      <td>82.530314</td>\n",
       "      <td>Feedback</td>\n",
       "    </tr>\n",
       "    <tr>\n",
       "      <th>8</th>\n",
       "      <td>30</td>\n",
       "      <td>0.522000</td>\n",
       "      <td>83.423048</td>\n",
       "      <td>Feedback</td>\n",
       "    </tr>\n",
       "    <tr>\n",
       "      <th>10</th>\n",
       "      <td>40</td>\n",
       "      <td>0.524000</td>\n",
       "      <td>83.591511</td>\n",
       "      <td>Feedback</td>\n",
       "    </tr>\n",
       "    <tr>\n",
       "      <th>12</th>\n",
       "      <td>50</td>\n",
       "      <td>0.524000</td>\n",
       "      <td>84.070239</td>\n",
       "      <td>Feedback</td>\n",
       "    </tr>\n",
       "    <tr>\n",
       "      <th>15</th>\n",
       "      <td>0</td>\n",
       "      <td>0.015625</td>\n",
       "      <td>31.876986</td>\n",
       "      <td>No feedback</td>\n",
       "    </tr>\n",
       "    <tr>\n",
       "      <th>1</th>\n",
       "      <td>1</td>\n",
       "      <td>0.038000</td>\n",
       "      <td>41.895374</td>\n",
       "      <td>No feedback</td>\n",
       "    </tr>\n",
       "    <tr>\n",
       "      <th>3</th>\n",
       "      <td>5</td>\n",
       "      <td>0.042000</td>\n",
       "      <td>44.464700</td>\n",
       "      <td>No feedback</td>\n",
       "    </tr>\n",
       "    <tr>\n",
       "      <th>5</th>\n",
       "      <td>10</td>\n",
       "      <td>0.042000</td>\n",
       "      <td>44.574721</td>\n",
       "      <td>No feedback</td>\n",
       "    </tr>\n",
       "    <tr>\n",
       "      <th>7</th>\n",
       "      <td>20</td>\n",
       "      <td>0.042000</td>\n",
       "      <td>44.564195</td>\n",
       "      <td>No feedback</td>\n",
       "    </tr>\n",
       "    <tr>\n",
       "      <th>9</th>\n",
       "      <td>30</td>\n",
       "      <td>0.042000</td>\n",
       "      <td>44.556426</td>\n",
       "      <td>No feedback</td>\n",
       "    </tr>\n",
       "    <tr>\n",
       "      <th>11</th>\n",
       "      <td>40</td>\n",
       "      <td>0.042000</td>\n",
       "      <td>44.558594</td>\n",
       "      <td>No feedback</td>\n",
       "    </tr>\n",
       "    <tr>\n",
       "      <th>13</th>\n",
       "      <td>50</td>\n",
       "      <td>0.042000</td>\n",
       "      <td>44.565676</td>\n",
       "      <td>No feedback</td>\n",
       "    </tr>\n",
       "  </tbody>\n",
       "</table>\n",
       "</div>"
      ],
      "text/plain": [
       "    num_steps  eval_nq_exact_match  eval_nq_bleu_score     feedback\n",
       "14          0             0.015625           31.876986     Feedback\n",
       "0           1             0.096000           50.275984     Feedback\n",
       "2           5             0.414000           75.412539     Feedback\n",
       "4          10             0.488000           80.372476     Feedback\n",
       "6          20             0.518000           82.530314     Feedback\n",
       "8          30             0.522000           83.423048     Feedback\n",
       "10         40             0.524000           83.591511     Feedback\n",
       "12         50             0.524000           84.070239     Feedback\n",
       "15          0             0.015625           31.876986  No feedback\n",
       "1           1             0.038000           41.895374  No feedback\n",
       "3           5             0.042000           44.464700  No feedback\n",
       "5          10             0.042000           44.574721  No feedback\n",
       "7          20             0.042000           44.564195  No feedback\n",
       "9          30             0.042000           44.556426  No feedback\n",
       "11         40             0.042000           44.558594  No feedback\n",
       "13         50             0.042000           44.565676  No feedback"
      ]
     },
     "execution_count": 43,
     "metadata": {},
     "output_type": "execute_result"
    }
   ],
   "source": [
    "df.sort_values(by=[\"feedback\", \"num_steps\"])[[\"num_steps\", \"eval_nq_exact_match\", \"eval_nq_bleu_score\", \"feedback\"]]"
   ]
  },
  {
   "cell_type": "code",
   "execution_count": 44,
   "id": "86be3612-c173-4597-8cf5-910643040e3d",
   "metadata": {},
   "outputs": [
    {
     "data": {
      "text/plain": [
       "['__annotations__',\n",
       " '__class__',\n",
       " '__delattr__',\n",
       " '__dict__',\n",
       " '__dir__',\n",
       " '__doc__',\n",
       " '__eq__',\n",
       " '__format__',\n",
       " '__ge__',\n",
       " '__getattribute__',\n",
       " '__gt__',\n",
       " '__hash__',\n",
       " '__init__',\n",
       " '__init_subclass__',\n",
       " '__le__',\n",
       " '__lt__',\n",
       " '__module__',\n",
       " '__ne__',\n",
       " '__new__',\n",
       " '__reduce__',\n",
       " '__reduce_ex__',\n",
       " '__repr__',\n",
       " '__setattr__',\n",
       " '__sizeof__',\n",
       " '__str__',\n",
       " '__subclasshook__',\n",
       " '__weakref__',\n",
       " '_add_sm_patterns_to_gitignore',\n",
       " '_compute_data_metrics',\n",
       " '_gather_and_numpify',\n",
       " '_generate_with_beam',\n",
       " '_get_collator_with_removed_columns',\n",
       " '_get_decoded_sequences',\n",
       " '_get_eval_sampler',\n",
       " '_get_hypothesis_uncached',\n",
       " '_get_learning_rate',\n",
       " '_get_output_dir',\n",
       " '_get_train_sampler',\n",
       " '_hp_search_setup',\n",
       " '_inner_training_loop',\n",
       " '_issue_warnings_after_load',\n",
       " '_load_best_model',\n",
       " '_load_from_checkpoint',\n",
       " '_load_optimizer_and_scheduler',\n",
       " '_load_rng_state',\n",
       " '_log_preds_table',\n",
       " '_loggers_initialized',\n",
       " '_maybe_log_save_evaluate',\n",
       " '_memory_tracker',\n",
       " '_move_model_to_device',\n",
       " '_nested_gather',\n",
       " '_pad_across_processes',\n",
       " '_precompute_hypothesis_and_embedding',\n",
       " '_prepare_input',\n",
       " '_prepare_inputs',\n",
       " '_preprocess_dataset',\n",
       " '_push_from_checkpoint',\n",
       " '_remap_state_dict',\n",
       " '_remove_unused_columns',\n",
       " '_report_to_hp_search',\n",
       " '_rotate_checkpoints',\n",
       " '_save',\n",
       " '_save_checkpoint',\n",
       " '_save_tpu',\n",
       " '_set_signature_columns_if_needed',\n",
       " '_signature_columns',\n",
       " '_sorted_checkpoints',\n",
       " '_text_comparison_metrics',\n",
       " '_train_batch_size',\n",
       " '_tune_save_checkpoint',\n",
       " '_wrap_model',\n",
       " 'add_callback',\n",
       " 'amp_dtype',\n",
       " 'args',\n",
       " 'autocast_smart_context_manager',\n",
       " 'call_embedding_model',\n",
       " 'call_model_init',\n",
       " 'callback_handler',\n",
       " 'can_return_loss',\n",
       " 'compute_loss',\n",
       " 'compute_loss_context_manager',\n",
       " 'compute_metrics',\n",
       " 'compute_metrics_func',\n",
       " 'control',\n",
       " 'create_model_card',\n",
       " 'create_optimizer',\n",
       " 'create_optimizer_and_scheduler',\n",
       " 'create_scheduler',\n",
       " 'current_flos',\n",
       " 'data_collator',\n",
       " 'deepspeed',\n",
       " 'do_grad_scaling',\n",
       " 'embed_generated_hypothesis',\n",
       " 'embedder_tokenizer',\n",
       " 'eval_dataset',\n",
       " 'eval_generation_metrics',\n",
       " 'evaluate',\n",
       " 'evaluation_loop',\n",
       " 'floating_point_ops',\n",
       " 'fsdp',\n",
       " 'gen_kwargs',\n",
       " 'generate',\n",
       " 'get_eval_dataloader',\n",
       " 'get_frozen_embeddings',\n",
       " 'get_optimizer_cls_and_kwargs',\n",
       " 'get_test_dataloader',\n",
       " 'get_train_dataloader',\n",
       " 'hp_name',\n",
       " 'hp_search_backend',\n",
       " 'hyperparameter_search',\n",
       " 'init_git_repo',\n",
       " 'initial_hypothesis_str',\n",
       " 'inversion_trainer',\n",
       " 'ipex_optimize_model',\n",
       " 'is_corrector_encoder',\n",
       " 'is_in_train',\n",
       " 'is_local_process_zero',\n",
       " 'is_model_parallel',\n",
       " 'is_world_process_zero',\n",
       " 'label_names',\n",
       " 'label_smoother',\n",
       " 'labels_emb',\n",
       " 'log',\n",
       " 'log_metrics',\n",
       " 'lr_scheduler',\n",
       " 'metric_accuracy',\n",
       " 'metric_bertscore',\n",
       " 'metric_bleu',\n",
       " 'metric_meteor',\n",
       " 'metric_rouge',\n",
       " 'metrics_format',\n",
       " 'model',\n",
       " 'model_init',\n",
       " 'model_wrapped',\n",
       " 'num_examples',\n",
       " 'num_gen_recursive_steps',\n",
       " 'optimizer',\n",
       " 'place_model_on_device',\n",
       " 'pop_callback',\n",
       " 'precompute_hypotheses',\n",
       " 'predict',\n",
       " 'prediction_loop',\n",
       " 'prediction_step',\n",
       " 'preds_emb',\n",
       " 'preds_sample_labels_list',\n",
       " 'preds_sample_list',\n",
       " 'preprocess_logits_for_metrics',\n",
       " 'push_to_hub',\n",
       " 'remove_callback',\n",
       " 'return_best_hypothesis',\n",
       " 'sanity_decode',\n",
       " 'save_metrics',\n",
       " 'save_model',\n",
       " 'save_state',\n",
       " 'sequence_beam_width',\n",
       " 'sharded_ddp',\n",
       " 'state',\n",
       " 'store_flos',\n",
       " 'tokenizer',\n",
       " 'torch_jit_model_eval',\n",
       " 'train',\n",
       " 'train_dataset',\n",
       " 'training_step',\n",
       " 'use_apex',\n",
       " 'use_cpu_amp',\n",
       " 'use_cuda_amp',\n",
       " 'use_tune_checkpoints']"
      ]
     },
     "execution_count": 44,
     "metadata": {},
     "output_type": "execute_result"
    }
   ],
   "source": [
    "dir(corr_trainer)"
   ]
  },
  {
   "cell_type": "markdown",
   "id": "ded9451c-863a-43dc-9db6-f408e35eaf82",
   "metadata": {},
   "source": [
    "## Plot cosine similarity vs BLEU score"
   ]
  },
  {
   "cell_type": "code",
   "execution_count": 86,
   "id": "016a1e7d-706b-4248-9afc-05510a5c8c42",
   "metadata": {},
   "outputs": [],
   "source": [
    "import torch\n",
    "\n",
    "labels = torch.tensor(corr_trainer.preds_sample_labels_list)\n",
    "preds = torch.tensor(corr_trainer.preds_sample_list)\n",
    "\n",
    "# fix padding\n",
    "eos_token_id = corr_trainer.embedder_tokenizer.eos_token_id\n",
    "eos_tokens = (\n",
    "    torch.ones(\n",
    "        (len(preds), 1),\n",
    "        dtype=torch.long,\n",
    "        device=preds.device,\n",
    "    )\n",
    "    * eos_token_id\n",
    ")\n",
    "preds = torch.cat((preds[:, 1:], eos_tokens), dim=1)\n",
    "assert labels.shape == preds.shape\n"
   ]
  },
  {
   "cell_type": "code",
   "execution_count": 87,
   "id": "48930880-ba4e-4e46-929b-19096f4073fd",
   "metadata": {},
   "outputs": [],
   "source": [
    "def bleu(t1: torch.Tensor, t2: torch.Tensor) -> float:\n",
    "    s1 = corr_trainer.embedder_tokenizer.decode(t1, skip_special_tokens=True)\n",
    "    s2 = corr_trainer.embedder_tokenizer.decode(t2, skip_special_tokens=True)\n",
    "    result = corr_trainer.metric_bleu.compute(\n",
    "        predictions=[s1], references=[s2]\n",
    "    )\n",
    "    return result[\"score\"]\n",
    "\n",
    "bleus = list(map(lambda t: bleu(*t), zip(labels, preds)))"
   ]
  },
  {
   "cell_type": "code",
   "execution_count": 88,
   "id": "cfd972fd-53ea-410f-b4f7-eb14acac31e2",
   "metadata": {},
   "outputs": [],
   "source": [
    "pad_token_id = corr_trainer.model.encoder_decoder.config.pad_token_id\n",
    "label_embs = corr_trainer.call_embedding_model(\n",
    "    input_ids=labels.to(corr_trainer.args.device),\n",
    "    attention_mask=((labels != pad_token_id)).to(corr_trainer.args.device),\n",
    ")\n",
    "pred_embs = corr_trainer.call_embedding_model(\n",
    "    input_ids=preds.to(corr_trainer.args.device),\n",
    "    attention_mask=((preds != pad_token_id)).to(corr_trainer.args.device),\n",
    ")"
   ]
  },
  {
   "cell_type": "code",
   "execution_count": 89,
   "id": "bca10eb6-9a3d-4c79-8f45-440a40d96622",
   "metadata": {},
   "outputs": [
    {
     "data": {
      "text/plain": [
       "tensor(0.9897, device='cuda:0')"
      ]
     },
     "execution_count": 89,
     "metadata": {},
     "output_type": "execute_result"
    }
   ],
   "source": [
    "sims = torch.nn.CosineSimilarity(dim=1)(label_embs, pred_embs)\n",
    "sims.mean()"
   ]
  },
  {
   "cell_type": "code",
   "execution_count": 99,
   "id": "9b461bf1-1bd5-4c04-a68b-5d5535f312c7",
   "metadata": {},
   "outputs": [],
   "source": [
    "true_text = corr_trainer.embedder_tokenizer.batch_decode(labels, skip_special_tokens=True)\n",
    "pred_text = corr_trainer.embedder_tokenizer.batch_decode(preds, skip_special_tokens=True)"
   ]
  },
  {
   "cell_type": "code",
   "execution_count": 100,
   "id": "f46b818e-677f-4e11-9e6b-42799f2cda5d",
   "metadata": {},
   "outputs": [],
   "source": [
    "sims_data = pd.DataFrame(zip(sims.tolist(), bleus, true_text, pred_text), columns=['sim', 'bleu', 'true_text', 'pred_text'])"
   ]
  },
  {
   "cell_type": "code",
   "execution_count": null,
   "id": "e16fe6c3-9a9c-4a60-ae30-0abdf1d8d9d7",
   "metadata": {},
   "outputs": [],
   "source": [
    "sims_data.to_parquet(\"bleu_vs_cos_sim.parquet\")"
   ]
  },
  {
   "cell_type": "code",
   "execution_count": 129,
   "id": "25ee57d3-aa2c-4511-af70-76c7a0523a56",
   "metadata": {},
   "outputs": [
    {
     "data": {
      "image/png": "[encoded data removed]",
      "text/plain": [
       "<Figure size 640x480 with 1 Axes>"
      ]
     },
     "metadata": {},
     "output_type": "display_data"
    }
   ],
   "source": [
    "# ax = sims_data.plot(x=\"sim\", y=\"bleu\", kind=\"kde\")\n",
    "# ax = sns.kdeplot(data=sims_data, x=\"sim\", y=\"bleu\", fill=True)\n",
    "ax = sns.scatterplot(data=sims_data, x=\"sim\", y=\"bleu\", s=40, marker=\"o\",alpha=0.9, color=sns.color_palette()[7])\n",
    "ax.set_ylabel(\"BLEU\")\n",
    "ax.set_xlabel(\"Cosine similarity\")\n",
    "ax.set_xlim([0.85,1.0])\n",
    "# ax.set_yscale(\"log\")\n",
    "\n",
    "plt.tight_layout()\n",
    "plt.savefig(\"bleu_vs_cos_sim.pdf\", dpi=300)\n"
   ]
  },
  {
   "cell_type": "code",
   "execution_count": null,
   "id": "0c115ed0-7dae-4f7c-8237-78f9635332f4",
   "metadata": {},
   "outputs": [],
   "source": []
  }
 ],
 "metadata": {
  "kernelspec": {
   "display_name": "Python 3 (ipykernel)",
   "language": "python",
   "name": "python3"
  },
  "language_info": {
   "codemirror_mode": {
    "name": "ipython",
    "version": 3
   },
   "file_extension": ".py",
   "mimetype": "text/x-python",
   "name": "python",
   "nbconvert_exporter": "python",
   "pygments_lexer": "ipython3",
   "version": "3.10.10"
  }
 },
 "nbformat": 4,
 "nbformat_minor": 5
}
