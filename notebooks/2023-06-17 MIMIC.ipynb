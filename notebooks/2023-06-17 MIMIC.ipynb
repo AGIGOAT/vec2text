{
 "cells": [
  {
   "cell_type": "code",
   "execution_count": 1,
   "id": "b7e9de1f-158a-4716-8f8b-70997e155fb3",
   "metadata": {},
   "outputs": [
    {
     "data": {
      "text/plain": [
       "['/home/jxm3/mimic/physionet.org/files/clinical-bert-mimic-notes/1.0.0/setup_outputs/ICD9_Descriptions.csv',\n",
       " '/home/jxm3/mimic/physionet.org/files/clinical-bert-mimic-notes/1.0.0/setup_outputs/MedCAT_Descriptions.csv',\n",
       " '/home/jxm3/mimic/physionet.org/files/clinical-bert-mimic-notes/1.0.0/setup_outputs/SUBJECT_ID_to_ICD9.csv',\n",
       " '/home/jxm3/mimic/physionet.org/files/clinical-bert-mimic-notes/1.0.0/setup_outputs/SUBJECT_ID_to_MedCAT.csv',\n",
       " '/home/jxm3/mimic/physionet.org/files/clinical-bert-mimic-notes/1.0.0/setup_outputs/SUBJECT_ID_to_NAME.csv',\n",
       " '/home/jxm3/mimic/physionet.org/files/clinical-bert-mimic-notes/1.0.0/setup_outputs/SUBJECT_ID_to_NOTES_1a.csv',\n",
       " '/home/jxm3/mimic/physionet.org/files/clinical-bert-mimic-notes/1.0.0/setup_outputs/SUBJECT_ID_to_NOTES_1b.csv',\n",
       " '/home/jxm3/mimic/physionet.org/files/clinical-bert-mimic-notes/1.0.0/setup_outputs/SUBJECT_ID_to_NOTES_templates.csv',\n",
       " '/home/jxm3/mimic/physionet.org/files/clinical-bert-mimic-notes/1.0.0/setup_outputs/reidentified_subject_ids.csv']"
      ]
     },
     "execution_count": 1,
     "metadata": {},
     "output_type": "execute_result"
    }
   ],
   "source": [
    "import glob\n",
    "import os\n",
    "\n",
    "notes_path = \"/home/jxm3/mimic/physionet.org/files/clinical-bert-mimic-notes/1.0.0/setup_outputs/*.csv\"\n",
    "glob.glob(os.path.expanduser(notes_path) + \"*\")"
   ]
  },
  {
   "cell_type": "code",
   "execution_count": 2,
   "id": "e695e865-0d61-4750-b293-a28018e95729",
   "metadata": {},
   "outputs": [],
   "source": [
    "import pandas as pd\n",
    "\n",
    "# discharge = pd.read_csv('/home/jxm3/mimic/physionet.org/files/mimic-iv-note/2.2/note/discharge.csv')\n",
    "df = pd.read_csv('/home/jxm3/mimic/physionet.org/files/clinical-bert-mimic-notes/1.0.0/setup_outputs/SUBJECT_ID_to_NOTES_1b.csv')"
   ]
  },
  {
   "cell_type": "code",
   "execution_count": 3,
   "id": "6754ce95-ae64-4e97-b626-bbd35f92cb90",
   "metadata": {},
   "outputs": [
    {
     "data": {
      "text/html": [
       "<div>\n",
       "<style scoped>\n",
       "    .dataframe tbody tr th:only-of-type {\n",
       "        vertical-align: middle;\n",
       "    }\n",
       "\n",
       "    .dataframe tbody tr th {\n",
       "        vertical-align: top;\n",
       "    }\n",
       "\n",
       "    .dataframe thead th {\n",
       "        text-align: right;\n",
       "    }\n",
       "</style>\n",
       "<table border=\"1\" class=\"dataframe\">\n",
       "  <thead>\n",
       "    <tr style=\"text-align: right;\">\n",
       "      <th></th>\n",
       "      <th>SUBJECT_ID</th>\n",
       "      <th>TEXT</th>\n",
       "    </tr>\n",
       "  </thead>\n",
       "  <tbody>\n",
       "    <tr>\n",
       "      <th>0</th>\n",
       "      <td>2</td>\n",
       "      <td>Almeta Olivero nursing transfer note pt admitt...</td>\n",
       "    </tr>\n",
       "    <tr>\n",
       "      <th>1</th>\n",
       "      <td>2</td>\n",
       "      <td>Almeta Olivero neonatology attending triage no...</td>\n",
       "    </tr>\n",
       "    <tr>\n",
       "      <th>2</th>\n",
       "      <td>3</td>\n",
       "      <td>Kenton Lynn micu npn pm-pm: neuro: pt is restl...</td>\n",
       "    </tr>\n",
       "    <tr>\n",
       "      <th>3</th>\n",
       "      <td>3</td>\n",
       "      <td>Kenton Lynn micu nsg prog note: days remains s...</td>\n",
       "    </tr>\n",
       "    <tr>\n",
       "      <th>4</th>\n",
       "      <td>3</td>\n",
       "      <td>Kenton Lynn micu npn addendum: pt was agitated...</td>\n",
       "    </tr>\n",
       "  </tbody>\n",
       "</table>\n",
       "</div>"
      ],
      "text/plain": [
       "   SUBJECT_ID                                               TEXT\n",
       "0           2  Almeta Olivero nursing transfer note pt admitt...\n",
       "1           2  Almeta Olivero neonatology attending triage no...\n",
       "2           3  Kenton Lynn micu npn pm-pm: neuro: pt is restl...\n",
       "3           3  Kenton Lynn micu nsg prog note: days remains s...\n",
       "4           3  Kenton Lynn micu npn addendum: pt was agitated..."
      ]
     },
     "execution_count": 3,
     "metadata": {},
     "output_type": "execute_result"
    }
   ],
   "source": [
    "df.head()"
   ]
  },
  {
   "cell_type": "code",
   "execution_count": 4,
   "id": "e34f30ef-5506-4da1-bd62-63f3e709c8c2",
   "metadata": {},
   "outputs": [
    {
     "name": "stdout",
     "output_type": "stream",
     "text": [
      "Reginia Kloster sicu hpi: m presented to osh on with fever/chills and bilateral hip pain l>r.\n",
      "Reginia Kloster blood cx/left & right hip cx + staph. urine +mssa.\n",
      "Reginia Kloster ct head negative at that time.\n",
      "Reginia Kloster had left girtlestone, resection arthroplasty ()/right hip resection with insertion tobra cement spacer/girtlestone ().\n",
      "Reginia Kloster post-op with large left cerebellar embolic stroke.\n",
      "Reginia Kloster mssa hip infections and bacteremia.\n",
      "Reginia Kloster pmhx: htn, dyslipidemia, djd, etoh + scotch/day current medications: acyclovir, acetaminophen, artificial tear ointment, calcium gluconate, chlorhexidine gluconate % oral rinse, dexmedetomidine, enoxaparin sodium, famotidine, fentanyl citrate, gentamicin, hydromorphone (dilaudid), hydralazine, insulin, labetalol, magnesium sulfate, midazolam, nafcillin, nystatin oral suspension, potassium chloride, propofol hour events: transthoracic echo - at : am fever - f - : pm allergies: tetracycline unknown; last dose of antibiotics: acyclovir - : pm gentamicin - : pm nafcillin - : am infusions: propofol - mcg/kg/min other icu medications: fentanyl - : pm famotidine (pepcid) - : pm labetalol - : am enoxaparin (lovenox) - : am flowsheet data as of : am vital signs hemodynamic monitoring fluid balance hours since a.m. tmax: c ( t current: c ( hr: ( - ) bpm bp: /() {/() - /()} mmhg rr: ( - ) insp/min spo: % heart rhythm: sr (sinus rhythm) wgt (current): kg (admission): kg height: inch total in: , ml ml po: tube feeding: , ml ml iv fluid: , ml ml blood products: total out: , ml ml urine: , ml ml ng: stool: drains: ml balance: - ml ml respiratory support o delivery device: endotracheal tube ventilator mode: cmv/assist/autoflow vt (set): ( - ) ml vt (spontaneous): ( - ) ml ps : cmho rr (set): rr (spontaneous): peep: cmho fio: % rsbi: pip: cmho plateau: cmho spo: % abg: //// ve: l/min pao / fio: physical examination general appearance: no acute distress heent: perrl, still right gaze preference cardiovascular: (rhythm: regular), junctional vs pvc respiratory / chest: (breath sounds: no(t) cta bilateral : , rhonchorous : ) abdominal: soft, non-distended, non-tender, bowel sounds present left extremities: (edema: +) right extremities: (edema: +) skin: (incision: clean / dry / intact) neurologic: follows simple commands, moves all extremities labs / radiology k/ul g/dl mg/dl mg/dl meq/l meq/l mg/dl meq/l meq/l % k/ul : am : am : pm : am : am : am : am : am : am : am wbc hct plt creatinine troponin t tco glucose other labs: pt / ptt / inr://, ck / ck-mb / troponin t://, alt / ast:/, alk-phos / t bili:/, amylase / lipase:/, differential-neuts: %, band: %, lymph: %, mono: %, eos: %, lactic acid: mmol/l, albumin: g/dl, ldh: iu/l, ca: mg/dl, mg: mg/dl, po: mg/dl assessment and plan electrolyte & fluid disorder, other, atrial premature beats (apb, apc, pac), impaired skin integrity, cva (stroke, cerebral infarction), ischemic , .h/o respiratory failure, acute (not ards/), fever, unknown origin (fuo, hyperthermia, pyrexia), .h/o hypertension, benign assessment and plan: neurologic: q neuro, left cerebellar embolic infarct, precedex gtt for extubation cardiovascular: goal sbp<, prn hydralazine/labetolol pulmonary: cpap plan to extubate today gastrointestinal / abdomen: ogt, tfs on hold for extubation nutrition: tube feeding on hold renal: adequate uop, creatinine slightly improved hematology: slighly increased, occasional schistocytes on smear, haptoglobin normal, coomb's negative endocrine: riss infectious disease: mssa bacteremia/joints, gent/nafcillin, daily blood cultres and culture with fevers, tee in one week, when stable ct torso, acyclovir for facial hsv, f/u mri spine lines / tubes / drains: ett, ogt, foley, left scvl, a-line wounds: bilateral hip sx imaging: f/u mri spine fluids: kvo consults: neuro surgery, neurology billing diagnosis: icu care nutrition: replete with fiber (full) - : pm ml/hour glycemic control: regular insulin sliding scale lines: arterial line - : pm multi lumen - : am prophylaxis: dvt: boots, lmw heparin stress ulcer: h blocker vap bundle: comments: communication: comments: code status: disposition: icu total time spent: minutes patient is critically ill\n"
     ]
    }
   ],
   "source": [
    "texts = df.sample(500)[\"TEXT\"].tolist()\n",
    "print(texts[0])"
   ]
  },
  {
   "cell_type": "markdown",
   "id": "40e5fc04-2441-4a88-b965-66465ec3e8f2",
   "metadata": {},
   "source": [
    "## Load model and evaluate"
   ]
  },
  {
   "cell_type": "code",
   "execution_count": 5,
   "id": "d12e7460-2658-448f-953c-8c88f0121ecc",
   "metadata": {},
   "outputs": [],
   "source": [
    "%load_ext autoreload\n",
    "%autoreload 2\n",
    "\n",
    "import os\n",
    "os.environ[\"WANDB_DISABLED\"] = \"true\"\n",
    "\n",
    "import sys\n",
    "sys.path = [\n",
    "    p for p in sys.path\n",
    "    if p not in ['/home/jxm3/research/prompting/imodelsX', '/home/jxm3/research/prompting/tree-prompt']\n",
    "]\n",
    "sys.path.append('/home/jxm3/research/retrieval/inversion')"
   ]
  },
  {
   "cell_type": "code",
   "execution_count": 6,
   "id": "ede57ae1-2b77-4a31-affd-7952aeeb8ef3",
   "metadata": {},
   "outputs": [
    {
     "name": "stdout",
     "output_type": "stream",
     "text": [
      "loading alias gtr_nq__msl32_beta__correct from /home/jxm3/research/retrieval/inversion/saves/47d9c149a8e827d0609abbeefdfd89ac...\n",
      "> checkpoint: /home/jxm3/research/retrieval/inversion/saves/47d9c149a8e827d0609abbeefdfd89ac/checkpoint-558000\n",
      "set dataset to nq\n",
      "loading alias dpr_nq__msl32_beta from /home/jxm3/research/retrieval/inversion/saves/db66b9c01b644541fedbdcc59c53a285/ebb31d91810c4b62d2b55b5382e8c7ea...\n",
      "Set num workers to 4\n",
      "Overwriting max sequence length from 32 to 32\n",
      "Overwriting use_less_data from None to -1\n",
      "> checkpoint: /home/jxm3/research/retrieval/inversion/saves/db66b9c01b644541fedbdcc59c53a285/ebb31d91810c4b62d2b55b5382e8c7ea/checkpoint-999744\n"
     ]
    },
    {
     "name": "stderr",
     "output_type": "stream",
     "text": [
      "/home/jxm3/.conda/envs/torch/lib/python3.10/site-packages/transformers/models/t5/tokenization_t5_fast.py:155: FutureWarning: This tokenizer was incorrectly instantiated with a model max length of 512 which will be corrected in Transformers v5.\n",
      "For now, this behavior is kept to avoid breaking backwards compatibility when padding/encoding with `truncation is True`.\n",
      "- Be aware that you SHOULD NOT rely on t5-base automatically truncating your input to 512 when padding/encoding.\n",
      "- If you want to encode/pad to sequences longer than 512 you can either instantiate this tokenizer with `model_max_length` or pass `max_length` when encoding/padding.\n",
      "- To avoid this warning, please instantiate this tokenizer with `model_max_length` set to your preferred value.\n",
      "  warnings.warn(\n"
     ]
    },
    {
     "name": "stdout",
     "output_type": "stream",
     "text": [
      "Loading datasets with TOKENIZERS_PARALLELISM = False\n"
     ]
    },
    {
     "name": "stderr",
     "output_type": "stream",
     "text": [
      "[nltk_data] Downloading package wordnet to /home/jxm3/nltk_data...\n",
      "[nltk_data]   Package wordnet is already up-to-date!\n",
      "[nltk_data] Downloading package punkt to /home/jxm3/nltk_data...\n",
      "[nltk_data]   Package punkt is already up-to-date!\n",
      "[nltk_data] Downloading package omw-1.4 to /home/jxm3/nltk_data...\n",
      "[nltk_data]   Package omw-1.4 is already up-to-date!\n"
     ]
    },
    {
     "name": "stdout",
     "output_type": "stream",
     "text": [
      "Renaming keys {'embedding_transform.2.bias', 'embedding_transform.2.weight'} for backward compatibility.\n",
      "================ Begin trainer sanity check ================\n",
      "\tInput to encode -> Twas brillig, and the slithy toves, Did gyre and gimble in the wabe, All mimsy were the borogoves, And the mome raths outgrabe.\n",
      "\tDecoded output shape ->  torch.Size([1, 33])\n",
      "\tDecoded output -> The mlbies wase wyst bograge; And the sliths and toms wy\n",
      "================ End trainer sanity check ================\n",
      "Froze 342572160 params from model type <class 'models.inversion.InversionModel'>\n"
     ]
    },
    {
     "name": "stderr",
     "output_type": "stream",
     "text": [
      "[nltk_data] Downloading package wordnet to /home/jxm3/nltk_data...\n",
      "[nltk_data]   Package wordnet is already up-to-date!\n",
      "[nltk_data] Downloading package punkt to /home/jxm3/nltk_data...\n",
      "[nltk_data]   Package punkt is already up-to-date!\n",
      "[nltk_data] Downloading package omw-1.4 to /home/jxm3/nltk_data...\n",
      "[nltk_data]   Package omw-1.4 is already up-to-date!\n"
     ]
    },
    {
     "name": "stdout",
     "output_type": "stream",
     "text": [
      "Renaming keys {'embedding_transform.2.bias', 'embedding_transform.2.weight'} for backward compatibility.\n",
      "================ Begin trainer sanity check ================\n",
      "\tInput to encode -> Twas brillig, and the slithy toves, Did gyre and gimble in the wabe, All mimsy were the borogoves, And the mome raths outgrabe.\n",
      "\tDecoded output shape ->  torch.Size([1, 33])\n",
      "\tDecoded output -> The slithe and the tobogbes were mly; It wis grabbse tiring\n",
      "================ End trainer sanity check ================\n",
      "\n"
     ]
    }
   ],
   "source": [
    "import aliases\n",
    "\n",
    "os.environ[\"TOKENIZERS_MULTIPROCESSING\"] = \"True\"\n",
    "\n",
    "# inv_trainer = aliases.load_trainer_from_alias(\"openai_msmarco__msl128__100epoch\")\n",
    "corr_experiment, corr_trainer = aliases.load_experiment_and_trainer_from_alias(\"gtr_nq__msl32_beta__correct\")\n",
    "inv_trainer = corr_trainer.inversion_trainer\n",
    "# corr_trainer.precompute_hypotheses()\n",
    "corr_trainer.model.eval()\n",
    "print()"
   ]
  },
  {
   "cell_type": "code",
   "execution_count": 7,
   "id": "37a62219-3d5b-4e9f-a0fc-c3b25f08e89c",
   "metadata": {},
   "outputs": [
    {
     "data": {
      "application/vnd.jupyter.widget-view+json": {
       "model_id": "",
       "version_major": 2,
       "version_minor": 0
      },
      "text/plain": [
       "Running tokenizer on dataset:   0%|          | 0/500 [00:00<?, ? examples/s]"
      ]
     },
     "metadata": {},
     "output_type": "display_data"
    },
    {
     "data": {
      "application/vnd.jupyter.widget-view+json": {
       "model_id": "",
       "version_major": 2,
       "version_minor": 0
      },
      "text/plain": [
       "Filter:   0%|          | 0/500 [00:00<?, ? examples/s]"
      ]
     },
     "metadata": {},
     "output_type": "display_data"
    }
   ],
   "source": [
    "import datasets\n",
    "\n",
    "temp_dataset = datasets.Dataset.from_dict({\"text\": texts})\n",
    "datasets_dict = datasets.DatasetDict({\n",
    "    \"mimic\": temp_dataset\n",
    "})\n",
    "d = corr_experiment._prepare_val_datasets_dict(\n",
    "    model=corr_trainer.inversion_trainer.model,\n",
    "    val_datasets_dict=datasets_dict,\n",
    "    tokenizer=corr_trainer.tokenizer,\n",
    "    embedder_tokenizer=corr_trainer.embedder_tokenizer,\n",
    ")"
   ]
  },
  {
   "cell_type": "code",
   "execution_count": 8,
   "id": "90b0b641-6c37-4ed8-ab03-5755ef96ec4f",
   "metadata": {},
   "outputs": [
    {
     "data": {
      "text/html": [
       "\n",
       "    <div>\n",
       "      \n",
       "      <progress value='4' max='2' style='width:300px; height:20px; vertical-align: middle;'></progress>\n",
       "      [2/2 00:16]\n",
       "    </div>\n",
       "    "
      ],
      "text/plain": [
       "<IPython.core.display.HTML object>"
      ]
     },
     "metadata": {},
     "output_type": "display_data"
    },
    {
     "name": "stderr",
     "output_type": "stream",
     "text": [
      "                                                                                                                                                                                 \r"
     ]
    },
    {
     "name": "stdout",
     "output_type": "stream",
     "text": [
      "[pred] with bilateral ossia Regia Chili Edel / fever / hysteria with lodged hip pain on\n",
      "[true] Reginia Kloster sicu hpi: m presented to osh on with fever/chills and bilateral hip pain\n",
      "\n",
      "\n",
      "\n",
      "[pred] male of Rosalynn Yn Amo and is here with ephemeral chemotherapy. It is a hyl\n",
      "[true] Rosalynn Eynon this is a yo male with hx of aml s/p chemotherapy, found to\n",
      "\n",
      "\n",
      "\n",
      "[pred] Reichert: Aubery Reichert: Aubery unit name:, date of birth:, sex: no im\n",
      "[true] Aubery Reichert name: reichert,aubery unit no: date of birth: sex: m service:\n"
     ]
    },
    {
     "name": "stderr",
     "output_type": "stream",
     "text": [
      "                                                                                                                                                                                 \r"
     ]
    },
    {
     "name": "stdout",
     "output_type": "stream",
     "text": [
      "[pred] with bilateral ossia Regia Chili Edel / fever / hysteria with lodged hip pain on\n",
      "[true] Reginia Kloster sicu hpi: m presented to osh on with fever/chills and bilateral hip pain\n",
      "\n",
      "\n",
      "\n",
      "[pred] male of Rosalynn Yn Amo and is here with ephemeral chemotherapy. It is a hyl\n",
      "[true] Rosalynn Eynon this is a yo male with hx of aml s/p chemotherapy, found to\n",
      "\n",
      "\n",
      "\n",
      "[pred] Reichert: Aubery Reichert: Aubery unit name:, date of birth:, sex: no im\n",
      "[true] Aubery Reichert name: reichert,aubery unit no: date of birth: sex: m service:\n"
     ]
    },
    {
     "data": {
      "text/plain": [
       "{'mimic_loss': 2.5207769870758057,\n",
       " 'mimic_pred_num_tokens': 31.0,\n",
       " 'mimic_true_num_tokens': 31.890625,\n",
       " 'mimic_token_set_precision': 0.3816486500550947,\n",
       " 'mimic_token_set_recall': 0.40827727173956785,\n",
       " 'mimic_token_set_f1': 0.3922492689568483,\n",
       " 'mimic_n_ngrams_match_1': 6.67,\n",
       " 'mimic_n_ngrams_match_2': 1.624,\n",
       " 'mimic_n_ngrams_match_3': 0.456,\n",
       " 'mimic_num_true_words': 17.146,\n",
       " 'mimic_num_pred_words': 16.602,\n",
       " 'mimic_bleu_score': 6.046143082233343,\n",
       " 'mimic_meteor_score': 0.30305510653678414,\n",
       " 'mimic_rouge_score': 0.4018382236822939,\n",
       " 'mimic_exact_match': 0.0,\n",
       " 'mimic_emb_cos_sim': 0.8277257680892944,\n",
       " 'mimic_runtime': 16.2315,\n",
       " 'mimic_samples_per_second': 30.804,\n",
       " 'mimic_steps_per_second': 0.123}"
      ]
     },
     "execution_count": 8,
     "metadata": {},
     "output_type": "execute_result"
    }
   ],
   "source": [
    "corr_trainer.num_gen_recursive_steps = 1\n",
    "corr_trainer.evaluate(\n",
    "    eval_dataset=d[\"mimic\"],\n",
    "    metric_key_prefix=\"mimic\"\n",
    ")"
   ]
  },
  {
   "cell_type": "code",
   "execution_count": null,
   "id": "1ac8ce47-74aa-4ef3-ba4b-78c626c8f34c",
   "metadata": {},
   "outputs": [
    {
     "name": "stderr",
     "output_type": "stream",
     "text": [
      "generating from val:   0%|                                                                                                                                 | 0/2 [00:00<?, ?it/s]"
     ]
    }
   ],
   "source": [
    "corr_trainer.num_gen_recursive_steps = 50\n",
    "corr_trainer.evaluate(\n",
    "    eval_dataset=d[\"mimic\"],\n",
    "    metric_key_prefix=\"mimic\"\n",
    ")"
   ]
  },
  {
   "cell_type": "code",
   "execution_count": null,
   "id": "47cc0b25-0e2c-4355-b99e-0f53956f48bf",
   "metadata": {},
   "outputs": [],
   "source": [
    "import torch\n",
    "torch.cuda.empty_cache()"
   ]
  },
  {
   "cell_type": "code",
   "execution_count": 11,
   "id": "dad8a060-4e5d-4a9b-89a3-2d671777e5b1",
   "metadata": {},
   "outputs": [
    {
     "name": "stdout",
     "output_type": "stream",
     "text": [
      "step 48 // scores = [0.9449118971824646, 0.9613736867904663]\n"
     ]
    },
    {
     "name": "stderr",
     "output_type": "stream",
     "text": [
      "generating from val: 100%|████████████████████████████████████████████████████████████████████████████████████████████████████████████████████████| 4/4 [13:50<00:00, 176.00s/it]"
     ]
    },
    {
     "name": "stdout",
     "output_type": "stream",
     "text": [
      "step 49 // scores = [0.9449118971824646, 0.9613736867904663]\n"
     ]
    },
    {
     "name": "stderr",
     "output_type": "stream",
     "text": [
      "                                                                                                                                                                                 \r"
     ]
    },
    {
     "name": "stdout",
     "output_type": "stream",
     "text": [
      "[pred] Reginia Kloster sih osmi HW: was being presented with chills, fever, and bilateral hip pain on\n",
      "[true] Reginia Kloster sicu hpi: m presented to osh on with fever/chills and bilateral hip pain\n",
      "\n",
      "\n",
      "\n",
      "[pred] Rosalyn Eynon this is a yo male with hpn of aml x-s chemotherapy, found to\n",
      "[true] Rosalynn Eynon this is a yo male with hx of aml s/p chemotherapy, found to\n",
      "\n",
      "\n",
      "\n",
      "[pred] Aubery Reichert Aubery name: Reichert unit no.: service: sex: date of birth: m is\n",
      "[true] Aubery Reichert name: reichert,aubery unit no: date of birth: sex: m service:\n"
     ]
    },
    {
     "name": "stderr",
     "output_type": "stream",
     "text": [
      "generating from val:   0%|                                                                                                                                 | 0/4 [00:00<?, ?it/s]"
     ]
    },
    {
     "name": "stdout",
     "output_type": "stream",
     "text": [
      "step 0 // scores = [0.7801423072814941, 0.8773151636123657, 0.9570432305335999, 0.866000235080719, 0.8279404044151306, 0.7246484756469727, 0.7679845094680786, 0.8632405996322632, 0.8755999803543091, 0.9049432277679443, 0.8361063003540039, 0.8820099234580994, 0.8797314167022705, 0.7472787499427795, 0.8118804693222046, 0.79664146900177]\n",
      "step 1 // scores = [0.8392670154571533, 0.8873928785324097, 0.9671757817268372, 0.960619330406189, 0.8744161128997803, 0.8906792998313904, 0.8524739742279053, 0.9366605281829834, 0.9267768859863281, 0.9067158699035645, 0.9091988801956177, 0.9538141489028931, 0.9240036010742188, 0.8392319679260254, 0.93030846118927, 0.8582993745803833]\n",
      "step 2 // scores = [0.8704913854598999, 0.8993776440620422, 0.9710608720779419, 0.9732255935668945, 0.898953914642334, 0.9163554310798645, 0.9008408188819885, 0.9399620294570923, 0.9603495597839355, 0.9350895881652832, 0.9162305593490601, 0.9556514620780945, 0.9699423313140869, 0.9128186702728271, 0.9319475889205933, 0.8921128511428833]\n",
      "step 3 // scores = [0.8718438744544983, 0.9108367562294006, 0.9781897068023682, 0.9788776636123657, 0.9218925833702087, 0.9168264865875244, 0.8871227502822876, 0.9565436244010925, 0.9599343538284302, 0.9524210095405579, 0.9166275262832642, 0.980877161026001, 0.977076530456543, 0.9114776849746704, 0.9543893933296204, 0.8973199725151062]\n",
      "step 4 // scores = [0.9181628227233887, 0.9248384833335876, 0.9846688508987427, 0.9841567277908325, 0.9425414204597473, 0.9221287965774536, 0.9011327028274536, 0.9674907326698303, 0.968632161617279, 0.9588562250137329, 0.9377551078796387, 0.979653000831604, 0.9834750890731812, 0.8998520374298096, 0.9643808007240295, 0.8942345976829529]\n",
      "step 5 // scores = [0.9141682982444763, 0.9408626556396484, 0.9850707650184631, 0.986828625202179, 0.9377212524414062, 0.9304449558258057, 0.9011327028274536, 0.9718558192253113, 0.9679203033447266, 0.962929368019104, 0.9500702619552612, 0.9864859580993652, 0.9892708659172058, 0.9367490410804749, 0.9643808007240295, 0.8981934785842896]\n",
      "step 6 // scores = [0.928784191608429, 0.9436236023902893, 0.9850707650184631, 0.986655592918396, 0.9498348236083984, 0.946836531162262, 0.9011327028274536, 0.9744489789009094, 0.967577338218689, 0.9592977166175842, 0.957922101020813, 0.9864859580993652, 0.9944483041763306, 0.9521597027778625, 0.9748851656913757, 0.8829681873321533]\n",
      "step 7 // scores = [0.927099883556366, 0.9443416595458984, 0.9850707650184631, 0.9853792786598206, 0.9534221887588501, 0.9511409997940063, 0.9011327028274536, 0.9744489789009094, 0.9680480360984802, 0.9609315395355225, 0.958985447883606, 0.9864859580993652, 0.996432900428772, 0.9485291242599487, 0.9898868799209595, 0.9077959656715393]\n",
      "step 8 // scores = [0.9355273246765137, 0.9567636251449585, 0.9850707650184631, 0.9853792786598206, 0.9590567350387573, 0.9578335285186768, 0.9039543271064758, 0.9744489789009094, 0.9680480360984802, 0.9609315395355225, 0.9598530530929565, 0.9859068393707275, 0.996432900428772, 0.9613977670669556, 0.9907455444335938, 0.8895734548568726]\n",
      "step 9 // scores = [0.9435389041900635, 0.9675237536430359, 0.9850707650184631, 0.9853792786598206, 0.9606779217720032, 0.9590493440628052, 0.9218235015869141, 0.9744489789009094, 0.9680480360984802, 0.9598214626312256, 0.9622228145599365, 0.9859068393707275, 0.996432900428772, 0.9520504474639893, 0.9947857856750488, 0.8913760781288147]\n",
      "step 10 // scores = [0.9412615895271301, 0.9796522855758667, 0.9850707650184631, 0.9853792786598206, 0.9606779217720032, 0.9661253094673157, 0.9526863098144531, 0.9744489789009094, 0.9680480360984802, 0.960403323173523, 0.9624385833740234, 0.9880284070968628, 0.996432900428772, 0.9590728878974915, 1.0, 0.9082690477371216]\n",
      "step 11 // scores = [0.9474539756774902, 0.9812326431274414, 0.9850707650184631, 0.9853792786598206, 0.9606779217720032, 0.9661253094673157, 0.9622827768325806, 0.9744489789009094, 0.9680480360984802, 0.9609315395355225, 0.9653135538101196, 0.9859068393707275, 0.996432900428772, 0.9582345485687256, 1.0, 0.8988121151924133]\n",
      "step 12 // scores = [0.9421205520629883, 0.9851881861686707, 0.9850707650184631, 0.9853792786598206, 0.9606779217720032, 0.9661253094673157, 0.9624614119529724, 0.9744489789009094, 0.9680480360984802, 0.960403323173523, 0.9620528817176819, 0.9880284070968628, 0.996432900428772, 0.9621406197547913, 1.0, 0.9110709428787231]\n",
      "step 13 // scores = [0.9420017004013062, 0.9851881861686707, 0.9850707650184631, 0.9853792786598206, 0.9606779217720032, 0.9602305889129639, 0.9622827768325806, 0.9744489789009094, 0.9680480360984802, 0.968308687210083, 0.9620528817176819, 0.9880284070968628, 0.996432900428772, 0.9719953536987305, 1.0, 0.9153182506561279]\n",
      "step 14 // scores = [0.9419770240783691, 0.9857275485992432, 0.9850707650184631, 0.9853792786598206, 0.9606779217720032, 0.9661253094673157, 0.9622827768325806, 0.9744489789009094, 0.9680480360984802, 0.9750958681106567, 0.9620528817176819, 0.9880284070968628, 0.996432900428772, 0.9778979420661926, 1.0, 0.9230642914772034]\n",
      "step 15 // scores = [0.9448459148406982, 0.9857275485992432, 0.9850707650184631, 0.9853792786598206, 0.9606779217720032, 0.9602305889129639, 0.9622827768325806, 0.9744489789009094, 0.9680480360984802, 0.9787248373031616, 0.9620528817176819, 0.9880284070968628, 0.996432900428772, 0.9792811870574951, 1.0, 0.916433572769165]\n",
      "step 16 // scores = [0.9379220008850098, 0.9866116642951965, 0.9850707650184631, 0.9853792786598206, 0.9606779217720032, 0.9661253094673157, 0.9622827768325806, 0.9744489789009094, 0.9680480360984802, 0.9800716042518616, 0.9636989831924438, 0.9880284070968628, 0.996432900428772, 0.9798457622528076, 1.0, 0.9242238998413086]\n",
      "step 17 // scores = [0.9388558864593506, 0.9866116642951965, 0.9850707650184631, 0.9853792786598206, 0.9606779217720032, 0.9602305889129639, 0.9622827768325806, 0.9744489789009094, 0.9680480360984802, 0.9800716042518616, 0.9620528817176819, 0.9880284070968628, 0.996432900428772, 0.9805912971496582, 1.0, 0.9160383343696594]\n",
      "step 18 // scores = [0.9519742727279663, 0.9866116642951965, 0.9850707650184631, 0.9853792786598206, 0.9606779217720032, 0.9661253094673157, 0.9622827768325806, 0.9744489789009094, 0.9680480360984802, 0.9800716042518616, 0.9620528817176819, 0.9880284070968628, 0.996432900428772, 0.9822624921798706, 1.0, 0.9203001260757446]\n",
      "step 19 // scores = [0.95135098695755, 0.9866116642951965, 0.9850707650184631, 0.9853792786598206, 0.9606779217720032, 0.9661253094673157, 0.9622827768325806, 0.9744489789009094, 0.9680480360984802, 0.9800716042518616, 0.9620528817176819, 0.9880284070968628, 0.996432900428772, 0.9822624921798706, 1.0, 0.9217948913574219]\n",
      "step 20 // scores = [0.9519742727279663, 0.9866116642951965, 0.9850707650184631, 0.9853792786598206, 0.9606779217720032, 0.9661253094673157, 0.9622827768325806, 0.9744489789009094, 0.9680480360984802, 0.9800716042518616, 0.9636989831924438, 0.9880284070968628, 0.996432900428772, 0.9822624921798706, 1.0, 0.9258548617362976]\n",
      "step 21 // scores = [0.9519742727279663, 0.9866116642951965, 0.9850707650184631, 0.9853792786598206, 0.9606779217720032, 0.9602305889129639, 0.9622827768325806, 0.9744489789009094, 0.9680480360984802, 0.9801167249679565, 0.9620528817176819, 0.9880284070968628, 0.996432900428772, 0.9822624921798706, 1.0, 0.9228965640068054]\n",
      "step 22 // scores = [0.95135098695755, 0.9866116642951965, 0.9850707650184631, 0.9853792786598206, 0.9606779217720032, 0.9661253094673157, 0.9622827768325806, 0.9744489789009094, 0.9680480360984802, 0.9800716042518616, 0.9620528817176819, 0.9880284070968628, 0.996432900428772, 0.9822624921798706, 1.0, 0.9233752489089966]\n",
      "step 23 // scores = [0.9519742727279663, 0.9866116642951965, 0.9850707650184631, 0.9853792786598206, 0.9606779217720032, 0.9602305889129639, 0.9622827768325806, 0.9744489789009094, 0.9680480360984802, 0.9800716042518616, 0.9620528817176819, 0.9880284070968628, 0.996432900428772, 0.9822624921798706, 1.0, 0.9233752489089966]\n",
      "step 24 // scores = [0.9519742727279663, 0.9866116642951965, 0.9850707650184631, 0.9853792786598206, 0.9606779217720032, 0.9661253094673157, 0.9622827768325806, 0.9744489789009094, 0.9680480360984802, 0.9800716042518616, 0.9636989831924438, 0.9880284070968628, 0.996432900428772, 0.9822624921798706, 1.0, 0.9233752489089966]\n",
      "step 25 // scores = [0.95135098695755, 0.9866116642951965, 0.9850707650184631, 0.9853792786598206, 0.9606779217720032, 0.9602305889129639, 0.9622827768325806, 0.9744489789009094, 0.9680480360984802, 0.9801167249679565, 0.9620528817176819, 0.9880284070968628, 0.996432900428772, 0.9822624921798706, 1.0, 0.9233752489089966]\n",
      "step 26 // scores = [0.9519742727279663, 0.9866116642951965, 0.9850707650184631, 0.9853792786598206, 0.9606779217720032, 0.9661253094673157, 0.9622827768325806, 0.9744489789009094, 0.9680480360984802, 0.9800716042518616, 0.9620528817176819, 0.9880284070968628, 0.996432900428772, 0.9822624921798706, 1.0, 0.9233752489089966]\n",
      "step 27 // scores = [0.9519742727279663, 0.9866116642951965, 0.9850707650184631, 0.9853792786598206, 0.9606779217720032, 0.9661253094673157, 0.9622827768325806, 0.9744489789009094, 0.9680480360984802, 0.9800716042518616, 0.9620528817176819, 0.9880284070968628, 0.996432900428772, 0.9822624921798706, 1.0, 0.9233752489089966]\n",
      "step 28 // scores = [0.95135098695755, 0.9866116642951965, 0.9850707650184631, 0.9853792786598206, 0.9606779217720032, 0.9661253094673157, 0.9622827768325806, 0.9744489789009094, 0.9680480360984802, 0.9800716042518616, 0.9636989831924438, 0.9880284070968628, 0.996432900428772, 0.9822624921798706, 1.0, 0.9233752489089966]\n",
      "step 29 // scores = [0.9519742727279663, 0.9866116642951965, 0.9850707650184631, 0.9853792786598206, 0.9606779217720032, 0.9602305889129639, 0.9622827768325806, 0.9744489789009094, 0.9680480360984802, 0.9801167249679565, 0.9620528817176819, 0.9880284070968628, 0.996432900428772, 0.9822624921798706, 1.0, 0.9233752489089966]\n",
      "step 30 // scores = [0.9519742727279663, 0.9866116642951965, 0.9850707650184631, 0.9853792786598206, 0.9606779217720032, 0.9661253094673157, 0.9622827768325806, 0.9744489789009094, 0.9680480360984802, 0.9800716042518616, 0.9620528817176819, 0.9880284070968628, 0.996432900428772, 0.9822624921798706, 1.0, 0.9233752489089966]\n",
      "step 31 // scores = [0.95135098695755, 0.9866116642951965, 0.9850707650184631, 0.9853792786598206, 0.9606779217720032, 0.9602305889129639, 0.9622827768325806, 0.9744489789009094, 0.9680480360984802, 0.9800716042518616, 0.9620528817176819, 0.9880284070968628, 0.996432900428772, 0.9822624921798706, 1.0, 0.9233752489089966]\n",
      "step 32 // scores = [0.9519742727279663, 0.9866116642951965, 0.9850707650184631, 0.9853792786598206, 0.9606779217720032, 0.9661253094673157, 0.9622827768325806, 0.9744489789009094, 0.9680480360984802, 0.9800716042518616, 0.9636989831924438, 0.9880284070968628, 0.996432900428772, 0.9822624921798706, 1.0, 0.9233752489089966]\n",
      "step 33 // scores = [0.9519742727279663, 0.9866116642951965, 0.9850707650184631, 0.9853792786598206, 0.9606779217720032, 0.9602305889129639, 0.9622827768325806, 0.9744489789009094, 0.9680480360984802, 0.9801167249679565, 0.9620528817176819, 0.9880284070968628, 0.996432900428772, 0.9822624921798706, 1.0, 0.9233752489089966]\n",
      "step 34 // scores = [0.95135098695755, 0.9866116642951965, 0.9850707650184631, 0.9853792786598206, 0.9606779217720032, 0.9661253094673157, 0.9622827768325806, 0.9744489789009094, 0.9680480360984802, 0.9800716042518616, 0.9620528817176819, 0.9880284070968628, 0.996432900428772, 0.9822624921798706, 1.0, 0.9233752489089966]\n",
      "step 35 // scores = [0.9519742727279663, 0.9866116642951965, 0.9850707650184631, 0.9853792786598206, 0.9606779217720032, 0.9661253094673157, 0.9622827768325806, 0.9744489789009094, 0.9680480360984802, 0.9800716042518616, 0.9620528817176819, 0.9880284070968628, 0.996432900428772, 0.9822624921798706, 1.0, 0.9233752489089966]\n",
      "step 36 // scores = [0.9519742727279663, 0.9866116642951965, 0.9850707650184631, 0.9853792786598206, 0.9606779217720032, 0.9661253094673157, 0.9622827768325806, 0.9744489789009094, 0.9680480360984802, 0.9800716042518616, 0.9636989831924438, 0.9880284070968628, 0.996432900428772, 0.9822624921798706, 1.0, 0.9233752489089966]\n",
      "step 37 // scores = [0.95135098695755, 0.9866116642951965, 0.9850707650184631, 0.9853792786598206, 0.9606779217720032, 0.9602305889129639, 0.9622827768325806, 0.9744489789009094, 0.9680480360984802, 0.9801167249679565, 0.9620528817176819, 0.9880284070968628, 0.996432900428772, 0.9822624921798706, 1.0, 0.9233752489089966]\n",
      "step 38 // scores = [0.9519742727279663, 0.9866116642951965, 0.9850707650184631, 0.9853792786598206, 0.9606779217720032, 0.9661253094673157, 0.9622827768325806, 0.9744489789009094, 0.9680480360984802, 0.9800716042518616, 0.9620528817176819, 0.9880284070968628, 0.996432900428772, 0.9822624921798706, 1.0, 0.9233752489089966]\n",
      "step 39 // scores = [0.9519742727279663, 0.9866116642951965, 0.9850707650184631, 0.9853792786598206, 0.9606779217720032, 0.9602305889129639, 0.9622827768325806, 0.9744489789009094, 0.9680480360984802, 0.9800716042518616, 0.9620528817176819, 0.9880284070968628, 0.996432900428772, 0.9822624921798706, 1.0, 0.9233752489089966]\n",
      "step 40 // scores = [0.95135098695755, 0.9866116642951965, 0.9850707650184631, 0.9853792786598206, 0.9606779217720032, 0.9661253094673157, 0.9622827768325806, 0.9744489789009094, 0.9680480360984802, 0.9800716042518616, 0.9636989831924438, 0.9880284070968628, 0.996432900428772, 0.9822624921798706, 1.0, 0.9233752489089966]\n",
      "step 41 // scores = [0.9519742727279663, 0.9866116642951965, 0.9850707650184631, 0.9853792786598206, 0.9606779217720032, 0.9602305889129639, 0.9622827768325806, 0.9744489789009094, 0.9680480360984802, 0.9801167249679565, 0.9620528817176819, 0.9880284070968628, 0.996432900428772, 0.9822624921798706, 1.0, 0.9233752489089966]\n",
      "step 42 // scores = [0.9519742727279663, 0.9866116642951965, 0.9850707650184631, 0.9853792786598206, 0.9606779217720032, 0.9661253094673157, 0.9622827768325806, 0.9744489789009094, 0.9680480360984802, 0.9800716042518616, 0.9620528817176819, 0.9880284070968628, 0.996432900428772, 0.9822624921798706, 1.0, 0.9233752489089966]\n",
      "step 43 // scores = [0.95135098695755, 0.9866116642951965, 0.9850707650184631, 0.9853792786598206, 0.9606779217720032, 0.9661253094673157, 0.9622827768325806, 0.9744489789009094, 0.9680480360984802, 0.9800716042518616, 0.9620528817176819, 0.9880284070968628, 0.996432900428772, 0.9822624921798706, 1.0, 0.9233752489089966]\n",
      "step 44 // scores = [0.9519742727279663, 0.9866116642951965, 0.9850707650184631, 0.9853792786598206, 0.9606779217720032, 0.9661253094673157, 0.9622827768325806, 0.9744489789009094, 0.9680480360984802, 0.9800716042518616, 0.9636989831924438, 0.9880284070968628, 0.996432900428772, 0.9822624921798706, 1.0, 0.9233752489089966]\n",
      "step 45 // scores = [0.9519742727279663, 0.9866116642951965, 0.9850707650184631, 0.9853792786598206, 0.9606779217720032, 0.9602305889129639, 0.9622827768325806, 0.9744489789009094, 0.9680480360984802, 0.9801167249679565, 0.9620528817176819, 0.9880284070968628, 0.996432900428772, 0.9822624921798706, 1.0, 0.9233752489089966]\n",
      "step 46 // scores = [0.95135098695755, 0.9866116642951965, 0.9850707650184631, 0.9853792786598206, 0.9606779217720032, 0.9661253094673157, 0.9622827768325806, 0.9744489789009094, 0.9680480360984802, 0.9800716042518616, 0.9620528817176819, 0.9880284070968628, 0.996432900428772, 0.9822624921798706, 1.0, 0.9233752489089966]\n",
      "step 47 // scores = [0.9519742727279663, 0.9866116642951965, 0.9850707650184631, 0.9853792786598206, 0.9606779217720032, 0.9602305889129639, 0.9622827768325806, 0.9744489789009094, 0.9680480360984802, 0.9800716042518616, 0.9620528817176819, 0.9880284070968628, 0.996432900428772, 0.9822624921798706, 1.0, 0.9233752489089966]\n",
      "step 48 // scores = [0.9519742727279663, 0.9866116642951965, 0.9850707650184631, 0.9853792786598206, 0.9606779217720032, 0.9661253094673157, 0.9622827768325806, 0.9744489789009094, 0.9680480360984802, 0.9800716042518616, 0.9636989831924438, 0.9880284070968628, 0.996432900428772, 0.9822624921798706, 1.0, 0.9233752489089966]\n"
     ]
    },
    {
     "name": "stderr",
     "output_type": "stream",
     "text": [
      "generating from val:  25%|██████████████████████████████                                                                                          | 1/4 [04:20<13:00, 260.30s/it]"
     ]
    },
    {
     "name": "stdout",
     "output_type": "stream",
     "text": [
      "step 49 // scores = [0.95135098695755, 0.9866116642951965, 0.9850707650184631, 0.9853792786598206, 0.9606779217720032, 0.9602305889129639, 0.9622827768325806, 0.9744489789009094, 0.9680480360984802, 0.9801167249679565, 0.9620528817176819, 0.9880284070968628, 0.996432900428772, 0.9822624921798706, 1.0, 0.9233752489089966]\n",
      "step 0 // scores = [0.9132186770439148, 0.8273385763168335, 0.6914166212081909, 0.8993401527404785, 0.870484471321106, 0.8070879578590393, 0.8587436676025391, 0.8379896879196167, 0.8254702091217041, 0.8107425570487976, 0.8330984115600586, 0.8749675750732422, 0.91512131690979, 0.9104490876197815, 0.7596237659454346, 0.8918188810348511]\n",
      "step 1 // scores = [0.944098174571991, 0.8782382011413574, 0.8045811653137207, 0.9316298365592957, 0.9413508176803589, 0.8656934499740601, 0.8826744556427002, 0.8906404972076416, 0.8961313962936401, 0.8240402340888977, 0.8915199041366577, 0.8889352083206177, 0.882451057434082, 0.9401951432228088, 0.8992217779159546, 0.9694284200668335]\n",
      "step 2 // scores = [0.9518256783485413, 0.888150691986084, 0.8309409022331238, 0.9340673685073853, 0.952125608921051, 0.8800046443939209, 0.9188282489776611, 0.890017032623291, 0.9016498327255249, 0.8828200101852417, 0.931739091873169, 0.9022159576416016, 0.9270998239517212, 0.9258657693862915, 0.9279422760009766, 0.9679475426673889]\n",
      "step 3 // scores = [0.9635027647018433, 0.8906316161155701, 0.8290219902992249, 0.9361740350723267, 0.9626678228378296, 0.8783584833145142, 0.9246656894683838, 0.891940712928772, 0.9135884046554565, 0.9006304740905762, 0.9356111288070679, 0.9068503379821777, 0.9253952503204346, 0.9517669677734375, 0.9559940099716187, 0.9704196453094482]\n",
      "step 4 // scores = [0.9816926717758179, 0.8875038027763367, 0.8688246011734009, 0.9547164440155029, 0.9617838859558105, 0.8849763870239258, 0.9302247762680054, 0.891940712928772, 0.9240952134132385, 0.9353626370429993, 0.9403306245803833, 0.9196608066558838, 0.9304347038269043, 0.9472243785858154, 0.9636070728302002, 0.9691464900970459]\n",
      "step 5 // scores = [0.982099175453186, 0.8896864652633667, 0.9230945110321045, 0.9680771827697754, 0.979264497756958, 0.8934254050254822, 0.9389059543609619, 0.8945841193199158, 0.9275619387626648, 0.9367700815200806, 0.9438015222549438, 0.9198464751243591, 0.9363104104995728, 0.9690157175064087, 0.9750015735626221, 0.963462233543396]\n",
      "step 6 // scores = [0.9740666747093201, 0.8981195688247681, 0.9324308633804321, 0.9690154790878296, 0.9881080389022827, 0.8856157064437866, 0.9403883218765259, 0.8945841193199158, 0.9346257448196411, 0.9484655857086182, 0.9498997330665588, 0.9245301485061646, 0.9376280307769775, 0.9814438819885254, 0.9822733402252197, 0.9684622883796692]\n",
      "step 7 // scores = [0.9859427809715271, 0.8964064717292786, 0.9404104351997375, 0.9854291677474976, 0.997839093208313, 0.8922021985054016, 0.9396364092826843, 0.8945841193199158, 0.9397655129432678, 0.9591638445854187, 0.9466853737831116, 0.9272507429122925, 0.9323326945304871, 0.9904828071594238, 0.9841053485870361, 0.9701597094535828]\n",
      "step 8 // scores = [0.9818774461746216, 0.8970953822135925, 0.9327404499053955, 1.0, 1.0, 0.9092527627944946, 0.9460992813110352, 0.9060052037239075, 0.9374836087226868, 0.9709317684173584, 0.9547873735427856, 0.9272507429122925, 0.9233124256134033, 0.9884892702102661, 0.9841053485870361, 0.9749535322189331]\n",
      "step 9 // scores = [0.9949040412902832, 0.9014003276824951, 0.9320087432861328, 1.0, 1.0, 0.9054494500160217, 0.9475337862968445, 0.9107563495635986, 0.9477975368499756, 0.9732900857925415, 0.9555169343948364, 0.9291152954101562, 0.9321557283401489, 0.9884892702102661, 0.9857168197631836, 0.9730951189994812]\n",
      "step 10 // scores = [1.0, 0.8992695808410645, 0.935614824295044, 1.0, 1.0, 0.9167230129241943, 0.9575870633125305, 0.9107563495635986, 0.9394927024841309, 0.974421501159668, 0.9626197814941406, 0.9291152954101562, 0.928231954574585, 0.9884892702102661, 0.9864972233772278, 0.9740590453147888]\n",
      "step 11 // scores = [1.0, 0.9005007743835449, 0.9320087432861328, 1.0, 1.0, 0.9072442054748535, 0.9524097442626953, 0.9107563495635986, 0.9475164413452148, 0.9756619930267334, 0.9687314629554749, 0.9291152954101562, 0.9290339946746826, 0.9884892702102661, 0.9864972233772278, 0.9792203307151794]\n",
      "step 12 // scores = [1.0, 0.9006113409996033, 0.9331578016281128, 1.0, 1.0, 0.9226453304290771, 0.9530333280563354, 0.9107563495635986, 0.9400409460067749, 0.9756619930267334, 0.9666022658348083, 0.9291152954101562, 0.9290339946746826, 0.9911453723907471, 0.9864972233772278, 0.9747542142868042]\n",
      "step 13 // scores = [1.0, 0.9005007743835449, 0.9581037759780884, 1.0, 1.0, 0.9425740242004395, 0.9595268964767456, 0.9107563495635986, 0.9475164413452148, 0.9756619930267334, 0.9729881286621094, 0.9291152954101562, 0.9290339946746826, 0.9886088967323303, 0.9864972233772278, 0.97627192735672]\n",
      "step 14 // scores = [1.0, 0.9005007743835449, 0.9777005910873413, 1.0, 1.0, 0.9358215928077698, 0.9576663970947266, 0.9107563495635986, 0.9475164413452148, 0.9756619930267334, 0.973928689956665, 0.9291152954101562, 0.9290339946746826, 0.9886088967323303, 0.9864972233772278, 0.9785051345825195]\n",
      "step 15 // scores = [1.0, 0.9005007743835449, 0.9946898221969604, 1.0, 1.0, 0.9436721801757812, 0.9554717540740967, 0.9107563495635986, 0.9475164413452148, 0.9756619930267334, 0.973928689956665, 0.9291152954101562, 0.928231954574585, 0.9886088967323303, 0.9864972233772278, 0.9766088724136353]\n",
      "step 16 // scores = [1.0, 0.9020233154296875, 1.0, 1.0, 1.0, 0.9532632231712341, 0.9551350474357605, 0.9107563495635986, 0.9475164413452148, 0.9756619930267334, 0.973928689956665, 0.9291152954101562, 0.9290339946746826, 0.9886088967323303, 0.9864972233772278, 0.9799870252609253]\n",
      "step 17 // scores = [1.0, 0.9005007743835449, 1.0, 1.0, 1.0, 0.9426367282867432, 0.9551350474357605, 0.9107563495635986, 0.9475164413452148, 0.9756619930267334, 0.9757660627365112, 0.9291152954101562, 0.9290339946746826, 0.9886088967323303, 0.9864972233772278, 0.9788702130317688]\n",
      "step 18 // scores = [1.0, 0.9005007743835449, 1.0, 1.0, 1.0, 0.9466713666915894, 0.9551350474357605, 0.9107563495635986, 0.9475164413452148, 0.9756619930267334, 0.9768369793891907, 0.9291152954101562, 0.9290339946746826, 0.9886088967323303, 0.9864972233772278, 0.9768481254577637]\n",
      "step 19 // scores = [1.0, 0.9005007743835449, 1.0, 1.0, 1.0, 0.9092819690704346, 0.9551350474357605, 0.9107563495635986, 0.9475164413452148, 0.9756619930267334, 0.978967010974884, 0.9291152954101562, 0.9290339946746826, 0.9886088967323303, 0.9864972233772278, 0.979017972946167]\n",
      "step 20 // scores = [1.0, 0.9005007743835449, 1.0, 1.0, 1.0, 0.9322997331619263, 0.9551350474357605, 0.9107563495635986, 0.9475164413452148, 0.9756619930267334, 0.9768369793891907, 0.9291152954101562, 0.928231954574585, 0.9886088967323303, 0.9864972233772278, 0.9779571294784546]\n",
      "step 21 // scores = [1.0, 0.9005007743835449, 1.0, 1.0, 1.0, 0.9021188020706177, 0.9551350474357605, 0.9107563495635986, 0.9475164413452148, 0.9756619930267334, 0.9803686141967773, 0.9291152954101562, 0.9290339946746826, 0.9886088967323303, 0.9864972233772278, 0.9783152937889099]\n",
      "step 22 // scores = [1.0, 0.9020233154296875, 1.0, 1.0, 1.0, 0.9207782745361328, 0.9586917161941528, 0.9107563495635986, 0.9475164413452148, 0.9756619930267334, 0.9774969816207886, 0.9291152954101562, 0.9290339946746826, 0.9886088967323303, 0.9864972233772278, 0.9822980165481567]\n",
      "step 23 // scores = [1.0, 0.9005007743835449, 1.0, 1.0, 1.0, 0.9250580668449402, 0.9551350474357605, 0.9107563495635986, 0.9475164413452148, 0.9756619930267334, 0.9789074659347534, 0.9291152954101562, 0.9290339946746826, 0.9886088967323303, 0.9864972233772278, 0.9779617786407471]\n",
      "step 24 // scores = [1.0, 0.9005007743835449, 1.0, 1.0, 1.0, 0.9507132172584534, 0.9586917161941528, 0.9107563495635986, 0.9475164413452148, 0.9756619930267334, 0.9789074659347534, 0.9291152954101562, 0.9290339946746826, 0.9886088967323303, 0.9864972233772278, 0.978967010974884]\n",
      "step 25 // scores = [1.0, 0.9005007743835449, 1.0, 1.0, 1.0, 0.9507132172584534, 0.9551350474357605, 0.9107563495635986, 0.9475164413452148, 0.9756619930267334, 0.9789074659347534, 0.9291152954101562, 0.928231954574585, 0.9886088967323303, 0.9864972233772278, 0.9823975563049316]\n",
      "step 26 // scores = [1.0, 0.9005007743835449, 1.0, 1.0, 1.0, 0.9433459043502808, 0.9586917161941528, 0.9107563495635986, 0.9475164413452148, 0.9756619930267334, 0.9789074659347534, 0.9291152954101562, 0.9290339946746826, 0.9886088967323303, 0.9864972233772278, 0.9780874252319336]\n",
      "step 27 // scores = [1.0, 0.9005007743835449, 1.0, 1.0, 1.0, 0.9507132172584534, 0.9551350474357605, 0.9107563495635986, 0.9475164413452148, 0.9756619930267334, 0.9789074659347534, 0.9291152954101562, 0.9290339946746826, 0.9886088967323303, 0.9864972233772278, 0.9795490503311157]\n",
      "step 28 // scores = [1.0, 0.9020233154296875, 1.0, 1.0, 1.0, 0.9507132172584534, 0.9586917161941528, 0.9107563495635986, 0.9475164413452148, 0.9756619930267334, 0.9789074659347534, 0.9291152954101562, 0.9290339946746826, 0.9886088967323303, 0.9864972233772278, 0.9823975563049316]\n",
      "step 29 // scores = [1.0, 0.9005007743835449, 1.0, 1.0, 1.0, 0.9433459043502808, 0.9551350474357605, 0.9107563495635986, 0.9475164413452148, 0.9756619930267334, 0.9789074659347534, 0.9291152954101562, 0.9290339946746826, 0.9886088967323303, 0.9864972233772278, 0.9788391590118408]\n",
      "step 30 // scores = [1.0, 0.9005007743835449, 1.0, 1.0, 1.0, 0.9507132172584534, 0.9586917161941528, 0.9107563495635986, 0.9475164413452148, 0.9756619930267334, 0.9789074659347534, 0.9291152954101562, 0.928231954574585, 0.9886088967323303, 0.9864972233772278, 0.9808790683746338]\n",
      "step 31 // scores = [1.0, 0.9005007743835449, 1.0, 1.0, 1.0, 0.9507132172584534, 0.9551350474357605, 0.9107563495635986, 0.9475164413452148, 0.9756619930267334, 0.9789074659347534, 0.9291152954101562, 0.9290339946746826, 0.9886088967323303, 0.9864972233772278, 0.9788391590118408]\n",
      "step 32 // scores = [1.0, 0.9005007743835449, 1.0, 1.0, 1.0, 0.9433459043502808, 0.9586917161941528, 0.9107563495635986, 0.9475164413452148, 0.9756619930267334, 0.9789074659347534, 0.9291152954101562, 0.9290339946746826, 0.9886088967323303, 0.9864972233772278, 0.985544741153717]\n",
      "step 33 // scores = [1.0, 0.9005007743835449, 1.0, 1.0, 1.0, 0.9507132172584534, 0.9551350474357605, 0.9107563495635986, 0.9475164413452148, 0.9756619930267334, 0.9789074659347534, 0.9291152954101562, 0.9290339946746826, 0.9886088967323303, 0.9864972233772278, 0.98783278465271]\n",
      "step 34 // scores = [1.0, 0.9020233154296875, 1.0, 1.0, 1.0, 0.9507132172584534, 0.9586917161941528, 0.9107563495635986, 0.9475164413452148, 0.9756619930267334, 0.9789074659347534, 0.9291152954101562, 0.9290339946746826, 0.9886088967323303, 0.9864972233772278, 0.9891632795333862]\n",
      "step 35 // scores = [1.0, 0.9005007743835449, 1.0, 1.0, 1.0, 0.9433459043502808, 0.9551350474357605, 0.9107563495635986, 0.9475164413452148, 0.9756619930267334, 0.9789074659347534, 0.9291152954101562, 0.928231954574585, 0.9886088967323303, 0.9864972233772278, 0.9893919229507446]\n",
      "step 36 // scores = [1.0, 0.9005007743835449, 1.0, 1.0, 1.0, 0.9507132172584534, 0.9586917161941528, 0.9107563495635986, 0.9475164413452148, 0.9756619930267334, 0.9789074659347534, 0.9291152954101562, 0.9290339946746826, 0.9886088967323303, 0.9864972233772278, 0.9892876744270325]\n",
      "step 37 // scores = [1.0, 0.9005007743835449, 1.0, 1.0, 1.0, 0.9507132172584534, 0.9551350474357605, 0.9107563495635986, 0.9475164413452148, 0.9756619930267334, 0.9789074659347534, 0.9291152954101562, 0.9290339946746826, 0.9886088967323303, 0.9864972233772278, 0.989733099937439]\n",
      "step 38 // scores = [1.0, 0.9005007743835449, 1.0, 1.0, 1.0, 0.9433459043502808, 0.9586917161941528, 0.9107563495635986, 0.9475164413452148, 0.9756619930267334, 0.9789074659347534, 0.9291152954101562, 0.9290339946746826, 0.9886088967323303, 0.9864972233772278, 0.9915711283683777]\n",
      "step 39 // scores = [1.0, 0.9005007743835449, 1.0, 1.0, 1.0, 0.9507132172584534, 0.9551350474357605, 0.9107563495635986, 0.9475164413452148, 0.9756619930267334, 0.9789074659347534, 0.9291152954101562, 0.9290339946746826, 0.9886088967323303, 0.9864972233772278, 0.9947528839111328]\n",
      "step 40 // scores = [1.0, 0.9020233154296875, 1.0, 1.0, 1.0, 0.9507132172584534, 0.9586917161941528, 0.9107563495635986, 0.9475164413452148, 0.9756619930267334, 0.9789074659347534, 0.9291152954101562, 0.928231954574585, 0.9886088967323303, 0.9864972233772278, 0.9947528839111328]\n",
      "step 41 // scores = [1.0, 0.9005007743835449, 1.0, 1.0, 1.0, 0.9433459043502808, 0.9551350474357605, 0.9107563495635986, 0.9475164413452148, 0.9756619930267334, 0.9789074659347534, 0.9291152954101562, 0.9290339946746826, 0.9886088967323303, 0.9864972233772278, 0.9947528839111328]\n",
      "step 42 // scores = [1.0, 0.9005007743835449, 1.0, 1.0, 1.0, 0.9507132172584534, 0.9586917161941528, 0.9107563495635986, 0.9475164413452148, 0.9756619930267334, 0.9789074659347534, 0.9291152954101562, 0.9290339946746826, 0.9886088967323303, 0.9864972233772278, 0.9947528839111328]\n",
      "step 43 // scores = [1.0, 0.9005007743835449, 1.0, 1.0, 1.0, 0.9507132172584534, 0.9551350474357605, 0.9107563495635986, 0.9475164413452148, 0.9756619930267334, 0.9789074659347534, 0.9291152954101562, 0.9290339946746826, 0.9886088967323303, 0.9864972233772278, 0.9947528839111328]\n",
      "step 44 // scores = [1.0, 0.9005007743835449, 1.0, 1.0, 1.0, 0.9433459043502808, 0.9586917161941528, 0.9107563495635986, 0.9475164413452148, 0.9756619930267334, 0.9789074659347534, 0.9291152954101562, 0.9290339946746826, 0.9886088967323303, 0.9864972233772278, 0.9947528839111328]\n",
      "step 45 // scores = [1.0, 0.9005007743835449, 1.0, 1.0, 1.0, 0.9507132172584534, 0.9551350474357605, 0.9107563495635986, 0.9475164413452148, 0.9756619930267334, 0.9789074659347534, 0.9291152954101562, 0.928231954574585, 0.9886088967323303, 0.9864972233772278, 0.9947528839111328]\n",
      "step 46 // scores = [1.0, 0.9020233154296875, 1.0, 1.0, 1.0, 0.9507132172584534, 0.9586917161941528, 0.9107563495635986, 0.9475164413452148, 0.9756619930267334, 0.9789074659347534, 0.9291152954101562, 0.9290339946746826, 0.9886088967323303, 0.9864972233772278, 0.9947528839111328]\n",
      "step 47 // scores = [1.0, 0.9005007743835449, 1.0, 1.0, 1.0, 0.9433459043502808, 0.9551350474357605, 0.9107563495635986, 0.9475164413452148, 0.9756619930267334, 0.9789074659347534, 0.9291152954101562, 0.9290339946746826, 0.9886088967323303, 0.9864972233772278, 0.9947528839111328]\n",
      "step 48 // scores = [1.0, 0.9005007743835449, 1.0, 1.0, 1.0, 0.9507132172584534, 0.9586917161941528, 0.9107563495635986, 0.9475164413452148, 0.9756619930267334, 0.9789074659347534, 0.9291152954101562, 0.9290339946746826, 0.9886088967323303, 0.9864972233772278, 0.9947528839111328]\n"
     ]
    },
    {
     "name": "stderr",
     "output_type": "stream",
     "text": [
      "generating from val:  50%|████████████████████████████████████████████████████████████                                                            | 2/4 [08:41<08:41, 260.76s/it]"
     ]
    },
    {
     "name": "stdout",
     "output_type": "stream",
     "text": [
      "step 49 // scores = [1.0, 0.9005007743835449, 1.0, 1.0, 1.0, 0.9507132172584534, 0.9551350474357605, 0.9107563495635986, 0.9475164413452148, 0.9756619930267334, 0.9789074659347534, 0.9291152954101562, 0.9290339946746826, 0.9886088967323303, 0.9864972233772278, 0.9947528839111328]\n",
      "step 0 // scores = [0.7732548117637634, 0.8800142407417297, 0.8123668432235718, 0.9490765333175659, 0.774858832359314, 0.9539734721183777, 0.783815324306488, 0.7656479477882385, 0.8114587068557739, 0.884312093257904, 0.9049080610275269, 0.7712125182151794, 0.7431037425994873, 0.8775456547737122, 0.8081007599830627, 0.878026008605957]\n",
      "step 1 // scores = [0.8097404837608337, 0.9220773577690125, 0.8637354969978333, 0.9575297832489014, 0.793800950050354, 0.9729031920433044, 0.8518292903900146, 0.8183571696281433, 0.9178645610809326, 0.8971490859985352, 0.9213509559631348, 0.8708458542823792, 0.7908822298049927, 0.9175103902816772, 0.858199954032898, 0.9258654117584229]\n",
      "step 2 // scores = [0.8115417957305908, 0.9399494528770447, 0.9088189005851746, 0.9662876129150391, 0.8366857767105103, 0.979346752166748, 0.8867113590240479, 0.9489033222198486, 0.9632996320724487, 0.9298161864280701, 0.919826328754425, 0.8690141439437866, 0.7896698117256165, 0.9214739799499512, 0.8774346113204956, 0.9380455017089844]\n",
      "step 3 // scores = [0.8569599390029907, 0.9599032998085022, 0.9231152534484863, 0.9900766611099243, 0.8420233130455017, 0.9760726690292358, 0.904000997543335, 0.9544597864151001, 0.9752638339996338, 0.9000935554504395, 0.9197812080383301, 0.891990602016449, 0.8262771368026733, 0.9546282291412354, 0.8673838973045349, 0.9353437423706055]\n",
      "step 4 // scores = [0.8332454562187195, 0.9719375371932983, 0.9286566376686096, 0.9967062473297119, 0.8536394834518433, 0.9793933629989624, 0.9279918670654297, 0.9573531746864319, 0.9782279133796692, 0.8881375789642334, 0.9344885349273682, 0.8925639986991882, 0.8910055160522461, 0.9703435897827148, 0.8870081901550293, 0.9553109407424927]\n",
      "step 5 // scores = [0.8491998910903931, 0.9767495393753052, 0.9441970586776733, 0.9974657893180847, 0.8614554405212402, 0.9826436638832092, 0.9247214794158936, 0.9695682525634766, 0.9818261861801147, 0.8975564241409302, 0.9361926317214966, 0.9079248905181885, 0.9210522174835205, 0.9733116030693054, 0.9035502672195435, 0.9553298950195312]\n",
      "step 6 // scores = [0.859663724899292, 0.9926740527153015, 0.9686275720596313, 1.0, 0.8675334453582764, 0.9805142879486084, 0.9275550842285156, 0.9809747934341431, 0.9829798340797424, 0.9098271131515503, 0.9361810684204102, 0.9357566833496094, 0.9334532022476196, 0.9733116030693054, 0.9035502672195435, 0.9567421674728394]\n",
      "step 7 // scores = [0.8569144010543823, 1.0, 0.9736859798431396, 1.0, 0.8834530115127563, 0.9823117256164551, 0.9297831058502197, 0.9809747934341431, 0.9835789203643799, 0.9051337242126465, 0.9395087957382202, 0.9065996408462524, 0.9333692193031311, 0.9751201868057251, 0.9035502672195435, 0.9714237451553345]\n",
      "step 8 // scores = [0.8955250382423401, 1.0, 0.9727731943130493, 1.0, 0.9187058210372925, 0.9882116317749023, 0.9256514310836792, 0.9809747934341431, 0.989148736000061, 0.9069505929946899, 0.9470064640045166, 0.8942581415176392, 0.9380779266357422, 0.9764920473098755, 0.9035502672195435, 0.9670706987380981]\n",
      "step 9 // scores = [0.8944641351699829, 1.0, 0.9766406416893005, 1.0, 0.9309935569763184, 0.983577311038971, 0.9389567375183105, 0.9809747934341431, 0.989148736000061, 0.9170195460319519, 0.9513070583343506, 0.9134852886199951, 0.9452461004257202, 0.9774256944656372, 0.9035502672195435, 0.969761848449707]\n",
      "step 10 // scores = [0.9069793820381165, 1.0, 0.9741620421409607, 1.0, 0.9412463307380676, 0.9871628284454346, 0.952616274356842, 0.9809747934341431, 0.989148736000061, 0.928931474685669, 0.9516599178314209, 0.9051269292831421, 0.9374157786369324, 0.9776409864425659, 0.9035502672195435, 0.9717012643814087]\n",
      "step 11 // scores = [0.9062762260437012, 1.0, 0.976128339767456, 1.0, 0.9518883228302002, 0.9887413382530212, 0.9683049917221069, 0.9809747934341431, 0.989148736000061, 0.9484759569168091, 0.9547197222709656, 0.9051269292831421, 0.9374157786369324, 0.9776409864425659, 0.9035502672195435, 0.9718733429908752]\n",
      "step 12 // scores = [0.9084213376045227, 1.0, 0.9799202680587769, 1.0, 0.9595164060592651, 0.994105339050293, 0.9735956192016602, 0.9809747934341431, 0.9963390827178955, 0.9552648067474365, 0.9547197222709656, 0.9051269292831421, 0.9367873668670654, 0.9776409864425659, 0.9035502672195435, 0.9740313291549683]\n",
      "step 13 // scores = [0.9046475887298584, 1.0, 0.9762921333312988, 1.0, 0.9624696969985962, 0.9936387538909912, 0.9760464429855347, 0.9809747934341431, 0.9963390827178955, 0.9762678146362305, 0.9536880254745483, 0.9067541360855103, 0.9403983950614929, 0.9776409864425659, 0.9035502672195435, 0.9740313291549683]\n",
      "step 14 // scores = [0.9065316915512085, 1.0, 0.9762921333312988, 1.0, 0.9652559757232666, 0.9948791265487671, 0.9762531518936157, 0.9809747934341431, 0.9963390827178955, 0.9764571189880371, 0.9540461301803589, 0.9051269292831421, 0.9403983950614929, 0.9776409864425659, 0.9035502672195435, 0.9740313291549683]\n",
      "step 15 // scores = [0.9062762260437012, 1.0, 0.9762921333312988, 1.0, 0.9678802490234375, 0.996836245059967, 0.9784932732582092, 0.9809747934341431, 1.0, 0.9801489114761353, 0.9555887579917908, 0.9051269292831421, 0.9389432668685913, 0.9776409864425659, 0.9035502672195435, 0.9740313291549683]\n",
      "step 16 // scores = [0.905116856098175, 1.0, 0.9762921333312988, 1.0, 0.97572922706604, 0.9999998807907104, 0.9788579344749451, 0.9809747934341431, 1.0, 0.9936315417289734, 0.9555952548980713, 0.9051269292831421, 0.9368292093276978, 0.9776409864425659, 0.9035502672195435, 0.9740313291549683]\n",
      "step 17 // scores = [0.905116856098175, 1.0, 0.9762921333312988, 1.0, 0.9694545269012451, 0.9999998807907104, 0.9788579344749451, 0.9809747934341431, 1.0, 0.9965426921844482, 0.9555952548980713, 0.9051269292831421, 0.9383915662765503, 0.9776409864425659, 0.9035502672195435, 0.9740313291549683]\n",
      "step 18 // scores = [0.905116856098175, 1.0, 0.9762921333312988, 1.0, 0.9694545269012451, 0.9999998807907104, 0.9788579344749451, 0.9809747934341431, 1.0, 0.9974144697189331, 0.9555952548980713, 0.9051269292831421, 0.9383915662765503, 0.9776409864425659, 0.9035502672195435, 0.9740313291549683]\n",
      "step 19 // scores = [0.9081634283065796, 1.0, 0.9762921333312988, 1.0, 0.9704880714416504, 0.9999998807907104, 0.9790281057357788, 0.9809747934341431, 1.0, 1.0, 0.9555952548980713, 0.9051269292831421, 0.9383915662765503, 0.9776409864425659, 0.9035502672195435, 0.9740313291549683]\n",
      "step 20 // scores = [0.9081634283065796, 1.0, 0.9762921333312988, 1.0, 0.9704880714416504, 0.9999998807907104, 0.9790281057357788, 0.9809747934341431, 1.0, 1.0, 0.9555952548980713, 0.9051269292831421, 0.9394165277481079, 0.9776409864425659, 0.9035502672195435, 0.9740313291549683]\n",
      "step 21 // scores = [0.9081634283065796, 1.0, 0.9762921333312988, 1.0, 0.9704880714416504, 0.9999998807907104, 0.9788579344749451, 0.9809747934341431, 1.0, 1.0, 0.9555952548980713, 0.9051269292831421, 0.9383915662765503, 0.9776409864425659, 0.9035502672195435, 0.9740313291549683]\n",
      "step 22 // scores = [0.9081634283065796, 1.0, 0.9762921333312988, 1.0, 0.9704880714416504, 0.9999998807907104, 0.9790281057357788, 0.9809747934341431, 1.0, 1.0, 0.9555952548980713, 0.9051269292831421, 0.9383915662765503, 0.9776409864425659, 0.9035502672195435, 0.9740313291549683]\n",
      "step 23 // scores = [0.9081634283065796, 1.0, 0.9762921333312988, 1.0, 0.9704880714416504, 0.9999998807907104, 0.9790281057357788, 0.9809747934341431, 1.0, 1.0, 0.9555952548980713, 0.9051269292831421, 0.9383915662765503, 0.9776409864425659, 0.9035502672195435, 0.9740313291549683]\n",
      "step 24 // scores = [0.9081634283065796, 1.0, 0.9762921333312988, 1.0, 0.9704880714416504, 0.9999998807907104, 0.9790281057357788, 0.9809747934341431, 1.0, 1.0, 0.9555952548980713, 0.9051269292831421, 0.9383915662765503, 0.9776409864425659, 0.9035502672195435, 0.9740313291549683]\n",
      "step 25 // scores = [0.9081634283065796, 1.0, 0.9762921333312988, 1.0, 0.9704880714416504, 0.9999998807907104, 0.9790281057357788, 0.9809747934341431, 1.0, 1.0, 0.9555952548980713, 0.9051269292831421, 0.9383915662765503, 0.9776409864425659, 0.9035502672195435, 0.9740313291549683]\n",
      "step 26 // scores = [0.9081634283065796, 1.0, 0.9762921333312988, 1.0, 0.9704880714416504, 0.9999998807907104, 0.9790281057357788, 0.9809747934341431, 1.0, 1.0, 0.9555952548980713, 0.9051269292831421, 0.9383915662765503, 0.9776409864425659, 0.9035502672195435, 0.9740313291549683]\n",
      "step 27 // scores = [0.9081634283065796, 1.0, 0.9762921333312988, 1.0, 0.9704880714416504, 0.9999998807907104, 0.9790281057357788, 0.9809747934341431, 1.0, 1.0, 0.9555952548980713, 0.9051269292831421, 0.9383915662765503, 0.9776409864425659, 0.9035502672195435, 0.9740313291549683]\n",
      "step 28 // scores = [0.9081634283065796, 1.0, 0.9762921333312988, 1.0, 0.9704880714416504, 0.9999998807907104, 0.9790281057357788, 0.9809747934341431, 1.0, 1.0, 0.9555952548980713, 0.9051269292831421, 0.9383915662765503, 0.9776409864425659, 0.9035502672195435, 0.9740313291549683]\n",
      "step 29 // scores = [0.9081634283065796, 1.0, 0.9762921333312988, 1.0, 0.9704880714416504, 0.9999998807907104, 0.9790281057357788, 0.9809747934341431, 1.0, 1.0, 0.9555952548980713, 0.9051269292831421, 0.9383915662765503, 0.9776409864425659, 0.9035502672195435, 0.9740313291549683]\n",
      "step 30 // scores = [0.9081634283065796, 1.0, 0.9762921333312988, 1.0, 0.9704880714416504, 0.9999998807907104, 0.9790281057357788, 0.9809747934341431, 1.0, 1.0, 0.9555952548980713, 0.9051269292831421, 0.9383915662765503, 0.9776409864425659, 0.9035502672195435, 0.9740313291549683]\n",
      "step 31 // scores = [0.9081634283065796, 1.0, 0.9762921333312988, 1.0, 0.9704880714416504, 0.9999998807907104, 0.9790281057357788, 0.9809747934341431, 1.0, 1.0, 0.9555952548980713, 0.9051269292831421, 0.9383915662765503, 0.9776409864425659, 0.9035502672195435, 0.9740313291549683]\n",
      "step 32 // scores = [0.9081634283065796, 1.0, 0.9762921333312988, 1.0, 0.9704880714416504, 0.9999998807907104, 0.9790281057357788, 0.9809747934341431, 1.0, 1.0, 0.9555952548980713, 0.9051269292831421, 0.9383915662765503, 0.9776409864425659, 0.9035502672195435, 0.9740313291549683]\n",
      "step 33 // scores = [0.9081634283065796, 1.0, 0.9762921333312988, 1.0, 0.9704880714416504, 0.9999998807907104, 0.9790281057357788, 0.9809747934341431, 1.0, 1.0, 0.9555952548980713, 0.9051269292831421, 0.9383915662765503, 0.9776409864425659, 0.9035502672195435, 0.9740313291549683]\n",
      "step 34 // scores = [0.9081634283065796, 1.0, 0.9762921333312988, 1.0, 0.9704880714416504, 0.9999998807907104, 0.9790281057357788, 0.9809747934341431, 1.0, 1.0, 0.9555952548980713, 0.9051269292831421, 0.9383915662765503, 0.9776409864425659, 0.9035502672195435, 0.9740313291549683]\n",
      "step 35 // scores = [0.9081634283065796, 1.0, 0.9762921333312988, 1.0, 0.9704880714416504, 0.9999998807907104, 0.9790281057357788, 0.9809747934341431, 1.0, 1.0, 0.9555952548980713, 0.9051269292831421, 0.9383915662765503, 0.9776409864425659, 0.9035502672195435, 0.9740313291549683]\n",
      "step 36 // scores = [0.9081634283065796, 1.0, 0.9762921333312988, 1.0, 0.9704880714416504, 0.9999998807907104, 0.9790281057357788, 0.9809747934341431, 1.0, 1.0, 0.9555952548980713, 0.9051269292831421, 0.9383915662765503, 0.9776409864425659, 0.9035502672195435, 0.9740313291549683]\n",
      "step 37 // scores = [0.9081634283065796, 1.0, 0.9762921333312988, 1.0, 0.9704880714416504, 0.9999998807907104, 0.9790281057357788, 0.9809747934341431, 1.0, 1.0, 0.9555952548980713, 0.9051269292831421, 0.9383915662765503, 0.9776409864425659, 0.9035502672195435, 0.9740313291549683]\n",
      "step 38 // scores = [0.9081634283065796, 1.0, 0.9762921333312988, 1.0, 0.9704880714416504, 0.9999998807907104, 0.9790281057357788, 0.9809747934341431, 1.0, 1.0, 0.9555952548980713, 0.9051269292831421, 0.9383915662765503, 0.9776409864425659, 0.9035502672195435, 0.9740313291549683]\n",
      "step 39 // scores = [0.9081634283065796, 1.0, 0.9762921333312988, 1.0, 0.9704880714416504, 0.9999998807907104, 0.9790281057357788, 0.9809747934341431, 1.0, 1.0, 0.9555952548980713, 0.9051269292831421, 0.9383915662765503, 0.9776409864425659, 0.9035502672195435, 0.9740313291549683]\n",
      "step 40 // scores = [0.9081634283065796, 1.0, 0.9762921333312988, 1.0, 0.9704880714416504, 0.9999998807907104, 0.9790281057357788, 0.9809747934341431, 1.0, 1.0, 0.9555952548980713, 0.9051269292831421, 0.9383915662765503, 0.9776409864425659, 0.9035502672195435, 0.9740313291549683]\n",
      "step 41 // scores = [0.9081634283065796, 1.0, 0.9762921333312988, 1.0, 0.9704880714416504, 0.9999998807907104, 0.9790281057357788, 0.9809747934341431, 1.0, 1.0, 0.9555952548980713, 0.9051269292831421, 0.9383915662765503, 0.9776409864425659, 0.9035502672195435, 0.9740313291549683]\n",
      "step 42 // scores = [0.9081634283065796, 1.0, 0.9762921333312988, 1.0, 0.9704880714416504, 0.9999998807907104, 0.9790281057357788, 0.9809747934341431, 1.0, 1.0, 0.9555952548980713, 0.9051269292831421, 0.9383915662765503, 0.9776409864425659, 0.9035502672195435, 0.9740313291549683]\n",
      "step 43 // scores = [0.9081634283065796, 1.0, 0.9762921333312988, 1.0, 0.9704880714416504, 0.9999998807907104, 0.9790281057357788, 0.9809747934341431, 1.0, 1.0, 0.9555952548980713, 0.9051269292831421, 0.9383915662765503, 0.9776409864425659, 0.9035502672195435, 0.9740313291549683]\n",
      "step 44 // scores = [0.9081634283065796, 1.0, 0.9762921333312988, 1.0, 0.9704880714416504, 0.9999998807907104, 0.9790281057357788, 0.9809747934341431, 1.0, 1.0, 0.9555952548980713, 0.9051269292831421, 0.9383915662765503, 0.9776409864425659, 0.9035502672195435, 0.9740313291549683]\n",
      "step 45 // scores = [0.9081634283065796, 1.0, 0.9762921333312988, 1.0, 0.9704880714416504, 0.9999998807907104, 0.9790281057357788, 0.9809747934341431, 1.0, 1.0, 0.9555952548980713, 0.9051269292831421, 0.9383915662765503, 0.9776409864425659, 0.9035502672195435, 0.9740313291549683]\n",
      "step 46 // scores = [0.9081634283065796, 1.0, 0.9762921333312988, 1.0, 0.9704880714416504, 0.9999998807907104, 0.9790281057357788, 0.9809747934341431, 1.0, 1.0, 0.9555952548980713, 0.9051269292831421, 0.9383915662765503, 0.9776409864425659, 0.9035502672195435, 0.9740313291549683]\n",
      "step 47 // scores = [0.9081634283065796, 1.0, 0.9762921333312988, 1.0, 0.9704880714416504, 0.9999998807907104, 0.9790281057357788, 0.9809747934341431, 1.0, 1.0, 0.9555952548980713, 0.9051269292831421, 0.9383915662765503, 0.9776409864425659, 0.9035502672195435, 0.9740313291549683]\n",
      "step 48 // scores = [0.9081634283065796, 1.0, 0.9762921333312988, 1.0, 0.9704880714416504, 0.9999998807907104, 0.9790281057357788, 0.9809747934341431, 1.0, 1.0, 0.9555952548980713, 0.9051269292831421, 0.9383915662765503, 0.9776409864425659, 0.9035502672195435, 0.9740313291549683]\n"
     ]
    },
    {
     "name": "stderr",
     "output_type": "stream",
     "text": [
      "generating from val:  75%|██████████████████████████████████████████████████████████████████████████████████████████                              | 3/4 [13:03<04:21, 261.44s/it]"
     ]
    },
    {
     "name": "stdout",
     "output_type": "stream",
     "text": [
      "step 49 // scores = [0.9081634283065796, 1.0, 0.9762921333312988, 1.0, 0.9704880714416504, 0.9999998807907104, 0.9790281057357788, 0.9809747934341431, 1.0, 1.0, 0.9555952548980713, 0.9051269292831421, 0.9383915662765503, 0.9776409864425659, 0.9035502672195435, 0.9740313291549683]\n",
      "step 0 // scores = [0.8158933520317078, 0.8601984977722168]\n",
      "step 1 // scores = [0.9114115834236145, 0.9601646065711975]\n",
      "step 2 // scores = [0.9165704250335693, 0.9632834196090698]\n",
      "step 3 // scores = [0.9358375072479248, 0.9585325717926025]\n",
      "step 4 // scores = [0.9300628900527954, 0.9616695046424866]\n",
      "step 5 // scores = [0.9395490884780884, 0.9613736867904663]\n",
      "step 6 // scores = [0.9348479509353638, 0.9613736867904663]\n",
      "step 7 // scores = [0.9397881031036377, 0.9613736867904663]\n",
      "step 8 // scores = [0.9415024518966675, 0.9613736867904663]\n",
      "step 9 // scores = [0.9383856058120728, 0.9613736867904663]\n",
      "step 10 // scores = [0.9387600421905518, 0.9613736867904663]\n",
      "step 11 // scores = [0.9420363903045654, 0.9613736867904663]\n",
      "step 12 // scores = [0.9422924518585205, 0.9613736867904663]\n",
      "step 13 // scores = [0.9449118971824646, 0.9613736867904663]\n",
      "step 14 // scores = [0.9449118971824646, 0.9613736867904663]\n",
      "step 15 // scores = [0.9449118971824646, 0.9613736867904663]\n",
      "step 16 // scores = [0.9449118971824646, 0.9613736867904663]\n",
      "step 17 // scores = [0.9449118971824646, 0.9613736867904663]\n",
      "step 18 // scores = [0.9449118971824646, 0.9613736867904663]\n",
      "step 19 // scores = [0.9449118971824646, 0.9613736867904663]\n",
      "step 20 // scores = [0.9449118971824646, 0.9613736867904663]\n",
      "step 21 // scores = [0.9449118971824646, 0.9613736867904663]\n",
      "step 22 // scores = [0.9449118971824646, 0.9613736867904663]\n",
      "step 23 // scores = [0.9449118971824646, 0.9613736867904663]\n",
      "step 24 // scores = [0.9449118971824646, 0.9613736867904663]\n",
      "step 25 // scores = [0.9449118971824646, 0.9613736867904663]\n",
      "step 26 // scores = [0.9449118971824646, 0.9613736867904663]\n",
      "step 27 // scores = [0.9449118971824646, 0.9613736867904663]\n",
      "step 28 // scores = [0.9449118971824646, 0.9613736867904663]\n",
      "step 29 // scores = [0.9449118971824646, 0.9613736867904663]\n",
      "step 30 // scores = [0.9449118971824646, 0.9613736867904663]\n",
      "step 31 // scores = [0.9449118971824646, 0.9613736867904663]\n",
      "step 32 // scores = [0.9449118971824646, 0.9613736867904663]\n",
      "step 33 // scores = [0.9449118971824646, 0.9613736867904663]\n",
      "step 34 // scores = [0.9449118971824646, 0.9613736867904663]\n",
      "step 35 // scores = [0.9449118971824646, 0.9613736867904663]\n",
      "step 36 // scores = [0.9449118971824646, 0.9613736867904663]\n",
      "step 37 // scores = [0.9449118971824646, 0.9613736867904663]\n",
      "step 38 // scores = [0.9449118971824646, 0.9613736867904663]\n",
      "step 39 // scores = [0.9449118971824646, 0.9613736867904663]\n",
      "step 40 // scores = [0.9449118971824646, 0.9613736867904663]\n",
      "step 41 // scores = [0.9449118971824646, 0.9613736867904663]\n",
      "step 42 // scores = [0.9449118971824646, 0.9613736867904663]\n",
      "step 43 // scores = [0.9449118971824646, 0.9613736867904663]\n",
      "step 44 // scores = [0.9449118971824646, 0.9613736867904663]\n",
      "step 45 // scores = [0.9449118971824646, 0.9613736867904663]\n",
      "step 46 // scores = [0.9449118971824646, 0.9613736867904663]\n",
      "step 47 // scores = [0.9449118971824646, 0.9613736867904663]\n",
      "step 48 // scores = [0.9449118971824646, 0.9613736867904663]\n"
     ]
    },
    {
     "name": "stderr",
     "output_type": "stream",
     "text": [
      "generating from val: 100%|████████████████████████████████████████████████████████████████████████████████████████████████████████████████████████| 4/4 [13:48<00:00, 175.92s/it]"
     ]
    },
    {
     "name": "stdout",
     "output_type": "stream",
     "text": [
      "step 49 // scores = [0.9449118971824646, 0.9613736867904663]\n"
     ]
    },
    {
     "name": "stderr",
     "output_type": "stream",
     "text": [
      "                                                                                                                                                                                 \r"
     ]
    },
    {
     "name": "stdout",
     "output_type": "stream",
     "text": [
      "[pred] Reginia Kloster sih osmi HW: was being presented with chills, fever, and bilateral hip pain on\n",
      "[true] Reginia Kloster sicu hpi: m presented to osh on with fever/chills and bilateral hip pain\n",
      "\n",
      "\n",
      "\n",
      "[pred] Rosalyn Eynon this is a yo male with hpn of aml x-s chemotherapy, found to\n",
      "[true] Rosalynn Eynon this is a yo male with hx of aml s/p chemotherapy, found to\n",
      "\n",
      "\n",
      "\n",
      "[pred] Aubery Reichert Aubery name: Reichert unit no.: service: sex: date of birth: m is\n",
      "[true] Aubery Reichert name: reichert,aubery unit no: date of birth: sex: m service:\n"
     ]
    },
    {
     "data": {
      "text/plain": [
       "{'mimic_loss': 2.675060749053955,\n",
       " 'mimic_pred_num_tokens': 31.0,\n",
       " 'mimic_true_num_tokens': 31.939998626708984,\n",
       " 'mimic_token_set_precision': 0.7478289280379065,\n",
       " 'mimic_token_set_recall': 0.7571698594401517,\n",
       " 'mimic_token_set_f1': 0.7511563005942402,\n",
       " 'mimic_n_ngrams_match_1': 12.94,\n",
       " 'mimic_n_ngrams_match_2': 7.7,\n",
       " 'mimic_n_ngrams_match_3': 5.34,\n",
       " 'mimic_num_true_words': 17.24,\n",
       " 'mimic_num_pred_words': 17.22,\n",
       " 'mimic_bleu_score': 43.751149308120496,\n",
       " 'mimic_meteor_score': 0.7064554221252809,\n",
       " 'mimic_rouge_score': 0.796187672805147,\n",
       " 'mimic_exact_match': 0.2,\n",
       " 'mimic_emb_cos_sim': 0.967782735824585,\n",
       " 'mimic_runtime': 1662.9228,\n",
       " 'mimic_samples_per_second': 0.03,\n",
       " 'mimic_steps_per_second': 0.002}"
      ]
     },
     "execution_count": 11,
     "metadata": {},
     "output_type": "execute_result"
    }
   ],
   "source": [
    "corr_trainer.args.per_device_eval_batch_size = 16\n",
    "corr_trainer.return_best_hypothesis = True\n",
    "corr_trainer.num_gen_recursive_steps = 50\n",
    "corr_trainer.sequence_beam_width = 8\n",
    "\n",
    "corr_trainer.evaluate(\n",
    "    eval_dataset=d[\"mimic\"].select(range(50)),\n",
    "    metric_key_prefix=\"mimic\",\n",
    ")"
   ]
  },
  {
   "cell_type": "markdown",
   "id": "fdd74236-e38a-4e54-9b25-2313727f48d7",
   "metadata": {},
   "source": [
    "## measure name metrics\n"
   ]
  },
  {
   "cell_type": "code",
   "execution_count": 12,
   "id": "0d884133-9c7b-4d40-bc46-70bb5942bb84",
   "metadata": {},
   "outputs": [],
   "source": [
    "import torch\n",
    "\n",
    "labels = torch.tensor(corr_trainer.preds_sample_labels_list)\n",
    "preds = torch.tensor(corr_trainer.preds_sample_list)\n",
    "\n",
    "# fix padding\n",
    "eos_token_id = corr_trainer.embedder_tokenizer.eos_token_id\n",
    "eos_tokens = (\n",
    "    torch.ones(\n",
    "        (len(preds), 1),\n",
    "        dtype=torch.long,\n",
    "        device=preds.device,\n",
    "    )\n",
    "    * eos_token_id\n",
    ")\n",
    "preds = torch.cat((preds[:, 1:], eos_tokens), dim=1)\n",
    "assert labels.shape == preds.shape"
   ]
  },
  {
   "cell_type": "code",
   "execution_count": 13,
   "id": "338dfb46-bd57-4eca-abe2-528773cbdc81",
   "metadata": {},
   "outputs": [
    {
     "data": {
      "text/plain": [
       "{'first': 0.9166666666666666,\n",
       " 'last': 0.8421052631578947,\n",
       " 'full': 0.7543859649122807}"
      ]
     },
     "execution_count": 13,
     "metadata": {},
     "output_type": "execute_result"
    }
   ],
   "source": [
    "from typing import Dict\n",
    "import nltk\n",
    "\n",
    "\n",
    "def evaluate_name_metrics(preds: torch.Tensor, labels: torch.Tensor) -> Dict[str, torch.Tensor]:\n",
    "    pred_strs = corr_trainer.tokenizer.batch_decode(preds, skip_special_tokens=True)\n",
    "    true_strs = corr_trainer.tokenizer.batch_decode(labels, skip_special_tokens=True)\n",
    "    firsts_count = 0\n",
    "    firsts_correct = 0\n",
    "    lasts_count = 0\n",
    "    lasts_correct = 0\n",
    "    totals_count = 0\n",
    "    totals_correct = 0\n",
    "    for p, t in zip(pred_strs, true_strs):\n",
    "        t = nltk.tokenize.word_tokenize(t)\n",
    "        first, last = t[0], t[1]\n",
    "        firsts_count += t.count(first)\n",
    "        lasts_count += t.count(last)\n",
    "        totals_count += \"__\".join(t).count(\"__\".join([first, last]))\n",
    "        #     \n",
    "        p = nltk.tokenize.word_tokenize(p)\n",
    "        firsts_correct += p.count(first)\n",
    "        lasts_correct += p.count(last)\n",
    "        totals_correct += \"__\".join(p).count(\"__\".join([first, last]))\n",
    "    return { \"first\": (firsts_correct / firsts_count), \"last\": (lasts_correct / lasts_count), \"full\": (totals_correct / totals_count) }\n",
    "\n",
    "evaluate_name_metrics(preds, labels)"
   ]
  },
  {
   "cell_type": "code",
   "execution_count": 15,
   "id": "1564e8a0-6cd5-4c1e-aeda-096fccade904",
   "metadata": {},
   "outputs": [
    {
     "data": {
      "text/plain": [
       "{'early_stopping': False,\n",
       " 'num_beams': 1,\n",
       " 'do_sample': False,\n",
       " 'no_repeat_ngram_size': 0}"
      ]
     },
     "execution_count": 15,
     "metadata": {},
     "output_type": "execute_result"
    }
   ],
   "source": [
    "corr_trainer.inversion_trainer.gen_kwargs"
   ]
  },
  {
   "cell_type": "code",
   "execution_count": 16,
   "id": "8bda497b-2e50-4b97-96f2-31ba75e0bb4a",
   "metadata": {},
   "outputs": [
    {
     "data": {
      "text/html": [
       "\n",
       "    <div>\n",
       "      \n",
       "      <progress value='3' max='3' style='width:300px; height:20px; vertical-align: middle;'></progress>\n",
       "      [3/3 00:00]\n",
       "    </div>\n",
       "    "
      ],
      "text/plain": [
       "<IPython.core.display.HTML object>"
      ]
     },
     "metadata": {},
     "output_type": "display_data"
    },
    {
     "name": "stderr",
     "output_type": "stream",
     "text": [
      "                                                                                                                                                                                  \r"
     ]
    },
    {
     "name": "stdout",
     "output_type": "stream",
     "text": [
      "[pred] with bilateral hip ossia and rheumatoid arthritis Regia Klu - fMRI pain at home with\n",
      "[true] Reginia Kloster sicu hpi: m presented to osh on with fever/chills and bilateral hip pain\n",
      "\n",
      "\n",
      "\n",
      "[pred] a male of Rosalyn Yn amo (Hyl esote). He has XML editing and has\n",
      "[true] Rosalynn Eynon this is a yo male with hx of aml s/p chemotherapy, found to\n",
      "\n",
      "\n",
      "\n",
      "[pred] Reichert name: Aubery Reichert sex, date of birth, unit of service, sex and sex of\n",
      "[true] Aubery Reichert name: reichert,aubery unit no: date of birth: sex: m service:\n"
     ]
    },
    {
     "data": {
      "text/plain": [
       "{'mimic_loss': 2.7380549907684326,\n",
       " 'mimic_accuracy': 0.4318033854166667,\n",
       " 'mimic_pred_num_tokens': 31.0,\n",
       " 'mimic_true_num_tokens': 31.890625,\n",
       " 'mimic_token_set_precision': 0.30447188321987734,\n",
       " 'mimic_token_set_recall': 0.3348138985840214,\n",
       " 'mimic_token_set_f1': 0.3165762396403704,\n",
       " 'mimic_n_ngrams_match_1': 5.338541666666667,\n",
       " 'mimic_n_ngrams_match_2': 1.0859375,\n",
       " 'mimic_n_ngrams_match_3': 0.28125,\n",
       " 'mimic_num_true_words': 17.1328125,\n",
       " 'mimic_num_pred_words': 16.4296875,\n",
       " 'mimic_bleu_score': 3.916002736499548,\n",
       " 'mimic_meteor_score': 0.23425502943117402,\n",
       " 'mimic_rouge_score': 0.31694972995276594,\n",
       " 'mimic_exact_match': 0.0,\n",
       " 'mimic_emb_cos_sim': 0.7712833881378174,\n",
       " 'mimic_perplexity': 15.456892042479177,\n",
       " 'mimic_runtime': 5.503,\n",
       " 'mimic_samples_per_second': 90.859,\n",
       " 'mimic_steps_per_second': 0.727}"
      ]
     },
     "execution_count": 16,
     "metadata": {},
     "output_type": "execute_result"
    }
   ],
   "source": [
    "## now do single-step\n",
    "\n",
    "corr_trainer.args.per_device_eval_batch_size = 16\n",
    "corr_trainer.return_best_hypothesis = True\n",
    "corr_trainer.num_gen_recursive_steps = 50\n",
    "corr_trainer.sequence_beam_width = 8\n",
    "\n",
    "corr_trainer.inversion_trainer.evaluate(\n",
    "    eval_dataset=d[\"mimic\"].select(range(500)),\n",
    "    metric_key_prefix=\"mimic\",\n",
    ")"
   ]
  },
  {
   "cell_type": "code",
   "execution_count": 17,
   "id": "ff33b203-e738-4c82-b6a5-ca37d2e39083",
   "metadata": {},
   "outputs": [
    {
     "data": {
      "text/plain": [
       "{'first': 0.4, 'last': 0.2807377049180328, 'full': 0.125}"
      ]
     },
     "execution_count": 17,
     "metadata": {},
     "output_type": "execute_result"
    }
   ],
   "source": [
    "import torch\n",
    "\n",
    "labels = torch.tensor(inv_trainer.preds_sample_labels_list)\n",
    "preds = torch.tensor(inv_trainer.preds_sample_list)\n",
    "\n",
    "# fix padding\n",
    "eos_token_id = corr_trainer.embedder_tokenizer.eos_token_id\n",
    "eos_tokens = (\n",
    "    torch.ones(\n",
    "        (len(preds), 1),\n",
    "        dtype=torch.long,\n",
    "        device=preds.device,\n",
    "    )\n",
    "    * eos_token_id\n",
    ")\n",
    "preds = torch.cat((preds[:, 1:], eos_tokens), dim=1)\n",
    "assert labels.shape == preds.shape\n",
    "\n",
    "evaluate_name_metrics(preds, labels)"
   ]
  },
  {
   "cell_type": "markdown",
   "id": "411f8874-8822-4612-a0e5-c5a6524ff814",
   "metadata": {},
   "source": [
    "## Trying a longer experiment"
   ]
  },
  {
   "cell_type": "code",
   "execution_count": null,
   "id": "8e419db2-3240-4900-9dc2-9d833ad5a8ee",
   "metadata": {},
   "outputs": [],
   "source": [
    "corr_trainer.args.per_device_eval_batch_size = 8\n",
    "corr_trainer.return_best_hypothesis = True\n",
    "corr_trainer.num_gen_recursive_steps = 500\n",
    "corr_trainer.sequence_beam_width = 8\n",
    "\n",
    "corr_trainer.evaluate(\n",
    "    eval_dataset=d[\"mimic\"].select(range(100)),\n",
    "    metric_key_prefix=\"mimic\",\n",
    ")"
   ]
  },
  {
   "cell_type": "code",
   "execution_count": null,
   "id": "b48b5bc0-0596-4d7c-baf1-a2ca570da47c",
   "metadata": {},
   "outputs": [],
   "source": [
    "corr_trainer"
   ]
  },
  {
   "cell_type": "code",
   "execution_count": null,
   "id": "f9ad626d-0af9-4017-9faf-ce95107605b5",
   "metadata": {},
   "outputs": [],
   "source": []
  }
 ],
 "metadata": {
  "kernelspec": {
   "display_name": "Python 3 (ipykernel)",
   "language": "python",
   "name": "python3"
  },
  "language_info": {
   "codemirror_mode": {
    "name": "ipython",
    "version": 3
   },
   "file_extension": ".py",
   "mimetype": "text/x-python",
   "name": "python",
   "nbconvert_exporter": "python",
   "pygments_lexer": "ipython3",
   "version": "3.10.10"
  }
 },
 "nbformat": 4,
 "nbformat_minor": 5
}
