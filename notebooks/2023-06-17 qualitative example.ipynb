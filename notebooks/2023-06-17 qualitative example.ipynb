{
 "cells": [
  {
   "cell_type": "code",
   "execution_count": 1,
   "id": "4984d3da-f1e3-4c24-a19c-fd0a930aa129",
   "metadata": {},
   "outputs": [],
   "source": [
    "%load_ext autoreload\n",
    "%autoreload 2\n",
    "\n",
    "import os\n",
    "os.environ[\"WANDB_DISABLED\"] = \"true\"\n",
    "\n",
    "import sys\n",
    "sys.path = [\n",
    "    p for p in sys.path\n",
    "    if p not in ['/home/jxm3/research/prompting/imodelsX', '/home/jxm3/research/prompting/tree-prompt']\n",
    "]\n",
    "sys.path.append('/home/jxm3/research/retrieval/inversion')"
   ]
  },
  {
   "cell_type": "code",
   "execution_count": 8,
   "id": "51798b52-3a04-43e0-abaa-9f48c9c89b43",
   "metadata": {},
   "outputs": [
    {
     "name": "stdout",
     "output_type": "stream",
     "text": [
      "loading alias gtr_nq__msl32_beta__correct from /home/jxm3/research/retrieval/inversion/saves/47d9c149a8e827d0609abbeefdfd89ac...\n",
      "> checkpoint: /home/jxm3/research/retrieval/inversion/saves/47d9c149a8e827d0609abbeefdfd89ac/checkpoint-558000\n",
      "set dataset to nq\n",
      "loading alias dpr_nq__msl32_beta from /home/jxm3/research/retrieval/inversion/saves/db66b9c01b644541fedbdcc59c53a285/ebb31d91810c4b62d2b55b5382e8c7ea...\n",
      "Set num workers to 4\n",
      "Overwriting max sequence length from 32 to 32\n",
      "Overwriting use_less_data from None to -1\n",
      "> checkpoint: /home/jxm3/research/retrieval/inversion/saves/db66b9c01b644541fedbdcc59c53a285/ebb31d91810c4b62d2b55b5382e8c7ea/checkpoint-999744\n"
     ]
    },
    {
     "name": "stderr",
     "output_type": "stream",
     "text": [
      "/home/jxm3/.conda/envs/torch/lib/python3.10/site-packages/transformers/models/t5/tokenization_t5_fast.py:155: FutureWarning: This tokenizer was incorrectly instantiated with a model max length of 512 which will be corrected in Transformers v5.\n",
      "For now, this behavior is kept to avoid breaking backwards compatibility when padding/encoding with `truncation is True`.\n",
      "- Be aware that you SHOULD NOT rely on t5-base automatically truncating your input to 512 when padding/encoding.\n",
      "- If you want to encode/pad to sequences longer than 512 you can either instantiate this tokenizer with `model_max_length` or pass `max_length` when encoding/padding.\n",
      "- To avoid this warning, please instantiate this tokenizer with `model_max_length` set to your preferred value.\n",
      "  warnings.warn(\n"
     ]
    },
    {
     "name": "stdout",
     "output_type": "stream",
     "text": [
      "Loading datasets with TOKENIZERS_PARALLELISM = True\n"
     ]
    },
    {
     "name": "stderr",
     "output_type": "stream",
     "text": [
      "[nltk_data] Downloading package wordnet to /home/jxm3/nltk_data...\n",
      "[nltk_data]   Package wordnet is already up-to-date!\n",
      "[nltk_data] Downloading package punkt to /home/jxm3/nltk_data...\n",
      "[nltk_data]   Package punkt is already up-to-date!\n",
      "[nltk_data] Downloading package omw-1.4 to /home/jxm3/nltk_data...\n",
      "[nltk_data]   Package omw-1.4 is already up-to-date!\n"
     ]
    },
    {
     "name": "stdout",
     "output_type": "stream",
     "text": [
      "Renaming keys {'embedding_transform.2.weight', 'embedding_transform.2.bias'} for backward compatibility.\n",
      "================ Begin trainer sanity check ================\n",
      "\tInput to encode -> Twas brillig, and the slithy toves, Did gyre and gimble in the wabe, All mimsy were the borogoves, And the mome raths outgrabe.\n",
      "\tDecoded output shape ->  torch.Size([1, 33])\n",
      "\tDecoded output -> The mlbies wase wyst bograge; And the sliths and toms wy\n",
      "================ End trainer sanity check ================\n",
      "Froze 342572160 params from model type <class 'models.inversion.InversionModel'>\n"
     ]
    },
    {
     "name": "stderr",
     "output_type": "stream",
     "text": [
      "[nltk_data] Downloading package wordnet to /home/jxm3/nltk_data...\n",
      "[nltk_data]   Package wordnet is already up-to-date!\n",
      "[nltk_data] Downloading package punkt to /home/jxm3/nltk_data...\n",
      "[nltk_data]   Package punkt is already up-to-date!\n",
      "[nltk_data] Downloading package omw-1.4 to /home/jxm3/nltk_data...\n",
      "[nltk_data]   Package omw-1.4 is already up-to-date!\n"
     ]
    },
    {
     "name": "stdout",
     "output_type": "stream",
     "text": [
      "Renaming keys {'embedding_transform.2.weight', 'embedding_transform.2.bias'} for backward compatibility.\n",
      "================ Begin trainer sanity check ================\n",
      "\tInput to encode -> Twas brillig, and the slithy toves, Did gyre and gimble in the wabe, All mimsy were the borogoves, And the mome raths outgrabe.\n",
      "\tDecoded output shape ->  torch.Size([1, 33])\n",
      "\tDecoded output -> The slithe and the tobogbes were mly; It wis grabbse tiring\n",
      "================ End trainer sanity check ================\n",
      "\n"
     ]
    }
   ],
   "source": [
    "import aliases\n",
    "\n",
    "os.environ[\"TOKENIZERS_MULTIPROCESSING\"] = \"True\"\n",
    "\n",
    "# inv_trainer = aliases.load_trainer_from_alias(\"openai_msmarco__msl128__100epoch\")\n",
    "corr_experiment, corr_trainer = aliases.load_experiment_and_trainer_from_alias(\"gtr_nq__msl32_beta__correct\")\n",
    "inv_trainer = corr_trainer.inversion_trainer\n",
    "# corr_trainer.precompute_hypotheses()\n",
    "corr_trainer.model.eval()\n",
    "print()"
   ]
  },
  {
   "cell_type": "code",
   "execution_count": 46,
   "id": "cf80d7c6-e719-4ea4-b1e5-179a23a63553",
   "metadata": {},
   "outputs": [
    {
     "data": {
      "application/vnd.jupyter.widget-view+json": {
       "model_id": "",
       "version_major": 2,
       "version_minor": 0
      },
      "text/plain": [
       "Running tokenizer on dataset:   0%|          | 0/1 [00:00<?, ? examples/s]"
      ]
     },
     "metadata": {},
     "output_type": "display_data"
    },
    {
     "data": {
      "application/vnd.jupyter.widget-view+json": {
       "model_id": "",
       "version_major": 2,
       "version_minor": 0
      },
      "text/plain": [
       "Filter:   0%|          | 0/1 [00:00<?, ? examples/s]"
      ]
     },
     "metadata": {},
     "output_type": "display_data"
    }
   ],
   "source": [
    "import datasets\n",
    "\n",
    "# https://en.wikipedia.org/wiki/Mage_(horse)\n",
    "text = \"Mage (foaled April 18, 2020) is an American Thoroughbred racehorse who won the 2023 Kentucky Derby.\"\n",
    "\n",
    "# \"Mage (foaled April 18, 2020) is an American Thoroughbred racehorse who won the 2023 Kentucky Derby.\n",
    "# Mage is a chestnut colt bred in Kentucky by Grandview Equine. His sire Good Magic was the U.S. Champion Two-Year-Old in 2017 after he won the 2017 Breeders' Cup Juvenile as maiden; in 2018 he finished second in the Kentucky Derby.[4]\n",
    "\n",
    "\n",
    "temp_dataset = datasets.Dataset.from_list([{\"text\": text}])\n",
    "datasets_dict = datasets.DatasetDict({\n",
    "    \"mage\": temp_dataset\n",
    "})\n",
    "d = corr_experiment._prepare_val_datasets_dict(\n",
    "    model=corr_trainer.inversion_trainer.model,\n",
    "    val_datasets_dict=datasets_dict,\n",
    "    tokenizer=corr_trainer.tokenizer,\n",
    "    embedder_tokenizer=corr_trainer.embedder_tokenizer,\n",
    ")"
   ]
  },
  {
   "cell_type": "code",
   "execution_count": 50,
   "id": "074359e4-64b3-497c-b181-d486420f0f27",
   "metadata": {},
   "outputs": [
    {
     "data": {
      "text/plain": [
       "{'early_stopping': False,\n",
       " 'num_beams': 1,\n",
       " 'do_sample': False,\n",
       " 'no_repeat_ngram_size': 0}"
      ]
     },
     "execution_count": 50,
     "metadata": {},
     "output_type": "execute_result"
    }
   ],
   "source": [
    "corr_trainer.gen_kwargs"
   ]
  },
  {
   "cell_type": "code",
   "execution_count": 64,
   "id": "17d8a64a-9201-47f2-be89-19a5ac816f19",
   "metadata": {},
   "outputs": [
    {
     "data": {
      "text/plain": [
       "['<pad> Kentucky Derby, which was won by Mage (April 20, 2010), who is an American Thoroughbred horse and mare. He made his final run']"
      ]
     },
     "execution_count": 64,
     "metadata": {},
     "output_type": "execute_result"
    }
   ],
   "source": [
    "dl = corr_trainer.get_eval_dataloader(d[\"mage\"].select([0,]))\n",
    "gen_kwargs = {\n",
    "    \"max_length\": 32,\n",
    "    **corr_trainer.gen_kwargs\n",
    "}\n",
    "corr_trainer.inversion_trainer.model.noise_level = .005\n",
    "guess = corr_trainer.inversion_trainer.generate(\n",
    "    inputs={k: v.cuda() for k,v in next(iter(dl)).items()},\n",
    "    generation_kwargs=gen_kwargs\n",
    ")\n",
    "corr_trainer.tokenizer.batch_decode(guess, add_special_tokens=False)"
   ]
  },
  {
   "cell_type": "code",
   "execution_count": 31,
   "id": "61042c7a-3ccc-475f-a861-2bc2dc15e677",
   "metadata": {},
   "outputs": [
    {
     "name": "stderr",
     "output_type": "stream",
     "text": [
      "                                                                                                                                                                                 \r"
     ]
    },
    {
     "name": "stdout",
     "output_type": "stream",
     "text": [
      "[pred] Mage (foaled April 20, 2020) is an American Thoroughbred racehorse who won the 1923 Kentucky Derby.\n",
      "[true] Mage (foaled April 18, 2020) is an American Thoroughbred racehorse who won the 2023 Kentucky Derby.\n",
      "\n",
      "\n",
      "\n",
      "[pred] Mage (foaled April 20, 2020) is an American Thoroughbred racehorse who won the 1923 Kentucky Derby.\n",
      "[true] Mage (foaled April 18, 2020) is an American Thoroughbred racehorse who won the 2023 Kentucky Derby.\n",
      "\n",
      "\n",
      "\n",
      "[pred] Mage (foaled April 20, 2020) is an American Thoroughbred racehorse who won the 1923 Kentucky Derby.\n",
      "[true] Mage (foaled April 18, 2020) is an American Thoroughbred racehorse who won the 2023 Kentucky Derby.\n"
     ]
    },
    {
     "name": "stderr",
     "output_type": "stream",
     "text": [
      "                                                                                                                                                                                 \r"
     ]
    },
    {
     "name": "stdout",
     "output_type": "stream",
     "text": [
      "[pred] Mage (foaled April 20, 2020) is an American Thoroughbred racehorse who won the 1923 Kentucky Derby.\n",
      "[true] Mage (foaled April 18, 2020) is an American Thoroughbred racehorse who won the 2023 Kentucky Derby.\n",
      "\n",
      "\n",
      "\n",
      "[pred] Mage (foaled April 20, 2020) is an American Thoroughbred racehorse who won the 1923 Kentucky Derby.\n",
      "[true] Mage (foaled April 18, 2020) is an American Thoroughbred racehorse who won the 2023 Kentucky Derby.\n",
      "\n",
      "\n",
      "\n",
      "[pred] Mage (foaled April 20, 2020) is an American Thoroughbred racehorse who won the 1923 Kentucky Derby.\n",
      "[true] Mage (foaled April 18, 2020) is an American Thoroughbred racehorse who won the 2023 Kentucky Derby.\n"
     ]
    },
    {
     "data": {
      "text/plain": [
       "{'eval_loss': 0.13891343772411346,\n",
       " 'eval_pred_num_tokens': 31.0,\n",
       " 'eval_true_num_tokens': 32.0,\n",
       " 'eval_token_set_precision': 0.9,\n",
       " 'eval_token_set_recall': 0.9,\n",
       " 'eval_token_set_f1': 0.9,\n",
       " 'eval_n_ngrams_match_1': 18.0,\n",
       " 'eval_n_ngrams_match_2': 15.0,\n",
       " 'eval_n_ngrams_match_3': 12.0,\n",
       " 'eval_num_true_words': 20.0,\n",
       " 'eval_num_pred_words': 20.0,\n",
       " 'eval_bleu_score': 70.76534431960266,\n",
       " 'eval_meteor_score': 0.8979166666666667,\n",
       " 'eval_rouge_score': 0.875,\n",
       " 'eval_exact_match': 0.0,\n",
       " 'eval_emb_cos_sim': 0.9964544773101807,\n",
       " 'eval_runtime': 7.209,\n",
       " 'eval_samples_per_second': 0.416,\n",
       " 'eval_steps_per_second': 0.139}"
      ]
     },
     "execution_count": 31,
     "metadata": {},
     "output_type": "execute_result"
    }
   ],
   "source": [
    "corr_trainer.evaluate(eval_dataset=d[\"mage\"].select([0, 0, 0]))"
   ]
  },
  {
   "cell_type": "code",
   "execution_count": 34,
   "id": "33f2649a-ed97-493d-91ae-b563c1b46065",
   "metadata": {},
   "outputs": [
    {
     "name": "stderr",
     "output_type": "stream",
     "text": [
      "                                                                                                                                                                                 \r"
     ]
    },
    {
     "name": "stdout",
     "output_type": "stream",
     "text": [
      "[pred] Mage (foaled April 18, 2020) is an American Thoroughbred racehorse who won the 2023 Kentucky Derby.\n",
      "[true] Mage (foaled April 18, 2020) is an American Thoroughbred racehorse who won the 2023 Kentucky Derby.\n",
      "\n",
      "\n",
      "\n",
      "[pred] Mage (foaled April 18, 2020) is an American Thoroughbred racehorse who won the 2023 Kentucky Derby.\n",
      "[true] Mage (foaled April 18, 2020) is an American Thoroughbred racehorse who won the 2023 Kentucky Derby.\n",
      "\n",
      "\n",
      "\n",
      "[pred] Mage (foaled April 18, 2020) is an American Thoroughbred racehorse who won the 2023 Kentucky Derby.\n",
      "[true] Mage (foaled April 18, 2020) is an American Thoroughbred racehorse who won the 2023 Kentucky Derby.\n"
     ]
    },
    {
     "name": "stderr",
     "output_type": "stream",
     "text": [
      "                                                                                                                                                                                 \r"
     ]
    },
    {
     "name": "stdout",
     "output_type": "stream",
     "text": [
      "[pred] Mage (foaled April 18, 2020) is an American Thoroughbred racehorse who won the 2023 Kentucky Derby.\n",
      "[true] Mage (foaled April 18, 2020) is an American Thoroughbred racehorse who won the 2023 Kentucky Derby.\n",
      "\n",
      "\n",
      "\n",
      "[pred] Mage (foaled April 18, 2020) is an American Thoroughbred racehorse who won the 2023 Kentucky Derby.\n",
      "[true] Mage (foaled April 18, 2020) is an American Thoroughbred racehorse who won the 2023 Kentucky Derby.\n",
      "\n",
      "\n",
      "\n",
      "[pred] Mage (foaled April 18, 2020) is an American Thoroughbred racehorse who won the 2023 Kentucky Derby.\n",
      "[true] Mage (foaled April 18, 2020) is an American Thoroughbred racehorse who won the 2023 Kentucky Derby.\n"
     ]
    },
    {
     "data": {
      "text/plain": [
       "{'eval_loss': 0.13891343772411346,\n",
       " 'eval_pred_num_tokens': 31.0,\n",
       " 'eval_true_num_tokens': 32.0,\n",
       " 'eval_token_set_precision': 1.0,\n",
       " 'eval_token_set_recall': 1.0,\n",
       " 'eval_token_set_f1': 1.0,\n",
       " 'eval_n_ngrams_match_1': 20.0,\n",
       " 'eval_n_ngrams_match_2': 19.0,\n",
       " 'eval_n_ngrams_match_3': 18.0,\n",
       " 'eval_num_true_words': 20.0,\n",
       " 'eval_num_pred_words': 20.0,\n",
       " 'eval_bleu_score': 100.00000000000004,\n",
       " 'eval_meteor_score': 0.9999375,\n",
       " 'eval_rouge_score': 1.0,\n",
       " 'eval_exact_match': 1.0,\n",
       " 'eval_emb_cos_sim': 1.0,\n",
       " 'eval_runtime': 8.1186,\n",
       " 'eval_samples_per_second': 0.37,\n",
       " 'eval_steps_per_second': 0.123}"
      ]
     },
     "execution_count": 34,
     "metadata": {},
     "output_type": "execute_result"
    }
   ],
   "source": [
    "corr_trainer.num_gen_recursive_steps = 2\n",
    "corr_trainer.evaluate(eval_dataset=d[\"mage\"].select([0, 0, 0]))"
   ]
  },
  {
   "cell_type": "code",
   "execution_count": 35,
   "id": "824ec76c-7abe-4cfd-8e5e-bc24202ad013",
   "metadata": {},
   "outputs": [
    {
     "name": "stderr",
     "output_type": "stream",
     "text": [
      "                                                                                                                                                                                 \r"
     ]
    },
    {
     "name": "stdout",
     "output_type": "stream",
     "text": [
      "[pred] Mage (foaled April 18, 2020) is an American Thoroughbred racehorse who won the 2023 Kentucky Derby.\n",
      "[true] Mage (foaled April 18, 2020) is an American Thoroughbred racehorse who won the 2023 Kentucky Derby.\n",
      "\n",
      "\n",
      "\n",
      "[pred] Mage (foaled April 18, 2020) is an American Thoroughbred racehorse who won the 2023 Kentucky Derby.\n",
      "[true] Mage (foaled April 18, 2020) is an American Thoroughbred racehorse who won the 2023 Kentucky Derby.\n",
      "\n",
      "\n",
      "\n",
      "[pred] Mage (foaled April 18, 2020) is an American Thoroughbred racehorse who won the 2023 Kentucky Derby.\n",
      "[true] Mage (foaled April 18, 2020) is an American Thoroughbred racehorse who won the 2023 Kentucky Derby.\n"
     ]
    },
    {
     "name": "stderr",
     "output_type": "stream",
     "text": [
      "                                                                                                                                                                                 \r"
     ]
    },
    {
     "name": "stdout",
     "output_type": "stream",
     "text": [
      "[pred] Mage (foaled April 18, 2020) is an American Thoroughbred racehorse who won the 2023 Kentucky Derby.\n",
      "[true] Mage (foaled April 18, 2020) is an American Thoroughbred racehorse who won the 2023 Kentucky Derby.\n",
      "\n",
      "\n",
      "\n",
      "[pred] Mage (foaled April 18, 2020) is an American Thoroughbred racehorse who won the 2023 Kentucky Derby.\n",
      "[true] Mage (foaled April 18, 2020) is an American Thoroughbred racehorse who won the 2023 Kentucky Derby.\n",
      "\n",
      "\n",
      "\n",
      "[pred] Mage (foaled April 18, 2020) is an American Thoroughbred racehorse who won the 2023 Kentucky Derby.\n",
      "[true] Mage (foaled April 18, 2020) is an American Thoroughbred racehorse who won the 2023 Kentucky Derby.\n"
     ]
    },
    {
     "data": {
      "text/plain": [
       "{'eval_loss': 0.13891343772411346,\n",
       " 'eval_pred_num_tokens': 31.0,\n",
       " 'eval_true_num_tokens': 32.0,\n",
       " 'eval_token_set_precision': 1.0,\n",
       " 'eval_token_set_recall': 1.0,\n",
       " 'eval_token_set_f1': 1.0,\n",
       " 'eval_n_ngrams_match_1': 20.0,\n",
       " 'eval_n_ngrams_match_2': 19.0,\n",
       " 'eval_n_ngrams_match_3': 18.0,\n",
       " 'eval_num_true_words': 20.0,\n",
       " 'eval_num_pred_words': 20.0,\n",
       " 'eval_bleu_score': 100.00000000000004,\n",
       " 'eval_meteor_score': 0.9999375,\n",
       " 'eval_rouge_score': 1.0,\n",
       " 'eval_exact_match': 1.0,\n",
       " 'eval_emb_cos_sim': 1.0,\n",
       " 'eval_runtime': 9.33,\n",
       " 'eval_samples_per_second': 0.322,\n",
       " 'eval_steps_per_second': 0.107}"
      ]
     },
     "execution_count": 35,
     "metadata": {},
     "output_type": "execute_result"
    }
   ],
   "source": [
    "corr_trainer.num_gen_recursive_steps = 3\n",
    "corr_trainer.evaluate(eval_dataset=d[\"mage\"].select([0, 0, 0]))"
   ]
  },
  {
   "cell_type": "code",
   "execution_count": null,
   "id": "041cdeba-479b-49b1-8127-a58607d63da0",
   "metadata": {},
   "outputs": [],
   "source": []
  }
 ],
 "metadata": {
  "kernelspec": {
   "display_name": "Python 3 (ipykernel)",
   "language": "python",
   "name": "python3"
  },
  "language_info": {
   "codemirror_mode": {
    "name": "ipython",
    "version": 3
   },
   "file_extension": ".py",
   "mimetype": "text/x-python",
   "name": "python",
   "nbconvert_exporter": "python",
   "pygments_lexer": "ipython3",
   "version": "3.10.10"
  }
 },
 "nbformat": 4,
 "nbformat_minor": 5
}
