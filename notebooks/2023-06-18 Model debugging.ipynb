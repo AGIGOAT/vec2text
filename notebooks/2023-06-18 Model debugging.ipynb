{
 "cells": [
  {
   "cell_type": "code",
   "execution_count": 1,
   "id": "324e1c4e-f125-4d40-b059-d9b6dfc4cb8f",
   "metadata": {},
   "outputs": [],
   "source": [
    "%load_ext autoreload\n",
    "%autoreload 2\n",
    "\n",
    "import os\n",
    "os.environ[\"WANDB_DISABLED\"] = \"true\"\n",
    "\n",
    "import sys\n",
    "sys.path = [\n",
    "    p for p in sys.path\n",
    "    if p not in ['/home/jxm3/research/prompting/imodelsX', '/home/jxm3/research/prompting/tree-prompt']\n",
    "]\n",
    "sys.path.append('/home/jxm3/research/retrieval/inversion')"
   ]
  },
  {
   "cell_type": "code",
   "execution_count": 67,
   "id": "7145d892-dcb2-4ab5-97a5-b1789d135045",
   "metadata": {},
   "outputs": [
    {
     "name": "stdout",
     "output_type": "stream",
     "text": [
      "loading alias openai_msmarco__msl128__100epoch__correct from /home/jxm3/research/retrieval/inversion/saves/d6ec9d5838a4ad3daeba636e5378a8a0...\n",
      "> checkpoint: /home/jxm3/research/retrieval/inversion/saves/d6ec9d5838a4ad3daeba636e5378a8a0/checkpoint-384000\n",
      "Corrector encoder noise level 0.001\n",
      "loading alias openai_msmarco__msl128__100epoch from /home/jxm3/research/retrieval/inversion/saves/f9abd65db4c4823264b133816d08612f...\n",
      "Overwriting max sequence length from 128 to 128\n",
      "Overwriting use_less_data from 1000000 to 1000000\n",
      "> checkpoint: /home/jxm3/research/retrieval/inversion/saves/f9abd65db4c4823264b133816d08612f/checkpoint-194000\n",
      "Loading datasets with TOKENIZERS_PARALLELISM = False\n"
     ]
    },
    {
     "name": "stderr",
     "output_type": "stream",
     "text": [
      "[nltk_data] Downloading package wordnet to /home/jxm3/nltk_data...\n",
      "[nltk_data]   Package wordnet is already up-to-date!\n",
      "[nltk_data] Downloading package punkt to /home/jxm3/nltk_data...\n",
      "[nltk_data]   Package punkt is already up-to-date!\n",
      "[nltk_data] Downloading package omw-1.4 to /home/jxm3/nltk_data...\n",
      "[nltk_data]   Package omw-1.4 is already up-to-date!\n"
     ]
    },
    {
     "name": "stdout",
     "output_type": "stream",
     "text": [
      "================ Begin trainer sanity check ================\n",
      "\tInput to encode -> Twas brillig, and the slithy toves, Did gyre and gimble in the wabe, All mimsy were the borogoves, And the mome raths outgrabe.\n",
      "\tDecoded output shape ->  torch.Size([1, 86])\n",
      "\tDecoded output -> And the trolls, trolls, trolls, trolls, trolls, trolls, trolls, trolls, trolls, trolls, trolls, trolls, trolls, trolls, was brilliant, and smooty.\n",
      "================ End trainer sanity check ================\n",
      "Froze 353779584 params from model type <class 'models.inversion.InversionModel'>\n"
     ]
    },
    {
     "name": "stderr",
     "output_type": "stream",
     "text": [
      "[nltk_data] Downloading package wordnet to /home/jxm3/nltk_data...\n",
      "[nltk_data]   Package wordnet is already up-to-date!\n",
      "[nltk_data] Downloading package punkt to /home/jxm3/nltk_data...\n",
      "[nltk_data]   Package punkt is already up-to-date!\n",
      "[nltk_data] Downloading package omw-1.4 to /home/jxm3/nltk_data...\n",
      "[nltk_data]   Package omw-1.4 is already up-to-date!\n"
     ]
    },
    {
     "name": "stdout",
     "output_type": "stream",
     "text": [
      "================ Begin trainer sanity check ================\n",
      "\tInput to encode -> Twas brillig, and the slithy toves, Did gyre and gimble in the wabe, All mimsy were the borogoves, And the mome raths outgrabe.\n",
      "[1] (hypothesis_input_ids == 1).sum(): tensor(0, device='cuda:0')\n",
      "\tDecoded output shape ->  torch.Size([1, 64])\n",
      "\tDecoded output -> Was brilliant, and witty, And witty, and witty, and witty, and witty, and witty, and witty, witty, witty, witty, witty, witty, witty.\n",
      "================ End trainer sanity check ================\n",
      "\n"
     ]
    }
   ],
   "source": [
    "import aliases\n",
    "\n",
    "os.environ[\"TOKENIZERS_MULTIPROCESSING\"] = \"True\"\n",
    "\n",
    "# inv_trainer = aliases.load_trainer_from_alias(\"openai_msmarco__msl128__100epoch\")\n",
    "corr_experiment_not_precomputed, corr_trainer_not_precomputed = aliases.load_experiment_and_trainer_from_alias(\n",
    "    \"openai_msmarco__msl128__100epoch__correct\"\n",
    ")\n",
    "corr_trainer_not_precomputed.model.eval()\n",
    "print()"
   ]
  },
  {
   "cell_type": "code",
   "execution_count": 69,
   "id": "57524c86-a8ae-41cc-aa09-e51993272db8",
   "metadata": {},
   "outputs": [
    {
     "name": "stdout",
     "output_type": "stream",
     "text": [
      "loading alias openai_msmarco__msl128__100epoch__correct from /home/jxm3/research/retrieval/inversion/saves/d6ec9d5838a4ad3daeba636e5378a8a0...\n",
      "> checkpoint: /home/jxm3/research/retrieval/inversion/saves/d6ec9d5838a4ad3daeba636e5378a8a0/checkpoint-384000\n",
      "Corrector encoder noise level 0.001\n",
      "loading alias openai_msmarco__msl128__100epoch from /home/jxm3/research/retrieval/inversion/saves/f9abd65db4c4823264b133816d08612f...\n",
      "Overwriting max sequence length from 128 to 128\n",
      "Overwriting use_less_data from 1000000 to 1000000\n",
      "> checkpoint: /home/jxm3/research/retrieval/inversion/saves/f9abd65db4c4823264b133816d08612f/checkpoint-194000\n",
      "Loading datasets with TOKENIZERS_PARALLELISM = False\n"
     ]
    },
    {
     "name": "stderr",
     "output_type": "stream",
     "text": [
      "[nltk_data] Downloading package wordnet to /home/jxm3/nltk_data...\n",
      "[nltk_data]   Package wordnet is already up-to-date!\n",
      "[nltk_data] Downloading package punkt to /home/jxm3/nltk_data...\n",
      "[nltk_data]   Package punkt is already up-to-date!\n",
      "[nltk_data] Downloading package omw-1.4 to /home/jxm3/nltk_data...\n",
      "[nltk_data]   Package omw-1.4 is already up-to-date!\n"
     ]
    },
    {
     "name": "stdout",
     "output_type": "stream",
     "text": [
      "================ Begin trainer sanity check ================\n",
      "\tInput to encode -> Twas brillig, and the slithy toves, Did gyre and gimble in the wabe, All mimsy were the borogoves, And the mome raths outgrabe.\n",
      "\tDecoded output shape ->  torch.Size([1, 86])\n",
      "\tDecoded output -> And the trolls, trolls, trolls, trolls, trolls, trolls, trolls, trolls, trolls, trolls, trolls, trolls, trolls, trolls, was brilliant, and smooty.\n",
      "================ End trainer sanity check ================\n",
      "Froze 353779584 params from model type <class 'models.inversion.InversionModel'>\n"
     ]
    },
    {
     "name": "stderr",
     "output_type": "stream",
     "text": [
      "[nltk_data] Downloading package wordnet to /home/jxm3/nltk_data...\n",
      "[nltk_data]   Package wordnet is already up-to-date!\n",
      "[nltk_data] Downloading package punkt to /home/jxm3/nltk_data...\n",
      "[nltk_data]   Package punkt is already up-to-date!\n",
      "[nltk_data] Downloading package omw-1.4 to /home/jxm3/nltk_data...\n",
      "[nltk_data]   Package omw-1.4 is already up-to-date!\n"
     ]
    },
    {
     "name": "stdout",
     "output_type": "stream",
     "text": [
      "================ Begin trainer sanity check ================\n",
      "\tInput to encode -> Twas brillig, and the slithy toves, Did gyre and gimble in the wabe, All mimsy were the borogoves, And the mome raths outgrabe.\n",
      "[1] (hypothesis_input_ids == 1).sum(): tensor(0, device='cuda:0')\n",
      "\tDecoded output shape ->  torch.Size([1, 64])\n",
      "\tDecoded output -> Was brilliant, and witty, And witty, and witty, and witty, and witty, and witty, and witty, witty, witty, witty, witty, witty, witty.\n",
      "================ End trainer sanity check ================\n",
      "Saving hypotheses to path /home/jxm3/research/retrieval/inversion/saves/f9abd65db4c4823264b133816d08612f/9d4a4d4b36da188a6e9dcb9736262823/0ed77465b20070e5_hypotheses.cache\n"
     ]
    },
    {
     "data": {
      "application/vnd.jupyter.widget-view+json": {
       "model_id": "0e40c926111b41deac0922fceace887c",
       "version_major": 2,
       "version_minor": 0
      },
      "text/plain": [
       "Precomputing hypotheses for data:   0%|          | 0/1000000 [00:00<?, ? examples/s]"
      ]
     },
     "metadata": {},
     "output_type": "display_data"
    },
    {
     "name": "stdout",
     "output_type": "stream",
     "text": [
      "input_ids[0]: Examples: HF, HCl, HBr, HI, H2O, H2S. The names of binary acids begin with hydro-followed by the name of the other element modified to end with-ic (like in hydro chlor ic acid). Binary Acids are one of two classes of acids, the second being the Ternary Acids. The Ternary acids either consist of a hydrogen, oxygen and one other nonmetal element called the oxoacids (like HNO3), or they consist of hydrogen and two other nonmetal elements,</s>\n",
      "hypothesis_input_ids[0]: <pad> Examples of Acidic Acids include HF, H2O, H2O, and H2O. Hydrogenic Acids begin with the name of the ionic compound (H-) followed by the name of the ionic compound (H-). Hydrogenic acids are one of two classes of ionic compounds, the other two being bic acids (H-) and bic acids (B-). Unlike a tetrahedral acid, a bic acid is a tetrahedral compound with a tetrahe\n",
      "> \u001b[0;32m/home/jxm3/research/retrieval/inversion/trainers/corrector.py\u001b[0m(194)\u001b[0;36m_precompute_hypothesis_and_embedding\u001b[0;34m()\u001b[0m\n",
      "\u001b[0;32m    192 \u001b[0;31m        )\n",
      "\u001b[0m\u001b[0;32m    193 \u001b[0;31m        \u001b[0;32mimport\u001b[0m \u001b[0mpdb\u001b[0m\u001b[0;34m;\u001b[0m \u001b[0mpdb\u001b[0m\u001b[0;34m.\u001b[0m\u001b[0mset_trace\u001b[0m\u001b[0;34m(\u001b[0m\u001b[0;34m)\u001b[0m\u001b[0;34m\u001b[0m\u001b[0;34m\u001b[0m\u001b[0m\n",
      "\u001b[0m\u001b[0;32m--> 194 \u001b[0;31m        \u001b[0;32mreturn\u001b[0m \u001b[0mds_inputs\u001b[0m\u001b[0;34m\u001b[0m\u001b[0;34m\u001b[0m\u001b[0m\n",
      "\u001b[0m\u001b[0;32m    195 \u001b[0;31m\u001b[0;34m\u001b[0m\u001b[0m\n",
      "\u001b[0m\u001b[0;32m    196 \u001b[0;31m    def _preprocess_dataset(\n",
      "\u001b[0m\n"
     ]
    },
    {
     "name": "stdin",
     "output_type": "stream",
     "text": [
      "ipdb>  p input_ids[0]\n"
     ]
    },
    {
     "name": "stdout",
     "output_type": "stream",
     "text": [
      "tensor(0)\n"
     ]
    },
    {
     "name": "stdin",
     "output_type": "stream",
     "text": [
      "ipdb>  p input_ids\n"
     ]
    },
    {
     "name": "stdout",
     "output_type": "stream",
     "text": [
      "tensor([   0,  451,  243,   25,   54,    3, 1544,   39, 6205,   11, 6533,   21,\n",
      "           3,    9, 6816,    3,    9,  239,    5,    5,   37,  789, 3024,   24,\n",
      "         502,    3, 1544,    3,    9, 1444, 3178,   13,   44,  709,  335, 6533,\n",
      "          11, 6205,   12, 1792,    3,    9, 3178,   24,   19,  306,   16, 8534,\n",
      "        4371,    5,   37,  583,   13, 6205,   19, 1086,  344, 3771,   11, 5583,\n",
      "           3,    9,  239,    5,  196,   17, 1439,    2,    7,  310,  614,   12,\n",
      "         129, 1082,   12,    3, 1544,   72,  145,   24,    6,  255,  243,    5,\n",
      "         196,   17, 1439,    2,    7,    3,    9,  418,   13,  161,    5,    5,\n",
      "          88,  789, 3024,   24,  502,    3, 1544,    3,    9, 1444, 3178,   13,\n",
      "          44,  709,  335, 6533,   11, 6205,   12, 1792,    3,    9, 3178,   24,\n",
      "          19,  306,   16, 8534, 4371,    5,   37,  583])\n"
     ]
    },
    {
     "name": "stdin",
     "output_type": "stream",
     "text": [
      "ipdb>  hypothesis_input_ids[0]\n"
     ]
    },
    {
     "name": "stdout",
     "output_type": "stream",
     "text": [
      "tensor([    0, 19119,    13, 18802,   447, 18802,     7,   560,     3, 17097,\n",
      "            6,   454,   357,   667,     6,   454,   357,   667,     6,    11,\n",
      "          454,   357,   667,     5, 17239,   729,   447, 18802,     7,  1731,\n",
      "           28,     8,   564,    13,     8,     3,    23,  4554, 12771,    41,\n",
      "          566,    18,    61,  2348,    57,     8,   564,    13,     8,     3,\n",
      "           23,  4554, 12771,    41,   566,    18,   137, 17239,   729,   447,\n",
      "        15215,    33,    80,    13,   192,  2287,    13,     3,    23,  4554,\n",
      "        18042,     6,     8,   119,   192,   271,     3, 15979, 15215,    41,\n",
      "          566,    18,    61,    11,     3, 15979, 15215,    41,   279,    18,\n",
      "          137,     3,  8739,     3,     9,     3,    17,    15,  1313,    88,\n",
      "           26,  4900,  3562,     6,     3,     9,     3, 15979,  3562,    19,\n",
      "            3,     9,     3,    17,    15,  1313,    88,    26,  4900, 12771,\n",
      "           28,     3,     9,     3,    17,    15,  1313,    88],\n",
      "       device='cuda:0')\n"
     ]
    },
    {
     "name": "stdin",
     "output_type": "stream",
     "text": [
      "ipdb>  aa = tensor([[    0, 19119,    13, 18802,   447, 18802,     7,   560,     3, 17097,              6,   454,   357,   667,     6,   454,   357,   667,     6,    11,            454,   357,   667,     5, 17239,   729,   447, 18802,     7,  1731,             28,     8,   564,    13,     8,     3,    23,  4554, 12771,    41,            566,    18,    61,  2348,    57,     8,   564,    13,     8,     3,             23,  4554, 12771,    41,   566,    18,   137, 17239,   729,   447,          15215,    33,    80,    13,   192,  2287,    13,     3,    23,  4554,          18042,     6,     8,   119,   192,   271,     3, 15979, 15215,    41,            566,    18,    61,    11,     3, 15979, 15215,    41,   279,    18,            137,     3,  8739,     3,     9,     3,    17,    15,  1313,    88,             26,  4900,  3562,     6,     3,     9,     3, 15979,  3562,    19,              3,     9,     3,    17,    15,  1313,    88,    26,  4900, 12771,             28,     3,     9,     3,    17,    15,  1313,    88,     1]],        device='cuda:0')\n"
     ]
    },
    {
     "name": "stdout",
     "output_type": "stream",
     "text": [
      "*** NameError: name 'tensor' is not defined\n"
     ]
    },
    {
     "name": "stdin",
     "output_type": "stream",
     "text": [
      "ipdb>  aa = torch.tensor([[    0, 19119,    13, 18802,   447, 18802,     7,   560,     3, 17097,              6,   454,   357,   667,     6,   454,   357,   667,     6,    11,            454,   357,   667,     5, 17239,   729,   447, 18802,     7,  1731,             28,     8,   564,    13,     8,     3,    23,  4554, 12771,    41,            566,    18,    61,  2348,    57,     8,   564,    13,     8,     3,             23,  4554, 12771,    41,   566,    18,   137, 17239,   729,   447,          15215,    33,    80,    13,   192,  2287,    13,     3,    23,  4554,          18042,     6,     8,   119,   192,   271,     3, 15979, 15215,    41,            566,    18,    61,    11,     3, 15979, 15215,    41,   279,    18,            137,     3,  8739,     3,     9,     3,    17,    15,  1313,    88,             26,  4900,  3562,     6,     3,     9,     3, 15979,  3562,    19,              3,     9,     3,    17,    15,  1313,    88,    26,  4900, 12771,             28,     3,     9,     3,    17,    15,  1313,    88,     1]],        device='cuda:0')\n",
      "ipdb>  aa == hypothesis_input_ids[0]\n"
     ]
    },
    {
     "name": "stdout",
     "output_type": "stream",
     "text": [
      "*** RuntimeError: The size of tensor a (129) must match the size of tensor b (128) at non-singleton dimension 1\n"
     ]
    },
    {
     "name": "stdin",
     "output_type": "stream",
     "text": [
      "ipdb>  aa[:128] == hypothesis_input_ids[0]\n"
     ]
    },
    {
     "name": "stdout",
     "output_type": "stream",
     "text": [
      "*** RuntimeError: The size of tensor a (129) must match the size of tensor b (128) at non-singleton dimension 1\n"
     ]
    },
    {
     "name": "stdin",
     "output_type": "stream",
     "text": [
      "ipdb>  aa[:, :128] == hypothesis_input_ids[0]\n"
     ]
    },
    {
     "name": "stdout",
     "output_type": "stream",
     "text": [
      "tensor([[True, True, True, True, True, True, True, True, True, True, True, True,\n",
      "         True, True, True, True, True, True, True, True, True, True, True, True,\n",
      "         True, True, True, True, True, True, True, True, True, True, True, True,\n",
      "         True, True, True, True, True, True, True, True, True, True, True, True,\n",
      "         True, True, True, True, True, True, True, True, True, True, True, True,\n",
      "         True, True, True, True, True, True, True, True, True, True, True, True,\n",
      "         True, True, True, True, True, True, True, True, True, True, True, True,\n",
      "         True, True, True, True, True, True, True, True, True, True, True, True,\n",
      "         True, True, True, True, True, True, True, True, True, True, True, True,\n",
      "         True, True, True, True, True, True, True, True, True, True, True, True,\n",
      "         True, True, True, True, True, True, True, True]], device='cuda:0')\n"
     ]
    },
    {
     "name": "stdin",
     "output_type": "stream",
     "text": [
      "ipdb>  exit\n"
     ]
    }
   ],
   "source": [
    "import aliases\n",
    "\n",
    "os.environ[\"TOKENIZERS_MULTIPROCESSING\"] = \"True\"\n",
    "\n",
    "# inv_trainer = aliases.load_trainer_from_alias(\"openai_msmarco__msl128__100epoch\")\n",
    "corr_experiment, corr_trainer = aliases.load_experiment_and_trainer_from_alias(\n",
    "    \"openai_msmarco__msl128__100epoch__correct\"\n",
    ")\n",
    "inv_trainer = corr_trainer.inversion_trainer\n",
    "corr_trainer.precompute_hypotheses()\n",
    "corr_trainer.model.eval()\n",
    "print()"
   ]
  },
  {
   "cell_type": "code",
   "execution_count": 21,
   "id": "235c7121-17d7-4821-97f7-212406d8f069",
   "metadata": {},
   "outputs": [
    {
     "name": "stdout",
     "output_type": "stream",
     "text": [
      "[1] (hypothesis_input_ids == 1).sum(): tensor(85, device='cuda:0')\n",
      "[2] (hypothesis_input_ids == 1).sum(): tensor(0, device='cuda:0')\n"
     ]
    },
    {
     "name": "stderr",
     "output_type": "stream",
     "text": [
      "generating from val:   0%|                                                                                            | 0/1 [00:00<?, ?it/s]"
     ]
    },
    {
     "name": "stdout",
     "output_type": "stream",
     "text": [
      "[1] (hypothesis_input_ids == 1).sum(): tensor(85, device='cuda:0')\n",
      "[2] (hypothesis_input_ids == 1).sum(): tensor(0, device='cuda:0')\n"
     ]
    },
    {
     "name": "stderr",
     "output_type": "stream",
     "text": [
      "                                                                                                                                            \r"
     ]
    },
    {
     "name": "stdout",
     "output_type": "stream",
     "text": [
      "[pred] *The proposed parking lot will require a separate floor plan for each existing. parking space. [Submitting Use Permit: The Use Permit will show the dimensions of the drive space, total floor space, and total size of the drive space as shown on the.\n",
      "[true] *The use of the driveway as the required parking spaces will require a separate submittal for a Use Permit. [ ] Floor plan (dimensioned): Show overall building size, existing and proposed room locations, existing and. proposed new window(s)/door(s) size/location(s).\n",
      "\n",
      "\n",
      "\n",
      "[pred] Our INSPIRED Seville map is fully illuminated and enables you to explore each street in an effortless manner. Our hidden map of Seville includes a map of the streets of the city, a map of the streets of the city centre, and a map of the streets of the city's central business district.elcome to the streets of Seville, Costa Rica, Cartagena and Madrid, allowing you to explore the most coveted destinations with a distinctly rounded map of the city's central business district.\n",
      "[true] Our STREETWISE Seville Map enables you to explore each hidden corner of this enticing destination with a clearly defined map of the city, fully indexed and highlighted with hotels, parks and gardens, and places of interest. An inset of the center of Seville makes even the tiniest of alleyways navigable.rea maps of Cordoba, Grenada and Seville facilitate your entry into these three principal cities via auto, giving you the greatest freedom to experience all that is Southern Spain.\n",
      "\n",
      "\n",
      "\n",
      "[pred] aaa coupons save $ 32 save $ 33 with an average coupon for aaa aaa is an aaa membership organization that provides not only discounts for members but also benefits for the community aaa offers coupons and discounts for more than $ 260 in auto insurance travel and other travel related products not rated by aaacom\n",
      "[true] aaa coupon codes about aaa save an average of $ 32 with 26 coupon codes deals for aaa com aaa is a not for profit organization that lists the automobile clubs in the united states and offers travel benefits and automobile insurance to its members members review the aaa positively for its convenient travel benefits pricing of services and insurance claim policies shop aaa com show more show less\n"
     ]
    },
    {
     "name": "stderr",
     "output_type": "stream",
     "text": [
      "generating from val:   0%|                                                                                            | 0/1 [00:00<?, ?it/s]"
     ]
    },
    {
     "name": "stdout",
     "output_type": "stream",
     "text": [
      "[1] (hypothesis_input_ids == 1).sum(): tensor(85, device='cuda:0')\n",
      "[2] (hypothesis_input_ids == 1).sum(): tensor(0, device='cuda:0')\n"
     ]
    },
    {
     "name": "stderr",
     "output_type": "stream",
     "text": [
      "                                                                                                                                            \r"
     ]
    },
    {
     "name": "stdout",
     "output_type": "stream",
     "text": [
      "[pred] *The proposed parking lot will require a separate floor plan for each existing. parking space. [Submitting Use Permit: The Use Permit will show the dimensions of the drive space, total floor space, and total size of the drive space as shown on the.\n",
      "[true] *The use of the driveway as the required parking spaces will require a separate submittal for a Use Permit. [ ] Floor plan (dimensioned): Show overall building size, existing and proposed room locations, existing and. proposed new window(s)/door(s) size/location(s).\n",
      "\n",
      "\n",
      "\n",
      "[pred] Our INSPIRED Seville map is fully illuminated and enables you to explore each street in an effortless manner. Our hidden map of Seville includes a map of the streets of the city, a map of the streets of the city centre, and a map of the streets of the city's central business district.elcome to the streets of Seville, Costa Rica, Cartagena and Madrid, allowing you to explore the most coveted destinations with a distinctly rounded map of the city's central business district.\n",
      "[true] Our STREETWISE Seville Map enables you to explore each hidden corner of this enticing destination with a clearly defined map of the city, fully indexed and highlighted with hotels, parks and gardens, and places of interest. An inset of the center of Seville makes even the tiniest of alleyways navigable.rea maps of Cordoba, Grenada and Seville facilitate your entry into these three principal cities via auto, giving you the greatest freedom to experience all that is Southern Spain.\n",
      "\n",
      "\n",
      "\n",
      "[pred] aaa coupons save $ 32 save $ 33 with an average coupon for aaa aaa is an aaa membership organization that provides not only discounts for members but also benefits for the community aaa offers coupons and discounts for more than $ 260 in auto insurance travel and other travel related products not rated by aaacom\n",
      "[true] aaa coupon codes about aaa save an average of $ 32 with 26 coupon codes deals for aaa com aaa is a not for profit organization that lists the automobile clubs in the united states and offers travel benefits and automobile insurance to its members members review the aaa positively for its convenient travel benefits pricing of services and insurance claim policies shop aaa com show more show less\n",
      "{'eval_test_loss': 1.7455695867538452, 'eval_test_pred_num_tokens': 82.56999969482422, 'eval_test_true_num_tokens': 81.77999877929688, 'eval_test_token_set_precision': 0.554511415028989, 'eval_test_token_set_recall': 0.6213752889314135, 'eval_test_token_set_f1': 0.5831789952946647, 'eval_test_n_ngrams_match_1': 35.97, 'eval_test_n_ngrams_match_2': 14.94, 'eval_test_n_ngrams_match_3': 7.45, 'eval_test_num_true_words': 63.22, 'eval_test_num_pred_words': 64.19, 'eval_test_bleu_score': 18.567297864403802, 'eval_test_meteor_score': 0.4484380947094484, 'eval_test_rouge_score': 0.5708694467624942, 'eval_test_exact_match': 0.01, 'eval_test_emb_cos_sim': 0.9614579081535339, 'eval_test_runtime': 24.7894, 'eval_test_samples_per_second': 4.034, 'eval_test_steps_per_second': 0.04}\n"
     ]
    }
   ],
   "source": [
    "corr_trainer.return_best_hypothesis = False\n",
    "corr_trainer.args.per_device_eval_batch_size = 128\n",
    "corr_trainer.gen_kwargs = {\n",
    "    \"early_stopping\": False,\n",
    "    \"num_beams\": 1,\n",
    "    \"do_sample\": False,\n",
    "    \"no_repeat_ngram_size\": 0,\n",
    "}\n",
    "corr_trainer.num_gen_recursive_steps = 5\n",
    "metrics = corr_trainer.evaluate(\n",
    "    # eval_dataset=corr_trainer.train_dataset.select(range(100)),\n",
    "    eval_dataset=corr_trainer.eval_dataset[\"msmarco\"].select(range(100)),\n",
    "    metric_key_prefix=\"eval_test\",\n",
    ")\n",
    "print(metrics)"
   ]
  },
  {
   "cell_type": "code",
   "execution_count": 22,
   "id": "8ad73e0e-6158-4227-8e30-94a39dc238a5",
   "metadata": {},
   "outputs": [
    {
     "name": "stdout",
     "output_type": "stream",
     "text": [
      "[1] (hypothesis_input_ids == 1).sum(): tensor(85, device='cuda:0')\n",
      "[2] (hypothesis_input_ids == 1).sum(): tensor(0, device='cuda:0')\n"
     ]
    },
    {
     "name": "stderr",
     "output_type": "stream",
     "text": [
      "generating from val:   0%|                                                                                            | 0/1 [00:00<?, ?it/s]"
     ]
    },
    {
     "name": "stdout",
     "output_type": "stream",
     "text": [
      "[1] (hypothesis_input_ids == 1).sum(): tensor(85, device='cuda:0')\n",
      "[2] (hypothesis_input_ids == 1).sum(): tensor(0, device='cuda:0')\n",
      "[1] (hypothesis_input_ids == 1).sum(): tensor(89, device='cuda:0')\n",
      "[2] (hypothesis_input_ids == 1).sum(): tensor(0, device='cuda:0')\n",
      "[1] (hypothesis_input_ids == 1).sum(): tensor(89, device='cuda:0')\n",
      "[2] (hypothesis_input_ids == 1).sum(): tensor(0, device='cuda:0')\n",
      "[1] (hypothesis_input_ids == 1).sum(): tensor(89, device='cuda:0')\n",
      "[2] (hypothesis_input_ids == 1).sum(): tensor(0, device='cuda:0')\n",
      "[1] (hypothesis_input_ids == 1).sum(): tensor(85, device='cuda:0')\n",
      "[2] (hypothesis_input_ids == 1).sum(): tensor(0, device='cuda:0')\n"
     ]
    },
    {
     "name": "stderr",
     "output_type": "stream",
     "text": [
      "                                                                                                                                            \r"
     ]
    },
    {
     "name": "stdout",
     "output_type": "stream",
     "text": [
      "[pred] *The proposed use of the parking garage will require a separate floor plan for the existing. building. [Submit Submit Submit: Floor Plan Dimensions (shown on the permit)]: The total dimensions of all rooms, sizes, and location of driveways and entrances.\n",
      "[true] *The use of the driveway as the required parking spaces will require a separate submittal for a Use Permit. [ ] Floor plan (dimensioned): Show overall building size, existing and proposed room locations, existing and. proposed new window(s)/door(s) size/location(s).\n",
      "\n",
      "\n",
      "\n",
      "[pred] Our WEST SEVILLE street map is illuminated with a clearly marked entryway, allowing you to explore the city in an intuitive and accessible manner. Each map also includes a map of the city's hidden gems, a map of the city's quaint streets, and a map of the city's quaint hotels, restaurants and attractions.ur Costa Blanca hotels and apartments are a must-have destination for travelers of all ages and abilities.\n",
      "[true] Our STREETWISE Seville Map enables you to explore each hidden corner of this enticing destination with a clearly defined map of the city, fully indexed and highlighted with hotels, parks and gardens, and places of interest. An inset of the center of Seville makes even the tiniest of alleyways navigable.rea maps of Cordoba, Grenada and Seville facilitate your entry into these three principal cities via auto, giving you the greatest freedom to experience all that is Southern Spain.\n",
      "\n",
      "\n",
      "\n",
      "[pred] aaa coupons save $ 32 save $ 32 with an average coupon for aaa coupons aaainfo displays an average of 32 coupons for aaa members save more than $ 32 with coupons and discounts from aacomcom a united states organization that promotes the value of travel not only for its members but also for the community aa operates an empathetic and comprehensive auto insurance network\n",
      "[true] aaa coupon codes about aaa save an average of $ 32 with 26 coupon codes deals for aaa com aaa is a not for profit organization that lists the automobile clubs in the united states and offers travel benefits and automobile insurance to its members members review the aaa positively for its convenient travel benefits pricing of services and insurance claim policies shop aaa com show more show less\n"
     ]
    },
    {
     "name": "stderr",
     "output_type": "stream",
     "text": [
      "generating from val:   0%|                                                                                            | 0/1 [00:00<?, ?it/s]"
     ]
    },
    {
     "name": "stdout",
     "output_type": "stream",
     "text": [
      "[1] (hypothesis_input_ids == 1).sum(): tensor(85, device='cuda:0')\n",
      "[2] (hypothesis_input_ids == 1).sum(): tensor(0, device='cuda:0')\n",
      "[1] (hypothesis_input_ids == 1).sum(): tensor(89, device='cuda:0')\n",
      "[2] (hypothesis_input_ids == 1).sum(): tensor(0, device='cuda:0')\n",
      "[1] (hypothesis_input_ids == 1).sum(): tensor(89, device='cuda:0')\n",
      "[2] (hypothesis_input_ids == 1).sum(): tensor(0, device='cuda:0')\n",
      "[1] (hypothesis_input_ids == 1).sum(): tensor(88, device='cuda:0')\n",
      "[2] (hypothesis_input_ids == 1).sum(): tensor(0, device='cuda:0')\n",
      "[1] (hypothesis_input_ids == 1).sum(): tensor(86, device='cuda:0')\n",
      "[2] (hypothesis_input_ids == 1).sum(): tensor(0, device='cuda:0')\n"
     ]
    },
    {
     "name": "stderr",
     "output_type": "stream",
     "text": [
      "                                                                                                                                            \r"
     ]
    },
    {
     "name": "stdout",
     "output_type": "stream",
     "text": [
      "[pred] *The proposed use of the parking garage will require a separate floor plan for the existing. building. [Submit Submit Submit: Floor Plan Dimensions (shown on the permit)]: The total dimensions of all rooms, sizes, and location of driveways and entrances.\n",
      "[true] *The use of the driveway as the required parking spaces will require a separate submittal for a Use Permit. [ ] Floor plan (dimensioned): Show overall building size, existing and proposed room locations, existing and. proposed new window(s)/door(s) size/location(s).\n",
      "\n",
      "\n",
      "\n",
      "[pred] Our WEST SEVILLE street map is illuminated with a clearly marked entryway, allowing you to explore the city in an intuitive and accessible manner. Each map also includes a map of the city's hidden gems, a map of the city's quaint streets, and a map of the city's quaint hotels, restaurants and attractions.ur Costa Blanca hotels and apartments are a must-have destination for travelers of all ages and abilities.\n",
      "[true] Our STREETWISE Seville Map enables you to explore each hidden corner of this enticing destination with a clearly defined map of the city, fully indexed and highlighted with hotels, parks and gardens, and places of interest. An inset of the center of Seville makes even the tiniest of alleyways navigable.rea maps of Cordoba, Grenada and Seville facilitate your entry into these three principal cities via auto, giving you the greatest freedom to experience all that is Southern Spain.\n",
      "\n",
      "\n",
      "\n",
      "[pred] aaa coupons save $ 32 save $ 32 with an average coupon for aaa coupons aaainfo displays an average of 32 coupons for aaa members save more than $ 32 with coupons and discounts from aacomcom a united states organization that promotes the value of travel not only for its members but also for the community aa operates an empathetic and comprehensive auto insurance network\n",
      "[true] aaa coupon codes about aaa save an average of $ 32 with 26 coupon codes deals for aaa com aaa is a not for profit organization that lists the automobile clubs in the united states and offers travel benefits and automobile insurance to its members members review the aaa positively for its convenient travel benefits pricing of services and insurance claim policies shop aaa com show more show less\n",
      "{'eval_test_loss': 1.7457661628723145, 'eval_test_pred_num_tokens': 83.16999816894531, 'eval_test_true_num_tokens': 81.77999877929688, 'eval_test_token_set_precision': 0.587994568777907, 'eval_test_token_set_recall': 0.64239729755293, 'eval_test_token_set_f1': 0.6116761429640427, 'eval_test_n_ngrams_match_1': 37.53, 'eval_test_n_ngrams_match_2': 16.4, 'eval_test_n_ngrams_match_3': 8.87, 'eval_test_num_true_words': 63.22, 'eval_test_num_pred_words': 63.54, 'eval_test_bleu_score': 21.63711366817461, 'eval_test_meteor_score': 0.47934071399945466, 'eval_test_rouge_score': 0.6033324264144913, 'eval_test_exact_match': 0.01, 'eval_test_emb_cos_sim': 0.9653921127319336, 'eval_test_runtime': 55.9331, 'eval_test_samples_per_second': 1.788, 'eval_test_steps_per_second': 0.018}\n"
     ]
    }
   ],
   "source": [
    "corr_trainer.return_best_hypothesis = False\n",
    "corr_trainer.args.per_device_eval_batch_size = 128\n",
    "corr_trainer.gen_kwargs = {\n",
    "    \"early_stopping\": False,\n",
    "    \"num_beams\": 1,\n",
    "    \"do_sample\": False,\n",
    "    \"no_repeat_ngram_size\": 0,\n",
    "}\n",
    "corr_trainer.num_gen_recursive_steps = 5\n",
    "metrics = corr_trainer.evaluate(\n",
    "    # eval_dataset=corr_trainer.train_dataset.select(range(100)),\n",
    "    eval_dataset=corr_trainer.eval_dataset[\"msmarco\"].select(range(100)),\n",
    "    metric_key_prefix=\"eval_test\",\n",
    ")\n",
    "print(metrics)"
   ]
  },
  {
   "cell_type": "code",
   "execution_count": 24,
   "id": "fd8833f7-52b7-41e0-8bf9-5ff57118d2d6",
   "metadata": {},
   "outputs": [
    {
     "name": "stderr",
     "output_type": "stream",
     "text": [
      "                                                                                                                                            \r"
     ]
    },
    {
     "name": "stdout",
     "output_type": "stream",
     "text": [
      "[pred] *The proposed use permit will require the submission of separate floor plans for each. existing parking space. [Driveway: Show the size, dimensions, and location of the driveway as a separate sub-floor space on the building.\n",
      "[true] *The use of the driveway as the required parking spaces will require a separate submittal for a Use Permit. [ ] Floor plan (dimensioned): Show overall building size, existing and proposed room locations, existing and. proposed new window(s)/door(s) size/location(s).\n",
      "\n",
      "\n",
      "\n",
      "[pred] Our INSPIRED Seville map is fully illuminated, allowing you to explore each street corner of Seville in an effortless manner. Our map of Seville and the surrounding cities includes a map of the streets of the city centre, the streets of the town center, and the streets of the town.aroville and Seville have a hidden gem in the heart of the city, a perfect gateway to the prestigious Valencia, the prestigious Costa del Sol and the prestigious Costa del Sol.\n",
      "[true] Our STREETWISE Seville Map enables you to explore each hidden corner of this enticing destination with a clearly defined map of the city, fully indexed and highlighted with hotels, parks and gardens, and places of interest. An inset of the center of Seville makes even the tiniest of alleyways navigable.rea maps of Cordoba, Grenada and Seville facilitate your entry into these three principal cities via auto, giving you the greatest freedom to experience all that is Southern Spain.\n",
      "\n",
      "\n",
      "\n",
      "[pred] aaa coupons save $ 32 save $ 33 with an average coupon for aaa aaa is an aaa membership organization that provides not only discounts for members but also benefits for the community aaa offers coupons and discounts for more than $ 170 in auto insurance travel and other travel related services not rated by adva\n",
      "[true] aaa coupon codes about aaa save an average of $ 32 with 26 coupon codes deals for aaa com aaa is a not for profit organization that lists the automobile clubs in the united states and offers travel benefits and automobile insurance to its members members review the aaa positively for its convenient travel benefits pricing of services and insurance claim policies shop aaa com show more show less\n",
      "{'eval_test_loss': 1.7450920343399048, 'eval_test_pred_num_tokens': 81.37999725341797, 'eval_test_true_num_tokens': 81.77999877929688, 'eval_test_token_set_precision': 0.5545957684979271, 'eval_test_token_set_recall': 0.6214063505549204, 'eval_test_token_set_f1': 0.5829563243311493, 'eval_test_n_ngrams_match_1': 35.98, 'eval_test_n_ngrams_match_2': 14.78, 'eval_test_n_ngrams_match_3': 7.48, 'eval_test_num_true_words': 63.22, 'eval_test_num_pred_words': 63.08, 'eval_test_bleu_score': 18.76757991417582, 'eval_test_meteor_score': 0.45504911757778316, 'eval_test_rouge_score': 0.5758814811607073, 'eval_test_exact_match': 0.01, 'eval_test_emb_cos_sim': 0.9600590467453003, 'eval_test_runtime': 18.8675, 'eval_test_samples_per_second': 5.3, 'eval_test_steps_per_second': 0.053}\n"
     ]
    }
   ],
   "source": [
    "corr_trainer.return_best_hypothesis = False\n",
    "corr_trainer.args.per_device_eval_batch_size = 128\n",
    "corr_trainer.gen_kwargs = {\n",
    "    \"early_stopping\": False,\n",
    "    \"num_beams\": 1,\n",
    "    \"do_sample\": False,\n",
    "    \"no_repeat_ngram_size\": 0,\n",
    "}\n",
    "corr_trainer.num_gen_recursive_steps = 1\n",
    "metrics = corr_trainer.evaluate(\n",
    "    # eval_dataset=corr_trainer.train_dataset.select(range(100)),\n",
    "    eval_dataset=corr_trainer.eval_dataset[\"msmarco\"].select(range(100)),\n",
    "    metric_key_prefix=\"eval_test\",\n",
    ")\n",
    "print(metrics)"
   ]
  },
  {
   "cell_type": "code",
   "execution_count": 29,
   "id": "1ed2f66d-17cf-4613-b989-7a5ac4565d02",
   "metadata": {},
   "outputs": [
    {
     "name": "stdout",
     "output_type": "stream",
     "text": [
      "[1] (hypothesis_input_ids == 1).sum(): tensor(0, device='cuda:0')\n"
     ]
    },
    {
     "data": {
      "text/html": [
       "\n",
       "    <div>\n",
       "      \n",
       "      <progress value='4' max='4' style='width:300px; height:20px; vertical-align: middle;'></progress>\n",
       "      [4/4 00:01]\n",
       "    </div>\n",
       "    "
      ],
      "text/plain": [
       "<IPython.core.display.HTML object>"
      ]
     },
     "metadata": {},
     "output_type": "display_data"
    },
    {
     "name": "stdout",
     "output_type": "stream",
     "text": [
      "[1] (hypothesis_input_ids == 1).sum(): tensor(0, device='cuda:0')\n",
      "[1] (hypothesis_input_ids == 1).sum(): tensor(0, device='cuda:0')\n",
      "[1] (hypothesis_input_ids == 1).sum(): tensor(0, device='cuda:0')\n"
     ]
    },
    {
     "name": "stderr",
     "output_type": "stream",
     "text": [
      "generating from val:   0%|                                                                                            | 0/4 [00:00<?, ?it/s]"
     ]
    },
    {
     "name": "stdout",
     "output_type": "stream",
     "text": [
      "[1] (hypothesis_input_ids == 1).sum(): tensor(0, device='cuda:0')\n"
     ]
    },
    {
     "name": "stderr",
     "output_type": "stream",
     "text": [
      "generating from val:  25%|█████████████████████                                                               | 1/4 [00:05<00:17,  5.70s/it]"
     ]
    },
    {
     "name": "stdout",
     "output_type": "stream",
     "text": [
      "[1] (hypothesis_input_ids == 1).sum(): tensor(0, device='cuda:0')\n"
     ]
    },
    {
     "name": "stderr",
     "output_type": "stream",
     "text": [
      "generating from val:  50%|██████████████████████████████████████████                                          | 2/4 [00:08<00:08,  4.22s/it]"
     ]
    },
    {
     "name": "stdout",
     "output_type": "stream",
     "text": [
      "[1] (hypothesis_input_ids == 1).sum(): tensor(0, device='cuda:0')\n"
     ]
    },
    {
     "name": "stderr",
     "output_type": "stream",
     "text": [
      "generating from val:  75%|███████████████████████████████████████████████████████████████                     | 3/4 [00:12<00:03,  3.89s/it]"
     ]
    },
    {
     "name": "stdout",
     "output_type": "stream",
     "text": [
      "[1] (hypothesis_input_ids == 1).sum(): tensor(0, device='cuda:0')\n"
     ]
    },
    {
     "name": "stderr",
     "output_type": "stream",
     "text": [
      "                                                                                                                                            \r"
     ]
    },
    {
     "name": "stdout",
     "output_type": "stream",
     "text": [
      "[pred] Examples of Binary Acids. Binary acids begin with the name of the element, such as H2O (Hydrochloric Acid), H3O (Hydrochloric Acid), H3Cl (Hydrochloric Acid), or H2O (Hydrochloric Acid). These acids are followed by one other element, such as a nonmetal, such as a metal, such as a tetrafluorine or a tetrahydroxide. The two other elements in the class are ionic acids (\n",
      "[true] Examples: HF, HCl, HBr, HI, H2O, H2S. The names of binary acids begin with hydro-followed by the name of the other element modified to end with-ic (like in hydro chlor ic acid). Binary Acids are one of two classes of acids, the second being the Ternary Acids. The Ternary acids either consist of a hydrogen, oxygen and one other nonmetal element called the oxoacids (like HNO3), or they consist of hydrogen and two other nonmetal elements,\n",
      "\n",
      "\n",
      "\n",
      "[pred] Co:Writer should now be in the beginning of sentences. Co:Writer will give you the chance to spell out the words you type. As you type, Co:Writer will focus on one word at a time and send out the other as it tries to type the sentence.\n",
      "[true] Co:Writer should now be in the foreground. Writing Sentences: You will write sentences one at a time with Co:Writer. As you begin to type a word, Co:Writer offers guesses as to what the word is, based on the letters you typed and other factors.\n",
      "\n",
      "\n",
      "\n",
      "[pred] mundane. Relating to, characteristic of, or characterized by the earth: earthbound, earthen, earthly, earthly world, earthly manor, earthly worlds, earthly worlds, earthly worlds, earthly worlds.\n",
      "[true] mundane. Relating to or characteristic of the earth or of human life on earth: earthbound, earthen, earthly, earthy, secular, tellurian, telluric, temporal, terrene, terrestrial, worldly.\n",
      "{'eval_test_loss': 1.146443486213684, 'eval_test_pred_num_tokens': 82.609375, 'eval_test_true_num_tokens': 80.90625, 'eval_test_token_set_precision': 0.60819345096195, 'eval_test_token_set_recall': 0.6866442994522647, 'eval_test_token_set_f1': 0.6400445672754415, 'eval_test_n_ngrams_match_1': 39.074, 'eval_test_n_ngrams_match_2': 20.53, 'eval_test_n_ngrams_match_3': 13.252, 'eval_test_num_true_words': 63.416, 'eval_test_num_pred_words': 63.594, 'eval_test_bleu_score': 29.071289956395393, 'eval_test_meteor_score': 0.5343961207296394, 'eval_test_rouge_score': 0.6376807383959213, 'eval_test_exact_match': 0.03, 'eval_test_emb_cos_sim': 0.9655272364616394, 'eval_test_runtime': 25.3742, 'eval_test_samples_per_second': 19.705, 'eval_test_steps_per_second': 0.158}\n"
     ]
    }
   ],
   "source": [
    "corr_trainer.return_best_hypothesis = False\n",
    "corr_trainer.args.per_device_eval_batch_size = 128\n",
    "corr_trainer.gen_kwargs = {\n",
    "    \"early_stopping\": False,\n",
    "    \"num_beams\": 1,\n",
    "    \"do_sample\": False,\n",
    "    \"no_repeat_ngram_size\": 0,\n",
    "}\n",
    "corr_trainer.num_gen_recursive_steps = 1\n",
    "metrics = corr_trainer.evaluate(\n",
    "    eval_dataset=corr_trainer.train_dataset.select(range(500)),\n",
    "    # eval_dataset=corr_trainer.eval_dataset[\"msmarco\"].select(range(100)),\n",
    "    metric_key_prefix=\"eval_test\",\n",
    ")\n",
    "print(metrics)"
   ]
  },
  {
   "cell_type": "code",
   "execution_count": 36,
   "id": "cf5b9186-f83d-4eff-8ca6-e1b0e687498e",
   "metadata": {},
   "outputs": [],
   "source": [
    "d1 = corr_trainer.train_dataset[0]\n",
    "d2 = corr_trainer_not_precomputed.train_dataset[0]"
   ]
  },
  {
   "cell_type": "code",
   "execution_count": 39,
   "id": "6811db97-bcc1-413a-9264-0aefd6cd0b93",
   "metadata": {},
   "outputs": [
    {
     "data": {
      "text/plain": [
       "False"
      ]
     },
     "execution_count": 39,
     "metadata": {},
     "output_type": "execute_result"
    }
   ],
   "source": [
    "d1.keys() == d2.keys()"
   ]
  },
  {
   "cell_type": "code",
   "execution_count": 42,
   "id": "aa819dc7-e8fb-4b22-9149-66a7f05155b4",
   "metadata": {},
   "outputs": [
    {
     "data": {
      "text/plain": [
       "True"
      ]
     },
     "execution_count": 42,
     "metadata": {},
     "output_type": "execute_result"
    }
   ],
   "source": [
    "d2.keys() <= d1.keys()"
   ]
  },
  {
   "cell_type": "code",
   "execution_count": 44,
   "id": "220f2484-1391-441b-88a0-cf2aceb19b5e",
   "metadata": {},
   "outputs": [
    {
     "name": "stdout",
     "output_type": "stream",
     "text": [
      "tensor(True)\n",
      "tensor(True)\n",
      "tensor(True)\n",
      "tensor(True)\n",
      "tensor(True)\n",
      "tensor(True)\n",
      "tensor(True)\n",
      "tensor(True)\n"
     ]
    }
   ],
   "source": [
    "for k in d2.keys():\n",
    "    print((d1[k] == d1[k]).all())"
   ]
  },
  {
   "cell_type": "code",
   "execution_count": 53,
   "id": "7604254a-efdf-43f5-9bcc-77c6667848ca",
   "metadata": {},
   "outputs": [],
   "source": [
    "inputs = {k: v[None].to(corr_trainer.args.device) for k,v in d1.items()}\n",
    "try:\n",
    "    frozen_embeddings1 = inputs[\"frozen_embeddings\"]\n",
    "    ################################################################################\n",
    "    # # print(\"temp: starting from best hypothesis\")\n",
    "    # hypothesis_input_ids = inputs[\"best_hypothesis_input_ids\"]\n",
    "    # hypothesis_embedding = inputs[\"best_hypothesis_embedding\"]\n",
    "    # hypothesis_attention_mask = (hypothesis_input_ids != self.model.encoder_decoder.config.pad_token_id).int()\n",
    "    ################################################################################\n",
    "    hypothesis_input_ids1 = inputs[\"hypothesis_input_ids\"]\n",
    "    hypothesis_attention_mask1 = inputs[\"hypothesis_attention_mask\"]\n",
    "    hypothesis_embedding1 = inputs[\"hypothesis_embedding\"]\n",
    "    ################################################################################\n",
    "except KeyError:\n",
    "    (\n",
    "        frozen_embeddings1,\n",
    "        hypothesis_input_ids1,\n",
    "        hypothesis_attention_mask1,\n",
    "        hypothesis_embedding1,\n",
    "    ) = corr_trainer_no_precompute._get_hypothesis_uncached(inputs=inputs)\n"
   ]
  },
  {
   "cell_type": "code",
   "execution_count": 52,
   "id": "cfbac2a9-b2dc-4710-bddc-f4e1a127cb66",
   "metadata": {},
   "outputs": [],
   "source": [
    "inputs = {k: v[None].to(corr_trainer.args.device) for k,v in d2.items()}\n",
    "try:\n",
    "    frozen_embeddings2 = inputs[\"frozen_embeddings\"]\n",
    "    ################################################################################\n",
    "    # # print(\"temp: starting from best hypothesis\")\n",
    "    # hypothesis_input_ids = inputs[\"best_hypothesis_input_ids\"]\n",
    "    # hypothesis_embedding = inputs[\"best_hypothesis_embedding\"]\n",
    "    # hypothesis_attention_mask = (hypothesis_input_ids != self.model.encoder_decoder.config.pad_token_id).int()\n",
    "    ################################################################################\n",
    "    hypothesis_input_ids2 = inputs[\"hypothesis_input_ids\"]\n",
    "    hypothesis_attention_mask2 = inputs[\"hypothesis_attention_mask\"]\n",
    "    hypothesis_embedding2 = inputs[\"hypothesis_embedding\"]\n",
    "    ################################################################################\n",
    "except KeyError:\n",
    "    (\n",
    "        frozen_embeddings2,\n",
    "        hypothesis_input_ids2,\n",
    "        hypothesis_attention_mask2,\n",
    "        hypothesis_embedding2,\n",
    "    ) = corr_trainer_not_precomputed._get_hypothesis_uncached(inputs=inputs)\n"
   ]
  },
  {
   "cell_type": "code",
   "execution_count": 55,
   "id": "56544bc0-be08-41aa-b0c7-43a5fde13e4e",
   "metadata": {},
   "outputs": [
    {
     "data": {
      "text/plain": [
       "tensor(True, device='cuda:0')"
      ]
     },
     "execution_count": 55,
     "metadata": {},
     "output_type": "execute_result"
    }
   ],
   "source": [
    "(frozen_embeddings1 == frozen_embeddings2).all()"
   ]
  },
  {
   "cell_type": "code",
   "execution_count": 56,
   "id": "f310d8a5-9d88-47fc-a4e2-169203d37be0",
   "metadata": {},
   "outputs": [
    {
     "data": {
      "text/plain": [
       "tensor(False, device='cuda:0')"
      ]
     },
     "execution_count": 56,
     "metadata": {},
     "output_type": "execute_result"
    }
   ],
   "source": [
    "(hypothesis_embedding1 == hypothesis_embedding2).all()"
   ]
  },
  {
   "cell_type": "code",
   "execution_count": 57,
   "id": "e4b1cda1-4422-4254-bd37-3b14a3ec74e4",
   "metadata": {},
   "outputs": [
    {
     "data": {
      "text/plain": [
       "tensor([[    0, 19119,    13,     3, 19990,   447, 18802,     7,     5, 17239,\n",
       "           524,   322,   447, 15215,  1731,    28,     8,   564,    13,     8,\n",
       "             3,    23,  4554, 12771,     6,   224,    38,     3,     9,   835,\n",
       "          1162,    41,   566,   357,   667,   201,     3,     9,   835,  1162,\n",
       "            41,   566,   357,   667,   201,    42,     3,     9,   835,  1162,\n",
       "            41,   566,   357,   667,   137, 17239,   729,   447, 15215,    33,\n",
       "          2348,    57,   192,   119,     3,    23,  4554, 18042,     6,   224,\n",
       "            38,     3,     9,   835,  1162,    41,   566,   357,   667,   201,\n",
       "            11,     3,     9,   835,  1162,    41,   566,   357,   667,   137,\n",
       "         17239,   729,   447, 15215,    33,    80,    13,     8,   386,  2287,\n",
       "            13,     3,    23,  4554, 18042,     5,   204,  5388,    18,  3493,\n",
       "          5405,     6,   224,    38,     3,     9,     3,  3828,  5255,     6,\n",
       "            33,   718, 14865,     3,    23,  4554, 15215]], device='cuda:0')"
      ]
     },
     "execution_count": 57,
     "metadata": {},
     "output_type": "execute_result"
    }
   ],
   "source": [
    "hypothesis_input_ids1"
   ]
  },
  {
   "cell_type": "code",
   "execution_count": 58,
   "id": "e4a5c515-5f96-4d62-a3fb-2373865c9b41",
   "metadata": {},
   "outputs": [
    {
     "data": {
      "text/plain": [
       "tensor([[    0, 19119,    13, 18802,   447, 18802,     7,   560,     3, 17097,\n",
       "             6,   454,   357,   667,     6,   454,   357,   667,     6,    11,\n",
       "           454,   357,   667,     5, 17239,   729,   447, 18802,     7,  1731,\n",
       "            28,     8,   564,    13,     8,     3,    23,  4554, 12771,    41,\n",
       "           566,    18,    61,  2348,    57,     8,   564,    13,     8,     3,\n",
       "            23,  4554, 12771,    41,   566,    18,   137, 17239,   729,   447,\n",
       "         15215,    33,    80,    13,   192,  2287,    13,     3,    23,  4554,\n",
       "         18042,     6,     8,   119,   192,   271,     3, 15979, 15215,    41,\n",
       "           566,    18,    61,    11,     3, 15979, 15215,    41,   279,    18,\n",
       "           137,     3,  8739,     3,     9,     3,    17,    15,  1313,    88,\n",
       "            26,  4900,  3562,     6,     3,     9,     3, 15979,  3562,    19,\n",
       "             3,     9,     3,    17,    15,  1313,    88,    26,  4900, 12771,\n",
       "            28,     3,     9,     3,    17,    15,  1313,    88]],\n",
       "       device='cuda:0')"
      ]
     },
     "execution_count": 58,
     "metadata": {},
     "output_type": "execute_result"
    }
   ],
   "source": [
    "hypothesis_input_ids2"
   ]
  },
  {
   "cell_type": "code",
   "execution_count": 63,
   "id": "bd996289-ce95-48e4-b874-bff25a056e99",
   "metadata": {},
   "outputs": [
    {
     "data": {
      "text/plain": [
       "{'early_stopping': False,\n",
       " 'num_beams': 1,\n",
       " 'do_sample': False,\n",
       " 'no_repeat_ngram_size': 0}"
      ]
     },
     "execution_count": 63,
     "metadata": {},
     "output_type": "execute_result"
    }
   ],
   "source": [
    "corr_trainer.gen_kwargs"
   ]
  },
  {
   "cell_type": "code",
   "execution_count": 66,
   "id": "fc4f9658-ef06-409c-898c-e1ed1a859629",
   "metadata": {},
   "outputs": [
    {
     "data": {
      "text/plain": [
       "tensor([[    0, 19119,    13, 18802,   447, 18802,     7,   560,     3, 17097,\n",
       "             6,   454,   357,   667,     6,   454,   357,   667,     6,    11,\n",
       "           454,   357,   667,     5, 17239,   729,   447, 18802,     7,  1731,\n",
       "            28,     8,   564,    13,     8,     3,    23,  4554, 12771,    41,\n",
       "           566,    18,    61,  2348,    57,     8,   564,    13,     8,     3,\n",
       "            23,  4554, 12771,    41,   566,    18,   137, 17239,   729,   447,\n",
       "         15215,    33,    80,    13,   192,  2287,    13,     3,    23,  4554,\n",
       "         18042,     6,     8,   119,   192,   271,     3, 15979, 15215,    41,\n",
       "           566,    18,    61,    11,     3, 15979, 15215,    41,   279,    18,\n",
       "           137,     3,  8739,     3,     9,     3,    17,    15,  1313,    88,\n",
       "            26,  4900,  3562,     6,     3,     9,     3, 15979,  3562,    19,\n",
       "             3,     9,     3,    17,    15,  1313,    88,    26,  4900, 12771,\n",
       "            28,     3,     9,     3,    17,    15,  1313,    88,     1]],\n",
       "       device='cuda:0')"
      ]
     },
     "execution_count": 66,
     "metadata": {},
     "output_type": "execute_result"
    }
   ],
   "source": [
    "gen_kwargs = {\n",
    "    'early_stopping': False,\n",
    "    'num_beams': 1,\n",
    "    'do_sample': False,\n",
    "    'no_repeat_ngram_size': 0,\n",
    "    'min_length': 1,\n",
    "    'max_length': 129,\n",
    "}\n",
    "corr_trainer.inversion_trainer.model.generate(inputs=inputs, generation_kwargs=gen_kwargs)"
   ]
  },
  {
   "cell_type": "code",
   "execution_count": null,
   "id": "91fc7231-5aac-44e6-9d6d-d1b000a9353a",
   "metadata": {},
   "outputs": [],
   "source": []
  }
 ],
 "metadata": {
  "kernelspec": {
   "display_name": "Python 3 (ipykernel)",
   "language": "python",
   "name": "python3"
  },
  "language_info": {
   "codemirror_mode": {
    "name": "ipython",
    "version": 3
   },
   "file_extension": ".py",
   "mimetype": "text/x-python",
   "name": "python",
   "nbconvert_exporter": "python",
   "pygments_lexer": "ipython3",
   "version": "3.10.10"
  }
 },
 "nbformat": 4,
 "nbformat_minor": 5
}
