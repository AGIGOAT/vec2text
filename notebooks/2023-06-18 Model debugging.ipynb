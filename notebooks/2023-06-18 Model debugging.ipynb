{
 "cells": [
  {
   "cell_type": "code",
   "execution_count": 1,
   "id": "324e1c4e-f125-4d40-b059-d9b6dfc4cb8f",
   "metadata": {},
   "outputs": [],
   "source": [
    "%load_ext autoreload\n",
    "%autoreload 2\n",
    "\n",
    "import os\n",
    "os.environ[\"WANDB_DISABLED\"] = \"true\"\n",
    "\n",
    "import sys\n",
    "sys.path = [\n",
    "    p for p in sys.path\n",
    "    if p not in ['/home/jxm3/research/prompting/imodelsX', '/home/jxm3/research/prompting/tree-prompt']\n",
    "]\n",
    "sys.path.append('/home/jxm3/research/retrieval/inversion')"
   ]
  },
  {
   "cell_type": "code",
   "execution_count": 13,
   "id": "57524c86-a8ae-41cc-aa09-e51993272db8",
   "metadata": {},
   "outputs": [
    {
     "name": "stdout",
     "output_type": "stream",
     "text": [
      "loading alias openai_msmarco__msl128__100epoch__correct from /home/jxm3/research/retrieval/inversion/saves/d6ec9d5838a4ad3daeba636e5378a8a0...\n",
      "> checkpoint: /home/jxm3/research/retrieval/inversion/saves/d6ec9d5838a4ad3daeba636e5378a8a0/checkpoint-384000\n",
      "Corrector encoder noise level 0.001\n",
      "loading alias openai_msmarco__msl128__100epoch from /home/jxm3/research/retrieval/inversion/saves/f9abd65db4c4823264b133816d08612f...\n",
      "Overwriting max sequence length from 128 to 128\n",
      "Overwriting use_less_data from 1000000 to 1000000\n",
      "> checkpoint: /home/jxm3/research/retrieval/inversion/saves/f9abd65db4c4823264b133816d08612f/checkpoint-194000\n",
      "Loading datasets with TOKENIZERS_PARALLELISM = False\n"
     ]
    },
    {
     "name": "stderr",
     "output_type": "stream",
     "text": [
      "[nltk_data] Downloading package wordnet to /home/jxm3/nltk_data...\n",
      "[nltk_data]   Package wordnet is already up-to-date!\n",
      "[nltk_data] Downloading package punkt to /home/jxm3/nltk_data...\n",
      "[nltk_data]   Package punkt is already up-to-date!\n",
      "[nltk_data] Downloading package omw-1.4 to /home/jxm3/nltk_data...\n",
      "[nltk_data]   Package omw-1.4 is already up-to-date!\n"
     ]
    },
    {
     "name": "stdout",
     "output_type": "stream",
     "text": [
      "================ Begin trainer sanity check ================\n",
      "\tInput to encode -> Twas brillig, and the slithy toves, Did gyre and gimble in the wabe, All mimsy were the borogoves, And the mome raths outgrabe.\n",
      "\tDecoded output shape ->  torch.Size([1, 86])\n",
      "\tDecoded output -> And the trolls, trolls, trolls, trolls, trolls, trolls, trolls, trolls, trolls, trolls, trolls, trolls, trolls, trolls, was brilliant, and smooty.\n",
      "================ End trainer sanity check ================\n",
      "Froze 353779584 params from model type <class 'models.inversion.InversionModel'>\n"
     ]
    },
    {
     "name": "stderr",
     "output_type": "stream",
     "text": [
      "[nltk_data] Downloading package wordnet to /home/jxm3/nltk_data...\n",
      "[nltk_data]   Package wordnet is already up-to-date!\n",
      "[nltk_data] Downloading package punkt to /home/jxm3/nltk_data...\n",
      "[nltk_data]   Package punkt is already up-to-date!\n",
      "[nltk_data] Downloading package omw-1.4 to /home/jxm3/nltk_data...\n",
      "[nltk_data]   Package omw-1.4 is already up-to-date!\n"
     ]
    },
    {
     "name": "stdout",
     "output_type": "stream",
     "text": [
      "================ Begin trainer sanity check ================\n",
      "\tInput to encode -> Twas brillig, and the slithy toves, Did gyre and gimble in the wabe, All mimsy were the borogoves, And the mome raths outgrabe.\n",
      "(hypothesis_input_ids == 1).sum(): tensor(0, device='cuda:0')\n",
      "\tDecoded output shape ->  torch.Size([1, 64])\n",
      "\tDecoded output -> Was brilliant, and witty, And witty, and witty, and witty, and witty, and witty, and witty, witty, witty, witty, witty, witty, witty.\n",
      "================ End trainer sanity check ================\n",
      "\n"
     ]
    }
   ],
   "source": [
    "import aliases\n",
    "\n",
    "os.environ[\"TOKENIZERS_MULTIPROCESSING\"] = \"True\"\n",
    "\n",
    "# inv_trainer = aliases.load_trainer_from_alias(\"openai_msmarco__msl128__100epoch\")\n",
    "corr_experiment, corr_trainer = aliases.load_experiment_and_trainer_from_alias(\n",
    "    \"openai_msmarco__msl128__100epoch__correct\"\n",
    ")\n",
    "inv_trainer = corr_trainer.inversion_trainer\n",
    "# corr_trainer.precompute_hypotheses()\n",
    "corr_trainer.model.eval()\n",
    "print()"
   ]
  },
  {
   "cell_type": "code",
   "execution_count": 21,
   "id": "235c7121-17d7-4821-97f7-212406d8f069",
   "metadata": {},
   "outputs": [
    {
     "name": "stdout",
     "output_type": "stream",
     "text": [
      "[1] (hypothesis_input_ids == 1).sum(): tensor(85, device='cuda:0')\n",
      "[2] (hypothesis_input_ids == 1).sum(): tensor(0, device='cuda:0')\n"
     ]
    },
    {
     "name": "stderr",
     "output_type": "stream",
     "text": [
      "generating from val:   0%|                                                                                            | 0/1 [00:00<?, ?it/s]"
     ]
    },
    {
     "name": "stdout",
     "output_type": "stream",
     "text": [
      "[1] (hypothesis_input_ids == 1).sum(): tensor(85, device='cuda:0')\n",
      "[2] (hypothesis_input_ids == 1).sum(): tensor(0, device='cuda:0')\n"
     ]
    },
    {
     "name": "stderr",
     "output_type": "stream",
     "text": [
      "                                                                                                                                            \r"
     ]
    },
    {
     "name": "stdout",
     "output_type": "stream",
     "text": [
      "[pred] *The proposed parking lot will require a separate floor plan for each existing. parking space. [Submitting Use Permit: The Use Permit will show the dimensions of the drive space, total floor space, and total size of the drive space as shown on the.\n",
      "[true] *The use of the driveway as the required parking spaces will require a separate submittal for a Use Permit. [ ] Floor plan (dimensioned): Show overall building size, existing and proposed room locations, existing and. proposed new window(s)/door(s) size/location(s).\n",
      "\n",
      "\n",
      "\n",
      "[pred] Our INSPIRED Seville map is fully illuminated and enables you to explore each street in an effortless manner. Our hidden map of Seville includes a map of the streets of the city, a map of the streets of the city centre, and a map of the streets of the city's central business district.elcome to the streets of Seville, Costa Rica, Cartagena and Madrid, allowing you to explore the most coveted destinations with a distinctly rounded map of the city's central business district.\n",
      "[true] Our STREETWISE Seville Map enables you to explore each hidden corner of this enticing destination with a clearly defined map of the city, fully indexed and highlighted with hotels, parks and gardens, and places of interest. An inset of the center of Seville makes even the tiniest of alleyways navigable.rea maps of Cordoba, Grenada and Seville facilitate your entry into these three principal cities via auto, giving you the greatest freedom to experience all that is Southern Spain.\n",
      "\n",
      "\n",
      "\n",
      "[pred] aaa coupons save $ 32 save $ 33 with an average coupon for aaa aaa is an aaa membership organization that provides not only discounts for members but also benefits for the community aaa offers coupons and discounts for more than $ 260 in auto insurance travel and other travel related products not rated by aaacom\n",
      "[true] aaa coupon codes about aaa save an average of $ 32 with 26 coupon codes deals for aaa com aaa is a not for profit organization that lists the automobile clubs in the united states and offers travel benefits and automobile insurance to its members members review the aaa positively for its convenient travel benefits pricing of services and insurance claim policies shop aaa com show more show less\n"
     ]
    },
    {
     "name": "stderr",
     "output_type": "stream",
     "text": [
      "generating from val:   0%|                                                                                            | 0/1 [00:00<?, ?it/s]"
     ]
    },
    {
     "name": "stdout",
     "output_type": "stream",
     "text": [
      "[1] (hypothesis_input_ids == 1).sum(): tensor(85, device='cuda:0')\n",
      "[2] (hypothesis_input_ids == 1).sum(): tensor(0, device='cuda:0')\n"
     ]
    },
    {
     "name": "stderr",
     "output_type": "stream",
     "text": [
      "                                                                                                                                            \r"
     ]
    },
    {
     "name": "stdout",
     "output_type": "stream",
     "text": [
      "[pred] *The proposed parking lot will require a separate floor plan for each existing. parking space. [Submitting Use Permit: The Use Permit will show the dimensions of the drive space, total floor space, and total size of the drive space as shown on the.\n",
      "[true] *The use of the driveway as the required parking spaces will require a separate submittal for a Use Permit. [ ] Floor plan (dimensioned): Show overall building size, existing and proposed room locations, existing and. proposed new window(s)/door(s) size/location(s).\n",
      "\n",
      "\n",
      "\n",
      "[pred] Our INSPIRED Seville map is fully illuminated and enables you to explore each street in an effortless manner. Our hidden map of Seville includes a map of the streets of the city, a map of the streets of the city centre, and a map of the streets of the city's central business district.elcome to the streets of Seville, Costa Rica, Cartagena and Madrid, allowing you to explore the most coveted destinations with a distinctly rounded map of the city's central business district.\n",
      "[true] Our STREETWISE Seville Map enables you to explore each hidden corner of this enticing destination with a clearly defined map of the city, fully indexed and highlighted with hotels, parks and gardens, and places of interest. An inset of the center of Seville makes even the tiniest of alleyways navigable.rea maps of Cordoba, Grenada and Seville facilitate your entry into these three principal cities via auto, giving you the greatest freedom to experience all that is Southern Spain.\n",
      "\n",
      "\n",
      "\n",
      "[pred] aaa coupons save $ 32 save $ 33 with an average coupon for aaa aaa is an aaa membership organization that provides not only discounts for members but also benefits for the community aaa offers coupons and discounts for more than $ 260 in auto insurance travel and other travel related products not rated by aaacom\n",
      "[true] aaa coupon codes about aaa save an average of $ 32 with 26 coupon codes deals for aaa com aaa is a not for profit organization that lists the automobile clubs in the united states and offers travel benefits and automobile insurance to its members members review the aaa positively for its convenient travel benefits pricing of services and insurance claim policies shop aaa com show more show less\n",
      "{'eval_test_loss': 1.7455695867538452, 'eval_test_pred_num_tokens': 82.56999969482422, 'eval_test_true_num_tokens': 81.77999877929688, 'eval_test_token_set_precision': 0.554511415028989, 'eval_test_token_set_recall': 0.6213752889314135, 'eval_test_token_set_f1': 0.5831789952946647, 'eval_test_n_ngrams_match_1': 35.97, 'eval_test_n_ngrams_match_2': 14.94, 'eval_test_n_ngrams_match_3': 7.45, 'eval_test_num_true_words': 63.22, 'eval_test_num_pred_words': 64.19, 'eval_test_bleu_score': 18.567297864403802, 'eval_test_meteor_score': 0.4484380947094484, 'eval_test_rouge_score': 0.5708694467624942, 'eval_test_exact_match': 0.01, 'eval_test_emb_cos_sim': 0.9614579081535339, 'eval_test_runtime': 24.7894, 'eval_test_samples_per_second': 4.034, 'eval_test_steps_per_second': 0.04}\n"
     ]
    }
   ],
   "source": [
    "corr_trainer.return_best_hypothesis = False\n",
    "corr_trainer.args.per_device_eval_batch_size = 128\n",
    "corr_trainer.gen_kwargs = {\n",
    "    \"early_stopping\": False,\n",
    "    \"num_beams\": 1,\n",
    "    \"do_sample\": False,\n",
    "    \"no_repeat_ngram_size\": 0,\n",
    "}\n",
    "corr_trainer.num_gen_recursive_steps = 5\n",
    "metrics = corr_trainer.evaluate(\n",
    "    # eval_dataset=corr_trainer.train_dataset.select(range(100)),\n",
    "    eval_dataset=corr_trainer.eval_dataset[\"msmarco\"].select(range(100)),\n",
    "    metric_key_prefix=\"eval_test\",\n",
    ")\n",
    "print(metrics)"
   ]
  },
  {
   "cell_type": "code",
   "execution_count": 22,
   "id": "8ad73e0e-6158-4227-8e30-94a39dc238a5",
   "metadata": {},
   "outputs": [
    {
     "name": "stdout",
     "output_type": "stream",
     "text": [
      "[1] (hypothesis_input_ids == 1).sum(): tensor(85, device='cuda:0')\n",
      "[2] (hypothesis_input_ids == 1).sum(): tensor(0, device='cuda:0')\n"
     ]
    },
    {
     "name": "stderr",
     "output_type": "stream",
     "text": [
      "generating from val:   0%|                                                                                            | 0/1 [00:00<?, ?it/s]"
     ]
    },
    {
     "name": "stdout",
     "output_type": "stream",
     "text": [
      "[1] (hypothesis_input_ids == 1).sum(): tensor(85, device='cuda:0')\n",
      "[2] (hypothesis_input_ids == 1).sum(): tensor(0, device='cuda:0')\n",
      "[1] (hypothesis_input_ids == 1).sum(): tensor(89, device='cuda:0')\n",
      "[2] (hypothesis_input_ids == 1).sum(): tensor(0, device='cuda:0')\n",
      "[1] (hypothesis_input_ids == 1).sum(): tensor(89, device='cuda:0')\n",
      "[2] (hypothesis_input_ids == 1).sum(): tensor(0, device='cuda:0')\n",
      "[1] (hypothesis_input_ids == 1).sum(): tensor(89, device='cuda:0')\n",
      "[2] (hypothesis_input_ids == 1).sum(): tensor(0, device='cuda:0')\n",
      "[1] (hypothesis_input_ids == 1).sum(): tensor(85, device='cuda:0')\n",
      "[2] (hypothesis_input_ids == 1).sum(): tensor(0, device='cuda:0')\n"
     ]
    },
    {
     "name": "stderr",
     "output_type": "stream",
     "text": [
      "                                                                                                                                            \r"
     ]
    },
    {
     "name": "stdout",
     "output_type": "stream",
     "text": [
      "[pred] *The proposed use of the parking garage will require a separate floor plan for the existing. building. [Submit Submit Submit: Floor Plan Dimensions (shown on the permit)]: The total dimensions of all rooms, sizes, and location of driveways and entrances.\n",
      "[true] *The use of the driveway as the required parking spaces will require a separate submittal for a Use Permit. [ ] Floor plan (dimensioned): Show overall building size, existing and proposed room locations, existing and. proposed new window(s)/door(s) size/location(s).\n",
      "\n",
      "\n",
      "\n",
      "[pred] Our WEST SEVILLE street map is illuminated with a clearly marked entryway, allowing you to explore the city in an intuitive and accessible manner. Each map also includes a map of the city's hidden gems, a map of the city's quaint streets, and a map of the city's quaint hotels, restaurants and attractions.ur Costa Blanca hotels and apartments are a must-have destination for travelers of all ages and abilities.\n",
      "[true] Our STREETWISE Seville Map enables you to explore each hidden corner of this enticing destination with a clearly defined map of the city, fully indexed and highlighted with hotels, parks and gardens, and places of interest. An inset of the center of Seville makes even the tiniest of alleyways navigable.rea maps of Cordoba, Grenada and Seville facilitate your entry into these three principal cities via auto, giving you the greatest freedom to experience all that is Southern Spain.\n",
      "\n",
      "\n",
      "\n",
      "[pred] aaa coupons save $ 32 save $ 32 with an average coupon for aaa coupons aaainfo displays an average of 32 coupons for aaa members save more than $ 32 with coupons and discounts from aacomcom a united states organization that promotes the value of travel not only for its members but also for the community aa operates an empathetic and comprehensive auto insurance network\n",
      "[true] aaa coupon codes about aaa save an average of $ 32 with 26 coupon codes deals for aaa com aaa is a not for profit organization that lists the automobile clubs in the united states and offers travel benefits and automobile insurance to its members members review the aaa positively for its convenient travel benefits pricing of services and insurance claim policies shop aaa com show more show less\n"
     ]
    },
    {
     "name": "stderr",
     "output_type": "stream",
     "text": [
      "generating from val:   0%|                                                                                            | 0/1 [00:00<?, ?it/s]"
     ]
    },
    {
     "name": "stdout",
     "output_type": "stream",
     "text": [
      "[1] (hypothesis_input_ids == 1).sum(): tensor(85, device='cuda:0')\n",
      "[2] (hypothesis_input_ids == 1).sum(): tensor(0, device='cuda:0')\n",
      "[1] (hypothesis_input_ids == 1).sum(): tensor(89, device='cuda:0')\n",
      "[2] (hypothesis_input_ids == 1).sum(): tensor(0, device='cuda:0')\n",
      "[1] (hypothesis_input_ids == 1).sum(): tensor(89, device='cuda:0')\n",
      "[2] (hypothesis_input_ids == 1).sum(): tensor(0, device='cuda:0')\n",
      "[1] (hypothesis_input_ids == 1).sum(): tensor(88, device='cuda:0')\n",
      "[2] (hypothesis_input_ids == 1).sum(): tensor(0, device='cuda:0')\n",
      "[1] (hypothesis_input_ids == 1).sum(): tensor(86, device='cuda:0')\n",
      "[2] (hypothesis_input_ids == 1).sum(): tensor(0, device='cuda:0')\n"
     ]
    },
    {
     "name": "stderr",
     "output_type": "stream",
     "text": [
      "                                                                                                                                            \r"
     ]
    },
    {
     "name": "stdout",
     "output_type": "stream",
     "text": [
      "[pred] *The proposed use of the parking garage will require a separate floor plan for the existing. building. [Submit Submit Submit: Floor Plan Dimensions (shown on the permit)]: The total dimensions of all rooms, sizes, and location of driveways and entrances.\n",
      "[true] *The use of the driveway as the required parking spaces will require a separate submittal for a Use Permit. [ ] Floor plan (dimensioned): Show overall building size, existing and proposed room locations, existing and. proposed new window(s)/door(s) size/location(s).\n",
      "\n",
      "\n",
      "\n",
      "[pred] Our WEST SEVILLE street map is illuminated with a clearly marked entryway, allowing you to explore the city in an intuitive and accessible manner. Each map also includes a map of the city's hidden gems, a map of the city's quaint streets, and a map of the city's quaint hotels, restaurants and attractions.ur Costa Blanca hotels and apartments are a must-have destination for travelers of all ages and abilities.\n",
      "[true] Our STREETWISE Seville Map enables you to explore each hidden corner of this enticing destination with a clearly defined map of the city, fully indexed and highlighted with hotels, parks and gardens, and places of interest. An inset of the center of Seville makes even the tiniest of alleyways navigable.rea maps of Cordoba, Grenada and Seville facilitate your entry into these three principal cities via auto, giving you the greatest freedom to experience all that is Southern Spain.\n",
      "\n",
      "\n",
      "\n",
      "[pred] aaa coupons save $ 32 save $ 32 with an average coupon for aaa coupons aaainfo displays an average of 32 coupons for aaa members save more than $ 32 with coupons and discounts from aacomcom a united states organization that promotes the value of travel not only for its members but also for the community aa operates an empathetic and comprehensive auto insurance network\n",
      "[true] aaa coupon codes about aaa save an average of $ 32 with 26 coupon codes deals for aaa com aaa is a not for profit organization that lists the automobile clubs in the united states and offers travel benefits and automobile insurance to its members members review the aaa positively for its convenient travel benefits pricing of services and insurance claim policies shop aaa com show more show less\n",
      "{'eval_test_loss': 1.7457661628723145, 'eval_test_pred_num_tokens': 83.16999816894531, 'eval_test_true_num_tokens': 81.77999877929688, 'eval_test_token_set_precision': 0.587994568777907, 'eval_test_token_set_recall': 0.64239729755293, 'eval_test_token_set_f1': 0.6116761429640427, 'eval_test_n_ngrams_match_1': 37.53, 'eval_test_n_ngrams_match_2': 16.4, 'eval_test_n_ngrams_match_3': 8.87, 'eval_test_num_true_words': 63.22, 'eval_test_num_pred_words': 63.54, 'eval_test_bleu_score': 21.63711366817461, 'eval_test_meteor_score': 0.47934071399945466, 'eval_test_rouge_score': 0.6033324264144913, 'eval_test_exact_match': 0.01, 'eval_test_emb_cos_sim': 0.9653921127319336, 'eval_test_runtime': 55.9331, 'eval_test_samples_per_second': 1.788, 'eval_test_steps_per_second': 0.018}\n"
     ]
    }
   ],
   "source": [
    "corr_trainer.return_best_hypothesis = False\n",
    "corr_trainer.args.per_device_eval_batch_size = 128\n",
    "corr_trainer.gen_kwargs = {\n",
    "    \"early_stopping\": False,\n",
    "    \"num_beams\": 1,\n",
    "    \"do_sample\": False,\n",
    "    \"no_repeat_ngram_size\": 0,\n",
    "}\n",
    "corr_trainer.num_gen_recursive_steps = 5\n",
    "metrics = corr_trainer.evaluate(\n",
    "    # eval_dataset=corr_trainer.train_dataset.select(range(100)),\n",
    "    eval_dataset=corr_trainer.eval_dataset[\"msmarco\"].select(range(100)),\n",
    "    metric_key_prefix=\"eval_test\",\n",
    ")\n",
    "print(metrics)"
   ]
  },
  {
   "cell_type": "code",
   "execution_count": null,
   "id": "fd8833f7-52b7-41e0-8bf9-5ff57118d2d6",
   "metadata": {},
   "outputs": [],
   "source": [
    "corr_trainer.return_best_hypothesis = False\n",
    "corr_trainer.args.per_device_eval_batch_size = 128\n",
    "corr_trainer.gen_kwargs = {\n",
    "    \"early_stopping\": False,\n",
    "    \"num_beams\": 1,\n",
    "    \"do_sample\": False,\n",
    "    \"no_repeat_ngram_size\": 0,\n",
    "}\n",
    "corr_trainer.num_gen_recursive_steps = 1\n",
    "metrics = corr_trainer.evaluate(\n",
    "    # eval_dataset=corr_trainer.train_dataset.select(range(100)),\n",
    "    eval_dataset=corr_trainer.eval_dataset[\"msmarco\"].select(range(100)),\n",
    "    metric_key_prefix=\"eval_test\",\n",
    ")\n",
    "print(metrics)"
   ]
  },
  {
   "cell_type": "code",
   "execution_count": null,
   "id": "1ed2f66d-17cf-4613-b989-7a5ac4565d02",
   "metadata": {},
   "outputs": [],
   "source": [
    "corr_trainer.return_best_hypothesis = False\n",
    "corr_trainer.args.per_device_eval_batch_size = 128\n",
    "corr_trainer.gen_kwargs = {\n",
    "    \"early_stopping\": False,\n",
    "    \"num_beams\": 1,\n",
    "    \"do_sample\": False,\n",
    "    \"no_repeat_ngram_size\": 0,\n",
    "}\n",
    "corr_trainer.num_gen_recursive_steps = 1\n",
    "metrics = corr_trainer.evaluate(\n",
    "    eval_dataset=corr_trainer.train_dataset.select(range(500)),\n",
    "    # eval_dataset=corr_trainer.eval_dataset[\"msmarco\"].select(range(100)),\n",
    "    metric_key_prefix=\"eval_test\",\n",
    ")\n",
    "print(metrics)"
   ]
  },
  {
   "cell_type": "code",
   "execution_count": 12,
   "id": "59fd706e-498f-4f91-b493-a46b939759cd",
   "metadata": {},
   "outputs": [
    {
     "name": "stdout",
     "output_type": "stream",
     "text": [
      "{'eval_test_loss': 1.146443486213684, 'eval_test_pred_num_tokens': 82.609375, 'eval_test_true_num_tokens': 80.90625, 'eval_test_token_set_precision': 0.60819345096195, 'eval_test_token_set_recall': 0.6866442994522647, 'eval_test_token_set_f1': 0.6400445672754415, 'eval_test_n_ngrams_match_1': 39.074, 'eval_test_n_ngrams_match_2': 20.53, 'eval_test_n_ngrams_match_3': 13.252, 'eval_test_num_true_words': 63.416, 'eval_test_num_pred_words': 63.594, 'eval_test_bleu_score': 29.071289956395393, 'eval_test_meteor_score': 0.5343961207296394, 'eval_test_rouge_score': 0.6376807383959213, 'eval_test_exact_match': 0.03, 'eval_test_emb_cos_sim': 0.9655262231826782, 'eval_test_runtime': 44.6905, 'eval_test_samples_per_second': 11.188, 'eval_test_steps_per_second': 0.09}\n"
     ]
    }
   ],
   "source": [
    "print(metrics)"
   ]
  },
  {
   "cell_type": "code",
   "execution_count": null,
   "id": "cf5b9186-f83d-4eff-8ca6-e1b0e687498e",
   "metadata": {},
   "outputs": [],
   "source": []
  }
 ],
 "metadata": {
  "kernelspec": {
   "display_name": "Python 3 (ipykernel)",
   "language": "python",
   "name": "python3"
  },
  "language_info": {
   "codemirror_mode": {
    "name": "ipython",
    "version": 3
   },
   "file_extension": ".py",
   "mimetype": "text/x-python",
   "name": "python",
   "nbconvert_exporter": "python",
   "pygments_lexer": "ipython3",
   "version": "3.10.10"
  }
 },
 "nbformat": 4,
 "nbformat_minor": 5
}
