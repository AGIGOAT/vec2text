{
 "cells": [
  {
   "cell_type": "code",
   "execution_count": 1,
   "id": "324e1c4e-f125-4d40-b059-d9b6dfc4cb8f",
   "metadata": {},
   "outputs": [],
   "source": [
    "%load_ext autoreload\n",
    "%autoreload 2\n",
    "\n",
    "import os\n",
    "os.environ[\"WANDB_DISABLED\"] = \"true\"\n",
    "\n",
    "import sys\n",
    "sys.path = [\n",
    "    p for p in sys.path\n",
    "    if p not in ['/home/jxm3/research/prompting/imodelsX', '/home/jxm3/research/prompting/tree-prompt']\n",
    "]\n",
    "sys.path.append('/home/jxm3/research/retrieval/inversion')"
   ]
  },
  {
   "cell_type": "code",
   "execution_count": 5,
   "id": "57524c86-a8ae-41cc-aa09-e51993272db8",
   "metadata": {},
   "outputs": [
    {
     "name": "stdout",
     "output_type": "stream",
     "text": [
      "loading alias openai_msmarco__msl128__correct__random_deletion from /home/jxm3/research/retrieval/inversion/saves/03a702c091debd146cdc78b6ebeedf94...\n",
      "> checkpoint: /home/jxm3/research/retrieval/inversion/saves/03a702c091debd146cdc78b6ebeedf94/checkpoint-4000\n",
      "Corrector encoder noise level 0.001\n",
      "loading alias openai_msmarco__msl128__100epoch from /home/jxm3/research/retrieval/inversion/saves/f9abd65db4c4823264b133816d08612f...\n",
      "Overwriting max sequence length from 128 to 128\n",
      "Overwriting use_less_data from 1000000 to -1\n",
      "> checkpoint: /home/jxm3/research/retrieval/inversion/saves/f9abd65db4c4823264b133816d08612f/checkpoint-194000\n"
     ]
    },
    {
     "name": "stderr",
     "output_type": "stream",
     "text": [
      "/home/jxm3/.conda/envs/torch/lib/python3.10/site-packages/transformers/models/t5/tokenization_t5_fast.py:155: FutureWarning: This tokenizer was incorrectly instantiated with a model max length of 512 which will be corrected in Transformers v5.\n",
      "For now, this behavior is kept to avoid breaking backwards compatibility when padding/encoding with `truncation is True`.\n",
      "- Be aware that you SHOULD NOT rely on t5-base automatically truncating your input to 512 when padding/encoding.\n",
      "- If you want to encode/pad to sequences longer than 512 you can either instantiate this tokenizer with `model_max_length` or pass `max_length` when encoding/padding.\n",
      "- To avoid this warning, please instantiate this tokenizer with `model_max_length` set to your preferred value.\n",
      "  warnings.warn(\n"
     ]
    },
    {
     "name": "stdout",
     "output_type": "stream",
     "text": [
      "Loading datasets with TOKENIZERS_PARALLELISM = False\n"
     ]
    },
    {
     "name": "stderr",
     "output_type": "stream",
     "text": [
      "[nltk_data] Downloading package wordnet to /home/jxm3/nltk_data...\n",
      "[nltk_data]   Package wordnet is already up-to-date!\n",
      "[nltk_data] Downloading package punkt to /home/jxm3/nltk_data...\n",
      "[nltk_data]   Package punkt is already up-to-date!\n",
      "[nltk_data] Downloading package omw-1.4 to /home/jxm3/nltk_data...\n",
      "[nltk_data]   Package omw-1.4 is already up-to-date!\n"
     ]
    },
    {
     "name": "stdout",
     "output_type": "stream",
     "text": [
      "================ Begin trainer sanity check ================\n",
      "\tInput to encode -> Twas brillig, and the slithy toves, Did gyre and gimble in the wabe, All mimsy were the borogoves, And the mome raths outgrabe.\n",
      "running openai on text_list of length 1, first element 'Twas brillig, and the slithy toves, Did gyre and gimble in the wabe, All mimsy were the borogoves, And the mome raths outgrabe.'\n",
      "\tDecoded output shape ->  torch.Size([1, 86])\n",
      "\tDecoded output -> And the trolls, trolls, trolls, trolls, trolls, trolls, trolls, trolls, trolls, trolls, trolls, trolls, trolls, trolls, was brilliant, and smooty.\n",
      "================ End trainer sanity check ================\n",
      "Froze 353779584 params from model type <class 'models.inversion.InversionModel'>\n"
     ]
    },
    {
     "name": "stderr",
     "output_type": "stream",
     "text": [
      "[nltk_data] Downloading package wordnet to /home/jxm3/nltk_data...\n",
      "[nltk_data]   Package wordnet is already up-to-date!\n",
      "[nltk_data] Downloading package punkt to /home/jxm3/nltk_data...\n",
      "[nltk_data]   Package punkt is already up-to-date!\n",
      "[nltk_data] Downloading package omw-1.4 to /home/jxm3/nltk_data...\n",
      "[nltk_data]   Package omw-1.4 is already up-to-date!\n"
     ]
    },
    {
     "name": "stdout",
     "output_type": "stream",
     "text": [
      "================ Begin trainer sanity check ================\n",
      "\tInput to encode -> Twas brillig, and the slithy toves, Did gyre and gimble in the wabe, All mimsy were the borogoves, And the mome raths outgrabe.\n",
      "running openai on text_list of length 1, first element 'Twas brillig, and the slithy toves, Did gyre and gimble in the wabe, All mimsy were the borogoves, And the mome raths outgrabe.'\n",
      "running openai on text_list of length 1, first element 'And the trolls, trolls, trolls, trolls, trolls, trolls, trolls, trolls, trolls, trolls, trolls,'\n",
      "running openai on text_list of length 1, first element 'And the trolls, trolls, trolls, trolls, trolls, trolls, trolls, trolls, trolls, trolls, trolls, trolls, trolls, trolls, trolls, trolls, trolls, trolls, trolls, trolls, trolls, trolls, trolls, trolls, trolls,'\n",
      "\tDecoded output shape ->  torch.Size([1, 128])\n",
      "\tDecoded output -> And the trolls, trolls, trolls, trolls, trolls, trolls, trolls, trolls, trolls, trolls, trolls, trolls, trolls, trolls, trolls, trolls, trolls, trolls, trolls, trolls, trolls, trolls, trolls, trolls, trolls,\n",
      "================ End trainer sanity check ================\n",
      "\n"
     ]
    }
   ],
   "source": [
    "import aliases\n",
    "\n",
    "os.environ[\"TOKENIZERS_MULTIPROCESSING\"] = \"True\"\n",
    "\n",
    "# inv_trainer = aliases.load_trainer_from_alias(\"openai_msmarco__msl128__100epoch\")\n",
    "corr_experiment, corr_trainer = aliases.load_experiment_and_trainer_from_alias(\n",
    "    \"openai_msmarco__msl128__correct__random_deletion\"\n",
    ")\n",
    "inv_trainer = corr_trainer.inversion_trainer\n",
    "# corr_trainer.precompute_hypotheses()\n",
    "corr_trainer.model.eval()\n",
    "print()"
   ]
  },
  {
   "cell_type": "code",
   "execution_count": 6,
   "id": "1ed2f66d-17cf-4613-b989-7a5ac4565d02",
   "metadata": {},
   "outputs": [
    {
     "name": "stdout",
     "output_type": "stream",
     "text": [
      "running openai on text_list of length 128, first element '*The use of the driveway as the required parking spaces will require a separate submittal for a Use Permit. [ ] Floor plan (dimensioned): Show overall building size, existing and proposed room locations, existing and. proposed new window(s)/door(s) size/location(s).'\n",
      "running openai on text_list of length 128, first element '*The parking lot will require the use of a separate parking space for the proposed use of the. building. [District Floor Plan: Use of existing floor plan space, dimensions, and/or permit requirements for each. subfloor/space will be provided in the Submitting Documents.'\n"
     ]
    },
    {
     "data": {
      "text/html": [
       "\n",
       "    <div>\n",
       "      \n",
       "      <progress value='4' max='4' style='width:300px; height:20px; vertical-align: middle;'></progress>\n",
       "      [4/4 00:16]\n",
       "    </div>\n",
       "    "
      ],
      "text/plain": [
       "<IPython.core.display.HTML object>"
      ]
     },
     "metadata": {},
     "output_type": "display_data"
    },
    {
     "name": "stdout",
     "output_type": "stream",
     "text": [
      "running openai on text_list of length 128, first element 'The MLP structure also allows for depreciation and depletion of assets to be passed through to the individual investor, further enhancing the tax-advantaged nature of the MLP investment. In order to qualify as an MLP, a partnership must receive at least 90% of its income from qualifying sources. Such sources include the sale of real estate, rental income from real estate, income and capital gains from natural resources activities, etc. MLPs have been around for more than 30 years.'\n",
      "running openai on text_list of length 128, first element 'In addition to the income from the investment, a MLP also allows for the depreciation of assets from a source of income. MLPs have been regulated for over 90 years. MLPs have been regulated for a variety of reasons. The MLP allows for a significant percentage of the assets to be passed on to the individual investor. The MLP must have at least 70% of its assets from sources of income, such as real estate, construction, and construction. The MLP is a passive investment vehicle, meaning that the investment is not a passive investment.'\n",
      "running openai on text_list of length 128, first element 'Theirs so much world class beaches in the Philippines. I think the PANGLAO beaches in Bohol is also awesome, so with the WHITE BEACH in Camaguin. I noticed, the beaches in CORON, GUIMARAS were not included in the lists, it should also top.'\n",
      "running openai on text_list of length 128, first element 'I think the Pancho Beaches in the Philippines, with their white sand beaches, is in the top list. BANGALOR, GUALAMO, GUALAMO, GUALAMO. I also saw the Pancho Beaches in the Philippines. Its not only amazing, but also so beautiful.'\n",
      "running openai on text_list of length 116, first element 'GRE cost for the lean self-studier (Cost:  $20) You can only buy one book and learn quite a bit â a good plan if you are a book learning without much to spend. Donât just pick up any GRE book. Take a look at these reviews. With just one book, youâll probably spend less than $20.'\n",
      "running openai on text_list of length 116, first element 'The GRE Self Study Book (with a few books) You can learn a lot if youâre just a skeptic. The cost of the book is less than $20 for just one book. If you want to save money on your GRE, you might want to consider this one: â$20 for a 20-page book.'\n"
     ]
    },
    {
     "name": "stderr",
     "output_type": "stream",
     "text": [
      "generating from val:   0%|                                                                                                                                                      | 0/4 [00:00<?, ?it/s]"
     ]
    },
    {
     "name": "stdout",
     "output_type": "stream",
     "text": [
      "running openai on text_list of length 128, first element '*The use of the driveway as the required parking spaces will require a separate submittal for a Use Permit. [ ] Floor plan (dimensioned): Show overall building size, existing and proposed room locations, existing and. proposed new window(s)/door(s) size/location(s).'\n",
      "running openai on text_list of length 128, first element '*The parking lot will require the use of a separate parking space for the proposed use of the. building. [District Floor Plan: Use of existing floor plan space, dimensions, and/or permit requirements for each. subfloor/space will be provided in the Submitting Documents.'\n",
      "running openai on text_list of length 128, first element '*The parking lot will require the use of a separate parking space for the proposed use of the. building. [District Floor Plan: Use of existing floor plan space, dimensions, and/or permit requirements for each subfloor/space will be provided in the Submitting Documents.'\n",
      "running openai on text_list of length 128, first element '*The parking lot will require the use of a separate parking space for the proposed use of the. building. [District Floor Plan: Use of existing floor plan space, dimensions, and/or permit requirements for each subfloor/space will be provided in the Submitting Documents.'\n",
      "running openai on text_list of length 128, first element '*The parking lot will require the use of a separate parking space for the proposed use of the. building. [District Floor Plan: Use of existing floor plan space, dimensions, and/or permit requirements for each subfloor/space will be provided in the Submitting Documents.'\n",
      "running openai on text_list of length 128, first element '*The parking lot will require the use of a separate parking space for the proposed use of the. building. [District Floor Plan: Use of existing floor plan space, dimensions, and/or permit requirements for each subfloor/space will be provided in the Submitting Documents.'\n",
      "running openai on text_list of length 128, first element '*The parking lot will require the use of a separate parking space for the proposed use of the. building. [District Floor Plan: Use of existing floor plan space, dimensions, and/or permit requirements for each subfloor/space will be provided in the Submitting Documents.'\n"
     ]
    },
    {
     "name": "stderr",
     "output_type": "stream",
     "text": [
      "generating from val:  25%|███████████████████████████████████▌                                                                                                          | 1/4 [00:26<01:20, 26.87s/it]"
     ]
    },
    {
     "name": "stdout",
     "output_type": "stream",
     "text": [
      "running openai on text_list of length 128, first element 'The MLP structure also allows for depreciation and depletion of assets to be passed through to the individual investor, further enhancing the tax-advantaged nature of the MLP investment. In order to qualify as an MLP, a partnership must receive at least 90% of its income from qualifying sources. Such sources include the sale of real estate, rental income from real estate, income and capital gains from natural resources activities, etc. MLPs have been around for more than 30 years.'\n",
      "running openai on text_list of length 128, first element 'In addition to the income from the investment, a MLP also allows for the depreciation of assets from a source of income. MLPs have been regulated for over 90 years. MLPs have been regulated for a variety of reasons. The MLP allows for a significant percentage of the assets to be passed on to the individual investor. The MLP must have at least 70% of its assets from sources of income, such as real estate, construction, and construction. The MLP is a passive investment vehicle, meaning that the investment is not a passive investment.'\n",
      "running openai on text_list of length 128, first element 'In addition to the income from the investment, a MLP also allows for the depreciation of assets from a source of income. MLPs have been regulated for over 90 years. MLPs have been regulated for a variety of reasons. The MLP allows for a significant percentage of the assets to be passed on to the individual investor. The MLP must have at least 70% of its assets from sources of income, such as real estate, construction, and construction.'\n",
      "running openai on text_list of length 128, first element 'In addition to the income from the investment, a MLP also allows for the depreciation of assets from a source of income. MLPs have been regulated for over 90 years. MLPs have been regulated for a variety of reasons. The MLP allows for a significant percentage of the assets to be passed on to the individual investor. The MLP must have at least 70% of its assets from sources of income, such as real estate, construction, and construction.'\n",
      "running openai on text_list of length 128, first element 'In addition to the income from the investment, a MLP also allows for the depreciation of assets from a source of income. MLPs have been regulated for over 90 years. MLPs have been regulated for a variety of reasons. The MLP allows for a significant percentage of the assets to be passed on to the individual investor. The MLP must have at least 70% of its assets from sources of income, such as real estate, construction, and construction.'\n",
      "running openai on text_list of length 128, first element 'In addition to the income from the investment, a MLP also allows for the depreciation of assets from a source of income. MLPs have been regulated for over 90 years. MLPs have been regulated for a variety of reasons. The MLP allows for a significant percentage of the assets to be passed on to the individual investor. The MLP must have at least 70% of its assets from sources of income, such as real estate, construction, and construction.'\n",
      "running openai on text_list of length 128, first element 'In addition to the income from the investment, a MLP also allows for the depreciation of assets from a source of income. MLPs have been regulated for over 90 years. MLPs have been regulated for a variety of reasons. The MLP allows for a significant percentage of the assets to be passed on to the individual investor. The MLP must have at least 70% of its assets from sources of income, such as real estate, construction, and construction.'\n",
      "running openai on text_list of length 128, first element 'In addition to the income from the investment, a MLP also allows for the depreciation of assets from a source of income. MLPs have been regulated for over 90 years. MLPs have been regulated for a variety of reasons. The MLP allows for a significant percentage of the assets to be passed on to the individual investor. The MLP must have at least 70% of its assets from sources of income, such as real estate, construction, and construction.'\n"
     ]
    },
    {
     "name": "stderr",
     "output_type": "stream",
     "text": [
      "generating from val:  50%|███████████████████████████████████████████████████████████████████████                                                                       | 2/4 [00:52<00:52, 26.28s/it]"
     ]
    },
    {
     "name": "stdout",
     "output_type": "stream",
     "text": [
      "running openai on text_list of length 128, first element 'Theirs so much world class beaches in the Philippines. I think the PANGLAO beaches in Bohol is also awesome, so with the WHITE BEACH in Camaguin. I noticed, the beaches in CORON, GUIMARAS were not included in the lists, it should also top.'\n",
      "running openai on text_list of length 128, first element 'I think the Pancho Beaches in the Philippines, with their white sand beaches, is in the top list. BANGALOR, GUALAMO, GUALAMO, GUALAMO. I also saw the Pancho Beaches in the Philippines. Its not only amazing, but also so beautiful.'\n",
      "running openai on text_list of length 128, first element 'I think the Pancho Beaches in the Philippines, with their white sand beaches, is in the top list. BANGALOR, GUALAMO, GUALAMO, GUALAMO. I also saw the Pancho Beaches in the Philippines. Its not only amazing, but also so beautiful.'\n",
      "running openai on text_list of length 128, first element 'I think the Pancho Beaches in the Philippines, with their white sand beaches, is in the top list. BANGALOR, GUALAMO, GUALAMO, GUALAMO. I also saw the Pancho Beaches in the Philippines. Its not only amazing, but also so beautiful.'\n",
      "running openai on text_list of length 128, first element 'I think the Pancho Beaches in the Philippines, with their white sand beaches, is in the top list. BANGALOR, GUALAMO, GUALAMO, GUALAMO. I also saw the Pancho Beaches in the Philippines. Its not only amazing, but also so beautiful.'\n",
      "running openai on text_list of length 128, first element 'I think the Pancho Beaches in the Philippines, with their white sand beaches, is in the top list. BANGALOR, GUALAMO, GUALAMO, GUALAMO. I also saw the Pancho Beaches in the Philippines. Its not only amazing, but also so beautiful.'\n",
      "running openai on text_list of length 128, first element 'I think the Pancho Beaches in the Philippines, with their white sand beaches, is in the top list. BANGALOR, GUALAMO, GUALAMO, GUALAMO. I also saw the Pancho Beaches in the Philippines. Its not only amazing, but also so beautiful.'\n"
     ]
    },
    {
     "name": "stderr",
     "output_type": "stream",
     "text": [
      "generating from val:  75%|██████████████████████████████████████████████████████████████████████████████████████████████████████████▌                                   | 3/4 [01:17<00:25, 25.52s/it]"
     ]
    },
    {
     "name": "stdout",
     "output_type": "stream",
     "text": [
      "running openai on text_list of length 116, first element 'GRE cost for the lean self-studier (Cost:  $20) You can only buy one book and learn quite a bit â a good plan if you are a book learning without much to spend. Donât just pick up any GRE book. Take a look at these reviews. With just one book, youâll probably spend less than $20.'\n",
      "running openai on text_list of length 116, first element 'The GRE Self Study Book (with a few books) You can learn a lot if youâre just a skeptic. The cost of the book is less than $20 for just one book. If you want to save money on your GRE, you might want to consider this one: â$20 for a 20-page book.'\n",
      "running openai on text_list of length 116, first element 'The GRE Self Study Book (with a few books) You can learn a lot if youâre just a skeptic. The cost of the book is less than $20 for just one book. If you want to save money on your GRE, you might want to consider this one: â$20 for a 20-page book.'\n",
      "running openai on text_list of length 116, first element 'The GRE Self Study Book (with a few books) You can learn a lot if youâre just a skeptic. The cost of the book is less than $20 for just one book. If you want to save money on your GRE, you might want to consider this one: â$20 for a 20-page book.'\n",
      "running openai on text_list of length 116, first element 'The GRE Self Study Book (with a few books) You can learn a lot if youâre just a skeptic. The cost of the book is less than $20 for just one book. If you want to save money on your GRE, you might want to consider this one: â$20 for a 20-page book.'\n",
      "running openai on text_list of length 116, first element 'The GRE Self Study Book (with a few books) You can learn a lot if youâre just a skeptic. The cost of the book is less than $20 for just one book. If you want to save money on your GRE, you might want to consider this one: â$20 for a 20-page book.'\n",
      "running openai on text_list of length 116, first element 'The GRE Self Study Book (with a few books) You can learn a lot if youâre just a skeptic. The cost of the book is less than $20 for just one book. If you want to save money on your GRE, you might want to consider this one: â$20 for a 20-page book.'\n"
     ]
    },
    {
     "name": "stderr",
     "output_type": "stream",
     "text": [
      "                                                                                                                                                                                                      \r"
     ]
    },
    {
     "name": "stdout",
     "output_type": "stream",
     "text": [
      "[pred] *The parking lot will require the use of a separate parking space for the proposed use of the. building. [District Floor Plan: Use of existing floor plan space, dimensions, and/or permit requirements for each subfloor/space will be provided in the Submitting Documents.\n",
      "[true] *The use of the driveway as the required parking spaces will require a separate submittal for a Use Permit. [ ] Floor plan (dimensioned): Show overall building size, existing and proposed room locations, existing and. proposed new window(s)/door(s) size/location(s).\n",
      "\n",
      "\n",
      "\n",
      "[pred] Our illuminated Seville map is encapsulated in a map of each of our cities, enabling you to discover the hidden gems of the city. Our enlightened Seville map also includes a map of the streets of the city centre, the central business district, the outskirts of the city center and the outskirts of the city center.eep in mind that a fully-accessible, fully-accessible map of Seville and its surrounding areas will enable you to explore the city with a barefoot approach.\n",
      "[true] Our STREETWISE Seville Map enables you to explore each hidden corner of this enticing destination with a clearly defined map of the city, fully indexed and highlighted with hotels, parks and gardens, and places of interest. An inset of the center of Seville makes even the tiniest of alleyways navigable.rea maps of Cordoba, Grenada and Seville facilitate your entry into these three principal cities via auto, giving you the greatest freedom to experience all that is Southern Spain.\n",
      "\n",
      "\n",
      "\n",
      "[pred] aaa coupons 32 save aa is an american travel organization with an average of 32 coupons for members save $ a offers savings on a variety of products and services from a to car insurance a com offers coupons for car insurance not only saves money but also helps members save money\n",
      "[true] aaa coupon codes about aaa save an average of $ 32 with 26 coupon codes deals for aaa com aaa is a not for profit organization that lists the automobile clubs in the united states and offers travel benefits and automobile insurance to its members members review the aaa positively for its convenient travel benefits pricing of services and insurance claim policies shop aaa com show more show less\n",
      "running openai on text_list of length 128, first element '*The parking lot will require the use of a separate parking space for the proposed use of the. building. [District Floor Plan: Use of existing floor plan space, dimensions, and/or permit requirements for each subfloor/space will be provided in the Submitting Documents.'\n",
      "running openai on text_list of length 128, first element '*The use of the driveway as the required parking spaces will require a separate submittal for a Use Permit. [ ] Floor plan (dimensioned): Show overall building size, existing and proposed room locations, existing and. proposed new window(s)/door(s) size/location(s).'\n"
     ]
    },
    {
     "name": "stderr",
     "output_type": "stream",
     "text": [
      "generating from val:   0%|                                                                                                                                                      | 0/4 [00:00<?, ?it/s]"
     ]
    },
    {
     "name": "stdout",
     "output_type": "stream",
     "text": [
      "running openai on text_list of length 128, first element '*The use of the driveway as the required parking spaces will require a separate submittal for a Use Permit. [ ] Floor plan (dimensioned): Show overall building size, existing and proposed room locations, existing and. proposed new window(s)/door(s) size/location(s).'\n",
      "running openai on text_list of length 128, first element '*The parking lot will require the use of a separate parking space for the proposed use of the. building. [District Floor Plan: Use of existing floor plan space, dimensions, and/or permit requirements for each. subfloor/space will be provided in the Submitting Documents.'\n",
      "running openai on text_list of length 128, first element '*The parking lot will require the use of a separate parking space for the proposed use of the. building. [District Floor Plan: Use of existing floor plan space, dimensions, and/or permit requirements for each subfloor/space will be provided in the Submitting Documents.'\n",
      "running openai on text_list of length 128, first element '*The parking lot will require the use of a separate parking space for the proposed use of the. building. [District Floor Plan: Use of existing floor plan space, dimensions, and/or permit requirements for each subfloor/space will be provided in the Submitting Documents.'\n",
      "running openai on text_list of length 128, first element '*The parking lot will require the use of a separate parking space for the proposed use of the. building. [District Floor Plan: Use of existing floor plan space, dimensions, and/or permit requirements for each subfloor/space will be provided in the Submitting Documents.'\n",
      "running openai on text_list of length 128, first element '*The parking lot will require the use of a separate parking space for the proposed use of the. building. [District Floor Plan: Use of existing floor plan space, dimensions, and/or permit requirements for each subfloor/space will be provided in the Submitting Documents.'\n",
      "running openai on text_list of length 128, first element '*The parking lot will require the use of a separate parking space for the proposed use of the. building. [District Floor Plan: Use of existing floor plan space, dimensions, and/or permit requirements for each subfloor/space will be provided in the Submitting Documents.'\n"
     ]
    },
    {
     "name": "stderr",
     "output_type": "stream",
     "text": [
      "generating from val:  25%|███████████████████████████████████▌                                                                                                          | 1/4 [00:24<01:12, 24.32s/it]"
     ]
    },
    {
     "name": "stdout",
     "output_type": "stream",
     "text": [
      "running openai on text_list of length 128, first element 'The MLP structure also allows for depreciation and depletion of assets to be passed through to the individual investor, further enhancing the tax-advantaged nature of the MLP investment. In order to qualify as an MLP, a partnership must receive at least 90% of its income from qualifying sources. Such sources include the sale of real estate, rental income from real estate, income and capital gains from natural resources activities, etc. MLPs have been around for more than 30 years.'\n",
      "running openai on text_list of length 128, first element 'In addition to the income from the investment, a MLP also allows for the depreciation of assets from a source of income. MLPs have been regulated for over 90 years. MLPs have been regulated for a variety of reasons. The MLP allows for a significant percentage of the assets to be passed on to the individual investor. The MLP must have at least 70% of its assets from sources of income, such as real estate, construction, and construction. The MLP is a passive investment vehicle, meaning that the investment is not a passive investment.'\n",
      "running openai on text_list of length 128, first element 'In addition to the income from the investment, a MLP also allows for the depreciation of assets from a source of income. MLPs have been regulated for over 90 years. MLPs have been regulated for a variety of reasons. The MLP allows for a significant percentage of the assets to be passed on to the individual investor. The MLP must have at least 70% of its assets from sources of income, such as real estate, construction, and construction.'\n",
      "running openai on text_list of length 128, first element 'In addition to the income from the investment, a MLP also allows for the depreciation of assets from a source of income. MLPs have been regulated for over 90 years. MLPs have been regulated for a variety of reasons. The MLP allows for a significant percentage of the assets to be passed on to the individual investor. The MLP must have at least 70% of its assets from sources of income, such as real estate, construction, and construction.'\n",
      "running openai on text_list of length 128, first element 'In addition to the income from the investment, a MLP also allows for the depreciation of assets from a source of income. MLPs have been regulated for over 90 years. MLPs have been regulated for a variety of reasons. The MLP allows for a significant percentage of the assets to be passed on to the individual investor. The MLP must have at least 70% of its assets from sources of income, such as real estate, construction, and construction.'\n",
      "running openai on text_list of length 128, first element 'In addition to the income from the investment, a MLP also allows for the depreciation of assets from a source of income. MLPs have been regulated for over 90 years. MLPs have been regulated for a variety of reasons. The MLP allows for a significant percentage of the assets to be passed on to the individual investor. The MLP must have at least 70% of its assets from sources of income, such as real estate, construction, and construction.'\n",
      "running openai on text_list of length 128, first element 'In addition to the income from the investment, a MLP also allows for the depreciation of assets from a source of income. MLPs have been regulated for over 90 years. MLPs have been regulated for a variety of reasons. The MLP allows for a significant percentage of the assets to be passed on to the individual investor. The MLP must have at least 70% of its assets from sources of income, such as real estate, construction, and construction.'\n"
     ]
    },
    {
     "name": "stderr",
     "output_type": "stream",
     "text": [
      "generating from val:  50%|███████████████████████████████████████████████████████████████████████                                                                       | 2/4 [00:47<00:47, 23.86s/it]"
     ]
    },
    {
     "name": "stdout",
     "output_type": "stream",
     "text": [
      "running openai on text_list of length 128, first element 'Theirs so much world class beaches in the Philippines. I think the PANGLAO beaches in Bohol is also awesome, so with the WHITE BEACH in Camaguin. I noticed, the beaches in CORON, GUIMARAS were not included in the lists, it should also top.'\n",
      "running openai on text_list of length 128, first element 'I think the Pancho Beaches in the Philippines, with their white sand beaches, is in the top list. BANGALOR, GUALAMO, GUALAMO, GUALAMO. I also saw the Pancho Beaches in the Philippines. Its not only amazing, but also so beautiful.'\n",
      "running openai on text_list of length 128, first element 'I think the Pancho Beaches in the Philippines, with their white sand beaches, is in the top list. BANGALOR, GUALAMO, GUALAMO, GUALAMO. I also saw the Pancho Beaches in the Philippines. Its not only amazing, but also so beautiful.'\n",
      "running openai on text_list of length 128, first element 'I think the Pancho Beaches in the Philippines, with their white sand beaches, is in the top list. BANGALOR, GUALAMO, GUALAMO, GUALAMO. I also saw the Pancho Beaches in the Philippines. Its not only amazing, but also so beautiful.'\n",
      "running openai on text_list of length 128, first element 'I think the Pancho Beaches in the Philippines, with their white sand beaches, is in the top list. BANGALOR, GUALAMO, GUALAMO, GUALAMO. I also saw the Pancho Beaches in the Philippines. Its not only amazing, but also so beautiful.'\n",
      "running openai on text_list of length 128, first element 'I think the Pancho Beaches in the Philippines, with their white sand beaches, is in the top list. BANGALOR, GUALAMO, GUALAMO, GUALAMO. I also saw the Pancho Beaches in the Philippines. Its not only amazing, but also so beautiful.'\n",
      "running openai on text_list of length 128, first element 'I think the Pancho Beaches in the Philippines, with their white sand beaches, is in the top list. BANGALOR, GUALAMO, GUALAMO, GUALAMO. I also saw the Pancho Beaches in the Philippines. Its not only amazing, but also so beautiful.'\n"
     ]
    },
    {
     "name": "stderr",
     "output_type": "stream",
     "text": [
      "generating from val:  75%|██████████████████████████████████████████████████████████████████████████████████████████████████████████▌                                   | 3/4 [01:11<00:23, 23.54s/it]"
     ]
    },
    {
     "name": "stdout",
     "output_type": "stream",
     "text": [
      "running openai on text_list of length 116, first element 'GRE cost for the lean self-studier (Cost:  $20) You can only buy one book and learn quite a bit â a good plan if you are a book learning without much to spend. Donât just pick up any GRE book. Take a look at these reviews. With just one book, youâll probably spend less than $20.'\n",
      "running openai on text_list of length 116, first element 'The GRE Self Study Book (with a few books) You can learn a lot if youâre just a skeptic. The cost of this book is less than $20 for just one book. If you want to learn a lot, you might want to consider the GRE Self Study book. But donât be too skeptic about the cost.'\n",
      "running openai on text_list of length 116, first element 'The GRE Self Study Book (with a few books) You can learn a lot if youâre just a skeptic. The cost of this book is less than $20 for just one book. If you want to learn a lot, you might want to consider the GRE Self Study book. But donât be too skeptic.'\n",
      "running openai on text_list of length 116, first element 'The GRE Self Study Book (with a few books) You can learn a lot if youâre just a skeptic. The cost of this book is less than $20 for just one book. If you want to learn a lot, you might want to consider the GRE Self Study book. But donât be too skeptic.'\n",
      "running openai on text_list of length 116, first element 'The GRE Self Study Book (with a few books) You can learn a lot if youâre just a skeptic. The cost of this book is less than $20 for just one book. If you want to learn a lot, you might want to consider the GRE Self Study book. But donât be too skeptic.'\n",
      "running openai on text_list of length 116, first element 'The GRE Self Study Book (with a few books) You can learn a lot if youâre just a skeptic. The cost of this book is less than $20 for just one book. If you want to learn a lot, you might want to consider the GRE Self Study book. But donât be too skeptic.'\n",
      "running openai on text_list of length 116, first element 'The GRE Self Study Book (with a few books) You can learn a lot if youâre just a skeptic. The cost of this book is less than $20 for just one book. If you want to learn a lot, you might want to consider the GRE Self Study book. But donât be too skeptic.'\n",
      "running openai on text_list of length 116, first element 'The GRE Self Study Book (with a few books) You can learn a lot if youâre just a skeptic. The cost of this book is less than $20 for just one book. If you want to learn a lot, you might want to consider the GRE Self Study book. But donât be too skeptic.'\n"
     ]
    },
    {
     "name": "stderr",
     "output_type": "stream",
     "text": [
      "                                                                                                                                                                                                      \r"
     ]
    },
    {
     "name": "stdout",
     "output_type": "stream",
     "text": [
      "[pred] *The parking lot will require the use of a separate parking space for the proposed use of the. building. [District Floor Plan: Use of existing floor plan space, dimensions, and/or permit requirements for each subfloor/space will be provided in the Submitting Documents.\n",
      "[true] *The use of the driveway as the required parking spaces will require a separate submittal for a Use Permit. [ ] Floor plan (dimensioned): Show overall building size, existing and proposed room locations, existing and. proposed new window(s)/door(s) size/location(s).\n",
      "\n",
      "\n",
      "\n",
      "[pred] Our illuminated Seville map is encapsulated in a map of each of our cities, enabling you to discover the hidden gems of the city. Our enlightened Seville map also includes a map of the streets of the city centre, the central business district, the outskirts of the city center and the outskirts of the city center.eep in mind that a fully-accessible, fully-accessible map of Seville and its surrounding areas will enable you to explore the city with a barefoot approach.\n",
      "[true] Our STREETWISE Seville Map enables you to explore each hidden corner of this enticing destination with a clearly defined map of the city, fully indexed and highlighted with hotels, parks and gardens, and places of interest. An inset of the center of Seville makes even the tiniest of alleyways navigable.rea maps of Cordoba, Grenada and Seville facilitate your entry into these three principal cities via auto, giving you the greatest freedom to experience all that is Southern Spain.\n",
      "\n",
      "\n",
      "\n",
      "[pred] aaa coupons 32 save aa is an american travel organization with an average of 32 coupons for members save $ a offers savings on a variety of products and services from a to car insurance a com offers coupons for car insurance not only saves money but also helps members save money\n",
      "[true] aaa coupon codes about aaa save an average of $ 32 with 26 coupon codes deals for aaa com aaa is a not for profit organization that lists the automobile clubs in the united states and offers travel benefits and automobile insurance to its members members review the aaa positively for its convenient travel benefits pricing of services and insurance claim policies shop aaa com show more show less\n",
      "running openai on text_list of length 128, first element '*The parking lot will require the use of a separate parking space for the proposed use of the. building. [District Floor Plan: Use of existing floor plan space, dimensions, and/or permit requirements for each subfloor/space will be provided in the Submitting Documents.'\n",
      "running openai on text_list of length 128, first element '*The use of the driveway as the required parking spaces will require a separate submittal for a Use Permit. [ ] Floor plan (dimensioned): Show overall building size, existing and proposed room locations, existing and. proposed new window(s)/door(s) size/location(s).'\n",
      "{'eval_test_loss': 3.0484306812286377, 'eval_test_pred_num_tokens': 84.6484375, 'eval_test_true_num_tokens': 80.859375, 'eval_test_token_set_precision': 0.48305720664250246, 'eval_test_token_set_recall': 0.5974161049521974, 'eval_test_token_set_f1': 0.5243740769810304, 'eval_test_n_ngrams_match_1': 31.872, 'eval_test_n_ngrams_match_2': 12.796, 'eval_test_n_ngrams_match_3': 6.526, 'eval_test_num_true_words': 62.192, 'eval_test_num_pred_words': 63.81, 'eval_test_bleu_score': 16.456406735695584, 'eval_test_meteor_score': 0.40130187484774377, 'eval_test_rouge_score': 0.5095745219302404, 'eval_test_exact_match': 0.008, 'eval_test_emb_cos_sim': 0.9450958371162415, 'eval_test_runtime': 243.1636, 'eval_test_samples_per_second': 2.056, 'eval_test_steps_per_second': 0.016}\n"
     ]
    }
   ],
   "source": [
    "corr_trainer.return_best_hypothesis = False\n",
    "corr_trainer.args.per_device_eval_batch_size = 128\n",
    "corr_trainer.gen_kwargs = {\n",
    "    \"early_stopping\": False,\n",
    "    \"num_beams\": 1,\n",
    "    \"do_sample\": False,\n",
    "    \"no_repeat_ngram_size\": 0,\n",
    "}\n",
    "corr_trainer.num_gen_recursive_steps = 5\n",
    "metrics = corr_trainer.evaluate(\n",
    "    eval_dataset=corr_trainer.eval_dataset[\"msmarco\"].select(range(500)),\n",
    "    metric_key_prefix=\"eval_test\",\n",
    ")\n",
    "print(metrics)"
   ]
  },
  {
   "cell_type": "code",
   "execution_count": 11,
   "id": "1f30db44-d8aa-41e8-b0a8-db6cd5194ca0",
   "metadata": {},
   "outputs": [],
   "source": [
    "import torch\n",
    "L = torch.tensor(corr_trainer.preds_sample_list)"
   ]
  },
  {
   "cell_type": "code",
   "execution_count": 15,
   "id": "8884856a-56b3-49cd-8147-8de8e80cf4cb",
   "metadata": {},
   "outputs": [
    {
     "data": {
      "text/plain": [
       "tensor(5)"
      ]
     },
     "execution_count": 15,
     "metadata": {},
     "output_type": "execute_result"
    }
   ],
   "source": [
    "(L != 0).sum(1).argmax()"
   ]
  },
  {
   "cell_type": "code",
   "execution_count": null,
   "id": "59fd706e-498f-4f91-b493-a46b939759cd",
   "metadata": {},
   "outputs": [],
   "source": []
  }
 ],
 "metadata": {
  "kernelspec": {
   "display_name": "Python 3 (ipykernel)",
   "language": "python",
   "name": "python3"
  },
  "language_info": {
   "codemirror_mode": {
    "name": "ipython",
    "version": 3
   },
   "file_extension": ".py",
   "mimetype": "text/x-python",
   "name": "python",
   "nbconvert_exporter": "python",
   "pygments_lexer": "ipython3",
   "version": "3.10.10"
  }
 },
 "nbformat": 4,
 "nbformat_minor": 5
}
